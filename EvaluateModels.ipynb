{
 "cells": [
  {
   "cell_type": "code",
   "execution_count": 6,
   "metadata": {},
   "outputs": [],
   "source": [
    "import torch\n",
    "import torch.nn as nn\n",
    "import torch.optim as optim\n",
    "from torch.optim.lr_scheduler import StepLR, ReduceLROnPlateau\n",
    "import torch.nn.functional as F\n",
    "\n",
    "\n",
    "import torchvision\n",
    "from torchvision.models import resnet18, ResNet18_Weights, vgg16, VGG16_Weights\n",
    "from torchvision import datasets\n",
    "from torchvision import transforms\n",
    "\n",
    "from tqdm import tqdm\n",
    "import numpy as np\n",
    "import matplotlib.pyplot as plt\n",
    "\n",
    "\n",
    "import os\n",
    "import sys\n",
    "from torchsummary import summary\n",
    "\n",
    "\n",
    "# from google.colab import drive\n",
    "# drive.mount('/content/drive')\n",
    "# #Code folder path\n",
    "# %cd /content/drive/My Drive/ECE591_DL_CL_PROJECT/\n",
    "\n",
    "#device config\n",
    "torch.cuda.set_device(1)#Select GPU device 1\n",
    "device=torch.device(\"cuda\" if torch.cuda.is_available() else \"cpu\")\n",
    "\n",
    "#Get Packages\n",
    "sys.path.append('./Tools')\n",
    "\n",
    "#Network architectures\n",
    "from ResNet18_CIFAR10 import ResNet18_CIFAR10_Model\n",
    "from ResNet18_TINYIMAGENET import ResNet18_TINYIMAGENET_Model\n",
    "from VGG16_CIFAR10 import VGG16_CIFAR10_Model\n",
    "from VGG16_TINYIMAGENET import VGG16_TINYIMAGENET_Model\n",
    "\n",
    "#Non Corrupted DataLoaders\n",
    "from CIFAR10_LOADER import CIFAR10DataLoader\n",
    "from TINYIMAGENET_LOADER import TINYIMAGENETDataLoader\n",
    "\n",
    "#Non Corrupted DataLoaders\n",
    "from CIFAR10C_LOADER import CIFAR10C_DataLoader #Each Corruption is a entry in the dictionary\n",
    "from TINYIMAGENET_C_LOADER import TinyImagenetC_DataLoader #Each Corruption is a entry in the dictionary\n",
    "\n",
    "#Error Metrics\n",
    "from ErrorMetrics import Evaluate_Model_TOP1\n"
   ]
  },
  {
   "cell_type": "markdown",
   "metadata": {},
   "source": [
    "# Unpruned Models"
   ]
  },
  {
   "cell_type": "code",
   "execution_count": 7,
   "metadata": {},
   "outputs": [
    {
     "data": {
      "text/plain": [
       "<All keys matched successfully>"
      ]
     },
     "execution_count": 7,
     "metadata": {},
     "output_type": "execute_result"
    }
   ],
   "source": [
    "#Network weights\n",
    "ResNet18_CIFAR10_Weights= torch.load(\"./Networks/ResNet18_CIFAR10_V0.pt\")\n",
    "ResNet18_TINYIMAGENET_Weights=torch.load(\"./Networks/ResNet18_TINY_IMAGENET_V0.pt\")\n",
    "VGG16_CIFAR10_Weights=torch.load(\"./Networks/VGG16_CIFAR10_V0.pt\")\n",
    "VGG16_TINYIMAGENET_Weights=torch.load(\"./Networks/VGG16_TINY_IMAGENET_V0.pt\")\n",
    "\n",
    "#Unpruned Models\n",
    "ResNet18_CIFAR10_0P=ResNet18_CIFAR10_Model()\n",
    "ResNet18_CIFAR10_0P.load_state_dict(ResNet18_CIFAR10_Weights)\n",
    "\n",
    "ResNet18_TINYIMAGENET_0P=ResNet18_TINYIMAGENET_Model()\n",
    "ResNet18_TINYIMAGENET_0P.load_state_dict(ResNet18_TINYIMAGENET_Weights)\n",
    "\n",
    "VGG16_CIFAR10_0P=VGG16_CIFAR10_Model()\n",
    "VGG16_CIFAR10_0P.load_state_dict(VGG16_CIFAR10_Weights)\n",
    "\n",
    "VGG16_TINYIMAGENET_0P=VGG16_TINYIMAGENET_Model()\n",
    "VGG16_TINYIMAGENET_0P.load_state_dict(VGG16_TINYIMAGENET_Weights)\n"
   ]
  },
  {
   "cell_type": "markdown",
   "metadata": {},
   "source": [
    "# Load Datasets"
   ]
  },
  {
   "cell_type": "code",
   "execution_count": 8,
   "metadata": {},
   "outputs": [
    {
     "name": "stdout",
     "output_type": "stream",
     "text": [
      "Files already downloaded and verified\n",
      "Files already downloaded and verified\n"
     ]
    }
   ],
   "source": [
    "from unittest import loader\n",
    "Times=5\n",
    "trainloader_CIFAR10, testloader_CIFAR10=CIFAR10DataLoader(batch_size=1024*Times) #Load Data for CIFAR10\n",
    "trainloader_TINYIMAGENET, testloader_TINYIMAGENET=TINYIMAGENETDataLoader(NPZ=True,batch_size=1024*Times) #Load Data for TINYIMAGENET\n",
    "loader_CIFAR10C=CIFAR10C_DataLoader(batch_size=1024*Times) #Load Data for CIFAR10C\n",
    "loader_TinyImagenetC=TinyImagenetC_DataLoader(NPZ=True,batch_size=1024*Times) #Load Data for TINYIMAGENETC"
   ]
  },
  {
   "cell_type": "markdown",
   "metadata": {},
   "source": [
    "# Evaluate Non Corrupted Data Models"
   ]
  },
  {
   "cell_type": "code",
   "execution_count": 9,
   "metadata": {},
   "outputs": [
    {
     "name": "stderr",
     "output_type": "stream",
     "text": [
      "100%|██████████| 2/2 [00:02<00:00,  1.34s/it]\n"
     ]
    },
    {
     "name": "stdout",
     "output_type": "stream",
     "text": [
      "ResNet18_CIFAR10_0P: Loss: 0.3436, Accuracy: 89.04%\n",
      "\n",
      "\n"
     ]
    },
    {
     "name": "stderr",
     "output_type": "stream",
     "text": [
      "100%|██████████| 1/1 [00:03<00:00,  3.09s/it]\n"
     ]
    },
    {
     "name": "stdout",
     "output_type": "stream",
     "text": [
      "ResNet18_TINYIMAGENET_0P: Loss: 1.7581, Accuracy: 60.36%\n",
      "\n",
      "\n"
     ]
    },
    {
     "name": "stderr",
     "output_type": "stream",
     "text": [
      "100%|██████████| 2/2 [00:02<00:00,  1.21s/it]\n"
     ]
    },
    {
     "name": "stdout",
     "output_type": "stream",
     "text": [
      "VGG16_CIFAR10_0P: Loss: 0.3662, Accuracy: 89.09%\n",
      "\n",
      "\n"
     ]
    },
    {
     "name": "stderr",
     "output_type": "stream",
     "text": [
      "100%|██████████| 1/1 [00:02<00:00,  2.66s/it]"
     ]
    },
    {
     "name": "stdout",
     "output_type": "stream",
     "text": [
      "VGG16_TINYIMAGENET_0P: Loss: 2.7202, Accuracy: 54.76%\n",
      "\n",
      "\n"
     ]
    },
    {
     "name": "stderr",
     "output_type": "stream",
     "text": [
      "\n"
     ]
    }
   ],
   "source": [
    "\n",
    "#Test Accuracy\n",
    "loss, acc, misclassified=Evaluate_Model_TOP1(ResNet18_CIFAR10_0P, device, testloader_CIFAR10) #ResNet18 on CIFAR10\n",
    "print(f\"ResNet18_CIFAR10_0P: Loss: {loss:.4f}, Accuracy: {acc:.2f}%\\n\\n\")\n",
    "\n",
    "loss, acc, misclassified=Evaluate_Model_TOP1(ResNet18_TINYIMAGENET_0P, device, testloader_TINYIMAGENET) #ResNet18 on TINYIMAGENET\n",
    "print(f\"ResNet18_TINYIMAGENET_0P: Loss: {loss:.4f}, Accuracy: {acc:.2f}%\\n\\n\")\n",
    "\n",
    "loss, acc, misclassified=Evaluate_Model_TOP1(VGG16_CIFAR10_0P, device, testloader_CIFAR10) #VGG16 on CIFAR10\n",
    "print(f\"VGG16_CIFAR10_0P: Loss: {loss:.4f}, Accuracy: {acc:.2f}%\\n\\n\")\n",
    "\n",
    "loss, acc, misclassified=Evaluate_Model_TOP1(VGG16_TINYIMAGENET_0P, device, testloader_TINYIMAGENET) #VGG16 on TINYIMAGENET\n",
    "print(f\"VGG16_TINYIMAGENET_0P: Loss: {loss:.4f}, Accuracy: {acc:.2f}%\\n\\n\")\n"
   ]
  },
  {
   "cell_type": "code",
   "execution_count": 10,
   "metadata": {},
   "outputs": [
    {
     "name": "stderr",
     "output_type": "stream",
     "text": [
      "100%|██████████| 10/10 [00:20<00:00,  2.07s/it]\n"
     ]
    },
    {
     "name": "stdout",
     "output_type": "stream",
     "text": [
      "ResNet18_CIFAR10_0P: Loss: 0.1401, Accuracy: 95.37%\n",
      "\n",
      "\n"
     ]
    },
    {
     "name": "stderr",
     "output_type": "stream",
     "text": [
      "100%|██████████| 20/20 [00:53<00:00,  2.65s/it]\n"
     ]
    },
    {
     "name": "stdout",
     "output_type": "stream",
     "text": [
      "ResNet18_TINYIMAGENET_0P: Loss: 0.5052, Accuracy: 87.22%\n",
      "\n",
      "\n"
     ]
    },
    {
     "name": "stderr",
     "output_type": "stream",
     "text": [
      "100%|██████████| 10/10 [00:20<00:00,  2.10s/it]\n"
     ]
    },
    {
     "name": "stdout",
     "output_type": "stream",
     "text": [
      "VGG16_CIFAR10_0P: Loss: 0.1328, Accuracy: 95.42%\n",
      "\n",
      "\n"
     ]
    },
    {
     "name": "stderr",
     "output_type": "stream",
     "text": [
      "100%|██████████| 20/20 [00:52<00:00,  2.61s/it]"
     ]
    },
    {
     "name": "stdout",
     "output_type": "stream",
     "text": [
      "VGG16_TINYIMAGENET_0P: Loss: 0.0144, Accuracy: 99.76%\n",
      "\n",
      "\n"
     ]
    },
    {
     "name": "stderr",
     "output_type": "stream",
     "text": [
      "\n"
     ]
    }
   ],
   "source": [
    "#Train Accuracy\n",
    "loss, acc, misclassified=Evaluate_Model_TOP1(ResNet18_CIFAR10_0P, device, trainloader_CIFAR10) #ResNet18 on CIFAR10\n",
    "print(f\"ResNet18_CIFAR10_0P: Loss: {loss:.4f}, Accuracy: {acc:.2f}%\\n\\n\")\n",
    "\n",
    "loss, acc, misclassified=Evaluate_Model_TOP1(ResNet18_TINYIMAGENET_0P, device, trainloader_TINYIMAGENET) #ResNet18 on TINYIMAGENET\n",
    "print(f\"ResNet18_TINYIMAGENET_0P: Loss: {loss:.4f}, Accuracy: {acc:.2f}%\\n\\n\")\n",
    "\n",
    "loss, acc, misclassified=Evaluate_Model_TOP1(VGG16_CIFAR10_0P, device, trainloader_CIFAR10) #VGG16 on CIFAR10\n",
    "print(f\"VGG16_CIFAR10_0P: Loss: {loss:.4f}, Accuracy: {acc:.2f}%\\n\\n\")\n",
    "\n",
    "loss, acc, misclassified=Evaluate_Model_TOP1(VGG16_TINYIMAGENET_0P, device, trainloader_TINYIMAGENET) #VGG16 on TINYIMAGENET\n",
    "print(f\"VGG16_TINYIMAGENET_0P: Loss: {loss:.4f}, Accuracy: {acc:.2f}%\\n\\n\")"
   ]
  },
  {
   "cell_type": "markdown",
   "metadata": {},
   "source": [
    "# Evaluate Models on Corrupted Data"
   ]
  },
  {
   "cell_type": "markdown",
   "metadata": {},
   "source": [
    "## CIFAR 10C"
   ]
  },
  {
   "cell_type": "code",
   "execution_count": 11,
   "metadata": {},
   "outputs": [
    {
     "name": "stdout",
     "output_type": "stream",
     "text": [
      "\n",
      "Corruption: brightness\n"
     ]
    },
    {
     "name": "stderr",
     "output_type": "stream",
     "text": [
      "100%|██████████| 196/196 [00:06<00:00, 31.84it/s]\n"
     ]
    },
    {
     "name": "stdout",
     "output_type": "stream",
     "text": [
      "VGG16: Accuracy: 87.52%\n"
     ]
    },
    {
     "name": "stderr",
     "output_type": "stream",
     "text": [
      "100%|██████████| 196/196 [00:05<00:00, 34.10it/s]\n"
     ]
    },
    {
     "name": "stdout",
     "output_type": "stream",
     "text": [
      "ResNet18: Accuracy: 87.07%\n",
      "\n",
      "Corruption: contrast\n"
     ]
    },
    {
     "name": "stderr",
     "output_type": "stream",
     "text": [
      "100%|██████████| 196/196 [00:05<00:00, 33.87it/s]\n"
     ]
    },
    {
     "name": "stdout",
     "output_type": "stream",
     "text": [
      "VGG16: Accuracy: 68.58%\n"
     ]
    },
    {
     "name": "stderr",
     "output_type": "stream",
     "text": [
      "100%|██████████| 196/196 [00:06<00:00, 32.03it/s]\n"
     ]
    },
    {
     "name": "stdout",
     "output_type": "stream",
     "text": [
      "ResNet18: Accuracy: 68.17%\n",
      "\n",
      "Corruption: defocus_blur\n"
     ]
    },
    {
     "name": "stderr",
     "output_type": "stream",
     "text": [
      "100%|██████████| 196/196 [00:05<00:00, 32.92it/s]\n"
     ]
    },
    {
     "name": "stdout",
     "output_type": "stream",
     "text": [
      "VGG16: Accuracy: 78.99%\n"
     ]
    },
    {
     "name": "stderr",
     "output_type": "stream",
     "text": [
      "100%|██████████| 196/196 [00:06<00:00, 30.83it/s]\n"
     ]
    },
    {
     "name": "stdout",
     "output_type": "stream",
     "text": [
      "ResNet18: Accuracy: 78.81%\n",
      "\n",
      "Corruption: elastic_transform\n"
     ]
    },
    {
     "name": "stderr",
     "output_type": "stream",
     "text": [
      "100%|██████████| 196/196 [00:05<00:00, 33.76it/s]\n"
     ]
    },
    {
     "name": "stdout",
     "output_type": "stream",
     "text": [
      "VGG16: Accuracy: 80.95%\n"
     ]
    },
    {
     "name": "stderr",
     "output_type": "stream",
     "text": [
      "100%|██████████| 196/196 [00:05<00:00, 33.92it/s]\n"
     ]
    },
    {
     "name": "stdout",
     "output_type": "stream",
     "text": [
      "ResNet18: Accuracy: 80.74%\n",
      "\n",
      "Corruption: fog\n"
     ]
    },
    {
     "name": "stderr",
     "output_type": "stream",
     "text": [
      "100%|██████████| 196/196 [00:05<00:00, 33.54it/s]\n"
     ]
    },
    {
     "name": "stdout",
     "output_type": "stream",
     "text": [
      "VGG16: Accuracy: 79.67%\n"
     ]
    },
    {
     "name": "stderr",
     "output_type": "stream",
     "text": [
      "100%|██████████| 196/196 [00:06<00:00, 31.75it/s]\n"
     ]
    },
    {
     "name": "stdout",
     "output_type": "stream",
     "text": [
      "ResNet18: Accuracy: 79.18%\n",
      "\n",
      "Corruption: frost\n"
     ]
    },
    {
     "name": "stderr",
     "output_type": "stream",
     "text": [
      "100%|██████████| 196/196 [00:05<00:00, 33.36it/s]\n"
     ]
    },
    {
     "name": "stdout",
     "output_type": "stream",
     "text": [
      "VGG16: Accuracy: 77.82%\n"
     ]
    },
    {
     "name": "stderr",
     "output_type": "stream",
     "text": [
      "100%|██████████| 196/196 [00:05<00:00, 33.24it/s]\n"
     ]
    },
    {
     "name": "stdout",
     "output_type": "stream",
     "text": [
      "ResNet18: Accuracy: 80.04%\n",
      "\n",
      "Corruption: gaussian_blur\n"
     ]
    },
    {
     "name": "stderr",
     "output_type": "stream",
     "text": [
      "100%|██████████| 196/196 [00:06<00:00, 31.07it/s]\n"
     ]
    },
    {
     "name": "stdout",
     "output_type": "stream",
     "text": [
      "VGG16: Accuracy: 74.15%\n"
     ]
    },
    {
     "name": "stderr",
     "output_type": "stream",
     "text": [
      "100%|██████████| 196/196 [00:06<00:00, 32.60it/s]\n"
     ]
    },
    {
     "name": "stdout",
     "output_type": "stream",
     "text": [
      "ResNet18: Accuracy: 74.14%\n",
      "\n",
      "Corruption: gaussian_noise\n"
     ]
    },
    {
     "name": "stderr",
     "output_type": "stream",
     "text": [
      "100%|██████████| 196/196 [00:05<00:00, 33.13it/s]\n"
     ]
    },
    {
     "name": "stdout",
     "output_type": "stream",
     "text": [
      "VGG16: Accuracy: 58.12%\n"
     ]
    },
    {
     "name": "stderr",
     "output_type": "stream",
     "text": [
      "100%|██████████| 196/196 [00:05<00:00, 32.92it/s]\n"
     ]
    },
    {
     "name": "stdout",
     "output_type": "stream",
     "text": [
      "ResNet18: Accuracy: 60.31%\n",
      "\n",
      "Corruption: glass_blur\n"
     ]
    },
    {
     "name": "stderr",
     "output_type": "stream",
     "text": [
      "100%|██████████| 196/196 [00:06<00:00, 30.66it/s]\n"
     ]
    },
    {
     "name": "stdout",
     "output_type": "stream",
     "text": [
      "VGG16: Accuracy: 72.72%\n"
     ]
    },
    {
     "name": "stderr",
     "output_type": "stream",
     "text": [
      "100%|██████████| 196/196 [00:06<00:00, 32.39it/s]\n"
     ]
    },
    {
     "name": "stdout",
     "output_type": "stream",
     "text": [
      "ResNet18: Accuracy: 73.21%\n",
      "\n",
      "Corruption: impulse_noise\n"
     ]
    },
    {
     "name": "stderr",
     "output_type": "stream",
     "text": [
      "100%|██████████| 196/196 [00:06<00:00, 32.49it/s]\n"
     ]
    },
    {
     "name": "stdout",
     "output_type": "stream",
     "text": [
      "VGG16: Accuracy: 63.86%\n"
     ]
    },
    {
     "name": "stderr",
     "output_type": "stream",
     "text": [
      "100%|██████████| 196/196 [00:06<00:00, 32.15it/s]\n"
     ]
    },
    {
     "name": "stdout",
     "output_type": "stream",
     "text": [
      "ResNet18: Accuracy: 64.26%\n",
      "\n",
      "Corruption: jpeg_compression\n"
     ]
    },
    {
     "name": "stderr",
     "output_type": "stream",
     "text": [
      "100%|██████████| 196/196 [00:06<00:00, 29.99it/s]\n"
     ]
    },
    {
     "name": "stdout",
     "output_type": "stream",
     "text": [
      "VGG16: Accuracy: 83.58%\n"
     ]
    },
    {
     "name": "stderr",
     "output_type": "stream",
     "text": [
      "100%|██████████| 196/196 [00:06<00:00, 32.10it/s]\n"
     ]
    },
    {
     "name": "stdout",
     "output_type": "stream",
     "text": [
      "ResNet18: Accuracy: 83.18%\n",
      "\n",
      "Corruption: motion_blur\n"
     ]
    },
    {
     "name": "stderr",
     "output_type": "stream",
     "text": [
      "100%|██████████| 196/196 [00:05<00:00, 32.87it/s]\n"
     ]
    },
    {
     "name": "stdout",
     "output_type": "stream",
     "text": [
      "VGG16: Accuracy: 74.29%\n"
     ]
    },
    {
     "name": "stderr",
     "output_type": "stream",
     "text": [
      "100%|██████████| 196/196 [00:06<00:00, 32.02it/s]\n"
     ]
    },
    {
     "name": "stdout",
     "output_type": "stream",
     "text": [
      "ResNet18: Accuracy: 72.65%\n",
      "\n",
      "Corruption: pixelate\n"
     ]
    },
    {
     "name": "stderr",
     "output_type": "stream",
     "text": [
      "100%|██████████| 196/196 [00:05<00:00, 32.72it/s]\n"
     ]
    },
    {
     "name": "stdout",
     "output_type": "stream",
     "text": [
      "VGG16: Accuracy: 85.71%\n"
     ]
    },
    {
     "name": "stderr",
     "output_type": "stream",
     "text": [
      "100%|██████████| 196/196 [00:06<00:00, 32.11it/s]\n"
     ]
    },
    {
     "name": "stdout",
     "output_type": "stream",
     "text": [
      "ResNet18: Accuracy: 85.63%\n",
      "\n",
      "Corruption: saturate\n"
     ]
    },
    {
     "name": "stderr",
     "output_type": "stream",
     "text": [
      "100%|██████████| 196/196 [00:06<00:00, 31.59it/s]\n"
     ]
    },
    {
     "name": "stdout",
     "output_type": "stream",
     "text": [
      "VGG16: Accuracy: 84.49%\n"
     ]
    },
    {
     "name": "stderr",
     "output_type": "stream",
     "text": [
      "100%|██████████| 196/196 [00:06<00:00, 31.60it/s]\n"
     ]
    },
    {
     "name": "stdout",
     "output_type": "stream",
     "text": [
      "ResNet18: Accuracy: 83.41%\n",
      "\n",
      "Corruption: shot_noise\n"
     ]
    },
    {
     "name": "stderr",
     "output_type": "stream",
     "text": [
      "100%|██████████| 196/196 [00:06<00:00, 28.69it/s]\n"
     ]
    },
    {
     "name": "stdout",
     "output_type": "stream",
     "text": [
      "VGG16: Accuracy: 66.03%\n"
     ]
    },
    {
     "name": "stderr",
     "output_type": "stream",
     "text": [
      "100%|██████████| 196/196 [00:06<00:00, 31.37it/s]\n"
     ]
    },
    {
     "name": "stdout",
     "output_type": "stream",
     "text": [
      "ResNet18: Accuracy: 67.33%\n",
      "\n",
      "Corruption: snow\n"
     ]
    },
    {
     "name": "stderr",
     "output_type": "stream",
     "text": [
      "100%|██████████| 196/196 [00:06<00:00, 31.56it/s]\n"
     ]
    },
    {
     "name": "stdout",
     "output_type": "stream",
     "text": [
      "VGG16: Accuracy: 80.37%\n"
     ]
    },
    {
     "name": "stderr",
     "output_type": "stream",
     "text": [
      "100%|██████████| 196/196 [00:06<00:00, 31.49it/s]\n"
     ]
    },
    {
     "name": "stdout",
     "output_type": "stream",
     "text": [
      "ResNet18: Accuracy: 80.16%\n",
      "\n",
      "Corruption: spatter\n"
     ]
    },
    {
     "name": "stderr",
     "output_type": "stream",
     "text": [
      "100%|██████████| 196/196 [00:06<00:00, 32.05it/s]\n"
     ]
    },
    {
     "name": "stdout",
     "output_type": "stream",
     "text": [
      "VGG16: Accuracy: 83.63%\n"
     ]
    },
    {
     "name": "stderr",
     "output_type": "stream",
     "text": [
      "100%|██████████| 196/196 [00:06<00:00, 31.18it/s]\n"
     ]
    },
    {
     "name": "stdout",
     "output_type": "stream",
     "text": [
      "ResNet18: Accuracy: 83.96%\n",
      "\n",
      "Corruption: speckle_noise\n"
     ]
    },
    {
     "name": "stderr",
     "output_type": "stream",
     "text": [
      "100%|██████████| 196/196 [00:06<00:00, 31.61it/s]\n"
     ]
    },
    {
     "name": "stdout",
     "output_type": "stream",
     "text": [
      "VGG16: Accuracy: 67.52%\n"
     ]
    },
    {
     "name": "stderr",
     "output_type": "stream",
     "text": [
      "100%|██████████| 196/196 [00:06<00:00, 28.63it/s]\n"
     ]
    },
    {
     "name": "stdout",
     "output_type": "stream",
     "text": [
      "ResNet18: Accuracy: 67.89%\n",
      "\n",
      "Corruption: zoom_blur\n"
     ]
    },
    {
     "name": "stderr",
     "output_type": "stream",
     "text": [
      "100%|██████████| 196/196 [00:06<00:00, 31.46it/s]\n"
     ]
    },
    {
     "name": "stdout",
     "output_type": "stream",
     "text": [
      "VGG16: Accuracy: 75.37%\n"
     ]
    },
    {
     "name": "stderr",
     "output_type": "stream",
     "text": [
      "100%|██████████| 196/196 [00:06<00:00, 31.25it/s]"
     ]
    },
    {
     "name": "stdout",
     "output_type": "stream",
     "text": [
      "ResNet18: Accuracy: 75.86%\n"
     ]
    },
    {
     "name": "stderr",
     "output_type": "stream",
     "text": [
      "\n"
     ]
    }
   ],
   "source": [
    "CIFAR10C_Corruptions=list(loader_CIFAR10C.keys())\n",
    "Acc_VGG16_CIFAR10C_Corruptions={}\n",
    "Acc_ResNet18_CIFAR10C_Corruptions={}\n",
    "\n",
    "for cname in CIFAR10C_Corruptions:\n",
    "    #corruption name and corruption number\n",
    "    \n",
    "    print(f\"\\nCorruption: {cname}\")\n",
    "\n",
    "    loss, acc, misclassified=Evaluate_Model_TOP1(VGG16_CIFAR10_0P, device, loader_CIFAR10C[cname]) #VGG16 on CIFAR10C\n",
    "    Acc_VGG16_CIFAR10C_Corruptions[cname]=acc\n",
    "    print(f\"VGG16: Accuracy: {acc:.2f}%\")\n",
    "\n",
    "\n",
    "    loss, acc, misclassified=Evaluate_Model_TOP1(ResNet18_CIFAR10_0P, device, loader_CIFAR10C[cname]) #ResNet18 on CIFAR10\n",
    "    Acc_ResNet18_CIFAR10C_Corruptions[cname]=acc  \n",
    "    print(f\"ResNet18: Accuracy: {acc:.2f}%\")"
   ]
  },
  {
   "cell_type": "markdown",
   "metadata": {},
   "source": [
    "## Tiny Imagenet C"
   ]
  },
  {
   "cell_type": "code",
   "execution_count": 12,
   "metadata": {},
   "outputs": [
    {
     "name": "stderr",
     "output_type": "stream",
     "text": [
      "  0%|          | 0/19 [00:00<?, ?it/s]"
     ]
    },
    {
     "name": "stdout",
     "output_type": "stream",
     "text": [
      "\n",
      "Corruption: brightness\n"
     ]
    },
    {
     "name": "stderr",
     "output_type": "stream",
     "text": [
      "100%|██████████| 2/2 [00:04<00:00,  2.19s/it]\n",
      "100%|██████████| 2/2 [00:05<00:00,  2.67s/it]\n",
      "100%|██████████| 2/2 [00:04<00:00,  2.20s/it]\n",
      "100%|██████████| 2/2 [00:05<00:00,  2.64s/it]\n",
      "100%|██████████| 2/2 [00:04<00:00,  2.28s/it]\n",
      "100%|██████████| 2/2 [00:05<00:00,  2.70s/it]\n",
      "100%|██████████| 2/2 [00:05<00:00,  2.75s/it]\n",
      "100%|██████████| 2/2 [00:05<00:00,  2.73s/it]\n",
      "100%|██████████| 2/2 [00:04<00:00,  2.34s/it]\n",
      "100%|██████████| 2/2 [00:05<00:00,  2.72s/it]\n",
      "  5%|▌         | 1/19 [00:51<15:18, 51.01s/it]"
     ]
    },
    {
     "name": "stdout",
     "output_type": "stream",
     "text": [
      "\n",
      "Corruption: contrast\n"
     ]
    },
    {
     "name": "stderr",
     "output_type": "stream",
     "text": [
      "100%|██████████| 2/2 [00:04<00:00,  2.32s/it]\n",
      "100%|██████████| 2/2 [00:05<00:00,  2.79s/it]\n",
      "100%|██████████| 2/2 [00:04<00:00,  2.39s/it]\n",
      "100%|██████████| 2/2 [00:05<00:00,  2.79s/it]\n",
      "100%|██████████| 2/2 [00:04<00:00,  2.43s/it]\n",
      "100%|██████████| 2/2 [00:05<00:00,  2.84s/it]\n",
      "100%|██████████| 2/2 [00:05<00:00,  2.97s/it]\n",
      "100%|██████████| 2/2 [00:05<00:00,  2.95s/it]\n",
      "100%|██████████| 2/2 [00:05<00:00,  2.52s/it]\n",
      "100%|██████████| 2/2 [00:05<00:00,  2.88s/it]\n",
      " 11%|█         | 2/19 [01:45<14:59, 52.93s/it]"
     ]
    },
    {
     "name": "stdout",
     "output_type": "stream",
     "text": [
      "\n",
      "Corruption: defocus_blur\n"
     ]
    },
    {
     "name": "stderr",
     "output_type": "stream",
     "text": [
      "100%|██████████| 2/2 [00:05<00:00,  2.54s/it]\n",
      "100%|██████████| 2/2 [00:05<00:00,  2.87s/it]\n",
      "100%|██████████| 2/2 [00:04<00:00,  2.47s/it]\n",
      "100%|██████████| 2/2 [00:05<00:00,  2.93s/it]\n",
      "100%|██████████| 2/2 [00:05<00:00,  2.58s/it]\n",
      "100%|██████████| 2/2 [00:05<00:00,  2.97s/it]\n",
      "100%|██████████| 2/2 [00:05<00:00,  2.57s/it]\n",
      "100%|██████████| 2/2 [00:07<00:00,  3.85s/it]\n",
      "100%|██████████| 2/2 [00:05<00:00,  2.66s/it]\n",
      "100%|██████████| 2/2 [00:06<00:00,  3.07s/it]\n",
      " 16%|█▌        | 3/19 [02:42<14:40, 55.03s/it]"
     ]
    },
    {
     "name": "stdout",
     "output_type": "stream",
     "text": [
      "\n",
      "Corruption: elastic_transform\n"
     ]
    },
    {
     "name": "stderr",
     "output_type": "stream",
     "text": [
      "100%|██████████| 2/2 [00:05<00:00,  2.55s/it]\n",
      "100%|██████████| 2/2 [00:06<00:00,  3.03s/it]\n",
      "100%|██████████| 2/2 [00:05<00:00,  2.56s/it]\n",
      "100%|██████████| 2/2 [00:05<00:00,  3.00s/it]\n",
      "100%|██████████| 2/2 [00:05<00:00,  2.58s/it]\n",
      "100%|██████████| 2/2 [00:06<00:00,  3.03s/it]\n",
      "100%|██████████| 2/2 [00:05<00:00,  2.71s/it]\n",
      "100%|██████████| 2/2 [00:06<00:00,  3.04s/it]\n",
      "100%|██████████| 2/2 [00:05<00:00,  2.67s/it]\n",
      "100%|██████████| 2/2 [00:07<00:00,  3.68s/it]\n",
      " 21%|██        | 4/19 [03:41<14:04, 56.29s/it]"
     ]
    },
    {
     "name": "stdout",
     "output_type": "stream",
     "text": [
      "\n",
      "Corruption: fog\n"
     ]
    },
    {
     "name": "stderr",
     "output_type": "stream",
     "text": [
      "100%|██████████| 2/2 [00:05<00:00,  2.63s/it]\n",
      "100%|██████████| 2/2 [00:06<00:00,  3.05s/it]\n",
      "100%|██████████| 2/2 [00:05<00:00,  2.65s/it]\n",
      "100%|██████████| 2/2 [00:06<00:00,  3.09s/it]\n",
      "100%|██████████| 2/2 [00:05<00:00,  2.61s/it]\n",
      "100%|██████████| 2/2 [00:06<00:00,  3.03s/it]\n",
      "100%|██████████| 2/2 [00:05<00:00,  2.71s/it]\n",
      "100%|██████████| 2/2 [00:06<00:00,  3.16s/it]\n",
      "100%|██████████| 2/2 [00:05<00:00,  2.68s/it]\n",
      "100%|██████████| 2/2 [00:06<00:00,  3.24s/it]\n",
      " 26%|██▋       | 5/19 [04:39<13:17, 56.99s/it]"
     ]
    },
    {
     "name": "stdout",
     "output_type": "stream",
     "text": [
      "\n",
      "Corruption: frost\n"
     ]
    },
    {
     "name": "stderr",
     "output_type": "stream",
     "text": [
      "100%|██████████| 2/2 [00:05<00:00,  2.70s/it]\n",
      "100%|██████████| 2/2 [00:06<00:00,  3.16s/it]\n",
      "100%|██████████| 2/2 [00:05<00:00,  2.65s/it]\n",
      "100%|██████████| 2/2 [00:06<00:00,  3.21s/it]\n",
      "100%|██████████| 2/2 [00:06<00:00,  3.42s/it]\n",
      "100%|██████████| 2/2 [00:06<00:00,  3.22s/it]\n",
      "100%|██████████| 2/2 [00:05<00:00,  2.75s/it]\n",
      "100%|██████████| 2/2 [00:06<00:00,  3.30s/it]\n",
      "100%|██████████| 2/2 [00:05<00:00,  2.81s/it]\n",
      "100%|██████████| 2/2 [00:06<00:00,  3.21s/it]\n",
      " 32%|███▏      | 6/19 [05:40<12:40, 58.48s/it]"
     ]
    },
    {
     "name": "stdout",
     "output_type": "stream",
     "text": [
      "\n",
      "Corruption: gaussian_blur\n"
     ]
    },
    {
     "name": "stderr",
     "output_type": "stream",
     "text": [
      "100%|██████████| 2/2 [00:05<00:00,  2.69s/it]\n",
      "100%|██████████| 2/2 [00:06<00:00,  3.22s/it]\n",
      "100%|██████████| 2/2 [00:05<00:00,  2.83s/it]\n",
      "100%|██████████| 2/2 [00:06<00:00,  3.29s/it]\n",
      "100%|██████████| 2/2 [00:05<00:00,  2.88s/it]\n",
      "100%|██████████| 2/2 [00:06<00:00,  3.27s/it]\n",
      "100%|██████████| 2/2 [00:05<00:00,  2.89s/it]\n",
      "100%|██████████| 2/2 [00:06<00:00,  3.37s/it]\n",
      "100%|██████████| 2/2 [00:05<00:00,  2.96s/it]\n",
      "100%|██████████| 2/2 [00:06<00:00,  3.32s/it]\n",
      " 37%|███▋      | 7/19 [06:42<11:55, 59.61s/it]"
     ]
    },
    {
     "name": "stdout",
     "output_type": "stream",
     "text": [
      "\n",
      "Corruption: gaussian_noise\n"
     ]
    },
    {
     "name": "stderr",
     "output_type": "stream",
     "text": [
      "100%|██████████| 2/2 [00:07<00:00,  3.59s/it]\n",
      "100%|██████████| 2/2 [00:06<00:00,  3.28s/it]\n",
      "100%|██████████| 2/2 [00:05<00:00,  2.86s/it]\n",
      "100%|██████████| 2/2 [00:06<00:00,  3.26s/it]\n",
      "100%|██████████| 2/2 [00:05<00:00,  2.93s/it]\n",
      "100%|██████████| 2/2 [00:06<00:00,  3.33s/it]\n",
      "100%|██████████| 2/2 [00:05<00:00,  2.91s/it]\n",
      "100%|██████████| 2/2 [00:06<00:00,  3.34s/it]\n",
      "100%|██████████| 2/2 [00:05<00:00,  2.94s/it]\n",
      "100%|██████████| 2/2 [00:06<00:00,  3.37s/it]\n",
      " 42%|████▏     | 8/19 [07:46<11:11, 61.06s/it]"
     ]
    },
    {
     "name": "stdout",
     "output_type": "stream",
     "text": [
      "\n",
      "Corruption: glass_blur\n"
     ]
    },
    {
     "name": "stderr",
     "output_type": "stream",
     "text": [
      "100%|██████████| 2/2 [00:05<00:00,  2.83s/it]\n",
      "100%|██████████| 2/2 [00:06<00:00,  3.31s/it]\n",
      "100%|██████████| 2/2 [00:05<00:00,  2.90s/it]\n",
      "100%|██████████| 2/2 [00:06<00:00,  3.29s/it]\n",
      "100%|██████████| 2/2 [00:05<00:00,  2.99s/it]\n",
      "100%|██████████| 2/2 [00:06<00:00,  3.39s/it]\n",
      "100%|██████████| 2/2 [00:05<00:00,  2.97s/it]\n",
      "100%|██████████| 2/2 [00:06<00:00,  3.46s/it]\n",
      "100%|██████████| 2/2 [00:06<00:00,  3.00s/it]\n",
      "100%|██████████| 2/2 [00:09<00:00,  4.90s/it]\n",
      " 47%|████▋     | 9/19 [08:53<10:27, 62.77s/it]"
     ]
    },
    {
     "name": "stdout",
     "output_type": "stream",
     "text": [
      "\n",
      "Corruption: impulse_noise\n"
     ]
    },
    {
     "name": "stderr",
     "output_type": "stream",
     "text": [
      "100%|██████████| 2/2 [00:05<00:00,  2.91s/it]\n",
      "100%|██████████| 2/2 [00:06<00:00,  3.32s/it]\n",
      "100%|██████████| 2/2 [00:05<00:00,  2.93s/it]\n",
      "100%|██████████| 2/2 [00:06<00:00,  3.44s/it]\n",
      "100%|██████████| 2/2 [00:06<00:00,  3.02s/it]\n",
      "100%|██████████| 2/2 [00:06<00:00,  3.50s/it]\n",
      "100%|██████████| 2/2 [00:06<00:00,  3.09s/it]\n",
      "100%|██████████| 2/2 [00:07<00:00,  3.54s/it]\n",
      "100%|██████████| 2/2 [00:06<00:00,  3.13s/it]\n",
      "100%|██████████| 2/2 [00:07<00:00,  3.51s/it]\n",
      " 53%|█████▎    | 10/19 [09:58<09:31, 63.53s/it]"
     ]
    },
    {
     "name": "stdout",
     "output_type": "stream",
     "text": [
      "\n",
      "Corruption: jpeg_compression\n"
     ]
    },
    {
     "name": "stderr",
     "output_type": "stream",
     "text": [
      "100%|██████████| 2/2 [00:06<00:00,  3.04s/it]\n",
      "100%|██████████| 2/2 [00:06<00:00,  3.46s/it]\n",
      "100%|██████████| 2/2 [00:05<00:00,  2.95s/it]\n",
      "100%|██████████| 2/2 [00:06<00:00,  3.46s/it]\n",
      "100%|██████████| 2/2 [00:06<00:00,  3.04s/it]\n",
      "100%|██████████| 2/2 [00:07<00:00,  3.52s/it]\n",
      "100%|██████████| 2/2 [00:06<00:00,  3.08s/it]\n",
      "100%|██████████| 2/2 [00:07<00:00,  3.53s/it]\n",
      "100%|██████████| 2/2 [00:06<00:00,  3.14s/it]\n",
      "100%|██████████| 2/2 [00:07<00:00,  3.53s/it]\n",
      " 58%|█████▊    | 11/19 [11:04<08:34, 64.29s/it]"
     ]
    },
    {
     "name": "stdout",
     "output_type": "stream",
     "text": [
      "\n",
      "Corruption: motion_blur\n"
     ]
    },
    {
     "name": "stderr",
     "output_type": "stream",
     "text": [
      "100%|██████████| 2/2 [00:07<00:00,  3.84s/it]\n",
      "100%|██████████| 2/2 [00:07<00:00,  3.53s/it]\n",
      "100%|██████████| 2/2 [00:06<00:00,  3.07s/it]\n",
      "100%|██████████| 2/2 [00:07<00:00,  3.63s/it]\n",
      "100%|██████████| 2/2 [00:06<00:00,  3.17s/it]\n",
      "100%|██████████| 2/2 [00:07<00:00,  3.57s/it]\n",
      "100%|██████████| 2/2 [00:06<00:00,  3.10s/it]\n",
      "100%|██████████| 2/2 [00:07<00:00,  3.66s/it]\n"
     ]
    }
   ],
   "source": [
    "TinyImagenetC_CorruptionClasses=list(loader_TinyImagenetC.keys())\n",
    "TinyImagenetC_CorruptionLevels=list(loader_TinyImagenetC[TinyImagenetC_CorruptionClasses[0]].keys())\n",
    "\n",
    "Acc_VGG16_TINY_IMAG_C_Corruptions={}\n",
    "Acc_ResNet18_TINY_IMAG_CCorruptions={}\n",
    "\n",
    "for cname in tqdm(TinyImagenetC_CorruptionClasses):\n",
    "    print(f\"\\nCorruption: {cname}\")\n",
    "    for clevel in TinyImagenetC_CorruptionLevels:\n",
    "\n",
    "        loss, acc, misclassified=Evaluate_Model_TOP1(VGG16_TINYIMAGENET_0P, device, loader_TinyImagenetC[cname][clevel])\n",
    "        Acc_VGG16_TINY_IMAG_C_Corruptions[cname+\"_\"+clevel]=acc\n",
    "\n",
    "        loss, acc, misclassified=Evaluate_Model_TOP1(ResNet18_TINYIMAGENET_0P, device, loader_TinyImagenetC[cname][clevel])\n",
    "        Acc_ResNet18_TINY_IMAG_CCorruptions[cname+\"_\"+clevel]=acc\n",
    "\n"
   ]
  },
  {
   "cell_type": "code",
   "execution_count": null,
   "metadata": {},
   "outputs": [
    {
     "data": {
      "text/plain": [
       "{'brightness_1': 36.08,\n",
       " 'brightness_2': 34.29,\n",
       " 'brightness_3': 30.52,\n",
       " 'brightness_4': 25.84,\n",
       " 'brightness_5': 19.87,\n",
       " 'contrast_1': 21.94,\n",
       " 'contrast_2': 14.91,\n",
       " 'contrast_3': 7.84,\n",
       " 'contrast_4': 2.56,\n",
       " 'contrast_5': 1.47,\n",
       " 'defocus_blur_1': 17.38,\n",
       " 'defocus_blur_2': 14.24,\n",
       " 'defocus_blur_3': 8.67,\n",
       " 'defocus_blur_4': 4.25,\n",
       " 'defocus_blur_5': 3.19,\n",
       " 'elastic_transform_1': 23.21,\n",
       " 'elastic_transform_2': 22.58,\n",
       " 'elastic_transform_3': 18.38,\n",
       " 'elastic_transform_4': 17.25,\n",
       " 'elastic_transform_5': 16.83,\n",
       " 'fog_1': 33.44,\n",
       " 'fog_2': 28.26,\n",
       " 'fog_3': 22.61,\n",
       " 'fog_4': 13.41,\n",
       " 'fog_5': 7.48,\n",
       " 'frost_1': 31.7,\n",
       " 'frost_2': 27.12,\n",
       " 'frost_3': 23.49,\n",
       " 'frost_4': 20.5,\n",
       " 'frost_5': 17.63,\n",
       " 'gaussian_blur_1': 23.87,\n",
       " 'gaussian_blur_2': 12.03,\n",
       " 'gaussian_blur_3': 7.36,\n",
       " 'gaussian_blur_4': 5.03,\n",
       " 'gaussian_blur_5': 3.95,\n",
       " 'gaussian_noise_1': 34.89,\n",
       " 'gaussian_noise_2': 21.8,\n",
       " 'gaussian_noise_3': 11.87,\n",
       " 'gaussian_noise_4': 7.52,\n",
       " 'gaussian_noise_5': 5.2,\n",
       " 'glass_blur_1': 38.79,\n",
       " 'glass_blur_2': 17.63,\n",
       " 'glass_blur_3': 10.25,\n",
       " 'glass_blur_4': 6.73,\n",
       " 'glass_blur_5': 3.82,\n",
       " 'impulse_noise_1': 35.91,\n",
       " 'impulse_noise_2': 30.03,\n",
       " 'impulse_noise_3': 16.55,\n",
       " 'impulse_noise_4': 9.17,\n",
       " 'impulse_noise_5': 3.75,\n",
       " 'jpeg_compression_1': 29.7,\n",
       " 'jpeg_compression_2': 31.67,\n",
       " 'jpeg_compression_3': 27.78,\n",
       " 'jpeg_compression_4': 26.33,\n",
       " 'jpeg_compression_5': 21.12,\n",
       " 'motion_blur_1': 22.2,\n",
       " 'motion_blur_2': 17.03,\n",
       " 'motion_blur_3': 13.11,\n",
       " 'motion_blur_4': 10.51,\n",
       " 'motion_blur_5': 8.86,\n",
       " 'pixelate_1': 38.87,\n",
       " 'pixelate_2': 39.54,\n",
       " 'pixelate_3': 39.21,\n",
       " 'pixelate_4': 36.87,\n",
       " 'pixelate_5': 32.82,\n",
       " 'saturate_1': 24.68,\n",
       " 'saturate_2': 17.5,\n",
       " 'saturate_3': 33.0,\n",
       " 'saturate_4': 24.08,\n",
       " 'saturate_5': 17.99,\n",
       " 'shot_noise_1': 33.58,\n",
       " 'shot_noise_2': 25.88,\n",
       " 'shot_noise_3': 17.46,\n",
       " 'shot_noise_4': 12.02,\n",
       " 'shot_noise_5': 6.7,\n",
       " 'snow_1': 33.47,\n",
       " 'snow_2': 26.03,\n",
       " 'snow_3': 22.7,\n",
       " 'snow_4': 15.67,\n",
       " 'snow_5': 16.99,\n",
       " 'spatter_1': 37.24,\n",
       " 'spatter_2': 28.77,\n",
       " 'spatter_3': 19.83,\n",
       " 'spatter_4': 26.92,\n",
       " 'spatter_5': 24.49,\n",
       " 'speckle_noise_1': 24.03,\n",
       " 'speckle_noise_2': 18.29,\n",
       " 'speckle_noise_3': 13.89,\n",
       " 'speckle_noise_4': 10.9,\n",
       " 'speckle_noise_5': 8.52,\n",
       " 'zoom_blur_1': 16.29,\n",
       " 'zoom_blur_2': 12.0,\n",
       " 'zoom_blur_3': 9.79,\n",
       " 'zoom_blur_4': 7.85,\n",
       " 'zoom_blur_5': 6.74}"
      ]
     },
     "execution_count": 5,
     "metadata": {},
     "output_type": "execute_result"
    }
   ],
   "source": [
    "Acc_ResNet18_TINY_IMAG_CCorruptions\n"
   ]
  },
  {
   "cell_type": "code",
   "execution_count": null,
   "metadata": {},
   "outputs": [
    {
     "data": {
      "text/plain": [
       "{'brightness_1': 33.97,\n",
       " 'brightness_2': 31.58,\n",
       " 'brightness_3': 28.08,\n",
       " 'brightness_4': 23.43,\n",
       " 'brightness_5': 18.57,\n",
       " 'contrast_1': 20.32,\n",
       " 'contrast_2': 13.42,\n",
       " 'contrast_3': 7.07,\n",
       " 'contrast_4': 2.29,\n",
       " 'contrast_5': 1.15,\n",
       " 'defocus_blur_1': 19.52,\n",
       " 'defocus_blur_2': 16.38,\n",
       " 'defocus_blur_3': 11.84,\n",
       " 'defocus_blur_4': 6.54,\n",
       " 'defocus_blur_5': 5.12,\n",
       " 'elastic_transform_1': 23.85,\n",
       " 'elastic_transform_2': 23.62,\n",
       " 'elastic_transform_3': 20.19,\n",
       " 'elastic_transform_4': 18.84,\n",
       " 'elastic_transform_5': 18.15,\n",
       " 'fog_1': 32.26,\n",
       " 'fog_2': 27.29,\n",
       " 'fog_3': 21.68,\n",
       " 'fog_4': 13.19,\n",
       " 'fog_5': 7.74,\n",
       " 'frost_1': 31.09,\n",
       " 'frost_2': 27.88,\n",
       " 'frost_3': 24.58,\n",
       " 'frost_4': 21.77,\n",
       " 'frost_5': 18.92,\n",
       " 'gaussian_blur_1': 24.87,\n",
       " 'gaussian_blur_2': 14.62,\n",
       " 'gaussian_blur_3': 10.44,\n",
       " 'gaussian_blur_4': 7.62,\n",
       " 'gaussian_blur_5': 5.97,\n",
       " 'gaussian_noise_1': 33.38,\n",
       " 'gaussian_noise_2': 22.54,\n",
       " 'gaussian_noise_3': 13.07,\n",
       " 'gaussian_noise_4': 9.11,\n",
       " 'gaussian_noise_5': 6.46,\n",
       " 'glass_blur_1': 36.75,\n",
       " 'glass_blur_2': 19.14,\n",
       " 'glass_blur_3': 12.41,\n",
       " 'glass_blur_4': 8.72,\n",
       " 'glass_blur_5': 5.27,\n",
       " 'impulse_noise_1': 33.5,\n",
       " 'impulse_noise_2': 28.84,\n",
       " 'impulse_noise_3': 18.14,\n",
       " 'impulse_noise_4': 11.38,\n",
       " 'impulse_noise_5': 5.39,\n",
       " 'jpeg_compression_1': 29.77,\n",
       " 'jpeg_compression_2': 31.3,\n",
       " 'jpeg_compression_3': 28.13,\n",
       " 'jpeg_compression_4': 26.89,\n",
       " 'jpeg_compression_5': 23.02,\n",
       " 'motion_blur_1': 23.24,\n",
       " 'motion_blur_2': 18.46,\n",
       " 'motion_blur_3': 15.22,\n",
       " 'motion_blur_4': 13.1,\n",
       " 'motion_blur_5': 11.3,\n",
       " 'pixelate_1': 35.86,\n",
       " 'pixelate_2': 36.52,\n",
       " 'pixelate_3': 36.18,\n",
       " 'pixelate_4': 35.02,\n",
       " 'pixelate_5': 31.8,\n",
       " 'saturate_1': 24.96,\n",
       " 'saturate_2': 17.33,\n",
       " 'saturate_3': 30.12,\n",
       " 'saturate_4': 21.51,\n",
       " 'saturate_5': 16.55,\n",
       " 'shot_noise_1': 32.4,\n",
       " 'shot_noise_2': 26.11,\n",
       " 'shot_noise_3': 19.1,\n",
       " 'shot_noise_4': 13.79,\n",
       " 'shot_noise_5': 8.1,\n",
       " 'snow_1': 32.44,\n",
       " 'snow_2': 26.86,\n",
       " 'snow_3': 23.55,\n",
       " 'snow_4': 17.19,\n",
       " 'snow_5': 18.35,\n",
       " 'spatter_1': 34.84,\n",
       " 'spatter_2': 28.99,\n",
       " 'spatter_3': 22.11,\n",
       " 'spatter_4': 24.98,\n",
       " 'spatter_5': 23.76,\n",
       " 'speckle_noise_1': 24.08,\n",
       " 'speckle_noise_2': 18.99,\n",
       " 'speckle_noise_3': 15.04,\n",
       " 'speckle_noise_4': 12.06,\n",
       " 'speckle_noise_5': 9.85,\n",
       " 'zoom_blur_1': 18.29,\n",
       " 'zoom_blur_2': 14.88,\n",
       " 'zoom_blur_3': 12.77,\n",
       " 'zoom_blur_4': 10.69,\n",
       " 'zoom_blur_5': 9.22}"
      ]
     },
     "execution_count": 6,
     "metadata": {},
     "output_type": "execute_result"
    }
   ],
   "source": [
    "Acc_VGG16_TINY_IMAG_C_Corruptions"
   ]
  }
 ],
 "metadata": {
  "kernelspec": {
   "display_name": "pytorch",
   "language": "python",
   "name": "python3"
  },
  "language_info": {
   "codemirror_mode": {
    "name": "ipython",
    "version": 3
   },
   "file_extension": ".py",
   "mimetype": "text/x-python",
   "name": "python",
   "nbconvert_exporter": "python",
   "pygments_lexer": "ipython3",
   "version": "3.11.6"
  }
 },
 "nbformat": 4,
 "nbformat_minor": 2
}
