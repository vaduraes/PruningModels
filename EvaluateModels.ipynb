{
 "cells": [
  {
   "cell_type": "code",
   "execution_count": 1,
   "metadata": {},
   "outputs": [],
   "source": [
    "import torch\n",
    "import torch.nn as nn\n",
    "import torch.optim as optim\n",
    "from torch.optim.lr_scheduler import StepLR, ReduceLROnPlateau\n",
    "import torch.nn.functional as F\n",
    "\n",
    "\n",
    "import torchvision\n",
    "from torchvision.models import resnet18, ResNet18_Weights, vgg16, VGG16_Weights\n",
    "from torchvision import datasets\n",
    "from torchvision import transforms\n",
    "\n",
    "from tqdm import tqdm\n",
    "import numpy as np\n",
    "import matplotlib.pyplot as plt\n",
    "\n",
    "\n",
    "import os\n",
    "import sys\n",
    "from torchsummary import summary\n",
    "\n",
    "\n",
    "# from google.colab import drive\n",
    "# drive.mount('/content/drive')\n",
    "# #Code folder path\n",
    "# %cd /content/drive/My Drive/ECE591_DL_CL_PROJECT/\n",
    "\n",
    "#device config\n",
    "torch.cuda.set_device(1)#Select GPU device 1\n",
    "device=torch.device(\"cuda\" if torch.cuda.is_available() else \"cpu\")\n",
    "\n",
    "#Get Packages\n",
    "sys.path.append('./Tools')\n",
    "\n",
    "#Network architectures\n",
    "from ResNet18_CIFAR10 import ResNet18_CIFAR10_Model\n",
    "from ResNet18_TINYIMAGENET import ResNet18_TINYIMAGENET_Model\n",
    "from VGG16_CIFAR10 import VGG16_CIFAR10_Model\n",
    "from VGG16_TINYIMAGENET import VGG16_TINYIMAGENET_Model\n",
    "\n",
    "#Non Corrupted DataLoaders\n",
    "from CIFAR10_LOADER import CIFAR10DataLoader\n",
    "from TINYIMAGENET_LOADER import TINYIMAGENETDataLoader\n",
    "\n",
    "#Non Corrupted DataLoaders\n",
    "from CIFAR10C_LOADER import CIFAR10C_DataLoader #Each Corruption is a entry in the dictionary\n",
    "from TINYIMAGENET_C_LOADER import TinyImagenetC_DataLoader #Each Corruption is a entry in the dictionary\n",
    "\n",
    "#Error Metrics\n",
    "from ErrorMetrics import Evaluate_Model_TOP1\n"
   ]
  },
  {
   "cell_type": "markdown",
   "metadata": {},
   "source": [
    "# Unpruned Models"
   ]
  },
  {
   "cell_type": "code",
   "execution_count": 2,
   "metadata": {},
   "outputs": [
    {
     "data": {
      "text/plain": [
       "<All keys matched successfully>"
      ]
     },
     "execution_count": 2,
     "metadata": {},
     "output_type": "execute_result"
    }
   ],
   "source": [
    "#Network weights\n",
    "ResNet18_CIFAR10_Weights= torch.load(\"./Networks/ResNet18_CIFAR10_V0.pt\")\n",
    "ResNet18_TINYIMAGENET_Weights=torch.load(\"./Networks/ResNet18_TINY_IMAGENET_V0.pt\")\n",
    "VGG16_CIFAR10_Weights=torch.load(\"./Networks/VGG16_CIFAR10_V0.pt\")\n",
    "VGG16_TINYIMAGENET_Weights=torch.load(\"./Networks/VGG16_TINY_IMAGENET_V0.pt\")\n",
    "\n",
    "#Unpruned Models\n",
    "ResNet18_CIFAR10_0P=ResNet18_CIFAR10_Model()\n",
    "ResNet18_CIFAR10_0P.load_state_dict(ResNet18_CIFAR10_Weights)\n",
    "\n",
    "ResNet18_TINYIMAGENET_0P=ResNet18_TINYIMAGENET_Model()\n",
    "ResNet18_TINYIMAGENET_0P.load_state_dict(ResNet18_TINYIMAGENET_Weights)\n",
    "\n",
    "VGG16_CIFAR10_0P=VGG16_CIFAR10_Model()\n",
    "VGG16_CIFAR10_0P.load_state_dict(VGG16_CIFAR10_Weights)\n",
    "\n",
    "VGG16_TINYIMAGENET_0P=VGG16_TINYIMAGENET_Model()\n",
    "VGG16_TINYIMAGENET_0P.load_state_dict(VGG16_TINYIMAGENET_Weights)\n"
   ]
  },
  {
   "cell_type": "markdown",
   "metadata": {},
   "source": [
    "# Load Datasets"
   ]
  },
  {
   "cell_type": "code",
   "execution_count": 3,
   "metadata": {},
   "outputs": [
    {
     "name": "stdout",
     "output_type": "stream",
     "text": [
      "Files already downloaded and verified\n",
      "Files already downloaded and verified\n"
     ]
    }
   ],
   "source": [
    "from unittest import loader\n",
    "\n",
    "\n",
    "trainloader_CIFAR10, testloader_CIFAR10=CIFAR10DataLoader() #Load Data for CIFAR10\n",
    "trainloader_TINYIMAGENET, testloader_TINYIMAGENET=TINYIMAGENETDataLoader() #Load Data for TINYIMAGENET\n",
    "loader_CIFAR10C=CIFAR10C_DataLoader() #Load Data for CIFAR10C\n",
    "loader_TinyImagenetC=TinyImagenetC_DataLoader() #Load Data for TINYIMAGENETC"
   ]
  },
  {
   "cell_type": "markdown",
   "metadata": {},
   "source": [
    "# Evaluate Non Corrupted Data Models"
   ]
  },
  {
   "cell_type": "code",
   "execution_count": 5,
   "metadata": {},
   "outputs": [
    {
     "name": "stderr",
     "output_type": "stream",
     "text": [
      "100%|██████████| 20/20 [00:01<00:00, 10.74it/s]\n"
     ]
    },
    {
     "name": "stdout",
     "output_type": "stream",
     "text": [
      "ResNet18_CIFAR10_0P: Loss: 0.3436, Accuracy: 89.04%\n",
      "\n",
      "\n"
     ]
    },
    {
     "name": "stderr",
     "output_type": "stream",
     "text": [
      "100%|██████████| 20/20 [00:02<00:00,  9.18it/s]\n"
     ]
    },
    {
     "name": "stdout",
     "output_type": "stream",
     "text": [
      "ResNet18_TINYIMAGENET_0P: Loss: 1.7581, Accuracy: 60.36%\n",
      "\n",
      "\n"
     ]
    },
    {
     "name": "stderr",
     "output_type": "stream",
     "text": [
      "100%|██████████| 20/20 [00:01<00:00, 10.43it/s]\n"
     ]
    },
    {
     "name": "stdout",
     "output_type": "stream",
     "text": [
      "VGG16_CIFAR10_0P: Loss: 0.3662, Accuracy: 89.09%\n",
      "\n",
      "\n"
     ]
    },
    {
     "name": "stderr",
     "output_type": "stream",
     "text": [
      "100%|██████████| 20/20 [00:01<00:00, 10.18it/s]"
     ]
    },
    {
     "name": "stdout",
     "output_type": "stream",
     "text": [
      "VGG16_TINYIMAGENET_0P: Loss: 2.7202, Accuracy: 54.76%\n",
      "\n",
      "\n"
     ]
    },
    {
     "name": "stderr",
     "output_type": "stream",
     "text": [
      "\n"
     ]
    }
   ],
   "source": [
    "\n",
    "#Test Accuracy\n",
    "loss, acc, misclassified=Evaluate_Model_TOP1(ResNet18_CIFAR10_0P, device, testloader_CIFAR10) #ResNet18 on CIFAR10\n",
    "print(f\"ResNet18_CIFAR10_0P: Loss: {loss:.4f}, Accuracy: {acc:.2f}%\\n\\n\")\n",
    "\n",
    "loss, acc, misclassified=Evaluate_Model_TOP1(ResNet18_TINYIMAGENET_0P, device, testloader_TINYIMAGENET) #ResNet18 on TINYIMAGENET\n",
    "print(f\"ResNet18_TINYIMAGENET_0P: Loss: {loss:.4f}, Accuracy: {acc:.2f}%\\n\\n\")\n",
    "\n",
    "loss, acc, misclassified=Evaluate_Model_TOP1(VGG16_CIFAR10_0P, device, testloader_CIFAR10) #VGG16 on CIFAR10\n",
    "print(f\"VGG16_CIFAR10_0P: Loss: {loss:.4f}, Accuracy: {acc:.2f}%\\n\\n\")\n",
    "\n",
    "loss, acc, misclassified=Evaluate_Model_TOP1(VGG16_TINYIMAGENET_0P, device, testloader_TINYIMAGENET) #VGG16 on TINYIMAGENET\n",
    "print(f\"VGG16_TINYIMAGENET_0P: Loss: {loss:.4f}, Accuracy: {acc:.2f}%\\n\\n\")\n"
   ]
  },
  {
   "cell_type": "code",
   "execution_count": 7,
   "metadata": {},
   "outputs": [
    {
     "name": "stderr",
     "output_type": "stream",
     "text": [
      "100%|██████████| 98/98 [00:19<00:00,  4.91it/s]\n"
     ]
    },
    {
     "name": "stdout",
     "output_type": "stream",
     "text": [
      "ResNet18_CIFAR10_0P: Loss: 0.1349, Accuracy: 95.64%\n",
      "\n",
      "\n"
     ]
    },
    {
     "name": "stderr",
     "output_type": "stream",
     "text": [
      "100%|██████████| 391/391 [01:00<00:00,  6.43it/s]\n"
     ]
    },
    {
     "name": "stdout",
     "output_type": "stream",
     "text": [
      "ResNet18_TINYIMAGENET_0P: Loss: 0.5043, Accuracy: 87.22%\n",
      "\n",
      "\n"
     ]
    },
    {
     "name": "stderr",
     "output_type": "stream",
     "text": [
      "100%|██████████| 98/98 [00:19<00:00,  4.93it/s]\n"
     ]
    },
    {
     "name": "stdout",
     "output_type": "stream",
     "text": [
      "VGG16_CIFAR10_0P: Loss: 0.1292, Accuracy: 95.64%\n",
      "\n",
      "\n"
     ]
    },
    {
     "name": "stderr",
     "output_type": "stream",
     "text": [
      "100%|██████████| 391/391 [01:01<00:00,  6.38it/s]"
     ]
    },
    {
     "name": "stdout",
     "output_type": "stream",
     "text": [
      "VGG16_TINYIMAGENET_0P: Loss: 0.0141, Accuracy: 99.78%\n",
      "\n",
      "\n"
     ]
    },
    {
     "name": "stderr",
     "output_type": "stream",
     "text": [
      "\n"
     ]
    }
   ],
   "source": [
    "#Train Accuracy\n",
    "loss, acc, misclassified=Evaluate_Model_TOP1(ResNet18_CIFAR10_0P, device, trainloader_CIFAR10) #ResNet18 on CIFAR10\n",
    "print(f\"ResNet18_CIFAR10_0P: Loss: {loss:.4f}, Accuracy: {acc:.2f}%\\n\\n\")\n",
    "\n",
    "loss, acc, misclassified=Evaluate_Model_TOP1(ResNet18_TINYIMAGENET_0P, device, trainloader_TINYIMAGENET) #ResNet18 on TINYIMAGENET\n",
    "print(f\"ResNet18_TINYIMAGENET_0P: Loss: {loss:.4f}, Accuracy: {acc:.2f}%\\n\\n\")\n",
    "\n",
    "loss, acc, misclassified=Evaluate_Model_TOP1(VGG16_CIFAR10_0P, device, trainloader_CIFAR10) #VGG16 on CIFAR10\n",
    "print(f\"VGG16_CIFAR10_0P: Loss: {loss:.4f}, Accuracy: {acc:.2f}%\\n\\n\")\n",
    "\n",
    "loss, acc, misclassified=Evaluate_Model_TOP1(VGG16_TINYIMAGENET_0P, device, trainloader_TINYIMAGENET) #VGG16 on TINYIMAGENET\n",
    "print(f\"VGG16_TINYIMAGENET_0P: Loss: {loss:.4f}, Accuracy: {acc:.2f}%\\n\\n\")"
   ]
  },
  {
   "cell_type": "markdown",
   "metadata": {},
   "source": [
    "# Evaluate Models on Corrupted Data"
   ]
  },
  {
   "cell_type": "markdown",
   "metadata": {},
   "source": [
    "## CIFAR 10C"
   ]
  },
  {
   "cell_type": "code",
   "execution_count": 4,
   "metadata": {},
   "outputs": [
    {
     "name": "stdout",
     "output_type": "stream",
     "text": [
      "\n",
      "Corruption: brightness\n"
     ]
    },
    {
     "name": "stderr",
     "output_type": "stream",
     "text": [
      "  0%|          | 0/196 [00:00<?, ?it/s]"
     ]
    },
    {
     "name": "stderr",
     "output_type": "stream",
     "text": [
      "100%|██████████| 196/196 [00:06<00:00, 30.99it/s]\n"
     ]
    },
    {
     "name": "stdout",
     "output_type": "stream",
     "text": [
      "VGG16: Accuracy: 87.52%\n"
     ]
    },
    {
     "name": "stderr",
     "output_type": "stream",
     "text": [
      "100%|██████████| 196/196 [00:05<00:00, 32.83it/s]\n"
     ]
    },
    {
     "name": "stdout",
     "output_type": "stream",
     "text": [
      "ResNet18: Accuracy: 87.07%\n",
      "\n",
      "Corruption: contrast\n"
     ]
    },
    {
     "name": "stderr",
     "output_type": "stream",
     "text": [
      "100%|██████████| 196/196 [00:05<00:00, 32.89it/s]\n"
     ]
    },
    {
     "name": "stdout",
     "output_type": "stream",
     "text": [
      "VGG16: Accuracy: 68.58%\n"
     ]
    },
    {
     "name": "stderr",
     "output_type": "stream",
     "text": [
      "100%|██████████| 196/196 [00:06<00:00, 32.35it/s]\n"
     ]
    },
    {
     "name": "stdout",
     "output_type": "stream",
     "text": [
      "ResNet18: Accuracy: 68.17%\n",
      "\n",
      "Corruption: defocus_blur\n"
     ]
    },
    {
     "name": "stderr",
     "output_type": "stream",
     "text": [
      "100%|██████████| 196/196 [00:05<00:00, 34.69it/s]\n"
     ]
    },
    {
     "name": "stdout",
     "output_type": "stream",
     "text": [
      "VGG16: Accuracy: 78.99%\n"
     ]
    },
    {
     "name": "stderr",
     "output_type": "stream",
     "text": [
      "100%|██████████| 196/196 [00:06<00:00, 32.10it/s]\n"
     ]
    },
    {
     "name": "stdout",
     "output_type": "stream",
     "text": [
      "ResNet18: Accuracy: 78.81%\n",
      "\n",
      "Corruption: elastic_transform\n"
     ]
    },
    {
     "name": "stderr",
     "output_type": "stream",
     "text": [
      "100%|██████████| 196/196 [00:05<00:00, 32.80it/s]\n"
     ]
    },
    {
     "name": "stdout",
     "output_type": "stream",
     "text": [
      "VGG16: Accuracy: 80.95%\n"
     ]
    },
    {
     "name": "stderr",
     "output_type": "stream",
     "text": [
      "100%|██████████| 196/196 [00:05<00:00, 33.17it/s]\n"
     ]
    },
    {
     "name": "stdout",
     "output_type": "stream",
     "text": [
      "ResNet18: Accuracy: 80.74%\n",
      "\n",
      "Corruption: fog\n"
     ]
    },
    {
     "name": "stderr",
     "output_type": "stream",
     "text": [
      "100%|██████████| 196/196 [00:06<00:00, 32.14it/s]\n"
     ]
    },
    {
     "name": "stdout",
     "output_type": "stream",
     "text": [
      "VGG16: Accuracy: 79.67%\n"
     ]
    },
    {
     "name": "stderr",
     "output_type": "stream",
     "text": [
      "100%|██████████| 196/196 [00:05<00:00, 33.29it/s]\n"
     ]
    },
    {
     "name": "stdout",
     "output_type": "stream",
     "text": [
      "ResNet18: Accuracy: 79.18%\n",
      "\n",
      "Corruption: frost\n"
     ]
    },
    {
     "name": "stderr",
     "output_type": "stream",
     "text": [
      "100%|██████████| 196/196 [00:05<00:00, 33.42it/s]\n"
     ]
    },
    {
     "name": "stdout",
     "output_type": "stream",
     "text": [
      "VGG16: Accuracy: 77.82%\n"
     ]
    },
    {
     "name": "stderr",
     "output_type": "stream",
     "text": [
      "100%|██████████| 196/196 [00:06<00:00, 30.29it/s]\n"
     ]
    },
    {
     "name": "stdout",
     "output_type": "stream",
     "text": [
      "ResNet18: Accuracy: 80.04%\n",
      "\n",
      "Corruption: gaussian_blur\n"
     ]
    },
    {
     "name": "stderr",
     "output_type": "stream",
     "text": [
      "100%|██████████| 196/196 [00:06<00:00, 31.89it/s]\n"
     ]
    },
    {
     "name": "stdout",
     "output_type": "stream",
     "text": [
      "VGG16: Accuracy: 74.15%\n"
     ]
    },
    {
     "name": "stderr",
     "output_type": "stream",
     "text": [
      "100%|██████████| 196/196 [00:06<00:00, 32.22it/s]\n"
     ]
    },
    {
     "name": "stdout",
     "output_type": "stream",
     "text": [
      "ResNet18: Accuracy: 74.14%\n",
      "\n",
      "Corruption: gaussian_noise\n"
     ]
    },
    {
     "name": "stderr",
     "output_type": "stream",
     "text": [
      "100%|██████████| 196/196 [00:06<00:00, 29.68it/s]\n"
     ]
    },
    {
     "name": "stdout",
     "output_type": "stream",
     "text": [
      "VGG16: Accuracy: 58.12%\n"
     ]
    },
    {
     "name": "stderr",
     "output_type": "stream",
     "text": [
      "100%|██████████| 196/196 [00:06<00:00, 30.07it/s]\n"
     ]
    },
    {
     "name": "stdout",
     "output_type": "stream",
     "text": [
      "ResNet18: Accuracy: 60.31%\n",
      "\n",
      "Corruption: glass_blur\n"
     ]
    },
    {
     "name": "stderr",
     "output_type": "stream",
     "text": [
      "100%|██████████| 196/196 [00:06<00:00, 30.45it/s]\n"
     ]
    },
    {
     "name": "stdout",
     "output_type": "stream",
     "text": [
      "VGG16: Accuracy: 72.72%\n"
     ]
    },
    {
     "name": "stderr",
     "output_type": "stream",
     "text": [
      "100%|██████████| 196/196 [00:05<00:00, 32.71it/s]\n"
     ]
    },
    {
     "name": "stdout",
     "output_type": "stream",
     "text": [
      "ResNet18: Accuracy: 73.21%\n",
      "\n",
      "Corruption: impulse_noise\n"
     ]
    },
    {
     "name": "stderr",
     "output_type": "stream",
     "text": [
      "100%|██████████| 196/196 [00:05<00:00, 33.10it/s]\n"
     ]
    },
    {
     "name": "stdout",
     "output_type": "stream",
     "text": [
      "VGG16: Accuracy: 63.86%\n"
     ]
    },
    {
     "name": "stderr",
     "output_type": "stream",
     "text": [
      "100%|██████████| 196/196 [00:06<00:00, 31.82it/s]\n"
     ]
    },
    {
     "name": "stdout",
     "output_type": "stream",
     "text": [
      "ResNet18: Accuracy: 64.26%\n",
      "\n",
      "Corruption: jpeg_compression\n"
     ]
    },
    {
     "name": "stderr",
     "output_type": "stream",
     "text": [
      "100%|██████████| 196/196 [00:06<00:00, 30.22it/s]\n"
     ]
    },
    {
     "name": "stdout",
     "output_type": "stream",
     "text": [
      "VGG16: Accuracy: 83.58%\n"
     ]
    },
    {
     "name": "stderr",
     "output_type": "stream",
     "text": [
      "100%|██████████| 196/196 [00:06<00:00, 31.59it/s]\n"
     ]
    },
    {
     "name": "stdout",
     "output_type": "stream",
     "text": [
      "ResNet18: Accuracy: 83.18%\n",
      "\n",
      "Corruption: motion_blur\n"
     ]
    },
    {
     "name": "stderr",
     "output_type": "stream",
     "text": [
      "100%|██████████| 196/196 [00:06<00:00, 30.73it/s]\n"
     ]
    },
    {
     "name": "stdout",
     "output_type": "stream",
     "text": [
      "VGG16: Accuracy: 74.29%\n"
     ]
    },
    {
     "name": "stderr",
     "output_type": "stream",
     "text": [
      "100%|██████████| 196/196 [00:06<00:00, 31.23it/s]\n"
     ]
    },
    {
     "name": "stdout",
     "output_type": "stream",
     "text": [
      "ResNet18: Accuracy: 72.65%\n",
      "\n",
      "Corruption: pixelate\n"
     ]
    },
    {
     "name": "stderr",
     "output_type": "stream",
     "text": [
      "100%|██████████| 196/196 [00:06<00:00, 30.68it/s]\n"
     ]
    },
    {
     "name": "stdout",
     "output_type": "stream",
     "text": [
      "VGG16: Accuracy: 85.71%\n"
     ]
    },
    {
     "name": "stderr",
     "output_type": "stream",
     "text": [
      "100%|██████████| 196/196 [00:06<00:00, 29.86it/s]\n"
     ]
    },
    {
     "name": "stdout",
     "output_type": "stream",
     "text": [
      "ResNet18: Accuracy: 85.63%\n",
      "\n",
      "Corruption: saturate\n"
     ]
    },
    {
     "name": "stderr",
     "output_type": "stream",
     "text": [
      "100%|██████████| 196/196 [00:06<00:00, 31.33it/s]\n"
     ]
    },
    {
     "name": "stdout",
     "output_type": "stream",
     "text": [
      "VGG16: Accuracy: 84.49%\n"
     ]
    },
    {
     "name": "stderr",
     "output_type": "stream",
     "text": [
      "100%|██████████| 196/196 [00:06<00:00, 28.39it/s]\n"
     ]
    },
    {
     "name": "stdout",
     "output_type": "stream",
     "text": [
      "ResNet18: Accuracy: 83.41%\n",
      "\n",
      "Corruption: shot_noise\n"
     ]
    },
    {
     "name": "stderr",
     "output_type": "stream",
     "text": [
      "100%|██████████| 196/196 [00:06<00:00, 32.20it/s]\n"
     ]
    },
    {
     "name": "stdout",
     "output_type": "stream",
     "text": [
      "VGG16: Accuracy: 66.03%\n"
     ]
    },
    {
     "name": "stderr",
     "output_type": "stream",
     "text": [
      "100%|██████████| 196/196 [00:06<00:00, 30.80it/s]\n"
     ]
    },
    {
     "name": "stdout",
     "output_type": "stream",
     "text": [
      "ResNet18: Accuracy: 67.33%\n",
      "\n",
      "Corruption: snow\n"
     ]
    },
    {
     "name": "stderr",
     "output_type": "stream",
     "text": [
      "100%|██████████| 196/196 [00:06<00:00, 30.67it/s]\n"
     ]
    },
    {
     "name": "stdout",
     "output_type": "stream",
     "text": [
      "VGG16: Accuracy: 80.37%\n"
     ]
    },
    {
     "name": "stderr",
     "output_type": "stream",
     "text": [
      "100%|██████████| 196/196 [00:06<00:00, 31.05it/s]\n"
     ]
    },
    {
     "name": "stdout",
     "output_type": "stream",
     "text": [
      "ResNet18: Accuracy: 80.16%\n",
      "\n",
      "Corruption: spatter\n"
     ]
    },
    {
     "name": "stderr",
     "output_type": "stream",
     "text": [
      "100%|██████████| 196/196 [00:06<00:00, 30.17it/s]\n"
     ]
    },
    {
     "name": "stdout",
     "output_type": "stream",
     "text": [
      "VGG16: Accuracy: 83.63%\n"
     ]
    },
    {
     "name": "stderr",
     "output_type": "stream",
     "text": [
      "100%|██████████| 196/196 [00:06<00:00, 29.97it/s]\n"
     ]
    },
    {
     "name": "stdout",
     "output_type": "stream",
     "text": [
      "ResNet18: Accuracy: 83.96%\n",
      "\n",
      "Corruption: speckle_noise\n"
     ]
    },
    {
     "name": "stderr",
     "output_type": "stream",
     "text": [
      "100%|██████████| 196/196 [00:06<00:00, 28.42it/s]\n"
     ]
    },
    {
     "name": "stdout",
     "output_type": "stream",
     "text": [
      "VGG16: Accuracy: 67.52%\n"
     ]
    },
    {
     "name": "stderr",
     "output_type": "stream",
     "text": [
      "100%|██████████| 196/196 [00:06<00:00, 30.99it/s]\n"
     ]
    },
    {
     "name": "stdout",
     "output_type": "stream",
     "text": [
      "ResNet18: Accuracy: 67.89%\n",
      "\n",
      "Corruption: zoom_blur\n"
     ]
    },
    {
     "name": "stderr",
     "output_type": "stream",
     "text": [
      "100%|██████████| 196/196 [00:06<00:00, 31.73it/s]\n"
     ]
    },
    {
     "name": "stdout",
     "output_type": "stream",
     "text": [
      "VGG16: Accuracy: 75.37%\n"
     ]
    },
    {
     "name": "stderr",
     "output_type": "stream",
     "text": [
      "100%|██████████| 196/196 [00:06<00:00, 30.58it/s]"
     ]
    },
    {
     "name": "stdout",
     "output_type": "stream",
     "text": [
      "ResNet18: Accuracy: 75.86%\n"
     ]
    },
    {
     "name": "stderr",
     "output_type": "stream",
     "text": [
      "\n"
     ]
    }
   ],
   "source": [
    "CIFAR10C_Corruptions=list(loader_CIFAR10C.keys())\n",
    "Acc_VGG16_CIFAR10C_Corruptions={}\n",
    "Acc_ResNet18_CIFAR10C_Corruptions={}\n",
    "\n",
    "for cname in CIFAR10C_Corruptions:\n",
    "    #corruption name and corruption number\n",
    "    \n",
    "    print(f\"\\nCorruption: {cname}\")\n",
    "\n",
    "    loss, acc, misclassified=Evaluate_Model_TOP1(VGG16_CIFAR10_0P, device, loader_CIFAR10C[cname]) #VGG16 on CIFAR10C\n",
    "    Acc_VGG16_CIFAR10C_Corruptions[cname]=acc\n",
    "    print(f\"VGG16: Accuracy: {acc:.2f}%\")\n",
    "\n",
    "\n",
    "    loss, acc, misclassified=Evaluate_Model_TOP1(ResNet18_CIFAR10_0P, device, loader_CIFAR10C[cname]) #ResNet18 on CIFAR10\n",
    "    Acc_ResNet18_CIFAR10C_Corruptions[cname]=acc  \n",
    "    print(f\"ResNet18: Accuracy: {acc:.2f}%\")"
   ]
  },
  {
   "cell_type": "markdown",
   "metadata": {},
   "source": [
    "## Tiny Imagenet C"
   ]
  },
  {
   "cell_type": "code",
   "execution_count": 4,
   "metadata": {},
   "outputs": [
    {
     "name": "stderr",
     "output_type": "stream",
     "text": [
      "  0%|          | 0/19 [00:00<?, ?it/s]"
     ]
    },
    {
     "name": "stdout",
     "output_type": "stream",
     "text": [
      "\n",
      "Corruption: brightness\n"
     ]
    },
    {
     "name": "stderr",
     "output_type": "stream",
     "text": [
      "100%|██████████| 157/157 [00:03<00:00, 44.18it/s]\n",
      "100%|██████████| 157/157 [00:04<00:00, 36.40it/s]\n",
      "100%|██████████| 157/157 [00:03<00:00, 48.24it/s]\n",
      "100%|██████████| 157/157 [00:03<00:00, 43.31it/s]\n",
      "100%|██████████| 157/157 [00:03<00:00, 47.49it/s]\n",
      "100%|██████████| 157/157 [00:03<00:00, 41.67it/s]\n",
      "100%|██████████| 157/157 [00:03<00:00, 47.04it/s]\n",
      "100%|██████████| 157/157 [00:04<00:00, 38.58it/s]\n",
      "100%|██████████| 157/157 [00:03<00:00, 48.69it/s]\n",
      "100%|██████████| 157/157 [00:03<00:00, 40.49it/s]\n",
      "  5%|▌         | 1/19 [00:36<10:55, 36.44s/it]"
     ]
    },
    {
     "name": "stdout",
     "output_type": "stream",
     "text": [
      "\n",
      "Corruption: contrast\n"
     ]
    },
    {
     "name": "stderr",
     "output_type": "stream",
     "text": [
      "100%|██████████| 157/157 [00:03<00:00, 49.41it/s]\n",
      "100%|██████████| 157/157 [00:03<00:00, 39.51it/s]\n",
      "100%|██████████| 157/157 [00:03<00:00, 49.01it/s]\n",
      "100%|██████████| 157/157 [00:03<00:00, 39.94it/s]\n",
      "100%|██████████| 157/157 [00:03<00:00, 48.91it/s]\n",
      "100%|██████████| 157/157 [00:04<00:00, 38.78it/s]\n",
      "100%|██████████| 157/157 [00:03<00:00, 49.52it/s]\n",
      "100%|██████████| 157/157 [00:03<00:00, 40.28it/s]\n",
      "100%|██████████| 157/157 [00:03<00:00, 49.47it/s]\n",
      "100%|██████████| 157/157 [00:04<00:00, 39.19it/s]\n",
      " 11%|█         | 2/19 [01:12<10:13, 36.10s/it]"
     ]
    },
    {
     "name": "stdout",
     "output_type": "stream",
     "text": [
      "\n",
      "Corruption: defocus_blur\n"
     ]
    },
    {
     "name": "stderr",
     "output_type": "stream",
     "text": [
      "100%|██████████| 157/157 [00:03<00:00, 42.78it/s]\n",
      "100%|██████████| 157/157 [00:04<00:00, 38.27it/s]\n",
      "100%|██████████| 157/157 [00:03<00:00, 45.52it/s]\n",
      "100%|██████████| 157/157 [00:04<00:00, 34.35it/s]\n",
      "100%|██████████| 157/157 [00:03<00:00, 44.85it/s]\n",
      "100%|██████████| 157/157 [00:04<00:00, 37.14it/s]\n",
      "100%|██████████| 157/157 [00:03<00:00, 45.93it/s]\n",
      "100%|██████████| 157/157 [00:04<00:00, 33.55it/s]\n",
      "100%|██████████| 157/157 [00:03<00:00, 47.25it/s]\n",
      "100%|██████████| 157/157 [00:04<00:00, 37.15it/s]\n",
      " 16%|█▌        | 3/19 [01:51<10:00, 37.54s/it]"
     ]
    },
    {
     "name": "stdout",
     "output_type": "stream",
     "text": [
      "\n",
      "Corruption: elastic_transform\n"
     ]
    },
    {
     "name": "stderr",
     "output_type": "stream",
     "text": [
      "100%|██████████| 157/157 [00:03<00:00, 45.95it/s]\n",
      "100%|██████████| 157/157 [00:04<00:00, 38.72it/s]\n",
      "100%|██████████| 157/157 [00:03<00:00, 46.07it/s]\n",
      "100%|██████████| 157/157 [00:04<00:00, 37.61it/s]\n",
      "100%|██████████| 157/157 [00:03<00:00, 45.75it/s]\n",
      "100%|██████████| 157/157 [00:04<00:00, 34.25it/s]\n",
      "100%|██████████| 157/157 [00:03<00:00, 45.65it/s]\n",
      "100%|██████████| 157/157 [00:04<00:00, 37.11it/s]\n",
      "100%|██████████| 157/157 [00:03<00:00, 44.90it/s]\n",
      "100%|██████████| 157/157 [00:04<00:00, 36.40it/s]\n",
      " 21%|██        | 4/19 [02:30<09:29, 37.97s/it]"
     ]
    },
    {
     "name": "stdout",
     "output_type": "stream",
     "text": [
      "\n",
      "Corruption: fog\n"
     ]
    },
    {
     "name": "stderr",
     "output_type": "stream",
     "text": [
      "100%|██████████| 157/157 [00:03<00:00, 42.55it/s]\n",
      "100%|██████████| 157/157 [00:04<00:00, 37.58it/s]\n",
      "100%|██████████| 157/157 [00:03<00:00, 45.10it/s]\n",
      "100%|██████████| 157/157 [00:04<00:00, 37.67it/s]\n",
      "100%|██████████| 157/157 [00:03<00:00, 45.00it/s]\n",
      "100%|██████████| 157/157 [00:04<00:00, 37.10it/s]\n",
      "100%|██████████| 157/157 [00:04<00:00, 39.09it/s]\n",
      "100%|██████████| 157/157 [00:04<00:00, 36.58it/s]\n",
      "100%|██████████| 157/157 [00:03<00:00, 42.27it/s]\n",
      "100%|██████████| 157/157 [00:04<00:00, 36.40it/s]\n",
      " 26%|██▋       | 5/19 [03:09<08:59, 38.57s/it]"
     ]
    },
    {
     "name": "stdout",
     "output_type": "stream",
     "text": [
      "\n",
      "Corruption: frost\n"
     ]
    },
    {
     "name": "stderr",
     "output_type": "stream",
     "text": [
      "100%|██████████| 157/157 [00:03<00:00, 42.11it/s]\n",
      "100%|██████████| 157/157 [00:04<00:00, 37.53it/s]\n",
      "100%|██████████| 157/157 [00:03<00:00, 42.80it/s]\n",
      "100%|██████████| 157/157 [00:04<00:00, 36.79it/s]\n",
      "100%|██████████| 157/157 [00:03<00:00, 43.48it/s]\n",
      "100%|██████████| 157/157 [00:04<00:00, 36.61it/s]\n",
      "100%|██████████| 157/157 [00:03<00:00, 42.13it/s]\n",
      "100%|██████████| 157/157 [00:04<00:00, 36.67it/s]\n",
      "100%|██████████| 157/157 [00:03<00:00, 42.21it/s]\n",
      "100%|██████████| 157/157 [00:04<00:00, 36.57it/s]\n",
      " 32%|███▏      | 6/19 [03:49<08:27, 39.00s/it]"
     ]
    },
    {
     "name": "stdout",
     "output_type": "stream",
     "text": [
      "\n",
      "Corruption: gaussian_blur\n"
     ]
    },
    {
     "name": "stderr",
     "output_type": "stream",
     "text": [
      "100%|██████████| 157/157 [00:04<00:00, 34.26it/s]\n",
      "100%|██████████| 157/157 [00:04<00:00, 36.62it/s]\n",
      "100%|██████████| 157/157 [00:03<00:00, 42.57it/s]\n",
      "100%|██████████| 157/157 [00:04<00:00, 34.87it/s]\n",
      "100%|██████████| 157/157 [00:03<00:00, 42.40it/s]\n",
      "100%|██████████| 157/157 [00:04<00:00, 35.33it/s]\n",
      "100%|██████████| 157/157 [00:03<00:00, 41.58it/s]\n",
      "100%|██████████| 157/157 [00:04<00:00, 35.67it/s]\n",
      "100%|██████████| 157/157 [00:03<00:00, 42.21it/s]\n",
      "100%|██████████| 157/157 [00:04<00:00, 35.14it/s]\n",
      " 37%|███▋      | 7/19 [04:31<07:58, 39.87s/it]"
     ]
    },
    {
     "name": "stdout",
     "output_type": "stream",
     "text": [
      "\n",
      "Corruption: gaussian_noise\n"
     ]
    },
    {
     "name": "stderr",
     "output_type": "stream",
     "text": [
      "100%|██████████| 157/157 [00:03<00:00, 40.88it/s]\n",
      "100%|██████████| 157/157 [00:04<00:00, 34.66it/s]\n",
      "100%|██████████| 157/157 [00:03<00:00, 40.14it/s]\n",
      "100%|██████████| 157/157 [00:04<00:00, 35.25it/s]\n",
      "100%|██████████| 157/157 [00:04<00:00, 39.08it/s]\n",
      "100%|██████████| 157/157 [00:04<00:00, 34.53it/s]\n",
      "100%|██████████| 157/157 [00:06<00:00, 25.56it/s]\n",
      "100%|██████████| 157/157 [00:04<00:00, 33.97it/s]\n",
      "100%|██████████| 157/157 [00:04<00:00, 37.72it/s]\n",
      "100%|██████████| 157/157 [00:05<00:00, 31.19it/s]\n",
      " 42%|████▏     | 8/19 [05:16<07:37, 41.61s/it]"
     ]
    },
    {
     "name": "stdout",
     "output_type": "stream",
     "text": [
      "\n",
      "Corruption: glass_blur\n"
     ]
    },
    {
     "name": "stderr",
     "output_type": "stream",
     "text": [
      "100%|██████████| 157/157 [00:04<00:00, 39.01it/s]\n",
      "100%|██████████| 157/157 [00:04<00:00, 35.58it/s]\n",
      "100%|██████████| 157/157 [00:03<00:00, 39.29it/s]\n",
      "100%|██████████| 157/157 [00:04<00:00, 33.61it/s]\n",
      "100%|██████████| 157/157 [00:04<00:00, 38.70it/s]\n",
      "100%|██████████| 157/157 [00:04<00:00, 33.82it/s]\n",
      "100%|██████████| 157/157 [00:04<00:00, 38.08it/s]\n",
      "100%|██████████| 157/157 [00:04<00:00, 32.72it/s]\n",
      "100%|██████████| 157/157 [00:04<00:00, 37.93it/s]\n",
      "100%|██████████| 157/157 [00:04<00:00, 32.82it/s]\n",
      " 47%|████▋     | 9/19 [06:00<07:02, 42.27s/it]"
     ]
    },
    {
     "name": "stdout",
     "output_type": "stream",
     "text": [
      "\n",
      "Corruption: impulse_noise\n"
     ]
    },
    {
     "name": "stderr",
     "output_type": "stream",
     "text": [
      "100%|██████████| 157/157 [00:04<00:00, 38.01it/s]\n",
      "100%|██████████| 157/157 [00:04<00:00, 33.37it/s]\n",
      "100%|██████████| 157/157 [00:04<00:00, 36.39it/s]\n",
      "100%|██████████| 157/157 [00:04<00:00, 33.63it/s]\n",
      "100%|██████████| 157/157 [00:04<00:00, 36.76it/s]\n",
      "100%|██████████| 157/157 [00:04<00:00, 31.72it/s]\n",
      "100%|██████████| 157/157 [00:06<00:00, 22.64it/s]\n",
      "100%|██████████| 157/157 [00:04<00:00, 32.59it/s]\n",
      "100%|██████████| 157/157 [00:04<00:00, 35.31it/s]\n",
      "100%|██████████| 157/157 [00:04<00:00, 32.09it/s]\n",
      " 53%|█████▎    | 10/19 [06:48<06:36, 44.10s/it]"
     ]
    },
    {
     "name": "stdout",
     "output_type": "stream",
     "text": [
      "\n",
      "Corruption: jpeg_compression\n"
     ]
    },
    {
     "name": "stderr",
     "output_type": "stream",
     "text": [
      "100%|██████████| 157/157 [00:04<00:00, 37.88it/s]\n",
      "100%|██████████| 157/157 [00:04<00:00, 31.69it/s]\n",
      "100%|██████████| 157/157 [00:04<00:00, 36.35it/s]\n",
      "100%|██████████| 157/157 [00:04<00:00, 31.79it/s]\n",
      "100%|██████████| 157/157 [00:04<00:00, 36.68it/s]\n",
      "100%|██████████| 157/157 [00:04<00:00, 32.03it/s]\n",
      "100%|██████████| 157/157 [00:04<00:00, 36.43it/s]\n",
      "100%|██████████| 157/157 [00:04<00:00, 31.65it/s]\n",
      "100%|██████████| 157/157 [00:04<00:00, 36.21it/s]\n",
      "100%|██████████| 157/157 [00:05<00:00, 31.01it/s]\n",
      " 58%|█████▊    | 11/19 [07:34<05:58, 44.77s/it]"
     ]
    },
    {
     "name": "stdout",
     "output_type": "stream",
     "text": [
      "\n",
      "Corruption: motion_blur\n"
     ]
    },
    {
     "name": "stderr",
     "output_type": "stream",
     "text": [
      "100%|██████████| 157/157 [00:04<00:00, 36.49it/s]\n",
      "100%|██████████| 157/157 [00:05<00:00, 31.19it/s]\n",
      "100%|██████████| 157/157 [00:04<00:00, 36.51it/s]\n",
      "100%|██████████| 157/157 [00:05<00:00, 30.65it/s]\n",
      "100%|██████████| 157/157 [00:04<00:00, 35.54it/s]\n",
      "100%|██████████| 157/157 [00:05<00:00, 31.01it/s]\n",
      "100%|██████████| 157/157 [00:04<00:00, 37.09it/s]\n",
      "100%|██████████| 157/157 [00:05<00:00, 29.77it/s]\n",
      "100%|██████████| 157/157 [00:04<00:00, 35.65it/s]\n",
      "100%|██████████| 157/157 [00:05<00:00, 29.91it/s]\n",
      " 63%|██████▎   | 12/19 [08:22<05:19, 45.59s/it]"
     ]
    },
    {
     "name": "stdout",
     "output_type": "stream",
     "text": [
      "\n",
      "Corruption: pixelate\n"
     ]
    },
    {
     "name": "stderr",
     "output_type": "stream",
     "text": [
      "100%|██████████| 157/157 [00:04<00:00, 34.29it/s]\n",
      "100%|██████████| 157/157 [00:06<00:00, 24.16it/s]\n",
      "100%|██████████| 157/157 [00:04<00:00, 34.12it/s]\n",
      "100%|██████████| 157/157 [00:05<00:00, 30.85it/s]\n",
      "100%|██████████| 157/157 [00:04<00:00, 34.14it/s]\n",
      "100%|██████████| 157/157 [00:05<00:00, 30.68it/s]\n",
      "100%|██████████| 157/157 [00:04<00:00, 34.25it/s]\n",
      "100%|██████████| 157/157 [00:05<00:00, 30.51it/s]\n",
      "100%|██████████| 157/157 [00:04<00:00, 34.33it/s]\n",
      "100%|██████████| 157/157 [00:05<00:00, 29.92it/s]\n",
      " 68%|██████▊   | 13/19 [09:12<04:41, 46.96s/it]"
     ]
    },
    {
     "name": "stdout",
     "output_type": "stream",
     "text": [
      "\n",
      "Corruption: saturate\n"
     ]
    },
    {
     "name": "stderr",
     "output_type": "stream",
     "text": [
      "100%|██████████| 157/157 [00:04<00:00, 33.69it/s]\n",
      "100%|██████████| 157/157 [00:05<00:00, 29.74it/s]\n",
      "100%|██████████| 157/157 [00:04<00:00, 33.90it/s]\n",
      "100%|██████████| 157/157 [00:05<00:00, 29.19it/s]\n",
      "100%|██████████| 157/157 [00:04<00:00, 33.20it/s]\n",
      "100%|██████████| 157/157 [00:05<00:00, 29.76it/s]\n",
      "100%|██████████| 157/157 [00:04<00:00, 33.23it/s]\n",
      "100%|██████████| 157/157 [00:05<00:00, 29.09it/s]\n",
      "100%|██████████| 157/157 [00:04<00:00, 32.26it/s]\n",
      "100%|██████████| 157/157 [00:05<00:00, 29.07it/s]\n",
      " 74%|███████▎  | 14/19 [10:02<04:00, 48.01s/it]"
     ]
    },
    {
     "name": "stdout",
     "output_type": "stream",
     "text": [
      "\n",
      "Corruption: shot_noise\n"
     ]
    },
    {
     "name": "stderr",
     "output_type": "stream",
     "text": [
      "100%|██████████| 157/157 [00:04<00:00, 32.77it/s]\n",
      "100%|██████████| 157/157 [00:05<00:00, 30.09it/s]\n",
      "100%|██████████| 157/157 [00:04<00:00, 32.21it/s]\n",
      "100%|██████████| 157/157 [00:05<00:00, 28.98it/s]\n",
      "100%|██████████| 157/157 [00:04<00:00, 32.37it/s]\n",
      "100%|██████████| 157/157 [00:05<00:00, 28.57it/s]\n",
      "100%|██████████| 157/157 [00:04<00:00, 31.72it/s]\n",
      "100%|██████████| 157/157 [00:05<00:00, 27.98it/s]\n",
      "100%|██████████| 157/157 [00:04<00:00, 31.49it/s]\n",
      "100%|██████████| 157/157 [00:05<00:00, 28.32it/s]\n",
      " 79%|███████▉  | 15/19 [10:54<03:16, 49.16s/it]"
     ]
    },
    {
     "name": "stdout",
     "output_type": "stream",
     "text": [
      "\n",
      "Corruption: snow\n"
     ]
    },
    {
     "name": "stderr",
     "output_type": "stream",
     "text": [
      "100%|██████████| 157/157 [00:04<00:00, 32.40it/s]\n",
      "100%|██████████| 157/157 [00:05<00:00, 28.45it/s]\n",
      "100%|██████████| 157/157 [00:04<00:00, 32.16it/s]\n",
      "100%|██████████| 157/157 [00:05<00:00, 28.25it/s]\n",
      "100%|██████████| 157/157 [00:04<00:00, 32.03it/s]\n",
      "100%|██████████| 157/157 [00:07<00:00, 21.52it/s]\n",
      "100%|██████████| 157/157 [00:04<00:00, 31.79it/s]\n",
      "100%|██████████| 157/157 [00:05<00:00, 27.78it/s]\n",
      "100%|██████████| 157/157 [00:05<00:00, 31.19it/s]\n",
      "100%|██████████| 157/157 [00:05<00:00, 27.19it/s]\n",
      " 84%|████████▍ | 16/19 [11:49<02:32, 50.76s/it]"
     ]
    },
    {
     "name": "stdout",
     "output_type": "stream",
     "text": [
      "\n",
      "Corruption: spatter\n"
     ]
    },
    {
     "name": "stderr",
     "output_type": "stream",
     "text": [
      "100%|██████████| 157/157 [00:05<00:00, 31.27it/s]\n",
      "100%|██████████| 157/157 [00:05<00:00, 28.39it/s]\n",
      "100%|██████████| 157/157 [00:05<00:00, 30.94it/s]\n",
      "100%|██████████| 157/157 [00:05<00:00, 27.55it/s]\n",
      "100%|██████████| 157/157 [00:05<00:00, 30.13it/s]\n",
      "100%|██████████| 157/157 [00:05<00:00, 27.44it/s]\n",
      "100%|██████████| 157/157 [00:05<00:00, 30.49it/s]\n",
      "100%|██████████| 157/157 [00:05<00:00, 27.49it/s]\n",
      "100%|██████████| 157/157 [00:05<00:00, 29.86it/s]\n",
      "100%|██████████| 157/157 [00:05<00:00, 27.60it/s]\n",
      " 89%|████████▉ | 17/19 [12:43<01:43, 51.77s/it]"
     ]
    },
    {
     "name": "stdout",
     "output_type": "stream",
     "text": [
      "\n",
      "Corruption: speckle_noise\n"
     ]
    },
    {
     "name": "stderr",
     "output_type": "stream",
     "text": [
      "100%|██████████| 157/157 [00:05<00:00, 28.20it/s]\n",
      "100%|██████████| 157/157 [00:05<00:00, 27.29it/s]\n",
      "100%|██████████| 157/157 [00:05<00:00, 30.02it/s]\n",
      "100%|██████████| 157/157 [00:05<00:00, 27.30it/s]\n",
      "100%|██████████| 157/157 [00:05<00:00, 27.79it/s]\n",
      "100%|██████████| 157/157 [00:05<00:00, 26.64it/s]\n",
      "100%|██████████| 157/157 [00:05<00:00, 27.49it/s]\n",
      "100%|██████████| 157/157 [00:05<00:00, 27.00it/s]\n",
      "100%|██████████| 157/157 [00:05<00:00, 27.98it/s]\n",
      "100%|██████████| 157/157 [00:05<00:00, 26.37it/s]\n",
      " 95%|█████████▍| 18/19 [13:40<00:53, 53.35s/it]"
     ]
    },
    {
     "name": "stdout",
     "output_type": "stream",
     "text": [
      "\n",
      "Corruption: zoom_blur\n"
     ]
    },
    {
     "name": "stderr",
     "output_type": "stream",
     "text": [
      "100%|██████████| 157/157 [00:05<00:00, 29.90it/s]\n",
      "100%|██████████| 157/157 [00:05<00:00, 26.77it/s]\n",
      "100%|██████████| 157/157 [00:05<00:00, 30.10it/s]\n",
      "100%|██████████| 157/157 [00:06<00:00, 26.16it/s]\n",
      "100%|██████████| 157/157 [00:05<00:00, 29.48it/s]\n",
      "100%|██████████| 157/157 [00:05<00:00, 26.24it/s]\n",
      "100%|██████████| 157/157 [00:05<00:00, 30.05it/s]\n",
      "100%|██████████| 157/157 [00:06<00:00, 26.08it/s]\n",
      "100%|██████████| 157/157 [00:05<00:00, 29.40it/s]\n",
      "100%|██████████| 157/157 [00:06<00:00, 25.80it/s]\n",
      "100%|██████████| 19/19 [14:36<00:00, 46.14s/it]\n"
     ]
    }
   ],
   "source": [
    "TinyImagenetC_CorruptionClasses=list(loader_TinyImagenetC.keys())\n",
    "TinyImagenetC_CorruptionLevels=list(loader_TinyImagenetC[TinyImagenetC_CorruptionClasses[0]].keys())\n",
    "\n",
    "Acc_VGG16_TINY_IMAG_C_Corruptions={}\n",
    "Acc_ResNet18_TINY_IMAG_CCorruptions={}\n",
    "\n",
    "for cname in tqdm(TinyImagenetC_CorruptionClasses):\n",
    "    print(f\"\\nCorruption: {cname}\")\n",
    "    for clevel in TinyImagenetC_CorruptionLevels:\n",
    "\n",
    "        loss, acc, misclassified=Evaluate_Model_TOP1(VGG16_TINYIMAGENET_0P, device, loader_TinyImagenetC[cname][clevel])\n",
    "        Acc_VGG16_TINY_IMAG_C_Corruptions[cname+\"_\"+clevel]=acc\n",
    "\n",
    "        loss, acc, misclassified=Evaluate_Model_TOP1(ResNet18_TINYIMAGENET_0P, device, loader_TinyImagenetC[cname][clevel])\n",
    "        Acc_ResNet18_TINY_IMAG_CCorruptions[cname+\"_\"+clevel]=acc\n",
    "\n"
   ]
  },
  {
   "cell_type": "code",
   "execution_count": 5,
   "metadata": {},
   "outputs": [
    {
     "data": {
      "text/plain": [
       "{'brightness_1': 36.08,\n",
       " 'brightness_2': 34.29,\n",
       " 'brightness_3': 30.52,\n",
       " 'brightness_4': 25.84,\n",
       " 'brightness_5': 19.87,\n",
       " 'contrast_1': 21.94,\n",
       " 'contrast_2': 14.91,\n",
       " 'contrast_3': 7.84,\n",
       " 'contrast_4': 2.56,\n",
       " 'contrast_5': 1.47,\n",
       " 'defocus_blur_1': 17.38,\n",
       " 'defocus_blur_2': 14.24,\n",
       " 'defocus_blur_3': 8.67,\n",
       " 'defocus_blur_4': 4.25,\n",
       " 'defocus_blur_5': 3.19,\n",
       " 'elastic_transform_1': 23.21,\n",
       " 'elastic_transform_2': 22.58,\n",
       " 'elastic_transform_3': 18.38,\n",
       " 'elastic_transform_4': 17.25,\n",
       " 'elastic_transform_5': 16.83,\n",
       " 'fog_1': 33.44,\n",
       " 'fog_2': 28.26,\n",
       " 'fog_3': 22.61,\n",
       " 'fog_4': 13.41,\n",
       " 'fog_5': 7.48,\n",
       " 'frost_1': 31.7,\n",
       " 'frost_2': 27.12,\n",
       " 'frost_3': 23.49,\n",
       " 'frost_4': 20.5,\n",
       " 'frost_5': 17.63,\n",
       " 'gaussian_blur_1': 23.87,\n",
       " 'gaussian_blur_2': 12.03,\n",
       " 'gaussian_blur_3': 7.36,\n",
       " 'gaussian_blur_4': 5.03,\n",
       " 'gaussian_blur_5': 3.95,\n",
       " 'gaussian_noise_1': 34.89,\n",
       " 'gaussian_noise_2': 21.8,\n",
       " 'gaussian_noise_3': 11.87,\n",
       " 'gaussian_noise_4': 7.52,\n",
       " 'gaussian_noise_5': 5.2,\n",
       " 'glass_blur_1': 38.79,\n",
       " 'glass_blur_2': 17.63,\n",
       " 'glass_blur_3': 10.25,\n",
       " 'glass_blur_4': 6.73,\n",
       " 'glass_blur_5': 3.82,\n",
       " 'impulse_noise_1': 35.91,\n",
       " 'impulse_noise_2': 30.03,\n",
       " 'impulse_noise_3': 16.55,\n",
       " 'impulse_noise_4': 9.17,\n",
       " 'impulse_noise_5': 3.75,\n",
       " 'jpeg_compression_1': 29.7,\n",
       " 'jpeg_compression_2': 31.67,\n",
       " 'jpeg_compression_3': 27.78,\n",
       " 'jpeg_compression_4': 26.33,\n",
       " 'jpeg_compression_5': 21.12,\n",
       " 'motion_blur_1': 22.2,\n",
       " 'motion_blur_2': 17.03,\n",
       " 'motion_blur_3': 13.11,\n",
       " 'motion_blur_4': 10.51,\n",
       " 'motion_blur_5': 8.86,\n",
       " 'pixelate_1': 38.87,\n",
       " 'pixelate_2': 39.54,\n",
       " 'pixelate_3': 39.21,\n",
       " 'pixelate_4': 36.87,\n",
       " 'pixelate_5': 32.82,\n",
       " 'saturate_1': 24.68,\n",
       " 'saturate_2': 17.5,\n",
       " 'saturate_3': 33.0,\n",
       " 'saturate_4': 24.08,\n",
       " 'saturate_5': 17.99,\n",
       " 'shot_noise_1': 33.58,\n",
       " 'shot_noise_2': 25.88,\n",
       " 'shot_noise_3': 17.46,\n",
       " 'shot_noise_4': 12.02,\n",
       " 'shot_noise_5': 6.7,\n",
       " 'snow_1': 33.47,\n",
       " 'snow_2': 26.03,\n",
       " 'snow_3': 22.7,\n",
       " 'snow_4': 15.67,\n",
       " 'snow_5': 16.99,\n",
       " 'spatter_1': 37.24,\n",
       " 'spatter_2': 28.77,\n",
       " 'spatter_3': 19.83,\n",
       " 'spatter_4': 26.92,\n",
       " 'spatter_5': 24.49,\n",
       " 'speckle_noise_1': 24.03,\n",
       " 'speckle_noise_2': 18.29,\n",
       " 'speckle_noise_3': 13.89,\n",
       " 'speckle_noise_4': 10.9,\n",
       " 'speckle_noise_5': 8.52,\n",
       " 'zoom_blur_1': 16.29,\n",
       " 'zoom_blur_2': 12.0,\n",
       " 'zoom_blur_3': 9.79,\n",
       " 'zoom_blur_4': 7.85,\n",
       " 'zoom_blur_5': 6.74}"
      ]
     },
     "execution_count": 5,
     "metadata": {},
     "output_type": "execute_result"
    }
   ],
   "source": [
    "Acc_ResNet18_TINY_IMAG_CCorruptions\n"
   ]
  },
  {
   "cell_type": "code",
   "execution_count": 6,
   "metadata": {},
   "outputs": [
    {
     "data": {
      "text/plain": [
       "{'brightness_1': 33.97,\n",
       " 'brightness_2': 31.58,\n",
       " 'brightness_3': 28.08,\n",
       " 'brightness_4': 23.43,\n",
       " 'brightness_5': 18.57,\n",
       " 'contrast_1': 20.32,\n",
       " 'contrast_2': 13.42,\n",
       " 'contrast_3': 7.07,\n",
       " 'contrast_4': 2.29,\n",
       " 'contrast_5': 1.15,\n",
       " 'defocus_blur_1': 19.52,\n",
       " 'defocus_blur_2': 16.38,\n",
       " 'defocus_blur_3': 11.84,\n",
       " 'defocus_blur_4': 6.54,\n",
       " 'defocus_blur_5': 5.12,\n",
       " 'elastic_transform_1': 23.85,\n",
       " 'elastic_transform_2': 23.62,\n",
       " 'elastic_transform_3': 20.19,\n",
       " 'elastic_transform_4': 18.84,\n",
       " 'elastic_transform_5': 18.15,\n",
       " 'fog_1': 32.26,\n",
       " 'fog_2': 27.29,\n",
       " 'fog_3': 21.68,\n",
       " 'fog_4': 13.19,\n",
       " 'fog_5': 7.74,\n",
       " 'frost_1': 31.09,\n",
       " 'frost_2': 27.88,\n",
       " 'frost_3': 24.58,\n",
       " 'frost_4': 21.77,\n",
       " 'frost_5': 18.92,\n",
       " 'gaussian_blur_1': 24.87,\n",
       " 'gaussian_blur_2': 14.62,\n",
       " 'gaussian_blur_3': 10.44,\n",
       " 'gaussian_blur_4': 7.62,\n",
       " 'gaussian_blur_5': 5.97,\n",
       " 'gaussian_noise_1': 33.38,\n",
       " 'gaussian_noise_2': 22.54,\n",
       " 'gaussian_noise_3': 13.07,\n",
       " 'gaussian_noise_4': 9.11,\n",
       " 'gaussian_noise_5': 6.46,\n",
       " 'glass_blur_1': 36.75,\n",
       " 'glass_blur_2': 19.14,\n",
       " 'glass_blur_3': 12.41,\n",
       " 'glass_blur_4': 8.72,\n",
       " 'glass_blur_5': 5.27,\n",
       " 'impulse_noise_1': 33.5,\n",
       " 'impulse_noise_2': 28.84,\n",
       " 'impulse_noise_3': 18.14,\n",
       " 'impulse_noise_4': 11.38,\n",
       " 'impulse_noise_5': 5.39,\n",
       " 'jpeg_compression_1': 29.77,\n",
       " 'jpeg_compression_2': 31.3,\n",
       " 'jpeg_compression_3': 28.13,\n",
       " 'jpeg_compression_4': 26.89,\n",
       " 'jpeg_compression_5': 23.02,\n",
       " 'motion_blur_1': 23.24,\n",
       " 'motion_blur_2': 18.46,\n",
       " 'motion_blur_3': 15.22,\n",
       " 'motion_blur_4': 13.1,\n",
       " 'motion_blur_5': 11.3,\n",
       " 'pixelate_1': 35.86,\n",
       " 'pixelate_2': 36.52,\n",
       " 'pixelate_3': 36.18,\n",
       " 'pixelate_4': 35.02,\n",
       " 'pixelate_5': 31.8,\n",
       " 'saturate_1': 24.96,\n",
       " 'saturate_2': 17.33,\n",
       " 'saturate_3': 30.12,\n",
       " 'saturate_4': 21.51,\n",
       " 'saturate_5': 16.55,\n",
       " 'shot_noise_1': 32.4,\n",
       " 'shot_noise_2': 26.11,\n",
       " 'shot_noise_3': 19.1,\n",
       " 'shot_noise_4': 13.79,\n",
       " 'shot_noise_5': 8.1,\n",
       " 'snow_1': 32.44,\n",
       " 'snow_2': 26.86,\n",
       " 'snow_3': 23.55,\n",
       " 'snow_4': 17.19,\n",
       " 'snow_5': 18.35,\n",
       " 'spatter_1': 34.84,\n",
       " 'spatter_2': 28.99,\n",
       " 'spatter_3': 22.11,\n",
       " 'spatter_4': 24.98,\n",
       " 'spatter_5': 23.76,\n",
       " 'speckle_noise_1': 24.08,\n",
       " 'speckle_noise_2': 18.99,\n",
       " 'speckle_noise_3': 15.04,\n",
       " 'speckle_noise_4': 12.06,\n",
       " 'speckle_noise_5': 9.85,\n",
       " 'zoom_blur_1': 18.29,\n",
       " 'zoom_blur_2': 14.88,\n",
       " 'zoom_blur_3': 12.77,\n",
       " 'zoom_blur_4': 10.69,\n",
       " 'zoom_blur_5': 9.22}"
      ]
     },
     "execution_count": 6,
     "metadata": {},
     "output_type": "execute_result"
    }
   ],
   "source": [
    "Acc_VGG16_TINY_IMAG_C_Corruptions"
   ]
  }
 ],
 "metadata": {
  "kernelspec": {
   "display_name": "pytorch",
   "language": "python",
   "name": "python3"
  },
  "language_info": {
   "codemirror_mode": {
    "name": "ipython",
    "version": 3
   },
   "file_extension": ".py",
   "mimetype": "text/x-python",
   "name": "python",
   "nbconvert_exporter": "python",
   "pygments_lexer": "ipython3",
   "version": "3.11.6"
  }
 },
 "nbformat": 4,
 "nbformat_minor": 2
}
