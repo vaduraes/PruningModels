{
 "cells": [
  {
   "cell_type": "code",
   "execution_count": 1,
   "metadata": {},
   "outputs": [],
   "source": [
    "import torch\n",
    "import torch.nn as nn\n",
    "import torch.optim as optim\n",
    "from torch.optim.lr_scheduler import StepLR, ReduceLROnPlateau\n",
    "import torch.nn.functional as F\n",
    "\n",
    "\n",
    "import torchvision\n",
    "from torchvision.models import resnet18, ResNet18_Weights, vgg16, VGG16_Weights\n",
    "from torchvision import datasets\n",
    "from torchvision import transforms\n",
    "\n",
    "from tqdm import tqdm\n",
    "import numpy as np\n",
    "import matplotlib.pyplot as plt\n",
    "\n",
    "\n",
    "import os\n",
    "import sys\n",
    "from torchsummary import summary\n",
    "\n",
    "\n",
    "# from google.colab import drive\n",
    "# drive.mount('/content/drive')\n",
    "# #Code folder path\n",
    "# %cd /content/drive/My Drive/ECE591_DL_CL_PROJECT/\n",
    "\n",
    "#device config\n",
    "torch.cuda.set_device(1)#Select GPU device 1\n",
    "device=torch.device(\"cuda\" if torch.cuda.is_available() else \"cpu\")\n",
    "\n",
    "#Get Packages\n",
    "sys.path.append('./Tools')\n",
    "\n",
    "#Network architectures\n",
    "from ResNet18_CIFAR10 import ResNet18_CIFAR10_Model\n",
    "from ResNet18_TINYIMAGENET import ResNet18_TINYIMAGENET_Model\n",
    "from VGG16_CIFAR10 import VGG16_CIFAR10_Model\n",
    "from VGG16_TINYIMAGENET import VGG16_TINYIMAGENET_Model\n",
    "\n",
    "#Non Corrupted DataLoaders\n",
    "from CIFAR10_LOADER import CIFAR10DataLoader\n",
    "from TINYIMAGENET_LOADER import TINYIMAGENETDataLoader\n",
    "\n",
    "#Non Corrupted DataLoaders\n",
    "from CIFAR10C_LOADER import CIFAR10C_DataLoader #Each Corruption is a entry in the dictionary\n",
    "from TINYIMAGENET_C_LOADER import TinyImagenetC_DataLoader #Each Corruption is a entry in the dictionary\n",
    "\n",
    "#Error Metrics\n",
    "from ErrorMetrics import Evaluate_Model_TOP1\n"
   ]
  },
  {
   "cell_type": "markdown",
   "metadata": {},
   "source": [
    "# Unpruned Models"
   ]
  },
  {
   "cell_type": "code",
   "execution_count": 2,
   "metadata": {},
   "outputs": [
    {
     "data": {
      "text/plain": [
       "<All keys matched successfully>"
      ]
     },
     "execution_count": 2,
     "metadata": {},
     "output_type": "execute_result"
    }
   ],
   "source": [
    "#Network weights\n",
    "ResNet18_CIFAR10_Weights= torch.load(\"./Networks/ResNet18_CIFAR10_V0.pt\")\n",
    "ResNet18_TINYIMAGENET_Weights=torch.load(\"./Networks/ResNet18_TINY_IMAGENET_V0.pt\")\n",
    "VGG16_CIFAR10_Weights=torch.load(\"./Networks/VGG16_CIFAR10_V0.pt\")\n",
    "VGG16_TINYIMAGENET_Weights=torch.load(\"./Networks/VGG16_TINY_IMAGENET_V0.pt\")\n",
    "\n",
    "#Unpruned Models\n",
    "ResNet18_CIFAR10_0P=ResNet18_CIFAR10_Model()\n",
    "ResNet18_CIFAR10_0P.load_state_dict(ResNet18_CIFAR10_Weights)\n",
    "\n",
    "ResNet18_TINYIMAGENET_0P=ResNet18_TINYIMAGENET_Model()\n",
    "ResNet18_TINYIMAGENET_0P.load_state_dict(ResNet18_TINYIMAGENET_Weights)\n",
    "\n",
    "VGG16_CIFAR10_0P=VGG16_CIFAR10_Model()\n",
    "VGG16_CIFAR10_0P.load_state_dict(VGG16_CIFAR10_Weights)\n",
    "\n",
    "VGG16_TINYIMAGENET_0P=VGG16_TINYIMAGENET_Model()\n",
    "VGG16_TINYIMAGENET_0P.load_state_dict(VGG16_TINYIMAGENET_Weights)\n"
   ]
  },
  {
   "cell_type": "markdown",
   "metadata": {},
   "source": [
    "# Load Datasets"
   ]
  },
  {
   "cell_type": "code",
   "execution_count": 3,
   "metadata": {},
   "outputs": [
    {
     "name": "stdout",
     "output_type": "stream",
     "text": [
      "Files already downloaded and verified\n",
      "Files already downloaded and verified\n"
     ]
    }
   ],
   "source": [
    "from unittest import loader\n",
    "\n",
    "\n",
    "trainloader_CIFAR10, testloader_CIFAR10=CIFAR10DataLoader() #Load Data for CIFAR10\n",
    "trainloader_TINYIMAGENET, testloader_TINYIMAGENET=TINYIMAGENETDataLoader() #Load Data for TINYIMAGENET\n",
    "loader_CIFAR10C=CIFAR10C_DataLoader() #Load Data for CIFAR10C\n",
    "loader_TinyImagenetC=TinyImagenetC_DataLoader() #Load Data for TINYIMAGENETC"
   ]
  },
  {
   "cell_type": "markdown",
   "metadata": {},
   "source": [
    "# Evaluate Non Corrupted Data Models"
   ]
  },
  {
   "cell_type": "code",
   "execution_count": 5,
   "metadata": {},
   "outputs": [
    {
     "name": "stderr",
     "output_type": "stream",
     "text": [
      "100%|██████████| 20/20 [00:01<00:00, 10.74it/s]\n"
     ]
    },
    {
     "name": "stdout",
     "output_type": "stream",
     "text": [
      "ResNet18_CIFAR10_0P: Loss: 0.3436, Accuracy: 89.04%\n",
      "\n",
      "\n"
     ]
    },
    {
     "name": "stderr",
     "output_type": "stream",
     "text": [
      "100%|██████████| 20/20 [00:02<00:00,  9.18it/s]\n"
     ]
    },
    {
     "name": "stdout",
     "output_type": "stream",
     "text": [
      "ResNet18_TINYIMAGENET_0P: Loss: 1.7581, Accuracy: 60.36%\n",
      "\n",
      "\n"
     ]
    },
    {
     "name": "stderr",
     "output_type": "stream",
     "text": [
      "100%|██████████| 20/20 [00:01<00:00, 10.43it/s]\n"
     ]
    },
    {
     "name": "stdout",
     "output_type": "stream",
     "text": [
      "VGG16_CIFAR10_0P: Loss: 0.3662, Accuracy: 89.09%\n",
      "\n",
      "\n"
     ]
    },
    {
     "name": "stderr",
     "output_type": "stream",
     "text": [
      "100%|██████████| 20/20 [00:01<00:00, 10.18it/s]"
     ]
    },
    {
     "name": "stdout",
     "output_type": "stream",
     "text": [
      "VGG16_TINYIMAGENET_0P: Loss: 2.7202, Accuracy: 54.76%\n",
      "\n",
      "\n"
     ]
    },
    {
     "name": "stderr",
     "output_type": "stream",
     "text": [
      "\n"
     ]
    }
   ],
   "source": [
    "\n",
    "#Test Accuracy\n",
    "loss, acc, misclassified=Evaluate_Model_TOP1(ResNet18_CIFAR10_0P, device, testloader_CIFAR10) #ResNet18 on CIFAR10\n",
    "print(f\"ResNet18_CIFAR10_0P: Loss: {loss:.4f}, Accuracy: {acc:.2f}%\\n\\n\")\n",
    "\n",
    "loss, acc, misclassified=Evaluate_Model_TOP1(ResNet18_TINYIMAGENET_0P, device, testloader_TINYIMAGENET) #ResNet18 on TINYIMAGENET\n",
    "print(f\"ResNet18_TINYIMAGENET_0P: Loss: {loss:.4f}, Accuracy: {acc:.2f}%\\n\\n\")\n",
    "\n",
    "loss, acc, misclassified=Evaluate_Model_TOP1(VGG16_CIFAR10_0P, device, testloader_CIFAR10) #VGG16 on CIFAR10\n",
    "print(f\"VGG16_CIFAR10_0P: Loss: {loss:.4f}, Accuracy: {acc:.2f}%\\n\\n\")\n",
    "\n",
    "loss, acc, misclassified=Evaluate_Model_TOP1(VGG16_TINYIMAGENET_0P, device, testloader_TINYIMAGENET) #VGG16 on TINYIMAGENET\n",
    "print(f\"VGG16_TINYIMAGENET_0P: Loss: {loss:.4f}, Accuracy: {acc:.2f}%\\n\\n\")\n"
   ]
  },
  {
   "cell_type": "code",
   "execution_count": 7,
   "metadata": {},
   "outputs": [
    {
     "name": "stderr",
     "output_type": "stream",
     "text": [
      "100%|██████████| 98/98 [00:19<00:00,  4.91it/s]\n"
     ]
    },
    {
     "name": "stdout",
     "output_type": "stream",
     "text": [
      "ResNet18_CIFAR10_0P: Loss: 0.1349, Accuracy: 95.64%\n",
      "\n",
      "\n"
     ]
    },
    {
     "name": "stderr",
     "output_type": "stream",
     "text": [
      "100%|██████████| 391/391 [01:00<00:00,  6.43it/s]\n"
     ]
    },
    {
     "name": "stdout",
     "output_type": "stream",
     "text": [
      "ResNet18_TINYIMAGENET_0P: Loss: 0.5043, Accuracy: 87.22%\n",
      "\n",
      "\n"
     ]
    },
    {
     "name": "stderr",
     "output_type": "stream",
     "text": [
      "100%|██████████| 98/98 [00:19<00:00,  4.93it/s]\n"
     ]
    },
    {
     "name": "stdout",
     "output_type": "stream",
     "text": [
      "VGG16_CIFAR10_0P: Loss: 0.1292, Accuracy: 95.64%\n",
      "\n",
      "\n"
     ]
    },
    {
     "name": "stderr",
     "output_type": "stream",
     "text": [
      "100%|██████████| 391/391 [01:01<00:00,  6.38it/s]"
     ]
    },
    {
     "name": "stdout",
     "output_type": "stream",
     "text": [
      "VGG16_TINYIMAGENET_0P: Loss: 0.0141, Accuracy: 99.78%\n",
      "\n",
      "\n"
     ]
    },
    {
     "name": "stderr",
     "output_type": "stream",
     "text": [
      "\n"
     ]
    }
   ],
   "source": [
    "#Train Accuracy\n",
    "loss, acc, misclassified=Evaluate_Model_TOP1(ResNet18_CIFAR10_0P, device, trainloader_CIFAR10) #ResNet18 on CIFAR10\n",
    "print(f\"ResNet18_CIFAR10_0P: Loss: {loss:.4f}, Accuracy: {acc:.2f}%\\n\\n\")\n",
    "\n",
    "loss, acc, misclassified=Evaluate_Model_TOP1(ResNet18_TINYIMAGENET_0P, device, trainloader_TINYIMAGENET) #ResNet18 on TINYIMAGENET\n",
    "print(f\"ResNet18_TINYIMAGENET_0P: Loss: {loss:.4f}, Accuracy: {acc:.2f}%\\n\\n\")\n",
    "\n",
    "loss, acc, misclassified=Evaluate_Model_TOP1(VGG16_CIFAR10_0P, device, trainloader_CIFAR10) #VGG16 on CIFAR10\n",
    "print(f\"VGG16_CIFAR10_0P: Loss: {loss:.4f}, Accuracy: {acc:.2f}%\\n\\n\")\n",
    "\n",
    "loss, acc, misclassified=Evaluate_Model_TOP1(VGG16_TINYIMAGENET_0P, device, trainloader_TINYIMAGENET) #VGG16 on TINYIMAGENET\n",
    "print(f\"VGG16_TINYIMAGENET_0P: Loss: {loss:.4f}, Accuracy: {acc:.2f}%\\n\\n\")"
   ]
  },
  {
   "cell_type": "markdown",
   "metadata": {},
   "source": [
    "# Evaluate Models on Corrupted Data"
   ]
  },
  {
   "cell_type": "markdown",
   "metadata": {},
   "source": [
    "## CIFAR 10C"
   ]
  },
  {
   "cell_type": "code",
   "execution_count": 4,
   "metadata": {},
   "outputs": [
    {
     "name": "stdout",
     "output_type": "stream",
     "text": [
      "\n",
      "Corruption: brightness\n"
     ]
    },
    {
     "name": "stderr",
     "output_type": "stream",
     "text": [
      "  0%|          | 0/196 [00:00<?, ?it/s]"
     ]
    },
    {
     "name": "stderr",
     "output_type": "stream",
     "text": [
      "100%|██████████| 196/196 [00:06<00:00, 30.99it/s]\n"
     ]
    },
    {
     "name": "stdout",
     "output_type": "stream",
     "text": [
      "VGG16: Accuracy: 87.52%\n"
     ]
    },
    {
     "name": "stderr",
     "output_type": "stream",
     "text": [
      "100%|██████████| 196/196 [00:05<00:00, 32.83it/s]\n"
     ]
    },
    {
     "name": "stdout",
     "output_type": "stream",
     "text": [
      "ResNet18: Accuracy: 87.07%\n",
      "\n",
      "Corruption: contrast\n"
     ]
    },
    {
     "name": "stderr",
     "output_type": "stream",
     "text": [
      "100%|██████████| 196/196 [00:05<00:00, 32.89it/s]\n"
     ]
    },
    {
     "name": "stdout",
     "output_type": "stream",
     "text": [
      "VGG16: Accuracy: 68.58%\n"
     ]
    },
    {
     "name": "stderr",
     "output_type": "stream",
     "text": [
      "100%|██████████| 196/196 [00:06<00:00, 32.35it/s]\n"
     ]
    },
    {
     "name": "stdout",
     "output_type": "stream",
     "text": [
      "ResNet18: Accuracy: 68.17%\n",
      "\n",
      "Corruption: defocus_blur\n"
     ]
    },
    {
     "name": "stderr",
     "output_type": "stream",
     "text": [
      "100%|██████████| 196/196 [00:05<00:00, 34.69it/s]\n"
     ]
    },
    {
     "name": "stdout",
     "output_type": "stream",
     "text": [
      "VGG16: Accuracy: 78.99%\n"
     ]
    },
    {
     "name": "stderr",
     "output_type": "stream",
     "text": [
      "100%|██████████| 196/196 [00:06<00:00, 32.10it/s]\n"
     ]
    },
    {
     "name": "stdout",
     "output_type": "stream",
     "text": [
      "ResNet18: Accuracy: 78.81%\n",
      "\n",
      "Corruption: elastic_transform\n"
     ]
    },
    {
     "name": "stderr",
     "output_type": "stream",
     "text": [
      "100%|██████████| 196/196 [00:05<00:00, 32.80it/s]\n"
     ]
    },
    {
     "name": "stdout",
     "output_type": "stream",
     "text": [
      "VGG16: Accuracy: 80.95%\n"
     ]
    },
    {
     "name": "stderr",
     "output_type": "stream",
     "text": [
      "100%|██████████| 196/196 [00:05<00:00, 33.17it/s]\n"
     ]
    },
    {
     "name": "stdout",
     "output_type": "stream",
     "text": [
      "ResNet18: Accuracy: 80.74%\n",
      "\n",
      "Corruption: fog\n"
     ]
    },
    {
     "name": "stderr",
     "output_type": "stream",
     "text": [
      "100%|██████████| 196/196 [00:06<00:00, 32.14it/s]\n"
     ]
    },
    {
     "name": "stdout",
     "output_type": "stream",
     "text": [
      "VGG16: Accuracy: 79.67%\n"
     ]
    },
    {
     "name": "stderr",
     "output_type": "stream",
     "text": [
      "100%|██████████| 196/196 [00:05<00:00, 33.29it/s]\n"
     ]
    },
    {
     "name": "stdout",
     "output_type": "stream",
     "text": [
      "ResNet18: Accuracy: 79.18%\n",
      "\n",
      "Corruption: frost\n"
     ]
    },
    {
     "name": "stderr",
     "output_type": "stream",
     "text": [
      "100%|██████████| 196/196 [00:05<00:00, 33.42it/s]\n"
     ]
    },
    {
     "name": "stdout",
     "output_type": "stream",
     "text": [
      "VGG16: Accuracy: 77.82%\n"
     ]
    },
    {
     "name": "stderr",
     "output_type": "stream",
     "text": [
      "100%|██████████| 196/196 [00:06<00:00, 30.29it/s]\n"
     ]
    },
    {
     "name": "stdout",
     "output_type": "stream",
     "text": [
      "ResNet18: Accuracy: 80.04%\n",
      "\n",
      "Corruption: gaussian_blur\n"
     ]
    },
    {
     "name": "stderr",
     "output_type": "stream",
     "text": [
      "100%|██████████| 196/196 [00:06<00:00, 31.89it/s]\n"
     ]
    },
    {
     "name": "stdout",
     "output_type": "stream",
     "text": [
      "VGG16: Accuracy: 74.15%\n"
     ]
    },
    {
     "name": "stderr",
     "output_type": "stream",
     "text": [
      "100%|██████████| 196/196 [00:06<00:00, 32.22it/s]\n"
     ]
    },
    {
     "name": "stdout",
     "output_type": "stream",
     "text": [
      "ResNet18: Accuracy: 74.14%\n",
      "\n",
      "Corruption: gaussian_noise\n"
     ]
    },
    {
     "name": "stderr",
     "output_type": "stream",
     "text": [
      "100%|██████████| 196/196 [00:06<00:00, 29.68it/s]\n"
     ]
    },
    {
     "name": "stdout",
     "output_type": "stream",
     "text": [
      "VGG16: Accuracy: 58.12%\n"
     ]
    },
    {
     "name": "stderr",
     "output_type": "stream",
     "text": [
      "100%|██████████| 196/196 [00:06<00:00, 30.07it/s]\n"
     ]
    },
    {
     "name": "stdout",
     "output_type": "stream",
     "text": [
      "ResNet18: Accuracy: 60.31%\n",
      "\n",
      "Corruption: glass_blur\n"
     ]
    },
    {
     "name": "stderr",
     "output_type": "stream",
     "text": [
      "100%|██████████| 196/196 [00:06<00:00, 30.45it/s]\n"
     ]
    },
    {
     "name": "stdout",
     "output_type": "stream",
     "text": [
      "VGG16: Accuracy: 72.72%\n"
     ]
    },
    {
     "name": "stderr",
     "output_type": "stream",
     "text": [
      "100%|██████████| 196/196 [00:05<00:00, 32.71it/s]\n"
     ]
    },
    {
     "name": "stdout",
     "output_type": "stream",
     "text": [
      "ResNet18: Accuracy: 73.21%\n",
      "\n",
      "Corruption: impulse_noise\n"
     ]
    },
    {
     "name": "stderr",
     "output_type": "stream",
     "text": [
      "100%|██████████| 196/196 [00:05<00:00, 33.10it/s]\n"
     ]
    },
    {
     "name": "stdout",
     "output_type": "stream",
     "text": [
      "VGG16: Accuracy: 63.86%\n"
     ]
    },
    {
     "name": "stderr",
     "output_type": "stream",
     "text": [
      "100%|██████████| 196/196 [00:06<00:00, 31.82it/s]\n"
     ]
    },
    {
     "name": "stdout",
     "output_type": "stream",
     "text": [
      "ResNet18: Accuracy: 64.26%\n",
      "\n",
      "Corruption: jpeg_compression\n"
     ]
    },
    {
     "name": "stderr",
     "output_type": "stream",
     "text": [
      "100%|██████████| 196/196 [00:06<00:00, 30.22it/s]\n"
     ]
    },
    {
     "name": "stdout",
     "output_type": "stream",
     "text": [
      "VGG16: Accuracy: 83.58%\n"
     ]
    },
    {
     "name": "stderr",
     "output_type": "stream",
     "text": [
      "100%|██████████| 196/196 [00:06<00:00, 31.59it/s]\n"
     ]
    },
    {
     "name": "stdout",
     "output_type": "stream",
     "text": [
      "ResNet18: Accuracy: 83.18%\n",
      "\n",
      "Corruption: motion_blur\n"
     ]
    },
    {
     "name": "stderr",
     "output_type": "stream",
     "text": [
      "100%|██████████| 196/196 [00:06<00:00, 30.73it/s]\n"
     ]
    },
    {
     "name": "stdout",
     "output_type": "stream",
     "text": [
      "VGG16: Accuracy: 74.29%\n"
     ]
    },
    {
     "name": "stderr",
     "output_type": "stream",
     "text": [
      "100%|██████████| 196/196 [00:06<00:00, 31.23it/s]\n"
     ]
    },
    {
     "name": "stdout",
     "output_type": "stream",
     "text": [
      "ResNet18: Accuracy: 72.65%\n",
      "\n",
      "Corruption: pixelate\n"
     ]
    },
    {
     "name": "stderr",
     "output_type": "stream",
     "text": [
      "100%|██████████| 196/196 [00:06<00:00, 30.68it/s]\n"
     ]
    },
    {
     "name": "stdout",
     "output_type": "stream",
     "text": [
      "VGG16: Accuracy: 85.71%\n"
     ]
    },
    {
     "name": "stderr",
     "output_type": "stream",
     "text": [
      "100%|██████████| 196/196 [00:06<00:00, 29.86it/s]\n"
     ]
    },
    {
     "name": "stdout",
     "output_type": "stream",
     "text": [
      "ResNet18: Accuracy: 85.63%\n",
      "\n",
      "Corruption: saturate\n"
     ]
    },
    {
     "name": "stderr",
     "output_type": "stream",
     "text": [
      "100%|██████████| 196/196 [00:06<00:00, 31.33it/s]\n"
     ]
    },
    {
     "name": "stdout",
     "output_type": "stream",
     "text": [
      "VGG16: Accuracy: 84.49%\n"
     ]
    },
    {
     "name": "stderr",
     "output_type": "stream",
     "text": [
      "100%|██████████| 196/196 [00:06<00:00, 28.39it/s]\n"
     ]
    },
    {
     "name": "stdout",
     "output_type": "stream",
     "text": [
      "ResNet18: Accuracy: 83.41%\n",
      "\n",
      "Corruption: shot_noise\n"
     ]
    },
    {
     "name": "stderr",
     "output_type": "stream",
     "text": [
      "100%|██████████| 196/196 [00:06<00:00, 32.20it/s]\n"
     ]
    },
    {
     "name": "stdout",
     "output_type": "stream",
     "text": [
      "VGG16: Accuracy: 66.03%\n"
     ]
    },
    {
     "name": "stderr",
     "output_type": "stream",
     "text": [
      "100%|██████████| 196/196 [00:06<00:00, 30.80it/s]\n"
     ]
    },
    {
     "name": "stdout",
     "output_type": "stream",
     "text": [
      "ResNet18: Accuracy: 67.33%\n",
      "\n",
      "Corruption: snow\n"
     ]
    },
    {
     "name": "stderr",
     "output_type": "stream",
     "text": [
      "100%|██████████| 196/196 [00:06<00:00, 30.67it/s]\n"
     ]
    },
    {
     "name": "stdout",
     "output_type": "stream",
     "text": [
      "VGG16: Accuracy: 80.37%\n"
     ]
    },
    {
     "name": "stderr",
     "output_type": "stream",
     "text": [
      "100%|██████████| 196/196 [00:06<00:00, 31.05it/s]\n"
     ]
    },
    {
     "name": "stdout",
     "output_type": "stream",
     "text": [
      "ResNet18: Accuracy: 80.16%\n",
      "\n",
      "Corruption: spatter\n"
     ]
    },
    {
     "name": "stderr",
     "output_type": "stream",
     "text": [
      "100%|██████████| 196/196 [00:06<00:00, 30.17it/s]\n"
     ]
    },
    {
     "name": "stdout",
     "output_type": "stream",
     "text": [
      "VGG16: Accuracy: 83.63%\n"
     ]
    },
    {
     "name": "stderr",
     "output_type": "stream",
     "text": [
      "100%|██████████| 196/196 [00:06<00:00, 29.97it/s]\n"
     ]
    },
    {
     "name": "stdout",
     "output_type": "stream",
     "text": [
      "ResNet18: Accuracy: 83.96%\n",
      "\n",
      "Corruption: speckle_noise\n"
     ]
    },
    {
     "name": "stderr",
     "output_type": "stream",
     "text": [
      "100%|██████████| 196/196 [00:06<00:00, 28.42it/s]\n"
     ]
    },
    {
     "name": "stdout",
     "output_type": "stream",
     "text": [
      "VGG16: Accuracy: 67.52%\n"
     ]
    },
    {
     "name": "stderr",
     "output_type": "stream",
     "text": [
      "100%|██████████| 196/196 [00:06<00:00, 30.99it/s]\n"
     ]
    },
    {
     "name": "stdout",
     "output_type": "stream",
     "text": [
      "ResNet18: Accuracy: 67.89%\n",
      "\n",
      "Corruption: zoom_blur\n"
     ]
    },
    {
     "name": "stderr",
     "output_type": "stream",
     "text": [
      "100%|██████████| 196/196 [00:06<00:00, 31.73it/s]\n"
     ]
    },
    {
     "name": "stdout",
     "output_type": "stream",
     "text": [
      "VGG16: Accuracy: 75.37%\n"
     ]
    },
    {
     "name": "stderr",
     "output_type": "stream",
     "text": [
      "100%|██████████| 196/196 [00:06<00:00, 30.58it/s]"
     ]
    },
    {
     "name": "stdout",
     "output_type": "stream",
     "text": [
      "ResNet18: Accuracy: 75.86%\n"
     ]
    },
    {
     "name": "stderr",
     "output_type": "stream",
     "text": [
      "\n"
     ]
    }
   ],
   "source": [
    "CIFAR10C_Corruptions=list(loader_CIFAR10C.keys())\n",
    "Acc_VGG16_CIFAR10C_Corruptions={}\n",
    "Acc_ResNet18_CIFAR10C_Corruptions={}\n",
    "\n",
    "for cname in CIFAR10C_Corruptions:\n",
    "    #corruption name and corruption number\n",
    "    \n",
    "    print(f\"\\nCorruption: {cname}\")\n",
    "\n",
    "    loss, acc, misclassified=Evaluate_Model_TOP1(VGG16_CIFAR10_0P, device, loader_CIFAR10C[cname]) #VGG16 on CIFAR10C\n",
    "    Acc_VGG16_CIFAR10C_Corruptions[cname]=acc\n",
    "    print(f\"VGG16: Accuracy: {acc:.2f}%\")\n",
    "\n",
    "\n",
    "    loss, acc, misclassified=Evaluate_Model_TOP1(ResNet18_CIFAR10_0P, device, loader_CIFAR10C[cname]) #ResNet18 on CIFAR10\n",
    "    Acc_ResNet18_CIFAR10C_Corruptions[cname]=acc  \n",
    "    print(f\"ResNet18: Accuracy: {acc:.2f}%\")"
   ]
  },
  {
   "cell_type": "markdown",
   "metadata": {},
   "source": [
    "## Tiny Imagenet C"
   ]
  },
  {
   "cell_type": "code",
   "execution_count": 4,
   "metadata": {},
   "outputs": [
    {
     "name": "stderr",
     "output_type": "stream",
     "text": [
      "  0%|          | 0/9 [00:00<?, ?it/s]"
     ]
    },
    {
     "name": "stdout",
     "output_type": "stream",
     "text": [
      "\n",
      "Corruption: gaussian_noise\n"
     ]
    },
    {
     "name": "stderr",
     "output_type": "stream",
     "text": [
      "100%|██████████| 157/157 [00:03<00:00, 44.19it/s]\n",
      "100%|██████████| 157/157 [00:04<00:00, 33.54it/s]\n",
      "100%|██████████| 157/157 [00:03<00:00, 42.79it/s]\n",
      "100%|██████████| 157/157 [00:04<00:00, 34.46it/s]\n",
      "100%|██████████| 157/157 [00:03<00:00, 42.24it/s]\n",
      "100%|██████████| 157/157 [00:04<00:00, 33.72it/s]\n",
      "100%|██████████| 157/157 [00:03<00:00, 41.65it/s]\n",
      "100%|██████████| 157/157 [00:04<00:00, 32.75it/s]\n",
      "100%|██████████| 157/157 [00:03<00:00, 42.37it/s]\n",
      "100%|██████████| 157/157 [00:04<00:00, 32.40it/s]\n",
      " 11%|█         | 1/9 [00:42<05:36, 42.07s/it]"
     ]
    },
    {
     "name": "stdout",
     "output_type": "stream",
     "text": [
      "\n",
      "Corruption: glass_blur\n"
     ]
    },
    {
     "name": "stderr",
     "output_type": "stream",
     "text": [
      "100%|██████████| 157/157 [00:04<00:00, 34.45it/s]\n",
      "100%|██████████| 157/157 [00:04<00:00, 33.92it/s]\n",
      "100%|██████████| 157/157 [00:03<00:00, 44.64it/s]\n",
      "100%|██████████| 157/157 [00:04<00:00, 38.96it/s]\n",
      "100%|██████████| 157/157 [00:03<00:00, 45.15it/s]\n",
      "100%|██████████| 157/157 [00:04<00:00, 33.26it/s]\n",
      "100%|██████████| 157/157 [00:03<00:00, 39.26it/s]\n",
      "100%|██████████| 157/157 [00:04<00:00, 34.66it/s]\n",
      "100%|██████████| 157/157 [00:03<00:00, 43.71it/s]\n",
      "100%|██████████| 157/157 [00:04<00:00, 35.42it/s]\n",
      " 22%|██▏       | 2/9 [01:23<04:52, 41.78s/it]"
     ]
    },
    {
     "name": "stdout",
     "output_type": "stream",
     "text": [
      "\n",
      "Corruption: impulse_noise\n"
     ]
    },
    {
     "name": "stderr",
     "output_type": "stream",
     "text": [
      "100%|██████████| 157/157 [00:04<00:00, 38.20it/s]\n",
      "100%|██████████| 157/157 [00:04<00:00, 38.08it/s]\n",
      "100%|██████████| 157/157 [00:03<00:00, 42.33it/s]\n",
      "100%|██████████| 157/157 [00:04<00:00, 37.33it/s]\n",
      "100%|██████████| 157/157 [00:03<00:00, 41.96it/s]\n",
      "100%|██████████| 157/157 [00:04<00:00, 36.39it/s]\n",
      "100%|██████████| 157/157 [00:03<00:00, 41.51it/s]\n",
      "100%|██████████| 157/157 [00:04<00:00, 31.82it/s]\n",
      "100%|██████████| 157/157 [00:03<00:00, 41.00it/s]\n",
      "100%|██████████| 157/157 [00:04<00:00, 33.96it/s]\n",
      " 33%|███▎      | 3/9 [02:05<04:09, 41.63s/it]"
     ]
    },
    {
     "name": "stdout",
     "output_type": "stream",
     "text": [
      "\n",
      "Corruption: jpeg_compression\n"
     ]
    },
    {
     "name": "stderr",
     "output_type": "stream",
     "text": [
      "100%|██████████| 157/157 [00:03<00:00, 42.18it/s]\n",
      "100%|██████████| 157/157 [00:04<00:00, 35.06it/s]\n",
      "100%|██████████| 157/157 [00:03<00:00, 41.92it/s]\n",
      "100%|██████████| 157/157 [00:04<00:00, 35.49it/s]\n",
      "100%|██████████| 157/157 [00:03<00:00, 41.09it/s]\n",
      "100%|██████████| 157/157 [00:04<00:00, 33.67it/s]\n",
      "100%|██████████| 157/157 [00:04<00:00, 35.20it/s]\n",
      "100%|██████████| 157/157 [00:04<00:00, 35.17it/s]\n",
      "100%|██████████| 157/157 [00:03<00:00, 40.93it/s]\n",
      "100%|██████████| 157/157 [00:04<00:00, 33.17it/s]\n",
      " 44%|████▍     | 4/9 [02:47<03:29, 41.94s/it]"
     ]
    },
    {
     "name": "stdout",
     "output_type": "stream",
     "text": [
      "\n",
      "Corruption: motion_blur\n"
     ]
    },
    {
     "name": "stderr",
     "output_type": "stream",
     "text": [
      "100%|██████████| 157/157 [00:04<00:00, 39.00it/s]\n",
      "100%|██████████| 157/157 [00:04<00:00, 34.42it/s]\n",
      "100%|██████████| 157/157 [00:04<00:00, 38.19it/s]\n",
      "100%|██████████| 157/157 [00:04<00:00, 33.15it/s]\n",
      "100%|██████████| 157/157 [00:04<00:00, 36.70it/s]\n",
      "100%|██████████| 157/157 [00:04<00:00, 32.88it/s]\n",
      "100%|██████████| 157/157 [00:04<00:00, 37.43it/s]\n",
      "100%|██████████| 157/157 [00:05<00:00, 28.58it/s]\n",
      "100%|██████████| 157/157 [00:03<00:00, 39.86it/s]\n",
      "100%|██████████| 157/157 [00:04<00:00, 32.59it/s]\n",
      " 56%|█████▌    | 5/9 [03:32<02:52, 43.05s/it]"
     ]
    },
    {
     "name": "stdout",
     "output_type": "stream",
     "text": [
      "\n",
      "Corruption: pixelate\n"
     ]
    },
    {
     "name": "stderr",
     "output_type": "stream",
     "text": [
      "100%|██████████| 157/157 [00:04<00:00, 37.63it/s]\n",
      "100%|██████████| 157/157 [00:04<00:00, 34.28it/s]\n",
      "100%|██████████| 157/157 [00:04<00:00, 36.32it/s]\n",
      "100%|██████████| 157/157 [00:04<00:00, 34.10it/s]\n",
      "100%|██████████| 157/157 [00:04<00:00, 36.10it/s]\n",
      "100%|██████████| 157/157 [00:04<00:00, 32.29it/s]\n",
      "100%|██████████| 157/157 [00:04<00:00, 36.12it/s]\n",
      "100%|██████████| 157/157 [00:04<00:00, 31.99it/s]\n",
      "100%|██████████| 157/157 [00:04<00:00, 36.99it/s]\n",
      "100%|██████████| 157/157 [00:04<00:00, 31.57it/s]\n",
      " 67%|██████▋   | 6/9 [04:17<02:11, 43.87s/it]"
     ]
    },
    {
     "name": "stdout",
     "output_type": "stream",
     "text": [
      "\n",
      "Corruption: shot_noise\n"
     ]
    },
    {
     "name": "stderr",
     "output_type": "stream",
     "text": [
      "100%|██████████| 157/157 [00:04<00:00, 36.71it/s]\n",
      "100%|██████████| 157/157 [00:04<00:00, 32.82it/s]\n",
      "100%|██████████| 157/157 [00:04<00:00, 35.23it/s]\n",
      "100%|██████████| 157/157 [00:05<00:00, 26.64it/s]\n",
      "100%|██████████| 157/157 [00:04<00:00, 34.43it/s]\n",
      "100%|██████████| 157/157 [00:05<00:00, 31.06it/s]\n",
      "100%|██████████| 157/157 [00:04<00:00, 34.89it/s]\n",
      "100%|██████████| 157/157 [00:05<00:00, 30.39it/s]\n",
      "100%|██████████| 157/157 [00:04<00:00, 33.64it/s]\n",
      "100%|██████████| 157/157 [00:05<00:00, 29.82it/s]\n",
      " 78%|███████▊  | 7/9 [05:06<01:30, 45.45s/it]"
     ]
    },
    {
     "name": "stdout",
     "output_type": "stream",
     "text": [
      "\n",
      "Corruption: snow\n"
     ]
    },
    {
     "name": "stderr",
     "output_type": "stream",
     "text": [
      "100%|██████████| 157/157 [00:04<00:00, 35.15it/s]\n",
      "100%|██████████| 157/157 [00:04<00:00, 31.58it/s]\n",
      "100%|██████████| 157/157 [00:04<00:00, 35.89it/s]\n",
      "100%|██████████| 157/157 [00:05<00:00, 30.98it/s]\n",
      "100%|██████████| 157/157 [00:04<00:00, 34.07it/s]\n",
      "100%|██████████| 157/157 [00:05<00:00, 30.69it/s]\n",
      "100%|██████████| 157/157 [00:04<00:00, 34.27it/s]\n",
      "100%|██████████| 157/157 [00:05<00:00, 29.89it/s]\n",
      "100%|██████████| 157/157 [00:04<00:00, 33.99it/s]\n",
      "100%|██████████| 157/157 [00:05<00:00, 30.04it/s]\n",
      " 89%|████████▉ | 8/9 [05:55<00:46, 46.38s/it]"
     ]
    },
    {
     "name": "stdout",
     "output_type": "stream",
     "text": [
      "\n",
      "Corruption: zoom_blur\n"
     ]
    },
    {
     "name": "stderr",
     "output_type": "stream",
     "text": [
      "100%|██████████| 157/157 [00:05<00:00, 27.81it/s]\n",
      "100%|██████████| 157/157 [00:05<00:00, 29.57it/s]\n",
      "100%|██████████| 157/157 [00:04<00:00, 33.39it/s]\n",
      "100%|██████████| 157/157 [00:05<00:00, 29.78it/s]\n",
      "100%|██████████| 157/157 [00:04<00:00, 33.53it/s]\n",
      "100%|██████████| 157/157 [00:05<00:00, 28.95it/s]\n",
      "100%|██████████| 157/157 [00:04<00:00, 33.36it/s]\n",
      "100%|██████████| 157/157 [00:05<00:00, 29.00it/s]\n",
      "100%|██████████| 157/157 [00:04<00:00, 33.25it/s]\n",
      "100%|██████████| 157/157 [00:05<00:00, 29.51it/s]\n",
      "100%|██████████| 9/9 [06:46<00:00, 45.15s/it]\n"
     ]
    }
   ],
   "source": [
    "TinyImagenetC_CorruptionClasses=list(loader_TinyImagenetC.keys())\n",
    "TinyImagenetC_CorruptionLevels=list(loader_TinyImagenetC[TinyImagenetC_CorruptionClasses[0]].keys())\n",
    "\n",
    "Acc_VGG16_TINY_IMAG_C_Corruptions={}\n",
    "Acc_ResNet18_TINY_IMAG_CCorruptions={}\n",
    "\n",
    "for cname in tqdm(TinyImagenetC_CorruptionClasses):\n",
    "    print(f\"\\nCorruption: {cname}\")\n",
    "    for clevel in TinyImagenetC_CorruptionLevels:\n",
    "\n",
    "        loss, acc, misclassified=Evaluate_Model_TOP1(VGG16_TINYIMAGENET_0P, device, loader_TinyImagenetC[cname][clevel])\n",
    "        Acc_VGG16_TINY_IMAG_C_Corruptions[cname+\"_\"+clevel]=acc\n",
    "\n",
    "        loss, acc, misclassified=Evaluate_Model_TOP1(ResNet18_TINYIMAGENET_0P, device, loader_TinyImagenetC[cname][clevel])\n",
    "        Acc_ResNet18_TINY_IMAG_CCorruptions[cname+\"_\"+clevel]=acc\n"
   ]
  }
 ],
 "metadata": {
  "kernelspec": {
   "display_name": "pytorch",
   "language": "python",
   "name": "python3"
  },
  "language_info": {
   "codemirror_mode": {
    "name": "ipython",
    "version": 3
   },
   "file_extension": ".py",
   "mimetype": "text/x-python",
   "name": "python",
   "nbconvert_exporter": "python",
   "pygments_lexer": "ipython3",
   "version": "3.11.6"
  }
 },
 "nbformat": 4,
 "nbformat_minor": 2
}
