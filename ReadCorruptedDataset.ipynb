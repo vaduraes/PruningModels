{
 "cells": [
  {
   "cell_type": "code",
   "execution_count": 19,
   "metadata": {},
   "outputs": [],
   "source": [
    "import torch\n",
    "import torch.nn as nn\n",
    "import torch.optim as optim\n",
    "from torch.optim.lr_scheduler import StepLR, ReduceLROnPlateau\n",
    "import torch.nn.functional as F\n",
    "from torch.utils.data import Subset\n",
    "\n",
    "\n",
    "import torchvision\n",
    "from torchvision.models import resnet18, ResNet18_Weights, vgg16, VGG16_Weights\n",
    "from torchvision import datasets\n",
    "from torchvision import transforms\n",
    "\n",
    "from tqdm import tqdm\n",
    "import numpy as np\n",
    "import matplotlib.pyplot as plt\n",
    "import PIL\n",
    "from PIL import Image\n",
    "\n",
    "import os\n",
    "from torchsummary import summary\n",
    "\n",
    "\n",
    "\n",
    "# from google.colab import drive\n",
    "# drive.mount('/content/drive')\n",
    "# #Code folder path\n",
    "# %cd /content/drive/My Drive/ECE591_DL_CL_PROJECT/\n"
   ]
  },
  {
   "cell_type": "markdown",
   "metadata": {},
   "source": [
    "# Corrupted CIFAR10"
   ]
  },
  {
   "cell_type": "code",
   "execution_count": 20,
   "metadata": {},
   "outputs": [],
   "source": [
    "\n",
    "corruptions = [\"brightness\", \"contrast\", \"defocus_blur\", \"elastic_transform\", \n",
    "               \"fog\", \"frost\", \"gaussian_blur\", \"gaussian_noise\",\"glass_blur\",\n",
    "               \"impulse_noise\", \"jpeg_compression\", \"labels\", \"motion_blur\",\n",
    "               \"pixelate\", \"saturate\", \"shot_noise\", \"snow\", \"spatter\", \"speckle_noise\",\"zoom_blur\"]\n",
    "\n",
    "#https://github.com/tanimutomo/cifar10-c-eval/blob/master\n",
    "class CIFAR10C(datasets.VisionDataset):\n",
    "    def __init__(self, root :str, name :str,transform=None, target_transform=None):\n",
    "        \n",
    "        assert name in corruptions\n",
    "        super(CIFAR10C, self).__init__(root, transform=transform,target_transform=target_transform)\n",
    "        data_path = os.path.join(root, name + '.npy')\n",
    "        target_path = os.path.join(root, 'labels.npy')\n",
    "        \n",
    "        self.data = np.load(data_path)\n",
    "        self.targets = np.load(target_path)\n",
    "        \n",
    "    def __getitem__(self, index):\n",
    "        img, targets = self.data[index], self.targets[index]\n",
    "        img = Image.fromarray(img)\n",
    "        \n",
    "        if self.transform is not None:\n",
    "            img = self.transform(img)\n",
    "        if self.target_transform is not None:\n",
    "            targets = self.target_transform(targets)\n",
    "            \n",
    "        return img, targets\n",
    "    \n",
    "    def __len__(self):\n",
    "        return len(self.data)\n",
    "\n",
    "\n",
    "def extract_subset(dataset, num_subset :int, random_subset :bool):\n",
    "    if random_subset:\n",
    "        random.seed(0)\n",
    "        indices = random.sample(list(range(len(dataset))), num_subset)\n",
    "    else:\n",
    "        indices = [i for i in range(num_subset)]\n",
    "    return Subset(dataset, indices)"
   ]
  },
  {
   "cell_type": "code",
   "execution_count": 6,
   "metadata": {},
   "outputs": [],
   "source": [
    "name=\"gaussian_noise\"\n",
    "root=\"./Datasets/CIFAR-10/CIFAR-10-C/\"\n",
    "data_path = os.path.join(root, name + '.npy')\n",
    "target_path = os.path.join(root, 'labels.npy')\n"
   ]
  },
  {
   "cell_type": "code",
   "execution_count": 7,
   "metadata": {},
   "outputs": [],
   "source": [
    "data=np.load(data_path)\n",
    "targets= np.load(target_path)"
   ]
  },
  {
   "cell_type": "code",
   "execution_count": 11,
   "metadata": {},
   "outputs": [
    {
     "data": {
      "text/plain": [
       "array([3, 8, 8, ..., 5, 1, 7], dtype=uint8)"
      ]
     },
     "execution_count": 11,
     "metadata": {},
     "output_type": "execute_result"
    }
   ],
   "source": [
    "targets\n"
   ]
  }
 ],
 "metadata": {
  "kernelspec": {
   "display_name": "pytorch",
   "language": "python",
   "name": "python3"
  },
  "language_info": {
   "codemirror_mode": {
    "name": "ipython",
    "version": 3
   },
   "file_extension": ".py",
   "mimetype": "text/x-python",
   "name": "python",
   "nbconvert_exporter": "python",
   "pygments_lexer": "ipython3",
   "version": "3.11.6"
  }
 },
 "nbformat": 4,
 "nbformat_minor": 2
}
