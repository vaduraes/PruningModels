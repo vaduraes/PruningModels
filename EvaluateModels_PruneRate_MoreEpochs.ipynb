{
 "cells": [
  {
   "cell_type": "code",
   "execution_count": 1,
   "metadata": {},
   "outputs": [],
   "source": [
    "import torch\n",
    "import torch.nn as nn\n",
    "import torch.optim as optim\n",
    "from torch.optim.lr_scheduler import StepLR, ReduceLROnPlateau\n",
    "import torch.nn.functional as F\n",
    "\n",
    "\n",
    "import torchvision\n",
    "from torchvision.models import resnet18, ResNet18_Weights, vgg16, VGG16_Weights\n",
    "from torchvision import datasets\n",
    "from torchvision import transforms\n",
    "\n",
    "from tqdm import tqdm\n",
    "import numpy as np\n",
    "import matplotlib.pyplot as plt\n",
    "\n",
    "\n",
    "import os\n",
    "import sys\n",
    "import copy\n",
    "from torchsummary import summary\n",
    "\n",
    "\n",
    "# from google.colab import drive\n",
    "# drive.mount('/content/drive')\n",
    "# #Code folder path\n",
    "# %cd /content/drive/My Drive/ECE591_DL_CL_PROJECT/\n",
    "\n",
    "#device config\n",
    "torch.cuda.set_device(0)#Select GPU device 1\n",
    "device=torch.device(\"cuda\" if torch.cuda.is_available() else \"cpu\")\n",
    "\n",
    "#Get Packages\n",
    "sys.path.append('./Tools')\n",
    "\n",
    "#Network architectures\n",
    "from ResNet18_CIFAR10 import ResNet18_CIFAR10_Model\n",
    "from ResNet18_TINYIMAGENET import ResNet18_TINYIMAGENET_Model\n",
    "from VGG16_CIFAR10 import VGG16_CIFAR10_Model\n",
    "from VGG16_TINYIMAGENET import VGG16_TINYIMAGENET_Model\n",
    "\n",
    "#Non Corrupted DataLoaders\n",
    "from CIFAR10_LOADER import CIFAR10DataLoader\n",
    "from TINYIMAGENET_LOADER import TINYIMAGENETDataLoader\n",
    "\n",
    "#Non Corrupted DataLoaders\n",
    "from CIFAR10C_LOADER import CIFAR10C_DataLoader #Each Corruption is a entry in the dictionary\n",
    "from TINYIMAGENET_C_LOADER import TinyImagenetC_DataLoader #Each Corruption is a entry in the dictionary\n",
    "\n",
    "#Error Metrics\n",
    "from ErrorMetrics import Evaluate_Model_TOP1\n",
    "from GeneralPruning import iterative_pruning\n"
   ]
  },
  {
   "cell_type": "markdown",
   "metadata": {},
   "source": [
    "# Unpruned Models"
   ]
  },
  {
   "cell_type": "code",
   "execution_count": 2,
   "metadata": {},
   "outputs": [
    {
     "data": {
      "text/plain": [
       "<All keys matched successfully>"
      ]
     },
     "execution_count": 2,
     "metadata": {},
     "output_type": "execute_result"
    }
   ],
   "source": [
    "#Network weights\n",
    "ResNet18_CIFAR10_Weights= torch.load(\"./Networks/ResNet18_CIFAR10_V0.pt\")\n",
    "ResNet18_TINYIMAGENET_Weights=torch.load(\"./Networks/ResNet18_TINY_IMAGENET_V0.pt\")\n",
    "VGG16_CIFAR10_Weights=torch.load(\"./Networks/VGG16_CIFAR10_V0.pt\")\n",
    "VGG16_TINYIMAGENET_Weights=torch.load(\"./Networks/VGG16_TINY_IMAGENET_V0.pt\")\n",
    "\n",
    "#Unpruned Models\n",
    "ResNet18_CIFAR10_0P=ResNet18_CIFAR10_Model()\n",
    "ResNet18_CIFAR10_0P.load_state_dict(ResNet18_CIFAR10_Weights)\n",
    "\n",
    "ResNet18_TINYIMAGENET_0P=ResNet18_TINYIMAGENET_Model()\n",
    "ResNet18_TINYIMAGENET_0P.load_state_dict(ResNet18_TINYIMAGENET_Weights)\n",
    "\n",
    "VGG16_CIFAR10_0P=VGG16_CIFAR10_Model()\n",
    "VGG16_CIFAR10_0P.load_state_dict(VGG16_CIFAR10_Weights)\n",
    "\n",
    "VGG16_TINYIMAGENET_0P=VGG16_TINYIMAGENET_Model()\n",
    "VGG16_TINYIMAGENET_0P.load_state_dict(VGG16_TINYIMAGENET_Weights)\n"
   ]
  },
  {
   "cell_type": "markdown",
   "metadata": {},
   "source": [
    "# Load Datasets"
   ]
  },
  {
   "cell_type": "code",
   "execution_count": 3,
   "metadata": {},
   "outputs": [
    {
     "name": "stdout",
     "output_type": "stream",
     "text": [
      "Files already downloaded and verified\n",
      "Files already downloaded and verified\n"
     ]
    }
   ],
   "source": [
    "from unittest import loader\n",
    "\n",
    "Times=5\n",
    "trainloader_CIFAR10, testloader_CIFAR10=CIFAR10DataLoader(batch_size=512*Times) #Load Data for CIFAR10\n",
    "loader_CIFAR10C=CIFAR10C_DataLoader(batch_size=512*Times) #Load Data for CIFAR10C\n",
    "\n",
    "Times=1\n",
    "trainloader_TINYIMAGENET, testloader_TINYIMAGENET=TINYIMAGENETDataLoader(NPZ=True,batch_size=512*Times) #Load Data for TINYIMAGENET\n",
    "loader_TinyImagenetC=TinyImagenetC_DataLoader(NPZ=True,batch_size=512*Times) #Load Data for TINYIMAGENETC"
   ]
  },
  {
   "cell_type": "markdown",
   "metadata": {},
   "source": [
    "# CIFAR 10"
   ]
  },
  {
   "cell_type": "markdown",
   "metadata": {},
   "source": [
    "## Check Effect of Pruning Rate"
   ]
  },
  {
   "cell_type": "code",
   "execution_count": 5,
   "metadata": {},
   "outputs": [
    {
     "name": "stdout",
     "output_type": "stream",
     "text": [
      "--Get statistics before pruning--\n",
      "Train set: Average loss: 0.1358, Accuracy: 47844/50000 (95.69%)\n",
      "Test set: Average loss: 0.3436, Accuracy: 8904/10000 (89.04%)\n",
      "\n",
      "--Testing Corruptions--\n"
     ]
    },
    {
     "name": "stderr",
     "output_type": "stream",
     "text": [
      "100%|██████████| 19/19 [03:44<00:00, 11.82s/it]\n"
     ]
    },
    {
     "name": "stdout",
     "output_type": "stream",
     "text": [
      "\n",
      "Avg Corruption Accuracy: 76.10%\n",
      "---------- Pruning Iteration:  1 / 7\n"
     ]
    },
    {
     "name": "stderr",
     "output_type": "stream",
     "text": [
      "Loss=0.15581966936588287 Batch_id=19 Accuracy=94.77: 100%|██████████| 20/20 [00:38<00:00,  1.93s/it]\n",
      "Loss=0.16265031695365906 Batch_id=19 Accuracy=94.77: 100%|██████████| 20/20 [00:36<00:00,  1.83s/it]\n",
      "Loss=0.1636085957288742 Batch_id=19 Accuracy=94.91: 100%|██████████| 20/20 [00:39<00:00,  1.96s/it] \n",
      "Loss=0.14132516086101532 Batch_id=19 Accuracy=95.15: 100%|██████████| 20/20 [00:39<00:00,  1.96s/it]\n",
      "Loss=0.13396283984184265 Batch_id=19 Accuracy=95.40: 100%|██████████| 20/20 [00:36<00:00,  1.81s/it]\n",
      "Loss=0.14013925194740295 Batch_id=19 Accuracy=95.62: 100%|██████████| 20/20 [00:39<00:00,  1.96s/it]\n",
      "Loss=0.13257646560668945 Batch_id=19 Accuracy=95.73: 100%|██████████| 20/20 [00:38<00:00,  1.95s/it]\n",
      "Loss=0.11023104190826416 Batch_id=19 Accuracy=95.63: 100%|██████████| 20/20 [00:38<00:00,  1.90s/it]\n",
      "Loss=0.1282247006893158 Batch_id=19 Accuracy=95.87: 100%|██████████| 20/20 [00:38<00:00,  1.93s/it] \n",
      "Loss=0.11265090852975845 Batch_id=19 Accuracy=96.11: 100%|██████████| 20/20 [00:38<00:00,  1.95s/it]\n",
      "Loss=0.10848870128393173 Batch_id=19 Accuracy=96.24: 100%|██████████| 20/20 [00:39<00:00,  1.96s/it]\n",
      "Loss=0.11320659518241882 Batch_id=19 Accuracy=96.52: 100%|██████████| 20/20 [00:36<00:00,  1.81s/it]\n",
      "Loss=0.10753270238637924 Batch_id=19 Accuracy=96.25: 100%|██████████| 20/20 [00:38<00:00,  1.94s/it]\n",
      "Loss=0.09271731227636337 Batch_id=19 Accuracy=96.53: 100%|██████████| 20/20 [00:38<00:00,  1.95s/it]\n",
      "Loss=0.10717038810253143 Batch_id=19 Accuracy=96.65: 100%|██████████| 20/20 [00:38<00:00,  1.91s/it]\n",
      "Loss=0.08621058613061905 Batch_id=19 Accuracy=96.69: 100%|██████████| 20/20 [00:36<00:00,  1.82s/it]\n",
      "Loss=0.10638747364282608 Batch_id=19 Accuracy=96.76: 100%|██████████| 20/20 [00:38<00:00,  1.93s/it]\n",
      "Loss=0.08304192125797272 Batch_id=19 Accuracy=97.02: 100%|██████████| 20/20 [00:38<00:00,  1.95s/it]\n",
      "Loss=0.09771579504013062 Batch_id=19 Accuracy=97.00: 100%|██████████| 20/20 [00:36<00:00,  1.84s/it]\n",
      "Loss=0.10461533814668655 Batch_id=19 Accuracy=96.90: 100%|██████████| 20/20 [00:38<00:00,  1.92s/it]\n",
      "Loss=0.08333878219127655 Batch_id=19 Accuracy=97.06: 100%|██████████| 20/20 [00:39<00:00,  1.95s/it]\n"
     ]
    },
    {
     "name": "stdout",
     "output_type": "stream",
     "text": [
      "Epoch 00021: reducing learning rate of group 0 to 5.0000e-04.\n"
     ]
    },
    {
     "name": "stderr",
     "output_type": "stream",
     "text": [
      "Loss=0.07442443817853928 Batch_id=19 Accuracy=97.39: 100%|██████████| 20/20 [00:38<00:00,  1.93s/it]\n",
      "Loss=0.08786352723836899 Batch_id=19 Accuracy=97.41: 100%|██████████| 20/20 [00:36<00:00,  1.83s/it]\n",
      "Loss=0.0745881125330925 Batch_id=19 Accuracy=97.58: 100%|██████████| 20/20 [00:38<00:00,  1.94s/it] \n",
      "Loss=0.0835488885641098 Batch_id=19 Accuracy=97.44: 100%|██████████| 20/20 [00:38<00:00,  1.94s/it] \n"
     ]
    },
    {
     "name": "stdout",
     "output_type": "stream",
     "text": [
      "Epoch 00025: reducing learning rate of group 0 to 2.5000e-05.\n"
     ]
    },
    {
     "name": "stderr",
     "output_type": "stream",
     "text": [
      "Loss=0.07816514372825623 Batch_id=19 Accuracy=97.61: 100%|██████████| 20/20 [00:38<00:00,  1.90s/it]\n",
      "Loss=0.07113783061504364 Batch_id=19 Accuracy=97.60: 100%|██████████| 20/20 [00:36<00:00,  1.83s/it]\n",
      "Loss=0.08019454032182693 Batch_id=19 Accuracy=97.60: 100%|██████████| 20/20 [00:38<00:00,  1.93s/it]\n",
      "Loss=0.07371924817562103 Batch_id=19 Accuracy=97.66: 100%|██████████| 20/20 [00:38<00:00,  1.95s/it]\n",
      "Loss=0.08408010005950928 Batch_id=19 Accuracy=97.55: 100%|██████████| 20/20 [00:37<00:00,  1.90s/it]\n"
     ]
    },
    {
     "name": "stdout",
     "output_type": "stream",
     "text": [
      "Epoch 00030: reducing learning rate of group 0 to 1.2500e-06.\n"
     ]
    },
    {
     "name": "stderr",
     "output_type": "stream",
     "text": [
      "Loss=0.07512421160936356 Batch_id=19 Accuracy=97.65: 100%|██████████| 20/20 [00:35<00:00,  1.76s/it]\n",
      "Loss=0.07825641334056854 Batch_id=19 Accuracy=97.56: 100%|██████████| 20/20 [00:39<00:00,  1.95s/it]\n",
      "Loss=0.07098712772130966 Batch_id=19 Accuracy=97.63: 100%|██████████| 20/20 [00:38<00:00,  1.94s/it]\n",
      "Loss=0.07653563469648361 Batch_id=19 Accuracy=97.44: 100%|██████████| 20/20 [00:35<00:00,  1.79s/it]\n",
      "Loss=0.09749186784029007 Batch_id=19 Accuracy=97.54: 100%|██████████| 20/20 [00:39<00:00,  1.95s/it]\n",
      "Loss=0.0835527777671814 Batch_id=19 Accuracy=97.42: 100%|██████████| 20/20 [00:38<00:00,  1.93s/it] \n"
     ]
    },
    {
     "name": "stdout",
     "output_type": "stream",
     "text": [
      "Epoch 00036: reducing learning rate of group 0 to 6.2500e-08.\n"
     ]
    },
    {
     "name": "stderr",
     "output_type": "stream",
     "text": [
      "Loss=0.08031964302062988 Batch_id=19 Accuracy=97.59: 100%|██████████| 20/20 [00:38<00:00,  1.92s/it]\n",
      "Loss=0.06859198957681656 Batch_id=19 Accuracy=97.72: 100%|██████████| 20/20 [00:36<00:00,  1.83s/it]\n",
      "Loss=0.07264024019241333 Batch_id=19 Accuracy=97.47: 100%|██████████| 20/20 [00:38<00:00,  1.95s/it]\n",
      "Loss=0.06387247890233994 Batch_id=19 Accuracy=97.52: 100%|██████████| 20/20 [00:39<00:00,  1.96s/it]\n",
      "Loss=0.07014153152704239 Batch_id=19 Accuracy=97.59: 100%|██████████| 20/20 [00:37<00:00,  1.87s/it]\n",
      "Loss=0.08371240645647049 Batch_id=19 Accuracy=97.46: 100%|██████████| 20/20 [00:37<00:00,  1.89s/it]\n",
      "Loss=0.07208017259836197 Batch_id=19 Accuracy=97.62: 100%|██████████| 20/20 [00:38<00:00,  1.94s/it]\n"
     ]
    },
    {
     "name": "stdout",
     "output_type": "stream",
     "text": [
      "Epoch 00043: reducing learning rate of group 0 to 3.1250e-09.\n"
     ]
    },
    {
     "name": "stderr",
     "output_type": "stream",
     "text": [
      "Loss=0.08472089469432831 Batch_id=19 Accuracy=97.62: 100%|██████████| 20/20 [00:38<00:00,  1.94s/it]\n",
      "Loss=0.06877457350492477 Batch_id=19 Accuracy=97.59: 100%|██████████| 20/20 [00:38<00:00,  1.91s/it]\n",
      "Loss=0.07429855316877365 Batch_id=19 Accuracy=97.64: 100%|██████████| 20/20 [00:38<00:00,  1.92s/it]\n",
      "Loss=0.08252814412117004 Batch_id=19 Accuracy=97.57: 100%|██████████| 20/20 [00:38<00:00,  1.92s/it]\n",
      "Loss=0.07402006536722183 Batch_id=19 Accuracy=97.57: 100%|██████████| 20/20 [00:37<00:00,  1.87s/it]\n",
      "Loss=0.08306059241294861 Batch_id=19 Accuracy=97.61: 100%|██████████| 20/20 [00:37<00:00,  1.87s/it]\n",
      "Loss=0.06319485604763031 Batch_id=19 Accuracy=97.63: 100%|██████████| 20/20 [00:39<00:00,  1.96s/it]\n"
     ]
    },
    {
     "name": "stdout",
     "output_type": "stream",
     "text": [
      "Test set: Average loss: 0.3776, Accuracy: 8914/10000 (89.14%)\n",
      "\n",
      "--Testing Corruptions--\n"
     ]
    },
    {
     "name": "stderr",
     "output_type": "stream",
     "text": [
      "100%|██████████| 19/19 [03:50<00:00, 12.15s/it]\n"
     ]
    },
    {
     "name": "stdout",
     "output_type": "stream",
     "text": [
      "\n",
      "Avg Corruption Accuracy: 76.28%\n",
      "Global Sparsity: 49.98% \n",
      "\n",
      "---------- Pruning Iteration:  2 / 7\n"
     ]
    },
    {
     "name": "stderr",
     "output_type": "stream",
     "text": [
      "Loss=0.13600248098373413 Batch_id=19 Accuracy=93.53: 100%|██████████| 20/20 [00:39<00:00,  1.98s/it]\n",
      "Loss=0.10374390333890915 Batch_id=19 Accuracy=95.30: 100%|██████████| 20/20 [00:39<00:00,  1.96s/it]\n",
      "Loss=0.11203841120004654 Batch_id=19 Accuracy=96.05: 100%|██████████| 20/20 [00:37<00:00,  1.86s/it]\n",
      "Loss=0.10868017375469208 Batch_id=19 Accuracy=96.31: 100%|██████████| 20/20 [00:39<00:00,  1.97s/it]\n",
      "Loss=0.10548833757638931 Batch_id=19 Accuracy=96.70: 100%|██████████| 20/20 [00:39<00:00,  1.97s/it]\n"
     ]
    },
    {
     "name": "stdout",
     "output_type": "stream",
     "text": [
      "Epoch 00005: reducing learning rate of group 0 to 5.0000e-04.\n"
     ]
    },
    {
     "name": "stderr",
     "output_type": "stream",
     "text": [
      "Loss=0.08266346156597137 Batch_id=19 Accuracy=97.02: 100%|██████████| 20/20 [00:37<00:00,  1.89s/it]\n",
      "Loss=0.08839522302150726 Batch_id=19 Accuracy=97.10: 100%|██████████| 20/20 [00:39<00:00,  1.97s/it]\n",
      "Loss=0.09856055676937103 Batch_id=19 Accuracy=97.23: 100%|██████████| 20/20 [00:39<00:00,  1.99s/it]\n",
      "Loss=0.08129263669252396 Batch_id=19 Accuracy=97.21: 100%|██████████| 20/20 [00:38<00:00,  1.94s/it]\n",
      "Loss=0.09182493388652802 Batch_id=19 Accuracy=97.33: 100%|██████████| 20/20 [00:34<00:00,  1.74s/it]\n",
      "Loss=0.08005540072917938 Batch_id=19 Accuracy=97.48: 100%|██████████| 20/20 [00:39<00:00,  1.96s/it]\n",
      "Loss=0.08264432847499847 Batch_id=19 Accuracy=97.34: 100%|██████████| 20/20 [00:39<00:00,  1.95s/it]\n",
      "Loss=0.0783952847123146 Batch_id=19 Accuracy=97.17: 100%|██████████| 20/20 [00:38<00:00,  1.93s/it] \n",
      "Loss=0.07906212657690048 Batch_id=19 Accuracy=97.43: 100%|██████████| 20/20 [00:36<00:00,  1.85s/it]\n",
      "Loss=0.08388608694076538 Batch_id=19 Accuracy=97.29: 100%|██████████| 20/20 [00:39<00:00,  1.98s/it]\n",
      "Loss=0.06903550773859024 Batch_id=19 Accuracy=97.49: 100%|██████████| 20/20 [00:39<00:00,  1.97s/it]\n",
      "Loss=0.07873320579528809 Batch_id=19 Accuracy=97.47: 100%|██████████| 20/20 [00:37<00:00,  1.89s/it]\n",
      "Loss=0.07351112365722656 Batch_id=19 Accuracy=97.40: 100%|██████████| 20/20 [00:38<00:00,  1.95s/it]\n",
      "Loss=0.08308407664299011 Batch_id=19 Accuracy=97.58: 100%|██████████| 20/20 [00:38<00:00,  1.94s/it]\n"
     ]
    },
    {
     "name": "stdout",
     "output_type": "stream",
     "text": [
      "Epoch 00019: reducing learning rate of group 0 to 2.5000e-05.\n"
     ]
    },
    {
     "name": "stderr",
     "output_type": "stream",
     "text": [
      "Loss=0.08662881702184677 Batch_id=19 Accuracy=97.45: 100%|██████████| 20/20 [00:38<00:00,  1.93s/it]\n",
      "Loss=0.08829585462808609 Batch_id=19 Accuracy=97.44: 100%|██████████| 20/20 [00:36<00:00,  1.80s/it]\n",
      "Loss=0.08878257125616074 Batch_id=19 Accuracy=97.47: 100%|██████████| 20/20 [00:38<00:00,  1.94s/it]\n"
     ]
    },
    {
     "name": "stdout",
     "output_type": "stream",
     "text": [
      "Epoch 00022: reducing learning rate of group 0 to 1.2500e-06.\n"
     ]
    },
    {
     "name": "stderr",
     "output_type": "stream",
     "text": [
      "Loss=0.06694989651441574 Batch_id=19 Accuracy=97.45: 100%|██████████| 20/20 [00:38<00:00,  1.93s/it]\n",
      "Loss=0.07285701483488083 Batch_id=19 Accuracy=97.57: 100%|██████████| 20/20 [00:37<00:00,  1.88s/it]\n",
      "Loss=0.0752735361456871 Batch_id=19 Accuracy=97.42: 100%|██████████| 20/20 [00:36<00:00,  1.81s/it] \n",
      "Loss=0.0855029746890068 Batch_id=19 Accuracy=97.52: 100%|██████████| 20/20 [00:38<00:00,  1.92s/it] \n"
     ]
    },
    {
     "name": "stdout",
     "output_type": "stream",
     "text": [
      "Epoch 00026: reducing learning rate of group 0 to 6.2500e-08.\n"
     ]
    },
    {
     "name": "stderr",
     "output_type": "stream",
     "text": [
      "Loss=0.09212726354598999 Batch_id=19 Accuracy=97.49: 100%|██████████| 20/20 [00:38<00:00,  1.92s/it]\n",
      "Loss=0.08190076053142548 Batch_id=19 Accuracy=97.51: 100%|██████████| 20/20 [00:36<00:00,  1.82s/it]\n",
      "Loss=0.07885244488716125 Batch_id=19 Accuracy=97.47: 100%|██████████| 20/20 [00:38<00:00,  1.93s/it]\n"
     ]
    },
    {
     "name": "stdout",
     "output_type": "stream",
     "text": [
      "Epoch 00029: reducing learning rate of group 0 to 3.1250e-09.\n"
     ]
    },
    {
     "name": "stderr",
     "output_type": "stream",
     "text": [
      "Loss=0.06982821226119995 Batch_id=19 Accuracy=97.55: 100%|██████████| 20/20 [00:39<00:00,  1.96s/it]\n",
      "Loss=0.07429877668619156 Batch_id=19 Accuracy=97.42: 100%|██████████| 20/20 [00:38<00:00,  1.92s/it]\n",
      "Loss=0.0810515433549881 Batch_id=19 Accuracy=97.58: 100%|██████████| 20/20 [00:35<00:00,  1.80s/it] \n",
      "Loss=0.06797762215137482 Batch_id=19 Accuracy=97.48: 100%|██████████| 20/20 [00:38<00:00,  1.95s/it]\n",
      "Loss=0.0725562572479248 Batch_id=19 Accuracy=97.47: 100%|██████████| 20/20 [00:39<00:00,  1.96s/it] \n",
      "Loss=0.06965851783752441 Batch_id=19 Accuracy=97.38: 100%|██████████| 20/20 [00:37<00:00,  1.87s/it]\n",
      "Loss=0.0742974802851677 Batch_id=19 Accuracy=97.48: 100%|██████████| 20/20 [00:39<00:00,  1.98s/it] \n",
      "Loss=0.07451853156089783 Batch_id=19 Accuracy=97.38: 100%|██████████| 20/20 [00:39<00:00,  1.95s/it]\n",
      "Loss=0.0863383561372757 Batch_id=19 Accuracy=97.48: 100%|██████████| 20/20 [00:38<00:00,  1.94s/it] \n",
      "Loss=0.07363306730985641 Batch_id=19 Accuracy=97.52: 100%|██████████| 20/20 [00:36<00:00,  1.83s/it]\n",
      "Loss=0.08293995261192322 Batch_id=19 Accuracy=97.36: 100%|██████████| 20/20 [00:38<00:00,  1.92s/it]\n",
      "Loss=0.07737679034471512 Batch_id=19 Accuracy=97.44: 100%|██████████| 20/20 [00:38<00:00,  1.91s/it]\n",
      "Loss=0.07807593792676926 Batch_id=19 Accuracy=97.41: 100%|██████████| 20/20 [00:35<00:00,  1.78s/it]\n",
      "Loss=0.07648671418428421 Batch_id=19 Accuracy=97.49: 100%|██████████| 20/20 [00:38<00:00,  1.93s/it]\n",
      "Loss=0.06925342977046967 Batch_id=19 Accuracy=97.42: 100%|██████████| 20/20 [00:38<00:00,  1.94s/it]\n",
      "Loss=0.07859407365322113 Batch_id=19 Accuracy=97.53: 100%|██████████| 20/20 [00:38<00:00,  1.93s/it]\n",
      "Loss=0.07964584976434708 Batch_id=19 Accuracy=97.42: 100%|██████████| 20/20 [00:35<00:00,  1.77s/it]\n",
      "Loss=0.06827966123819351 Batch_id=19 Accuracy=97.37: 100%|██████████| 20/20 [00:38<00:00,  1.92s/it]\n",
      "Loss=0.09311411529779434 Batch_id=19 Accuracy=97.43: 100%|██████████| 20/20 [00:38<00:00,  1.94s/it]\n",
      "Loss=0.07970906049013138 Batch_id=19 Accuracy=97.36: 100%|██████████| 20/20 [00:38<00:00,  1.95s/it]\n",
      "Loss=0.05931778624653816 Batch_id=19 Accuracy=97.46: 100%|██████████| 20/20 [00:38<00:00,  1.92s/it]\n"
     ]
    },
    {
     "name": "stdout",
     "output_type": "stream",
     "text": [
      "Test set: Average loss: 0.4096, Accuracy: 8879/10000 (88.79%)\n",
      "\n",
      "--Testing Corruptions--\n"
     ]
    },
    {
     "name": "stderr",
     "output_type": "stream",
     "text": [
      "100%|██████████| 19/19 [03:54<00:00, 12.35s/it]\n"
     ]
    },
    {
     "name": "stdout",
     "output_type": "stream",
     "text": [
      "\n",
      "Avg Corruption Accuracy: 75.65%\n",
      "Global Sparsity: 74.97% \n",
      "\n",
      "---------- Pruning Iteration:  3 / 7\n"
     ]
    },
    {
     "name": "stderr",
     "output_type": "stream",
     "text": [
      "Loss=0.2185249626636505 Batch_id=19 Accuracy=89.27: 100%|██████████| 20/20 [00:38<00:00,  1.93s/it] \n",
      "Loss=0.1810934692621231 Batch_id=19 Accuracy=92.68: 100%|██████████| 20/20 [00:38<00:00,  1.92s/it] \n",
      "Loss=0.1797630786895752 Batch_id=19 Accuracy=93.26: 100%|██████████| 20/20 [00:38<00:00,  1.91s/it] \n",
      "Loss=0.19648326933383942 Batch_id=19 Accuracy=93.81: 100%|██████████| 20/20 [00:37<00:00,  1.85s/it]\n",
      "Loss=0.17343670129776 Batch_id=19 Accuracy=94.34: 100%|██████████| 20/20 [00:38<00:00,  1.91s/it]   \n",
      "Loss=0.1531580090522766 Batch_id=19 Accuracy=94.63: 100%|██████████| 20/20 [00:38<00:00,  1.93s/it] \n",
      "Loss=0.1486368179321289 Batch_id=19 Accuracy=95.00: 100%|██████████| 20/20 [00:37<00:00,  1.89s/it] \n",
      "Loss=0.13613305985927582 Batch_id=19 Accuracy=95.11: 100%|██████████| 20/20 [00:36<00:00,  1.83s/it]\n",
      "Loss=0.13641680777072906 Batch_id=19 Accuracy=95.46: 100%|██████████| 20/20 [00:38<00:00,  1.92s/it]\n",
      "Loss=0.12690964341163635 Batch_id=19 Accuracy=95.47: 100%|██████████| 20/20 [00:39<00:00,  1.95s/it]\n",
      "Loss=0.14849552512168884 Batch_id=19 Accuracy=95.70: 100%|██████████| 20/20 [00:36<00:00,  1.84s/it]\n",
      "Loss=0.13673461973667145 Batch_id=19 Accuracy=95.73: 100%|██████████| 20/20 [00:38<00:00,  1.93s/it]\n",
      "Loss=0.12862135469913483 Batch_id=19 Accuracy=95.97: 100%|██████████| 20/20 [00:38<00:00,  1.92s/it]\n"
     ]
    },
    {
     "name": "stdout",
     "output_type": "stream",
     "text": [
      "Epoch 00013: reducing learning rate of group 0 to 5.0000e-04.\n"
     ]
    },
    {
     "name": "stderr",
     "output_type": "stream",
     "text": [
      "Loss=0.09816189855337143 Batch_id=19 Accuracy=96.20: 100%|██████████| 20/20 [00:38<00:00,  1.91s/it]\n",
      "Loss=0.11328539252281189 Batch_id=19 Accuracy=96.37: 100%|██████████| 20/20 [00:37<00:00,  1.88s/it]\n",
      "Loss=0.1170153021812439 Batch_id=19 Accuracy=96.40: 100%|██████████| 20/20 [00:38<00:00,  1.94s/it] \n",
      "Loss=0.10605393350124359 Batch_id=19 Accuracy=96.49: 100%|██████████| 20/20 [00:38<00:00,  1.92s/it]\n"
     ]
    },
    {
     "name": "stdout",
     "output_type": "stream",
     "text": [
      "Epoch 00017: reducing learning rate of group 0 to 2.5000e-05.\n"
     ]
    },
    {
     "name": "stderr",
     "output_type": "stream",
     "text": [
      "Loss=0.11402334272861481 Batch_id=19 Accuracy=96.61: 100%|██████████| 20/20 [00:37<00:00,  1.89s/it]\n",
      "Loss=0.10949534177780151 Batch_id=19 Accuracy=96.45: 100%|██████████| 20/20 [00:36<00:00,  1.84s/it]\n",
      "Loss=0.09393823891878128 Batch_id=19 Accuracy=96.55: 100%|██████████| 20/20 [00:38<00:00,  1.93s/it]\n",
      "Loss=0.10249100625514984 Batch_id=19 Accuracy=96.59: 100%|██████████| 20/20 [00:38<00:00,  1.94s/it]\n",
      "Loss=0.11304625123739243 Batch_id=19 Accuracy=96.38: 100%|██████████| 20/20 [00:36<00:00,  1.83s/it]\n",
      "Loss=0.09327977895736694 Batch_id=19 Accuracy=96.65: 100%|██████████| 20/20 [00:39<00:00,  1.95s/it]\n",
      "Loss=0.11523238569498062 Batch_id=19 Accuracy=96.55: 100%|██████████| 20/20 [00:38<00:00,  1.93s/it]\n",
      "Loss=0.10272397100925446 Batch_id=19 Accuracy=96.51: 100%|██████████| 20/20 [00:38<00:00,  1.94s/it]\n",
      "Loss=0.1347084790468216 Batch_id=19 Accuracy=96.67: 100%|██████████| 20/20 [00:35<00:00,  1.76s/it] \n"
     ]
    },
    {
     "name": "stdout",
     "output_type": "stream",
     "text": [
      "Epoch 00026: reducing learning rate of group 0 to 1.2500e-06.\n"
     ]
    },
    {
     "name": "stderr",
     "output_type": "stream",
     "text": [
      "Loss=0.09889208525419235 Batch_id=19 Accuracy=96.52: 100%|██████████| 20/20 [00:37<00:00,  1.86s/it]\n",
      "Loss=0.12038300186395645 Batch_id=19 Accuracy=96.56: 100%|██████████| 20/20 [00:38<00:00,  1.94s/it]\n",
      "Loss=0.10318398475646973 Batch_id=19 Accuracy=96.49: 100%|██████████| 20/20 [00:39<00:00,  1.97s/it]\n"
     ]
    },
    {
     "name": "stdout",
     "output_type": "stream",
     "text": [
      "Epoch 00029: reducing learning rate of group 0 to 6.2500e-08.\n"
     ]
    },
    {
     "name": "stderr",
     "output_type": "stream",
     "text": [
      "Loss=0.10928402096033096 Batch_id=19 Accuracy=96.50: 100%|██████████| 20/20 [00:38<00:00,  1.93s/it]\n",
      "Loss=0.11027945578098297 Batch_id=19 Accuracy=96.55: 100%|██████████| 20/20 [00:39<00:00,  1.95s/it]\n",
      "Loss=0.09687801450490952 Batch_id=19 Accuracy=96.52: 100%|██████████| 20/20 [00:39<00:00,  1.96s/it]\n"
     ]
    },
    {
     "name": "stdout",
     "output_type": "stream",
     "text": [
      "Epoch 00032: reducing learning rate of group 0 to 3.1250e-09.\n"
     ]
    },
    {
     "name": "stderr",
     "output_type": "stream",
     "text": [
      "Loss=0.12366534024477005 Batch_id=19 Accuracy=96.49: 100%|██████████| 20/20 [00:35<00:00,  1.79s/it]\n",
      "Loss=0.10400940477848053 Batch_id=19 Accuracy=96.48: 100%|██████████| 20/20 [00:39<00:00,  1.96s/it]\n",
      "Loss=0.10330827534198761 Batch_id=19 Accuracy=96.46: 100%|██████████| 20/20 [00:39<00:00,  1.95s/it]\n",
      "Loss=0.09370627254247665 Batch_id=19 Accuracy=96.66: 100%|██████████| 20/20 [00:38<00:00,  1.92s/it]\n",
      "Loss=0.09860058128833771 Batch_id=19 Accuracy=96.48: 100%|██████████| 20/20 [00:36<00:00,  1.84s/it]\n",
      "Loss=0.09992296248674393 Batch_id=19 Accuracy=96.61: 100%|██████████| 20/20 [00:39<00:00,  1.96s/it]\n",
      "Loss=0.10147964209318161 Batch_id=19 Accuracy=96.48: 100%|██████████| 20/20 [00:39<00:00,  1.97s/it]\n",
      "Loss=0.12084215879440308 Batch_id=19 Accuracy=96.47: 100%|██████████| 20/20 [00:37<00:00,  1.86s/it]\n",
      "Loss=0.10820956528186798 Batch_id=19 Accuracy=96.57: 100%|██████████| 20/20 [00:39<00:00,  1.96s/it]\n",
      "Loss=0.10884753614664078 Batch_id=19 Accuracy=96.71: 100%|██████████| 20/20 [00:38<00:00,  1.94s/it]\n",
      "Loss=0.1082402840256691 Batch_id=19 Accuracy=96.59: 100%|██████████| 20/20 [00:38<00:00,  1.94s/it] \n",
      "Loss=0.10647686570882797 Batch_id=19 Accuracy=96.53: 100%|██████████| 20/20 [00:36<00:00,  1.84s/it]\n",
      "Loss=0.10582993179559708 Batch_id=19 Accuracy=96.48: 100%|██████████| 20/20 [00:39<00:00,  1.95s/it]\n",
      "Loss=0.11664208024740219 Batch_id=19 Accuracy=96.46: 100%|██████████| 20/20 [00:39<00:00,  1.95s/it]\n",
      "Loss=0.10598493367433548 Batch_id=19 Accuracy=96.57: 100%|██████████| 20/20 [00:36<00:00,  1.82s/it]\n",
      "Loss=0.10878045856952667 Batch_id=19 Accuracy=96.52: 100%|██████████| 20/20 [00:38<00:00,  1.95s/it]\n",
      "Loss=0.10272815078496933 Batch_id=19 Accuracy=96.61: 100%|██████████| 20/20 [00:38<00:00,  1.93s/it]\n",
      "Loss=0.11214511096477509 Batch_id=19 Accuracy=96.56: 100%|██████████| 20/20 [00:38<00:00,  1.94s/it]\n"
     ]
    },
    {
     "name": "stdout",
     "output_type": "stream",
     "text": [
      "Test set: Average loss: 0.3646, Accuracy: 8923/10000 (89.23%)\n",
      "\n",
      "--Testing Corruptions--\n"
     ]
    },
    {
     "name": "stderr",
     "output_type": "stream",
     "text": [
      "100%|██████████| 19/19 [03:57<00:00, 12.51s/it]\n"
     ]
    },
    {
     "name": "stdout",
     "output_type": "stream",
     "text": [
      "\n",
      "Avg Corruption Accuracy: 75.22%\n",
      "Global Sparsity: 87.46% \n",
      "\n",
      "---------- Pruning Iteration:  4 / 7\n"
     ]
    },
    {
     "name": "stderr",
     "output_type": "stream",
     "text": [
      "Loss=0.5556817650794983 Batch_id=19 Accuracy=70.02: 100%|██████████| 20/20 [00:37<00:00,  1.89s/it]\n",
      "Loss=0.39089104533195496 Batch_id=19 Accuracy=83.88: 100%|██████████| 20/20 [00:39<00:00,  1.95s/it]\n",
      "Loss=0.3739948868751526 Batch_id=19 Accuracy=87.01: 100%|██████████| 20/20 [00:39<00:00,  1.96s/it] \n",
      "Loss=0.32881438732147217 Batch_id=19 Accuracy=88.46: 100%|██████████| 20/20 [00:37<00:00,  1.90s/it]\n",
      "Loss=0.28986555337905884 Batch_id=19 Accuracy=89.35: 100%|██████████| 20/20 [00:37<00:00,  1.85s/it]\n",
      "Loss=0.293119341135025 Batch_id=19 Accuracy=90.06: 100%|██████████| 20/20 [00:39<00:00,  1.96s/it]  \n",
      "Loss=0.2563398480415344 Batch_id=19 Accuracy=90.50: 100%|██████████| 20/20 [00:38<00:00,  1.95s/it] \n",
      "Loss=0.24821369349956512 Batch_id=19 Accuracy=90.95: 100%|██████████| 20/20 [00:38<00:00,  1.92s/it]\n",
      "Loss=0.25312602519989014 Batch_id=19 Accuracy=91.40: 100%|██████████| 20/20 [00:36<00:00,  1.85s/it]\n",
      "Loss=0.2094859778881073 Batch_id=19 Accuracy=91.72: 100%|██████████| 20/20 [00:38<00:00,  1.94s/it] \n",
      "Loss=0.26121023297309875 Batch_id=19 Accuracy=91.87: 100%|██████████| 20/20 [00:39<00:00,  1.96s/it]\n",
      "Loss=0.20226027071475983 Batch_id=19 Accuracy=92.06: 100%|██████████| 20/20 [00:37<00:00,  1.90s/it]\n",
      "Loss=0.21997299790382385 Batch_id=19 Accuracy=92.47: 100%|██████████| 20/20 [00:39<00:00,  1.98s/it]\n",
      "Loss=0.2281498908996582 Batch_id=19 Accuracy=92.85: 100%|██████████| 20/20 [00:39<00:00,  1.95s/it] \n",
      "Loss=0.20244865119457245 Batch_id=19 Accuracy=92.92: 100%|██████████| 20/20 [00:37<00:00,  1.88s/it]\n"
     ]
    },
    {
     "name": "stdout",
     "output_type": "stream",
     "text": [
      "Epoch 00015: reducing learning rate of group 0 to 5.0000e-04.\n"
     ]
    },
    {
     "name": "stderr",
     "output_type": "stream",
     "text": [
      "Loss=0.1978461593389511 Batch_id=19 Accuracy=93.19: 100%|██████████| 20/20 [00:39<00:00,  1.99s/it] \n",
      "Loss=0.1806654930114746 Batch_id=19 Accuracy=93.34: 100%|██████████| 20/20 [00:39<00:00,  1.97s/it] \n",
      "Loss=0.18639139831066132 Batch_id=19 Accuracy=93.69: 100%|██████████| 20/20 [00:38<00:00,  1.94s/it]\n",
      "Loss=0.1766369491815567 Batch_id=19 Accuracy=93.45: 100%|██████████| 20/20 [00:36<00:00,  1.83s/it] \n",
      "Loss=0.18929824233055115 Batch_id=19 Accuracy=93.63: 100%|██████████| 20/20 [00:39<00:00,  1.96s/it]\n",
      "Loss=0.19057904183864594 Batch_id=19 Accuracy=93.65: 100%|██████████| 20/20 [00:38<00:00,  1.94s/it]\n",
      "Loss=0.20890183746814728 Batch_id=19 Accuracy=93.65: 100%|██████████| 20/20 [00:37<00:00,  1.85s/it]\n"
     ]
    },
    {
     "name": "stdout",
     "output_type": "stream",
     "text": [
      "Epoch 00022: reducing learning rate of group 0 to 2.5000e-05.\n"
     ]
    },
    {
     "name": "stderr",
     "output_type": "stream",
     "text": [
      "Loss=0.17503812909126282 Batch_id=19 Accuracy=93.75: 100%|██████████| 20/20 [00:39<00:00,  1.96s/it]\n",
      "Loss=0.19556978344917297 Batch_id=19 Accuracy=93.63: 100%|██████████| 20/20 [00:39<00:00,  1.98s/it]\n",
      "Loss=0.19494754076004028 Batch_id=19 Accuracy=93.73: 100%|██████████| 20/20 [00:38<00:00,  1.91s/it]\n",
      "Loss=0.20160715281963348 Batch_id=19 Accuracy=93.95: 100%|██████████| 20/20 [00:36<00:00,  1.85s/it]\n"
     ]
    },
    {
     "name": "stdout",
     "output_type": "stream",
     "text": [
      "Epoch 00026: reducing learning rate of group 0 to 1.2500e-06.\n"
     ]
    },
    {
     "name": "stderr",
     "output_type": "stream",
     "text": [
      "Loss=0.18735051155090332 Batch_id=19 Accuracy=93.74: 100%|██████████| 20/20 [00:39<00:00,  1.96s/it]\n",
      "Loss=0.1636393666267395 Batch_id=19 Accuracy=93.59: 100%|██████████| 20/20 [00:39<00:00,  1.98s/it] \n",
      "Loss=0.1931486427783966 Batch_id=19 Accuracy=93.53: 100%|██████████| 20/20 [00:36<00:00,  1.84s/it] \n",
      "Loss=0.19289787113666534 Batch_id=19 Accuracy=93.76: 100%|██████████| 20/20 [00:39<00:00,  1.96s/it]\n",
      "Loss=0.19815737009048462 Batch_id=19 Accuracy=93.54: 100%|██████████| 20/20 [00:39<00:00,  1.96s/it]\n"
     ]
    },
    {
     "name": "stdout",
     "output_type": "stream",
     "text": [
      "Epoch 00031: reducing learning rate of group 0 to 6.2500e-08.\n"
     ]
    },
    {
     "name": "stderr",
     "output_type": "stream",
     "text": [
      "Loss=0.1957009732723236 Batch_id=19 Accuracy=93.70: 100%|██████████| 20/20 [00:38<00:00,  1.94s/it] \n",
      "Loss=0.19248832762241364 Batch_id=19 Accuracy=93.80: 100%|██████████| 20/20 [00:37<00:00,  1.85s/it]\n",
      "Loss=0.18549233675003052 Batch_id=19 Accuracy=93.57: 100%|██████████| 20/20 [00:39<00:00,  1.96s/it]\n"
     ]
    },
    {
     "name": "stdout",
     "output_type": "stream",
     "text": [
      "Epoch 00034: reducing learning rate of group 0 to 3.1250e-09.\n"
     ]
    },
    {
     "name": "stderr",
     "output_type": "stream",
     "text": [
      "Loss=0.18492557108402252 Batch_id=19 Accuracy=93.67: 100%|██████████| 20/20 [00:39<00:00,  1.98s/it]\n",
      "Loss=0.1863962858915329 Batch_id=19 Accuracy=93.63: 100%|██████████| 20/20 [00:37<00:00,  1.85s/it] \n",
      "Loss=0.19215185940265656 Batch_id=19 Accuracy=93.70: 100%|██████████| 20/20 [00:39<00:00,  1.97s/it]\n",
      "Loss=0.1783997118473053 Batch_id=19 Accuracy=93.75: 100%|██████████| 20/20 [00:39<00:00,  1.98s/it] \n",
      "Loss=0.15930289030075073 Batch_id=19 Accuracy=93.75: 100%|██████████| 20/20 [00:38<00:00,  1.94s/it]\n",
      "Loss=0.18333187699317932 Batch_id=19 Accuracy=93.59: 100%|██████████| 20/20 [00:36<00:00,  1.80s/it]\n",
      "Loss=0.20103158056735992 Batch_id=19 Accuracy=93.72: 100%|██████████| 20/20 [00:39<00:00,  1.97s/it]\n",
      "Loss=0.17651547491550446 Batch_id=19 Accuracy=93.72: 100%|██████████| 20/20 [00:39<00:00,  1.96s/it]\n",
      "Loss=0.18460753560066223 Batch_id=19 Accuracy=93.63: 100%|██████████| 20/20 [00:38<00:00,  1.93s/it]\n",
      "Loss=0.1732175201177597 Batch_id=19 Accuracy=93.60: 100%|██████████| 20/20 [00:37<00:00,  1.88s/it] \n",
      "Loss=0.1787121444940567 Batch_id=19 Accuracy=93.64: 100%|██████████| 20/20 [00:39<00:00,  1.96s/it] \n",
      "Loss=0.17876240611076355 Batch_id=19 Accuracy=93.52: 100%|██████████| 20/20 [00:39<00:00,  1.96s/it]\n",
      "Loss=0.19120758771896362 Batch_id=19 Accuracy=93.52: 100%|██████████| 20/20 [00:37<00:00,  1.88s/it]\n",
      "Loss=0.1745387464761734 Batch_id=19 Accuracy=93.60: 100%|██████████| 20/20 [00:38<00:00,  1.95s/it] \n",
      "Loss=0.1918049156665802 Batch_id=19 Accuracy=93.67: 100%|██████████| 20/20 [00:39<00:00,  1.97s/it] \n",
      "Loss=0.17278216779232025 Batch_id=19 Accuracy=93.72: 100%|██████████| 20/20 [00:37<00:00,  1.89s/it]\n"
     ]
    },
    {
     "name": "stdout",
     "output_type": "stream",
     "text": [
      "Test set: Average loss: 0.3467, Accuracy: 8879/10000 (88.79%)\n",
      "\n",
      "--Testing Corruptions--\n"
     ]
    },
    {
     "name": "stderr",
     "output_type": "stream",
     "text": [
      "100%|██████████| 19/19 [04:12<00:00, 13.30s/it]\n"
     ]
    },
    {
     "name": "stdout",
     "output_type": "stream",
     "text": [
      "\n",
      "Avg Corruption Accuracy: 74.32%\n",
      "Global Sparsity: 93.71% \n",
      "\n",
      "---------- Pruning Iteration:  5 / 7\n"
     ]
    },
    {
     "name": "stderr",
     "output_type": "stream",
     "text": [
      "Loss=0.6409553289413452 Batch_id=19 Accuracy=70.31: 100%|██████████| 20/20 [00:39<00:00,  1.97s/it]\n",
      "Loss=0.5132772326469421 Batch_id=19 Accuracy=81.69: 100%|██████████| 20/20 [00:39<00:00,  1.97s/it] \n",
      "Loss=0.4626966714859009 Batch_id=19 Accuracy=84.67: 100%|██████████| 20/20 [00:39<00:00,  1.96s/it] \n",
      "Loss=0.40947893261909485 Batch_id=19 Accuracy=85.81: 100%|██████████| 20/20 [00:36<00:00,  1.84s/it]\n",
      "Loss=0.39183515310287476 Batch_id=19 Accuracy=86.68: 100%|██████████| 20/20 [00:39<00:00,  1.98s/it]\n",
      "Loss=0.33509328961372375 Batch_id=19 Accuracy=87.29: 100%|██████████| 20/20 [00:40<00:00,  2.00s/it]\n",
      "Loss=0.35627880692481995 Batch_id=19 Accuracy=87.95: 100%|██████████| 20/20 [00:37<00:00,  1.89s/it]\n",
      "Loss=0.3465583920478821 Batch_id=19 Accuracy=88.29: 100%|██████████| 20/20 [00:39<00:00,  1.99s/it] \n",
      "Loss=0.2933945059776306 Batch_id=19 Accuracy=88.59: 100%|██████████| 20/20 [00:40<00:00,  2.00s/it] \n",
      "Loss=0.3006364405155182 Batch_id=19 Accuracy=88.66: 100%|██████████| 20/20 [00:38<00:00,  1.94s/it] \n",
      "Loss=0.2836580276489258 Batch_id=19 Accuracy=89.01: 100%|██████████| 20/20 [00:37<00:00,  1.86s/it] \n",
      "Loss=0.3134199380874634 Batch_id=19 Accuracy=89.52: 100%|██████████| 20/20 [00:39<00:00,  1.97s/it] \n",
      "Loss=0.2970138192176819 Batch_id=19 Accuracy=89.71: 100%|██████████| 20/20 [00:39<00:00,  1.97s/it] \n",
      "Loss=0.2771708071231842 Batch_id=19 Accuracy=89.81: 100%|██████████| 20/20 [00:38<00:00,  1.92s/it] \n",
      "Loss=0.29328808188438416 Batch_id=19 Accuracy=90.00: 100%|██████████| 20/20 [00:39<00:00,  1.98s/it]\n",
      "Loss=0.30526918172836304 Batch_id=19 Accuracy=90.11: 100%|██████████| 20/20 [00:39<00:00,  1.97s/it]\n",
      "Loss=0.2679644227027893 Batch_id=19 Accuracy=90.27: 100%|██████████| 20/20 [00:37<00:00,  1.88s/it] \n",
      "Loss=0.27120450139045715 Batch_id=19 Accuracy=90.53: 100%|██████████| 20/20 [00:37<00:00,  1.89s/it]\n",
      "Loss=0.2523422837257385 Batch_id=19 Accuracy=90.77: 100%|██████████| 20/20 [00:39<00:00,  1.98s/it] \n",
      "Loss=0.25957542657852173 Batch_id=19 Accuracy=90.81: 100%|██████████| 20/20 [00:39<00:00,  1.98s/it]\n",
      "Loss=0.22786849737167358 Batch_id=19 Accuracy=90.99: 100%|██████████| 20/20 [00:38<00:00,  1.91s/it]\n",
      "Loss=0.2641192376613617 Batch_id=19 Accuracy=91.12: 100%|██████████| 20/20 [00:39<00:00,  1.96s/it] \n",
      "Loss=0.2546309530735016 Batch_id=19 Accuracy=91.28: 100%|██████████| 20/20 [00:39<00:00,  1.97s/it] \n",
      "Loss=0.22194424271583557 Batch_id=19 Accuracy=91.29: 100%|██████████| 20/20 [00:38<00:00,  1.94s/it]\n",
      "Loss=0.2742294371128082 Batch_id=19 Accuracy=91.49: 100%|██████████| 20/20 [00:37<00:00,  1.87s/it] \n",
      "Loss=0.2411736398935318 Batch_id=19 Accuracy=91.65: 100%|██████████| 20/20 [00:39<00:00,  1.97s/it] \n",
      "Loss=0.26713913679122925 Batch_id=19 Accuracy=91.70: 100%|██████████| 20/20 [00:39<00:00,  1.97s/it]\n"
     ]
    },
    {
     "name": "stdout",
     "output_type": "stream",
     "text": [
      "Epoch 00027: reducing learning rate of group 0 to 5.0000e-04.\n"
     ]
    },
    {
     "name": "stderr",
     "output_type": "stream",
     "text": [
      "Loss=0.23283693194389343 Batch_id=19 Accuracy=92.11: 100%|██████████| 20/20 [00:37<00:00,  1.86s/it]\n",
      "Loss=0.19538643956184387 Batch_id=19 Accuracy=92.12: 100%|██████████| 20/20 [00:39<00:00,  1.98s/it]\n",
      "Loss=0.20180822908878326 Batch_id=19 Accuracy=92.37: 100%|██████████| 20/20 [00:39<00:00,  1.98s/it]\n",
      "Loss=0.248130664229393 Batch_id=19 Accuracy=92.31: 100%|██████████| 20/20 [00:38<00:00,  1.95s/it]  \n",
      "Loss=0.219698965549469 Batch_id=19 Accuracy=92.25: 100%|██████████| 20/20 [00:36<00:00,  1.85s/it]  \n"
     ]
    },
    {
     "name": "stdout",
     "output_type": "stream",
     "text": [
      "Epoch 00032: reducing learning rate of group 0 to 2.5000e-05.\n"
     ]
    },
    {
     "name": "stderr",
     "output_type": "stream",
     "text": [
      "Loss=0.2406185418367386 Batch_id=19 Accuracy=92.38: 100%|██████████| 20/20 [00:39<00:00,  1.98s/it] \n",
      "Loss=0.18175888061523438 Batch_id=19 Accuracy=92.49: 100%|██████████| 20/20 [00:39<00:00,  1.95s/it]\n",
      "Loss=0.19245080649852753 Batch_id=19 Accuracy=92.42: 100%|██████████| 20/20 [00:37<00:00,  1.88s/it]\n",
      "Loss=0.21551725268363953 Batch_id=19 Accuracy=92.28: 100%|██████████| 20/20 [00:39<00:00,  1.98s/it]\n",
      "Loss=0.20564204454421997 Batch_id=19 Accuracy=92.37: 100%|██████████| 20/20 [00:39<00:00,  2.00s/it]\n"
     ]
    },
    {
     "name": "stdout",
     "output_type": "stream",
     "text": [
      "Epoch 00037: reducing learning rate of group 0 to 1.2500e-06.\n"
     ]
    },
    {
     "name": "stderr",
     "output_type": "stream",
     "text": [
      "Loss=0.209262877702713 Batch_id=19 Accuracy=92.40: 100%|██████████| 20/20 [00:38<00:00,  1.94s/it]  \n",
      "Loss=0.2190803736448288 Batch_id=19 Accuracy=92.39: 100%|██████████| 20/20 [00:37<00:00,  1.90s/it] \n",
      "Loss=0.2231217622756958 Batch_id=19 Accuracy=92.40: 100%|██████████| 20/20 [00:39<00:00,  1.98s/it] \n"
     ]
    },
    {
     "name": "stdout",
     "output_type": "stream",
     "text": [
      "Epoch 00040: reducing learning rate of group 0 to 6.2500e-08.\n"
     ]
    },
    {
     "name": "stderr",
     "output_type": "stream",
     "text": [
      "Loss=0.21819385886192322 Batch_id=19 Accuracy=92.28: 100%|██████████| 20/20 [00:39<00:00,  1.97s/it]\n",
      "Loss=0.23485946655273438 Batch_id=19 Accuracy=92.36: 100%|██████████| 20/20 [00:37<00:00,  1.89s/it]\n",
      "Loss=0.25284653902053833 Batch_id=19 Accuracy=92.44: 100%|██████████| 20/20 [00:39<00:00,  1.98s/it]\n"
     ]
    },
    {
     "name": "stdout",
     "output_type": "stream",
     "text": [
      "Epoch 00043: reducing learning rate of group 0 to 3.1250e-09.\n"
     ]
    },
    {
     "name": "stderr",
     "output_type": "stream",
     "text": [
      "Loss=0.22254401445388794 Batch_id=19 Accuracy=92.50: 100%|██████████| 20/20 [00:39<00:00,  1.97s/it]\n",
      "Loss=0.21078208088874817 Batch_id=19 Accuracy=92.30: 100%|██████████| 20/20 [00:37<00:00,  1.88s/it]\n",
      "Loss=0.19974388182163239 Batch_id=19 Accuracy=92.46: 100%|██████████| 20/20 [00:39<00:00,  1.97s/it]\n",
      "Loss=0.19468392431735992 Batch_id=19 Accuracy=92.61: 100%|██████████| 20/20 [00:40<00:00,  2.01s/it]\n",
      "Loss=0.2131499946117401 Batch_id=19 Accuracy=92.40: 100%|██████████| 20/20 [00:39<00:00,  1.96s/it] \n",
      "Loss=0.2155264914035797 Batch_id=19 Accuracy=92.48: 100%|██████████| 20/20 [00:37<00:00,  1.87s/it] \n",
      "Loss=0.20754259824752808 Batch_id=19 Accuracy=92.63: 100%|██████████| 20/20 [00:39<00:00,  1.96s/it]\n"
     ]
    },
    {
     "name": "stdout",
     "output_type": "stream",
     "text": [
      "Test set: Average loss: 0.3504, Accuracy: 8872/10000 (88.72%)\n",
      "\n",
      "--Skipping Acc Comp For Corrupted Data--\n",
      "Global Sparsity: 96.83% \n",
      "\n",
      "---------- Pruning Iteration:  6 / 7\n"
     ]
    },
    {
     "name": "stderr",
     "output_type": "stream",
     "text": [
      "Loss=0.9223139882087708 Batch_id=19 Accuracy=55.39: 100%|██████████| 20/20 [00:39<00:00,  1.95s/it]\n",
      "Loss=0.6824705004692078 Batch_id=19 Accuracy=73.17: 100%|██████████| 20/20 [00:36<00:00,  1.84s/it]\n",
      "Loss=0.6044448018074036 Batch_id=19 Accuracy=77.79: 100%|██████████| 20/20 [00:36<00:00,  1.82s/it]\n",
      "Loss=0.5450458526611328 Batch_id=19 Accuracy=80.04: 100%|██████████| 20/20 [00:38<00:00,  1.94s/it]\n",
      "Loss=0.48469167947769165 Batch_id=19 Accuracy=81.73: 100%|██████████| 20/20 [00:39<00:00,  1.96s/it]\n",
      "Loss=0.5075726509094238 Batch_id=19 Accuracy=82.30: 100%|██████████| 20/20 [00:37<00:00,  1.87s/it] \n",
      "Loss=0.45013168454170227 Batch_id=19 Accuracy=83.30: 100%|██████████| 20/20 [00:39<00:00,  1.98s/it]\n",
      "Loss=0.44156360626220703 Batch_id=19 Accuracy=84.00: 100%|██████████| 20/20 [00:39<00:00,  1.99s/it]\n",
      "Loss=0.45310670137405396 Batch_id=19 Accuracy=84.32: 100%|██████████| 20/20 [00:38<00:00,  1.95s/it]\n",
      "Loss=0.4498295485973358 Batch_id=19 Accuracy=84.88: 100%|██████████| 20/20 [00:37<00:00,  1.86s/it] \n",
      "Loss=0.3968786299228668 Batch_id=19 Accuracy=85.49: 100%|██████████| 20/20 [00:39<00:00,  1.99s/it] \n",
      "Loss=0.39273524284362793 Batch_id=19 Accuracy=85.72: 100%|██████████| 20/20 [00:39<00:00,  1.97s/it]\n",
      "Loss=0.4058292508125305 Batch_id=19 Accuracy=85.80: 100%|██████████| 20/20 [00:38<00:00,  1.92s/it] \n",
      "Loss=0.43339216709136963 Batch_id=19 Accuracy=86.15: 100%|██████████| 20/20 [00:39<00:00,  1.98s/it]\n",
      "Loss=0.39662545919418335 Batch_id=19 Accuracy=86.56: 100%|██████████| 20/20 [00:39<00:00,  1.99s/it]\n"
     ]
    },
    {
     "name": "stdout",
     "output_type": "stream",
     "text": [
      "Epoch 00015: reducing learning rate of group 0 to 5.0000e-04.\n"
     ]
    },
    {
     "name": "stderr",
     "output_type": "stream",
     "text": [
      "Loss=0.39495548605918884 Batch_id=19 Accuracy=86.94: 100%|██████████| 20/20 [00:38<00:00,  1.93s/it]\n",
      "Loss=0.38040611147880554 Batch_id=19 Accuracy=87.11: 100%|██████████| 20/20 [00:39<00:00,  1.97s/it]\n",
      "Loss=0.3934035003185272 Batch_id=19 Accuracy=87.13: 100%|██████████| 20/20 [00:39<00:00,  1.99s/it] \n",
      "Loss=0.33997565507888794 Batch_id=19 Accuracy=87.24: 100%|██████████| 20/20 [00:38<00:00,  1.94s/it]\n",
      "Loss=0.3227781355381012 Batch_id=19 Accuracy=87.33: 100%|██████████| 20/20 [00:37<00:00,  1.86s/it] \n",
      "Loss=0.3837791979312897 Batch_id=19 Accuracy=87.25: 100%|██████████| 20/20 [00:39<00:00,  1.96s/it] \n",
      "Loss=0.3823862373828888 Batch_id=19 Accuracy=87.24: 100%|██████████| 20/20 [00:39<00:00,  1.96s/it] \n",
      "Loss=0.3690412938594818 Batch_id=19 Accuracy=87.00: 100%|██████████| 20/20 [00:37<00:00,  1.88s/it] \n"
     ]
    },
    {
     "name": "stdout",
     "output_type": "stream",
     "text": [
      "Epoch 00023: reducing learning rate of group 0 to 2.5000e-05.\n"
     ]
    },
    {
     "name": "stderr",
     "output_type": "stream",
     "text": [
      "Loss=0.3581939935684204 Batch_id=19 Accuracy=87.26: 100%|██████████| 20/20 [00:39<00:00,  1.97s/it] \n",
      "Loss=0.32133352756500244 Batch_id=19 Accuracy=87.27: 100%|██████████| 20/20 [00:39<00:00,  1.98s/it]\n",
      "Loss=0.38514983654022217 Batch_id=19 Accuracy=87.58: 100%|██████████| 20/20 [00:38<00:00,  1.95s/it]\n",
      "Loss=0.3621826469898224 Batch_id=19 Accuracy=87.36: 100%|██████████| 20/20 [00:37<00:00,  1.86s/it] \n",
      "Loss=0.35833290219306946 Batch_id=19 Accuracy=87.19: 100%|██████████| 20/20 [00:39<00:00,  1.98s/it]\n"
     ]
    },
    {
     "name": "stdout",
     "output_type": "stream",
     "text": [
      "Epoch 00028: reducing learning rate of group 0 to 1.2500e-06.\n"
     ]
    },
    {
     "name": "stderr",
     "output_type": "stream",
     "text": [
      "Loss=0.3853062391281128 Batch_id=19 Accuracy=87.36: 100%|██████████| 20/20 [00:39<00:00,  1.99s/it] \n",
      "Loss=0.373975545167923 Batch_id=19 Accuracy=87.37: 100%|██████████| 20/20 [00:38<00:00,  1.92s/it]  \n",
      "Loss=0.3913922607898712 Batch_id=19 Accuracy=87.36: 100%|██████████| 20/20 [00:39<00:00,  1.97s/it] \n"
     ]
    },
    {
     "name": "stdout",
     "output_type": "stream",
     "text": [
      "Epoch 00031: reducing learning rate of group 0 to 6.2500e-08.\n"
     ]
    },
    {
     "name": "stderr",
     "output_type": "stream",
     "text": [
      "Loss=0.38130074739456177 Batch_id=19 Accuracy=87.31: 100%|██████████| 20/20 [00:39<00:00,  1.99s/it]\n",
      "Loss=0.35681357979774475 Batch_id=19 Accuracy=87.36: 100%|██████████| 20/20 [00:38<00:00,  1.92s/it]\n",
      "Loss=0.3488917946815491 Batch_id=19 Accuracy=87.33: 100%|██████████| 20/20 [00:40<00:00,  2.00s/it] \n"
     ]
    },
    {
     "name": "stdout",
     "output_type": "stream",
     "text": [
      "Epoch 00034: reducing learning rate of group 0 to 3.1250e-09.\n"
     ]
    },
    {
     "name": "stderr",
     "output_type": "stream",
     "text": [
      "Loss=0.3803979754447937 Batch_id=19 Accuracy=87.28: 100%|██████████| 20/20 [00:39<00:00,  1.99s/it] \n",
      "Loss=0.34318917989730835 Batch_id=19 Accuracy=87.33: 100%|██████████| 20/20 [00:38<00:00,  1.92s/it]\n",
      "Loss=0.365444540977478 Batch_id=19 Accuracy=87.35: 100%|██████████| 20/20 [00:37<00:00,  1.86s/it]  \n",
      "Loss=0.39631226658821106 Batch_id=19 Accuracy=87.37: 100%|██████████| 20/20 [00:36<00:00,  1.83s/it]\n",
      "Loss=0.3505653738975525 Batch_id=19 Accuracy=87.16: 100%|██████████| 20/20 [00:39<00:00,  1.96s/it] \n",
      "Loss=0.35415706038475037 Batch_id=19 Accuracy=87.48: 100%|██████████| 20/20 [00:39<00:00,  1.95s/it]\n",
      "Loss=0.3856313228607178 Batch_id=19 Accuracy=87.43: 100%|██████████| 20/20 [00:38<00:00,  1.91s/it] \n",
      "Loss=0.365431547164917 Batch_id=19 Accuracy=87.44: 100%|██████████| 20/20 [00:39<00:00,  1.98s/it]  \n",
      "Loss=0.37110635638237 Batch_id=19 Accuracy=87.28: 100%|██████████| 20/20 [00:39<00:00,  1.99s/it]   \n",
      "Loss=0.3492263853549957 Batch_id=19 Accuracy=87.42: 100%|██████████| 20/20 [00:38<00:00,  1.91s/it] \n",
      "Loss=0.34332409501075745 Batch_id=19 Accuracy=87.27: 100%|██████████| 20/20 [00:39<00:00,  1.96s/it]\n",
      "Loss=0.3818811774253845 Batch_id=19 Accuracy=87.40: 100%|██████████| 20/20 [00:39<00:00,  1.96s/it] \n",
      "Loss=0.39755943417549133 Batch_id=19 Accuracy=87.26: 100%|██████████| 20/20 [00:39<00:00,  1.96s/it]\n",
      "Loss=0.32443132996559143 Batch_id=19 Accuracy=87.33: 100%|██████████| 20/20 [00:37<00:00,  1.86s/it]\n",
      "Loss=0.37190812826156616 Batch_id=19 Accuracy=87.15: 100%|██████████| 20/20 [00:39<00:00,  1.97s/it]\n",
      "Loss=0.39281749725341797 Batch_id=19 Accuracy=87.40: 100%|██████████| 20/20 [00:39<00:00,  1.96s/it]\n"
     ]
    },
    {
     "name": "stdout",
     "output_type": "stream",
     "text": [
      "Test set: Average loss: 0.4039, Accuracy: 8615/10000 (86.15%)\n",
      "\n",
      "--Skipping Acc Comp For Corrupted Data--\n",
      "Global Sparsity: 98.39% \n",
      "\n",
      "---------- Pruning Iteration:  7 / 7\n"
     ]
    },
    {
     "name": "stderr",
     "output_type": "stream",
     "text": [
      "Loss=1.066243290901184 Batch_id=19 Accuracy=52.06: 100%|██████████| 20/20 [00:37<00:00,  1.87s/it] \n",
      "Loss=0.8415642976760864 Batch_id=19 Accuracy=68.15: 100%|██████████| 20/20 [00:39<00:00,  1.98s/it]\n",
      "Loss=0.7608219981193542 Batch_id=19 Accuracy=72.93: 100%|██████████| 20/20 [00:39<00:00,  1.97s/it]\n",
      "Loss=0.7183384299278259 Batch_id=19 Accuracy=75.12: 100%|██████████| 20/20 [00:34<00:00,  1.71s/it]\n",
      "Loss=0.6643459796905518 Batch_id=19 Accuracy=76.55: 100%|██████████| 20/20 [00:38<00:00,  1.95s/it]\n",
      "Loss=0.6340349316596985 Batch_id=19 Accuracy=77.69: 100%|██████████| 20/20 [00:39<00:00,  1.97s/it]\n",
      "Loss=0.6326988339424133 Batch_id=19 Accuracy=78.31: 100%|██████████| 20/20 [00:38<00:00,  1.93s/it]\n",
      "Loss=0.6119542121887207 Batch_id=19 Accuracy=78.82: 100%|██████████| 20/20 [00:37<00:00,  1.89s/it]\n",
      "Loss=0.5689878463745117 Batch_id=19 Accuracy=79.25: 100%|██████████| 20/20 [00:39<00:00,  1.97s/it]\n",
      "Loss=0.5826408863067627 Batch_id=19 Accuracy=79.96: 100%|██████████| 20/20 [00:39<00:00,  1.98s/it]\n",
      "Loss=0.5744413137435913 Batch_id=19 Accuracy=80.11: 100%|██████████| 20/20 [00:37<00:00,  1.88s/it]\n",
      "Loss=0.6229655742645264 Batch_id=19 Accuracy=80.57: 100%|██████████| 20/20 [00:39<00:00,  1.97s/it]\n"
     ]
    },
    {
     "name": "stdout",
     "output_type": "stream",
     "text": [
      "Epoch 00012: reducing learning rate of group 0 to 5.0000e-04.\n"
     ]
    },
    {
     "name": "stderr",
     "output_type": "stream",
     "text": [
      "Loss=0.5577292442321777 Batch_id=19 Accuracy=80.96: 100%|██████████| 20/20 [00:39<00:00,  1.98s/it]\n",
      "Loss=0.5268277525901794 Batch_id=19 Accuracy=81.13: 100%|██████████| 20/20 [00:39<00:00,  1.96s/it]\n",
      "Loss=0.5191752314567566 Batch_id=19 Accuracy=80.94: 100%|██████████| 20/20 [00:37<00:00,  1.87s/it]\n",
      "Loss=0.5519126057624817 Batch_id=19 Accuracy=81.19: 100%|██████████| 20/20 [00:39<00:00,  1.97s/it]\n",
      "Loss=0.5331079959869385 Batch_id=19 Accuracy=81.26: 100%|██████████| 20/20 [00:39<00:00,  1.99s/it]\n",
      "Loss=0.5368210077285767 Batch_id=19 Accuracy=81.08: 100%|██████████| 20/20 [00:36<00:00,  1.84s/it]\n"
     ]
    },
    {
     "name": "stdout",
     "output_type": "stream",
     "text": [
      "Epoch 00018: reducing learning rate of group 0 to 2.5000e-05.\n"
     ]
    },
    {
     "name": "stderr",
     "output_type": "stream",
     "text": [
      "Loss=0.5637284517288208 Batch_id=19 Accuracy=81.29: 100%|██████████| 20/20 [00:39<00:00,  1.98s/it]\n",
      "Loss=0.5299451947212219 Batch_id=19 Accuracy=81.30: 100%|██████████| 20/20 [00:39<00:00,  1.97s/it]\n",
      "Loss=0.5170356035232544 Batch_id=19 Accuracy=81.13: 100%|██████████| 20/20 [00:39<00:00,  1.95s/it]\n",
      "Loss=0.5567535161972046 Batch_id=19 Accuracy=81.26: 100%|██████████| 20/20 [00:35<00:00,  1.79s/it]\n",
      "Loss=0.5177526473999023 Batch_id=19 Accuracy=81.40: 100%|██████████| 20/20 [00:39<00:00,  1.98s/it]\n",
      "Loss=0.5576666593551636 Batch_id=19 Accuracy=81.19: 100%|██████████| 20/20 [00:39<00:00,  1.98s/it]\n"
     ]
    },
    {
     "name": "stdout",
     "output_type": "stream",
     "text": [
      "Epoch 00024: reducing learning rate of group 0 to 1.2500e-06.\n"
     ]
    },
    {
     "name": "stderr",
     "output_type": "stream",
     "text": [
      "Loss=0.5497074127197266 Batch_id=19 Accuracy=81.31: 100%|██████████| 20/20 [00:38<00:00,  1.94s/it]\n",
      "Loss=0.5465206503868103 Batch_id=19 Accuracy=81.14: 100%|██████████| 20/20 [00:37<00:00,  1.89s/it]\n",
      "Loss=0.5218396186828613 Batch_id=19 Accuracy=81.30: 100%|██████████| 20/20 [00:39<00:00,  1.99s/it]\n"
     ]
    },
    {
     "name": "stdout",
     "output_type": "stream",
     "text": [
      "Epoch 00027: reducing learning rate of group 0 to 6.2500e-08.\n"
     ]
    },
    {
     "name": "stderr",
     "output_type": "stream",
     "text": [
      "Loss=0.5279484391212463 Batch_id=19 Accuracy=81.43: 100%|██████████| 20/20 [00:39<00:00,  1.97s/it]\n",
      "Loss=0.5570433139801025 Batch_id=19 Accuracy=81.20: 100%|██████████| 20/20 [00:38<00:00,  1.90s/it]\n",
      "Loss=0.5548747777938843 Batch_id=19 Accuracy=81.28: 100%|██████████| 20/20 [00:39<00:00,  1.99s/it]\n"
     ]
    },
    {
     "name": "stdout",
     "output_type": "stream",
     "text": [
      "Epoch 00030: reducing learning rate of group 0 to 3.1250e-09.\n"
     ]
    },
    {
     "name": "stderr",
     "output_type": "stream",
     "text": [
      "Loss=0.5469545722007751 Batch_id=19 Accuracy=81.14: 100%|██████████| 20/20 [00:39<00:00,  1.99s/it]\n",
      "Loss=0.54313063621521 Batch_id=19 Accuracy=81.53: 100%|██████████| 20/20 [00:37<00:00,  1.89s/it]  \n",
      "Loss=0.554857075214386 Batch_id=19 Accuracy=81.21: 100%|██████████| 20/20 [00:40<00:00,  2.01s/it] \n",
      "Loss=0.5038308501243591 Batch_id=19 Accuracy=81.20: 100%|██████████| 20/20 [00:39<00:00,  1.99s/it]\n",
      "Loss=0.5754631757736206 Batch_id=19 Accuracy=81.22: 100%|██████████| 20/20 [00:39<00:00,  1.96s/it]\n",
      "Loss=0.535887598991394 Batch_id=19 Accuracy=81.24: 100%|██████████| 20/20 [00:36<00:00,  1.84s/it] \n",
      "Loss=0.5554140210151672 Batch_id=19 Accuracy=81.59: 100%|██████████| 20/20 [00:39<00:00,  1.97s/it]\n",
      "Loss=0.5268827676773071 Batch_id=19 Accuracy=81.27: 100%|██████████| 20/20 [00:39<00:00,  1.96s/it]\n",
      "Loss=0.5674397945404053 Batch_id=19 Accuracy=81.02: 100%|██████████| 20/20 [00:37<00:00,  1.87s/it]\n",
      "Loss=0.5551440715789795 Batch_id=19 Accuracy=81.28: 100%|██████████| 20/20 [00:39<00:00,  1.98s/it]\n",
      "Loss=0.5681253671646118 Batch_id=19 Accuracy=81.15: 100%|██████████| 20/20 [00:39<00:00,  1.98s/it]\n",
      "Loss=0.5174585580825806 Batch_id=19 Accuracy=81.14: 100%|██████████| 20/20 [00:38<00:00,  1.94s/it]\n",
      "Loss=0.5306837558746338 Batch_id=19 Accuracy=81.22: 100%|██████████| 20/20 [00:37<00:00,  1.88s/it]\n",
      "Loss=0.5438501238822937 Batch_id=19 Accuracy=81.39: 100%|██████████| 20/20 [00:39<00:00,  1.96s/it]\n",
      "Loss=0.5448393225669861 Batch_id=19 Accuracy=81.43: 100%|██████████| 20/20 [00:39<00:00,  1.97s/it]\n",
      "Loss=0.5484333038330078 Batch_id=19 Accuracy=81.31: 100%|██████████| 20/20 [00:37<00:00,  1.86s/it]\n",
      "Loss=0.5558230876922607 Batch_id=19 Accuracy=81.29: 100%|██████████| 20/20 [00:39<00:00,  1.97s/it]\n",
      "Loss=0.5948574542999268 Batch_id=19 Accuracy=81.34: 100%|██████████| 20/20 [00:39<00:00,  1.97s/it]\n",
      "Loss=0.5267990231513977 Batch_id=19 Accuracy=81.23: 100%|██████████| 20/20 [00:38<00:00,  1.92s/it]\n",
      "Loss=0.5142925977706909 Batch_id=19 Accuracy=81.49: 100%|██████████| 20/20 [00:38<00:00,  1.94s/it]\n"
     ]
    },
    {
     "name": "stdout",
     "output_type": "stream",
     "text": [
      "Test set: Average loss: 0.5126, Accuracy: 8223/10000 (82.23%)\n",
      "\n",
      "--Testing Corruptions--\n"
     ]
    },
    {
     "name": "stderr",
     "output_type": "stream",
     "text": [
      "100%|██████████| 19/19 [04:07<00:00, 13.03s/it]"
     ]
    },
    {
     "name": "stdout",
     "output_type": "stream",
     "text": [
      "\n",
      "Avg Corruption Accuracy: 65.05%\n",
      "Global Sparsity: 99.17% \n",
      "\n"
     ]
    },
    {
     "name": "stderr",
     "output_type": "stream",
     "text": [
      "\n"
     ]
    }
   ],
   "source": [
    "#RestNet18\n",
    "model=copy.deepcopy(ResNet18_CIFAR10_0P)\n",
    "TrainLoader=trainloader_CIFAR10\n",
    "TestLoader=testloader_CIFAR10\n",
    "TestCLoader=loader_CIFAR10C\n",
    "PruningRate=0.5\n",
    "NumEpochsEachPruneRetrain=50\n",
    "MaximumPruneLevel=0.01\n",
    "lambda_l1=0\n",
    "lambda_l2=0.0005\n",
    "\n",
    "SaveTrainStepsName=\"Progress/PruningIterations_ResNet18_CIFAR_05PR_50Epochs_L2_0005\"\n",
    "\n",
    "\n",
    "ReadMe=\"This model is running pruning with the standard cost function, and the non corrupted dataset, a prunning rate of 0.5 and 50 epoch of retraining\\\n",
    "L2 Regularization of 0.0005 is used\\n\\nOriginal Model: ResNet18 Trained with CIFAR10 Dataset\"\n",
    "\n",
    "test_acc, Avg_Corrup_Acc_List, Acc_Corruptions, RemainingWeights_List, Sparcity_List=iterative_pruning(model,device, TrainLoader, TestLoader, TestCLoader, PruningRate, SaveTrainStepsName,ReadMe,\n",
    "                                                                                                        lambda_l1, lambda_l2, NumEpochsEachPruneRetrain,MaximumPruneLevel)"
   ]
  }
 ],
 "metadata": {
  "kernelspec": {
   "display_name": "pytorch",
   "language": "python",
   "name": "python3"
  },
  "language_info": {
   "codemirror_mode": {
    "name": "ipython",
    "version": 3
   },
   "file_extension": ".py",
   "mimetype": "text/x-python",
   "name": "python",
   "nbconvert_exporter": "python",
   "pygments_lexer": "ipython3",
   "version": "3.11.6"
  }
 },
 "nbformat": 4,
 "nbformat_minor": 2
}
