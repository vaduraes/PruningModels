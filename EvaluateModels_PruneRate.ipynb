{
 "cells": [
  {
   "cell_type": "code",
   "execution_count": 1,
   "metadata": {},
   "outputs": [],
   "source": [
    "import torch\n",
    "import torch.nn as nn\n",
    "import torch.optim as optim\n",
    "from torch.optim.lr_scheduler import StepLR, ReduceLROnPlateau\n",
    "import torch.nn.functional as F\n",
    "\n",
    "\n",
    "import torchvision\n",
    "from torchvision.models import resnet18, ResNet18_Weights, vgg16, VGG16_Weights\n",
    "from torchvision import datasets\n",
    "from torchvision import transforms\n",
    "\n",
    "from tqdm import tqdm\n",
    "import numpy as np\n",
    "import matplotlib.pyplot as plt\n",
    "\n",
    "\n",
    "import os\n",
    "import sys\n",
    "import copy\n",
    "from torchsummary import summary\n",
    "\n",
    "\n",
    "# from google.colab import drive\n",
    "# drive.mount('/content/drive')\n",
    "# #Code folder path\n",
    "# %cd /content/drive/My Drive/ECE591_DL_CL_PROJECT/\n",
    "\n",
    "#device config\n",
    "torch.cuda.set_device(1)#Select GPU device 1\n",
    "device=torch.device(\"cuda\" if torch.cuda.is_available() else \"cpu\")\n",
    "\n",
    "#Get Packages\n",
    "sys.path.append('./Tools')\n",
    "\n",
    "#Network architectures\n",
    "from ResNet18_CIFAR10 import ResNet18_CIFAR10_Model\n",
    "from ResNet18_TINYIMAGENET import ResNet18_TINYIMAGENET_Model\n",
    "from VGG16_CIFAR10 import VGG16_CIFAR10_Model\n",
    "from VGG16_TINYIMAGENET import VGG16_TINYIMAGENET_Model\n",
    "\n",
    "#Non Corrupted DataLoaders\n",
    "from CIFAR10_LOADER import CIFAR10DataLoader\n",
    "from TINYIMAGENET_LOADER import TINYIMAGENETDataLoader\n",
    "\n",
    "#Non Corrupted DataLoaders\n",
    "from CIFAR10C_LOADER import CIFAR10C_DataLoader #Each Corruption is a entry in the dictionary\n",
    "from TINYIMAGENET_C_LOADER import TinyImagenetC_DataLoader #Each Corruption is a entry in the dictionary\n",
    "\n",
    "#Error Metrics\n",
    "from ErrorMetrics import Evaluate_Model_TOP1\n",
    "from GeneralPruning import iterative_pruning\n"
   ]
  },
  {
   "cell_type": "markdown",
   "metadata": {},
   "source": [
    "# Unpruned Models"
   ]
  },
  {
   "cell_type": "code",
   "execution_count": 2,
   "metadata": {},
   "outputs": [
    {
     "data": {
      "text/plain": [
       "<All keys matched successfully>"
      ]
     },
     "execution_count": 2,
     "metadata": {},
     "output_type": "execute_result"
    }
   ],
   "source": [
    "#Network weights\n",
    "ResNet18_CIFAR10_Weights= torch.load(\"./Networks/ResNet18_CIFAR10_V0.pt\")\n",
    "ResNet18_TINYIMAGENET_Weights=torch.load(\"./Networks/ResNet18_TINY_IMAGENET_V0.pt\")\n",
    "VGG16_CIFAR10_Weights=torch.load(\"./Networks/VGG16_CIFAR10_V0.pt\")\n",
    "VGG16_TINYIMAGENET_Weights=torch.load(\"./Networks/VGG16_TINY_IMAGENET_V0.pt\")\n",
    "\n",
    "#Unpruned Models\n",
    "ResNet18_CIFAR10_0P=ResNet18_CIFAR10_Model()\n",
    "ResNet18_CIFAR10_0P.load_state_dict(ResNet18_CIFAR10_Weights)\n",
    "\n",
    "ResNet18_TINYIMAGENET_0P=ResNet18_TINYIMAGENET_Model()\n",
    "ResNet18_TINYIMAGENET_0P.load_state_dict(ResNet18_TINYIMAGENET_Weights)\n",
    "\n",
    "VGG16_CIFAR10_0P=VGG16_CIFAR10_Model()\n",
    "VGG16_CIFAR10_0P.load_state_dict(VGG16_CIFAR10_Weights)\n",
    "\n",
    "VGG16_TINYIMAGENET_0P=VGG16_TINYIMAGENET_Model()\n",
    "VGG16_TINYIMAGENET_0P.load_state_dict(VGG16_TINYIMAGENET_Weights)\n"
   ]
  },
  {
   "cell_type": "markdown",
   "metadata": {},
   "source": [
    "# Load Datasets"
   ]
  },
  {
   "cell_type": "code",
   "execution_count": 3,
   "metadata": {},
   "outputs": [
    {
     "name": "stdout",
     "output_type": "stream",
     "text": [
      "Files already downloaded and verified\n",
      "Files already downloaded and verified\n"
     ]
    }
   ],
   "source": [
    "from unittest import loader\n",
    "\n",
    "Times=5\n",
    "trainloader_CIFAR10, testloader_CIFAR10=CIFAR10DataLoader(batch_size=512*Times) #Load Data for CIFAR10\n",
    "loader_CIFAR10C=CIFAR10C_DataLoader(batch_size=512*Times) #Load Data for CIFAR10C\n",
    "\n",
    "Times=1\n",
    "trainloader_TINYIMAGENET, testloader_TINYIMAGENET=TINYIMAGENETDataLoader(NPZ=True,batch_size=512*Times) #Load Data for TINYIMAGENET\n",
    "loader_TinyImagenetC=TinyImagenetC_DataLoader(NPZ=True,batch_size=512*Times) #Load Data for TINYIMAGENETC"
   ]
  },
  {
   "cell_type": "markdown",
   "metadata": {},
   "source": [
    "# CIFAR 10"
   ]
  },
  {
   "cell_type": "markdown",
   "metadata": {},
   "source": [
    "## Check Effect of Pruning Rate"
   ]
  },
  {
   "cell_type": "code",
   "execution_count": 4,
   "metadata": {},
   "outputs": [
    {
     "name": "stdout",
     "output_type": "stream",
     "text": [
      "--Get statistics before pruning--\n",
      "Train set: Average loss: 0.1369, Accuracy: 47769/50000 (95.54%)\n",
      "Test set: Average loss: 0.3436, Accuracy: 8904/10000 (89.04%)\n",
      "\n",
      "--Testing Corruptions--\n"
     ]
    },
    {
     "name": "stderr",
     "output_type": "stream",
     "text": [
      "100%|██████████| 19/19 [02:06<00:00,  6.65s/it]\n"
     ]
    },
    {
     "name": "stdout",
     "output_type": "stream",
     "text": [
      "\n",
      "Avg Corruption Accuracy: 76.10%\n",
      "---------- Pruning Iteration:  1 / 7\n"
     ]
    },
    {
     "name": "stderr",
     "output_type": "stream",
     "text": [
      "Loss=0.16554157435894012 Batch_id=19 Accuracy=94.69: 100%|██████████| 20/20 [00:22<00:00,  1.12s/it]\n",
      "Loss=0.1617097407579422 Batch_id=19 Accuracy=94.85: 100%|██████████| 20/20 [00:22<00:00,  1.15s/it] \n",
      "Loss=0.13211138546466827 Batch_id=19 Accuracy=95.06: 100%|██████████| 20/20 [00:22<00:00,  1.14s/it]\n",
      "Loss=0.14149795472621918 Batch_id=19 Accuracy=95.06: 100%|██████████| 20/20 [00:23<00:00,  1.15s/it]\n",
      "Loss=0.1460387259721756 Batch_id=19 Accuracy=95.41: 100%|██████████| 20/20 [00:22<00:00,  1.15s/it] \n",
      "Loss=0.12478166818618774 Batch_id=19 Accuracy=95.59: 100%|██████████| 20/20 [00:22<00:00,  1.14s/it]\n",
      "Loss=0.10014083981513977 Batch_id=19 Accuracy=95.67: 100%|██████████| 20/20 [00:22<00:00,  1.14s/it]\n",
      "Loss=0.11998182535171509 Batch_id=19 Accuracy=95.69: 100%|██████████| 20/20 [00:22<00:00,  1.14s/it]\n",
      "Loss=0.12706376612186432 Batch_id=19 Accuracy=96.15: 100%|██████████| 20/20 [00:22<00:00,  1.15s/it]\n",
      "Loss=0.11765690892934799 Batch_id=19 Accuracy=96.21: 100%|██████████| 20/20 [00:22<00:00,  1.14s/it]"
     ]
    },
    {
     "name": "stdout",
     "output_type": "stream",
     "text": [
      "Epoch 00010: reducing learning rate of group 0 to 5.0000e-04.\n"
     ]
    },
    {
     "name": "stderr",
     "output_type": "stream",
     "text": [
      "\n"
     ]
    },
    {
     "name": "stdout",
     "output_type": "stream",
     "text": [
      "Test set: Average loss: 0.3773, Accuracy: 8851/10000 (88.51%)\n",
      "\n",
      "--Testing Corruptions--\n"
     ]
    },
    {
     "name": "stderr",
     "output_type": "stream",
     "text": [
      "100%|██████████| 19/19 [02:15<00:00,  7.11s/it]\n"
     ]
    },
    {
     "name": "stdout",
     "output_type": "stream",
     "text": [
      "\n",
      "Avg Corruption Accuracy: 75.29%\n",
      "Global Sparsity: 49.98% \n",
      "\n",
      "---------- Pruning Iteration:  2 / 7\n"
     ]
    },
    {
     "name": "stderr",
     "output_type": "stream",
     "text": [
      "Loss=0.15506507456302643 Batch_id=19 Accuracy=93.29: 100%|██████████| 20/20 [00:22<00:00,  1.11s/it]\n",
      "Loss=0.1308113932609558 Batch_id=19 Accuracy=94.76: 100%|██████████| 20/20 [00:22<00:00,  1.11s/it] \n",
      "Loss=0.1337689310312271 Batch_id=19 Accuracy=95.26: 100%|██████████| 20/20 [00:22<00:00,  1.11s/it] \n",
      "Loss=0.1537194699048996 Batch_id=19 Accuracy=95.51: 100%|██████████| 20/20 [00:22<00:00,  1.11s/it] \n",
      "Loss=0.12583613395690918 Batch_id=19 Accuracy=95.67: 100%|██████████| 20/20 [00:22<00:00,  1.11s/it]\n",
      "Loss=0.11233457922935486 Batch_id=19 Accuracy=95.93: 100%|██████████| 20/20 [00:22<00:00,  1.11s/it]\n",
      "Loss=0.1407439112663269 Batch_id=19 Accuracy=96.08: 100%|██████████| 20/20 [00:22<00:00,  1.11s/it] \n",
      "Loss=0.10704781115055084 Batch_id=19 Accuracy=96.12: 100%|██████████| 20/20 [00:22<00:00,  1.11s/it]\n",
      "Loss=0.10722757130861282 Batch_id=19 Accuracy=96.25: 100%|██████████| 20/20 [00:22<00:00,  1.12s/it]\n",
      "Loss=0.11698693782091141 Batch_id=19 Accuracy=96.57: 100%|██████████| 20/20 [00:22<00:00,  1.11s/it]\n"
     ]
    },
    {
     "name": "stdout",
     "output_type": "stream",
     "text": [
      "Test set: Average loss: 0.3873, Accuracy: 8888/10000 (88.88%)\n",
      "\n",
      "--Testing Corruptions--\n"
     ]
    },
    {
     "name": "stderr",
     "output_type": "stream",
     "text": [
      "100%|██████████| 19/19 [02:19<00:00,  7.34s/it]\n"
     ]
    },
    {
     "name": "stdout",
     "output_type": "stream",
     "text": [
      "\n",
      "Avg Corruption Accuracy: 75.15%\n",
      "Global Sparsity: 74.97% \n",
      "\n",
      "---------- Pruning Iteration:  3 / 7\n"
     ]
    },
    {
     "name": "stderr",
     "output_type": "stream",
     "text": [
      "Loss=0.2710981070995331 Batch_id=19 Accuracy=87.18: 100%|██████████| 20/20 [00:22<00:00,  1.12s/it] \n",
      "Loss=0.22260527312755585 Batch_id=19 Accuracy=91.45: 100%|██████████| 20/20 [00:22<00:00,  1.12s/it]\n",
      "Loss=0.19204404950141907 Batch_id=19 Accuracy=93.08: 100%|██████████| 20/20 [00:22<00:00,  1.12s/it]\n",
      "Loss=0.1997368335723877 Batch_id=19 Accuracy=93.51: 100%|██████████| 20/20 [00:22<00:00,  1.13s/it] \n",
      "Loss=0.21042272448539734 Batch_id=19 Accuracy=93.96: 100%|██████████| 20/20 [00:22<00:00,  1.12s/it]\n",
      "Loss=0.1653323620557785 Batch_id=19 Accuracy=94.46: 100%|██████████| 20/20 [00:22<00:00,  1.12s/it] \n",
      "Loss=0.13721168041229248 Batch_id=19 Accuracy=94.56: 100%|██████████| 20/20 [00:22<00:00,  1.13s/it]\n",
      "Loss=0.148185133934021 Batch_id=19 Accuracy=94.85: 100%|██████████| 20/20 [00:22<00:00,  1.12s/it]  \n",
      "Loss=0.14095167815685272 Batch_id=19 Accuracy=95.12: 100%|██████████| 20/20 [00:22<00:00,  1.12s/it]\n",
      "Loss=0.13326776027679443 Batch_id=19 Accuracy=95.27: 100%|██████████| 20/20 [00:22<00:00,  1.12s/it]\n"
     ]
    },
    {
     "name": "stdout",
     "output_type": "stream",
     "text": [
      "Test set: Average loss: 0.4011, Accuracy: 8788/10000 (87.88%)\n",
      "\n",
      "--Testing Corruptions--\n"
     ]
    },
    {
     "name": "stderr",
     "output_type": "stream",
     "text": [
      "100%|██████████| 19/19 [02:18<00:00,  7.29s/it]\n"
     ]
    },
    {
     "name": "stdout",
     "output_type": "stream",
     "text": [
      "\n",
      "Avg Corruption Accuracy: 75.11%\n",
      "Global Sparsity: 87.46% \n",
      "\n",
      "---------- Pruning Iteration:  4 / 7\n"
     ]
    },
    {
     "name": "stderr",
     "output_type": "stream",
     "text": [
      "Loss=0.48921796679496765 Batch_id=19 Accuracy=72.25: 100%|██████████| 20/20 [00:22<00:00,  1.12s/it]\n",
      "Loss=0.42826080322265625 Batch_id=19 Accuracy=84.46: 100%|██████████| 20/20 [00:22<00:00,  1.12s/it]\n",
      "Loss=0.34959593415260315 Batch_id=19 Accuracy=86.75: 100%|██████████| 20/20 [00:22<00:00,  1.13s/it]\n",
      "Loss=0.32662010192871094 Batch_id=19 Accuracy=88.11: 100%|██████████| 20/20 [00:22<00:00,  1.13s/it]\n",
      "Loss=0.2933048605918884 Batch_id=19 Accuracy=89.23: 100%|██████████| 20/20 [00:22<00:00,  1.12s/it] \n",
      "Loss=0.3195219933986664 Batch_id=19 Accuracy=89.71: 100%|██████████| 20/20 [00:22<00:00,  1.13s/it] \n",
      "Loss=0.26437413692474365 Batch_id=19 Accuracy=90.31: 100%|██████████| 20/20 [00:22<00:00,  1.13s/it]\n",
      "Loss=0.24787001311779022 Batch_id=19 Accuracy=90.68: 100%|██████████| 20/20 [00:22<00:00,  1.12s/it]\n",
      "Loss=0.2744259834289551 Batch_id=19 Accuracy=90.91: 100%|██████████| 20/20 [00:22<00:00,  1.12s/it] \n",
      "Loss=0.26656246185302734 Batch_id=19 Accuracy=91.22: 100%|██████████| 20/20 [00:22<00:00,  1.13s/it]\n"
     ]
    },
    {
     "name": "stdout",
     "output_type": "stream",
     "text": [
      "Test set: Average loss: 0.3709, Accuracy: 8749/10000 (87.49%)\n",
      "\n",
      "--Testing Corruptions--\n"
     ]
    },
    {
     "name": "stderr",
     "output_type": "stream",
     "text": [
      "100%|██████████| 19/19 [02:22<00:00,  7.49s/it]\n"
     ]
    },
    {
     "name": "stdout",
     "output_type": "stream",
     "text": [
      "\n",
      "Avg Corruption Accuracy: 72.53%\n",
      "Global Sparsity: 93.71% \n",
      "\n",
      "---------- Pruning Iteration:  5 / 7\n"
     ]
    },
    {
     "name": "stderr",
     "output_type": "stream",
     "text": [
      "Loss=0.6366584300994873 Batch_id=19 Accuracy=67.84: 100%|██████████| 20/20 [00:22<00:00,  1.13s/it]\n",
      "Loss=0.48710137605667114 Batch_id=19 Accuracy=80.60: 100%|██████████| 20/20 [00:22<00:00,  1.13s/it]\n",
      "Loss=0.4853987395763397 Batch_id=19 Accuracy=83.57: 100%|██████████| 20/20 [00:22<00:00,  1.14s/it] \n",
      "Loss=0.4072580337524414 Batch_id=19 Accuracy=84.75: 100%|██████████| 20/20 [00:22<00:00,  1.13s/it] \n",
      "Loss=0.4245343506336212 Batch_id=19 Accuracy=85.61: 100%|██████████| 20/20 [00:22<00:00,  1.13s/it] \n",
      "Loss=0.37082788348197937 Batch_id=19 Accuracy=86.47: 100%|██████████| 20/20 [00:22<00:00,  1.14s/it]\n",
      "Loss=0.4105701148509979 Batch_id=19 Accuracy=86.77: 100%|██████████| 20/20 [00:22<00:00,  1.14s/it] \n",
      "Loss=0.38839465379714966 Batch_id=19 Accuracy=87.18: 100%|██████████| 20/20 [00:22<00:00,  1.14s/it]\n",
      "Loss=0.3462257981300354 Batch_id=19 Accuracy=87.62: 100%|██████████| 20/20 [00:22<00:00,  1.14s/it] \n",
      "Loss=0.3468303084373474 Batch_id=19 Accuracy=87.72: 100%|██████████| 20/20 [00:22<00:00,  1.14s/it] \n"
     ]
    },
    {
     "name": "stdout",
     "output_type": "stream",
     "text": [
      "Test set: Average loss: 0.3952, Accuracy: 8651/10000 (86.51%)\n",
      "\n",
      "--Skipping Acc Comp For Corrupted Data--\n",
      "Global Sparsity: 96.83% \n",
      "\n",
      "---------- Pruning Iteration:  6 / 7\n"
     ]
    },
    {
     "name": "stderr",
     "output_type": "stream",
     "text": [
      "Loss=0.9403010010719299 Batch_id=19 Accuracy=56.68: 100%|██████████| 20/20 [00:22<00:00,  1.14s/it]\n",
      "Loss=0.7196231484413147 Batch_id=19 Accuracy=71.88: 100%|██████████| 20/20 [00:22<00:00,  1.13s/it]\n",
      "Loss=0.6739829778671265 Batch_id=19 Accuracy=76.52: 100%|██████████| 20/20 [00:22<00:00,  1.14s/it]\n",
      "Loss=0.5862588286399841 Batch_id=19 Accuracy=78.50: 100%|██████████| 20/20 [00:22<00:00,  1.13s/it]\n",
      "Loss=0.6135814189910889 Batch_id=19 Accuracy=79.71: 100%|██████████| 20/20 [00:22<00:00,  1.11s/it]\n",
      "Loss=0.5495502948760986 Batch_id=19 Accuracy=80.70: 100%|██████████| 20/20 [00:21<00:00,  1.10s/it]\n",
      "Loss=0.5338594913482666 Batch_id=19 Accuracy=81.49: 100%|██████████| 20/20 [00:22<00:00,  1.11s/it]\n",
      "Loss=0.5230479836463928 Batch_id=19 Accuracy=81.98: 100%|██████████| 20/20 [00:22<00:00,  1.10s/it]\n",
      "Loss=0.5030316710472107 Batch_id=19 Accuracy=82.61: 100%|██████████| 20/20 [00:21<00:00,  1.10s/it] \n",
      "Loss=0.4880513846874237 Batch_id=19 Accuracy=83.22: 100%|██████████| 20/20 [00:22<00:00,  1.12s/it] \n"
     ]
    },
    {
     "name": "stdout",
     "output_type": "stream",
     "text": [
      "Test set: Average loss: 0.4876, Accuracy: 8314/10000 (83.14%)\n",
      "\n",
      "--Skipping Acc Comp For Corrupted Data--\n",
      "Global Sparsity: 98.39% \n",
      "\n",
      "---------- Pruning Iteration:  7 / 7\n"
     ]
    },
    {
     "name": "stderr",
     "output_type": "stream",
     "text": [
      "Loss=1.1734293699264526 Batch_id=19 Accuracy=46.39: 100%|██████████| 20/20 [00:22<00:00,  1.11s/it]\n",
      "Loss=0.9574352502822876 Batch_id=19 Accuracy=62.37: 100%|██████████| 20/20 [00:22<00:00,  1.11s/it]\n",
      "Loss=0.8941705226898193 Batch_id=19 Accuracy=67.92: 100%|██████████| 20/20 [00:22<00:00,  1.11s/it]\n",
      "Loss=0.877112865447998 Batch_id=19 Accuracy=70.57: 100%|██████████| 20/20 [00:22<00:00,  1.12s/it] \n",
      "Loss=0.7671022415161133 Batch_id=19 Accuracy=72.45: 100%|██████████| 20/20 [00:22<00:00,  1.11s/it]\n",
      "Loss=0.7363071441650391 Batch_id=19 Accuracy=73.22: 100%|██████████| 20/20 [00:22<00:00,  1.11s/it]\n",
      "Loss=0.7301596403121948 Batch_id=19 Accuracy=74.28: 100%|██████████| 20/20 [00:22<00:00,  1.10s/it]\n",
      "Loss=0.7160676717758179 Batch_id=19 Accuracy=75.29: 100%|██████████| 20/20 [00:21<00:00,  1.10s/it]\n",
      "Loss=0.7017037272453308 Batch_id=19 Accuracy=75.77: 100%|██████████| 20/20 [00:22<00:00,  1.11s/it]\n",
      "Loss=0.6865518689155579 Batch_id=19 Accuracy=76.38: 100%|██████████| 20/20 [00:22<00:00,  1.12s/it]\n"
     ]
    },
    {
     "name": "stdout",
     "output_type": "stream",
     "text": [
      "Test set: Average loss: 0.6348, Accuracy: 7748/10000 (77.48%)\n",
      "\n",
      "--Testing Corruptions--\n"
     ]
    },
    {
     "name": "stderr",
     "output_type": "stream",
     "text": [
      "100%|██████████| 19/19 [02:24<00:00,  7.61s/it]"
     ]
    },
    {
     "name": "stdout",
     "output_type": "stream",
     "text": [
      "\n",
      "Avg Corruption Accuracy: 62.02%\n",
      "Global Sparsity: 99.17% \n",
      "\n"
     ]
    },
    {
     "name": "stderr",
     "output_type": "stream",
     "text": [
      "\n"
     ]
    }
   ],
   "source": [
    "#RestNet18\n",
    "model=copy.deepcopy(ResNet18_CIFAR10_0P)\n",
    "TrainLoader=trainloader_CIFAR10\n",
    "TestLoader=testloader_CIFAR10\n",
    "TestCLoader=loader_CIFAR10C\n",
    "PruningRate=0.5\n",
    "NumEpochsEachPruneRetrain=10\n",
    "MaximumPruneLevel=0.01\n",
    "lambda_l1=0\n",
    "lambda_l2=0.0005\n",
    "\n",
    "SaveTrainStepsName=\"Progress/PruningIterations_ResNet18_CIFAR_05PR_10Epochs_L2_0005\"\n",
    "\n",
    "\n",
    "ReadMe=\"This model is running pruning with the standard cost function, and the non corrupted dataset, a prunning rate of 0.5 and 10 epoch of retraining\\\n",
    "L2 Regularization of 0.0005 is used\\n\\nOriginal Model: ResNet18 Trained with CIFAR10 Dataset\"\n",
    "\n",
    "test_acc, Avg_Corrup_Acc_List, Acc_Corruptions, RemainingWeights_List, Sparcity_List=iterative_pruning(model,device, TrainLoader, TestLoader, TestCLoader, PruningRate, SaveTrainStepsName,ReadMe,\n",
    "                                                                                                        lambda_l1, lambda_l2, NumEpochsEachPruneRetrain,MaximumPruneLevel)"
   ]
  },
  {
   "cell_type": "code",
   "execution_count": 5,
   "metadata": {},
   "outputs": [
    {
     "name": "stdout",
     "output_type": "stream",
     "text": [
      "--Get statistics before pruning--\n",
      "Train set: Average loss: 0.1380, Accuracy: 47752/50000 (95.50%)\n",
      "Test set: Average loss: 0.3436, Accuracy: 8904/10000 (89.04%)\n",
      "\n",
      "--Testing Corruptions--\n"
     ]
    },
    {
     "name": "stderr",
     "output_type": "stream",
     "text": [
      "100%|██████████| 19/19 [02:31<00:00,  7.98s/it]\n"
     ]
    },
    {
     "name": "stdout",
     "output_type": "stream",
     "text": [
      "\n",
      "Avg Corruption Accuracy: 76.10%\n",
      "---------- Pruning Iteration:  1 / 16\n"
     ]
    },
    {
     "name": "stderr",
     "output_type": "stream",
     "text": [
      "Loss=0.17903752624988556 Batch_id=19 Accuracy=95.20: 100%|██████████| 20/20 [00:22<00:00,  1.12s/it]\n",
      "Loss=0.14774319529533386 Batch_id=19 Accuracy=95.17: 100%|██████████| 20/20 [00:22<00:00,  1.12s/it]\n",
      "Loss=0.13073188066482544 Batch_id=19 Accuracy=95.48: 100%|██████████| 20/20 [00:22<00:00,  1.13s/it]\n",
      "Loss=0.12479492276906967 Batch_id=19 Accuracy=95.46: 100%|██████████| 20/20 [00:22<00:00,  1.13s/it]\n",
      "Loss=0.14878182113170624 Batch_id=19 Accuracy=95.73: 100%|██████████| 20/20 [00:22<00:00,  1.12s/it]\n",
      "Loss=0.11139100044965744 Batch_id=19 Accuracy=95.79: 100%|██████████| 20/20 [00:22<00:00,  1.12s/it]\n",
      "Loss=0.12011612951755524 Batch_id=19 Accuracy=96.04: 100%|██████████| 20/20 [00:22<00:00,  1.12s/it]\n",
      "Loss=0.10681983828544617 Batch_id=19 Accuracy=96.06: 100%|██████████| 20/20 [00:22<00:00,  1.12s/it]\n",
      "Loss=0.12820295989513397 Batch_id=19 Accuracy=96.29: 100%|██████████| 20/20 [00:22<00:00,  1.12s/it]\n",
      "Loss=0.1083822101354599 Batch_id=19 Accuracy=96.38: 100%|██████████| 20/20 [00:22<00:00,  1.13s/it] \n"
     ]
    },
    {
     "name": "stdout",
     "output_type": "stream",
     "text": [
      "Test set: Average loss: 0.3788, Accuracy: 8871/10000 (88.71%)\n",
      "\n",
      "--Testing Corruptions--\n"
     ]
    },
    {
     "name": "stderr",
     "output_type": "stream",
     "text": [
      "100%|██████████| 19/19 [02:27<00:00,  7.75s/it]\n"
     ]
    },
    {
     "name": "stdout",
     "output_type": "stream",
     "text": [
      "\n",
      "Avg Corruption Accuracy: 76.59%\n",
      "Global Sparsity: 24.99% \n",
      "\n",
      "---------- Pruning Iteration:  2 / 16\n"
     ]
    },
    {
     "name": "stderr",
     "output_type": "stream",
     "text": [
      "Loss=0.10583484917879105 Batch_id=19 Accuracy=96.27: 100%|██████████| 20/20 [00:22<00:00,  1.13s/it]\n",
      "Loss=0.10407977551221848 Batch_id=19 Accuracy=96.64: 100%|██████████| 20/20 [00:22<00:00,  1.14s/it]\n",
      "Loss=0.09276186674833298 Batch_id=19 Accuracy=96.74: 100%|██████████| 20/20 [00:22<00:00,  1.13s/it]\n",
      "Loss=0.1041582003235817 Batch_id=19 Accuracy=96.75: 100%|██████████| 20/20 [00:22<00:00,  1.13s/it] \n",
      "Loss=0.08117406815290451 Batch_id=19 Accuracy=96.88: 100%|██████████| 20/20 [00:22<00:00,  1.12s/it]\n",
      "Loss=0.08004239946603775 Batch_id=19 Accuracy=97.06: 100%|██████████| 20/20 [00:22<00:00,  1.13s/it]\n",
      "Loss=0.09025229513645172 Batch_id=19 Accuracy=97.21: 100%|██████████| 20/20 [00:22<00:00,  1.13s/it]\n",
      "Loss=0.08530813455581665 Batch_id=19 Accuracy=97.25: 100%|██████████| 20/20 [00:22<00:00,  1.14s/it]\n",
      "Loss=0.09926839917898178 Batch_id=19 Accuracy=97.28: 100%|██████████| 20/20 [00:22<00:00,  1.14s/it]\n"
     ]
    },
    {
     "name": "stdout",
     "output_type": "stream",
     "text": [
      "Epoch 00009: reducing learning rate of group 0 to 5.0000e-04.\n"
     ]
    },
    {
     "name": "stderr",
     "output_type": "stream",
     "text": [
      "Loss=0.053920526057481766 Batch_id=19 Accuracy=97.44: 100%|██████████| 20/20 [00:22<00:00,  1.14s/it]\n"
     ]
    },
    {
     "name": "stdout",
     "output_type": "stream",
     "text": [
      "Test set: Average loss: 0.3912, Accuracy: 8865/10000 (88.65%)\n",
      "\n",
      "--Testing Corruptions--\n"
     ]
    },
    {
     "name": "stderr",
     "output_type": "stream",
     "text": [
      "100%|██████████| 19/19 [02:32<00:00,  8.05s/it]\n"
     ]
    },
    {
     "name": "stdout",
     "output_type": "stream",
     "text": [
      "\n",
      "Avg Corruption Accuracy: 75.88%\n",
      "Global Sparsity: 43.73% \n",
      "\n",
      "---------- Pruning Iteration:  3 / 16\n"
     ]
    },
    {
     "name": "stderr",
     "output_type": "stream",
     "text": [
      "Loss=0.10295242816209793 Batch_id=19 Accuracy=96.37: 100%|██████████| 20/20 [00:22<00:00,  1.14s/it]\n",
      "Loss=0.08416900038719177 Batch_id=19 Accuracy=96.93: 100%|██████████| 20/20 [00:22<00:00,  1.13s/it]\n",
      "Loss=0.09456081688404083 Batch_id=19 Accuracy=97.21: 100%|██████████| 20/20 [00:22<00:00,  1.13s/it]\n",
      "Loss=0.08716849982738495 Batch_id=19 Accuracy=97.28: 100%|██████████| 20/20 [00:23<00:00,  1.15s/it]\n",
      "Loss=0.08661162108182907 Batch_id=19 Accuracy=97.48: 100%|██████████| 20/20 [00:22<00:00,  1.14s/it]\n"
     ]
    },
    {
     "name": "stdout",
     "output_type": "stream",
     "text": [
      "Epoch 00005: reducing learning rate of group 0 to 5.0000e-04.\n"
     ]
    },
    {
     "name": "stderr",
     "output_type": "stream",
     "text": [
      "Loss=0.066914863884449 Batch_id=19 Accuracy=97.62: 100%|██████████| 20/20 [00:22<00:00,  1.14s/it]  \n",
      "Loss=0.0676490068435669 Batch_id=19 Accuracy=97.83: 100%|██████████| 20/20 [00:22<00:00,  1.15s/it]  \n",
      "Loss=0.07754483819007874 Batch_id=19 Accuracy=97.76: 100%|██████████| 20/20 [00:22<00:00,  1.15s/it]\n",
      "Loss=0.05738598853349686 Batch_id=19 Accuracy=97.79: 100%|██████████| 20/20 [00:22<00:00,  1.14s/it]\n",
      "Loss=0.05540488287806511 Batch_id=19 Accuracy=97.90: 100%|██████████| 20/20 [00:22<00:00,  1.14s/it]\n"
     ]
    },
    {
     "name": "stdout",
     "output_type": "stream",
     "text": [
      "Test set: Average loss: 0.3958, Accuracy: 8906/10000 (89.06%)\n",
      "\n",
      "--Testing Corruptions--\n"
     ]
    },
    {
     "name": "stderr",
     "output_type": "stream",
     "text": [
      "100%|██████████| 19/19 [02:36<00:00,  8.21s/it]\n"
     ]
    },
    {
     "name": "stdout",
     "output_type": "stream",
     "text": [
      "\n",
      "Avg Corruption Accuracy: 75.96%\n",
      "Global Sparsity: 57.79% \n",
      "\n",
      "---------- Pruning Iteration:  4 / 16\n"
     ]
    },
    {
     "name": "stderr",
     "output_type": "stream",
     "text": [
      "Loss=0.1173819899559021 Batch_id=19 Accuracy=95.47: 100%|██████████| 20/20 [00:22<00:00,  1.14s/it] \n",
      "Loss=0.08249540627002716 Batch_id=19 Accuracy=96.69: 100%|██████████| 20/20 [00:22<00:00,  1.14s/it]\n",
      "Loss=0.09365715831518173 Batch_id=19 Accuracy=96.89: 100%|██████████| 20/20 [00:22<00:00,  1.15s/it]\n",
      "Loss=0.07100007683038712 Batch_id=19 Accuracy=97.23: 100%|██████████| 20/20 [00:23<00:00,  1.15s/it]\n",
      "Loss=0.0862993374466896 Batch_id=19 Accuracy=97.33: 100%|██████████| 20/20 [00:23<00:00,  1.15s/it] \n",
      "Loss=0.0970228984951973 Batch_id=19 Accuracy=97.46: 100%|██████████| 20/20 [00:22<00:00,  1.15s/it] \n",
      "Loss=0.08210663497447968 Batch_id=19 Accuracy=97.44: 100%|██████████| 20/20 [00:22<00:00,  1.14s/it]\n"
     ]
    },
    {
     "name": "stdout",
     "output_type": "stream",
     "text": [
      "Epoch 00007: reducing learning rate of group 0 to 5.0000e-04.\n"
     ]
    },
    {
     "name": "stderr",
     "output_type": "stream",
     "text": [
      "Loss=0.0656147375702858 Batch_id=19 Accuracy=97.78: 100%|██████████| 20/20 [00:22<00:00,  1.15s/it]  \n",
      "Loss=0.08003036677837372 Batch_id=19 Accuracy=97.90: 100%|██████████| 20/20 [00:23<00:00,  1.15s/it] \n",
      "Loss=0.06453748792409897 Batch_id=19 Accuracy=98.04: 100%|██████████| 20/20 [00:22<00:00,  1.15s/it] \n"
     ]
    },
    {
     "name": "stdout",
     "output_type": "stream",
     "text": [
      "Test set: Average loss: 0.4068, Accuracy: 8872/10000 (88.72%)\n",
      "\n",
      "--Testing Corruptions--\n"
     ]
    },
    {
     "name": "stderr",
     "output_type": "stream",
     "text": [
      "100%|██████████| 19/19 [02:38<00:00,  8.35s/it]\n"
     ]
    },
    {
     "name": "stdout",
     "output_type": "stream",
     "text": [
      "\n",
      "Avg Corruption Accuracy: 75.86%\n",
      "Global Sparsity: 68.33% \n",
      "\n",
      "---------- Pruning Iteration:  5 / 16\n"
     ]
    },
    {
     "name": "stderr",
     "output_type": "stream",
     "text": [
      "Loss=0.1312120109796524 Batch_id=19 Accuracy=92.90: 100%|██████████| 20/20 [00:23<00:00,  1.16s/it] \n",
      "Loss=0.10564950108528137 Batch_id=19 Accuracy=95.65: 100%|██████████| 20/20 [00:23<00:00,  1.16s/it]\n",
      "Loss=0.09229803085327148 Batch_id=19 Accuracy=96.68: 100%|██████████| 20/20 [00:23<00:00,  1.15s/it]\n",
      "Loss=0.0835149884223938 Batch_id=19 Accuracy=97.02: 100%|██████████| 20/20 [00:22<00:00,  1.15s/it] \n",
      "Loss=0.09402196109294891 Batch_id=19 Accuracy=97.41: 100%|██████████| 20/20 [00:23<00:00,  1.15s/it]\n",
      "Loss=0.07591389119625092 Batch_id=19 Accuracy=97.48: 100%|██████████| 20/20 [00:23<00:00,  1.16s/it]\n",
      "Loss=0.08230356872081757 Batch_id=19 Accuracy=97.60: 100%|██████████| 20/20 [00:23<00:00,  1.16s/it]\n",
      "Loss=0.0622229129076004 Batch_id=19 Accuracy=97.62: 100%|██████████| 20/20 [00:22<00:00,  1.15s/it] \n",
      "Loss=0.07471105456352234 Batch_id=19 Accuracy=97.86: 100%|██████████| 20/20 [00:23<00:00,  1.16s/it] \n",
      "Loss=0.06745446473360062 Batch_id=19 Accuracy=97.78: 100%|██████████| 20/20 [00:23<00:00,  1.16s/it]\n"
     ]
    },
    {
     "name": "stdout",
     "output_type": "stream",
     "text": [
      "Test set: Average loss: 0.4430, Accuracy: 8831/10000 (88.31%)\n",
      "\n",
      "--Skipping Acc Comp For Corrupted Data--\n",
      "Global Sparsity: 76.23% \n",
      "\n",
      "---------- Pruning Iteration:  6 / 16\n"
     ]
    },
    {
     "name": "stderr",
     "output_type": "stream",
     "text": [
      "Loss=0.20948955416679382 Batch_id=19 Accuracy=86.03: 100%|██████████| 20/20 [00:23<00:00,  1.15s/it]\n",
      "Loss=0.15576626360416412 Batch_id=19 Accuracy=93.07: 100%|██████████| 20/20 [00:23<00:00,  1.15s/it]\n",
      "Loss=0.11923481523990631 Batch_id=19 Accuracy=95.02: 100%|██████████| 20/20 [00:23<00:00,  1.16s/it]\n",
      "Loss=0.10487694293260574 Batch_id=19 Accuracy=95.80: 100%|██████████| 20/20 [00:23<00:00,  1.16s/it]\n",
      "Loss=0.10617054998874664 Batch_id=19 Accuracy=96.34: 100%|██████████| 20/20 [00:23<00:00,  1.15s/it]\n",
      "Loss=0.0905727818608284 Batch_id=19 Accuracy=96.78: 100%|██████████| 20/20 [00:23<00:00,  1.17s/it] \n",
      "Loss=0.08940812200307846 Batch_id=19 Accuracy=96.92: 100%|██████████| 20/20 [00:23<00:00,  1.16s/it]\n",
      "Loss=0.07576800882816315 Batch_id=19 Accuracy=97.16: 100%|██████████| 20/20 [00:23<00:00,  1.15s/it]\n",
      "Loss=0.0864197164773941 Batch_id=19 Accuracy=97.32: 100%|██████████| 20/20 [00:23<00:00,  1.16s/it] \n",
      "Loss=0.06253604590892792 Batch_id=19 Accuracy=97.47: 100%|██████████| 20/20 [00:23<00:00,  1.16s/it]\n"
     ]
    },
    {
     "name": "stdout",
     "output_type": "stream",
     "text": [
      "Test set: Average loss: 0.4069, Accuracy: 8904/10000 (89.04%)\n",
      "\n",
      "--Testing Corruptions--\n"
     ]
    },
    {
     "name": "stderr",
     "output_type": "stream",
     "text": [
      "100%|██████████| 19/19 [02:37<00:00,  8.28s/it]\n"
     ]
    },
    {
     "name": "stdout",
     "output_type": "stream",
     "text": [
      "\n",
      "Avg Corruption Accuracy: 75.27%\n",
      "Global Sparsity: 82.16% \n",
      "\n",
      "---------- Pruning Iteration:  7 / 16\n"
     ]
    },
    {
     "name": "stderr",
     "output_type": "stream",
     "text": [
      "Loss=0.3727043569087982 Batch_id=19 Accuracy=78.55: 100%|██████████| 20/20 [00:23<00:00,  1.16s/it] \n",
      "Loss=0.25587576627731323 Batch_id=19 Accuracy=89.22: 100%|██████████| 20/20 [00:23<00:00,  1.17s/it]\n",
      "Loss=0.21917396783828735 Batch_id=19 Accuracy=92.21: 100%|██████████| 20/20 [00:23<00:00,  1.18s/it]\n",
      "Loss=0.15502437949180603 Batch_id=19 Accuracy=93.63: 100%|██████████| 20/20 [00:23<00:00,  1.16s/it]\n",
      "Loss=0.1749701052904129 Batch_id=19 Accuracy=94.38: 100%|██████████| 20/20 [00:23<00:00,  1.16s/it] \n",
      "Loss=0.15047970414161682 Batch_id=19 Accuracy=95.14: 100%|██████████| 20/20 [00:23<00:00,  1.17s/it]\n",
      "Loss=0.14248943328857422 Batch_id=19 Accuracy=95.32: 100%|██████████| 20/20 [00:23<00:00,  1.16s/it]\n",
      "Loss=0.1303424835205078 Batch_id=19 Accuracy=95.77: 100%|██████████| 20/20 [00:23<00:00,  1.17s/it] \n",
      "Loss=0.13008442521095276 Batch_id=19 Accuracy=96.05: 100%|██████████| 20/20 [00:23<00:00,  1.16s/it]\n",
      "Loss=0.12209872901439667 Batch_id=19 Accuracy=96.25: 100%|██████████| 20/20 [00:23<00:00,  1.17s/it]\n"
     ]
    },
    {
     "name": "stdout",
     "output_type": "stream",
     "text": [
      "Test set: Average loss: 0.3612, Accuracy: 8926/10000 (89.26%)\n",
      "\n",
      "--Skipping Acc Comp For Corrupted Data--\n",
      "Global Sparsity: 86.61% \n",
      "\n",
      "---------- Pruning Iteration:  8 / 16\n"
     ]
    },
    {
     "name": "stderr",
     "output_type": "stream",
     "text": [
      "Loss=0.4093920886516571 Batch_id=19 Accuracy=76.65: 100%|██████████| 20/20 [00:23<00:00,  1.17s/it] \n",
      "Loss=0.3120110332965851 Batch_id=19 Accuracy=88.16: 100%|██████████| 20/20 [00:23<00:00,  1.16s/it] \n",
      "Loss=0.278018057346344 Batch_id=19 Accuracy=90.95: 100%|██████████| 20/20 [00:23<00:00,  1.17s/it]  \n",
      "Loss=0.1895521879196167 Batch_id=19 Accuracy=92.08: 100%|██████████| 20/20 [00:23<00:00,  1.17s/it] \n",
      "Loss=0.20827798545360565 Batch_id=19 Accuracy=93.15: 100%|██████████| 20/20 [00:23<00:00,  1.16s/it]\n",
      "Loss=0.18439893424510956 Batch_id=19 Accuracy=93.58: 100%|██████████| 20/20 [00:23<00:00,  1.16s/it]\n",
      "Loss=0.1647796332836151 Batch_id=19 Accuracy=93.85: 100%|██████████| 20/20 [00:23<00:00,  1.16s/it] \n",
      "Loss=0.18515139818191528 Batch_id=19 Accuracy=94.34: 100%|██████████| 20/20 [00:23<00:00,  1.17s/it]\n",
      "Loss=0.161813423037529 Batch_id=19 Accuracy=94.71: 100%|██████████| 20/20 [00:23<00:00,  1.16s/it]  \n",
      "Loss=0.13175499439239502 Batch_id=19 Accuracy=95.04: 100%|██████████| 20/20 [00:23<00:00,  1.16s/it]\n"
     ]
    },
    {
     "name": "stdout",
     "output_type": "stream",
     "text": [
      "Test set: Average loss: 0.3410, Accuracy: 8942/10000 (89.42%)\n",
      "\n",
      "--Testing Corruptions--\n"
     ]
    },
    {
     "name": "stderr",
     "output_type": "stream",
     "text": [
      "100%|██████████| 19/19 [02:44<00:00,  8.66s/it]\n"
     ]
    },
    {
     "name": "stdout",
     "output_type": "stream",
     "text": [
      "\n",
      "Avg Corruption Accuracy: 75.94%\n",
      "Global Sparsity: 89.95% \n",
      "\n",
      "---------- Pruning Iteration:  9 / 16\n"
     ]
    },
    {
     "name": "stderr",
     "output_type": "stream",
     "text": [
      "Loss=0.41178858280181885 Batch_id=19 Accuracy=77.80: 100%|██████████| 20/20 [00:23<00:00,  1.15s/it]\n",
      "Loss=0.27876830101013184 Batch_id=19 Accuracy=88.06: 100%|██████████| 20/20 [00:23<00:00,  1.17s/it]\n",
      "Loss=0.24809472262859344 Batch_id=19 Accuracy=90.68: 100%|██████████| 20/20 [00:23<00:00,  1.17s/it]\n",
      "Loss=0.21377746760845184 Batch_id=19 Accuracy=91.85: 100%|██████████| 20/20 [00:23<00:00,  1.17s/it]\n",
      "Loss=0.20606280863285065 Batch_id=19 Accuracy=92.66: 100%|██████████| 20/20 [00:23<00:00,  1.16s/it]\n",
      "Loss=0.1926705688238144 Batch_id=19 Accuracy=93.08: 100%|██████████| 20/20 [00:23<00:00,  1.17s/it] \n",
      "Loss=0.18905803561210632 Batch_id=19 Accuracy=93.49: 100%|██████████| 20/20 [00:23<00:00,  1.17s/it]\n",
      "Loss=0.1922614872455597 Batch_id=19 Accuracy=93.89: 100%|██████████| 20/20 [00:23<00:00,  1.17s/it] \n",
      "Loss=0.16016481816768646 Batch_id=19 Accuracy=94.06: 100%|██████████| 20/20 [00:23<00:00,  1.17s/it]\n",
      "Loss=0.17369644343852997 Batch_id=19 Accuracy=94.27: 100%|██████████| 20/20 [00:23<00:00,  1.17s/it]\n"
     ]
    },
    {
     "name": "stdout",
     "output_type": "stream",
     "text": [
      "Test set: Average loss: 0.3400, Accuracy: 8917/10000 (89.17%)\n",
      "\n",
      "--Skipping Acc Comp For Corrupted Data--\n",
      "Global Sparsity: 92.45% \n",
      "\n",
      "---------- Pruning Iteration:  10 / 16\n"
     ]
    },
    {
     "name": "stderr",
     "output_type": "stream",
     "text": [
      "Loss=0.4879816472530365 Batch_id=19 Accuracy=77.73: 100%|██████████| 20/20 [00:23<00:00,  1.17s/it] \n",
      "Loss=0.3237820863723755 Batch_id=19 Accuracy=87.50: 100%|██████████| 20/20 [00:23<00:00,  1.17s/it] \n",
      "Loss=0.2899627089500427 Batch_id=19 Accuracy=90.19: 100%|██████████| 20/20 [00:23<00:00,  1.17s/it] \n",
      "Loss=0.21822041273117065 Batch_id=19 Accuracy=91.38: 100%|██████████| 20/20 [00:23<00:00,  1.17s/it]\n",
      "Loss=0.23650279641151428 Batch_id=19 Accuracy=91.84: 100%|██████████| 20/20 [00:23<00:00,  1.18s/it]\n",
      "Loss=0.20015206933021545 Batch_id=19 Accuracy=92.45: 100%|██████████| 20/20 [00:23<00:00,  1.17s/it]\n",
      "Loss=0.22839294373989105 Batch_id=19 Accuracy=92.61: 100%|██████████| 20/20 [00:23<00:00,  1.17s/it]\n",
      "Loss=0.17465531826019287 Batch_id=19 Accuracy=93.24: 100%|██████████| 20/20 [00:23<00:00,  1.17s/it]\n",
      "Loss=0.1771128624677658 Batch_id=19 Accuracy=93.41: 100%|██████████| 20/20 [00:23<00:00,  1.17s/it] \n",
      "Loss=0.19676828384399414 Batch_id=19 Accuracy=93.68: 100%|██████████| 20/20 [00:23<00:00,  1.17s/it]\n"
     ]
    },
    {
     "name": "stdout",
     "output_type": "stream",
     "text": [
      "Test set: Average loss: 0.3386, Accuracy: 8935/10000 (89.35%)\n",
      "\n",
      "--Testing Corruptions--\n"
     ]
    },
    {
     "name": "stderr",
     "output_type": "stream",
     "text": [
      "100%|██████████| 19/19 [02:43<00:00,  8.61s/it]\n"
     ]
    },
    {
     "name": "stdout",
     "output_type": "stream",
     "text": [
      "\n",
      "Avg Corruption Accuracy: 75.26%\n",
      "Global Sparsity: 94.33% \n",
      "\n",
      "---------- Pruning Iteration:  11 / 16\n"
     ]
    },
    {
     "name": "stderr",
     "output_type": "stream",
     "text": [
      "Loss=0.47340986132621765 Batch_id=19 Accuracy=75.07: 100%|██████████| 20/20 [00:23<00:00,  1.18s/it]\n",
      "Loss=0.3384404182434082 Batch_id=19 Accuracy=86.21: 100%|██████████| 20/20 [00:23<00:00,  1.18s/it] \n",
      "Loss=0.32260027527809143 Batch_id=19 Accuracy=88.92: 100%|██████████| 20/20 [00:23<00:00,  1.18s/it]\n",
      "Loss=0.27668118476867676 Batch_id=19 Accuracy=90.13: 100%|██████████| 20/20 [00:23<00:00,  1.17s/it]\n",
      "Loss=0.24089644849300385 Batch_id=19 Accuracy=91.01: 100%|██████████| 20/20 [00:23<00:00,  1.17s/it]\n",
      "Loss=0.23831704258918762 Batch_id=19 Accuracy=91.31: 100%|██████████| 20/20 [00:23<00:00,  1.18s/it]\n",
      "Loss=0.2086590975522995 Batch_id=19 Accuracy=91.82: 100%|██████████| 20/20 [00:23<00:00,  1.17s/it] \n",
      "Loss=0.20258131623268127 Batch_id=19 Accuracy=92.37: 100%|██████████| 20/20 [00:23<00:00,  1.16s/it]\n",
      "Loss=0.20327579975128174 Batch_id=19 Accuracy=92.55: 100%|██████████| 20/20 [00:23<00:00,  1.16s/it]\n",
      "Loss=0.20196403563022614 Batch_id=19 Accuracy=92.63: 100%|██████████| 20/20 [00:23<00:00,  1.17s/it]\n"
     ]
    },
    {
     "name": "stdout",
     "output_type": "stream",
     "text": [
      "Test set: Average loss: 0.3300, Accuracy: 8907/10000 (89.07%)\n",
      "\n",
      "--Skipping Acc Comp For Corrupted Data--\n",
      "Global Sparsity: 95.73% \n",
      "\n",
      "---------- Pruning Iteration:  12 / 16\n"
     ]
    },
    {
     "name": "stderr",
     "output_type": "stream",
     "text": [
      "Loss=0.4623669385910034 Batch_id=19 Accuracy=73.79: 100%|██████████| 20/20 [00:23<00:00,  1.17s/it]\n",
      "Loss=0.36513030529022217 Batch_id=19 Accuracy=85.28: 100%|██████████| 20/20 [00:23<00:00,  1.18s/it]\n",
      "Loss=0.32044583559036255 Batch_id=19 Accuracy=88.04: 100%|██████████| 20/20 [00:23<00:00,  1.18s/it]\n",
      "Loss=0.3024134933948517 Batch_id=19 Accuracy=89.03: 100%|██████████| 20/20 [00:23<00:00,  1.18s/it] \n",
      "Loss=0.27741730213165283 Batch_id=19 Accuracy=90.03: 100%|██████████| 20/20 [00:23<00:00,  1.18s/it]\n",
      "Loss=0.2567117512226105 Batch_id=19 Accuracy=90.40: 100%|██████████| 20/20 [00:23<00:00,  1.18s/it] \n",
      "Loss=0.2578158974647522 Batch_id=19 Accuracy=90.91: 100%|██████████| 20/20 [00:23<00:00,  1.18s/it] \n",
      "Loss=0.2555885910987854 Batch_id=19 Accuracy=91.28: 100%|██████████| 20/20 [00:23<00:00,  1.18s/it] \n",
      "Loss=0.257015198469162 Batch_id=19 Accuracy=91.43: 100%|██████████| 20/20 [00:23<00:00,  1.18s/it]  \n",
      "Loss=0.24131956696510315 Batch_id=19 Accuracy=91.72: 100%|██████████| 20/20 [00:23<00:00,  1.18s/it]\n"
     ]
    },
    {
     "name": "stdout",
     "output_type": "stream",
     "text": [
      "Test set: Average loss: 0.3575, Accuracy: 8807/10000 (88.07%)\n",
      "\n",
      "--Skipping Acc Comp For Corrupted Data--\n",
      "Global Sparsity: 96.79% \n",
      "\n",
      "---------- Pruning Iteration:  13 / 16\n"
     ]
    },
    {
     "name": "stderr",
     "output_type": "stream",
     "text": [
      "Loss=0.5197893977165222 Batch_id=19 Accuracy=72.47: 100%|██████████| 20/20 [00:23<00:00,  1.18s/it]\n",
      "Loss=0.38864150643348694 Batch_id=19 Accuracy=84.11: 100%|██████████| 20/20 [00:23<00:00,  1.18s/it]\n",
      "Loss=0.35172542929649353 Batch_id=19 Accuracy=86.51: 100%|██████████| 20/20 [00:23<00:00,  1.18s/it]\n",
      "Loss=0.3790418207645416 Batch_id=19 Accuracy=87.77: 100%|██████████| 20/20 [00:23<00:00,  1.18s/it] \n",
      "Loss=0.3055008053779602 Batch_id=19 Accuracy=88.70: 100%|██████████| 20/20 [00:23<00:00,  1.17s/it] \n",
      "Loss=0.32482391595840454 Batch_id=19 Accuracy=89.22: 100%|██████████| 20/20 [00:23<00:00,  1.18s/it]\n",
      "Loss=0.308612197637558 Batch_id=19 Accuracy=89.55: 100%|██████████| 20/20 [00:23<00:00,  1.17s/it]  \n",
      "Loss=0.3176913559436798 Batch_id=19 Accuracy=89.84: 100%|██████████| 20/20 [00:23<00:00,  1.17s/it] \n"
     ]
    },
    {
     "name": "stdout",
     "output_type": "stream",
     "text": [
      "Epoch 00008: reducing learning rate of group 0 to 5.0000e-04.\n"
     ]
    },
    {
     "name": "stderr",
     "output_type": "stream",
     "text": [
      "Loss=0.28668785095214844 Batch_id=19 Accuracy=90.16: 100%|██████████| 20/20 [00:23<00:00,  1.17s/it]\n",
      "Loss=0.29059499502182007 Batch_id=19 Accuracy=90.53: 100%|██████████| 20/20 [00:23<00:00,  1.18s/it]\n"
     ]
    },
    {
     "name": "stdout",
     "output_type": "stream",
     "text": [
      "Test set: Average loss: 0.3491, Accuracy: 8816/10000 (88.16%)\n",
      "\n",
      "--Skipping Acc Comp For Corrupted Data--\n",
      "Global Sparsity: 97.58% \n",
      "\n",
      "---------- Pruning Iteration:  14 / 16\n"
     ]
    },
    {
     "name": "stderr",
     "output_type": "stream",
     "text": [
      "Loss=0.5934906005859375 Batch_id=19 Accuracy=72.24: 100%|██████████| 20/20 [00:23<00:00,  1.18s/it]\n",
      "Loss=0.45564207434654236 Batch_id=19 Accuracy=82.87: 100%|██████████| 20/20 [00:23<00:00,  1.18s/it]\n",
      "Loss=0.4257543683052063 Batch_id=19 Accuracy=85.09: 100%|██████████| 20/20 [00:23<00:00,  1.17s/it] \n",
      "Loss=0.38718381524086 Batch_id=19 Accuracy=86.35: 100%|██████████| 20/20 [00:23<00:00,  1.17s/it]   \n",
      "Loss=0.363086462020874 Batch_id=19 Accuracy=87.04: 100%|██████████| 20/20 [00:23<00:00,  1.18s/it]  \n",
      "Loss=0.33422908186912537 Batch_id=19 Accuracy=87.41: 100%|██████████| 20/20 [00:23<00:00,  1.17s/it]\n",
      "Loss=0.3547981381416321 Batch_id=19 Accuracy=87.81: 100%|██████████| 20/20 [00:23<00:00,  1.17s/it] \n",
      "Loss=0.3538863956928253 Batch_id=19 Accuracy=88.31: 100%|██████████| 20/20 [00:23<00:00,  1.17s/it] \n",
      "Loss=0.3110911548137665 Batch_id=19 Accuracy=88.56: 100%|██████████| 20/20 [00:23<00:00,  1.16s/it] \n",
      "Loss=0.33849525451660156 Batch_id=19 Accuracy=88.62: 100%|██████████| 20/20 [00:23<00:00,  1.16s/it]\n"
     ]
    },
    {
     "name": "stdout",
     "output_type": "stream",
     "text": [
      "Test set: Average loss: 0.3657, Accuracy: 8766/10000 (87.66%)\n",
      "\n",
      "--Skipping Acc Comp For Corrupted Data--\n",
      "Global Sparsity: 98.17% \n",
      "\n",
      "---------- Pruning Iteration:  15 / 16\n"
     ]
    },
    {
     "name": "stderr",
     "output_type": "stream",
     "text": [
      "Loss=0.6091024279594421 Batch_id=19 Accuracy=68.59: 100%|██████████| 20/20 [00:23<00:00,  1.17s/it]\n",
      "Loss=0.5069385170936584 Batch_id=19 Accuracy=80.85: 100%|██████████| 20/20 [00:23<00:00,  1.17s/it]\n",
      "Loss=0.48953524231910706 Batch_id=19 Accuracy=83.61: 100%|██████████| 20/20 [00:23<00:00,  1.17s/it]\n",
      "Loss=0.44778352975845337 Batch_id=19 Accuracy=84.95: 100%|██████████| 20/20 [00:23<00:00,  1.17s/it]\n",
      "Loss=0.44343098998069763 Batch_id=19 Accuracy=85.54: 100%|██████████| 20/20 [00:23<00:00,  1.17s/it]\n",
      "Loss=0.3715578317642212 Batch_id=19 Accuracy=86.16: 100%|██████████| 20/20 [00:23<00:00,  1.16s/it] \n",
      "Loss=0.41455531120300293 Batch_id=19 Accuracy=86.48: 100%|██████████| 20/20 [00:23<00:00,  1.17s/it]\n",
      "Loss=0.36213451623916626 Batch_id=19 Accuracy=86.68: 100%|██████████| 20/20 [00:23<00:00,  1.17s/it]\n",
      "Loss=0.3648947775363922 Batch_id=19 Accuracy=87.11: 100%|██████████| 20/20 [00:23<00:00,  1.17s/it] \n",
      "Loss=0.36261579394340515 Batch_id=19 Accuracy=87.26: 100%|██████████| 20/20 [00:23<00:00,  1.18s/it]\n"
     ]
    },
    {
     "name": "stdout",
     "output_type": "stream",
     "text": [
      "Test set: Average loss: 0.3965, Accuracy: 8651/10000 (86.51%)\n",
      "\n",
      "--Skipping Acc Comp For Corrupted Data--\n",
      "Global Sparsity: 98.62% \n",
      "\n",
      "---------- Pruning Iteration:  16 / 16\n"
     ]
    },
    {
     "name": "stderr",
     "output_type": "stream",
     "text": [
      "Loss=0.6241158246994019 Batch_id=19 Accuracy=69.18: 100%|██████████| 20/20 [00:23<00:00,  1.18s/it]\n",
      "Loss=0.5745075941085815 Batch_id=19 Accuracy=79.65: 100%|██████████| 20/20 [00:23<00:00,  1.18s/it]\n",
      "Loss=0.49094507098197937 Batch_id=19 Accuracy=82.36: 100%|██████████| 20/20 [00:23<00:00,  1.17s/it]\n",
      "Loss=0.5121439099311829 Batch_id=19 Accuracy=83.47: 100%|██████████| 20/20 [00:23<00:00,  1.17s/it] \n",
      "Loss=0.4644117057323456 Batch_id=19 Accuracy=83.98: 100%|██████████| 20/20 [00:23<00:00,  1.18s/it] \n",
      "Loss=0.45620423555374146 Batch_id=19 Accuracy=84.58: 100%|██████████| 20/20 [00:23<00:00,  1.18s/it]\n",
      "Loss=0.39161866903305054 Batch_id=19 Accuracy=84.93: 100%|██████████| 20/20 [00:23<00:00,  1.17s/it]\n",
      "Loss=0.4550611078739166 Batch_id=19 Accuracy=85.31: 100%|██████████| 20/20 [00:23<00:00,  1.18s/it] \n",
      "Loss=0.4497656524181366 Batch_id=19 Accuracy=85.28: 100%|██████████| 20/20 [00:23<00:00,  1.18s/it] \n",
      "Loss=0.430972695350647 Batch_id=19 Accuracy=85.78: 100%|██████████| 20/20 [00:23<00:00,  1.18s/it]  "
     ]
    },
    {
     "name": "stdout",
     "output_type": "stream",
     "text": [
      "Epoch 00010: reducing learning rate of group 0 to 5.0000e-04.\n"
     ]
    },
    {
     "name": "stderr",
     "output_type": "stream",
     "text": [
      "\n"
     ]
    },
    {
     "name": "stdout",
     "output_type": "stream",
     "text": [
      "Test set: Average loss: 0.4234, Accuracy: 8518/10000 (85.18%)\n",
      "\n",
      "--Testing Corruptions--\n"
     ]
    },
    {
     "name": "stderr",
     "output_type": "stream",
     "text": [
      "100%|██████████| 19/19 [02:47<00:00,  8.79s/it]"
     ]
    },
    {
     "name": "stdout",
     "output_type": "stream",
     "text": [
      "\n",
      "Avg Corruption Accuracy: 69.55%\n",
      "Global Sparsity: 98.95% \n",
      "\n"
     ]
    },
    {
     "name": "stderr",
     "output_type": "stream",
     "text": [
      "\n"
     ]
    }
   ],
   "source": [
    "#RestNet18\n",
    "model=copy.deepcopy(ResNet18_CIFAR10_0P)\n",
    "TrainLoader=trainloader_CIFAR10\n",
    "TestLoader=testloader_CIFAR10\n",
    "TestCLoader=loader_CIFAR10C\n",
    "PruningRate=0.25\n",
    "NumEpochsEachPruneRetrain=10\n",
    "MaximumPruneLevel=0.01\n",
    "lambda_l1=0\n",
    "lambda_l2=0.0005\n",
    "\n",
    "SaveTrainStepsName=\"Progress/PruningIterations_ResNet18_CIFAR_025PR_10Epochs_L2_0005\"\n",
    "\n",
    "\n",
    "ReadMe=\"This model is running pruning with the standard cost function, and the non corrupted dataset, a prunning rate of 0.25 and 10 epoch of retraining\\\n",
    "L2 Regularization of 0.0005 is used\\n\\nOriginal Model: ResNet18 Trained with CIFAR10 Dataset\"\n",
    "\n",
    "test_acc, Avg_Corrup_Acc_List, Acc_Corruptions, RemainingWeights_List, Sparcity_List=iterative_pruning(model,device, TrainLoader, TestLoader, TestCLoader, PruningRate, SaveTrainStepsName,ReadMe,\n",
    "                                                                                                        lambda_l1, lambda_l2, NumEpochsEachPruneRetrain,MaximumPruneLevel)"
   ]
  },
  {
   "cell_type": "code",
   "execution_count": 6,
   "metadata": {},
   "outputs": [
    {
     "name": "stdout",
     "output_type": "stream",
     "text": [
      "--Get statistics before pruning--\n",
      "Train set: Average loss: 0.1380, Accuracy: 47744/50000 (95.49%)\n",
      "Test set: Average loss: 0.3436, Accuracy: 8904/10000 (89.04%)\n",
      "\n",
      "--Testing Corruptions--\n"
     ]
    },
    {
     "name": "stderr",
     "output_type": "stream",
     "text": [
      "100%|██████████| 19/19 [02:49<00:00,  8.91s/it]\n"
     ]
    },
    {
     "name": "stdout",
     "output_type": "stream",
     "text": [
      "\n",
      "Avg Corruption Accuracy: 76.10%\n",
      "---------- Pruning Iteration:  1 / 44\n"
     ]
    },
    {
     "name": "stderr",
     "output_type": "stream",
     "text": [
      "Loss=0.1508515328168869 Batch_id=19 Accuracy=95.16: 100%|██████████| 20/20 [00:23<00:00,  1.19s/it] \n",
      "Loss=0.14574144780635834 Batch_id=19 Accuracy=95.26: 100%|██████████| 20/20 [00:23<00:00,  1.20s/it]\n",
      "Loss=0.1322164386510849 Batch_id=19 Accuracy=95.39: 100%|██████████| 20/20 [00:23<00:00,  1.19s/it] \n",
      "Loss=0.15824085474014282 Batch_id=19 Accuracy=95.62: 100%|██████████| 20/20 [00:23<00:00,  1.20s/it]\n",
      "Loss=0.1569252759218216 Batch_id=19 Accuracy=95.78: 100%|██████████| 20/20 [00:23<00:00,  1.19s/it] \n",
      "Loss=0.13301798701286316 Batch_id=19 Accuracy=95.82: 100%|██████████| 20/20 [00:23<00:00,  1.20s/it]\n"
     ]
    },
    {
     "name": "stdout",
     "output_type": "stream",
     "text": [
      "Epoch 00006: reducing learning rate of group 0 to 5.0000e-04.\n"
     ]
    },
    {
     "name": "stderr",
     "output_type": "stream",
     "text": [
      "Loss=0.11872871965169907 Batch_id=19 Accuracy=96.22: 100%|██████████| 20/20 [00:23<00:00,  1.19s/it]\n",
      "Loss=0.1157539039850235 Batch_id=19 Accuracy=96.32: 100%|██████████| 20/20 [00:23<00:00,  1.20s/it] \n",
      "Loss=0.10792640596628189 Batch_id=19 Accuracy=96.50: 100%|██████████| 20/20 [00:23<00:00,  1.20s/it]\n",
      "Loss=0.09698774665594101 Batch_id=19 Accuracy=96.49: 100%|██████████| 20/20 [00:23<00:00,  1.20s/it]\n"
     ]
    },
    {
     "name": "stdout",
     "output_type": "stream",
     "text": [
      "Test set: Average loss: 0.3545, Accuracy: 8906/10000 (89.06%)\n",
      "\n",
      "--Testing Corruptions--\n"
     ]
    },
    {
     "name": "stderr",
     "output_type": "stream",
     "text": [
      "100%|██████████| 19/19 [02:53<00:00,  9.11s/it]\n"
     ]
    },
    {
     "name": "stdout",
     "output_type": "stream",
     "text": [
      "\n",
      "Avg Corruption Accuracy: 76.16%\n",
      "Global Sparsity: 10.00% \n",
      "\n",
      "---------- Pruning Iteration:  2 / 44\n"
     ]
    },
    {
     "name": "stderr",
     "output_type": "stream",
     "text": [
      "Loss=0.11777311563491821 Batch_id=19 Accuracy=96.35: 100%|██████████| 20/20 [00:23<00:00,  1.20s/it]\n",
      "Loss=0.11722801625728607 Batch_id=19 Accuracy=96.38: 100%|██████████| 20/20 [00:24<00:00,  1.20s/it]\n",
      "Loss=0.11639967560768127 Batch_id=19 Accuracy=96.39: 100%|██████████| 20/20 [00:23<00:00,  1.20s/it]\n",
      "Loss=0.09452921152114868 Batch_id=19 Accuracy=96.62: 100%|██████████| 20/20 [00:24<00:00,  1.21s/it]\n",
      "Loss=0.09526950865983963 Batch_id=19 Accuracy=96.68: 100%|██████████| 20/20 [00:24<00:00,  1.20s/it]\n",
      "Loss=0.12246005237102509 Batch_id=19 Accuracy=96.74: 100%|██████████| 20/20 [00:24<00:00,  1.20s/it]\n",
      "Loss=0.10319404304027557 Batch_id=19 Accuracy=96.94: 100%|██████████| 20/20 [00:23<00:00,  1.20s/it]\n"
     ]
    },
    {
     "name": "stdout",
     "output_type": "stream",
     "text": [
      "Epoch 00007: reducing learning rate of group 0 to 5.0000e-04.\n"
     ]
    },
    {
     "name": "stderr",
     "output_type": "stream",
     "text": [
      "Loss=0.09427806735038757 Batch_id=19 Accuracy=96.94: 100%|██████████| 20/20 [00:23<00:00,  1.20s/it]\n",
      "Loss=0.06913122534751892 Batch_id=19 Accuracy=97.32: 100%|██████████| 20/20 [00:23<00:00,  1.20s/it]\n",
      "Loss=0.08617951720952988 Batch_id=19 Accuracy=97.29: 100%|██████████| 20/20 [00:23<00:00,  1.19s/it]\n"
     ]
    },
    {
     "name": "stdout",
     "output_type": "stream",
     "text": [
      "Test set: Average loss: 0.3701, Accuracy: 8905/10000 (89.05%)\n",
      "\n",
      "--Testing Corruptions--\n"
     ]
    },
    {
     "name": "stderr",
     "output_type": "stream",
     "text": [
      "100%|██████████| 19/19 [02:51<00:00,  9.03s/it]\n"
     ]
    },
    {
     "name": "stdout",
     "output_type": "stream",
     "text": [
      "\n",
      "Avg Corruption Accuracy: 76.01%\n",
      "Global Sparsity: 18.99% \n",
      "\n",
      "---------- Pruning Iteration:  3 / 44\n"
     ]
    },
    {
     "name": "stderr",
     "output_type": "stream",
     "text": [
      "Loss=0.09126866608858109 Batch_id=19 Accuracy=97.12: 100%|██████████| 20/20 [00:24<00:00,  1.20s/it]\n",
      "Loss=0.08727427572011948 Batch_id=19 Accuracy=97.06: 100%|██████████| 20/20 [00:24<00:00,  1.21s/it]\n",
      "Loss=0.08749350905418396 Batch_id=19 Accuracy=97.16: 100%|██████████| 20/20 [00:24<00:00,  1.21s/it]\n",
      "Loss=0.08679686486721039 Batch_id=19 Accuracy=97.38: 100%|██████████| 20/20 [00:24<00:00,  1.20s/it]\n",
      "Loss=0.07945507019758224 Batch_id=19 Accuracy=97.38: 100%|██████████| 20/20 [00:24<00:00,  1.21s/it]\n",
      "Loss=0.07750976085662842 Batch_id=19 Accuracy=97.49: 100%|██████████| 20/20 [00:24<00:00,  1.20s/it]\n",
      "Loss=0.10403599590063095 Batch_id=19 Accuracy=97.36: 100%|██████████| 20/20 [00:24<00:00,  1.21s/it]\n",
      "Loss=0.06962966918945312 Batch_id=19 Accuracy=97.49: 100%|██████████| 20/20 [00:24<00:00,  1.21s/it]\n",
      "Loss=0.06261374801397324 Batch_id=19 Accuracy=97.61: 100%|██████████| 20/20 [00:24<00:00,  1.21s/it]\n",
      "Loss=0.06138329952955246 Batch_id=19 Accuracy=97.62: 100%|██████████| 20/20 [00:24<00:00,  1.21s/it]\n"
     ]
    },
    {
     "name": "stdout",
     "output_type": "stream",
     "text": [
      "Test set: Average loss: 0.4197, Accuracy: 8844/10000 (88.44%)\n",
      "\n",
      "--Testing Corruptions--\n"
     ]
    },
    {
     "name": "stderr",
     "output_type": "stream",
     "text": [
      "100%|██████████| 19/19 [02:57<00:00,  9.34s/it]\n"
     ]
    },
    {
     "name": "stdout",
     "output_type": "stream",
     "text": [
      "\n",
      "Avg Corruption Accuracy: 75.01%\n",
      "Global Sparsity: 27.09% \n",
      "\n",
      "---------- Pruning Iteration:  4 / 44\n"
     ]
    },
    {
     "name": "stderr",
     "output_type": "stream",
     "text": [
      "Loss=0.09503906220197678 Batch_id=19 Accuracy=97.53: 100%|██████████| 20/20 [00:24<00:00,  1.20s/it]\n",
      "Loss=0.06508547067642212 Batch_id=19 Accuracy=97.59: 100%|██████████| 20/20 [00:24<00:00,  1.21s/it]\n",
      "Loss=0.05374578759074211 Batch_id=19 Accuracy=97.82: 100%|██████████| 20/20 [00:24<00:00,  1.22s/it] \n",
      "Loss=0.0869043618440628 Batch_id=19 Accuracy=98.02: 100%|██████████| 20/20 [00:24<00:00,  1.21s/it]  \n",
      "Loss=0.05518427491188049 Batch_id=19 Accuracy=98.05: 100%|██████████| 20/20 [00:24<00:00,  1.22s/it] \n",
      "Loss=0.0541716068983078 Batch_id=19 Accuracy=98.04: 100%|██████████| 20/20 [00:24<00:00,  1.21s/it] \n"
     ]
    },
    {
     "name": "stdout",
     "output_type": "stream",
     "text": [
      "Epoch 00006: reducing learning rate of group 0 to 5.0000e-04.\n"
     ]
    },
    {
     "name": "stderr",
     "output_type": "stream",
     "text": [
      "Loss=0.04268587753176689 Batch_id=19 Accuracy=98.33: 100%|██████████| 20/20 [00:24<00:00,  1.21s/it] \n",
      "Loss=0.046442918479442596 Batch_id=19 Accuracy=98.42: 100%|██████████| 20/20 [00:24<00:00,  1.21s/it]\n",
      "Loss=0.05572669208049774 Batch_id=19 Accuracy=98.50: 100%|██████████| 20/20 [00:24<00:00,  1.21s/it] \n",
      "Loss=0.061001989990472794 Batch_id=19 Accuracy=98.47: 100%|██████████| 20/20 [00:24<00:00,  1.21s/it]"
     ]
    },
    {
     "name": "stdout",
     "output_type": "stream",
     "text": [
      "Epoch 00010: reducing learning rate of group 0 to 2.5000e-05.\n"
     ]
    },
    {
     "name": "stderr",
     "output_type": "stream",
     "text": [
      "\n"
     ]
    },
    {
     "name": "stdout",
     "output_type": "stream",
     "text": [
      "Test set: Average loss: 0.4048, Accuracy: 8921/10000 (89.21%)\n",
      "\n",
      "--Skipping Acc Comp For Corrupted Data--\n",
      "Global Sparsity: 34.37% \n",
      "\n",
      "---------- Pruning Iteration:  5 / 44\n"
     ]
    },
    {
     "name": "stderr",
     "output_type": "stream",
     "text": [
      "Loss=0.07000109553337097 Batch_id=19 Accuracy=97.94: 100%|██████████| 20/20 [00:24<00:00,  1.22s/it]\n",
      "Loss=0.0750325620174408 Batch_id=19 Accuracy=98.06: 100%|██████████| 20/20 [00:24<00:00,  1.21s/it] \n",
      "Loss=0.052455395460128784 Batch_id=19 Accuracy=98.13: 100%|██████████| 20/20 [00:24<00:00,  1.21s/it]\n",
      "Loss=0.060510825365781784 Batch_id=19 Accuracy=98.20: 100%|██████████| 20/20 [00:24<00:00,  1.22s/it]\n",
      "Loss=0.04452275484800339 Batch_id=19 Accuracy=98.34: 100%|██████████| 20/20 [00:24<00:00,  1.21s/it] \n",
      "Loss=0.047625333070755005 Batch_id=19 Accuracy=98.36: 100%|██████████| 20/20 [00:24<00:00,  1.21s/it]\n",
      "Loss=0.05056637153029442 Batch_id=19 Accuracy=98.42: 100%|██████████| 20/20 [00:24<00:00,  1.22s/it] \n",
      "Loss=0.057977255433797836 Batch_id=19 Accuracy=98.47: 100%|██████████| 20/20 [00:24<00:00,  1.23s/it]\n"
     ]
    },
    {
     "name": "stdout",
     "output_type": "stream",
     "text": [
      "Epoch 00008: reducing learning rate of group 0 to 5.0000e-04.\n"
     ]
    },
    {
     "name": "stderr",
     "output_type": "stream",
     "text": [
      "Loss=0.0405479334294796 Batch_id=19 Accuracy=98.52: 100%|██████████| 20/20 [00:24<00:00,  1.22s/it]  \n",
      "Loss=0.05400995910167694 Batch_id=19 Accuracy=98.71: 100%|██████████| 20/20 [00:24<00:00,  1.21s/it] \n"
     ]
    },
    {
     "name": "stdout",
     "output_type": "stream",
     "text": [
      "Test set: Average loss: 0.4115, Accuracy: 8904/10000 (89.04%)\n",
      "\n",
      "--Testing Corruptions--\n"
     ]
    },
    {
     "name": "stderr",
     "output_type": "stream",
     "text": [
      "100%|██████████| 19/19 [02:59<00:00,  9.45s/it]\n"
     ]
    },
    {
     "name": "stdout",
     "output_type": "stream",
     "text": [
      "\n",
      "Avg Corruption Accuracy: 76.32%\n",
      "Global Sparsity: 40.93% \n",
      "\n",
      "---------- Pruning Iteration:  6 / 44\n"
     ]
    },
    {
     "name": "stderr",
     "output_type": "stream",
     "text": [
      "Loss=0.051165591925382614 Batch_id=19 Accuracy=98.06: 100%|██████████| 20/20 [00:24<00:00,  1.22s/it]\n",
      "Loss=0.05083676427602768 Batch_id=19 Accuracy=98.16: 100%|██████████| 20/20 [00:24<00:00,  1.22s/it] \n",
      "Loss=0.05147814378142357 Batch_id=19 Accuracy=98.39: 100%|██████████| 20/20 [00:24<00:00,  1.22s/it] \n",
      "Loss=0.04205760732293129 Batch_id=19 Accuracy=98.50: 100%|██████████| 20/20 [00:24<00:00,  1.24s/it] \n",
      "Loss=0.0558437779545784 Batch_id=19 Accuracy=98.54: 100%|██████████| 20/20 [00:24<00:00,  1.22s/it]  \n",
      "Loss=0.04296795278787613 Batch_id=19 Accuracy=98.56: 100%|██████████| 20/20 [00:24<00:00,  1.21s/it] \n",
      "Loss=0.053178440779447556 Batch_id=19 Accuracy=98.54: 100%|██████████| 20/20 [00:24<00:00,  1.22s/it]\n"
     ]
    },
    {
     "name": "stdout",
     "output_type": "stream",
     "text": [
      "Epoch 00007: reducing learning rate of group 0 to 5.0000e-04.\n"
     ]
    },
    {
     "name": "stderr",
     "output_type": "stream",
     "text": [
      "Loss=0.04240870848298073 Batch_id=19 Accuracy=98.70: 100%|██████████| 20/20 [00:24<00:00,  1.22s/it] \n",
      "Loss=0.04199288412928581 Batch_id=19 Accuracy=98.83: 100%|██████████| 20/20 [00:24<00:00,  1.22s/it] \n",
      "Loss=0.04094462841749191 Batch_id=19 Accuracy=98.92: 100%|██████████| 20/20 [00:24<00:00,  1.22s/it] \n"
     ]
    },
    {
     "name": "stdout",
     "output_type": "stream",
     "text": [
      "Test set: Average loss: 0.4117, Accuracy: 8955/10000 (89.55%)\n",
      "\n",
      "--Skipping Acc Comp For Corrupted Data--\n",
      "Global Sparsity: 46.83% \n",
      "\n",
      "---------- Pruning Iteration:  7 / 44\n"
     ]
    },
    {
     "name": "stderr",
     "output_type": "stream",
     "text": [
      "Loss=0.05401768907904625 Batch_id=19 Accuracy=98.22: 100%|██████████| 20/20 [00:24<00:00,  1.22s/it] \n",
      "Loss=0.04029516875743866 Batch_id=19 Accuracy=98.31: 100%|██████████| 20/20 [00:24<00:00,  1.22s/it] \n",
      "Loss=0.04856177419424057 Batch_id=19 Accuracy=98.46: 100%|██████████| 20/20 [00:24<00:00,  1.22s/it] \n",
      "Loss=0.04457416012883186 Batch_id=19 Accuracy=98.53: 100%|██████████| 20/20 [00:24<00:00,  1.21s/it] \n",
      "Loss=0.03538338840007782 Batch_id=19 Accuracy=98.66: 100%|██████████| 20/20 [00:24<00:00,  1.22s/it] \n",
      "Loss=0.057709962129592896 Batch_id=19 Accuracy=98.67: 100%|██████████| 20/20 [00:24<00:00,  1.22s/it]\n",
      "Loss=0.03734064847230911 Batch_id=19 Accuracy=98.64: 100%|██████████| 20/20 [00:24<00:00,  1.22s/it] \n",
      "Loss=0.04109623283147812 Batch_id=19 Accuracy=98.81: 100%|██████████| 20/20 [00:24<00:00,  1.22s/it] \n"
     ]
    },
    {
     "name": "stdout",
     "output_type": "stream",
     "text": [
      "Epoch 00008: reducing learning rate of group 0 to 5.0000e-04.\n"
     ]
    },
    {
     "name": "stderr",
     "output_type": "stream",
     "text": [
      "Loss=0.04096671938896179 Batch_id=19 Accuracy=98.87: 100%|██████████| 20/20 [00:24<00:00,  1.21s/it] \n",
      "Loss=0.033513277769088745 Batch_id=19 Accuracy=98.98: 100%|██████████| 20/20 [00:24<00:00,  1.22s/it]\n"
     ]
    },
    {
     "name": "stdout",
     "output_type": "stream",
     "text": [
      "Test set: Average loss: 0.4277, Accuracy: 8906/10000 (89.06%)\n",
      "\n",
      "--Testing Corruptions--\n"
     ]
    },
    {
     "name": "stderr",
     "output_type": "stream",
     "text": [
      "100%|██████████| 19/19 [03:04<00:00,  9.69s/it]\n"
     ]
    },
    {
     "name": "stdout",
     "output_type": "stream",
     "text": [
      "\n",
      "Avg Corruption Accuracy: 75.74%\n",
      "Global Sparsity: 52.15% \n",
      "\n",
      "---------- Pruning Iteration:  8 / 44\n"
     ]
    },
    {
     "name": "stderr",
     "output_type": "stream",
     "text": [
      "Loss=0.06881135702133179 Batch_id=19 Accuracy=98.03: 100%|██████████| 20/20 [00:25<00:00,  1.27s/it] \n",
      "Loss=0.04714694246649742 Batch_id=19 Accuracy=98.47: 100%|██████████| 20/20 [00:25<00:00,  1.26s/it] \n",
      "Loss=0.04746953025460243 Batch_id=19 Accuracy=98.63: 100%|██████████| 20/20 [00:25<00:00,  1.26s/it] \n",
      "Loss=0.027876494452357292 Batch_id=19 Accuracy=98.72: 100%|██████████| 20/20 [00:25<00:00,  1.26s/it]\n",
      "Loss=0.04715326428413391 Batch_id=19 Accuracy=98.66: 100%|██████████| 20/20 [00:25<00:00,  1.26s/it] \n",
      "Loss=0.029256798326969147 Batch_id=19 Accuracy=98.80: 100%|██████████| 20/20 [00:25<00:00,  1.25s/it]\n",
      "Loss=0.04054240509867668 Batch_id=19 Accuracy=98.73: 100%|██████████| 20/20 [00:25<00:00,  1.27s/it] \n"
     ]
    },
    {
     "name": "stdout",
     "output_type": "stream",
     "text": [
      "Epoch 00007: reducing learning rate of group 0 to 5.0000e-04.\n"
     ]
    },
    {
     "name": "stderr",
     "output_type": "stream",
     "text": [
      "Loss=0.03317231312394142 Batch_id=19 Accuracy=99.05: 100%|██████████| 20/20 [00:25<00:00,  1.26s/it] \n",
      "Loss=0.028163429349660873 Batch_id=19 Accuracy=99.10: 100%|██████████| 20/20 [00:25<00:00,  1.26s/it]\n",
      "Loss=0.02641993947327137 Batch_id=19 Accuracy=99.10: 100%|██████████| 20/20 [00:25<00:00,  1.27s/it] \n"
     ]
    },
    {
     "name": "stdout",
     "output_type": "stream",
     "text": [
      "Test set: Average loss: 0.4347, Accuracy: 8944/10000 (89.44%)\n",
      "\n",
      "--Skipping Acc Comp For Corrupted Data--\n",
      "Global Sparsity: 56.93% \n",
      "\n",
      "---------- Pruning Iteration:  9 / 44\n"
     ]
    },
    {
     "name": "stderr",
     "output_type": "stream",
     "text": [
      "Loss=0.057560034096241 Batch_id=19 Accuracy=97.90: 100%|██████████| 20/20 [00:25<00:00,  1.27s/it]   \n",
      "Loss=0.04235514625906944 Batch_id=19 Accuracy=98.35: 100%|██████████| 20/20 [00:25<00:00,  1.26s/it] \n",
      "Loss=0.04844240844249725 Batch_id=19 Accuracy=98.53: 100%|██████████| 20/20 [00:25<00:00,  1.26s/it] \n",
      "Loss=0.03339121490716934 Batch_id=19 Accuracy=98.76: 100%|██████████| 20/20 [00:25<00:00,  1.26s/it] \n",
      "Loss=0.04696594923734665 Batch_id=19 Accuracy=98.78: 100%|██████████| 20/20 [00:25<00:00,  1.26s/it] \n",
      "Loss=0.03186054155230522 Batch_id=19 Accuracy=98.86: 100%|██████████| 20/20 [00:25<00:00,  1.26s/it] \n",
      "Loss=0.028741857036948204 Batch_id=19 Accuracy=99.02: 100%|██████████| 20/20 [00:25<00:00,  1.27s/it]\n",
      "Loss=0.03151564300060272 Batch_id=19 Accuracy=98.94: 100%|██████████| 20/20 [00:25<00:00,  1.27s/it] \n",
      "Loss=0.039176300168037415 Batch_id=19 Accuracy=98.94: 100%|██████████| 20/20 [00:25<00:00,  1.27s/it]\n",
      "Loss=0.022277778014540672 Batch_id=19 Accuracy=98.94: 100%|██████████| 20/20 [00:25<00:00,  1.26s/it]\n"
     ]
    },
    {
     "name": "stdout",
     "output_type": "stream",
     "text": [
      "Test set: Average loss: 0.4596, Accuracy: 8889/10000 (88.89%)\n",
      "\n",
      "--Testing Corruptions--\n"
     ]
    },
    {
     "name": "stderr",
     "output_type": "stream",
     "text": [
      "100%|██████████| 19/19 [03:11<00:00, 10.09s/it]\n"
     ]
    },
    {
     "name": "stdout",
     "output_type": "stream",
     "text": [
      "\n",
      "Avg Corruption Accuracy: 75.70%\n",
      "Global Sparsity: 61.23% \n",
      "\n",
      "---------- Pruning Iteration:  10 / 44\n"
     ]
    },
    {
     "name": "stderr",
     "output_type": "stream",
     "text": [
      "Loss=0.05461835116147995 Batch_id=19 Accuracy=97.06: 100%|██████████| 20/20 [00:25<00:00,  1.27s/it] \n",
      "Loss=0.04027686268091202 Batch_id=19 Accuracy=98.45: 100%|██████████| 20/20 [00:24<00:00,  1.24s/it] \n",
      "Loss=0.0406067781150341 Batch_id=19 Accuracy=98.69: 100%|██████████| 20/20 [00:24<00:00,  1.23s/it]  \n",
      "Loss=0.03342410922050476 Batch_id=19 Accuracy=98.74: 100%|██████████| 20/20 [00:24<00:00,  1.24s/it] \n",
      "Loss=0.030170373618602753 Batch_id=19 Accuracy=98.85: 100%|██████████| 20/20 [00:24<00:00,  1.24s/it]\n",
      "Loss=0.02563440427184105 Batch_id=19 Accuracy=98.89: 100%|██████████| 20/20 [00:24<00:00,  1.24s/it] \n",
      "Loss=0.029076211154460907 Batch_id=19 Accuracy=99.06: 100%|██████████| 20/20 [00:24<00:00,  1.24s/it]\n",
      "Loss=0.019910549744963646 Batch_id=19 Accuracy=99.07: 100%|██████████| 20/20 [00:24<00:00,  1.23s/it]\n",
      "Loss=0.031493350863456726 Batch_id=19 Accuracy=99.08: 100%|██████████| 20/20 [00:24<00:00,  1.23s/it]\n",
      "Loss=0.031114045530557632 Batch_id=19 Accuracy=99.03: 100%|██████████| 20/20 [00:24<00:00,  1.23s/it]\n"
     ]
    },
    {
     "name": "stdout",
     "output_type": "stream",
     "text": [
      "Test set: Average loss: 0.4661, Accuracy: 8901/10000 (89.01%)\n",
      "\n",
      "--Skipping Acc Comp For Corrupted Data--\n",
      "Global Sparsity: 65.10% \n",
      "\n",
      "---------- Pruning Iteration:  11 / 44\n"
     ]
    },
    {
     "name": "stderr",
     "output_type": "stream",
     "text": [
      "Loss=0.07021180540323257 Batch_id=19 Accuracy=96.68: 100%|██████████| 20/20 [00:24<00:00,  1.23s/it] \n",
      "Loss=0.052817363291978836 Batch_id=19 Accuracy=98.18: 100%|██████████| 20/20 [00:24<00:00,  1.23s/it]\n",
      "Loss=0.042875949293375015 Batch_id=19 Accuracy=98.71: 100%|██████████| 20/20 [00:24<00:00,  1.23s/it]\n",
      "Loss=0.029229257255792618 Batch_id=19 Accuracy=98.87: 100%|██████████| 20/20 [00:24<00:00,  1.23s/it]\n",
      "Loss=0.02380327135324478 Batch_id=19 Accuracy=98.95: 100%|██████████| 20/20 [00:24<00:00,  1.24s/it] \n",
      "Loss=0.02749226987361908 Batch_id=19 Accuracy=99.10: 100%|██████████| 20/20 [00:24<00:00,  1.23s/it] \n",
      "Loss=0.030364032834768295 Batch_id=19 Accuracy=99.05: 100%|██████████| 20/20 [00:24<00:00,  1.24s/it]\n",
      "Loss=0.027642061933875084 Batch_id=19 Accuracy=99.07: 100%|██████████| 20/20 [00:24<00:00,  1.24s/it]\n"
     ]
    },
    {
     "name": "stdout",
     "output_type": "stream",
     "text": [
      "Epoch 00008: reducing learning rate of group 0 to 5.0000e-04.\n"
     ]
    },
    {
     "name": "stderr",
     "output_type": "stream",
     "text": [
      "Loss=0.025094663724303246 Batch_id=19 Accuracy=99.21: 100%|██████████| 20/20 [00:25<00:00,  1.26s/it]\n",
      "Loss=0.01804899238049984 Batch_id=19 Accuracy=99.32: 100%|██████████| 20/20 [00:25<00:00,  1.26s/it] \n"
     ]
    },
    {
     "name": "stdout",
     "output_type": "stream",
     "text": [
      "Test set: Average loss: 0.4463, Accuracy: 8925/10000 (89.25%)\n",
      "\n",
      "--Testing Corruptions--\n"
     ]
    },
    {
     "name": "stderr",
     "output_type": "stream",
     "text": [
      "100%|██████████| 19/19 [03:02<00:00,  9.58s/it]\n"
     ]
    },
    {
     "name": "stdout",
     "output_type": "stream",
     "text": [
      "\n",
      "Avg Corruption Accuracy: 76.24%\n",
      "Global Sparsity: 68.59% \n",
      "\n",
      "---------- Pruning Iteration:  12 / 44\n"
     ]
    },
    {
     "name": "stderr",
     "output_type": "stream",
     "text": [
      "Loss=0.062110789120197296 Batch_id=19 Accuracy=95.78: 100%|██████████| 20/20 [00:24<00:00,  1.24s/it]\n",
      "Loss=0.05195309594273567 Batch_id=19 Accuracy=98.32: 100%|██████████| 20/20 [00:24<00:00,  1.24s/it] \n",
      "Loss=0.03554084897041321 Batch_id=19 Accuracy=98.71: 100%|██████████| 20/20 [00:24<00:00,  1.24s/it] \n",
      "Loss=0.030499663203954697 Batch_id=19 Accuracy=99.01: 100%|██████████| 20/20 [00:24<00:00,  1.24s/it]\n",
      "Loss=0.04216155782341957 Batch_id=19 Accuracy=98.96: 100%|██████████| 20/20 [00:24<00:00,  1.24s/it] \n",
      "Loss=0.027702754363417625 Batch_id=19 Accuracy=99.10: 100%|██████████| 20/20 [00:24<00:00,  1.24s/it]\n",
      "Loss=0.033266328275203705 Batch_id=19 Accuracy=99.13: 100%|██████████| 20/20 [00:24<00:00,  1.24s/it]\n",
      "Loss=0.028003990650177002 Batch_id=19 Accuracy=99.18: 100%|██████████| 20/20 [00:24<00:00,  1.25s/it]\n",
      "Loss=0.03398025035858154 Batch_id=19 Accuracy=99.14: 100%|██████████| 20/20 [00:24<00:00,  1.25s/it] \n"
     ]
    },
    {
     "name": "stdout",
     "output_type": "stream",
     "text": [
      "Epoch 00009: reducing learning rate of group 0 to 5.0000e-04.\n"
     ]
    },
    {
     "name": "stderr",
     "output_type": "stream",
     "text": [
      "Loss=0.03633065149188042 Batch_id=19 Accuracy=99.26: 100%|██████████| 20/20 [00:24<00:00,  1.24s/it] \n"
     ]
    },
    {
     "name": "stdout",
     "output_type": "stream",
     "text": [
      "Test set: Average loss: 0.4510, Accuracy: 8945/10000 (89.45%)\n",
      "\n",
      "--Skipping Acc Comp For Corrupted Data--\n",
      "Global Sparsity: 71.72% \n",
      "\n",
      "---------- Pruning Iteration:  13 / 44\n"
     ]
    },
    {
     "name": "stderr",
     "output_type": "stream",
     "text": [
      "Loss=0.07789254933595657 Batch_id=19 Accuracy=94.74: 100%|██████████| 20/20 [00:24<00:00,  1.24s/it]\n",
      "Loss=0.03926447033882141 Batch_id=19 Accuracy=97.86: 100%|██████████| 20/20 [00:24<00:00,  1.24s/it] \n",
      "Loss=0.038554877042770386 Batch_id=19 Accuracy=98.65: 100%|██████████| 20/20 [00:24<00:00,  1.24s/it]\n",
      "Loss=0.029790500178933144 Batch_id=19 Accuracy=98.93: 100%|██████████| 20/20 [00:24<00:00,  1.24s/it]\n",
      "Loss=0.026722054928541183 Batch_id=19 Accuracy=99.03: 100%|██████████| 20/20 [00:24<00:00,  1.24s/it]\n",
      "Loss=0.029685210436582565 Batch_id=19 Accuracy=99.05: 100%|██████████| 20/20 [00:24<00:00,  1.24s/it]\n",
      "Loss=0.031627316027879715 Batch_id=19 Accuracy=99.08: 100%|██████████| 20/20 [00:24<00:00,  1.25s/it]\n",
      "Loss=0.026574883610010147 Batch_id=19 Accuracy=99.13: 100%|██████████| 20/20 [00:24<00:00,  1.23s/it]\n",
      "Loss=0.031563613563776016 Batch_id=19 Accuracy=99.24: 100%|██████████| 20/20 [00:24<00:00,  1.24s/it]\n",
      "Loss=0.0192068163305521 Batch_id=19 Accuracy=99.18: 100%|██████████| 20/20 [00:25<00:00,  1.26s/it]  \n"
     ]
    },
    {
     "name": "stdout",
     "output_type": "stream",
     "text": [
      "Test set: Average loss: 0.4754, Accuracy: 8893/10000 (88.93%)\n",
      "\n",
      "--Skipping Acc Comp For Corrupted Data--\n",
      "Global Sparsity: 74.55% \n",
      "\n",
      "---------- Pruning Iteration:  14 / 44\n"
     ]
    },
    {
     "name": "stderr",
     "output_type": "stream",
     "text": [
      "Loss=0.09203416109085083 Batch_id=19 Accuracy=93.02: 100%|██████████| 20/20 [00:24<00:00,  1.23s/it]\n",
      "Loss=0.054909221827983856 Batch_id=19 Accuracy=97.65: 100%|██████████| 20/20 [00:24<00:00,  1.24s/it]\n",
      "Loss=0.030359316617250443 Batch_id=19 Accuracy=98.54: 100%|██████████| 20/20 [00:24<00:00,  1.24s/it]\n",
      "Loss=0.03955915570259094 Batch_id=19 Accuracy=98.87: 100%|██████████| 20/20 [00:24<00:00,  1.24s/it] \n",
      "Loss=0.04133075103163719 Batch_id=19 Accuracy=98.93: 100%|██████████| 20/20 [00:24<00:00,  1.25s/it] \n",
      "Loss=0.041754115372896194 Batch_id=19 Accuracy=99.08: 100%|██████████| 20/20 [00:24<00:00,  1.24s/it]\n"
     ]
    },
    {
     "name": "stdout",
     "output_type": "stream",
     "text": [
      "Epoch 00006: reducing learning rate of group 0 to 5.0000e-04.\n"
     ]
    },
    {
     "name": "stderr",
     "output_type": "stream",
     "text": [
      "Loss=0.03089529275894165 Batch_id=19 Accuracy=99.15: 100%|██████████| 20/20 [00:24<00:00,  1.25s/it] \n",
      "Loss=0.0311956238001585 Batch_id=19 Accuracy=99.24: 100%|██████████| 20/20 [00:24<00:00,  1.24s/it]  \n",
      "Loss=0.02266428992152214 Batch_id=19 Accuracy=99.25: 100%|██████████| 20/20 [00:24<00:00,  1.24s/it] \n",
      "Loss=0.023853691294789314 Batch_id=19 Accuracy=99.30: 100%|██████████| 20/20 [00:24<00:00,  1.24s/it]\n"
     ]
    },
    {
     "name": "stdout",
     "output_type": "stream",
     "text": [
      "Test set: Average loss: 0.4310, Accuracy: 8965/10000 (89.65%)\n",
      "\n",
      "--Skipping Acc Comp For Corrupted Data--\n",
      "Global Sparsity: 77.09% \n",
      "\n",
      "---------- Pruning Iteration:  15 / 44\n"
     ]
    },
    {
     "name": "stderr",
     "output_type": "stream",
     "text": [
      "Loss=0.097173310816288 Batch_id=19 Accuracy=93.48: 100%|██████████| 20/20 [00:37<00:00,  1.86s/it]  \n",
      "Loss=0.055598191916942596 Batch_id=19 Accuracy=97.54: 100%|██████████| 20/20 [00:24<00:00,  1.23s/it]\n",
      "Loss=0.03828352689743042 Batch_id=19 Accuracy=98.39: 100%|██████████| 20/20 [00:36<00:00,  1.84s/it] \n",
      "Loss=0.033827610313892365 Batch_id=19 Accuracy=98.68: 100%|██████████| 20/20 [00:36<00:00,  1.85s/it]\n",
      "Loss=0.03301340714097023 Batch_id=19 Accuracy=98.87: 100%|██████████| 20/20 [00:24<00:00,  1.24s/it] \n",
      "Loss=0.03759043663740158 Batch_id=19 Accuracy=99.03: 100%|██████████| 20/20 [00:37<00:00,  1.85s/it] \n",
      "Loss=0.03149231895804405 Batch_id=19 Accuracy=98.99: 100%|██████████| 20/20 [00:36<00:00,  1.84s/it] \n",
      "Loss=0.027851896360516548 Batch_id=19 Accuracy=99.05: 100%|██████████| 20/20 [00:24<00:00,  1.24s/it]\n",
      "Loss=0.03601507470011711 Batch_id=19 Accuracy=99.20: 100%|██████████| 20/20 [00:36<00:00,  1.84s/it] \n",
      "Loss=0.021889125928282738 Batch_id=19 Accuracy=99.18: 100%|██████████| 20/20 [00:36<00:00,  1.84s/it]\n"
     ]
    },
    {
     "name": "stdout",
     "output_type": "stream",
     "text": [
      "Test set: Average loss: 0.4350, Accuracy: 8938/10000 (89.38%)\n",
      "\n",
      "--Testing Corruptions--\n"
     ]
    },
    {
     "name": "stderr",
     "output_type": "stream",
     "text": [
      "100%|██████████| 19/19 [03:22<00:00, 10.65s/it]\n"
     ]
    },
    {
     "name": "stdout",
     "output_type": "stream",
     "text": [
      "\n",
      "Avg Corruption Accuracy: 76.28%\n",
      "Global Sparsity: 79.37% \n",
      "\n",
      "---------- Pruning Iteration:  16 / 44\n"
     ]
    },
    {
     "name": "stderr",
     "output_type": "stream",
     "text": [
      "Loss=0.10210268199443817 Batch_id=19 Accuracy=91.37: 100%|██████████| 20/20 [00:24<00:00,  1.24s/it]\n",
      "Loss=0.05570440739393234 Batch_id=19 Accuracy=97.22: 100%|██████████| 20/20 [00:24<00:00,  1.25s/it] \n",
      "Loss=0.05126848816871643 Batch_id=19 Accuracy=98.45: 100%|██████████| 20/20 [00:24<00:00,  1.21s/it]\n",
      "Loss=0.03424513712525368 Batch_id=19 Accuracy=98.76: 100%|██████████| 20/20 [00:25<00:00,  1.25s/it] \n",
      "Loss=0.02923332154750824 Batch_id=19 Accuracy=98.93: 100%|██████████| 20/20 [00:24<00:00,  1.25s/it] \n",
      "Loss=0.03884449973702431 Batch_id=19 Accuracy=99.03: 100%|██████████| 20/20 [00:24<00:00,  1.25s/it] \n",
      "Loss=0.036262188106775284 Batch_id=19 Accuracy=99.06: 100%|██████████| 20/20 [00:24<00:00,  1.25s/it]\n",
      "Loss=0.03385172784328461 Batch_id=19 Accuracy=99.16: 100%|██████████| 20/20 [00:25<00:00,  1.28s/it] \n"
     ]
    },
    {
     "name": "stdout",
     "output_type": "stream",
     "text": [
      "Epoch 00008: reducing learning rate of group 0 to 5.0000e-04.\n"
     ]
    },
    {
     "name": "stderr",
     "output_type": "stream",
     "text": [
      "Loss=0.026636261492967606 Batch_id=19 Accuracy=99.17: 100%|██████████| 20/20 [00:25<00:00,  1.25s/it]\n",
      "Loss=0.028422465547919273 Batch_id=19 Accuracy=99.28: 100%|██████████| 20/20 [00:24<00:00,  1.25s/it]\n"
     ]
    },
    {
     "name": "stdout",
     "output_type": "stream",
     "text": [
      "Test set: Average loss: 0.4163, Accuracy: 8951/10000 (89.51%)\n",
      "\n",
      "--Skipping Acc Comp For Corrupted Data--\n",
      "Global Sparsity: 81.43% \n",
      "\n",
      "---------- Pruning Iteration:  17 / 44\n"
     ]
    },
    {
     "name": "stderr",
     "output_type": "stream",
     "text": [
      "Loss=0.10336456447839737 Batch_id=19 Accuracy=92.50: 100%|██████████| 20/20 [00:24<00:00,  1.24s/it]\n",
      "Loss=0.042831677943468094 Batch_id=19 Accuracy=97.34: 100%|██████████| 20/20 [00:25<00:00,  1.25s/it]\n",
      "Loss=0.03329997509717941 Batch_id=19 Accuracy=98.30: 100%|██████████| 20/20 [00:24<00:00,  1.25s/it] \n",
      "Loss=0.04676103591918945 Batch_id=19 Accuracy=98.67: 100%|██████████| 20/20 [00:24<00:00,  1.24s/it] \n",
      "Loss=0.02729884535074234 Batch_id=19 Accuracy=98.87: 100%|██████████| 20/20 [00:25<00:00,  1.25s/it] \n",
      "Loss=0.04742933809757233 Batch_id=19 Accuracy=98.90: 100%|██████████| 20/20 [00:24<00:00,  1.25s/it] \n",
      "Loss=0.032630521804094315 Batch_id=19 Accuracy=99.04: 100%|██████████| 20/20 [00:24<00:00,  1.24s/it]\n",
      "Loss=0.0301571823656559 Batch_id=19 Accuracy=99.17: 100%|██████████| 20/20 [00:24<00:00,  1.24s/it]  \n"
     ]
    },
    {
     "name": "stdout",
     "output_type": "stream",
     "text": [
      "Epoch 00008: reducing learning rate of group 0 to 5.0000e-04.\n"
     ]
    },
    {
     "name": "stderr",
     "output_type": "stream",
     "text": [
      "Loss=0.024267669767141342 Batch_id=19 Accuracy=99.16: 100%|██████████| 20/20 [00:24<00:00,  1.25s/it]\n",
      "Loss=0.029172690585255623 Batch_id=19 Accuracy=99.22: 100%|██████████| 20/20 [00:24<00:00,  1.24s/it]\n"
     ]
    },
    {
     "name": "stdout",
     "output_type": "stream",
     "text": [
      "Test set: Average loss: 0.4050, Accuracy: 8961/10000 (89.61%)\n",
      "\n",
      "--Skipping Acc Comp For Corrupted Data--\n",
      "Global Sparsity: 83.28% \n",
      "\n",
      "---------- Pruning Iteration:  18 / 44\n"
     ]
    },
    {
     "name": "stderr",
     "output_type": "stream",
     "text": [
      "Loss=0.12132418155670166 Batch_id=19 Accuracy=92.28: 100%|██████████| 20/20 [00:24<00:00,  1.24s/it]\n",
      "Loss=0.06691538542509079 Batch_id=19 Accuracy=97.26: 100%|██████████| 20/20 [00:24<00:00,  1.25s/it]\n",
      "Loss=0.040563903748989105 Batch_id=19 Accuracy=98.38: 100%|██████████| 20/20 [00:24<00:00,  1.24s/it]\n",
      "Loss=0.04442687705159187 Batch_id=19 Accuracy=98.66: 100%|██████████| 20/20 [00:24<00:00,  1.25s/it] \n",
      "Loss=0.04608728364109993 Batch_id=19 Accuracy=98.84: 100%|██████████| 20/20 [00:25<00:00,  1.25s/it] \n",
      "Loss=0.03748605400323868 Batch_id=19 Accuracy=98.94: 100%|██████████| 20/20 [00:24<00:00,  1.25s/it] \n",
      "Loss=0.03443243354558945 Batch_id=19 Accuracy=99.05: 100%|██████████| 20/20 [00:25<00:00,  1.25s/it] \n",
      "Loss=0.029409537091851234 Batch_id=19 Accuracy=99.10: 100%|██████████| 20/20 [00:25<00:00,  1.25s/it]\n",
      "Loss=0.031260985881090164 Batch_id=19 Accuracy=99.06: 100%|██████████| 20/20 [00:24<00:00,  1.25s/it]\n",
      "Loss=0.03149445727467537 Batch_id=19 Accuracy=99.15: 100%|██████████| 20/20 [00:24<00:00,  1.24s/it] \n"
     ]
    },
    {
     "name": "stdout",
     "output_type": "stream",
     "text": [
      "Test set: Average loss: 0.4117, Accuracy: 8929/10000 (89.29%)\n",
      "\n",
      "--Skipping Acc Comp For Corrupted Data--\n",
      "Global Sparsity: 84.95% \n",
      "\n",
      "---------- Pruning Iteration:  19 / 44\n"
     ]
    },
    {
     "name": "stderr",
     "output_type": "stream",
     "text": [
      "Loss=0.12537837028503418 Batch_id=19 Accuracy=91.08: 100%|██████████| 20/20 [00:24<00:00,  1.25s/it]\n",
      "Loss=0.06546308100223541 Batch_id=19 Accuracy=97.10: 100%|██████████| 20/20 [00:24<00:00,  1.25s/it]\n",
      "Loss=0.05238912254571915 Batch_id=19 Accuracy=98.32: 100%|██████████| 20/20 [00:24<00:00,  1.24s/it] \n",
      "Loss=0.03896262124180794 Batch_id=19 Accuracy=98.66: 100%|██████████| 20/20 [00:25<00:00,  1.26s/it] \n",
      "Loss=0.03332434594631195 Batch_id=19 Accuracy=98.93: 100%|██████████| 20/20 [00:24<00:00,  1.24s/it] \n",
      "Loss=0.02948455885052681 Batch_id=19 Accuracy=98.95: 100%|██████████| 20/20 [00:24<00:00,  1.24s/it] \n",
      "Loss=0.034800369292497635 Batch_id=19 Accuracy=99.00: 100%|██████████| 20/20 [00:24<00:00,  1.25s/it]\n",
      "Loss=0.028163999319076538 Batch_id=19 Accuracy=99.02: 100%|██████████| 20/20 [00:24<00:00,  1.24s/it]\n",
      "Loss=0.02632013149559498 Batch_id=19 Accuracy=99.08: 100%|██████████| 20/20 [00:24<00:00,  1.25s/it] \n",
      "Loss=0.022129323333501816 Batch_id=19 Accuracy=99.19: 100%|██████████| 20/20 [00:24<00:00,  1.25s/it]\n"
     ]
    },
    {
     "name": "stdout",
     "output_type": "stream",
     "text": [
      "Test set: Average loss: 0.3945, Accuracy: 8963/10000 (89.63%)\n",
      "\n",
      "--Skipping Acc Comp For Corrupted Data--\n",
      "Global Sparsity: 86.45% \n",
      "\n",
      "---------- Pruning Iteration:  20 / 44\n"
     ]
    },
    {
     "name": "stderr",
     "output_type": "stream",
     "text": [
      "Loss=0.12925057113170624 Batch_id=19 Accuracy=91.74: 100%|██████████| 20/20 [00:24<00:00,  1.25s/it]\n",
      "Loss=0.06648842990398407 Batch_id=19 Accuracy=97.12: 100%|██████████| 20/20 [00:25<00:00,  1.25s/it]\n",
      "Loss=0.05311167240142822 Batch_id=19 Accuracy=98.24: 100%|██████████| 20/20 [00:24<00:00,  1.24s/it] \n",
      "Loss=0.04471305012702942 Batch_id=19 Accuracy=98.55: 100%|██████████| 20/20 [00:24<00:00,  1.25s/it] \n",
      "Loss=0.03742147982120514 Batch_id=19 Accuracy=98.79: 100%|██████████| 20/20 [00:24<00:00,  1.25s/it] \n",
      "Loss=0.03966088965535164 Batch_id=19 Accuracy=98.89: 100%|██████████| 20/20 [00:25<00:00,  1.25s/it] \n",
      "Loss=0.027014294639229774 Batch_id=19 Accuracy=99.04: 100%|██████████| 20/20 [00:25<00:00,  1.25s/it]\n",
      "Loss=0.02985485829412937 Batch_id=19 Accuracy=99.04: 100%|██████████| 20/20 [00:24<00:00,  1.24s/it] \n",
      "Loss=0.033258263021707535 Batch_id=19 Accuracy=99.02: 100%|██████████| 20/20 [00:24<00:00,  1.24s/it]\n",
      "Loss=0.023999841883778572 Batch_id=19 Accuracy=99.18: 100%|██████████| 20/20 [00:25<00:00,  1.25s/it]\n"
     ]
    },
    {
     "name": "stdout",
     "output_type": "stream",
     "text": [
      "Test set: Average loss: 0.3833, Accuracy: 8983/10000 (89.83%)\n",
      "\n",
      "--Skipping Acc Comp For Corrupted Data--\n",
      "Global Sparsity: 87.80% \n",
      "\n",
      "---------- Pruning Iteration:  21 / 44\n"
     ]
    },
    {
     "name": "stderr",
     "output_type": "stream",
     "text": [
      "Loss=0.12257261574268341 Batch_id=19 Accuracy=92.56: 100%|██████████| 20/20 [00:25<00:00,  1.27s/it]\n",
      "Loss=0.06060847267508507 Batch_id=19 Accuracy=97.27: 100%|██████████| 20/20 [00:25<00:00,  1.26s/it] \n",
      "Loss=0.042831625789403915 Batch_id=19 Accuracy=98.28: 100%|██████████| 20/20 [00:24<00:00,  1.25s/it]\n",
      "Loss=0.04363535717129707 Batch_id=19 Accuracy=98.56: 100%|██████████| 20/20 [00:24<00:00,  1.24s/it] \n",
      "Loss=0.050667718052864075 Batch_id=19 Accuracy=98.83: 100%|██████████| 20/20 [00:24<00:00,  1.25s/it]\n",
      "Loss=0.03315938636660576 Batch_id=19 Accuracy=98.88: 100%|██████████| 20/20 [00:25<00:00,  1.25s/it] \n",
      "Loss=0.039462823420763016 Batch_id=19 Accuracy=99.00: 100%|██████████| 20/20 [00:24<00:00,  1.25s/it]\n",
      "Loss=0.038899559527635574 Batch_id=19 Accuracy=98.98: 100%|██████████| 20/20 [00:24<00:00,  1.25s/it]\n",
      "Loss=0.040805634111166 Batch_id=19 Accuracy=99.07: 100%|██████████| 20/20 [00:24<00:00,  1.24s/it]   \n"
     ]
    },
    {
     "name": "stdout",
     "output_type": "stream",
     "text": [
      "Epoch 00009: reducing learning rate of group 0 to 5.0000e-04.\n"
     ]
    },
    {
     "name": "stderr",
     "output_type": "stream",
     "text": [
      "Loss=0.03444323688745499 Batch_id=19 Accuracy=99.11: 100%|██████████| 20/20 [00:24<00:00,  1.24s/it] \n"
     ]
    },
    {
     "name": "stdout",
     "output_type": "stream",
     "text": [
      "Test set: Average loss: 0.3745, Accuracy: 8985/10000 (89.85%)\n",
      "\n",
      "--Skipping Acc Comp For Corrupted Data--\n",
      "Global Sparsity: 89.02% \n",
      "\n",
      "---------- Pruning Iteration:  22 / 44\n"
     ]
    },
    {
     "name": "stderr",
     "output_type": "stream",
     "text": [
      "Loss=0.11231563985347748 Batch_id=19 Accuracy=92.67: 100%|██████████| 20/20 [00:24<00:00,  1.25s/it]\n",
      "Loss=0.08267582207918167 Batch_id=19 Accuracy=97.33: 100%|██████████| 20/20 [00:25<00:00,  1.25s/it]\n",
      "Loss=0.06449645757675171 Batch_id=19 Accuracy=98.21: 100%|██████████| 20/20 [00:24<00:00,  1.24s/it] \n",
      "Loss=0.058837756514549255 Batch_id=19 Accuracy=98.52: 100%|██████████| 20/20 [00:24<00:00,  1.24s/it]\n",
      "Loss=0.040639348328113556 Batch_id=19 Accuracy=98.68: 100%|██████████| 20/20 [00:24<00:00,  1.24s/it]\n",
      "Loss=0.0408821739256382 Batch_id=19 Accuracy=98.72: 100%|██████████| 20/20 [00:24<00:00,  1.24s/it]  \n",
      "Loss=0.03416148200631142 Batch_id=19 Accuracy=98.84: 100%|██████████| 20/20 [00:24<00:00,  1.24s/it] \n",
      "Loss=0.034368742257356644 Batch_id=19 Accuracy=99.00: 100%|██████████| 20/20 [00:24<00:00,  1.24s/it]\n",
      "Loss=0.0415189154446125 Batch_id=19 Accuracy=99.03: 100%|██████████| 20/20 [00:24<00:00,  1.24s/it]  \n",
      "Loss=0.030517837032675743 Batch_id=19 Accuracy=99.03: 100%|██████████| 20/20 [00:24<00:00,  1.24s/it]\n"
     ]
    },
    {
     "name": "stdout",
     "output_type": "stream",
     "text": [
      "Test set: Average loss: 0.3847, Accuracy: 8972/10000 (89.72%)\n",
      "\n",
      "--Testing Corruptions--\n"
     ]
    },
    {
     "name": "stderr",
     "output_type": "stream",
     "text": [
      "100%|██████████| 19/19 [03:15<00:00, 10.31s/it]\n"
     ]
    },
    {
     "name": "stdout",
     "output_type": "stream",
     "text": [
      "\n",
      "Avg Corruption Accuracy: 76.43%\n",
      "Global Sparsity: 90.11% \n",
      "\n",
      "---------- Pruning Iteration:  23 / 44\n"
     ]
    },
    {
     "name": "stderr",
     "output_type": "stream",
     "text": [
      "Loss=0.10619273781776428 Batch_id=19 Accuracy=92.78: 100%|██████████| 20/20 [00:24<00:00,  1.24s/it]\n",
      "Loss=0.07191865891218185 Batch_id=19 Accuracy=97.36: 100%|██████████| 20/20 [00:24<00:00,  1.25s/it]\n",
      "Loss=0.04942018911242485 Batch_id=19 Accuracy=98.28: 100%|██████████| 20/20 [00:25<00:00,  1.25s/it] \n",
      "Loss=0.0428086593747139 Batch_id=19 Accuracy=98.50: 100%|██████████| 20/20 [00:25<00:00,  1.25s/it]  \n",
      "Loss=0.049725696444511414 Batch_id=19 Accuracy=98.56: 100%|██████████| 20/20 [00:24<00:00,  1.25s/it]\n",
      "Loss=0.051345448940992355 Batch_id=19 Accuracy=98.82: 100%|██████████| 20/20 [00:25<00:00,  1.25s/it]\n",
      "Loss=0.05148376524448395 Batch_id=19 Accuracy=98.81: 100%|██████████| 20/20 [00:24<00:00,  1.25s/it] \n"
     ]
    },
    {
     "name": "stdout",
     "output_type": "stream",
     "text": [
      "Epoch 00007: reducing learning rate of group 0 to 5.0000e-04.\n"
     ]
    },
    {
     "name": "stderr",
     "output_type": "stream",
     "text": [
      "Loss=0.04456533119082451 Batch_id=19 Accuracy=98.92: 100%|██████████| 20/20 [00:25<00:00,  1.25s/it] \n",
      "Loss=0.03506764397025108 Batch_id=19 Accuracy=99.03: 100%|██████████| 20/20 [00:24<00:00,  1.25s/it] \n",
      "Loss=0.03611759468913078 Batch_id=19 Accuracy=98.97: 100%|██████████| 20/20 [00:25<00:00,  1.26s/it] \n"
     ]
    },
    {
     "name": "stdout",
     "output_type": "stream",
     "text": [
      "Test set: Average loss: 0.3715, Accuracy: 8976/10000 (89.76%)\n",
      "\n",
      "--Skipping Acc Comp For Corrupted Data--\n",
      "Global Sparsity: 91.10% \n",
      "\n",
      "---------- Pruning Iteration:  24 / 44\n"
     ]
    },
    {
     "name": "stderr",
     "output_type": "stream",
     "text": [
      "Loss=0.11607098579406738 Batch_id=19 Accuracy=92.79: 100%|██████████| 20/20 [00:25<00:00,  1.25s/it]\n",
      "Loss=0.07450420409440994 Batch_id=19 Accuracy=97.17: 100%|██████████| 20/20 [00:24<00:00,  1.24s/it]\n",
      "Loss=0.06038103252649307 Batch_id=19 Accuracy=98.05: 100%|██████████| 20/20 [00:24<00:00,  1.25s/it] \n",
      "Loss=0.05511169880628586 Batch_id=19 Accuracy=98.31: 100%|██████████| 20/20 [00:25<00:00,  1.25s/it] \n",
      "Loss=0.05498826131224632 Batch_id=19 Accuracy=98.54: 100%|██████████| 20/20 [00:25<00:00,  1.26s/it] \n",
      "Loss=0.05402615666389465 Batch_id=19 Accuracy=98.48: 100%|██████████| 20/20 [00:25<00:00,  1.25s/it] \n",
      "Loss=0.0594010129570961 Batch_id=19 Accuracy=98.59: 100%|██████████| 20/20 [00:25<00:00,  1.25s/it]  \n",
      "Loss=0.047272659838199615 Batch_id=19 Accuracy=98.75: 100%|██████████| 20/20 [00:25<00:00,  1.26s/it]\n",
      "Loss=0.04197719693183899 Batch_id=19 Accuracy=98.82: 100%|██████████| 20/20 [00:25<00:00,  1.25s/it] \n",
      "Loss=0.03626812994480133 Batch_id=19 Accuracy=98.87: 100%|██████████| 20/20 [00:25<00:00,  1.25s/it] \n"
     ]
    },
    {
     "name": "stdout",
     "output_type": "stream",
     "text": [
      "Test set: Average loss: 0.3764, Accuracy: 8980/10000 (89.80%)\n",
      "\n",
      "--Skipping Acc Comp For Corrupted Data--\n",
      "Global Sparsity: 91.98% \n",
      "\n",
      "---------- Pruning Iteration:  25 / 44\n"
     ]
    },
    {
     "name": "stderr",
     "output_type": "stream",
     "text": [
      "Loss=0.12381289899349213 Batch_id=19 Accuracy=92.80: 100%|██████████| 20/20 [00:25<00:00,  1.25s/it]\n",
      "Loss=0.0831373780965805 Batch_id=19 Accuracy=96.92: 100%|██████████| 20/20 [00:25<00:00,  1.25s/it] \n",
      "Loss=0.06415640562772751 Batch_id=19 Accuracy=97.95: 100%|██████████| 20/20 [00:25<00:00,  1.25s/it]\n",
      "Loss=0.05200451239943504 Batch_id=19 Accuracy=98.30: 100%|██████████| 20/20 [00:25<00:00,  1.25s/it] \n",
      "Loss=0.06425317376852036 Batch_id=19 Accuracy=98.41: 100%|██████████| 20/20 [00:25<00:00,  1.25s/it] \n",
      "Loss=0.055005114525556564 Batch_id=19 Accuracy=98.47: 100%|██████████| 20/20 [00:24<00:00,  1.25s/it]\n",
      "Loss=0.05326734483242035 Batch_id=19 Accuracy=98.60: 100%|██████████| 20/20 [00:25<00:00,  1.25s/it] \n"
     ]
    },
    {
     "name": "stdout",
     "output_type": "stream",
     "text": [
      "Epoch 00007: reducing learning rate of group 0 to 5.0000e-04.\n"
     ]
    },
    {
     "name": "stderr",
     "output_type": "stream",
     "text": [
      "Loss=0.03809935599565506 Batch_id=19 Accuracy=98.72: 100%|██████████| 20/20 [00:25<00:00,  1.26s/it] \n",
      "Loss=0.04762273654341698 Batch_id=19 Accuracy=98.73: 100%|██████████| 20/20 [00:25<00:00,  1.27s/it] \n",
      "Loss=0.05074995383620262 Batch_id=19 Accuracy=98.84: 100%|██████████| 20/20 [00:25<00:00,  1.26s/it] \n"
     ]
    },
    {
     "name": "stdout",
     "output_type": "stream",
     "text": [
      "Test set: Average loss: 0.3606, Accuracy: 8990/10000 (89.90%)\n",
      "\n",
      "--Skipping Acc Comp For Corrupted Data--\n",
      "Global Sparsity: 92.78% \n",
      "\n",
      "---------- Pruning Iteration:  26 / 44\n"
     ]
    },
    {
     "name": "stderr",
     "output_type": "stream",
     "text": [
      "Loss=0.13334089517593384 Batch_id=19 Accuracy=92.83: 100%|██████████| 20/20 [00:25<00:00,  1.25s/it]\n",
      "Loss=0.06906740367412567 Batch_id=19 Accuracy=96.76: 100%|██████████| 20/20 [00:25<00:00,  1.25s/it]\n",
      "Loss=0.08425350487232208 Batch_id=19 Accuracy=97.74: 100%|██████████| 20/20 [00:24<00:00,  1.25s/it]\n",
      "Loss=0.06578822433948517 Batch_id=19 Accuracy=98.00: 100%|██████████| 20/20 [00:24<00:00,  1.25s/it] \n",
      "Loss=0.06590088456869125 Batch_id=19 Accuracy=98.16: 100%|██████████| 20/20 [00:24<00:00,  1.25s/it] \n",
      "Loss=0.060709163546562195 Batch_id=19 Accuracy=98.34: 100%|██████████| 20/20 [00:25<00:00,  1.25s/it]\n",
      "Loss=0.050276003777980804 Batch_id=19 Accuracy=98.41: 100%|██████████| 20/20 [00:24<00:00,  1.25s/it]\n",
      "Loss=0.05662320554256439 Batch_id=19 Accuracy=98.41: 100%|██████████| 20/20 [00:25<00:00,  1.27s/it] \n",
      "Loss=0.04651651531457901 Batch_id=19 Accuracy=98.52: 100%|██████████| 20/20 [00:24<00:00,  1.25s/it] \n",
      "Loss=0.04745791479945183 Batch_id=19 Accuracy=98.57: 100%|██████████| 20/20 [00:25<00:00,  1.25s/it] \n"
     ]
    },
    {
     "name": "stdout",
     "output_type": "stream",
     "text": [
      "Test set: Average loss: 0.3664, Accuracy: 8970/10000 (89.70%)\n",
      "\n",
      "--Skipping Acc Comp For Corrupted Data--\n",
      "Global Sparsity: 93.50% \n",
      "\n",
      "---------- Pruning Iteration:  27 / 44\n"
     ]
    },
    {
     "name": "stderr",
     "output_type": "stream",
     "text": [
      "Loss=0.12294633686542511 Batch_id=19 Accuracy=92.69: 100%|██████████| 20/20 [00:25<00:00,  1.26s/it]\n",
      "Loss=0.07718577980995178 Batch_id=19 Accuracy=96.74: 100%|██████████| 20/20 [00:25<00:00,  1.26s/it]\n",
      "Loss=0.05267878621816635 Batch_id=19 Accuracy=97.64: 100%|██████████| 20/20 [00:25<00:00,  1.25s/it]\n",
      "Loss=0.04905232787132263 Batch_id=19 Accuracy=97.84: 100%|██████████| 20/20 [00:25<00:00,  1.25s/it]\n",
      "Loss=0.062750443816185 Batch_id=19 Accuracy=98.14: 100%|██████████| 20/20 [00:24<00:00,  1.25s/it]   \n",
      "Loss=0.05212629586458206 Batch_id=19 Accuracy=98.21: 100%|██████████| 20/20 [00:25<00:00,  1.25s/it] \n",
      "Loss=0.06309405714273453 Batch_id=19 Accuracy=98.36: 100%|██████████| 20/20 [00:25<00:00,  1.25s/it] \n"
     ]
    },
    {
     "name": "stdout",
     "output_type": "stream",
     "text": [
      "Epoch 00007: reducing learning rate of group 0 to 5.0000e-04.\n"
     ]
    },
    {
     "name": "stderr",
     "output_type": "stream",
     "text": [
      "Loss=0.05417870357632637 Batch_id=19 Accuracy=98.54: 100%|██████████| 20/20 [00:24<00:00,  1.25s/it] \n",
      "Loss=0.041687287390232086 Batch_id=19 Accuracy=98.63: 100%|██████████| 20/20 [00:24<00:00,  1.25s/it]\n",
      "Loss=0.04846200346946716 Batch_id=19 Accuracy=98.67: 100%|██████████| 20/20 [00:24<00:00,  1.25s/it] \n"
     ]
    },
    {
     "name": "stdout",
     "output_type": "stream",
     "text": [
      "Test set: Average loss: 0.3496, Accuracy: 8990/10000 (89.90%)\n",
      "\n",
      "--Skipping Acc Comp For Corrupted Data--\n",
      "Global Sparsity: 94.14% \n",
      "\n",
      "---------- Pruning Iteration:  28 / 44\n"
     ]
    },
    {
     "name": "stderr",
     "output_type": "stream",
     "text": [
      "Loss=0.15404671430587769 Batch_id=19 Accuracy=92.96: 100%|██████████| 20/20 [00:25<00:00,  1.25s/it]\n",
      "Loss=0.09767439216375351 Batch_id=19 Accuracy=96.53: 100%|██████████| 20/20 [00:25<00:00,  1.25s/it]\n",
      "Loss=0.09066596627235413 Batch_id=19 Accuracy=97.30: 100%|██████████| 20/20 [00:24<00:00,  1.25s/it]\n",
      "Loss=0.07814187556505203 Batch_id=19 Accuracy=97.67: 100%|██████████| 20/20 [00:25<00:00,  1.25s/it]\n",
      "Loss=0.07893981784582138 Batch_id=19 Accuracy=97.97: 100%|██████████| 20/20 [00:25<00:00,  1.26s/it]\n",
      "Loss=0.06512666493654251 Batch_id=19 Accuracy=98.04: 100%|██████████| 20/20 [00:24<00:00,  1.25s/it]\n",
      "Loss=0.06352821737527847 Batch_id=19 Accuracy=98.17: 100%|██████████| 20/20 [00:25<00:00,  1.26s/it]\n",
      "Loss=0.05429496616125107 Batch_id=19 Accuracy=98.24: 100%|██████████| 20/20 [00:25<00:00,  1.25s/it] \n",
      "Loss=0.05471828579902649 Batch_id=19 Accuracy=98.25: 100%|██████████| 20/20 [00:25<00:00,  1.25s/it] \n",
      "Loss=0.056584667414426804 Batch_id=19 Accuracy=98.26: 100%|██████████| 20/20 [00:24<00:00,  1.25s/it]\n"
     ]
    },
    {
     "name": "stdout",
     "output_type": "stream",
     "text": [
      "Test set: Average loss: 0.3572, Accuracy: 9003/10000 (90.03%)\n",
      "\n",
      "--Testing Corruptions--\n"
     ]
    },
    {
     "name": "stderr",
     "output_type": "stream",
     "text": [
      "100%|██████████| 19/19 [03:09<00:00,  9.98s/it]\n"
     ]
    },
    {
     "name": "stdout",
     "output_type": "stream",
     "text": [
      "\n",
      "Avg Corruption Accuracy: 75.75%\n",
      "Global Sparsity: 94.72% \n",
      "\n",
      "---------- Pruning Iteration:  29 / 44\n"
     ]
    },
    {
     "name": "stderr",
     "output_type": "stream",
     "text": [
      "Loss=0.14183296263217926 Batch_id=19 Accuracy=92.99: 100%|██████████| 20/20 [00:25<00:00,  1.26s/it]\n",
      "Loss=0.09908203780651093 Batch_id=19 Accuracy=96.30: 100%|██████████| 20/20 [00:25<00:00,  1.26s/it]\n",
      "Loss=0.09052389115095139 Batch_id=19 Accuracy=97.16: 100%|██████████| 20/20 [00:25<00:00,  1.25s/it]\n",
      "Loss=0.08093786984682083 Batch_id=19 Accuracy=97.58: 100%|██████████| 20/20 [00:25<00:00,  1.26s/it]\n",
      "Loss=0.07465817779302597 Batch_id=19 Accuracy=97.76: 100%|██████████| 20/20 [00:25<00:00,  1.27s/it] \n",
      "Loss=0.0660155713558197 Batch_id=19 Accuracy=98.03: 100%|██████████| 20/20 [00:25<00:00,  1.25s/it] \n",
      "Loss=0.05803849175572395 Batch_id=19 Accuracy=98.05: 100%|██████████| 20/20 [00:25<00:00,  1.26s/it] \n",
      "Loss=0.07097642123699188 Batch_id=19 Accuracy=98.13: 100%|██████████| 20/20 [00:25<00:00,  1.26s/it] \n",
      "Loss=0.06588073074817657 Batch_id=19 Accuracy=98.18: 100%|██████████| 20/20 [00:25<00:00,  1.26s/it] \n",
      "Loss=0.07874490320682526 Batch_id=19 Accuracy=98.25: 100%|██████████| 20/20 [00:25<00:00,  1.25s/it] "
     ]
    },
    {
     "name": "stdout",
     "output_type": "stream",
     "text": [
      "Epoch 00010: reducing learning rate of group 0 to 5.0000e-04.\n"
     ]
    },
    {
     "name": "stderr",
     "output_type": "stream",
     "text": [
      "\n"
     ]
    },
    {
     "name": "stdout",
     "output_type": "stream",
     "text": [
      "Test set: Average loss: 0.3621, Accuracy: 8973/10000 (89.73%)\n",
      "\n",
      "--Skipping Acc Comp For Corrupted Data--\n",
      "Global Sparsity: 95.25% \n",
      "\n",
      "---------- Pruning Iteration:  30 / 44\n"
     ]
    },
    {
     "name": "stderr",
     "output_type": "stream",
     "text": [
      "Loss=0.127308189868927 Batch_id=19 Accuracy=92.75: 100%|██████████| 20/20 [00:25<00:00,  1.25s/it]  \n",
      "Loss=0.09835126250982285 Batch_id=19 Accuracy=96.07: 100%|██████████| 20/20 [00:25<00:00,  1.26s/it]\n",
      "Loss=0.0789484903216362 Batch_id=19 Accuracy=97.08: 100%|██████████| 20/20 [00:25<00:00,  1.25s/it] \n",
      "Loss=0.07180669158697128 Batch_id=19 Accuracy=97.42: 100%|██████████| 20/20 [00:25<00:00,  1.25s/it]\n",
      "Loss=0.07905668020248413 Batch_id=19 Accuracy=97.64: 100%|██████████| 20/20 [00:25<00:00,  1.26s/it]\n",
      "Loss=0.07768141478300095 Batch_id=19 Accuracy=97.79: 100%|██████████| 20/20 [00:25<00:00,  1.26s/it]\n",
      "Loss=0.06638967990875244 Batch_id=19 Accuracy=97.95: 100%|██████████| 20/20 [00:25<00:00,  1.26s/it] \n",
      "Loss=0.06648672372102737 Batch_id=19 Accuracy=97.90: 100%|██████████| 20/20 [00:25<00:00,  1.25s/it] \n",
      "Loss=0.07857028394937515 Batch_id=19 Accuracy=97.99: 100%|██████████| 20/20 [00:24<00:00,  1.25s/it] \n",
      "Loss=0.05860466510057449 Batch_id=19 Accuracy=98.08: 100%|██████████| 20/20 [00:25<00:00,  1.26s/it] \n"
     ]
    },
    {
     "name": "stdout",
     "output_type": "stream",
     "text": [
      "Test set: Average loss: 0.3764, Accuracy: 8952/10000 (89.52%)\n",
      "\n",
      "--Skipping Acc Comp For Corrupted Data--\n",
      "Global Sparsity: 95.72% \n",
      "\n",
      "---------- Pruning Iteration:  31 / 44\n"
     ]
    },
    {
     "name": "stderr",
     "output_type": "stream",
     "text": [
      "Loss=0.1484948843717575 Batch_id=19 Accuracy=92.66: 100%|██████████| 20/20 [00:25<00:00,  1.27s/it] \n",
      "Loss=0.13559046387672424 Batch_id=19 Accuracy=95.92: 100%|██████████| 20/20 [00:25<00:00,  1.25s/it]\n",
      "Loss=0.09924787282943726 Batch_id=19 Accuracy=96.82: 100%|██████████| 20/20 [00:25<00:00,  1.26s/it]\n",
      "Loss=0.08202534914016724 Batch_id=19 Accuracy=97.16: 100%|██████████| 20/20 [00:25<00:00,  1.26s/it]\n",
      "Loss=0.07318221032619476 Batch_id=19 Accuracy=97.36: 100%|██████████| 20/20 [00:25<00:00,  1.26s/it]\n",
      "Loss=0.07580851018428802 Batch_id=19 Accuracy=97.73: 100%|██████████| 20/20 [00:25<00:00,  1.25s/it]\n",
      "Loss=0.07954636216163635 Batch_id=19 Accuracy=97.71: 100%|██████████| 20/20 [00:25<00:00,  1.25s/it]\n",
      "Loss=0.06400591880083084 Batch_id=19 Accuracy=97.93: 100%|██████████| 20/20 [00:25<00:00,  1.25s/it]\n",
      "Loss=0.08609786629676819 Batch_id=19 Accuracy=97.77: 100%|██████████| 20/20 [00:25<00:00,  1.26s/it]\n",
      "Loss=0.06435839086771011 Batch_id=19 Accuracy=97.79: 100%|██████████| 20/20 [00:25<00:00,  1.25s/it] \n"
     ]
    },
    {
     "name": "stdout",
     "output_type": "stream",
     "text": [
      "Test set: Average loss: 0.3675, Accuracy: 8958/10000 (89.58%)\n",
      "\n",
      "--Skipping Acc Comp For Corrupted Data--\n",
      "Global Sparsity: 96.14% \n",
      "\n",
      "---------- Pruning Iteration:  32 / 44\n"
     ]
    },
    {
     "name": "stderr",
     "output_type": "stream",
     "text": [
      "Loss=0.15427568554878235 Batch_id=19 Accuracy=92.77: 100%|██████████| 20/20 [00:25<00:00,  1.27s/it]\n",
      "Loss=0.10726714134216309 Batch_id=19 Accuracy=95.84: 100%|██████████| 20/20 [00:24<00:00,  1.25s/it]\n",
      "Loss=0.08563254028558731 Batch_id=19 Accuracy=96.46: 100%|██████████| 20/20 [00:24<00:00,  1.25s/it]\n",
      "Loss=0.09523937106132507 Batch_id=19 Accuracy=96.88: 100%|██████████| 20/20 [00:25<00:00,  1.25s/it]\n",
      "Loss=0.07447697222232819 Batch_id=19 Accuracy=97.08: 100%|██████████| 20/20 [00:25<00:00,  1.25s/it]\n",
      "Loss=0.07672537118196487 Batch_id=19 Accuracy=97.40: 100%|██████████| 20/20 [00:25<00:00,  1.27s/it]\n",
      "Loss=0.09498091042041779 Batch_id=19 Accuracy=97.39: 100%|██████████| 20/20 [00:25<00:00,  1.26s/it]\n",
      "Loss=0.08658377081155777 Batch_id=19 Accuracy=97.43: 100%|██████████| 20/20 [00:25<00:00,  1.26s/it]\n"
     ]
    },
    {
     "name": "stdout",
     "output_type": "stream",
     "text": [
      "Epoch 00008: reducing learning rate of group 0 to 5.0000e-04.\n"
     ]
    },
    {
     "name": "stderr",
     "output_type": "stream",
     "text": [
      "Loss=0.07578223943710327 Batch_id=19 Accuracy=97.67: 100%|██████████| 20/20 [00:25<00:00,  1.26s/it]\n",
      "Loss=0.06999679654836655 Batch_id=19 Accuracy=97.83: 100%|██████████| 20/20 [00:25<00:00,  1.26s/it]\n"
     ]
    },
    {
     "name": "stdout",
     "output_type": "stream",
     "text": [
      "Test set: Average loss: 0.3529, Accuracy: 9027/10000 (90.27%)\n",
      "\n",
      "--Skipping Acc Comp For Corrupted Data--\n",
      "Global Sparsity: 96.52% \n",
      "\n",
      "---------- Pruning Iteration:  33 / 44\n"
     ]
    },
    {
     "name": "stderr",
     "output_type": "stream",
     "text": [
      "Loss=0.16645468771457672 Batch_id=19 Accuracy=92.58: 100%|██████████| 20/20 [00:25<00:00,  1.26s/it]\n",
      "Loss=0.13456733524799347 Batch_id=19 Accuracy=95.37: 100%|██████████| 20/20 [00:25<00:00,  1.27s/it]\n",
      "Loss=0.10674750059843063 Batch_id=19 Accuracy=96.27: 100%|██████████| 20/20 [00:25<00:00,  1.26s/it]\n",
      "Loss=0.10491617769002914 Batch_id=19 Accuracy=96.73: 100%|██████████| 20/20 [00:25<00:00,  1.28s/it]\n",
      "Loss=0.09479006379842758 Batch_id=19 Accuracy=96.90: 100%|██████████| 20/20 [00:25<00:00,  1.30s/it]\n",
      "Loss=0.07983792573213577 Batch_id=19 Accuracy=96.97: 100%|██████████| 20/20 [00:25<00:00,  1.30s/it]\n",
      "Loss=0.09187958389520645 Batch_id=19 Accuracy=97.12: 100%|██████████| 20/20 [00:25<00:00,  1.28s/it]\n",
      "Loss=0.09923519939184189 Batch_id=19 Accuracy=97.16: 100%|██████████| 20/20 [00:25<00:00,  1.25s/it]\n",
      "Loss=0.08429232984781265 Batch_id=19 Accuracy=97.23: 100%|██████████| 20/20 [00:25<00:00,  1.25s/it]\n"
     ]
    },
    {
     "name": "stdout",
     "output_type": "stream",
     "text": [
      "Epoch 00009: reducing learning rate of group 0 to 5.0000e-04.\n"
     ]
    },
    {
     "name": "stderr",
     "output_type": "stream",
     "text": [
      "Loss=0.08958510309457779 Batch_id=19 Accuracy=97.48: 100%|██████████| 20/20 [00:25<00:00,  1.26s/it]\n"
     ]
    },
    {
     "name": "stdout",
     "output_type": "stream",
     "text": [
      "Test set: Average loss: 0.3567, Accuracy: 8990/10000 (89.90%)\n",
      "\n",
      "--Skipping Acc Comp For Corrupted Data--\n",
      "Global Sparsity: 96.87% \n",
      "\n",
      "---------- Pruning Iteration:  34 / 44\n"
     ]
    },
    {
     "name": "stderr",
     "output_type": "stream",
     "text": [
      "Loss=0.17542266845703125 Batch_id=19 Accuracy=92.44: 100%|██████████| 20/20 [00:25<00:00,  1.25s/it]\n",
      "Loss=0.12087380141019821 Batch_id=19 Accuracy=95.24: 100%|██████████| 20/20 [00:25<00:00,  1.26s/it]\n",
      "Loss=0.12496957182884216 Batch_id=19 Accuracy=96.00: 100%|██████████| 20/20 [00:25<00:00,  1.26s/it]\n",
      "Loss=0.10063719004392624 Batch_id=19 Accuracy=96.43: 100%|██████████| 20/20 [00:25<00:00,  1.26s/it]\n",
      "Loss=0.10150465369224548 Batch_id=19 Accuracy=96.55: 100%|██████████| 20/20 [00:25<00:00,  1.27s/it]\n",
      "Loss=0.10275223851203918 Batch_id=19 Accuracy=96.60: 100%|██████████| 20/20 [00:25<00:00,  1.26s/it]\n",
      "Loss=0.10502904653549194 Batch_id=19 Accuracy=96.60: 100%|██████████| 20/20 [00:25<00:00,  1.26s/it]\n"
     ]
    },
    {
     "name": "stdout",
     "output_type": "stream",
     "text": [
      "Epoch 00007: reducing learning rate of group 0 to 5.0000e-04.\n"
     ]
    },
    {
     "name": "stderr",
     "output_type": "stream",
     "text": [
      "Loss=0.0859699547290802 Batch_id=19 Accuracy=97.03: 100%|██████████| 20/20 [00:25<00:00,  1.26s/it] \n",
      "Loss=0.09546555578708649 Batch_id=19 Accuracy=97.14: 100%|██████████| 20/20 [00:25<00:00,  1.26s/it]\n",
      "Loss=0.10751402378082275 Batch_id=19 Accuracy=97.26: 100%|██████████| 20/20 [00:25<00:00,  1.25s/it]\n"
     ]
    },
    {
     "name": "stdout",
     "output_type": "stream",
     "text": [
      "Test set: Average loss: 0.3559, Accuracy: 9007/10000 (90.07%)\n",
      "\n",
      "--Skipping Acc Comp For Corrupted Data--\n",
      "Global Sparsity: 97.17% \n",
      "\n",
      "---------- Pruning Iteration:  35 / 44\n"
     ]
    },
    {
     "name": "stderr",
     "output_type": "stream",
     "text": [
      "Loss=0.17115682363510132 Batch_id=19 Accuracy=91.92: 100%|██████████| 20/20 [00:25<00:00,  1.26s/it]\n",
      "Loss=0.15288953483104706 Batch_id=19 Accuracy=94.44: 100%|██████████| 20/20 [00:25<00:00,  1.26s/it]\n",
      "Loss=0.13073474168777466 Batch_id=19 Accuracy=95.30: 100%|██████████| 20/20 [00:25<00:00,  1.25s/it]\n",
      "Loss=0.11163460463285446 Batch_id=19 Accuracy=95.95: 100%|██████████| 20/20 [00:25<00:00,  1.26s/it]\n",
      "Loss=0.11944595724344254 Batch_id=19 Accuracy=96.08: 100%|██████████| 20/20 [00:24<00:00,  1.25s/it]\n",
      "Loss=0.13221748173236847 Batch_id=19 Accuracy=96.27: 100%|██████████| 20/20 [00:25<00:00,  1.26s/it]\n",
      "Loss=0.12821471691131592 Batch_id=19 Accuracy=96.42: 100%|██████████| 20/20 [00:25<00:00,  1.25s/it]\n"
     ]
    },
    {
     "name": "stdout",
     "output_type": "stream",
     "text": [
      "Epoch 00007: reducing learning rate of group 0 to 5.0000e-04.\n"
     ]
    },
    {
     "name": "stderr",
     "output_type": "stream",
     "text": [
      "Loss=0.11237464100122452 Batch_id=19 Accuracy=96.58: 100%|██████████| 20/20 [00:25<00:00,  1.26s/it]\n",
      "Loss=0.10403133928775787 Batch_id=19 Accuracy=96.63: 100%|██████████| 20/20 [00:25<00:00,  1.26s/it]\n",
      "Loss=0.09770448505878448 Batch_id=19 Accuracy=96.70: 100%|██████████| 20/20 [00:25<00:00,  1.25s/it]\n"
     ]
    },
    {
     "name": "stdout",
     "output_type": "stream",
     "text": [
      "Test set: Average loss: 0.3428, Accuracy: 8990/10000 (89.90%)\n",
      "\n",
      "--Skipping Acc Comp For Corrupted Data--\n",
      "Global Sparsity: 97.45% \n",
      "\n",
      "---------- Pruning Iteration:  36 / 44\n"
     ]
    },
    {
     "name": "stderr",
     "output_type": "stream",
     "text": [
      "Loss=0.19923827052116394 Batch_id=19 Accuracy=91.46: 100%|██████████| 20/20 [00:25<00:00,  1.26s/it]\n",
      "Loss=0.1452067494392395 Batch_id=19 Accuracy=94.23: 100%|██████████| 20/20 [00:25<00:00,  1.27s/it] \n",
      "Loss=0.13112306594848633 Batch_id=19 Accuracy=94.80: 100%|██████████| 20/20 [00:25<00:00,  1.26s/it]\n",
      "Loss=0.14384062588214874 Batch_id=19 Accuracy=95.44: 100%|██████████| 20/20 [00:25<00:00,  1.26s/it]\n",
      "Loss=0.13038501143455505 Batch_id=19 Accuracy=95.55: 100%|██████████| 20/20 [00:25<00:00,  1.26s/it]\n",
      "Loss=0.12097305059432983 Batch_id=19 Accuracy=95.82: 100%|██████████| 20/20 [00:25<00:00,  1.26s/it]\n",
      "Loss=0.09804091602563858 Batch_id=19 Accuracy=95.86: 100%|██████████| 20/20 [00:25<00:00,  1.26s/it]\n",
      "Loss=0.11946311593055725 Batch_id=19 Accuracy=95.95: 100%|██████████| 20/20 [00:25<00:00,  1.26s/it]\n",
      "Loss=0.11165852099657059 Batch_id=19 Accuracy=96.02: 100%|██████████| 20/20 [00:25<00:00,  1.26s/it]\n",
      "Loss=0.1146649718284607 Batch_id=19 Accuracy=96.23: 100%|██████████| 20/20 [00:25<00:00,  1.26s/it] "
     ]
    },
    {
     "name": "stdout",
     "output_type": "stream",
     "text": [
      "Epoch 00010: reducing learning rate of group 0 to 5.0000e-04.\n"
     ]
    },
    {
     "name": "stderr",
     "output_type": "stream",
     "text": [
      "\n"
     ]
    },
    {
     "name": "stdout",
     "output_type": "stream",
     "text": [
      "Test set: Average loss: 0.3712, Accuracy: 8920/10000 (89.20%)\n",
      "\n",
      "--Skipping Acc Comp For Corrupted Data--\n",
      "Global Sparsity: 97.70% \n",
      "\n",
      "---------- Pruning Iteration:  37 / 44\n"
     ]
    },
    {
     "name": "stderr",
     "output_type": "stream",
     "text": [
      "Loss=0.22335536777973175 Batch_id=19 Accuracy=90.73: 100%|██████████| 20/20 [00:25<00:00,  1.26s/it]\n",
      "Loss=0.17142631113529205 Batch_id=19 Accuracy=93.64: 100%|██████████| 20/20 [00:25<00:00,  1.26s/it]\n",
      "Loss=0.1587781310081482 Batch_id=19 Accuracy=94.58: 100%|██████████| 20/20 [00:25<00:00,  1.26s/it] \n",
      "Loss=0.16291289031505585 Batch_id=19 Accuracy=94.90: 100%|██████████| 20/20 [00:25<00:00,  1.25s/it]\n",
      "Loss=0.14284281432628632 Batch_id=19 Accuracy=95.14: 100%|██████████| 20/20 [00:25<00:00,  1.28s/it]\n",
      "Loss=0.1479877233505249 Batch_id=19 Accuracy=95.32: 100%|██████████| 20/20 [00:25<00:00,  1.29s/it] \n",
      "Loss=0.12105800211429596 Batch_id=19 Accuracy=95.51: 100%|██████████| 20/20 [00:25<00:00,  1.26s/it]\n",
      "Loss=0.14315058290958405 Batch_id=19 Accuracy=95.54: 100%|██████████| 20/20 [00:25<00:00,  1.26s/it]\n",
      "Loss=0.12144742906093597 Batch_id=19 Accuracy=95.72: 100%|██████████| 20/20 [00:25<00:00,  1.26s/it]\n",
      "Loss=0.11095927655696869 Batch_id=19 Accuracy=95.65: 100%|██████████| 20/20 [00:25<00:00,  1.26s/it]\n"
     ]
    },
    {
     "name": "stdout",
     "output_type": "stream",
     "text": [
      "Test set: Average loss: 0.3732, Accuracy: 8900/10000 (89.00%)\n",
      "\n",
      "--Skipping Acc Comp For Corrupted Data--\n",
      "Global Sparsity: 97.93% \n",
      "\n",
      "---------- Pruning Iteration:  38 / 44\n"
     ]
    },
    {
     "name": "stderr",
     "output_type": "stream",
     "text": [
      "Loss=0.20066101849079132 Batch_id=19 Accuracy=91.04: 100%|██████████| 20/20 [00:24<00:00,  1.25s/it]\n",
      "Loss=0.17062683403491974 Batch_id=19 Accuracy=93.47: 100%|██████████| 20/20 [00:25<00:00,  1.26s/it]\n",
      "Loss=0.17046606540679932 Batch_id=19 Accuracy=94.09: 100%|██████████| 20/20 [00:25<00:00,  1.26s/it]\n",
      "Loss=0.1525660902261734 Batch_id=19 Accuracy=94.53: 100%|██████████| 20/20 [00:25<00:00,  1.25s/it] \n",
      "Loss=0.17839355766773224 Batch_id=19 Accuracy=94.87: 100%|██████████| 20/20 [00:25<00:00,  1.26s/it]\n",
      "Loss=0.12115533649921417 Batch_id=19 Accuracy=94.89: 100%|██████████| 20/20 [00:25<00:00,  1.26s/it]\n",
      "Loss=0.1457778662443161 Batch_id=19 Accuracy=95.04: 100%|██████████| 20/20 [00:25<00:00,  1.26s/it] \n",
      "Loss=0.15546002984046936 Batch_id=19 Accuracy=95.07: 100%|██████████| 20/20 [00:25<00:00,  1.25s/it]\n",
      "Loss=0.13167273998260498 Batch_id=19 Accuracy=95.43: 100%|██████████| 20/20 [00:25<00:00,  1.26s/it]\n"
     ]
    },
    {
     "name": "stdout",
     "output_type": "stream",
     "text": [
      "Epoch 00009: reducing learning rate of group 0 to 5.0000e-04.\n"
     ]
    },
    {
     "name": "stderr",
     "output_type": "stream",
     "text": [
      "Loss=0.14697186648845673 Batch_id=19 Accuracy=95.50: 100%|██████████| 20/20 [00:25<00:00,  1.26s/it]\n"
     ]
    },
    {
     "name": "stdout",
     "output_type": "stream",
     "text": [
      "Test set: Average loss: 0.3526, Accuracy: 8932/10000 (89.32%)\n",
      "\n",
      "--Skipping Acc Comp For Corrupted Data--\n",
      "Global Sparsity: 98.13% \n",
      "\n",
      "---------- Pruning Iteration:  39 / 44\n"
     ]
    },
    {
     "name": "stderr",
     "output_type": "stream",
     "text": [
      "Loss=0.2368515282869339 Batch_id=19 Accuracy=90.65: 100%|██████████| 20/20 [00:25<00:00,  1.26s/it] \n",
      "Loss=0.2030174434185028 Batch_id=19 Accuracy=93.01: 100%|██████████| 20/20 [00:25<00:00,  1.26s/it] \n",
      "Loss=0.18463590741157532 Batch_id=19 Accuracy=93.70: 100%|██████████| 20/20 [00:25<00:00,  1.26s/it]\n",
      "Loss=0.17199555039405823 Batch_id=19 Accuracy=93.86: 100%|██████████| 20/20 [00:25<00:00,  1.26s/it]\n",
      "Loss=0.17053739726543427 Batch_id=19 Accuracy=94.27: 100%|██████████| 20/20 [00:25<00:00,  1.26s/it]\n",
      "Loss=0.1676223874092102 Batch_id=19 Accuracy=94.38: 100%|██████████| 20/20 [00:25<00:00,  1.26s/it] \n",
      "Loss=0.1619427353143692 Batch_id=19 Accuracy=94.66: 100%|██████████| 20/20 [00:25<00:00,  1.26s/it] \n",
      "Loss=0.16087594628334045 Batch_id=19 Accuracy=94.81: 100%|██████████| 20/20 [00:25<00:00,  1.25s/it]\n",
      "Loss=0.14070969820022583 Batch_id=19 Accuracy=94.87: 100%|██████████| 20/20 [00:25<00:00,  1.26s/it]\n",
      "Loss=0.12706109881401062 Batch_id=19 Accuracy=94.94: 100%|██████████| 20/20 [00:25<00:00,  1.26s/it]\n"
     ]
    },
    {
     "name": "stdout",
     "output_type": "stream",
     "text": [
      "Test set: Average loss: 0.3650, Accuracy: 8876/10000 (88.76%)\n",
      "\n",
      "--Skipping Acc Comp For Corrupted Data--\n",
      "Global Sparsity: 98.31% \n",
      "\n",
      "---------- Pruning Iteration:  40 / 44\n"
     ]
    },
    {
     "name": "stderr",
     "output_type": "stream",
     "text": [
      "Loss=0.2047249972820282 Batch_id=19 Accuracy=90.49: 100%|██████████| 20/20 [00:24<00:00,  1.25s/it] \n",
      "Loss=0.20556879043579102 Batch_id=19 Accuracy=92.77: 100%|██████████| 20/20 [00:25<00:00,  1.25s/it]\n",
      "Loss=0.1999713033437729 Batch_id=19 Accuracy=93.44: 100%|██████████| 20/20 [00:25<00:00,  1.25s/it] \n",
      "Loss=0.19878648221492767 Batch_id=19 Accuracy=93.69: 100%|██████████| 20/20 [00:25<00:00,  1.26s/it]\n",
      "Loss=0.1764020323753357 Batch_id=19 Accuracy=93.79: 100%|██████████| 20/20 [00:25<00:00,  1.26s/it] \n",
      "Loss=0.20605430006980896 Batch_id=19 Accuracy=93.96: 100%|██████████| 20/20 [00:25<00:00,  1.25s/it]\n",
      "Loss=0.16464388370513916 Batch_id=19 Accuracy=94.12: 100%|██████████| 20/20 [00:25<00:00,  1.26s/it]\n",
      "Loss=0.18360348045825958 Batch_id=19 Accuracy=94.14: 100%|██████████| 20/20 [00:25<00:00,  1.26s/it]\n",
      "Loss=0.16407467424869537 Batch_id=19 Accuracy=94.58: 100%|██████████| 20/20 [00:25<00:00,  1.26s/it]\n",
      "Loss=0.17285139858722687 Batch_id=19 Accuracy=94.41: 100%|██████████| 20/20 [00:25<00:00,  1.27s/it]\n"
     ]
    },
    {
     "name": "stdout",
     "output_type": "stream",
     "text": [
      "Test set: Average loss: 0.3735, Accuracy: 8858/10000 (88.58%)\n",
      "\n",
      "--Skipping Acc Comp For Corrupted Data--\n",
      "Global Sparsity: 98.48% \n",
      "\n",
      "---------- Pruning Iteration:  41 / 44\n"
     ]
    },
    {
     "name": "stderr",
     "output_type": "stream",
     "text": [
      "Loss=0.25061142444610596 Batch_id=19 Accuracy=89.84: 100%|██████████| 20/20 [00:25<00:00,  1.26s/it]\n",
      "Loss=0.19592803716659546 Batch_id=19 Accuracy=92.16: 100%|██████████| 20/20 [00:25<00:00,  1.25s/it]\n",
      "Loss=0.1840072125196457 Batch_id=19 Accuracy=92.87: 100%|██████████| 20/20 [00:25<00:00,  1.25s/it] \n",
      "Loss=0.22405818104743958 Batch_id=19 Accuracy=93.06: 100%|██████████| 20/20 [00:25<00:00,  1.26s/it]\n",
      "Loss=0.17809239029884338 Batch_id=19 Accuracy=93.31: 100%|██████████| 20/20 [00:25<00:00,  1.26s/it]\n",
      "Loss=0.17528337240219116 Batch_id=19 Accuracy=93.45: 100%|██████████| 20/20 [00:25<00:00,  1.26s/it]\n",
      "Loss=0.2085694521665573 Batch_id=19 Accuracy=93.83: 100%|██████████| 20/20 [00:25<00:00,  1.26s/it] \n",
      "Loss=0.21009914577007294 Batch_id=19 Accuracy=93.78: 100%|██████████| 20/20 [00:25<00:00,  1.26s/it]\n",
      "Loss=0.1422373205423355 Batch_id=19 Accuracy=93.82: 100%|██████████| 20/20 [00:25<00:00,  1.26s/it] \n",
      "Loss=0.18462224304676056 Batch_id=19 Accuracy=93.81: 100%|██████████| 20/20 [00:25<00:00,  1.26s/it]\n"
     ]
    },
    {
     "name": "stdout",
     "output_type": "stream",
     "text": [
      "Test set: Average loss: 0.3701, Accuracy: 8871/10000 (88.71%)\n",
      "\n",
      "--Skipping Acc Comp For Corrupted Data--\n",
      "Global Sparsity: 98.62% \n",
      "\n",
      "---------- Pruning Iteration:  42 / 44\n"
     ]
    },
    {
     "name": "stderr",
     "output_type": "stream",
     "text": [
      "Loss=0.2729673385620117 Batch_id=19 Accuracy=89.34: 100%|██████████| 20/20 [00:25<00:00,  1.25s/it] \n",
      "Loss=0.2113969624042511 Batch_id=19 Accuracy=91.80: 100%|██████████| 20/20 [00:25<00:00,  1.26s/it] \n",
      "Loss=0.2456749677658081 Batch_id=19 Accuracy=92.32: 100%|██████████| 20/20 [00:25<00:00,  1.26s/it] \n",
      "Loss=0.1906093806028366 Batch_id=19 Accuracy=92.69: 100%|██████████| 20/20 [00:25<00:00,  1.26s/it] \n",
      "Loss=0.1917717009782791 Batch_id=19 Accuracy=92.92: 100%|██████████| 20/20 [00:25<00:00,  1.25s/it] \n",
      "Loss=0.1967727392911911 Batch_id=19 Accuracy=93.01: 100%|██████████| 20/20 [00:25<00:00,  1.25s/it] \n",
      "Loss=0.211094468832016 Batch_id=19 Accuracy=93.04: 100%|██████████| 20/20 [00:25<00:00,  1.26s/it]  \n"
     ]
    },
    {
     "name": "stdout",
     "output_type": "stream",
     "text": [
      "Epoch 00007: reducing learning rate of group 0 to 5.0000e-04.\n"
     ]
    },
    {
     "name": "stderr",
     "output_type": "stream",
     "text": [
      "Loss=0.17916527390480042 Batch_id=19 Accuracy=93.48: 100%|██████████| 20/20 [00:25<00:00,  1.26s/it]\n",
      "Loss=0.180315762758255 Batch_id=19 Accuracy=93.77: 100%|██████████| 20/20 [00:25<00:00,  1.26s/it]  \n",
      "Loss=0.1981864720582962 Batch_id=19 Accuracy=93.76: 100%|██████████| 20/20 [00:25<00:00,  1.26s/it] \n"
     ]
    },
    {
     "name": "stdout",
     "output_type": "stream",
     "text": [
      "Test set: Average loss: 0.3557, Accuracy: 8884/10000 (88.84%)\n",
      "\n",
      "--Skipping Acc Comp For Corrupted Data--\n",
      "Global Sparsity: 98.76% \n",
      "\n",
      "---------- Pruning Iteration:  43 / 44\n"
     ]
    },
    {
     "name": "stderr",
     "output_type": "stream",
     "text": [
      "Loss=0.26440492272377014 Batch_id=19 Accuracy=89.40: 100%|██████████| 20/20 [00:25<00:00,  1.25s/it]\n",
      "Loss=0.22962237894535065 Batch_id=19 Accuracy=91.19: 100%|██████████| 20/20 [00:25<00:00,  1.26s/it]\n",
      "Loss=0.21062877774238586 Batch_id=19 Accuracy=91.79: 100%|██████████| 20/20 [00:25<00:00,  1.27s/it]\n",
      "Loss=0.23442937433719635 Batch_id=19 Accuracy=91.98: 100%|██████████| 20/20 [00:25<00:00,  1.26s/it]\n",
      "Loss=0.22385592758655548 Batch_id=19 Accuracy=92.23: 100%|██████████| 20/20 [00:25<00:00,  1.26s/it]\n",
      "Loss=0.2258305698633194 Batch_id=19 Accuracy=92.36: 100%|██████████| 20/20 [00:25<00:00,  1.26s/it] \n"
     ]
    },
    {
     "name": "stdout",
     "output_type": "stream",
     "text": [
      "Epoch 00006: reducing learning rate of group 0 to 5.0000e-04.\n"
     ]
    },
    {
     "name": "stderr",
     "output_type": "stream",
     "text": [
      "Loss=0.18717622756958008 Batch_id=19 Accuracy=92.96: 100%|██████████| 20/20 [00:25<00:00,  1.26s/it]\n",
      "Loss=0.19345976412296295 Batch_id=19 Accuracy=92.99: 100%|██████████| 20/20 [00:25<00:00,  1.26s/it]\n",
      "Loss=0.1956091970205307 Batch_id=19 Accuracy=93.07: 100%|██████████| 20/20 [00:25<00:00,  1.27s/it] \n",
      "Loss=0.18035899102687836 Batch_id=19 Accuracy=93.23: 100%|██████████| 20/20 [00:25<00:00,  1.26s/it]\n"
     ]
    },
    {
     "name": "stdout",
     "output_type": "stream",
     "text": [
      "Test set: Average loss: 0.3540, Accuracy: 8874/10000 (88.74%)\n",
      "\n",
      "--Skipping Acc Comp For Corrupted Data--\n",
      "Global Sparsity: 98.88% \n",
      "\n",
      "---------- Pruning Iteration:  44 / 44\n"
     ]
    },
    {
     "name": "stderr",
     "output_type": "stream",
     "text": [
      "Loss=0.2794666886329651 Batch_id=19 Accuracy=88.98: 100%|██████████| 20/20 [00:25<00:00,  1.25s/it] \n",
      "Loss=0.2509664297103882 Batch_id=19 Accuracy=90.60: 100%|██████████| 20/20 [00:25<00:00,  1.28s/it] \n",
      "Loss=0.24104051291942596 Batch_id=19 Accuracy=91.32: 100%|██████████| 20/20 [00:25<00:00,  1.27s/it]\n",
      "Loss=0.26395219564437866 Batch_id=19 Accuracy=91.50: 100%|██████████| 20/20 [00:25<00:00,  1.26s/it]\n",
      "Loss=0.22824668884277344 Batch_id=19 Accuracy=91.74: 100%|██████████| 20/20 [00:25<00:00,  1.25s/it]\n",
      "Loss=0.18586042523384094 Batch_id=19 Accuracy=91.74: 100%|██████████| 20/20 [00:25<00:00,  1.26s/it]\n",
      "Loss=0.2452125996351242 Batch_id=19 Accuracy=91.88: 100%|██████████| 20/20 [00:25<00:00,  1.26s/it] \n",
      "Loss=0.23168954253196716 Batch_id=19 Accuracy=92.03: 100%|██████████| 20/20 [00:25<00:00,  1.26s/it]\n",
      "Loss=0.23149427771568298 Batch_id=19 Accuracy=92.29: 100%|██████████| 20/20 [00:25<00:00,  1.26s/it]\n"
     ]
    },
    {
     "name": "stdout",
     "output_type": "stream",
     "text": [
      "Epoch 00009: reducing learning rate of group 0 to 5.0000e-04.\n"
     ]
    },
    {
     "name": "stderr",
     "output_type": "stream",
     "text": [
      "Loss=0.21841639280319214 Batch_id=19 Accuracy=92.31: 100%|██████████| 20/20 [00:25<00:00,  1.26s/it]\n"
     ]
    },
    {
     "name": "stdout",
     "output_type": "stream",
     "text": [
      "Test set: Average loss: 0.3608, Accuracy: 8867/10000 (88.67%)\n",
      "\n",
      "--Testing Corruptions--\n"
     ]
    },
    {
     "name": "stderr",
     "output_type": "stream",
     "text": [
      "100%|██████████| 19/19 [03:34<00:00, 11.29s/it]"
     ]
    },
    {
     "name": "stdout",
     "output_type": "stream",
     "text": [
      "\n",
      "Avg Corruption Accuracy: 72.60%\n",
      "Global Sparsity: 98.98% \n",
      "\n"
     ]
    },
    {
     "name": "stderr",
     "output_type": "stream",
     "text": [
      "\n"
     ]
    }
   ],
   "source": [
    "#RestNet18\n",
    "model=copy.deepcopy(ResNet18_CIFAR10_0P)\n",
    "TrainLoader=trainloader_CIFAR10\n",
    "TestLoader=testloader_CIFAR10\n",
    "TestCLoader=loader_CIFAR10C\n",
    "PruningRate=0.1\n",
    "NumEpochsEachPruneRetrain=10\n",
    "MaximumPruneLevel=0.01\n",
    "lambda_l1=0\n",
    "lambda_l2=0.0005\n",
    "\n",
    "SaveTrainStepsName=\"Progress/PruningIterations_ResNet18_CIFAR_01PR_10Epochs_L2_0005\"\n",
    "\n",
    "\n",
    "ReadMe=\"This model is running pruning with the standard cost function, and the non corrupted dataset, a prunning rate of 0.1 and 10 epoch of retraining\\\n",
    "L2 Regularization of 0.0005 is used\\n\\nOriginal Model: ResNet18 Trained with CIFAR10 Dataset\"\n",
    "\n",
    "test_acc, Avg_Corrup_Acc_List, Acc_Corruptions, RemainingWeights_List, Sparcity_List=iterative_pruning(model,device, TrainLoader, TestLoader, TestCLoader, PruningRate, SaveTrainStepsName,ReadMe,\n",
    "                                                                                                        lambda_l1, lambda_l2, NumEpochsEachPruneRetrain,MaximumPruneLevel)"
   ]
  },
  {
   "cell_type": "code",
   "execution_count": 7,
   "metadata": {},
   "outputs": [
    {
     "name": "stdout",
     "output_type": "stream",
     "text": [
      "--Get statistics before pruning--\n",
      "Train set: Average loss: 0.1387, Accuracy: 47726/50000 (95.45%)\n",
      "Test set: Average loss: 0.3436, Accuracy: 8904/10000 (89.04%)\n",
      "\n",
      "--Testing Corruptions--\n"
     ]
    },
    {
     "name": "stderr",
     "output_type": "stream",
     "text": [
      "100%|██████████| 19/19 [03:14<00:00, 10.21s/it]\n"
     ]
    },
    {
     "name": "stdout",
     "output_type": "stream",
     "text": [
      "\n",
      "Avg Corruption Accuracy: 76.10%\n",
      "---------- Pruning Iteration:  1 / 90\n"
     ]
    },
    {
     "name": "stderr",
     "output_type": "stream",
     "text": [
      "Loss=0.17107811570167542 Batch_id=19 Accuracy=95.21: 100%|██████████| 20/20 [00:25<00:00,  1.27s/it]\n",
      "Loss=0.1318756341934204 Batch_id=19 Accuracy=95.41: 100%|██████████| 20/20 [00:25<00:00,  1.30s/it] \n",
      "Loss=0.13986173272132874 Batch_id=19 Accuracy=95.56: 100%|██████████| 20/20 [00:25<00:00,  1.27s/it]\n",
      "Loss=0.1305592954158783 Batch_id=19 Accuracy=95.47: 100%|██████████| 20/20 [00:25<00:00,  1.27s/it] \n",
      "Loss=0.12780627608299255 Batch_id=19 Accuracy=95.69: 100%|██████████| 20/20 [00:25<00:00,  1.26s/it]\n",
      "Loss=0.11219228804111481 Batch_id=19 Accuracy=95.95: 100%|██████████| 20/20 [00:25<00:00,  1.27s/it]\n",
      "Loss=0.09098128974437714 Batch_id=19 Accuracy=96.16: 100%|██████████| 20/20 [00:25<00:00,  1.28s/it]\n",
      "Loss=0.13424579799175262 Batch_id=19 Accuracy=96.30: 100%|██████████| 20/20 [00:25<00:00,  1.28s/it]\n",
      "Loss=0.12443310022354126 Batch_id=19 Accuracy=96.43: 100%|██████████| 20/20 [00:25<00:00,  1.27s/it]\n",
      "Loss=0.1040455624461174 Batch_id=19 Accuracy=96.61: 100%|██████████| 20/20 [00:25<00:00,  1.28s/it] "
     ]
    },
    {
     "name": "stdout",
     "output_type": "stream",
     "text": [
      "Epoch 00010: reducing learning rate of group 0 to 5.0000e-04.\n"
     ]
    },
    {
     "name": "stderr",
     "output_type": "stream",
     "text": [
      "\n"
     ]
    },
    {
     "name": "stdout",
     "output_type": "stream",
     "text": [
      "Test set: Average loss: 0.3868, Accuracy: 8835/10000 (88.35%)\n",
      "\n",
      "--Skipping Acc Comp For Corrupted Data--\n",
      "Global Sparsity: 5.00% \n",
      "\n",
      "---------- Pruning Iteration:  2 / 90\n"
     ]
    },
    {
     "name": "stderr",
     "output_type": "stream",
     "text": [
      "Loss=0.09917957335710526 Batch_id=19 Accuracy=96.65: 100%|██████████| 20/20 [00:25<00:00,  1.27s/it]\n",
      "Loss=0.09728192538022995 Batch_id=19 Accuracy=96.76: 100%|██████████| 20/20 [00:25<00:00,  1.27s/it]\n",
      "Loss=0.110306516289711 Batch_id=19 Accuracy=96.84: 100%|██████████| 20/20 [00:26<00:00,  1.31s/it]  \n",
      "Loss=0.09378788620233536 Batch_id=19 Accuracy=97.04: 100%|██████████| 20/20 [00:25<00:00,  1.27s/it]\n",
      "Loss=0.09287816286087036 Batch_id=19 Accuracy=97.05: 100%|██████████| 20/20 [00:25<00:00,  1.27s/it]\n",
      "Loss=0.09218563884496689 Batch_id=19 Accuracy=97.07: 100%|██████████| 20/20 [00:25<00:00,  1.27s/it]\n",
      "Loss=0.09913892298936844 Batch_id=19 Accuracy=97.00: 100%|██████████| 20/20 [00:25<00:00,  1.27s/it]\n",
      "Loss=0.08192280679941177 Batch_id=19 Accuracy=97.19: 100%|██████████| 20/20 [00:25<00:00,  1.27s/it]\n",
      "Loss=0.10289795696735382 Batch_id=19 Accuracy=97.36: 100%|██████████| 20/20 [00:25<00:00,  1.27s/it]\n",
      "Loss=0.08368760347366333 Batch_id=19 Accuracy=97.40: 100%|██████████| 20/20 [00:25<00:00,  1.28s/it]\n"
     ]
    },
    {
     "name": "stdout",
     "output_type": "stream",
     "text": [
      "Test set: Average loss: 0.4208, Accuracy: 8824/10000 (88.24%)\n",
      "\n",
      "--Testing Corruptions--\n"
     ]
    },
    {
     "name": "stderr",
     "output_type": "stream",
     "text": [
      "100%|██████████| 19/19 [03:16<00:00, 10.36s/it]\n"
     ]
    },
    {
     "name": "stdout",
     "output_type": "stream",
     "text": [
      "\n",
      "Avg Corruption Accuracy: 75.57%\n",
      "Global Sparsity: 9.75% \n",
      "\n",
      "---------- Pruning Iteration:  3 / 90\n"
     ]
    },
    {
     "name": "stderr",
     "output_type": "stream",
     "text": [
      "Loss=0.06706587225198746 Batch_id=19 Accuracy=97.61: 100%|██████████| 20/20 [00:40<00:00,  2.04s/it]\n",
      "Loss=0.0725478082895279 Batch_id=19 Accuracy=97.76: 100%|██████████| 20/20 [00:40<00:00,  2.05s/it] \n",
      "Loss=0.08657427132129669 Batch_id=19 Accuracy=97.81: 100%|██████████| 20/20 [00:41<00:00,  2.06s/it]\n",
      "Loss=0.07074115425348282 Batch_id=19 Accuracy=97.72: 100%|██████████| 20/20 [00:41<00:00,  2.07s/it]\n"
     ]
    },
    {
     "name": "stdout",
     "output_type": "stream",
     "text": [
      "Epoch 00004: reducing learning rate of group 0 to 5.0000e-04.\n"
     ]
    },
    {
     "name": "stderr",
     "output_type": "stream",
     "text": [
      "Loss=0.06986319273710251 Batch_id=19 Accuracy=97.91: 100%|██████████| 20/20 [00:41<00:00,  2.05s/it]\n",
      "Loss=0.06036563590168953 Batch_id=19 Accuracy=98.20: 100%|██████████| 20/20 [00:41<00:00,  2.07s/it] \n",
      "Loss=0.058636728674173355 Batch_id=19 Accuracy=98.30: 100%|██████████| 20/20 [00:41<00:00,  2.08s/it]\n",
      "Loss=0.06743379682302475 Batch_id=19 Accuracy=98.26: 100%|██████████| 20/20 [00:41<00:00,  2.06s/it] \n",
      "Loss=0.057765692472457886 Batch_id=19 Accuracy=98.26: 100%|██████████| 20/20 [00:41<00:00,  2.05s/it]\n",
      "Loss=0.05179880931973457 Batch_id=19 Accuracy=98.33: 100%|██████████| 20/20 [00:41<00:00,  2.05s/it] \n"
     ]
    },
    {
     "name": "stdout",
     "output_type": "stream",
     "text": [
      "Test set: Average loss: 0.3870, Accuracy: 8918/10000 (89.18%)\n",
      "\n",
      "--Skipping Acc Comp For Corrupted Data--\n",
      "Global Sparsity: 14.26% \n",
      "\n",
      "---------- Pruning Iteration:  4 / 90\n"
     ]
    },
    {
     "name": "stderr",
     "output_type": "stream",
     "text": [
      "Loss=0.07277148962020874 Batch_id=19 Accuracy=98.09: 100%|██████████| 20/20 [00:25<00:00,  1.28s/it]\n",
      "Loss=0.061391279101371765 Batch_id=19 Accuracy=98.00: 100%|██████████| 20/20 [00:25<00:00,  1.28s/it]\n",
      "Loss=0.055897533893585205 Batch_id=19 Accuracy=97.96: 100%|██████████| 20/20 [00:25<00:00,  1.28s/it]\n",
      "Loss=0.06564165651798248 Batch_id=19 Accuracy=98.06: 100%|██████████| 20/20 [00:25<00:00,  1.27s/it] \n",
      "Loss=0.0657302662730217 Batch_id=19 Accuracy=98.01: 100%|██████████| 20/20 [00:25<00:00,  1.28s/it]  \n",
      "Loss=0.054875172674655914 Batch_id=19 Accuracy=98.14: 100%|██████████| 20/20 [00:25<00:00,  1.27s/it]\n",
      "Loss=0.053264960646629333 Batch_id=19 Accuracy=98.20: 100%|██████████| 20/20 [00:25<00:00,  1.28s/it]\n",
      "Loss=0.0704328641295433 Batch_id=19 Accuracy=98.19: 100%|██████████| 20/20 [00:25<00:00,  1.28s/it]  \n",
      "Loss=0.05624557286500931 Batch_id=19 Accuracy=98.28: 100%|██████████| 20/20 [00:25<00:00,  1.27s/it] \n",
      "Loss=0.06054341793060303 Batch_id=19 Accuracy=98.37: 100%|██████████| 20/20 [00:25<00:00,  1.28s/it] "
     ]
    },
    {
     "name": "stdout",
     "output_type": "stream",
     "text": [
      "Epoch 00010: reducing learning rate of group 0 to 5.0000e-04.\n"
     ]
    },
    {
     "name": "stderr",
     "output_type": "stream",
     "text": [
      "\n"
     ]
    },
    {
     "name": "stdout",
     "output_type": "stream",
     "text": [
      "Test set: Average loss: 0.4327, Accuracy: 8870/10000 (88.70%)\n",
      "\n",
      "--Testing Corruptions--\n"
     ]
    },
    {
     "name": "stderr",
     "output_type": "stream",
     "text": [
      "100%|██████████| 19/19 [03:19<00:00, 10.52s/it]\n"
     ]
    },
    {
     "name": "stdout",
     "output_type": "stream",
     "text": [
      "\n",
      "Avg Corruption Accuracy: 75.21%\n",
      "Global Sparsity: 18.54% \n",
      "\n",
      "---------- Pruning Iteration:  5 / 90\n"
     ]
    },
    {
     "name": "stderr",
     "output_type": "stream",
     "text": [
      "Loss=0.04905633255839348 Batch_id=19 Accuracy=98.41: 100%|██████████| 20/20 [00:25<00:00,  1.29s/it] \n",
      "Loss=0.04830128699541092 Batch_id=19 Accuracy=98.40: 100%|██████████| 20/20 [00:25<00:00,  1.28s/it]\n",
      "Loss=0.05689876899123192 Batch_id=19 Accuracy=98.41: 100%|██████████| 20/20 [00:25<00:00,  1.28s/it] \n",
      "Loss=0.050190649926662445 Batch_id=19 Accuracy=98.50: 100%|██████████| 20/20 [00:25<00:00,  1.28s/it]\n",
      "Loss=0.05884033814072609 Batch_id=19 Accuracy=98.57: 100%|██████████| 20/20 [00:25<00:00,  1.29s/it] \n"
     ]
    },
    {
     "name": "stdout",
     "output_type": "stream",
     "text": [
      "Epoch 00005: reducing learning rate of group 0 to 5.0000e-04.\n"
     ]
    },
    {
     "name": "stderr",
     "output_type": "stream",
     "text": [
      "Loss=0.04507366195321083 Batch_id=19 Accuracy=98.69: 100%|██████████| 20/20 [00:25<00:00,  1.29s/it] \n",
      "Loss=0.041027456521987915 Batch_id=19 Accuracy=98.78: 100%|██████████| 20/20 [00:25<00:00,  1.29s/it]\n",
      "Loss=0.026139210909605026 Batch_id=19 Accuracy=98.89: 100%|██████████| 20/20 [00:25<00:00,  1.29s/it]\n",
      "Loss=0.04318627342581749 Batch_id=19 Accuracy=98.88: 100%|██████████| 20/20 [00:25<00:00,  1.29s/it] \n",
      "Loss=0.026859577745199203 Batch_id=19 Accuracy=98.90: 100%|██████████| 20/20 [00:25<00:00,  1.28s/it]\n"
     ]
    },
    {
     "name": "stdout",
     "output_type": "stream",
     "text": [
      "Test set: Average loss: 0.4107, Accuracy: 8920/10000 (89.20%)\n",
      "\n",
      "--Skipping Acc Comp For Corrupted Data--\n",
      "Global Sparsity: 22.61% \n",
      "\n",
      "---------- Pruning Iteration:  6 / 90\n"
     ]
    },
    {
     "name": "stderr",
     "output_type": "stream",
     "text": [
      "Loss=0.03981451317667961 Batch_id=19 Accuracy=98.67: 100%|██████████| 20/20 [00:25<00:00,  1.28s/it] \n",
      "Loss=0.05298280715942383 Batch_id=19 Accuracy=98.60: 100%|██████████| 20/20 [00:26<00:00,  1.32s/it] \n",
      "Loss=0.04617271199822426 Batch_id=19 Accuracy=98.60: 100%|██████████| 20/20 [00:26<00:00,  1.31s/it] \n",
      "Loss=0.04205683246254921 Batch_id=19 Accuracy=98.60: 100%|██████████| 20/20 [00:25<00:00,  1.27s/it] \n"
     ]
    },
    {
     "name": "stdout",
     "output_type": "stream",
     "text": [
      "Epoch 00004: reducing learning rate of group 0 to 5.0000e-04.\n"
     ]
    },
    {
     "name": "stderr",
     "output_type": "stream",
     "text": [
      "Loss=0.032146621495485306 Batch_id=19 Accuracy=98.84: 100%|██████████| 20/20 [00:25<00:00,  1.28s/it]\n",
      "Loss=0.03273068740963936 Batch_id=19 Accuracy=98.94: 100%|██████████| 20/20 [00:25<00:00,  1.28s/it] \n",
      "Loss=0.0377834178507328 Batch_id=19 Accuracy=98.98: 100%|██████████| 20/20 [00:25<00:00,  1.28s/it]  \n",
      "Loss=0.031669292598962784 Batch_id=19 Accuracy=98.92: 100%|██████████| 20/20 [00:25<00:00,  1.29s/it]\n",
      "Loss=0.04116386920213699 Batch_id=19 Accuracy=98.96: 100%|██████████| 20/20 [00:25<00:00,  1.29s/it] \n",
      "Loss=0.023039067164063454 Batch_id=19 Accuracy=98.97: 100%|██████████| 20/20 [00:25<00:00,  1.28s/it]\n"
     ]
    },
    {
     "name": "stdout",
     "output_type": "stream",
     "text": [
      "Test set: Average loss: 0.4064, Accuracy: 8950/10000 (89.50%)\n",
      "\n",
      "--Skipping Acc Comp For Corrupted Data--\n",
      "Global Sparsity: 26.48% \n",
      "\n",
      "---------- Pruning Iteration:  7 / 90\n"
     ]
    },
    {
     "name": "stderr",
     "output_type": "stream",
     "text": [
      "Loss=0.029877278953790665 Batch_id=19 Accuracy=98.73: 100%|██████████| 20/20 [00:25<00:00,  1.28s/it]\n",
      "Loss=0.03630172461271286 Batch_id=19 Accuracy=98.65: 100%|██████████| 20/20 [00:25<00:00,  1.28s/it] \n",
      "Loss=0.04021783173084259 Batch_id=19 Accuracy=98.72: 100%|██████████| 20/20 [00:25<00:00,  1.29s/it] \n",
      "Loss=0.042588524520397186 Batch_id=19 Accuracy=98.79: 100%|██████████| 20/20 [00:25<00:00,  1.29s/it]\n"
     ]
    },
    {
     "name": "stdout",
     "output_type": "stream",
     "text": [
      "Epoch 00004: reducing learning rate of group 0 to 5.0000e-04.\n"
     ]
    },
    {
     "name": "stderr",
     "output_type": "stream",
     "text": [
      "Loss=0.05072857439517975 Batch_id=19 Accuracy=98.81: 100%|██████████| 20/20 [00:25<00:00,  1.29s/it] \n",
      "Loss=0.02497861720621586 Batch_id=19 Accuracy=98.98: 100%|██████████| 20/20 [00:25<00:00,  1.29s/it] \n",
      "Loss=0.04437969624996185 Batch_id=19 Accuracy=99.01: 100%|██████████| 20/20 [00:25<00:00,  1.29s/it] \n",
      "Loss=0.02634119614958763 Batch_id=19 Accuracy=99.13: 100%|██████████| 20/20 [00:25<00:00,  1.29s/it] \n",
      "Loss=0.0342741496860981 Batch_id=19 Accuracy=99.11: 100%|██████████| 20/20 [00:26<00:00,  1.31s/it]  \n"
     ]
    },
    {
     "name": "stdout",
     "output_type": "stream",
     "text": [
      "Epoch 00009: reducing learning rate of group 0 to 2.5000e-05.\n"
     ]
    },
    {
     "name": "stderr",
     "output_type": "stream",
     "text": [
      "Loss=0.017735809087753296 Batch_id=19 Accuracy=99.09: 100%|██████████| 20/20 [00:26<00:00,  1.32s/it]\n"
     ]
    },
    {
     "name": "stdout",
     "output_type": "stream",
     "text": [
      "Test set: Average loss: 0.4206, Accuracy: 8931/10000 (89.31%)\n",
      "\n",
      "--Testing Corruptions--\n"
     ]
    },
    {
     "name": "stderr",
     "output_type": "stream",
     "text": [
      "100%|██████████| 19/19 [03:21<00:00, 10.62s/it]\n"
     ]
    },
    {
     "name": "stdout",
     "output_type": "stream",
     "text": [
      "\n",
      "Avg Corruption Accuracy: 76.64%\n",
      "Global Sparsity: 30.15% \n",
      "\n",
      "---------- Pruning Iteration:  8 / 90\n"
     ]
    },
    {
     "name": "stderr",
     "output_type": "stream",
     "text": [
      "Loss=0.03743719309568405 Batch_id=19 Accuracy=98.76: 100%|██████████| 20/20 [00:25<00:00,  1.29s/it] \n",
      "Loss=0.04221544414758682 Batch_id=19 Accuracy=98.82: 100%|██████████| 20/20 [00:25<00:00,  1.29s/it] \n",
      "Loss=0.028091447427868843 Batch_id=19 Accuracy=98.79: 100%|██████████| 20/20 [00:25<00:00,  1.29s/it]\n",
      "Loss=0.03982143849134445 Batch_id=19 Accuracy=98.80: 100%|██████████| 20/20 [00:25<00:00,  1.29s/it] \n",
      "Loss=0.036729175597429276 Batch_id=19 Accuracy=98.81: 100%|██████████| 20/20 [00:25<00:00,  1.30s/it]\n",
      "Loss=0.038629285991191864 Batch_id=19 Accuracy=98.92: 100%|██████████| 20/20 [00:25<00:00,  1.29s/it]\n"
     ]
    },
    {
     "name": "stdout",
     "output_type": "stream",
     "text": [
      "Epoch 00006: reducing learning rate of group 0 to 5.0000e-04.\n"
     ]
    },
    {
     "name": "stderr",
     "output_type": "stream",
     "text": [
      "Loss=0.03370702639222145 Batch_id=19 Accuracy=98.92: 100%|██████████| 20/20 [00:25<00:00,  1.29s/it] \n",
      "Loss=0.02581081911921501 Batch_id=19 Accuracy=99.06: 100%|██████████| 20/20 [00:25<00:00,  1.30s/it] \n",
      "Loss=0.02823912911117077 Batch_id=19 Accuracy=99.14: 100%|██████████| 20/20 [00:25<00:00,  1.28s/it] \n",
      "Loss=0.027375325560569763 Batch_id=19 Accuracy=99.10: 100%|██████████| 20/20 [00:25<00:00,  1.29s/it]\n"
     ]
    },
    {
     "name": "stdout",
     "output_type": "stream",
     "text": [
      "Test set: Average loss: 0.4289, Accuracy: 8919/10000 (89.19%)\n",
      "\n",
      "--Skipping Acc Comp For Corrupted Data--\n",
      "Global Sparsity: 33.64% \n",
      "\n",
      "---------- Pruning Iteration:  9 / 90\n"
     ]
    },
    {
     "name": "stderr",
     "output_type": "stream",
     "text": [
      "Loss=0.04011615365743637 Batch_id=19 Accuracy=98.89: 100%|██████████| 20/20 [00:25<00:00,  1.30s/it] \n",
      "Loss=0.03477704897522926 Batch_id=19 Accuracy=98.78: 100%|██████████| 20/20 [00:25<00:00,  1.29s/it] \n",
      "Loss=0.03077096864581108 Batch_id=19 Accuracy=98.96: 100%|██████████| 20/20 [00:25<00:00,  1.29s/it] \n",
      "Loss=0.03628505393862724 Batch_id=19 Accuracy=98.91: 100%|██████████| 20/20 [00:25<00:00,  1.29s/it] \n",
      "Loss=0.03444986045360565 Batch_id=19 Accuracy=98.94: 100%|██████████| 20/20 [00:25<00:00,  1.29s/it] \n",
      "Loss=0.04732239246368408 Batch_id=19 Accuracy=99.00: 100%|██████████| 20/20 [00:25<00:00,  1.30s/it] \n"
     ]
    },
    {
     "name": "stdout",
     "output_type": "stream",
     "text": [
      "Epoch 00006: reducing learning rate of group 0 to 5.0000e-04.\n"
     ]
    },
    {
     "name": "stderr",
     "output_type": "stream",
     "text": [
      "Loss=0.030298275873064995 Batch_id=19 Accuracy=99.11: 100%|██████████| 20/20 [00:26<00:00,  1.32s/it]\n",
      "Loss=0.01947220414876938 Batch_id=19 Accuracy=99.19: 100%|██████████| 20/20 [00:25<00:00,  1.30s/it] \n",
      "Loss=0.029324430972337723 Batch_id=19 Accuracy=99.33: 100%|██████████| 20/20 [00:25<00:00,  1.30s/it]\n",
      "Loss=0.025786250829696655 Batch_id=19 Accuracy=99.25: 100%|██████████| 20/20 [00:25<00:00,  1.29s/it]\n"
     ]
    },
    {
     "name": "stdout",
     "output_type": "stream",
     "text": [
      "Test set: Average loss: 0.4296, Accuracy: 8938/10000 (89.38%)\n",
      "\n",
      "--Skipping Acc Comp For Corrupted Data--\n",
      "Global Sparsity: 36.96% \n",
      "\n",
      "---------- Pruning Iteration:  10 / 90\n"
     ]
    },
    {
     "name": "stderr",
     "output_type": "stream",
     "text": [
      "Loss=0.03203640133142471 Batch_id=19 Accuracy=98.86: 100%|██████████| 20/20 [00:25<00:00,  1.30s/it] \n",
      "Loss=0.03279382362961769 Batch_id=19 Accuracy=98.96: 100%|██████████| 20/20 [00:26<00:00,  1.30s/it] \n",
      "Loss=0.045525237917900085 Batch_id=19 Accuracy=98.95: 100%|██████████| 20/20 [00:25<00:00,  1.29s/it]\n",
      "Loss=0.029380392283201218 Batch_id=19 Accuracy=98.92: 100%|██████████| 20/20 [00:25<00:00,  1.29s/it]\n",
      "Loss=0.02594079077243805 Batch_id=19 Accuracy=99.05: 100%|██████████| 20/20 [00:25<00:00,  1.30s/it] \n",
      "Loss=0.02818848192691803 Batch_id=19 Accuracy=99.00: 100%|██████████| 20/20 [00:25<00:00,  1.29s/it] \n",
      "Loss=0.0236428901553154 Batch_id=19 Accuracy=99.12: 100%|██████████| 20/20 [00:25<00:00,  1.29s/it]  \n",
      "Loss=0.03605698421597481 Batch_id=19 Accuracy=99.13: 100%|██████████| 20/20 [00:25<00:00,  1.30s/it] \n",
      "Loss=0.02803419530391693 Batch_id=19 Accuracy=99.15: 100%|██████████| 20/20 [00:25<00:00,  1.30s/it] \n",
      "Loss=0.02442292869091034 Batch_id=19 Accuracy=99.13: 100%|██████████| 20/20 [00:25<00:00,  1.28s/it] "
     ]
    },
    {
     "name": "stdout",
     "output_type": "stream",
     "text": [
      "Epoch 00010: reducing learning rate of group 0 to 5.0000e-04.\n"
     ]
    },
    {
     "name": "stderr",
     "output_type": "stream",
     "text": [
      "\n"
     ]
    },
    {
     "name": "stdout",
     "output_type": "stream",
     "text": [
      "Test set: Average loss: 0.4547, Accuracy: 8909/10000 (89.09%)\n",
      "\n",
      "--Testing Corruptions--\n"
     ]
    },
    {
     "name": "stderr",
     "output_type": "stream",
     "text": [
      "100%|██████████| 19/19 [03:33<00:00, 11.24s/it]\n"
     ]
    },
    {
     "name": "stdout",
     "output_type": "stream",
     "text": [
      "\n",
      "Avg Corruption Accuracy: 75.81%\n",
      "Global Sparsity: 40.11% \n",
      "\n",
      "---------- Pruning Iteration:  11 / 90\n"
     ]
    },
    {
     "name": "stderr",
     "output_type": "stream",
     "text": [
      "Loss=0.04038335382938385 Batch_id=19 Accuracy=98.86: 100%|██████████| 20/20 [00:25<00:00,  1.29s/it] \n",
      "Loss=0.04147401824593544 Batch_id=19 Accuracy=99.02: 100%|██████████| 20/20 [00:26<00:00,  1.30s/it] \n",
      "Loss=0.026838049292564392 Batch_id=19 Accuracy=99.03: 100%|██████████| 20/20 [00:25<00:00,  1.30s/it]\n",
      "Loss=0.027947871014475822 Batch_id=19 Accuracy=99.13: 100%|██████████| 20/20 [00:25<00:00,  1.30s/it]\n",
      "Loss=0.02287023700773716 Batch_id=19 Accuracy=99.15: 100%|██████████| 20/20 [00:25<00:00,  1.29s/it] \n",
      "Loss=0.02759055234491825 Batch_id=19 Accuracy=99.15: 100%|██████████| 20/20 [00:25<00:00,  1.29s/it] \n",
      "Loss=0.021880391985177994 Batch_id=19 Accuracy=99.18: 100%|██████████| 20/20 [00:25<00:00,  1.29s/it]\n",
      "Loss=0.026890797540545464 Batch_id=19 Accuracy=99.21: 100%|██████████| 20/20 [00:25<00:00,  1.30s/it]\n",
      "Loss=0.02513866126537323 Batch_id=19 Accuracy=99.23: 100%|██████████| 20/20 [00:25<00:00,  1.29s/it] \n",
      "Loss=0.018809569999575615 Batch_id=19 Accuracy=99.23: 100%|██████████| 20/20 [00:26<00:00,  1.30s/it]\n"
     ]
    },
    {
     "name": "stdout",
     "output_type": "stream",
     "text": [
      "Test set: Average loss: 0.4734, Accuracy: 8905/10000 (89.05%)\n",
      "\n",
      "--Skipping Acc Comp For Corrupted Data--\n",
      "Global Sparsity: 43.10% \n",
      "\n",
      "---------- Pruning Iteration:  12 / 90\n"
     ]
    },
    {
     "name": "stderr",
     "output_type": "stream",
     "text": [
      "Loss=0.02277771756052971 Batch_id=19 Accuracy=98.85: 100%|██████████| 20/20 [00:25<00:00,  1.29s/it] \n",
      "Loss=0.02643129602074623 Batch_id=19 Accuracy=99.00: 100%|██████████| 20/20 [00:25<00:00,  1.29s/it] \n",
      "Loss=0.02943316660821438 Batch_id=19 Accuracy=99.27: 100%|██████████| 20/20 [00:25<00:00,  1.30s/it] \n",
      "Loss=0.02433660440146923 Batch_id=19 Accuracy=99.20: 100%|██████████| 20/20 [00:25<00:00,  1.30s/it] \n"
     ]
    },
    {
     "name": "stdout",
     "output_type": "stream",
     "text": [
      "Epoch 00004: reducing learning rate of group 0 to 5.0000e-04.\n"
     ]
    },
    {
     "name": "stderr",
     "output_type": "stream",
     "text": [
      "Loss=0.030709151178598404 Batch_id=19 Accuracy=99.36: 100%|██████████| 20/20 [00:25<00:00,  1.29s/it]\n",
      "Loss=0.025378281250596046 Batch_id=19 Accuracy=99.35: 100%|██████████| 20/20 [00:25<00:00,  1.29s/it]\n",
      "Loss=0.020451078191399574 Batch_id=19 Accuracy=99.42: 100%|██████████| 20/20 [00:25<00:00,  1.30s/it]\n",
      "Loss=0.0164838507771492 Batch_id=19 Accuracy=99.45: 100%|██████████| 20/20 [00:25<00:00,  1.29s/it]  \n",
      "Loss=0.012980131432414055 Batch_id=19 Accuracy=99.43: 100%|██████████| 20/20 [00:26<00:00,  1.30s/it]\n",
      "Loss=0.01730201579630375 Batch_id=19 Accuracy=99.43: 100%|██████████| 20/20 [00:26<00:00,  1.30s/it] \n"
     ]
    },
    {
     "name": "stdout",
     "output_type": "stream",
     "text": [
      "Test set: Average loss: 0.4483, Accuracy: 8949/10000 (89.49%)\n",
      "\n",
      "--Skipping Acc Comp For Corrupted Data--\n",
      "Global Sparsity: 45.94% \n",
      "\n",
      "---------- Pruning Iteration:  13 / 90\n"
     ]
    },
    {
     "name": "stderr",
     "output_type": "stream",
     "text": [
      "Loss=0.027124755084514618 Batch_id=19 Accuracy=99.10: 100%|██████████| 20/20 [00:25<00:00,  1.30s/it]\n",
      "Loss=0.032478224486112595 Batch_id=19 Accuracy=99.15: 100%|██████████| 20/20 [00:25<00:00,  1.29s/it]\n",
      "Loss=0.030022477731108665 Batch_id=19 Accuracy=99.20: 100%|██████████| 20/20 [00:25<00:00,  1.29s/it]\n",
      "Loss=0.01894724741578102 Batch_id=19 Accuracy=99.33: 100%|██████████| 20/20 [00:26<00:00,  1.30s/it] \n",
      "Loss=0.026336178183555603 Batch_id=19 Accuracy=99.29: 100%|██████████| 20/20 [00:25<00:00,  1.29s/it]\n",
      "Loss=0.022348668426275253 Batch_id=19 Accuracy=99.29: 100%|██████████| 20/20 [00:25<00:00,  1.30s/it]\n",
      "Loss=0.025916974991559982 Batch_id=19 Accuracy=99.35: 100%|██████████| 20/20 [00:26<00:00,  1.30s/it]\n"
     ]
    },
    {
     "name": "stdout",
     "output_type": "stream",
     "text": [
      "Epoch 00007: reducing learning rate of group 0 to 5.0000e-04.\n"
     ]
    },
    {
     "name": "stderr",
     "output_type": "stream",
     "text": [
      "Loss=0.022019246593117714 Batch_id=19 Accuracy=99.41: 100%|██████████| 20/20 [00:26<00:00,  1.31s/it]\n",
      "Loss=0.019542410969734192 Batch_id=19 Accuracy=99.49: 100%|██████████| 20/20 [00:26<00:00,  1.30s/it]\n",
      "Loss=0.020402176305651665 Batch_id=19 Accuracy=99.52: 100%|██████████| 20/20 [00:26<00:00,  1.30s/it]"
     ]
    },
    {
     "name": "stdout",
     "output_type": "stream",
     "text": [
      "Epoch 00010: reducing learning rate of group 0 to 2.5000e-05.\n"
     ]
    },
    {
     "name": "stderr",
     "output_type": "stream",
     "text": [
      "\n"
     ]
    },
    {
     "name": "stdout",
     "output_type": "stream",
     "text": [
      "Test set: Average loss: 0.4491, Accuracy: 8913/10000 (89.13%)\n",
      "\n",
      "--Skipping Acc Comp For Corrupted Data--\n",
      "Global Sparsity: 48.64% \n",
      "\n",
      "---------- Pruning Iteration:  14 / 90\n"
     ]
    },
    {
     "name": "stderr",
     "output_type": "stream",
     "text": [
      "Loss=0.02509092167019844 Batch_id=19 Accuracy=99.03: 100%|██████████| 20/20 [00:26<00:00,  1.31s/it] \n",
      "Loss=0.02826799266040325 Batch_id=19 Accuracy=99.14: 100%|██████████| 20/20 [00:25<00:00,  1.30s/it] \n",
      "Loss=0.018715742975473404 Batch_id=19 Accuracy=99.26: 100%|██████████| 20/20 [00:26<00:00,  1.30s/it]\n",
      "Loss=0.0325947143137455 Batch_id=19 Accuracy=99.22: 100%|██████████| 20/20 [00:25<00:00,  1.29s/it]  \n",
      "Loss=0.021059395745396614 Batch_id=19 Accuracy=99.24: 100%|██████████| 20/20 [00:25<00:00,  1.30s/it]\n",
      "Loss=0.026907769963145256 Batch_id=19 Accuracy=99.26: 100%|██████████| 20/20 [00:25<00:00,  1.29s/it]\n"
     ]
    },
    {
     "name": "stdout",
     "output_type": "stream",
     "text": [
      "Epoch 00006: reducing learning rate of group 0 to 5.0000e-04.\n"
     ]
    },
    {
     "name": "stderr",
     "output_type": "stream",
     "text": [
      "Loss=0.013684254139661789 Batch_id=19 Accuracy=99.37: 100%|██████████| 20/20 [00:25<00:00,  1.29s/it]\n",
      "Loss=0.017321359366178513 Batch_id=19 Accuracy=99.39: 100%|██████████| 20/20 [00:25<00:00,  1.29s/it]\n",
      "Loss=0.023663250729441643 Batch_id=19 Accuracy=99.46: 100%|██████████| 20/20 [00:25<00:00,  1.29s/it]\n",
      "Loss=0.0123403025791049 Batch_id=19 Accuracy=99.52: 100%|██████████| 20/20 [00:25<00:00,  1.29s/it]  \n"
     ]
    },
    {
     "name": "stdout",
     "output_type": "stream",
     "text": [
      "Test set: Average loss: 0.4475, Accuracy: 8937/10000 (89.37%)\n",
      "\n",
      "--Testing Corruptions--\n"
     ]
    },
    {
     "name": "stderr",
     "output_type": "stream",
     "text": [
      "100%|██████████| 19/19 [03:27<00:00, 10.90s/it]\n"
     ]
    },
    {
     "name": "stdout",
     "output_type": "stream",
     "text": [
      "\n",
      "Avg Corruption Accuracy: 76.41%\n",
      "Global Sparsity: 51.21% \n",
      "\n",
      "---------- Pruning Iteration:  15 / 90\n"
     ]
    },
    {
     "name": "stderr",
     "output_type": "stream",
     "text": [
      "Loss=0.03536911681294441 Batch_id=19 Accuracy=98.95: 100%|██████████| 20/20 [00:25<00:00,  1.30s/it] \n",
      "Loss=0.02530982904136181 Batch_id=19 Accuracy=99.15: 100%|██████████| 20/20 [00:26<00:00,  1.30s/it] \n",
      "Loss=0.030888492241501808 Batch_id=19 Accuracy=99.25: 100%|██████████| 20/20 [00:26<00:00,  1.30s/it]\n",
      "Loss=0.01980944722890854 Batch_id=19 Accuracy=99.35: 100%|██████████| 20/20 [00:26<00:00,  1.31s/it] \n",
      "Loss=0.022430479526519775 Batch_id=19 Accuracy=99.32: 100%|██████████| 20/20 [00:26<00:00,  1.31s/it]\n",
      "Loss=0.021752331405878067 Batch_id=19 Accuracy=99.36: 100%|██████████| 20/20 [00:26<00:00,  1.30s/it]\n",
      "Loss=0.01782231777906418 Batch_id=19 Accuracy=99.37: 100%|██████████| 20/20 [00:26<00:00,  1.31s/it] \n",
      "Loss=0.02417335845530033 Batch_id=19 Accuracy=99.44: 100%|██████████| 20/20 [00:26<00:00,  1.30s/it] \n",
      "Loss=0.023180415853857994 Batch_id=19 Accuracy=99.41: 100%|██████████| 20/20 [00:26<00:00,  1.33s/it]\n",
      "Loss=0.021885225549340248 Batch_id=19 Accuracy=99.41: 100%|██████████| 20/20 [00:25<00:00,  1.30s/it]"
     ]
    },
    {
     "name": "stdout",
     "output_type": "stream",
     "text": [
      "Epoch 00010: reducing learning rate of group 0 to 5.0000e-04.\n"
     ]
    },
    {
     "name": "stderr",
     "output_type": "stream",
     "text": [
      "\n"
     ]
    },
    {
     "name": "stdout",
     "output_type": "stream",
     "text": [
      "Test set: Average loss: 0.4797, Accuracy: 8894/10000 (88.94%)\n",
      "\n",
      "--Skipping Acc Comp For Corrupted Data--\n",
      "Global Sparsity: 53.65% \n",
      "\n",
      "---------- Pruning Iteration:  16 / 90\n"
     ]
    },
    {
     "name": "stderr",
     "output_type": "stream",
     "text": [
      "Loss=0.04049079865217209 Batch_id=19 Accuracy=98.98: 100%|██████████| 20/20 [00:25<00:00,  1.30s/it] \n",
      "Loss=0.029869141057133675 Batch_id=19 Accuracy=99.15: 100%|██████████| 20/20 [00:25<00:00,  1.29s/it]\n",
      "Loss=0.020030632615089417 Batch_id=19 Accuracy=99.29: 100%|██████████| 20/20 [00:25<00:00,  1.30s/it]\n",
      "Loss=0.017392655834555626 Batch_id=19 Accuracy=99.36: 100%|██████████| 20/20 [00:26<00:00,  1.31s/it]\n",
      "Loss=0.011399906128644943 Batch_id=19 Accuracy=99.41: 100%|██████████| 20/20 [00:25<00:00,  1.30s/it]\n",
      "Loss=0.0217965729534626 Batch_id=19 Accuracy=99.37: 100%|██████████| 20/20 [00:25<00:00,  1.30s/it]  \n",
      "Loss=0.025907499715685844 Batch_id=19 Accuracy=99.39: 100%|██████████| 20/20 [00:26<00:00,  1.30s/it]\n",
      "Loss=0.016799602657556534 Batch_id=19 Accuracy=99.38: 100%|██████████| 20/20 [00:26<00:00,  1.31s/it]\n"
     ]
    },
    {
     "name": "stdout",
     "output_type": "stream",
     "text": [
      "Epoch 00008: reducing learning rate of group 0 to 5.0000e-04.\n"
     ]
    },
    {
     "name": "stderr",
     "output_type": "stream",
     "text": [
      "Loss=0.015346030704677105 Batch_id=19 Accuracy=99.46: 100%|██████████| 20/20 [00:25<00:00,  1.30s/it]\n",
      "Loss=0.011022432707250118 Batch_id=19 Accuracy=99.56: 100%|██████████| 20/20 [00:26<00:00,  1.31s/it]\n"
     ]
    },
    {
     "name": "stdout",
     "output_type": "stream",
     "text": [
      "Test set: Average loss: 0.4578, Accuracy: 8950/10000 (89.50%)\n",
      "\n",
      "--Skipping Acc Comp For Corrupted Data--\n",
      "Global Sparsity: 55.96% \n",
      "\n",
      "---------- Pruning Iteration:  17 / 90\n"
     ]
    },
    {
     "name": "stderr",
     "output_type": "stream",
     "text": [
      "Loss=0.0250149667263031 Batch_id=19 Accuracy=98.94: 100%|██████████| 20/20 [00:26<00:00,  1.30s/it]  \n",
      "Loss=0.03171989694237709 Batch_id=19 Accuracy=99.22: 100%|██████████| 20/20 [00:26<00:00,  1.30s/it] \n",
      "Loss=0.02297883667051792 Batch_id=19 Accuracy=99.30: 100%|██████████| 20/20 [00:26<00:00,  1.31s/it] \n",
      "Loss=0.032663844525814056 Batch_id=19 Accuracy=99.36: 100%|██████████| 20/20 [00:26<00:00,  1.31s/it]\n",
      "Loss=0.019132956862449646 Batch_id=19 Accuracy=99.35: 100%|██████████| 20/20 [00:26<00:00,  1.31s/it]\n",
      "Loss=0.020414836704730988 Batch_id=19 Accuracy=99.47: 100%|██████████| 20/20 [00:26<00:00,  1.31s/it]\n",
      "Loss=0.02109372988343239 Batch_id=19 Accuracy=99.35: 100%|██████████| 20/20 [00:26<00:00,  1.31s/it] \n",
      "Loss=0.010965165682137012 Batch_id=19 Accuracy=99.51: 100%|██████████| 20/20 [00:26<00:00,  1.31s/it]\n",
      "Loss=0.019901355728507042 Batch_id=19 Accuracy=99.51: 100%|██████████| 20/20 [00:26<00:00,  1.31s/it]\n",
      "Loss=0.023739159107208252 Batch_id=19 Accuracy=99.47: 100%|██████████| 20/20 [00:26<00:00,  1.31s/it]\n"
     ]
    },
    {
     "name": "stdout",
     "output_type": "stream",
     "text": [
      "Test set: Average loss: 0.4750, Accuracy: 8888/10000 (88.88%)\n",
      "\n",
      "--Skipping Acc Comp For Corrupted Data--\n",
      "Global Sparsity: 58.16% \n",
      "\n",
      "---------- Pruning Iteration:  18 / 90\n"
     ]
    },
    {
     "name": "stderr",
     "output_type": "stream",
     "text": [
      "Loss=0.027186023071408272 Batch_id=19 Accuracy=98.89: 100%|██████████| 20/20 [00:26<00:00,  1.31s/it]\n",
      "Loss=0.01583075150847435 Batch_id=19 Accuracy=99.26: 100%|██████████| 20/20 [00:26<00:00,  1.30s/it] \n",
      "Loss=0.023779774084687233 Batch_id=19 Accuracy=99.31: 100%|██████████| 20/20 [00:26<00:00,  1.30s/it]\n",
      "Loss=0.011179022490978241 Batch_id=19 Accuracy=99.45: 100%|██████████| 20/20 [00:25<00:00,  1.30s/it]\n",
      "Loss=0.017330333590507507 Batch_id=19 Accuracy=99.45: 100%|██████████| 20/20 [00:26<00:00,  1.31s/it]\n",
      "Loss=0.014935072511434555 Batch_id=19 Accuracy=99.46: 100%|██████████| 20/20 [00:26<00:00,  1.31s/it]\n",
      "Loss=0.016655901446938515 Batch_id=19 Accuracy=99.46: 100%|██████████| 20/20 [00:26<00:00,  1.30s/it]\n"
     ]
    },
    {
     "name": "stdout",
     "output_type": "stream",
     "text": [
      "Epoch 00007: reducing learning rate of group 0 to 5.0000e-04.\n"
     ]
    },
    {
     "name": "stderr",
     "output_type": "stream",
     "text": [
      "Loss=0.0175979845225811 Batch_id=19 Accuracy=99.49: 100%|██████████| 20/20 [00:26<00:00,  1.30s/it]  \n",
      "Loss=0.013753444887697697 Batch_id=19 Accuracy=99.60: 100%|██████████| 20/20 [00:25<00:00,  1.30s/it]\n",
      "Loss=0.011074484325945377 Batch_id=19 Accuracy=99.56: 100%|██████████| 20/20 [00:25<00:00,  1.29s/it]\n"
     ]
    },
    {
     "name": "stdout",
     "output_type": "stream",
     "text": [
      "Test set: Average loss: 0.4565, Accuracy: 8944/10000 (89.44%)\n",
      "\n",
      "--Testing Corruptions--\n"
     ]
    },
    {
     "name": "stderr",
     "output_type": "stream",
     "text": [
      "100%|██████████| 19/19 [03:41<00:00, 11.65s/it]\n"
     ]
    },
    {
     "name": "stdout",
     "output_type": "stream",
     "text": [
      "\n",
      "Avg Corruption Accuracy: 76.61%\n",
      "Global Sparsity: 60.25% \n",
      "\n",
      "---------- Pruning Iteration:  19 / 90\n"
     ]
    },
    {
     "name": "stderr",
     "output_type": "stream",
     "text": [
      "Loss=0.018905283883213997 Batch_id=19 Accuracy=99.05: 100%|██████████| 20/20 [00:26<00:00,  1.30s/it]\n",
      "Loss=0.022799359634518623 Batch_id=19 Accuracy=99.32: 100%|██████████| 20/20 [00:26<00:00,  1.32s/it]\n",
      "Loss=0.022885745391249657 Batch_id=19 Accuracy=99.32: 100%|██████████| 20/20 [00:26<00:00,  1.31s/it]\n",
      "Loss=0.01955856755375862 Batch_id=19 Accuracy=99.38: 100%|██████████| 20/20 [00:26<00:00,  1.31s/it] \n"
     ]
    },
    {
     "name": "stdout",
     "output_type": "stream",
     "text": [
      "Epoch 00004: reducing learning rate of group 0 to 5.0000e-04.\n"
     ]
    },
    {
     "name": "stderr",
     "output_type": "stream",
     "text": [
      "Loss=0.01651526615023613 Batch_id=19 Accuracy=99.47: 100%|██████████| 20/20 [00:26<00:00,  1.31s/it] \n",
      "Loss=0.020367493852972984 Batch_id=19 Accuracy=99.48: 100%|██████████| 20/20 [00:26<00:00,  1.32s/it]\n",
      "Loss=0.017567498609423637 Batch_id=19 Accuracy=99.54: 100%|██████████| 20/20 [00:26<00:00,  1.32s/it]\n",
      "Loss=0.022681448608636856 Batch_id=19 Accuracy=99.57: 100%|██████████| 20/20 [00:26<00:00,  1.31s/it]\n"
     ]
    },
    {
     "name": "stdout",
     "output_type": "stream",
     "text": [
      "Epoch 00008: reducing learning rate of group 0 to 2.5000e-05.\n"
     ]
    },
    {
     "name": "stderr",
     "output_type": "stream",
     "text": [
      "Loss=0.012976978905498981 Batch_id=19 Accuracy=99.61: 100%|██████████| 20/20 [00:26<00:00,  1.31s/it]\n",
      "Loss=0.009275450371205807 Batch_id=19 Accuracy=99.62: 100%|██████████| 20/20 [00:26<00:00,  1.32s/it]\n"
     ]
    },
    {
     "name": "stdout",
     "output_type": "stream",
     "text": [
      "Test set: Average loss: 0.4557, Accuracy: 8973/10000 (89.73%)\n",
      "\n",
      "--Skipping Acc Comp For Corrupted Data--\n",
      "Global Sparsity: 62.24% \n",
      "\n",
      "---------- Pruning Iteration:  20 / 90\n"
     ]
    },
    {
     "name": "stderr",
     "output_type": "stream",
     "text": [
      "Loss=0.024011267349123955 Batch_id=19 Accuracy=98.91: 100%|██████████| 20/20 [00:26<00:00,  1.31s/it]\n",
      "Loss=0.022619472816586494 Batch_id=19 Accuracy=99.30: 100%|██████████| 20/20 [00:26<00:00,  1.30s/it]\n",
      "Loss=0.013961023651063442 Batch_id=19 Accuracy=99.33: 100%|██████████| 20/20 [00:26<00:00,  1.31s/it]\n",
      "Loss=0.029892249032855034 Batch_id=19 Accuracy=99.42: 100%|██████████| 20/20 [00:26<00:00,  1.32s/it]\n",
      "Loss=0.020403021946549416 Batch_id=19 Accuracy=99.45: 100%|██████████| 20/20 [00:26<00:00,  1.31s/it]\n",
      "Loss=0.011053616181015968 Batch_id=19 Accuracy=99.52: 100%|██████████| 20/20 [00:26<00:00,  1.31s/it]\n",
      "Loss=0.020401302725076675 Batch_id=19 Accuracy=99.47: 100%|██████████| 20/20 [00:26<00:00,  1.31s/it]\n",
      "Loss=0.017101846635341644 Batch_id=19 Accuracy=99.53: 100%|██████████| 20/20 [00:26<00:00,  1.31s/it]\n",
      "Loss=0.011025302112102509 Batch_id=19 Accuracy=99.50: 100%|██████████| 20/20 [00:26<00:00,  1.31s/it]\n",
      "Loss=0.014179296791553497 Batch_id=19 Accuracy=99.54: 100%|██████████| 20/20 [00:26<00:00,  1.31s/it]\n"
     ]
    },
    {
     "name": "stdout",
     "output_type": "stream",
     "text": [
      "Test set: Average loss: 0.4940, Accuracy: 8905/10000 (89.05%)\n",
      "\n",
      "--Skipping Acc Comp For Corrupted Data--\n",
      "Global Sparsity: 64.12% \n",
      "\n",
      "---------- Pruning Iteration:  21 / 90\n"
     ]
    },
    {
     "name": "stderr",
     "output_type": "stream",
     "text": [
      "Loss=0.0307297445833683 Batch_id=19 Accuracy=98.61: 100%|██████████| 20/20 [00:26<00:00,  1.32s/it]  \n",
      "Loss=0.019264061003923416 Batch_id=19 Accuracy=99.16: 100%|██████████| 20/20 [00:26<00:00,  1.31s/it]\n",
      "Loss=0.015493192709982395 Batch_id=19 Accuracy=99.36: 100%|██████████| 20/20 [00:26<00:00,  1.30s/it]\n",
      "Loss=0.015202050097286701 Batch_id=19 Accuracy=99.44: 100%|██████████| 20/20 [00:26<00:00,  1.31s/it]\n",
      "Loss=0.017622074112296104 Batch_id=19 Accuracy=99.47: 100%|██████████| 20/20 [00:26<00:00,  1.32s/it]\n",
      "Loss=0.0160762220621109 Batch_id=19 Accuracy=99.44: 100%|██████████| 20/20 [00:26<00:00,  1.32s/it]  \n",
      "Loss=0.009341462515294552 Batch_id=19 Accuracy=99.51: 100%|██████████| 20/20 [00:26<00:00,  1.31s/it]\n",
      "Loss=0.015548852272331715 Batch_id=19 Accuracy=99.57: 100%|██████████| 20/20 [00:26<00:00,  1.32s/it]\n",
      "Loss=0.01755204051733017 Batch_id=19 Accuracy=99.53: 100%|██████████| 20/20 [00:26<00:00,  1.32s/it] \n",
      "Loss=0.01266630832105875 Batch_id=19 Accuracy=99.59: 100%|██████████| 20/20 [00:26<00:00,  1.31s/it] "
     ]
    },
    {
     "name": "stdout",
     "output_type": "stream",
     "text": [
      "Epoch 00010: reducing learning rate of group 0 to 5.0000e-04.\n"
     ]
    },
    {
     "name": "stderr",
     "output_type": "stream",
     "text": [
      "\n"
     ]
    },
    {
     "name": "stdout",
     "output_type": "stream",
     "text": [
      "Test set: Average loss: 0.4918, Accuracy: 8894/10000 (88.94%)\n",
      "\n",
      "--Skipping Acc Comp For Corrupted Data--\n",
      "Global Sparsity: 65.91% \n",
      "\n",
      "---------- Pruning Iteration:  22 / 90\n"
     ]
    },
    {
     "name": "stderr",
     "output_type": "stream",
     "text": [
      "Loss=0.023255953565239906 Batch_id=19 Accuracy=98.67: 100%|██████████| 20/20 [00:26<00:00,  1.31s/it]\n",
      "Loss=0.01660730317234993 Batch_id=19 Accuracy=99.28: 100%|██████████| 20/20 [00:26<00:00,  1.31s/it] \n",
      "Loss=0.02292156219482422 Batch_id=19 Accuracy=99.43: 100%|██████████| 20/20 [00:26<00:00,  1.30s/it] \n",
      "Loss=0.01924903877079487 Batch_id=19 Accuracy=99.46: 100%|██████████| 20/20 [00:26<00:00,  1.30s/it] \n",
      "Loss=0.022993510589003563 Batch_id=19 Accuracy=99.53: 100%|██████████| 20/20 [00:26<00:00,  1.31s/it]\n"
     ]
    },
    {
     "name": "stdout",
     "output_type": "stream",
     "text": [
      "Epoch 00005: reducing learning rate of group 0 to 5.0000e-04.\n"
     ]
    },
    {
     "name": "stderr",
     "output_type": "stream",
     "text": [
      "Loss=0.012928183190524578 Batch_id=19 Accuracy=99.51: 100%|██████████| 20/20 [00:26<00:00,  1.31s/it]\n",
      "Loss=0.011764165945351124 Batch_id=19 Accuracy=99.64: 100%|██████████| 20/20 [00:26<00:00,  1.31s/it]\n",
      "Loss=0.007166133727878332 Batch_id=19 Accuracy=99.67: 100%|██████████| 20/20 [00:26<00:00,  1.31s/it]\n",
      "Loss=0.012672334909439087 Batch_id=19 Accuracy=99.62: 100%|██████████| 20/20 [00:26<00:00,  1.31s/it]\n",
      "Loss=0.007038644980639219 Batch_id=19 Accuracy=99.69: 100%|██████████| 20/20 [00:26<00:00,  1.32s/it]\n"
     ]
    },
    {
     "name": "stdout",
     "output_type": "stream",
     "text": [
      "Test set: Average loss: 0.4681, Accuracy: 8934/10000 (89.34%)\n",
      "\n",
      "--Skipping Acc Comp For Corrupted Data--\n",
      "Global Sparsity: 67.62% \n",
      "\n",
      "---------- Pruning Iteration:  23 / 90\n"
     ]
    },
    {
     "name": "stderr",
     "output_type": "stream",
     "text": [
      "Loss=0.02555573172867298 Batch_id=19 Accuracy=98.86: 100%|██████████| 20/20 [00:26<00:00,  1.31s/it] \n",
      "Loss=0.020860884338617325 Batch_id=19 Accuracy=99.26: 100%|██████████| 20/20 [00:26<00:00,  1.31s/it]\n",
      "Loss=0.018447821959853172 Batch_id=19 Accuracy=99.41: 100%|██████████| 20/20 [00:26<00:00,  1.32s/it]\n",
      "Loss=0.016365893185138702 Batch_id=19 Accuracy=99.43: 100%|██████████| 20/20 [00:26<00:00,  1.31s/it]\n",
      "Loss=0.02447197213768959 Batch_id=19 Accuracy=99.46: 100%|██████████| 20/20 [00:25<00:00,  1.29s/it] \n",
      "Loss=0.025348149240016937 Batch_id=19 Accuracy=99.51: 100%|██████████| 20/20 [00:26<00:00,  1.30s/it]\n",
      "Loss=0.019262805581092834 Batch_id=19 Accuracy=99.56: 100%|██████████| 20/20 [00:26<00:00,  1.30s/it]\n"
     ]
    },
    {
     "name": "stdout",
     "output_type": "stream",
     "text": [
      "Epoch 00007: reducing learning rate of group 0 to 5.0000e-04.\n"
     ]
    },
    {
     "name": "stderr",
     "output_type": "stream",
     "text": [
      "Loss=0.007802764885127544 Batch_id=19 Accuracy=99.61: 100%|██████████| 20/20 [00:26<00:00,  1.30s/it]\n",
      "Loss=0.018639802932739258 Batch_id=19 Accuracy=99.67: 100%|██████████| 20/20 [00:26<00:00,  1.30s/it]\n",
      "Loss=0.013377833180129528 Batch_id=19 Accuracy=99.66: 100%|██████████| 20/20 [00:26<00:00,  1.30s/it]\n"
     ]
    },
    {
     "name": "stdout",
     "output_type": "stream",
     "text": [
      "Test set: Average loss: 0.4682, Accuracy: 8945/10000 (89.45%)\n",
      "\n",
      "--Testing Corruptions--\n"
     ]
    },
    {
     "name": "stderr",
     "output_type": "stream",
     "text": [
      "100%|██████████| 19/19 [03:31<00:00, 11.15s/it]\n"
     ]
    },
    {
     "name": "stdout",
     "output_type": "stream",
     "text": [
      "\n",
      "Avg Corruption Accuracy: 76.52%\n",
      "Global Sparsity: 69.23% \n",
      "\n",
      "---------- Pruning Iteration:  24 / 90\n"
     ]
    },
    {
     "name": "stderr",
     "output_type": "stream",
     "text": [
      "Loss=0.024497603997588158 Batch_id=19 Accuracy=98.73: 100%|██████████| 20/20 [00:26<00:00,  1.31s/it]\n",
      "Loss=0.023164842277765274 Batch_id=19 Accuracy=99.26: 100%|██████████| 20/20 [00:26<00:00,  1.32s/it]\n",
      "Loss=0.013470618985593319 Batch_id=19 Accuracy=99.41: 100%|██████████| 20/20 [00:26<00:00,  1.31s/it]\n",
      "Loss=0.01361776515841484 Batch_id=19 Accuracy=99.50: 100%|██████████| 20/20 [00:26<00:00,  1.31s/it] \n",
      "Loss=0.011459519155323505 Batch_id=19 Accuracy=99.52: 100%|██████████| 20/20 [00:26<00:00,  1.31s/it]\n",
      "Loss=0.020487910136580467 Batch_id=19 Accuracy=99.50: 100%|██████████| 20/20 [00:26<00:00,  1.31s/it]\n",
      "Loss=0.0229484885931015 Batch_id=19 Accuracy=99.57: 100%|██████████| 20/20 [00:26<00:00,  1.31s/it]  \n",
      "Loss=0.02679635025560856 Batch_id=19 Accuracy=99.59: 100%|██████████| 20/20 [00:26<00:00,  1.35s/it] \n"
     ]
    },
    {
     "name": "stdout",
     "output_type": "stream",
     "text": [
      "Epoch 00008: reducing learning rate of group 0 to 5.0000e-04.\n"
     ]
    },
    {
     "name": "stderr",
     "output_type": "stream",
     "text": [
      "Loss=0.015687545761466026 Batch_id=19 Accuracy=99.66: 100%|██████████| 20/20 [00:27<00:00,  1.36s/it]\n",
      "Loss=0.01703142561018467 Batch_id=19 Accuracy=99.61: 100%|██████████| 20/20 [00:26<00:00,  1.32s/it] \n"
     ]
    },
    {
     "name": "stdout",
     "output_type": "stream",
     "text": [
      "Test set: Average loss: 0.4679, Accuracy: 8922/10000 (89.22%)\n",
      "\n",
      "--Skipping Acc Comp For Corrupted Data--\n",
      "Global Sparsity: 70.77% \n",
      "\n",
      "---------- Pruning Iteration:  25 / 90\n"
     ]
    },
    {
     "name": "stderr",
     "output_type": "stream",
     "text": [
      "Loss=0.03239649906754494 Batch_id=19 Accuracy=98.51: 100%|██████████| 20/20 [00:26<00:00,  1.32s/it] \n",
      "Loss=0.020238816738128662 Batch_id=19 Accuracy=99.30: 100%|██████████| 20/20 [00:26<00:00,  1.32s/it]\n",
      "Loss=0.017651908099651337 Batch_id=19 Accuracy=99.43: 100%|██████████| 20/20 [00:26<00:00,  1.32s/it]\n",
      "Loss=0.016350965946912766 Batch_id=19 Accuracy=99.49: 100%|██████████| 20/20 [00:26<00:00,  1.33s/it]\n",
      "Loss=0.01294652745127678 Batch_id=19 Accuracy=99.57: 100%|██████████| 20/20 [00:26<00:00,  1.32s/it] \n",
      "Loss=0.011529813520610332 Batch_id=19 Accuracy=99.57: 100%|██████████| 20/20 [00:26<00:00,  1.32s/it]\n",
      "Loss=0.010372118093073368 Batch_id=19 Accuracy=99.56: 100%|██████████| 20/20 [00:26<00:00,  1.33s/it]\n",
      "Loss=0.013261716812849045 Batch_id=19 Accuracy=99.68: 100%|██████████| 20/20 [00:26<00:00,  1.32s/it]\n",
      "Loss=0.017147451639175415 Batch_id=19 Accuracy=99.58: 100%|██████████| 20/20 [00:26<00:00,  1.31s/it]\n",
      "Loss=0.020129360258579254 Batch_id=19 Accuracy=99.62: 100%|██████████| 20/20 [00:26<00:00,  1.32s/it]"
     ]
    },
    {
     "name": "stdout",
     "output_type": "stream",
     "text": [
      "Epoch 00010: reducing learning rate of group 0 to 5.0000e-04.\n"
     ]
    },
    {
     "name": "stderr",
     "output_type": "stream",
     "text": [
      "\n"
     ]
    },
    {
     "name": "stdout",
     "output_type": "stream",
     "text": [
      "Test set: Average loss: 0.4679, Accuracy: 8926/10000 (89.26%)\n",
      "\n",
      "--Skipping Acc Comp For Corrupted Data--\n",
      "Global Sparsity: 72.23% \n",
      "\n",
      "---------- Pruning Iteration:  26 / 90\n"
     ]
    },
    {
     "name": "stderr",
     "output_type": "stream",
     "text": [
      "Loss=0.02736191265285015 Batch_id=19 Accuracy=98.29: 100%|██████████| 20/20 [00:26<00:00,  1.33s/it] \n",
      "Loss=0.022750603035092354 Batch_id=19 Accuracy=99.18: 100%|██████████| 20/20 [00:26<00:00,  1.32s/it]\n",
      "Loss=0.013415471650660038 Batch_id=19 Accuracy=99.44: 100%|██████████| 20/20 [00:26<00:00,  1.31s/it]\n",
      "Loss=0.011299305595457554 Batch_id=19 Accuracy=99.45: 100%|██████████| 20/20 [00:26<00:00,  1.32s/it]\n",
      "Loss=0.013241658918559551 Batch_id=19 Accuracy=99.58: 100%|██████████| 20/20 [00:26<00:00,  1.32s/it]\n",
      "Loss=0.01515953429043293 Batch_id=19 Accuracy=99.58: 100%|██████████| 20/20 [00:26<00:00,  1.32s/it] \n",
      "Loss=0.009825138375163078 Batch_id=19 Accuracy=99.59: 100%|██████████| 20/20 [00:26<00:00,  1.31s/it]\n",
      "Loss=0.012803073041141033 Batch_id=19 Accuracy=99.65: 100%|██████████| 20/20 [00:26<00:00,  1.32s/it]\n",
      "Loss=0.012734330259263515 Batch_id=19 Accuracy=99.59: 100%|██████████| 20/20 [00:26<00:00,  1.32s/it]\n",
      "Loss=0.015900015830993652 Batch_id=19 Accuracy=99.66: 100%|██████████| 20/20 [00:26<00:00,  1.32s/it]"
     ]
    },
    {
     "name": "stdout",
     "output_type": "stream",
     "text": [
      "Epoch 00010: reducing learning rate of group 0 to 5.0000e-04.\n"
     ]
    },
    {
     "name": "stderr",
     "output_type": "stream",
     "text": [
      "\n"
     ]
    },
    {
     "name": "stdout",
     "output_type": "stream",
     "text": [
      "Test set: Average loss: 0.4757, Accuracy: 8914/10000 (89.14%)\n",
      "\n",
      "--Skipping Acc Comp For Corrupted Data--\n",
      "Global Sparsity: 73.61% \n",
      "\n",
      "---------- Pruning Iteration:  27 / 90\n"
     ]
    },
    {
     "name": "stderr",
     "output_type": "stream",
     "text": [
      "Loss=0.032249413430690765 Batch_id=19 Accuracy=98.55: 100%|██████████| 20/20 [00:26<00:00,  1.32s/it]\n",
      "Loss=0.013662731274962425 Batch_id=19 Accuracy=99.31: 100%|██████████| 20/20 [00:26<00:00,  1.32s/it]\n",
      "Loss=0.014500417746603489 Batch_id=19 Accuracy=99.50: 100%|██████████| 20/20 [00:26<00:00,  1.32s/it]\n",
      "Loss=0.0154122868552804 Batch_id=19 Accuracy=99.55: 100%|██████████| 20/20 [00:26<00:00,  1.31s/it]  \n",
      "Loss=0.014614110812544823 Batch_id=19 Accuracy=99.60: 100%|██████████| 20/20 [00:26<00:00,  1.31s/it]\n"
     ]
    },
    {
     "name": "stdout",
     "output_type": "stream",
     "text": [
      "Epoch 00005: reducing learning rate of group 0 to 5.0000e-04.\n"
     ]
    },
    {
     "name": "stderr",
     "output_type": "stream",
     "text": [
      "Loss=0.008669902570545673 Batch_id=19 Accuracy=99.64: 100%|██████████| 20/20 [00:26<00:00,  1.32s/it]\n",
      "Loss=0.010861819609999657 Batch_id=19 Accuracy=99.60: 100%|██████████| 20/20 [00:26<00:00,  1.32s/it]\n",
      "Loss=0.008713388815522194 Batch_id=19 Accuracy=99.67: 100%|██████████| 20/20 [00:26<00:00,  1.31s/it]\n",
      "Loss=0.0073311408050358295 Batch_id=19 Accuracy=99.72: 100%|██████████| 20/20 [00:26<00:00,  1.32s/it]\n",
      "Loss=0.007238672114908695 Batch_id=19 Accuracy=99.69: 100%|██████████| 20/20 [00:26<00:00,  1.32s/it]\n"
     ]
    },
    {
     "name": "stdout",
     "output_type": "stream",
     "text": [
      "Test set: Average loss: 0.4550, Accuracy: 8943/10000 (89.43%)\n",
      "\n",
      "--Skipping Acc Comp For Corrupted Data--\n",
      "Global Sparsity: 74.93% \n",
      "\n",
      "---------- Pruning Iteration:  28 / 90\n"
     ]
    },
    {
     "name": "stderr",
     "output_type": "stream",
     "text": [
      "Loss=0.03031216748058796 Batch_id=19 Accuracy=98.35: 100%|██████████| 20/20 [00:26<00:00,  1.31s/it] \n",
      "Loss=0.019494356587529182 Batch_id=19 Accuracy=99.30: 100%|██████████| 20/20 [00:26<00:00,  1.31s/it]\n",
      "Loss=0.010453345254063606 Batch_id=19 Accuracy=99.49: 100%|██████████| 20/20 [00:26<00:00,  1.32s/it]\n",
      "Loss=0.01579638384282589 Batch_id=19 Accuracy=99.55: 100%|██████████| 20/20 [00:26<00:00,  1.32s/it] \n",
      "Loss=0.01560237817466259 Batch_id=19 Accuracy=99.58: 100%|██████████| 20/20 [00:26<00:00,  1.31s/it] \n",
      "Loss=0.018848838284611702 Batch_id=19 Accuracy=99.59: 100%|██████████| 20/20 [00:26<00:00,  1.31s/it]\n"
     ]
    },
    {
     "name": "stdout",
     "output_type": "stream",
     "text": [
      "Epoch 00006: reducing learning rate of group 0 to 5.0000e-04.\n"
     ]
    },
    {
     "name": "stderr",
     "output_type": "stream",
     "text": [
      "Loss=0.014111881144344807 Batch_id=19 Accuracy=99.63: 100%|██████████| 20/20 [00:26<00:00,  1.32s/it]\n",
      "Loss=0.014827623032033443 Batch_id=19 Accuracy=99.66: 100%|██████████| 20/20 [00:26<00:00,  1.32s/it]\n",
      "Loss=0.013475959189236164 Batch_id=19 Accuracy=99.66: 100%|██████████| 20/20 [00:26<00:00,  1.31s/it]\n"
     ]
    },
    {
     "name": "stdout",
     "output_type": "stream",
     "text": [
      "Epoch 00009: reducing learning rate of group 0 to 2.5000e-05.\n"
     ]
    },
    {
     "name": "stderr",
     "output_type": "stream",
     "text": [
      "Loss=0.008436456322669983 Batch_id=19 Accuracy=99.67: 100%|██████████| 20/20 [00:26<00:00,  1.32s/it]\n"
     ]
    },
    {
     "name": "stdout",
     "output_type": "stream",
     "text": [
      "Test set: Average loss: 0.4466, Accuracy: 8983/10000 (89.83%)\n",
      "\n",
      "--Skipping Acc Comp For Corrupted Data--\n",
      "Global Sparsity: 76.18% \n",
      "\n",
      "---------- Pruning Iteration:  29 / 90\n"
     ]
    },
    {
     "name": "stderr",
     "output_type": "stream",
     "text": [
      "Loss=0.023029830306768417 Batch_id=19 Accuracy=98.25: 100%|██████████| 20/20 [00:26<00:00,  1.33s/it]\n",
      "Loss=0.017740122973918915 Batch_id=19 Accuracy=99.25: 100%|██████████| 20/20 [00:26<00:00,  1.31s/it]\n",
      "Loss=0.024737389758229256 Batch_id=19 Accuracy=99.45: 100%|██████████| 20/20 [00:26<00:00,  1.32s/it]\n",
      "Loss=0.01581915095448494 Batch_id=19 Accuracy=99.54: 100%|██████████| 20/20 [00:26<00:00,  1.32s/it] \n",
      "Loss=0.01684936136007309 Batch_id=19 Accuracy=99.56: 100%|██████████| 20/20 [00:26<00:00,  1.33s/it] \n",
      "Loss=0.013362795114517212 Batch_id=19 Accuracy=99.64: 100%|██████████| 20/20 [00:26<00:00,  1.32s/it]\n",
      "Loss=0.015026580542325974 Batch_id=19 Accuracy=99.67: 100%|██████████| 20/20 [00:26<00:00,  1.32s/it]\n",
      "Loss=0.010533607564866543 Batch_id=19 Accuracy=99.67: 100%|██████████| 20/20 [00:26<00:00,  1.34s/it]\n",
      "Loss=0.018332818523049355 Batch_id=19 Accuracy=99.67: 100%|██████████| 20/20 [00:26<00:00,  1.32s/it]\n",
      "Loss=0.008621223270893097 Batch_id=19 Accuracy=99.68: 100%|██████████| 20/20 [00:26<00:00,  1.31s/it]\n"
     ]
    },
    {
     "name": "stdout",
     "output_type": "stream",
     "text": [
      "Test set: Average loss: 0.4633, Accuracy: 8929/10000 (89.29%)\n",
      "\n",
      "--Skipping Acc Comp For Corrupted Data--\n",
      "Global Sparsity: 77.37% \n",
      "\n",
      "---------- Pruning Iteration:  30 / 90\n"
     ]
    },
    {
     "name": "stderr",
     "output_type": "stream",
     "text": [
      "Loss=0.025449557229876518 Batch_id=19 Accuracy=97.89: 100%|██████████| 20/20 [00:26<00:00,  1.32s/it]\n",
      "Loss=0.014558997936546803 Batch_id=19 Accuracy=99.23: 100%|██████████| 20/20 [00:26<00:00,  1.32s/it]\n",
      "Loss=0.010364142246544361 Batch_id=19 Accuracy=99.45: 100%|██████████| 20/20 [00:26<00:00,  1.31s/it]\n",
      "Loss=0.01612291857600212 Batch_id=19 Accuracy=99.56: 100%|██████████| 20/20 [00:26<00:00,  1.32s/it] \n",
      "Loss=0.013204011134803295 Batch_id=19 Accuracy=99.60: 100%|██████████| 20/20 [00:26<00:00,  1.32s/it]\n",
      "Loss=0.012601998634636402 Batch_id=19 Accuracy=99.65: 100%|██████████| 20/20 [00:26<00:00,  1.32s/it]\n"
     ]
    },
    {
     "name": "stdout",
     "output_type": "stream",
     "text": [
      "Epoch 00006: reducing learning rate of group 0 to 5.0000e-04.\n"
     ]
    },
    {
     "name": "stderr",
     "output_type": "stream",
     "text": [
      "Loss=0.009866440668702126 Batch_id=19 Accuracy=99.65: 100%|██████████| 20/20 [00:26<00:00,  1.32s/it]\n",
      "Loss=0.006340660620480776 Batch_id=19 Accuracy=99.70: 100%|██████████| 20/20 [00:26<00:00,  1.32s/it]\n",
      "Loss=0.01087958738207817 Batch_id=19 Accuracy=99.72: 100%|██████████| 20/20 [00:26<00:00,  1.33s/it] \n",
      "Loss=0.013003932312130928 Batch_id=19 Accuracy=99.70: 100%|██████████| 20/20 [00:26<00:00,  1.32s/it]\n"
     ]
    },
    {
     "name": "stdout",
     "output_type": "stream",
     "text": [
      "Test set: Average loss: 0.4488, Accuracy: 8929/10000 (89.29%)\n",
      "\n",
      "--Skipping Acc Comp For Corrupted Data--\n",
      "Global Sparsity: 78.50% \n",
      "\n",
      "---------- Pruning Iteration:  31 / 90\n"
     ]
    },
    {
     "name": "stderr",
     "output_type": "stream",
     "text": [
      "Loss=0.041174814105033875 Batch_id=19 Accuracy=98.23: 100%|██████████| 20/20 [00:26<00:00,  1.32s/it]\n",
      "Loss=0.020180463790893555 Batch_id=19 Accuracy=99.26: 100%|██████████| 20/20 [00:26<00:00,  1.33s/it]\n",
      "Loss=0.02294522523880005 Batch_id=19 Accuracy=99.55: 100%|██████████| 20/20 [00:26<00:00,  1.32s/it] \n",
      "Loss=0.011982771568000317 Batch_id=19 Accuracy=99.52: 100%|██████████| 20/20 [00:26<00:00,  1.32s/it]\n",
      "Loss=0.0166128221899271 Batch_id=19 Accuracy=99.62: 100%|██████████| 20/20 [00:26<00:00,  1.32s/it]  \n",
      "Loss=0.013138378039002419 Batch_id=19 Accuracy=99.55: 100%|██████████| 20/20 [00:26<00:00,  1.32s/it]\n",
      "Loss=0.00925329327583313 Batch_id=19 Accuracy=99.65: 100%|██████████| 20/20 [00:26<00:00,  1.32s/it] \n",
      "Loss=0.011498729698359966 Batch_id=19 Accuracy=99.59: 100%|██████████| 20/20 [00:26<00:00,  1.31s/it]\n",
      "Loss=0.014181186445057392 Batch_id=19 Accuracy=99.66: 100%|██████████| 20/20 [00:26<00:00,  1.32s/it]\n",
      "Loss=0.01305423490703106 Batch_id=19 Accuracy=99.68: 100%|██████████| 20/20 [00:26<00:00,  1.32s/it] "
     ]
    },
    {
     "name": "stdout",
     "output_type": "stream",
     "text": [
      "Epoch 00010: reducing learning rate of group 0 to 5.0000e-04.\n"
     ]
    },
    {
     "name": "stderr",
     "output_type": "stream",
     "text": [
      "\n"
     ]
    },
    {
     "name": "stdout",
     "output_type": "stream",
     "text": [
      "Test set: Average loss: 0.4529, Accuracy: 8914/10000 (89.14%)\n",
      "\n",
      "--Testing Corruptions--\n"
     ]
    },
    {
     "name": "stderr",
     "output_type": "stream",
     "text": [
      "100%|██████████| 19/19 [03:33<00:00, 11.23s/it]\n"
     ]
    },
    {
     "name": "stdout",
     "output_type": "stream",
     "text": [
      "\n",
      "Avg Corruption Accuracy: 75.65%\n",
      "Global Sparsity: 79.57% \n",
      "\n",
      "---------- Pruning Iteration:  32 / 90\n"
     ]
    },
    {
     "name": "stderr",
     "output_type": "stream",
     "text": [
      "Loss=0.039050232619047165 Batch_id=19 Accuracy=98.19: 100%|██████████| 20/20 [00:26<00:00,  1.32s/it]\n",
      "Loss=0.02277369610965252 Batch_id=19 Accuracy=99.23: 100%|██████████| 20/20 [00:26<00:00,  1.33s/it] \n",
      "Loss=0.014253515750169754 Batch_id=19 Accuracy=99.45: 100%|██████████| 20/20 [00:26<00:00,  1.31s/it]\n",
      "Loss=0.019444575533270836 Batch_id=19 Accuracy=99.57: 100%|██████████| 20/20 [00:26<00:00,  1.33s/it]\n",
      "Loss=0.021273847669363022 Batch_id=19 Accuracy=99.62: 100%|██████████| 20/20 [00:26<00:00,  1.33s/it]\n",
      "Loss=0.010945511981844902 Batch_id=19 Accuracy=99.61: 100%|██████████| 20/20 [00:26<00:00,  1.32s/it]\n",
      "Loss=0.01030912809073925 Batch_id=19 Accuracy=99.61: 100%|██████████| 20/20 [00:26<00:00,  1.32s/it] \n",
      "Loss=0.00898408330976963 Batch_id=19 Accuracy=99.69: 100%|██████████| 20/20 [00:26<00:00,  1.33s/it] \n",
      "Loss=0.009114611893892288 Batch_id=19 Accuracy=99.67: 100%|██████████| 20/20 [00:26<00:00,  1.32s/it]\n",
      "Loss=0.013906599953770638 Batch_id=19 Accuracy=99.69: 100%|██████████| 20/20 [00:26<00:00,  1.32s/it]\n"
     ]
    },
    {
     "name": "stdout",
     "output_type": "stream",
     "text": [
      "Test set: Average loss: 0.4534, Accuracy: 8924/10000 (89.24%)\n",
      "\n",
      "--Skipping Acc Comp For Corrupted Data--\n",
      "Global Sparsity: 80.59% \n",
      "\n",
      "---------- Pruning Iteration:  33 / 90\n"
     ]
    },
    {
     "name": "stderr",
     "output_type": "stream",
     "text": [
      "Loss=0.028449226170778275 Batch_id=19 Accuracy=98.22: 100%|██████████| 20/20 [00:26<00:00,  1.32s/it]\n",
      "Loss=0.018780473619699478 Batch_id=19 Accuracy=99.27: 100%|██████████| 20/20 [00:26<00:00,  1.33s/it]\n",
      "Loss=0.017757009714841843 Batch_id=19 Accuracy=99.53: 100%|██████████| 20/20 [00:26<00:00,  1.32s/it]\n",
      "Loss=0.022407956421375275 Batch_id=19 Accuracy=99.58: 100%|██████████| 20/20 [00:26<00:00,  1.32s/it]\n",
      "Loss=0.012192584574222565 Batch_id=19 Accuracy=99.62: 100%|██████████| 20/20 [00:26<00:00,  1.33s/it]\n",
      "Loss=0.014818133786320686 Batch_id=19 Accuracy=99.61: 100%|██████████| 20/20 [00:26<00:00,  1.32s/it]\n",
      "Loss=0.012320490553975105 Batch_id=19 Accuracy=99.66: 100%|██████████| 20/20 [00:26<00:00,  1.33s/it]\n",
      "Loss=0.010788211598992348 Batch_id=19 Accuracy=99.63: 100%|██████████| 20/20 [00:26<00:00,  1.32s/it]\n",
      "Loss=0.012154478579759598 Batch_id=19 Accuracy=99.68: 100%|██████████| 20/20 [00:26<00:00,  1.33s/it]\n",
      "Loss=0.011672780849039555 Batch_id=19 Accuracy=99.70: 100%|██████████| 20/20 [00:26<00:00,  1.33s/it]\n"
     ]
    },
    {
     "name": "stdout",
     "output_type": "stream",
     "text": [
      "Test set: Average loss: 0.4378, Accuracy: 8952/10000 (89.52%)\n",
      "\n",
      "--Skipping Acc Comp For Corrupted Data--\n",
      "Global Sparsity: 81.56% \n",
      "\n",
      "---------- Pruning Iteration:  34 / 90\n"
     ]
    },
    {
     "name": "stderr",
     "output_type": "stream",
     "text": [
      "Loss=0.02329813688993454 Batch_id=19 Accuracy=98.06: 100%|██████████| 20/20 [00:26<00:00,  1.33s/it] \n",
      "Loss=0.01608244888484478 Batch_id=19 Accuracy=99.22: 100%|██████████| 20/20 [00:26<00:00,  1.32s/it] \n",
      "Loss=0.014569764025509357 Batch_id=19 Accuracy=99.48: 100%|██████████| 20/20 [00:26<00:00,  1.33s/it]\n",
      "Loss=0.010831568390130997 Batch_id=19 Accuracy=99.52: 100%|██████████| 20/20 [00:26<00:00,  1.33s/it]\n",
      "Loss=0.009444301016628742 Batch_id=19 Accuracy=99.62: 100%|██████████| 20/20 [00:26<00:00,  1.32s/it]\n",
      "Loss=0.012205187231302261 Batch_id=19 Accuracy=99.68: 100%|██████████| 20/20 [00:26<00:00,  1.32s/it]\n",
      "Loss=0.0142965791746974 Batch_id=19 Accuracy=99.68: 100%|██████████| 20/20 [00:26<00:00,  1.32s/it]  \n",
      "Loss=0.010950337164103985 Batch_id=19 Accuracy=99.67: 100%|██████████| 20/20 [00:26<00:00,  1.33s/it]\n"
     ]
    },
    {
     "name": "stdout",
     "output_type": "stream",
     "text": [
      "Epoch 00008: reducing learning rate of group 0 to 5.0000e-04.\n"
     ]
    },
    {
     "name": "stderr",
     "output_type": "stream",
     "text": [
      "Loss=0.014705869369208813 Batch_id=19 Accuracy=99.71: 100%|██████████| 20/20 [00:26<00:00,  1.33s/it]\n",
      "Loss=0.009003935381770134 Batch_id=19 Accuracy=99.73: 100%|██████████| 20/20 [00:26<00:00,  1.32s/it]\n"
     ]
    },
    {
     "name": "stdout",
     "output_type": "stream",
     "text": [
      "Test set: Average loss: 0.4309, Accuracy: 8981/10000 (89.81%)\n",
      "\n",
      "--Skipping Acc Comp For Corrupted Data--\n",
      "Global Sparsity: 82.48% \n",
      "\n",
      "---------- Pruning Iteration:  35 / 90\n"
     ]
    },
    {
     "name": "stderr",
     "output_type": "stream",
     "text": [
      "Loss=0.030002832412719727 Batch_id=19 Accuracy=98.49: 100%|██████████| 20/20 [00:26<00:00,  1.33s/it]\n",
      "Loss=0.019767850637435913 Batch_id=19 Accuracy=99.29: 100%|██████████| 20/20 [00:26<00:00,  1.33s/it]\n",
      "Loss=0.01908119209110737 Batch_id=19 Accuracy=99.47: 100%|██████████| 20/20 [00:26<00:00,  1.32s/it] \n",
      "Loss=0.011996598914265633 Batch_id=19 Accuracy=99.60: 100%|██████████| 20/20 [00:26<00:00,  1.32s/it]\n",
      "Loss=0.011313718743622303 Batch_id=19 Accuracy=99.64: 100%|██████████| 20/20 [00:26<00:00,  1.33s/it]\n",
      "Loss=0.014389289543032646 Batch_id=19 Accuracy=99.67: 100%|██████████| 20/20 [00:26<00:00,  1.32s/it]\n",
      "Loss=0.01714378595352173 Batch_id=19 Accuracy=99.69: 100%|██████████| 20/20 [00:26<00:00,  1.32s/it] \n",
      "Loss=0.009341034106910229 Batch_id=19 Accuracy=99.71: 100%|██████████| 20/20 [00:26<00:00,  1.33s/it]\n",
      "Loss=0.008142254315316677 Batch_id=19 Accuracy=99.73: 100%|██████████| 20/20 [00:26<00:00,  1.33s/it]\n",
      "Loss=0.013955194503068924 Batch_id=19 Accuracy=99.73: 100%|██████████| 20/20 [00:26<00:00,  1.32s/it]\n"
     ]
    },
    {
     "name": "stdout",
     "output_type": "stream",
     "text": [
      "Test set: Average loss: 0.4445, Accuracy: 8961/10000 (89.61%)\n",
      "\n",
      "--Skipping Acc Comp For Corrupted Data--\n",
      "Global Sparsity: 83.35% \n",
      "\n",
      "---------- Pruning Iteration:  36 / 90\n"
     ]
    },
    {
     "name": "stderr",
     "output_type": "stream",
     "text": [
      "Loss=0.02623082883656025 Batch_id=19 Accuracy=98.30: 100%|██████████| 20/20 [00:26<00:00,  1.32s/it] \n",
      "Loss=0.019347291439771652 Batch_id=19 Accuracy=99.34: 100%|██████████| 20/20 [00:26<00:00,  1.33s/it]\n",
      "Loss=0.014076502062380314 Batch_id=19 Accuracy=99.52: 100%|██████████| 20/20 [00:26<00:00,  1.32s/it]\n",
      "Loss=0.022346775978803635 Batch_id=19 Accuracy=99.59: 100%|██████████| 20/20 [00:26<00:00,  1.31s/it]\n",
      "Loss=0.01344083622097969 Batch_id=19 Accuracy=99.63: 100%|██████████| 20/20 [00:26<00:00,  1.31s/it] \n",
      "Loss=0.010100189596414566 Batch_id=19 Accuracy=99.65: 100%|██████████| 20/20 [00:26<00:00,  1.32s/it]\n",
      "Loss=0.009167201817035675 Batch_id=19 Accuracy=99.69: 100%|██████████| 20/20 [00:26<00:00,  1.32s/it]\n",
      "Loss=0.011043127626180649 Batch_id=19 Accuracy=99.69: 100%|██████████| 20/20 [00:26<00:00,  1.32s/it]\n",
      "Loss=0.013324560597538948 Batch_id=19 Accuracy=99.70: 100%|██████████| 20/20 [00:26<00:00,  1.33s/it]\n",
      "Loss=0.01667245849967003 Batch_id=19 Accuracy=99.69: 100%|██████████| 20/20 [00:26<00:00,  1.33s/it] "
     ]
    },
    {
     "name": "stdout",
     "output_type": "stream",
     "text": [
      "Epoch 00010: reducing learning rate of group 0 to 5.0000e-04.\n"
     ]
    },
    {
     "name": "stderr",
     "output_type": "stream",
     "text": [
      "\n"
     ]
    },
    {
     "name": "stdout",
     "output_type": "stream",
     "text": [
      "Test set: Average loss: 0.4410, Accuracy: 8957/10000 (89.57%)\n",
      "\n",
      "--Skipping Acc Comp For Corrupted Data--\n",
      "Global Sparsity: 84.18% \n",
      "\n",
      "---------- Pruning Iteration:  37 / 90\n"
     ]
    },
    {
     "name": "stderr",
     "output_type": "stream",
     "text": [
      "Loss=0.023403195664286613 Batch_id=19 Accuracy=98.03: 100%|██████████| 20/20 [00:26<00:00,  1.32s/it]\n",
      "Loss=0.020910188555717468 Batch_id=19 Accuracy=99.28: 100%|██████████| 20/20 [00:26<00:00,  1.32s/it]\n",
      "Loss=0.0132661247625947 Batch_id=19 Accuracy=99.49: 100%|██████████| 20/20 [00:26<00:00,  1.33s/it]  \n",
      "Loss=0.008501679636538029 Batch_id=19 Accuracy=99.66: 100%|██████████| 20/20 [00:26<00:00,  1.33s/it]\n",
      "Loss=0.01668272539973259 Batch_id=19 Accuracy=99.64: 100%|██████████| 20/20 [00:26<00:00,  1.33s/it] \n",
      "Loss=0.015340389683842659 Batch_id=19 Accuracy=99.67: 100%|██████████| 20/20 [00:26<00:00,  1.33s/it]\n",
      "Loss=0.012544174678623676 Batch_id=19 Accuracy=99.72: 100%|██████████| 20/20 [00:26<00:00,  1.33s/it]\n"
     ]
    },
    {
     "name": "stdout",
     "output_type": "stream",
     "text": [
      "Epoch 00007: reducing learning rate of group 0 to 5.0000e-04.\n"
     ]
    },
    {
     "name": "stderr",
     "output_type": "stream",
     "text": [
      "Loss=0.015878822654485703 Batch_id=19 Accuracy=99.67: 100%|██████████| 20/20 [00:26<00:00,  1.33s/it]\n",
      "Loss=0.012747112661600113 Batch_id=19 Accuracy=99.77: 100%|██████████| 20/20 [00:26<00:00,  1.32s/it]\n",
      "Loss=0.011467326432466507 Batch_id=19 Accuracy=99.76: 100%|██████████| 20/20 [00:26<00:00,  1.32s/it]"
     ]
    },
    {
     "name": "stdout",
     "output_type": "stream",
     "text": [
      "Epoch 00010: reducing learning rate of group 0 to 2.5000e-05.\n"
     ]
    },
    {
     "name": "stderr",
     "output_type": "stream",
     "text": [
      "\n"
     ]
    },
    {
     "name": "stdout",
     "output_type": "stream",
     "text": [
      "Test set: Average loss: 0.4339, Accuracy: 8951/10000 (89.51%)\n",
      "\n",
      "--Skipping Acc Comp For Corrupted Data--\n",
      "Global Sparsity: 84.97% \n",
      "\n",
      "---------- Pruning Iteration:  38 / 90\n"
     ]
    },
    {
     "name": "stderr",
     "output_type": "stream",
     "text": [
      "Loss=0.030968204140663147 Batch_id=19 Accuracy=98.16: 100%|██████████| 20/20 [00:26<00:00,  1.32s/it]\n",
      "Loss=0.014190017245709896 Batch_id=19 Accuracy=99.28: 100%|██████████| 20/20 [00:26<00:00,  1.32s/it]\n",
      "Loss=0.016155347228050232 Batch_id=19 Accuracy=99.50: 100%|██████████| 20/20 [00:26<00:00,  1.32s/it]\n",
      "Loss=0.01772954687476158 Batch_id=19 Accuracy=99.59: 100%|██████████| 20/20 [00:26<00:00,  1.33s/it] \n",
      "Loss=0.012348338961601257 Batch_id=19 Accuracy=99.65: 100%|██████████| 20/20 [00:26<00:00,  1.33s/it]\n",
      "Loss=0.012523745186626911 Batch_id=19 Accuracy=99.66: 100%|██████████| 20/20 [00:26<00:00,  1.32s/it]\n",
      "Loss=0.018452871590852737 Batch_id=19 Accuracy=99.64: 100%|██████████| 20/20 [00:26<00:00,  1.33s/it]\n",
      "Loss=0.008372759446501732 Batch_id=19 Accuracy=99.70: 100%|██████████| 20/20 [00:26<00:00,  1.33s/it]\n",
      "Loss=0.014163069427013397 Batch_id=19 Accuracy=99.69: 100%|██████████| 20/20 [00:26<00:00,  1.32s/it]\n",
      "Loss=0.009878796525299549 Batch_id=19 Accuracy=99.70: 100%|██████████| 20/20 [00:26<00:00,  1.32s/it]\n"
     ]
    },
    {
     "name": "stdout",
     "output_type": "stream",
     "text": [
      "Test set: Average loss: 0.4264, Accuracy: 8975/10000 (89.75%)\n",
      "\n",
      "--Skipping Acc Comp For Corrupted Data--\n",
      "Global Sparsity: 85.72% \n",
      "\n",
      "---------- Pruning Iteration:  39 / 90\n"
     ]
    },
    {
     "name": "stderr",
     "output_type": "stream",
     "text": [
      "Loss=0.038972314447164536 Batch_id=19 Accuracy=98.13: 100%|██████████| 20/20 [00:26<00:00,  1.33s/it]\n",
      "Loss=0.016243284568190575 Batch_id=19 Accuracy=99.31: 100%|██████████| 20/20 [00:26<00:00,  1.32s/it]\n",
      "Loss=0.016378486528992653 Batch_id=19 Accuracy=99.49: 100%|██████████| 20/20 [00:26<00:00,  1.31s/it]\n",
      "Loss=0.0181026179343462 Batch_id=19 Accuracy=99.54: 100%|██████████| 20/20 [00:26<00:00,  1.31s/it]  \n",
      "Loss=0.011941676959395409 Batch_id=19 Accuracy=99.52: 100%|██████████| 20/20 [00:26<00:00,  1.33s/it]\n",
      "Loss=0.014524559490382671 Batch_id=19 Accuracy=99.61: 100%|██████████| 20/20 [00:26<00:00,  1.32s/it]\n",
      "Loss=0.012058548629283905 Batch_id=19 Accuracy=99.63: 100%|██████████| 20/20 [00:26<00:00,  1.32s/it]\n",
      "Loss=0.0137373311445117 Batch_id=19 Accuracy=99.64: 100%|██████████| 20/20 [00:26<00:00,  1.33s/it]  \n"
     ]
    },
    {
     "name": "stdout",
     "output_type": "stream",
     "text": [
      "Epoch 00008: reducing learning rate of group 0 to 5.0000e-04.\n"
     ]
    },
    {
     "name": "stderr",
     "output_type": "stream",
     "text": [
      "Loss=0.013312321156263351 Batch_id=19 Accuracy=99.68: 100%|██████████| 20/20 [00:26<00:00,  1.33s/it]\n",
      "Loss=0.012891494669020176 Batch_id=19 Accuracy=99.75: 100%|██████████| 20/20 [00:26<00:00,  1.32s/it]\n"
     ]
    },
    {
     "name": "stdout",
     "output_type": "stream",
     "text": [
      "Test set: Average loss: 0.4128, Accuracy: 8975/10000 (89.75%)\n",
      "\n",
      "--Skipping Acc Comp For Corrupted Data--\n",
      "Global Sparsity: 86.43% \n",
      "\n",
      "---------- Pruning Iteration:  40 / 90\n"
     ]
    },
    {
     "name": "stderr",
     "output_type": "stream",
     "text": [
      "Loss=0.03125037997961044 Batch_id=19 Accuracy=98.24: 100%|██████████| 20/20 [00:26<00:00,  1.32s/it] \n",
      "Loss=0.028369931504130363 Batch_id=19 Accuracy=99.24: 100%|██████████| 20/20 [00:26<00:00,  1.32s/it]\n",
      "Loss=0.02512359619140625 Batch_id=19 Accuracy=99.50: 100%|██████████| 20/20 [00:26<00:00,  1.31s/it] \n",
      "Loss=0.017166396602988243 Batch_id=19 Accuracy=99.50: 100%|██████████| 20/20 [00:26<00:00,  1.31s/it]\n",
      "Loss=0.01742715761065483 Batch_id=19 Accuracy=99.57: 100%|██████████| 20/20 [00:26<00:00,  1.32s/it] \n",
      "Loss=0.014916847459971905 Batch_id=19 Accuracy=99.63: 100%|██████████| 20/20 [00:26<00:00,  1.32s/it]\n",
      "Loss=0.015478016808629036 Batch_id=19 Accuracy=99.62: 100%|██████████| 20/20 [00:26<00:00,  1.32s/it]\n",
      "Loss=0.013467316515743732 Batch_id=19 Accuracy=99.65: 100%|██████████| 20/20 [00:26<00:00,  1.31s/it]\n",
      "Loss=0.013524731621146202 Batch_id=19 Accuracy=99.70: 100%|██████████| 20/20 [00:26<00:00,  1.32s/it]\n",
      "Loss=0.010358323343098164 Batch_id=19 Accuracy=99.69: 100%|██████████| 20/20 [00:26<00:00,  1.32s/it]\n"
     ]
    },
    {
     "name": "stdout",
     "output_type": "stream",
     "text": [
      "Test set: Average loss: 0.4244, Accuracy: 8967/10000 (89.67%)\n",
      "\n",
      "--Skipping Acc Comp For Corrupted Data--\n",
      "Global Sparsity: 87.11% \n",
      "\n",
      "---------- Pruning Iteration:  41 / 90\n"
     ]
    },
    {
     "name": "stderr",
     "output_type": "stream",
     "text": [
      "Loss=0.026306092739105225 Batch_id=19 Accuracy=98.36: 100%|██████████| 20/20 [00:26<00:00,  1.33s/it]\n",
      "Loss=0.020158031955361366 Batch_id=19 Accuracy=99.26: 100%|██████████| 20/20 [00:26<00:00,  1.32s/it]\n",
      "Loss=0.02218664065003395 Batch_id=19 Accuracy=99.46: 100%|██████████| 20/20 [00:26<00:00,  1.32s/it] \n",
      "Loss=0.01865224912762642 Batch_id=19 Accuracy=99.58: 100%|██████████| 20/20 [00:26<00:00,  1.33s/it] \n",
      "Loss=0.01989656127989292 Batch_id=19 Accuracy=99.62: 100%|██████████| 20/20 [00:26<00:00,  1.33s/it] \n",
      "Loss=0.01435801386833191 Batch_id=19 Accuracy=99.60: 100%|██████████| 20/20 [00:26<00:00,  1.32s/it] \n",
      "Loss=0.014282317832112312 Batch_id=19 Accuracy=99.66: 100%|██████████| 20/20 [00:26<00:00,  1.33s/it]\n",
      "Loss=0.012402473017573357 Batch_id=19 Accuracy=99.67: 100%|██████████| 20/20 [00:26<00:00,  1.33s/it]\n",
      "Loss=0.018692538142204285 Batch_id=19 Accuracy=99.67: 100%|██████████| 20/20 [00:26<00:00,  1.32s/it]\n",
      "Loss=0.019553177058696747 Batch_id=19 Accuracy=99.70: 100%|██████████| 20/20 [00:26<00:00,  1.33s/it]\n"
     ]
    },
    {
     "name": "stdout",
     "output_type": "stream",
     "text": [
      "Test set: Average loss: 0.4129, Accuracy: 8950/10000 (89.50%)\n",
      "\n",
      "--Skipping Acc Comp For Corrupted Data--\n",
      "Global Sparsity: 87.75% \n",
      "\n",
      "---------- Pruning Iteration:  42 / 90\n"
     ]
    },
    {
     "name": "stderr",
     "output_type": "stream",
     "text": [
      "Loss=0.0433536097407341 Batch_id=19 Accuracy=98.32: 100%|██████████| 20/20 [00:26<00:00,  1.33s/it]  \n",
      "Loss=0.023693909868597984 Batch_id=19 Accuracy=99.26: 100%|██████████| 20/20 [00:26<00:00,  1.32s/it]\n",
      "Loss=0.01932680793106556 Batch_id=19 Accuracy=99.57: 100%|██████████| 20/20 [00:26<00:00,  1.32s/it] \n",
      "Loss=0.01694212295114994 Batch_id=19 Accuracy=99.55: 100%|██████████| 20/20 [00:26<00:00,  1.33s/it] \n",
      "Loss=0.013341191224753857 Batch_id=19 Accuracy=99.61: 100%|██████████| 20/20 [00:26<00:00,  1.32s/it]\n",
      "Loss=0.016636133193969727 Batch_id=19 Accuracy=99.62: 100%|██████████| 20/20 [00:26<00:00,  1.32s/it]\n",
      "Loss=0.018400777131319046 Batch_id=19 Accuracy=99.64: 100%|██████████| 20/20 [00:26<00:00,  1.33s/it]\n",
      "Loss=0.011119798757135868 Batch_id=19 Accuracy=99.72: 100%|██████████| 20/20 [00:26<00:00,  1.32s/it]\n",
      "Loss=0.011399351991713047 Batch_id=19 Accuracy=99.65: 100%|██████████| 20/20 [00:26<00:00,  1.32s/it]\n",
      "Loss=0.011583846062421799 Batch_id=19 Accuracy=99.66: 100%|██████████| 20/20 [00:26<00:00,  1.33s/it]\n"
     ]
    },
    {
     "name": "stdout",
     "output_type": "stream",
     "text": [
      "Test set: Average loss: 0.4140, Accuracy: 8976/10000 (89.76%)\n",
      "\n",
      "--Skipping Acc Comp For Corrupted Data--\n",
      "Global Sparsity: 88.36% \n",
      "\n",
      "---------- Pruning Iteration:  43 / 90\n"
     ]
    },
    {
     "name": "stderr",
     "output_type": "stream",
     "text": [
      "Loss=0.02397831156849861 Batch_id=19 Accuracy=98.50: 100%|██████████| 20/20 [00:26<00:00,  1.33s/it] \n",
      "Loss=0.02661622315645218 Batch_id=19 Accuracy=99.16: 100%|██████████| 20/20 [00:26<00:00,  1.32s/it] \n",
      "Loss=0.02064429223537445 Batch_id=19 Accuracy=99.47: 100%|██████████| 20/20 [00:26<00:00,  1.31s/it] \n",
      "Loss=0.020397240296006203 Batch_id=19 Accuracy=99.56: 100%|██████████| 20/20 [00:26<00:00,  1.32s/it]\n",
      "Loss=0.018376056104898453 Batch_id=19 Accuracy=99.58: 100%|██████████| 20/20 [00:26<00:00,  1.33s/it]\n",
      "Loss=0.015605835244059563 Batch_id=19 Accuracy=99.62: 100%|██████████| 20/20 [00:26<00:00,  1.32s/it]\n",
      "Loss=0.015415131114423275 Batch_id=19 Accuracy=99.61: 100%|██████████| 20/20 [00:26<00:00,  1.32s/it]\n",
      "Loss=0.016217442229390144 Batch_id=19 Accuracy=99.64: 100%|██████████| 20/20 [00:26<00:00,  1.32s/it]\n",
      "Loss=0.01426604948937893 Batch_id=19 Accuracy=99.66: 100%|██████████| 20/20 [00:26<00:00,  1.32s/it] \n",
      "Loss=0.01446378231048584 Batch_id=19 Accuracy=99.70: 100%|██████████| 20/20 [00:26<00:00,  1.31s/it] \n"
     ]
    },
    {
     "name": "stdout",
     "output_type": "stream",
     "text": [
      "Test set: Average loss: 0.4061, Accuracy: 8984/10000 (89.84%)\n",
      "\n",
      "--Skipping Acc Comp For Corrupted Data--\n",
      "Global Sparsity: 88.94% \n",
      "\n",
      "---------- Pruning Iteration:  44 / 90\n"
     ]
    },
    {
     "name": "stderr",
     "output_type": "stream",
     "text": [
      "Loss=0.034275174140930176 Batch_id=19 Accuracy=98.54: 100%|██████████| 20/20 [00:26<00:00,  1.33s/it]\n",
      "Loss=0.020023860037326813 Batch_id=19 Accuracy=99.24: 100%|██████████| 20/20 [00:26<00:00,  1.33s/it]\n",
      "Loss=0.02511894889175892 Batch_id=19 Accuracy=99.44: 100%|██████████| 20/20 [00:26<00:00,  1.33s/it] \n",
      "Loss=0.01717723160982132 Batch_id=19 Accuracy=99.53: 100%|██████████| 20/20 [00:26<00:00,  1.32s/it] \n",
      "Loss=0.015490765683352947 Batch_id=19 Accuracy=99.54: 100%|██████████| 20/20 [00:26<00:00,  1.33s/it]\n",
      "Loss=0.020733779296278954 Batch_id=19 Accuracy=99.62: 100%|██████████| 20/20 [00:26<00:00,  1.34s/it]\n",
      "Loss=0.02167591080069542 Batch_id=19 Accuracy=99.67: 100%|██████████| 20/20 [00:26<00:00,  1.33s/it] \n",
      "Loss=0.01733691245317459 Batch_id=19 Accuracy=99.63: 100%|██████████| 20/20 [00:26<00:00,  1.32s/it] \n"
     ]
    },
    {
     "name": "stdout",
     "output_type": "stream",
     "text": [
      "Epoch 00008: reducing learning rate of group 0 to 5.0000e-04.\n"
     ]
    },
    {
     "name": "stderr",
     "output_type": "stream",
     "text": [
      "Loss=0.01717248745262623 Batch_id=19 Accuracy=99.65: 100%|██████████| 20/20 [00:26<00:00,  1.33s/it] \n",
      "Loss=0.014130146242678165 Batch_id=19 Accuracy=99.64: 100%|██████████| 20/20 [00:26<00:00,  1.32s/it]\n"
     ]
    },
    {
     "name": "stdout",
     "output_type": "stream",
     "text": [
      "Test set: Average loss: 0.4019, Accuracy: 8976/10000 (89.76%)\n",
      "\n",
      "--Skipping Acc Comp For Corrupted Data--\n",
      "Global Sparsity: 89.49% \n",
      "\n",
      "---------- Pruning Iteration:  45 / 90\n"
     ]
    },
    {
     "name": "stderr",
     "output_type": "stream",
     "text": [
      "Loss=0.03863599896430969 Batch_id=19 Accuracy=98.42: 100%|██████████| 20/20 [00:26<00:00,  1.32s/it] \n",
      "Loss=0.019984427839517593 Batch_id=19 Accuracy=99.26: 100%|██████████| 20/20 [00:26<00:00,  1.33s/it]\n",
      "Loss=0.026110216975212097 Batch_id=19 Accuracy=99.45: 100%|██████████| 20/20 [00:26<00:00,  1.33s/it]\n",
      "Loss=0.018863720819354057 Batch_id=19 Accuracy=99.56: 100%|██████████| 20/20 [00:26<00:00,  1.33s/it]\n",
      "Loss=0.026197556406259537 Batch_id=19 Accuracy=99.58: 100%|██████████| 20/20 [00:26<00:00,  1.32s/it]\n",
      "Loss=0.011522629298269749 Batch_id=19 Accuracy=99.64: 100%|██████████| 20/20 [00:26<00:00,  1.32s/it]\n",
      "Loss=0.019529493525624275 Batch_id=19 Accuracy=99.63: 100%|██████████| 20/20 [00:26<00:00,  1.33s/it]\n",
      "Loss=0.017379339784383774 Batch_id=19 Accuracy=99.63: 100%|██████████| 20/20 [00:26<00:00,  1.33s/it]\n",
      "Loss=0.010862136259675026 Batch_id=19 Accuracy=99.65: 100%|██████████| 20/20 [00:26<00:00,  1.32s/it]\n",
      "Loss=0.01406730804592371 Batch_id=19 Accuracy=99.64: 100%|██████████| 20/20 [00:26<00:00,  1.32s/it] \n"
     ]
    },
    {
     "name": "stdout",
     "output_type": "stream",
     "text": [
      "Test set: Average loss: 0.4071, Accuracy: 8981/10000 (89.81%)\n",
      "\n",
      "--Testing Corruptions--\n"
     ]
    },
    {
     "name": "stderr",
     "output_type": "stream",
     "text": [
      "100%|██████████| 19/19 [03:47<00:00, 12.00s/it]\n"
     ]
    },
    {
     "name": "stdout",
     "output_type": "stream",
     "text": [
      "\n",
      "Avg Corruption Accuracy: 76.67%\n",
      "Global Sparsity: 90.01% \n",
      "\n",
      "---------- Pruning Iteration:  46 / 90\n"
     ]
    },
    {
     "name": "stderr",
     "output_type": "stream",
     "text": [
      "Loss=0.030732151120901108 Batch_id=19 Accuracy=98.51: 100%|██████████| 20/20 [00:26<00:00,  1.34s/it]\n",
      "Loss=0.029602771624922752 Batch_id=19 Accuracy=99.28: 100%|██████████| 20/20 [00:26<00:00,  1.33s/it]\n",
      "Loss=0.014883947558701038 Batch_id=19 Accuracy=99.43: 100%|██████████| 20/20 [00:26<00:00,  1.33s/it]\n",
      "Loss=0.024729084223508835 Batch_id=19 Accuracy=99.43: 100%|██████████| 20/20 [00:26<00:00,  1.33s/it]\n",
      "Loss=0.016628721728920937 Batch_id=19 Accuracy=99.55: 100%|██████████| 20/20 [00:26<00:00,  1.34s/it]\n",
      "Loss=0.020539933815598488 Batch_id=19 Accuracy=99.55: 100%|██████████| 20/20 [00:26<00:00,  1.34s/it]\n"
     ]
    },
    {
     "name": "stdout",
     "output_type": "stream",
     "text": [
      "Epoch 00006: reducing learning rate of group 0 to 5.0000e-04.\n"
     ]
    },
    {
     "name": "stderr",
     "output_type": "stream",
     "text": [
      "Loss=0.019009649753570557 Batch_id=19 Accuracy=99.64: 100%|██████████| 20/20 [00:26<00:00,  1.33s/it]\n",
      "Loss=0.01501073595136404 Batch_id=19 Accuracy=99.63: 100%|██████████| 20/20 [00:26<00:00,  1.34s/it] \n",
      "Loss=0.012258429080247879 Batch_id=19 Accuracy=99.67: 100%|██████████| 20/20 [00:26<00:00,  1.34s/it]\n",
      "Loss=0.021345188841223717 Batch_id=19 Accuracy=99.67: 100%|██████████| 20/20 [00:26<00:00,  1.33s/it]\n"
     ]
    },
    {
     "name": "stdout",
     "output_type": "stream",
     "text": [
      "Test set: Average loss: 0.3937, Accuracy: 8984/10000 (89.84%)\n",
      "\n",
      "--Skipping Acc Comp For Corrupted Data--\n",
      "Global Sparsity: 90.51% \n",
      "\n",
      "---------- Pruning Iteration:  47 / 90\n"
     ]
    },
    {
     "name": "stderr",
     "output_type": "stream",
     "text": [
      "Loss=0.027029531076550484 Batch_id=19 Accuracy=98.45: 100%|██████████| 20/20 [00:26<00:00,  1.33s/it]\n",
      "Loss=0.027641473338007927 Batch_id=19 Accuracy=99.16: 100%|██████████| 20/20 [00:26<00:00,  1.33s/it]\n",
      "Loss=0.017819702625274658 Batch_id=19 Accuracy=99.33: 100%|██████████| 20/20 [00:26<00:00,  1.33s/it]\n",
      "Loss=0.02324066311120987 Batch_id=19 Accuracy=99.43: 100%|██████████| 20/20 [00:26<00:00,  1.33s/it] \n",
      "Loss=0.026117440313100815 Batch_id=19 Accuracy=99.48: 100%|██████████| 20/20 [00:26<00:00,  1.33s/it]\n",
      "Loss=0.01963064633309841 Batch_id=19 Accuracy=99.46: 100%|██████████| 20/20 [00:26<00:00,  1.33s/it] \n"
     ]
    },
    {
     "name": "stdout",
     "output_type": "stream",
     "text": [
      "Epoch 00006: reducing learning rate of group 0 to 5.0000e-04.\n"
     ]
    },
    {
     "name": "stderr",
     "output_type": "stream",
     "text": [
      "Loss=0.02313941903412342 Batch_id=19 Accuracy=99.53: 100%|██████████| 20/20 [00:26<00:00,  1.34s/it] \n",
      "Loss=0.01447188388556242 Batch_id=19 Accuracy=99.61: 100%|██████████| 20/20 [00:26<00:00,  1.33s/it] \n",
      "Loss=0.01785488985478878 Batch_id=19 Accuracy=99.61: 100%|██████████| 20/20 [00:26<00:00,  1.33s/it] \n",
      "Loss=0.013966907747089863 Batch_id=19 Accuracy=99.66: 100%|██████████| 20/20 [00:26<00:00,  1.34s/it]\n"
     ]
    },
    {
     "name": "stdout",
     "output_type": "stream",
     "text": [
      "Test set: Average loss: 0.3881, Accuracy: 8999/10000 (89.99%)\n",
      "\n",
      "--Skipping Acc Comp For Corrupted Data--\n",
      "Global Sparsity: 90.98% \n",
      "\n",
      "---------- Pruning Iteration:  48 / 90\n"
     ]
    },
    {
     "name": "stderr",
     "output_type": "stream",
     "text": [
      "Loss=0.034238606691360474 Batch_id=19 Accuracy=98.23: 100%|██████████| 20/20 [00:26<00:00,  1.33s/it]\n",
      "Loss=0.033783260732889175 Batch_id=19 Accuracy=99.10: 100%|██████████| 20/20 [00:26<00:00,  1.33s/it]\n",
      "Loss=0.030972929671406746 Batch_id=19 Accuracy=99.27: 100%|██████████| 20/20 [00:26<00:00,  1.33s/it]\n",
      "Loss=0.027315150946378708 Batch_id=19 Accuracy=99.34: 100%|██████████| 20/20 [00:26<00:00,  1.34s/it]\n",
      "Loss=0.025046197697520256 Batch_id=19 Accuracy=99.43: 100%|██████████| 20/20 [00:26<00:00,  1.34s/it]\n",
      "Loss=0.02312093786895275 Batch_id=19 Accuracy=99.44: 100%|██████████| 20/20 [00:26<00:00,  1.33s/it] \n",
      "Loss=0.026996586471796036 Batch_id=19 Accuracy=99.51: 100%|██████████| 20/20 [00:26<00:00,  1.33s/it]\n",
      "Loss=0.01993907056748867 Batch_id=19 Accuracy=99.51: 100%|██████████| 20/20 [00:26<00:00,  1.33s/it] \n",
      "Loss=0.022334987297654152 Batch_id=19 Accuracy=99.53: 100%|██████████| 20/20 [00:26<00:00,  1.33s/it]\n",
      "Loss=0.018821416422724724 Batch_id=19 Accuracy=99.53: 100%|██████████| 20/20 [00:26<00:00,  1.32s/it]\n"
     ]
    },
    {
     "name": "stdout",
     "output_type": "stream",
     "text": [
      "Test set: Average loss: 0.4037, Accuracy: 8959/10000 (89.59%)\n",
      "\n",
      "--Skipping Acc Comp For Corrupted Data--\n",
      "Global Sparsity: 91.43% \n",
      "\n",
      "---------- Pruning Iteration:  49 / 90\n"
     ]
    },
    {
     "name": "stderr",
     "output_type": "stream",
     "text": [
      "Loss=0.04160728305578232 Batch_id=19 Accuracy=98.39: 100%|██████████| 20/20 [00:26<00:00,  1.33s/it] \n",
      "Loss=0.025366228073835373 Batch_id=19 Accuracy=99.15: 100%|██████████| 20/20 [00:26<00:00,  1.33s/it]\n",
      "Loss=0.03109547682106495 Batch_id=19 Accuracy=99.26: 100%|██████████| 20/20 [00:26<00:00,  1.32s/it] \n",
      "Loss=0.02621898055076599 Batch_id=19 Accuracy=99.32: 100%|██████████| 20/20 [00:26<00:00,  1.33s/it] \n",
      "Loss=0.027989177033305168 Batch_id=19 Accuracy=99.36: 100%|██████████| 20/20 [00:26<00:00,  1.33s/it]\n"
     ]
    },
    {
     "name": "stdout",
     "output_type": "stream",
     "text": [
      "Epoch 00005: reducing learning rate of group 0 to 5.0000e-04.\n"
     ]
    },
    {
     "name": "stderr",
     "output_type": "stream",
     "text": [
      "Loss=0.02386336959898472 Batch_id=19 Accuracy=99.47: 100%|██████████| 20/20 [00:26<00:00,  1.34s/it] \n",
      "Loss=0.014863169752061367 Batch_id=19 Accuracy=99.51: 100%|██████████| 20/20 [00:26<00:00,  1.33s/it]\n",
      "Loss=0.020870322361588478 Batch_id=19 Accuracy=99.54: 100%|██████████| 20/20 [00:26<00:00,  1.33s/it]\n",
      "Loss=0.01646430790424347 Batch_id=19 Accuracy=99.59: 100%|██████████| 20/20 [00:26<00:00,  1.34s/it] \n",
      "Loss=0.014316864311695099 Batch_id=19 Accuracy=99.62: 100%|██████████| 20/20 [00:26<00:00,  1.34s/it]\n"
     ]
    },
    {
     "name": "stdout",
     "output_type": "stream",
     "text": [
      "Test set: Average loss: 0.3848, Accuracy: 8977/10000 (89.77%)\n",
      "\n",
      "--Skipping Acc Comp For Corrupted Data--\n",
      "Global Sparsity: 91.86% \n",
      "\n",
      "---------- Pruning Iteration:  50 / 90\n"
     ]
    },
    {
     "name": "stderr",
     "output_type": "stream",
     "text": [
      "Loss=0.038570601493120193 Batch_id=19 Accuracy=98.29: 100%|██████████| 20/20 [00:26<00:00,  1.33s/it]\n",
      "Loss=0.02971777692437172 Batch_id=19 Accuracy=99.04: 100%|██████████| 20/20 [00:26<00:00,  1.33s/it] \n",
      "Loss=0.03284687548875809 Batch_id=19 Accuracy=99.25: 100%|██████████| 20/20 [00:26<00:00,  1.34s/it] \n",
      "Loss=0.030292076990008354 Batch_id=19 Accuracy=99.18: 100%|██████████| 20/20 [00:26<00:00,  1.33s/it]\n",
      "Loss=0.02522091008722782 Batch_id=19 Accuracy=99.31: 100%|██████████| 20/20 [00:26<00:00,  1.33s/it] \n",
      "Loss=0.024713238701224327 Batch_id=19 Accuracy=99.39: 100%|██████████| 20/20 [00:26<00:00,  1.33s/it]\n",
      "Loss=0.03396829590201378 Batch_id=19 Accuracy=99.41: 100%|██████████| 20/20 [00:27<00:00,  1.36s/it] \n",
      "Loss=0.018888844177126884 Batch_id=19 Accuracy=99.48: 100%|██████████| 20/20 [00:26<00:00,  1.33s/it]\n",
      "Loss=0.01923736184835434 Batch_id=19 Accuracy=99.45: 100%|██████████| 20/20 [00:26<00:00,  1.33s/it] \n",
      "Loss=0.028486067429184914 Batch_id=19 Accuracy=99.48: 100%|██████████| 20/20 [00:26<00:00,  1.34s/it]\n"
     ]
    },
    {
     "name": "stdout",
     "output_type": "stream",
     "text": [
      "Test set: Average loss: 0.3950, Accuracy: 8963/10000 (89.63%)\n",
      "\n",
      "--Skipping Acc Comp For Corrupted Data--\n",
      "Global Sparsity: 92.26% \n",
      "\n",
      "---------- Pruning Iteration:  51 / 90\n"
     ]
    },
    {
     "name": "stderr",
     "output_type": "stream",
     "text": [
      "Loss=0.04019482433795929 Batch_id=19 Accuracy=98.40: 100%|██████████| 20/20 [00:26<00:00,  1.33s/it] \n",
      "Loss=0.02759581431746483 Batch_id=19 Accuracy=99.04: 100%|██████████| 20/20 [00:26<00:00,  1.33s/it] \n",
      "Loss=0.03180413320660591 Batch_id=19 Accuracy=99.16: 100%|██████████| 20/20 [00:26<00:00,  1.33s/it] \n",
      "Loss=0.024640744552016258 Batch_id=19 Accuracy=99.29: 100%|██████████| 20/20 [00:26<00:00,  1.33s/it]\n",
      "Loss=0.0189370047301054 Batch_id=19 Accuracy=99.33: 100%|██████████| 20/20 [00:26<00:00,  1.34s/it]  \n",
      "Loss=0.0190225001424551 Batch_id=19 Accuracy=99.40: 100%|██████████| 20/20 [00:26<00:00,  1.33s/it]  \n",
      "Loss=0.026537176221609116 Batch_id=19 Accuracy=99.43: 100%|██████████| 20/20 [00:26<00:00,  1.33s/it]\n",
      "Loss=0.02454691007733345 Batch_id=19 Accuracy=99.44: 100%|██████████| 20/20 [00:26<00:00,  1.33s/it] \n"
     ]
    },
    {
     "name": "stdout",
     "output_type": "stream",
     "text": [
      "Epoch 00008: reducing learning rate of group 0 to 5.0000e-04.\n"
     ]
    },
    {
     "name": "stderr",
     "output_type": "stream",
     "text": [
      "Loss=0.017385803163051605 Batch_id=19 Accuracy=99.50: 100%|██████████| 20/20 [00:26<00:00,  1.33s/it]\n",
      "Loss=0.016631804406642914 Batch_id=19 Accuracy=99.57: 100%|██████████| 20/20 [00:26<00:00,  1.33s/it]\n"
     ]
    },
    {
     "name": "stdout",
     "output_type": "stream",
     "text": [
      "Test set: Average loss: 0.3819, Accuracy: 8994/10000 (89.94%)\n",
      "\n",
      "--Skipping Acc Comp For Corrupted Data--\n",
      "Global Sparsity: 92.65% \n",
      "\n",
      "---------- Pruning Iteration:  52 / 90\n"
     ]
    },
    {
     "name": "stderr",
     "output_type": "stream",
     "text": [
      "Loss=0.04111853614449501 Batch_id=19 Accuracy=98.44: 100%|██████████| 20/20 [00:26<00:00,  1.33s/it] \n",
      "Loss=0.026809558272361755 Batch_id=19 Accuracy=99.00: 100%|██████████| 20/20 [00:26<00:00,  1.33s/it]\n",
      "Loss=0.03424219787120819 Batch_id=19 Accuracy=99.15: 100%|██████████| 20/20 [00:27<00:00,  1.37s/it] \n",
      "Loss=0.02379966899752617 Batch_id=19 Accuracy=99.23: 100%|██████████| 20/20 [00:26<00:00,  1.32s/it] \n",
      "Loss=0.03125431761145592 Batch_id=19 Accuracy=99.37: 100%|██████████| 20/20 [00:26<00:00,  1.33s/it] \n",
      "Loss=0.024427808821201324 Batch_id=19 Accuracy=99.39: 100%|██████████| 20/20 [00:26<00:00,  1.33s/it]\n",
      "Loss=0.024772970005869865 Batch_id=19 Accuracy=99.34: 100%|██████████| 20/20 [00:27<00:00,  1.36s/it]\n"
     ]
    },
    {
     "name": "stdout",
     "output_type": "stream",
     "text": [
      "Epoch 00007: reducing learning rate of group 0 to 5.0000e-04.\n"
     ]
    },
    {
     "name": "stderr",
     "output_type": "stream",
     "text": [
      "Loss=0.02474399097263813 Batch_id=19 Accuracy=99.50: 100%|██████████| 20/20 [00:26<00:00,  1.33s/it] \n",
      "Loss=0.018878543749451637 Batch_id=19 Accuracy=99.50: 100%|██████████| 20/20 [00:26<00:00,  1.34s/it]\n",
      "Loss=0.021874219179153442 Batch_id=19 Accuracy=99.49: 100%|██████████| 20/20 [00:26<00:00,  1.33s/it]\n"
     ]
    },
    {
     "name": "stdout",
     "output_type": "stream",
     "text": [
      "Test set: Average loss: 0.3745, Accuracy: 9004/10000 (90.04%)\n",
      "\n",
      "--Skipping Acc Comp For Corrupted Data--\n",
      "Global Sparsity: 93.01% \n",
      "\n",
      "---------- Pruning Iteration:  53 / 90\n"
     ]
    },
    {
     "name": "stderr",
     "output_type": "stream",
     "text": [
      "Loss=0.05342314764857292 Batch_id=19 Accuracy=98.42: 100%|██████████| 20/20 [00:26<00:00,  1.33s/it] \n",
      "Loss=0.02948840707540512 Batch_id=19 Accuracy=98.88: 100%|██████████| 20/20 [00:26<00:00,  1.34s/it] \n",
      "Loss=0.027432456612586975 Batch_id=19 Accuracy=99.11: 100%|██████████| 20/20 [00:26<00:00,  1.33s/it]\n",
      "Loss=0.03185082972049713 Batch_id=19 Accuracy=99.19: 100%|██████████| 20/20 [00:26<00:00,  1.33s/it] \n",
      "Loss=0.024197258055210114 Batch_id=19 Accuracy=99.21: 100%|██████████| 20/20 [00:26<00:00,  1.33s/it]\n",
      "Loss=0.02862686477601528 Batch_id=19 Accuracy=99.28: 100%|██████████| 20/20 [00:26<00:00,  1.32s/it] \n",
      "Loss=0.02223041281104088 Batch_id=19 Accuracy=99.32: 100%|██████████| 20/20 [00:26<00:00,  1.33s/it] \n",
      "Loss=0.026140246540308 Batch_id=19 Accuracy=99.42: 100%|██████████| 20/20 [00:26<00:00,  1.33s/it]   \n",
      "Loss=0.02757248654961586 Batch_id=19 Accuracy=99.36: 100%|██████████| 20/20 [00:26<00:00,  1.33s/it] \n",
      "Loss=0.0298589039593935 Batch_id=19 Accuracy=99.34: 100%|██████████| 20/20 [00:26<00:00,  1.35s/it]  "
     ]
    },
    {
     "name": "stdout",
     "output_type": "stream",
     "text": [
      "Epoch 00010: reducing learning rate of group 0 to 5.0000e-04.\n"
     ]
    },
    {
     "name": "stderr",
     "output_type": "stream",
     "text": [
      "\n"
     ]
    },
    {
     "name": "stdout",
     "output_type": "stream",
     "text": [
      "Test set: Average loss: 0.4081, Accuracy: 8931/10000 (89.31%)\n",
      "\n",
      "--Skipping Acc Comp For Corrupted Data--\n",
      "Global Sparsity: 93.36% \n",
      "\n",
      "---------- Pruning Iteration:  54 / 90\n"
     ]
    },
    {
     "name": "stderr",
     "output_type": "stream",
     "text": [
      "Loss=0.05414167419075966 Batch_id=19 Accuracy=98.21: 100%|██████████| 20/20 [00:26<00:00,  1.33s/it] \n",
      "Loss=0.025840017944574356 Batch_id=19 Accuracy=98.93: 100%|██████████| 20/20 [00:27<00:00,  1.35s/it]\n",
      "Loss=0.030037371441721916 Batch_id=19 Accuracy=99.15: 100%|██████████| 20/20 [00:27<00:00,  1.36s/it]\n",
      "Loss=0.03788632154464722 Batch_id=19 Accuracy=99.16: 100%|██████████| 20/20 [00:26<00:00,  1.35s/it] \n",
      "Loss=0.0279607605189085 Batch_id=19 Accuracy=99.22: 100%|██████████| 20/20 [00:26<00:00,  1.34s/it]  \n"
     ]
    },
    {
     "name": "stdout",
     "output_type": "stream",
     "text": [
      "Epoch 00005: reducing learning rate of group 0 to 5.0000e-04.\n"
     ]
    },
    {
     "name": "stderr",
     "output_type": "stream",
     "text": [
      "Loss=0.019367661327123642 Batch_id=19 Accuracy=99.31: 100%|██████████| 20/20 [00:26<00:00,  1.34s/it]\n",
      "Loss=0.020801540464162827 Batch_id=19 Accuracy=99.41: 100%|██████████| 20/20 [00:26<00:00,  1.35s/it]\n",
      "Loss=0.021150004118680954 Batch_id=19 Accuracy=99.45: 100%|██████████| 20/20 [00:26<00:00,  1.35s/it]\n",
      "Loss=0.024142226204276085 Batch_id=19 Accuracy=99.46: 100%|██████████| 20/20 [00:26<00:00,  1.35s/it]\n"
     ]
    },
    {
     "name": "stdout",
     "output_type": "stream",
     "text": [
      "Epoch 00009: reducing learning rate of group 0 to 2.5000e-05.\n"
     ]
    },
    {
     "name": "stderr",
     "output_type": "stream",
     "text": [
      "Loss=0.02032342553138733 Batch_id=19 Accuracy=99.44: 100%|██████████| 20/20 [00:26<00:00,  1.34s/it] \n"
     ]
    },
    {
     "name": "stdout",
     "output_type": "stream",
     "text": [
      "Test set: Average loss: 0.3818, Accuracy: 8989/10000 (89.89%)\n",
      "\n",
      "--Skipping Acc Comp For Corrupted Data--\n",
      "Global Sparsity: 93.69% \n",
      "\n",
      "---------- Pruning Iteration:  55 / 90\n"
     ]
    },
    {
     "name": "stderr",
     "output_type": "stream",
     "text": [
      "Loss=0.048461757600307465 Batch_id=19 Accuracy=98.25: 100%|██████████| 20/20 [00:26<00:00,  1.34s/it]\n",
      "Loss=0.048083048313856125 Batch_id=19 Accuracy=98.76: 100%|██████████| 20/20 [00:26<00:00,  1.34s/it]\n",
      "Loss=0.0359063446521759 Batch_id=19 Accuracy=98.99: 100%|██████████| 20/20 [00:26<00:00,  1.34s/it]  \n",
      "Loss=0.031139899045228958 Batch_id=19 Accuracy=99.15: 100%|██████████| 20/20 [00:26<00:00,  1.34s/it]\n",
      "Loss=0.03658914566040039 Batch_id=19 Accuracy=99.22: 100%|██████████| 20/20 [00:26<00:00,  1.35s/it] \n",
      "Loss=0.030009889975190163 Batch_id=19 Accuracy=99.23: 100%|██████████| 20/20 [00:26<00:00,  1.34s/it]\n",
      "Loss=0.022174164652824402 Batch_id=19 Accuracy=99.24: 100%|██████████| 20/20 [00:26<00:00,  1.34s/it]\n",
      "Loss=0.02207716926932335 Batch_id=19 Accuracy=99.28: 100%|██████████| 20/20 [00:26<00:00,  1.34s/it] \n",
      "Loss=0.02792476676404476 Batch_id=19 Accuracy=99.26: 100%|██████████| 20/20 [00:26<00:00,  1.34s/it] \n",
      "Loss=0.026021653786301613 Batch_id=19 Accuracy=99.26: 100%|██████████| 20/20 [00:26<00:00,  1.34s/it]\n"
     ]
    },
    {
     "name": "stdout",
     "output_type": "stream",
     "text": [
      "Test set: Average loss: 0.4119, Accuracy: 8951/10000 (89.51%)\n",
      "\n",
      "--Skipping Acc Comp For Corrupted Data--\n",
      "Global Sparsity: 94.00% \n",
      "\n",
      "---------- Pruning Iteration:  56 / 90\n"
     ]
    },
    {
     "name": "stderr",
     "output_type": "stream",
     "text": [
      "Loss=0.0505857989192009 Batch_id=19 Accuracy=98.05: 100%|██████████| 20/20 [00:26<00:00,  1.34s/it] \n",
      "Loss=0.04330805316567421 Batch_id=19 Accuracy=98.69: 100%|██████████| 20/20 [00:27<00:00,  1.35s/it] \n",
      "Loss=0.029135365039110184 Batch_id=19 Accuracy=98.94: 100%|██████████| 20/20 [00:26<00:00,  1.34s/it]\n",
      "Loss=0.03258606791496277 Batch_id=19 Accuracy=99.03: 100%|██████████| 20/20 [00:26<00:00,  1.34s/it] \n",
      "Loss=0.042349401861429214 Batch_id=19 Accuracy=99.10: 100%|██████████| 20/20 [00:26<00:00,  1.35s/it]\n",
      "Loss=0.03749449923634529 Batch_id=19 Accuracy=99.10: 100%|██████████| 20/20 [00:26<00:00,  1.34s/it] \n"
     ]
    },
    {
     "name": "stdout",
     "output_type": "stream",
     "text": [
      "Epoch 00006: reducing learning rate of group 0 to 5.0000e-04.\n"
     ]
    },
    {
     "name": "stderr",
     "output_type": "stream",
     "text": [
      "Loss=0.02106509543955326 Batch_id=19 Accuracy=99.33: 100%|██████████| 20/20 [00:26<00:00,  1.34s/it] \n",
      "Loss=0.02362089417874813 Batch_id=19 Accuracy=99.38: 100%|██████████| 20/20 [00:26<00:00,  1.34s/it] \n",
      "Loss=0.02510196715593338 Batch_id=19 Accuracy=99.43: 100%|██████████| 20/20 [00:26<00:00,  1.34s/it] \n",
      "Loss=0.02097833901643753 Batch_id=19 Accuracy=99.42: 100%|██████████| 20/20 [00:26<00:00,  1.34s/it] \n"
     ]
    },
    {
     "name": "stdout",
     "output_type": "stream",
     "text": [
      "Test set: Average loss: 0.3847, Accuracy: 8985/10000 (89.85%)\n",
      "\n",
      "--Skipping Acc Comp For Corrupted Data--\n",
      "Global Sparsity: 94.30% \n",
      "\n",
      "---------- Pruning Iteration:  57 / 90\n"
     ]
    },
    {
     "name": "stderr",
     "output_type": "stream",
     "text": [
      "Loss=0.0538456067442894 Batch_id=19 Accuracy=98.12: 100%|██████████| 20/20 [00:26<00:00,  1.34s/it]  \n",
      "Loss=0.038990333676338196 Batch_id=19 Accuracy=98.68: 100%|██████████| 20/20 [00:26<00:00,  1.34s/it]\n",
      "Loss=0.031091805547475815 Batch_id=19 Accuracy=98.81: 100%|██████████| 20/20 [00:26<00:00,  1.34s/it]\n",
      "Loss=0.032274432480335236 Batch_id=19 Accuracy=98.99: 100%|██████████| 20/20 [00:26<00:00,  1.34s/it]\n",
      "Loss=0.031952012330293655 Batch_id=19 Accuracy=99.03: 100%|██████████| 20/20 [00:26<00:00,  1.34s/it]\n",
      "Loss=0.036660995334386826 Batch_id=19 Accuracy=99.03: 100%|██████████| 20/20 [00:26<00:00,  1.34s/it]\n"
     ]
    },
    {
     "name": "stdout",
     "output_type": "stream",
     "text": [
      "Epoch 00006: reducing learning rate of group 0 to 5.0000e-04.\n"
     ]
    },
    {
     "name": "stderr",
     "output_type": "stream",
     "text": [
      "Loss=0.02823215164244175 Batch_id=19 Accuracy=99.16: 100%|██████████| 20/20 [00:26<00:00,  1.34s/it] \n",
      "Loss=0.02634293958544731 Batch_id=19 Accuracy=99.31: 100%|██████████| 20/20 [00:27<00:00,  1.37s/it] \n",
      "Loss=0.018626995384693146 Batch_id=19 Accuracy=99.32: 100%|██████████| 20/20 [00:26<00:00,  1.33s/it]\n",
      "Loss=0.022916221991181374 Batch_id=19 Accuracy=99.31: 100%|██████████| 20/20 [00:26<00:00,  1.34s/it]\n"
     ]
    },
    {
     "name": "stdout",
     "output_type": "stream",
     "text": [
      "Test set: Average loss: 0.3887, Accuracy: 8985/10000 (89.85%)\n",
      "\n",
      "--Skipping Acc Comp For Corrupted Data--\n",
      "Global Sparsity: 94.58% \n",
      "\n",
      "---------- Pruning Iteration:  58 / 90\n"
     ]
    },
    {
     "name": "stderr",
     "output_type": "stream",
     "text": [
      "Loss=0.05726661533117294 Batch_id=19 Accuracy=98.10: 100%|██████████| 20/20 [00:26<00:00,  1.34s/it] \n",
      "Loss=0.04709970951080322 Batch_id=19 Accuracy=98.60: 100%|██████████| 20/20 [00:26<00:00,  1.33s/it] \n",
      "Loss=0.03795420005917549 Batch_id=19 Accuracy=98.75: 100%|██████████| 20/20 [00:26<00:00,  1.35s/it] \n",
      "Loss=0.04412568733096123 Batch_id=19 Accuracy=98.87: 100%|██████████| 20/20 [00:26<00:00,  1.35s/it] \n",
      "Loss=0.041397131979465485 Batch_id=19 Accuracy=98.94: 100%|██████████| 20/20 [00:26<00:00,  1.34s/it]\n",
      "Loss=0.0388357937335968 Batch_id=19 Accuracy=99.05: 100%|██████████| 20/20 [00:26<00:00,  1.34s/it]  \n"
     ]
    },
    {
     "name": "stdout",
     "output_type": "stream",
     "text": [
      "Epoch 00006: reducing learning rate of group 0 to 5.0000e-04.\n"
     ]
    },
    {
     "name": "stderr",
     "output_type": "stream",
     "text": [
      "Loss=0.0317288339138031 Batch_id=19 Accuracy=99.22: 100%|██████████| 20/20 [00:26<00:00,  1.35s/it]  \n",
      "Loss=0.02911950834095478 Batch_id=19 Accuracy=99.23: 100%|██████████| 20/20 [00:26<00:00,  1.35s/it] \n",
      "Loss=0.022007184103131294 Batch_id=19 Accuracy=99.35: 100%|██████████| 20/20 [00:26<00:00,  1.34s/it]\n",
      "Loss=0.023653103038668633 Batch_id=19 Accuracy=99.29: 100%|██████████| 20/20 [00:26<00:00,  1.34s/it]\n"
     ]
    },
    {
     "name": "stdout",
     "output_type": "stream",
     "text": [
      "Test set: Average loss: 0.3843, Accuracy: 8996/10000 (89.96%)\n",
      "\n",
      "--Testing Corruptions--\n"
     ]
    },
    {
     "name": "stderr",
     "output_type": "stream",
     "text": [
      "100%|██████████| 19/19 [03:40<00:00, 11.60s/it]\n"
     ]
    },
    {
     "name": "stdout",
     "output_type": "stream",
     "text": [
      "\n",
      "Avg Corruption Accuracy: 76.30%\n",
      "Global Sparsity: 94.85% \n",
      "\n",
      "---------- Pruning Iteration:  59 / 90\n"
     ]
    },
    {
     "name": "stderr",
     "output_type": "stream",
     "text": [
      "Loss=0.04825282841920853 Batch_id=19 Accuracy=98.06: 100%|██████████| 20/20 [00:26<00:00,  1.34s/it] \n",
      "Loss=0.05547541379928589 Batch_id=19 Accuracy=98.57: 100%|██████████| 20/20 [00:27<00:00,  1.36s/it] \n",
      "Loss=0.04769549518823624 Batch_id=19 Accuracy=98.65: 100%|██████████| 20/20 [00:27<00:00,  1.36s/it] \n",
      "Loss=0.03607587888836861 Batch_id=19 Accuracy=98.78: 100%|██████████| 20/20 [00:27<00:00,  1.36s/it] \n",
      "Loss=0.04921768233180046 Batch_id=19 Accuracy=98.92: 100%|██████████| 20/20 [00:26<00:00,  1.34s/it] \n",
      "Loss=0.04018247127532959 Batch_id=19 Accuracy=98.97: 100%|██████████| 20/20 [00:27<00:00,  1.36s/it] \n",
      "Loss=0.027385739609599113 Batch_id=19 Accuracy=99.02: 100%|██████████| 20/20 [00:27<00:00,  1.36s/it]\n",
      "Loss=0.0344751700758934 Batch_id=19 Accuracy=99.04: 100%|██████████| 20/20 [00:27<00:00,  1.35s/it]  \n",
      "Loss=0.03520723059773445 Batch_id=19 Accuracy=99.03: 100%|██████████| 20/20 [00:26<00:00,  1.34s/it] \n",
      "Loss=0.042167939245700836 Batch_id=19 Accuracy=99.14: 100%|██████████| 20/20 [00:26<00:00,  1.35s/it]"
     ]
    },
    {
     "name": "stdout",
     "output_type": "stream",
     "text": [
      "Epoch 00010: reducing learning rate of group 0 to 5.0000e-04.\n"
     ]
    },
    {
     "name": "stderr",
     "output_type": "stream",
     "text": [
      "\n"
     ]
    },
    {
     "name": "stdout",
     "output_type": "stream",
     "text": [
      "Test set: Average loss: 0.4194, Accuracy: 8918/10000 (89.18%)\n",
      "\n",
      "--Skipping Acc Comp For Corrupted Data--\n",
      "Global Sparsity: 95.11% \n",
      "\n",
      "---------- Pruning Iteration:  60 / 90\n"
     ]
    },
    {
     "name": "stderr",
     "output_type": "stream",
     "text": [
      "Loss=0.042342472821474075 Batch_id=19 Accuracy=97.85: 100%|██████████| 20/20 [00:27<00:00,  1.35s/it]\n",
      "Loss=0.046076271682977676 Batch_id=19 Accuracy=98.40: 100%|██████████| 20/20 [00:26<00:00,  1.34s/it]\n",
      "Loss=0.03418860584497452 Batch_id=19 Accuracy=98.68: 100%|██████████| 20/20 [00:26<00:00,  1.35s/it]\n",
      "Loss=0.03927379101514816 Batch_id=19 Accuracy=98.84: 100%|██████████| 20/20 [00:27<00:00,  1.35s/it] \n",
      "Loss=0.03850303962826729 Batch_id=19 Accuracy=98.94: 100%|██████████| 20/20 [00:27<00:00,  1.35s/it] \n",
      "Loss=0.028165772557258606 Batch_id=19 Accuracy=99.02: 100%|██████████| 20/20 [00:26<00:00,  1.35s/it]\n",
      "Loss=0.031571708619594574 Batch_id=19 Accuracy=98.96: 100%|██████████| 20/20 [00:26<00:00,  1.35s/it]\n",
      "Loss=0.026077015325427055 Batch_id=19 Accuracy=99.10: 100%|██████████| 20/20 [00:26<00:00,  1.35s/it]\n",
      "Loss=0.03992878273129463 Batch_id=19 Accuracy=99.02: 100%|██████████| 20/20 [00:26<00:00,  1.34s/it] \n",
      "Loss=0.03585469722747803 Batch_id=19 Accuracy=99.01: 100%|██████████| 20/20 [00:27<00:00,  1.36s/it] \n"
     ]
    },
    {
     "name": "stdout",
     "output_type": "stream",
     "text": [
      "Test set: Average loss: 0.4075, Accuracy: 8939/10000 (89.39%)\n",
      "\n",
      "--Skipping Acc Comp For Corrupted Data--\n",
      "Global Sparsity: 95.35% \n",
      "\n",
      "---------- Pruning Iteration:  61 / 90\n"
     ]
    },
    {
     "name": "stderr",
     "output_type": "stream",
     "text": [
      "Loss=0.06000760197639465 Batch_id=19 Accuracy=97.80: 100%|██████████| 20/20 [00:27<00:00,  1.36s/it] \n",
      "Loss=0.05683067440986633 Batch_id=19 Accuracy=98.38: 100%|██████████| 20/20 [00:26<00:00,  1.35s/it] \n",
      "Loss=0.03958529978990555 Batch_id=19 Accuracy=98.65: 100%|██████████| 20/20 [00:27<00:00,  1.35s/it]\n",
      "Loss=0.037075359374284744 Batch_id=19 Accuracy=98.70: 100%|██████████| 20/20 [00:26<00:00,  1.35s/it]\n",
      "Loss=0.04294423758983612 Batch_id=19 Accuracy=98.91: 100%|██████████| 20/20 [00:27<00:00,  1.35s/it] \n",
      "Loss=0.038460683077573776 Batch_id=19 Accuracy=98.89: 100%|██████████| 20/20 [00:26<00:00,  1.34s/it]\n",
      "Loss=0.029279086738824844 Batch_id=19 Accuracy=98.95: 100%|██████████| 20/20 [00:26<00:00,  1.35s/it]\n",
      "Loss=0.04041916877031326 Batch_id=19 Accuracy=98.98: 100%|██████████| 20/20 [00:27<00:00,  1.36s/it] \n",
      "Loss=0.04030560702085495 Batch_id=19 Accuracy=99.04: 100%|██████████| 20/20 [00:26<00:00,  1.35s/it] \n",
      "Loss=0.03237123042345047 Batch_id=19 Accuracy=99.08: 100%|██████████| 20/20 [00:27<00:00,  1.36s/it] "
     ]
    },
    {
     "name": "stdout",
     "output_type": "stream",
     "text": [
      "Epoch 00010: reducing learning rate of group 0 to 5.0000e-04.\n"
     ]
    },
    {
     "name": "stderr",
     "output_type": "stream",
     "text": [
      "\n"
     ]
    },
    {
     "name": "stdout",
     "output_type": "stream",
     "text": [
      "Test set: Average loss: 0.4321, Accuracy: 8884/10000 (88.84%)\n",
      "\n",
      "--Skipping Acc Comp For Corrupted Data--\n",
      "Global Sparsity: 95.58% \n",
      "\n",
      "---------- Pruning Iteration:  62 / 90\n"
     ]
    },
    {
     "name": "stderr",
     "output_type": "stream",
     "text": [
      "Loss=0.04290974512696266 Batch_id=19 Accuracy=97.84: 100%|██████████| 20/20 [00:27<00:00,  1.35s/it] \n",
      "Loss=0.0445731095969677 Batch_id=19 Accuracy=98.46: 100%|██████████| 20/20 [00:26<00:00,  1.35s/it]  \n",
      "Loss=0.0492568202316761 Batch_id=19 Accuracy=98.54: 100%|██████████| 20/20 [00:26<00:00,  1.35s/it]  \n",
      "Loss=0.04343635216355324 Batch_id=19 Accuracy=98.73: 100%|██████████| 20/20 [00:26<00:00,  1.35s/it] \n"
     ]
    },
    {
     "name": "stdout",
     "output_type": "stream",
     "text": [
      "Epoch 00004: reducing learning rate of group 0 to 5.0000e-04.\n"
     ]
    },
    {
     "name": "stderr",
     "output_type": "stream",
     "text": [
      "Loss=0.03215367719531059 Batch_id=19 Accuracy=99.01: 100%|██████████| 20/20 [00:27<00:00,  1.35s/it] \n",
      "Loss=0.02680860087275505 Batch_id=19 Accuracy=99.04: 100%|██████████| 20/20 [00:27<00:00,  1.35s/it] \n",
      "Loss=0.025975439697504044 Batch_id=19 Accuracy=99.15: 100%|██████████| 20/20 [00:26<00:00,  1.34s/it]\n",
      "Loss=0.03458544984459877 Batch_id=19 Accuracy=99.10: 100%|██████████| 20/20 [00:26<00:00,  1.34s/it] \n",
      "Loss=0.031086895614862442 Batch_id=19 Accuracy=99.08: 100%|██████████| 20/20 [00:26<00:00,  1.35s/it]\n",
      "Loss=0.031075594946742058 Batch_id=19 Accuracy=99.21: 100%|██████████| 20/20 [00:26<00:00,  1.34s/it]"
     ]
    },
    {
     "name": "stdout",
     "output_type": "stream",
     "text": [
      "Epoch 00010: reducing learning rate of group 0 to 2.5000e-05.\n"
     ]
    },
    {
     "name": "stderr",
     "output_type": "stream",
     "text": [
      "\n"
     ]
    },
    {
     "name": "stdout",
     "output_type": "stream",
     "text": [
      "Test set: Average loss: 0.3838, Accuracy: 8990/10000 (89.90%)\n",
      "\n",
      "--Skipping Acc Comp For Corrupted Data--\n",
      "Global Sparsity: 95.80% \n",
      "\n",
      "---------- Pruning Iteration:  63 / 90\n"
     ]
    },
    {
     "name": "stderr",
     "output_type": "stream",
     "text": [
      "Loss=0.05372876673936844 Batch_id=19 Accuracy=97.92: 100%|██████████| 20/20 [00:26<00:00,  1.34s/it] \n",
      "Loss=0.052438072860240936 Batch_id=19 Accuracy=98.30: 100%|██████████| 20/20 [00:27<00:00,  1.38s/it]\n",
      "Loss=0.04242175817489624 Batch_id=19 Accuracy=98.48: 100%|██████████| 20/20 [00:26<00:00,  1.34s/it] \n",
      "Loss=0.0424070879817009 Batch_id=19 Accuracy=98.56: 100%|██████████| 20/20 [00:26<00:00,  1.33s/it]  \n",
      "Loss=0.048509057611227036 Batch_id=19 Accuracy=98.69: 100%|██████████| 20/20 [00:26<00:00,  1.34s/it]\n",
      "Loss=0.0361199676990509 Batch_id=19 Accuracy=98.68: 100%|██████████| 20/20 [00:26<00:00,  1.33s/it]  \n",
      "Loss=0.051721807569265366 Batch_id=19 Accuracy=98.74: 100%|██████████| 20/20 [00:26<00:00,  1.34s/it]\n",
      "Loss=0.035889528691768646 Batch_id=19 Accuracy=98.84: 100%|██████████| 20/20 [00:26<00:00,  1.33s/it]\n",
      "Loss=0.0332551971077919 Batch_id=19 Accuracy=98.87: 100%|██████████| 20/20 [00:26<00:00,  1.34s/it]  \n",
      "Loss=0.03139884024858475 Batch_id=19 Accuracy=98.83: 100%|██████████| 20/20 [00:26<00:00,  1.34s/it] \n"
     ]
    },
    {
     "name": "stdout",
     "output_type": "stream",
     "text": [
      "Test set: Average loss: 0.4166, Accuracy: 8912/10000 (89.12%)\n",
      "\n",
      "--Skipping Acc Comp For Corrupted Data--\n",
      "Global Sparsity: 96.01% \n",
      "\n",
      "---------- Pruning Iteration:  64 / 90\n"
     ]
    },
    {
     "name": "stderr",
     "output_type": "stream",
     "text": [
      "Loss=0.055074479430913925 Batch_id=19 Accuracy=97.74: 100%|██████████| 20/20 [00:26<00:00,  1.34s/it]\n",
      "Loss=0.05205635726451874 Batch_id=19 Accuracy=98.43: 100%|██████████| 20/20 [00:27<00:00,  1.38s/it] \n",
      "Loss=0.03854270651936531 Batch_id=19 Accuracy=98.56: 100%|██████████| 20/20 [00:27<00:00,  1.38s/it] \n",
      "Loss=0.044828351587057114 Batch_id=19 Accuracy=98.59: 100%|██████████| 20/20 [00:27<00:00,  1.39s/it]\n",
      "Loss=0.04807091876864433 Batch_id=19 Accuracy=98.56: 100%|██████████| 20/20 [00:28<00:00,  1.43s/it] \n",
      "Loss=0.04995075613260269 Batch_id=19 Accuracy=98.77: 100%|██████████| 20/20 [00:28<00:00,  1.43s/it] \n"
     ]
    },
    {
     "name": "stdout",
     "output_type": "stream",
     "text": [
      "Epoch 00006: reducing learning rate of group 0 to 5.0000e-04.\n"
     ]
    },
    {
     "name": "stderr",
     "output_type": "stream",
     "text": [
      "Loss=0.026873650029301643 Batch_id=19 Accuracy=98.79: 100%|██████████| 20/20 [00:28<00:00,  1.42s/it]\n",
      "Loss=0.03151332214474678 Batch_id=19 Accuracy=99.04: 100%|██████████| 20/20 [00:27<00:00,  1.39s/it] \n",
      "Loss=0.02759559080004692 Batch_id=19 Accuracy=99.04: 100%|██████████| 20/20 [00:27<00:00,  1.37s/it] \n",
      "Loss=0.03042002022266388 Batch_id=19 Accuracy=99.13: 100%|██████████| 20/20 [00:27<00:00,  1.38s/it] "
     ]
    },
    {
     "name": "stdout",
     "output_type": "stream",
     "text": [
      "Epoch 00010: reducing learning rate of group 0 to 2.5000e-05.\n"
     ]
    },
    {
     "name": "stderr",
     "output_type": "stream",
     "text": [
      "\n"
     ]
    },
    {
     "name": "stdout",
     "output_type": "stream",
     "text": [
      "Test set: Average loss: 0.3795, Accuracy: 9009/10000 (90.09%)\n",
      "\n",
      "--Skipping Acc Comp For Corrupted Data--\n",
      "Global Sparsity: 96.20% \n",
      "\n",
      "---------- Pruning Iteration:  65 / 90\n"
     ]
    },
    {
     "name": "stderr",
     "output_type": "stream",
     "text": [
      "Loss=0.05751896649599075 Batch_id=19 Accuracy=97.75: 100%|██████████| 20/20 [00:27<00:00,  1.38s/it] \n",
      "Loss=0.05619419738650322 Batch_id=19 Accuracy=98.14: 100%|██████████| 20/20 [00:27<00:00,  1.38s/it] \n",
      "Loss=0.06068817153573036 Batch_id=19 Accuracy=98.23: 100%|██████████| 20/20 [00:27<00:00,  1.38s/it] \n",
      "Loss=0.06208299845457077 Batch_id=19 Accuracy=98.47: 100%|██████████| 20/20 [00:27<00:00,  1.38s/it] \n",
      "Loss=0.04119004309177399 Batch_id=19 Accuracy=98.48: 100%|██████████| 20/20 [00:27<00:00,  1.38s/it] \n",
      "Loss=0.042501382529735565 Batch_id=19 Accuracy=98.61: 100%|██████████| 20/20 [00:27<00:00,  1.37s/it]\n",
      "Loss=0.04729431867599487 Batch_id=19 Accuracy=98.71: 100%|██████████| 20/20 [00:27<00:00,  1.37s/it] \n",
      "Loss=0.04234011843800545 Batch_id=19 Accuracy=98.75: 100%|██████████| 20/20 [00:27<00:00,  1.39s/it] \n"
     ]
    },
    {
     "name": "stdout",
     "output_type": "stream",
     "text": [
      "Epoch 00008: reducing learning rate of group 0 to 5.0000e-04.\n"
     ]
    },
    {
     "name": "stderr",
     "output_type": "stream",
     "text": [
      "Loss=0.03528286889195442 Batch_id=19 Accuracy=98.89: 100%|██████████| 20/20 [00:27<00:00,  1.39s/it] \n",
      "Loss=0.028813574463129044 Batch_id=19 Accuracy=98.97: 100%|██████████| 20/20 [00:27<00:00,  1.37s/it]\n"
     ]
    },
    {
     "name": "stdout",
     "output_type": "stream",
     "text": [
      "Test set: Average loss: 0.3758, Accuracy: 8984/10000 (89.84%)\n",
      "\n",
      "--Skipping Acc Comp For Corrupted Data--\n",
      "Global Sparsity: 96.39% \n",
      "\n",
      "---------- Pruning Iteration:  66 / 90\n"
     ]
    },
    {
     "name": "stderr",
     "output_type": "stream",
     "text": [
      "Loss=0.06725995987653732 Batch_id=19 Accuracy=97.63: 100%|██████████| 20/20 [00:27<00:00,  1.38s/it]\n",
      "Loss=0.062235720455646515 Batch_id=19 Accuracy=98.04: 100%|██████████| 20/20 [00:27<00:00,  1.38s/it]\n",
      "Loss=0.06160961464047432 Batch_id=19 Accuracy=98.32: 100%|██████████| 20/20 [00:26<00:00,  1.34s/it] \n",
      "Loss=0.0721244364976883 Batch_id=19 Accuracy=98.33: 100%|██████████| 20/20 [00:26<00:00,  1.33s/it]  \n",
      "Loss=0.044947534799575806 Batch_id=19 Accuracy=98.45: 100%|██████████| 20/20 [00:26<00:00,  1.32s/it]\n",
      "Loss=0.04994048550724983 Batch_id=19 Accuracy=98.50: 100%|██████████| 20/20 [00:26<00:00,  1.33s/it] \n",
      "Loss=0.04343589395284653 Batch_id=19 Accuracy=98.63: 100%|██████████| 20/20 [00:26<00:00,  1.34s/it] \n",
      "Loss=0.04249602183699608 Batch_id=19 Accuracy=98.61: 100%|██████████| 20/20 [00:26<00:00,  1.33s/it] \n",
      "Loss=0.038142163306474686 Batch_id=19 Accuracy=98.65: 100%|██████████| 20/20 [00:26<00:00,  1.33s/it]\n",
      "Loss=0.04970022663474083 Batch_id=19 Accuracy=98.63: 100%|██████████| 20/20 [00:26<00:00,  1.33s/it] \n"
     ]
    },
    {
     "name": "stdout",
     "output_type": "stream",
     "text": [
      "Test set: Average loss: 0.4129, Accuracy: 8952/10000 (89.52%)\n",
      "\n",
      "--Skipping Acc Comp For Corrupted Data--\n",
      "Global Sparsity: 96.57% \n",
      "\n",
      "---------- Pruning Iteration:  67 / 90\n"
     ]
    },
    {
     "name": "stderr",
     "output_type": "stream",
     "text": [
      "Loss=0.05723927915096283 Batch_id=19 Accuracy=97.34: 100%|██████████| 20/20 [00:26<00:00,  1.33s/it]\n",
      "Loss=0.06237604096531868 Batch_id=19 Accuracy=98.11: 100%|██████████| 20/20 [00:26<00:00,  1.33s/it] \n",
      "Loss=0.05149749293923378 Batch_id=19 Accuracy=98.22: 100%|██████████| 20/20 [00:26<00:00,  1.33s/it] \n",
      "Loss=0.05587709695100784 Batch_id=19 Accuracy=98.35: 100%|██████████| 20/20 [00:27<00:00,  1.36s/it] \n",
      "Loss=0.056453414261341095 Batch_id=19 Accuracy=98.35: 100%|██████████| 20/20 [00:26<00:00,  1.33s/it]\n",
      "Loss=0.0584467314183712 Batch_id=19 Accuracy=98.49: 100%|██████████| 20/20 [00:26<00:00,  1.32s/it]  \n"
     ]
    },
    {
     "name": "stdout",
     "output_type": "stream",
     "text": [
      "Epoch 00006: reducing learning rate of group 0 to 5.0000e-04.\n"
     ]
    },
    {
     "name": "stderr",
     "output_type": "stream",
     "text": [
      "Loss=0.03970373049378395 Batch_id=19 Accuracy=98.57: 100%|██████████| 20/20 [00:26<00:00,  1.33s/it] \n",
      "Loss=0.0325295627117157 Batch_id=19 Accuracy=98.84: 100%|██████████| 20/20 [00:26<00:00,  1.34s/it]  \n",
      "Loss=0.038777705281972885 Batch_id=19 Accuracy=98.89: 100%|██████████| 20/20 [00:26<00:00,  1.32s/it]\n",
      "Loss=0.03793345019221306 Batch_id=19 Accuracy=98.92: 100%|██████████| 20/20 [00:26<00:00,  1.32s/it] \n"
     ]
    },
    {
     "name": "stdout",
     "output_type": "stream",
     "text": [
      "Test set: Average loss: 0.3783, Accuracy: 8994/10000 (89.94%)\n",
      "\n",
      "--Skipping Acc Comp For Corrupted Data--\n",
      "Global Sparsity: 96.74% \n",
      "\n",
      "---------- Pruning Iteration:  68 / 90\n"
     ]
    },
    {
     "name": "stderr",
     "output_type": "stream",
     "text": [
      "Loss=0.08419948071241379 Batch_id=19 Accuracy=97.41: 100%|██████████| 20/20 [00:26<00:00,  1.33s/it] \n",
      "Loss=0.06001368537545204 Batch_id=19 Accuracy=97.86: 100%|██████████| 20/20 [00:26<00:00,  1.33s/it] \n",
      "Loss=0.05185675248503685 Batch_id=19 Accuracy=98.07: 100%|██████████| 20/20 [00:26<00:00,  1.32s/it]\n",
      "Loss=0.044686827808618546 Batch_id=19 Accuracy=98.21: 100%|██████████| 20/20 [00:26<00:00,  1.33s/it]\n",
      "Loss=0.05049917474389076 Batch_id=19 Accuracy=98.29: 100%|██████████| 20/20 [00:26<00:00,  1.34s/it] \n",
      "Loss=0.06644131988286972 Batch_id=19 Accuracy=98.41: 100%|██████████| 20/20 [00:26<00:00,  1.33s/it] \n",
      "Loss=0.05625496059656143 Batch_id=19 Accuracy=98.35: 100%|██████████| 20/20 [00:26<00:00,  1.33s/it] \n"
     ]
    },
    {
     "name": "stdout",
     "output_type": "stream",
     "text": [
      "Epoch 00007: reducing learning rate of group 0 to 5.0000e-04.\n"
     ]
    },
    {
     "name": "stderr",
     "output_type": "stream",
     "text": [
      "Loss=0.041919831186532974 Batch_id=19 Accuracy=98.69: 100%|██████████| 20/20 [00:26<00:00,  1.33s/it]\n",
      "Loss=0.05202455446124077 Batch_id=19 Accuracy=98.80: 100%|██████████| 20/20 [00:26<00:00,  1.33s/it] \n",
      "Loss=0.05381083860993385 Batch_id=19 Accuracy=98.76: 100%|██████████| 20/20 [00:26<00:00,  1.33s/it] \n"
     ]
    },
    {
     "name": "stdout",
     "output_type": "stream",
     "text": [
      "Test set: Average loss: 0.3788, Accuracy: 8977/10000 (89.77%)\n",
      "\n",
      "--Skipping Acc Comp For Corrupted Data--\n",
      "Global Sparsity: 96.90% \n",
      "\n",
      "---------- Pruning Iteration:  69 / 90\n"
     ]
    },
    {
     "name": "stderr",
     "output_type": "stream",
     "text": [
      "Loss=0.08786258101463318 Batch_id=19 Accuracy=97.37: 100%|██████████| 20/20 [00:26<00:00,  1.33s/it] \n",
      "Loss=0.06966236978769302 Batch_id=19 Accuracy=97.72: 100%|██████████| 20/20 [00:26<00:00,  1.33s/it]\n",
      "Loss=0.07152407616376877 Batch_id=19 Accuracy=97.99: 100%|██████████| 20/20 [00:26<00:00,  1.32s/it] \n",
      "Loss=0.06812942028045654 Batch_id=19 Accuracy=98.09: 100%|██████████| 20/20 [00:26<00:00,  1.32s/it] \n",
      "Loss=0.061690717935562134 Batch_id=19 Accuracy=98.14: 100%|██████████| 20/20 [00:26<00:00,  1.32s/it]\n",
      "Loss=0.06524577736854553 Batch_id=19 Accuracy=98.23: 100%|██████████| 20/20 [00:26<00:00,  1.33s/it] \n",
      "Loss=0.049828965216875076 Batch_id=19 Accuracy=98.20: 100%|██████████| 20/20 [00:26<00:00,  1.32s/it]\n",
      "Loss=0.04785026237368584 Batch_id=19 Accuracy=98.39: 100%|██████████| 20/20 [00:26<00:00,  1.32s/it] \n",
      "Loss=0.03986968472599983 Batch_id=19 Accuracy=98.51: 100%|██████████| 20/20 [00:26<00:00,  1.32s/it] \n",
      "Loss=0.058223482221364975 Batch_id=19 Accuracy=98.57: 100%|██████████| 20/20 [00:26<00:00,  1.33s/it]\n"
     ]
    },
    {
     "name": "stdout",
     "output_type": "stream",
     "text": [
      "Test set: Average loss: 0.4110, Accuracy: 8937/10000 (89.37%)\n",
      "\n",
      "--Skipping Acc Comp For Corrupted Data--\n",
      "Global Sparsity: 97.05% \n",
      "\n",
      "---------- Pruning Iteration:  70 / 90\n"
     ]
    },
    {
     "name": "stderr",
     "output_type": "stream",
     "text": [
      "Loss=0.08952242136001587 Batch_id=19 Accuracy=96.91: 100%|██████████| 20/20 [00:26<00:00,  1.32s/it]\n",
      "Loss=0.07157007604837418 Batch_id=19 Accuracy=97.59: 100%|██████████| 20/20 [00:26<00:00,  1.32s/it] \n",
      "Loss=0.07605576515197754 Batch_id=19 Accuracy=98.01: 100%|██████████| 20/20 [00:26<00:00,  1.32s/it] \n",
      "Loss=0.04575083777308464 Batch_id=19 Accuracy=97.97: 100%|██████████| 20/20 [00:26<00:00,  1.33s/it] \n",
      "Loss=0.06273512542247772 Batch_id=19 Accuracy=98.10: 100%|██████████| 20/20 [00:26<00:00,  1.32s/it] \n",
      "Loss=0.06792136281728745 Batch_id=19 Accuracy=98.23: 100%|██████████| 20/20 [00:26<00:00,  1.32s/it] \n",
      "Loss=0.06593908369541168 Batch_id=19 Accuracy=98.21: 100%|██████████| 20/20 [00:26<00:00,  1.33s/it] \n"
     ]
    },
    {
     "name": "stdout",
     "output_type": "stream",
     "text": [
      "Epoch 00007: reducing learning rate of group 0 to 5.0000e-04.\n"
     ]
    },
    {
     "name": "stderr",
     "output_type": "stream",
     "text": [
      "Loss=0.04261457920074463 Batch_id=19 Accuracy=98.54: 100%|██████████| 20/20 [00:26<00:00,  1.33s/it] \n",
      "Loss=0.03919554874300957 Batch_id=19 Accuracy=98.56: 100%|██████████| 20/20 [00:26<00:00,  1.33s/it] \n",
      "Loss=0.05107516795396805 Batch_id=19 Accuracy=98.80: 100%|██████████| 20/20 [00:26<00:00,  1.33s/it] \n"
     ]
    },
    {
     "name": "stdout",
     "output_type": "stream",
     "text": [
      "Test set: Average loss: 0.3865, Accuracy: 8992/10000 (89.92%)\n",
      "\n",
      "--Skipping Acc Comp For Corrupted Data--\n",
      "Global Sparsity: 97.20% \n",
      "\n",
      "---------- Pruning Iteration:  71 / 90\n"
     ]
    },
    {
     "name": "stderr",
     "output_type": "stream",
     "text": [
      "Loss=0.0784250795841217 Batch_id=19 Accuracy=97.30: 100%|██████████| 20/20 [00:26<00:00,  1.33s/it] \n",
      "Loss=0.0793306976556778 Batch_id=19 Accuracy=97.57: 100%|██████████| 20/20 [00:26<00:00,  1.32s/it] \n",
      "Loss=0.0687299370765686 Batch_id=19 Accuracy=97.82: 100%|██████████| 20/20 [00:26<00:00,  1.32s/it] \n",
      "Loss=0.07214219868183136 Batch_id=19 Accuracy=97.94: 100%|██████████| 20/20 [00:26<00:00,  1.32s/it]\n",
      "Loss=0.07413965463638306 Batch_id=19 Accuracy=97.91: 100%|██████████| 20/20 [00:26<00:00,  1.33s/it] \n",
      "Loss=0.061607830226421356 Batch_id=19 Accuracy=98.17: 100%|██████████| 20/20 [00:26<00:00,  1.32s/it]\n",
      "Loss=0.0669301450252533 Batch_id=19 Accuracy=98.09: 100%|██████████| 20/20 [00:26<00:00,  1.33s/it]  \n",
      "Loss=0.06956405192613602 Batch_id=19 Accuracy=98.10: 100%|██████████| 20/20 [00:26<00:00,  1.33s/it] \n",
      "Loss=0.07133879512548447 Batch_id=19 Accuracy=98.29: 100%|██████████| 20/20 [00:26<00:00,  1.33s/it] \n"
     ]
    },
    {
     "name": "stdout",
     "output_type": "stream",
     "text": [
      "Epoch 00009: reducing learning rate of group 0 to 5.0000e-04.\n"
     ]
    },
    {
     "name": "stderr",
     "output_type": "stream",
     "text": [
      "Loss=0.044446706771850586 Batch_id=19 Accuracy=98.47: 100%|██████████| 20/20 [00:26<00:00,  1.32s/it]\n"
     ]
    },
    {
     "name": "stdout",
     "output_type": "stream",
     "text": [
      "Test set: Average loss: 0.3779, Accuracy: 9010/10000 (90.10%)\n",
      "\n",
      "--Skipping Acc Comp For Corrupted Data--\n",
      "Global Sparsity: 97.33% \n",
      "\n",
      "---------- Pruning Iteration:  72 / 90\n"
     ]
    },
    {
     "name": "stderr",
     "output_type": "stream",
     "text": [
      "Loss=0.08842376619577408 Batch_id=19 Accuracy=97.04: 100%|██████████| 20/20 [00:26<00:00,  1.33s/it]\n",
      "Loss=0.08281679451465607 Batch_id=19 Accuracy=97.51: 100%|██████████| 20/20 [00:26<00:00,  1.33s/it]\n",
      "Loss=0.06016607955098152 Batch_id=19 Accuracy=97.69: 100%|██████████| 20/20 [00:26<00:00,  1.32s/it]\n",
      "Loss=0.06314881145954132 Batch_id=19 Accuracy=97.87: 100%|██████████| 20/20 [00:26<00:00,  1.32s/it] \n",
      "Loss=0.07192058861255646 Batch_id=19 Accuracy=97.93: 100%|██████████| 20/20 [00:26<00:00,  1.33s/it] \n",
      "Loss=0.06363905966281891 Batch_id=19 Accuracy=97.97: 100%|██████████| 20/20 [00:26<00:00,  1.35s/it] \n"
     ]
    },
    {
     "name": "stdout",
     "output_type": "stream",
     "text": [
      "Epoch 00006: reducing learning rate of group 0 to 5.0000e-04.\n"
     ]
    },
    {
     "name": "stderr",
     "output_type": "stream",
     "text": [
      "Loss=0.05472860485315323 Batch_id=19 Accuracy=98.10: 100%|██████████| 20/20 [00:27<00:00,  1.36s/it] \n",
      "Loss=0.053506217896938324 Batch_id=19 Accuracy=98.40: 100%|██████████| 20/20 [00:26<00:00,  1.32s/it]\n",
      "Loss=0.057017095386981964 Batch_id=19 Accuracy=98.48: 100%|██████████| 20/20 [00:26<00:00,  1.33s/it]\n",
      "Loss=0.057178616523742676 Batch_id=19 Accuracy=98.54: 100%|██████████| 20/20 [00:26<00:00,  1.33s/it]\n"
     ]
    },
    {
     "name": "stdout",
     "output_type": "stream",
     "text": [
      "Test set: Average loss: 0.3824, Accuracy: 8993/10000 (89.93%)\n",
      "\n",
      "--Skipping Acc Comp For Corrupted Data--\n",
      "Global Sparsity: 97.47% \n",
      "\n",
      "---------- Pruning Iteration:  73 / 90\n"
     ]
    },
    {
     "name": "stderr",
     "output_type": "stream",
     "text": [
      "Loss=0.0987451896071434 Batch_id=19 Accuracy=97.05: 100%|██████████| 20/20 [00:26<00:00,  1.32s/it] \n",
      "Loss=0.09565411508083344 Batch_id=19 Accuracy=97.32: 100%|██████████| 20/20 [00:26<00:00,  1.33s/it]\n",
      "Loss=0.0842697024345398 Batch_id=19 Accuracy=97.40: 100%|██████████| 20/20 [00:26<00:00,  1.33s/it] \n",
      "Loss=0.07894638180732727 Batch_id=19 Accuracy=97.62: 100%|██████████| 20/20 [00:26<00:00,  1.33s/it] \n",
      "Loss=0.0675533264875412 Batch_id=19 Accuracy=97.67: 100%|██████████| 20/20 [00:26<00:00,  1.33s/it] \n",
      "Loss=0.05488120764493942 Batch_id=19 Accuracy=97.81: 100%|██████████| 20/20 [00:26<00:00,  1.33s/it] \n",
      "Loss=0.06120498478412628 Batch_id=19 Accuracy=97.92: 100%|██████████| 20/20 [00:26<00:00,  1.33s/it]\n",
      "Loss=0.06489046663045883 Batch_id=19 Accuracy=98.02: 100%|██████████| 20/20 [00:27<00:00,  1.37s/it] \n",
      "Loss=0.0658579021692276 Batch_id=19 Accuracy=98.02: 100%|██████████| 20/20 [00:26<00:00,  1.33s/it]  \n"
     ]
    },
    {
     "name": "stdout",
     "output_type": "stream",
     "text": [
      "Epoch 00009: reducing learning rate of group 0 to 5.0000e-04.\n"
     ]
    },
    {
     "name": "stderr",
     "output_type": "stream",
     "text": [
      "Loss=0.06181127950549126 Batch_id=19 Accuracy=98.16: 100%|██████████| 20/20 [00:26<00:00,  1.32s/it] \n"
     ]
    },
    {
     "name": "stdout",
     "output_type": "stream",
     "text": [
      "Test set: Average loss: 0.3869, Accuracy: 8984/10000 (89.84%)\n",
      "\n",
      "--Skipping Acc Comp For Corrupted Data--\n",
      "Global Sparsity: 97.59% \n",
      "\n",
      "---------- Pruning Iteration:  74 / 90\n"
     ]
    },
    {
     "name": "stderr",
     "output_type": "stream",
     "text": [
      "Loss=0.0981859415769577 Batch_id=19 Accuracy=96.70: 100%|██████████| 20/20 [00:26<00:00,  1.31s/it] \n",
      "Loss=0.0755612701177597 Batch_id=19 Accuracy=97.20: 100%|██████████| 20/20 [00:26<00:00,  1.33s/it] \n",
      "Loss=0.06790624558925629 Batch_id=19 Accuracy=97.49: 100%|██████████| 20/20 [00:26<00:00,  1.33s/it]\n",
      "Loss=0.08247020095586777 Batch_id=19 Accuracy=97.53: 100%|██████████| 20/20 [00:26<00:00,  1.33s/it]\n",
      "Loss=0.08010465651750565 Batch_id=19 Accuracy=97.63: 100%|██████████| 20/20 [00:26<00:00,  1.31s/it]\n",
      "Loss=0.08057095110416412 Batch_id=19 Accuracy=97.68: 100%|██████████| 20/20 [00:26<00:00,  1.32s/it]\n"
     ]
    },
    {
     "name": "stdout",
     "output_type": "stream",
     "text": [
      "Epoch 00006: reducing learning rate of group 0 to 5.0000e-04.\n"
     ]
    },
    {
     "name": "stderr",
     "output_type": "stream",
     "text": [
      "Loss=0.05656798928976059 Batch_id=19 Accuracy=97.96: 100%|██████████| 20/20 [00:26<00:00,  1.32s/it] \n",
      "Loss=0.05356474593281746 Batch_id=19 Accuracy=98.22: 100%|██████████| 20/20 [00:26<00:00,  1.32s/it] \n",
      "Loss=0.06871713697910309 Batch_id=19 Accuracy=98.19: 100%|██████████| 20/20 [00:26<00:00,  1.33s/it] \n",
      "Loss=0.043704718351364136 Batch_id=19 Accuracy=98.40: 100%|██████████| 20/20 [00:26<00:00,  1.33s/it]\n"
     ]
    },
    {
     "name": "stdout",
     "output_type": "stream",
     "text": [
      "Test set: Average loss: 0.3795, Accuracy: 8996/10000 (89.96%)\n",
      "\n",
      "--Skipping Acc Comp For Corrupted Data--\n",
      "Global Sparsity: 97.71% \n",
      "\n",
      "---------- Pruning Iteration:  75 / 90\n"
     ]
    },
    {
     "name": "stderr",
     "output_type": "stream",
     "text": [
      "Loss=0.10441906750202179 Batch_id=19 Accuracy=96.78: 100%|██████████| 20/20 [00:26<00:00,  1.32s/it]\n",
      "Loss=0.10171625763177872 Batch_id=19 Accuracy=96.90: 100%|██████████| 20/20 [00:26<00:00,  1.32s/it]\n",
      "Loss=0.08046592026948929 Batch_id=19 Accuracy=97.17: 100%|██████████| 20/20 [00:26<00:00,  1.32s/it]\n",
      "Loss=0.08129163831472397 Batch_id=19 Accuracy=97.54: 100%|██████████| 20/20 [00:26<00:00,  1.33s/it]\n",
      "Loss=0.06608664989471436 Batch_id=19 Accuracy=97.57: 100%|██████████| 20/20 [00:26<00:00,  1.32s/it]\n",
      "Loss=0.06279492378234863 Batch_id=19 Accuracy=97.48: 100%|██████████| 20/20 [00:26<00:00,  1.32s/it]\n",
      "Loss=0.06512054800987244 Batch_id=19 Accuracy=97.62: 100%|██████████| 20/20 [00:26<00:00,  1.33s/it] \n",
      "Loss=0.07760169357061386 Batch_id=19 Accuracy=97.64: 100%|██████████| 20/20 [00:26<00:00,  1.32s/it]\n",
      "Loss=0.06072881817817688 Batch_id=19 Accuracy=97.85: 100%|██████████| 20/20 [00:26<00:00,  1.31s/it]\n",
      "Loss=0.0637671947479248 Batch_id=19 Accuracy=97.81: 100%|██████████| 20/20 [00:26<00:00,  1.32s/it] \n"
     ]
    },
    {
     "name": "stdout",
     "output_type": "stream",
     "text": [
      "Test set: Average loss: 0.4157, Accuracy: 8905/10000 (89.05%)\n",
      "\n",
      "--Skipping Acc Comp For Corrupted Data--\n",
      "Global Sparsity: 97.82% \n",
      "\n",
      "---------- Pruning Iteration:  76 / 90\n"
     ]
    },
    {
     "name": "stderr",
     "output_type": "stream",
     "text": [
      "Loss=0.11692138016223907 Batch_id=19 Accuracy=96.26: 100%|██████████| 20/20 [00:26<00:00,  1.33s/it]\n",
      "Loss=0.11500269174575806 Batch_id=19 Accuracy=96.90: 100%|██████████| 20/20 [00:26<00:00,  1.33s/it]\n",
      "Loss=0.09060235321521759 Batch_id=19 Accuracy=97.14: 100%|██████████| 20/20 [00:26<00:00,  1.32s/it]\n",
      "Loss=0.08066914975643158 Batch_id=19 Accuracy=97.34: 100%|██████████| 20/20 [00:26<00:00,  1.32s/it]\n",
      "Loss=0.062226586043834686 Batch_id=19 Accuracy=97.45: 100%|██████████| 20/20 [00:26<00:00,  1.32s/it]\n",
      "Loss=0.07587306946516037 Batch_id=19 Accuracy=97.58: 100%|██████████| 20/20 [00:26<00:00,  1.32s/it]\n",
      "Loss=0.07095234096050262 Batch_id=19 Accuracy=97.63: 100%|██████████| 20/20 [00:26<00:00,  1.31s/it]\n",
      "Loss=0.07275988161563873 Batch_id=19 Accuracy=97.54: 100%|██████████| 20/20 [00:26<00:00,  1.32s/it]\n"
     ]
    },
    {
     "name": "stdout",
     "output_type": "stream",
     "text": [
      "Epoch 00008: reducing learning rate of group 0 to 5.0000e-04.\n"
     ]
    },
    {
     "name": "stderr",
     "output_type": "stream",
     "text": [
      "Loss=0.05435453727841377 Batch_id=19 Accuracy=97.93: 100%|██████████| 20/20 [00:26<00:00,  1.33s/it] \n",
      "Loss=0.05386050045490265 Batch_id=19 Accuracy=98.15: 100%|██████████| 20/20 [00:26<00:00,  1.32s/it] \n"
     ]
    },
    {
     "name": "stdout",
     "output_type": "stream",
     "text": [
      "Test set: Average loss: 0.3810, Accuracy: 8953/10000 (89.53%)\n",
      "\n",
      "--Skipping Acc Comp For Corrupted Data--\n",
      "Global Sparsity: 97.93% \n",
      "\n",
      "---------- Pruning Iteration:  77 / 90\n"
     ]
    },
    {
     "name": "stderr",
     "output_type": "stream",
     "text": [
      "Loss=0.08589231222867966 Batch_id=19 Accuracy=96.50: 100%|██████████| 20/20 [00:26<00:00,  1.32s/it]\n",
      "Loss=0.10980859398841858 Batch_id=19 Accuracy=96.88: 100%|██████████| 20/20 [00:26<00:00,  1.32s/it]\n",
      "Loss=0.09960087388753891 Batch_id=19 Accuracy=96.96: 100%|██████████| 20/20 [00:26<00:00,  1.33s/it]\n",
      "Loss=0.07794241607189178 Batch_id=19 Accuracy=97.18: 100%|██████████| 20/20 [00:26<00:00,  1.32s/it]\n",
      "Loss=0.07209504395723343 Batch_id=19 Accuracy=97.29: 100%|██████████| 20/20 [00:26<00:00,  1.32s/it]\n",
      "Loss=0.08555631339550018 Batch_id=19 Accuracy=97.48: 100%|██████████| 20/20 [00:26<00:00,  1.33s/it]\n",
      "Loss=0.07409114390611649 Batch_id=19 Accuracy=97.49: 100%|██████████| 20/20 [00:26<00:00,  1.33s/it]\n",
      "Loss=0.06968317180871964 Batch_id=19 Accuracy=97.57: 100%|██████████| 20/20 [00:26<00:00,  1.32s/it]\n",
      "Loss=0.07639677077531815 Batch_id=19 Accuracy=97.52: 100%|██████████| 20/20 [00:26<00:00,  1.32s/it]\n",
      "Loss=0.08596218377351761 Batch_id=19 Accuracy=97.60: 100%|██████████| 20/20 [00:26<00:00,  1.33s/it]\n"
     ]
    },
    {
     "name": "stdout",
     "output_type": "stream",
     "text": [
      "Test set: Average loss: 0.4374, Accuracy: 8790/10000 (87.90%)\n",
      "\n",
      "--Skipping Acc Comp For Corrupted Data--\n",
      "Global Sparsity: 98.03% \n",
      "\n",
      "---------- Pruning Iteration:  78 / 90\n"
     ]
    },
    {
     "name": "stderr",
     "output_type": "stream",
     "text": [
      "Loss=0.10913314670324326 Batch_id=19 Accuracy=96.09: 100%|██████████| 20/20 [00:26<00:00,  1.33s/it]\n",
      "Loss=0.09611963480710983 Batch_id=19 Accuracy=96.80: 100%|██████████| 20/20 [00:26<00:00,  1.32s/it]\n",
      "Loss=0.07354855537414551 Batch_id=19 Accuracy=97.02: 100%|██████████| 20/20 [00:26<00:00,  1.32s/it]\n",
      "Loss=0.08320104330778122 Batch_id=19 Accuracy=97.22: 100%|██████████| 20/20 [00:27<00:00,  1.38s/it]\n",
      "Loss=0.08507921546697617 Batch_id=19 Accuracy=97.18: 100%|██████████| 20/20 [00:27<00:00,  1.35s/it]\n",
      "Loss=0.062160611152648926 Batch_id=19 Accuracy=97.29: 100%|██████████| 20/20 [00:27<00:00,  1.37s/it]\n",
      "Loss=0.08079461753368378 Batch_id=19 Accuracy=97.31: 100%|██████████| 20/20 [00:26<00:00,  1.33s/it]\n",
      "Loss=0.07903213053941727 Batch_id=19 Accuracy=97.49: 100%|██████████| 20/20 [00:26<00:00,  1.33s/it]\n",
      "Loss=0.07088834792375565 Batch_id=19 Accuracy=97.45: 100%|██████████| 20/20 [00:26<00:00,  1.33s/it]\n"
     ]
    },
    {
     "name": "stdout",
     "output_type": "stream",
     "text": [
      "Epoch 00009: reducing learning rate of group 0 to 5.0000e-04.\n"
     ]
    },
    {
     "name": "stderr",
     "output_type": "stream",
     "text": [
      "Loss=0.06727688014507294 Batch_id=19 Accuracy=97.69: 100%|██████████| 20/20 [00:26<00:00,  1.33s/it] \n"
     ]
    },
    {
     "name": "stdout",
     "output_type": "stream",
     "text": [
      "Test set: Average loss: 0.3826, Accuracy: 8969/10000 (89.69%)\n",
      "\n",
      "--Skipping Acc Comp For Corrupted Data--\n",
      "Global Sparsity: 98.13% \n",
      "\n",
      "---------- Pruning Iteration:  79 / 90\n"
     ]
    },
    {
     "name": "stderr",
     "output_type": "stream",
     "text": [
      "Loss=0.0943857878446579 Batch_id=19 Accuracy=96.22: 100%|██████████| 20/20 [00:26<00:00,  1.33s/it] \n",
      "Loss=0.09196750074625015 Batch_id=19 Accuracy=96.61: 100%|██████████| 20/20 [00:26<00:00,  1.32s/it]\n",
      "Loss=0.09716900438070297 Batch_id=19 Accuracy=96.96: 100%|██████████| 20/20 [00:26<00:00,  1.33s/it]\n",
      "Loss=0.07462276518344879 Batch_id=19 Accuracy=96.90: 100%|██████████| 20/20 [00:26<00:00,  1.33s/it]\n",
      "Loss=0.08725917339324951 Batch_id=19 Accuracy=97.04: 100%|██████████| 20/20 [00:26<00:00,  1.33s/it]\n",
      "Loss=0.08249714225530624 Batch_id=19 Accuracy=97.19: 100%|██████████| 20/20 [00:26<00:00,  1.33s/it]\n",
      "Loss=0.07616680860519409 Batch_id=19 Accuracy=97.13: 100%|██████████| 20/20 [00:26<00:00,  1.32s/it]\n"
     ]
    },
    {
     "name": "stdout",
     "output_type": "stream",
     "text": [
      "Epoch 00007: reducing learning rate of group 0 to 5.0000e-04.\n"
     ]
    },
    {
     "name": "stderr",
     "output_type": "stream",
     "text": [
      "Loss=0.06846818327903748 Batch_id=19 Accuracy=97.37: 100%|██████████| 20/20 [00:26<00:00,  1.32s/it]\n",
      "Loss=0.07881291955709457 Batch_id=19 Accuracy=97.78: 100%|██████████| 20/20 [00:26<00:00,  1.32s/it] \n",
      "Loss=0.06508753448724747 Batch_id=19 Accuracy=97.83: 100%|██████████| 20/20 [00:26<00:00,  1.32s/it]\n"
     ]
    },
    {
     "name": "stdout",
     "output_type": "stream",
     "text": [
      "Test set: Average loss: 0.3805, Accuracy: 8949/10000 (89.49%)\n",
      "\n",
      "--Skipping Acc Comp For Corrupted Data--\n",
      "Global Sparsity: 98.22% \n",
      "\n",
      "---------- Pruning Iteration:  80 / 90\n"
     ]
    },
    {
     "name": "stderr",
     "output_type": "stream",
     "text": [
      "Loss=0.11309752613306046 Batch_id=19 Accuracy=96.10: 100%|██████████| 20/20 [00:26<00:00,  1.33s/it]\n",
      "Loss=0.10366544127464294 Batch_id=19 Accuracy=96.55: 100%|██████████| 20/20 [00:26<00:00,  1.32s/it]\n",
      "Loss=0.09456640481948853 Batch_id=19 Accuracy=96.58: 100%|██████████| 20/20 [00:26<00:00,  1.32s/it]\n",
      "Loss=0.09620154649019241 Batch_id=19 Accuracy=96.94: 100%|██████████| 20/20 [00:26<00:00,  1.33s/it]\n",
      "Loss=0.09773190319538116 Batch_id=19 Accuracy=96.97: 100%|██████████| 20/20 [00:26<00:00,  1.33s/it]\n",
      "Loss=0.08974415063858032 Batch_id=19 Accuracy=97.12: 100%|██████████| 20/20 [00:26<00:00,  1.33s/it]\n",
      "Loss=0.0970468670129776 Batch_id=19 Accuracy=97.06: 100%|██████████| 20/20 [00:26<00:00,  1.32s/it] \n",
      "Loss=0.06465043872594833 Batch_id=19 Accuracy=97.16: 100%|██████████| 20/20 [00:26<00:00,  1.32s/it]\n",
      "Loss=0.08374376595020294 Batch_id=19 Accuracy=97.13: 100%|██████████| 20/20 [00:26<00:00,  1.33s/it]\n",
      "Loss=0.09007061272859573 Batch_id=19 Accuracy=97.14: 100%|██████████| 20/20 [00:26<00:00,  1.32s/it]\n"
     ]
    },
    {
     "name": "stdout",
     "output_type": "stream",
     "text": [
      "Test set: Average loss: 0.4580, Accuracy: 8779/10000 (87.79%)\n",
      "\n",
      "--Skipping Acc Comp For Corrupted Data--\n",
      "Global Sparsity: 98.30% \n",
      "\n",
      "---------- Pruning Iteration:  81 / 90\n"
     ]
    },
    {
     "name": "stderr",
     "output_type": "stream",
     "text": [
      "Loss=0.12584929168224335 Batch_id=19 Accuracy=95.84: 100%|██████████| 20/20 [00:26<00:00,  1.33s/it]\n",
      "Loss=0.10211441665887833 Batch_id=19 Accuracy=96.28: 100%|██████████| 20/20 [00:26<00:00,  1.33s/it]\n",
      "Loss=0.1188935860991478 Batch_id=19 Accuracy=96.57: 100%|██████████| 20/20 [00:26<00:00,  1.32s/it] \n",
      "Loss=0.09291522204875946 Batch_id=19 Accuracy=96.79: 100%|██████████| 20/20 [00:26<00:00,  1.32s/it]\n",
      "Loss=0.0993911623954773 Batch_id=19 Accuracy=96.91: 100%|██████████| 20/20 [00:26<00:00,  1.32s/it] \n",
      "Loss=0.10758193582296371 Batch_id=19 Accuracy=96.96: 100%|██████████| 20/20 [00:26<00:00,  1.33s/it]\n",
      "Loss=0.07086584717035294 Batch_id=19 Accuracy=97.08: 100%|██████████| 20/20 [00:26<00:00,  1.32s/it]\n",
      "Loss=0.08234983682632446 Batch_id=19 Accuracy=97.17: 100%|██████████| 20/20 [00:26<00:00,  1.34s/it]\n",
      "Loss=0.08920459449291229 Batch_id=19 Accuracy=97.10: 100%|██████████| 20/20 [00:27<00:00,  1.38s/it]\n",
      "Loss=0.09103117883205414 Batch_id=19 Accuracy=97.15: 100%|██████████| 20/20 [00:26<00:00,  1.33s/it]"
     ]
    },
    {
     "name": "stdout",
     "output_type": "stream",
     "text": [
      "Epoch 00010: reducing learning rate of group 0 to 5.0000e-04.\n"
     ]
    },
    {
     "name": "stderr",
     "output_type": "stream",
     "text": [
      "\n"
     ]
    },
    {
     "name": "stdout",
     "output_type": "stream",
     "text": [
      "Test set: Average loss: 0.4035, Accuracy: 8895/10000 (88.95%)\n",
      "\n",
      "--Skipping Acc Comp For Corrupted Data--\n",
      "Global Sparsity: 98.39% \n",
      "\n",
      "---------- Pruning Iteration:  82 / 90\n"
     ]
    },
    {
     "name": "stderr",
     "output_type": "stream",
     "text": [
      "Loss=0.10157562792301178 Batch_id=19 Accuracy=95.94: 100%|██████████| 20/20 [00:26<00:00,  1.32s/it]\n",
      "Loss=0.10351840406656265 Batch_id=19 Accuracy=96.33: 100%|██████████| 20/20 [00:26<00:00,  1.32s/it]\n",
      "Loss=0.12749560177326202 Batch_id=19 Accuracy=96.30: 100%|██████████| 20/20 [00:26<00:00,  1.33s/it]\n",
      "Loss=0.11545170098543167 Batch_id=19 Accuracy=96.58: 100%|██████████| 20/20 [00:26<00:00,  1.33s/it]\n"
     ]
    },
    {
     "name": "stdout",
     "output_type": "stream",
     "text": [
      "Epoch 00004: reducing learning rate of group 0 to 5.0000e-04.\n"
     ]
    },
    {
     "name": "stderr",
     "output_type": "stream",
     "text": [
      "Loss=0.08432947844266891 Batch_id=19 Accuracy=96.78: 100%|██████████| 20/20 [00:26<00:00,  1.32s/it]\n",
      "Loss=0.07957380264997482 Batch_id=19 Accuracy=97.20: 100%|██████████| 20/20 [00:26<00:00,  1.33s/it]\n",
      "Loss=0.08917379379272461 Batch_id=19 Accuracy=97.22: 100%|██████████| 20/20 [00:26<00:00,  1.35s/it]\n",
      "Loss=0.06894555687904358 Batch_id=19 Accuracy=97.36: 100%|██████████| 20/20 [00:26<00:00,  1.32s/it]\n",
      "Loss=0.07686218619346619 Batch_id=19 Accuracy=97.48: 100%|██████████| 20/20 [00:26<00:00,  1.33s/it]\n",
      "Loss=0.06393230706453323 Batch_id=19 Accuracy=97.60: 100%|██████████| 20/20 [00:26<00:00,  1.34s/it]\n"
     ]
    },
    {
     "name": "stdout",
     "output_type": "stream",
     "text": [
      "Test set: Average loss: 0.3864, Accuracy: 8923/10000 (89.23%)\n",
      "\n",
      "--Skipping Acc Comp For Corrupted Data--\n",
      "Global Sparsity: 98.46% \n",
      "\n",
      "---------- Pruning Iteration:  83 / 90\n"
     ]
    },
    {
     "name": "stderr",
     "output_type": "stream",
     "text": [
      "Loss=0.13117007911205292 Batch_id=19 Accuracy=95.82: 100%|██████████| 20/20 [00:26<00:00,  1.32s/it]\n",
      "Loss=0.11300946772098541 Batch_id=19 Accuracy=96.06: 100%|██████████| 20/20 [00:26<00:00,  1.32s/it]\n",
      "Loss=0.12067122757434845 Batch_id=19 Accuracy=96.29: 100%|██████████| 20/20 [00:26<00:00,  1.33s/it]\n",
      "Loss=0.1247016116976738 Batch_id=19 Accuracy=96.23: 100%|██████████| 20/20 [00:26<00:00,  1.33s/it] \n",
      "Loss=0.11131750792264938 Batch_id=19 Accuracy=96.34: 100%|██████████| 20/20 [00:26<00:00,  1.33s/it]\n",
      "Loss=0.09243401139974594 Batch_id=19 Accuracy=96.65: 100%|██████████| 20/20 [00:26<00:00,  1.32s/it]\n",
      "Loss=0.11405683308839798 Batch_id=19 Accuracy=96.53: 100%|██████████| 20/20 [00:26<00:00,  1.34s/it]\n",
      "Loss=0.09658269584178925 Batch_id=19 Accuracy=96.60: 100%|██████████| 20/20 [00:26<00:00,  1.33s/it]\n",
      "Loss=0.1016535609960556 Batch_id=19 Accuracy=96.70: 100%|██████████| 20/20 [00:26<00:00,  1.32s/it] \n"
     ]
    },
    {
     "name": "stdout",
     "output_type": "stream",
     "text": [
      "Epoch 00009: reducing learning rate of group 0 to 5.0000e-04.\n"
     ]
    },
    {
     "name": "stderr",
     "output_type": "stream",
     "text": [
      "Loss=0.08572833985090256 Batch_id=19 Accuracy=96.93: 100%|██████████| 20/20 [00:26<00:00,  1.33s/it]\n"
     ]
    },
    {
     "name": "stdout",
     "output_type": "stream",
     "text": [
      "Test set: Average loss: 0.3895, Accuracy: 8890/10000 (88.90%)\n",
      "\n",
      "--Skipping Acc Comp For Corrupted Data--\n",
      "Global Sparsity: 98.54% \n",
      "\n",
      "---------- Pruning Iteration:  84 / 90\n"
     ]
    },
    {
     "name": "stderr",
     "output_type": "stream",
     "text": [
      "Loss=0.11584854125976562 Batch_id=19 Accuracy=95.37: 100%|██████████| 20/20 [00:26<00:00,  1.33s/it]\n",
      "Loss=0.11460696905851364 Batch_id=19 Accuracy=95.75: 100%|██████████| 20/20 [00:26<00:00,  1.32s/it]\n",
      "Loss=0.10897041857242584 Batch_id=19 Accuracy=96.07: 100%|██████████| 20/20 [00:26<00:00,  1.33s/it]\n",
      "Loss=0.10387460887432098 Batch_id=19 Accuracy=96.34: 100%|██████████| 20/20 [00:26<00:00,  1.34s/it]\n",
      "Loss=0.10808814316987991 Batch_id=19 Accuracy=96.41: 100%|██████████| 20/20 [00:26<00:00,  1.33s/it]\n",
      "Loss=0.09832409024238586 Batch_id=19 Accuracy=96.44: 100%|██████████| 20/20 [00:26<00:00,  1.32s/it]\n",
      "Loss=0.1115134209394455 Batch_id=19 Accuracy=96.45: 100%|██████████| 20/20 [00:26<00:00,  1.33s/it] \n",
      "Loss=0.10902019590139389 Batch_id=19 Accuracy=96.49: 100%|██████████| 20/20 [00:26<00:00,  1.33s/it]\n",
      "Loss=0.10238387435674667 Batch_id=19 Accuracy=96.49: 100%|██████████| 20/20 [00:26<00:00,  1.33s/it]\n"
     ]
    },
    {
     "name": "stdout",
     "output_type": "stream",
     "text": [
      "Epoch 00009: reducing learning rate of group 0 to 5.0000e-04.\n"
     ]
    },
    {
     "name": "stderr",
     "output_type": "stream",
     "text": [
      "Loss=0.08897391706705093 Batch_id=19 Accuracy=96.80: 100%|██████████| 20/20 [00:26<00:00,  1.33s/it]\n"
     ]
    },
    {
     "name": "stdout",
     "output_type": "stream",
     "text": [
      "Test set: Average loss: 0.3920, Accuracy: 8892/10000 (88.92%)\n",
      "\n",
      "--Skipping Acc Comp For Corrupted Data--\n",
      "Global Sparsity: 98.61% \n",
      "\n",
      "---------- Pruning Iteration:  85 / 90\n"
     ]
    },
    {
     "name": "stderr",
     "output_type": "stream",
     "text": [
      "Loss=0.1429770290851593 Batch_id=19 Accuracy=95.51: 100%|██████████| 20/20 [00:26<00:00,  1.33s/it] \n",
      "Loss=0.1271645426750183 Batch_id=19 Accuracy=95.79: 100%|██████████| 20/20 [00:26<00:00,  1.33s/it] \n",
      "Loss=0.1159868836402893 Batch_id=19 Accuracy=95.97: 100%|██████████| 20/20 [00:26<00:00,  1.32s/it] \n",
      "Loss=0.08712159842252731 Batch_id=19 Accuracy=96.23: 100%|██████████| 20/20 [00:26<00:00,  1.33s/it]\n",
      "Loss=0.10399390012025833 Batch_id=19 Accuracy=96.25: 100%|██████████| 20/20 [00:26<00:00,  1.34s/it]\n",
      "Loss=0.13138636946678162 Batch_id=19 Accuracy=96.37: 100%|██████████| 20/20 [00:26<00:00,  1.33s/it]\n",
      "Loss=0.09312859177589417 Batch_id=19 Accuracy=96.50: 100%|██████████| 20/20 [00:26<00:00,  1.32s/it]\n"
     ]
    },
    {
     "name": "stdout",
     "output_type": "stream",
     "text": [
      "Epoch 00007: reducing learning rate of group 0 to 5.0000e-04.\n"
     ]
    },
    {
     "name": "stderr",
     "output_type": "stream",
     "text": [
      "Loss=0.10002337396144867 Batch_id=19 Accuracy=96.68: 100%|██████████| 20/20 [00:26<00:00,  1.32s/it]\n",
      "Loss=0.10192779451608658 Batch_id=19 Accuracy=96.92: 100%|██████████| 20/20 [00:26<00:00,  1.33s/it]\n",
      "Loss=0.09722401201725006 Batch_id=19 Accuracy=97.07: 100%|██████████| 20/20 [00:26<00:00,  1.33s/it]"
     ]
    },
    {
     "name": "stdout",
     "output_type": "stream",
     "text": [
      "Epoch 00010: reducing learning rate of group 0 to 2.5000e-05.\n"
     ]
    },
    {
     "name": "stderr",
     "output_type": "stream",
     "text": [
      "\n"
     ]
    },
    {
     "name": "stdout",
     "output_type": "stream",
     "text": [
      "Test set: Average loss: 0.3842, Accuracy: 8896/10000 (88.96%)\n",
      "\n",
      "--Skipping Acc Comp For Corrupted Data--\n",
      "Global Sparsity: 98.68% \n",
      "\n",
      "---------- Pruning Iteration:  86 / 90\n"
     ]
    },
    {
     "name": "stderr",
     "output_type": "stream",
     "text": [
      "Loss=0.13884250819683075 Batch_id=19 Accuracy=95.40: 100%|██████████| 20/20 [00:26<00:00,  1.33s/it]\n",
      "Loss=0.12728643417358398 Batch_id=19 Accuracy=95.72: 100%|██████████| 20/20 [00:26<00:00,  1.33s/it]\n",
      "Loss=0.12146450579166412 Batch_id=19 Accuracy=95.75: 100%|██████████| 20/20 [00:26<00:00,  1.32s/it]\n",
      "Loss=0.11835837364196777 Batch_id=19 Accuracy=96.06: 100%|██████████| 20/20 [00:26<00:00,  1.32s/it]\n",
      "Loss=0.1228344663977623 Batch_id=19 Accuracy=96.05: 100%|██████████| 20/20 [00:26<00:00,  1.32s/it] \n",
      "Loss=0.09469050168991089 Batch_id=19 Accuracy=96.09: 100%|██████████| 20/20 [00:26<00:00,  1.32s/it]\n",
      "Loss=0.10871702432632446 Batch_id=19 Accuracy=96.22: 100%|██████████| 20/20 [00:26<00:00,  1.32s/it]\n",
      "Loss=0.103766068816185 Batch_id=19 Accuracy=96.09: 100%|██████████| 20/20 [00:26<00:00,  1.31s/it]  \n",
      "Loss=0.12375923246145248 Batch_id=19 Accuracy=96.36: 100%|██████████| 20/20 [00:26<00:00,  1.32s/it]\n"
     ]
    },
    {
     "name": "stdout",
     "output_type": "stream",
     "text": [
      "Epoch 00009: reducing learning rate of group 0 to 5.0000e-04.\n"
     ]
    },
    {
     "name": "stderr",
     "output_type": "stream",
     "text": [
      "Loss=0.09273304790258408 Batch_id=19 Accuracy=96.58: 100%|██████████| 20/20 [00:26<00:00,  1.34s/it]\n"
     ]
    },
    {
     "name": "stdout",
     "output_type": "stream",
     "text": [
      "Test set: Average loss: 0.3887, Accuracy: 8874/10000 (88.74%)\n",
      "\n",
      "--Skipping Acc Comp For Corrupted Data--\n",
      "Global Sparsity: 98.74% \n",
      "\n",
      "---------- Pruning Iteration:  87 / 90\n"
     ]
    },
    {
     "name": "stderr",
     "output_type": "stream",
     "text": [
      "Loss=0.1434316188097 Batch_id=19 Accuracy=95.19: 100%|██████████| 20/20 [00:26<00:00,  1.32s/it]    \n",
      "Loss=0.1190296933054924 Batch_id=19 Accuracy=95.65: 100%|██████████| 20/20 [00:26<00:00,  1.32s/it] \n",
      "Loss=0.12630055844783783 Batch_id=19 Accuracy=95.81: 100%|██████████| 20/20 [00:27<00:00,  1.37s/it]\n",
      "Loss=0.12778565287590027 Batch_id=19 Accuracy=95.84: 100%|██████████| 20/20 [00:26<00:00,  1.33s/it]\n",
      "Loss=0.13362203538417816 Batch_id=19 Accuracy=95.86: 100%|██████████| 20/20 [00:26<00:00,  1.32s/it]\n"
     ]
    },
    {
     "name": "stdout",
     "output_type": "stream",
     "text": [
      "Epoch 00005: reducing learning rate of group 0 to 5.0000e-04.\n"
     ]
    },
    {
     "name": "stderr",
     "output_type": "stream",
     "text": [
      "Loss=0.10640837997198105 Batch_id=19 Accuracy=96.22: 100%|██████████| 20/20 [00:26<00:00,  1.33s/it]\n",
      "Loss=0.08901280909776688 Batch_id=19 Accuracy=96.58: 100%|██████████| 20/20 [00:26<00:00,  1.33s/it]\n",
      "Loss=0.09175008535385132 Batch_id=19 Accuracy=96.74: 100%|██████████| 20/20 [00:26<00:00,  1.33s/it]\n",
      "Loss=0.08885525166988373 Batch_id=19 Accuracy=96.73: 100%|██████████| 20/20 [00:26<00:00,  1.34s/it]\n",
      "Loss=0.1056210994720459 Batch_id=19 Accuracy=96.74: 100%|██████████| 20/20 [00:27<00:00,  1.36s/it] \n"
     ]
    },
    {
     "name": "stdout",
     "output_type": "stream",
     "text": [
      "Test set: Average loss: 0.3788, Accuracy: 8914/10000 (89.14%)\n",
      "\n",
      "--Skipping Acc Comp For Corrupted Data--\n",
      "Global Sparsity: 98.80% \n",
      "\n",
      "---------- Pruning Iteration:  88 / 90\n"
     ]
    },
    {
     "name": "stderr",
     "output_type": "stream",
     "text": [
      "Loss=0.13766276836395264 Batch_id=19 Accuracy=95.20: 100%|██████████| 20/20 [00:26<00:00,  1.34s/it]\n",
      "Loss=0.13251720368862152 Batch_id=19 Accuracy=95.62: 100%|██████████| 20/20 [00:26<00:00,  1.32s/it]\n",
      "Loss=0.12119366228580475 Batch_id=19 Accuracy=95.66: 100%|██████████| 20/20 [00:26<00:00,  1.33s/it]\n",
      "Loss=0.13144534826278687 Batch_id=19 Accuracy=95.43: 100%|██████████| 20/20 [00:26<00:00,  1.33s/it]\n",
      "Loss=0.14489707350730896 Batch_id=19 Accuracy=95.73: 100%|██████████| 20/20 [00:26<00:00,  1.33s/it]\n",
      "Loss=0.13705427944660187 Batch_id=19 Accuracy=95.69: 100%|██████████| 20/20 [00:26<00:00,  1.32s/it]\n"
     ]
    },
    {
     "name": "stdout",
     "output_type": "stream",
     "text": [
      "Epoch 00006: reducing learning rate of group 0 to 5.0000e-04.\n"
     ]
    },
    {
     "name": "stderr",
     "output_type": "stream",
     "text": [
      "Loss=0.10856583714485168 Batch_id=19 Accuracy=96.14: 100%|██████████| 20/20 [00:26<00:00,  1.33s/it]\n",
      "Loss=0.09092851728200912 Batch_id=19 Accuracy=96.47: 100%|██████████| 20/20 [00:26<00:00,  1.32s/it]\n",
      "Loss=0.11285669356584549 Batch_id=19 Accuracy=96.49: 100%|██████████| 20/20 [00:26<00:00,  1.31s/it]\n",
      "Loss=0.09464336931705475 Batch_id=19 Accuracy=96.56: 100%|██████████| 20/20 [00:26<00:00,  1.33s/it]\n"
     ]
    },
    {
     "name": "stdout",
     "output_type": "stream",
     "text": [
      "Test set: Average loss: 0.3849, Accuracy: 8892/10000 (88.92%)\n",
      "\n",
      "--Skipping Acc Comp For Corrupted Data--\n",
      "Global Sparsity: 98.86% \n",
      "\n",
      "---------- Pruning Iteration:  89 / 90\n"
     ]
    },
    {
     "name": "stderr",
     "output_type": "stream",
     "text": [
      "Loss=0.13669317960739136 Batch_id=19 Accuracy=94.87: 100%|██████████| 20/20 [00:26<00:00,  1.34s/it]\n",
      "Loss=0.1385699212551117 Batch_id=19 Accuracy=95.15: 100%|██████████| 20/20 [00:26<00:00,  1.34s/it] \n",
      "Loss=0.1278752088546753 Batch_id=19 Accuracy=95.24: 100%|██████████| 20/20 [00:26<00:00,  1.35s/it] \n",
      "Loss=0.12653912603855133 Batch_id=19 Accuracy=95.48: 100%|██████████| 20/20 [00:27<00:00,  1.35s/it]\n",
      "Loss=0.1356169879436493 Batch_id=19 Accuracy=95.49: 100%|██████████| 20/20 [00:26<00:00,  1.32s/it] \n",
      "Loss=0.13453829288482666 Batch_id=19 Accuracy=95.56: 100%|██████████| 20/20 [00:26<00:00,  1.32s/it]\n",
      "Loss=0.13991041481494904 Batch_id=19 Accuracy=95.78: 100%|██████████| 20/20 [00:26<00:00,  1.33s/it]\n"
     ]
    },
    {
     "name": "stdout",
     "output_type": "stream",
     "text": [
      "Epoch 00007: reducing learning rate of group 0 to 5.0000e-04.\n"
     ]
    },
    {
     "name": "stderr",
     "output_type": "stream",
     "text": [
      "Loss=0.10250800848007202 Batch_id=19 Accuracy=96.03: 100%|██████████| 20/20 [00:26<00:00,  1.32s/it]\n",
      "Loss=0.11136440932750702 Batch_id=19 Accuracy=96.17: 100%|██████████| 20/20 [00:26<00:00,  1.32s/it]\n",
      "Loss=0.11911782622337341 Batch_id=19 Accuracy=96.43: 100%|██████████| 20/20 [00:26<00:00,  1.33s/it]\n"
     ]
    },
    {
     "name": "stdout",
     "output_type": "stream",
     "text": [
      "Test set: Average loss: 0.3892, Accuracy: 8854/10000 (88.54%)\n",
      "\n",
      "--Skipping Acc Comp For Corrupted Data--\n",
      "Global Sparsity: 98.91% \n",
      "\n",
      "---------- Pruning Iteration:  90 / 90\n"
     ]
    },
    {
     "name": "stderr",
     "output_type": "stream",
     "text": [
      "Loss=0.14829128980636597 Batch_id=19 Accuracy=94.78: 100%|██████████| 20/20 [00:26<00:00,  1.32s/it]\n",
      "Loss=0.13151855766773224 Batch_id=19 Accuracy=95.07: 100%|██████████| 20/20 [00:26<00:00,  1.32s/it]\n",
      "Loss=0.13633979856967926 Batch_id=19 Accuracy=95.21: 100%|██████████| 20/20 [00:26<00:00,  1.32s/it]\n",
      "Loss=0.14275161921977997 Batch_id=19 Accuracy=95.19: 100%|██████████| 20/20 [00:26<00:00,  1.33s/it]\n",
      "Loss=0.12915846705436707 Batch_id=19 Accuracy=95.27: 100%|██████████| 20/20 [00:26<00:00,  1.33s/it]\n",
      "Loss=0.15220925211906433 Batch_id=19 Accuracy=95.38: 100%|██████████| 20/20 [00:26<00:00,  1.32s/it]\n",
      "Loss=0.14383839070796967 Batch_id=19 Accuracy=95.37: 100%|██████████| 20/20 [00:26<00:00,  1.33s/it]\n",
      "Loss=0.12947790324687958 Batch_id=19 Accuracy=95.50: 100%|██████████| 20/20 [00:26<00:00,  1.33s/it]\n"
     ]
    },
    {
     "name": "stdout",
     "output_type": "stream",
     "text": [
      "Epoch 00008: reducing learning rate of group 0 to 5.0000e-04.\n"
     ]
    },
    {
     "name": "stderr",
     "output_type": "stream",
     "text": [
      "Loss=0.119663305580616 Batch_id=19 Accuracy=95.91: 100%|██████████| 20/20 [00:26<00:00,  1.32s/it]  \n",
      "Loss=0.1146487146615982 Batch_id=19 Accuracy=96.16: 100%|██████████| 20/20 [00:26<00:00,  1.33s/it] \n"
     ]
    },
    {
     "name": "stdout",
     "output_type": "stream",
     "text": [
      "Test set: Average loss: 0.3959, Accuracy: 8845/10000 (88.45%)\n",
      "\n",
      "--Testing Corruptions--\n"
     ]
    },
    {
     "name": "stderr",
     "output_type": "stream",
     "text": [
      "100%|██████████| 19/19 [04:12<00:00, 13.27s/it]"
     ]
    },
    {
     "name": "stdout",
     "output_type": "stream",
     "text": [
      "\n",
      "Avg Corruption Accuracy: 72.98%\n",
      "Global Sparsity: 98.97% \n",
      "\n"
     ]
    },
    {
     "name": "stderr",
     "output_type": "stream",
     "text": [
      "\n"
     ]
    }
   ],
   "source": [
    "#RestNet18\n",
    "model=copy.deepcopy(ResNet18_CIFAR10_0P)\n",
    "TrainLoader=trainloader_CIFAR10\n",
    "TestLoader=testloader_CIFAR10\n",
    "TestCLoader=loader_CIFAR10C\n",
    "PruningRate=0.05\n",
    "NumEpochsEachPruneRetrain=10\n",
    "MaximumPruneLevel=0.01\n",
    "lambda_l1=0\n",
    "lambda_l2=0.0005\n",
    "\n",
    "SaveTrainStepsName=\"Progress/PruningIterations_ResNet18_CIFAR_005PR_10Epochs_L2_0005\"\n",
    "\n",
    "\n",
    "ReadMe=\"This model is running pruning with the standard cost function, and the non corrupted dataset, a prunning rate of 0.05 and 10 epoch of retraining\\\n",
    "L2 Regularization of 0.0005 is used\\n\\nOriginal Model: ResNet18 Trained with CIFAR10 Dataset\"\n",
    "\n",
    "test_acc, Avg_Corrup_Acc_List, Acc_Corruptions, RemainingWeights_List, Sparcity_List=iterative_pruning(model,device, TrainLoader, TestLoader, TestCLoader, PruningRate, SaveTrainStepsName,ReadMe,\n",
    "                                                                                                        lambda_l1, lambda_l2, NumEpochsEachPruneRetrain,MaximumPruneLevel)"
   ]
  },
  {
   "cell_type": "code",
   "execution_count": 8,
   "metadata": {},
   "outputs": [
    {
     "name": "stdout",
     "output_type": "stream",
     "text": [
      "--Get statistics before pruning--\n",
      "Train set: Average loss: 0.1284, Accuracy: 47792/50000 (95.58%)\n",
      "Test set: Average loss: 0.3662, Accuracy: 8909/10000 (89.09%)\n",
      "\n",
      "--Testing Corruptions--\n"
     ]
    },
    {
     "name": "stderr",
     "output_type": "stream",
     "text": [
      "100%|██████████| 19/19 [03:45<00:00, 11.86s/it]\n"
     ]
    },
    {
     "name": "stdout",
     "output_type": "stream",
     "text": [
      "\n",
      "Avg Corruption Accuracy: 75.97%\n",
      "---------- Pruning Iteration:  1 / 7\n"
     ]
    },
    {
     "name": "stderr",
     "output_type": "stream",
     "text": [
      "Loss=0.13468928635120392 Batch_id=19 Accuracy=95.19: 100%|██████████| 20/20 [00:26<00:00,  1.33s/it]\n",
      "Loss=0.12698718905448914 Batch_id=19 Accuracy=95.42: 100%|██████████| 20/20 [00:26<00:00,  1.33s/it]\n",
      "Loss=0.1572093516588211 Batch_id=19 Accuracy=95.38: 100%|██████████| 20/20 [00:26<00:00,  1.33s/it] \n",
      "Loss=0.13244730234146118 Batch_id=19 Accuracy=95.73: 100%|██████████| 20/20 [00:26<00:00,  1.32s/it]\n",
      "Loss=0.1378818154335022 Batch_id=19 Accuracy=95.77: 100%|██████████| 20/20 [00:26<00:00,  1.32s/it] \n"
     ]
    },
    {
     "name": "stdout",
     "output_type": "stream",
     "text": [
      "Epoch 00005: reducing learning rate of group 0 to 5.0000e-04.\n"
     ]
    },
    {
     "name": "stderr",
     "output_type": "stream",
     "text": [
      "Loss=0.10328243672847748 Batch_id=19 Accuracy=96.01: 100%|██████████| 20/20 [00:26<00:00,  1.32s/it]\n",
      "Loss=0.11090249568223953 Batch_id=19 Accuracy=96.12: 100%|██████████| 20/20 [00:26<00:00,  1.32s/it]\n",
      "Loss=0.09855853766202927 Batch_id=19 Accuracy=96.09: 100%|██████████| 20/20 [00:26<00:00,  1.33s/it]\n",
      "Loss=0.12565815448760986 Batch_id=19 Accuracy=96.25: 100%|██████████| 20/20 [00:26<00:00,  1.33s/it]\n",
      "Loss=0.12473993748426437 Batch_id=19 Accuracy=96.12: 100%|██████████| 20/20 [00:26<00:00,  1.33s/it]\n"
     ]
    },
    {
     "name": "stdout",
     "output_type": "stream",
     "text": [
      "Test set: Average loss: 0.3740, Accuracy: 8926/10000 (89.26%)\n",
      "\n",
      "--Testing Corruptions--\n"
     ]
    },
    {
     "name": "stderr",
     "output_type": "stream",
     "text": [
      "100%|██████████| 19/19 [03:44<00:00, 11.81s/it]\n"
     ]
    },
    {
     "name": "stdout",
     "output_type": "stream",
     "text": [
      "\n",
      "Avg Corruption Accuracy: 76.46%\n",
      "Global Sparsity: 49.98% \n",
      "\n",
      "---------- Pruning Iteration:  2 / 7\n"
     ]
    },
    {
     "name": "stderr",
     "output_type": "stream",
     "text": [
      "Loss=0.14769022166728973 Batch_id=19 Accuracy=94.96: 100%|██████████| 20/20 [00:26<00:00,  1.34s/it]\n",
      "Loss=0.12620611488819122 Batch_id=19 Accuracy=95.49: 100%|██████████| 20/20 [00:26<00:00,  1.33s/it]\n",
      "Loss=0.12157726287841797 Batch_id=19 Accuracy=95.65: 100%|██████████| 20/20 [00:26<00:00,  1.32s/it]\n",
      "Loss=0.11976758390665054 Batch_id=19 Accuracy=95.93: 100%|██████████| 20/20 [00:26<00:00,  1.32s/it]\n",
      "Loss=0.10731860995292664 Batch_id=19 Accuracy=96.07: 100%|██████████| 20/20 [00:26<00:00,  1.33s/it]\n",
      "Loss=0.10854782909154892 Batch_id=19 Accuracy=96.15: 100%|██████████| 20/20 [00:26<00:00,  1.34s/it]\n",
      "Loss=0.11709146946668625 Batch_id=19 Accuracy=96.37: 100%|██████████| 20/20 [00:26<00:00,  1.34s/it]\n",
      "Loss=0.09951218962669373 Batch_id=19 Accuracy=96.49: 100%|██████████| 20/20 [00:26<00:00,  1.33s/it]\n",
      "Loss=0.08990935981273651 Batch_id=19 Accuracy=96.56: 100%|██████████| 20/20 [00:26<00:00,  1.32s/it]\n",
      "Loss=0.09001658111810684 Batch_id=19 Accuracy=96.65: 100%|██████████| 20/20 [00:26<00:00,  1.32s/it]\n"
     ]
    },
    {
     "name": "stdout",
     "output_type": "stream",
     "text": [
      "Test set: Average loss: 0.4098, Accuracy: 8842/10000 (88.42%)\n",
      "\n",
      "--Testing Corruptions--\n"
     ]
    },
    {
     "name": "stderr",
     "output_type": "stream",
     "text": [
      "100%|██████████| 19/19 [03:46<00:00, 11.94s/it]\n"
     ]
    },
    {
     "name": "stdout",
     "output_type": "stream",
     "text": [
      "\n",
      "Avg Corruption Accuracy: 76.30%\n",
      "Global Sparsity: 74.97% \n",
      "\n",
      "---------- Pruning Iteration:  3 / 7\n"
     ]
    },
    {
     "name": "stderr",
     "output_type": "stream",
     "text": [
      "Loss=0.1757417470216751 Batch_id=19 Accuracy=92.30: 100%|██████████| 20/20 [00:26<00:00,  1.34s/it] \n",
      "Loss=0.15022462606430054 Batch_id=19 Accuracy=95.12: 100%|██████████| 20/20 [00:26<00:00,  1.34s/it]\n",
      "Loss=0.12558341026306152 Batch_id=19 Accuracy=95.88: 100%|██████████| 20/20 [00:26<00:00,  1.34s/it]\n",
      "Loss=0.09900207817554474 Batch_id=19 Accuracy=96.33: 100%|██████████| 20/20 [00:26<00:00,  1.34s/it]\n",
      "Loss=0.12301523238420486 Batch_id=19 Accuracy=96.41: 100%|██████████| 20/20 [00:26<00:00,  1.33s/it]\n",
      "Loss=0.11994732171297073 Batch_id=19 Accuracy=96.53: 100%|██████████| 20/20 [00:26<00:00,  1.33s/it]\n",
      "Loss=0.10204537212848663 Batch_id=19 Accuracy=96.74: 100%|██████████| 20/20 [00:26<00:00,  1.33s/it]\n"
     ]
    },
    {
     "name": "stdout",
     "output_type": "stream",
     "text": [
      "Epoch 00007: reducing learning rate of group 0 to 5.0000e-04.\n"
     ]
    },
    {
     "name": "stderr",
     "output_type": "stream",
     "text": [
      "Loss=0.07939954847097397 Batch_id=19 Accuracy=96.96: 100%|██████████| 20/20 [00:26<00:00,  1.33s/it]\n",
      "Loss=0.07961849868297577 Batch_id=19 Accuracy=97.08: 100%|██████████| 20/20 [00:26<00:00,  1.33s/it]\n",
      "Loss=0.08783671259880066 Batch_id=19 Accuracy=97.10: 100%|██████████| 20/20 [00:26<00:00,  1.34s/it]\n"
     ]
    },
    {
     "name": "stdout",
     "output_type": "stream",
     "text": [
      "Test set: Average loss: 0.4331, Accuracy: 8842/10000 (88.42%)\n",
      "\n",
      "--Testing Corruptions--\n"
     ]
    },
    {
     "name": "stderr",
     "output_type": "stream",
     "text": [
      "100%|██████████| 19/19 [04:00<00:00, 12.65s/it]\n"
     ]
    },
    {
     "name": "stdout",
     "output_type": "stream",
     "text": [
      "\n",
      "Avg Corruption Accuracy: 75.86%\n",
      "Global Sparsity: 87.47% \n",
      "\n",
      "---------- Pruning Iteration:  4 / 7\n"
     ]
    },
    {
     "name": "stderr",
     "output_type": "stream",
     "text": [
      "Loss=0.33048099279403687 Batch_id=19 Accuracy=83.72: 100%|██████████| 20/20 [00:26<00:00,  1.33s/it]\n",
      "Loss=0.25795114040374756 Batch_id=19 Accuracy=90.65: 100%|██████████| 20/20 [00:26<00:00,  1.34s/it]\n",
      "Loss=0.17548997700214386 Batch_id=19 Accuracy=92.62: 100%|██████████| 20/20 [00:26<00:00,  1.34s/it]\n",
      "Loss=0.21268516778945923 Batch_id=19 Accuracy=93.47: 100%|██████████| 20/20 [00:26<00:00,  1.34s/it]\n",
      "Loss=0.1483151912689209 Batch_id=19 Accuracy=93.78: 100%|██████████| 20/20 [00:26<00:00,  1.34s/it] \n",
      "Loss=0.1335529088973999 Batch_id=19 Accuracy=94.30: 100%|██████████| 20/20 [00:26<00:00,  1.34s/it] \n",
      "Loss=0.14499643445014954 Batch_id=19 Accuracy=94.63: 100%|██████████| 20/20 [00:26<00:00,  1.35s/it]\n",
      "Loss=0.13728488981723785 Batch_id=19 Accuracy=94.89: 100%|██████████| 20/20 [00:27<00:00,  1.37s/it]\n",
      "Loss=0.14332109689712524 Batch_id=19 Accuracy=95.06: 100%|██████████| 20/20 [00:26<00:00,  1.35s/it]\n"
     ]
    },
    {
     "name": "stdout",
     "output_type": "stream",
     "text": [
      "Epoch 00009: reducing learning rate of group 0 to 5.0000e-04.\n"
     ]
    },
    {
     "name": "stderr",
     "output_type": "stream",
     "text": [
      "Loss=0.11656608432531357 Batch_id=19 Accuracy=95.31: 100%|██████████| 20/20 [00:26<00:00,  1.34s/it]\n"
     ]
    },
    {
     "name": "stdout",
     "output_type": "stream",
     "text": [
      "Test set: Average loss: 0.4042, Accuracy: 8865/10000 (88.65%)\n",
      "\n",
      "--Testing Corruptions--\n"
     ]
    },
    {
     "name": "stderr",
     "output_type": "stream",
     "text": [
      "100%|██████████| 19/19 [03:51<00:00, 12.17s/it]\n"
     ]
    },
    {
     "name": "stdout",
     "output_type": "stream",
     "text": [
      "\n",
      "Avg Corruption Accuracy: 75.39%\n",
      "Global Sparsity: 93.72% \n",
      "\n",
      "---------- Pruning Iteration:  5 / 7\n"
     ]
    },
    {
     "name": "stderr",
     "output_type": "stream",
     "text": [
      "Loss=0.48294925689697266 Batch_id=19 Accuracy=72.91: 100%|██████████| 20/20 [00:26<00:00,  1.35s/it]\n",
      "Loss=0.38138967752456665 Batch_id=19 Accuracy=85.26: 100%|██████████| 20/20 [00:27<00:00,  1.35s/it]\n",
      "Loss=0.3236546814441681 Batch_id=19 Accuracy=88.02: 100%|██████████| 20/20 [00:27<00:00,  1.36s/it] \n",
      "Loss=0.3077491223812103 Batch_id=19 Accuracy=89.44: 100%|██████████| 20/20 [00:27<00:00,  1.36s/it] \n",
      "Loss=0.2784707844257355 Batch_id=19 Accuracy=90.28: 100%|██████████| 20/20 [00:27<00:00,  1.36s/it] \n",
      "Loss=0.2732372283935547 Batch_id=19 Accuracy=90.68: 100%|██████████| 20/20 [00:27<00:00,  1.35s/it] \n",
      "Loss=0.2690630853176117 Batch_id=19 Accuracy=91.23: 100%|██████████| 20/20 [00:26<00:00,  1.35s/it] \n",
      "Loss=0.2504112124443054 Batch_id=19 Accuracy=91.69: 100%|██████████| 20/20 [00:27<00:00,  1.35s/it] \n",
      "Loss=0.23623625934123993 Batch_id=19 Accuracy=91.98: 100%|██████████| 20/20 [00:27<00:00,  1.36s/it]\n",
      "Loss=0.21192343533039093 Batch_id=19 Accuracy=92.38: 100%|██████████| 20/20 [00:27<00:00,  1.36s/it]\n"
     ]
    },
    {
     "name": "stdout",
     "output_type": "stream",
     "text": [
      "Test set: Average loss: 0.3936, Accuracy: 8807/10000 (88.07%)\n",
      "\n",
      "--Skipping Acc Comp For Corrupted Data--\n",
      "Global Sparsity: 96.84% \n",
      "\n",
      "---------- Pruning Iteration:  6 / 7\n"
     ]
    },
    {
     "name": "stderr",
     "output_type": "stream",
     "text": [
      "Loss=0.5830363631248474 Batch_id=19 Accuracy=71.89: 100%|██████████| 20/20 [00:26<00:00,  1.35s/it]\n",
      "Loss=0.4782768189907074 Batch_id=19 Accuracy=82.14: 100%|██████████| 20/20 [00:26<00:00,  1.35s/it] \n",
      "Loss=0.4033523201942444 Batch_id=19 Accuracy=85.11: 100%|██████████| 20/20 [00:26<00:00,  1.31s/it] \n",
      "Loss=0.36526036262512207 Batch_id=19 Accuracy=86.54: 100%|██████████| 20/20 [00:27<00:00,  1.36s/it]\n",
      "Loss=0.3985835015773773 Batch_id=19 Accuracy=87.27: 100%|██████████| 20/20 [00:27<00:00,  1.36s/it] \n",
      "Loss=0.35443010926246643 Batch_id=19 Accuracy=87.83: 100%|██████████| 20/20 [00:27<00:00,  1.36s/it]\n",
      "Loss=0.34049174189567566 Batch_id=19 Accuracy=88.08: 100%|██████████| 20/20 [00:27<00:00,  1.36s/it]\n",
      "Loss=0.32399097084999084 Batch_id=19 Accuracy=88.73: 100%|██████████| 20/20 [00:26<00:00,  1.35s/it]\n",
      "Loss=0.3036443591117859 Batch_id=19 Accuracy=89.19: 100%|██████████| 20/20 [00:26<00:00,  1.35s/it] \n",
      "Loss=0.3189658522605896 Batch_id=19 Accuracy=89.27: 100%|██████████| 20/20 [00:27<00:00,  1.36s/it] \n"
     ]
    },
    {
     "name": "stdout",
     "output_type": "stream",
     "text": [
      "Test set: Average loss: 0.3923, Accuracy: 8696/10000 (86.96%)\n",
      "\n",
      "--Skipping Acc Comp For Corrupted Data--\n",
      "Global Sparsity: 98.40% \n",
      "\n",
      "---------- Pruning Iteration:  7 / 7\n"
     ]
    },
    {
     "name": "stderr",
     "output_type": "stream",
     "text": [
      "Loss=0.7016785740852356 Batch_id=19 Accuracy=65.70: 100%|██████████| 20/20 [00:27<00:00,  1.37s/it]\n",
      "Loss=0.5989462733268738 Batch_id=19 Accuracy=77.82: 100%|██████████| 20/20 [00:27<00:00,  1.37s/it]\n",
      "Loss=0.5059518218040466 Batch_id=19 Accuracy=80.68: 100%|██████████| 20/20 [00:27<00:00,  1.36s/it]\n",
      "Loss=0.4944005608558655 Batch_id=19 Accuracy=82.43: 100%|██████████| 20/20 [00:27<00:00,  1.35s/it] \n",
      "Loss=0.4711568057537079 Batch_id=19 Accuracy=83.44: 100%|██████████| 20/20 [00:26<00:00,  1.35s/it] \n",
      "Loss=0.43439289927482605 Batch_id=19 Accuracy=84.06: 100%|██████████| 20/20 [00:27<00:00,  1.35s/it]\n",
      "Loss=0.40651735663414 Batch_id=19 Accuracy=84.82: 100%|██████████| 20/20 [00:26<00:00,  1.35s/it]   \n",
      "Loss=0.449518620967865 Batch_id=19 Accuracy=85.19: 100%|██████████| 20/20 [00:27<00:00,  1.36s/it]  \n",
      "Loss=0.42305198311805725 Batch_id=19 Accuracy=85.67: 100%|██████████| 20/20 [00:27<00:00,  1.35s/it]\n",
      "Loss=0.39105528593063354 Batch_id=19 Accuracy=85.75: 100%|██████████| 20/20 [00:27<00:00,  1.35s/it]\n"
     ]
    },
    {
     "name": "stdout",
     "output_type": "stream",
     "text": [
      "Test set: Average loss: 0.4382, Accuracy: 8536/10000 (85.36%)\n",
      "\n",
      "--Testing Corruptions--\n"
     ]
    },
    {
     "name": "stderr",
     "output_type": "stream",
     "text": [
      "100%|██████████| 19/19 [03:53<00:00, 12.29s/it]"
     ]
    },
    {
     "name": "stdout",
     "output_type": "stream",
     "text": [
      "\n",
      "Avg Corruption Accuracy: 70.78%\n",
      "Global Sparsity: 99.18% \n",
      "\n"
     ]
    },
    {
     "name": "stderr",
     "output_type": "stream",
     "text": [
      "\n"
     ]
    }
   ],
   "source": [
    "#VGG16\n",
    "model=copy.deepcopy(VGG16_CIFAR10_0P)\n",
    "TrainLoader=trainloader_CIFAR10\n",
    "TestLoader=testloader_CIFAR10\n",
    "TestCLoader=loader_CIFAR10C\n",
    "PruningRate=0.5\n",
    "NumEpochsEachPruneRetrain=10\n",
    "MaximumPruneLevel=0.01\n",
    "lambda_l1=0\n",
    "lambda_l2=0.0005\n",
    "\n",
    "SaveTrainStepsName=\"Progress/PruningIterations_VGG16_CIFAR_05PR_10Epochs_L2_0005\"\n",
    "\n",
    "\n",
    "ReadMe=\"This model is running pruning with the standard cost function, and the non corrupted dataset, a prunning rate of 0.5 and 10 epoch of retraining\\\n",
    "L2 Regularization of 0.0005 is used\\n\\nOriginal Model: VGG16 Trained with CIFAR10 Dataset\"\n",
    "\n",
    "test_acc, Avg_Corrup_Acc_List, Acc_Corruptions, RemainingWeights_List, Sparcity_List=iterative_pruning(model,device, TrainLoader, TestLoader, TestCLoader, PruningRate, SaveTrainStepsName,ReadMe,\n",
    "                                                                                                        lambda_l1, lambda_l2, NumEpochsEachPruneRetrain,MaximumPruneLevel)"
   ]
  },
  {
   "cell_type": "code",
   "execution_count": 9,
   "metadata": {},
   "outputs": [
    {
     "name": "stdout",
     "output_type": "stream",
     "text": [
      "--Get statistics before pruning--\n",
      "Train set: Average loss: 0.1269, Accuracy: 47865/50000 (95.73%)\n",
      "Test set: Average loss: 0.3662, Accuracy: 8909/10000 (89.09%)\n",
      "\n",
      "--Testing Corruptions--\n"
     ]
    },
    {
     "name": "stderr",
     "output_type": "stream",
     "text": [
      "100%|██████████| 19/19 [04:10<00:00, 13.18s/it]\n"
     ]
    },
    {
     "name": "stdout",
     "output_type": "stream",
     "text": [
      "\n",
      "Avg Corruption Accuracy: 75.97%\n",
      "---------- Pruning Iteration:  1 / 16\n"
     ]
    },
    {
     "name": "stderr",
     "output_type": "stream",
     "text": [
      "Loss=0.14221586287021637 Batch_id=19 Accuracy=95.43: 100%|██████████| 20/20 [00:27<00:00,  1.36s/it]\n",
      "Loss=0.13433930277824402 Batch_id=19 Accuracy=95.52: 100%|██████████| 20/20 [00:27<00:00,  1.36s/it]\n",
      "Loss=0.10105782747268677 Batch_id=19 Accuracy=95.79: 100%|██████████| 20/20 [00:27<00:00,  1.36s/it]\n",
      "Loss=0.09900466352701187 Batch_id=19 Accuracy=95.98: 100%|██████████| 20/20 [00:27<00:00,  1.36s/it]\n",
      "Loss=0.11268964409828186 Batch_id=19 Accuracy=96.09: 100%|██████████| 20/20 [00:27<00:00,  1.37s/it]\n",
      "Loss=0.09931706637144089 Batch_id=19 Accuracy=96.35: 100%|██████████| 20/20 [00:27<00:00,  1.36s/it]\n",
      "Loss=0.11339118331670761 Batch_id=19 Accuracy=96.55: 100%|██████████| 20/20 [00:27<00:00,  1.36s/it]\n"
     ]
    },
    {
     "name": "stdout",
     "output_type": "stream",
     "text": [
      "Epoch 00007: reducing learning rate of group 0 to 5.0000e-04.\n"
     ]
    },
    {
     "name": "stderr",
     "output_type": "stream",
     "text": [
      "Loss=0.10020159184932709 Batch_id=19 Accuracy=96.83: 100%|██████████| 20/20 [00:27<00:00,  1.35s/it]\n",
      "Loss=0.09286737442016602 Batch_id=19 Accuracy=96.75: 100%|██████████| 20/20 [00:27<00:00,  1.35s/it]\n",
      "Loss=0.09126178175210953 Batch_id=19 Accuracy=96.84: 100%|██████████| 20/20 [00:27<00:00,  1.36s/it]\n"
     ]
    },
    {
     "name": "stdout",
     "output_type": "stream",
     "text": [
      "Test set: Average loss: 0.3836, Accuracy: 8924/10000 (89.24%)\n",
      "\n",
      "--Testing Corruptions--\n"
     ]
    },
    {
     "name": "stderr",
     "output_type": "stream",
     "text": [
      "100%|██████████| 19/19 [03:59<00:00, 12.63s/it]\n"
     ]
    },
    {
     "name": "stdout",
     "output_type": "stream",
     "text": [
      "\n",
      "Avg Corruption Accuracy: 76.23%\n",
      "Global Sparsity: 24.99% \n",
      "\n",
      "---------- Pruning Iteration:  2 / 16\n"
     ]
    },
    {
     "name": "stderr",
     "output_type": "stream",
     "text": [
      "Loss=0.09246253967285156 Batch_id=19 Accuracy=96.77: 100%|██████████| 20/20 [00:27<00:00,  1.37s/it]\n",
      "Loss=0.08914192765951157 Batch_id=19 Accuracy=96.80: 100%|██████████| 20/20 [00:27<00:00,  1.37s/it]\n",
      "Loss=0.09009998291730881 Batch_id=19 Accuracy=96.94: 100%|██████████| 20/20 [00:27<00:00,  1.37s/it]\n",
      "Loss=0.09373214095830917 Batch_id=19 Accuracy=97.09: 100%|██████████| 20/20 [00:27<00:00,  1.38s/it]\n",
      "Loss=0.094838947057724 Batch_id=19 Accuracy=97.16: 100%|██████████| 20/20 [00:27<00:00,  1.37s/it]  \n"
     ]
    },
    {
     "name": "stdout",
     "output_type": "stream",
     "text": [
      "Epoch 00005: reducing learning rate of group 0 to 5.0000e-04.\n"
     ]
    },
    {
     "name": "stderr",
     "output_type": "stream",
     "text": [
      "Loss=0.0742482915520668 Batch_id=19 Accuracy=97.23: 100%|██████████| 20/20 [00:27<00:00,  1.37s/it] \n",
      "Loss=0.06680203229188919 Batch_id=19 Accuracy=97.42: 100%|██████████| 20/20 [00:27<00:00,  1.36s/it]\n",
      "Loss=0.0600726455450058 Batch_id=19 Accuracy=97.42: 100%|██████████| 20/20 [00:27<00:00,  1.37s/it]  \n",
      "Loss=0.06295544654130936 Batch_id=19 Accuracy=97.48: 100%|██████████| 20/20 [00:27<00:00,  1.36s/it]\n",
      "Loss=0.05914483964443207 Batch_id=19 Accuracy=97.48: 100%|██████████| 20/20 [00:27<00:00,  1.37s/it]\n"
     ]
    },
    {
     "name": "stdout",
     "output_type": "stream",
     "text": [
      "Test set: Average loss: 0.4100, Accuracy: 8918/10000 (89.18%)\n",
      "\n",
      "--Testing Corruptions--\n"
     ]
    },
    {
     "name": "stderr",
     "output_type": "stream",
     "text": [
      "100%|██████████| 19/19 [03:59<00:00, 12.61s/it]\n"
     ]
    },
    {
     "name": "stdout",
     "output_type": "stream",
     "text": [
      "\n",
      "Avg Corruption Accuracy: 76.39%\n",
      "Global Sparsity: 43.73% \n",
      "\n",
      "---------- Pruning Iteration:  3 / 16\n"
     ]
    },
    {
     "name": "stderr",
     "output_type": "stream",
     "text": [
      "Loss=0.10877453535795212 Batch_id=19 Accuracy=96.98: 100%|██████████| 20/20 [00:27<00:00,  1.38s/it]\n",
      "Loss=0.09017536044120789 Batch_id=19 Accuracy=97.18: 100%|██████████| 20/20 [00:27<00:00,  1.38s/it]\n",
      "Loss=0.06670184433460236 Batch_id=19 Accuracy=97.30: 100%|██████████| 20/20 [00:27<00:00,  1.37s/it]\n",
      "Loss=0.07031780481338501 Batch_id=19 Accuracy=97.38: 100%|██████████| 20/20 [00:27<00:00,  1.37s/it]\n",
      "Loss=0.06044746935367584 Batch_id=19 Accuracy=97.53: 100%|██████████| 20/20 [00:27<00:00,  1.37s/it]\n",
      "Loss=0.0612785741686821 Batch_id=19 Accuracy=97.58: 100%|██████████| 20/20 [00:27<00:00,  1.38s/it] \n",
      "Loss=0.05857117474079132 Batch_id=19 Accuracy=97.68: 100%|██████████| 20/20 [00:27<00:00,  1.38s/it] \n",
      "Loss=0.06784117966890335 Batch_id=19 Accuracy=97.84: 100%|██████████| 20/20 [00:27<00:00,  1.38s/it]\n",
      "Loss=0.059482865035533905 Batch_id=19 Accuracy=97.96: 100%|██████████| 20/20 [00:28<00:00,  1.41s/it]\n",
      "Loss=0.06416355073451996 Batch_id=19 Accuracy=97.89: 100%|██████████| 20/20 [00:28<00:00,  1.42s/it] "
     ]
    },
    {
     "name": "stdout",
     "output_type": "stream",
     "text": [
      "Epoch 00010: reducing learning rate of group 0 to 5.0000e-04.\n"
     ]
    },
    {
     "name": "stderr",
     "output_type": "stream",
     "text": [
      "\n"
     ]
    },
    {
     "name": "stdout",
     "output_type": "stream",
     "text": [
      "Test set: Average loss: 0.4486, Accuracy: 8866/10000 (88.66%)\n",
      "\n",
      "--Testing Corruptions--\n"
     ]
    },
    {
     "name": "stderr",
     "output_type": "stream",
     "text": [
      "100%|██████████| 19/19 [04:09<00:00, 13.15s/it]\n"
     ]
    },
    {
     "name": "stdout",
     "output_type": "stream",
     "text": [
      "\n",
      "Avg Corruption Accuracy: 76.04%\n",
      "Global Sparsity: 57.79% \n",
      "\n",
      "---------- Pruning Iteration:  4 / 16\n"
     ]
    },
    {
     "name": "stderr",
     "output_type": "stream",
     "text": [
      "Loss=0.07198403775691986 Batch_id=19 Accuracy=96.42: 100%|██████████| 20/20 [00:28<00:00,  1.42s/it]\n",
      "Loss=0.06403917819261551 Batch_id=19 Accuracy=97.44: 100%|██████████| 20/20 [00:28<00:00,  1.42s/it] \n",
      "Loss=0.05867614224553108 Batch_id=19 Accuracy=97.88: 100%|██████████| 20/20 [00:28<00:00,  1.42s/it] \n",
      "Loss=0.055498503148555756 Batch_id=19 Accuracy=97.90: 100%|██████████| 20/20 [00:28<00:00,  1.42s/it]\n",
      "Loss=0.07407741993665695 Batch_id=19 Accuracy=98.09: 100%|██████████| 20/20 [00:28<00:00,  1.43s/it] \n",
      "Loss=0.05882825329899788 Batch_id=19 Accuracy=98.06: 100%|██████████| 20/20 [00:28<00:00,  1.43s/it] \n",
      "Loss=0.0456661693751812 Batch_id=19 Accuracy=98.26: 100%|██████████| 20/20 [00:28<00:00,  1.43s/it]  \n",
      "Loss=0.049714844673871994 Batch_id=19 Accuracy=98.24: 100%|██████████| 20/20 [00:28<00:00,  1.43s/it]\n",
      "Loss=0.05842467024922371 Batch_id=19 Accuracy=98.32: 100%|██████████| 20/20 [00:28<00:00,  1.42s/it] \n",
      "Loss=0.044421374797821045 Batch_id=19 Accuracy=98.40: 100%|██████████| 20/20 [00:28<00:00,  1.42s/it]\n"
     ]
    },
    {
     "name": "stdout",
     "output_type": "stream",
     "text": [
      "Test set: Average loss: 0.4808, Accuracy: 8858/10000 (88.58%)\n",
      "\n",
      "--Testing Corruptions--\n"
     ]
    },
    {
     "name": "stderr",
     "output_type": "stream",
     "text": [
      "100%|██████████| 19/19 [04:25<00:00, 13.96s/it]\n"
     ]
    },
    {
     "name": "stdout",
     "output_type": "stream",
     "text": [
      "\n",
      "Avg Corruption Accuracy: 75.58%\n",
      "Global Sparsity: 68.34% \n",
      "\n",
      "---------- Pruning Iteration:  5 / 16\n"
     ]
    },
    {
     "name": "stderr",
     "output_type": "stream",
     "text": [
      "Loss=0.0971299260854721 Batch_id=19 Accuracy=94.77: 100%|██████████| 20/20 [00:28<00:00,  1.43s/it] \n",
      "Loss=0.07688490301370621 Batch_id=19 Accuracy=97.17: 100%|██████████| 20/20 [00:27<00:00,  1.40s/it] \n",
      "Loss=0.07706189155578613 Batch_id=19 Accuracy=97.78: 100%|██████████| 20/20 [00:27<00:00,  1.39s/it] \n",
      "Loss=0.058675069361925125 Batch_id=19 Accuracy=97.98: 100%|██████████| 20/20 [00:27<00:00,  1.38s/it]\n",
      "Loss=0.050497930496931076 Batch_id=19 Accuracy=98.21: 100%|██████████| 20/20 [00:27<00:00,  1.38s/it]\n",
      "Loss=0.06463152170181274 Batch_id=19 Accuracy=98.29: 100%|██████████| 20/20 [00:27<00:00,  1.38s/it] \n",
      "Loss=0.05650852993130684 Batch_id=19 Accuracy=98.38: 100%|██████████| 20/20 [00:27<00:00,  1.39s/it] \n",
      "Loss=0.050634969025850296 Batch_id=19 Accuracy=98.34: 100%|██████████| 20/20 [00:27<00:00,  1.40s/it]\n"
     ]
    },
    {
     "name": "stdout",
     "output_type": "stream",
     "text": [
      "Epoch 00008: reducing learning rate of group 0 to 5.0000e-04.\n"
     ]
    },
    {
     "name": "stderr",
     "output_type": "stream",
     "text": [
      "Loss=0.04605861380696297 Batch_id=19 Accuracy=98.55: 100%|██████████| 20/20 [00:27<00:00,  1.40s/it] \n",
      "Loss=0.042158760130405426 Batch_id=19 Accuracy=98.64: 100%|██████████| 20/20 [00:28<00:00,  1.40s/it]\n"
     ]
    },
    {
     "name": "stdout",
     "output_type": "stream",
     "text": [
      "Test set: Average loss: 0.4652, Accuracy: 8878/10000 (88.78%)\n",
      "\n",
      "--Skipping Acc Comp For Corrupted Data--\n",
      "Global Sparsity: 76.24% \n",
      "\n",
      "---------- Pruning Iteration:  6 / 16\n"
     ]
    },
    {
     "name": "stderr",
     "output_type": "stream",
     "text": [
      "Loss=0.17619797587394714 Batch_id=19 Accuracy=89.34: 100%|██████████| 20/20 [00:27<00:00,  1.40s/it]\n",
      "Loss=0.11919132620096207 Batch_id=19 Accuracy=95.22: 100%|██████████| 20/20 [00:27<00:00,  1.40s/it]\n",
      "Loss=0.08910223096609116 Batch_id=19 Accuracy=96.88: 100%|██████████| 20/20 [00:27<00:00,  1.38s/it]\n",
      "Loss=0.06820621341466904 Batch_id=19 Accuracy=97.54: 100%|██████████| 20/20 [00:27<00:00,  1.38s/it]\n",
      "Loss=0.06451206654310226 Batch_id=19 Accuracy=97.75: 100%|██████████| 20/20 [00:27<00:00,  1.39s/it] \n",
      "Loss=0.06389041990041733 Batch_id=19 Accuracy=98.05: 100%|██████████| 20/20 [00:27<00:00,  1.39s/it]\n",
      "Loss=0.05163145810365677 Batch_id=19 Accuracy=98.09: 100%|██████████| 20/20 [00:28<00:00,  1.40s/it] \n",
      "Loss=0.056340739130973816 Batch_id=19 Accuracy=98.18: 100%|██████████| 20/20 [00:28<00:00,  1.41s/it]\n",
      "Loss=0.05727915093302727 Batch_id=19 Accuracy=98.14: 100%|██████████| 20/20 [00:28<00:00,  1.41s/it]\n",
      "Loss=0.03877295181155205 Batch_id=19 Accuracy=98.36: 100%|██████████| 20/20 [00:27<00:00,  1.40s/it] \n"
     ]
    },
    {
     "name": "stdout",
     "output_type": "stream",
     "text": [
      "Test set: Average loss: 0.4514, Accuracy: 8885/10000 (88.85%)\n",
      "\n",
      "--Testing Corruptions--\n"
     ]
    },
    {
     "name": "stderr",
     "output_type": "stream",
     "text": [
      "100%|██████████| 19/19 [04:10<00:00, 13.19s/it]\n"
     ]
    },
    {
     "name": "stdout",
     "output_type": "stream",
     "text": [
      "\n",
      "Avg Corruption Accuracy: 75.83%\n",
      "Global Sparsity: 82.17% \n",
      "\n",
      "---------- Pruning Iteration:  7 / 16\n"
     ]
    },
    {
     "name": "stderr",
     "output_type": "stream",
     "text": [
      "Loss=0.24418511986732483 Batch_id=19 Accuracy=86.67: 100%|██████████| 20/20 [00:27<00:00,  1.39s/it]\n",
      "Loss=0.16715660691261292 Batch_id=19 Accuracy=93.91: 100%|██████████| 20/20 [00:27<00:00,  1.39s/it]\n",
      "Loss=0.09725887328386307 Batch_id=19 Accuracy=95.98: 100%|██████████| 20/20 [00:27<00:00,  1.40s/it]\n",
      "Loss=0.09722261875867844 Batch_id=19 Accuracy=96.60: 100%|██████████| 20/20 [00:28<00:00,  1.41s/it]\n",
      "Loss=0.10442565381526947 Batch_id=19 Accuracy=96.96: 100%|██████████| 20/20 [00:27<00:00,  1.40s/it]\n",
      "Loss=0.0915190577507019 Batch_id=19 Accuracy=97.25: 100%|██████████| 20/20 [00:27<00:00,  1.40s/it] \n",
      "Loss=0.06695002317428589 Batch_id=19 Accuracy=97.45: 100%|██████████| 20/20 [00:28<00:00,  1.40s/it] \n",
      "Loss=0.07389026135206223 Batch_id=19 Accuracy=97.70: 100%|██████████| 20/20 [00:28<00:00,  1.41s/it]\n",
      "Loss=0.0732761025428772 Batch_id=19 Accuracy=97.87: 100%|██████████| 20/20 [00:27<00:00,  1.39s/it]  \n",
      "Loss=0.05111319199204445 Batch_id=19 Accuracy=97.87: 100%|██████████| 20/20 [00:28<00:00,  1.40s/it] \n"
     ]
    },
    {
     "name": "stdout",
     "output_type": "stream",
     "text": [
      "Test set: Average loss: 0.4186, Accuracy: 8890/10000 (88.90%)\n",
      "\n",
      "--Skipping Acc Comp For Corrupted Data--\n",
      "Global Sparsity: 86.62% \n",
      "\n",
      "---------- Pruning Iteration:  8 / 16\n"
     ]
    },
    {
     "name": "stderr",
     "output_type": "stream",
     "text": [
      "Loss=0.3044993579387665 Batch_id=19 Accuracy=81.98: 100%|██████████| 20/20 [00:28<00:00,  1.41s/it] \n",
      "Loss=0.20324364304542542 Batch_id=19 Accuracy=91.64: 100%|██████████| 20/20 [00:28<00:00,  1.42s/it]\n",
      "Loss=0.1625245064496994 Batch_id=19 Accuracy=94.56: 100%|██████████| 20/20 [00:28<00:00,  1.41s/it] \n",
      "Loss=0.12709775567054749 Batch_id=19 Accuracy=95.62: 100%|██████████| 20/20 [00:27<00:00,  1.39s/it]\n",
      "Loss=0.09279826283454895 Batch_id=19 Accuracy=96.36: 100%|██████████| 20/20 [00:27<00:00,  1.40s/it]\n",
      "Loss=0.1220778375864029 Batch_id=19 Accuracy=96.72: 100%|██████████| 20/20 [00:27<00:00,  1.38s/it] \n",
      "Loss=0.06889760494232178 Batch_id=19 Accuracy=97.00: 100%|██████████| 20/20 [00:28<00:00,  1.41s/it]\n",
      "Loss=0.08407071232795715 Batch_id=19 Accuracy=97.23: 100%|██████████| 20/20 [00:28<00:00,  1.41s/it]\n",
      "Loss=0.07020304352045059 Batch_id=19 Accuracy=97.55: 100%|██████████| 20/20 [00:27<00:00,  1.39s/it]\n",
      "Loss=0.055143244564533234 Batch_id=19 Accuracy=97.75: 100%|██████████| 20/20 [00:28<00:00,  1.41s/it]\n"
     ]
    },
    {
     "name": "stdout",
     "output_type": "stream",
     "text": [
      "Test set: Average loss: 0.4173, Accuracy: 8902/10000 (89.02%)\n",
      "\n",
      "--Testing Corruptions--\n"
     ]
    },
    {
     "name": "stderr",
     "output_type": "stream",
     "text": [
      "100%|██████████| 19/19 [04:13<00:00, 13.32s/it]\n"
     ]
    },
    {
     "name": "stdout",
     "output_type": "stream",
     "text": [
      "\n",
      "Avg Corruption Accuracy: 75.68%\n",
      "Global Sparsity: 89.96% \n",
      "\n",
      "---------- Pruning Iteration:  9 / 16\n"
     ]
    },
    {
     "name": "stderr",
     "output_type": "stream",
     "text": [
      "Loss=0.3376494348049164 Batch_id=19 Accuracy=81.30: 100%|██████████| 20/20 [00:29<00:00,  1.46s/it] \n",
      "Loss=0.2002563178539276 Batch_id=19 Accuracy=90.93: 100%|██████████| 20/20 [00:28<00:00,  1.44s/it] \n",
      "Loss=0.16915570199489594 Batch_id=19 Accuracy=93.46: 100%|██████████| 20/20 [00:28<00:00,  1.44s/it]\n",
      "Loss=0.1474224030971527 Batch_id=19 Accuracy=94.59: 100%|██████████| 20/20 [00:28<00:00,  1.43s/it] \n",
      "Loss=0.13119253516197205 Batch_id=19 Accuracy=95.45: 100%|██████████| 20/20 [00:28<00:00,  1.43s/it]\n",
      "Loss=0.11481994390487671 Batch_id=19 Accuracy=95.67: 100%|██████████| 20/20 [00:29<00:00,  1.48s/it]\n",
      "Loss=0.11619461327791214 Batch_id=19 Accuracy=96.10: 100%|██████████| 20/20 [00:28<00:00,  1.44s/it]\n",
      "Loss=0.08848188817501068 Batch_id=19 Accuracy=96.66: 100%|██████████| 20/20 [00:28<00:00,  1.44s/it]\n",
      "Loss=0.11272292584180832 Batch_id=19 Accuracy=96.62: 100%|██████████| 20/20 [00:28<00:00,  1.44s/it]\n",
      "Loss=0.10017041862010956 Batch_id=19 Accuracy=96.97: 100%|██████████| 20/20 [00:29<00:00,  1.46s/it]\n"
     ]
    },
    {
     "name": "stdout",
     "output_type": "stream",
     "text": [
      "Test set: Average loss: 0.3927, Accuracy: 8925/10000 (89.25%)\n",
      "\n",
      "--Skipping Acc Comp For Corrupted Data--\n",
      "Global Sparsity: 92.46% \n",
      "\n",
      "---------- Pruning Iteration:  10 / 16\n"
     ]
    },
    {
     "name": "stderr",
     "output_type": "stream",
     "text": [
      "Loss=0.3471023440361023 Batch_id=19 Accuracy=79.93: 100%|██████████| 20/20 [00:28<00:00,  1.44s/it] \n",
      "Loss=0.1927800178527832 Batch_id=19 Accuracy=89.99: 100%|██████████| 20/20 [00:28<00:00,  1.44s/it] \n",
      "Loss=0.20035885274410248 Batch_id=19 Accuracy=92.81: 100%|██████████| 20/20 [00:28<00:00,  1.44s/it]\n",
      "Loss=0.18031451106071472 Batch_id=19 Accuracy=94.09: 100%|██████████| 20/20 [00:29<00:00,  1.45s/it]\n",
      "Loss=0.13539066910743713 Batch_id=19 Accuracy=94.86: 100%|██████████| 20/20 [00:28<00:00,  1.44s/it]\n",
      "Loss=0.14315535128116608 Batch_id=19 Accuracy=95.31: 100%|██████████| 20/20 [00:29<00:00,  1.45s/it]\n",
      "Loss=0.11826091259717941 Batch_id=19 Accuracy=95.74: 100%|██████████| 20/20 [00:28<00:00,  1.45s/it]\n",
      "Loss=0.10236171633005142 Batch_id=19 Accuracy=96.18: 100%|██████████| 20/20 [00:28<00:00,  1.44s/it]\n",
      "Loss=0.10846774280071259 Batch_id=19 Accuracy=96.27: 100%|██████████| 20/20 [00:29<00:00,  1.46s/it]\n",
      "Loss=0.10693711787462234 Batch_id=19 Accuracy=96.43: 100%|██████████| 20/20 [00:28<00:00,  1.44s/it]\n"
     ]
    },
    {
     "name": "stdout",
     "output_type": "stream",
     "text": [
      "Test set: Average loss: 0.4005, Accuracy: 8856/10000 (88.56%)\n",
      "\n",
      "--Testing Corruptions--\n"
     ]
    },
    {
     "name": "stderr",
     "output_type": "stream",
     "text": [
      "100%|██████████| 19/19 [04:20<00:00, 13.70s/it]\n"
     ]
    },
    {
     "name": "stdout",
     "output_type": "stream",
     "text": [
      "\n",
      "Avg Corruption Accuracy: 75.60%\n",
      "Global Sparsity: 94.34% \n",
      "\n",
      "---------- Pruning Iteration:  11 / 16\n"
     ]
    },
    {
     "name": "stderr",
     "output_type": "stream",
     "text": [
      "Loss=0.3192112445831299 Batch_id=19 Accuracy=82.27: 100%|██████████| 20/20 [00:28<00:00,  1.44s/it] \n",
      "Loss=0.20774535834789276 Batch_id=19 Accuracy=90.69: 100%|██████████| 20/20 [00:28<00:00,  1.40s/it]\n",
      "Loss=0.1804058998823166 Batch_id=19 Accuracy=92.83: 100%|██████████| 20/20 [00:28<00:00,  1.41s/it] \n",
      "Loss=0.17205993831157684 Batch_id=19 Accuracy=94.07: 100%|██████████| 20/20 [00:28<00:00,  1.41s/it]\n",
      "Loss=0.14937637746334076 Batch_id=19 Accuracy=94.66: 100%|██████████| 20/20 [00:28<00:00,  1.41s/it]\n",
      "Loss=0.14033560454845428 Batch_id=19 Accuracy=95.04: 100%|██████████| 20/20 [00:28<00:00,  1.41s/it]\n",
      "Loss=0.13478851318359375 Batch_id=19 Accuracy=95.43: 100%|██████████| 20/20 [00:28<00:00,  1.40s/it]\n",
      "Loss=0.13984468579292297 Batch_id=19 Accuracy=95.70: 100%|██████████| 20/20 [00:28<00:00,  1.41s/it]\n",
      "Loss=0.1063600555062294 Batch_id=19 Accuracy=95.99: 100%|██████████| 20/20 [00:28<00:00,  1.41s/it] \n",
      "Loss=0.11183778196573257 Batch_id=19 Accuracy=96.05: 100%|██████████| 20/20 [00:28<00:00,  1.41s/it]\n"
     ]
    },
    {
     "name": "stdout",
     "output_type": "stream",
     "text": [
      "Test set: Average loss: 0.3898, Accuracy: 8871/10000 (88.71%)\n",
      "\n",
      "--Skipping Acc Comp For Corrupted Data--\n",
      "Global Sparsity: 95.74% \n",
      "\n",
      "---------- Pruning Iteration:  12 / 16\n"
     ]
    },
    {
     "name": "stderr",
     "output_type": "stream",
     "text": [
      "Loss=0.3629879355430603 Batch_id=19 Accuracy=80.79: 100%|██████████| 20/20 [00:28<00:00,  1.41s/it] \n",
      "Loss=0.2667120099067688 Batch_id=19 Accuracy=89.67: 100%|██████████| 20/20 [00:28<00:00,  1.41s/it] \n",
      "Loss=0.216896191239357 Batch_id=19 Accuracy=92.26: 100%|██████████| 20/20 [00:28<00:00,  1.40s/it]  \n",
      "Loss=0.17146381735801697 Batch_id=19 Accuracy=93.39: 100%|██████████| 20/20 [00:27<00:00,  1.39s/it]\n",
      "Loss=0.17226608097553253 Batch_id=19 Accuracy=93.83: 100%|██████████| 20/20 [00:27<00:00,  1.39s/it]\n",
      "Loss=0.17193208634853363 Batch_id=19 Accuracy=94.47: 100%|██████████| 20/20 [00:28<00:00,  1.41s/it]\n",
      "Loss=0.12142516672611237 Batch_id=19 Accuracy=94.76: 100%|██████████| 20/20 [00:28<00:00,  1.40s/it]\n",
      "Loss=0.1271798014640808 Batch_id=19 Accuracy=95.05: 100%|██████████| 20/20 [00:28<00:00,  1.41s/it] \n",
      "Loss=0.1251484751701355 Batch_id=19 Accuracy=95.35: 100%|██████████| 20/20 [00:28<00:00,  1.41s/it] \n",
      "Loss=0.13314998149871826 Batch_id=19 Accuracy=95.42: 100%|██████████| 20/20 [00:28<00:00,  1.41s/it]"
     ]
    },
    {
     "name": "stdout",
     "output_type": "stream",
     "text": [
      "Epoch 00010: reducing learning rate of group 0 to 5.0000e-04.\n"
     ]
    },
    {
     "name": "stderr",
     "output_type": "stream",
     "text": [
      "\n"
     ]
    },
    {
     "name": "stdout",
     "output_type": "stream",
     "text": [
      "Test set: Average loss: 0.3825, Accuracy: 8884/10000 (88.84%)\n",
      "\n",
      "--Skipping Acc Comp For Corrupted Data--\n",
      "Global Sparsity: 96.80% \n",
      "\n",
      "---------- Pruning Iteration:  13 / 16\n"
     ]
    },
    {
     "name": "stderr",
     "output_type": "stream",
     "text": [
      "Loss=0.34587469696998596 Batch_id=19 Accuracy=81.70: 100%|██████████| 20/20 [00:28<00:00,  1.41s/it]\n",
      "Loss=0.2729119658470154 Batch_id=19 Accuracy=89.51: 100%|██████████| 20/20 [00:28<00:00,  1.41s/it] \n",
      "Loss=0.21957814693450928 Batch_id=19 Accuracy=91.74: 100%|██████████| 20/20 [00:27<00:00,  1.40s/it]\n",
      "Loss=0.19414423406124115 Batch_id=19 Accuracy=92.68: 100%|██████████| 20/20 [00:28<00:00,  1.41s/it]\n",
      "Loss=0.17776286602020264 Batch_id=19 Accuracy=93.27: 100%|██████████| 20/20 [00:28<00:00,  1.41s/it]\n",
      "Loss=0.16323736310005188 Batch_id=19 Accuracy=93.82: 100%|██████████| 20/20 [00:28<00:00,  1.41s/it]\n",
      "Loss=0.17410321533679962 Batch_id=19 Accuracy=94.28: 100%|██████████| 20/20 [00:28<00:00,  1.41s/it]\n",
      "Loss=0.2039433717727661 Batch_id=19 Accuracy=94.31: 100%|██████████| 20/20 [00:28<00:00,  1.41s/it] \n",
      "Loss=0.1591818630695343 Batch_id=19 Accuracy=94.64: 100%|██████████| 20/20 [00:28<00:00,  1.41s/it] \n",
      "Loss=0.1335912048816681 Batch_id=19 Accuracy=95.05: 100%|██████████| 20/20 [00:28<00:00,  1.41s/it] \n"
     ]
    },
    {
     "name": "stdout",
     "output_type": "stream",
     "text": [
      "Test set: Average loss: 0.3940, Accuracy: 8833/10000 (88.33%)\n",
      "\n",
      "--Skipping Acc Comp For Corrupted Data--\n",
      "Global Sparsity: 97.59% \n",
      "\n",
      "---------- Pruning Iteration:  14 / 16\n"
     ]
    },
    {
     "name": "stderr",
     "output_type": "stream",
     "text": [
      "Loss=0.3743804395198822 Batch_id=19 Accuracy=80.82: 100%|██████████| 20/20 [00:28<00:00,  1.41s/it] \n",
      "Loss=0.2914041578769684 Batch_id=19 Accuracy=89.04: 100%|██████████| 20/20 [00:28<00:00,  1.42s/it] \n",
      "Loss=0.23836968839168549 Batch_id=19 Accuracy=91.05: 100%|██████████| 20/20 [00:28<00:00,  1.41s/it]\n",
      "Loss=0.23303964734077454 Batch_id=19 Accuracy=92.06: 100%|██████████| 20/20 [00:28<00:00,  1.41s/it]\n",
      "Loss=0.20564989745616913 Batch_id=19 Accuracy=92.81: 100%|██████████| 20/20 [00:28<00:00,  1.41s/it]\n",
      "Loss=0.20383507013320923 Batch_id=19 Accuracy=93.07: 100%|██████████| 20/20 [00:28<00:00,  1.41s/it]\n",
      "Loss=0.15824320912361145 Batch_id=19 Accuracy=93.51: 100%|██████████| 20/20 [00:28<00:00,  1.41s/it]\n",
      "Loss=0.1932600736618042 Batch_id=19 Accuracy=93.86: 100%|██████████| 20/20 [00:28<00:00,  1.41s/it] \n",
      "Loss=0.16799719631671906 Batch_id=19 Accuracy=93.93: 100%|██████████| 20/20 [00:28<00:00,  1.42s/it]\n",
      "Loss=0.14839820563793182 Batch_id=19 Accuracy=94.25: 100%|██████████| 20/20 [00:29<00:00,  1.45s/it]\n"
     ]
    },
    {
     "name": "stdout",
     "output_type": "stream",
     "text": [
      "Test set: Average loss: 0.3931, Accuracy: 8811/10000 (88.11%)\n",
      "\n",
      "--Skipping Acc Comp For Corrupted Data--\n",
      "Global Sparsity: 98.18% \n",
      "\n",
      "---------- Pruning Iteration:  15 / 16\n"
     ]
    },
    {
     "name": "stderr",
     "output_type": "stream",
     "text": [
      "Loss=0.3568309545516968 Batch_id=19 Accuracy=80.54: 100%|██████████| 20/20 [00:28<00:00,  1.41s/it] \n",
      "Loss=0.3191453814506531 Batch_id=19 Accuracy=88.15: 100%|██████████| 20/20 [00:28<00:00,  1.41s/it] \n",
      "Loss=0.2686082422733307 Batch_id=19 Accuracy=90.41: 100%|██████████| 20/20 [00:28<00:00,  1.41s/it] \n",
      "Loss=0.20990973711013794 Batch_id=19 Accuracy=91.17: 100%|██████████| 20/20 [00:28<00:00,  1.41s/it]\n",
      "Loss=0.2023797631263733 Batch_id=19 Accuracy=91.94: 100%|██████████| 20/20 [00:28<00:00,  1.41s/it] \n",
      "Loss=0.21638719737529755 Batch_id=19 Accuracy=92.20: 100%|██████████| 20/20 [00:28<00:00,  1.41s/it]\n",
      "Loss=0.21236738562583923 Batch_id=19 Accuracy=92.57: 100%|██████████| 20/20 [00:28<00:00,  1.42s/it]\n",
      "Loss=0.1998017430305481 Batch_id=19 Accuracy=92.82: 100%|██████████| 20/20 [00:28<00:00,  1.41s/it] \n",
      "Loss=0.19418995082378387 Batch_id=19 Accuracy=93.23: 100%|██████████| 20/20 [00:28<00:00,  1.41s/it]\n",
      "Loss=0.19798503816127777 Batch_id=19 Accuracy=93.41: 100%|██████████| 20/20 [00:28<00:00,  1.41s/it]\n"
     ]
    },
    {
     "name": "stdout",
     "output_type": "stream",
     "text": [
      "Test set: Average loss: 0.3866, Accuracy: 8819/10000 (88.19%)\n",
      "\n",
      "--Skipping Acc Comp For Corrupted Data--\n",
      "Global Sparsity: 98.63% \n",
      "\n",
      "---------- Pruning Iteration:  16 / 16\n"
     ]
    },
    {
     "name": "stderr",
     "output_type": "stream",
     "text": [
      "Loss=0.4156439006328583 Batch_id=19 Accuracy=79.91: 100%|██████████| 20/20 [00:28<00:00,  1.41s/it] \n",
      "Loss=0.3150920569896698 Batch_id=19 Accuracy=87.66: 100%|██████████| 20/20 [00:28<00:00,  1.40s/it] \n",
      "Loss=0.29560568928718567 Batch_id=19 Accuracy=89.63: 100%|██████████| 20/20 [00:28<00:00,  1.41s/it]\n",
      "Loss=0.25731027126312256 Batch_id=19 Accuracy=90.34: 100%|██████████| 20/20 [00:28<00:00,  1.41s/it]\n",
      "Loss=0.23872922360897064 Batch_id=19 Accuracy=91.01: 100%|██████████| 20/20 [00:28<00:00,  1.42s/it]\n",
      "Loss=0.24207422137260437 Batch_id=19 Accuracy=91.35: 100%|██████████| 20/20 [00:28<00:00,  1.42s/it]\n",
      "Loss=0.24166671931743622 Batch_id=19 Accuracy=91.55: 100%|██████████| 20/20 [00:28<00:00,  1.42s/it]\n",
      "Loss=0.2973802983760834 Batch_id=19 Accuracy=91.75: 100%|██████████| 20/20 [00:28<00:00,  1.41s/it] \n"
     ]
    },
    {
     "name": "stdout",
     "output_type": "stream",
     "text": [
      "Epoch 00008: reducing learning rate of group 0 to 5.0000e-04.\n"
     ]
    },
    {
     "name": "stderr",
     "output_type": "stream",
     "text": [
      "Loss=0.18160022795200348 Batch_id=19 Accuracy=92.24: 100%|██████████| 20/20 [00:28<00:00,  1.41s/it]\n",
      "Loss=0.20788158476352692 Batch_id=19 Accuracy=92.35: 100%|██████████| 20/20 [00:28<00:00,  1.41s/it]\n"
     ]
    },
    {
     "name": "stdout",
     "output_type": "stream",
     "text": [
      "Test set: Average loss: 0.3847, Accuracy: 8786/10000 (87.86%)\n",
      "\n",
      "--Testing Corruptions--\n"
     ]
    },
    {
     "name": "stderr",
     "output_type": "stream",
     "text": [
      "100%|██████████| 19/19 [04:30<00:00, 14.23s/it]"
     ]
    },
    {
     "name": "stdout",
     "output_type": "stream",
     "text": [
      "\n",
      "Avg Corruption Accuracy: 73.10%\n",
      "Global Sparsity: 98.96% \n",
      "\n"
     ]
    },
    {
     "name": "stderr",
     "output_type": "stream",
     "text": [
      "\n"
     ]
    }
   ],
   "source": [
    "#VGG16\n",
    "model=copy.deepcopy(VGG16_CIFAR10_0P)\n",
    "TrainLoader=trainloader_CIFAR10\n",
    "TestLoader=testloader_CIFAR10\n",
    "TestCLoader=loader_CIFAR10C\n",
    "PruningRate=0.25\n",
    "NumEpochsEachPruneRetrain=10\n",
    "MaximumPruneLevel=0.01\n",
    "lambda_l1=0\n",
    "lambda_l2=0.0005\n",
    "\n",
    "SaveTrainStepsName=\"Progress/PruningIterations_VGG16_CIFAR_025PR_10Epochs_L2_0005\"\n",
    "\n",
    "\n",
    "ReadMe=\"This model is running pruning with the standard cost function, and the non corrupted dataset, a prunning rate of 0.25 and 10 epoch of retraining\\\n",
    "L2 Regularization of 0.0005 is used\\n\\nOriginal Model: VGG16 Trained with CIFAR10 Dataset\"\n",
    "\n",
    "test_acc, Avg_Corrup_Acc_List, Acc_Corruptions, RemainingWeights_List, Sparcity_List=iterative_pruning(model,device, TrainLoader, TestLoader, TestCLoader, PruningRate, SaveTrainStepsName,ReadMe,\n",
    "                                                                                                        lambda_l1, lambda_l2, NumEpochsEachPruneRetrain,MaximumPruneLevel)"
   ]
  },
  {
   "cell_type": "code",
   "execution_count": 10,
   "metadata": {},
   "outputs": [
    {
     "name": "stdout",
     "output_type": "stream",
     "text": [
      "--Get statistics before pruning--\n",
      "Train set: Average loss: 0.1313, Accuracy: 47750/50000 (95.50%)\n",
      "Test set: Average loss: 0.3662, Accuracy: 8909/10000 (89.09%)\n",
      "\n",
      "--Testing Corruptions--\n"
     ]
    },
    {
     "name": "stderr",
     "output_type": "stream",
     "text": [
      "100%|██████████| 19/19 [04:17<00:00, 13.58s/it]\n"
     ]
    },
    {
     "name": "stdout",
     "output_type": "stream",
     "text": [
      "\n",
      "Avg Corruption Accuracy: 75.97%\n",
      "---------- Pruning Iteration:  1 / 44\n"
     ]
    },
    {
     "name": "stderr",
     "output_type": "stream",
     "text": [
      "Loss=0.12203482538461685 Batch_id=19 Accuracy=95.56: 100%|██████████| 20/20 [00:28<00:00,  1.42s/it]\n",
      "Loss=0.1117924153804779 Batch_id=19 Accuracy=95.64: 100%|██████████| 20/20 [00:28<00:00,  1.42s/it] \n",
      "Loss=0.12510855495929718 Batch_id=19 Accuracy=95.83: 100%|██████████| 20/20 [00:28<00:00,  1.43s/it]\n",
      "Loss=0.1111983135342598 Batch_id=19 Accuracy=95.98: 100%|██████████| 20/20 [00:28<00:00,  1.43s/it] \n",
      "Loss=0.10918089002370834 Batch_id=19 Accuracy=96.21: 100%|██████████| 20/20 [00:28<00:00,  1.43s/it]\n",
      "Loss=0.11554793268442154 Batch_id=19 Accuracy=96.40: 100%|██████████| 20/20 [00:28<00:00,  1.42s/it]\n",
      "Loss=0.10601162910461426 Batch_id=19 Accuracy=96.55: 100%|██████████| 20/20 [00:28<00:00,  1.42s/it]\n",
      "Loss=0.08023855835199356 Batch_id=19 Accuracy=96.64: 100%|██████████| 20/20 [00:28<00:00,  1.42s/it]\n",
      "Loss=0.09962417185306549 Batch_id=19 Accuracy=96.88: 100%|██████████| 20/20 [00:28<00:00,  1.42s/it]\n",
      "Loss=0.07574021071195602 Batch_id=19 Accuracy=97.03: 100%|██████████| 20/20 [00:28<00:00,  1.42s/it]\n"
     ]
    },
    {
     "name": "stdout",
     "output_type": "stream",
     "text": [
      "Test set: Average loss: 0.4055, Accuracy: 8902/10000 (89.02%)\n",
      "\n",
      "--Testing Corruptions--\n"
     ]
    },
    {
     "name": "stderr",
     "output_type": "stream",
     "text": [
      "100%|██████████| 19/19 [04:22<00:00, 13.81s/it]\n"
     ]
    },
    {
     "name": "stdout",
     "output_type": "stream",
     "text": [
      "\n",
      "Avg Corruption Accuracy: 75.75%\n",
      "Global Sparsity: 10.00% \n",
      "\n",
      "---------- Pruning Iteration:  2 / 44\n"
     ]
    },
    {
     "name": "stderr",
     "output_type": "stream",
     "text": [
      "Loss=0.09557643532752991 Batch_id=19 Accuracy=97.29: 100%|██████████| 20/20 [00:28<00:00,  1.42s/it] \n",
      "Loss=0.08065187931060791 Batch_id=19 Accuracy=97.42: 100%|██████████| 20/20 [00:28<00:00,  1.43s/it]\n",
      "Loss=0.07060326635837555 Batch_id=19 Accuracy=97.48: 100%|██████████| 20/20 [00:28<00:00,  1.42s/it]\n",
      "Loss=0.07034247368574142 Batch_id=19 Accuracy=97.65: 100%|██████████| 20/20 [00:28<00:00,  1.43s/it] \n",
      "Loss=0.06718466430902481 Batch_id=19 Accuracy=97.63: 100%|██████████| 20/20 [00:28<00:00,  1.44s/it]\n",
      "Loss=0.052652083337306976 Batch_id=19 Accuracy=97.67: 100%|██████████| 20/20 [00:28<00:00,  1.44s/it]\n",
      "Loss=0.07575268298387527 Batch_id=19 Accuracy=97.81: 100%|██████████| 20/20 [00:28<00:00,  1.43s/it]\n",
      "Loss=0.07529230415821075 Batch_id=19 Accuracy=97.90: 100%|██████████| 20/20 [00:28<00:00,  1.43s/it] \n",
      "Loss=0.06129636615514755 Batch_id=19 Accuracy=98.02: 100%|██████████| 20/20 [00:28<00:00,  1.43s/it] \n"
     ]
    },
    {
     "name": "stdout",
     "output_type": "stream",
     "text": [
      "Epoch 00009: reducing learning rate of group 0 to 5.0000e-04.\n"
     ]
    },
    {
     "name": "stderr",
     "output_type": "stream",
     "text": [
      "Loss=0.05056329071521759 Batch_id=19 Accuracy=98.12: 100%|██████████| 20/20 [00:28<00:00,  1.43s/it] \n"
     ]
    },
    {
     "name": "stdout",
     "output_type": "stream",
     "text": [
      "Test set: Average loss: 0.4400, Accuracy: 8927/10000 (89.27%)\n",
      "\n",
      "--Testing Corruptions--\n"
     ]
    },
    {
     "name": "stderr",
     "output_type": "stream",
     "text": [
      "100%|██████████| 19/19 [04:24<00:00, 13.94s/it]\n"
     ]
    },
    {
     "name": "stdout",
     "output_type": "stream",
     "text": [
      "\n",
      "Avg Corruption Accuracy: 75.82%\n",
      "Global Sparsity: 18.99% \n",
      "\n",
      "---------- Pruning Iteration:  3 / 44\n"
     ]
    },
    {
     "name": "stderr",
     "output_type": "stream",
     "text": [
      "Loss=0.06568685919046402 Batch_id=19 Accuracy=98.03: 100%|██████████| 20/20 [00:30<00:00,  1.51s/it] \n",
      "Loss=0.05123930051922798 Batch_id=19 Accuracy=98.28: 100%|██████████| 20/20 [00:30<00:00,  1.50s/it] \n",
      "Loss=0.05263219028711319 Batch_id=19 Accuracy=98.23: 100%|██████████| 20/20 [00:28<00:00,  1.43s/it] \n",
      "Loss=0.037346530705690384 Batch_id=19 Accuracy=98.25: 100%|██████████| 20/20 [00:28<00:00,  1.44s/it]\n",
      "Loss=0.06405271589756012 Batch_id=19 Accuracy=98.21: 100%|██████████| 20/20 [00:28<00:00,  1.44s/it] \n",
      "Loss=0.05308496952056885 Batch_id=19 Accuracy=98.38: 100%|██████████| 20/20 [00:28<00:00,  1.44s/it] \n",
      "Loss=0.031839609146118164 Batch_id=19 Accuracy=98.45: 100%|██████████| 20/20 [00:28<00:00,  1.44s/it]\n",
      "Loss=0.04102499783039093 Batch_id=19 Accuracy=98.54: 100%|██████████| 20/20 [00:28<00:00,  1.44s/it] \n",
      "Loss=0.043973974883556366 Batch_id=19 Accuracy=98.57: 100%|██████████| 20/20 [00:28<00:00,  1.44s/it]\n",
      "Loss=0.04406633973121643 Batch_id=19 Accuracy=98.62: 100%|██████████| 20/20 [00:28<00:00,  1.44s/it] "
     ]
    },
    {
     "name": "stdout",
     "output_type": "stream",
     "text": [
      "Epoch 00010: reducing learning rate of group 0 to 5.0000e-04.\n"
     ]
    },
    {
     "name": "stderr",
     "output_type": "stream",
     "text": [
      "\n"
     ]
    },
    {
     "name": "stdout",
     "output_type": "stream",
     "text": [
      "Test set: Average loss: 0.4778, Accuracy: 8885/10000 (88.85%)\n",
      "\n",
      "--Testing Corruptions--\n"
     ]
    },
    {
     "name": "stderr",
     "output_type": "stream",
     "text": [
      "100%|██████████| 19/19 [04:40<00:00, 14.76s/it]\n"
     ]
    },
    {
     "name": "stdout",
     "output_type": "stream",
     "text": [
      "\n",
      "Avg Corruption Accuracy: 75.36%\n",
      "Global Sparsity: 27.09% \n",
      "\n",
      "---------- Pruning Iteration:  4 / 44\n"
     ]
    },
    {
     "name": "stderr",
     "output_type": "stream",
     "text": [
      "Loss=0.04607303813099861 Batch_id=19 Accuracy=98.58: 100%|██████████| 20/20 [00:28<00:00,  1.43s/it] \n",
      "Loss=0.04527689889073372 Batch_id=19 Accuracy=98.64: 100%|██████████| 20/20 [00:28<00:00,  1.45s/it] \n",
      "Loss=0.047281596809625626 Batch_id=19 Accuracy=98.71: 100%|██████████| 20/20 [00:28<00:00,  1.44s/it]\n",
      "Loss=0.035216134041547775 Batch_id=19 Accuracy=98.69: 100%|██████████| 20/20 [00:29<00:00,  1.45s/it]\n",
      "Loss=0.031194021925330162 Batch_id=19 Accuracy=98.77: 100%|██████████| 20/20 [00:28<00:00,  1.45s/it]\n",
      "Loss=0.04224839061498642 Batch_id=19 Accuracy=98.82: 100%|██████████| 20/20 [00:28<00:00,  1.44s/it] \n",
      "Loss=0.03344669193029404 Batch_id=19 Accuracy=98.89: 100%|██████████| 20/20 [00:28<00:00,  1.43s/it] \n",
      "Loss=0.02819523774087429 Batch_id=19 Accuracy=98.75: 100%|██████████| 20/20 [00:28<00:00,  1.44s/it]\n",
      "Loss=0.03918984904885292 Batch_id=19 Accuracy=98.94: 100%|██████████| 20/20 [00:28<00:00,  1.44s/it] \n",
      "Loss=0.0331745482981205 Batch_id=19 Accuracy=98.93: 100%|██████████| 20/20 [00:28<00:00,  1.45s/it]  \n"
     ]
    },
    {
     "name": "stdout",
     "output_type": "stream",
     "text": [
      "Test set: Average loss: 0.5093, Accuracy: 8876/10000 (88.76%)\n",
      "\n",
      "--Skipping Acc Comp For Corrupted Data--\n",
      "Global Sparsity: 34.38% \n",
      "\n",
      "---------- Pruning Iteration:  5 / 44\n"
     ]
    },
    {
     "name": "stderr",
     "output_type": "stream",
     "text": [
      "Loss=0.041000474244356155 Batch_id=19 Accuracy=98.51: 100%|██████████| 20/20 [00:28<00:00,  1.44s/it]\n",
      "Loss=0.03725259378552437 Batch_id=19 Accuracy=98.74: 100%|██████████| 20/20 [00:28<00:00,  1.44s/it] \n",
      "Loss=0.02733675204217434 Batch_id=19 Accuracy=98.86: 100%|██████████| 20/20 [00:28<00:00,  1.45s/it] \n",
      "Loss=0.024563567712903023 Batch_id=19 Accuracy=98.88: 100%|██████████| 20/20 [00:28<00:00,  1.45s/it]\n",
      "Loss=0.03178414702415466 Batch_id=19 Accuracy=98.95: 100%|██████████| 20/20 [00:28<00:00,  1.44s/it] \n",
      "Loss=0.03189447522163391 Batch_id=19 Accuracy=98.96: 100%|██████████| 20/20 [00:28<00:00,  1.44s/it] \n",
      "Loss=0.021174656227231026 Batch_id=19 Accuracy=99.05: 100%|██████████| 20/20 [00:28<00:00,  1.44s/it]\n",
      "Loss=0.031201401725411415 Batch_id=19 Accuracy=99.08: 100%|██████████| 20/20 [00:28<00:00,  1.44s/it]\n",
      "Loss=0.027454359456896782 Batch_id=19 Accuracy=99.04: 100%|██████████| 20/20 [00:28<00:00,  1.45s/it]\n",
      "Loss=0.04932039603590965 Batch_id=19 Accuracy=99.13: 100%|██████████| 20/20 [00:28<00:00,  1.45s/it] "
     ]
    },
    {
     "name": "stdout",
     "output_type": "stream",
     "text": [
      "Epoch 00010: reducing learning rate of group 0 to 5.0000e-04.\n"
     ]
    },
    {
     "name": "stderr",
     "output_type": "stream",
     "text": [
      "\n"
     ]
    },
    {
     "name": "stdout",
     "output_type": "stream",
     "text": [
      "Test set: Average loss: 0.5190, Accuracy: 8877/10000 (88.77%)\n",
      "\n",
      "--Testing Corruptions--\n"
     ]
    },
    {
     "name": "stderr",
     "output_type": "stream",
     "text": [
      "100%|██████████| 19/19 [04:27<00:00, 14.07s/it]\n"
     ]
    },
    {
     "name": "stdout",
     "output_type": "stream",
     "text": [
      "\n",
      "Avg Corruption Accuracy: 76.68%\n",
      "Global Sparsity: 40.94% \n",
      "\n",
      "---------- Pruning Iteration:  6 / 44\n"
     ]
    },
    {
     "name": "stderr",
     "output_type": "stream",
     "text": [
      "Loss=0.0566275380551815 Batch_id=19 Accuracy=98.60: 100%|██████████| 20/20 [00:28<00:00,  1.44s/it]  \n",
      "Loss=0.034133557230234146 Batch_id=19 Accuracy=98.94: 100%|██████████| 20/20 [00:29<00:00,  1.45s/it]\n",
      "Loss=0.031716179102659225 Batch_id=19 Accuracy=98.98: 100%|██████████| 20/20 [00:29<00:00,  1.45s/it]\n",
      "Loss=0.026014255359768867 Batch_id=19 Accuracy=99.00: 100%|██████████| 20/20 [00:29<00:00,  1.45s/it]\n",
      "Loss=0.018783407285809517 Batch_id=19 Accuracy=99.09: 100%|██████████| 20/20 [00:28<00:00,  1.45s/it]\n",
      "Loss=0.026236973702907562 Batch_id=19 Accuracy=99.21: 100%|██████████| 20/20 [00:28<00:00,  1.44s/it]\n",
      "Loss=0.02190025895833969 Batch_id=19 Accuracy=99.15: 100%|██████████| 20/20 [00:28<00:00,  1.44s/it] \n",
      "Loss=0.03809463977813721 Batch_id=19 Accuracy=99.22: 100%|██████████| 20/20 [00:28<00:00,  1.44s/it] \n"
     ]
    },
    {
     "name": "stdout",
     "output_type": "stream",
     "text": [
      "Epoch 00008: reducing learning rate of group 0 to 5.0000e-04.\n"
     ]
    },
    {
     "name": "stderr",
     "output_type": "stream",
     "text": [
      "Loss=0.017907047644257545 Batch_id=19 Accuracy=99.24: 100%|██████████| 20/20 [00:28<00:00,  1.45s/it]\n",
      "Loss=0.02370591089129448 Batch_id=19 Accuracy=99.35: 100%|██████████| 20/20 [00:29<00:00,  1.45s/it] \n"
     ]
    },
    {
     "name": "stdout",
     "output_type": "stream",
     "text": [
      "Test set: Average loss: 0.5076, Accuracy: 8932/10000 (89.32%)\n",
      "\n",
      "--Skipping Acc Comp For Corrupted Data--\n",
      "Global Sparsity: 46.84% \n",
      "\n",
      "---------- Pruning Iteration:  7 / 44\n"
     ]
    },
    {
     "name": "stderr",
     "output_type": "stream",
     "text": [
      "Loss=0.026859376579523087 Batch_id=19 Accuracy=98.66: 100%|██████████| 20/20 [00:29<00:00,  1.46s/it]\n",
      "Loss=0.025128696113824844 Batch_id=19 Accuracy=99.02: 100%|██████████| 20/20 [00:29<00:00,  1.45s/it]\n",
      "Loss=0.026994800195097923 Batch_id=19 Accuracy=99.03: 100%|██████████| 20/20 [00:29<00:00,  1.45s/it]\n",
      "Loss=0.023233750835061073 Batch_id=19 Accuracy=99.17: 100%|██████████| 20/20 [00:28<00:00,  1.45s/it]\n",
      "Loss=0.028287675231695175 Batch_id=19 Accuracy=99.13: 100%|██████████| 20/20 [00:28<00:00,  1.44s/it]\n",
      "Loss=0.02671295404434204 Batch_id=19 Accuracy=99.15: 100%|██████████| 20/20 [00:28<00:00,  1.44s/it] \n",
      "Loss=0.03062383644282818 Batch_id=19 Accuracy=99.20: 100%|██████████| 20/20 [00:28<00:00,  1.45s/it] \n"
     ]
    },
    {
     "name": "stdout",
     "output_type": "stream",
     "text": [
      "Epoch 00007: reducing learning rate of group 0 to 5.0000e-04.\n"
     ]
    },
    {
     "name": "stderr",
     "output_type": "stream",
     "text": [
      "Loss=0.018726835027337074 Batch_id=19 Accuracy=99.28: 100%|██████████| 20/20 [00:28<00:00,  1.45s/it]\n",
      "Loss=0.01490989699959755 Batch_id=19 Accuracy=99.28: 100%|██████████| 20/20 [00:29<00:00,  1.46s/it] \n",
      "Loss=0.02168455347418785 Batch_id=19 Accuracy=99.41: 100%|██████████| 20/20 [00:29<00:00,  1.46s/it] \n"
     ]
    },
    {
     "name": "stdout",
     "output_type": "stream",
     "text": [
      "Test set: Average loss: 0.5136, Accuracy: 8918/10000 (89.18%)\n",
      "\n",
      "--Testing Corruptions--\n"
     ]
    },
    {
     "name": "stderr",
     "output_type": "stream",
     "text": [
      "100%|██████████| 19/19 [04:29<00:00, 14.18s/it]\n"
     ]
    },
    {
     "name": "stdout",
     "output_type": "stream",
     "text": [
      "\n",
      "Avg Corruption Accuracy: 76.58%\n",
      "Global Sparsity: 52.15% \n",
      "\n",
      "---------- Pruning Iteration:  8 / 44\n"
     ]
    },
    {
     "name": "stderr",
     "output_type": "stream",
     "text": [
      "Loss=0.052507780492305756 Batch_id=19 Accuracy=98.55: 100%|██████████| 20/20 [00:29<00:00,  1.46s/it]\n",
      "Loss=0.03238781914114952 Batch_id=19 Accuracy=98.93: 100%|██████████| 20/20 [00:29<00:00,  1.46s/it] \n",
      "Loss=0.019691968336701393 Batch_id=19 Accuracy=99.03: 100%|██████████| 20/20 [00:29<00:00,  1.45s/it]\n",
      "Loss=0.020557979121804237 Batch_id=19 Accuracy=99.19: 100%|██████████| 20/20 [00:29<00:00,  1.46s/it]\n",
      "Loss=0.01997547782957554 Batch_id=19 Accuracy=99.23: 100%|██████████| 20/20 [00:29<00:00,  1.45s/it] \n",
      "Loss=0.036488503217697144 Batch_id=19 Accuracy=99.28: 100%|██████████| 20/20 [00:28<00:00,  1.45s/it]\n"
     ]
    },
    {
     "name": "stdout",
     "output_type": "stream",
     "text": [
      "Epoch 00006: reducing learning rate of group 0 to 5.0000e-04.\n"
     ]
    },
    {
     "name": "stderr",
     "output_type": "stream",
     "text": [
      "Loss=0.025819269940257072 Batch_id=19 Accuracy=99.23: 100%|██████████| 20/20 [00:28<00:00,  1.45s/it]\n",
      "Loss=0.013972542248666286 Batch_id=19 Accuracy=99.34: 100%|██████████| 20/20 [00:29<00:00,  1.46s/it]\n",
      "Loss=0.017271054908633232 Batch_id=19 Accuracy=99.39: 100%|██████████| 20/20 [00:29<00:00,  1.46s/it]\n",
      "Loss=0.020715324208140373 Batch_id=19 Accuracy=99.42: 100%|██████████| 20/20 [00:29<00:00,  1.46s/it]\n"
     ]
    },
    {
     "name": "stdout",
     "output_type": "stream",
     "text": [
      "Test set: Average loss: 0.5229, Accuracy: 8902/10000 (89.02%)\n",
      "\n",
      "--Skipping Acc Comp For Corrupted Data--\n",
      "Global Sparsity: 56.93% \n",
      "\n",
      "---------- Pruning Iteration:  9 / 44\n"
     ]
    },
    {
     "name": "stderr",
     "output_type": "stream",
     "text": [
      "Loss=0.0455545149743557 Batch_id=19 Accuracy=98.22: 100%|██████████| 20/20 [00:29<00:00,  1.45s/it]  \n",
      "Loss=0.0357186421751976 Batch_id=19 Accuracy=98.87: 100%|██████████| 20/20 [00:28<00:00,  1.45s/it]  \n",
      "Loss=0.02986578457057476 Batch_id=19 Accuracy=99.12: 100%|██████████| 20/20 [00:29<00:00,  1.45s/it] \n",
      "Loss=0.020262105390429497 Batch_id=19 Accuracy=99.18: 100%|██████████| 20/20 [00:29<00:00,  1.45s/it]\n",
      "Loss=0.028246933594346046 Batch_id=19 Accuracy=99.22: 100%|██████████| 20/20 [00:28<00:00,  1.45s/it]\n",
      "Loss=0.027776602655649185 Batch_id=19 Accuracy=99.27: 100%|██████████| 20/20 [00:29<00:00,  1.45s/it]\n",
      "Loss=0.01727508381009102 Batch_id=19 Accuracy=99.26: 100%|██████████| 20/20 [00:28<00:00,  1.44s/it] \n",
      "Loss=0.024518970400094986 Batch_id=19 Accuracy=99.33: 100%|██████████| 20/20 [00:29<00:00,  1.46s/it]\n",
      "Loss=0.022386059165000916 Batch_id=19 Accuracy=99.35: 100%|██████████| 20/20 [00:29<00:00,  1.46s/it]\n",
      "Loss=0.010895947925746441 Batch_id=19 Accuracy=99.34: 100%|██████████| 20/20 [00:29<00:00,  1.45s/it]\n"
     ]
    },
    {
     "name": "stdout",
     "output_type": "stream",
     "text": [
      "Test set: Average loss: 0.5478, Accuracy: 8855/10000 (88.55%)\n",
      "\n",
      "--Testing Corruptions--\n"
     ]
    },
    {
     "name": "stderr",
     "output_type": "stream",
     "text": [
      "100%|██████████| 19/19 [04:32<00:00, 14.36s/it]\n"
     ]
    },
    {
     "name": "stdout",
     "output_type": "stream",
     "text": [
      "\n",
      "Avg Corruption Accuracy: 75.76%\n",
      "Global Sparsity: 61.24% \n",
      "\n",
      "---------- Pruning Iteration:  10 / 44\n"
     ]
    },
    {
     "name": "stderr",
     "output_type": "stream",
     "text": [
      "Loss=0.05571698397397995 Batch_id=19 Accuracy=97.56: 100%|██████████| 20/20 [00:29<00:00,  1.47s/it] \n",
      "Loss=0.03832269459962845 Batch_id=19 Accuracy=98.73: 100%|██████████| 20/20 [00:29<00:00,  1.47s/it] \n",
      "Loss=0.024376653134822845 Batch_id=19 Accuracy=99.10: 100%|██████████| 20/20 [00:29<00:00,  1.47s/it]\n",
      "Loss=0.020950008183717728 Batch_id=19 Accuracy=99.28: 100%|██████████| 20/20 [00:29<00:00,  1.46s/it]\n",
      "Loss=0.017578125 Batch_id=19 Accuracy=99.27: 100%|██████████| 20/20 [00:29<00:00,  1.47s/it]         \n",
      "Loss=0.020976947620511055 Batch_id=19 Accuracy=99.32: 100%|██████████| 20/20 [00:29<00:00,  1.47s/it]\n",
      "Loss=0.023828554898500443 Batch_id=19 Accuracy=99.36: 100%|██████████| 20/20 [00:29<00:00,  1.47s/it]\n",
      "Loss=0.01958315819501877 Batch_id=19 Accuracy=99.32: 100%|██████████| 20/20 [00:29<00:00,  1.47s/it] \n"
     ]
    },
    {
     "name": "stdout",
     "output_type": "stream",
     "text": [
      "Epoch 00008: reducing learning rate of group 0 to 5.0000e-04.\n"
     ]
    },
    {
     "name": "stderr",
     "output_type": "stream",
     "text": [
      "Loss=0.015422169119119644 Batch_id=19 Accuracy=99.41: 100%|██████████| 20/20 [00:29<00:00,  1.48s/it]\n",
      "Loss=0.012861238792538643 Batch_id=19 Accuracy=99.45: 100%|██████████| 20/20 [00:29<00:00,  1.47s/it]\n"
     ]
    },
    {
     "name": "stdout",
     "output_type": "stream",
     "text": [
      "Test set: Average loss: 0.5406, Accuracy: 8854/10000 (88.54%)\n",
      "\n",
      "--Skipping Acc Comp For Corrupted Data--\n",
      "Global Sparsity: 65.11% \n",
      "\n",
      "---------- Pruning Iteration:  11 / 44\n"
     ]
    },
    {
     "name": "stderr",
     "output_type": "stream",
     "text": [
      "Loss=0.03906364366412163 Batch_id=19 Accuracy=97.32: 100%|██████████| 20/20 [00:29<00:00,  1.48s/it] \n",
      "Loss=0.029556481167674065 Batch_id=19 Accuracy=98.73: 100%|██████████| 20/20 [00:29<00:00,  1.48s/it]\n",
      "Loss=0.019667280837893486 Batch_id=19 Accuracy=99.07: 100%|██████████| 20/20 [00:29<00:00,  1.47s/it]\n",
      "Loss=0.023626765236258507 Batch_id=19 Accuracy=99.22: 100%|██████████| 20/20 [00:29<00:00,  1.49s/it]\n",
      "Loss=0.027167880907654762 Batch_id=19 Accuracy=99.31: 100%|██████████| 20/20 [00:30<00:00,  1.51s/it]\n",
      "Loss=0.02554735541343689 Batch_id=19 Accuracy=99.34: 100%|██████████| 20/20 [00:30<00:00,  1.51s/it] \n"
     ]
    },
    {
     "name": "stdout",
     "output_type": "stream",
     "text": [
      "Epoch 00006: reducing learning rate of group 0 to 5.0000e-04.\n"
     ]
    },
    {
     "name": "stderr",
     "output_type": "stream",
     "text": [
      "Loss=0.018318114802241325 Batch_id=19 Accuracy=99.39: 100%|██████████| 20/20 [00:30<00:00,  1.50s/it]\n",
      "Loss=0.022211553528904915 Batch_id=19 Accuracy=99.40: 100%|██████████| 20/20 [00:30<00:00,  1.50s/it]\n",
      "Loss=0.020425964146852493 Batch_id=19 Accuracy=99.44: 100%|██████████| 20/20 [00:30<00:00,  1.51s/it]\n",
      "Loss=0.021209368482232094 Batch_id=19 Accuracy=99.47: 100%|██████████| 20/20 [00:30<00:00,  1.55s/it]"
     ]
    },
    {
     "name": "stdout",
     "output_type": "stream",
     "text": [
      "Epoch 00010: reducing learning rate of group 0 to 2.5000e-05.\n"
     ]
    },
    {
     "name": "stderr",
     "output_type": "stream",
     "text": [
      "\n"
     ]
    },
    {
     "name": "stdout",
     "output_type": "stream",
     "text": [
      "Test set: Average loss: 0.5224, Accuracy: 8884/10000 (88.84%)\n",
      "\n",
      "--Testing Corruptions--\n"
     ]
    },
    {
     "name": "stderr",
     "output_type": "stream",
     "text": [
      "100%|██████████| 19/19 [04:41<00:00, 14.81s/it]\n"
     ]
    },
    {
     "name": "stdout",
     "output_type": "stream",
     "text": [
      "\n",
      "Avg Corruption Accuracy: 76.66%\n",
      "Global Sparsity: 68.60% \n",
      "\n",
      "---------- Pruning Iteration:  12 / 44\n"
     ]
    },
    {
     "name": "stderr",
     "output_type": "stream",
     "text": [
      "Loss=0.04541294649243355 Batch_id=19 Accuracy=96.97: 100%|██████████| 20/20 [00:30<00:00,  1.50s/it] \n",
      "Loss=0.03805530443787575 Batch_id=19 Accuracy=98.69: 100%|██████████| 20/20 [00:29<00:00,  1.50s/it]\n",
      "Loss=0.027944348752498627 Batch_id=19 Accuracy=99.06: 100%|██████████| 20/20 [00:30<00:00,  1.50s/it]\n",
      "Loss=0.02556019462645054 Batch_id=19 Accuracy=99.15: 100%|██████████| 20/20 [00:29<00:00,  1.50s/it] \n",
      "Loss=0.017783422023057938 Batch_id=19 Accuracy=99.32: 100%|██████████| 20/20 [00:30<00:00,  1.51s/it]\n",
      "Loss=0.019029753282666206 Batch_id=19 Accuracy=99.36: 100%|██████████| 20/20 [00:30<00:00,  1.51s/it]\n",
      "Loss=0.023998765274882317 Batch_id=19 Accuracy=99.37: 100%|██████████| 20/20 [00:31<00:00,  1.58s/it]\n",
      "Loss=0.012997089885175228 Batch_id=19 Accuracy=99.39: 100%|██████████| 20/20 [00:29<00:00,  1.50s/it]\n",
      "Loss=0.027809014543890953 Batch_id=19 Accuracy=99.42: 100%|██████████| 20/20 [00:30<00:00,  1.51s/it]\n",
      "Loss=0.01808454841375351 Batch_id=19 Accuracy=99.47: 100%|██████████| 20/20 [00:31<00:00,  1.55s/it] \n"
     ]
    },
    {
     "name": "stdout",
     "output_type": "stream",
     "text": [
      "Test set: Average loss: 0.5201, Accuracy: 8873/10000 (88.73%)\n",
      "\n",
      "--Skipping Acc Comp For Corrupted Data--\n",
      "Global Sparsity: 71.73% \n",
      "\n",
      "---------- Pruning Iteration:  13 / 44\n"
     ]
    },
    {
     "name": "stderr",
     "output_type": "stream",
     "text": [
      "Loss=0.052634626626968384 Batch_id=19 Accuracy=95.95: 100%|██████████| 20/20 [00:30<00:00,  1.52s/it]\n",
      "Loss=0.0457119382917881 Batch_id=19 Accuracy=98.55: 100%|██████████| 20/20 [00:30<00:00,  1.51s/it]  \n",
      "Loss=0.023779086768627167 Batch_id=19 Accuracy=99.05: 100%|██████████| 20/20 [00:30<00:00,  1.51s/it]\n",
      "Loss=0.01923394203186035 Batch_id=19 Accuracy=99.26: 100%|██████████| 20/20 [00:29<00:00,  1.49s/it] \n",
      "Loss=0.028535528108477592 Batch_id=19 Accuracy=99.29: 100%|██████████| 20/20 [00:29<00:00,  1.47s/it]\n",
      "Loss=0.01959254965186119 Batch_id=19 Accuracy=99.34: 100%|██████████| 20/20 [00:29<00:00,  1.47s/it] \n",
      "Loss=0.012282134965062141 Batch_id=19 Accuracy=99.43: 100%|██████████| 20/20 [00:29<00:00,  1.48s/it]\n",
      "Loss=0.013217917643487453 Batch_id=19 Accuracy=99.41: 100%|██████████| 20/20 [00:29<00:00,  1.48s/it]\n",
      "Loss=0.016477137804031372 Batch_id=19 Accuracy=99.39: 100%|██████████| 20/20 [00:29<00:00,  1.49s/it]\n",
      "Loss=0.010222780518233776 Batch_id=19 Accuracy=99.49: 100%|██████████| 20/20 [00:29<00:00,  1.47s/it]\n"
     ]
    },
    {
     "name": "stdout",
     "output_type": "stream",
     "text": [
      "Test set: Average loss: 0.5276, Accuracy: 8886/10000 (88.86%)\n",
      "\n",
      "--Skipping Acc Comp For Corrupted Data--\n",
      "Global Sparsity: 74.56% \n",
      "\n",
      "---------- Pruning Iteration:  14 / 44\n"
     ]
    },
    {
     "name": "stderr",
     "output_type": "stream",
     "text": [
      "Loss=0.06154819205403328 Batch_id=19 Accuracy=95.42: 100%|██████████| 20/20 [00:29<00:00,  1.48s/it]\n",
      "Loss=0.030463583767414093 Batch_id=19 Accuracy=98.39: 100%|██████████| 20/20 [00:29<00:00,  1.47s/it]\n",
      "Loss=0.02868259698152542 Batch_id=19 Accuracy=98.97: 100%|██████████| 20/20 [00:29<00:00,  1.48s/it] \n",
      "Loss=0.02846083976328373 Batch_id=19 Accuracy=99.18: 100%|██████████| 20/20 [00:29<00:00,  1.48s/it] \n",
      "Loss=0.018457965925335884 Batch_id=19 Accuracy=99.27: 100%|██████████| 20/20 [00:29<00:00,  1.48s/it]\n",
      "Loss=0.020205438137054443 Batch_id=19 Accuracy=99.33: 100%|██████████| 20/20 [00:29<00:00,  1.48s/it]\n",
      "Loss=0.026344960555434227 Batch_id=19 Accuracy=99.40: 100%|██████████| 20/20 [00:29<00:00,  1.48s/it]\n",
      "Loss=0.01252550259232521 Batch_id=19 Accuracy=99.44: 100%|██████████| 20/20 [00:29<00:00,  1.48s/it] \n",
      "Loss=0.01685367524623871 Batch_id=19 Accuracy=99.42: 100%|██████████| 20/20 [00:29<00:00,  1.48s/it] \n",
      "Loss=0.013991442508995533 Batch_id=19 Accuracy=99.46: 100%|██████████| 20/20 [00:29<00:00,  1.48s/it]\n"
     ]
    },
    {
     "name": "stdout",
     "output_type": "stream",
     "text": [
      "Test set: Average loss: 0.5002, Accuracy: 8920/10000 (89.20%)\n",
      "\n",
      "--Skipping Acc Comp For Corrupted Data--\n",
      "Global Sparsity: 77.10% \n",
      "\n",
      "---------- Pruning Iteration:  15 / 44\n"
     ]
    },
    {
     "name": "stderr",
     "output_type": "stream",
     "text": [
      "Loss=0.0622895173728466 Batch_id=19 Accuracy=95.46: 100%|██████████| 20/20 [00:29<00:00,  1.47s/it] \n",
      "Loss=0.04379678890109062 Batch_id=19 Accuracy=98.54: 100%|██████████| 20/20 [00:29<00:00,  1.47s/it] \n",
      "Loss=0.031345486640930176 Batch_id=19 Accuracy=98.98: 100%|██████████| 20/20 [00:29<00:00,  1.47s/it]\n",
      "Loss=0.02999880537390709 Batch_id=19 Accuracy=99.24: 100%|██████████| 20/20 [00:29<00:00,  1.48s/it] \n",
      "Loss=0.019217850640416145 Batch_id=19 Accuracy=99.26: 100%|██████████| 20/20 [00:29<00:00,  1.48s/it]\n",
      "Loss=0.014451276510953903 Batch_id=19 Accuracy=99.33: 100%|██████████| 20/20 [00:29<00:00,  1.47s/it]\n",
      "Loss=0.018975362181663513 Batch_id=19 Accuracy=99.45: 100%|██████████| 20/20 [00:29<00:00,  1.46s/it]\n",
      "Loss=0.023191839456558228 Batch_id=19 Accuracy=99.40: 100%|██████████| 20/20 [00:29<00:00,  1.47s/it]\n",
      "Loss=0.015555614605545998 Batch_id=19 Accuracy=99.53: 100%|██████████| 20/20 [00:29<00:00,  1.46s/it]\n"
     ]
    },
    {
     "name": "stdout",
     "output_type": "stream",
     "text": [
      "Epoch 00009: reducing learning rate of group 0 to 5.0000e-04.\n"
     ]
    },
    {
     "name": "stderr",
     "output_type": "stream",
     "text": [
      "Loss=0.014655082486569881 Batch_id=19 Accuracy=99.47: 100%|██████████| 20/20 [00:29<00:00,  1.47s/it]\n"
     ]
    },
    {
     "name": "stdout",
     "output_type": "stream",
     "text": [
      "Test set: Average loss: 0.4897, Accuracy: 8914/10000 (89.14%)\n",
      "\n",
      "--Testing Corruptions--\n"
     ]
    },
    {
     "name": "stderr",
     "output_type": "stream",
     "text": [
      "100%|██████████| 19/19 [04:54<00:00, 15.51s/it]\n"
     ]
    },
    {
     "name": "stdout",
     "output_type": "stream",
     "text": [
      "\n",
      "Avg Corruption Accuracy: 76.70%\n",
      "Global Sparsity: 79.38% \n",
      "\n",
      "---------- Pruning Iteration:  16 / 44\n"
     ]
    },
    {
     "name": "stderr",
     "output_type": "stream",
     "text": [
      "Loss=0.07712746411561966 Batch_id=19 Accuracy=96.19: 100%|██████████| 20/20 [00:29<00:00,  1.47s/it] \n",
      "Loss=0.033425845205783844 Batch_id=19 Accuracy=98.71: 100%|██████████| 20/20 [00:29<00:00,  1.47s/it]\n",
      "Loss=0.024723822250962257 Batch_id=19 Accuracy=99.10: 100%|██████████| 20/20 [00:29<00:00,  1.48s/it]\n",
      "Loss=0.02590039186179638 Batch_id=19 Accuracy=99.27: 100%|██████████| 20/20 [00:29<00:00,  1.48s/it] \n",
      "Loss=0.014639829285442829 Batch_id=19 Accuracy=99.44: 100%|██████████| 20/20 [00:29<00:00,  1.47s/it]\n",
      "Loss=0.01766951009631157 Batch_id=19 Accuracy=99.45: 100%|██████████| 20/20 [00:29<00:00,  1.47s/it] \n",
      "Loss=0.019995395094156265 Batch_id=19 Accuracy=99.42: 100%|██████████| 20/20 [00:29<00:00,  1.46s/it]\n",
      "Loss=0.022573944181203842 Batch_id=19 Accuracy=99.45: 100%|██████████| 20/20 [00:29<00:00,  1.47s/it]\n"
     ]
    },
    {
     "name": "stdout",
     "output_type": "stream",
     "text": [
      "Epoch 00008: reducing learning rate of group 0 to 5.0000e-04.\n"
     ]
    },
    {
     "name": "stderr",
     "output_type": "stream",
     "text": [
      "Loss=0.021193018183112144 Batch_id=19 Accuracy=99.45: 100%|██████████| 20/20 [00:29<00:00,  1.47s/it]\n",
      "Loss=0.013888699933886528 Batch_id=19 Accuracy=99.48: 100%|██████████| 20/20 [00:29<00:00,  1.47s/it]\n"
     ]
    },
    {
     "name": "stdout",
     "output_type": "stream",
     "text": [
      "Test set: Average loss: 0.4961, Accuracy: 8940/10000 (89.40%)\n",
      "\n",
      "--Skipping Acc Comp For Corrupted Data--\n",
      "Global Sparsity: 81.44% \n",
      "\n",
      "---------- Pruning Iteration:  17 / 44\n"
     ]
    },
    {
     "name": "stderr",
     "output_type": "stream",
     "text": [
      "Loss=0.05690429359674454 Batch_id=19 Accuracy=96.04: 100%|██████████| 20/20 [00:29<00:00,  1.47s/it] \n",
      "Loss=0.0316767618060112 Batch_id=19 Accuracy=98.62: 100%|██████████| 20/20 [00:29<00:00,  1.49s/it]  \n",
      "Loss=0.019049957394599915 Batch_id=19 Accuracy=99.14: 100%|██████████| 20/20 [00:29<00:00,  1.48s/it]\n",
      "Loss=0.013469798490405083 Batch_id=19 Accuracy=99.37: 100%|██████████| 20/20 [00:29<00:00,  1.49s/it]\n",
      "Loss=0.01739971525967121 Batch_id=19 Accuracy=99.39: 100%|██████████| 20/20 [00:29<00:00,  1.48s/it] \n",
      "Loss=0.018304679542779922 Batch_id=19 Accuracy=99.49: 100%|██████████| 20/20 [00:29<00:00,  1.46s/it]\n",
      "Loss=0.013939294964075089 Batch_id=19 Accuracy=99.48: 100%|██████████| 20/20 [00:29<00:00,  1.47s/it]\n"
     ]
    },
    {
     "name": "stdout",
     "output_type": "stream",
     "text": [
      "Epoch 00007: reducing learning rate of group 0 to 5.0000e-04.\n"
     ]
    },
    {
     "name": "stderr",
     "output_type": "stream",
     "text": [
      "Loss=0.014346807263791561 Batch_id=19 Accuracy=99.45: 100%|██████████| 20/20 [00:29<00:00,  1.47s/it]\n",
      "Loss=0.01670195534825325 Batch_id=19 Accuracy=99.54: 100%|██████████| 20/20 [00:29<00:00,  1.47s/it] \n",
      "Loss=0.016060054302215576 Batch_id=19 Accuracy=99.50: 100%|██████████| 20/20 [00:29<00:00,  1.46s/it]"
     ]
    },
    {
     "name": "stdout",
     "output_type": "stream",
     "text": [
      "Epoch 00010: reducing learning rate of group 0 to 2.5000e-05.\n"
     ]
    },
    {
     "name": "stderr",
     "output_type": "stream",
     "text": [
      "\n"
     ]
    },
    {
     "name": "stdout",
     "output_type": "stream",
     "text": [
      "Test set: Average loss: 0.4771, Accuracy: 8946/10000 (89.46%)\n",
      "\n",
      "--Skipping Acc Comp For Corrupted Data--\n",
      "Global Sparsity: 83.29% \n",
      "\n",
      "---------- Pruning Iteration:  18 / 44\n"
     ]
    },
    {
     "name": "stderr",
     "output_type": "stream",
     "text": [
      "Loss=0.06106759235262871 Batch_id=19 Accuracy=96.19: 100%|██████████| 20/20 [00:29<00:00,  1.46s/it] \n",
      "Loss=0.019808074459433556 Batch_id=19 Accuracy=98.83: 100%|██████████| 20/20 [00:29<00:00,  1.47s/it]\n",
      "Loss=0.02497274987399578 Batch_id=19 Accuracy=99.16: 100%|██████████| 20/20 [00:29<00:00,  1.47s/it] \n",
      "Loss=0.011858825571835041 Batch_id=19 Accuracy=99.28: 100%|██████████| 20/20 [00:30<00:00,  1.51s/it]\n",
      "Loss=0.01872105523943901 Batch_id=19 Accuracy=99.42: 100%|██████████| 20/20 [00:29<00:00,  1.46s/it] \n",
      "Loss=0.01807020604610443 Batch_id=19 Accuracy=99.44: 100%|██████████| 20/20 [00:29<00:00,  1.47s/it] \n",
      "Loss=0.022695528343319893 Batch_id=19 Accuracy=99.43: 100%|██████████| 20/20 [00:29<00:00,  1.50s/it]\n"
     ]
    },
    {
     "name": "stdout",
     "output_type": "stream",
     "text": [
      "Epoch 00007: reducing learning rate of group 0 to 5.0000e-04.\n"
     ]
    },
    {
     "name": "stderr",
     "output_type": "stream",
     "text": [
      "Loss=0.01120307669043541 Batch_id=19 Accuracy=99.52: 100%|██████████| 20/20 [00:29<00:00,  1.49s/it] \n",
      "Loss=0.015528489835560322 Batch_id=19 Accuracy=99.52: 100%|██████████| 20/20 [00:29<00:00,  1.48s/it]\n",
      "Loss=0.0164656862616539 Batch_id=19 Accuracy=99.55: 100%|██████████| 20/20 [00:29<00:00,  1.48s/it]  \n"
     ]
    },
    {
     "name": "stdout",
     "output_type": "stream",
     "text": [
      "Test set: Average loss: 0.4880, Accuracy: 8891/10000 (88.91%)\n",
      "\n",
      "--Skipping Acc Comp For Corrupted Data--\n",
      "Global Sparsity: 84.96% \n",
      "\n",
      "---------- Pruning Iteration:  19 / 44\n"
     ]
    },
    {
     "name": "stderr",
     "output_type": "stream",
     "text": [
      "Loss=0.0787864699959755 Batch_id=19 Accuracy=95.45: 100%|██████████| 20/20 [00:29<00:00,  1.49s/it] \n",
      "Loss=0.02953086420893669 Batch_id=19 Accuracy=98.59: 100%|██████████| 20/20 [00:29<00:00,  1.47s/it] \n",
      "Loss=0.023046838119626045 Batch_id=19 Accuracy=99.14: 100%|██████████| 20/20 [00:29<00:00,  1.46s/it]\n",
      "Loss=0.02023935876786709 Batch_id=19 Accuracy=99.37: 100%|██████████| 20/20 [00:29<00:00,  1.47s/it] \n",
      "Loss=0.027198687195777893 Batch_id=19 Accuracy=99.32: 100%|██████████| 20/20 [00:29<00:00,  1.48s/it]\n",
      "Loss=0.013591563329100609 Batch_id=19 Accuracy=99.44: 100%|██████████| 20/20 [00:29<00:00,  1.48s/it]\n",
      "Loss=0.017475202679634094 Batch_id=19 Accuracy=99.44: 100%|██████████| 20/20 [00:29<00:00,  1.47s/it]\n",
      "Loss=0.0144669683650136 Batch_id=19 Accuracy=99.49: 100%|██████████| 20/20 [00:29<00:00,  1.47s/it]  \n",
      "Loss=0.014095567166805267 Batch_id=19 Accuracy=99.51: 100%|██████████| 20/20 [00:29<00:00,  1.49s/it]\n"
     ]
    },
    {
     "name": "stdout",
     "output_type": "stream",
     "text": [
      "Epoch 00009: reducing learning rate of group 0 to 5.0000e-04.\n"
     ]
    },
    {
     "name": "stderr",
     "output_type": "stream",
     "text": [
      "Loss=0.0161722544580698 Batch_id=19 Accuracy=99.51: 100%|██████████| 20/20 [00:29<00:00,  1.48s/it]  \n"
     ]
    },
    {
     "name": "stdout",
     "output_type": "stream",
     "text": [
      "Test set: Average loss: 0.5013, Accuracy: 8912/10000 (89.12%)\n",
      "\n",
      "--Skipping Acc Comp For Corrupted Data--\n",
      "Global Sparsity: 86.46% \n",
      "\n",
      "---------- Pruning Iteration:  20 / 44\n"
     ]
    },
    {
     "name": "stderr",
     "output_type": "stream",
     "text": [
      "Loss=0.0636133998632431 Batch_id=19 Accuracy=95.19: 100%|██████████| 20/20 [00:29<00:00,  1.47s/it] \n",
      "Loss=0.03517765924334526 Batch_id=19 Accuracy=98.44: 100%|██████████| 20/20 [00:29<00:00,  1.48s/it]\n",
      "Loss=0.03160560131072998 Batch_id=19 Accuracy=99.09: 100%|██████████| 20/20 [00:29<00:00,  1.48s/it] \n",
      "Loss=0.023215502500534058 Batch_id=19 Accuracy=99.22: 100%|██████████| 20/20 [00:29<00:00,  1.49s/it]\n",
      "Loss=0.019703015685081482 Batch_id=19 Accuracy=99.31: 100%|██████████| 20/20 [00:29<00:00,  1.49s/it]\n",
      "Loss=0.026263276115059853 Batch_id=19 Accuracy=99.29: 100%|██████████| 20/20 [00:29<00:00,  1.48s/it]\n",
      "Loss=0.02300511859357357 Batch_id=19 Accuracy=99.41: 100%|██████████| 20/20 [00:29<00:00,  1.49s/it] \n",
      "Loss=0.022055810317397118 Batch_id=19 Accuracy=99.42: 100%|██████████| 20/20 [00:29<00:00,  1.47s/it]\n"
     ]
    },
    {
     "name": "stdout",
     "output_type": "stream",
     "text": [
      "Epoch 00008: reducing learning rate of group 0 to 5.0000e-04.\n"
     ]
    },
    {
     "name": "stderr",
     "output_type": "stream",
     "text": [
      "Loss=0.019723238423466682 Batch_id=19 Accuracy=99.46: 100%|██████████| 20/20 [00:29<00:00,  1.46s/it]\n",
      "Loss=0.015249301679432392 Batch_id=19 Accuracy=99.45: 100%|██████████| 20/20 [00:29<00:00,  1.47s/it]\n"
     ]
    },
    {
     "name": "stdout",
     "output_type": "stream",
     "text": [
      "Test set: Average loss: 0.4968, Accuracy: 8919/10000 (89.19%)\n",
      "\n",
      "--Skipping Acc Comp For Corrupted Data--\n",
      "Global Sparsity: 87.81% \n",
      "\n",
      "---------- Pruning Iteration:  21 / 44\n"
     ]
    },
    {
     "name": "stderr",
     "output_type": "stream",
     "text": [
      "Loss=0.08810883015394211 Batch_id=19 Accuracy=94.87: 100%|██████████| 20/20 [00:29<00:00,  1.47s/it]\n",
      "Loss=0.02611914463341236 Batch_id=19 Accuracy=98.36: 100%|██████████| 20/20 [00:29<00:00,  1.47s/it] \n",
      "Loss=0.028399545699357986 Batch_id=19 Accuracy=99.04: 100%|██████████| 20/20 [00:29<00:00,  1.48s/it]\n",
      "Loss=0.025407828390598297 Batch_id=19 Accuracy=99.20: 100%|██████████| 20/20 [00:29<00:00,  1.48s/it]\n",
      "Loss=0.02302146703004837 Batch_id=19 Accuracy=99.20: 100%|██████████| 20/20 [00:29<00:00,  1.48s/it] \n",
      "Loss=0.02129041962325573 Batch_id=19 Accuracy=99.37: 100%|██████████| 20/20 [00:29<00:00,  1.48s/it] \n",
      "Loss=0.02906183712184429 Batch_id=19 Accuracy=99.33: 100%|██████████| 20/20 [00:29<00:00,  1.48s/it] \n",
      "Loss=0.01951870694756508 Batch_id=19 Accuracy=99.43: 100%|██████████| 20/20 [00:29<00:00,  1.48s/it] \n",
      "Loss=0.02597956359386444 Batch_id=19 Accuracy=99.41: 100%|██████████| 20/20 [00:29<00:00,  1.48s/it] \n",
      "Loss=0.019821323454380035 Batch_id=19 Accuracy=99.51: 100%|██████████| 20/20 [00:29<00:00,  1.49s/it]\n"
     ]
    },
    {
     "name": "stdout",
     "output_type": "stream",
     "text": [
      "Test set: Average loss: 0.4970, Accuracy: 8877/10000 (88.77%)\n",
      "\n",
      "--Skipping Acc Comp For Corrupted Data--\n",
      "Global Sparsity: 89.03% \n",
      "\n",
      "---------- Pruning Iteration:  22 / 44\n"
     ]
    },
    {
     "name": "stderr",
     "output_type": "stream",
     "text": [
      "Loss=0.08443315327167511 Batch_id=19 Accuracy=95.42: 100%|██████████| 20/20 [00:29<00:00,  1.47s/it]\n",
      "Loss=0.03773482143878937 Batch_id=19 Accuracy=98.37: 100%|██████████| 20/20 [00:29<00:00,  1.48s/it] \n",
      "Loss=0.031573086977005005 Batch_id=19 Accuracy=98.90: 100%|██████████| 20/20 [00:29<00:00,  1.49s/it]\n",
      "Loss=0.018725385889410973 Batch_id=19 Accuracy=99.04: 100%|██████████| 20/20 [00:29<00:00,  1.48s/it]\n",
      "Loss=0.026182319968938828 Batch_id=19 Accuracy=99.27: 100%|██████████| 20/20 [00:29<00:00,  1.48s/it]\n",
      "Loss=0.025018172338604927 Batch_id=19 Accuracy=99.35: 100%|██████████| 20/20 [00:29<00:00,  1.48s/it]\n",
      "Loss=0.008861878886818886 Batch_id=19 Accuracy=99.36: 100%|██████████| 20/20 [00:29<00:00,  1.48s/it]\n",
      "Loss=0.01945548504590988 Batch_id=19 Accuracy=99.42: 100%|██████████| 20/20 [00:29<00:00,  1.48s/it] \n",
      "Loss=0.02231738343834877 Batch_id=19 Accuracy=99.39: 100%|██████████| 20/20 [00:29<00:00,  1.48s/it] \n",
      "Loss=0.01252350676804781 Batch_id=19 Accuracy=99.41: 100%|██████████| 20/20 [00:29<00:00,  1.49s/it] "
     ]
    },
    {
     "name": "stdout",
     "output_type": "stream",
     "text": [
      "Epoch 00010: reducing learning rate of group 0 to 5.0000e-04.\n"
     ]
    },
    {
     "name": "stderr",
     "output_type": "stream",
     "text": [
      "\n"
     ]
    },
    {
     "name": "stdout",
     "output_type": "stream",
     "text": [
      "Test set: Average loss: 0.5089, Accuracy: 8900/10000 (89.00%)\n",
      "\n",
      "--Testing Corruptions--\n"
     ]
    },
    {
     "name": "stderr",
     "output_type": "stream",
     "text": [
      "100%|██████████| 19/19 [04:40<00:00, 14.74s/it]\n"
     ]
    },
    {
     "name": "stdout",
     "output_type": "stream",
     "text": [
      "\n",
      "Avg Corruption Accuracy: 76.31%\n",
      "Global Sparsity: 90.12% \n",
      "\n",
      "---------- Pruning Iteration:  23 / 44\n"
     ]
    },
    {
     "name": "stderr",
     "output_type": "stream",
     "text": [
      "Loss=0.06749247014522552 Batch_id=19 Accuracy=95.20: 100%|██████████| 20/20 [00:29<00:00,  1.48s/it]\n",
      "Loss=0.051559869199991226 Batch_id=19 Accuracy=98.32: 100%|██████████| 20/20 [00:29<00:00,  1.48s/it]\n",
      "Loss=0.029446052387356758 Batch_id=19 Accuracy=98.93: 100%|██████████| 20/20 [00:29<00:00,  1.49s/it]\n",
      "Loss=0.024151140823960304 Batch_id=19 Accuracy=99.08: 100%|██████████| 20/20 [00:29<00:00,  1.49s/it]\n",
      "Loss=0.02720947191119194 Batch_id=19 Accuracy=99.21: 100%|██████████| 20/20 [00:29<00:00,  1.50s/it] \n",
      "Loss=0.023571928963065147 Batch_id=19 Accuracy=99.26: 100%|██████████| 20/20 [00:29<00:00,  1.49s/it]\n",
      "Loss=0.026507483795285225 Batch_id=19 Accuracy=99.30: 100%|██████████| 20/20 [00:29<00:00,  1.49s/it]\n",
      "Loss=0.02776113711297512 Batch_id=19 Accuracy=99.32: 100%|██████████| 20/20 [00:29<00:00,  1.48s/it] \n",
      "Loss=0.022742656990885735 Batch_id=19 Accuracy=99.39: 100%|██████████| 20/20 [00:29<00:00,  1.48s/it]\n",
      "Loss=0.01612572744488716 Batch_id=19 Accuracy=99.34: 100%|██████████| 20/20 [00:29<00:00,  1.49s/it] \n"
     ]
    },
    {
     "name": "stdout",
     "output_type": "stream",
     "text": [
      "Test set: Average loss: 0.5004, Accuracy: 8891/10000 (88.91%)\n",
      "\n",
      "--Skipping Acc Comp For Corrupted Data--\n",
      "Global Sparsity: 91.11% \n",
      "\n",
      "---------- Pruning Iteration:  24 / 44\n"
     ]
    },
    {
     "name": "stderr",
     "output_type": "stream",
     "text": [
      "Loss=0.06715794652700424 Batch_id=19 Accuracy=95.10: 100%|██████████| 20/20 [00:29<00:00,  1.48s/it]\n",
      "Loss=0.0506742037832737 Batch_id=19 Accuracy=98.21: 100%|██████████| 20/20 [00:29<00:00,  1.48s/it]  \n",
      "Loss=0.026577789336442947 Batch_id=19 Accuracy=98.72: 100%|██████████| 20/20 [00:29<00:00,  1.49s/it]\n",
      "Loss=0.022263677790760994 Batch_id=19 Accuracy=99.00: 100%|██████████| 20/20 [00:29<00:00,  1.49s/it]\n",
      "Loss=0.02726696990430355 Batch_id=19 Accuracy=99.22: 100%|██████████| 20/20 [00:29<00:00,  1.48s/it] \n",
      "Loss=0.023683281615376472 Batch_id=19 Accuracy=99.18: 100%|██████████| 20/20 [00:29<00:00,  1.48s/it]\n",
      "Loss=0.02666355110704899 Batch_id=19 Accuracy=99.26: 100%|██████████| 20/20 [00:29<00:00,  1.48s/it] \n"
     ]
    },
    {
     "name": "stdout",
     "output_type": "stream",
     "text": [
      "Epoch 00007: reducing learning rate of group 0 to 5.0000e-04.\n"
     ]
    },
    {
     "name": "stderr",
     "output_type": "stream",
     "text": [
      "Loss=0.025198204442858696 Batch_id=19 Accuracy=99.32: 100%|██████████| 20/20 [00:29<00:00,  1.48s/it]\n",
      "Loss=0.014377557672560215 Batch_id=19 Accuracy=99.29: 100%|██████████| 20/20 [00:29<00:00,  1.47s/it]\n",
      "Loss=0.015810523182153702 Batch_id=19 Accuracy=99.36: 100%|██████████| 20/20 [00:29<00:00,  1.48s/it]\n"
     ]
    },
    {
     "name": "stdout",
     "output_type": "stream",
     "text": [
      "Test set: Average loss: 0.4869, Accuracy: 8926/10000 (89.26%)\n",
      "\n",
      "--Skipping Acc Comp For Corrupted Data--\n",
      "Global Sparsity: 91.99% \n",
      "\n",
      "---------- Pruning Iteration:  25 / 44\n"
     ]
    },
    {
     "name": "stderr",
     "output_type": "stream",
     "text": [
      "Loss=0.08781600743532181 Batch_id=19 Accuracy=95.21: 100%|██████████| 20/20 [00:29<00:00,  1.47s/it]\n",
      "Loss=0.050415828824043274 Batch_id=19 Accuracy=98.03: 100%|██████████| 20/20 [00:29<00:00,  1.49s/it]\n",
      "Loss=0.03421903774142265 Batch_id=19 Accuracy=98.73: 100%|██████████| 20/20 [00:29<00:00,  1.49s/it] \n",
      "Loss=0.03609933331608772 Batch_id=19 Accuracy=98.95: 100%|██████████| 20/20 [00:29<00:00,  1.48s/it] \n",
      "Loss=0.04436613246798515 Batch_id=19 Accuracy=99.00: 100%|██████████| 20/20 [00:29<00:00,  1.48s/it] \n",
      "Loss=0.022232869639992714 Batch_id=19 Accuracy=99.09: 100%|██████████| 20/20 [00:29<00:00,  1.46s/it]\n",
      "Loss=0.026886828243732452 Batch_id=19 Accuracy=99.15: 100%|██████████| 20/20 [00:29<00:00,  1.48s/it]\n",
      "Loss=0.029062848538160324 Batch_id=19 Accuracy=99.18: 100%|██████████| 20/20 [00:29<00:00,  1.48s/it]\n",
      "Loss=0.027001162990927696 Batch_id=19 Accuracy=99.23: 100%|██████████| 20/20 [00:29<00:00,  1.48s/it]\n"
     ]
    },
    {
     "name": "stdout",
     "output_type": "stream",
     "text": [
      "Epoch 00009: reducing learning rate of group 0 to 5.0000e-04.\n"
     ]
    },
    {
     "name": "stderr",
     "output_type": "stream",
     "text": [
      "Loss=0.02797260880470276 Batch_id=19 Accuracy=99.28: 100%|██████████| 20/20 [00:29<00:00,  1.49s/it] \n"
     ]
    },
    {
     "name": "stdout",
     "output_type": "stream",
     "text": [
      "Test set: Average loss: 0.4851, Accuracy: 8915/10000 (89.15%)\n",
      "\n",
      "--Skipping Acc Comp For Corrupted Data--\n",
      "Global Sparsity: 92.79% \n",
      "\n",
      "---------- Pruning Iteration:  26 / 44\n"
     ]
    },
    {
     "name": "stderr",
     "output_type": "stream",
     "text": [
      "Loss=0.0814945325255394 Batch_id=19 Accuracy=95.42: 100%|██████████| 20/20 [00:29<00:00,  1.50s/it] \n",
      "Loss=0.03349863365292549 Batch_id=19 Accuracy=98.19: 100%|██████████| 20/20 [00:29<00:00,  1.49s/it] \n",
      "Loss=0.03434592857956886 Batch_id=19 Accuracy=98.79: 100%|██████████| 20/20 [00:29<00:00,  1.49s/it] \n",
      "Loss=0.0334186851978302 Batch_id=19 Accuracy=98.82: 100%|██████████| 20/20 [00:29<00:00,  1.48s/it]  \n",
      "Loss=0.026650482788681984 Batch_id=19 Accuracy=98.89: 100%|██████████| 20/20 [00:29<00:00,  1.48s/it]\n",
      "Loss=0.020011506974697113 Batch_id=19 Accuracy=99.05: 100%|██████████| 20/20 [00:29<00:00,  1.49s/it]\n",
      "Loss=0.03915395960211754 Batch_id=19 Accuracy=99.07: 100%|██████████| 20/20 [00:29<00:00,  1.49s/it] \n",
      "Loss=0.02435261756181717 Batch_id=19 Accuracy=99.09: 100%|██████████| 20/20 [00:29<00:00,  1.49s/it] \n",
      "Loss=0.02434227615594864 Batch_id=19 Accuracy=99.20: 100%|██████████| 20/20 [00:29<00:00,  1.49s/it] \n"
     ]
    },
    {
     "name": "stdout",
     "output_type": "stream",
     "text": [
      "Epoch 00009: reducing learning rate of group 0 to 5.0000e-04.\n"
     ]
    },
    {
     "name": "stderr",
     "output_type": "stream",
     "text": [
      "Loss=0.02497721277177334 Batch_id=19 Accuracy=99.25: 100%|██████████| 20/20 [00:29<00:00,  1.49s/it] \n"
     ]
    },
    {
     "name": "stdout",
     "output_type": "stream",
     "text": [
      "Test set: Average loss: 0.4897, Accuracy: 8907/10000 (89.07%)\n",
      "\n",
      "--Skipping Acc Comp For Corrupted Data--\n",
      "Global Sparsity: 93.51% \n",
      "\n",
      "---------- Pruning Iteration:  27 / 44\n"
     ]
    },
    {
     "name": "stderr",
     "output_type": "stream",
     "text": [
      "Loss=0.09863501042127609 Batch_id=19 Accuracy=95.42: 100%|██████████| 20/20 [00:29<00:00,  1.48s/it]\n",
      "Loss=0.03856239467859268 Batch_id=19 Accuracy=97.87: 100%|██████████| 20/20 [00:29<00:00,  1.48s/it] \n",
      "Loss=0.03986773639917374 Batch_id=19 Accuracy=98.49: 100%|██████████| 20/20 [00:29<00:00,  1.48s/it] \n",
      "Loss=0.03186318278312683 Batch_id=19 Accuracy=98.74: 100%|██████████| 20/20 [00:29<00:00,  1.48s/it] \n",
      "Loss=0.034528180956840515 Batch_id=19 Accuracy=98.89: 100%|██████████| 20/20 [00:29<00:00,  1.49s/it]\n",
      "Loss=0.022745896130800247 Batch_id=19 Accuracy=99.03: 100%|██████████| 20/20 [00:29<00:00,  1.49s/it]\n",
      "Loss=0.021980363875627518 Batch_id=19 Accuracy=98.96: 100%|██████████| 20/20 [00:30<00:00,  1.50s/it]\n",
      "Loss=0.024543503299355507 Batch_id=19 Accuracy=99.12: 100%|██████████| 20/20 [00:29<00:00,  1.49s/it]\n",
      "Loss=0.027071723714470863 Batch_id=19 Accuracy=99.13: 100%|██████████| 20/20 [00:29<00:00,  1.50s/it]\n",
      "Loss=0.02681870386004448 Batch_id=19 Accuracy=99.12: 100%|██████████| 20/20 [00:31<00:00,  1.56s/it] "
     ]
    },
    {
     "name": "stdout",
     "output_type": "stream",
     "text": [
      "Epoch 00010: reducing learning rate of group 0 to 5.0000e-04.\n"
     ]
    },
    {
     "name": "stderr",
     "output_type": "stream",
     "text": [
      "\n"
     ]
    },
    {
     "name": "stdout",
     "output_type": "stream",
     "text": [
      "Test set: Average loss: 0.5070, Accuracy: 8867/10000 (88.67%)\n",
      "\n",
      "--Skipping Acc Comp For Corrupted Data--\n",
      "Global Sparsity: 94.15% \n",
      "\n",
      "---------- Pruning Iteration:  28 / 44\n"
     ]
    },
    {
     "name": "stderr",
     "output_type": "stream",
     "text": [
      "Loss=0.06119993329048157 Batch_id=19 Accuracy=95.63: 100%|██████████| 20/20 [00:29<00:00,  1.49s/it]\n",
      "Loss=0.05299406498670578 Batch_id=19 Accuracy=97.92: 100%|██████████| 20/20 [00:29<00:00,  1.50s/it] \n",
      "Loss=0.0399475134909153 Batch_id=19 Accuracy=98.44: 100%|██████████| 20/20 [00:29<00:00,  1.50s/it]  \n",
      "Loss=0.03683766722679138 Batch_id=19 Accuracy=98.71: 100%|██████████| 20/20 [00:29<00:00,  1.50s/it] \n",
      "Loss=0.039278868585824966 Batch_id=19 Accuracy=98.81: 100%|██████████| 20/20 [00:30<00:00,  1.51s/it]\n",
      "Loss=0.027537627145648003 Batch_id=19 Accuracy=98.80: 100%|██████████| 20/20 [00:30<00:00,  1.50s/it]\n",
      "Loss=0.02696334570646286 Batch_id=19 Accuracy=98.94: 100%|██████████| 20/20 [00:30<00:00,  1.50s/it] \n",
      "Loss=0.032066598534584045 Batch_id=19 Accuracy=98.94: 100%|██████████| 20/20 [00:29<00:00,  1.50s/it]\n",
      "Loss=0.032555822283029556 Batch_id=19 Accuracy=99.14: 100%|██████████| 20/20 [00:29<00:00,  1.48s/it]\n",
      "Loss=0.021240077912807465 Batch_id=19 Accuracy=99.13: 100%|██████████| 20/20 [00:29<00:00,  1.50s/it]\n"
     ]
    },
    {
     "name": "stdout",
     "output_type": "stream",
     "text": [
      "Test set: Average loss: 0.4925, Accuracy: 8902/10000 (89.02%)\n",
      "\n",
      "--Testing Corruptions--\n"
     ]
    },
    {
     "name": "stderr",
     "output_type": "stream",
     "text": [
      "100%|██████████| 19/19 [04:45<00:00, 15.03s/it]\n"
     ]
    },
    {
     "name": "stdout",
     "output_type": "stream",
     "text": [
      "\n",
      "Avg Corruption Accuracy: 75.55%\n",
      "Global Sparsity: 94.73% \n",
      "\n",
      "---------- Pruning Iteration:  29 / 44\n"
     ]
    },
    {
     "name": "stderr",
     "output_type": "stream",
     "text": [
      "Loss=0.09571873396635056 Batch_id=19 Accuracy=95.95: 100%|██████████| 20/20 [00:30<00:00,  1.51s/it]\n",
      "Loss=0.05659709870815277 Batch_id=19 Accuracy=97.88: 100%|██████████| 20/20 [00:30<00:00,  1.51s/it] \n",
      "Loss=0.03935679420828819 Batch_id=19 Accuracy=98.47: 100%|██████████| 20/20 [00:30<00:00,  1.50s/it] \n",
      "Loss=0.04124106094241142 Batch_id=19 Accuracy=98.61: 100%|██████████| 20/20 [00:29<00:00,  1.49s/it] \n",
      "Loss=0.036838918924331665 Batch_id=19 Accuracy=98.75: 100%|██████████| 20/20 [00:30<00:00,  1.50s/it]\n",
      "Loss=0.03191331773996353 Batch_id=19 Accuracy=98.85: 100%|██████████| 20/20 [00:30<00:00,  1.51s/it] \n",
      "Loss=0.0384136401116848 Batch_id=19 Accuracy=98.93: 100%|██████████| 20/20 [00:30<00:00,  1.50s/it]  \n",
      "Loss=0.03199475631117821 Batch_id=19 Accuracy=98.92: 100%|██████████| 20/20 [00:30<00:00,  1.51s/it] \n",
      "Loss=0.028534119948744774 Batch_id=19 Accuracy=99.01: 100%|██████████| 20/20 [00:30<00:00,  1.50s/it]\n",
      "Loss=0.023702599108219147 Batch_id=19 Accuracy=99.05: 100%|██████████| 20/20 [00:30<00:00,  1.51s/it]\n"
     ]
    },
    {
     "name": "stdout",
     "output_type": "stream",
     "text": [
      "Test set: Average loss: 0.5080, Accuracy: 8907/10000 (89.07%)\n",
      "\n",
      "--Skipping Acc Comp For Corrupted Data--\n",
      "Global Sparsity: 95.26% \n",
      "\n",
      "---------- Pruning Iteration:  30 / 44\n"
     ]
    },
    {
     "name": "stderr",
     "output_type": "stream",
     "text": [
      "Loss=0.07973414659500122 Batch_id=19 Accuracy=95.92: 100%|██████████| 20/20 [00:30<00:00,  1.51s/it]\n",
      "Loss=0.06131312996149063 Batch_id=19 Accuracy=97.84: 100%|██████████| 20/20 [00:30<00:00,  1.50s/it]\n",
      "Loss=0.05819769948720932 Batch_id=19 Accuracy=98.23: 100%|██████████| 20/20 [00:29<00:00,  1.49s/it] \n",
      "Loss=0.04871521145105362 Batch_id=19 Accuracy=98.57: 100%|██████████| 20/20 [00:29<00:00,  1.50s/it] \n",
      "Loss=0.04082484170794487 Batch_id=19 Accuracy=98.68: 100%|██████████| 20/20 [00:29<00:00,  1.50s/it] \n",
      "Loss=0.03484722971916199 Batch_id=19 Accuracy=98.82: 100%|██████████| 20/20 [00:29<00:00,  1.50s/it] \n",
      "Loss=0.028723418712615967 Batch_id=19 Accuracy=98.81: 100%|██████████| 20/20 [00:30<00:00,  1.50s/it]\n",
      "Loss=0.026828167960047722 Batch_id=19 Accuracy=98.93: 100%|██████████| 20/20 [00:30<00:00,  1.50s/it]\n",
      "Loss=0.018542243167757988 Batch_id=19 Accuracy=98.99: 100%|██████████| 20/20 [00:29<00:00,  1.50s/it]\n",
      "Loss=0.03526197001338005 Batch_id=19 Accuracy=98.95: 100%|██████████| 20/20 [00:29<00:00,  1.50s/it] \n"
     ]
    },
    {
     "name": "stdout",
     "output_type": "stream",
     "text": [
      "Test set: Average loss: 0.5024, Accuracy: 8900/10000 (89.00%)\n",
      "\n",
      "--Skipping Acc Comp For Corrupted Data--\n",
      "Global Sparsity: 95.73% \n",
      "\n",
      "---------- Pruning Iteration:  31 / 44\n"
     ]
    },
    {
     "name": "stderr",
     "output_type": "stream",
     "text": [
      "Loss=0.09112448990345001 Batch_id=19 Accuracy=95.75: 100%|██████████| 20/20 [00:29<00:00,  1.49s/it]\n",
      "Loss=0.06236664205789566 Batch_id=19 Accuracy=97.66: 100%|██████████| 20/20 [00:29<00:00,  1.49s/it] \n",
      "Loss=0.04779387265443802 Batch_id=19 Accuracy=98.08: 100%|██████████| 20/20 [00:29<00:00,  1.48s/it] \n",
      "Loss=0.0442703478038311 Batch_id=19 Accuracy=98.50: 100%|██████████| 20/20 [00:29<00:00,  1.49s/it]  \n",
      "Loss=0.047156043350696564 Batch_id=19 Accuracy=98.49: 100%|██████████| 20/20 [00:29<00:00,  1.49s/it]\n",
      "Loss=0.05571921914815903 Batch_id=19 Accuracy=98.64: 100%|██████████| 20/20 [00:30<00:00,  1.50s/it] \n",
      "Loss=0.04724718630313873 Batch_id=19 Accuracy=98.69: 100%|██████████| 20/20 [00:30<00:00,  1.50s/it] \n"
     ]
    },
    {
     "name": "stdout",
     "output_type": "stream",
     "text": [
      "Epoch 00007: reducing learning rate of group 0 to 5.0000e-04.\n"
     ]
    },
    {
     "name": "stderr",
     "output_type": "stream",
     "text": [
      "Loss=0.03650680184364319 Batch_id=19 Accuracy=98.69: 100%|██████████| 20/20 [00:29<00:00,  1.50s/it] \n",
      "Loss=0.03336799889802933 Batch_id=19 Accuracy=98.96: 100%|██████████| 20/20 [00:29<00:00,  1.50s/it] \n",
      "Loss=0.044327206909656525 Batch_id=19 Accuracy=98.91: 100%|██████████| 20/20 [00:29<00:00,  1.49s/it]\n"
     ]
    },
    {
     "name": "stdout",
     "output_type": "stream",
     "text": [
      "Test set: Average loss: 0.4913, Accuracy: 8875/10000 (88.75%)\n",
      "\n",
      "--Skipping Acc Comp For Corrupted Data--\n",
      "Global Sparsity: 96.15% \n",
      "\n",
      "---------- Pruning Iteration:  32 / 44\n"
     ]
    },
    {
     "name": "stderr",
     "output_type": "stream",
     "text": [
      "Loss=0.0964704155921936 Batch_id=19 Accuracy=95.85: 100%|██████████| 20/20 [00:29<00:00,  1.48s/it] \n",
      "Loss=0.06650642305612564 Batch_id=19 Accuracy=97.48: 100%|██████████| 20/20 [00:29<00:00,  1.50s/it] \n",
      "Loss=0.07163765281438828 Batch_id=19 Accuracy=97.93: 100%|██████████| 20/20 [00:29<00:00,  1.50s/it] \n",
      "Loss=0.04233460873365402 Batch_id=19 Accuracy=98.21: 100%|██████████| 20/20 [00:29<00:00,  1.49s/it] \n",
      "Loss=0.04003235697746277 Batch_id=19 Accuracy=98.31: 100%|██████████| 20/20 [00:29<00:00,  1.50s/it] \n",
      "Loss=0.06051797792315483 Batch_id=19 Accuracy=98.43: 100%|██████████| 20/20 [00:29<00:00,  1.49s/it]\n",
      "Loss=0.05226336792111397 Batch_id=19 Accuracy=98.50: 100%|██████████| 20/20 [00:29<00:00,  1.49s/it] \n",
      "Loss=0.0376850850880146 Batch_id=19 Accuracy=98.58: 100%|██████████| 20/20 [00:29<00:00,  1.50s/it]  \n",
      "Loss=0.03836116939783096 Batch_id=19 Accuracy=98.57: 100%|██████████| 20/20 [00:29<00:00,  1.49s/it] \n",
      "Loss=0.026873687282204628 Batch_id=19 Accuracy=98.64: 100%|██████████| 20/20 [00:29<00:00,  1.49s/it]\n"
     ]
    },
    {
     "name": "stdout",
     "output_type": "stream",
     "text": [
      "Test set: Average loss: 0.4968, Accuracy: 8855/10000 (88.55%)\n",
      "\n",
      "--Skipping Acc Comp For Corrupted Data--\n",
      "Global Sparsity: 96.53% \n",
      "\n",
      "---------- Pruning Iteration:  33 / 44\n"
     ]
    },
    {
     "name": "stderr",
     "output_type": "stream",
     "text": [
      "Loss=0.0973333939909935 Batch_id=19 Accuracy=96.02: 100%|██████████| 20/20 [00:29<00:00,  1.50s/it] \n",
      "Loss=0.07291117310523987 Batch_id=19 Accuracy=97.48: 100%|██████████| 20/20 [00:29<00:00,  1.50s/it] \n",
      "Loss=0.06268824636936188 Batch_id=19 Accuracy=97.88: 100%|██████████| 20/20 [00:29<00:00,  1.50s/it] \n",
      "Loss=0.053320541977882385 Batch_id=19 Accuracy=98.11: 100%|██████████| 20/20 [00:29<00:00,  1.49s/it]\n",
      "Loss=0.05973273888230324 Batch_id=19 Accuracy=98.31: 100%|██████████| 20/20 [00:29<00:00,  1.50s/it] \n",
      "Loss=0.047800175845623016 Batch_id=19 Accuracy=98.41: 100%|██████████| 20/20 [00:29<00:00,  1.50s/it]\n",
      "Loss=0.053037602454423904 Batch_id=19 Accuracy=98.34: 100%|██████████| 20/20 [00:29<00:00,  1.48s/it]\n",
      "Loss=0.037579137831926346 Batch_id=19 Accuracy=98.53: 100%|██████████| 20/20 [00:29<00:00,  1.49s/it]\n",
      "Loss=0.04407235234975815 Batch_id=19 Accuracy=98.60: 100%|██████████| 20/20 [00:29<00:00,  1.49s/it] \n",
      "Loss=0.043674565851688385 Batch_id=19 Accuracy=98.68: 100%|██████████| 20/20 [00:30<00:00,  1.50s/it]\n"
     ]
    },
    {
     "name": "stdout",
     "output_type": "stream",
     "text": [
      "Test set: Average loss: 0.4878, Accuracy: 8859/10000 (88.59%)\n",
      "\n",
      "--Skipping Acc Comp For Corrupted Data--\n",
      "Global Sparsity: 96.88% \n",
      "\n",
      "---------- Pruning Iteration:  34 / 44\n"
     ]
    },
    {
     "name": "stderr",
     "output_type": "stream",
     "text": [
      "Loss=0.10074970126152039 Batch_id=19 Accuracy=95.80: 100%|██████████| 20/20 [00:30<00:00,  1.51s/it]\n",
      "Loss=0.06644639372825623 Batch_id=19 Accuracy=97.45: 100%|██████████| 20/20 [00:30<00:00,  1.50s/it]\n",
      "Loss=0.07501401007175446 Batch_id=19 Accuracy=97.71: 100%|██████████| 20/20 [00:30<00:00,  1.50s/it] \n",
      "Loss=0.05577501282095909 Batch_id=19 Accuracy=97.96: 100%|██████████| 20/20 [00:29<00:00,  1.50s/it] \n",
      "Loss=0.03926274552941322 Batch_id=19 Accuracy=98.10: 100%|██████████| 20/20 [00:29<00:00,  1.50s/it] \n",
      "Loss=0.05499627813696861 Batch_id=19 Accuracy=98.11: 100%|██████████| 20/20 [00:29<00:00,  1.49s/it] \n",
      "Loss=0.05573711544275284 Batch_id=19 Accuracy=98.21: 100%|██████████| 20/20 [00:29<00:00,  1.48s/it] \n",
      "Loss=0.04542063921689987 Batch_id=19 Accuracy=98.45: 100%|██████████| 20/20 [00:29<00:00,  1.49s/it] \n"
     ]
    },
    {
     "name": "stdout",
     "output_type": "stream",
     "text": [
      "Epoch 00008: reducing learning rate of group 0 to 5.0000e-04.\n"
     ]
    },
    {
     "name": "stderr",
     "output_type": "stream",
     "text": [
      "Loss=0.05713941901922226 Batch_id=19 Accuracy=98.47: 100%|██████████| 20/20 [00:29<00:00,  1.49s/it] \n",
      "Loss=0.037677373737096786 Batch_id=19 Accuracy=98.62: 100%|██████████| 20/20 [00:29<00:00,  1.50s/it]\n"
     ]
    },
    {
     "name": "stdout",
     "output_type": "stream",
     "text": [
      "Test set: Average loss: 0.4678, Accuracy: 8889/10000 (88.89%)\n",
      "\n",
      "--Skipping Acc Comp For Corrupted Data--\n",
      "Global Sparsity: 97.18% \n",
      "\n",
      "---------- Pruning Iteration:  35 / 44\n"
     ]
    },
    {
     "name": "stderr",
     "output_type": "stream",
     "text": [
      "Loss=0.08808895945549011 Batch_id=19 Accuracy=95.78: 100%|██████████| 20/20 [00:30<00:00,  1.51s/it]\n",
      "Loss=0.08005473017692566 Batch_id=19 Accuracy=97.08: 100%|██████████| 20/20 [00:29<00:00,  1.50s/it]\n",
      "Loss=0.06575027108192444 Batch_id=19 Accuracy=97.63: 100%|██████████| 20/20 [00:29<00:00,  1.50s/it]\n",
      "Loss=0.06513972580432892 Batch_id=19 Accuracy=97.76: 100%|██████████| 20/20 [00:29<00:00,  1.50s/it] \n",
      "Loss=0.054710753262043 Batch_id=19 Accuracy=97.88: 100%|██████████| 20/20 [00:29<00:00,  1.50s/it]   \n",
      "Loss=0.05363021790981293 Batch_id=19 Accuracy=98.15: 100%|██████████| 20/20 [00:30<00:00,  1.50s/it] \n",
      "Loss=0.057148486375808716 Batch_id=19 Accuracy=98.07: 100%|██████████| 20/20 [00:29<00:00,  1.50s/it]\n",
      "Loss=0.054187674075365067 Batch_id=19 Accuracy=98.14: 100%|██████████| 20/20 [00:29<00:00,  1.50s/it]\n",
      "Loss=0.04892976954579353 Batch_id=19 Accuracy=98.23: 100%|██████████| 20/20 [00:29<00:00,  1.49s/it] \n",
      "Loss=0.052161142230033875 Batch_id=19 Accuracy=98.34: 100%|██████████| 20/20 [00:29<00:00,  1.50s/it]\n"
     ]
    },
    {
     "name": "stdout",
     "output_type": "stream",
     "text": [
      "Test set: Average loss: 0.4775, Accuracy: 8867/10000 (88.67%)\n",
      "\n",
      "--Skipping Acc Comp For Corrupted Data--\n",
      "Global Sparsity: 97.46% \n",
      "\n",
      "---------- Pruning Iteration:  36 / 44\n"
     ]
    },
    {
     "name": "stderr",
     "output_type": "stream",
     "text": [
      "Loss=0.1228971928358078 Batch_id=19 Accuracy=95.65: 100%|██████████| 20/20 [00:29<00:00,  1.50s/it] \n",
      "Loss=0.07019154727458954 Batch_id=19 Accuracy=96.95: 100%|██████████| 20/20 [00:29<00:00,  1.49s/it]\n",
      "Loss=0.08573651313781738 Batch_id=19 Accuracy=97.48: 100%|██████████| 20/20 [00:29<00:00,  1.48s/it] \n",
      "Loss=0.05599434673786163 Batch_id=19 Accuracy=97.66: 100%|██████████| 20/20 [00:29<00:00,  1.48s/it]\n",
      "Loss=0.05908918380737305 Batch_id=19 Accuracy=97.79: 100%|██████████| 20/20 [00:29<00:00,  1.48s/it] \n",
      "Loss=0.06125834584236145 Batch_id=19 Accuracy=97.88: 100%|██████████| 20/20 [00:29<00:00,  1.50s/it] \n",
      "Loss=0.058088336139917374 Batch_id=19 Accuracy=97.97: 100%|██████████| 20/20 [00:29<00:00,  1.49s/it]\n"
     ]
    },
    {
     "name": "stdout",
     "output_type": "stream",
     "text": [
      "Epoch 00007: reducing learning rate of group 0 to 5.0000e-04.\n"
     ]
    },
    {
     "name": "stderr",
     "output_type": "stream",
     "text": [
      "Loss=0.0614076666533947 Batch_id=19 Accuracy=98.10: 100%|██████████| 20/20 [00:29<00:00,  1.49s/it]  \n",
      "Loss=0.03950834274291992 Batch_id=19 Accuracy=98.32: 100%|██████████| 20/20 [00:30<00:00,  1.51s/it] \n",
      "Loss=0.050738465040922165 Batch_id=19 Accuracy=98.30: 100%|██████████| 20/20 [00:29<00:00,  1.49s/it]\n"
     ]
    },
    {
     "name": "stdout",
     "output_type": "stream",
     "text": [
      "Test set: Average loss: 0.4640, Accuracy: 8885/10000 (88.85%)\n",
      "\n",
      "--Skipping Acc Comp For Corrupted Data--\n",
      "Global Sparsity: 97.71% \n",
      "\n",
      "---------- Pruning Iteration:  37 / 44\n"
     ]
    },
    {
     "name": "stderr",
     "output_type": "stream",
     "text": [
      "Loss=0.10270097106695175 Batch_id=19 Accuracy=95.50: 100%|██████████| 20/20 [00:29<00:00,  1.48s/it]\n",
      "Loss=0.07202458381652832 Batch_id=19 Accuracy=96.75: 100%|██████████| 20/20 [00:29<00:00,  1.49s/it]\n",
      "Loss=0.06632912904024124 Batch_id=19 Accuracy=97.06: 100%|██████████| 20/20 [00:29<00:00,  1.50s/it]\n",
      "Loss=0.07817144691944122 Batch_id=19 Accuracy=97.32: 100%|██████████| 20/20 [00:29<00:00,  1.50s/it] \n",
      "Loss=0.08312015980482101 Batch_id=19 Accuracy=97.51: 100%|██████████| 20/20 [00:29<00:00,  1.49s/it]\n",
      "Loss=0.07181653380393982 Batch_id=19 Accuracy=97.52: 100%|██████████| 20/20 [00:29<00:00,  1.50s/it] \n"
     ]
    },
    {
     "name": "stdout",
     "output_type": "stream",
     "text": [
      "Epoch 00006: reducing learning rate of group 0 to 5.0000e-04.\n"
     ]
    },
    {
     "name": "stderr",
     "output_type": "stream",
     "text": [
      "Loss=0.06746374070644379 Batch_id=19 Accuracy=97.67: 100%|██████████| 20/20 [00:29<00:00,  1.50s/it]\n",
      "Loss=0.04972252994775772 Batch_id=19 Accuracy=97.90: 100%|██████████| 20/20 [00:29<00:00,  1.49s/it]\n",
      "Loss=0.05448050796985626 Batch_id=19 Accuracy=97.99: 100%|██████████| 20/20 [00:29<00:00,  1.48s/it] \n",
      "Loss=0.06666906177997589 Batch_id=19 Accuracy=98.03: 100%|██████████| 20/20 [00:29<00:00,  1.49s/it] \n"
     ]
    },
    {
     "name": "stdout",
     "output_type": "stream",
     "text": [
      "Test set: Average loss: 0.4697, Accuracy: 8878/10000 (88.78%)\n",
      "\n",
      "--Skipping Acc Comp For Corrupted Data--\n",
      "Global Sparsity: 97.94% \n",
      "\n",
      "---------- Pruning Iteration:  38 / 44\n"
     ]
    },
    {
     "name": "stderr",
     "output_type": "stream",
     "text": [
      "Loss=0.12921862304210663 Batch_id=19 Accuracy=94.94: 100%|██████████| 20/20 [00:29<00:00,  1.48s/it]\n",
      "Loss=0.09932861477136612 Batch_id=19 Accuracy=96.11: 100%|██████████| 20/20 [00:29<00:00,  1.49s/it]\n",
      "Loss=0.10467680543661118 Batch_id=19 Accuracy=96.70: 100%|██████████| 20/20 [00:29<00:00,  1.49s/it]\n",
      "Loss=0.07563856244087219 Batch_id=19 Accuracy=96.96: 100%|██████████| 20/20 [00:30<00:00,  1.50s/it]\n",
      "Loss=0.08458863943815231 Batch_id=19 Accuracy=97.15: 100%|██████████| 20/20 [00:30<00:00,  1.50s/it]\n",
      "Loss=0.0715201124548912 Batch_id=19 Accuracy=97.22: 100%|██████████| 20/20 [00:30<00:00,  1.53s/it] \n",
      "Loss=0.07537411898374557 Batch_id=19 Accuracy=97.40: 100%|██████████| 20/20 [00:29<00:00,  1.48s/it]\n",
      "Loss=0.07609876990318298 Batch_id=19 Accuracy=97.28: 100%|██████████| 20/20 [00:29<00:00,  1.48s/it]\n",
      "Loss=0.05425215885043144 Batch_id=19 Accuracy=97.48: 100%|██████████| 20/20 [00:29<00:00,  1.48s/it]\n",
      "Loss=0.05510353669524193 Batch_id=19 Accuracy=97.63: 100%|██████████| 20/20 [00:29<00:00,  1.48s/it]\n"
     ]
    },
    {
     "name": "stdout",
     "output_type": "stream",
     "text": [
      "Test set: Average loss: 0.4912, Accuracy: 8762/10000 (87.62%)\n",
      "\n",
      "--Skipping Acc Comp For Corrupted Data--\n",
      "Global Sparsity: 98.14% \n",
      "\n",
      "---------- Pruning Iteration:  39 / 44\n"
     ]
    },
    {
     "name": "stderr",
     "output_type": "stream",
     "text": [
      "Loss=0.16250506043434143 Batch_id=19 Accuracy=94.78: 100%|██████████| 20/20 [00:29<00:00,  1.49s/it]\n",
      "Loss=0.08543141931295395 Batch_id=19 Accuracy=96.17: 100%|██████████| 20/20 [00:29<00:00,  1.49s/it]\n",
      "Loss=0.10548777878284454 Batch_id=19 Accuracy=96.53: 100%|██████████| 20/20 [00:29<00:00,  1.50s/it]\n",
      "Loss=0.10043098032474518 Batch_id=19 Accuracy=96.84: 100%|██████████| 20/20 [00:29<00:00,  1.49s/it]\n",
      "Loss=0.08782179653644562 Batch_id=19 Accuracy=97.06: 100%|██████████| 20/20 [00:29<00:00,  1.49s/it]\n"
     ]
    },
    {
     "name": "stdout",
     "output_type": "stream",
     "text": [
      "Epoch 00005: reducing learning rate of group 0 to 5.0000e-04.\n"
     ]
    },
    {
     "name": "stderr",
     "output_type": "stream",
     "text": [
      "Loss=0.0697881430387497 Batch_id=19 Accuracy=97.24: 100%|██████████| 20/20 [00:29<00:00,  1.49s/it] \n",
      "Loss=0.06906745582818985 Batch_id=19 Accuracy=97.46: 100%|██████████| 20/20 [00:29<00:00,  1.49s/it]\n",
      "Loss=0.0656924694776535 Batch_id=19 Accuracy=97.48: 100%|██████████| 20/20 [00:29<00:00,  1.50s/it] \n",
      "Loss=0.0774090588092804 Batch_id=19 Accuracy=97.53: 100%|██████████| 20/20 [00:29<00:00,  1.50s/it] \n",
      "Loss=0.058997511863708496 Batch_id=19 Accuracy=97.61: 100%|██████████| 20/20 [00:30<00:00,  1.50s/it]\n"
     ]
    },
    {
     "name": "stdout",
     "output_type": "stream",
     "text": [
      "Test set: Average loss: 0.4562, Accuracy: 8847/10000 (88.47%)\n",
      "\n",
      "--Skipping Acc Comp For Corrupted Data--\n",
      "Global Sparsity: 98.32% \n",
      "\n",
      "---------- Pruning Iteration:  40 / 44\n"
     ]
    },
    {
     "name": "stderr",
     "output_type": "stream",
     "text": [
      "Loss=0.141184464097023 Batch_id=19 Accuracy=94.55: 100%|██████████| 20/20 [00:30<00:00,  1.51s/it]  \n",
      "Loss=0.11524710804224014 Batch_id=19 Accuracy=95.59: 100%|██████████| 20/20 [00:30<00:00,  1.50s/it]\n",
      "Loss=0.112545907497406 Batch_id=19 Accuracy=96.31: 100%|██████████| 20/20 [00:30<00:00,  1.50s/it]  \n",
      "Loss=0.10801523923873901 Batch_id=19 Accuracy=96.38: 100%|██████████| 20/20 [00:29<00:00,  1.50s/it]\n",
      "Loss=0.10168080031871796 Batch_id=19 Accuracy=96.63: 100%|██████████| 20/20 [00:29<00:00,  1.49s/it]\n",
      "Loss=0.09504573792219162 Batch_id=19 Accuracy=96.69: 100%|██████████| 20/20 [00:29<00:00,  1.50s/it]\n",
      "Loss=0.08048748970031738 Batch_id=19 Accuracy=96.73: 100%|██████████| 20/20 [00:30<00:00,  1.50s/it]\n",
      "Loss=0.0847477838397026 Batch_id=19 Accuracy=97.03: 100%|██████████| 20/20 [00:29<00:00,  1.49s/it] \n",
      "Loss=0.09700524806976318 Batch_id=19 Accuracy=97.02: 100%|██████████| 20/20 [00:30<00:00,  1.51s/it]\n",
      "Loss=0.08652384579181671 Batch_id=19 Accuracy=97.13: 100%|██████████| 20/20 [00:30<00:00,  1.51s/it]"
     ]
    },
    {
     "name": "stdout",
     "output_type": "stream",
     "text": [
      "Epoch 00010: reducing learning rate of group 0 to 5.0000e-04.\n"
     ]
    },
    {
     "name": "stderr",
     "output_type": "stream",
     "text": [
      "\n"
     ]
    },
    {
     "name": "stdout",
     "output_type": "stream",
     "text": [
      "Test set: Average loss: 0.4983, Accuracy: 8796/10000 (87.96%)\n",
      "\n",
      "--Skipping Acc Comp For Corrupted Data--\n",
      "Global Sparsity: 98.49% \n",
      "\n",
      "---------- Pruning Iteration:  41 / 44\n"
     ]
    },
    {
     "name": "stderr",
     "output_type": "stream",
     "text": [
      "Loss=0.14074338972568512 Batch_id=19 Accuracy=94.15: 100%|██████████| 20/20 [00:30<00:00,  1.50s/it]\n",
      "Loss=0.12086844444274902 Batch_id=19 Accuracy=95.54: 100%|██████████| 20/20 [00:30<00:00,  1.50s/it]\n",
      "Loss=0.12951600551605225 Batch_id=19 Accuracy=95.87: 100%|██████████| 20/20 [00:29<00:00,  1.50s/it]\n",
      "Loss=0.1264379769563675 Batch_id=19 Accuracy=96.08: 100%|██████████| 20/20 [00:29<00:00,  1.50s/it] \n",
      "Loss=0.10425326228141785 Batch_id=19 Accuracy=96.31: 100%|██████████| 20/20 [00:29<00:00,  1.50s/it]\n",
      "Loss=0.10435758531093597 Batch_id=19 Accuracy=96.52: 100%|██████████| 20/20 [00:30<00:00,  1.50s/it]\n",
      "Loss=0.09351327270269394 Batch_id=19 Accuracy=96.70: 100%|██████████| 20/20 [00:30<00:00,  1.51s/it]\n",
      "Loss=0.11910048127174377 Batch_id=19 Accuracy=96.86: 100%|██████████| 20/20 [00:29<00:00,  1.50s/it]\n",
      "Loss=0.10515022277832031 Batch_id=19 Accuracy=96.79: 100%|██████████| 20/20 [00:30<00:00,  1.51s/it]\n",
      "Loss=0.0942392572760582 Batch_id=19 Accuracy=96.82: 100%|██████████| 20/20 [00:30<00:00,  1.54s/it] "
     ]
    },
    {
     "name": "stdout",
     "output_type": "stream",
     "text": [
      "Epoch 00010: reducing learning rate of group 0 to 5.0000e-04.\n"
     ]
    },
    {
     "name": "stderr",
     "output_type": "stream",
     "text": [
      "\n"
     ]
    },
    {
     "name": "stdout",
     "output_type": "stream",
     "text": [
      "Test set: Average loss: 0.4674, Accuracy: 8770/10000 (87.70%)\n",
      "\n",
      "--Skipping Acc Comp For Corrupted Data--\n",
      "Global Sparsity: 98.64% \n",
      "\n",
      "---------- Pruning Iteration:  42 / 44\n"
     ]
    },
    {
     "name": "stderr",
     "output_type": "stream",
     "text": [
      "Loss=0.15243622660636902 Batch_id=19 Accuracy=93.84: 100%|██████████| 20/20 [00:29<00:00,  1.49s/it]\n",
      "Loss=0.13246098160743713 Batch_id=19 Accuracy=95.30: 100%|██████████| 20/20 [00:29<00:00,  1.50s/it]\n",
      "Loss=0.11990959942340851 Batch_id=19 Accuracy=95.60: 100%|██████████| 20/20 [00:30<00:00,  1.50s/it]\n",
      "Loss=0.11881464719772339 Batch_id=19 Accuracy=96.11: 100%|██████████| 20/20 [00:30<00:00,  1.50s/it]\n",
      "Loss=0.09714411199092865 Batch_id=19 Accuracy=95.93: 100%|██████████| 20/20 [00:30<00:00,  1.50s/it]\n",
      "Loss=0.12019164115190506 Batch_id=19 Accuracy=96.36: 100%|██████████| 20/20 [00:30<00:00,  1.51s/it]\n",
      "Loss=0.10334338992834091 Batch_id=19 Accuracy=96.37: 100%|██████████| 20/20 [00:30<00:00,  1.51s/it]\n",
      "Loss=0.12546849250793457 Batch_id=19 Accuracy=96.56: 100%|██████████| 20/20 [00:30<00:00,  1.51s/it]\n"
     ]
    },
    {
     "name": "stdout",
     "output_type": "stream",
     "text": [
      "Epoch 00008: reducing learning rate of group 0 to 5.0000e-04.\n"
     ]
    },
    {
     "name": "stderr",
     "output_type": "stream",
     "text": [
      "Loss=0.08218876272439957 Batch_id=19 Accuracy=96.63: 100%|██████████| 20/20 [00:30<00:00,  1.50s/it]\n",
      "Loss=0.09879562258720398 Batch_id=19 Accuracy=96.91: 100%|██████████| 20/20 [00:29<00:00,  1.49s/it]\n"
     ]
    },
    {
     "name": "stdout",
     "output_type": "stream",
     "text": [
      "Test set: Average loss: 0.4501, Accuracy: 8827/10000 (88.27%)\n",
      "\n",
      "--Skipping Acc Comp For Corrupted Data--\n",
      "Global Sparsity: 98.77% \n",
      "\n",
      "---------- Pruning Iteration:  43 / 44\n"
     ]
    },
    {
     "name": "stderr",
     "output_type": "stream",
     "text": [
      "Loss=0.13394993543624878 Batch_id=19 Accuracy=93.92: 100%|██████████| 20/20 [00:30<00:00,  1.50s/it]\n",
      "Loss=0.1548483520746231 Batch_id=19 Accuracy=94.77: 100%|██████████| 20/20 [00:30<00:00,  1.51s/it] \n",
      "Loss=0.14091038703918457 Batch_id=19 Accuracy=95.23: 100%|██████████| 20/20 [00:29<00:00,  1.50s/it]\n",
      "Loss=0.13276442885398865 Batch_id=19 Accuracy=95.56: 100%|██████████| 20/20 [00:30<00:00,  1.51s/it]\n",
      "Loss=0.09483800828456879 Batch_id=19 Accuracy=95.87: 100%|██████████| 20/20 [00:30<00:00,  1.51s/it]\n",
      "Loss=0.12607114017009735 Batch_id=19 Accuracy=95.92: 100%|██████████| 20/20 [00:30<00:00,  1.50s/it]\n",
      "Loss=0.120436891913414 Batch_id=19 Accuracy=96.09: 100%|██████████| 20/20 [00:30<00:00,  1.50s/it]  \n",
      "Loss=0.10703887045383453 Batch_id=19 Accuracy=96.05: 100%|██████████| 20/20 [00:29<00:00,  1.49s/it]\n"
     ]
    },
    {
     "name": "stdout",
     "output_type": "stream",
     "text": [
      "Epoch 00008: reducing learning rate of group 0 to 5.0000e-04.\n"
     ]
    },
    {
     "name": "stderr",
     "output_type": "stream",
     "text": [
      "Loss=0.09376027435064316 Batch_id=19 Accuracy=96.35: 100%|██████████| 20/20 [00:30<00:00,  1.51s/it]\n",
      "Loss=0.09736679494380951 Batch_id=19 Accuracy=96.52: 100%|██████████| 20/20 [00:30<00:00,  1.51s/it]\n"
     ]
    },
    {
     "name": "stdout",
     "output_type": "stream",
     "text": [
      "Test set: Average loss: 0.4448, Accuracy: 8836/10000 (88.36%)\n",
      "\n",
      "--Skipping Acc Comp For Corrupted Data--\n",
      "Global Sparsity: 98.89% \n",
      "\n",
      "---------- Pruning Iteration:  44 / 44\n"
     ]
    },
    {
     "name": "stderr",
     "output_type": "stream",
     "text": [
      "Loss=0.17867496609687805 Batch_id=19 Accuracy=93.43: 100%|██████████| 20/20 [00:29<00:00,  1.50s/it]\n",
      "Loss=0.14163091778755188 Batch_id=19 Accuracy=94.38: 100%|██████████| 20/20 [00:29<00:00,  1.50s/it]\n",
      "Loss=0.1515614539384842 Batch_id=19 Accuracy=94.85: 100%|██████████| 20/20 [00:30<00:00,  1.50s/it] \n",
      "Loss=0.13548073172569275 Batch_id=19 Accuracy=95.24: 100%|██████████| 20/20 [00:30<00:00,  1.50s/it]\n",
      "Loss=0.12958671152591705 Batch_id=19 Accuracy=95.28: 100%|██████████| 20/20 [00:29<00:00,  1.49s/it]\n",
      "Loss=0.13504482805728912 Batch_id=19 Accuracy=95.65: 100%|██████████| 20/20 [00:29<00:00,  1.50s/it]\n",
      "Loss=0.11671946942806244 Batch_id=19 Accuracy=95.68: 100%|██████████| 20/20 [00:29<00:00,  1.49s/it]\n",
      "Loss=0.10774137079715729 Batch_id=19 Accuracy=95.73: 100%|██████████| 20/20 [00:29<00:00,  1.50s/it]\n",
      "Loss=0.11082838475704193 Batch_id=19 Accuracy=95.95: 100%|██████████| 20/20 [00:29<00:00,  1.50s/it]\n",
      "Loss=0.12470926344394684 Batch_id=19 Accuracy=95.90: 100%|██████████| 20/20 [00:29<00:00,  1.50s/it]\n"
     ]
    },
    {
     "name": "stdout",
     "output_type": "stream",
     "text": [
      "Test set: Average loss: 0.4601, Accuracy: 8797/10000 (87.97%)\n",
      "\n",
      "--Testing Corruptions--\n"
     ]
    },
    {
     "name": "stderr",
     "output_type": "stream",
     "text": [
      "100%|██████████| 19/19 [04:46<00:00, 15.08s/it]"
     ]
    },
    {
     "name": "stdout",
     "output_type": "stream",
     "text": [
      "\n",
      "Avg Corruption Accuracy: 73.48%\n",
      "Global Sparsity: 99.00% \n",
      "\n"
     ]
    },
    {
     "name": "stderr",
     "output_type": "stream",
     "text": [
      "\n"
     ]
    }
   ],
   "source": [
    "#VGG16\n",
    "model=copy.deepcopy(VGG16_CIFAR10_0P)\n",
    "TrainLoader=trainloader_CIFAR10\n",
    "TestLoader=testloader_CIFAR10\n",
    "TestCLoader=loader_CIFAR10C\n",
    "PruningRate=0.1\n",
    "NumEpochsEachPruneRetrain=10\n",
    "MaximumPruneLevel=0.01\n",
    "lambda_l1=0\n",
    "lambda_l2=0.0005\n",
    "\n",
    "SaveTrainStepsName=\"Progress/PruningIterations_VGG16_CIFAR_01PR_10Epochs_L2_0005\"\n",
    "\n",
    "\n",
    "ReadMe=\"This model is running pruning with the standard cost function, and the non corrupted dataset, a prunning rate of 0.1 and 10 epoch of retraining\\\n",
    "L2 Regularization of 0.0005 is used\\n\\nOriginal Model: VGG16 Trained with CIFAR10 Dataset\"\n",
    "\n",
    "test_acc, Avg_Corrup_Acc_List, Acc_Corruptions, RemainingWeights_List, Sparcity_List=iterative_pruning(model,device, TrainLoader, TestLoader, TestCLoader, PruningRate, SaveTrainStepsName,ReadMe,\n",
    "                                                                                                        lambda_l1, lambda_l2, NumEpochsEachPruneRetrain,MaximumPruneLevel)"
   ]
  },
  {
   "cell_type": "markdown",
   "metadata": {},
   "source": [
    "# IMAGENET"
   ]
  },
  {
   "cell_type": "code",
   "execution_count": 11,
   "metadata": {},
   "outputs": [],
   "source": [
    "#Choose a corruption level because simulation every level is too much\n",
    "TinyImagenetC_CorruptionClasses=list(loader_TinyImagenetC.keys())\n",
    "TinyImagenetC_CorruptionLevels=list(loader_TinyImagenetC[TinyImagenetC_CorruptionClasses[0]].keys()) #['1', '2', '3', '4', '5']\n",
    "\n",
    "#Choose a level\n",
    "clevel='1'\n",
    "TiniyImageNetCLevel_Loader={}#Filtered for a specifig level of corruption\n",
    "for cname in loader_TinyImagenetC.keys():\n",
    "    TiniyImageNetCLevel_Loader[cname]=loader_TinyImagenetC[cname][clevel]"
   ]
  },
  {
   "cell_type": "markdown",
   "metadata": {},
   "source": [
    "## Check Effect of Pruning Rate"
   ]
  },
  {
   "cell_type": "code",
   "execution_count": 12,
   "metadata": {},
   "outputs": [
    {
     "name": "stdout",
     "output_type": "stream",
     "text": [
      "--Get statistics before pruning--\n",
      "Train set: Average loss: 0.5062, Accuracy: 87297/100000 (87.30%)\n",
      "Test set: Average loss: 1.7581, Accuracy: 3018/5000 (60.36%)\n",
      "\n",
      "--Testing Corruptions--\n"
     ]
    },
    {
     "name": "stderr",
     "output_type": "stream",
     "text": [
      "100%|██████████| 19/19 [03:55<00:00, 12.39s/it]\n"
     ]
    },
    {
     "name": "stdout",
     "output_type": "stream",
     "text": [
      "\n",
      "Avg Corruption Accuracy: 29.33%\n",
      "---------- Pruning Iteration:  1 / 7\n"
     ]
    },
    {
     "name": "stderr",
     "output_type": "stream",
     "text": [
      "Loss=0.7331154942512512 Batch_id=195 Accuracy=80.67: 100%|██████████| 196/196 [01:23<00:00,  2.36it/s]\n",
      "Loss=0.735856831073761 Batch_id=195 Accuracy=81.02: 100%|██████████| 196/196 [01:23<00:00,  2.34it/s] \n",
      "Loss=0.836553692817688 Batch_id=195 Accuracy=81.46: 100%|██████████| 196/196 [01:23<00:00,  2.34it/s] \n",
      "Loss=0.8680287599563599 Batch_id=195 Accuracy=81.83: 100%|██████████| 196/196 [01:23<00:00,  2.34it/s]\n"
     ]
    },
    {
     "name": "stdout",
     "output_type": "stream",
     "text": [
      "Epoch 00004: reducing learning rate of group 0 to 5.0000e-04.\n"
     ]
    },
    {
     "name": "stderr",
     "output_type": "stream",
     "text": [
      "Loss=0.5847856998443604 Batch_id=195 Accuracy=84.22: 100%|██████████| 196/196 [01:23<00:00,  2.34it/s]\n",
      "Loss=0.648185133934021 Batch_id=195 Accuracy=84.95: 100%|██████████| 196/196 [01:23<00:00,  2.34it/s]  \n",
      "Loss=0.6611347794532776 Batch_id=195 Accuracy=85.12: 100%|██████████| 196/196 [01:23<00:00,  2.34it/s] \n",
      "Loss=0.6941097378730774 Batch_id=195 Accuracy=85.24: 100%|██████████| 196/196 [01:23<00:00,  2.34it/s]\n"
     ]
    },
    {
     "name": "stdout",
     "output_type": "stream",
     "text": [
      "Epoch 00008: reducing learning rate of group 0 to 2.5000e-05.\n"
     ]
    },
    {
     "name": "stderr",
     "output_type": "stream",
     "text": [
      "Loss=0.6290409564971924 Batch_id=195 Accuracy=85.41: 100%|██████████| 196/196 [01:23<00:00,  2.34it/s]\n",
      "Loss=0.7291165590286255 Batch_id=195 Accuracy=85.48: 100%|██████████| 196/196 [01:23<00:00,  2.33it/s]\n"
     ]
    },
    {
     "name": "stdout",
     "output_type": "stream",
     "text": [
      "Test set: Average loss: 1.7654, Accuracy: 3005/5000 (60.10%)\n",
      "\n",
      "--Testing Corruptions--\n"
     ]
    },
    {
     "name": "stderr",
     "output_type": "stream",
     "text": [
      "100%|██████████| 19/19 [04:04<00:00, 12.88s/it]\n"
     ]
    },
    {
     "name": "stdout",
     "output_type": "stream",
     "text": [
      "\n",
      "Avg Corruption Accuracy: 29.28%\n",
      "Global Sparsity: 49.55% \n",
      "\n",
      "---------- Pruning Iteration:  2 / 7\n"
     ]
    },
    {
     "name": "stderr",
     "output_type": "stream",
     "text": [
      "Loss=0.814864456653595 Batch_id=195 Accuracy=77.19: 100%|██████████| 196/196 [01:23<00:00,  2.35it/s] \n",
      "Loss=0.9049534797668457 Batch_id=195 Accuracy=79.24: 100%|██████████| 196/196 [01:23<00:00,  2.34it/s]\n",
      "Loss=0.7926986813545227 Batch_id=195 Accuracy=79.98: 100%|██████████| 196/196 [01:23<00:00,  2.33it/s]\n",
      "Loss=0.6872261762619019 Batch_id=195 Accuracy=80.71: 100%|██████████| 196/196 [01:24<00:00,  2.33it/s]\n",
      "Loss=0.7004315853118896 Batch_id=195 Accuracy=81.18: 100%|██████████| 196/196 [01:24<00:00,  2.33it/s]\n",
      "Loss=0.846007227897644 Batch_id=195 Accuracy=81.33: 100%|██████████| 196/196 [01:24<00:00,  2.33it/s] \n",
      "Loss=0.6214720010757446 Batch_id=195 Accuracy=81.85: 100%|██████████| 196/196 [01:23<00:00,  2.33it/s]\n",
      "Loss=0.7465349435806274 Batch_id=195 Accuracy=82.06: 100%|██████████| 196/196 [01:24<00:00,  2.33it/s]\n",
      "Loss=0.7563080787658691 Batch_id=195 Accuracy=82.26: 100%|██████████| 196/196 [01:23<00:00,  2.34it/s]\n",
      "Loss=0.6393833756446838 Batch_id=195 Accuracy=82.61: 100%|██████████| 196/196 [01:23<00:00,  2.34it/s]"
     ]
    },
    {
     "name": "stdout",
     "output_type": "stream",
     "text": [
      "Epoch 00010: reducing learning rate of group 0 to 5.0000e-04.\n"
     ]
    },
    {
     "name": "stderr",
     "output_type": "stream",
     "text": [
      "\n"
     ]
    },
    {
     "name": "stdout",
     "output_type": "stream",
     "text": [
      "Test set: Average loss: 1.8362, Accuracy: 2938/5000 (58.76%)\n",
      "\n",
      "--Testing Corruptions--\n"
     ]
    },
    {
     "name": "stderr",
     "output_type": "stream",
     "text": [
      "100%|██████████| 19/19 [04:32<00:00, 14.34s/it]\n"
     ]
    },
    {
     "name": "stdout",
     "output_type": "stream",
     "text": [
      "\n",
      "Avg Corruption Accuracy: 28.82%\n",
      "Global Sparsity: 74.32% \n",
      "\n",
      "---------- Pruning Iteration:  3 / 7\n"
     ]
    },
    {
     "name": "stderr",
     "output_type": "stream",
     "text": [
      "Loss=1.073481798171997 Batch_id=195 Accuracy=65.53: 100%|██████████| 196/196 [01:23<00:00,  2.34it/s] \n",
      "Loss=0.9163013696670532 Batch_id=195 Accuracy=71.94: 100%|██████████| 196/196 [01:24<00:00,  2.33it/s]\n",
      "Loss=1.2401437759399414 Batch_id=195 Accuracy=73.84: 100%|██████████| 196/196 [01:24<00:00,  2.33it/s]\n",
      "Loss=1.1149084568023682 Batch_id=195 Accuracy=75.16: 100%|██████████| 196/196 [01:24<00:00,  2.32it/s]\n",
      "Loss=0.800508975982666 Batch_id=195 Accuracy=75.86: 100%|██████████| 196/196 [01:24<00:00,  2.32it/s] \n",
      "Loss=0.8952692747116089 Batch_id=195 Accuracy=76.69: 100%|██████████| 196/196 [01:24<00:00,  2.32it/s]\n",
      "Loss=0.9794450998306274 Batch_id=195 Accuracy=77.11: 100%|██████████| 196/196 [01:24<00:00,  2.32it/s]\n",
      "Loss=1.0258702039718628 Batch_id=195 Accuracy=77.57: 100%|██████████| 196/196 [01:24<00:00,  2.32it/s]\n"
     ]
    },
    {
     "name": "stdout",
     "output_type": "stream",
     "text": [
      "Epoch 00008: reducing learning rate of group 0 to 5.0000e-04.\n"
     ]
    },
    {
     "name": "stderr",
     "output_type": "stream",
     "text": [
      "Loss=0.8197385668754578 Batch_id=195 Accuracy=80.41: 100%|██████████| 196/196 [01:24<00:00,  2.33it/s]\n",
      "Loss=0.7392700910568237 Batch_id=195 Accuracy=81.30: 100%|██████████| 196/196 [01:24<00:00,  2.32it/s]\n"
     ]
    },
    {
     "name": "stdout",
     "output_type": "stream",
     "text": [
      "Test set: Average loss: 1.7624, Accuracy: 2961/5000 (59.22%)\n",
      "\n",
      "--Testing Corruptions--\n"
     ]
    },
    {
     "name": "stderr",
     "output_type": "stream",
     "text": [
      "100%|██████████| 19/19 [04:19<00:00, 13.66s/it]\n"
     ]
    },
    {
     "name": "stdout",
     "output_type": "stream",
     "text": [
      "\n",
      "Avg Corruption Accuracy: 27.74%\n",
      "Global Sparsity: 86.70% \n",
      "\n",
      "---------- Pruning Iteration:  4 / 7\n"
     ]
    },
    {
     "name": "stderr",
     "output_type": "stream",
     "text": [
      "Loss=1.6673921346664429 Batch_id=195 Accuracy=55.21: 100%|██████████| 196/196 [01:24<00:00,  2.32it/s]\n",
      "Loss=1.1598231792449951 Batch_id=195 Accuracy=62.67: 100%|██████████| 196/196 [01:24<00:00,  2.32it/s]\n",
      "Loss=1.5184736251831055 Batch_id=195 Accuracy=64.75: 100%|██████████| 196/196 [01:24<00:00,  2.31it/s]\n",
      "Loss=1.1016871929168701 Batch_id=195 Accuracy=66.13: 100%|██████████| 196/196 [01:25<00:00,  2.31it/s]\n",
      "Loss=1.4584097862243652 Batch_id=195 Accuracy=66.97: 100%|██████████| 196/196 [01:24<00:00,  2.31it/s]\n",
      "Loss=1.1358177661895752 Batch_id=195 Accuracy=67.53: 100%|██████████| 196/196 [01:24<00:00,  2.31it/s]\n",
      "Loss=1.3957891464233398 Batch_id=195 Accuracy=68.12: 100%|██████████| 196/196 [01:24<00:00,  2.31it/s]\n"
     ]
    },
    {
     "name": "stdout",
     "output_type": "stream",
     "text": [
      "Epoch 00007: reducing learning rate of group 0 to 5.0000e-04.\n"
     ]
    },
    {
     "name": "stderr",
     "output_type": "stream",
     "text": [
      "Loss=1.1892942190170288 Batch_id=195 Accuracy=70.76: 100%|██████████| 196/196 [01:24<00:00,  2.31it/s]\n",
      "Loss=1.0797640085220337 Batch_id=195 Accuracy=71.44: 100%|██████████| 196/196 [01:24<00:00,  2.31it/s]\n",
      "Loss=1.139315128326416 Batch_id=195 Accuracy=71.56: 100%|██████████| 196/196 [01:24<00:00,  2.31it/s] \n"
     ]
    },
    {
     "name": "stdout",
     "output_type": "stream",
     "text": [
      "Test set: Average loss: 1.7617, Accuracy: 2914/5000 (58.28%)\n",
      "\n",
      "--Testing Corruptions--\n"
     ]
    },
    {
     "name": "stderr",
     "output_type": "stream",
     "text": [
      "100%|██████████| 19/19 [04:28<00:00, 14.12s/it]\n"
     ]
    },
    {
     "name": "stdout",
     "output_type": "stream",
     "text": [
      "\n",
      "Avg Corruption Accuracy: 26.92%\n",
      "Global Sparsity: 92.90% \n",
      "\n",
      "---------- Pruning Iteration:  5 / 7\n"
     ]
    },
    {
     "name": "stderr",
     "output_type": "stream",
     "text": [
      "Loss=2.018444538116455 Batch_id=195 Accuracy=49.11: 100%|██████████| 196/196 [01:24<00:00,  2.32it/s] \n",
      "Loss=1.9754871129989624 Batch_id=195 Accuracy=55.66: 100%|██████████| 196/196 [01:25<00:00,  2.30it/s]\n",
      "Loss=1.9947293996810913 Batch_id=195 Accuracy=57.33: 100%|██████████| 196/196 [01:25<00:00,  2.30it/s]\n",
      "Loss=1.6305328607559204 Batch_id=195 Accuracy=58.57: 100%|██████████| 196/196 [01:25<00:00,  2.30it/s]\n",
      "Loss=1.7847273349761963 Batch_id=195 Accuracy=59.11: 100%|██████████| 196/196 [01:25<00:00,  2.30it/s]\n",
      "Loss=1.71271550655365 Batch_id=195 Accuracy=59.66: 100%|██████████| 196/196 [01:25<00:00,  2.30it/s]  \n",
      "Loss=1.5012845993041992 Batch_id=195 Accuracy=60.19: 100%|██████████| 196/196 [01:25<00:00,  2.30it/s]\n",
      "Loss=1.3931716680526733 Batch_id=195 Accuracy=60.53: 100%|██████████| 196/196 [01:25<00:00,  2.29it/s]\n",
      "Loss=1.3786725997924805 Batch_id=195 Accuracy=60.62: 100%|██████████| 196/196 [01:25<00:00,  2.30it/s]\n",
      "Loss=1.4962666034698486 Batch_id=195 Accuracy=60.91: 100%|██████████| 196/196 [01:25<00:00,  2.30it/s]\n"
     ]
    },
    {
     "name": "stdout",
     "output_type": "stream",
     "text": [
      "Test set: Average loss: 1.8858, Accuracy: 2774/5000 (55.48%)\n",
      "\n",
      "--Skipping Acc Comp For Corrupted Data--\n",
      "Global Sparsity: 95.99% \n",
      "\n",
      "---------- Pruning Iteration:  6 / 7\n"
     ]
    },
    {
     "name": "stderr",
     "output_type": "stream",
     "text": [
      "Loss=2.089728593826294 Batch_id=195 Accuracy=45.20: 100%|██████████| 196/196 [01:25<00:00,  2.30it/s] \n",
      "Loss=1.9195668697357178 Batch_id=195 Accuracy=50.61: 100%|██████████| 196/196 [01:25<00:00,  2.30it/s]\n",
      "Loss=1.982765793800354 Batch_id=195 Accuracy=52.06: 100%|██████████| 196/196 [01:25<00:00,  2.30it/s] \n",
      "Loss=1.9071975946426392 Batch_id=195 Accuracy=52.81: 100%|██████████| 196/196 [01:24<00:00,  2.31it/s]\n",
      "Loss=1.826620101928711 Batch_id=195 Accuracy=53.45: 100%|██████████| 196/196 [01:25<00:00,  2.30it/s] \n",
      "Loss=1.914595603942871 Batch_id=195 Accuracy=53.60: 100%|██████████| 196/196 [01:25<00:00,  2.29it/s] \n",
      "Loss=2.123990535736084 Batch_id=195 Accuracy=53.77: 100%|██████████| 196/196 [01:25<00:00,  2.30it/s] \n",
      "Loss=1.845931053161621 Batch_id=195 Accuracy=54.36: 100%|██████████| 196/196 [01:25<00:00,  2.30it/s] \n"
     ]
    },
    {
     "name": "stdout",
     "output_type": "stream",
     "text": [
      "Epoch 00008: reducing learning rate of group 0 to 5.0000e-04.\n"
     ]
    },
    {
     "name": "stderr",
     "output_type": "stream",
     "text": [
      "Loss=1.6807540655136108 Batch_id=195 Accuracy=56.00: 100%|██████████| 196/196 [01:25<00:00,  2.30it/s]\n",
      "Loss=1.8228733539581299 Batch_id=195 Accuracy=56.74: 100%|██████████| 196/196 [01:25<00:00,  2.29it/s]\n"
     ]
    },
    {
     "name": "stdout",
     "output_type": "stream",
     "text": [
      "Test set: Average loss: 1.9417, Accuracy: 2660/5000 (53.20%)\n",
      "\n",
      "--Skipping Acc Comp For Corrupted Data--\n",
      "Global Sparsity: 97.54% \n",
      "\n",
      "---------- Pruning Iteration:  7 / 7\n"
     ]
    },
    {
     "name": "stderr",
     "output_type": "stream",
     "text": [
      "Loss=2.3942596912384033 Batch_id=195 Accuracy=39.90: 100%|██████████| 196/196 [01:25<00:00,  2.30it/s]\n",
      "Loss=2.4728403091430664 Batch_id=195 Accuracy=44.27: 100%|██████████| 196/196 [01:25<00:00,  2.30it/s]\n",
      "Loss=2.220916509628296 Batch_id=195 Accuracy=45.61: 100%|██████████| 196/196 [01:25<00:00,  2.29it/s] \n",
      "Loss=1.9286363124847412 Batch_id=195 Accuracy=46.55: 100%|██████████| 196/196 [01:25<00:00,  2.30it/s]\n",
      "Loss=2.2707011699676514 Batch_id=195 Accuracy=46.70: 100%|██████████| 196/196 [01:25<00:00,  2.30it/s]\n",
      "Loss=2.255549192428589 Batch_id=195 Accuracy=47.19: 100%|██████████| 196/196 [01:25<00:00,  2.29it/s] \n",
      "Loss=2.0423531532287598 Batch_id=195 Accuracy=47.55: 100%|██████████| 196/196 [01:25<00:00,  2.29it/s]\n"
     ]
    },
    {
     "name": "stdout",
     "output_type": "stream",
     "text": [
      "Epoch 00007: reducing learning rate of group 0 to 5.0000e-04.\n"
     ]
    },
    {
     "name": "stderr",
     "output_type": "stream",
     "text": [
      "Loss=1.909876823425293 Batch_id=195 Accuracy=49.12: 100%|██████████| 196/196 [01:25<00:00,  2.29it/s] \n",
      "Loss=2.021383762359619 Batch_id=195 Accuracy=49.58: 100%|██████████| 196/196 [01:25<00:00,  2.29it/s] \n",
      "Loss=2.1476054191589355 Batch_id=195 Accuracy=49.57: 100%|██████████| 196/196 [01:25<00:00,  2.29it/s]\n"
     ]
    },
    {
     "name": "stdout",
     "output_type": "stream",
     "text": [
      "Test set: Average loss: 2.1418, Accuracy: 2428/5000 (48.56%)\n",
      "\n",
      "--Testing Corruptions--\n"
     ]
    },
    {
     "name": "stderr",
     "output_type": "stream",
     "text": [
      "100%|██████████| 19/19 [04:45<00:00, 15.02s/it]"
     ]
    },
    {
     "name": "stdout",
     "output_type": "stream",
     "text": [
      "\n",
      "Avg Corruption Accuracy: 20.91%\n",
      "Global Sparsity: 98.32% \n",
      "\n"
     ]
    },
    {
     "name": "stderr",
     "output_type": "stream",
     "text": [
      "\n"
     ]
    }
   ],
   "source": [
    "#RestNet18\n",
    "model=copy.deepcopy(ResNet18_TINYIMAGENET_0P)\n",
    "TrainLoader=trainloader_TINYIMAGENET\n",
    "TestLoader=testloader_TINYIMAGENET\n",
    "TestCLoader=TiniyImageNetCLevel_Loader\n",
    "PruningRate=0.5\n",
    "NumEpochsEachPruneRetrain=10\n",
    "MaximumPruneLevel=0.01\n",
    "\n",
    "SaveTrainStepsName=\"Progress/PruningIterations_ResNet18_IMAGENET_05PR_10Epochs_L2_0005\"\n",
    "\n",
    "ReadMe=\"This model is running pruning with the standard cost function, and the non corrupted dataset, a prunning rate of 0.5 and 10 epoch of retraining\\\n",
    "L2 Regularization of 0.0005 is used\\n\\nOriginal Model: ResNet18 Trained with TINY-IMAGENET Dataset\"\n",
    "\n",
    "test_acc, Avg_Corrup_Acc_List, Acc_Corruptions, RemainingWeights_List, Sparcity_List=iterative_pruning(model,device, TrainLoader, TestLoader, TestCLoader, PruningRate, SaveTrainStepsName,ReadMe,\n",
    "                                                                                                        lambda_l1, lambda_l2, NumEpochsEachPruneRetrain,MaximumPruneLevel)\n"
   ]
  },
  {
   "cell_type": "code",
   "execution_count": 13,
   "metadata": {},
   "outputs": [
    {
     "name": "stdout",
     "output_type": "stream",
     "text": [
      "--Get statistics before pruning--\n",
      "Train set: Average loss: 0.5064, Accuracy: 87185/100000 (87.19%)\n",
      "Test set: Average loss: 1.7581, Accuracy: 3018/5000 (60.36%)\n",
      "\n",
      "--Testing Corruptions--\n"
     ]
    },
    {
     "name": "stderr",
     "output_type": "stream",
     "text": [
      "100%|██████████| 19/19 [04:50<00:00, 15.27s/it]\n"
     ]
    },
    {
     "name": "stdout",
     "output_type": "stream",
     "text": [
      "\n",
      "Avg Corruption Accuracy: 29.33%\n",
      "---------- Pruning Iteration:  1 / 16\n"
     ]
    },
    {
     "name": "stderr",
     "output_type": "stream",
     "text": [
      "Loss=0.6867067217826843 Batch_id=195 Accuracy=80.79: 100%|██████████| 196/196 [01:26<00:00,  2.27it/s]\n",
      "Loss=0.7791337966918945 Batch_id=195 Accuracy=80.89: 100%|██████████| 196/196 [01:26<00:00,  2.26it/s]\n",
      "Loss=0.925680935382843 Batch_id=195 Accuracy=81.37: 100%|██████████| 196/196 [01:26<00:00,  2.26it/s] \n",
      "Loss=0.7845808267593384 Batch_id=195 Accuracy=81.59: 100%|██████████| 196/196 [01:26<00:00,  2.26it/s]\n"
     ]
    },
    {
     "name": "stdout",
     "output_type": "stream",
     "text": [
      "Epoch 00004: reducing learning rate of group 0 to 5.0000e-04.\n"
     ]
    },
    {
     "name": "stderr",
     "output_type": "stream",
     "text": [
      "Loss=0.47632020711898804 Batch_id=195 Accuracy=84.66: 100%|██████████| 196/196 [01:26<00:00,  2.26it/s]\n",
      "Loss=0.6153222918510437 Batch_id=195 Accuracy=85.66: 100%|██████████| 196/196 [01:26<00:00,  2.26it/s] \n",
      "Loss=0.691114068031311 Batch_id=195 Accuracy=85.77: 100%|██████████| 196/196 [01:26<00:00,  2.26it/s]  \n",
      "Loss=0.7561982870101929 Batch_id=195 Accuracy=85.87: 100%|██████████| 196/196 [01:26<00:00,  2.26it/s] \n"
     ]
    },
    {
     "name": "stdout",
     "output_type": "stream",
     "text": [
      "Epoch 00008: reducing learning rate of group 0 to 2.5000e-05.\n"
     ]
    },
    {
     "name": "stderr",
     "output_type": "stream",
     "text": [
      "Loss=0.6490357518196106 Batch_id=195 Accuracy=86.19: 100%|██████████| 196/196 [01:26<00:00,  2.26it/s] \n",
      "Loss=0.7288875579833984 Batch_id=195 Accuracy=86.22: 100%|██████████| 196/196 [01:26<00:00,  2.26it/s] \n"
     ]
    },
    {
     "name": "stdout",
     "output_type": "stream",
     "text": [
      "Test set: Average loss: 1.7690, Accuracy: 2996/5000 (59.92%)\n",
      "\n",
      "--Testing Corruptions--\n"
     ]
    },
    {
     "name": "stderr",
     "output_type": "stream",
     "text": [
      "100%|██████████| 19/19 [04:58<00:00, 15.70s/it]\n"
     ]
    },
    {
     "name": "stdout",
     "output_type": "stream",
     "text": [
      "\n",
      "Avg Corruption Accuracy: 29.26%\n",
      "Global Sparsity: 24.77% \n",
      "\n",
      "---------- Pruning Iteration:  2 / 16\n"
     ]
    },
    {
     "name": "stderr",
     "output_type": "stream",
     "text": [
      "Loss=0.7647494077682495 Batch_id=195 Accuracy=83.08: 100%|██████████| 196/196 [01:26<00:00,  2.27it/s]\n",
      "Loss=0.6786310076713562 Batch_id=195 Accuracy=83.10: 100%|██████████| 196/196 [01:26<00:00,  2.25it/s]\n",
      "Loss=0.7804732918739319 Batch_id=195 Accuracy=83.35: 100%|██████████| 196/196 [01:27<00:00,  2.25it/s]\n",
      "Loss=0.48966795206069946 Batch_id=195 Accuracy=83.77: 100%|██████████| 196/196 [01:26<00:00,  2.25it/s]\n",
      "Loss=0.6562200784683228 Batch_id=195 Accuracy=84.10: 100%|██████████| 196/196 [01:27<00:00,  2.25it/s] \n",
      "Loss=0.7836833596229553 Batch_id=195 Accuracy=84.27: 100%|██████████| 196/196 [01:27<00:00,  2.25it/s]\n",
      "Loss=0.6096742153167725 Batch_id=195 Accuracy=84.40: 100%|██████████| 196/196 [01:27<00:00,  2.25it/s]\n"
     ]
    },
    {
     "name": "stdout",
     "output_type": "stream",
     "text": [
      "Epoch 00007: reducing learning rate of group 0 to 5.0000e-04.\n"
     ]
    },
    {
     "name": "stderr",
     "output_type": "stream",
     "text": [
      "Loss=0.4858790934085846 Batch_id=195 Accuracy=87.39: 100%|██████████| 196/196 [01:27<00:00,  2.24it/s] \n",
      "Loss=0.41360849142074585 Batch_id=195 Accuracy=88.39: 100%|██████████| 196/196 [01:27<00:00,  2.24it/s]\n",
      "Loss=0.5032454133033752 Batch_id=195 Accuracy=88.61: 100%|██████████| 196/196 [01:27<00:00,  2.24it/s] \n"
     ]
    },
    {
     "name": "stdout",
     "output_type": "stream",
     "text": [
      "Test set: Average loss: 1.7908, Accuracy: 3002/5000 (60.04%)\n",
      "\n",
      "--Testing Corruptions--\n"
     ]
    },
    {
     "name": "stderr",
     "output_type": "stream",
     "text": [
      "100%|██████████| 19/19 [05:09<00:00, 16.29s/it]\n"
     ]
    },
    {
     "name": "stdout",
     "output_type": "stream",
     "text": [
      "\n",
      "Avg Corruption Accuracy: 28.73%\n",
      "Global Sparsity: 43.35% \n",
      "\n",
      "---------- Pruning Iteration:  3 / 16\n"
     ]
    },
    {
     "name": "stderr",
     "output_type": "stream",
     "text": [
      "Loss=0.5585619211196899 Batch_id=195 Accuracy=84.40: 100%|██████████| 196/196 [01:27<00:00,  2.25it/s]\n",
      "Loss=0.5791725516319275 Batch_id=195 Accuracy=85.12: 100%|██████████| 196/196 [01:27<00:00,  2.25it/s] \n",
      "Loss=0.6848528981208801 Batch_id=195 Accuracy=85.92: 100%|██████████| 196/196 [01:27<00:00,  2.24it/s] \n",
      "Loss=0.6894277334213257 Batch_id=195 Accuracy=86.09: 100%|██████████| 196/196 [01:27<00:00,  2.24it/s]\n"
     ]
    },
    {
     "name": "stdout",
     "output_type": "stream",
     "text": [
      "Epoch 00004: reducing learning rate of group 0 to 5.0000e-04.\n"
     ]
    },
    {
     "name": "stderr",
     "output_type": "stream",
     "text": [
      "Loss=0.4338610768318176 Batch_id=195 Accuracy=88.82: 100%|██████████| 196/196 [01:27<00:00,  2.24it/s] \n",
      "Loss=0.4404843747615814 Batch_id=195 Accuracy=89.66: 100%|██████████| 196/196 [01:27<00:00,  2.24it/s] \n",
      "Loss=0.4581874907016754 Batch_id=195 Accuracy=89.93: 100%|██████████| 196/196 [01:27<00:00,  2.24it/s] \n",
      "Loss=0.5421673059463501 Batch_id=195 Accuracy=90.17: 100%|██████████| 196/196 [01:27<00:00,  2.24it/s] \n"
     ]
    },
    {
     "name": "stdout",
     "output_type": "stream",
     "text": [
      "Epoch 00008: reducing learning rate of group 0 to 2.5000e-05.\n"
     ]
    },
    {
     "name": "stderr",
     "output_type": "stream",
     "text": [
      "Loss=0.3893575966358185 Batch_id=195 Accuracy=90.38: 100%|██████████| 196/196 [01:27<00:00,  2.24it/s] \n",
      "Loss=0.38002991676330566 Batch_id=195 Accuracy=90.30: 100%|██████████| 196/196 [01:27<00:00,  2.24it/s]\n"
     ]
    },
    {
     "name": "stdout",
     "output_type": "stream",
     "text": [
      "Test set: Average loss: 1.8063, Accuracy: 2991/5000 (59.82%)\n",
      "\n",
      "--Testing Corruptions--\n"
     ]
    },
    {
     "name": "stderr",
     "output_type": "stream",
     "text": [
      "100%|██████████| 19/19 [05:15<00:00, 16.58s/it]\n"
     ]
    },
    {
     "name": "stdout",
     "output_type": "stream",
     "text": [
      "\n",
      "Avg Corruption Accuracy: 29.01%\n",
      "Global Sparsity: 57.29% \n",
      "\n",
      "---------- Pruning Iteration:  4 / 16\n"
     ]
    },
    {
     "name": "stderr",
     "output_type": "stream",
     "text": [
      "Loss=0.6865981817245483 Batch_id=195 Accuracy=83.40: 100%|██████████| 196/196 [01:27<00:00,  2.24it/s]\n",
      "Loss=0.6423965692520142 Batch_id=195 Accuracy=85.32: 100%|██████████| 196/196 [01:27<00:00,  2.23it/s]\n",
      "Loss=0.6894199848175049 Batch_id=195 Accuracy=85.95: 100%|██████████| 196/196 [01:27<00:00,  2.23it/s] \n",
      "Loss=0.6086934208869934 Batch_id=195 Accuracy=86.55: 100%|██████████| 196/196 [01:27<00:00,  2.23it/s] \n",
      "Loss=0.7273500561714172 Batch_id=195 Accuracy=86.83: 100%|██████████| 196/196 [01:28<00:00,  2.23it/s] \n",
      "Loss=0.4769818186759949 Batch_id=195 Accuracy=87.02: 100%|██████████| 196/196 [01:27<00:00,  2.23it/s] \n",
      "Loss=0.5767472982406616 Batch_id=195 Accuracy=87.37: 100%|██████████| 196/196 [01:27<00:00,  2.23it/s] \n",
      "Loss=0.5510753393173218 Batch_id=195 Accuracy=87.62: 100%|██████████| 196/196 [01:27<00:00,  2.23it/s] \n",
      "Loss=0.6346492171287537 Batch_id=195 Accuracy=87.63: 100%|██████████| 196/196 [01:28<00:00,  2.23it/s] \n"
     ]
    },
    {
     "name": "stdout",
     "output_type": "stream",
     "text": [
      "Epoch 00009: reducing learning rate of group 0 to 5.0000e-04.\n"
     ]
    },
    {
     "name": "stderr",
     "output_type": "stream",
     "text": [
      "Loss=0.573706865310669 Batch_id=195 Accuracy=90.53: 100%|██████████| 196/196 [01:27<00:00,  2.23it/s]  \n"
     ]
    },
    {
     "name": "stdout",
     "output_type": "stream",
     "text": [
      "Test set: Average loss: 1.8393, Accuracy: 2976/5000 (59.52%)\n",
      "\n",
      "--Testing Corruptions--\n"
     ]
    },
    {
     "name": "stderr",
     "output_type": "stream",
     "text": [
      "100%|██████████| 19/19 [05:21<00:00, 16.93s/it]\n"
     ]
    },
    {
     "name": "stdout",
     "output_type": "stream",
     "text": [
      "\n",
      "Avg Corruption Accuracy: 29.00%\n",
      "Global Sparsity: 67.74% \n",
      "\n",
      "---------- Pruning Iteration:  5 / 16\n"
     ]
    },
    {
     "name": "stderr",
     "output_type": "stream",
     "text": [
      "Loss=0.7141619324684143 Batch_id=195 Accuracy=82.08: 100%|██████████| 196/196 [01:27<00:00,  2.23it/s]\n",
      "Loss=0.5378509163856506 Batch_id=195 Accuracy=85.41: 100%|██████████| 196/196 [01:28<00:00,  2.23it/s]\n",
      "Loss=0.7036864757537842 Batch_id=195 Accuracy=86.69: 100%|██████████| 196/196 [01:28<00:00,  2.23it/s] \n",
      "Loss=0.5754929780960083 Batch_id=195 Accuracy=87.20: 100%|██████████| 196/196 [01:27<00:00,  2.23it/s] \n",
      "Loss=0.600706934928894 Batch_id=195 Accuracy=87.40: 100%|██████████| 196/196 [01:28<00:00,  2.23it/s]  \n"
     ]
    },
    {
     "name": "stdout",
     "output_type": "stream",
     "text": [
      "Epoch 00005: reducing learning rate of group 0 to 5.0000e-04.\n"
     ]
    },
    {
     "name": "stderr",
     "output_type": "stream",
     "text": [
      "Loss=0.4705215394496918 Batch_id=195 Accuracy=90.41: 100%|██████████| 196/196 [01:27<00:00,  2.23it/s] \n",
      "Loss=0.5096829533576965 Batch_id=195 Accuracy=91.55: 100%|██████████| 196/196 [01:28<00:00,  2.23it/s] \n",
      "Loss=0.36809486150741577 Batch_id=195 Accuracy=91.62: 100%|██████████| 196/196 [01:28<00:00,  2.22it/s]\n",
      "Loss=0.4616053104400635 Batch_id=195 Accuracy=91.89: 100%|██████████| 196/196 [01:28<00:00,  2.22it/s] \n",
      "Loss=0.33974161744117737 Batch_id=195 Accuracy=92.08: 100%|██████████| 196/196 [01:28<00:00,  2.23it/s]\n"
     ]
    },
    {
     "name": "stdout",
     "output_type": "stream",
     "text": [
      "Test set: Average loss: 1.8497, Accuracy: 2952/5000 (59.04%)\n",
      "\n",
      "--Skipping Acc Comp For Corrupted Data--\n",
      "Global Sparsity: 75.58% \n",
      "\n",
      "---------- Pruning Iteration:  6 / 16\n"
     ]
    },
    {
     "name": "stderr",
     "output_type": "stream",
     "text": [
      "Loss=0.6245586276054382 Batch_id=195 Accuracy=79.86: 100%|██████████| 196/196 [01:28<00:00,  2.23it/s]\n",
      "Loss=0.7598589658737183 Batch_id=195 Accuracy=83.78: 100%|██████████| 196/196 [01:28<00:00,  2.22it/s]\n",
      "Loss=0.6260298490524292 Batch_id=195 Accuracy=85.06: 100%|██████████| 196/196 [01:28<00:00,  2.22it/s]\n",
      "Loss=0.6629959344863892 Batch_id=195 Accuracy=85.70: 100%|██████████| 196/196 [01:28<00:00,  2.22it/s]\n"
     ]
    },
    {
     "name": "stdout",
     "output_type": "stream",
     "text": [
      "Epoch 00004: reducing learning rate of group 0 to 5.0000e-04.\n"
     ]
    },
    {
     "name": "stderr",
     "output_type": "stream",
     "text": [
      "Loss=0.4308744966983795 Batch_id=195 Accuracy=89.07: 100%|██████████| 196/196 [01:28<00:00,  2.22it/s] \n",
      "Loss=0.4881137013435364 Batch_id=195 Accuracy=90.29: 100%|██████████| 196/196 [01:28<00:00,  2.22it/s] \n",
      "Loss=0.44822949171066284 Batch_id=195 Accuracy=90.34: 100%|██████████| 196/196 [01:28<00:00,  2.23it/s]\n",
      "Loss=0.45361560583114624 Batch_id=195 Accuracy=90.63: 100%|██████████| 196/196 [01:28<00:00,  2.23it/s]\n"
     ]
    },
    {
     "name": "stdout",
     "output_type": "stream",
     "text": [
      "Epoch 00008: reducing learning rate of group 0 to 2.5000e-05.\n"
     ]
    },
    {
     "name": "stderr",
     "output_type": "stream",
     "text": [
      "Loss=0.44594699144363403 Batch_id=195 Accuracy=90.90: 100%|██████████| 196/196 [01:28<00:00,  2.22it/s]\n",
      "Loss=0.537105917930603 Batch_id=195 Accuracy=90.67: 100%|██████████| 196/196 [01:28<00:00,  2.22it/s]  \n"
     ]
    },
    {
     "name": "stdout",
     "output_type": "stream",
     "text": [
      "Test set: Average loss: 1.8209, Accuracy: 2969/5000 (59.38%)\n",
      "\n",
      "--Testing Corruptions--\n"
     ]
    },
    {
     "name": "stderr",
     "output_type": "stream",
     "text": [
      "100%|██████████| 19/19 [05:27<00:00, 17.23s/it]\n"
     ]
    },
    {
     "name": "stdout",
     "output_type": "stream",
     "text": [
      "\n",
      "Avg Corruption Accuracy: 28.55%\n",
      "Global Sparsity: 81.45% \n",
      "\n",
      "---------- Pruning Iteration:  7 / 16\n"
     ]
    },
    {
     "name": "stderr",
     "output_type": "stream",
     "text": [
      "Loss=0.8291166424751282 Batch_id=195 Accuracy=76.46: 100%|██████████| 196/196 [01:27<00:00,  2.23it/s]\n",
      "Loss=0.6518594026565552 Batch_id=195 Accuracy=80.83: 100%|██████████| 196/196 [01:28<00:00,  2.22it/s]\n",
      "Loss=0.6846615076065063 Batch_id=195 Accuracy=82.26: 100%|██████████| 196/196 [01:28<00:00,  2.22it/s]\n",
      "Loss=0.6677767038345337 Batch_id=195 Accuracy=83.15: 100%|██████████| 196/196 [01:28<00:00,  2.22it/s]\n",
      "Loss=0.5392652750015259 Batch_id=195 Accuracy=83.72: 100%|██████████| 196/196 [01:28<00:00,  2.22it/s]\n",
      "Loss=0.6399915218353271 Batch_id=195 Accuracy=84.20: 100%|██████████| 196/196 [01:28<00:00,  2.22it/s]\n",
      "Loss=0.6617430448532104 Batch_id=195 Accuracy=84.14: 100%|██████████| 196/196 [01:28<00:00,  2.22it/s]\n",
      "Loss=0.7026486992835999 Batch_id=195 Accuracy=84.64: 100%|██████████| 196/196 [01:28<00:00,  2.22it/s] \n"
     ]
    },
    {
     "name": "stdout",
     "output_type": "stream",
     "text": [
      "Epoch 00008: reducing learning rate of group 0 to 5.0000e-04.\n"
     ]
    },
    {
     "name": "stderr",
     "output_type": "stream",
     "text": [
      "Loss=0.554311215877533 Batch_id=195 Accuracy=87.97: 100%|██████████| 196/196 [01:28<00:00,  2.22it/s]  \n",
      "Loss=0.5242565870285034 Batch_id=195 Accuracy=88.97: 100%|██████████| 196/196 [01:28<00:00,  2.22it/s] \n"
     ]
    },
    {
     "name": "stdout",
     "output_type": "stream",
     "text": [
      "Test set: Average loss: 1.8166, Accuracy: 2963/5000 (59.26%)\n",
      "\n",
      "--Skipping Acc Comp For Corrupted Data--\n",
      "Global Sparsity: 85.86% \n",
      "\n",
      "---------- Pruning Iteration:  8 / 16\n"
     ]
    },
    {
     "name": "stderr",
     "output_type": "stream",
     "text": [
      "Loss=0.847007155418396 Batch_id=195 Accuracy=75.38: 100%|██████████| 196/196 [01:28<00:00,  2.22it/s] \n",
      "Loss=0.8770941495895386 Batch_id=195 Accuracy=79.31: 100%|██████████| 196/196 [01:28<00:00,  2.22it/s]\n",
      "Loss=0.7799962759017944 Batch_id=195 Accuracy=80.37: 100%|██████████| 196/196 [01:28<00:00,  2.22it/s]\n",
      "Loss=0.7437102794647217 Batch_id=195 Accuracy=81.15: 100%|██████████| 196/196 [01:28<00:00,  2.22it/s]\n",
      "Loss=0.8653938174247742 Batch_id=195 Accuracy=81.47: 100%|██████████| 196/196 [01:28<00:00,  2.22it/s]\n",
      "Loss=0.7637097835540771 Batch_id=195 Accuracy=82.13: 100%|██████████| 196/196 [01:28<00:00,  2.23it/s]\n",
      "Loss=0.7130737900733948 Batch_id=195 Accuracy=82.25: 100%|██████████| 196/196 [01:28<00:00,  2.22it/s]\n",
      "Loss=0.6887551546096802 Batch_id=195 Accuracy=82.39: 100%|██████████| 196/196 [01:28<00:00,  2.22it/s]\n",
      "Loss=0.9028173685073853 Batch_id=195 Accuracy=82.49: 100%|██████████| 196/196 [01:28<00:00,  2.21it/s]\n",
      "Loss=0.6161569356918335 Batch_id=195 Accuracy=82.73: 100%|██████████| 196/196 [01:28<00:00,  2.22it/s]\n"
     ]
    },
    {
     "name": "stdout",
     "output_type": "stream",
     "text": [
      "Test set: Average loss: 1.9538, Accuracy: 2814/5000 (56.28%)\n",
      "\n",
      "--Testing Corruptions--\n"
     ]
    },
    {
     "name": "stderr",
     "output_type": "stream",
     "text": [
      "100%|██████████| 19/19 [05:31<00:00, 17.47s/it]\n"
     ]
    },
    {
     "name": "stdout",
     "output_type": "stream",
     "text": [
      "\n",
      "Avg Corruption Accuracy: 25.28%\n",
      "Global Sparsity: 89.17% \n",
      "\n",
      "---------- Pruning Iteration:  9 / 16\n"
     ]
    },
    {
     "name": "stderr",
     "output_type": "stream",
     "text": [
      "Loss=0.8862401843070984 Batch_id=195 Accuracy=74.40: 100%|██████████| 196/196 [01:28<00:00,  2.22it/s]\n",
      "Loss=0.9052665829658508 Batch_id=195 Accuracy=77.48: 100%|██████████| 196/196 [01:28<00:00,  2.22it/s]\n",
      "Loss=0.9107815027236938 Batch_id=195 Accuracy=78.58: 100%|██████████| 196/196 [01:28<00:00,  2.21it/s]\n",
      "Loss=0.834636390209198 Batch_id=195 Accuracy=78.82: 100%|██████████| 196/196 [01:28<00:00,  2.21it/s] \n",
      "Loss=0.7586823105812073 Batch_id=195 Accuracy=79.41: 100%|██████████| 196/196 [01:28<00:00,  2.21it/s]\n",
      "Loss=0.8688584566116333 Batch_id=195 Accuracy=79.92: 100%|██████████| 196/196 [01:28<00:00,  2.21it/s]\n",
      "Loss=0.7727672457695007 Batch_id=195 Accuracy=79.92: 100%|██████████| 196/196 [01:28<00:00,  2.21it/s]\n",
      "Loss=0.8227640986442566 Batch_id=195 Accuracy=80.32: 100%|██████████| 196/196 [01:28<00:00,  2.21it/s]\n"
     ]
    },
    {
     "name": "stdout",
     "output_type": "stream",
     "text": [
      "Epoch 00008: reducing learning rate of group 0 to 5.0000e-04.\n"
     ]
    },
    {
     "name": "stderr",
     "output_type": "stream",
     "text": [
      "Loss=0.671832263469696 Batch_id=195 Accuracy=83.74: 100%|██████████| 196/196 [01:28<00:00,  2.21it/s] \n",
      "Loss=0.6857488751411438 Batch_id=195 Accuracy=84.65: 100%|██████████| 196/196 [01:28<00:00,  2.21it/s] \n"
     ]
    },
    {
     "name": "stdout",
     "output_type": "stream",
     "text": [
      "Test set: Average loss: 1.8198, Accuracy: 2948/5000 (58.96%)\n",
      "\n",
      "--Skipping Acc Comp For Corrupted Data--\n",
      "Global Sparsity: 91.65% \n",
      "\n",
      "---------- Pruning Iteration:  10 / 16\n"
     ]
    },
    {
     "name": "stderr",
     "output_type": "stream",
     "text": [
      "Loss=1.097969651222229 Batch_id=195 Accuracy=71.54: 100%|██████████| 196/196 [01:28<00:00,  2.21it/s] \n",
      "Loss=0.9178282618522644 Batch_id=195 Accuracy=74.58: 100%|██████████| 196/196 [01:28<00:00,  2.21it/s]\n",
      "Loss=1.0976579189300537 Batch_id=195 Accuracy=75.47: 100%|██████████| 196/196 [01:28<00:00,  2.21it/s]\n",
      "Loss=1.0050612688064575 Batch_id=195 Accuracy=76.01: 100%|██████████| 196/196 [01:28<00:00,  2.21it/s]\n",
      "Loss=0.8899609446525574 Batch_id=195 Accuracy=76.14: 100%|██████████| 196/196 [01:28<00:00,  2.21it/s]\n",
      "Loss=0.9799717664718628 Batch_id=195 Accuracy=76.55: 100%|██████████| 196/196 [01:28<00:00,  2.21it/s]\n",
      "Loss=1.0435078144073486 Batch_id=195 Accuracy=76.84: 100%|██████████| 196/196 [01:28<00:00,  2.21it/s]\n",
      "Loss=0.8915770649909973 Batch_id=195 Accuracy=76.90: 100%|██████████| 196/196 [01:28<00:00,  2.22it/s]\n"
     ]
    },
    {
     "name": "stdout",
     "output_type": "stream",
     "text": [
      "Epoch 00008: reducing learning rate of group 0 to 5.0000e-04.\n"
     ]
    },
    {
     "name": "stderr",
     "output_type": "stream",
     "text": [
      "Loss=0.7537851333618164 Batch_id=195 Accuracy=80.55: 100%|██████████| 196/196 [01:28<00:00,  2.22it/s]\n",
      "Loss=0.7838536500930786 Batch_id=195 Accuracy=81.50: 100%|██████████| 196/196 [01:28<00:00,  2.21it/s]\n"
     ]
    },
    {
     "name": "stdout",
     "output_type": "stream",
     "text": [
      "Test set: Average loss: 1.8159, Accuracy: 2925/5000 (58.50%)\n",
      "\n",
      "--Testing Corruptions--\n"
     ]
    },
    {
     "name": "stderr",
     "output_type": "stream",
     "text": [
      "100%|██████████| 19/19 [05:40<00:00, 17.91s/it]\n"
     ]
    },
    {
     "name": "stdout",
     "output_type": "stream",
     "text": [
      "\n",
      "Avg Corruption Accuracy: 27.38%\n",
      "Global Sparsity: 93.51% \n",
      "\n",
      "---------- Pruning Iteration:  11 / 16\n"
     ]
    },
    {
     "name": "stderr",
     "output_type": "stream",
     "text": [
      "Loss=1.0799071788787842 Batch_id=195 Accuracy=68.64: 100%|██████████| 196/196 [01:28<00:00,  2.22it/s]\n",
      "Loss=1.0656495094299316 Batch_id=195 Accuracy=71.36: 100%|██████████| 196/196 [01:28<00:00,  2.21it/s]\n",
      "Loss=1.2551089525222778 Batch_id=195 Accuracy=71.95: 100%|██████████| 196/196 [01:28<00:00,  2.21it/s]\n",
      "Loss=0.9282131195068359 Batch_id=195 Accuracy=72.40: 100%|██████████| 196/196 [01:28<00:00,  2.21it/s]\n",
      "Loss=1.184538722038269 Batch_id=195 Accuracy=72.81: 100%|██████████| 196/196 [01:28<00:00,  2.21it/s] \n",
      "Loss=1.0573978424072266 Batch_id=195 Accuracy=73.10: 100%|██████████| 196/196 [01:28<00:00,  2.21it/s]\n",
      "Loss=1.0795495510101318 Batch_id=195 Accuracy=73.12: 100%|██████████| 196/196 [01:28<00:00,  2.21it/s]\n"
     ]
    },
    {
     "name": "stdout",
     "output_type": "stream",
     "text": [
      "Epoch 00007: reducing learning rate of group 0 to 5.0000e-04.\n"
     ]
    },
    {
     "name": "stderr",
     "output_type": "stream",
     "text": [
      "Loss=0.7495073676109314 Batch_id=195 Accuracy=76.45: 100%|██████████| 196/196 [01:28<00:00,  2.21it/s]\n",
      "Loss=0.9802509546279907 Batch_id=195 Accuracy=77.32: 100%|██████████| 196/196 [01:28<00:00,  2.21it/s]\n",
      "Loss=1.0119086503982544 Batch_id=195 Accuracy=77.92: 100%|██████████| 196/196 [01:28<00:00,  2.21it/s]\n"
     ]
    },
    {
     "name": "stdout",
     "output_type": "stream",
     "text": [
      "Test set: Average loss: 1.8203, Accuracy: 2895/5000 (57.90%)\n",
      "\n",
      "--Skipping Acc Comp For Corrupted Data--\n",
      "Global Sparsity: 94.91% \n",
      "\n",
      "---------- Pruning Iteration:  12 / 16\n"
     ]
    },
    {
     "name": "stderr",
     "output_type": "stream",
     "text": [
      "Loss=1.338261365890503 Batch_id=195 Accuracy=65.28: 100%|██████████| 196/196 [01:28<00:00,  2.21it/s] \n",
      "Loss=1.2643024921417236 Batch_id=195 Accuracy=67.65: 100%|██████████| 196/196 [01:28<00:00,  2.21it/s]\n",
      "Loss=1.1595791578292847 Batch_id=195 Accuracy=68.24: 100%|██████████| 196/196 [01:28<00:00,  2.21it/s]\n",
      "Loss=1.2424172163009644 Batch_id=195 Accuracy=68.95: 100%|██████████| 196/196 [01:28<00:00,  2.20it/s]\n",
      "Loss=1.349616289138794 Batch_id=195 Accuracy=68.88: 100%|██████████| 196/196 [01:29<00:00,  2.20it/s] \n",
      "Loss=1.318115472793579 Batch_id=195 Accuracy=69.14: 100%|██████████| 196/196 [01:29<00:00,  2.20it/s] \n"
     ]
    },
    {
     "name": "stdout",
     "output_type": "stream",
     "text": [
      "Epoch 00006: reducing learning rate of group 0 to 5.0000e-04.\n"
     ]
    },
    {
     "name": "stderr",
     "output_type": "stream",
     "text": [
      "Loss=0.9463731050491333 Batch_id=195 Accuracy=72.20: 100%|██████████| 196/196 [01:28<00:00,  2.20it/s]\n",
      "Loss=0.9386385083198547 Batch_id=195 Accuracy=73.10: 100%|██████████| 196/196 [01:28<00:00,  2.20it/s]\n",
      "Loss=0.9565685987472534 Batch_id=195 Accuracy=73.43: 100%|██████████| 196/196 [01:28<00:00,  2.21it/s]\n",
      "Loss=0.9783450365066528 Batch_id=195 Accuracy=73.61: 100%|██████████| 196/196 [01:28<00:00,  2.21it/s]\n"
     ]
    },
    {
     "name": "stdout",
     "output_type": "stream",
     "text": [
      "Test set: Average loss: 1.8257, Accuracy: 2872/5000 (57.44%)\n",
      "\n",
      "--Skipping Acc Comp For Corrupted Data--\n",
      "Global Sparsity: 95.95% \n",
      "\n",
      "---------- Pruning Iteration:  13 / 16\n"
     ]
    },
    {
     "name": "stderr",
     "output_type": "stream",
     "text": [
      "Loss=1.5103784799575806 Batch_id=195 Accuracy=61.47: 100%|██████████| 196/196 [01:28<00:00,  2.21it/s]\n",
      "Loss=1.3846980333328247 Batch_id=195 Accuracy=63.63: 100%|██████████| 196/196 [01:28<00:00,  2.21it/s]\n",
      "Loss=1.194892168045044 Batch_id=195 Accuracy=64.43: 100%|██████████| 196/196 [01:28<00:00,  2.21it/s] \n",
      "Loss=1.2194993495941162 Batch_id=195 Accuracy=64.54: 100%|██████████| 196/196 [01:28<00:00,  2.20it/s]\n",
      "Loss=1.261925458908081 Batch_id=195 Accuracy=64.82: 100%|██████████| 196/196 [01:28<00:00,  2.21it/s] \n",
      "Loss=1.3665045499801636 Batch_id=195 Accuracy=65.22: 100%|██████████| 196/196 [01:28<00:00,  2.21it/s]\n"
     ]
    },
    {
     "name": "stdout",
     "output_type": "stream",
     "text": [
      "Epoch 00006: reducing learning rate of group 0 to 5.0000e-04.\n"
     ]
    },
    {
     "name": "stderr",
     "output_type": "stream",
     "text": [
      "Loss=1.1491676568984985 Batch_id=195 Accuracy=67.59: 100%|██████████| 196/196 [01:28<00:00,  2.21it/s]\n",
      "Loss=1.2847353219985962 Batch_id=195 Accuracy=68.64: 100%|██████████| 196/196 [01:28<00:00,  2.21it/s]\n",
      "Loss=1.2153832912445068 Batch_id=195 Accuracy=68.98: 100%|██████████| 196/196 [01:28<00:00,  2.20it/s]\n",
      "Loss=1.1564159393310547 Batch_id=195 Accuracy=69.21: 100%|██████████| 196/196 [01:28<00:00,  2.21it/s]"
     ]
    },
    {
     "name": "stdout",
     "output_type": "stream",
     "text": [
      "Epoch 00010: reducing learning rate of group 0 to 2.5000e-05.\n"
     ]
    },
    {
     "name": "stderr",
     "output_type": "stream",
     "text": [
      "\n"
     ]
    },
    {
     "name": "stdout",
     "output_type": "stream",
     "text": [
      "Test set: Average loss: 1.8369, Accuracy: 2872/5000 (57.44%)\n",
      "\n",
      "--Skipping Acc Comp For Corrupted Data--\n",
      "Global Sparsity: 96.74% \n",
      "\n",
      "---------- Pruning Iteration:  14 / 16\n"
     ]
    },
    {
     "name": "stderr",
     "output_type": "stream",
     "text": [
      "Loss=1.5542603731155396 Batch_id=195 Accuracy=58.37: 100%|██████████| 196/196 [01:28<00:00,  2.21it/s]\n",
      "Loss=1.569171667098999 Batch_id=195 Accuracy=60.14: 100%|██████████| 196/196 [01:28<00:00,  2.20it/s] \n",
      "Loss=1.4974994659423828 Batch_id=195 Accuracy=60.77: 100%|██████████| 196/196 [01:28<00:00,  2.21it/s]\n",
      "Loss=1.7873952388763428 Batch_id=195 Accuracy=61.12: 100%|██████████| 196/196 [01:28<00:00,  2.20it/s]\n",
      "Loss=1.548258662223816 Batch_id=195 Accuracy=61.42: 100%|██████████| 196/196 [01:28<00:00,  2.20it/s] \n",
      "Loss=1.8126558065414429 Batch_id=195 Accuracy=61.26: 100%|██████████| 196/196 [01:28<00:00,  2.21it/s]\n"
     ]
    },
    {
     "name": "stdout",
     "output_type": "stream",
     "text": [
      "Epoch 00006: reducing learning rate of group 0 to 5.0000e-04.\n"
     ]
    },
    {
     "name": "stderr",
     "output_type": "stream",
     "text": [
      "Loss=1.324083685874939 Batch_id=195 Accuracy=63.73: 100%|██████████| 196/196 [01:29<00:00,  2.20it/s] \n",
      "Loss=1.196094274520874 Batch_id=195 Accuracy=64.70: 100%|██████████| 196/196 [01:29<00:00,  2.20it/s] \n",
      "Loss=1.275942087173462 Batch_id=195 Accuracy=64.81: 100%|██████████| 196/196 [01:28<00:00,  2.20it/s] \n",
      "Loss=1.6030031442642212 Batch_id=195 Accuracy=64.83: 100%|██████████| 196/196 [01:29<00:00,  2.20it/s]\n"
     ]
    },
    {
     "name": "stdout",
     "output_type": "stream",
     "text": [
      "Test set: Average loss: 1.8563, Accuracy: 2813/5000 (56.26%)\n",
      "\n",
      "--Skipping Acc Comp For Corrupted Data--\n",
      "Global Sparsity: 97.33% \n",
      "\n",
      "---------- Pruning Iteration:  15 / 16\n"
     ]
    },
    {
     "name": "stderr",
     "output_type": "stream",
     "text": [
      "Loss=1.8322432041168213 Batch_id=195 Accuracy=54.97: 100%|██████████| 196/196 [01:28<00:00,  2.21it/s]\n",
      "Loss=1.6250419616699219 Batch_id=195 Accuracy=56.73: 100%|██████████| 196/196 [01:29<00:00,  2.20it/s]\n",
      "Loss=1.5715723037719727 Batch_id=195 Accuracy=57.31: 100%|██████████| 196/196 [01:28<00:00,  2.20it/s]\n",
      "Loss=1.600497841835022 Batch_id=195 Accuracy=57.69: 100%|██████████| 196/196 [01:29<00:00,  2.20it/s] \n",
      "Loss=1.7519934177398682 Batch_id=195 Accuracy=57.80: 100%|██████████| 196/196 [01:28<00:00,  2.20it/s]\n",
      "Loss=1.823718786239624 Batch_id=195 Accuracy=58.02: 100%|██████████| 196/196 [01:29<00:00,  2.20it/s] \n"
     ]
    },
    {
     "name": "stdout",
     "output_type": "stream",
     "text": [
      "Epoch 00006: reducing learning rate of group 0 to 5.0000e-04.\n"
     ]
    },
    {
     "name": "stderr",
     "output_type": "stream",
     "text": [
      "Loss=1.6015613079071045 Batch_id=195 Accuracy=60.16: 100%|██████████| 196/196 [01:28<00:00,  2.20it/s]\n",
      "Loss=1.5854504108428955 Batch_id=195 Accuracy=60.73: 100%|██████████| 196/196 [01:28<00:00,  2.20it/s]\n",
      "Loss=1.534997820854187 Batch_id=195 Accuracy=61.03: 100%|██████████| 196/196 [01:28<00:00,  2.21it/s] \n",
      "Loss=1.8453505039215088 Batch_id=195 Accuracy=61.05: 100%|██████████| 196/196 [01:29<00:00,  2.19it/s]\n"
     ]
    },
    {
     "name": "stdout",
     "output_type": "stream",
     "text": [
      "Test set: Average loss: 1.9068, Accuracy: 2739/5000 (54.78%)\n",
      "\n",
      "--Skipping Acc Comp For Corrupted Data--\n",
      "Global Sparsity: 97.77% \n",
      "\n",
      "---------- Pruning Iteration:  16 / 16\n"
     ]
    },
    {
     "name": "stderr",
     "output_type": "stream",
     "text": [
      "Loss=1.993185043334961 Batch_id=195 Accuracy=51.82: 100%|██████████| 196/196 [01:29<00:00,  2.20it/s] \n",
      "Loss=1.8696584701538086 Batch_id=195 Accuracy=53.49: 100%|██████████| 196/196 [01:28<00:00,  2.21it/s]\n",
      "Loss=1.9532489776611328 Batch_id=195 Accuracy=53.97: 100%|██████████| 196/196 [01:29<00:00,  2.20it/s]\n",
      "Loss=1.6430631875991821 Batch_id=195 Accuracy=54.47: 100%|██████████| 196/196 [01:28<00:00,  2.21it/s]\n",
      "Loss=1.776454210281372 Batch_id=195 Accuracy=54.38: 100%|██████████| 196/196 [01:28<00:00,  2.21it/s] \n",
      "Loss=1.6889142990112305 Batch_id=195 Accuracy=54.63: 100%|██████████| 196/196 [01:28<00:00,  2.21it/s]\n",
      "Loss=1.755829095840454 Batch_id=195 Accuracy=54.81: 100%|██████████| 196/196 [01:29<00:00,  2.20it/s] \n"
     ]
    },
    {
     "name": "stdout",
     "output_type": "stream",
     "text": [
      "Epoch 00007: reducing learning rate of group 0 to 5.0000e-04.\n"
     ]
    },
    {
     "name": "stderr",
     "output_type": "stream",
     "text": [
      "Loss=1.651384711265564 Batch_id=195 Accuracy=56.65: 100%|██████████| 196/196 [01:29<00:00,  2.20it/s] \n",
      "Loss=1.674770712852478 Batch_id=195 Accuracy=57.42: 100%|██████████| 196/196 [01:29<00:00,  2.20it/s] \n",
      "Loss=1.5158201456069946 Batch_id=195 Accuracy=57.40: 100%|██████████| 196/196 [01:28<00:00,  2.20it/s]\n"
     ]
    },
    {
     "name": "stdout",
     "output_type": "stream",
     "text": [
      "Test set: Average loss: 1.9630, Accuracy: 2674/5000 (53.48%)\n",
      "\n",
      "--Testing Corruptions--\n"
     ]
    },
    {
     "name": "stderr",
     "output_type": "stream",
     "text": [
      "100%|██████████| 19/19 [05:49<00:00, 18.38s/it]"
     ]
    },
    {
     "name": "stdout",
     "output_type": "stream",
     "text": [
      "\n",
      "Avg Corruption Accuracy: 23.36%\n",
      "Global Sparsity: 98.10% \n",
      "\n"
     ]
    },
    {
     "name": "stderr",
     "output_type": "stream",
     "text": [
      "\n"
     ]
    }
   ],
   "source": [
    "#RestNet18\n",
    "model=copy.deepcopy(ResNet18_TINYIMAGENET_0P)\n",
    "TrainLoader=trainloader_TINYIMAGENET\n",
    "TestLoader=testloader_TINYIMAGENET\n",
    "TestCLoader=TiniyImageNetCLevel_Loader\n",
    "PruningRate=0.25\n",
    "NumEpochsEachPruneRetrain=10\n",
    "MaximumPruneLevel=0.01\n",
    "\n",
    "SaveTrainStepsName=\"Progress/PruningIterations_ResNet18_IMAGENET_025PR_10Epochs_L2_0005\"\n",
    "\n",
    "ReadMe=\"This model is running pruning with the standard cost function, and the non corrupted dataset, a prunning rate of 0.25 and 10 epoch of retraining\\\n",
    "L2 Regularization of 0.0005 is used\\n\\nOriginal Model: ResNet18 Trained with TINY-IMAGENET Dataset\"\n",
    "\n",
    "test_acc, Avg_Corrup_Acc_List, Acc_Corruptions, RemainingWeights_List, Sparcity_List=iterative_pruning(model,device, TrainLoader, TestLoader, TestCLoader, PruningRate, SaveTrainStepsName,ReadMe,\n",
    "                                                                                                        lambda_l1, lambda_l2, NumEpochsEachPruneRetrain,MaximumPruneLevel)"
   ]
  },
  {
   "cell_type": "code",
   "execution_count": 14,
   "metadata": {},
   "outputs": [
    {
     "name": "stdout",
     "output_type": "stream",
     "text": [
      "--Get statistics before pruning--\n",
      "Train set: Average loss: 0.5075, Accuracy: 87234/100000 (87.23%)\n",
      "Test set: Average loss: 1.7581, Accuracy: 3018/5000 (60.36%)\n",
      "\n",
      "--Testing Corruptions--\n"
     ]
    },
    {
     "name": "stderr",
     "output_type": "stream",
     "text": [
      "100%|██████████| 19/19 [05:52<00:00, 18.57s/it]\n"
     ]
    },
    {
     "name": "stdout",
     "output_type": "stream",
     "text": [
      "\n",
      "Avg Corruption Accuracy: 29.33%\n",
      "---------- Pruning Iteration:  1 / 44\n"
     ]
    },
    {
     "name": "stderr",
     "output_type": "stream",
     "text": [
      "Loss=0.9555371999740601 Batch_id=195 Accuracy=80.32: 100%|██████████| 196/196 [01:29<00:00,  2.19it/s]\n",
      "Loss=0.7646521329879761 Batch_id=195 Accuracy=80.44: 100%|██████████| 196/196 [01:29<00:00,  2.18it/s]\n",
      "Loss=0.6305708289146423 Batch_id=195 Accuracy=80.77: 100%|██████████| 196/196 [01:30<00:00,  2.18it/s]\n",
      "Loss=0.9158715009689331 Batch_id=195 Accuracy=81.34: 100%|██████████| 196/196 [01:30<00:00,  2.17it/s]\n",
      "Loss=0.7348360419273376 Batch_id=195 Accuracy=81.46: 100%|██████████| 196/196 [01:29<00:00,  2.18it/s]\n",
      "Loss=0.7509911060333252 Batch_id=195 Accuracy=81.76: 100%|██████████| 196/196 [01:30<00:00,  2.17it/s]\n"
     ]
    },
    {
     "name": "stdout",
     "output_type": "stream",
     "text": [
      "Epoch 00006: reducing learning rate of group 0 to 5.0000e-04.\n"
     ]
    },
    {
     "name": "stderr",
     "output_type": "stream",
     "text": [
      "Loss=0.693215012550354 Batch_id=195 Accuracy=85.27: 100%|██████████| 196/196 [01:30<00:00,  2.18it/s]  \n",
      "Loss=0.5597728490829468 Batch_id=195 Accuracy=86.43: 100%|██████████| 196/196 [01:30<00:00,  2.17it/s] \n",
      "Loss=0.5451780557632446 Batch_id=195 Accuracy=87.08: 100%|██████████| 196/196 [01:30<00:00,  2.17it/s] \n",
      "Loss=0.5390567779541016 Batch_id=195 Accuracy=87.26: 100%|██████████| 196/196 [01:30<00:00,  2.18it/s] \n"
     ]
    },
    {
     "name": "stdout",
     "output_type": "stream",
     "text": [
      "Test set: Average loss: 1.7724, Accuracy: 3026/5000 (60.52%)\n",
      "\n",
      "--Testing Corruptions--\n"
     ]
    },
    {
     "name": "stderr",
     "output_type": "stream",
     "text": [
      "100%|██████████| 19/19 [05:59<00:00, 18.90s/it]\n"
     ]
    },
    {
     "name": "stdout",
     "output_type": "stream",
     "text": [
      "\n",
      "Avg Corruption Accuracy: 29.35%\n",
      "Global Sparsity: 9.91% \n",
      "\n",
      "---------- Pruning Iteration:  2 / 44\n"
     ]
    },
    {
     "name": "stderr",
     "output_type": "stream",
     "text": [
      "Loss=0.659333348274231 Batch_id=195 Accuracy=83.47: 100%|██████████| 196/196 [01:29<00:00,  2.18it/s] \n",
      "Loss=0.7218878269195557 Batch_id=195 Accuracy=83.22: 100%|██████████| 196/196 [01:30<00:00,  2.17it/s]\n",
      "Loss=0.6771561503410339 Batch_id=195 Accuracy=83.28: 100%|██████████| 196/196 [01:30<00:00,  2.17it/s]\n",
      "Loss=0.7103103995323181 Batch_id=195 Accuracy=83.57: 100%|██████████| 196/196 [01:30<00:00,  2.17it/s]\n"
     ]
    },
    {
     "name": "stdout",
     "output_type": "stream",
     "text": [
      "Epoch 00004: reducing learning rate of group 0 to 5.0000e-04.\n"
     ]
    },
    {
     "name": "stderr",
     "output_type": "stream",
     "text": [
      "Loss=0.5559020638465881 Batch_id=195 Accuracy=87.23: 100%|██████████| 196/196 [01:30<00:00,  2.18it/s] \n",
      "Loss=0.5244184732437134 Batch_id=195 Accuracy=88.53: 100%|██████████| 196/196 [01:29<00:00,  2.18it/s] \n",
      "Loss=0.4910402297973633 Batch_id=195 Accuracy=88.74: 100%|██████████| 196/196 [01:30<00:00,  2.17it/s] \n",
      "Loss=0.4418264329433441 Batch_id=195 Accuracy=88.87: 100%|██████████| 196/196 [01:30<00:00,  2.18it/s] \n",
      "Loss=0.4655187726020813 Batch_id=195 Accuracy=89.19: 100%|██████████| 196/196 [01:30<00:00,  2.18it/s] \n",
      "Loss=0.4259788990020752 Batch_id=195 Accuracy=89.19: 100%|██████████| 196/196 [01:30<00:00,  2.17it/s] \n"
     ]
    },
    {
     "name": "stdout",
     "output_type": "stream",
     "text": [
      "Test set: Average loss: 1.7867, Accuracy: 3000/5000 (60.00%)\n",
      "\n",
      "--Testing Corruptions--\n"
     ]
    },
    {
     "name": "stderr",
     "output_type": "stream",
     "text": [
      "100%|██████████| 19/19 [06:01<00:00, 19.01s/it]\n"
     ]
    },
    {
     "name": "stdout",
     "output_type": "stream",
     "text": [
      "\n",
      "Avg Corruption Accuracy: 29.22%\n",
      "Global Sparsity: 18.83% \n",
      "\n",
      "---------- Pruning Iteration:  3 / 44\n"
     ]
    },
    {
     "name": "stderr",
     "output_type": "stream",
     "text": [
      "Loss=0.6519075036048889 Batch_id=195 Accuracy=85.36: 100%|██████████| 196/196 [01:30<00:00,  2.17it/s]\n",
      "Loss=0.6158443689346313 Batch_id=195 Accuracy=84.92: 100%|██████████| 196/196 [01:30<00:00,  2.17it/s] \n",
      "Loss=0.5317836403846741 Batch_id=195 Accuracy=85.31: 100%|██████████| 196/196 [01:30<00:00,  2.16it/s] \n",
      "Loss=0.6125262975692749 Batch_id=195 Accuracy=85.60: 100%|██████████| 196/196 [01:30<00:00,  2.17it/s] \n",
      "Loss=0.6570410132408142 Batch_id=195 Accuracy=85.87: 100%|██████████| 196/196 [01:30<00:00,  2.17it/s] \n",
      "Loss=0.4942963719367981 Batch_id=195 Accuracy=85.97: 100%|██████████| 196/196 [01:30<00:00,  2.17it/s] \n",
      "Loss=0.7006554007530212 Batch_id=195 Accuracy=86.19: 100%|██████████| 196/196 [01:30<00:00,  2.16it/s] \n",
      "Loss=0.6504355072975159 Batch_id=195 Accuracy=86.22: 100%|██████████| 196/196 [01:30<00:00,  2.17it/s] \n",
      "Loss=0.5688924193382263 Batch_id=195 Accuracy=86.75: 100%|██████████| 196/196 [01:30<00:00,  2.16it/s] \n"
     ]
    },
    {
     "name": "stdout",
     "output_type": "stream",
     "text": [
      "Epoch 00009: reducing learning rate of group 0 to 5.0000e-04.\n"
     ]
    },
    {
     "name": "stderr",
     "output_type": "stream",
     "text": [
      "Loss=0.3652748465538025 Batch_id=195 Accuracy=90.19: 100%|██████████| 196/196 [01:30<00:00,  2.16it/s] \n"
     ]
    },
    {
     "name": "stdout",
     "output_type": "stream",
     "text": [
      "Test set: Average loss: 1.8164, Accuracy: 2990/5000 (59.80%)\n",
      "\n",
      "--Testing Corruptions--\n"
     ]
    },
    {
     "name": "stderr",
     "output_type": "stream",
     "text": [
      "100%|██████████| 19/19 [06:06<00:00, 19.28s/it]\n"
     ]
    },
    {
     "name": "stdout",
     "output_type": "stream",
     "text": [
      "\n",
      "Avg Corruption Accuracy: 28.96%\n",
      "Global Sparsity: 26.85% \n",
      "\n",
      "---------- Pruning Iteration:  4 / 44\n"
     ]
    },
    {
     "name": "stderr",
     "output_type": "stream",
     "text": [
      "Loss=0.3832851052284241 Batch_id=195 Accuracy=87.66: 100%|██████████| 196/196 [01:30<00:00,  2.17it/s] \n",
      "Loss=0.5734201669692993 Batch_id=195 Accuracy=87.89: 100%|██████████| 196/196 [01:30<00:00,  2.16it/s] \n",
      "Loss=0.5981415510177612 Batch_id=195 Accuracy=88.17: 100%|██████████| 196/196 [01:30<00:00,  2.16it/s] \n",
      "Loss=0.5477957725524902 Batch_id=195 Accuracy=88.31: 100%|██████████| 196/196 [01:30<00:00,  2.17it/s] \n"
     ]
    },
    {
     "name": "stdout",
     "output_type": "stream",
     "text": [
      "Epoch 00004: reducing learning rate of group 0 to 5.0000e-04.\n"
     ]
    },
    {
     "name": "stderr",
     "output_type": "stream",
     "text": [
      "Loss=0.38759562373161316 Batch_id=195 Accuracy=91.53: 100%|██████████| 196/196 [01:30<00:00,  2.16it/s]\n",
      "Loss=0.35753628611564636 Batch_id=195 Accuracy=92.72: 100%|██████████| 196/196 [01:30<00:00,  2.16it/s]\n",
      "Loss=0.34244096279144287 Batch_id=195 Accuracy=92.99: 100%|██████████| 196/196 [01:30<00:00,  2.16it/s]\n",
      "Loss=0.3301211893558502 Batch_id=195 Accuracy=93.42: 100%|██████████| 196/196 [01:30<00:00,  2.16it/s] \n",
      "Loss=0.3431321382522583 Batch_id=195 Accuracy=93.47: 100%|██████████| 196/196 [01:30<00:00,  2.16it/s] \n",
      "Loss=0.4085169732570648 Batch_id=195 Accuracy=93.58: 100%|██████████| 196/196 [01:30<00:00,  2.16it/s] \n"
     ]
    },
    {
     "name": "stdout",
     "output_type": "stream",
     "text": [
      "Test set: Average loss: 1.8212, Accuracy: 3010/5000 (60.20%)\n",
      "\n",
      "--Skipping Acc Comp For Corrupted Data--\n",
      "Global Sparsity: 34.08% \n",
      "\n",
      "---------- Pruning Iteration:  5 / 44\n"
     ]
    },
    {
     "name": "stderr",
     "output_type": "stream",
     "text": [
      "Loss=0.5045057535171509 Batch_id=195 Accuracy=89.51: 100%|██████████| 196/196 [01:30<00:00,  2.16it/s] \n",
      "Loss=0.47591209411621094 Batch_id=195 Accuracy=89.35: 100%|██████████| 196/196 [01:30<00:00,  2.16it/s]\n",
      "Loss=0.37908118963241577 Batch_id=195 Accuracy=89.77: 100%|██████████| 196/196 [01:30<00:00,  2.16it/s]\n",
      "Loss=0.4690150320529938 Batch_id=195 Accuracy=89.76: 100%|██████████| 196/196 [01:30<00:00,  2.16it/s] \n",
      "Loss=0.4277418553829193 Batch_id=195 Accuracy=89.78: 100%|██████████| 196/196 [01:30<00:00,  2.16it/s] \n",
      "Loss=0.5054283738136292 Batch_id=195 Accuracy=89.84: 100%|██████████| 196/196 [01:30<00:00,  2.16it/s] \n"
     ]
    },
    {
     "name": "stdout",
     "output_type": "stream",
     "text": [
      "Epoch 00006: reducing learning rate of group 0 to 5.0000e-04.\n"
     ]
    },
    {
     "name": "stderr",
     "output_type": "stream",
     "text": [
      "Loss=0.3091919720172882 Batch_id=195 Accuracy=93.17: 100%|██████████| 196/196 [01:30<00:00,  2.16it/s] \n",
      "Loss=0.2634698748588562 Batch_id=195 Accuracy=94.08: 100%|██████████| 196/196 [01:31<00:00,  2.13it/s] \n",
      "Loss=0.30180269479751587 Batch_id=195 Accuracy=94.51: 100%|██████████| 196/196 [01:31<00:00,  2.15it/s]\n",
      "Loss=0.3098280727863312 Batch_id=195 Accuracy=94.76: 100%|██████████| 196/196 [01:30<00:00,  2.16it/s] \n"
     ]
    },
    {
     "name": "stdout",
     "output_type": "stream",
     "text": [
      "Test set: Average loss: 1.8373, Accuracy: 3022/5000 (60.44%)\n",
      "\n",
      "--Testing Corruptions--\n"
     ]
    },
    {
     "name": "stderr",
     "output_type": "stream",
     "text": [
      "100%|██████████| 19/19 [06:09<00:00, 19.47s/it]\n"
     ]
    },
    {
     "name": "stdout",
     "output_type": "stream",
     "text": [
      "\n",
      "Avg Corruption Accuracy: 28.77%\n",
      "Global Sparsity: 40.58% \n",
      "\n",
      "---------- Pruning Iteration:  6 / 44\n"
     ]
    },
    {
     "name": "stderr",
     "output_type": "stream",
     "text": [
      "Loss=0.45238757133483887 Batch_id=195 Accuracy=90.72: 100%|██████████| 196/196 [01:30<00:00,  2.17it/s]\n",
      "Loss=0.5358421802520752 Batch_id=195 Accuracy=90.70: 100%|██████████| 196/196 [01:30<00:00,  2.16it/s] \n",
      "Loss=0.39022859930992126 Batch_id=195 Accuracy=90.97: 100%|██████████| 196/196 [01:30<00:00,  2.16it/s]\n",
      "Loss=0.49747952818870544 Batch_id=195 Accuracy=91.19: 100%|██████████| 196/196 [01:31<00:00,  2.15it/s]\n",
      "Loss=0.4097294807434082 Batch_id=195 Accuracy=91.30: 100%|██████████| 196/196 [01:30<00:00,  2.16it/s] \n",
      "Loss=0.3808441758155823 Batch_id=195 Accuracy=91.64: 100%|██████████| 196/196 [01:30<00:00,  2.16it/s] \n",
      "Loss=0.3490726947784424 Batch_id=195 Accuracy=91.76: 100%|██████████| 196/196 [01:30<00:00,  2.16it/s] \n",
      "Loss=0.452416330575943 Batch_id=195 Accuracy=91.61: 100%|██████████| 196/196 [01:30<00:00,  2.16it/s]  \n",
      "Loss=0.4077538847923279 Batch_id=195 Accuracy=91.77: 100%|██████████| 196/196 [01:30<00:00,  2.16it/s] \n",
      "Loss=0.35810568928718567 Batch_id=195 Accuracy=92.07: 100%|██████████| 196/196 [01:30<00:00,  2.16it/s]"
     ]
    },
    {
     "name": "stdout",
     "output_type": "stream",
     "text": [
      "Epoch 00010: reducing learning rate of group 0 to 5.0000e-04.\n"
     ]
    },
    {
     "name": "stderr",
     "output_type": "stream",
     "text": [
      "\n"
     ]
    },
    {
     "name": "stdout",
     "output_type": "stream",
     "text": [
      "Test set: Average loss: 2.0367, Accuracy: 2807/5000 (56.14%)\n",
      "\n",
      "--Skipping Acc Comp For Corrupted Data--\n",
      "Global Sparsity: 46.43% \n",
      "\n",
      "---------- Pruning Iteration:  7 / 44\n"
     ]
    },
    {
     "name": "stderr",
     "output_type": "stream",
     "text": [
      "Loss=0.3462215065956116 Batch_id=195 Accuracy=91.90: 100%|██████████| 196/196 [01:30<00:00,  2.16it/s] \n",
      "Loss=0.389930784702301 Batch_id=195 Accuracy=92.42: 100%|██████████| 196/196 [01:30<00:00,  2.16it/s]  \n",
      "Loss=0.4054822027683258 Batch_id=195 Accuracy=92.71: 100%|██████████| 196/196 [01:30<00:00,  2.16it/s] \n",
      "Loss=0.4633539617061615 Batch_id=195 Accuracy=92.77: 100%|██████████| 196/196 [01:30<00:00,  2.16it/s] \n"
     ]
    },
    {
     "name": "stdout",
     "output_type": "stream",
     "text": [
      "Epoch 00004: reducing learning rate of group 0 to 5.0000e-04.\n"
     ]
    },
    {
     "name": "stderr",
     "output_type": "stream",
     "text": [
      "Loss=0.20421266555786133 Batch_id=195 Accuracy=95.40: 100%|██████████| 196/196 [01:30<00:00,  2.15it/s]\n",
      "Loss=0.22722339630126953 Batch_id=195 Accuracy=96.35: 100%|██████████| 196/196 [01:30<00:00,  2.16it/s]\n",
      "Loss=0.18774618208408356 Batch_id=195 Accuracy=96.66: 100%|██████████| 196/196 [01:30<00:00,  2.16it/s]\n",
      "Loss=0.21228983998298645 Batch_id=195 Accuracy=96.78: 100%|██████████| 196/196 [01:30<00:00,  2.16it/s]\n",
      "Loss=0.18077178299427032 Batch_id=195 Accuracy=96.85: 100%|██████████| 196/196 [01:30<00:00,  2.16it/s]\n",
      "Loss=0.21052739024162292 Batch_id=195 Accuracy=96.88: 100%|██████████| 196/196 [01:30<00:00,  2.16it/s]\n"
     ]
    },
    {
     "name": "stdout",
     "output_type": "stream",
     "text": [
      "Test set: Average loss: 1.8691, Accuracy: 2999/5000 (59.98%)\n",
      "\n",
      "--Testing Corruptions--\n"
     ]
    },
    {
     "name": "stderr",
     "output_type": "stream",
     "text": [
      "100%|██████████| 19/19 [06:16<00:00, 19.82s/it]\n"
     ]
    },
    {
     "name": "stdout",
     "output_type": "stream",
     "text": [
      "\n",
      "Avg Corruption Accuracy: 28.31%\n",
      "Global Sparsity: 51.70% \n",
      "\n",
      "---------- Pruning Iteration:  8 / 44\n"
     ]
    },
    {
     "name": "stderr",
     "output_type": "stream",
     "text": [
      "Loss=0.3094934821128845 Batch_id=195 Accuracy=93.25: 100%|██████████| 196/196 [01:30<00:00,  2.16it/s] \n",
      "Loss=0.324006050825119 Batch_id=195 Accuracy=93.20: 100%|██████████| 196/196 [01:31<00:00,  2.15it/s]  \n",
      "Loss=0.3458835780620575 Batch_id=195 Accuracy=93.43: 100%|██████████| 196/196 [01:31<00:00,  2.15it/s] \n",
      "Loss=0.33003494143486023 Batch_id=195 Accuracy=93.57: 100%|██████████| 196/196 [01:31<00:00,  2.15it/s]\n"
     ]
    },
    {
     "name": "stdout",
     "output_type": "stream",
     "text": [
      "Epoch 00004: reducing learning rate of group 0 to 5.0000e-04.\n"
     ]
    },
    {
     "name": "stderr",
     "output_type": "stream",
     "text": [
      "Loss=0.23889794945716858 Batch_id=195 Accuracy=95.97: 100%|██████████| 196/196 [01:31<00:00,  2.15it/s]\n",
      "Loss=0.27536672353744507 Batch_id=195 Accuracy=96.77: 100%|██████████| 196/196 [01:31<00:00,  2.15it/s]\n",
      "Loss=0.18194694817066193 Batch_id=195 Accuracy=97.06: 100%|██████████| 196/196 [01:31<00:00,  2.15it/s]\n",
      "Loss=0.21355251967906952 Batch_id=195 Accuracy=97.13: 100%|██████████| 196/196 [01:31<00:00,  2.15it/s]\n",
      "Loss=0.24500000476837158 Batch_id=195 Accuracy=97.18: 100%|██████████| 196/196 [01:31<00:00,  2.14it/s]\n",
      "Loss=0.23649199306964874 Batch_id=195 Accuracy=97.33: 100%|██████████| 196/196 [01:31<00:00,  2.15it/s]"
     ]
    },
    {
     "name": "stdout",
     "output_type": "stream",
     "text": [
      "Epoch 00010: reducing learning rate of group 0 to 2.5000e-05.\n"
     ]
    },
    {
     "name": "stderr",
     "output_type": "stream",
     "text": [
      "\n"
     ]
    },
    {
     "name": "stdout",
     "output_type": "stream",
     "text": [
      "Test set: Average loss: 1.8764, Accuracy: 3001/5000 (60.02%)\n",
      "\n",
      "--Skipping Acc Comp For Corrupted Data--\n",
      "Global Sparsity: 56.44% \n",
      "\n",
      "---------- Pruning Iteration:  9 / 44\n"
     ]
    },
    {
     "name": "stderr",
     "output_type": "stream",
     "text": [
      "Loss=0.3702799081802368 Batch_id=195 Accuracy=93.80: 100%|██████████| 196/196 [01:31<00:00,  2.15it/s] \n",
      "Loss=0.35123738646507263 Batch_id=195 Accuracy=93.62: 100%|██████████| 196/196 [01:31<00:00,  2.15it/s]\n",
      "Loss=0.35496869683265686 Batch_id=195 Accuracy=93.86: 100%|██████████| 196/196 [01:31<00:00,  2.15it/s]\n",
      "Loss=0.23583991825580597 Batch_id=195 Accuracy=93.97: 100%|██████████| 196/196 [01:31<00:00,  2.14it/s]\n",
      "Loss=0.2724457383155823 Batch_id=195 Accuracy=94.03: 100%|██████████| 196/196 [01:31<00:00,  2.15it/s] \n",
      "Loss=0.3762991726398468 Batch_id=195 Accuracy=94.24: 100%|██████████| 196/196 [01:31<00:00,  2.15it/s] \n",
      "Loss=0.33420926332473755 Batch_id=195 Accuracy=94.22: 100%|██████████| 196/196 [01:30<00:00,  2.16it/s]\n"
     ]
    },
    {
     "name": "stdout",
     "output_type": "stream",
     "text": [
      "Epoch 00007: reducing learning rate of group 0 to 5.0000e-04.\n"
     ]
    },
    {
     "name": "stderr",
     "output_type": "stream",
     "text": [
      "Loss=0.19093772768974304 Batch_id=195 Accuracy=96.42: 100%|██████████| 196/196 [01:31<00:00,  2.15it/s]\n",
      "Loss=0.2437390387058258 Batch_id=195 Accuracy=97.12: 100%|██████████| 196/196 [01:31<00:00,  2.15it/s] \n",
      "Loss=0.18506945669651031 Batch_id=195 Accuracy=97.43: 100%|██████████| 196/196 [01:31<00:00,  2.15it/s]\n"
     ]
    },
    {
     "name": "stdout",
     "output_type": "stream",
     "text": [
      "Test set: Average loss: 1.8841, Accuracy: 2993/5000 (59.86%)\n",
      "\n",
      "--Testing Corruptions--\n"
     ]
    },
    {
     "name": "stderr",
     "output_type": "stream",
     "text": [
      "100%|██████████| 19/19 [06:21<00:00, 20.06s/it]\n"
     ]
    },
    {
     "name": "stdout",
     "output_type": "stream",
     "text": [
      "\n",
      "Avg Corruption Accuracy: 28.38%\n",
      "Global Sparsity: 60.70% \n",
      "\n",
      "---------- Pruning Iteration:  10 / 44\n"
     ]
    },
    {
     "name": "stderr",
     "output_type": "stream",
     "text": [
      "Loss=0.28316301107406616 Batch_id=195 Accuracy=93.66: 100%|██████████| 196/196 [01:30<00:00,  2.16it/s]\n",
      "Loss=0.3725202679634094 Batch_id=195 Accuracy=94.05: 100%|██████████| 196/196 [01:31<00:00,  2.15it/s] \n",
      "Loss=0.24073746800422668 Batch_id=195 Accuracy=94.52: 100%|██████████| 196/196 [01:31<00:00,  2.15it/s]\n",
      "Loss=0.34384655952453613 Batch_id=195 Accuracy=94.55: 100%|██████████| 196/196 [01:31<00:00,  2.14it/s]\n",
      "Loss=0.3824784457683563 Batch_id=195 Accuracy=94.54: 100%|██████████| 196/196 [01:31<00:00,  2.15it/s] \n",
      "Loss=0.2718549370765686 Batch_id=195 Accuracy=94.74: 100%|██████████| 196/196 [01:31<00:00,  2.15it/s] \n"
     ]
    },
    {
     "name": "stdout",
     "output_type": "stream",
     "text": [
      "Epoch 00006: reducing learning rate of group 0 to 5.0000e-04.\n"
     ]
    },
    {
     "name": "stderr",
     "output_type": "stream",
     "text": [
      "Loss=0.21023038029670715 Batch_id=195 Accuracy=96.63: 100%|██████████| 196/196 [01:31<00:00,  2.15it/s]\n",
      "Loss=0.16155444085597992 Batch_id=195 Accuracy=97.43: 100%|██████████| 196/196 [01:31<00:00,  2.15it/s]\n",
      "Loss=0.149695485830307 Batch_id=195 Accuracy=97.66: 100%|██████████| 196/196 [01:31<00:00,  2.15it/s]  \n",
      "Loss=0.18964029848575592 Batch_id=195 Accuracy=97.80: 100%|██████████| 196/196 [01:31<00:00,  2.15it/s]\n"
     ]
    },
    {
     "name": "stdout",
     "output_type": "stream",
     "text": [
      "Test set: Average loss: 1.8849, Accuracy: 2972/5000 (59.44%)\n",
      "\n",
      "--Skipping Acc Comp For Corrupted Data--\n",
      "Global Sparsity: 64.54% \n",
      "\n",
      "---------- Pruning Iteration:  11 / 44\n"
     ]
    },
    {
     "name": "stderr",
     "output_type": "stream",
     "text": [
      "Loss=0.2658577859401703 Batch_id=195 Accuracy=93.95: 100%|██████████| 196/196 [01:31<00:00,  2.15it/s] \n",
      "Loss=0.2999272644519806 Batch_id=195 Accuracy=94.30: 100%|██████████| 196/196 [01:31<00:00,  2.15it/s] \n",
      "Loss=0.34925326704978943 Batch_id=195 Accuracy=94.64: 100%|██████████| 196/196 [01:31<00:00,  2.15it/s]\n",
      "Loss=0.3630106449127197 Batch_id=195 Accuracy=94.82: 100%|██████████| 196/196 [01:31<00:00,  2.14it/s] \n"
     ]
    },
    {
     "name": "stdout",
     "output_type": "stream",
     "text": [
      "Epoch 00004: reducing learning rate of group 0 to 5.0000e-04.\n"
     ]
    },
    {
     "name": "stderr",
     "output_type": "stream",
     "text": [
      "Loss=0.27702802419662476 Batch_id=195 Accuracy=96.75: 100%|██████████| 196/196 [01:31<00:00,  2.15it/s]\n",
      "Loss=0.1796325147151947 Batch_id=195 Accuracy=97.47: 100%|██████████| 196/196 [01:31<00:00,  2.15it/s] \n",
      "Loss=0.1693187952041626 Batch_id=195 Accuracy=97.66: 100%|██████████| 196/196 [01:31<00:00,  2.15it/s] \n",
      "Loss=0.22242534160614014 Batch_id=195 Accuracy=97.81: 100%|██████████| 196/196 [01:31<00:00,  2.15it/s]\n",
      "Loss=0.18147686123847961 Batch_id=195 Accuracy=97.89: 100%|██████████| 196/196 [01:31<00:00,  2.15it/s]\n",
      "Loss=0.17361685633659363 Batch_id=195 Accuracy=97.96: 100%|██████████| 196/196 [01:31<00:00,  2.14it/s]"
     ]
    },
    {
     "name": "stdout",
     "output_type": "stream",
     "text": [
      "Epoch 00010: reducing learning rate of group 0 to 2.5000e-05.\n"
     ]
    },
    {
     "name": "stderr",
     "output_type": "stream",
     "text": [
      "\n"
     ]
    },
    {
     "name": "stdout",
     "output_type": "stream",
     "text": [
      "Test set: Average loss: 1.8909, Accuracy: 2956/5000 (59.12%)\n",
      "\n",
      "--Testing Corruptions--\n"
     ]
    },
    {
     "name": "stderr",
     "output_type": "stream",
     "text": [
      "100%|██████████| 19/19 [06:28<00:00, 20.46s/it]\n"
     ]
    },
    {
     "name": "stdout",
     "output_type": "stream",
     "text": [
      "\n",
      "Avg Corruption Accuracy: 28.46%\n",
      "Global Sparsity: 68.00% \n",
      "\n",
      "---------- Pruning Iteration:  12 / 44\n"
     ]
    },
    {
     "name": "stderr",
     "output_type": "stream",
     "text": [
      "Loss=0.280789315700531 Batch_id=195 Accuracy=94.08: 100%|██████████| 196/196 [01:31<00:00,  2.15it/s]  \n",
      "Loss=0.26862528920173645 Batch_id=195 Accuracy=94.16: 100%|██████████| 196/196 [01:31<00:00,  2.15it/s]\n",
      "Loss=0.39024898409843445 Batch_id=195 Accuracy=94.54: 100%|██████████| 196/196 [01:31<00:00,  2.14it/s]\n",
      "Loss=0.27765944600105286 Batch_id=195 Accuracy=94.68: 100%|██████████| 196/196 [01:31<00:00,  2.15it/s]\n",
      "Loss=0.2580733597278595 Batch_id=195 Accuracy=94.80: 100%|██████████| 196/196 [01:31<00:00,  2.14it/s] \n",
      "Loss=0.27087095379829407 Batch_id=195 Accuracy=94.92: 100%|██████████| 196/196 [01:31<00:00,  2.14it/s]\n",
      "Loss=0.3134614825248718 Batch_id=195 Accuracy=94.95: 100%|██████████| 196/196 [01:31<00:00,  2.15it/s] \n",
      "Loss=0.32317906618118286 Batch_id=195 Accuracy=94.97: 100%|██████████| 196/196 [01:31<00:00,  2.14it/s]\n"
     ]
    },
    {
     "name": "stdout",
     "output_type": "stream",
     "text": [
      "Epoch 00008: reducing learning rate of group 0 to 5.0000e-04.\n"
     ]
    },
    {
     "name": "stderr",
     "output_type": "stream",
     "text": [
      "Loss=0.15713253617286682 Batch_id=195 Accuracy=96.93: 100%|██████████| 196/196 [01:31<00:00,  2.14it/s]\n",
      "Loss=0.1961202323436737 Batch_id=195 Accuracy=97.67: 100%|██████████| 196/196 [01:31<00:00,  2.14it/s] \n"
     ]
    },
    {
     "name": "stdout",
     "output_type": "stream",
     "text": [
      "Test set: Average loss: 1.9013, Accuracy: 2968/5000 (59.36%)\n",
      "\n",
      "--Skipping Acc Comp For Corrupted Data--\n",
      "Global Sparsity: 71.10% \n",
      "\n",
      "---------- Pruning Iteration:  13 / 44\n"
     ]
    },
    {
     "name": "stderr",
     "output_type": "stream",
     "text": [
      "Loss=0.35634058713912964 Batch_id=195 Accuracy=93.98: 100%|██████████| 196/196 [01:31<00:00,  2.14it/s]\n",
      "Loss=0.26351606845855713 Batch_id=195 Accuracy=94.38: 100%|██████████| 196/196 [01:31<00:00,  2.14it/s]\n",
      "Loss=0.30556347966194153 Batch_id=195 Accuracy=94.72: 100%|██████████| 196/196 [01:31<00:00,  2.14it/s]\n",
      "Loss=0.3072741627693176 Batch_id=195 Accuracy=94.74: 100%|██████████| 196/196 [01:31<00:00,  2.14it/s] \n",
      "Loss=0.3205147683620453 Batch_id=195 Accuracy=94.83: 100%|██████████| 196/196 [01:31<00:00,  2.14it/s] \n"
     ]
    },
    {
     "name": "stdout",
     "output_type": "stream",
     "text": [
      "Epoch 00005: reducing learning rate of group 0 to 5.0000e-04.\n"
     ]
    },
    {
     "name": "stderr",
     "output_type": "stream",
     "text": [
      "Loss=0.17413941025733948 Batch_id=195 Accuracy=96.88: 100%|██████████| 196/196 [01:31<00:00,  2.14it/s]\n",
      "Loss=0.17454655468463898 Batch_id=195 Accuracy=97.64: 100%|██████████| 196/196 [01:31<00:00,  2.14it/s]\n",
      "Loss=0.15745435655117035 Batch_id=195 Accuracy=97.85: 100%|██████████| 196/196 [01:31<00:00,  2.14it/s]\n",
      "Loss=0.13818642497062683 Batch_id=195 Accuracy=97.96: 100%|██████████| 196/196 [01:31<00:00,  2.14it/s]\n",
      "Loss=0.16886553168296814 Batch_id=195 Accuracy=98.04: 100%|██████████| 196/196 [01:31<00:00,  2.14it/s]\n"
     ]
    },
    {
     "name": "stdout",
     "output_type": "stream",
     "text": [
      "Test set: Average loss: 1.8970, Accuracy: 2968/5000 (59.36%)\n",
      "\n",
      "--Skipping Acc Comp For Corrupted Data--\n",
      "Global Sparsity: 73.90% \n",
      "\n",
      "---------- Pruning Iteration:  14 / 44\n"
     ]
    },
    {
     "name": "stderr",
     "output_type": "stream",
     "text": [
      "Loss=0.3358420729637146 Batch_id=195 Accuracy=94.01: 100%|██████████| 196/196 [01:31<00:00,  2.15it/s] \n",
      "Loss=0.2955397963523865 Batch_id=195 Accuracy=94.29: 100%|██████████| 196/196 [01:31<00:00,  2.14it/s] \n",
      "Loss=0.3617357015609741 Batch_id=195 Accuracy=94.44: 100%|██████████| 196/196 [01:31<00:00,  2.14it/s] \n",
      "Loss=0.3813534379005432 Batch_id=195 Accuracy=94.50: 100%|██████████| 196/196 [01:31<00:00,  2.13it/s] \n",
      "Loss=0.2966628670692444 Batch_id=195 Accuracy=94.63: 100%|██████████| 196/196 [01:31<00:00,  2.14it/s] \n"
     ]
    },
    {
     "name": "stdout",
     "output_type": "stream",
     "text": [
      "Epoch 00005: reducing learning rate of group 0 to 5.0000e-04.\n"
     ]
    },
    {
     "name": "stderr",
     "output_type": "stream",
     "text": [
      "Loss=0.20796188712120056 Batch_id=195 Accuracy=96.74: 100%|██████████| 196/196 [01:31<00:00,  2.14it/s]\n",
      "Loss=0.22149601578712463 Batch_id=195 Accuracy=97.53: 100%|██████████| 196/196 [01:31<00:00,  2.14it/s]\n",
      "Loss=0.17170865833759308 Batch_id=195 Accuracy=97.76: 100%|██████████| 196/196 [01:31<00:00,  2.14it/s]\n",
      "Loss=0.1603291928768158 Batch_id=195 Accuracy=97.89: 100%|██████████| 196/196 [01:31<00:00,  2.14it/s] \n",
      "Loss=0.2135649174451828 Batch_id=195 Accuracy=98.06: 100%|██████████| 196/196 [01:31<00:00,  2.14it/s] \n"
     ]
    },
    {
     "name": "stdout",
     "output_type": "stream",
     "text": [
      "Test set: Average loss: 1.8928, Accuracy: 2968/5000 (59.36%)\n",
      "\n",
      "--Skipping Acc Comp For Corrupted Data--\n",
      "Global Sparsity: 76.42% \n",
      "\n",
      "---------- Pruning Iteration:  15 / 44\n"
     ]
    },
    {
     "name": "stderr",
     "output_type": "stream",
     "text": [
      "Loss=0.36864107847213745 Batch_id=195 Accuracy=93.69: 100%|██████████| 196/196 [01:31<00:00,  2.14it/s]\n",
      "Loss=0.36499398946762085 Batch_id=195 Accuracy=93.70: 100%|██████████| 196/196 [01:31<00:00,  2.14it/s]\n",
      "Loss=0.2990832030773163 Batch_id=195 Accuracy=94.13: 100%|██████████| 196/196 [01:31<00:00,  2.14it/s] \n",
      "Loss=0.3565111756324768 Batch_id=195 Accuracy=94.27: 100%|██████████| 196/196 [01:31<00:00,  2.13it/s] \n",
      "Loss=0.300045907497406 Batch_id=195 Accuracy=94.26: 100%|██████████| 196/196 [01:31<00:00,  2.14it/s]  \n",
      "Loss=0.37904927134513855 Batch_id=195 Accuracy=94.29: 100%|██████████| 196/196 [01:31<00:00,  2.14it/s]\n"
     ]
    },
    {
     "name": "stdout",
     "output_type": "stream",
     "text": [
      "Epoch 00006: reducing learning rate of group 0 to 5.0000e-04.\n"
     ]
    },
    {
     "name": "stderr",
     "output_type": "stream",
     "text": [
      "Loss=0.2519340217113495 Batch_id=195 Accuracy=96.65: 100%|██████████| 196/196 [01:31<00:00,  2.13it/s] \n",
      "Loss=0.19674630463123322 Batch_id=195 Accuracy=97.49: 100%|██████████| 196/196 [01:31<00:00,  2.14it/s]\n",
      "Loss=0.17112427949905396 Batch_id=195 Accuracy=97.69: 100%|██████████| 196/196 [01:31<00:00,  2.14it/s]\n",
      "Loss=0.15331414341926575 Batch_id=195 Accuracy=97.80: 100%|██████████| 196/196 [01:31<00:00,  2.14it/s]\n"
     ]
    },
    {
     "name": "stdout",
     "output_type": "stream",
     "text": [
      "Test set: Average loss: 1.9064, Accuracy: 2968/5000 (59.36%)\n",
      "\n",
      "--Testing Corruptions--\n"
     ]
    },
    {
     "name": "stderr",
     "output_type": "stream",
     "text": [
      "100%|██████████| 19/19 [06:34<00:00, 20.78s/it]\n"
     ]
    },
    {
     "name": "stdout",
     "output_type": "stream",
     "text": [
      "\n",
      "Avg Corruption Accuracy: 28.40%\n",
      "Global Sparsity: 78.69% \n",
      "\n",
      "---------- Pruning Iteration:  16 / 44\n"
     ]
    },
    {
     "name": "stderr",
     "output_type": "stream",
     "text": [
      "Loss=0.3454781770706177 Batch_id=195 Accuracy=93.21: 100%|██████████| 196/196 [01:31<00:00,  2.14it/s] \n",
      "Loss=0.36736807227134705 Batch_id=195 Accuracy=93.45: 100%|██████████| 196/196 [01:31<00:00,  2.14it/s]\n",
      "Loss=0.3231620192527771 Batch_id=195 Accuracy=93.74: 100%|██████████| 196/196 [01:31<00:00,  2.14it/s] \n",
      "Loss=0.29506343603134155 Batch_id=195 Accuracy=93.98: 100%|██████████| 196/196 [01:31<00:00,  2.14it/s]\n",
      "Loss=0.2935252785682678 Batch_id=195 Accuracy=94.02: 100%|██████████| 196/196 [01:31<00:00,  2.14it/s] \n",
      "Loss=0.3549913167953491 Batch_id=195 Accuracy=93.89: 100%|██████████| 196/196 [01:31<00:00,  2.14it/s] \n",
      "Loss=0.35899513959884644 Batch_id=195 Accuracy=94.12: 100%|██████████| 196/196 [01:31<00:00,  2.14it/s]\n",
      "Loss=0.2554517984390259 Batch_id=195 Accuracy=94.08: 100%|██████████| 196/196 [01:31<00:00,  2.14it/s] \n",
      "Loss=0.3264617621898651 Batch_id=195 Accuracy=94.24: 100%|██████████| 196/196 [01:31<00:00,  2.14it/s] \n",
      "Loss=0.2697458863258362 Batch_id=195 Accuracy=94.25: 100%|██████████| 196/196 [01:31<00:00,  2.14it/s] \n"
     ]
    },
    {
     "name": "stdout",
     "output_type": "stream",
     "text": [
      "Test set: Average loss: 2.0474, Accuracy: 2814/5000 (56.28%)\n",
      "\n",
      "--Skipping Acc Comp For Corrupted Data--\n",
      "Global Sparsity: 80.73% \n",
      "\n",
      "---------- Pruning Iteration:  17 / 44\n"
     ]
    },
    {
     "name": "stderr",
     "output_type": "stream",
     "text": [
      "Loss=0.48180025815963745 Batch_id=195 Accuracy=92.30: 100%|██████████| 196/196 [01:31<00:00,  2.14it/s]\n",
      "Loss=0.39252668619155884 Batch_id=195 Accuracy=93.30: 100%|██████████| 196/196 [01:31<00:00,  2.14it/s]\n",
      "Loss=0.35771867632865906 Batch_id=195 Accuracy=93.51: 100%|██████████| 196/196 [01:31<00:00,  2.14it/s]\n",
      "Loss=0.3770639896392822 Batch_id=195 Accuracy=93.61: 100%|██████████| 196/196 [01:31<00:00,  2.14it/s] \n",
      "Loss=0.28546327352523804 Batch_id=195 Accuracy=93.80: 100%|██████████| 196/196 [01:32<00:00,  2.13it/s]\n",
      "Loss=0.34285253286361694 Batch_id=195 Accuracy=93.74: 100%|██████████| 196/196 [01:31<00:00,  2.14it/s]\n",
      "Loss=0.36215025186538696 Batch_id=195 Accuracy=93.85: 100%|██████████| 196/196 [01:31<00:00,  2.13it/s]\n",
      "Loss=0.39624178409576416 Batch_id=195 Accuracy=93.80: 100%|██████████| 196/196 [01:31<00:00,  2.13it/s]\n"
     ]
    },
    {
     "name": "stdout",
     "output_type": "stream",
     "text": [
      "Epoch 00008: reducing learning rate of group 0 to 5.0000e-04.\n"
     ]
    },
    {
     "name": "stderr",
     "output_type": "stream",
     "text": [
      "Loss=0.22200314700603485 Batch_id=195 Accuracy=96.42: 100%|██████████| 196/196 [01:31<00:00,  2.13it/s]\n",
      "Loss=0.21263520419597626 Batch_id=195 Accuracy=97.14: 100%|██████████| 196/196 [01:31<00:00,  2.13it/s]\n"
     ]
    },
    {
     "name": "stdout",
     "output_type": "stream",
     "text": [
      "Test set: Average loss: 1.9102, Accuracy: 2942/5000 (58.84%)\n",
      "\n",
      "--Skipping Acc Comp For Corrupted Data--\n",
      "Global Sparsity: 82.57% \n",
      "\n",
      "---------- Pruning Iteration:  18 / 44\n"
     ]
    },
    {
     "name": "stderr",
     "output_type": "stream",
     "text": [
      "Loss=0.34112265706062317 Batch_id=195 Accuracy=92.53: 100%|██████████| 196/196 [01:31<00:00,  2.13it/s]\n",
      "Loss=0.35058242082595825 Batch_id=195 Accuracy=92.79: 100%|██████████| 196/196 [01:31<00:00,  2.13it/s]\n",
      "Loss=0.4203682839870453 Batch_id=195 Accuracy=92.98: 100%|██████████| 196/196 [01:31<00:00,  2.13it/s] \n",
      "Loss=0.3922739624977112 Batch_id=195 Accuracy=93.31: 100%|██████████| 196/196 [01:31<00:00,  2.14it/s] \n"
     ]
    },
    {
     "name": "stdout",
     "output_type": "stream",
     "text": [
      "Epoch 00004: reducing learning rate of group 0 to 5.0000e-04.\n"
     ]
    },
    {
     "name": "stderr",
     "output_type": "stream",
     "text": [
      "Loss=0.26494482159614563 Batch_id=195 Accuracy=95.92: 100%|██████████| 196/196 [01:31<00:00,  2.14it/s]\n",
      "Loss=0.22515836358070374 Batch_id=195 Accuracy=96.83: 100%|██████████| 196/196 [01:31<00:00,  2.13it/s]\n",
      "Loss=0.21439552307128906 Batch_id=195 Accuracy=97.11: 100%|██████████| 196/196 [01:31<00:00,  2.14it/s]\n",
      "Loss=0.23477089405059814 Batch_id=195 Accuracy=97.25: 100%|██████████| 196/196 [01:31<00:00,  2.13it/s]\n",
      "Loss=0.23086993396282196 Batch_id=195 Accuracy=97.35: 100%|██████████| 196/196 [01:31<00:00,  2.13it/s]\n",
      "Loss=0.25422513484954834 Batch_id=195 Accuracy=97.41: 100%|██████████| 196/196 [01:31<00:00,  2.14it/s]"
     ]
    },
    {
     "name": "stdout",
     "output_type": "stream",
     "text": [
      "Epoch 00010: reducing learning rate of group 0 to 2.5000e-05.\n"
     ]
    },
    {
     "name": "stderr",
     "output_type": "stream",
     "text": [
      "\n"
     ]
    },
    {
     "name": "stdout",
     "output_type": "stream",
     "text": [
      "Test set: Average loss: 1.9022, Accuracy: 2962/5000 (59.24%)\n",
      "\n",
      "--Skipping Acc Comp For Corrupted Data--\n",
      "Global Sparsity: 84.22% \n",
      "\n",
      "---------- Pruning Iteration:  19 / 44\n"
     ]
    },
    {
     "name": "stderr",
     "output_type": "stream",
     "text": [
      "Loss=0.47542184591293335 Batch_id=195 Accuracy=91.67: 100%|██████████| 196/196 [01:31<00:00,  2.14it/s]\n",
      "Loss=0.4995870590209961 Batch_id=195 Accuracy=91.80: 100%|██████████| 196/196 [01:31<00:00,  2.14it/s] \n",
      "Loss=0.41923728585243225 Batch_id=195 Accuracy=92.02: 100%|██████████| 196/196 [01:31<00:00,  2.14it/s]\n",
      "Loss=0.352798193693161 Batch_id=195 Accuracy=92.35: 100%|██████████| 196/196 [01:31<00:00,  2.14it/s]  \n",
      "Loss=0.4011004865169525 Batch_id=195 Accuracy=92.53: 100%|██████████| 196/196 [01:31<00:00,  2.13it/s] \n",
      "Loss=0.35888245701789856 Batch_id=195 Accuracy=92.49: 100%|██████████| 196/196 [01:31<00:00,  2.13it/s]\n",
      "Loss=0.48393455147743225 Batch_id=195 Accuracy=92.84: 100%|██████████| 196/196 [01:31<00:00,  2.14it/s]\n"
     ]
    },
    {
     "name": "stdout",
     "output_type": "stream",
     "text": [
      "Epoch 00007: reducing learning rate of group 0 to 5.0000e-04.\n"
     ]
    },
    {
     "name": "stderr",
     "output_type": "stream",
     "text": [
      "Loss=0.2613774240016937 Batch_id=195 Accuracy=95.45: 100%|██████████| 196/196 [01:31<00:00,  2.13it/s] \n",
      "Loss=0.21672563254833221 Batch_id=195 Accuracy=96.41: 100%|██████████| 196/196 [01:31<00:00,  2.13it/s]\n",
      "Loss=0.23893478512763977 Batch_id=195 Accuracy=96.81: 100%|██████████| 196/196 [01:31<00:00,  2.13it/s]\n"
     ]
    },
    {
     "name": "stdout",
     "output_type": "stream",
     "text": [
      "Test set: Average loss: 1.9141, Accuracy: 2922/5000 (58.44%)\n",
      "\n",
      "--Skipping Acc Comp For Corrupted Data--\n",
      "Global Sparsity: 85.71% \n",
      "\n",
      "---------- Pruning Iteration:  20 / 44\n"
     ]
    },
    {
     "name": "stderr",
     "output_type": "stream",
     "text": [
      "Loss=0.552585244178772 Batch_id=195 Accuracy=90.85: 100%|██████████| 196/196 [01:31<00:00,  2.14it/s]  \n",
      "Loss=0.445105642080307 Batch_id=195 Accuracy=91.11: 100%|██████████| 196/196 [01:31<00:00,  2.14it/s]  \n",
      "Loss=0.39225491881370544 Batch_id=195 Accuracy=91.47: 100%|██████████| 196/196 [01:31<00:00,  2.13it/s]\n",
      "Loss=0.43099871277809143 Batch_id=195 Accuracy=91.78: 100%|██████████| 196/196 [01:31<00:00,  2.13it/s]\n",
      "Loss=0.38636624813079834 Batch_id=195 Accuracy=91.81: 100%|██████████| 196/196 [01:33<00:00,  2.09it/s]\n",
      "Loss=0.41588783264160156 Batch_id=195 Accuracy=91.90: 100%|██████████| 196/196 [01:31<00:00,  2.14it/s]\n",
      "Loss=0.3822856843471527 Batch_id=195 Accuracy=91.99: 100%|██████████| 196/196 [01:31<00:00,  2.13it/s] \n",
      "Loss=0.4125305712223053 Batch_id=195 Accuracy=92.22: 100%|██████████| 196/196 [01:31<00:00,  2.13it/s] \n",
      "Loss=0.4491093158721924 Batch_id=195 Accuracy=92.30: 100%|██████████| 196/196 [01:31<00:00,  2.13it/s] \n",
      "Loss=0.41725724935531616 Batch_id=195 Accuracy=92.15: 100%|██████████| 196/196 [01:31<00:00,  2.13it/s]"
     ]
    },
    {
     "name": "stdout",
     "output_type": "stream",
     "text": [
      "Epoch 00010: reducing learning rate of group 0 to 5.0000e-04.\n"
     ]
    },
    {
     "name": "stderr",
     "output_type": "stream",
     "text": [
      "\n"
     ]
    },
    {
     "name": "stdout",
     "output_type": "stream",
     "text": [
      "Test set: Average loss: 2.0862, Accuracy: 2745/5000 (54.90%)\n",
      "\n",
      "--Skipping Acc Comp For Corrupted Data--\n",
      "Global Sparsity: 87.04% \n",
      "\n",
      "---------- Pruning Iteration:  21 / 44\n"
     ]
    },
    {
     "name": "stderr",
     "output_type": "stream",
     "text": [
      "Loss=0.47242164611816406 Batch_id=195 Accuracy=89.71: 100%|██████████| 196/196 [01:31<00:00,  2.14it/s]\n",
      "Loss=0.4770340025424957 Batch_id=195 Accuracy=90.63: 100%|██████████| 196/196 [01:31<00:00,  2.14it/s] \n",
      "Loss=0.45501646399497986 Batch_id=195 Accuracy=91.01: 100%|██████████| 196/196 [01:31<00:00,  2.13it/s]\n",
      "Loss=0.4539696276187897 Batch_id=195 Accuracy=91.41: 100%|██████████| 196/196 [01:31<00:00,  2.13it/s] \n",
      "Loss=0.3737390339374542 Batch_id=195 Accuracy=91.36: 100%|██████████| 196/196 [01:31<00:00,  2.13it/s] \n",
      "Loss=0.46055999398231506 Batch_id=195 Accuracy=91.43: 100%|██████████| 196/196 [01:31<00:00,  2.13it/s]\n",
      "Loss=0.3926113247871399 Batch_id=195 Accuracy=91.67: 100%|██████████| 196/196 [01:31<00:00,  2.14it/s] \n",
      "Loss=0.37145572900772095 Batch_id=195 Accuracy=91.61: 100%|██████████| 196/196 [01:31<00:00,  2.13it/s]\n",
      "Loss=0.35528451204299927 Batch_id=195 Accuracy=91.76: 100%|██████████| 196/196 [01:31<00:00,  2.14it/s]\n",
      "Loss=0.40738558769226074 Batch_id=195 Accuracy=91.61: 100%|██████████| 196/196 [01:31<00:00,  2.13it/s]\n"
     ]
    },
    {
     "name": "stdout",
     "output_type": "stream",
     "text": [
      "Test set: Average loss: 2.1071, Accuracy: 2755/5000 (55.10%)\n",
      "\n",
      "--Skipping Acc Comp For Corrupted Data--\n",
      "Global Sparsity: 88.25% \n",
      "\n",
      "---------- Pruning Iteration:  22 / 44\n"
     ]
    },
    {
     "name": "stderr",
     "output_type": "stream",
     "text": [
      "Loss=0.5108448266983032 Batch_id=195 Accuracy=89.03: 100%|██████████| 196/196 [01:33<00:00,  2.10it/s] \n",
      "Loss=0.4907064437866211 Batch_id=195 Accuracy=90.03: 100%|██████████| 196/196 [01:31<00:00,  2.14it/s] \n",
      "Loss=0.4158221185207367 Batch_id=195 Accuracy=90.33: 100%|██████████| 196/196 [01:31<00:00,  2.14it/s] \n",
      "Loss=0.5533061623573303 Batch_id=195 Accuracy=90.62: 100%|██████████| 196/196 [01:31<00:00,  2.14it/s] \n",
      "Loss=0.41660866141319275 Batch_id=195 Accuracy=90.66: 100%|██████████| 196/196 [01:31<00:00,  2.14it/s]\n",
      "Loss=0.5462247133255005 Batch_id=195 Accuracy=90.78: 100%|██████████| 196/196 [01:31<00:00,  2.14it/s] \n"
     ]
    },
    {
     "name": "stdout",
     "output_type": "stream",
     "text": [
      "Epoch 00006: reducing learning rate of group 0 to 5.0000e-04.\n"
     ]
    },
    {
     "name": "stderr",
     "output_type": "stream",
     "text": [
      "Loss=0.30696189403533936 Batch_id=195 Accuracy=93.98: 100%|██████████| 196/196 [01:31<00:00,  2.14it/s]\n",
      "Loss=0.29007720947265625 Batch_id=195 Accuracy=95.20: 100%|██████████| 196/196 [01:31<00:00,  2.14it/s]\n",
      "Loss=0.24664393067359924 Batch_id=195 Accuracy=95.36: 100%|██████████| 196/196 [01:31<00:00,  2.14it/s]\n",
      "Loss=0.2350788414478302 Batch_id=195 Accuracy=95.64: 100%|██████████| 196/196 [01:31<00:00,  2.14it/s] \n"
     ]
    },
    {
     "name": "stdout",
     "output_type": "stream",
     "text": [
      "Test set: Average loss: 1.9254, Accuracy: 2920/5000 (58.40%)\n",
      "\n",
      "--Testing Corruptions--\n"
     ]
    },
    {
     "name": "stderr",
     "output_type": "stream",
     "text": [
      "100%|██████████| 19/19 [07:06<00:00, 22.45s/it]\n"
     ]
    },
    {
     "name": "stdout",
     "output_type": "stream",
     "text": [
      "\n",
      "Avg Corruption Accuracy: 27.45%\n",
      "Global Sparsity: 89.33% \n",
      "\n",
      "---------- Pruning Iteration:  23 / 44\n"
     ]
    },
    {
     "name": "stderr",
     "output_type": "stream",
     "text": [
      "Loss=0.4472671449184418 Batch_id=195 Accuracy=88.83: 100%|██████████| 196/196 [01:31<00:00,  2.15it/s] \n",
      "Loss=0.5016176700592041 Batch_id=195 Accuracy=89.11: 100%|██████████| 196/196 [01:31<00:00,  2.14it/s] \n",
      "Loss=0.4453318119049072 Batch_id=195 Accuracy=89.30: 100%|██████████| 196/196 [01:31<00:00,  2.14it/s] \n",
      "Loss=0.4850086271762848 Batch_id=195 Accuracy=89.48: 100%|██████████| 196/196 [01:31<00:00,  2.14it/s] \n",
      "Loss=0.4923928678035736 Batch_id=195 Accuracy=89.63: 100%|██████████| 196/196 [01:31<00:00,  2.13it/s] \n",
      "Loss=0.39400333166122437 Batch_id=195 Accuracy=89.67: 100%|██████████| 196/196 [01:31<00:00,  2.13it/s]\n",
      "Loss=0.39827999472618103 Batch_id=195 Accuracy=89.81: 100%|██████████| 196/196 [01:31<00:00,  2.13it/s]\n",
      "Loss=0.4266293942928314 Batch_id=195 Accuracy=89.78: 100%|██████████| 196/196 [01:31<00:00,  2.13it/s] \n",
      "Loss=0.4204689860343933 Batch_id=195 Accuracy=89.81: 100%|██████████| 196/196 [01:32<00:00,  2.13it/s] \n"
     ]
    },
    {
     "name": "stdout",
     "output_type": "stream",
     "text": [
      "Epoch 00009: reducing learning rate of group 0 to 5.0000e-04.\n"
     ]
    },
    {
     "name": "stderr",
     "output_type": "stream",
     "text": [
      "Loss=0.3049996495246887 Batch_id=195 Accuracy=93.18: 100%|██████████| 196/196 [01:32<00:00,  2.13it/s] \n"
     ]
    },
    {
     "name": "stdout",
     "output_type": "stream",
     "text": [
      "Test set: Average loss: 1.9563, Accuracy: 2893/5000 (57.86%)\n",
      "\n",
      "--Skipping Acc Comp For Corrupted Data--\n",
      "Global Sparsity: 90.31% \n",
      "\n",
      "---------- Pruning Iteration:  24 / 44\n"
     ]
    },
    {
     "name": "stderr",
     "output_type": "stream",
     "text": [
      "Loss=0.5913400650024414 Batch_id=195 Accuracy=87.29: 100%|██████████| 196/196 [01:32<00:00,  2.13it/s] \n",
      "Loss=0.5308400392532349 Batch_id=195 Accuracy=87.69: 100%|██████████| 196/196 [01:32<00:00,  2.12it/s] \n",
      "Loss=0.5993185639381409 Batch_id=195 Accuracy=88.16: 100%|██████████| 196/196 [01:32<00:00,  2.13it/s] \n",
      "Loss=0.5018817782402039 Batch_id=195 Accuracy=88.32: 100%|██████████| 196/196 [01:32<00:00,  2.13it/s] \n",
      "Loss=0.5359370708465576 Batch_id=195 Accuracy=88.75: 100%|██████████| 196/196 [01:32<00:00,  2.13it/s] \n",
      "Loss=0.5973634719848633 Batch_id=195 Accuracy=88.70: 100%|██████████| 196/196 [01:32<00:00,  2.13it/s] \n",
      "Loss=0.47773322463035583 Batch_id=195 Accuracy=88.69: 100%|██████████| 196/196 [01:32<00:00,  2.13it/s]\n",
      "Loss=0.4195310175418854 Batch_id=195 Accuracy=88.81: 100%|██████████| 196/196 [01:32<00:00,  2.12it/s] \n",
      "Loss=0.4854728579521179 Batch_id=195 Accuracy=88.91: 100%|██████████| 196/196 [01:32<00:00,  2.13it/s] \n",
      "Loss=0.5067993402481079 Batch_id=195 Accuracy=88.84: 100%|██████████| 196/196 [01:32<00:00,  2.13it/s] \n"
     ]
    },
    {
     "name": "stdout",
     "output_type": "stream",
     "text": [
      "Test set: Average loss: 2.1380, Accuracy: 2731/5000 (54.62%)\n",
      "\n",
      "--Skipping Acc Comp For Corrupted Data--\n",
      "Global Sparsity: 91.19% \n",
      "\n",
      "---------- Pruning Iteration:  25 / 44\n"
     ]
    },
    {
     "name": "stderr",
     "output_type": "stream",
     "text": [
      "Loss=0.5675235986709595 Batch_id=195 Accuracy=85.84: 100%|██████████| 196/196 [01:31<00:00,  2.14it/s] \n",
      "Loss=0.4792868196964264 Batch_id=195 Accuracy=87.02: 100%|██████████| 196/196 [01:31<00:00,  2.13it/s] \n",
      "Loss=0.5908723473548889 Batch_id=195 Accuracy=87.38: 100%|██████████| 196/196 [01:32<00:00,  2.13it/s] \n",
      "Loss=0.5446168184280396 Batch_id=195 Accuracy=87.44: 100%|██████████| 196/196 [01:32<00:00,  2.13it/s] \n",
      "Loss=0.6147803068161011 Batch_id=195 Accuracy=87.50: 100%|██████████| 196/196 [01:31<00:00,  2.13it/s] \n"
     ]
    },
    {
     "name": "stdout",
     "output_type": "stream",
     "text": [
      "Epoch 00005: reducing learning rate of group 0 to 5.0000e-04.\n"
     ]
    },
    {
     "name": "stderr",
     "output_type": "stream",
     "text": [
      "Loss=0.4762406349182129 Batch_id=195 Accuracy=91.41: 100%|██████████| 196/196 [01:32<00:00,  2.13it/s] \n",
      "Loss=0.4416934549808502 Batch_id=195 Accuracy=92.70: 100%|██████████| 196/196 [01:32<00:00,  2.13it/s] \n",
      "Loss=0.35425564646720886 Batch_id=195 Accuracy=93.04: 100%|██████████| 196/196 [01:32<00:00,  2.13it/s]\n",
      "Loss=0.3996853828430176 Batch_id=195 Accuracy=93.29: 100%|██████████| 196/196 [01:31<00:00,  2.13it/s] \n",
      "Loss=0.33548790216445923 Batch_id=195 Accuracy=93.46: 100%|██████████| 196/196 [01:33<00:00,  2.09it/s]\n"
     ]
    },
    {
     "name": "stdout",
     "output_type": "stream",
     "text": [
      "Test set: Average loss: 1.9292, Accuracy: 2887/5000 (57.74%)\n",
      "\n",
      "--Skipping Acc Comp For Corrupted Data--\n",
      "Global Sparsity: 91.98% \n",
      "\n",
      "---------- Pruning Iteration:  26 / 44\n"
     ]
    },
    {
     "name": "stderr",
     "output_type": "stream",
     "text": [
      "Loss=0.665756106376648 Batch_id=195 Accuracy=84.94: 100%|██████████| 196/196 [01:32<00:00,  2.12it/s] \n",
      "Loss=0.7834102511405945 Batch_id=195 Accuracy=85.28: 100%|██████████| 196/196 [01:32<00:00,  2.13it/s] \n",
      "Loss=0.5622657537460327 Batch_id=195 Accuracy=85.64: 100%|██████████| 196/196 [01:33<00:00,  2.10it/s] \n",
      "Loss=0.5629208087921143 Batch_id=195 Accuracy=85.82: 100%|██████████| 196/196 [01:32<00:00,  2.13it/s]\n",
      "Loss=0.4832691252231598 Batch_id=195 Accuracy=85.81: 100%|██████████| 196/196 [01:32<00:00,  2.13it/s] \n",
      "Loss=0.5854291915893555 Batch_id=195 Accuracy=86.17: 100%|██████████| 196/196 [01:32<00:00,  2.13it/s] \n",
      "Loss=0.638353705406189 Batch_id=195 Accuracy=86.13: 100%|██████████| 196/196 [01:32<00:00,  2.13it/s]  \n",
      "Loss=0.4127829074859619 Batch_id=195 Accuracy=86.08: 100%|██████████| 196/196 [01:32<00:00,  2.13it/s] \n",
      "Loss=0.553756833076477 Batch_id=195 Accuracy=86.59: 100%|██████████| 196/196 [01:32<00:00,  2.13it/s]  \n",
      "Loss=0.5530920624732971 Batch_id=195 Accuracy=86.38: 100%|██████████| 196/196 [01:32<00:00,  2.12it/s] \n"
     ]
    },
    {
     "name": "stdout",
     "output_type": "stream",
     "text": [
      "Test set: Average loss: 2.1388, Accuracy: 2677/5000 (53.54%)\n",
      "\n",
      "--Skipping Acc Comp For Corrupted Data--\n",
      "Global Sparsity: 92.69% \n",
      "\n",
      "---------- Pruning Iteration:  27 / 44\n"
     ]
    },
    {
     "name": "stderr",
     "output_type": "stream",
     "text": [
      "Loss=0.7041847705841064 Batch_id=195 Accuracy=83.12: 100%|██████████| 196/196 [01:31<00:00,  2.15it/s]\n",
      "Loss=0.5516535043716431 Batch_id=195 Accuracy=84.11: 100%|██████████| 196/196 [01:31<00:00,  2.13it/s]\n",
      "Loss=0.6436025500297546 Batch_id=195 Accuracy=84.31: 100%|██████████| 196/196 [01:32<00:00,  2.12it/s]\n",
      "Loss=0.6794853806495667 Batch_id=195 Accuracy=84.58: 100%|██████████| 196/196 [01:32<00:00,  2.13it/s]\n",
      "Loss=0.7079866528511047 Batch_id=195 Accuracy=84.65: 100%|██████████| 196/196 [01:32<00:00,  2.12it/s]\n"
     ]
    },
    {
     "name": "stdout",
     "output_type": "stream",
     "text": [
      "Epoch 00005: reducing learning rate of group 0 to 5.0000e-04.\n"
     ]
    },
    {
     "name": "stderr",
     "output_type": "stream",
     "text": [
      "Loss=0.38932305574417114 Batch_id=195 Accuracy=88.73: 100%|██████████| 196/196 [01:32<00:00,  2.13it/s]\n",
      "Loss=0.47630858421325684 Batch_id=195 Accuracy=90.32: 100%|██████████| 196/196 [01:32<00:00,  2.13it/s]\n",
      "Loss=0.5099743604660034 Batch_id=195 Accuracy=90.71: 100%|██████████| 196/196 [01:32<00:00,  2.13it/s] \n",
      "Loss=0.3923768401145935 Batch_id=195 Accuracy=90.96: 100%|██████████| 196/196 [01:32<00:00,  2.13it/s] \n"
     ]
    },
    {
     "name": "stdout",
     "output_type": "stream",
     "text": [
      "Epoch 00009: reducing learning rate of group 0 to 2.5000e-05.\n"
     ]
    },
    {
     "name": "stderr",
     "output_type": "stream",
     "text": [
      "Loss=0.48274940252304077 Batch_id=195 Accuracy=91.28: 100%|██████████| 196/196 [01:31<00:00,  2.13it/s]\n"
     ]
    },
    {
     "name": "stdout",
     "output_type": "stream",
     "text": [
      "Test set: Average loss: 1.9387, Accuracy: 2869/5000 (57.38%)\n",
      "\n",
      "--Skipping Acc Comp For Corrupted Data--\n",
      "Global Sparsity: 93.33% \n",
      "\n",
      "---------- Pruning Iteration:  28 / 44\n"
     ]
    },
    {
     "name": "stderr",
     "output_type": "stream",
     "text": [
      "Loss=0.5842832326889038 Batch_id=195 Accuracy=81.91: 100%|██████████| 196/196 [01:32<00:00,  2.13it/s]\n",
      "Loss=0.8269694447517395 Batch_id=195 Accuracy=82.17: 100%|██████████| 196/196 [01:32<00:00,  2.13it/s]\n",
      "Loss=0.8025118708610535 Batch_id=195 Accuracy=82.37: 100%|██████████| 196/196 [01:31<00:00,  2.13it/s]\n",
      "Loss=0.6318978667259216 Batch_id=195 Accuracy=83.00: 100%|██████████| 196/196 [01:31<00:00,  2.13it/s]\n"
     ]
    },
    {
     "name": "stdout",
     "output_type": "stream",
     "text": [
      "Epoch 00004: reducing learning rate of group 0 to 5.0000e-04.\n"
     ]
    },
    {
     "name": "stderr",
     "output_type": "stream",
     "text": [
      "Loss=0.5058563947677612 Batch_id=195 Accuracy=86.94: 100%|██████████| 196/196 [01:31<00:00,  2.13it/s] \n",
      "Loss=0.47970300912857056 Batch_id=195 Accuracy=88.52: 100%|██████████| 196/196 [01:31<00:00,  2.13it/s]\n",
      "Loss=0.39893442392349243 Batch_id=195 Accuracy=88.94: 100%|██████████| 196/196 [01:31<00:00,  2.13it/s]\n",
      "Loss=0.5310087203979492 Batch_id=195 Accuracy=89.19: 100%|██████████| 196/196 [01:31<00:00,  2.14it/s] \n",
      "Loss=0.5515950322151184 Batch_id=195 Accuracy=89.51: 100%|██████████| 196/196 [01:32<00:00,  2.13it/s] \n",
      "Loss=0.4114183485507965 Batch_id=195 Accuracy=89.72: 100%|██████████| 196/196 [01:32<00:00,  2.13it/s] "
     ]
    },
    {
     "name": "stdout",
     "output_type": "stream",
     "text": [
      "Epoch 00010: reducing learning rate of group 0 to 2.5000e-05.\n"
     ]
    },
    {
     "name": "stderr",
     "output_type": "stream",
     "text": [
      "\n"
     ]
    },
    {
     "name": "stdout",
     "output_type": "stream",
     "text": [
      "Test set: Average loss: 1.9247, Accuracy: 2868/5000 (57.36%)\n",
      "\n",
      "--Testing Corruptions--\n"
     ]
    },
    {
     "name": "stderr",
     "output_type": "stream",
     "text": [
      "100%|██████████| 19/19 [06:48<00:00, 21.52s/it]\n"
     ]
    },
    {
     "name": "stdout",
     "output_type": "stream",
     "text": [
      "\n",
      "Avg Corruption Accuracy: 26.70%\n",
      "Global Sparsity: 93.90% \n",
      "\n",
      "---------- Pruning Iteration:  29 / 44\n"
     ]
    },
    {
     "name": "stderr",
     "output_type": "stream",
     "text": [
      "Loss=0.9414039850234985 Batch_id=195 Accuracy=79.87: 100%|██████████| 196/196 [01:31<00:00,  2.13it/s]\n",
      "Loss=0.8596242666244507 Batch_id=195 Accuracy=80.13: 100%|██████████| 196/196 [01:31<00:00,  2.13it/s]\n",
      "Loss=0.8919126391410828 Batch_id=195 Accuracy=80.83: 100%|██████████| 196/196 [01:32<00:00,  2.13it/s]\n",
      "Loss=0.7299548387527466 Batch_id=195 Accuracy=80.89: 100%|██████████| 196/196 [01:34<00:00,  2.08it/s]\n",
      "Loss=0.7851288318634033 Batch_id=195 Accuracy=81.04: 100%|██████████| 196/196 [01:32<00:00,  2.12it/s]\n",
      "Loss=0.8137432932853699 Batch_id=195 Accuracy=81.12: 100%|██████████| 196/196 [01:32<00:00,  2.13it/s]\n",
      "Loss=0.703891932964325 Batch_id=195 Accuracy=81.16: 100%|██████████| 196/196 [01:32<00:00,  2.12it/s] \n",
      "Loss=0.8439162373542786 Batch_id=195 Accuracy=81.43: 100%|██████████| 196/196 [01:32<00:00,  2.11it/s]\n",
      "Loss=0.7768073081970215 Batch_id=195 Accuracy=81.35: 100%|██████████| 196/196 [01:32<00:00,  2.12it/s]\n",
      "Loss=0.8588482141494751 Batch_id=195 Accuracy=81.55: 100%|██████████| 196/196 [01:32<00:00,  2.12it/s]"
     ]
    },
    {
     "name": "stdout",
     "output_type": "stream",
     "text": [
      "Epoch 00010: reducing learning rate of group 0 to 5.0000e-04.\n"
     ]
    },
    {
     "name": "stderr",
     "output_type": "stream",
     "text": [
      "\n"
     ]
    },
    {
     "name": "stdout",
     "output_type": "stream",
     "text": [
      "Test set: Average loss: 2.1244, Accuracy: 2667/5000 (53.34%)\n",
      "\n",
      "--Skipping Acc Comp For Corrupted Data--\n",
      "Global Sparsity: 94.42% \n",
      "\n",
      "---------- Pruning Iteration:  30 / 44\n"
     ]
    },
    {
     "name": "stderr",
     "output_type": "stream",
     "text": [
      "Loss=1.0066373348236084 Batch_id=195 Accuracy=78.19: 100%|██████████| 196/196 [01:31<00:00,  2.13it/s]\n",
      "Loss=0.791880190372467 Batch_id=195 Accuracy=78.79: 100%|██████████| 196/196 [01:32<00:00,  2.13it/s] \n",
      "Loss=0.9081295728683472 Batch_id=195 Accuracy=79.28: 100%|██████████| 196/196 [01:32<00:00,  2.13it/s]\n",
      "Loss=0.9408319592475891 Batch_id=195 Accuracy=79.47: 100%|██████████| 196/196 [01:32<00:00,  2.13it/s]\n",
      "Loss=0.8552301526069641 Batch_id=195 Accuracy=79.67: 100%|██████████| 196/196 [01:32<00:00,  2.12it/s]\n"
     ]
    },
    {
     "name": "stdout",
     "output_type": "stream",
     "text": [
      "Epoch 00005: reducing learning rate of group 0 to 5.0000e-04.\n"
     ]
    },
    {
     "name": "stderr",
     "output_type": "stream",
     "text": [
      "Loss=0.5472439527511597 Batch_id=195 Accuracy=83.81: 100%|██████████| 196/196 [01:32<00:00,  2.13it/s] \n",
      "Loss=0.5576882362365723 Batch_id=195 Accuracy=85.45: 100%|██████████| 196/196 [01:32<00:00,  2.12it/s] \n",
      "Loss=0.580262303352356 Batch_id=195 Accuracy=85.80: 100%|██████████| 196/196 [01:32<00:00,  2.12it/s]  \n",
      "Loss=0.5405167937278748 Batch_id=195 Accuracy=85.97: 100%|██████████| 196/196 [01:32<00:00,  2.12it/s] \n",
      "Loss=0.4428756833076477 Batch_id=195 Accuracy=86.22: 100%|██████████| 196/196 [01:32<00:00,  2.13it/s] \n"
     ]
    },
    {
     "name": "stdout",
     "output_type": "stream",
     "text": [
      "Test set: Average loss: 1.9161, Accuracy: 2876/5000 (57.52%)\n",
      "\n",
      "--Skipping Acc Comp For Corrupted Data--\n",
      "Global Sparsity: 94.89% \n",
      "\n",
      "---------- Pruning Iteration:  31 / 44\n"
     ]
    },
    {
     "name": "stderr",
     "output_type": "stream",
     "text": [
      "Loss=1.0207315683364868 Batch_id=195 Accuracy=76.86: 100%|██████████| 196/196 [01:32<00:00,  2.12it/s]\n",
      "Loss=0.8424814939498901 Batch_id=195 Accuracy=77.14: 100%|██████████| 196/196 [01:32<00:00,  2.12it/s]\n",
      "Loss=0.9293338060379028 Batch_id=195 Accuracy=77.31: 100%|██████████| 196/196 [01:32<00:00,  2.12it/s]\n",
      "Loss=1.0606456995010376 Batch_id=195 Accuracy=77.70: 100%|██████████| 196/196 [01:32<00:00,  2.12it/s]\n",
      "Loss=1.0066640377044678 Batch_id=195 Accuracy=77.52: 100%|██████████| 196/196 [01:32<00:00,  2.12it/s]\n"
     ]
    },
    {
     "name": "stdout",
     "output_type": "stream",
     "text": [
      "Epoch 00005: reducing learning rate of group 0 to 5.0000e-04.\n"
     ]
    },
    {
     "name": "stderr",
     "output_type": "stream",
     "text": [
      "Loss=0.7863186597824097 Batch_id=195 Accuracy=82.03: 100%|██████████| 196/196 [01:32<00:00,  2.13it/s]\n",
      "Loss=0.8607660531997681 Batch_id=195 Accuracy=83.34: 100%|██████████| 196/196 [01:32<00:00,  2.12it/s]\n",
      "Loss=0.6655616760253906 Batch_id=195 Accuracy=83.70: 100%|██████████| 196/196 [01:32<00:00,  2.12it/s]\n",
      "Loss=0.6406615972518921 Batch_id=195 Accuracy=84.20: 100%|██████████| 196/196 [01:32<00:00,  2.12it/s]\n",
      "Loss=0.6601927280426025 Batch_id=195 Accuracy=84.32: 100%|██████████| 196/196 [01:32<00:00,  2.12it/s]\n"
     ]
    },
    {
     "name": "stdout",
     "output_type": "stream",
     "text": [
      "Test set: Average loss: 1.9120, Accuracy: 2870/5000 (57.40%)\n",
      "\n",
      "--Skipping Acc Comp For Corrupted Data--\n",
      "Global Sparsity: 95.31% \n",
      "\n",
      "---------- Pruning Iteration:  32 / 44\n"
     ]
    },
    {
     "name": "stderr",
     "output_type": "stream",
     "text": [
      "Loss=1.026435136795044 Batch_id=195 Accuracy=75.03: 100%|██████████| 196/196 [01:32<00:00,  2.13it/s] \n",
      "Loss=0.9783304929733276 Batch_id=195 Accuracy=75.12: 100%|██████████| 196/196 [01:32<00:00,  2.12it/s]\n",
      "Loss=0.8438214063644409 Batch_id=195 Accuracy=75.56: 100%|██████████| 196/196 [01:32<00:00,  2.12it/s]\n",
      "Loss=0.9856383204460144 Batch_id=195 Accuracy=75.58: 100%|██████████| 196/196 [01:32<00:00,  2.12it/s]\n",
      "Loss=1.0039360523223877 Batch_id=195 Accuracy=75.67: 100%|██████████| 196/196 [01:32<00:00,  2.12it/s]\n",
      "Loss=0.9006245732307434 Batch_id=195 Accuracy=75.95: 100%|██████████| 196/196 [01:32<00:00,  2.13it/s]\n"
     ]
    },
    {
     "name": "stdout",
     "output_type": "stream",
     "text": [
      "Epoch 00006: reducing learning rate of group 0 to 5.0000e-04.\n"
     ]
    },
    {
     "name": "stderr",
     "output_type": "stream",
     "text": [
      "Loss=0.7567439079284668 Batch_id=195 Accuracy=79.88: 100%|██████████| 196/196 [01:32<00:00,  2.12it/s]\n",
      "Loss=0.810775876045227 Batch_id=195 Accuracy=81.28: 100%|██████████| 196/196 [01:32<00:00,  2.13it/s] \n",
      "Loss=0.7387111783027649 Batch_id=195 Accuracy=81.76: 100%|██████████| 196/196 [01:32<00:00,  2.12it/s]\n",
      "Loss=0.6948591470718384 Batch_id=195 Accuracy=82.07: 100%|██████████| 196/196 [01:32<00:00,  2.13it/s]\n"
     ]
    },
    {
     "name": "stdout",
     "output_type": "stream",
     "text": [
      "Test set: Average loss: 1.9183, Accuracy: 2870/5000 (57.40%)\n",
      "\n",
      "--Skipping Acc Comp For Corrupted Data--\n",
      "Global Sparsity: 95.69% \n",
      "\n",
      "---------- Pruning Iteration:  33 / 44\n"
     ]
    },
    {
     "name": "stderr",
     "output_type": "stream",
     "text": [
      "Loss=1.1000077724456787 Batch_id=195 Accuracy=72.90: 100%|██████████| 196/196 [01:31<00:00,  2.13it/s]\n",
      "Loss=0.9433746337890625 Batch_id=195 Accuracy=73.53: 100%|██████████| 196/196 [01:32<00:00,  2.12it/s]\n",
      "Loss=1.1388760805130005 Batch_id=195 Accuracy=73.60: 100%|██████████| 196/196 [01:32<00:00,  2.12it/s]\n",
      "Loss=1.0017642974853516 Batch_id=195 Accuracy=73.69: 100%|██████████| 196/196 [02:10<00:00,  1.50it/s]\n",
      "Loss=1.1135880947113037 Batch_id=195 Accuracy=74.13: 100%|██████████| 196/196 [02:10<00:00,  1.50it/s]\n"
     ]
    },
    {
     "name": "stdout",
     "output_type": "stream",
     "text": [
      "Epoch 00005: reducing learning rate of group 0 to 5.0000e-04.\n"
     ]
    },
    {
     "name": "stderr",
     "output_type": "stream",
     "text": [
      "Loss=0.7334861755371094 Batch_id=195 Accuracy=77.84: 100%|██████████| 196/196 [02:14<00:00,  1.45it/s]\n",
      "Loss=0.7449864149093628 Batch_id=195 Accuracy=79.19: 100%|██████████| 196/196 [02:17<00:00,  1.43it/s]\n",
      "Loss=0.7472641468048096 Batch_id=195 Accuracy=79.91: 100%|██████████| 196/196 [02:14<00:00,  1.46it/s]\n",
      "Loss=0.8986442685127258 Batch_id=195 Accuracy=79.81: 100%|██████████| 196/196 [02:09<00:00,  1.51it/s]\n"
     ]
    },
    {
     "name": "stdout",
     "output_type": "stream",
     "text": [
      "Epoch 00009: reducing learning rate of group 0 to 2.5000e-05.\n"
     ]
    },
    {
     "name": "stderr",
     "output_type": "stream",
     "text": [
      "Loss=0.8542298078536987 Batch_id=195 Accuracy=80.24: 100%|██████████| 196/196 [02:11<00:00,  1.49it/s]\n"
     ]
    },
    {
     "name": "stdout",
     "output_type": "stream",
     "text": [
      "Test set: Average loss: 1.9112, Accuracy: 2847/5000 (56.94%)\n",
      "\n",
      "--Skipping Acc Comp For Corrupted Data--\n",
      "Global Sparsity: 96.03% \n",
      "\n",
      "---------- Pruning Iteration:  34 / 44\n"
     ]
    },
    {
     "name": "stderr",
     "output_type": "stream",
     "text": [
      "Loss=1.1907250881195068 Batch_id=195 Accuracy=71.09: 100%|██████████| 196/196 [02:10<00:00,  1.51it/s]\n",
      "Loss=1.0384587049484253 Batch_id=195 Accuracy=71.31: 100%|██████████| 196/196 [02:13<00:00,  1.47it/s]\n",
      "Loss=1.0781219005584717 Batch_id=195 Accuracy=71.83: 100%|██████████| 196/196 [02:16<00:00,  1.43it/s]\n",
      "Loss=1.065281629562378 Batch_id=195 Accuracy=72.07: 100%|██████████| 196/196 [02:15<00:00,  1.44it/s] \n",
      "Loss=1.0769990682601929 Batch_id=195 Accuracy=72.30: 100%|██████████| 196/196 [02:13<00:00,  1.47it/s]\n"
     ]
    },
    {
     "name": "stdout",
     "output_type": "stream",
     "text": [
      "Epoch 00005: reducing learning rate of group 0 to 5.0000e-04.\n"
     ]
    },
    {
     "name": "stderr",
     "output_type": "stream",
     "text": [
      "Loss=0.9723601341247559 Batch_id=195 Accuracy=75.87: 100%|██████████| 196/196 [02:16<00:00,  1.44it/s]\n",
      "Loss=1.0037282705307007 Batch_id=195 Accuracy=77.08: 100%|██████████| 196/196 [02:15<00:00,  1.44it/s]\n",
      "Loss=1.0678461790084839 Batch_id=195 Accuracy=77.60: 100%|██████████| 196/196 [02:16<00:00,  1.43it/s]\n",
      "Loss=0.988188624382019 Batch_id=195 Accuracy=77.84: 100%|██████████| 196/196 [02:15<00:00,  1.44it/s] \n"
     ]
    },
    {
     "name": "stdout",
     "output_type": "stream",
     "text": [
      "Epoch 00009: reducing learning rate of group 0 to 2.5000e-05.\n"
     ]
    },
    {
     "name": "stderr",
     "output_type": "stream",
     "text": [
      "Loss=0.7227011322975159 Batch_id=195 Accuracy=78.15: 100%|██████████| 196/196 [02:15<00:00,  1.45it/s]\n"
     ]
    },
    {
     "name": "stdout",
     "output_type": "stream",
     "text": [
      "Test set: Average loss: 1.8983, Accuracy: 2834/5000 (56.68%)\n",
      "\n",
      "--Skipping Acc Comp For Corrupted Data--\n",
      "Global Sparsity: 96.33% \n",
      "\n",
      "---------- Pruning Iteration:  35 / 44\n"
     ]
    },
    {
     "name": "stderr",
     "output_type": "stream",
     "text": [
      "Loss=1.1715850830078125 Batch_id=195 Accuracy=69.30: 100%|██████████| 196/196 [02:16<00:00,  1.44it/s]\n",
      "Loss=1.1459417343139648 Batch_id=195 Accuracy=69.64: 100%|██████████| 196/196 [02:15<00:00,  1.44it/s]\n",
      "Loss=1.122440218925476 Batch_id=195 Accuracy=70.09: 100%|██████████| 196/196 [02:16<00:00,  1.44it/s] \n",
      "Loss=1.0365519523620605 Batch_id=195 Accuracy=70.37: 100%|██████████| 196/196 [02:15<00:00,  1.45it/s]\n",
      "Loss=1.202314019203186 Batch_id=195 Accuracy=70.37: 100%|██████████| 196/196 [02:12<00:00,  1.48it/s] \n",
      "Loss=1.2270373106002808 Batch_id=195 Accuracy=70.64: 100%|██████████| 196/196 [02:14<00:00,  1.46it/s]\n",
      "Loss=1.1666170358657837 Batch_id=195 Accuracy=70.82: 100%|██████████| 196/196 [02:09<00:00,  1.51it/s]\n"
     ]
    },
    {
     "name": "stdout",
     "output_type": "stream",
     "text": [
      "Epoch 00007: reducing learning rate of group 0 to 5.0000e-04.\n"
     ]
    },
    {
     "name": "stderr",
     "output_type": "stream",
     "text": [
      "Loss=0.9227856397628784 Batch_id=195 Accuracy=74.08: 100%|██████████| 196/196 [02:14<00:00,  1.46it/s]\n",
      "Loss=0.9236589670181274 Batch_id=195 Accuracy=75.28: 100%|██████████| 196/196 [02:15<00:00,  1.45it/s]\n",
      "Loss=0.9476898908615112 Batch_id=195 Accuracy=75.75: 100%|██████████| 196/196 [02:14<00:00,  1.46it/s]\n"
     ]
    },
    {
     "name": "stdout",
     "output_type": "stream",
     "text": [
      "Test set: Average loss: 1.9048, Accuracy: 2828/5000 (56.56%)\n",
      "\n",
      "--Skipping Acc Comp For Corrupted Data--\n",
      "Global Sparsity: 96.61% \n",
      "\n",
      "---------- Pruning Iteration:  36 / 44\n"
     ]
    },
    {
     "name": "stderr",
     "output_type": "stream",
     "text": [
      "Loss=1.3374278545379639 Batch_id=195 Accuracy=68.19: 100%|██████████| 196/196 [02:17<00:00,  1.42it/s]\n",
      "Loss=1.1374341249465942 Batch_id=195 Accuracy=68.40: 100%|██████████| 196/196 [02:16<00:00,  1.44it/s]\n",
      "Loss=1.3287529945373535 Batch_id=195 Accuracy=68.56: 100%|██████████| 196/196 [02:14<00:00,  1.45it/s]\n",
      "Loss=1.1913377046585083 Batch_id=195 Accuracy=68.96: 100%|██████████| 196/196 [02:14<00:00,  1.46it/s]\n",
      "Loss=1.2422235012054443 Batch_id=195 Accuracy=68.88: 100%|██████████| 196/196 [02:14<00:00,  1.46it/s]\n"
     ]
    },
    {
     "name": "stdout",
     "output_type": "stream",
     "text": [
      "Epoch 00005: reducing learning rate of group 0 to 5.0000e-04.\n"
     ]
    },
    {
     "name": "stderr",
     "output_type": "stream",
     "text": [
      "Loss=1.190720558166504 Batch_id=195 Accuracy=72.24: 100%|██████████| 196/196 [02:14<00:00,  1.45it/s] \n",
      "Loss=1.0415675640106201 Batch_id=195 Accuracy=73.38: 100%|██████████| 196/196 [02:15<00:00,  1.45it/s]\n",
      "Loss=0.8786695599555969 Batch_id=195 Accuracy=73.88: 100%|██████████| 196/196 [02:15<00:00,  1.45it/s]\n",
      "Loss=0.976426899433136 Batch_id=195 Accuracy=74.11: 100%|██████████| 196/196 [02:14<00:00,  1.46it/s] \n",
      "Loss=0.9029778242111206 Batch_id=195 Accuracy=74.14: 100%|██████████| 196/196 [02:15<00:00,  1.45it/s]\n"
     ]
    },
    {
     "name": "stdout",
     "output_type": "stream",
     "text": [
      "Test set: Average loss: 1.8869, Accuracy: 2822/5000 (56.44%)\n",
      "\n",
      "--Skipping Acc Comp For Corrupted Data--\n",
      "Global Sparsity: 96.86% \n",
      "\n",
      "---------- Pruning Iteration:  37 / 44\n"
     ]
    },
    {
     "name": "stderr",
     "output_type": "stream",
     "text": [
      "Loss=1.3441429138183594 Batch_id=195 Accuracy=66.31: 100%|██████████| 196/196 [02:16<00:00,  1.44it/s]\n",
      "Loss=1.2729077339172363 Batch_id=195 Accuracy=66.55: 100%|██████████| 196/196 [02:06<00:00,  1.55it/s]\n",
      "Loss=1.4076570272445679 Batch_id=195 Accuracy=67.16: 100%|██████████| 196/196 [02:09<00:00,  1.51it/s]\n",
      "Loss=1.4620412588119507 Batch_id=195 Accuracy=67.11: 100%|██████████| 196/196 [02:17<00:00,  1.43it/s]\n",
      "Loss=1.2907555103302002 Batch_id=195 Accuracy=67.39: 100%|██████████| 196/196 [02:17<00:00,  1.42it/s]\n"
     ]
    },
    {
     "name": "stdout",
     "output_type": "stream",
     "text": [
      "Epoch 00005: reducing learning rate of group 0 to 5.0000e-04.\n"
     ]
    },
    {
     "name": "stderr",
     "output_type": "stream",
     "text": [
      "Loss=1.0935522317886353 Batch_id=195 Accuracy=70.53: 100%|██████████| 196/196 [02:18<00:00,  1.42it/s]\n",
      "Loss=1.036257028579712 Batch_id=195 Accuracy=71.52: 100%|██████████| 196/196 [02:19<00:00,  1.41it/s] \n",
      "Loss=0.8928446769714355 Batch_id=195 Accuracy=71.85: 100%|██████████| 196/196 [02:17<00:00,  1.42it/s]\n",
      "Loss=1.0500255823135376 Batch_id=195 Accuracy=71.95: 100%|██████████| 196/196 [02:18<00:00,  1.41it/s]\n",
      "Loss=1.177856206893921 Batch_id=195 Accuracy=72.27: 100%|██████████| 196/196 [02:17<00:00,  1.43it/s] \n"
     ]
    },
    {
     "name": "stdout",
     "output_type": "stream",
     "text": [
      "Test set: Average loss: 1.8753, Accuracy: 2820/5000 (56.40%)\n",
      "\n",
      "--Skipping Acc Comp For Corrupted Data--\n",
      "Global Sparsity: 97.08% \n",
      "\n",
      "---------- Pruning Iteration:  38 / 44\n"
     ]
    },
    {
     "name": "stderr",
     "output_type": "stream",
     "text": [
      "Loss=1.3863261938095093 Batch_id=195 Accuracy=64.83: 100%|██████████| 196/196 [02:14<00:00,  1.46it/s]\n",
      "Loss=1.2039330005645752 Batch_id=195 Accuracy=65.17: 100%|██████████| 196/196 [02:10<00:00,  1.50it/s]\n",
      "Loss=1.3035190105438232 Batch_id=195 Accuracy=65.31: 100%|██████████| 196/196 [02:14<00:00,  1.46it/s]\n",
      "Loss=1.368843674659729 Batch_id=195 Accuracy=65.44: 100%|██████████| 196/196 [02:13<00:00,  1.47it/s] \n",
      "Loss=1.3533886671066284 Batch_id=195 Accuracy=65.35: 100%|██████████| 196/196 [02:13<00:00,  1.47it/s]\n"
     ]
    },
    {
     "name": "stdout",
     "output_type": "stream",
     "text": [
      "Epoch 00005: reducing learning rate of group 0 to 5.0000e-04.\n"
     ]
    },
    {
     "name": "stderr",
     "output_type": "stream",
     "text": [
      "Loss=1.1462361812591553 Batch_id=195 Accuracy=68.41: 100%|██████████| 196/196 [02:12<00:00,  1.48it/s]\n",
      "Loss=1.2247717380523682 Batch_id=195 Accuracy=69.39: 100%|██████████| 196/196 [02:12<00:00,  1.48it/s]\n",
      "Loss=1.331129550933838 Batch_id=195 Accuracy=69.81: 100%|██████████| 196/196 [02:05<00:00,  1.56it/s] \n",
      "Loss=1.24563729763031 Batch_id=195 Accuracy=70.06: 100%|██████████| 196/196 [02:06<00:00,  1.55it/s]  \n"
     ]
    },
    {
     "name": "stdout",
     "output_type": "stream",
     "text": [
      "Epoch 00009: reducing learning rate of group 0 to 2.5000e-05.\n"
     ]
    },
    {
     "name": "stderr",
     "output_type": "stream",
     "text": [
      "Loss=0.9637118577957153 Batch_id=195 Accuracy=70.24: 100%|██████████| 196/196 [02:13<00:00,  1.47it/s]\n"
     ]
    },
    {
     "name": "stdout",
     "output_type": "stream",
     "text": [
      "Test set: Average loss: 1.8748, Accuracy: 2790/5000 (55.80%)\n",
      "\n",
      "--Skipping Acc Comp For Corrupted Data--\n",
      "Global Sparsity: 97.28% \n",
      "\n",
      "---------- Pruning Iteration:  39 / 44\n"
     ]
    },
    {
     "name": "stderr",
     "output_type": "stream",
     "text": [
      "Loss=1.3038947582244873 Batch_id=195 Accuracy=62.76: 100%|██████████| 196/196 [02:12<00:00,  1.48it/s]\n",
      "Loss=1.3897641897201538 Batch_id=195 Accuracy=63.27: 100%|██████████| 196/196 [02:13<00:00,  1.47it/s]\n",
      "Loss=1.3462884426116943 Batch_id=195 Accuracy=63.68: 100%|██████████| 196/196 [02:12<00:00,  1.48it/s]\n",
      "Loss=1.3475329875946045 Batch_id=195 Accuracy=63.73: 100%|██████████| 196/196 [02:14<00:00,  1.46it/s]\n"
     ]
    },
    {
     "name": "stdout",
     "output_type": "stream",
     "text": [
      "Epoch 00004: reducing learning rate of group 0 to 5.0000e-04.\n"
     ]
    },
    {
     "name": "stderr",
     "output_type": "stream",
     "text": [
      "Loss=1.357306718826294 Batch_id=195 Accuracy=66.87: 100%|██████████| 196/196 [02:11<00:00,  1.49it/s] \n",
      "Loss=1.1598248481750488 Batch_id=195 Accuracy=67.62: 100%|██████████| 196/196 [02:13<00:00,  1.47it/s]\n",
      "Loss=1.1446855068206787 Batch_id=195 Accuracy=67.81: 100%|██████████| 196/196 [02:12<00:00,  1.47it/s]\n",
      "Loss=1.3436286449432373 Batch_id=195 Accuracy=68.17: 100%|██████████| 196/196 [02:12<00:00,  1.48it/s]\n",
      "Loss=1.2073237895965576 Batch_id=195 Accuracy=68.14: 100%|██████████| 196/196 [02:12<00:00,  1.48it/s]\n",
      "Loss=1.2818433046340942 Batch_id=195 Accuracy=68.39: 100%|██████████| 196/196 [02:12<00:00,  1.48it/s]"
     ]
    },
    {
     "name": "stdout",
     "output_type": "stream",
     "text": [
      "Epoch 00010: reducing learning rate of group 0 to 2.5000e-05.\n"
     ]
    },
    {
     "name": "stderr",
     "output_type": "stream",
     "text": [
      "\n"
     ]
    },
    {
     "name": "stdout",
     "output_type": "stream",
     "text": [
      "Test set: Average loss: 1.8826, Accuracy: 2803/5000 (56.06%)\n",
      "\n",
      "--Skipping Acc Comp For Corrupted Data--\n",
      "Global Sparsity: 97.46% \n",
      "\n",
      "---------- Pruning Iteration:  40 / 44\n"
     ]
    },
    {
     "name": "stderr",
     "output_type": "stream",
     "text": [
      "Loss=1.6119238138198853 Batch_id=195 Accuracy=61.68: 100%|██████████| 196/196 [02:12<00:00,  1.48it/s]\n",
      "Loss=1.4413906335830688 Batch_id=195 Accuracy=61.99: 100%|██████████| 196/196 [02:12<00:00,  1.47it/s]\n",
      "Loss=1.440792202949524 Batch_id=195 Accuracy=61.93: 100%|██████████| 196/196 [02:13<00:00,  1.47it/s] \n",
      "Loss=1.4075653553009033 Batch_id=195 Accuracy=62.08: 100%|██████████| 196/196 [02:06<00:00,  1.55it/s]\n",
      "Loss=1.486677885055542 Batch_id=195 Accuracy=62.27: 100%|██████████| 196/196 [02:05<00:00,  1.56it/s] \n",
      "Loss=1.4632655382156372 Batch_id=195 Accuracy=62.61: 100%|██████████| 196/196 [02:13<00:00,  1.47it/s]\n",
      "Loss=1.4646401405334473 Batch_id=195 Accuracy=62.47: 100%|██████████| 196/196 [02:13<00:00,  1.47it/s]\n"
     ]
    },
    {
     "name": "stdout",
     "output_type": "stream",
     "text": [
      "Epoch 00007: reducing learning rate of group 0 to 5.0000e-04.\n"
     ]
    },
    {
     "name": "stderr",
     "output_type": "stream",
     "text": [
      "Loss=1.2153881788253784 Batch_id=195 Accuracy=65.05: 100%|██████████| 196/196 [02:12<00:00,  1.48it/s]\n",
      "Loss=1.4139716625213623 Batch_id=195 Accuracy=66.12: 100%|██████████| 196/196 [02:12<00:00,  1.48it/s]\n",
      "Loss=1.3745977878570557 Batch_id=195 Accuracy=66.56: 100%|██████████| 196/196 [02:12<00:00,  1.48it/s]\n"
     ]
    },
    {
     "name": "stdout",
     "output_type": "stream",
     "text": [
      "Test set: Average loss: 1.8770, Accuracy: 2779/5000 (55.58%)\n",
      "\n",
      "--Skipping Acc Comp For Corrupted Data--\n",
      "Global Sparsity: 97.63% \n",
      "\n",
      "---------- Pruning Iteration:  41 / 44\n"
     ]
    },
    {
     "name": "stderr",
     "output_type": "stream",
     "text": [
      "Loss=1.625769853591919 Batch_id=195 Accuracy=60.41: 100%|██████████| 196/196 [02:12<00:00,  1.48it/s] \n",
      "Loss=1.5040489435195923 Batch_id=195 Accuracy=60.66: 100%|██████████| 196/196 [02:13<00:00,  1.47it/s]\n",
      "Loss=1.575049638748169 Batch_id=195 Accuracy=60.73: 100%|██████████| 196/196 [02:11<00:00,  1.49it/s] \n",
      "Loss=1.5036271810531616 Batch_id=195 Accuracy=60.82: 100%|██████████| 196/196 [02:12<00:00,  1.48it/s]\n",
      "Loss=1.577864170074463 Batch_id=195 Accuracy=61.14: 100%|██████████| 196/196 [02:12<00:00,  1.48it/s] \n",
      "Loss=1.7441068887710571 Batch_id=195 Accuracy=61.45: 100%|██████████| 196/196 [02:12<00:00,  1.48it/s]\n",
      "Loss=1.4913374185562134 Batch_id=195 Accuracy=61.24: 100%|██████████| 196/196 [02:13<00:00,  1.47it/s]\n",
      "Loss=1.558180809020996 Batch_id=195 Accuracy=61.27: 100%|██████████| 196/196 [02:11<00:00,  1.48it/s] \n",
      "Loss=1.363435983657837 Batch_id=195 Accuracy=61.27: 100%|██████████| 196/196 [02:13<00:00,  1.47it/s] \n",
      "Loss=1.4639688730239868 Batch_id=195 Accuracy=61.32: 100%|██████████| 196/196 [02:11<00:00,  1.49it/s]\n"
     ]
    },
    {
     "name": "stdout",
     "output_type": "stream",
     "text": [
      "Test set: Average loss: 2.0164, Accuracy: 2628/5000 (52.56%)\n",
      "\n",
      "--Skipping Acc Comp For Corrupted Data--\n",
      "Global Sparsity: 97.77% \n",
      "\n",
      "---------- Pruning Iteration:  42 / 44\n"
     ]
    },
    {
     "name": "stderr",
     "output_type": "stream",
     "text": [
      "Loss=1.6205936670303345 Batch_id=195 Accuracy=59.10: 100%|██████████| 196/196 [02:12<00:00,  1.48it/s]\n",
      "Loss=1.5214930772781372 Batch_id=195 Accuracy=59.56: 100%|██████████| 196/196 [02:12<00:00,  1.48it/s]\n",
      "Loss=1.960468053817749 Batch_id=195 Accuracy=59.90: 100%|██████████| 196/196 [02:13<00:00,  1.47it/s] \n",
      "Loss=1.7225290536880493 Batch_id=195 Accuracy=59.98: 100%|██████████| 196/196 [02:12<00:00,  1.47it/s]\n",
      "Loss=1.6271356344223022 Batch_id=195 Accuracy=59.80: 100%|██████████| 196/196 [02:13<00:00,  1.47it/s]\n"
     ]
    },
    {
     "name": "stdout",
     "output_type": "stream",
     "text": [
      "Epoch 00005: reducing learning rate of group 0 to 5.0000e-04.\n"
     ]
    },
    {
     "name": "stderr",
     "output_type": "stream",
     "text": [
      "Loss=1.3428219556808472 Batch_id=195 Accuracy=62.46: 100%|██████████| 196/196 [02:12<00:00,  1.48it/s]\n",
      "Loss=1.6370779275894165 Batch_id=195 Accuracy=63.11: 100%|██████████| 196/196 [02:12<00:00,  1.47it/s]\n",
      "Loss=1.4483602046966553 Batch_id=195 Accuracy=63.34: 100%|██████████| 196/196 [02:12<00:00,  1.48it/s]\n",
      "Loss=1.3012115955352783 Batch_id=195 Accuracy=63.38: 100%|██████████| 196/196 [02:13<00:00,  1.47it/s]\n",
      "Loss=1.3810657262802124 Batch_id=195 Accuracy=63.50: 100%|██████████| 196/196 [02:14<00:00,  1.45it/s]\n"
     ]
    },
    {
     "name": "stdout",
     "output_type": "stream",
     "text": [
      "Test set: Average loss: 1.8733, Accuracy: 2771/5000 (55.42%)\n",
      "\n",
      "--Skipping Acc Comp For Corrupted Data--\n",
      "Global Sparsity: 97.90% \n",
      "\n",
      "---------- Pruning Iteration:  43 / 44\n"
     ]
    },
    {
     "name": "stderr",
     "output_type": "stream",
     "text": [
      "Loss=1.7139962911605835 Batch_id=195 Accuracy=57.97: 100%|██████████| 196/196 [02:12<00:00,  1.48it/s]\n",
      "Loss=1.8082935810089111 Batch_id=195 Accuracy=58.05: 100%|██████████| 196/196 [02:12<00:00,  1.48it/s]\n",
      "Loss=1.6937164068222046 Batch_id=195 Accuracy=58.41: 100%|██████████| 196/196 [02:13<00:00,  1.47it/s]\n",
      "Loss=1.5106558799743652 Batch_id=195 Accuracy=58.30: 100%|██████████| 196/196 [02:10<00:00,  1.50it/s]\n",
      "Loss=1.6211140155792236 Batch_id=195 Accuracy=58.64: 100%|██████████| 196/196 [02:07<00:00,  1.54it/s]\n",
      "Loss=1.5557416677474976 Batch_id=195 Accuracy=58.69: 100%|██████████| 196/196 [02:14<00:00,  1.46it/s]\n",
      "Loss=1.740729570388794 Batch_id=195 Accuracy=58.87: 100%|██████████| 196/196 [02:12<00:00,  1.48it/s] \n"
     ]
    },
    {
     "name": "stdout",
     "output_type": "stream",
     "text": [
      "Epoch 00007: reducing learning rate of group 0 to 5.0000e-04.\n"
     ]
    },
    {
     "name": "stderr",
     "output_type": "stream",
     "text": [
      "Loss=1.6094859838485718 Batch_id=195 Accuracy=60.92: 100%|██████████| 196/196 [02:12<00:00,  1.48it/s]\n",
      "Loss=1.4752812385559082 Batch_id=195 Accuracy=61.62: 100%|██████████| 196/196 [02:12<00:00,  1.48it/s]\n",
      "Loss=1.5785996913909912 Batch_id=195 Accuracy=61.75: 100%|██████████| 196/196 [02:12<00:00,  1.47it/s]\n"
     ]
    },
    {
     "name": "stdout",
     "output_type": "stream",
     "text": [
      "Test set: Average loss: 1.9067, Accuracy: 2759/5000 (55.18%)\n",
      "\n",
      "--Skipping Acc Comp For Corrupted Data--\n",
      "Global Sparsity: 98.02% \n",
      "\n",
      "---------- Pruning Iteration:  44 / 44\n"
     ]
    },
    {
     "name": "stderr",
     "output_type": "stream",
     "text": [
      "Loss=1.802724838256836 Batch_id=195 Accuracy=56.65: 100%|██████████| 196/196 [02:12<00:00,  1.48it/s] \n",
      "Loss=1.7385339736938477 Batch_id=195 Accuracy=56.75: 100%|██████████| 196/196 [02:12<00:00,  1.48it/s]\n",
      "Loss=1.9284541606903076 Batch_id=195 Accuracy=57.04: 100%|██████████| 196/196 [02:12<00:00,  1.47it/s]\n",
      "Loss=1.7275183200836182 Batch_id=195 Accuracy=57.08: 100%|██████████| 196/196 [02:15<00:00,  1.45it/s]\n",
      "Loss=1.5964367389678955 Batch_id=195 Accuracy=57.15: 100%|██████████| 196/196 [02:11<00:00,  1.49it/s]\n",
      "Loss=1.4594169855117798 Batch_id=195 Accuracy=57.28: 100%|██████████| 196/196 [02:12<00:00,  1.48it/s]\n",
      "Loss=1.687808632850647 Batch_id=195 Accuracy=57.30: 100%|██████████| 196/196 [02:11<00:00,  1.49it/s] \n",
      "Loss=1.5284740924835205 Batch_id=195 Accuracy=57.32: 100%|██████████| 196/196 [02:11<00:00,  1.49it/s]\n",
      "Loss=2.075587272644043 Batch_id=195 Accuracy=57.51: 100%|██████████| 196/196 [02:10<00:00,  1.50it/s] \n"
     ]
    },
    {
     "name": "stdout",
     "output_type": "stream",
     "text": [
      "Epoch 00009: reducing learning rate of group 0 to 5.0000e-04.\n"
     ]
    },
    {
     "name": "stderr",
     "output_type": "stream",
     "text": [
      "Loss=1.5899970531463623 Batch_id=195 Accuracy=59.63: 100%|██████████| 196/196 [02:06<00:00,  1.55it/s]\n"
     ]
    },
    {
     "name": "stdout",
     "output_type": "stream",
     "text": [
      "Test set: Average loss: 1.9186, Accuracy: 2720/5000 (54.40%)\n",
      "\n",
      "--Testing Corruptions--\n"
     ]
    },
    {
     "name": "stderr",
     "output_type": "stream",
     "text": [
      "100%|██████████| 19/19 [07:26<00:00, 23.50s/it]"
     ]
    },
    {
     "name": "stdout",
     "output_type": "stream",
     "text": [
      "\n",
      "Avg Corruption Accuracy: 25.05%\n",
      "Global Sparsity: 98.13% \n",
      "\n"
     ]
    },
    {
     "name": "stderr",
     "output_type": "stream",
     "text": [
      "\n"
     ]
    }
   ],
   "source": [
    "#RestNet18\n",
    "model=copy.deepcopy(ResNet18_TINYIMAGENET_0P)\n",
    "TrainLoader=trainloader_TINYIMAGENET\n",
    "TestLoader=testloader_TINYIMAGENET\n",
    "TestCLoader=TiniyImageNetCLevel_Loader\n",
    "PruningRate=0.1\n",
    "NumEpochsEachPruneRetrain=10\n",
    "MaximumPruneLevel=0.01\n",
    "\n",
    "SaveTrainStepsName=\"Progress/PruningIterations_ResNet18_IMAGENET_01PR_10Epochs_L2_0005\"\n",
    "\n",
    "ReadMe=\"This model is running pruning with the standard cost function, and the non corrupted dataset, a prunning rate of 0.1 and 10 epoch of retraining\\\n",
    "L2 Regularization of 0.0005 is used\\n\\nOriginal Model: ResNet18 Trained with TINY-IMAGENET Dataset\"\n",
    "\n",
    "test_acc, Avg_Corrup_Acc_List, Acc_Corruptions, RemainingWeights_List, Sparcity_List=iterative_pruning(model,device, TrainLoader, TestLoader, TestCLoader, PruningRate, SaveTrainStepsName,ReadMe,\n",
    "                                                                                                        lambda_l1, lambda_l2, NumEpochsEachPruneRetrain,MaximumPruneLevel)"
   ]
  },
  {
   "cell_type": "code",
   "execution_count": 15,
   "metadata": {},
   "outputs": [
    {
     "name": "stdout",
     "output_type": "stream",
     "text": [
      "--Get statistics before pruning--\n",
      "Train set: Average loss: 0.0133, Accuracy: 99812/100000 (99.81%)\n",
      "Test set: Average loss: 2.7202, Accuracy: 2738/5000 (54.76%)\n",
      "\n",
      "--Testing Corruptions--\n"
     ]
    },
    {
     "name": "stderr",
     "output_type": "stream",
     "text": [
      "100%|██████████| 19/19 [07:18<00:00, 23.06s/it]\n"
     ]
    },
    {
     "name": "stdout",
     "output_type": "stream",
     "text": [
      "\n",
      "Avg Corruption Accuracy: 28.70%\n",
      "---------- Pruning Iteration:  1 / 7\n"
     ]
    },
    {
     "name": "stderr",
     "output_type": "stream",
     "text": [
      "Loss=0.05399547889828682 Batch_id=195 Accuracy=99.38: 100%|██████████| 196/196 [01:12<00:00,  2.69it/s] \n",
      "Loss=0.021267589181661606 Batch_id=195 Accuracy=99.55: 100%|██████████| 196/196 [01:12<00:00,  2.69it/s]\n",
      "Loss=0.02902122773230076 Batch_id=195 Accuracy=99.63: 100%|██████████| 196/196 [01:12<00:00,  2.70it/s] \n",
      "Loss=0.01784689351916313 Batch_id=195 Accuracy=99.73: 100%|██████████| 196/196 [01:12<00:00,  2.69it/s] \n",
      "Loss=0.022539503872394562 Batch_id=195 Accuracy=99.71: 100%|██████████| 196/196 [01:12<00:00,  2.69it/s]\n",
      "Loss=0.014312589541077614 Batch_id=195 Accuracy=99.76: 100%|██████████| 196/196 [01:12<00:00,  2.70it/s]\n",
      "Loss=0.014446425251662731 Batch_id=195 Accuracy=99.78: 100%|██████████| 196/196 [01:12<00:00,  2.69it/s]\n",
      "Loss=0.025498375296592712 Batch_id=195 Accuracy=99.78: 100%|██████████| 196/196 [01:12<00:00,  2.70it/s]\n",
      "Loss=0.017466794699430466 Batch_id=195 Accuracy=99.81: 100%|██████████| 196/196 [01:13<00:00,  2.67it/s]\n"
     ]
    },
    {
     "name": "stdout",
     "output_type": "stream",
     "text": [
      "Epoch 00009: reducing learning rate of group 0 to 5.0000e-04.\n"
     ]
    },
    {
     "name": "stderr",
     "output_type": "stream",
     "text": [
      "Loss=0.012333502992987633 Batch_id=195 Accuracy=99.84: 100%|██████████| 196/196 [01:13<00:00,  2.68it/s]\n"
     ]
    },
    {
     "name": "stdout",
     "output_type": "stream",
     "text": [
      "Test set: Average loss: 2.4440, Accuracy: 2763/5000 (55.26%)\n",
      "\n",
      "--Testing Corruptions--\n"
     ]
    },
    {
     "name": "stderr",
     "output_type": "stream",
     "text": [
      "100%|██████████| 19/19 [07:18<00:00, 23.07s/it]\n"
     ]
    },
    {
     "name": "stdout",
     "output_type": "stream",
     "text": [
      "\n",
      "Avg Corruption Accuracy: 28.36%\n",
      "Global Sparsity: 49.65% \n",
      "\n",
      "---------- Pruning Iteration:  2 / 7\n"
     ]
    },
    {
     "name": "stderr",
     "output_type": "stream",
     "text": [
      "Loss=0.09784089028835297 Batch_id=195 Accuracy=96.73: 100%|██████████| 196/196 [01:13<00:00,  2.68it/s]\n",
      "Loss=0.08326029777526855 Batch_id=195 Accuracy=98.52: 100%|██████████| 196/196 [01:12<00:00,  2.69it/s]\n",
      "Loss=0.07368381321430206 Batch_id=195 Accuracy=98.95: 100%|██████████| 196/196 [01:12<00:00,  2.69it/s] \n",
      "Loss=0.07814361900091171 Batch_id=195 Accuracy=99.14: 100%|██████████| 196/196 [01:13<00:00,  2.65it/s] \n",
      "Loss=0.039460740983486176 Batch_id=195 Accuracy=99.30: 100%|██████████| 196/196 [01:12<00:00,  2.70it/s]\n",
      "Loss=0.048457708209753036 Batch_id=195 Accuracy=99.39: 100%|██████████| 196/196 [01:13<00:00,  2.68it/s]\n",
      "Loss=0.051279813051223755 Batch_id=195 Accuracy=99.46: 100%|██████████| 196/196 [01:14<00:00,  2.62it/s]\n",
      "Loss=0.04122127220034599 Batch_id=195 Accuracy=99.49: 100%|██████████| 196/196 [01:13<00:00,  2.68it/s] \n"
     ]
    },
    {
     "name": "stdout",
     "output_type": "stream",
     "text": [
      "Epoch 00008: reducing learning rate of group 0 to 5.0000e-04.\n"
     ]
    },
    {
     "name": "stderr",
     "output_type": "stream",
     "text": [
      "Loss=0.05286974832415581 Batch_id=195 Accuracy=99.62: 100%|██████████| 196/196 [01:14<00:00,  2.64it/s] \n",
      "Loss=0.051838405430316925 Batch_id=195 Accuracy=99.63: 100%|██████████| 196/196 [01:13<00:00,  2.67it/s]\n"
     ]
    },
    {
     "name": "stdout",
     "output_type": "stream",
     "text": [
      "Test set: Average loss: 2.2976, Accuracy: 2744/5000 (54.88%)\n",
      "\n",
      "--Testing Corruptions--\n"
     ]
    },
    {
     "name": "stderr",
     "output_type": "stream",
     "text": [
      "100%|██████████| 19/19 [07:24<00:00, 23.37s/it]\n"
     ]
    },
    {
     "name": "stdout",
     "output_type": "stream",
     "text": [
      "\n",
      "Avg Corruption Accuracy: 27.55%\n",
      "Global Sparsity: 74.48% \n",
      "\n",
      "---------- Pruning Iteration:  3 / 7\n"
     ]
    },
    {
     "name": "stderr",
     "output_type": "stream",
     "text": [
      "Loss=0.5764584541320801 Batch_id=195 Accuracy=80.12: 100%|██████████| 196/196 [01:13<00:00,  2.68it/s] \n",
      "Loss=0.4084210991859436 Batch_id=195 Accuracy=90.50: 100%|██████████| 196/196 [01:13<00:00,  2.68it/s] \n",
      "Loss=0.2931969165802002 Batch_id=195 Accuracy=93.34: 100%|██████████| 196/196 [01:13<00:00,  2.67it/s] \n",
      "Loss=0.2462841272354126 Batch_id=195 Accuracy=94.81: 100%|██████████| 196/196 [01:13<00:00,  2.67it/s] \n",
      "Loss=0.21960635483264923 Batch_id=195 Accuracy=95.69: 100%|██████████| 196/196 [01:13<00:00,  2.67it/s]\n",
      "Loss=0.1799418330192566 Batch_id=195 Accuracy=96.37: 100%|██████████| 196/196 [01:13<00:00,  2.66it/s] \n",
      "Loss=0.21953332424163818 Batch_id=195 Accuracy=96.81: 100%|██████████| 196/196 [01:13<00:00,  2.67it/s]\n",
      "Loss=0.17090502381324768 Batch_id=195 Accuracy=97.20: 100%|██████████| 196/196 [01:13<00:00,  2.67it/s]\n",
      "Loss=0.13485147058963776 Batch_id=195 Accuracy=97.57: 100%|██████████| 196/196 [01:13<00:00,  2.68it/s]\n",
      "Loss=0.16210386157035828 Batch_id=195 Accuracy=97.73: 100%|██████████| 196/196 [01:13<00:00,  2.67it/s]\n"
     ]
    },
    {
     "name": "stdout",
     "output_type": "stream",
     "text": [
      "Test set: Average loss: 2.3243, Accuracy: 2678/5000 (53.56%)\n",
      "\n",
      "--Testing Corruptions--\n"
     ]
    },
    {
     "name": "stderr",
     "output_type": "stream",
     "text": [
      "100%|██████████| 19/19 [07:25<00:00, 23.46s/it]\n"
     ]
    },
    {
     "name": "stdout",
     "output_type": "stream",
     "text": [
      "\n",
      "Avg Corruption Accuracy: 25.93%\n",
      "Global Sparsity: 86.90% \n",
      "\n",
      "---------- Pruning Iteration:  4 / 7\n"
     ]
    },
    {
     "name": "stderr",
     "output_type": "stream",
     "text": [
      "Loss=1.2020925283432007 Batch_id=195 Accuracy=60.36: 100%|██████████| 196/196 [01:15<00:00,  2.58it/s]\n",
      "Loss=0.882296085357666 Batch_id=195 Accuracy=73.38: 100%|██████████| 196/196 [01:13<00:00,  2.67it/s] \n",
      "Loss=0.7467806339263916 Batch_id=195 Accuracy=78.34: 100%|██████████| 196/196 [01:12<00:00,  2.69it/s]\n",
      "Loss=0.6831639409065247 Batch_id=195 Accuracy=81.03: 100%|██████████| 196/196 [01:13<00:00,  2.68it/s]\n",
      "Loss=0.6119422316551208 Batch_id=195 Accuracy=83.03: 100%|██████████| 196/196 [01:13<00:00,  2.67it/s]\n",
      "Loss=0.6877771615982056 Batch_id=195 Accuracy=84.28: 100%|██████████| 196/196 [01:13<00:00,  2.68it/s] \n",
      "Loss=0.5860704779624939 Batch_id=195 Accuracy=85.60: 100%|██████████| 196/196 [01:13<00:00,  2.65it/s] \n",
      "Loss=0.46699780225753784 Batch_id=195 Accuracy=86.33: 100%|██████████| 196/196 [01:13<00:00,  2.66it/s]\n",
      "Loss=0.6119002103805542 Batch_id=195 Accuracy=87.28: 100%|██████████| 196/196 [01:13<00:00,  2.66it/s] \n",
      "Loss=0.5019049048423767 Batch_id=195 Accuracy=87.79: 100%|██████████| 196/196 [01:12<00:00,  2.69it/s] \n"
     ]
    },
    {
     "name": "stdout",
     "output_type": "stream",
     "text": [
      "Test set: Average loss: 2.4600, Accuracy: 2491/5000 (49.82%)\n",
      "\n",
      "--Testing Corruptions--\n"
     ]
    },
    {
     "name": "stderr",
     "output_type": "stream",
     "text": [
      "100%|██████████| 19/19 [07:30<00:00, 23.71s/it]\n"
     ]
    },
    {
     "name": "stdout",
     "output_type": "stream",
     "text": [
      "\n",
      "Avg Corruption Accuracy: 24.26%\n",
      "Global Sparsity: 93.10% \n",
      "\n",
      "---------- Pruning Iteration:  5 / 7\n"
     ]
    },
    {
     "name": "stderr",
     "output_type": "stream",
     "text": [
      "Loss=1.4493980407714844 Batch_id=195 Accuracy=55.84: 100%|██████████| 196/196 [01:13<00:00,  2.68it/s]\n",
      "Loss=1.1952731609344482 Batch_id=195 Accuracy=64.64: 100%|██████████| 196/196 [01:14<00:00,  2.65it/s]\n",
      "Loss=1.1293423175811768 Batch_id=195 Accuracy=67.63: 100%|██████████| 196/196 [01:13<00:00,  2.67it/s]\n",
      "Loss=0.9732874035835266 Batch_id=195 Accuracy=69.73: 100%|██████████| 196/196 [01:13<00:00,  2.68it/s]\n",
      "Loss=1.356776475906372 Batch_id=195 Accuracy=71.20: 100%|██████████| 196/196 [01:13<00:00,  2.66it/s] \n",
      "Loss=1.3285515308380127 Batch_id=195 Accuracy=72.00: 100%|██████████| 196/196 [01:13<00:00,  2.66it/s]\n",
      "Loss=1.1746203899383545 Batch_id=195 Accuracy=73.05: 100%|██████████| 196/196 [01:13<00:00,  2.68it/s]\n"
     ]
    },
    {
     "name": "stdout",
     "output_type": "stream",
     "text": [
      "Epoch 00007: reducing learning rate of group 0 to 5.0000e-04.\n"
     ]
    },
    {
     "name": "stderr",
     "output_type": "stream",
     "text": [
      "Loss=0.8847519755363464 Batch_id=195 Accuracy=78.22: 100%|██████████| 196/196 [01:13<00:00,  2.66it/s]\n",
      "Loss=0.9112150073051453 Batch_id=195 Accuracy=79.44: 100%|██████████| 196/196 [01:13<00:00,  2.65it/s]\n",
      "Loss=0.693274736404419 Batch_id=195 Accuracy=80.06: 100%|██████████| 196/196 [01:13<00:00,  2.67it/s] \n"
     ]
    },
    {
     "name": "stdout",
     "output_type": "stream",
     "text": [
      "Test set: Average loss: 2.2095, Accuracy: 2574/5000 (51.48%)\n",
      "\n",
      "--Skipping Acc Comp For Corrupted Data--\n",
      "Global Sparsity: 96.21% \n",
      "\n",
      "---------- Pruning Iteration:  6 / 7\n"
     ]
    },
    {
     "name": "stderr",
     "output_type": "stream",
     "text": [
      "Loss=2.0093910694122314 Batch_id=195 Accuracy=46.55: 100%|██████████| 196/196 [01:13<00:00,  2.67it/s]\n",
      "Loss=1.829189658164978 Batch_id=195 Accuracy=53.21: 100%|██████████| 196/196 [01:13<00:00,  2.65it/s] \n",
      "Loss=1.631988763809204 Batch_id=195 Accuracy=55.52: 100%|██████████| 196/196 [01:13<00:00,  2.66it/s] \n",
      "Loss=1.666831374168396 Batch_id=195 Accuracy=57.16: 100%|██████████| 196/196 [01:12<00:00,  2.69it/s] \n",
      "Loss=1.6262422800064087 Batch_id=195 Accuracy=58.27: 100%|██████████| 196/196 [01:15<00:00,  2.61it/s]\n",
      "Loss=1.63430655002594 Batch_id=195 Accuracy=59.25: 100%|██████████| 196/196 [01:14<00:00,  2.62it/s]  \n",
      "Loss=1.6123216152191162 Batch_id=195 Accuracy=59.76: 100%|██████████| 196/196 [01:13<00:00,  2.67it/s]\n",
      "Loss=1.437920093536377 Batch_id=195 Accuracy=60.33: 100%|██████████| 196/196 [01:13<00:00,  2.66it/s] \n",
      "Loss=1.6078659296035767 Batch_id=195 Accuracy=61.27: 100%|██████████| 196/196 [01:15<00:00,  2.60it/s]\n",
      "Loss=1.2974869012832642 Batch_id=195 Accuracy=61.33: 100%|██████████| 196/196 [01:13<00:00,  2.66it/s]\n"
     ]
    },
    {
     "name": "stdout",
     "output_type": "stream",
     "text": [
      "Test set: Average loss: 2.3096, Accuracy: 2314/5000 (46.28%)\n",
      "\n",
      "--Skipping Acc Comp For Corrupted Data--\n",
      "Global Sparsity: 97.76% \n",
      "\n",
      "---------- Pruning Iteration:  7 / 7\n"
     ]
    },
    {
     "name": "stderr",
     "output_type": "stream",
     "text": [
      "Loss=2.454685926437378 Batch_id=195 Accuracy=40.01: 100%|██████████| 196/196 [01:13<00:00,  2.67it/s] \n",
      "Loss=2.2157163619995117 Batch_id=195 Accuracy=45.62: 100%|██████████| 196/196 [01:13<00:00,  2.67it/s]\n",
      "Loss=2.0769782066345215 Batch_id=195 Accuracy=47.29: 100%|██████████| 196/196 [01:13<00:00,  2.66it/s]\n",
      "Loss=2.2600724697113037 Batch_id=195 Accuracy=48.88: 100%|██████████| 196/196 [01:13<00:00,  2.66it/s]\n",
      "Loss=2.2128405570983887 Batch_id=195 Accuracy=49.75: 100%|██████████| 196/196 [01:13<00:00,  2.67it/s]\n",
      "Loss=1.8757374286651611 Batch_id=195 Accuracy=50.79: 100%|██████████| 196/196 [01:13<00:00,  2.67it/s]\n",
      "Loss=2.250596523284912 Batch_id=195 Accuracy=50.97: 100%|██████████| 196/196 [01:13<00:00,  2.67it/s] \n",
      "Loss=1.69744074344635 Batch_id=195 Accuracy=51.74: 100%|██████████| 196/196 [01:13<00:00,  2.66it/s]  \n",
      "Loss=1.6222190856933594 Batch_id=195 Accuracy=51.98: 100%|██████████| 196/196 [01:13<00:00,  2.68it/s]\n",
      "Loss=1.8957191705703735 Batch_id=195 Accuracy=52.22: 100%|██████████| 196/196 [01:13<00:00,  2.66it/s]\n"
     ]
    },
    {
     "name": "stdout",
     "output_type": "stream",
     "text": [
      "Test set: Average loss: 2.3646, Accuracy: 2189/5000 (43.78%)\n",
      "\n",
      "--Testing Corruptions--\n"
     ]
    },
    {
     "name": "stderr",
     "output_type": "stream",
     "text": [
      "100%|██████████| 19/19 [07:28<00:00, 23.58s/it]"
     ]
    },
    {
     "name": "stdout",
     "output_type": "stream",
     "text": [
      "\n",
      "Avg Corruption Accuracy: 19.76%\n",
      "Global Sparsity: 98.53% \n",
      "\n"
     ]
    },
    {
     "name": "stderr",
     "output_type": "stream",
     "text": [
      "\n"
     ]
    }
   ],
   "source": [
    "#VGG16\n",
    "model=copy.deepcopy(VGG16_TINYIMAGENET_0P)\n",
    "TrainLoader=trainloader_TINYIMAGENET\n",
    "TestLoader=testloader_TINYIMAGENET\n",
    "TestCLoader=TiniyImageNetCLevel_Loader\n",
    "PruningRate=0.5\n",
    "NumEpochsEachPruneRetrain=10\n",
    "MaximumPruneLevel=0.01\n",
    "\n",
    "SaveTrainStepsName=\"Progress/PruningIterations_VGG16_IMAGENET_05PR_10Epochs_L2_0005\"\n",
    "\n",
    "ReadMe=\"This model is running pruning with the standard cost function, and the non corrupted dataset, a prunning rate of 0.5 and 10 epoch of retraining\\\n",
    "L2 Regularization of 0.0005 is used\\n\\nOriginal Model: VGG16 Trained with TINY-IMAGENET Dataset\"\n",
    "\n",
    "test_acc, Avg_Corrup_Acc_List, Acc_Corruptions, RemainingWeights_List, Sparcity_List=iterative_pruning(model,device, TrainLoader, TestLoader, TestCLoader, PruningRate, SaveTrainStepsName,ReadMe,\n",
    "                                                                                                        lambda_l1, lambda_l2, NumEpochsEachPruneRetrain,MaximumPruneLevel)"
   ]
  },
  {
   "cell_type": "code",
   "execution_count": 16,
   "metadata": {},
   "outputs": [
    {
     "name": "stdout",
     "output_type": "stream",
     "text": [
      "--Get statistics before pruning--\n",
      "Train set: Average loss: 0.0139, Accuracy: 99788/100000 (99.79%)\n",
      "Test set: Average loss: 2.7202, Accuracy: 2738/5000 (54.76%)\n",
      "\n",
      "--Testing Corruptions--\n"
     ]
    },
    {
     "name": "stderr",
     "output_type": "stream",
     "text": [
      "100%|██████████| 19/19 [07:27<00:00, 23.54s/it]\n"
     ]
    },
    {
     "name": "stdout",
     "output_type": "stream",
     "text": [
      "\n",
      "Avg Corruption Accuracy: 28.70%\n",
      "---------- Pruning Iteration:  1 / 16\n"
     ]
    },
    {
     "name": "stderr",
     "output_type": "stream",
     "text": [
      "Loss=0.015072214417159557 Batch_id=195 Accuracy=99.70: 100%|██████████| 196/196 [01:13<00:00,  2.67it/s]\n",
      "Loss=0.01009774673730135 Batch_id=195 Accuracy=99.76: 100%|██████████| 196/196 [01:13<00:00,  2.65it/s] \n",
      "Loss=0.022131390869617462 Batch_id=195 Accuracy=99.75: 100%|██████████| 196/196 [01:13<00:00,  2.66it/s]\n",
      "Loss=0.021602634340524673 Batch_id=195 Accuracy=99.81: 100%|██████████| 196/196 [01:13<00:00,  2.66it/s]\n",
      "Loss=0.017704781144857407 Batch_id=195 Accuracy=99.83: 100%|██████████| 196/196 [01:14<00:00,  2.64it/s]\n"
     ]
    },
    {
     "name": "stdout",
     "output_type": "stream",
     "text": [
      "Epoch 00005: reducing learning rate of group 0 to 5.0000e-04.\n"
     ]
    },
    {
     "name": "stderr",
     "output_type": "stream",
     "text": [
      "Loss=0.011315368115901947 Batch_id=195 Accuracy=99.85: 100%|██████████| 196/196 [01:13<00:00,  2.65it/s]\n",
      "Loss=0.007211457006633282 Batch_id=195 Accuracy=99.86: 100%|██████████| 196/196 [01:13<00:00,  2.66it/s] \n",
      "Loss=0.011323056183755398 Batch_id=195 Accuracy=99.84: 100%|██████████| 196/196 [01:14<00:00,  2.65it/s]\n",
      "Loss=0.015865562483668327 Batch_id=195 Accuracy=99.88: 100%|██████████| 196/196 [01:13<00:00,  2.66it/s]\n",
      "Loss=0.024855956435203552 Batch_id=195 Accuracy=99.88: 100%|██████████| 196/196 [01:13<00:00,  2.67it/s] "
     ]
    },
    {
     "name": "stdout",
     "output_type": "stream",
     "text": [
      "Epoch 00010: reducing learning rate of group 0 to 2.5000e-05.\n"
     ]
    },
    {
     "name": "stderr",
     "output_type": "stream",
     "text": [
      "\n"
     ]
    },
    {
     "name": "stdout",
     "output_type": "stream",
     "text": [
      "Test set: Average loss: 2.5473, Accuracy: 2757/5000 (55.14%)\n",
      "\n",
      "--Testing Corruptions--\n"
     ]
    },
    {
     "name": "stderr",
     "output_type": "stream",
     "text": [
      "100%|██████████| 19/19 [07:29<00:00, 23.66s/it]\n"
     ]
    },
    {
     "name": "stdout",
     "output_type": "stream",
     "text": [
      "\n",
      "Avg Corruption Accuracy: 28.54%\n",
      "Global Sparsity: 24.83% \n",
      "\n",
      "---------- Pruning Iteration:  2 / 16\n"
     ]
    },
    {
     "name": "stderr",
     "output_type": "stream",
     "text": [
      "Loss=0.0166022852063179 Batch_id=195 Accuracy=99.73: 100%|██████████| 196/196 [01:13<00:00,  2.66it/s]  \n",
      "Loss=0.024865668267011642 Batch_id=195 Accuracy=99.79: 100%|██████████| 196/196 [01:13<00:00,  2.66it/s]\n",
      "Loss=0.022137774154543877 Batch_id=195 Accuracy=99.80: 100%|██████████| 196/196 [01:14<00:00,  2.65it/s]\n",
      "Loss=0.020543929189443588 Batch_id=195 Accuracy=99.86: 100%|██████████| 196/196 [01:14<00:00,  2.64it/s]\n"
     ]
    },
    {
     "name": "stdout",
     "output_type": "stream",
     "text": [
      "Epoch 00004: reducing learning rate of group 0 to 5.0000e-04.\n"
     ]
    },
    {
     "name": "stderr",
     "output_type": "stream",
     "text": [
      "Loss=0.012755717150866985 Batch_id=195 Accuracy=99.86: 100%|██████████| 196/196 [01:13<00:00,  2.66it/s]\n",
      "Loss=0.01135953888297081 Batch_id=195 Accuracy=99.87: 100%|██████████| 196/196 [01:33<00:00,  2.10it/s] \n",
      "Loss=0.015549339354038239 Batch_id=195 Accuracy=99.88: 100%|██████████| 196/196 [01:24<00:00,  2.31it/s]\n",
      "Loss=0.016043219715356827 Batch_id=195 Accuracy=99.88: 100%|██████████| 196/196 [01:17<00:00,  2.53it/s]\n",
      "Loss=0.019021082669496536 Batch_id=195 Accuracy=99.88: 100%|██████████| 196/196 [01:16<00:00,  2.55it/s]\n"
     ]
    },
    {
     "name": "stdout",
     "output_type": "stream",
     "text": [
      "Epoch 00009: reducing learning rate of group 0 to 2.5000e-05.\n"
     ]
    },
    {
     "name": "stderr",
     "output_type": "stream",
     "text": [
      "Loss=0.015092356130480766 Batch_id=195 Accuracy=99.88: 100%|██████████| 196/196 [01:17<00:00,  2.53it/s]\n"
     ]
    },
    {
     "name": "stdout",
     "output_type": "stream",
     "text": [
      "Test set: Average loss: 2.4305, Accuracy: 2758/5000 (55.16%)\n",
      "\n",
      "--Testing Corruptions--\n"
     ]
    },
    {
     "name": "stderr",
     "output_type": "stream",
     "text": [
      "100%|██████████| 19/19 [07:40<00:00, 24.25s/it]\n"
     ]
    },
    {
     "name": "stdout",
     "output_type": "stream",
     "text": [
      "\n",
      "Avg Corruption Accuracy: 28.63%\n",
      "Global Sparsity: 43.45% \n",
      "\n",
      "---------- Pruning Iteration:  3 / 16\n"
     ]
    },
    {
     "name": "stderr",
     "output_type": "stream",
     "text": [
      "Loss=0.0817374512553215 Batch_id=195 Accuracy=99.61: 100%|██████████| 196/196 [01:21<00:00,  2.40it/s]  \n",
      "Loss=0.047143809497356415 Batch_id=195 Accuracy=99.71: 100%|██████████| 196/196 [01:21<00:00,  2.41it/s]\n",
      "Loss=0.023190703243017197 Batch_id=195 Accuracy=99.75: 100%|██████████| 196/196 [01:21<00:00,  2.42it/s]\n",
      "Loss=0.03671343997120857 Batch_id=195 Accuracy=99.77: 100%|██████████| 196/196 [01:21<00:00,  2.41it/s] \n",
      "Loss=0.023428527638316154 Batch_id=195 Accuracy=99.78: 100%|██████████| 196/196 [01:21<00:00,  2.40it/s]\n",
      "Loss=0.03011254593729973 Batch_id=195 Accuracy=99.83: 100%|██████████| 196/196 [01:20<00:00,  2.42it/s] \n"
     ]
    },
    {
     "name": "stdout",
     "output_type": "stream",
     "text": [
      "Epoch 00006: reducing learning rate of group 0 to 5.0000e-04.\n"
     ]
    },
    {
     "name": "stderr",
     "output_type": "stream",
     "text": [
      "Loss=0.013952935114502907 Batch_id=195 Accuracy=99.84: 100%|██████████| 196/196 [01:21<00:00,  2.39it/s]\n",
      "Loss=0.02882339432835579 Batch_id=195 Accuracy=99.85: 100%|██████████| 196/196 [01:21<00:00,  2.39it/s] \n",
      "Loss=0.02801164984703064 Batch_id=195 Accuracy=99.87: 100%|██████████| 196/196 [01:21<00:00,  2.40it/s] \n",
      "Loss=0.020339680835604668 Batch_id=195 Accuracy=99.87: 100%|██████████| 196/196 [01:21<00:00,  2.40it/s]"
     ]
    },
    {
     "name": "stdout",
     "output_type": "stream",
     "text": [
      "Epoch 00010: reducing learning rate of group 0 to 2.5000e-05.\n"
     ]
    },
    {
     "name": "stderr",
     "output_type": "stream",
     "text": [
      "\n"
     ]
    },
    {
     "name": "stdout",
     "output_type": "stream",
     "text": [
      "Test set: Average loss: 2.3097, Accuracy: 2766/5000 (55.32%)\n",
      "\n",
      "--Testing Corruptions--\n"
     ]
    },
    {
     "name": "stderr",
     "output_type": "stream",
     "text": [
      "100%|██████████| 19/19 [07:44<00:00, 24.46s/it]\n"
     ]
    },
    {
     "name": "stdout",
     "output_type": "stream",
     "text": [
      "\n",
      "Avg Corruption Accuracy: 28.61%\n",
      "Global Sparsity: 57.41% \n",
      "\n",
      "---------- Pruning Iteration:  4 / 16\n"
     ]
    },
    {
     "name": "stderr",
     "output_type": "stream",
     "text": [
      "Loss=0.11573054641485214 Batch_id=195 Accuracy=99.09: 100%|██████████| 196/196 [01:13<00:00,  2.66it/s] \n",
      "Loss=0.053018055856227875 Batch_id=195 Accuracy=99.53: 100%|██████████| 196/196 [01:13<00:00,  2.66it/s]\n",
      "Loss=0.037876859307289124 Batch_id=195 Accuracy=99.64: 100%|██████████| 196/196 [01:13<00:00,  2.66it/s]\n",
      "Loss=0.04934356361627579 Batch_id=195 Accuracy=99.68: 100%|██████████| 196/196 [01:13<00:00,  2.67it/s] \n",
      "Loss=0.049873385578393936 Batch_id=195 Accuracy=99.72: 100%|██████████| 196/196 [01:13<00:00,  2.67it/s]\n",
      "Loss=0.03883824497461319 Batch_id=195 Accuracy=99.74: 100%|██████████| 196/196 [01:13<00:00,  2.66it/s] \n"
     ]
    },
    {
     "name": "stdout",
     "output_type": "stream",
     "text": [
      "Epoch 00006: reducing learning rate of group 0 to 5.0000e-04.\n"
     ]
    },
    {
     "name": "stderr",
     "output_type": "stream",
     "text": [
      "Loss=0.0328129418194294 Batch_id=195 Accuracy=99.80: 100%|██████████| 196/196 [01:13<00:00,  2.67it/s]  \n",
      "Loss=0.03577938675880432 Batch_id=195 Accuracy=99.83: 100%|██████████| 196/196 [01:13<00:00,  2.67it/s] \n",
      "Loss=0.030536577105522156 Batch_id=195 Accuracy=99.83: 100%|██████████| 196/196 [01:13<00:00,  2.65it/s]\n",
      "Loss=0.034447696059942245 Batch_id=195 Accuracy=99.81: 100%|██████████| 196/196 [01:13<00:00,  2.66it/s]\n"
     ]
    },
    {
     "name": "stdout",
     "output_type": "stream",
     "text": [
      "Test set: Average loss: 2.2169, Accuracy: 2769/5000 (55.38%)\n",
      "\n",
      "--Testing Corruptions--\n"
     ]
    },
    {
     "name": "stderr",
     "output_type": "stream",
     "text": [
      "100%|██████████| 19/19 [07:30<00:00, 23.72s/it]\n"
     ]
    },
    {
     "name": "stdout",
     "output_type": "stream",
     "text": [
      "\n",
      "Avg Corruption Accuracy: 28.33%\n",
      "Global Sparsity: 67.89% \n",
      "\n",
      "---------- Pruning Iteration:  5 / 16\n"
     ]
    },
    {
     "name": "stderr",
     "output_type": "stream",
     "text": [
      "Loss=0.10184560716152191 Batch_id=195 Accuracy=97.24: 100%|██████████| 196/196 [01:13<00:00,  2.66it/s]\n",
      "Loss=0.10345345735549927 Batch_id=195 Accuracy=99.04: 100%|██████████| 196/196 [01:13<00:00,  2.67it/s] \n",
      "Loss=0.080483578145504 Batch_id=195 Accuracy=99.35: 100%|██████████| 196/196 [01:13<00:00,  2.67it/s]   \n",
      "Loss=0.05040585249662399 Batch_id=195 Accuracy=99.46: 100%|██████████| 196/196 [01:12<00:00,  2.68it/s] \n",
      "Loss=0.04477804899215698 Batch_id=195 Accuracy=99.58: 100%|██████████| 196/196 [01:15<00:00,  2.60it/s] \n",
      "Loss=0.0489484965801239 Batch_id=195 Accuracy=99.62: 100%|██████████| 196/196 [01:13<00:00,  2.65it/s]  \n",
      "Loss=0.05894943326711655 Batch_id=195 Accuracy=99.66: 100%|██████████| 196/196 [01:13<00:00,  2.66it/s] \n",
      "Loss=0.061655186116695404 Batch_id=195 Accuracy=99.64: 100%|██████████| 196/196 [01:13<00:00,  2.67it/s]\n"
     ]
    },
    {
     "name": "stdout",
     "output_type": "stream",
     "text": [
      "Epoch 00008: reducing learning rate of group 0 to 5.0000e-04.\n"
     ]
    },
    {
     "name": "stderr",
     "output_type": "stream",
     "text": [
      "Loss=0.07748253643512726 Batch_id=195 Accuracy=99.73: 100%|██████████| 196/196 [01:13<00:00,  2.66it/s] \n",
      "Loss=0.05164896324276924 Batch_id=195 Accuracy=99.80: 100%|██████████| 196/196 [01:13<00:00,  2.66it/s] \n"
     ]
    },
    {
     "name": "stdout",
     "output_type": "stream",
     "text": [
      "Test set: Average loss: 2.1729, Accuracy: 2741/5000 (54.82%)\n",
      "\n",
      "--Skipping Acc Comp For Corrupted Data--\n",
      "Global Sparsity: 75.74% \n",
      "\n",
      "---------- Pruning Iteration:  6 / 16\n"
     ]
    },
    {
     "name": "stderr",
     "output_type": "stream",
     "text": [
      "Loss=0.2422345131635666 Batch_id=195 Accuracy=92.34: 100%|██████████| 196/196 [01:13<00:00,  2.65it/s] \n",
      "Loss=0.16023071110248566 Batch_id=195 Accuracy=97.89: 100%|██████████| 196/196 [01:13<00:00,  2.66it/s]\n",
      "Loss=0.08012373745441437 Batch_id=195 Accuracy=98.71: 100%|██████████| 196/196 [01:13<00:00,  2.66it/s]\n",
      "Loss=0.08105289936065674 Batch_id=195 Accuracy=98.98: 100%|██████████| 196/196 [01:13<00:00,  2.67it/s]\n",
      "Loss=0.0949285626411438 Batch_id=195 Accuracy=99.15: 100%|██████████| 196/196 [01:17<00:00,  2.54it/s]  \n",
      "Loss=0.07044669985771179 Batch_id=195 Accuracy=99.30: 100%|██████████| 196/196 [01:13<00:00,  2.68it/s] \n",
      "Loss=0.09399787336587906 Batch_id=195 Accuracy=99.34: 100%|██████████| 196/196 [01:15<00:00,  2.61it/s] \n",
      "Loss=0.06632944941520691 Batch_id=195 Accuracy=99.42: 100%|██████████| 196/196 [01:16<00:00,  2.55it/s] \n",
      "Loss=0.06822026520967484 Batch_id=195 Accuracy=99.49: 100%|██████████| 196/196 [01:16<00:00,  2.56it/s] \n",
      "Loss=0.10015449672937393 Batch_id=195 Accuracy=99.50: 100%|██████████| 196/196 [01:13<00:00,  2.68it/s] \n"
     ]
    },
    {
     "name": "stdout",
     "output_type": "stream",
     "text": [
      "Test set: Average loss: 2.1799, Accuracy: 2738/5000 (54.76%)\n",
      "\n",
      "--Testing Corruptions--\n"
     ]
    },
    {
     "name": "stderr",
     "output_type": "stream",
     "text": [
      "100%|██████████| 19/19 [07:36<00:00, 24.03s/it]\n"
     ]
    },
    {
     "name": "stdout",
     "output_type": "stream",
     "text": [
      "\n",
      "Avg Corruption Accuracy: 27.35%\n",
      "Global Sparsity: 81.63% \n",
      "\n",
      "---------- Pruning Iteration:  7 / 16\n"
     ]
    },
    {
     "name": "stderr",
     "output_type": "stream",
     "text": [
      "Loss=0.343395859003067 Batch_id=195 Accuracy=89.35: 100%|██████████| 196/196 [01:13<00:00,  2.66it/s]  \n",
      "Loss=0.17349544167518616 Batch_id=195 Accuracy=96.44: 100%|██████████| 196/196 [01:13<00:00,  2.68it/s]\n",
      "Loss=0.13096271455287933 Batch_id=195 Accuracy=97.67: 100%|██████████| 196/196 [01:16<00:00,  2.55it/s]\n",
      "Loss=0.16584542393684387 Batch_id=195 Accuracy=98.25: 100%|██████████| 196/196 [01:17<00:00,  2.53it/s]\n",
      "Loss=0.09756506979465485 Batch_id=195 Accuracy=98.51: 100%|██████████| 196/196 [01:13<00:00,  2.67it/s]\n",
      "Loss=0.15298053622245789 Batch_id=195 Accuracy=98.71: 100%|██████████| 196/196 [01:13<00:00,  2.66it/s]\n",
      "Loss=0.11282894760370255 Batch_id=195 Accuracy=98.86: 100%|██████████| 196/196 [01:13<00:00,  2.65it/s]\n",
      "Loss=0.09671898931264877 Batch_id=195 Accuracy=98.98: 100%|██████████| 196/196 [01:13<00:00,  2.66it/s]\n",
      "Loss=0.10641459375619888 Batch_id=195 Accuracy=99.08: 100%|██████████| 196/196 [01:17<00:00,  2.54it/s]\n",
      "Loss=0.09543026238679886 Batch_id=195 Accuracy=99.16: 100%|██████████| 196/196 [01:14<00:00,  2.64it/s]\n"
     ]
    },
    {
     "name": "stdout",
     "output_type": "stream",
     "text": [
      "Test set: Average loss: 2.2203, Accuracy: 2693/5000 (53.86%)\n",
      "\n",
      "--Skipping Acc Comp For Corrupted Data--\n",
      "Global Sparsity: 86.05% \n",
      "\n",
      "---------- Pruning Iteration:  8 / 16\n"
     ]
    },
    {
     "name": "stderr",
     "output_type": "stream",
     "text": [
      "Loss=0.347232460975647 Batch_id=195 Accuracy=89.26: 100%|██████████| 196/196 [01:14<00:00,  2.64it/s]  \n",
      "Loss=0.23583444952964783 Batch_id=195 Accuracy=94.94: 100%|██████████| 196/196 [01:13<00:00,  2.66it/s]\n",
      "Loss=0.29659873247146606 Batch_id=195 Accuracy=96.26: 100%|██████████| 196/196 [01:13<00:00,  2.66it/s]\n",
      "Loss=0.15574513375759125 Batch_id=195 Accuracy=96.81: 100%|██████████| 196/196 [01:14<00:00,  2.65it/s]\n",
      "Loss=0.168985515832901 Batch_id=195 Accuracy=97.38: 100%|██████████| 196/196 [01:13<00:00,  2.66it/s]  \n",
      "Loss=0.10289070755243301 Batch_id=195 Accuracy=97.66: 100%|██████████| 196/196 [01:15<00:00,  2.60it/s]\n",
      "Loss=0.12989351153373718 Batch_id=195 Accuracy=97.88: 100%|██████████| 196/196 [01:13<00:00,  2.66it/s]\n",
      "Loss=0.15021786093711853 Batch_id=195 Accuracy=98.09: 100%|██████████| 196/196 [01:13<00:00,  2.65it/s]\n",
      "Loss=0.1371021419763565 Batch_id=195 Accuracy=98.17: 100%|██████████| 196/196 [01:13<00:00,  2.68it/s] \n"
     ]
    },
    {
     "name": "stdout",
     "output_type": "stream",
     "text": [
      "Epoch 00009: reducing learning rate of group 0 to 5.0000e-04.\n"
     ]
    },
    {
     "name": "stderr",
     "output_type": "stream",
     "text": [
      "Loss=0.09057171642780304 Batch_id=195 Accuracy=98.90: 100%|██████████| 196/196 [01:17<00:00,  2.54it/s] \n"
     ]
    },
    {
     "name": "stdout",
     "output_type": "stream",
     "text": [
      "Test set: Average loss: 2.2432, Accuracy: 2707/5000 (54.14%)\n",
      "\n",
      "--Testing Corruptions--\n"
     ]
    },
    {
     "name": "stderr",
     "output_type": "stream",
     "text": [
      "100%|██████████| 19/19 [07:35<00:00, 23.98s/it]\n"
     ]
    },
    {
     "name": "stdout",
     "output_type": "stream",
     "text": [
      "\n",
      "Avg Corruption Accuracy: 26.95%\n",
      "Global Sparsity: 89.37% \n",
      "\n",
      "---------- Pruning Iteration:  9 / 16\n"
     ]
    },
    {
     "name": "stderr",
     "output_type": "stream",
     "text": [
      "Loss=0.5301268100738525 Batch_id=195 Accuracy=87.94: 100%|██████████| 196/196 [01:13<00:00,  2.66it/s] \n",
      "Loss=0.40161094069480896 Batch_id=195 Accuracy=92.27: 100%|██████████| 196/196 [01:13<00:00,  2.66it/s]\n",
      "Loss=0.3568679094314575 Batch_id=195 Accuracy=93.59: 100%|██████████| 196/196 [01:13<00:00,  2.65it/s] \n",
      "Loss=0.2614388167858124 Batch_id=195 Accuracy=94.49: 100%|██████████| 196/196 [01:13<00:00,  2.65it/s] \n",
      "Loss=0.28472959995269775 Batch_id=195 Accuracy=95.14: 100%|██████████| 196/196 [01:13<00:00,  2.65it/s]\n",
      "Loss=0.2630493938922882 Batch_id=195 Accuracy=95.67: 100%|██████████| 196/196 [01:13<00:00,  2.65it/s] \n",
      "Loss=0.23761585354804993 Batch_id=195 Accuracy=95.81: 100%|██████████| 196/196 [01:13<00:00,  2.66it/s]\n",
      "Loss=0.18159335851669312 Batch_id=195 Accuracy=96.01: 100%|██████████| 196/196 [01:13<00:00,  2.65it/s]\n",
      "Loss=0.2152239829301834 Batch_id=195 Accuracy=96.29: 100%|██████████| 196/196 [01:16<00:00,  2.56it/s] \n",
      "Loss=0.2244541198015213 Batch_id=195 Accuracy=96.55: 100%|██████████| 196/196 [01:13<00:00,  2.65it/s] \n"
     ]
    },
    {
     "name": "stdout",
     "output_type": "stream",
     "text": [
      "Test set: Average loss: 2.4032, Accuracy: 2571/5000 (51.42%)\n",
      "\n",
      "--Skipping Acc Comp For Corrupted Data--\n",
      "Global Sparsity: 91.85% \n",
      "\n",
      "---------- Pruning Iteration:  10 / 16\n"
     ]
    },
    {
     "name": "stderr",
     "output_type": "stream",
     "text": [
      "Loss=0.4703523516654968 Batch_id=195 Accuracy=84.92: 100%|██████████| 196/196 [01:13<00:00,  2.65it/s] \n",
      "Loss=0.4283211827278137 Batch_id=195 Accuracy=88.73: 100%|██████████| 196/196 [01:13<00:00,  2.65it/s] \n",
      "Loss=0.40160512924194336 Batch_id=195 Accuracy=90.30: 100%|██████████| 196/196 [01:13<00:00,  2.66it/s]\n",
      "Loss=0.41629117727279663 Batch_id=195 Accuracy=91.37: 100%|██████████| 196/196 [01:13<00:00,  2.66it/s]\n",
      "Loss=0.3039971888065338 Batch_id=195 Accuracy=91.64: 100%|██████████| 196/196 [01:13<00:00,  2.66it/s] \n",
      "Loss=0.3818276822566986 Batch_id=195 Accuracy=92.44: 100%|██████████| 196/196 [01:13<00:00,  2.66it/s] \n",
      "Loss=0.38680607080459595 Batch_id=195 Accuracy=92.86: 100%|██████████| 196/196 [01:13<00:00,  2.67it/s]\n",
      "Loss=0.3110349774360657 Batch_id=195 Accuracy=92.88: 100%|██████████| 196/196 [01:13<00:00,  2.66it/s] \n"
     ]
    },
    {
     "name": "stdout",
     "output_type": "stream",
     "text": [
      "Epoch 00008: reducing learning rate of group 0 to 5.0000e-04.\n"
     ]
    },
    {
     "name": "stderr",
     "output_type": "stream",
     "text": [
      "Loss=0.1548159271478653 Batch_id=195 Accuracy=95.69: 100%|██████████| 196/196 [01:13<00:00,  2.67it/s] \n",
      "Loss=0.2167699635028839 Batch_id=195 Accuracy=96.69: 100%|██████████| 196/196 [01:13<00:00,  2.67it/s] \n"
     ]
    },
    {
     "name": "stdout",
     "output_type": "stream",
     "text": [
      "Test set: Average loss: 2.2745, Accuracy: 2680/5000 (53.60%)\n",
      "\n",
      "--Testing Corruptions--\n"
     ]
    },
    {
     "name": "stderr",
     "output_type": "stream",
     "text": [
      "100%|██████████| 19/19 [07:35<00:00, 23.96s/it]\n"
     ]
    },
    {
     "name": "stdout",
     "output_type": "stream",
     "text": [
      "\n",
      "Avg Corruption Accuracy: 25.67%\n",
      "Global Sparsity: 93.72% \n",
      "\n",
      "---------- Pruning Iteration:  11 / 16\n"
     ]
    },
    {
     "name": "stderr",
     "output_type": "stream",
     "text": [
      "Loss=0.5365785360336304 Batch_id=195 Accuracy=80.63: 100%|██████████| 196/196 [01:13<00:00,  2.65it/s]\n",
      "Loss=0.6060577630996704 Batch_id=195 Accuracy=83.81: 100%|██████████| 196/196 [01:13<00:00,  2.66it/s]\n",
      "Loss=0.5015369057655334 Batch_id=195 Accuracy=85.38: 100%|██████████| 196/196 [01:13<00:00,  2.65it/s] \n",
      "Loss=0.5303038358688354 Batch_id=195 Accuracy=86.59: 100%|██████████| 196/196 [01:13<00:00,  2.66it/s] \n",
      "Loss=0.6109647154808044 Batch_id=195 Accuracy=87.25: 100%|██████████| 196/196 [01:13<00:00,  2.65it/s] \n",
      "Loss=0.3769824504852295 Batch_id=195 Accuracy=87.70: 100%|██████████| 196/196 [01:13<00:00,  2.67it/s] \n",
      "Loss=0.5200031995773315 Batch_id=195 Accuracy=88.07: 100%|██████████| 196/196 [01:14<00:00,  2.64it/s] \n",
      "Loss=0.5087535381317139 Batch_id=195 Accuracy=88.78: 100%|██████████| 196/196 [01:13<00:00,  2.67it/s] \n",
      "Loss=0.5244218111038208 Batch_id=195 Accuracy=88.91: 100%|██████████| 196/196 [01:13<00:00,  2.67it/s] \n"
     ]
    },
    {
     "name": "stdout",
     "output_type": "stream",
     "text": [
      "Epoch 00009: reducing learning rate of group 0 to 5.0000e-04.\n"
     ]
    },
    {
     "name": "stderr",
     "output_type": "stream",
     "text": [
      "Loss=0.2391325682401657 Batch_id=195 Accuracy=92.78: 100%|██████████| 196/196 [01:13<00:00,  2.65it/s] \n"
     ]
    },
    {
     "name": "stdout",
     "output_type": "stream",
     "text": [
      "Test set: Average loss: 2.3084, Accuracy: 2593/5000 (51.86%)\n",
      "\n",
      "--Skipping Acc Comp For Corrupted Data--\n",
      "Global Sparsity: 95.11% \n",
      "\n",
      "---------- Pruning Iteration:  12 / 16\n"
     ]
    },
    {
     "name": "stderr",
     "output_type": "stream",
     "text": [
      "Loss=0.7144843339920044 Batch_id=195 Accuracy=76.09: 100%|██████████| 196/196 [01:13<00:00,  2.65it/s]\n",
      "Loss=0.7876442670822144 Batch_id=195 Accuracy=78.80: 100%|██████████| 196/196 [01:13<00:00,  2.66it/s]\n",
      "Loss=0.7787141799926758 Batch_id=195 Accuracy=80.62: 100%|██████████| 196/196 [01:13<00:00,  2.65it/s]\n",
      "Loss=0.753433108329773 Batch_id=195 Accuracy=81.06: 100%|██████████| 196/196 [01:13<00:00,  2.65it/s] \n"
     ]
    },
    {
     "name": "stdout",
     "output_type": "stream",
     "text": [
      "Epoch 00004: reducing learning rate of group 0 to 5.0000e-04.\n"
     ]
    },
    {
     "name": "stderr",
     "output_type": "stream",
     "text": [
      "Loss=0.5040808916091919 Batch_id=195 Accuracy=86.97: 100%|██████████| 196/196 [01:13<00:00,  2.65it/s] \n",
      "Loss=0.44581013917922974 Batch_id=195 Accuracy=88.38: 100%|██████████| 196/196 [01:13<00:00,  2.66it/s]\n",
      "Loss=0.4826277196407318 Batch_id=195 Accuracy=88.92: 100%|██████████| 196/196 [01:13<00:00,  2.67it/s] \n",
      "Loss=0.3240157663822174 Batch_id=195 Accuracy=89.27: 100%|██████████| 196/196 [01:13<00:00,  2.67it/s] \n",
      "Loss=0.34691065549850464 Batch_id=195 Accuracy=89.73: 100%|██████████| 196/196 [01:13<00:00,  2.65it/s]\n",
      "Loss=0.36698320508003235 Batch_id=195 Accuracy=89.95: 100%|██████████| 196/196 [01:13<00:00,  2.66it/s]\n"
     ]
    },
    {
     "name": "stdout",
     "output_type": "stream",
     "text": [
      "Test set: Average loss: 2.3073, Accuracy: 2561/5000 (51.22%)\n",
      "\n",
      "--Skipping Acc Comp For Corrupted Data--\n",
      "Global Sparsity: 96.16% \n",
      "\n",
      "---------- Pruning Iteration:  13 / 16\n"
     ]
    },
    {
     "name": "stderr",
     "output_type": "stream",
     "text": [
      "Loss=1.205662488937378 Batch_id=195 Accuracy=67.61: 100%|██████████| 196/196 [01:13<00:00,  2.65it/s] \n",
      "Loss=1.0138695240020752 Batch_id=195 Accuracy=70.77: 100%|██████████| 196/196 [01:13<00:00,  2.66it/s]\n",
      "Loss=1.1847065687179565 Batch_id=195 Accuracy=72.35: 100%|██████████| 196/196 [01:14<00:00,  2.64it/s]\n",
      "Loss=1.11501145362854 Batch_id=195 Accuracy=73.42: 100%|██████████| 196/196 [01:14<00:00,  2.62it/s]  \n",
      "Loss=0.7934227585792542 Batch_id=195 Accuracy=74.04: 100%|██████████| 196/196 [01:14<00:00,  2.65it/s]\n",
      "Loss=1.1237252950668335 Batch_id=195 Accuracy=74.86: 100%|██████████| 196/196 [01:13<00:00,  2.67it/s]\n",
      "Loss=1.0426928997039795 Batch_id=195 Accuracy=75.33: 100%|██████████| 196/196 [01:13<00:00,  2.65it/s]\n",
      "Loss=0.843150794506073 Batch_id=195 Accuracy=76.03: 100%|██████████| 196/196 [01:13<00:00,  2.65it/s] \n"
     ]
    },
    {
     "name": "stdout",
     "output_type": "stream",
     "text": [
      "Epoch 00008: reducing learning rate of group 0 to 5.0000e-04.\n"
     ]
    },
    {
     "name": "stderr",
     "output_type": "stream",
     "text": [
      "Loss=0.8326045274734497 Batch_id=195 Accuracy=81.22: 100%|██████████| 196/196 [01:13<00:00,  2.66it/s]\n",
      "Loss=0.5757929086685181 Batch_id=195 Accuracy=82.65: 100%|██████████| 196/196 [01:14<00:00,  2.65it/s]\n"
     ]
    },
    {
     "name": "stdout",
     "output_type": "stream",
     "text": [
      "Test set: Average loss: 2.3110, Accuracy: 2520/5000 (50.40%)\n",
      "\n",
      "--Skipping Acc Comp For Corrupted Data--\n",
      "Global Sparsity: 96.95% \n",
      "\n",
      "---------- Pruning Iteration:  14 / 16\n"
     ]
    },
    {
     "name": "stderr",
     "output_type": "stream",
     "text": [
      "Loss=1.1545627117156982 Batch_id=195 Accuracy=64.28: 100%|██████████| 196/196 [01:13<00:00,  2.65it/s]\n",
      "Loss=1.37784743309021 Batch_id=195 Accuracy=66.80: 100%|██████████| 196/196 [01:17<00:00,  2.51it/s]  \n",
      "Loss=1.3092353343963623 Batch_id=195 Accuracy=68.26: 100%|██████████| 196/196 [01:14<00:00,  2.64it/s]\n",
      "Loss=1.2884441614151 Batch_id=195 Accuracy=68.81: 100%|██████████| 196/196 [01:13<00:00,  2.65it/s]   \n"
     ]
    },
    {
     "name": "stdout",
     "output_type": "stream",
     "text": [
      "Epoch 00004: reducing learning rate of group 0 to 5.0000e-04.\n"
     ]
    },
    {
     "name": "stderr",
     "output_type": "stream",
     "text": [
      "Loss=1.0354070663452148 Batch_id=195 Accuracy=73.90: 100%|██████████| 196/196 [01:13<00:00,  2.66it/s]\n",
      "Loss=1.094451665878296 Batch_id=195 Accuracy=75.41: 100%|██████████| 196/196 [01:13<00:00,  2.66it/s] \n",
      "Loss=0.7947781682014465 Batch_id=195 Accuracy=75.80: 100%|██████████| 196/196 [01:13<00:00,  2.65it/s]\n",
      "Loss=0.9058340191841125 Batch_id=195 Accuracy=76.27: 100%|██████████| 196/196 [01:13<00:00,  2.65it/s]\n",
      "Loss=1.060593843460083 Batch_id=195 Accuracy=76.64: 100%|██████████| 196/196 [01:13<00:00,  2.66it/s] \n",
      "Loss=0.8953098058700562 Batch_id=195 Accuracy=76.89: 100%|██████████| 196/196 [01:13<00:00,  2.66it/s]"
     ]
    },
    {
     "name": "stdout",
     "output_type": "stream",
     "text": [
      "Epoch 00010: reducing learning rate of group 0 to 2.5000e-05.\n"
     ]
    },
    {
     "name": "stderr",
     "output_type": "stream",
     "text": [
      "\n"
     ]
    },
    {
     "name": "stdout",
     "output_type": "stream",
     "text": [
      "Test set: Average loss: 2.2626, Accuracy: 2505/5000 (50.10%)\n",
      "\n",
      "--Skipping Acc Comp For Corrupted Data--\n",
      "Global Sparsity: 97.54% \n",
      "\n",
      "---------- Pruning Iteration:  15 / 16\n"
     ]
    },
    {
     "name": "stderr",
     "output_type": "stream",
     "text": [
      "Loss=1.5540826320648193 Batch_id=195 Accuracy=57.28: 100%|██████████| 196/196 [01:13<00:00,  2.65it/s]\n",
      "Loss=1.4961094856262207 Batch_id=195 Accuracy=60.17: 100%|██████████| 196/196 [01:13<00:00,  2.66it/s]\n",
      "Loss=1.3519432544708252 Batch_id=195 Accuracy=61.67: 100%|██████████| 196/196 [01:13<00:00,  2.66it/s]\n",
      "Loss=1.2863826751708984 Batch_id=195 Accuracy=62.50: 100%|██████████| 196/196 [01:14<00:00,  2.65it/s]\n",
      "Loss=1.1521629095077515 Batch_id=195 Accuracy=63.26: 100%|██████████| 196/196 [01:13<00:00,  2.67it/s]\n",
      "Loss=1.4960161447525024 Batch_id=195 Accuracy=63.82: 100%|██████████| 196/196 [01:13<00:00,  2.66it/s]\n",
      "Loss=1.188474416732788 Batch_id=195 Accuracy=64.25: 100%|██████████| 196/196 [01:14<00:00,  2.65it/s] \n",
      "Loss=1.261884093284607 Batch_id=195 Accuracy=64.40: 100%|██████████| 196/196 [01:13<00:00,  2.66it/s] \n"
     ]
    },
    {
     "name": "stdout",
     "output_type": "stream",
     "text": [
      "Epoch 00008: reducing learning rate of group 0 to 5.0000e-04.\n"
     ]
    },
    {
     "name": "stderr",
     "output_type": "stream",
     "text": [
      "Loss=1.1642650365829468 Batch_id=195 Accuracy=68.90: 100%|██████████| 196/196 [01:13<00:00,  2.66it/s]\n",
      "Loss=1.1012197732925415 Batch_id=195 Accuracy=70.24: 100%|██████████| 196/196 [01:13<00:00,  2.65it/s]\n"
     ]
    },
    {
     "name": "stdout",
     "output_type": "stream",
     "text": [
      "Test set: Average loss: 2.2052, Accuracy: 2472/5000 (49.44%)\n",
      "\n",
      "--Skipping Acc Comp For Corrupted Data--\n",
      "Global Sparsity: 97.98% \n",
      "\n",
      "---------- Pruning Iteration:  16 / 16\n"
     ]
    },
    {
     "name": "stderr",
     "output_type": "stream",
     "text": [
      "Loss=1.7145092487335205 Batch_id=195 Accuracy=54.81: 100%|██████████| 196/196 [01:13<00:00,  2.66it/s]\n",
      "Loss=1.7724637985229492 Batch_id=195 Accuracy=56.93: 100%|██████████| 196/196 [01:14<00:00,  2.65it/s]\n",
      "Loss=1.9148626327514648 Batch_id=195 Accuracy=57.94: 100%|██████████| 196/196 [01:14<00:00,  2.63it/s]\n",
      "Loss=1.6088804006576538 Batch_id=195 Accuracy=59.11: 100%|██████████| 196/196 [01:13<00:00,  2.66it/s]\n",
      "Loss=1.4286906719207764 Batch_id=195 Accuracy=59.43: 100%|██████████| 196/196 [01:13<00:00,  2.65it/s]\n",
      "Loss=1.5342166423797607 Batch_id=195 Accuracy=60.15: 100%|██████████| 196/196 [01:13<00:00,  2.65it/s]\n",
      "Loss=1.5692529678344727 Batch_id=195 Accuracy=60.52: 100%|██████████| 196/196 [01:13<00:00,  2.65it/s]\n",
      "Loss=1.6986520290374756 Batch_id=195 Accuracy=60.93: 100%|██████████| 196/196 [01:13<00:00,  2.66it/s]\n"
     ]
    },
    {
     "name": "stdout",
     "output_type": "stream",
     "text": [
      "Epoch 00008: reducing learning rate of group 0 to 5.0000e-04.\n"
     ]
    },
    {
     "name": "stderr",
     "output_type": "stream",
     "text": [
      "Loss=1.4628822803497314 Batch_id=195 Accuracy=64.29: 100%|██████████| 196/196 [01:14<00:00,  2.65it/s]\n",
      "Loss=1.3805153369903564 Batch_id=195 Accuracy=65.23: 100%|██████████| 196/196 [01:13<00:00,  2.65it/s]\n"
     ]
    },
    {
     "name": "stdout",
     "output_type": "stream",
     "text": [
      "Test set: Average loss: 2.1975, Accuracy: 2457/5000 (49.14%)\n",
      "\n",
      "--Testing Corruptions--\n"
     ]
    },
    {
     "name": "stderr",
     "output_type": "stream",
     "text": [
      "100%|██████████| 19/19 [07:41<00:00, 24.30s/it]"
     ]
    },
    {
     "name": "stdout",
     "output_type": "stream",
     "text": [
      "\n",
      "Avg Corruption Accuracy: 22.67%\n",
      "Global Sparsity: 98.31% \n",
      "\n"
     ]
    },
    {
     "name": "stderr",
     "output_type": "stream",
     "text": [
      "\n"
     ]
    }
   ],
   "source": [
    "#VGG16\n",
    "model=copy.deepcopy(VGG16_TINYIMAGENET_0P)\n",
    "TrainLoader=trainloader_TINYIMAGENET\n",
    "TestLoader=testloader_TINYIMAGENET\n",
    "TestCLoader=TiniyImageNetCLevel_Loader\n",
    "PruningRate=0.25\n",
    "NumEpochsEachPruneRetrain=10\n",
    "MaximumPruneLevel=0.01\n",
    "\n",
    "SaveTrainStepsName=\"Progress/PruningIterations_VGG16_IMAGENET_025PR_10Epochs_L2_0005\"\n",
    "\n",
    "ReadMe=\"This model is running pruning with the standard cost function, and the non corrupted dataset, a prunning rate of 0.25 and 10 epoch of retraining\\\n",
    "L2 Regularization of 0.0005 is used\\n\\nOriginal Model: VGG16 Trained with TINY-IMAGENET Dataset\"\n",
    "\n",
    "test_acc, Avg_Corrup_Acc_List, Acc_Corruptions, RemainingWeights_List, Sparcity_List=iterative_pruning(model,device, TrainLoader, TestLoader, TestCLoader, PruningRate, SaveTrainStepsName,ReadMe,\n",
    "                                                                                                        lambda_l1, lambda_l2, NumEpochsEachPruneRetrain,MaximumPruneLevel)"
   ]
  },
  {
   "cell_type": "code",
   "execution_count": 17,
   "metadata": {},
   "outputs": [
    {
     "name": "stdout",
     "output_type": "stream",
     "text": [
      "--Get statistics before pruning--\n",
      "Train set: Average loss: 0.0138, Accuracy: 99794/100000 (99.79%)\n",
      "Test set: Average loss: 2.7202, Accuracy: 2738/5000 (54.76%)\n",
      "\n",
      "--Testing Corruptions--\n"
     ]
    },
    {
     "name": "stderr",
     "output_type": "stream",
     "text": [
      "100%|██████████| 19/19 [07:47<00:00, 24.59s/it]\n"
     ]
    },
    {
     "name": "stdout",
     "output_type": "stream",
     "text": [
      "\n",
      "Avg Corruption Accuracy: 28.70%\n",
      "---------- Pruning Iteration:  1 / 44\n"
     ]
    },
    {
     "name": "stderr",
     "output_type": "stream",
     "text": [
      "Loss=0.01878349483013153 Batch_id=195 Accuracy=99.69: 100%|██████████| 196/196 [01:15<00:00,  2.59it/s] \n",
      "Loss=0.013316718861460686 Batch_id=195 Accuracy=99.73: 100%|██████████| 196/196 [01:15<00:00,  2.61it/s]\n",
      "Loss=0.01344953291118145 Batch_id=195 Accuracy=99.76: 100%|██████████| 196/196 [01:15<00:00,  2.61it/s] \n",
      "Loss=0.011005342938005924 Batch_id=195 Accuracy=99.79: 100%|██████████| 196/196 [01:14<00:00,  2.64it/s]\n",
      "Loss=0.006337241735309362 Batch_id=195 Accuracy=99.82: 100%|██████████| 196/196 [01:14<00:00,  2.63it/s]\n",
      "Loss=0.009448068216443062 Batch_id=195 Accuracy=99.82: 100%|██████████| 196/196 [01:14<00:00,  2.63it/s]\n",
      "Loss=0.01864456757903099 Batch_id=195 Accuracy=99.85: 100%|██████████| 196/196 [01:14<00:00,  2.63it/s] \n",
      "Loss=0.016627227887511253 Batch_id=195 Accuracy=99.85: 100%|██████████| 196/196 [01:14<00:00,  2.63it/s]\n"
     ]
    },
    {
     "name": "stdout",
     "output_type": "stream",
     "text": [
      "Epoch 00008: reducing learning rate of group 0 to 5.0000e-04.\n"
     ]
    },
    {
     "name": "stderr",
     "output_type": "stream",
     "text": [
      "Loss=0.02934207394719124 Batch_id=195 Accuracy=99.88: 100%|██████████| 196/196 [01:14<00:00,  2.62it/s] \n",
      "Loss=0.00790705531835556 Batch_id=195 Accuracy=99.88: 100%|██████████| 196/196 [01:14<00:00,  2.62it/s]  \n"
     ]
    },
    {
     "name": "stdout",
     "output_type": "stream",
     "text": [
      "Test set: Average loss: 2.4684, Accuracy: 2793/5000 (55.86%)\n",
      "\n",
      "--Testing Corruptions--\n"
     ]
    },
    {
     "name": "stderr",
     "output_type": "stream",
     "text": [
      "100%|██████████| 19/19 [07:53<00:00, 24.92s/it]\n"
     ]
    },
    {
     "name": "stdout",
     "output_type": "stream",
     "text": [
      "\n",
      "Avg Corruption Accuracy: 28.67%\n",
      "Global Sparsity: 9.93% \n",
      "\n",
      "---------- Pruning Iteration:  2 / 44\n"
     ]
    },
    {
     "name": "stderr",
     "output_type": "stream",
     "text": [
      "Loss=0.026485595852136612 Batch_id=195 Accuracy=99.86: 100%|██████████| 196/196 [01:15<00:00,  2.58it/s]\n",
      "Loss=0.021539805456995964 Batch_id=195 Accuracy=99.88: 100%|██████████| 196/196 [01:16<00:00,  2.58it/s]\n",
      "Loss=0.02538366988301277 Batch_id=195 Accuracy=99.89: 100%|██████████| 196/196 [01:14<00:00,  2.61it/s] \n",
      "Loss=0.014994656667113304 Batch_id=195 Accuracy=99.89: 100%|██████████| 196/196 [01:15<00:00,  2.61it/s]\n",
      "Loss=0.020309817045927048 Batch_id=195 Accuracy=99.88: 100%|██████████| 196/196 [01:15<00:00,  2.61it/s]\n",
      "Loss=0.012256852351129055 Batch_id=195 Accuracy=99.90: 100%|██████████| 196/196 [01:15<00:00,  2.61it/s]\n",
      "Loss=0.0203542560338974 Batch_id=195 Accuracy=99.92: 100%|██████████| 196/196 [01:14<00:00,  2.62it/s]  \n",
      "Loss=0.02160332351922989 Batch_id=195 Accuracy=99.89: 100%|██████████| 196/196 [01:14<00:00,  2.62it/s] \n",
      "Loss=0.01695523038506508 Batch_id=195 Accuracy=99.91: 100%|██████████| 196/196 [01:14<00:00,  2.63it/s] \n"
     ]
    },
    {
     "name": "stdout",
     "output_type": "stream",
     "text": [
      "Epoch 00009: reducing learning rate of group 0 to 5.0000e-04.\n"
     ]
    },
    {
     "name": "stderr",
     "output_type": "stream",
     "text": [
      "Loss=0.020575303584337234 Batch_id=195 Accuracy=99.91: 100%|██████████| 196/196 [01:14<00:00,  2.62it/s]\n"
     ]
    },
    {
     "name": "stdout",
     "output_type": "stream",
     "text": [
      "Test set: Average loss: 2.2648, Accuracy: 2807/5000 (56.14%)\n",
      "\n",
      "--Testing Corruptions--\n"
     ]
    },
    {
     "name": "stderr",
     "output_type": "stream",
     "text": [
      "100%|██████████| 19/19 [07:58<00:00, 25.19s/it]\n"
     ]
    },
    {
     "name": "stdout",
     "output_type": "stream",
     "text": [
      "\n",
      "Avg Corruption Accuracy: 28.64%\n",
      "Global Sparsity: 18.87% \n",
      "\n",
      "---------- Pruning Iteration:  3 / 44\n"
     ]
    },
    {
     "name": "stderr",
     "output_type": "stream",
     "text": [
      "Loss=0.017190270125865936 Batch_id=195 Accuracy=99.91: 100%|██████████| 196/196 [01:15<00:00,  2.59it/s]\n",
      "Loss=0.015055010095238686 Batch_id=195 Accuracy=99.91: 100%|██████████| 196/196 [01:15<00:00,  2.60it/s]\n",
      "Loss=0.023705411702394485 Batch_id=195 Accuracy=99.90: 100%|██████████| 196/196 [01:15<00:00,  2.59it/s]\n",
      "Loss=0.017189014703035355 Batch_id=195 Accuracy=99.92: 100%|██████████| 196/196 [01:15<00:00,  2.60it/s]\n",
      "Loss=0.015270637348294258 Batch_id=195 Accuracy=99.93: 100%|██████████| 196/196 [01:14<00:00,  2.62it/s]\n"
     ]
    },
    {
     "name": "stdout",
     "output_type": "stream",
     "text": [
      "Epoch 00005: reducing learning rate of group 0 to 5.0000e-04.\n"
     ]
    },
    {
     "name": "stderr",
     "output_type": "stream",
     "text": [
      "Loss=0.02045970782637596 Batch_id=195 Accuracy=99.94: 100%|██████████| 196/196 [01:15<00:00,  2.59it/s] \n",
      "Loss=0.017209867015480995 Batch_id=195 Accuracy=99.94: 100%|██████████| 196/196 [01:15<00:00,  2.61it/s]\n",
      "Loss=0.01693778857588768 Batch_id=195 Accuracy=99.93: 100%|██████████| 196/196 [01:14<00:00,  2.63it/s] \n"
     ]
    },
    {
     "name": "stdout",
     "output_type": "stream",
     "text": [
      "Epoch 00008: reducing learning rate of group 0 to 2.5000e-05.\n"
     ]
    },
    {
     "name": "stderr",
     "output_type": "stream",
     "text": [
      "Loss=0.012333294376730919 Batch_id=195 Accuracy=99.95: 100%|██████████| 196/196 [01:15<00:00,  2.61it/s]\n",
      "Loss=0.02240625023841858 Batch_id=195 Accuracy=99.93: 100%|██████████| 196/196 [01:15<00:00,  2.59it/s] \n"
     ]
    },
    {
     "name": "stdout",
     "output_type": "stream",
     "text": [
      "Test set: Average loss: 2.1830, Accuracy: 2831/5000 (56.62%)\n",
      "\n",
      "--Testing Corruptions--\n"
     ]
    },
    {
     "name": "stderr",
     "output_type": "stream",
     "text": [
      "100%|██████████| 19/19 [08:04<00:00, 25.49s/it]\n"
     ]
    },
    {
     "name": "stdout",
     "output_type": "stream",
     "text": [
      "\n",
      "Avg Corruption Accuracy: 29.05%\n",
      "Global Sparsity: 26.91% \n",
      "\n",
      "---------- Pruning Iteration:  4 / 44\n"
     ]
    },
    {
     "name": "stderr",
     "output_type": "stream",
     "text": [
      "Loss=0.02953347936272621 Batch_id=195 Accuracy=99.90: 100%|██████████| 196/196 [01:16<00:00,  2.57it/s] \n",
      "Loss=0.022083129733800888 Batch_id=195 Accuracy=99.93: 100%|██████████| 196/196 [01:16<00:00,  2.56it/s]\n",
      "Loss=0.01980702206492424 Batch_id=195 Accuracy=99.93: 100%|██████████| 196/196 [01:15<00:00,  2.58it/s] \n",
      "Loss=0.02943390980362892 Batch_id=195 Accuracy=99.93: 100%|██████████| 196/196 [01:15<00:00,  2.60it/s] \n",
      "Loss=0.015995848923921585 Batch_id=195 Accuracy=99.92: 100%|██████████| 196/196 [01:15<00:00,  2.59it/s]\n",
      "Loss=0.02404218539595604 Batch_id=195 Accuracy=99.92: 100%|██████████| 196/196 [01:15<00:00,  2.60it/s] \n",
      "Loss=0.023086439818143845 Batch_id=195 Accuracy=99.92: 100%|██████████| 196/196 [01:15<00:00,  2.60it/s]\n",
      "Loss=0.02340005151927471 Batch_id=195 Accuracy=99.93: 100%|██████████| 196/196 [01:14<00:00,  2.61it/s] \n"
     ]
    },
    {
     "name": "stdout",
     "output_type": "stream",
     "text": [
      "Epoch 00008: reducing learning rate of group 0 to 5.0000e-04.\n"
     ]
    },
    {
     "name": "stderr",
     "output_type": "stream",
     "text": [
      "Loss=0.018296096473932266 Batch_id=195 Accuracy=99.94: 100%|██████████| 196/196 [01:15<00:00,  2.60it/s]\n",
      "Loss=0.01970391720533371 Batch_id=195 Accuracy=99.95: 100%|██████████| 196/196 [01:15<00:00,  2.60it/s] \n"
     ]
    },
    {
     "name": "stdout",
     "output_type": "stream",
     "text": [
      "Test set: Average loss: 2.0803, Accuracy: 2828/5000 (56.56%)\n",
      "\n",
      "--Skipping Acc Comp For Corrupted Data--\n",
      "Global Sparsity: 34.15% \n",
      "\n",
      "---------- Pruning Iteration:  5 / 44\n"
     ]
    },
    {
     "name": "stderr",
     "output_type": "stream",
     "text": [
      "Loss=0.020105449482798576 Batch_id=195 Accuracy=99.92: 100%|██████████| 196/196 [01:15<00:00,  2.60it/s]\n",
      "Loss=0.020856935530900955 Batch_id=195 Accuracy=99.91: 100%|██████████| 196/196 [01:15<00:00,  2.59it/s]\n",
      "Loss=0.03279519081115723 Batch_id=195 Accuracy=99.92: 100%|██████████| 196/196 [01:15<00:00,  2.61it/s] \n",
      "Loss=0.03979010507464409 Batch_id=195 Accuracy=99.94: 100%|██████████| 196/196 [01:15<00:00,  2.61it/s] \n"
     ]
    },
    {
     "name": "stdout",
     "output_type": "stream",
     "text": [
      "Epoch 00004: reducing learning rate of group 0 to 5.0000e-04.\n"
     ]
    },
    {
     "name": "stderr",
     "output_type": "stream",
     "text": [
      "Loss=0.04099782928824425 Batch_id=195 Accuracy=99.94: 100%|██████████| 196/196 [01:15<00:00,  2.60it/s] \n",
      "Loss=0.020757725462317467 Batch_id=195 Accuracy=99.95: 100%|██████████| 196/196 [01:15<00:00,  2.61it/s]\n",
      "Loss=0.024701829999685287 Batch_id=195 Accuracy=99.95: 100%|██████████| 196/196 [01:15<00:00,  2.61it/s]\n"
     ]
    },
    {
     "name": "stdout",
     "output_type": "stream",
     "text": [
      "Epoch 00007: reducing learning rate of group 0 to 2.5000e-05.\n"
     ]
    },
    {
     "name": "stderr",
     "output_type": "stream",
     "text": [
      "Loss=0.02395814284682274 Batch_id=195 Accuracy=99.94: 100%|██████████| 196/196 [01:14<00:00,  2.63it/s] \n",
      "Loss=0.01783662661910057 Batch_id=195 Accuracy=99.94: 100%|██████████| 196/196 [01:15<00:00,  2.61it/s] \n",
      "Loss=0.021282393485307693 Batch_id=195 Accuracy=99.95: 100%|██████████| 196/196 [01:15<00:00,  2.61it/s]\n"
     ]
    },
    {
     "name": "stdout",
     "output_type": "stream",
     "text": [
      "Test set: Average loss: 2.0529, Accuracy: 2840/5000 (56.80%)\n",
      "\n",
      "--Testing Corruptions--\n"
     ]
    },
    {
     "name": "stderr",
     "output_type": "stream",
     "text": [
      "100%|██████████| 19/19 [08:08<00:00, 25.70s/it]\n"
     ]
    },
    {
     "name": "stdout",
     "output_type": "stream",
     "text": [
      "\n",
      "Avg Corruption Accuracy: 29.57%\n",
      "Global Sparsity: 40.67% \n",
      "\n",
      "---------- Pruning Iteration:  6 / 44\n"
     ]
    },
    {
     "name": "stderr",
     "output_type": "stream",
     "text": [
      "Loss=0.037006720900535583 Batch_id=195 Accuracy=99.91: 100%|██████████| 196/196 [01:16<00:00,  2.55it/s]\n",
      "Loss=0.03922139108181 Batch_id=195 Accuracy=99.91: 100%|██████████| 196/196 [01:16<00:00,  2.58it/s]    \n",
      "Loss=0.03564990311861038 Batch_id=195 Accuracy=99.92: 100%|██████████| 196/196 [01:15<00:00,  2.58it/s] \n",
      "Loss=0.038814470171928406 Batch_id=195 Accuracy=99.91: 100%|██████████| 196/196 [01:15<00:00,  2.58it/s]\n",
      "Loss=0.030288975685834885 Batch_id=195 Accuracy=99.94: 100%|██████████| 196/196 [01:15<00:00,  2.59it/s]\n",
      "Loss=0.038683392107486725 Batch_id=195 Accuracy=99.92: 100%|██████████| 196/196 [01:15<00:00,  2.58it/s]\n",
      "Loss=0.0294627845287323 Batch_id=195 Accuracy=99.92: 100%|██████████| 196/196 [01:15<00:00,  2.59it/s]  \n",
      "Loss=0.030584299936890602 Batch_id=195 Accuracy=99.92: 100%|██████████| 196/196 [01:15<00:00,  2.59it/s]\n",
      "Loss=0.025500517338514328 Batch_id=195 Accuracy=99.92: 100%|██████████| 196/196 [01:15<00:00,  2.60it/s]\n",
      "Loss=0.037275105714797974 Batch_id=195 Accuracy=99.94: 100%|██████████| 196/196 [01:16<00:00,  2.57it/s]\n"
     ]
    },
    {
     "name": "stdout",
     "output_type": "stream",
     "text": [
      "Test set: Average loss: 2.0071, Accuracy: 2825/5000 (56.50%)\n",
      "\n",
      "--Skipping Acc Comp For Corrupted Data--\n",
      "Global Sparsity: 46.53% \n",
      "\n",
      "---------- Pruning Iteration:  7 / 44\n"
     ]
    },
    {
     "name": "stderr",
     "output_type": "stream",
     "text": [
      "Loss=0.042234934866428375 Batch_id=195 Accuracy=99.87: 100%|██████████| 196/196 [01:16<00:00,  2.57it/s]\n",
      "Loss=0.026509542018175125 Batch_id=195 Accuracy=99.90: 100%|██████████| 196/196 [01:17<00:00,  2.53it/s]\n",
      "Loss=0.02821262553334236 Batch_id=195 Accuracy=99.90: 100%|██████████| 196/196 [01:15<00:00,  2.60it/s] \n",
      "Loss=0.03177297115325928 Batch_id=195 Accuracy=99.91: 100%|██████████| 196/196 [01:18<00:00,  2.48it/s] \n",
      "Loss=0.040825456380844116 Batch_id=195 Accuracy=99.92: 100%|██████████| 196/196 [01:14<00:00,  2.62it/s]\n"
     ]
    },
    {
     "name": "stdout",
     "output_type": "stream",
     "text": [
      "Epoch 00005: reducing learning rate of group 0 to 5.0000e-04.\n"
     ]
    },
    {
     "name": "stderr",
     "output_type": "stream",
     "text": [
      "Loss=0.031005870550870895 Batch_id=195 Accuracy=99.93: 100%|██████████| 196/196 [01:18<00:00,  2.49it/s]\n",
      "Loss=0.02676018513739109 Batch_id=195 Accuracy=99.95: 100%|██████████| 196/196 [01:15<00:00,  2.59it/s] \n",
      "Loss=0.026423025876283646 Batch_id=195 Accuracy=99.95: 100%|██████████| 196/196 [01:16<00:00,  2.58it/s]\n",
      "Loss=0.023749716579914093 Batch_id=195 Accuracy=99.95: 100%|██████████| 196/196 [01:15<00:00,  2.60it/s]\n",
      "Loss=0.02256746031343937 Batch_id=195 Accuracy=99.94: 100%|██████████| 196/196 [01:15<00:00,  2.60it/s] \n"
     ]
    },
    {
     "name": "stdout",
     "output_type": "stream",
     "text": [
      "Test set: Average loss: 1.9929, Accuracy: 2858/5000 (57.16%)\n",
      "\n",
      "--Testing Corruptions--\n"
     ]
    },
    {
     "name": "stderr",
     "output_type": "stream",
     "text": [
      "100%|██████████| 19/19 [08:14<00:00, 26.04s/it]\n"
     ]
    },
    {
     "name": "stdout",
     "output_type": "stream",
     "text": [
      "\n",
      "Avg Corruption Accuracy: 29.68%\n",
      "Global Sparsity: 51.81% \n",
      "\n",
      "---------- Pruning Iteration:  8 / 44\n"
     ]
    },
    {
     "name": "stderr",
     "output_type": "stream",
     "text": [
      "Loss=0.03925231099128723 Batch_id=195 Accuracy=99.83: 100%|██████████| 196/196 [01:17<00:00,  2.53it/s] \n",
      "Loss=0.05069534853100777 Batch_id=195 Accuracy=99.87: 100%|██████████| 196/196 [01:17<00:00,  2.54it/s] \n",
      "Loss=0.04143239185214043 Batch_id=195 Accuracy=99.89: 100%|██████████| 196/196 [01:16<00:00,  2.57it/s] \n",
      "Loss=0.03303863853216171 Batch_id=195 Accuracy=99.90: 100%|██████████| 196/196 [01:15<00:00,  2.58it/s] \n",
      "Loss=0.05305246263742447 Batch_id=195 Accuracy=99.91: 100%|██████████| 196/196 [01:16<00:00,  2.58it/s] \n",
      "Loss=0.03193557634949684 Batch_id=195 Accuracy=99.92: 100%|██████████| 196/196 [01:16<00:00,  2.58it/s] \n",
      "Loss=0.04617772251367569 Batch_id=195 Accuracy=99.93: 100%|██████████| 196/196 [01:15<00:00,  2.58it/s] \n",
      "Loss=0.054409563541412354 Batch_id=195 Accuracy=99.93: 100%|██████████| 196/196 [01:10<00:00,  2.77it/s]\n",
      "Loss=0.026945417746901512 Batch_id=195 Accuracy=99.93: 100%|██████████| 196/196 [01:17<00:00,  2.55it/s]\n",
      "Loss=0.05919763445854187 Batch_id=195 Accuracy=99.91: 100%|██████████| 196/196 [01:15<00:00,  2.58it/s] \n"
     ]
    },
    {
     "name": "stdout",
     "output_type": "stream",
     "text": [
      "Test set: Average loss: 2.0059, Accuracy: 2820/5000 (56.40%)\n",
      "\n",
      "--Skipping Acc Comp For Corrupted Data--\n",
      "Global Sparsity: 56.56% \n",
      "\n",
      "---------- Pruning Iteration:  9 / 44\n"
     ]
    },
    {
     "name": "stderr",
     "output_type": "stream",
     "text": [
      "Loss=0.04490458965301514 Batch_id=195 Accuracy=99.77: 100%|██████████| 196/196 [01:15<00:00,  2.59it/s] \n",
      "Loss=0.037338901311159134 Batch_id=195 Accuracy=99.86: 100%|██████████| 196/196 [01:15<00:00,  2.58it/s]\n",
      "Loss=0.037286143749952316 Batch_id=195 Accuracy=99.89: 100%|██████████| 196/196 [01:16<00:00,  2.57it/s]\n",
      "Loss=0.049759287387132645 Batch_id=195 Accuracy=99.89: 100%|██████████| 196/196 [01:15<00:00,  2.58it/s]\n",
      "Loss=0.04846631735563278 Batch_id=195 Accuracy=99.90: 100%|██████████| 196/196 [01:15<00:00,  2.59it/s] \n",
      "Loss=0.02503070794045925 Batch_id=195 Accuracy=99.88: 100%|██████████| 196/196 [01:16<00:00,  2.57it/s] \n",
      "Loss=0.027899418026208878 Batch_id=195 Accuracy=99.92: 100%|██████████| 196/196 [01:15<00:00,  2.58it/s]\n",
      "Loss=0.024813050404191017 Batch_id=195 Accuracy=99.91: 100%|██████████| 196/196 [01:15<00:00,  2.58it/s]\n",
      "Loss=0.04284925386309624 Batch_id=195 Accuracy=99.89: 100%|██████████| 196/196 [01:15<00:00,  2.59it/s] \n",
      "Loss=0.028122996911406517 Batch_id=195 Accuracy=99.91: 100%|██████████| 196/196 [01:16<00:00,  2.58it/s]\n"
     ]
    },
    {
     "name": "stdout",
     "output_type": "stream",
     "text": [
      "Test set: Average loss: 2.0269, Accuracy: 2801/5000 (56.02%)\n",
      "\n",
      "--Testing Corruptions--\n"
     ]
    },
    {
     "name": "stderr",
     "output_type": "stream",
     "text": [
      "100%|██████████| 19/19 [08:15<00:00, 26.10s/it]\n"
     ]
    },
    {
     "name": "stdout",
     "output_type": "stream",
     "text": [
      "\n",
      "Avg Corruption Accuracy: 30.22%\n",
      "Global Sparsity: 60.83% \n",
      "\n",
      "---------- Pruning Iteration:  10 / 44\n"
     ]
    },
    {
     "name": "stderr",
     "output_type": "stream",
     "text": [
      "Loss=0.053660549223423004 Batch_id=195 Accuracy=99.68: 100%|██████████| 196/196 [01:16<00:00,  2.58it/s]\n",
      "Loss=0.04341195896267891 Batch_id=195 Accuracy=99.83: 100%|██████████| 196/196 [01:16<00:00,  2.56it/s] \n",
      "Loss=0.03733426332473755 Batch_id=195 Accuracy=99.87: 100%|██████████| 196/196 [01:15<00:00,  2.59it/s] \n",
      "Loss=0.03412964195013046 Batch_id=195 Accuracy=99.86: 100%|██████████| 196/196 [01:15<00:00,  2.58it/s] \n",
      "Loss=0.039581313729286194 Batch_id=195 Accuracy=99.87: 100%|██████████| 196/196 [01:15<00:00,  2.59it/s]\n",
      "Loss=0.037259846925735474 Batch_id=195 Accuracy=99.88: 100%|██████████| 196/196 [01:16<00:00,  2.57it/s]\n",
      "Loss=0.04542597383260727 Batch_id=195 Accuracy=99.89: 100%|██████████| 196/196 [01:15<00:00,  2.59it/s] \n"
     ]
    },
    {
     "name": "stdout",
     "output_type": "stream",
     "text": [
      "Epoch 00007: reducing learning rate of group 0 to 5.0000e-04.\n"
     ]
    },
    {
     "name": "stderr",
     "output_type": "stream",
     "text": [
      "Loss=0.02272889018058777 Batch_id=195 Accuracy=99.94: 100%|██████████| 196/196 [01:15<00:00,  2.58it/s] \n",
      "Loss=0.02838558331131935 Batch_id=195 Accuracy=99.93: 100%|██████████| 196/196 [01:16<00:00,  2.58it/s] \n",
      "Loss=0.032155126333236694 Batch_id=195 Accuracy=99.96: 100%|██████████| 196/196 [01:16<00:00,  2.58it/s]\n"
     ]
    },
    {
     "name": "stdout",
     "output_type": "stream",
     "text": [
      "Test set: Average loss: 1.9951, Accuracy: 2839/5000 (56.78%)\n",
      "\n",
      "--Skipping Acc Comp For Corrupted Data--\n",
      "Global Sparsity: 64.68% \n",
      "\n",
      "---------- Pruning Iteration:  11 / 44\n"
     ]
    },
    {
     "name": "stderr",
     "output_type": "stream",
     "text": [
      "Loss=0.08963588625192642 Batch_id=195 Accuracy=99.64: 100%|██████████| 196/196 [01:15<00:00,  2.58it/s] \n",
      "Loss=0.04522312432527542 Batch_id=195 Accuracy=99.76: 100%|██████████| 196/196 [01:15<00:00,  2.59it/s] \n",
      "Loss=0.04713396728038788 Batch_id=195 Accuracy=99.80: 100%|██████████| 196/196 [01:16<00:00,  2.58it/s] \n",
      "Loss=0.04526805877685547 Batch_id=195 Accuracy=99.83: 100%|██████████| 196/196 [01:15<00:00,  2.58it/s] \n",
      "Loss=0.049503035843372345 Batch_id=195 Accuracy=99.83: 100%|██████████| 196/196 [01:15<00:00,  2.59it/s]\n"
     ]
    },
    {
     "name": "stdout",
     "output_type": "stream",
     "text": [
      "Epoch 00005: reducing learning rate of group 0 to 5.0000e-04.\n"
     ]
    },
    {
     "name": "stderr",
     "output_type": "stream",
     "text": [
      "Loss=0.02587917447090149 Batch_id=195 Accuracy=99.91: 100%|██████████| 196/196 [01:16<00:00,  2.57it/s] \n",
      "Loss=0.028183123096823692 Batch_id=195 Accuracy=99.93: 100%|██████████| 196/196 [01:16<00:00,  2.58it/s]\n",
      "Loss=0.02528463304042816 Batch_id=195 Accuracy=99.93: 100%|██████████| 196/196 [01:15<00:00,  2.58it/s] \n",
      "Loss=0.044705670326948166 Batch_id=195 Accuracy=99.92: 100%|██████████| 196/196 [01:16<00:00,  2.57it/s]\n",
      "Loss=0.020742693915963173 Batch_id=195 Accuracy=99.94: 100%|██████████| 196/196 [01:15<00:00,  2.58it/s]\n"
     ]
    },
    {
     "name": "stdout",
     "output_type": "stream",
     "text": [
      "Test set: Average loss: 2.0195, Accuracy: 2818/5000 (56.36%)\n",
      "\n",
      "--Testing Corruptions--\n"
     ]
    },
    {
     "name": "stderr",
     "output_type": "stream",
     "text": [
      "100%|██████████| 19/19 [08:55<00:00, 28.19s/it]\n"
     ]
    },
    {
     "name": "stdout",
     "output_type": "stream",
     "text": [
      "\n",
      "Avg Corruption Accuracy: 29.37%\n",
      "Global Sparsity: 68.14% \n",
      "\n",
      "---------- Pruning Iteration:  12 / 44\n"
     ]
    },
    {
     "name": "stderr",
     "output_type": "stream",
     "text": [
      "Loss=0.05436254292726517 Batch_id=195 Accuracy=99.43: 100%|██████████| 196/196 [01:15<00:00,  2.58it/s] \n",
      "Loss=0.04841693118214607 Batch_id=195 Accuracy=99.62: 100%|██████████| 196/196 [01:16<00:00,  2.57it/s] \n",
      "Loss=0.05562813952565193 Batch_id=195 Accuracy=99.65: 100%|██████████| 196/196 [01:16<00:00,  2.58it/s] \n",
      "Loss=0.059286314994096756 Batch_id=195 Accuracy=99.74: 100%|██████████| 196/196 [01:15<00:00,  2.59it/s]\n",
      "Loss=0.056030143052339554 Batch_id=195 Accuracy=99.76: 100%|██████████| 196/196 [01:16<00:00,  2.57it/s]\n"
     ]
    },
    {
     "name": "stdout",
     "output_type": "stream",
     "text": [
      "Epoch 00005: reducing learning rate of group 0 to 5.0000e-04.\n"
     ]
    },
    {
     "name": "stderr",
     "output_type": "stream",
     "text": [
      "Loss=0.048181526362895966 Batch_id=195 Accuracy=99.85: 100%|██████████| 196/196 [01:16<00:00,  2.57it/s]\n",
      "Loss=0.026131048798561096 Batch_id=195 Accuracy=99.91: 100%|██████████| 196/196 [01:16<00:00,  2.57it/s]\n",
      "Loss=0.023682599887251854 Batch_id=195 Accuracy=99.91: 100%|██████████| 196/196 [01:16<00:00,  2.57it/s]\n",
      "Loss=0.023465458303689957 Batch_id=195 Accuracy=99.92: 100%|██████████| 196/196 [01:16<00:00,  2.58it/s]\n",
      "Loss=0.03115003928542137 Batch_id=195 Accuracy=99.91: 100%|██████████| 196/196 [01:16<00:00,  2.58it/s] \n"
     ]
    },
    {
     "name": "stdout",
     "output_type": "stream",
     "text": [
      "Test set: Average loss: 2.0375, Accuracy: 2814/5000 (56.28%)\n",
      "\n",
      "--Skipping Acc Comp For Corrupted Data--\n",
      "Global Sparsity: 71.26% \n",
      "\n",
      "---------- Pruning Iteration:  13 / 44\n"
     ]
    },
    {
     "name": "stderr",
     "output_type": "stream",
     "text": [
      "Loss=0.10068081319332123 Batch_id=195 Accuracy=99.20: 100%|██████████| 196/196 [01:15<00:00,  2.58it/s] \n",
      "Loss=0.08381585776805878 Batch_id=195 Accuracy=99.35: 100%|██████████| 196/196 [01:15<00:00,  2.60it/s] \n",
      "Loss=0.07811654359102249 Batch_id=195 Accuracy=99.56: 100%|██████████| 196/196 [01:19<00:00,  2.47it/s] \n",
      "Loss=0.07622833549976349 Batch_id=195 Accuracy=99.57: 100%|██████████| 196/196 [01:15<00:00,  2.58it/s] \n",
      "Loss=0.048932068049907684 Batch_id=195 Accuracy=99.61: 100%|██████████| 196/196 [01:16<00:00,  2.58it/s]\n",
      "Loss=0.041285209357738495 Batch_id=195 Accuracy=99.70: 100%|██████████| 196/196 [01:17<00:00,  2.54it/s]\n",
      "Loss=0.07069554179906845 Batch_id=195 Accuracy=99.71: 100%|██████████| 196/196 [01:18<00:00,  2.48it/s] \n",
      "Loss=0.07422923296689987 Batch_id=195 Accuracy=99.71: 100%|██████████| 196/196 [01:15<00:00,  2.59it/s] \n",
      "Loss=0.03364218398928642 Batch_id=195 Accuracy=99.70: 100%|██████████| 196/196 [01:19<00:00,  2.47it/s] \n",
      "Loss=0.054965514689683914 Batch_id=195 Accuracy=99.74: 100%|██████████| 196/196 [01:15<00:00,  2.61it/s]\n"
     ]
    },
    {
     "name": "stdout",
     "output_type": "stream",
     "text": [
      "Test set: Average loss: 2.1171, Accuracy: 2776/5000 (55.52%)\n",
      "\n",
      "--Skipping Acc Comp For Corrupted Data--\n",
      "Global Sparsity: 74.07% \n",
      "\n",
      "---------- Pruning Iteration:  14 / 44\n"
     ]
    },
    {
     "name": "stderr",
     "output_type": "stream",
     "text": [
      "Loss=0.09023203700780869 Batch_id=195 Accuracy=98.88: 100%|██████████| 196/196 [01:16<00:00,  2.57it/s]\n",
      "Loss=0.09093956649303436 Batch_id=195 Accuracy=99.18: 100%|██████████| 196/196 [01:16<00:00,  2.57it/s] \n",
      "Loss=0.05616271495819092 Batch_id=195 Accuracy=99.33: 100%|██████████| 196/196 [01:16<00:00,  2.56it/s] \n",
      "Loss=0.05920920893549919 Batch_id=195 Accuracy=99.39: 100%|██████████| 196/196 [01:18<00:00,  2.50it/s] \n",
      "Loss=0.08891146630048752 Batch_id=195 Accuracy=99.47: 100%|██████████| 196/196 [01:19<00:00,  2.48it/s] \n",
      "Loss=0.07758669555187225 Batch_id=195 Accuracy=99.55: 100%|██████████| 196/196 [01:16<00:00,  2.57it/s] \n"
     ]
    },
    {
     "name": "stdout",
     "output_type": "stream",
     "text": [
      "Epoch 00006: reducing learning rate of group 0 to 5.0000e-04.\n"
     ]
    },
    {
     "name": "stderr",
     "output_type": "stream",
     "text": [
      "Loss=0.02440853789448738 Batch_id=195 Accuracy=99.75: 100%|██████████| 196/196 [01:15<00:00,  2.58it/s] \n",
      "Loss=0.03150685131549835 Batch_id=195 Accuracy=99.86: 100%|██████████| 196/196 [01:16<00:00,  2.58it/s] \n",
      "Loss=0.027708929032087326 Batch_id=195 Accuracy=99.90: 100%|██████████| 196/196 [01:15<00:00,  2.58it/s]\n",
      "Loss=0.029697218909859657 Batch_id=195 Accuracy=99.91: 100%|██████████| 196/196 [01:16<00:00,  2.57it/s]"
     ]
    },
    {
     "name": "stdout",
     "output_type": "stream",
     "text": [
      "Epoch 00010: reducing learning rate of group 0 to 2.5000e-05.\n"
     ]
    },
    {
     "name": "stderr",
     "output_type": "stream",
     "text": [
      "\n"
     ]
    },
    {
     "name": "stdout",
     "output_type": "stream",
     "text": [
      "Test set: Average loss: 2.0887, Accuracy: 2808/5000 (56.16%)\n",
      "\n",
      "--Skipping Acc Comp For Corrupted Data--\n",
      "Global Sparsity: 76.59% \n",
      "\n",
      "---------- Pruning Iteration:  15 / 44\n"
     ]
    },
    {
     "name": "stderr",
     "output_type": "stream",
     "text": [
      "Loss=0.12949207425117493 Batch_id=195 Accuracy=98.83: 100%|██████████| 196/196 [01:16<00:00,  2.58it/s]\n",
      "Loss=0.10039450228214264 Batch_id=195 Accuracy=98.72: 100%|██████████| 196/196 [01:15<00:00,  2.58it/s]\n",
      "Loss=0.13384418189525604 Batch_id=195 Accuracy=98.95: 100%|██████████| 196/196 [01:16<00:00,  2.57it/s]\n",
      "Loss=0.06553138792514801 Batch_id=195 Accuracy=99.09: 100%|██████████| 196/196 [01:16<00:00,  2.58it/s] \n",
      "Loss=0.07460446655750275 Batch_id=195 Accuracy=99.25: 100%|██████████| 196/196 [01:15<00:00,  2.58it/s] \n",
      "Loss=0.05765721946954727 Batch_id=195 Accuracy=99.26: 100%|██████████| 196/196 [01:15<00:00,  2.60it/s] \n",
      "Loss=0.09031831473112106 Batch_id=195 Accuracy=99.41: 100%|██████████| 196/196 [01:15<00:00,  2.58it/s] \n",
      "Loss=0.07418642938137054 Batch_id=195 Accuracy=99.40: 100%|██████████| 196/196 [01:16<00:00,  2.58it/s] \n",
      "Loss=0.06726299226284027 Batch_id=195 Accuracy=99.35: 100%|██████████| 196/196 [01:16<00:00,  2.57it/s] \n"
     ]
    },
    {
     "name": "stdout",
     "output_type": "stream",
     "text": [
      "Epoch 00009: reducing learning rate of group 0 to 5.0000e-04.\n"
     ]
    },
    {
     "name": "stderr",
     "output_type": "stream",
     "text": [
      "Loss=0.038165777921676636 Batch_id=195 Accuracy=99.72: 100%|██████████| 196/196 [01:18<00:00,  2.51it/s]\n"
     ]
    },
    {
     "name": "stdout",
     "output_type": "stream",
     "text": [
      "Test set: Average loss: 2.1606, Accuracy: 2754/5000 (55.08%)\n",
      "\n",
      "--Testing Corruptions--\n"
     ]
    },
    {
     "name": "stderr",
     "output_type": "stream",
     "text": [
      "100%|██████████| 19/19 [08:21<00:00, 26.40s/it]\n"
     ]
    },
    {
     "name": "stdout",
     "output_type": "stream",
     "text": [
      "\n",
      "Avg Corruption Accuracy: 28.05%\n",
      "Global Sparsity: 78.86% \n",
      "\n",
      "---------- Pruning Iteration:  16 / 44\n"
     ]
    },
    {
     "name": "stderr",
     "output_type": "stream",
     "text": [
      "Loss=0.12557697296142578 Batch_id=195 Accuracy=98.62: 100%|██████████| 196/196 [01:16<00:00,  2.57it/s]\n",
      "Loss=0.13210169970989227 Batch_id=195 Accuracy=98.61: 100%|██████████| 196/196 [01:16<00:00,  2.57it/s]\n",
      "Loss=0.09202437847852707 Batch_id=195 Accuracy=98.69: 100%|██████████| 196/196 [01:16<00:00,  2.56it/s]\n",
      "Loss=0.10124076902866364 Batch_id=195 Accuracy=98.80: 100%|██████████| 196/196 [01:16<00:00,  2.57it/s]\n",
      "Loss=0.1130279079079628 Batch_id=195 Accuracy=98.93: 100%|██████████| 196/196 [01:16<00:00,  2.56it/s]  \n",
      "Loss=0.06861722469329834 Batch_id=195 Accuracy=99.08: 100%|██████████| 196/196 [01:16<00:00,  2.57it/s] \n",
      "Loss=0.06924418359994888 Batch_id=195 Accuracy=99.17: 100%|██████████| 196/196 [01:16<00:00,  2.57it/s] \n",
      "Loss=0.06754091382026672 Batch_id=195 Accuracy=99.23: 100%|██████████| 196/196 [01:16<00:00,  2.58it/s] \n",
      "Loss=0.09221021085977554 Batch_id=195 Accuracy=99.18: 100%|██████████| 196/196 [01:16<00:00,  2.57it/s] \n",
      "Loss=0.11930227279663086 Batch_id=195 Accuracy=99.22: 100%|██████████| 196/196 [01:16<00:00,  2.57it/s] \n"
     ]
    },
    {
     "name": "stdout",
     "output_type": "stream",
     "text": [
      "Test set: Average loss: 2.3528, Accuracy: 2626/5000 (52.52%)\n",
      "\n",
      "--Skipping Acc Comp For Corrupted Data--\n",
      "Global Sparsity: 80.91% \n",
      "\n",
      "---------- Pruning Iteration:  17 / 44\n"
     ]
    },
    {
     "name": "stderr",
     "output_type": "stream",
     "text": [
      "Loss=0.1319616734981537 Batch_id=195 Accuracy=98.42: 100%|██████████| 196/196 [01:15<00:00,  2.58it/s] \n",
      "Loss=0.10389424860477448 Batch_id=195 Accuracy=98.34: 100%|██████████| 196/196 [01:16<00:00,  2.57it/s]\n",
      "Loss=0.12330438196659088 Batch_id=195 Accuracy=98.52: 100%|██████████| 196/196 [01:16<00:00,  2.57it/s]\n",
      "Loss=0.1331239938735962 Batch_id=195 Accuracy=98.63: 100%|██████████| 196/196 [01:18<00:00,  2.50it/s] \n",
      "Loss=0.09278865158557892 Batch_id=195 Accuracy=98.65: 100%|██████████| 196/196 [01:16<00:00,  2.57it/s] \n",
      "Loss=0.0851958766579628 Batch_id=195 Accuracy=98.75: 100%|██████████| 196/196 [01:16<00:00,  2.57it/s] \n",
      "Loss=0.08849316835403442 Batch_id=195 Accuracy=98.95: 100%|██████████| 196/196 [01:16<00:00,  2.57it/s] \n",
      "Loss=0.07590465992689133 Batch_id=195 Accuracy=99.06: 100%|██████████| 196/196 [01:16<00:00,  2.58it/s] \n",
      "Loss=0.08687899261713028 Batch_id=195 Accuracy=99.15: 100%|██████████| 196/196 [01:18<00:00,  2.51it/s] \n",
      "Loss=0.07255539298057556 Batch_id=195 Accuracy=99.24: 100%|██████████| 196/196 [01:19<00:00,  2.46it/s] \n"
     ]
    },
    {
     "name": "stdout",
     "output_type": "stream",
     "text": [
      "Test set: Average loss: 2.3737, Accuracy: 2642/5000 (52.84%)\n",
      "\n",
      "--Skipping Acc Comp For Corrupted Data--\n",
      "Global Sparsity: 82.75% \n",
      "\n",
      "---------- Pruning Iteration:  18 / 44\n"
     ]
    },
    {
     "name": "stderr",
     "output_type": "stream",
     "text": [
      "Loss=0.11972464621067047 Batch_id=195 Accuracy=98.25: 100%|██████████| 196/196 [01:15<00:00,  2.59it/s]\n",
      "Loss=0.16087555885314941 Batch_id=195 Accuracy=98.16: 100%|██████████| 196/196 [01:15<00:00,  2.60it/s]\n",
      "Loss=0.13615022599697113 Batch_id=195 Accuracy=98.39: 100%|██████████| 196/196 [01:15<00:00,  2.58it/s]\n",
      "Loss=0.08999211341142654 Batch_id=195 Accuracy=98.42: 100%|██████████| 196/196 [01:15<00:00,  2.58it/s]\n",
      "Loss=0.08385995775461197 Batch_id=195 Accuracy=98.67: 100%|██████████| 196/196 [01:15<00:00,  2.58it/s]\n",
      "Loss=0.06597033888101578 Batch_id=195 Accuracy=98.72: 100%|██████████| 196/196 [01:16<00:00,  2.57it/s] \n",
      "Loss=0.09266071766614914 Batch_id=195 Accuracy=98.81: 100%|██████████| 196/196 [01:16<00:00,  2.57it/s] \n",
      "Loss=0.08970742672681808 Batch_id=195 Accuracy=98.94: 100%|██████████| 196/196 [01:16<00:00,  2.58it/s] \n",
      "Loss=0.06505398452281952 Batch_id=195 Accuracy=98.90: 100%|██████████| 196/196 [01:16<00:00,  2.57it/s] \n",
      "Loss=0.073234923183918 Batch_id=195 Accuracy=99.02: 100%|██████████| 196/196 [01:16<00:00,  2.57it/s]   \n"
     ]
    },
    {
     "name": "stdout",
     "output_type": "stream",
     "text": [
      "Test set: Average loss: 2.4188, Accuracy: 2646/5000 (52.92%)\n",
      "\n",
      "--Skipping Acc Comp For Corrupted Data--\n",
      "Global Sparsity: 84.40% \n",
      "\n",
      "---------- Pruning Iteration:  19 / 44\n"
     ]
    },
    {
     "name": "stderr",
     "output_type": "stream",
     "text": [
      "Loss=0.16831457614898682 Batch_id=195 Accuracy=98.14: 100%|██████████| 196/196 [01:16<00:00,  2.58it/s]\n",
      "Loss=0.09819056838750839 Batch_id=195 Accuracy=97.85: 100%|██████████| 196/196 [01:16<00:00,  2.57it/s]\n",
      "Loss=0.15874440968036652 Batch_id=195 Accuracy=98.19: 100%|██████████| 196/196 [01:16<00:00,  2.57it/s]\n",
      "Loss=0.12922069430351257 Batch_id=195 Accuracy=98.14: 100%|██████████| 196/196 [01:15<00:00,  2.58it/s]\n",
      "Loss=0.14583797752857208 Batch_id=195 Accuracy=98.22: 100%|██████████| 196/196 [01:16<00:00,  2.57it/s]\n"
     ]
    },
    {
     "name": "stdout",
     "output_type": "stream",
     "text": [
      "Epoch 00005: reducing learning rate of group 0 to 5.0000e-04.\n"
     ]
    },
    {
     "name": "stderr",
     "output_type": "stream",
     "text": [
      "Loss=0.06602980941534042 Batch_id=195 Accuracy=99.30: 100%|██████████| 196/196 [01:16<00:00,  2.58it/s] \n",
      "Loss=0.06032351404428482 Batch_id=195 Accuracy=99.57: 100%|██████████| 196/196 [01:16<00:00,  2.58it/s] \n",
      "Loss=0.05437241122126579 Batch_id=195 Accuracy=99.61: 100%|██████████| 196/196 [01:16<00:00,  2.57it/s] \n",
      "Loss=0.04036333039402962 Batch_id=195 Accuracy=99.67: 100%|██████████| 196/196 [01:16<00:00,  2.57it/s] \n",
      "Loss=0.03888760134577751 Batch_id=195 Accuracy=99.68: 100%|██████████| 196/196 [01:16<00:00,  2.57it/s] \n"
     ]
    },
    {
     "name": "stdout",
     "output_type": "stream",
     "text": [
      "Test set: Average loss: 2.2831, Accuracy: 2739/5000 (54.78%)\n",
      "\n",
      "--Skipping Acc Comp For Corrupted Data--\n",
      "Global Sparsity: 85.89% \n",
      "\n",
      "---------- Pruning Iteration:  20 / 44\n"
     ]
    },
    {
     "name": "stderr",
     "output_type": "stream",
     "text": [
      "Loss=0.15688487887382507 Batch_id=195 Accuracy=98.06: 100%|██████████| 196/196 [01:16<00:00,  2.56it/s]\n",
      "Loss=0.1755157709121704 Batch_id=195 Accuracy=97.59: 100%|██████████| 196/196 [01:16<00:00,  2.56it/s] \n",
      "Loss=0.14596013724803925 Batch_id=195 Accuracy=97.60: 100%|██████████| 196/196 [01:16<00:00,  2.56it/s]\n",
      "Loss=0.21226701140403748 Batch_id=195 Accuracy=97.55: 100%|██████████| 196/196 [01:16<00:00,  2.57it/s]\n",
      "Loss=0.1159219965338707 Batch_id=195 Accuracy=98.04: 100%|██████████| 196/196 [01:15<00:00,  2.58it/s] \n",
      "Loss=0.14047087728977203 Batch_id=195 Accuracy=98.02: 100%|██████████| 196/196 [01:16<00:00,  2.58it/s]\n",
      "Loss=0.12362068891525269 Batch_id=195 Accuracy=98.21: 100%|██████████| 196/196 [01:16<00:00,  2.57it/s]\n",
      "Loss=0.17775869369506836 Batch_id=195 Accuracy=98.25: 100%|██████████| 196/196 [01:16<00:00,  2.56it/s]\n"
     ]
    },
    {
     "name": "stdout",
     "output_type": "stream",
     "text": [
      "Epoch 00008: reducing learning rate of group 0 to 5.0000e-04.\n"
     ]
    },
    {
     "name": "stderr",
     "output_type": "stream",
     "text": [
      "Loss=0.07839526236057281 Batch_id=195 Accuracy=99.16: 100%|██████████| 196/196 [01:16<00:00,  2.57it/s] \n",
      "Loss=0.0502207949757576 Batch_id=195 Accuracy=99.50: 100%|██████████| 196/196 [01:16<00:00,  2.57it/s]  \n"
     ]
    },
    {
     "name": "stdout",
     "output_type": "stream",
     "text": [
      "Test set: Average loss: 2.3180, Accuracy: 2711/5000 (54.22%)\n",
      "\n",
      "--Skipping Acc Comp For Corrupted Data--\n",
      "Global Sparsity: 87.24% \n",
      "\n",
      "---------- Pruning Iteration:  21 / 44\n"
     ]
    },
    {
     "name": "stderr",
     "output_type": "stream",
     "text": [
      "Loss=0.23242077231407166 Batch_id=195 Accuracy=97.73: 100%|██████████| 196/196 [01:16<00:00,  2.56it/s]\n",
      "Loss=0.1368209421634674 Batch_id=195 Accuracy=97.42: 100%|██████████| 196/196 [01:16<00:00,  2.56it/s] \n",
      "Loss=0.13854531943798065 Batch_id=195 Accuracy=97.35: 100%|██████████| 196/196 [01:16<00:00,  2.57it/s]\n",
      "Loss=0.16503995656967163 Batch_id=195 Accuracy=97.45: 100%|██████████| 196/196 [01:16<00:00,  2.57it/s]\n",
      "Loss=0.19620448350906372 Batch_id=195 Accuracy=97.81: 100%|██████████| 196/196 [01:16<00:00,  2.56it/s]\n"
     ]
    },
    {
     "name": "stdout",
     "output_type": "stream",
     "text": [
      "Epoch 00005: reducing learning rate of group 0 to 5.0000e-04.\n"
     ]
    },
    {
     "name": "stderr",
     "output_type": "stream",
     "text": [
      "Loss=0.06309439241886139 Batch_id=195 Accuracy=98.94: 100%|██████████| 196/196 [01:16<00:00,  2.57it/s] \n",
      "Loss=0.04112302511930466 Batch_id=195 Accuracy=99.31: 100%|██████████| 196/196 [01:16<00:00,  2.58it/s] \n",
      "Loss=0.040413811802864075 Batch_id=195 Accuracy=99.46: 100%|██████████| 196/196 [01:15<00:00,  2.58it/s]\n",
      "Loss=0.05978059023618698 Batch_id=195 Accuracy=99.53: 100%|██████████| 196/196 [01:16<00:00,  2.57it/s] \n",
      "Loss=0.03759698197245598 Batch_id=195 Accuracy=99.58: 100%|██████████| 196/196 [01:16<00:00,  2.55it/s] \n"
     ]
    },
    {
     "name": "stdout",
     "output_type": "stream",
     "text": [
      "Test set: Average loss: 2.3329, Accuracy: 2721/5000 (54.42%)\n",
      "\n",
      "--Skipping Acc Comp For Corrupted Data--\n",
      "Global Sparsity: 88.44% \n",
      "\n",
      "---------- Pruning Iteration:  22 / 44\n"
     ]
    },
    {
     "name": "stderr",
     "output_type": "stream",
     "text": [
      "Loss=0.12150023132562637 Batch_id=195 Accuracy=97.06: 100%|██████████| 196/196 [01:16<00:00,  2.57it/s]\n",
      "Loss=0.23117446899414062 Batch_id=195 Accuracy=96.54: 100%|██████████| 196/196 [01:16<00:00,  2.57it/s]\n",
      "Loss=0.18760547041893005 Batch_id=195 Accuracy=96.70: 100%|██████████| 196/196 [01:16<00:00,  2.57it/s]\n",
      "Loss=0.13604804873466492 Batch_id=195 Accuracy=96.97: 100%|██████████| 196/196 [01:16<00:00,  2.56it/s]\n"
     ]
    },
    {
     "name": "stdout",
     "output_type": "stream",
     "text": [
      "Epoch 00004: reducing learning rate of group 0 to 5.0000e-04.\n"
     ]
    },
    {
     "name": "stderr",
     "output_type": "stream",
     "text": [
      "Loss=0.11743311583995819 Batch_id=195 Accuracy=98.55: 100%|██████████| 196/196 [01:16<00:00,  2.57it/s] \n",
      "Loss=0.08347699046134949 Batch_id=195 Accuracy=99.09: 100%|██████████| 196/196 [01:16<00:00,  2.56it/s] \n",
      "Loss=0.04018191248178482 Batch_id=195 Accuracy=99.27: 100%|██████████| 196/196 [01:16<00:00,  2.57it/s] \n",
      "Loss=0.05266716331243515 Batch_id=195 Accuracy=99.36: 100%|██████████| 196/196 [01:16<00:00,  2.56it/s] \n",
      "Loss=0.031515203416347504 Batch_id=195 Accuracy=99.45: 100%|██████████| 196/196 [01:15<00:00,  2.58it/s]\n",
      "Loss=0.08120445907115936 Batch_id=195 Accuracy=99.45: 100%|██████████| 196/196 [01:16<00:00,  2.56it/s] \n"
     ]
    },
    {
     "name": "stdout",
     "output_type": "stream",
     "text": [
      "Test set: Average loss: 2.3409, Accuracy: 2664/5000 (53.28%)\n",
      "\n",
      "--Testing Corruptions--\n"
     ]
    },
    {
     "name": "stderr",
     "output_type": "stream",
     "text": [
      "100%|██████████| 19/19 [08:26<00:00, 26.65s/it]\n"
     ]
    },
    {
     "name": "stdout",
     "output_type": "stream",
     "text": [
      "\n",
      "Avg Corruption Accuracy: 26.43%\n",
      "Global Sparsity: 89.53% \n",
      "\n",
      "---------- Pruning Iteration:  23 / 44\n"
     ]
    },
    {
     "name": "stderr",
     "output_type": "stream",
     "text": [
      "Loss=0.16285455226898193 Batch_id=195 Accuracy=96.26: 100%|██████████| 196/196 [01:16<00:00,  2.56it/s]\n",
      "Loss=0.24340350925922394 Batch_id=195 Accuracy=95.65: 100%|██████████| 196/196 [01:16<00:00,  2.57it/s]\n",
      "Loss=0.2477075755596161 Batch_id=195 Accuracy=95.81: 100%|██████████| 196/196 [01:16<00:00,  2.56it/s] \n",
      "Loss=0.21132707595825195 Batch_id=195 Accuracy=96.12: 100%|██████████| 196/196 [01:16<00:00,  2.56it/s]\n"
     ]
    },
    {
     "name": "stdout",
     "output_type": "stream",
     "text": [
      "Epoch 00004: reducing learning rate of group 0 to 5.0000e-04.\n"
     ]
    },
    {
     "name": "stderr",
     "output_type": "stream",
     "text": [
      "Loss=0.11734019219875336 Batch_id=195 Accuracy=98.12: 100%|██████████| 196/196 [01:16<00:00,  2.55it/s]\n",
      "Loss=0.08774608373641968 Batch_id=195 Accuracy=98.80: 100%|██████████| 196/196 [01:16<00:00,  2.56it/s] \n",
      "Loss=0.08156801760196686 Batch_id=195 Accuracy=99.00: 100%|██████████| 196/196 [01:16<00:00,  2.56it/s] \n",
      "Loss=0.07725885510444641 Batch_id=195 Accuracy=99.14: 100%|██████████| 196/196 [01:16<00:00,  2.55it/s] \n",
      "Loss=0.05274491757154465 Batch_id=195 Accuracy=99.21: 100%|██████████| 196/196 [01:16<00:00,  2.55it/s] \n",
      "Loss=0.07733914256095886 Batch_id=195 Accuracy=99.29: 100%|██████████| 196/196 [01:16<00:00,  2.56it/s] \n"
     ]
    },
    {
     "name": "stdout",
     "output_type": "stream",
     "text": [
      "Test set: Average loss: 2.3553, Accuracy: 2687/5000 (53.74%)\n",
      "\n",
      "--Skipping Acc Comp For Corrupted Data--\n",
      "Global Sparsity: 90.51% \n",
      "\n",
      "---------- Pruning Iteration:  24 / 44\n"
     ]
    },
    {
     "name": "stderr",
     "output_type": "stream",
     "text": [
      "Loss=0.3154364824295044 Batch_id=195 Accuracy=95.41: 100%|██████████| 196/196 [01:16<00:00,  2.55it/s] \n",
      "Loss=0.2647179067134857 Batch_id=195 Accuracy=94.92: 100%|██████████| 196/196 [01:16<00:00,  2.55it/s] \n",
      "Loss=0.32974880933761597 Batch_id=195 Accuracy=95.00: 100%|██████████| 196/196 [01:16<00:00,  2.56it/s]\n",
      "Loss=0.22937890887260437 Batch_id=195 Accuracy=95.34: 100%|██████████| 196/196 [01:16<00:00,  2.56it/s]\n",
      "Loss=0.15715692937374115 Batch_id=195 Accuracy=95.68: 100%|██████████| 196/196 [01:16<00:00,  2.55it/s]\n",
      "Loss=0.1951049268245697 Batch_id=195 Accuracy=96.20: 100%|██████████| 196/196 [01:16<00:00,  2.56it/s] \n",
      "Loss=0.16203324496746063 Batch_id=195 Accuracy=96.40: 100%|██████████| 196/196 [01:16<00:00,  2.55it/s]\n",
      "Loss=0.1947760432958603 Batch_id=195 Accuracy=96.46: 100%|██████████| 196/196 [01:16<00:00,  2.56it/s] \n"
     ]
    },
    {
     "name": "stdout",
     "output_type": "stream",
     "text": [
      "Epoch 00008: reducing learning rate of group 0 to 5.0000e-04.\n"
     ]
    },
    {
     "name": "stderr",
     "output_type": "stream",
     "text": [
      "Loss=0.08679519593715668 Batch_id=195 Accuracy=98.26: 100%|██████████| 196/196 [01:16<00:00,  2.57it/s] \n",
      "Loss=0.09117932617664337 Batch_id=195 Accuracy=98.80: 100%|██████████| 196/196 [01:16<00:00,  2.57it/s] \n"
     ]
    },
    {
     "name": "stdout",
     "output_type": "stream",
     "text": [
      "Test set: Average loss: 2.4010, Accuracy: 2654/5000 (53.08%)\n",
      "\n",
      "--Skipping Acc Comp For Corrupted Data--\n",
      "Global Sparsity: 91.39% \n",
      "\n",
      "---------- Pruning Iteration:  25 / 44\n"
     ]
    },
    {
     "name": "stderr",
     "output_type": "stream",
     "text": [
      "Loss=0.29169952869415283 Batch_id=195 Accuracy=95.24: 100%|██████████| 196/196 [01:16<00:00,  2.55it/s]\n",
      "Loss=0.24703975021839142 Batch_id=195 Accuracy=95.05: 100%|██████████| 196/196 [01:16<00:00,  2.57it/s]\n",
      "Loss=0.2893233299255371 Batch_id=195 Accuracy=95.46: 100%|██████████| 196/196 [01:16<00:00,  2.55it/s] \n",
      "Loss=0.20656685531139374 Batch_id=195 Accuracy=95.66: 100%|██████████| 196/196 [01:16<00:00,  2.55it/s]\n",
      "Loss=0.17448483407497406 Batch_id=195 Accuracy=95.97: 100%|██████████| 196/196 [01:16<00:00,  2.55it/s]\n",
      "Loss=0.17155709862709045 Batch_id=195 Accuracy=96.17: 100%|██████████| 196/196 [01:16<00:00,  2.55it/s]\n",
      "Loss=0.16306942701339722 Batch_id=195 Accuracy=96.35: 100%|██████████| 196/196 [01:16<00:00,  2.56it/s]\n",
      "Loss=0.10994403064250946 Batch_id=195 Accuracy=96.63: 100%|██████████| 196/196 [01:16<00:00,  2.55it/s]\n",
      "Loss=0.15620946884155273 Batch_id=195 Accuracy=96.64: 100%|██████████| 196/196 [01:16<00:00,  2.56it/s]\n",
      "Loss=0.22193114459514618 Batch_id=195 Accuracy=96.60: 100%|██████████| 196/196 [01:16<00:00,  2.56it/s]\n"
     ]
    },
    {
     "name": "stdout",
     "output_type": "stream",
     "text": [
      "Test set: Average loss: 2.6716, Accuracy: 2529/5000 (50.58%)\n",
      "\n",
      "--Skipping Acc Comp For Corrupted Data--\n",
      "Global Sparsity: 92.18% \n",
      "\n",
      "---------- Pruning Iteration:  26 / 44\n"
     ]
    },
    {
     "name": "stderr",
     "output_type": "stream",
     "text": [
      "Loss=0.31889861822128296 Batch_id=195 Accuracy=94.72: 100%|██████████| 196/196 [01:16<00:00,  2.56it/s]\n",
      "Loss=0.252970814704895 Batch_id=195 Accuracy=95.02: 100%|██████████| 196/196 [01:17<00:00,  2.54it/s]  \n",
      "Loss=0.21026673913002014 Batch_id=195 Accuracy=95.24: 100%|██████████| 196/196 [01:16<00:00,  2.57it/s]\n",
      "Loss=0.2822965979576111 Batch_id=195 Accuracy=95.39: 100%|██████████| 196/196 [01:16<00:00,  2.55it/s] \n",
      "Loss=0.18211428821086884 Batch_id=195 Accuracy=95.69: 100%|██████████| 196/196 [01:16<00:00,  2.56it/s]\n",
      "Loss=0.25408095121383667 Batch_id=195 Accuracy=96.09: 100%|██████████| 196/196 [01:16<00:00,  2.56it/s]\n",
      "Loss=0.24813587963581085 Batch_id=195 Accuracy=96.09: 100%|██████████| 196/196 [01:16<00:00,  2.56it/s]\n",
      "Loss=0.24108842015266418 Batch_id=195 Accuracy=96.30: 100%|██████████| 196/196 [01:16<00:00,  2.55it/s]\n"
     ]
    },
    {
     "name": "stdout",
     "output_type": "stream",
     "text": [
      "Epoch 00008: reducing learning rate of group 0 to 5.0000e-04.\n"
     ]
    },
    {
     "name": "stderr",
     "output_type": "stream",
     "text": [
      "Loss=0.11969073861837387 Batch_id=195 Accuracy=97.98: 100%|██████████| 196/196 [01:16<00:00,  2.56it/s]\n",
      "Loss=0.07957350462675095 Batch_id=195 Accuracy=98.59: 100%|██████████| 196/196 [01:16<00:00,  2.56it/s] \n"
     ]
    },
    {
     "name": "stdout",
     "output_type": "stream",
     "text": [
      "Test set: Average loss: 2.4612, Accuracy: 2630/5000 (52.60%)\n",
      "\n",
      "--Skipping Acc Comp For Corrupted Data--\n",
      "Global Sparsity: 92.89% \n",
      "\n",
      "---------- Pruning Iteration:  27 / 44\n"
     ]
    },
    {
     "name": "stderr",
     "output_type": "stream",
     "text": [
      "Loss=0.2363341748714447 Batch_id=195 Accuracy=94.51: 100%|██████████| 196/196 [01:16<00:00,  2.57it/s] \n",
      "Loss=0.27307793498039246 Batch_id=195 Accuracy=94.23: 100%|██████████| 196/196 [01:16<00:00,  2.57it/s]\n",
      "Loss=0.24230608344078064 Batch_id=195 Accuracy=94.41: 100%|██████████| 196/196 [01:16<00:00,  2.56it/s]\n",
      "Loss=0.2601625323295593 Batch_id=195 Accuracy=94.91: 100%|██████████| 196/196 [01:16<00:00,  2.57it/s] \n"
     ]
    },
    {
     "name": "stdout",
     "output_type": "stream",
     "text": [
      "Epoch 00004: reducing learning rate of group 0 to 5.0000e-04.\n"
     ]
    },
    {
     "name": "stderr",
     "output_type": "stream",
     "text": [
      "Loss=0.08527283370494843 Batch_id=195 Accuracy=97.15: 100%|██████████| 196/196 [01:16<00:00,  2.56it/s]\n",
      "Loss=0.08687486499547958 Batch_id=195 Accuracy=98.09: 100%|██████████| 196/196 [01:16<00:00,  2.56it/s]\n",
      "Loss=0.07742594182491302 Batch_id=195 Accuracy=98.29: 100%|██████████| 196/196 [01:16<00:00,  2.56it/s]\n",
      "Loss=0.07896001636981964 Batch_id=195 Accuracy=98.52: 100%|██████████| 196/196 [01:16<00:00,  2.55it/s]\n",
      "Loss=0.07406800240278244 Batch_id=195 Accuracy=98.58: 100%|██████████| 196/196 [01:16<00:00,  2.56it/s]\n",
      "Loss=0.08795031160116196 Batch_id=195 Accuracy=98.68: 100%|██████████| 196/196 [01:16<00:00,  2.55it/s]\n"
     ]
    },
    {
     "name": "stdout",
     "output_type": "stream",
     "text": [
      "Test set: Average loss: 2.4559, Accuracy: 2635/5000 (52.70%)\n",
      "\n",
      "--Skipping Acc Comp For Corrupted Data--\n",
      "Global Sparsity: 93.53% \n",
      "\n",
      "---------- Pruning Iteration:  28 / 44\n"
     ]
    },
    {
     "name": "stderr",
     "output_type": "stream",
     "text": [
      "Loss=0.3561752438545227 Batch_id=195 Accuracy=92.56: 100%|██████████| 196/196 [01:16<00:00,  2.56it/s] \n",
      "Loss=0.35282739996910095 Batch_id=195 Accuracy=92.05: 100%|██████████| 196/196 [01:16<00:00,  2.56it/s]\n",
      "Loss=0.37716859579086304 Batch_id=195 Accuracy=92.46: 100%|██████████| 196/196 [01:16<00:00,  2.56it/s]\n",
      "Loss=0.42299580574035645 Batch_id=195 Accuracy=92.86: 100%|██████████| 196/196 [01:16<00:00,  2.56it/s]\n",
      "Loss=0.2509300410747528 Batch_id=195 Accuracy=93.09: 100%|██████████| 196/196 [01:16<00:00,  2.55it/s] \n",
      "Loss=0.22015562653541565 Batch_id=195 Accuracy=93.61: 100%|██████████| 196/196 [01:17<00:00,  2.54it/s]\n",
      "Loss=0.3244115710258484 Batch_id=195 Accuracy=93.87: 100%|██████████| 196/196 [01:17<00:00,  2.54it/s] \n",
      "Loss=0.37602680921554565 Batch_id=195 Accuracy=94.12: 100%|██████████| 196/196 [01:16<00:00,  2.55it/s]\n",
      "Loss=0.25202494859695435 Batch_id=195 Accuracy=94.31: 100%|██████████| 196/196 [01:16<00:00,  2.55it/s]\n"
     ]
    },
    {
     "name": "stdout",
     "output_type": "stream",
     "text": [
      "Epoch 00009: reducing learning rate of group 0 to 5.0000e-04.\n"
     ]
    },
    {
     "name": "stderr",
     "output_type": "stream",
     "text": [
      "Loss=0.14409685134887695 Batch_id=195 Accuracy=96.81: 100%|██████████| 196/196 [01:16<00:00,  2.56it/s]\n"
     ]
    },
    {
     "name": "stdout",
     "output_type": "stream",
     "text": [
      "Test set: Average loss: 2.5055, Accuracy: 2619/5000 (52.38%)\n",
      "\n",
      "--Testing Corruptions--\n"
     ]
    },
    {
     "name": "stderr",
     "output_type": "stream",
     "text": [
      "100%|██████████| 19/19 [08:31<00:00, 26.90s/it]\n"
     ]
    },
    {
     "name": "stdout",
     "output_type": "stream",
     "text": [
      "\n",
      "Avg Corruption Accuracy: 24.87%\n",
      "Global Sparsity: 94.11% \n",
      "\n",
      "---------- Pruning Iteration:  29 / 44\n"
     ]
    },
    {
     "name": "stderr",
     "output_type": "stream",
     "text": [
      "Loss=0.3856898248195648 Batch_id=195 Accuracy=91.96: 100%|██████████| 196/196 [01:16<00:00,  2.55it/s] \n",
      "Loss=0.30558353662490845 Batch_id=195 Accuracy=91.80: 100%|██████████| 196/196 [01:16<00:00,  2.55it/s]\n",
      "Loss=0.3445533514022827 Batch_id=195 Accuracy=92.12: 100%|██████████| 196/196 [01:16<00:00,  2.56it/s] \n",
      "Loss=0.3033081889152527 Batch_id=195 Accuracy=92.63: 100%|██████████| 196/196 [01:16<00:00,  2.56it/s] \n",
      "Loss=0.3330704867839813 Batch_id=195 Accuracy=92.93: 100%|██████████| 196/196 [01:16<00:00,  2.56it/s] \n",
      "Loss=0.3824256658554077 Batch_id=195 Accuracy=93.15: 100%|██████████| 196/196 [01:16<00:00,  2.55it/s] \n",
      "Loss=0.3096262514591217 Batch_id=195 Accuracy=93.43: 100%|██████████| 196/196 [01:16<00:00,  2.55it/s] \n"
     ]
    },
    {
     "name": "stdout",
     "output_type": "stream",
     "text": [
      "Epoch 00007: reducing learning rate of group 0 to 5.0000e-04.\n"
     ]
    },
    {
     "name": "stderr",
     "output_type": "stream",
     "text": [
      "Loss=0.15970703959465027 Batch_id=195 Accuracy=96.24: 100%|██████████| 196/196 [01:16<00:00,  2.56it/s]\n",
      "Loss=0.15513354539871216 Batch_id=195 Accuracy=97.24: 100%|██████████| 196/196 [01:16<00:00,  2.55it/s]\n",
      "Loss=0.10143522173166275 Batch_id=195 Accuracy=97.61: 100%|██████████| 196/196 [01:16<00:00,  2.55it/s]\n"
     ]
    },
    {
     "name": "stdout",
     "output_type": "stream",
     "text": [
      "Test set: Average loss: 2.4785, Accuracy: 2644/5000 (52.88%)\n",
      "\n",
      "--Skipping Acc Comp For Corrupted Data--\n",
      "Global Sparsity: 94.63% \n",
      "\n",
      "---------- Pruning Iteration:  30 / 44\n"
     ]
    },
    {
     "name": "stderr",
     "output_type": "stream",
     "text": [
      "Loss=0.47146502137184143 Batch_id=195 Accuracy=90.91: 100%|██████████| 196/196 [01:16<00:00,  2.55it/s]\n",
      "Loss=0.4989299178123474 Batch_id=195 Accuracy=90.53: 100%|██████████| 196/196 [01:16<00:00,  2.55it/s] \n",
      "Loss=0.30333298444747925 Batch_id=195 Accuracy=90.88: 100%|██████████| 196/196 [01:16<00:00,  2.56it/s]\n",
      "Loss=0.3061642050743103 Batch_id=195 Accuracy=91.26: 100%|██████████| 196/196 [01:16<00:00,  2.56it/s] \n",
      "Loss=0.4461999535560608 Batch_id=195 Accuracy=91.77: 100%|██████████| 196/196 [01:16<00:00,  2.55it/s] \n",
      "Loss=0.29358595609664917 Batch_id=195 Accuracy=91.84: 100%|██████████| 196/196 [01:16<00:00,  2.56it/s]\n",
      "Loss=0.33410876989364624 Batch_id=195 Accuracy=92.03: 100%|██████████| 196/196 [01:16<00:00,  2.55it/s]\n",
      "Loss=0.40703922510147095 Batch_id=195 Accuracy=92.51: 100%|██████████| 196/196 [01:16<00:00,  2.56it/s]\n",
      "Loss=0.3100956380367279 Batch_id=195 Accuracy=92.36: 100%|██████████| 196/196 [01:16<00:00,  2.55it/s] \n"
     ]
    },
    {
     "name": "stdout",
     "output_type": "stream",
     "text": [
      "Epoch 00009: reducing learning rate of group 0 to 5.0000e-04.\n"
     ]
    },
    {
     "name": "stderr",
     "output_type": "stream",
     "text": [
      "Loss=0.1707727015018463 Batch_id=195 Accuracy=95.50: 100%|██████████| 196/196 [01:16<00:00,  2.56it/s] \n"
     ]
    },
    {
     "name": "stdout",
     "output_type": "stream",
     "text": [
      "Test set: Average loss: 2.5394, Accuracy: 2563/5000 (51.26%)\n",
      "\n",
      "--Skipping Acc Comp For Corrupted Data--\n",
      "Global Sparsity: 95.10% \n",
      "\n",
      "---------- Pruning Iteration:  31 / 44\n"
     ]
    },
    {
     "name": "stderr",
     "output_type": "stream",
     "text": [
      "Loss=0.45005330443382263 Batch_id=195 Accuracy=89.59: 100%|██████████| 196/196 [01:16<00:00,  2.55it/s]\n",
      "Loss=0.4539724886417389 Batch_id=195 Accuracy=89.63: 100%|██████████| 196/196 [01:16<00:00,  2.55it/s] \n",
      "Loss=0.4308806359767914 Batch_id=195 Accuracy=90.05: 100%|██████████| 196/196 [01:16<00:00,  2.55it/s] \n",
      "Loss=0.43874508142471313 Batch_id=195 Accuracy=90.55: 100%|██████████| 196/196 [01:16<00:00,  2.56it/s]\n",
      "Loss=0.3742734491825104 Batch_id=195 Accuracy=90.63: 100%|██████████| 196/196 [01:16<00:00,  2.55it/s] \n",
      "Loss=0.3149418234825134 Batch_id=195 Accuracy=90.93: 100%|██████████| 196/196 [01:16<00:00,  2.55it/s] \n",
      "Loss=0.39802560210227966 Batch_id=195 Accuracy=91.22: 100%|██████████| 196/196 [01:17<00:00,  2.54it/s]\n",
      "Loss=0.29580992460250854 Batch_id=195 Accuracy=91.36: 100%|██████████| 196/196 [01:16<00:00,  2.56it/s]\n",
      "Loss=0.2791276276111603 Batch_id=195 Accuracy=91.47: 100%|██████████| 196/196 [01:16<00:00,  2.56it/s] \n",
      "Loss=0.4091644883155823 Batch_id=195 Accuracy=91.69: 100%|██████████| 196/196 [01:16<00:00,  2.56it/s] \n"
     ]
    },
    {
     "name": "stdout",
     "output_type": "stream",
     "text": [
      "Test set: Average loss: 2.8087, Accuracy: 2404/5000 (48.08%)\n",
      "\n",
      "--Skipping Acc Comp For Corrupted Data--\n",
      "Global Sparsity: 95.52% \n",
      "\n",
      "---------- Pruning Iteration:  32 / 44\n"
     ]
    },
    {
     "name": "stderr",
     "output_type": "stream",
     "text": [
      "Loss=0.5038792490959167 Batch_id=195 Accuracy=87.78: 100%|██████████| 196/196 [01:16<00:00,  2.55it/s] \n",
      "Loss=0.4662122130393982 Batch_id=195 Accuracy=88.40: 100%|██████████| 196/196 [01:16<00:00,  2.55it/s] \n",
      "Loss=0.4489622712135315 Batch_id=195 Accuracy=89.05: 100%|██████████| 196/196 [01:16<00:00,  2.55it/s] \n",
      "Loss=0.41399940848350525 Batch_id=195 Accuracy=89.53: 100%|██████████| 196/196 [01:16<00:00,  2.55it/s]\n",
      "Loss=0.5882012844085693 Batch_id=195 Accuracy=89.48: 100%|██████████| 196/196 [01:16<00:00,  2.55it/s] \n",
      "Loss=0.37136390805244446 Batch_id=195 Accuracy=89.97: 100%|██████████| 196/196 [01:16<00:00,  2.55it/s]\n",
      "Loss=0.438433974981308 Batch_id=195 Accuracy=90.19: 100%|██████████| 196/196 [01:16<00:00,  2.55it/s]  \n",
      "Loss=0.4331836700439453 Batch_id=195 Accuracy=90.25: 100%|██████████| 196/196 [01:16<00:00,  2.55it/s] \n",
      "Loss=0.2894325852394104 Batch_id=195 Accuracy=90.21: 100%|██████████| 196/196 [01:16<00:00,  2.55it/s] \n",
      "Loss=0.358428418636322 Batch_id=195 Accuracy=90.51: 100%|██████████| 196/196 [01:16<00:00,  2.55it/s]  \n"
     ]
    },
    {
     "name": "stdout",
     "output_type": "stream",
     "text": [
      "Test set: Average loss: 2.7816, Accuracy: 2398/5000 (47.96%)\n",
      "\n",
      "--Skipping Acc Comp For Corrupted Data--\n",
      "Global Sparsity: 95.90% \n",
      "\n",
      "---------- Pruning Iteration:  33 / 44\n"
     ]
    },
    {
     "name": "stderr",
     "output_type": "stream",
     "text": [
      "Loss=0.5965855717658997 Batch_id=195 Accuracy=86.21: 100%|██████████| 196/196 [01:16<00:00,  2.55it/s] \n",
      "Loss=0.488476037979126 Batch_id=195 Accuracy=86.95: 100%|██████████| 196/196 [01:16<00:00,  2.57it/s]  \n",
      "Loss=0.3880665898323059 Batch_id=195 Accuracy=87.61: 100%|██████████| 196/196 [01:16<00:00,  2.56it/s] \n",
      "Loss=0.4635040760040283 Batch_id=195 Accuracy=88.07: 100%|██████████| 196/196 [01:16<00:00,  2.56it/s] \n",
      "Loss=0.3985465168952942 Batch_id=195 Accuracy=88.31: 100%|██████████| 196/196 [01:17<00:00,  2.54it/s] \n",
      "Loss=0.46184712648391724 Batch_id=195 Accuracy=88.68: 100%|██████████| 196/196 [01:17<00:00,  2.54it/s]\n"
     ]
    },
    {
     "name": "stdout",
     "output_type": "stream",
     "text": [
      "Epoch 00006: reducing learning rate of group 0 to 5.0000e-04.\n"
     ]
    },
    {
     "name": "stderr",
     "output_type": "stream",
     "text": [
      "Loss=0.32637202739715576 Batch_id=195 Accuracy=92.64: 100%|██████████| 196/196 [01:16<00:00,  2.56it/s]\n",
      "Loss=0.24342015385627747 Batch_id=195 Accuracy=94.07: 100%|██████████| 196/196 [01:16<00:00,  2.56it/s]\n",
      "Loss=0.28679004311561584 Batch_id=195 Accuracy=94.71: 100%|██████████| 196/196 [01:17<00:00,  2.54it/s]\n",
      "Loss=0.2402862310409546 Batch_id=195 Accuracy=94.98: 100%|██████████| 196/196 [01:16<00:00,  2.55it/s] \n"
     ]
    },
    {
     "name": "stdout",
     "output_type": "stream",
     "text": [
      "Test set: Average loss: 2.5918, Accuracy: 2526/5000 (50.52%)\n",
      "\n",
      "--Skipping Acc Comp For Corrupted Data--\n",
      "Global Sparsity: 96.24% \n",
      "\n",
      "---------- Pruning Iteration:  34 / 44\n"
     ]
    },
    {
     "name": "stderr",
     "output_type": "stream",
     "text": [
      "Loss=0.6287958025932312 Batch_id=195 Accuracy=84.72: 100%|██████████| 196/196 [01:16<00:00,  2.55it/s] \n",
      "Loss=0.713576078414917 Batch_id=195 Accuracy=84.95: 100%|██████████| 196/196 [01:16<00:00,  2.55it/s]  \n",
      "Loss=0.6520477533340454 Batch_id=195 Accuracy=85.30: 100%|██████████| 196/196 [01:16<00:00,  2.55it/s] \n",
      "Loss=0.5608042478561401 Batch_id=195 Accuracy=85.85: 100%|██████████| 196/196 [01:17<00:00,  2.54it/s] \n",
      "Loss=0.5721890926361084 Batch_id=195 Accuracy=86.23: 100%|██████████| 196/196 [01:17<00:00,  2.54it/s] \n",
      "Loss=0.5335817337036133 Batch_id=195 Accuracy=86.25: 100%|██████████| 196/196 [01:17<00:00,  2.54it/s] \n",
      "Loss=0.5248280763626099 Batch_id=195 Accuracy=86.89: 100%|██████████| 196/196 [01:16<00:00,  2.55it/s] \n",
      "Loss=0.4612364172935486 Batch_id=195 Accuracy=86.87: 100%|██████████| 196/196 [01:16<00:00,  2.55it/s] \n",
      "Loss=0.39411240816116333 Batch_id=195 Accuracy=86.98: 100%|██████████| 196/196 [01:16<00:00,  2.55it/s]\n",
      "Loss=0.4893868565559387 Batch_id=195 Accuracy=87.31: 100%|██████████| 196/196 [01:17<00:00,  2.54it/s] \n"
     ]
    },
    {
     "name": "stdout",
     "output_type": "stream",
     "text": [
      "Test set: Average loss: 2.8368, Accuracy: 2338/5000 (46.76%)\n",
      "\n",
      "--Skipping Acc Comp For Corrupted Data--\n",
      "Global Sparsity: 96.55% \n",
      "\n",
      "---------- Pruning Iteration:  35 / 44\n"
     ]
    },
    {
     "name": "stderr",
     "output_type": "stream",
     "text": [
      "Loss=0.5834776163101196 Batch_id=195 Accuracy=81.87: 100%|██████████| 196/196 [01:17<00:00,  2.54it/s]\n",
      "Loss=0.7007325291633606 Batch_id=195 Accuracy=83.31: 100%|██████████| 196/196 [01:16<00:00,  2.56it/s] \n",
      "Loss=0.6921349763870239 Batch_id=195 Accuracy=83.87: 100%|██████████| 196/196 [01:16<00:00,  2.56it/s] \n",
      "Loss=0.8012669682502747 Batch_id=195 Accuracy=84.09: 100%|██████████| 196/196 [01:16<00:00,  2.56it/s] \n"
     ]
    },
    {
     "name": "stdout",
     "output_type": "stream",
     "text": [
      "Epoch 00004: reducing learning rate of group 0 to 5.0000e-04.\n"
     ]
    },
    {
     "name": "stderr",
     "output_type": "stream",
     "text": [
      "Loss=0.464024156332016 Batch_id=195 Accuracy=88.99: 100%|██████████| 196/196 [01:16<00:00,  2.56it/s]  \n",
      "Loss=0.3094770908355713 Batch_id=195 Accuracy=90.75: 100%|██████████| 196/196 [01:16<00:00,  2.56it/s] \n",
      "Loss=0.3407427668571472 Batch_id=195 Accuracy=91.33: 100%|██████████| 196/196 [01:16<00:00,  2.56it/s] \n",
      "Loss=0.4674054980278015 Batch_id=195 Accuracy=91.94: 100%|██████████| 196/196 [01:16<00:00,  2.55it/s] \n",
      "Loss=0.2972806990146637 Batch_id=195 Accuracy=92.25: 100%|██████████| 196/196 [01:16<00:00,  2.56it/s] \n",
      "Loss=0.23201116919517517 Batch_id=195 Accuracy=92.51: 100%|██████████| 196/196 [01:17<00:00,  2.52it/s]\n"
     ]
    },
    {
     "name": "stdout",
     "output_type": "stream",
     "text": [
      "Test set: Average loss: 2.5133, Accuracy: 2499/5000 (49.98%)\n",
      "\n",
      "--Skipping Acc Comp For Corrupted Data--\n",
      "Global Sparsity: 96.82% \n",
      "\n",
      "---------- Pruning Iteration:  36 / 44\n"
     ]
    },
    {
     "name": "stderr",
     "output_type": "stream",
     "text": [
      "Loss=0.6383839845657349 Batch_id=195 Accuracy=79.78: 100%|██████████| 196/196 [01:16<00:00,  2.56it/s]\n",
      "Loss=0.7040653228759766 Batch_id=195 Accuracy=80.07: 100%|██████████| 196/196 [01:16<00:00,  2.55it/s]\n",
      "Loss=0.6343177556991577 Batch_id=195 Accuracy=80.56: 100%|██████████| 196/196 [01:17<00:00,  2.54it/s]\n",
      "Loss=0.7095575928688049 Batch_id=195 Accuracy=81.13: 100%|██████████| 196/196 [01:17<00:00,  2.53it/s]\n",
      "Loss=0.6957598924636841 Batch_id=195 Accuracy=81.38: 100%|██████████| 196/196 [01:16<00:00,  2.55it/s]\n",
      "Loss=0.6589936017990112 Batch_id=195 Accuracy=82.18: 100%|██████████| 196/196 [01:16<00:00,  2.56it/s]\n"
     ]
    },
    {
     "name": "stdout",
     "output_type": "stream",
     "text": [
      "Epoch 00006: reducing learning rate of group 0 to 5.0000e-04.\n"
     ]
    },
    {
     "name": "stderr",
     "output_type": "stream",
     "text": [
      "Loss=0.4539429247379303 Batch_id=195 Accuracy=86.74: 100%|██████████| 196/196 [01:16<00:00,  2.55it/s] \n",
      "Loss=0.28370019793510437 Batch_id=195 Accuracy=88.68: 100%|██████████| 196/196 [01:16<00:00,  2.55it/s]\n",
      "Loss=0.38422495126724243 Batch_id=195 Accuracy=89.30: 100%|██████████| 196/196 [01:16<00:00,  2.55it/s]\n",
      "Loss=0.41378888487815857 Batch_id=195 Accuracy=89.88: 100%|██████████| 196/196 [01:16<00:00,  2.55it/s]\n"
     ]
    },
    {
     "name": "stdout",
     "output_type": "stream",
     "text": [
      "Test set: Average loss: 2.5024, Accuracy: 2484/5000 (49.68%)\n",
      "\n",
      "--Skipping Acc Comp For Corrupted Data--\n",
      "Global Sparsity: 97.07% \n",
      "\n",
      "---------- Pruning Iteration:  37 / 44\n"
     ]
    },
    {
     "name": "stderr",
     "output_type": "stream",
     "text": [
      "Loss=0.8898892402648926 Batch_id=195 Accuracy=77.47: 100%|██████████| 196/196 [01:16<00:00,  2.55it/s]\n",
      "Loss=0.8215554356575012 Batch_id=195 Accuracy=77.66: 100%|██████████| 196/196 [01:16<00:00,  2.55it/s]\n",
      "Loss=0.6997469067573547 Batch_id=195 Accuracy=78.21: 100%|██████████| 196/196 [01:16<00:00,  2.55it/s]\n",
      "Loss=1.0144164562225342 Batch_id=195 Accuracy=79.31: 100%|██████████| 196/196 [01:16<00:00,  2.55it/s]\n",
      "Loss=0.7970274686813354 Batch_id=195 Accuracy=79.29: 100%|██████████| 196/196 [01:16<00:00,  2.55it/s]\n",
      "Loss=0.666523277759552 Batch_id=195 Accuracy=79.72: 100%|██████████| 196/196 [01:17<00:00,  2.54it/s] \n",
      "Loss=0.6743223071098328 Batch_id=195 Accuracy=79.79: 100%|██████████| 196/196 [01:16<00:00,  2.55it/s]\n",
      "Loss=0.7047441005706787 Batch_id=195 Accuracy=79.88: 100%|██████████| 196/196 [01:16<00:00,  2.55it/s]\n",
      "Loss=0.603526771068573 Batch_id=195 Accuracy=80.39: 100%|██████████| 196/196 [01:16<00:00,  2.55it/s] \n",
      "Loss=0.7503265738487244 Batch_id=195 Accuracy=80.38: 100%|██████████| 196/196 [01:16<00:00,  2.55it/s]\n"
     ]
    },
    {
     "name": "stdout",
     "output_type": "stream",
     "text": [
      "Test set: Average loss: 2.6608, Accuracy: 2349/5000 (46.98%)\n",
      "\n",
      "--Skipping Acc Comp For Corrupted Data--\n",
      "Global Sparsity: 97.30% \n",
      "\n",
      "---------- Pruning Iteration:  38 / 44\n"
     ]
    },
    {
     "name": "stderr",
     "output_type": "stream",
     "text": [
      "Loss=0.9158258438110352 Batch_id=195 Accuracy=75.17: 100%|██████████| 196/196 [01:16<00:00,  2.56it/s]\n",
      "Loss=0.9060496091842651 Batch_id=195 Accuracy=76.68: 100%|██████████| 196/196 [01:16<00:00,  2.56it/s]\n",
      "Loss=1.035240888595581 Batch_id=195 Accuracy=77.47: 100%|██████████| 196/196 [01:16<00:00,  2.56it/s] \n",
      "Loss=0.7742246389389038 Batch_id=195 Accuracy=77.54: 100%|██████████| 196/196 [01:16<00:00,  2.56it/s]\n",
      "Loss=0.8992949724197388 Batch_id=195 Accuracy=78.04: 100%|██████████| 196/196 [01:16<00:00,  2.55it/s]\n",
      "Loss=0.7516531348228455 Batch_id=195 Accuracy=78.19: 100%|██████████| 196/196 [01:16<00:00,  2.55it/s]\n",
      "Loss=0.9728063344955444 Batch_id=195 Accuracy=78.17: 100%|██████████| 196/196 [01:17<00:00,  2.54it/s]\n",
      "Loss=0.7504318952560425 Batch_id=195 Accuracy=78.42: 100%|██████████| 196/196 [01:16<00:00,  2.56it/s]\n",
      "Loss=0.803043007850647 Batch_id=195 Accuracy=78.66: 100%|██████████| 196/196 [01:16<00:00,  2.56it/s] \n",
      "Loss=0.9739285707473755 Batch_id=195 Accuracy=78.74: 100%|██████████| 196/196 [01:16<00:00,  2.56it/s]\n"
     ]
    },
    {
     "name": "stdout",
     "output_type": "stream",
     "text": [
      "Test set: Average loss: 2.6319, Accuracy: 2363/5000 (47.26%)\n",
      "\n",
      "--Skipping Acc Comp For Corrupted Data--\n",
      "Global Sparsity: 97.50% \n",
      "\n",
      "---------- Pruning Iteration:  39 / 44\n"
     ]
    },
    {
     "name": "stderr",
     "output_type": "stream",
     "text": [
      "Loss=0.8169313669204712 Batch_id=195 Accuracy=73.31: 100%|██████████| 196/196 [01:16<00:00,  2.55it/s]\n",
      "Loss=1.0344566106796265 Batch_id=195 Accuracy=74.73: 100%|██████████| 196/196 [01:16<00:00,  2.55it/s]\n",
      "Loss=0.9517752528190613 Batch_id=195 Accuracy=75.40: 100%|██████████| 196/196 [01:16<00:00,  2.55it/s]\n",
      "Loss=0.8049077987670898 Batch_id=195 Accuracy=75.71: 100%|██████████| 196/196 [01:16<00:00,  2.56it/s]\n",
      "Loss=0.9607580900192261 Batch_id=195 Accuracy=75.83: 100%|██████████| 196/196 [01:17<00:00,  2.54it/s]\n",
      "Loss=0.7558308839797974 Batch_id=195 Accuracy=76.15: 100%|██████████| 196/196 [01:17<00:00,  2.54it/s]\n",
      "Loss=0.7694376707077026 Batch_id=195 Accuracy=76.67: 100%|██████████| 196/196 [01:17<00:00,  2.54it/s]\n",
      "Loss=0.9690183401107788 Batch_id=195 Accuracy=76.55: 100%|██████████| 196/196 [01:16<00:00,  2.56it/s]\n",
      "Loss=0.7229815125465393 Batch_id=195 Accuracy=76.85: 100%|██████████| 196/196 [01:16<00:00,  2.56it/s]\n",
      "Loss=0.8391095399856567 Batch_id=195 Accuracy=77.08: 100%|██████████| 196/196 [01:16<00:00,  2.56it/s]\n"
     ]
    },
    {
     "name": "stdout",
     "output_type": "stream",
     "text": [
      "Test set: Average loss: 2.6119, Accuracy: 2337/5000 (46.74%)\n",
      "\n",
      "--Skipping Acc Comp For Corrupted Data--\n",
      "Global Sparsity: 97.68% \n",
      "\n",
      "---------- Pruning Iteration:  40 / 44\n"
     ]
    },
    {
     "name": "stderr",
     "output_type": "stream",
     "text": [
      "Loss=1.1608208417892456 Batch_id=195 Accuracy=71.82: 100%|██████████| 196/196 [01:17<00:00,  2.54it/s]\n",
      "Loss=1.0657415390014648 Batch_id=195 Accuracy=72.92: 100%|██████████| 196/196 [01:16<00:00,  2.57it/s]\n",
      "Loss=1.0123653411865234 Batch_id=195 Accuracy=73.42: 100%|██████████| 196/196 [01:16<00:00,  2.56it/s]\n",
      "Loss=1.097759485244751 Batch_id=195 Accuracy=73.81: 100%|██████████| 196/196 [01:16<00:00,  2.55it/s] \n",
      "Loss=0.9946104884147644 Batch_id=195 Accuracy=74.07: 100%|██████████| 196/196 [01:16<00:00,  2.55it/s]\n",
      "Loss=0.8766481280326843 Batch_id=195 Accuracy=74.47: 100%|██████████| 196/196 [01:16<00:00,  2.55it/s]\n",
      "Loss=0.8334094882011414 Batch_id=195 Accuracy=74.53: 100%|██████████| 196/196 [01:17<00:00,  2.54it/s]\n",
      "Loss=0.8405665159225464 Batch_id=195 Accuracy=74.68: 100%|██████████| 196/196 [01:17<00:00,  2.54it/s]\n",
      "Loss=0.907937228679657 Batch_id=195 Accuracy=74.75: 100%|██████████| 196/196 [01:17<00:00,  2.54it/s] \n",
      "Loss=1.0112359523773193 Batch_id=195 Accuracy=74.82: 100%|██████████| 196/196 [01:16<00:00,  2.55it/s]"
     ]
    },
    {
     "name": "stdout",
     "output_type": "stream",
     "text": [
      "Epoch 00010: reducing learning rate of group 0 to 5.0000e-04.\n"
     ]
    },
    {
     "name": "stderr",
     "output_type": "stream",
     "text": [
      "\n"
     ]
    },
    {
     "name": "stdout",
     "output_type": "stream",
     "text": [
      "Test set: Average loss: 2.6096, Accuracy: 2322/5000 (46.44%)\n",
      "\n",
      "--Skipping Acc Comp For Corrupted Data--\n",
      "Global Sparsity: 97.84% \n",
      "\n",
      "---------- Pruning Iteration:  41 / 44\n"
     ]
    },
    {
     "name": "stderr",
     "output_type": "stream",
     "text": [
      "Loss=0.9617894291877747 Batch_id=195 Accuracy=69.71: 100%|██████████| 196/196 [01:16<00:00,  2.55it/s]\n",
      "Loss=1.0437209606170654 Batch_id=195 Accuracy=71.02: 100%|██████████| 196/196 [01:16<00:00,  2.55it/s]\n",
      "Loss=0.8825861215591431 Batch_id=195 Accuracy=71.71: 100%|██████████| 196/196 [01:16<00:00,  2.55it/s]\n",
      "Loss=1.0211758613586426 Batch_id=195 Accuracy=72.01: 100%|██████████| 196/196 [01:16<00:00,  2.56it/s]\n",
      "Loss=1.0535292625427246 Batch_id=195 Accuracy=72.14: 100%|██████████| 196/196 [01:16<00:00,  2.55it/s]\n",
      "Loss=1.238519310951233 Batch_id=195 Accuracy=72.20: 100%|██████████| 196/196 [01:17<00:00,  2.54it/s] \n"
     ]
    },
    {
     "name": "stdout",
     "output_type": "stream",
     "text": [
      "Epoch 00006: reducing learning rate of group 0 to 5.0000e-04.\n"
     ]
    },
    {
     "name": "stderr",
     "output_type": "stream",
     "text": [
      "Loss=0.9647882580757141 Batch_id=195 Accuracy=77.08: 100%|██████████| 196/196 [01:17<00:00,  2.54it/s]\n",
      "Loss=0.7664405107498169 Batch_id=195 Accuracy=78.53: 100%|██████████| 196/196 [01:17<00:00,  2.54it/s]\n",
      "Loss=0.8974844813346863 Batch_id=195 Accuracy=79.28: 100%|██████████| 196/196 [01:16<00:00,  2.55it/s]\n",
      "Loss=0.8668464422225952 Batch_id=195 Accuracy=79.64: 100%|██████████| 196/196 [01:16<00:00,  2.55it/s]\n"
     ]
    },
    {
     "name": "stdout",
     "output_type": "stream",
     "text": [
      "Test set: Average loss: 2.3536, Accuracy: 2489/5000 (49.78%)\n",
      "\n",
      "--Skipping Acc Comp For Corrupted Data--\n",
      "Global Sparsity: 97.99% \n",
      "\n",
      "---------- Pruning Iteration:  42 / 44\n"
     ]
    },
    {
     "name": "stderr",
     "output_type": "stream",
     "text": [
      "Loss=1.320518970489502 Batch_id=195 Accuracy=68.00: 100%|██████████| 196/196 [01:17<00:00,  2.55it/s] \n",
      "Loss=1.2215964794158936 Batch_id=195 Accuracy=68.58: 100%|██████████| 196/196 [01:16<00:00,  2.55it/s]\n",
      "Loss=1.2612773180007935 Batch_id=195 Accuracy=69.02: 100%|██████████| 196/196 [01:16<00:00,  2.55it/s]\n",
      "Loss=1.1197803020477295 Batch_id=195 Accuracy=69.54: 100%|██████████| 196/196 [01:16<00:00,  2.56it/s]\n",
      "Loss=1.1344099044799805 Batch_id=195 Accuracy=69.95: 100%|██████████| 196/196 [01:16<00:00,  2.55it/s]\n",
      "Loss=1.0699143409729004 Batch_id=195 Accuracy=69.80: 100%|██████████| 196/196 [01:16<00:00,  2.55it/s]\n",
      "Loss=0.9855817556381226 Batch_id=195 Accuracy=70.14: 100%|██████████| 196/196 [01:16<00:00,  2.56it/s]\n",
      "Loss=1.1080957651138306 Batch_id=195 Accuracy=70.26: 100%|██████████| 196/196 [01:16<00:00,  2.55it/s]\n",
      "Loss=1.275895595550537 Batch_id=195 Accuracy=70.19: 100%|██████████| 196/196 [01:16<00:00,  2.55it/s] \n",
      "Loss=1.0169627666473389 Batch_id=195 Accuracy=70.45: 100%|██████████| 196/196 [01:17<00:00,  2.54it/s]"
     ]
    },
    {
     "name": "stdout",
     "output_type": "stream",
     "text": [
      "Epoch 00010: reducing learning rate of group 0 to 5.0000e-04.\n"
     ]
    },
    {
     "name": "stderr",
     "output_type": "stream",
     "text": [
      "\n"
     ]
    },
    {
     "name": "stdout",
     "output_type": "stream",
     "text": [
      "Test set: Average loss: 2.5299, Accuracy: 2324/5000 (46.48%)\n",
      "\n",
      "--Skipping Acc Comp For Corrupted Data--\n",
      "Global Sparsity: 98.12% \n",
      "\n",
      "---------- Pruning Iteration:  43 / 44\n"
     ]
    },
    {
     "name": "stderr",
     "output_type": "stream",
     "text": [
      "Loss=1.1940165758132935 Batch_id=195 Accuracy=65.42: 100%|██████████| 196/196 [01:16<00:00,  2.55it/s]\n",
      "Loss=1.2002230882644653 Batch_id=195 Accuracy=66.90: 100%|██████████| 196/196 [01:16<00:00,  2.55it/s]\n",
      "Loss=1.0798197984695435 Batch_id=195 Accuracy=67.32: 100%|██████████| 196/196 [01:16<00:00,  2.55it/s]\n",
      "Loss=1.1971619129180908 Batch_id=195 Accuracy=67.52: 100%|██████████| 196/196 [01:17<00:00,  2.54it/s]\n",
      "Loss=1.1921268701553345 Batch_id=195 Accuracy=68.21: 100%|██████████| 196/196 [01:17<00:00,  2.54it/s]\n",
      "Loss=1.4062880277633667 Batch_id=195 Accuracy=68.17: 100%|██████████| 196/196 [01:17<00:00,  2.54it/s]\n"
     ]
    },
    {
     "name": "stdout",
     "output_type": "stream",
     "text": [
      "Epoch 00006: reducing learning rate of group 0 to 5.0000e-04.\n"
     ]
    },
    {
     "name": "stderr",
     "output_type": "stream",
     "text": [
      "Loss=0.7944420576095581 Batch_id=195 Accuracy=72.40: 100%|██████████| 196/196 [01:17<00:00,  2.54it/s]\n",
      "Loss=1.0271341800689697 Batch_id=195 Accuracy=73.68: 100%|██████████| 196/196 [01:16<00:00,  2.55it/s]\n",
      "Loss=0.6948063373565674 Batch_id=195 Accuracy=74.49: 100%|██████████| 196/196 [01:16<00:00,  2.55it/s]\n",
      "Loss=0.8173552751541138 Batch_id=195 Accuracy=74.79: 100%|██████████| 196/196 [01:16<00:00,  2.55it/s]\n"
     ]
    },
    {
     "name": "stdout",
     "output_type": "stream",
     "text": [
      "Test set: Average loss: 2.3222, Accuracy: 2453/5000 (49.06%)\n",
      "\n",
      "--Skipping Acc Comp For Corrupted Data--\n",
      "Global Sparsity: 98.24% \n",
      "\n",
      "---------- Pruning Iteration:  44 / 44\n"
     ]
    },
    {
     "name": "stderr",
     "output_type": "stream",
     "text": [
      "Loss=1.155450463294983 Batch_id=195 Accuracy=63.86: 100%|██████████| 196/196 [01:16<00:00,  2.55it/s] \n",
      "Loss=1.455341100692749 Batch_id=195 Accuracy=64.65: 100%|██████████| 196/196 [01:17<00:00,  2.54it/s] \n",
      "Loss=1.3550204038619995 Batch_id=195 Accuracy=65.06: 100%|██████████| 196/196 [01:17<00:00,  2.54it/s]\n",
      "Loss=1.300278663635254 Batch_id=195 Accuracy=65.32: 100%|██████████| 196/196 [01:17<00:00,  2.53it/s] \n"
     ]
    },
    {
     "name": "stdout",
     "output_type": "stream",
     "text": [
      "Epoch 00004: reducing learning rate of group 0 to 5.0000e-04.\n"
     ]
    },
    {
     "name": "stderr",
     "output_type": "stream",
     "text": [
      "Loss=1.1549475193023682 Batch_id=195 Accuracy=69.58: 100%|██████████| 196/196 [01:16<00:00,  2.55it/s]\n",
      "Loss=1.133457899093628 Batch_id=195 Accuracy=71.14: 100%|██████████| 196/196 [01:17<00:00,  2.54it/s] \n",
      "Loss=1.0343396663665771 Batch_id=195 Accuracy=71.31: 100%|██████████| 196/196 [01:16<00:00,  2.55it/s]\n",
      "Loss=1.0118805170059204 Batch_id=195 Accuracy=71.58: 100%|██████████| 196/196 [01:16<00:00,  2.55it/s]\n",
      "Loss=0.9610400199890137 Batch_id=195 Accuracy=72.07: 100%|██████████| 196/196 [01:16<00:00,  2.55it/s]\n",
      "Loss=1.1580064296722412 Batch_id=195 Accuracy=72.31: 100%|██████████| 196/196 [01:16<00:00,  2.56it/s]\n"
     ]
    },
    {
     "name": "stdout",
     "output_type": "stream",
     "text": [
      "Test set: Average loss: 2.2871, Accuracy: 2463/5000 (49.26%)\n",
      "\n",
      "--Testing Corruptions--\n"
     ]
    },
    {
     "name": "stderr",
     "output_type": "stream",
     "text": [
      "100%|██████████| 19/19 [08:38<00:00, 27.30s/it]"
     ]
    },
    {
     "name": "stdout",
     "output_type": "stream",
     "text": [
      "\n",
      "Avg Corruption Accuracy: 21.47%\n",
      "Global Sparsity: 98.35% \n",
      "\n"
     ]
    },
    {
     "name": "stderr",
     "output_type": "stream",
     "text": [
      "\n"
     ]
    }
   ],
   "source": [
    "#VGG16\n",
    "model=copy.deepcopy(VGG16_TINYIMAGENET_0P)\n",
    "TrainLoader=trainloader_TINYIMAGENET\n",
    "TestLoader=testloader_TINYIMAGENET\n",
    "TestCLoader=TiniyImageNetCLevel_Loader\n",
    "PruningRate=0.1\n",
    "NumEpochsEachPruneRetrain=10\n",
    "MaximumPruneLevel=0.01\n",
    "\n",
    "SaveTrainStepsName=\"Progress/PruningIterations_VGG16_IMAGENET_01PR_10Epochs_L2_0005\"\n",
    "\n",
    "ReadMe=\"This model is running pruning with the standard cost function, and the non corrupted dataset, a prunning rate of 0.1 and 10 epoch of retraining\\\n",
    "L2 Regularization of 0.0005 is used\\n\\nOriginal Model: VGG16 Trained with TINY-IMAGENET Dataset\"\n",
    "\n",
    "test_acc, Avg_Corrup_Acc_List, Acc_Corruptions, RemainingWeights_List, Sparcity_List=iterative_pruning(model,device, TrainLoader, TestLoader, TestCLoader, PruningRate, SaveTrainStepsName,ReadMe,\n",
    "                                                                                                        lambda_l1, lambda_l2, NumEpochsEachPruneRetrain,MaximumPruneLevel)"
   ]
  }
 ],
 "metadata": {
  "kernelspec": {
   "display_name": "pytorch",
   "language": "python",
   "name": "python3"
  },
  "language_info": {
   "codemirror_mode": {
    "name": "ipython",
    "version": 3
   },
   "file_extension": ".py",
   "mimetype": "text/x-python",
   "name": "python",
   "nbconvert_exporter": "python",
   "pygments_lexer": "ipython3",
   "version": "3.11.6"
  }
 },
 "nbformat": 4,
 "nbformat_minor": 2
}
