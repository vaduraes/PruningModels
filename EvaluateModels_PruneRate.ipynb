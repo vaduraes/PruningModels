{
 "cells": [
  {
   "cell_type": "code",
   "execution_count": 1,
   "metadata": {},
   "outputs": [],
   "source": [
    "import torch\n",
    "import torch.nn as nn\n",
    "import torch.optim as optim\n",
    "from torch.optim.lr_scheduler import StepLR, ReduceLROnPlateau\n",
    "import torch.nn.functional as F\n",
    "\n",
    "\n",
    "import torchvision\n",
    "from torchvision.models import resnet18, ResNet18_Weights, vgg16, VGG16_Weights\n",
    "from torchvision import datasets\n",
    "from torchvision import transforms\n",
    "\n",
    "from tqdm import tqdm\n",
    "import numpy as np\n",
    "import matplotlib.pyplot as plt\n",
    "\n",
    "\n",
    "import os\n",
    "import sys\n",
    "import copy\n",
    "from torchsummary import summary\n",
    "\n",
    "\n",
    "# from google.colab import drive\n",
    "# drive.mount('/content/drive')\n",
    "# #Code folder path\n",
    "# %cd /content/drive/My Drive/ECE591_DL_CL_PROJECT/\n",
    "\n",
    "#device config\n",
    "torch.cuda.set_device(1)#Select GPU device 1\n",
    "device=torch.device(\"cuda\" if torch.cuda.is_available() else \"cpu\")\n",
    "\n",
    "#Get Packages\n",
    "sys.path.append('./Tools')\n",
    "\n",
    "#Network architectures\n",
    "from ResNet18_CIFAR10 import ResNet18_CIFAR10_Model\n",
    "from ResNet18_TINYIMAGENET import ResNet18_TINYIMAGENET_Model\n",
    "from VGG16_CIFAR10 import VGG16_CIFAR10_Model\n",
    "from VGG16_TINYIMAGENET import VGG16_TINYIMAGENET_Model\n",
    "\n",
    "#Non Corrupted DataLoaders\n",
    "from CIFAR10_LOADER import CIFAR10DataLoader\n",
    "from TINYIMAGENET_LOADER import TINYIMAGENETDataLoader\n",
    "\n",
    "#Non Corrupted DataLoaders\n",
    "from CIFAR10C_LOADER import CIFAR10C_DataLoader #Each Corruption is a entry in the dictionary\n",
    "from TINYIMAGENET_C_LOADER import TinyImagenetC_DataLoader #Each Corruption is a entry in the dictionary\n",
    "\n",
    "#Error Metrics\n",
    "from ErrorMetrics import Evaluate_Model_TOP1\n",
    "from GeneralPruning import iterative_pruning\n"
   ]
  },
  {
   "cell_type": "markdown",
   "metadata": {},
   "source": [
    "# Unpruned Models"
   ]
  },
  {
   "cell_type": "code",
   "execution_count": 2,
   "metadata": {},
   "outputs": [
    {
     "data": {
      "text/plain": [
       "<All keys matched successfully>"
      ]
     },
     "execution_count": 2,
     "metadata": {},
     "output_type": "execute_result"
    }
   ],
   "source": [
    "#Network weights\n",
    "ResNet18_CIFAR10_Weights= torch.load(\"./Networks/ResNet18_CIFAR10_V0.pt\")\n",
    "ResNet18_TINYIMAGENET_Weights=torch.load(\"./Networks/ResNet18_TINY_IMAGENET_V0.pt\")\n",
    "VGG16_CIFAR10_Weights=torch.load(\"./Networks/VGG16_CIFAR10_V0.pt\")\n",
    "VGG16_TINYIMAGENET_Weights=torch.load(\"./Networks/VGG16_TINY_IMAGENET_V0.pt\")\n",
    "\n",
    "#Unpruned Models\n",
    "ResNet18_CIFAR10_0P=ResNet18_CIFAR10_Model()\n",
    "ResNet18_CIFAR10_0P.load_state_dict(ResNet18_CIFAR10_Weights)\n",
    "\n",
    "ResNet18_TINYIMAGENET_0P=ResNet18_TINYIMAGENET_Model()\n",
    "ResNet18_TINYIMAGENET_0P.load_state_dict(ResNet18_TINYIMAGENET_Weights)\n",
    "\n",
    "VGG16_CIFAR10_0P=VGG16_CIFAR10_Model()\n",
    "VGG16_CIFAR10_0P.load_state_dict(VGG16_CIFAR10_Weights)\n",
    "\n",
    "VGG16_TINYIMAGENET_0P=VGG16_TINYIMAGENET_Model()\n",
    "VGG16_TINYIMAGENET_0P.load_state_dict(VGG16_TINYIMAGENET_Weights)\n"
   ]
  },
  {
   "cell_type": "markdown",
   "metadata": {},
   "source": [
    "# Load Datasets"
   ]
  },
  {
   "cell_type": "code",
   "execution_count": 3,
   "metadata": {},
   "outputs": [
    {
     "name": "stdout",
     "output_type": "stream",
     "text": [
      "Files already downloaded and verified\n",
      "Files already downloaded and verified\n"
     ]
    }
   ],
   "source": [
    "from unittest import loader\n",
    "\n",
    "Times=5\n",
    "trainloader_CIFAR10, testloader_CIFAR10=CIFAR10DataLoader(batch_size=512*Times) #Load Data for CIFAR10\n",
    "loader_CIFAR10C=CIFAR10C_DataLoader(batch_size=512*Times) #Load Data for CIFAR10C\n",
    "\n",
    "Times=1\n",
    "trainloader_TINYIMAGENET, testloader_TINYIMAGENET=TINYIMAGENETDataLoader(NPZ=True,batch_size=512*Times) #Load Data for TINYIMAGENET\n",
    "loader_TinyImagenetC=TinyImagenetC_DataLoader(NPZ=True,batch_size=512*Times) #Load Data for TINYIMAGENETC"
   ]
  },
  {
   "cell_type": "markdown",
   "metadata": {},
   "source": [
    "# CIFAR 10"
   ]
  },
  {
   "cell_type": "markdown",
   "metadata": {},
   "source": [
    "## Check Effect of Pruning Rate"
   ]
  },
  {
   "cell_type": "code",
   "execution_count": null,
   "metadata": {},
   "outputs": [],
   "source": [
    "#RestNet18\n",
    "model=copy.deepcopy(ResNet18_CIFAR10_0P)\n",
    "TrainLoader=trainloader_CIFAR10\n",
    "TestLoader=testloader_CIFAR10\n",
    "TestCLoader=loader_CIFAR10C\n",
    "PruningRate=0.5\n",
    "NumEpochsEachPruneRetrain=10\n",
    "MaximumPruneLevel=0.01\n",
    "\n",
    "SaveTrainStepsName=\"Progress/PruningIterations_ResNet18_CIFAR_05PR_10Epochs\"\n",
    "\n",
    "\n",
    "ReadMe=\"This model is running pruning with the standard cost function, and the non corrupted dataset, a prunning rate of 0.5 and 10 epoch of retraining\\\n",
    " \\nOriginal Model: ResNet18 Trained with CIFAR10 Dataset\"\n",
    "\n",
    "test_acc, Avg_Corrup_Acc_List, Acc_Corruptions, RemainingWeights_List, Sparcity_List=iterative_pruning(model,device, TrainLoader, TestLoader, TestCLoader, PruningRate, SaveTrainStepsName,ReadMe, NumEpochsEachPruneRetrain,MaximumPruneLevel)"
   ]
  },
  {
   "cell_type": "code",
   "execution_count": null,
   "metadata": {},
   "outputs": [],
   "source": [
    "#RestNet18\n",
    "model=copy.deepcopy(ResNet18_CIFAR10_0P)\n",
    "TrainLoader=trainloader_CIFAR10\n",
    "TestLoader=testloader_CIFAR10\n",
    "TestCLoader=loader_CIFAR10C\n",
    "PruningRate=0.25\n",
    "NumEpochsEachPruneRetrain=10\n",
    "MaximumPruneLevel=0.01\n",
    "\n",
    "SaveTrainStepsName=\"Progress/PruningIterations_ResNet18_CIFAR_025PR_10Epochs\"\n",
    "\n",
    "\n",
    "ReadMe=\"This model is running pruning with the standard cost function, and the non corrupted dataset, a prunning rate of 0.25 and 10 epoch of retraining\\\n",
    " \\nOriginal Model: ResNet18 Trained with CIFAR10 Dataset\"\n",
    "\n",
    "test_acc, Avg_Corrup_Acc_List, Acc_Corruptions, RemainingWeights_List, Sparcity_List=iterative_pruning(model,device, TrainLoader, TestLoader, TestCLoader, PruningRate, SaveTrainStepsName,ReadMe, NumEpochsEachPruneRetrain,MaximumPruneLevel)\n"
   ]
  },
  {
   "cell_type": "code",
   "execution_count": null,
   "metadata": {},
   "outputs": [],
   "source": [
    "#RestNet18\n",
    "model=copy.deepcopy(ResNet18_CIFAR10_0P)\n",
    "TrainLoader=trainloader_CIFAR10\n",
    "TestLoader=testloader_CIFAR10\n",
    "TestCLoader=loader_CIFAR10C\n",
    "PruningRate=0.1\n",
    "NumEpochsEachPruneRetrain=10\n",
    "MaximumPruneLevel=0.01\n",
    "\n",
    "SaveTrainStepsName=\"Progress/PruningIterations_ResNet18_CIFAR_01PR_10Epochs\"\n",
    "\n",
    "\n",
    "ReadMe=\"This model is running pruning with the standard cost function, and the non corrupted dataset, a prunning rate of 0.1 and 10 epoch of retraining\\\n",
    " \\nOriginal Model: ResNet18 Trained with CIFAR10 Dataset\"\n",
    "\n",
    "test_acc, Avg_Corrup_Acc_List, Acc_Corruptions, RemainingWeights_List, Sparcity_List=iterative_pruning(model,device, TrainLoader, TestLoader, TestCLoader, PruningRate, SaveTrainStepsName,ReadMe, NumEpochsEachPruneRetrain,MaximumPruneLevel)\n"
   ]
  },
  {
   "cell_type": "code",
   "execution_count": null,
   "metadata": {},
   "outputs": [],
   "source": [
    "#RestNet18\n",
    "model=copy.deepcopy(ResNet18_CIFAR10_0P)\n",
    "TrainLoader=trainloader_CIFAR10\n",
    "TestLoader=testloader_CIFAR10\n",
    "TestCLoader=loader_CIFAR10C\n",
    "PruningRate=0.05\n",
    "NumEpochsEachPruneRetrain=10\n",
    "MaximumPruneLevel=0.01\n",
    "\n",
    "SaveTrainStepsName=\"Progress/PruningIterations_ResNet18_CIFAR_001PR_10Epochs\"\n",
    "\n",
    "\n",
    "ReadMe=\"This model is running pruning with the standard cost function, and the non corrupted dataset, a prunning rate of 0.05 and 10 epoch of retraining\\\n",
    " \\nOriginal Model: ResNet18 Trained with CIFAR10 Dataset\"\n",
    "\n",
    "test_acc, Avg_Corrup_Acc_List, Acc_Corruptions, RemainingWeights_List, Sparcity_List=iterative_pruning(model,device, TrainLoader, TestLoader, TestCLoader, PruningRate, SaveTrainStepsName,ReadMe, NumEpochsEachPruneRetrain,MaximumPruneLevel)\n"
   ]
  },
  {
   "cell_type": "code",
   "execution_count": null,
   "metadata": {},
   "outputs": [],
   "source": [
    "#VGG16\n",
    "model=copy.deepcopy(VGG16_CIFAR10_0P)\n",
    "TrainLoader=trainloader_CIFAR10\n",
    "TestLoader=testloader_CIFAR10\n",
    "TestCLoader=loader_CIFAR10C\n",
    "PruningRate=0.5\n",
    "NumEpochsEachPruneRetrain=10\n",
    "MaximumPruneLevel=0.01\n",
    "\n",
    "SaveTrainStepsName=\"Progress/PruningIterations_VGG16_CIFAR_05PR_10Epochs\"\n",
    "\n",
    "\n",
    "ReadMe=\"This model is running pruning with the standard cost function, and the non corrupted dataset, a prunning rate of 0.5 and 10 epoch of retraining\\\n",
    " \\nOriginal Model: VGG16 Trained with CIFAR10 Dataset\"\n",
    "\n",
    "test_acc, Avg_Corrup_Acc_List, Acc_Corruptions, RemainingWeights_List, Sparcity_List=iterative_pruning(model, device, TrainLoader, TestLoader, TestCLoader, PruningRate, SaveTrainStepsName,ReadMe, NumEpochsEachPruneRetrain,MaximumPruneLevel)"
   ]
  },
  {
   "cell_type": "code",
   "execution_count": null,
   "metadata": {},
   "outputs": [],
   "source": [
    "#VGG16\n",
    "model=copy.deepcopy(VGG16_CIFAR10_0P)\n",
    "TrainLoader=trainloader_CIFAR10\n",
    "TestLoader=testloader_CIFAR10\n",
    "TestCLoader=loader_CIFAR10C\n",
    "PruningRate=0.25\n",
    "NumEpochsEachPruneRetrain=10\n",
    "MaximumPruneLevel=0.01\n",
    "\n",
    "SaveTrainStepsName=\"Progress/PruningIterations_VGG16_CIFAR_025PR_10Epochs\"\n",
    "\n",
    "\n",
    "ReadMe=\"This model is running pruning with the standard cost function, and the non corrupted dataset, a prunning rate of 0.25 and 10 epoch of retraining\\\n",
    " \\nOriginal Model: VGG16 Trained with CIFAR10 Dataset\"\n",
    "\n",
    "test_acc, Avg_Corrup_Acc_List, Acc_Corruptions, RemainingWeights_List, Sparcity_List=iterative_pruning(model, device, TrainLoader, TestLoader, TestCLoader, PruningRate, SaveTrainStepsName,ReadMe, NumEpochsEachPruneRetrain,MaximumPruneLevel)"
   ]
  },
  {
   "cell_type": "code",
   "execution_count": null,
   "metadata": {},
   "outputs": [],
   "source": [
    "#VGG16\n",
    "model=copy.deepcopy(VGG16_CIFAR10_0P)\n",
    "TrainLoader=trainloader_CIFAR10\n",
    "TestLoader=testloader_CIFAR10\n",
    "TestCLoader=loader_CIFAR10C\n",
    "PruningRate=0.1\n",
    "NumEpochsEachPruneRetrain=10\n",
    "MaximumPruneLevel=0.01\n",
    "\n",
    "SaveTrainStepsName=\"Progress/PruningIterations_VGG16_CIFAR_01PR_10Epochs\"\n",
    "\n",
    "\n",
    "ReadMe=\"This model is running pruning with the standard cost function, and the non corrupted dataset, a prunning rate of 0.1 and 10 epoch of retraining\\\n",
    " \\nOriginal Model: VGG16 Trained with CIFAR10 Dataset\"\n",
    "\n",
    "test_acc, Avg_Corrup_Acc_List, Acc_Corruptions, RemainingWeights_List, Sparcity_List=iterative_pruning(model,device, TrainLoader, TestLoader, TestCLoader, PruningRate, SaveTrainStepsName,ReadMe, NumEpochsEachPruneRetrain,MaximumPruneLevel)"
   ]
  },
  {
   "cell_type": "markdown",
   "metadata": {},
   "source": [
    "# IMAGENET"
   ]
  },
  {
   "cell_type": "code",
   "execution_count": null,
   "metadata": {},
   "outputs": [],
   "source": [
    "#Choose a corruption level because simulation every level is too much\n",
    "TinyImagenetC_CorruptionClasses=list(loader_TinyImagenetC.keys())\n",
    "TinyImagenetC_CorruptionLevels=list(loader_TinyImagenetC[TinyImagenetC_CorruptionClasses[0]].keys()) #['1', '2', '3', '4', '5']\n",
    "\n",
    "#Choose a level\n",
    "clevel='1'\n",
    "TiniyImageNetCLevel_Loader={}#Filtered for a specifig level of corruption\n",
    "for cname in loader_TinyImagenetC.keys():\n",
    "    TiniyImageNetCLevel_Loader[cname]=loader_TinyImagenetC[cname][clevel]"
   ]
  },
  {
   "cell_type": "markdown",
   "metadata": {},
   "source": [
    "## Check Effect of Pruning Rate"
   ]
  },
  {
   "cell_type": "code",
   "execution_count": null,
   "metadata": {},
   "outputs": [],
   "source": [
    "#RestNet18\n",
    "model=copy.deepcopy(ResNet18_TINYIMAGENET_0P)\n",
    "TrainLoader=trainloader_TINYIMAGENET\n",
    "TestLoader=testloader_TINYIMAGENET\n",
    "TestCLoader=TiniyImageNetCLevel_Loader\n",
    "PruningRate=0.5\n",
    "NumEpochsEachPruneRetrain=10\n",
    "MaximumPruneLevel=0.01\n",
    "\n",
    "SaveTrainStepsName=\"Progress/PruningIterations_ResNet18_IMAGENET_05PR_10Epochs\"\n",
    "\n",
    "\n",
    "ReadMe=\"This model is running pruning with the standard cost function, and the non corrupted dataset, a prunning rate of 0.5 and 10 epoch of retraining\\\n",
    " \\nOriginal Model: ResNet18 Trained with TINY-IMAGENET Dataset\"\n",
    "\n",
    "test_acc, Avg_Corrup_Acc_List, Acc_Corruptions, RemainingWeights_List, Sparcity_List=iterative_pruning(model,device, TrainLoader, TestLoader, TestCLoader, PruningRate, SaveTrainStepsName,ReadMe, NumEpochsEachPruneRetrain,MaximumPruneLevel)\n"
   ]
  },
  {
   "cell_type": "code",
   "execution_count": null,
   "metadata": {},
   "outputs": [],
   "source": [
    "#RestNet18\n",
    "model=copy.deepcopy(ResNet18_TINYIMAGENET_0P)\n",
    "TrainLoader=trainloader_TINYIMAGENET\n",
    "TestLoader=testloader_TINYIMAGENET\n",
    "TestCLoader=TiniyImageNetCLevel_Loader\n",
    "PruningRate=0.25\n",
    "NumEpochsEachPruneRetrain=10\n",
    "MaximumPruneLevel=0.01\n",
    "\n",
    "SaveTrainStepsName=\"Progress/PruningIterations_ResNet18_IMAGENET_025PR_10Epochs\"\n",
    "\n",
    "\n",
    "ReadMe=\"This model is running pruning with the standard cost function, and the non corrupted dataset, a prunning rate of 0.25 and 10 epoch of retraining\\\n",
    " \\nOriginal Model: ResNet18 Trained with TINY-IMAGENET Dataset\"\n",
    "\n",
    "test_acc, Avg_Corrup_Acc_List, Acc_Corruptions, RemainingWeights_List, Sparcity_List=iterative_pruning(model,device, TrainLoader, TestLoader, TestCLoader, PruningRate, SaveTrainStepsName,ReadMe, NumEpochsEachPruneRetrain,MaximumPruneLevel)\n"
   ]
  },
  {
   "cell_type": "code",
   "execution_count": null,
   "metadata": {},
   "outputs": [],
   "source": [
    "#RestNet18\n",
    "model=copy.deepcopy(ResNet18_TINYIMAGENET_0P)\n",
    "TrainLoader=trainloader_TINYIMAGENET\n",
    "TestLoader=testloader_TINYIMAGENET\n",
    "TestCLoader=TiniyImageNetCLevel_Loader\n",
    "PruningRate=0.1\n",
    "NumEpochsEachPruneRetrain=10\n",
    "MaximumPruneLevel=0.01\n",
    "\n",
    "SaveTrainStepsName=\"Progress/PruningIterations_ResNet18_IMAGENET_01PR_10Epochs\"\n",
    "\n",
    "\n",
    "ReadMe=\"This model is running pruning with the standard cost function, and the non corrupted dataset, a prunning rate of 0.1 and 10 epoch of retraining\\\n",
    " \\nOriginal Model: ResNet18 Trained with TINY-IMAGENET Dataset\"\n",
    "\n",
    "test_acc, Avg_Corrup_Acc_List, Acc_Corruptions, RemainingWeights_List, Sparcity_List=iterative_pruning(model,device, TrainLoader, TestLoader, TestCLoader, PruningRate, SaveTrainStepsName,ReadMe, NumEpochsEachPruneRetrain,MaximumPruneLevel)"
   ]
  },
  {
   "cell_type": "code",
   "execution_count": null,
   "metadata": {},
   "outputs": [],
   "source": [
    "#VGG16\n",
    "model=copy.deepcopy(VGG16_TINYIMAGENET_0P)\n",
    "TrainLoader=trainloader_TINYIMAGENET\n",
    "TestLoader=testloader_TINYIMAGENET\n",
    "TestCLoader=TiniyImageNetCLevel_Loader\n",
    "PruningRate=0.5\n",
    "NumEpochsEachPruneRetrain=10\n",
    "MaximumPruneLevel=0.01\n",
    "\n",
    "SaveTrainStepsName=\"Progress/PruningIterations_VGG16_IMAGENET_05PR_10Epochs\"\n",
    "\n",
    "\n",
    "ReadMe=\"This model is running pruning with the standard cost function, and the non corrupted dataset, a prunning rate of 0.5 and 10 epoch of retraining\\\n",
    " \\nOriginal Model: VGG16 Trained with TINY-IMAGENET Dataset\"\n",
    "\n",
    "test_acc, Avg_Corrup_Acc_List, Acc_Corruptions, RemainingWeights_List, Sparcity_List=iterative_pruning(model,device, TrainLoader, TestLoader, TestCLoader, PruningRate, SaveTrainStepsName,ReadMe, NumEpochsEachPruneRetrain,MaximumPruneLevel)\n"
   ]
  },
  {
   "cell_type": "code",
   "execution_count": null,
   "metadata": {},
   "outputs": [],
   "source": [
    "#VGG16\n",
    "model=copy.deepcopy(VGG16_TINYIMAGENET_0P)\n",
    "TrainLoader=trainloader_TINYIMAGENET\n",
    "TestLoader=testloader_TINYIMAGENET\n",
    "TestCLoader=TiniyImageNetCLevel_Loader\n",
    "PruningRate=0.25\n",
    "NumEpochsEachPruneRetrain=10\n",
    "MaximumPruneLevel=0.01\n",
    "\n",
    "SaveTrainStepsName=\"Progress/PruningIterations_VGG16_IMAGENET_025PR_10Epochs\"\n",
    "\n",
    "\n",
    "ReadMe=\"This model is running pruning with the standard cost function, and the non corrupted dataset, a prunning rate of 0.5 and 10 epoch of retraining\\\n",
    " \\nOriginal Model: VGG16 Trained with TINY-IMAGENET Dataset\"\n",
    "\n",
    "test_acc, Avg_Corrup_Acc_List, Acc_Corruptions, RemainingWeights_List, Sparcity_List=iterative_pruning(model,device, TrainLoader, TestLoader, TestCLoader, PruningRate, SaveTrainStepsName,ReadMe, NumEpochsEachPruneRetrain,MaximumPruneLevel)\n"
   ]
  },
  {
   "cell_type": "code",
   "execution_count": null,
   "metadata": {},
   "outputs": [],
   "source": [
    "#VGG16\n",
    "model=copy.deepcopy(VGG16_TINYIMAGENET_0P)\n",
    "TrainLoader=trainloader_TINYIMAGENET\n",
    "TestLoader=testloader_TINYIMAGENET\n",
    "TestCLoader=TiniyImageNetCLevel_Loader\n",
    "PruningRate=0.1\n",
    "NumEpochsEachPruneRetrain=10\n",
    "MaximumPruneLevel=0.01\n",
    "\n",
    "SaveTrainStepsName=\"Progress/PruningIterations_VGG16_IMAGENET_01PR_10Epochs\"\n",
    "\n",
    "\n",
    "ReadMe=\"This model is running pruning with the standard cost function, and the non corrupted dataset, a prunning rate of 0.5 and 10 epoch of retraining\\\n",
    " \\nOriginal Model: VGG16 Trained with TINY-IMAGENET Dataset\"\n",
    "\n",
    "test_acc, Avg_Corrup_Acc_List, Acc_Corruptions, RemainingWeights_List, Sparcity_List=iterative_pruning(model,device, TrainLoader, TestLoader, TestCLoader, PruningRate, SaveTrainStepsName,ReadMe, NumEpochsEachPruneRetrain,MaximumPruneLevel)\n"
   ]
  }
 ],
 "metadata": {
  "kernelspec": {
   "display_name": "pytorch",
   "language": "python",
   "name": "python3"
  },
  "language_info": {
   "codemirror_mode": {
    "name": "ipython",
    "version": 3
   },
   "file_extension": ".py",
   "mimetype": "text/x-python",
   "name": "python",
   "nbconvert_exporter": "python",
   "pygments_lexer": "ipython3",
   "version": "3.11.6"
  }
 },
 "nbformat": 4,
 "nbformat_minor": 2
}
