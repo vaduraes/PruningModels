{
 "cells": [
  {
   "cell_type": "code",
   "execution_count": 7,
   "metadata": {},
   "outputs": [],
   "source": [
    "import torch\n",
    "import torch.nn as nn\n",
    "import torch.optim as optim\n",
    "from torch.optim.lr_scheduler import StepLR, ReduceLROnPlateau\n",
    "import torch.nn.functional as F\n",
    "import torch.utils.data as data\n",
    "import pandas as pd\n",
    "\n",
    "import torchvision\n",
    "from torchvision.models import resnet18, ResNet18_Weights, vgg16, VGG16_Weights\n",
    "from torchvision import datasets\n",
    "from torchvision import transforms\n",
    "\n",
    "from tqdm import tqdm\n",
    "import numpy as np\n",
    "import matplotlib.pyplot as plt\n",
    "\n",
    "\n",
    "import os\n",
    "from torchsummary import summary\n",
    "\n",
    "\n",
    "\n",
    "# from google.colab import drive\n",
    "# drive.mount('/content/drive')\n",
    "# #Code folder path\n",
    "# %cd /content/drive/My Drive/ECE591_DL_CL_PROJECT/\n",
    "\n",
    "#device config\n",
    "torch.cuda.set_device(1)#Select GPU device 1\n",
    "device=torch.device(\"cuda\" if torch.cuda.is_available() else \"cpu\")\n",
    "\n",
    "\n",
    "#Datasets\n",
    "#Tiny-imagenet: http://cs231n.stanford.edu/tiny-imagenet-200.zip\n",
    "#Tiny-imagenet-C: https://zenodo.org/records/2469796\n",
    "\n",
    "#CIFAR-10:  https://www.cs.toronto.edu/~kriz/cifar.html\n",
    "#CIFAR-10C: https://zenodo.org/records/2535967\n"
   ]
  },
  {
   "cell_type": "code",
   "execution_count": 8,
   "metadata": {},
   "outputs": [],
   "source": [
    "# Returns a list of transformations when called\n",
    "class GetTransforms():\n",
    "    '''Returns a list of transformations when type as requested amongst train/test\n",
    "       Transforms('train') = list of transforms to apply on training data\n",
    "       Transforms('test') = list of transforms to apply on testing data'''\n",
    "\n",
    "    def __init__(self):\n",
    "        pass\n",
    "\n",
    "    def trainparams(self):\n",
    "        train_transformations = [ #resises the image so it can be perfect for our model.\n",
    "            transforms.RandomHorizontalFlip(), # FLips the image w.r.t horizontal axis\n",
    "            transforms.RandomRotation((-7,7)),     #Rotates the image to a specified angel\n",
    "            transforms.RandomAffine(0, shear=10, scale=(0.8,1.2)), #Performs actions like zooms, change shear angles.\n",
    "            transforms.ColorJitter(brightness=0.2, contrast=0.2, saturation=0.2), # Set the color params\n",
    "            transforms.ToTensor(), # comvert the image to tensor so that it can work with torch\n",
    "            transforms.Normalize((0.485, 0.456, 0.406), (0.229, 0.224, 0.225)) #Normalize all the images\n",
    "            ]\n",
    "\n",
    "        return train_transformations\n",
    "\n",
    "    def testparams(self):\n",
    "        test_transforms = [\n",
    "            transforms.ToTensor(),\n",
    "            transforms.Normalize((0.485, 0.456, 0.406), (0.229, 0.224, 0.225)) #Normalize all the images\n",
    "        ]\n",
    "        return test_transforms\n",
    "\n",
    "transformations = GetTransforms()\n",
    "train_transforms = transforms.Compose(transformations.trainparams())\n",
    "test_transforms = transforms.Compose(transformations.testparams()) "
   ]
  },
  {
   "cell_type": "code",
   "execution_count": 9,
   "metadata": {},
   "outputs": [],
   "source": [
    "#Create Loaders\n",
    "DataPath=\"./Datasets/TINY-IMAGENET/tiny-imagenet-200\"\n",
    "trainset = datasets.ImageFolder(DataPath+'/train', transform=train_transforms)\n",
    "testset = datasets.ImageFolder(DataPath+'/test_pro', transform=test_transforms)\n",
    "\n",
    "trainloader = torch.utils.data.DataLoader(trainset, batch_size=256,shuffle=True, num_workers=2)\n",
    "testloader = torch.utils.data.DataLoader(testset, batch_size=256,shuffle=False, num_workers=2)\n"
   ]
  },
  {
   "cell_type": "code",
   "execution_count": 10,
   "metadata": {},
   "outputs": [
    {
     "name": "stdout",
     "output_type": "stream",
     "text": [
      "----------------------------------------------------------------\n",
      "        Layer (type)               Output Shape         Param #\n",
      "================================================================\n",
      "            Conv2d-1           [-1, 64, 64, 64]           1,728\n",
      "       BatchNorm2d-2           [-1, 64, 64, 64]             128\n",
      "            Conv2d-3           [-1, 64, 64, 64]          36,864\n",
      "       BatchNorm2d-4           [-1, 64, 64, 64]             128\n",
      "           Dropout-5           [-1, 64, 64, 64]               0\n",
      "            Conv2d-6           [-1, 64, 64, 64]          36,864\n",
      "       BatchNorm2d-7           [-1, 64, 64, 64]             128\n",
      "           Dropout-8           [-1, 64, 64, 64]               0\n",
      "        BasicBlock-9           [-1, 64, 64, 64]               0\n",
      "           Conv2d-10           [-1, 64, 64, 64]          36,864\n",
      "      BatchNorm2d-11           [-1, 64, 64, 64]             128\n",
      "          Dropout-12           [-1, 64, 64, 64]               0\n",
      "           Conv2d-13           [-1, 64, 64, 64]          36,864\n",
      "      BatchNorm2d-14           [-1, 64, 64, 64]             128\n",
      "          Dropout-15           [-1, 64, 64, 64]               0\n",
      "       BasicBlock-16           [-1, 64, 64, 64]               0\n",
      "           Conv2d-17          [-1, 128, 32, 32]          73,728\n",
      "      BatchNorm2d-18          [-1, 128, 32, 32]             256\n",
      "          Dropout-19          [-1, 128, 32, 32]               0\n",
      "           Conv2d-20          [-1, 128, 32, 32]         147,456\n",
      "      BatchNorm2d-21          [-1, 128, 32, 32]             256\n",
      "          Dropout-22          [-1, 128, 32, 32]               0\n",
      "           Conv2d-23          [-1, 128, 32, 32]           8,192\n",
      "      BatchNorm2d-24          [-1, 128, 32, 32]             256\n",
      "          Dropout-25          [-1, 128, 32, 32]               0\n",
      "       BasicBlock-26          [-1, 128, 32, 32]               0\n",
      "           Conv2d-27          [-1, 128, 32, 32]         147,456\n",
      "      BatchNorm2d-28          [-1, 128, 32, 32]             256\n",
      "          Dropout-29          [-1, 128, 32, 32]               0\n",
      "           Conv2d-30          [-1, 128, 32, 32]         147,456\n",
      "      BatchNorm2d-31          [-1, 128, 32, 32]             256\n",
      "          Dropout-32          [-1, 128, 32, 32]               0\n",
      "       BasicBlock-33          [-1, 128, 32, 32]               0\n",
      "           Conv2d-34          [-1, 256, 16, 16]         294,912\n",
      "      BatchNorm2d-35          [-1, 256, 16, 16]             512\n",
      "          Dropout-36          [-1, 256, 16, 16]               0\n",
      "           Conv2d-37          [-1, 256, 16, 16]         589,824\n",
      "      BatchNorm2d-38          [-1, 256, 16, 16]             512\n",
      "          Dropout-39          [-1, 256, 16, 16]               0\n",
      "           Conv2d-40          [-1, 256, 16, 16]          32,768\n",
      "      BatchNorm2d-41          [-1, 256, 16, 16]             512\n",
      "          Dropout-42          [-1, 256, 16, 16]               0\n",
      "       BasicBlock-43          [-1, 256, 16, 16]               0\n",
      "           Conv2d-44          [-1, 256, 16, 16]         589,824\n",
      "      BatchNorm2d-45          [-1, 256, 16, 16]             512\n",
      "          Dropout-46          [-1, 256, 16, 16]               0\n",
      "           Conv2d-47          [-1, 256, 16, 16]         589,824\n",
      "      BatchNorm2d-48          [-1, 256, 16, 16]             512\n",
      "          Dropout-49          [-1, 256, 16, 16]               0\n",
      "       BasicBlock-50          [-1, 256, 16, 16]               0\n",
      "           Conv2d-51            [-1, 512, 8, 8]       1,179,648\n",
      "      BatchNorm2d-52            [-1, 512, 8, 8]           1,024\n",
      "          Dropout-53            [-1, 512, 8, 8]               0\n",
      "           Conv2d-54            [-1, 512, 8, 8]       2,359,296\n",
      "      BatchNorm2d-55            [-1, 512, 8, 8]           1,024\n",
      "          Dropout-56            [-1, 512, 8, 8]               0\n",
      "           Conv2d-57            [-1, 512, 8, 8]         131,072\n",
      "      BatchNorm2d-58            [-1, 512, 8, 8]           1,024\n",
      "          Dropout-59            [-1, 512, 8, 8]               0\n",
      "       BasicBlock-60            [-1, 512, 8, 8]               0\n",
      "           Conv2d-61            [-1, 512, 8, 8]       2,359,296\n",
      "      BatchNorm2d-62            [-1, 512, 8, 8]           1,024\n",
      "          Dropout-63            [-1, 512, 8, 8]               0\n",
      "           Conv2d-64            [-1, 512, 8, 8]       2,359,296\n",
      "      BatchNorm2d-65            [-1, 512, 8, 8]           1,024\n",
      "          Dropout-66            [-1, 512, 8, 8]               0\n",
      "       BasicBlock-67            [-1, 512, 8, 8]               0\n",
      "           Linear-68                  [-1, 200]         102,600\n",
      "================================================================\n",
      "Total params: 11,271,432\n",
      "Trainable params: 11,271,432\n",
      "Non-trainable params: 0\n",
      "----------------------------------------------------------------\n",
      "Input size (MB): 0.05\n",
      "Forward/backward pass size (MB): 61.75\n",
      "Params size (MB): 43.00\n",
      "Estimated Total Size (MB): 104.80\n",
      "----------------------------------------------------------------\n"
     ]
    }
   ],
   "source": [
    "#following: https://www.kaggle.com/code/greatcodes/pytorch-cnn-resnet18-cifar10/notebook\n",
    "class BasicBlock(nn.Module):\n",
    "    expansion = 1\n",
    "\n",
    "    def __init__(self, in_planes, planes, stride=1):\n",
    "        super().__init__()\n",
    "        DROPOUT = 0.1\n",
    "\n",
    "        self.conv1 = nn.Conv2d(in_planes, planes, kernel_size=3, stride=stride, padding=1, bias=False)\n",
    "        self.bn1 = nn.BatchNorm2d(planes)\n",
    "        self.dropout = nn.Dropout(DROPOUT)\n",
    "        self.conv2 = nn.Conv2d(planes, planes, kernel_size=3,stride=1, padding=1, bias=False)\n",
    "        self.bn2 = nn.BatchNorm2d(planes)\n",
    "        self.dropout = nn.Dropout(DROPOUT)\n",
    "\n",
    "        self.shortcut = nn.Sequential()\n",
    "        if stride != 1 or in_planes != self.expansion*planes:\n",
    "            self.shortcut = nn.Sequential(\n",
    "                nn.Conv2d(in_planes, self.expansion*planes,kernel_size=1, stride=stride, bias=False),\n",
    "                nn.BatchNorm2d(self.expansion*planes),\n",
    "                nn.Dropout(DROPOUT)\n",
    "            )\n",
    "\n",
    "    def forward(self, x):\n",
    "        out = F.relu(self.dropout(self.bn1(self.conv1(x))))\n",
    "        out = self.dropout(self.bn2(self.conv2(out)))\n",
    "        out += self.shortcut(x)\n",
    "        out = F.relu(out)\n",
    "        return out\n",
    "\n",
    "\n",
    "class ResNet(nn.Module):\n",
    "    def __init__(self, block, num_blocks, num_classes=200):\n",
    "        super(ResNet, self).__init__()\n",
    "        self.in_planes = 64\n",
    "\n",
    "        self.conv1 = nn.Conv2d(3, self.in_planes, kernel_size=3,\n",
    "                               stride=1, padding=1, bias=False)\n",
    "        \n",
    "        self.bn1 = nn.BatchNorm2d(64)\n",
    "        self.layer1 = self._make_layer(block, 64, num_blocks[0], stride=1)\n",
    "        self.layer2 = self._make_layer(block, 128, num_blocks[1], stride=2)\n",
    "        self.layer3 = self._make_layer(block, 256, num_blocks[2], stride=2)\n",
    "        self.layer4 = self._make_layer(block, 512, num_blocks[3], stride=2)\n",
    "        self.linear = nn.Linear(512*block.expansion, num_classes)\n",
    "\n",
    "    def _make_layer(self, block, planes, num_blocks, stride):\n",
    "        strides = [stride] + [1]*(num_blocks-1) #the blocks we repeat have stride 1\n",
    "        layers = []\n",
    "        for stride in strides:\n",
    "            layers.append(block(self.in_planes, planes, stride))\n",
    "            self.in_planes = planes * block.expansion\n",
    "        return nn.Sequential(*layers)\n",
    "\n",
    "    def forward(self, x):\n",
    "        out = F.relu(self.bn1(self.conv1(x)))\n",
    "        out = self.layer1(out)\n",
    "        out = self.layer2(out)\n",
    "        out = self.layer3(out)\n",
    "        out = self.layer4(out)\n",
    "        out = F.avg_pool2d(out, 8)\n",
    "        out = out.view(out.size(0), -1)\n",
    "        out = self.linear(out)\n",
    "        \n",
    "        return F.log_softmax(out, dim=-1)\n",
    "\n",
    "\n",
    "def ResNet18():\n",
    "    return ResNet(BasicBlock, [2, 2, 2, 2])\n",
    "\n",
    "model = ResNet18().to(device)\n",
    "summary(model, input_size=(3,64,64))"
   ]
  },
  {
   "cell_type": "code",
   "execution_count": 11,
   "metadata": {},
   "outputs": [],
   "source": [
    "def model_training(model, device, train_dataloader, optimizer, train_acc, train_losses):\n",
    "\n",
    "    model.train()\n",
    "    pbar = tqdm(train_dataloader)\n",
    "    correct = 0\n",
    "    processed = 0\n",
    "    running_loss = 0.0\n",
    "\n",
    "    for batch_idx, (data, target) in enumerate(pbar):\n",
    "        data, target = data.to(device), target.to(device)\n",
    "        optimizer.zero_grad()\n",
    "        y_pred = model(data)\n",
    "        loss = F.nll_loss(y_pred, target) #negative log likelihood loss\n",
    "\n",
    "\n",
    "        train_losses.append(loss.item())\n",
    "        loss.backward()\n",
    "        optimizer.step() #Performs a single optimization step (parameter update).\n",
    "\n",
    "        pred = y_pred.argmax(dim=1, keepdim=True)\n",
    "        correct += pred.eq(target.view_as(pred)).sum().item()\n",
    "        processed += len(data)\n",
    "        # print statistics\n",
    "        running_loss += loss.item()\n",
    "        pbar.set_description(desc=f'Loss={loss.item()} Batch_id={batch_idx} Accuracy={100*correct/processed:0.2f}')\n",
    "        train_acc.append(100*correct/processed)\n",
    "\n",
    "def model_testing(model, device, test_dataloader, test_acc, test_losses, misclassified = []):\n",
    "\n",
    "    model.eval()\n",
    "    test_loss = 0\n",
    "    correct = 0\n",
    "    class_correct = list(0. for i in range(10))\n",
    "    class_total = list(0. for i in range(10))\n",
    "    # label = 0\n",
    "\n",
    "\n",
    "    with torch.no_grad():\n",
    "\n",
    "        for index, (data, target) in enumerate(test_dataloader):\n",
    "            data, target = data.to(device), target.to(device)\n",
    "            output = model(data)\n",
    "            pred = output.argmax(dim=1, keepdim=True)\n",
    "\n",
    "            for d,i,j in zip(data, pred, target):\n",
    "                if i != j:\n",
    "                    misclassified.append([d.cpu(),i[0].cpu(),j.cpu()])\n",
    "\n",
    "            test_loss += F.nll_loss(output, target, reduction='sum').item()\n",
    "            correct += pred.eq(target.view_as(pred)).sum().item()\n",
    "\n",
    "    test_loss /= len(test_dataloader.dataset)\n",
    "    test_losses.append(test_loss)\n",
    "\n",
    "    print('\\nTest set: Average loss: {:.4f}, Accuracy: {}/{} ({:.2f}%)\\n'.format(\n",
    "        test_loss, correct, len(test_dataloader.dataset),\n",
    "        100. * correct / len(test_dataloader.dataset)))\n",
    "\n",
    "    test_acc.append(100. * correct / len(test_dataloader.dataset))\n",
    "    return misclassified\n"
   ]
  },
  {
   "cell_type": "code",
   "execution_count": 12,
   "metadata": {},
   "outputs": [
    {
     "name": "stdout",
     "output_type": "stream",
     "text": [
      "EPOCHS : 0\n"
     ]
    },
    {
     "name": "stderr",
     "output_type": "stream",
     "text": [
      "Loss=4.197043418884277 Batch_id=390 Accuracy=6.38: 100%|██████████| 391/391 [03:18<00:00,  1.97it/s] \n"
     ]
    },
    {
     "name": "stdout",
     "output_type": "stream",
     "text": [
      "\n",
      "Test set: Average loss: 4.2242, Accuracy: 487/5000 (9.74%)\n",
      "\n",
      "EPOCHS : 1\n"
     ]
    },
    {
     "name": "stderr",
     "output_type": "stream",
     "text": [
      "Loss=3.841252088546753 Batch_id=390 Accuracy=15.51: 100%|██████████| 391/391 [03:18<00:00,  1.97it/s] \n"
     ]
    },
    {
     "name": "stdout",
     "output_type": "stream",
     "text": [
      "\n",
      "Test set: Average loss: 3.7039, Accuracy: 904/5000 (18.08%)\n",
      "\n",
      "EPOCHS : 2\n"
     ]
    },
    {
     "name": "stderr",
     "output_type": "stream",
     "text": [
      "Loss=3.204875946044922 Batch_id=390 Accuracy=21.99: 100%|██████████| 391/391 [03:21<00:00,  1.95it/s] \n"
     ]
    },
    {
     "name": "stdout",
     "output_type": "stream",
     "text": [
      "\n",
      "Test set: Average loss: 3.2979, Accuracy: 1244/5000 (24.88%)\n",
      "\n",
      "EPOCHS : 3\n"
     ]
    },
    {
     "name": "stderr",
     "output_type": "stream",
     "text": [
      "Loss=2.890641689300537 Batch_id=390 Accuracy=27.19: 100%|██████████| 391/391 [03:23<00:00,  1.93it/s] \n"
     ]
    },
    {
     "name": "stdout",
     "output_type": "stream",
     "text": [
      "\n",
      "Test set: Average loss: 3.0645, Accuracy: 1464/5000 (29.28%)\n",
      "\n",
      "EPOCHS : 4\n"
     ]
    },
    {
     "name": "stderr",
     "output_type": "stream",
     "text": [
      "Loss=3.0569851398468018 Batch_id=390 Accuracy=31.15: 100%|██████████| 391/391 [03:13<00:00,  2.02it/s]\n"
     ]
    },
    {
     "name": "stdout",
     "output_type": "stream",
     "text": [
      "\n",
      "Test set: Average loss: 3.0042, Accuracy: 1498/5000 (29.96%)\n",
      "\n",
      "EPOCHS : 5\n"
     ]
    },
    {
     "name": "stderr",
     "output_type": "stream",
     "text": [
      "Loss=2.8905673027038574 Batch_id=390 Accuracy=34.55: 100%|██████████| 391/391 [03:12<00:00,  2.03it/s]\n"
     ]
    },
    {
     "name": "stdout",
     "output_type": "stream",
     "text": [
      "\n",
      "Test set: Average loss: 3.0749, Accuracy: 1457/5000 (29.14%)\n",
      "\n",
      "EPOCHS : 6\n"
     ]
    },
    {
     "name": "stderr",
     "output_type": "stream",
     "text": [
      "Loss=2.6540873050689697 Batch_id=390 Accuracy=37.45: 100%|██████████| 391/391 [03:08<00:00,  2.07it/s]\n"
     ]
    },
    {
     "name": "stdout",
     "output_type": "stream",
     "text": [
      "\n",
      "Test set: Average loss: 2.6655, Accuracy: 1856/5000 (37.12%)\n",
      "\n",
      "EPOCHS : 7\n"
     ]
    },
    {
     "name": "stderr",
     "output_type": "stream",
     "text": [
      "Loss=2.579780340194702 Batch_id=390 Accuracy=39.73: 100%|██████████| 391/391 [03:10<00:00,  2.05it/s] \n"
     ]
    },
    {
     "name": "stdout",
     "output_type": "stream",
     "text": [
      "\n",
      "Test set: Average loss: 2.7385, Accuracy: 1789/5000 (35.78%)\n",
      "\n",
      "EPOCHS : 8\n"
     ]
    },
    {
     "name": "stderr",
     "output_type": "stream",
     "text": [
      "Loss=2.422858953475952 Batch_id=390 Accuracy=41.99: 100%|██████████| 391/391 [03:14<00:00,  2.01it/s] \n"
     ]
    },
    {
     "name": "stdout",
     "output_type": "stream",
     "text": [
      "\n",
      "Test set: Average loss: 2.5899, Accuracy: 1945/5000 (38.90%)\n",
      "\n",
      "EPOCHS : 9\n"
     ]
    },
    {
     "name": "stderr",
     "output_type": "stream",
     "text": [
      "Loss=2.560633897781372 Batch_id=390 Accuracy=44.14: 100%|██████████| 391/391 [03:16<00:00,  1.99it/s] \n"
     ]
    },
    {
     "name": "stdout",
     "output_type": "stream",
     "text": [
      "\n",
      "Test set: Average loss: 2.4210, Accuracy: 2081/5000 (41.62%)\n",
      "\n",
      "EPOCHS : 10\n"
     ]
    },
    {
     "name": "stderr",
     "output_type": "stream",
     "text": [
      "Loss=2.2124950885772705 Batch_id=390 Accuracy=45.95: 100%|██████████| 391/391 [03:14<00:00,  2.01it/s]\n"
     ]
    },
    {
     "name": "stdout",
     "output_type": "stream",
     "text": [
      "\n",
      "Test set: Average loss: 2.3632, Accuracy: 2198/5000 (43.96%)\n",
      "\n",
      "EPOCHS : 11\n"
     ]
    },
    {
     "name": "stderr",
     "output_type": "stream",
     "text": [
      "Loss=2.1551084518432617 Batch_id=390 Accuracy=47.37: 100%|██████████| 391/391 [03:15<00:00,  2.00it/s]\n"
     ]
    },
    {
     "name": "stdout",
     "output_type": "stream",
     "text": [
      "\n",
      "Test set: Average loss: 2.3677, Accuracy: 2192/5000 (43.84%)\n",
      "\n",
      "EPOCHS : 12\n"
     ]
    },
    {
     "name": "stderr",
     "output_type": "stream",
     "text": [
      "Loss=1.9715750217437744 Batch_id=390 Accuracy=49.16: 100%|██████████| 391/391 [03:13<00:00,  2.02it/s]\n"
     ]
    },
    {
     "name": "stdout",
     "output_type": "stream",
     "text": [
      "\n",
      "Test set: Average loss: 2.2064, Accuracy: 2331/5000 (46.62%)\n",
      "\n",
      "EPOCHS : 13\n"
     ]
    },
    {
     "name": "stderr",
     "output_type": "stream",
     "text": [
      "Loss=2.2217631340026855 Batch_id=390 Accuracy=50.42: 100%|██████████| 391/391 [03:06<00:00,  2.09it/s]\n"
     ]
    },
    {
     "name": "stdout",
     "output_type": "stream",
     "text": [
      "\n",
      "Test set: Average loss: 2.2982, Accuracy: 2244/5000 (44.88%)\n",
      "\n",
      "EPOCHS : 14\n"
     ]
    },
    {
     "name": "stderr",
     "output_type": "stream",
     "text": [
      "Loss=1.8190456628799438 Batch_id=390 Accuracy=51.65: 100%|██████████| 391/391 [02:07<00:00,  3.06it/s]\n"
     ]
    },
    {
     "name": "stdout",
     "output_type": "stream",
     "text": [
      "\n",
      "Test set: Average loss: 2.1917, Accuracy: 2397/5000 (47.94%)\n",
      "\n",
      "EPOCHS : 15\n"
     ]
    },
    {
     "name": "stderr",
     "output_type": "stream",
     "text": [
      "Loss=1.9710071086883545 Batch_id=390 Accuracy=52.98: 100%|██████████| 391/391 [02:05<00:00,  3.11it/s]\n"
     ]
    },
    {
     "name": "stdout",
     "output_type": "stream",
     "text": [
      "\n",
      "Test set: Average loss: 2.2226, Accuracy: 2367/5000 (47.34%)\n",
      "\n",
      "EPOCHS : 16\n"
     ]
    },
    {
     "name": "stderr",
     "output_type": "stream",
     "text": [
      "Loss=1.8050693273544312 Batch_id=390 Accuracy=54.32: 100%|██████████| 391/391 [02:06<00:00,  3.09it/s]\n"
     ]
    },
    {
     "name": "stdout",
     "output_type": "stream",
     "text": [
      "\n",
      "Test set: Average loss: 2.1190, Accuracy: 2481/5000 (49.62%)\n",
      "\n",
      "EPOCHS : 17\n"
     ]
    },
    {
     "name": "stderr",
     "output_type": "stream",
     "text": [
      "Loss=1.9750235080718994 Batch_id=390 Accuracy=55.49: 100%|██████████| 391/391 [02:06<00:00,  3.08it/s]\n"
     ]
    },
    {
     "name": "stdout",
     "output_type": "stream",
     "text": [
      "\n",
      "Test set: Average loss: 2.0846, Accuracy: 2549/5000 (50.98%)\n",
      "\n",
      "EPOCHS : 18\n"
     ]
    },
    {
     "name": "stderr",
     "output_type": "stream",
     "text": [
      "Loss=1.5073726177215576 Batch_id=390 Accuracy=56.72: 100%|██████████| 391/391 [02:06<00:00,  3.08it/s]\n"
     ]
    },
    {
     "name": "stdout",
     "output_type": "stream",
     "text": [
      "\n",
      "Test set: Average loss: 2.1052, Accuracy: 2517/5000 (50.34%)\n",
      "\n",
      "EPOCHS : 19\n"
     ]
    },
    {
     "name": "stderr",
     "output_type": "stream",
     "text": [
      "Loss=1.636815071105957 Batch_id=390 Accuracy=57.49: 100%|██████████| 391/391 [02:04<00:00,  3.15it/s] \n"
     ]
    },
    {
     "name": "stdout",
     "output_type": "stream",
     "text": [
      "\n",
      "Test set: Average loss: 2.2043, Accuracy: 2488/5000 (49.76%)\n",
      "\n",
      "EPOCHS : 20\n"
     ]
    },
    {
     "name": "stderr",
     "output_type": "stream",
     "text": [
      "Loss=1.8829710483551025 Batch_id=390 Accuracy=58.65: 100%|██████████| 391/391 [02:04<00:00,  3.13it/s]\n"
     ]
    },
    {
     "name": "stdout",
     "output_type": "stream",
     "text": [
      "\n",
      "Test set: Average loss: 2.1797, Accuracy: 2454/5000 (49.08%)\n",
      "\n",
      "EPOCHS : 21\n"
     ]
    },
    {
     "name": "stderr",
     "output_type": "stream",
     "text": [
      "Loss=1.4236431121826172 Batch_id=390 Accuracy=59.76: 100%|██████████| 391/391 [02:07<00:00,  3.06it/s]\n"
     ]
    },
    {
     "name": "stdout",
     "output_type": "stream",
     "text": [
      "\n",
      "Test set: Average loss: 2.0872, Accuracy: 2539/5000 (50.78%)\n",
      "\n",
      "EPOCHS : 22\n"
     ]
    },
    {
     "name": "stderr",
     "output_type": "stream",
     "text": [
      "Loss=1.5647337436676025 Batch_id=390 Accuracy=60.86: 100%|██████████| 391/391 [03:13<00:00,  2.03it/s]\n"
     ]
    },
    {
     "name": "stdout",
     "output_type": "stream",
     "text": [
      "\n",
      "Test set: Average loss: 2.1494, Accuracy: 2558/5000 (51.16%)\n",
      "\n",
      "EPOCHS : 23\n"
     ]
    },
    {
     "name": "stderr",
     "output_type": "stream",
     "text": [
      "Loss=1.438137412071228 Batch_id=390 Accuracy=61.86: 100%|██████████| 391/391 [03:21<00:00,  1.94it/s] \n"
     ]
    },
    {
     "name": "stdout",
     "output_type": "stream",
     "text": [
      "\n",
      "Test set: Average loss: 2.0888, Accuracy: 2599/5000 (51.98%)\n",
      "\n",
      "EPOCHS : 24\n"
     ]
    },
    {
     "name": "stderr",
     "output_type": "stream",
     "text": [
      "Loss=1.4180790185928345 Batch_id=390 Accuracy=62.68: 100%|██████████| 391/391 [03:21<00:00,  1.94it/s]\n"
     ]
    },
    {
     "name": "stdout",
     "output_type": "stream",
     "text": [
      "\n",
      "Test set: Average loss: 2.0091, Accuracy: 2645/5000 (52.90%)\n",
      "\n",
      "EPOCHS : 25\n"
     ]
    },
    {
     "name": "stderr",
     "output_type": "stream",
     "text": [
      "Loss=1.584549903869629 Batch_id=390 Accuracy=63.54: 100%|██████████| 391/391 [03:17<00:00,  1.98it/s] \n"
     ]
    },
    {
     "name": "stdout",
     "output_type": "stream",
     "text": [
      "\n",
      "Test set: Average loss: 2.0176, Accuracy: 2653/5000 (53.06%)\n",
      "\n",
      "EPOCHS : 26\n"
     ]
    },
    {
     "name": "stderr",
     "output_type": "stream",
     "text": [
      "Loss=1.6061267852783203 Batch_id=390 Accuracy=64.34: 100%|██████████| 391/391 [03:20<00:00,  1.95it/s]\n"
     ]
    },
    {
     "name": "stdout",
     "output_type": "stream",
     "text": [
      "\n",
      "Test set: Average loss: 2.0364, Accuracy: 2659/5000 (53.18%)\n",
      "\n",
      "EPOCHS : 27\n"
     ]
    },
    {
     "name": "stderr",
     "output_type": "stream",
     "text": [
      "Loss=1.1690304279327393 Batch_id=390 Accuracy=65.23: 100%|██████████| 391/391 [03:17<00:00,  1.98it/s]\n"
     ]
    },
    {
     "name": "stdout",
     "output_type": "stream",
     "text": [
      "\n",
      "Test set: Average loss: 2.0656, Accuracy: 2615/5000 (52.30%)\n",
      "\n",
      "EPOCHS : 28\n"
     ]
    },
    {
     "name": "stderr",
     "output_type": "stream",
     "text": [
      "Loss=1.5015885829925537 Batch_id=390 Accuracy=66.16: 100%|██████████| 391/391 [03:18<00:00,  1.97it/s]\n"
     ]
    },
    {
     "name": "stdout",
     "output_type": "stream",
     "text": [
      "\n",
      "Test set: Average loss: 2.0121, Accuracy: 2710/5000 (54.20%)\n",
      "\n",
      "EPOCHS : 29\n"
     ]
    },
    {
     "name": "stderr",
     "output_type": "stream",
     "text": [
      "Loss=1.376247763633728 Batch_id=390 Accuracy=66.82: 100%|██████████| 391/391 [03:20<00:00,  1.95it/s] \n"
     ]
    },
    {
     "name": "stdout",
     "output_type": "stream",
     "text": [
      "\n",
      "Test set: Average loss: 2.0398, Accuracy: 2691/5000 (53.82%)\n",
      "\n",
      "EPOCHS : 30\n"
     ]
    },
    {
     "name": "stderr",
     "output_type": "stream",
     "text": [
      "Loss=1.1584365367889404 Batch_id=390 Accuracy=67.89: 100%|██████████| 391/391 [04:23<00:00,  1.48it/s]\n"
     ]
    },
    {
     "name": "stdout",
     "output_type": "stream",
     "text": [
      "\n",
      "Test set: Average loss: 1.9970, Accuracy: 2716/5000 (54.32%)\n",
      "\n",
      "EPOCHS : 31\n"
     ]
    },
    {
     "name": "stderr",
     "output_type": "stream",
     "text": [
      "Loss=1.1725857257843018 Batch_id=390 Accuracy=68.82: 100%|██████████| 391/391 [04:26<00:00,  1.47it/s]\n"
     ]
    },
    {
     "name": "stdout",
     "output_type": "stream",
     "text": [
      "\n",
      "Test set: Average loss: 1.9853, Accuracy: 2743/5000 (54.86%)\n",
      "\n",
      "EPOCHS : 32\n"
     ]
    },
    {
     "name": "stderr",
     "output_type": "stream",
     "text": [
      "Loss=1.1411418914794922 Batch_id=390 Accuracy=69.50: 100%|██████████| 391/391 [04:30<00:00,  1.45it/s]\n"
     ]
    },
    {
     "name": "stdout",
     "output_type": "stream",
     "text": [
      "\n",
      "Test set: Average loss: 2.0638, Accuracy: 2689/5000 (53.78%)\n",
      "\n",
      "EPOCHS : 33\n"
     ]
    },
    {
     "name": "stderr",
     "output_type": "stream",
     "text": [
      "Loss=1.16580331325531 Batch_id=390 Accuracy=70.30: 100%|██████████| 391/391 [04:24<00:00,  1.48it/s]  \n"
     ]
    },
    {
     "name": "stdout",
     "output_type": "stream",
     "text": [
      "\n",
      "Test set: Average loss: 2.0577, Accuracy: 2736/5000 (54.72%)\n",
      "\n",
      "EPOCHS : 34\n"
     ]
    },
    {
     "name": "stderr",
     "output_type": "stream",
     "text": [
      "Loss=1.1512329578399658 Batch_id=390 Accuracy=71.30: 100%|██████████| 391/391 [04:26<00:00,  1.47it/s]\n"
     ]
    },
    {
     "name": "stdout",
     "output_type": "stream",
     "text": [
      "\n",
      "Test set: Average loss: 2.1345, Accuracy: 2661/5000 (53.22%)\n",
      "\n",
      "EPOCHS : 35\n"
     ]
    },
    {
     "name": "stderr",
     "output_type": "stream",
     "text": [
      "Loss=1.2384451627731323 Batch_id=390 Accuracy=71.98: 100%|██████████| 391/391 [04:22<00:00,  1.49it/s]"
     ]
    },
    {
     "name": "stdout",
     "output_type": "stream",
     "text": [
      "Epoch 00036: reducing learning rate of group 0 to 5.0000e-04.\n"
     ]
    },
    {
     "name": "stderr",
     "output_type": "stream",
     "text": [
      "\n"
     ]
    },
    {
     "name": "stdout",
     "output_type": "stream",
     "text": [
      "\n",
      "Test set: Average loss: 2.0503, Accuracy: 2774/5000 (55.48%)\n",
      "\n",
      "EPOCHS : 36\n"
     ]
    },
    {
     "name": "stderr",
     "output_type": "stream",
     "text": [
      "Loss=0.8854312896728516 Batch_id=390 Accuracy=78.74: 100%|██████████| 391/391 [04:27<00:00,  1.46it/s]\n"
     ]
    },
    {
     "name": "stdout",
     "output_type": "stream",
     "text": [
      "\n",
      "Test set: Average loss: 1.7778, Accuracy: 3003/5000 (60.06%)\n",
      "\n",
      "EPOCHS : 37\n"
     ]
    },
    {
     "name": "stderr",
     "output_type": "stream",
     "text": [
      "Loss=0.9243261218070984 Batch_id=390 Accuracy=80.74: 100%|██████████| 391/391 [04:23<00:00,  1.49it/s]\n"
     ]
    },
    {
     "name": "stdout",
     "output_type": "stream",
     "text": [
      "\n",
      "Test set: Average loss: 1.7630, Accuracy: 2997/5000 (59.94%)\n",
      "\n",
      "EPOCHS : 38\n"
     ]
    },
    {
     "name": "stderr",
     "output_type": "stream",
     "text": [
      "Loss=0.8196183443069458 Batch_id=390 Accuracy=81.69: 100%|██████████| 391/391 [04:26<00:00,  1.47it/s]\n"
     ]
    },
    {
     "name": "stdout",
     "output_type": "stream",
     "text": [
      "\n",
      "Test set: Average loss: 1.7570, Accuracy: 3008/5000 (60.16%)\n",
      "\n",
      "EPOCHS : 39\n"
     ]
    },
    {
     "name": "stderr",
     "output_type": "stream",
     "text": [
      "Loss=0.7569816708564758 Batch_id=390 Accuracy=82.04: 100%|██████████| 391/391 [04:22<00:00,  1.49it/s] \n"
     ]
    },
    {
     "name": "stdout",
     "output_type": "stream",
     "text": [
      "\n",
      "Test set: Average loss: 1.7570, Accuracy: 3012/5000 (60.24%)\n",
      "\n",
      "EPOCHS : 40\n"
     ]
    },
    {
     "name": "stderr",
     "output_type": "stream",
     "text": [
      "Loss=0.7208017110824585 Batch_id=390 Accuracy=82.41: 100%|██████████| 391/391 [04:24<00:00,  1.48it/s]\n"
     ]
    },
    {
     "name": "stdout",
     "output_type": "stream",
     "text": [
      "\n",
      "Test set: Average loss: 1.7562, Accuracy: 3005/5000 (60.10%)\n",
      "\n",
      "EPOCHS : 41\n"
     ]
    },
    {
     "name": "stderr",
     "output_type": "stream",
     "text": [
      "Loss=0.8234480619430542 Batch_id=390 Accuracy=82.82: 100%|██████████| 391/391 [04:24<00:00,  1.48it/s]\n"
     ]
    },
    {
     "name": "stdout",
     "output_type": "stream",
     "text": [
      "\n",
      "Test set: Average loss: 1.7570, Accuracy: 3000/5000 (60.00%)\n",
      "\n",
      "EPOCHS : 42\n"
     ]
    },
    {
     "name": "stderr",
     "output_type": "stream",
     "text": [
      "Loss=0.582645058631897 Batch_id=390 Accuracy=82.92: 100%|██████████| 391/391 [04:22<00:00,  1.49it/s] \n"
     ]
    },
    {
     "name": "stdout",
     "output_type": "stream",
     "text": [
      "\n",
      "Test set: Average loss: 1.7595, Accuracy: 3016/5000 (60.32%)\n",
      "\n",
      "EPOCHS : 43\n"
     ]
    },
    {
     "name": "stderr",
     "output_type": "stream",
     "text": [
      "Loss=0.5831468105316162 Batch_id=390 Accuracy=83.09: 100%|██████████| 391/391 [04:22<00:00,  1.49it/s] \n"
     ]
    },
    {
     "name": "stdout",
     "output_type": "stream",
     "text": [
      "\n",
      "Test set: Average loss: 1.7604, Accuracy: 3017/5000 (60.34%)\n",
      "\n",
      "EPOCHS : 44\n"
     ]
    },
    {
     "name": "stderr",
     "output_type": "stream",
     "text": [
      "Loss=0.6312156915664673 Batch_id=390 Accuracy=83.15: 100%|██████████| 391/391 [04:25<00:00,  1.47it/s] \n"
     ]
    },
    {
     "name": "stdout",
     "output_type": "stream",
     "text": [
      "\n",
      "Test set: Average loss: 1.7636, Accuracy: 3009/5000 (60.18%)\n",
      "\n",
      "EPOCHS : 45\n"
     ]
    },
    {
     "name": "stderr",
     "output_type": "stream",
     "text": [
      "Loss=0.6547877192497253 Batch_id=390 Accuracy=83.38: 100%|██████████| 391/391 [04:24<00:00,  1.48it/s] "
     ]
    },
    {
     "name": "stdout",
     "output_type": "stream",
     "text": [
      "Epoch 00046: reducing learning rate of group 0 to 2.5000e-05.\n"
     ]
    },
    {
     "name": "stderr",
     "output_type": "stream",
     "text": [
      "\n"
     ]
    },
    {
     "name": "stdout",
     "output_type": "stream",
     "text": [
      "\n",
      "Test set: Average loss: 1.7565, Accuracy: 3021/5000 (60.42%)\n",
      "\n",
      "EPOCHS : 46\n"
     ]
    },
    {
     "name": "stderr",
     "output_type": "stream",
     "text": [
      "Loss=0.732378363609314 Batch_id=390 Accuracy=83.98: 100%|██████████| 391/391 [04:25<00:00,  1.47it/s]  \n"
     ]
    },
    {
     "name": "stdout",
     "output_type": "stream",
     "text": [
      "\n",
      "Test set: Average loss: 1.7586, Accuracy: 3016/5000 (60.32%)\n",
      "\n",
      "EPOCHS : 47\n"
     ]
    },
    {
     "name": "stderr",
     "output_type": "stream",
     "text": [
      "Loss=0.6433103680610657 Batch_id=390 Accuracy=83.79: 100%|██████████| 391/391 [04:22<00:00,  1.49it/s] \n"
     ]
    },
    {
     "name": "stdout",
     "output_type": "stream",
     "text": [
      "\n",
      "Test set: Average loss: 1.7569, Accuracy: 3021/5000 (60.42%)\n",
      "\n",
      "EPOCHS : 48\n"
     ]
    },
    {
     "name": "stderr",
     "output_type": "stream",
     "text": [
      "Loss=0.6048785448074341 Batch_id=390 Accuracy=83.87: 100%|██████████| 391/391 [04:23<00:00,  1.49it/s] "
     ]
    },
    {
     "name": "stdout",
     "output_type": "stream",
     "text": [
      "Epoch 00049: reducing learning rate of group 0 to 1.2500e-06.\n"
     ]
    },
    {
     "name": "stderr",
     "output_type": "stream",
     "text": [
      "\n"
     ]
    },
    {
     "name": "stdout",
     "output_type": "stream",
     "text": [
      "\n",
      "Test set: Average loss: 1.7577, Accuracy: 3026/5000 (60.52%)\n",
      "\n",
      "EPOCHS : 49\n"
     ]
    },
    {
     "name": "stderr",
     "output_type": "stream",
     "text": [
      "Loss=0.550805389881134 Batch_id=390 Accuracy=83.98: 100%|██████████| 391/391 [03:38<00:00,  1.79it/s]  \n"
     ]
    },
    {
     "name": "stdout",
     "output_type": "stream",
     "text": [
      "\n",
      "Test set: Average loss: 1.7581, Accuracy: 3018/5000 (60.36%)\n",
      "\n"
     ]
    }
   ],
   "source": [
    "# Training the model\n",
    "optimizer = optim.SGD(model.parameters(), lr=0.01, momentum=0.9)\n",
    "scheduler = ReduceLROnPlateau(optimizer, mode='min', factor=0.05, patience=2, threshold=0.0001, threshold_mode='rel', cooldown=0, min_lr=0, eps=1e-08, verbose=True)\n",
    "\n",
    "\n",
    "train_acc = []\n",
    "train_losses = []\n",
    "test_acc = []\n",
    "test_losses = []\n",
    "\n",
    "EPOCHS = 50\n",
    "\n",
    "for i in range(EPOCHS):\n",
    "    print(f'EPOCHS : {i}')\n",
    "    model_training(model, device, trainloader, optimizer, train_acc, train_losses)\n",
    "    scheduler.step(train_losses[-1])\n",
    "    misclassified = model_testing(model, device, testloader, test_acc, test_losses)\n",
    "\n",
    "    #Save every multiple of 10 epochs\n",
    "    if i%10==0:\n",
    "        torch.save(model.state_dict(), \"./Networks/ResNet18_TINY_IMAGENET_V0.pt\")\n",
    "        np.savez(\"./Networks/TrainSteps_ResNet18_TinyImagenet_V0.npz\", train_losses=train_losses,train_acc=train_acc, test_losses=test_losses, test_acc=test_acc)\n",
    "\n",
    "torch.save(model.state_dict(), \"./Networks/ResNet18_TINY_IMAGENET_V0.pt\")\n",
    "np.savez(\"./Networks/TrainSteps_ResNet18_TinyImagenet_V0.npz\", train_losses=train_losses,train_acc=train_acc, test_losses=test_losses, test_acc=test_acc)   "
   ]
  },
  {
   "cell_type": "code",
   "execution_count": 13,
   "metadata": {},
   "outputs": [
    {
     "data": {
      "text/plain": [
       "[<matplotlib.lines.Line2D at 0x7f554991bd50>]"
      ]
     },
     "execution_count": 13,
     "metadata": {},
     "output_type": "execute_result"
    },
    {
     "data": {
      "image/png": "[encoded data removed]",
      "text/plain": [
       "<Figure size 800x800 with 4 Axes>"
      ]
     },
     "metadata": {},
     "output_type": "display_data"
    }
   ],
   "source": [
    "fig, axs = plt.subplots(2,2, figsize=(8,8))\n",
    "\n",
    "axs[0,0].set_title('Train Losses')\n",
    "axs[0,1].set_title('Training Accuracy')\n",
    "axs[1,0].set_title('Test Losses')\n",
    "axs[1,1].set_title('Test Accuracy')\n",
    "\n",
    "axs[0,0].plot(train_losses)\n",
    "axs[0,1].plot(train_acc)\n",
    "axs[1,0].plot(test_losses)\n",
    "axs[1,1].plot(test_acc)"
   ]
  }
 ],
 "metadata": {
  "kernelspec": {
   "display_name": "pytorch",
   "language": "python",
   "name": "python3"
  },
  "language_info": {
   "codemirror_mode": {
    "name": "ipython",
    "version": 3
   },
   "file_extension": ".py",
   "mimetype": "text/x-python",
   "name": "python",
   "nbconvert_exporter": "python",
   "pygments_lexer": "ipython3",
   "version": "3.11.6"
  }
 },
 "nbformat": 4,
 "nbformat_minor": 2
}
