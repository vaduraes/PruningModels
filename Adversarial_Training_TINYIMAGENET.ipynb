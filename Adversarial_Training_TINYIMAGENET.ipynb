{
 "cells": [
  {
   "cell_type": "code",
   "execution_count": 1,
   "metadata": {},
   "outputs": [],
   "source": [
    "import torch\n",
    "import torch.nn as nn\n",
    "import torch.optim as optim\n",
    "from torch.optim.lr_scheduler import StepLR, ReduceLROnPlateau\n",
    "import torch.nn.functional as F\n",
    "\n",
    "\n",
    "import torchvision\n",
    "from torchvision.models import resnet18, ResNet18_Weights, vgg16, VGG16_Weights\n",
    "from torchvision import datasets\n",
    "from torchvision import transforms\n",
    "\n",
    "from tqdm import tqdm\n",
    "import numpy as np\n",
    "import matplotlib.pyplot as plt\n",
    "\n",
    "\n",
    "import os\n",
    "import sys\n",
    "from torchsummary import summary\n",
    "\n",
    "\n",
    "#device config\n",
    "torch.cuda.set_device(0)#Select GPU device 1\n",
    "device=torch.device(\"cuda\" if torch.cuda.is_available() else \"cpu\")\n",
    "\n",
    "#Get Packages\n",
    "sys.path.append('./Tools')\n",
    "from AdversarialExamples import GetAdversarialExamples\n",
    "\n",
    "#Network architectures\n",
    "from ResNet18_CIFAR10 import ResNet18_CIFAR10_Model\n",
    "from ResNet18_TINYIMAGENET import ResNet18_TINYIMAGENET_Model\n",
    "from VGG16_CIFAR10 import VGG16_CIFAR10_Model\n",
    "from VGG16_TINYIMAGENET import VGG16_TINYIMAGENET_Model\n",
    "\n",
    "#Non Corrupted DataLoaders\n",
    "from CIFAR10_LOADER import CIFAR10DataLoader\n",
    "from TINYIMAGENET_LOADER import TINYIMAGENETDataLoader\n",
    "\n",
    "#Non Corrupted DataLoaders\n",
    "from CIFAR10C_LOADER import CIFAR10C_DataLoader #Each Corruption is a entry in the dictionary\n",
    "from TINYIMAGENET_C_LOADER import TinyImagenetC_DataLoader #Each Corruption is a entry in the dictionary\n",
    "\n",
    "#Error Metrics\n",
    "from ErrorMetrics import Evaluate_Model_TOP1\n"
   ]
  },
  {
   "cell_type": "markdown",
   "metadata": {},
   "source": [
    "# Unpruned Models / And Original Datasets"
   ]
  },
  {
   "cell_type": "code",
   "execution_count": 2,
   "metadata": {},
   "outputs": [
    {
     "name": "stdout",
     "output_type": "stream",
     "text": [
      "Files already downloaded and verified\n",
      "Files already downloaded and verified\n"
     ]
    }
   ],
   "source": [
    "#Network weights\n",
    "ResNet18_CIFAR10_Weights= torch.load(\"./Networks/ResNet18_CIFAR10_V0.pt\")\n",
    "ResNet18_TINYIMAGENET_Weights=torch.load(\"./Networks/ResNet18_TINY_IMAGENET_V0.pt\")\n",
    "VGG16_CIFAR10_Weights=torch.load(\"./Networks/VGG16_CIFAR10_V0.pt\")\n",
    "VGG16_TINYIMAGENET_Weights=torch.load(\"./Networks/VGG16_TINY_IMAGENET_V0.pt\")\n",
    "\n",
    "#Unpruned Models\n",
    "ResNet18_CIFAR10_0P=ResNet18_CIFAR10_Model()\n",
    "ResNet18_CIFAR10_0P.load_state_dict(ResNet18_CIFAR10_Weights)\n",
    "\n",
    "ResNet18_TINYIMAGENET_0P=ResNet18_TINYIMAGENET_Model()\n",
    "ResNet18_TINYIMAGENET_0P.load_state_dict(ResNet18_TINYIMAGENET_Weights)\n",
    "\n",
    "VGG16_CIFAR10_0P=VGG16_CIFAR10_Model()\n",
    "VGG16_CIFAR10_0P.load_state_dict(VGG16_CIFAR10_Weights)\n",
    "\n",
    "VGG16_TINYIMAGENET_0P=VGG16_TINYIMAGENET_Model()\n",
    "VGG16_TINYIMAGENET_0P.load_state_dict(VGG16_TINYIMAGENET_Weights)\n",
    "\n",
    "#Datasets\n",
    "from unittest import loader\n",
    "Times=1\n",
    "trainloader_CIFAR10, testloader_CIFAR10=CIFAR10DataLoader(batch_size=512*Times) #Load Data for CIFAR10\n",
    "trainloader_TINYIMAGENET, testloader_TINYIMAGENET=TINYIMAGENETDataLoader(NPZ=True,batch_size=512*Times) #Load Data for TINYIMAGENET\n",
    "loader_CIFAR10C=CIFAR10C_DataLoader(batch_size=512*Times) #Load Data for CIFAR10C\n",
    "loader_TinyImagenetC=TinyImagenetC_DataLoader(NPZ=True,batch_size=512*Times) #Load Data for TINYIMAGENETC\n",
    "\n",
    "\n",
    "#\n",
    "MeanCIFAR10=(0.491, 0.482, 0.446)\n",
    "StdCIFAR10=(0.247, 0.243, 0.261)\n",
    "MeanImagenet=(0.485, 0.456, 0.406)\n",
    "StdImagenet=(0.229, 0.224, 0.225)"
   ]
  },
  {
   "cell_type": "markdown",
   "metadata": {},
   "source": [
    "# Training With Adversarial"
   ]
  },
  {
   "cell_type": "code",
   "execution_count": 3,
   "metadata": {},
   "outputs": [],
   "source": [
    "def model_training(model, device, train_dataloader, optimizer, train_acc, train_losses, epsilon, mean, std):\n",
    "\n",
    "    model.train()\n",
    "    pbar = tqdm(train_dataloader)\n",
    "    correct = 0\n",
    "    processed = 0\n",
    "    running_loss = 0.0\n",
    "\n",
    "    for batch_idx, (data, target) in enumerate(pbar):\n",
    "        data, target = data.to(device), target.to(device)\n",
    "        data=GetAdversarialExamples(model, data, target, device, epsilon=epsilon, mean=mean, std=std)\n",
    "\n",
    "\n",
    "        optimizer.zero_grad()\n",
    "        y_pred = model(data)\n",
    "        loss = F.nll_loss(y_pred, target) #negative log likelihood loss\n",
    "\n",
    "\n",
    "        train_losses.append(loss.item())\n",
    "        loss.backward()\n",
    "        optimizer.step() #Performs a single optimization step (parameter update).\n",
    "\n",
    "        pred = y_pred.argmax(dim=1, keepdim=True)\n",
    "        correct += pred.eq(target.view_as(pred)).sum().item()\n",
    "        processed += len(data)\n",
    "        # print statistics\n",
    "        running_loss += loss.item()\n",
    "        pbar.set_description(desc=f'Loss={loss.item()} Batch_id={batch_idx} Accuracy={100*correct/processed:0.2f}')\n",
    "        train_acc.append(100*correct/processed)\n",
    "\n",
    "def model_testing(model, device, test_dataloader, test_acc, test_losses, misclassified = []):\n",
    "\n",
    "    model.eval()\n",
    "    test_loss = 0\n",
    "    correct = 0\n",
    "    class_correct = list(0. for i in range(10))\n",
    "    class_total = list(0. for i in range(10))\n",
    "    # label = 0\n",
    "    classes = ('plane', 'car', 'bird', 'cat',\n",
    "           'deer', 'dog', 'frog', 'horse', 'ship', 'truck')\n",
    "\n",
    "    with torch.no_grad():\n",
    "\n",
    "        for index, (data, target) in enumerate(test_dataloader):\n",
    "            data, target = data.to(device), target.to(device)\n",
    "            output = model(data)\n",
    "            pred = output.argmax(dim=1, keepdim=True)\n",
    "\n",
    "            for d,i,j in zip(data, pred, target):\n",
    "                if i != j:\n",
    "                    misclassified.append([d.cpu(),i[0].cpu(),j.cpu()])\n",
    "\n",
    "            test_loss += F.nll_loss(output, target, reduction='sum').item()\n",
    "            correct += pred.eq(target.view_as(pred)).sum().item()\n",
    "\n",
    "    test_loss /= len(test_dataloader.dataset)\n",
    "    test_losses.append(test_loss)\n",
    "\n",
    "    print('\\nTest set: Average loss: {:.4f}, Accuracy: {}/{} ({:.2f}%)\\n'.format(\n",
    "        test_loss, correct, len(test_dataloader.dataset),\n",
    "        100. * correct / len(test_dataloader.dataset)))\n",
    "\n",
    "    test_acc.append(100. * correct / len(test_dataloader.dataset))\n",
    "    return misclassified\n"
   ]
  },
  {
   "cell_type": "markdown",
   "metadata": {},
   "source": [
    "# Epsilon 0.05"
   ]
  },
  {
   "cell_type": "code",
   "execution_count": 4,
   "metadata": {},
   "outputs": [
    {
     "data": {
      "image/png": "[encoded data removed]",
      "text/plain": [
       "<Figure size 1000x1000 with 2 Axes>"
      ]
     },
     "metadata": {},
     "output_type": "display_data"
    }
   ],
   "source": [
    "epsilon=0.05\n",
    "mean=MeanImagenet\n",
    "std=StdImagenet\n",
    "model=ResNet18_TINYIMAGENET_0P\n",
    "trainloader=trainloader_TINYIMAGENET\n",
    "testloader=testloader_TINYIMAGENET\n",
    "\n",
    "#Check Images for epsion levels\n",
    "for data, target in trainloader:\n",
    "    data, target = data.to(device), target.to(device)\n",
    "    data_Adv=GetAdversarialExamples(model, data, target, device, epsilon=epsilon, mean=mean, std=std)\n",
    "\n",
    "    data = transforms.Normalize((-mean[0]/std[0], -mean[1]/std[1], -mean[2]/std[2]), (1/std[0], 1/std[1], 1/std[2]))(data)\n",
    "    data_Adv = transforms.Normalize((-mean[0]/std[0], -mean[1]/std[1], -mean[2]/std[2]), (1/std[0], 1/std[1], 1/std[2]))(data_Adv)\n",
    "    break\n",
    "\n",
    "IdxImage=np.random.randint(0,data.shape[0])\n",
    "with torch.no_grad():\n",
    "    #plot an image from data and from data_Adv\n",
    "    plt.figure(figsize=(10,10))\n",
    "    plt.subplot(1,2,1)\n",
    "    plt.imshow(data[IdxImage].cpu().numpy().transpose(1,2,0))\n",
    "    plt.title(\"Original Image\")\n",
    "    plt.subplot(1,2,2)\n",
    "    plt.imshow(data_Adv[IdxImage].cpu().numpy().transpose(1,2,0))\n",
    "    plt.title(\"Adversarial Image\")\n",
    "    plt.show()\n"
   ]
  },
  {
   "cell_type": "code",
   "execution_count": 5,
   "metadata": {},
   "outputs": [
    {
     "name": "stdout",
     "output_type": "stream",
     "text": [
      "EPOCHS : 0\n"
     ]
    },
    {
     "name": "stderr",
     "output_type": "stream",
     "text": [
      "Loss=5.1022748947143555 Batch_id=195 Accuracy=3.35: 100%|██████████| 196/196 [02:26<00:00,  1.34it/s]\n"
     ]
    },
    {
     "name": "stdout",
     "output_type": "stream",
     "text": [
      "\n",
      "Test set: Average loss: 4.0619, Accuracy: 948/5000 (18.96%)\n",
      "\n",
      "EPOCHS : 1\n"
     ]
    },
    {
     "name": "stderr",
     "output_type": "stream",
     "text": [
      "Loss=4.797888278961182 Batch_id=195 Accuracy=4.62: 100%|██████████| 196/196 [02:27<00:00,  1.33it/s] \n"
     ]
    },
    {
     "name": "stdout",
     "output_type": "stream",
     "text": [
      "\n",
      "Test set: Average loss: 3.8185, Accuracy: 1124/5000 (22.48%)\n",
      "\n",
      "EPOCHS : 2\n"
     ]
    },
    {
     "name": "stderr",
     "output_type": "stream",
     "text": [
      "Loss=4.623526096343994 Batch_id=195 Accuracy=5.64: 100%|██████████| 196/196 [02:27<00:00,  1.33it/s] \n"
     ]
    },
    {
     "name": "stdout",
     "output_type": "stream",
     "text": [
      "\n",
      "Test set: Average loss: 3.7142, Accuracy: 1216/5000 (24.32%)\n",
      "\n",
      "EPOCHS : 3\n"
     ]
    },
    {
     "name": "stderr",
     "output_type": "stream",
     "text": [
      "Loss=4.646237373352051 Batch_id=195 Accuracy=6.49: 100%|██████████| 196/196 [02:27<00:00,  1.33it/s] \n"
     ]
    },
    {
     "name": "stdout",
     "output_type": "stream",
     "text": [
      "\n",
      "Test set: Average loss: 3.6014, Accuracy: 1308/5000 (26.16%)\n",
      "\n",
      "EPOCHS : 4\n"
     ]
    },
    {
     "name": "stderr",
     "output_type": "stream",
     "text": [
      "Loss=4.593902111053467 Batch_id=195 Accuracy=7.08: 100%|██████████| 196/196 [02:26<00:00,  1.33it/s] \n"
     ]
    },
    {
     "name": "stdout",
     "output_type": "stream",
     "text": [
      "\n",
      "Test set: Average loss: 3.5236, Accuracy: 1321/5000 (26.42%)\n",
      "\n",
      "EPOCHS : 5\n"
     ]
    },
    {
     "name": "stderr",
     "output_type": "stream",
     "text": [
      "Loss=4.622334957122803 Batch_id=195 Accuracy=7.66: 100%|██████████| 196/196 [02:26<00:00,  1.34it/s] \n"
     ]
    },
    {
     "name": "stdout",
     "output_type": "stream",
     "text": [
      "\n",
      "Test set: Average loss: 3.4590, Accuracy: 1424/5000 (28.48%)\n",
      "\n",
      "EPOCHS : 6\n"
     ]
    },
    {
     "name": "stderr",
     "output_type": "stream",
     "text": [
      "Loss=4.655618667602539 Batch_id=195 Accuracy=8.02: 100%|██████████| 196/196 [02:26<00:00,  1.34it/s] \n"
     ]
    },
    {
     "name": "stdout",
     "output_type": "stream",
     "text": [
      "\n",
      "Test set: Average loss: 3.4184, Accuracy: 1452/5000 (29.04%)\n",
      "\n",
      "EPOCHS : 7\n"
     ]
    },
    {
     "name": "stderr",
     "output_type": "stream",
     "text": [
      "Loss=4.603226184844971 Batch_id=195 Accuracy=8.38: 100%|██████████| 196/196 [02:25<00:00,  1.34it/s] "
     ]
    },
    {
     "name": "stdout",
     "output_type": "stream",
     "text": [
      "Epoch 00008: reducing learning rate of group 0 to 5.0000e-04.\n"
     ]
    },
    {
     "name": "stderr",
     "output_type": "stream",
     "text": [
      "\n"
     ]
    },
    {
     "name": "stdout",
     "output_type": "stream",
     "text": [
      "\n",
      "Test set: Average loss: 3.3928, Accuracy: 1491/5000 (29.82%)\n",
      "\n",
      "EPOCHS : 8\n"
     ]
    },
    {
     "name": "stderr",
     "output_type": "stream",
     "text": [
      "Loss=4.729335784912109 Batch_id=195 Accuracy=9.18: 100%|██████████| 196/196 [02:25<00:00,  1.35it/s] \n"
     ]
    },
    {
     "name": "stdout",
     "output_type": "stream",
     "text": [
      "\n",
      "Test set: Average loss: 3.3468, Accuracy: 1544/5000 (30.88%)\n",
      "\n",
      "EPOCHS : 9\n"
     ]
    },
    {
     "name": "stderr",
     "output_type": "stream",
     "text": [
      "Loss=4.421520233154297 Batch_id=195 Accuracy=9.49: 100%|██████████| 196/196 [02:26<00:00,  1.34it/s] \n"
     ]
    },
    {
     "name": "stdout",
     "output_type": "stream",
     "text": [
      "\n",
      "Test set: Average loss: 3.3332, Accuracy: 1546/5000 (30.92%)\n",
      "\n",
      "EPOCHS : 10\n"
     ]
    },
    {
     "name": "stderr",
     "output_type": "stream",
     "text": [
      "Loss=4.459929943084717 Batch_id=195 Accuracy=9.47: 100%|██████████| 196/196 [02:26<00:00,  1.34it/s] \n"
     ]
    },
    {
     "name": "stdout",
     "output_type": "stream",
     "text": [
      "\n",
      "Test set: Average loss: 3.3210, Accuracy: 1564/5000 (31.28%)\n",
      "\n",
      "EPOCHS : 11\n"
     ]
    },
    {
     "name": "stderr",
     "output_type": "stream",
     "text": [
      "Loss=4.397773742675781 Batch_id=195 Accuracy=9.41: 100%|██████████| 196/196 [02:26<00:00,  1.34it/s] \n"
     ]
    },
    {
     "name": "stdout",
     "output_type": "stream",
     "text": [
      "\n",
      "Test set: Average loss: 3.3186, Accuracy: 1566/5000 (31.32%)\n",
      "\n",
      "EPOCHS : 12\n"
     ]
    },
    {
     "name": "stderr",
     "output_type": "stream",
     "text": [
      "Loss=4.413500785827637 Batch_id=195 Accuracy=9.52: 100%|██████████| 196/196 [02:25<00:00,  1.34it/s] \n"
     ]
    },
    {
     "name": "stdout",
     "output_type": "stream",
     "text": [
      "\n",
      "Test set: Average loss: 3.3051, Accuracy: 1572/5000 (31.44%)\n",
      "\n",
      "EPOCHS : 13\n"
     ]
    },
    {
     "name": "stderr",
     "output_type": "stream",
     "text": [
      "Loss=4.516712188720703 Batch_id=195 Accuracy=9.55: 100%|██████████| 196/196 [02:25<00:00,  1.34it/s] \n"
     ]
    },
    {
     "name": "stdout",
     "output_type": "stream",
     "text": [
      "\n",
      "Test set: Average loss: 3.3019, Accuracy: 1576/5000 (31.52%)\n",
      "\n",
      "EPOCHS : 14\n"
     ]
    },
    {
     "name": "stderr",
     "output_type": "stream",
     "text": [
      "Loss=4.625880241394043 Batch_id=195 Accuracy=9.54: 100%|██████████| 196/196 [02:25<00:00,  1.34it/s] "
     ]
    },
    {
     "name": "stdout",
     "output_type": "stream",
     "text": [
      "Epoch 00015: reducing learning rate of group 0 to 2.5000e-05.\n"
     ]
    },
    {
     "name": "stderr",
     "output_type": "stream",
     "text": [
      "\n"
     ]
    },
    {
     "name": "stdout",
     "output_type": "stream",
     "text": [
      "\n",
      "Test set: Average loss: 3.2993, Accuracy: 1574/5000 (31.48%)\n",
      "\n",
      "EPOCHS : 15\n"
     ]
    },
    {
     "name": "stderr",
     "output_type": "stream",
     "text": [
      "Loss=4.522253513336182 Batch_id=195 Accuracy=9.57: 100%|██████████| 196/196 [02:25<00:00,  1.34it/s] \n"
     ]
    },
    {
     "name": "stdout",
     "output_type": "stream",
     "text": [
      "\n",
      "Test set: Average loss: 3.2948, Accuracy: 1576/5000 (31.52%)\n",
      "\n",
      "EPOCHS : 16\n"
     ]
    },
    {
     "name": "stderr",
     "output_type": "stream",
     "text": [
      "Loss=4.449936389923096 Batch_id=195 Accuracy=9.65: 100%|██████████| 196/196 [02:23<00:00,  1.36it/s] \n"
     ]
    },
    {
     "name": "stdout",
     "output_type": "stream",
     "text": [
      "\n",
      "Test set: Average loss: 3.3015, Accuracy: 1573/5000 (31.46%)\n",
      "\n",
      "EPOCHS : 17\n"
     ]
    },
    {
     "name": "stderr",
     "output_type": "stream",
     "text": [
      "Loss=4.319918155670166 Batch_id=195 Accuracy=9.59: 100%|██████████| 196/196 [02:23<00:00,  1.36it/s] \n"
     ]
    },
    {
     "name": "stdout",
     "output_type": "stream",
     "text": [
      "\n",
      "Test set: Average loss: 3.2953, Accuracy: 1582/5000 (31.64%)\n",
      "\n",
      "EPOCHS : 18\n"
     ]
    },
    {
     "name": "stderr",
     "output_type": "stream",
     "text": [
      "Loss=4.507287502288818 Batch_id=195 Accuracy=9.61: 100%|██████████| 196/196 [02:23<00:00,  1.36it/s] \n"
     ]
    },
    {
     "name": "stdout",
     "output_type": "stream",
     "text": [
      "\n",
      "Test set: Average loss: 3.3072, Accuracy: 1572/5000 (31.44%)\n",
      "\n",
      "EPOCHS : 19\n"
     ]
    },
    {
     "name": "stderr",
     "output_type": "stream",
     "text": [
      "Loss=4.3973493576049805 Batch_id=195 Accuracy=9.79: 100%|██████████| 196/196 [02:23<00:00,  1.36it/s]\n"
     ]
    },
    {
     "name": "stdout",
     "output_type": "stream",
     "text": [
      "\n",
      "Test set: Average loss: 3.2972, Accuracy: 1578/5000 (31.56%)\n",
      "\n",
      "EPOCHS : 20\n"
     ]
    },
    {
     "name": "stderr",
     "output_type": "stream",
     "text": [
      "Loss=4.24603271484375 Batch_id=195 Accuracy=9.58: 100%|██████████| 196/196 [02:23<00:00,  1.36it/s]  \n"
     ]
    },
    {
     "name": "stdout",
     "output_type": "stream",
     "text": [
      "\n",
      "Test set: Average loss: 3.3043, Accuracy: 1584/5000 (31.68%)\n",
      "\n",
      "EPOCHS : 21\n"
     ]
    },
    {
     "name": "stderr",
     "output_type": "stream",
     "text": [
      "Loss=4.147015571594238 Batch_id=195 Accuracy=9.79: 100%|██████████| 196/196 [02:23<00:00,  1.36it/s] \n"
     ]
    },
    {
     "name": "stdout",
     "output_type": "stream",
     "text": [
      "\n",
      "Test set: Average loss: 3.3056, Accuracy: 1586/5000 (31.72%)\n",
      "\n",
      "EPOCHS : 22\n"
     ]
    },
    {
     "name": "stderr",
     "output_type": "stream",
     "text": [
      "Loss=4.368441581726074 Batch_id=195 Accuracy=9.69: 100%|██████████| 196/196 [02:23<00:00,  1.36it/s] \n"
     ]
    },
    {
     "name": "stdout",
     "output_type": "stream",
     "text": [
      "\n",
      "Test set: Average loss: 3.3008, Accuracy: 1574/5000 (31.48%)\n",
      "\n",
      "EPOCHS : 23\n"
     ]
    },
    {
     "name": "stderr",
     "output_type": "stream",
     "text": [
      "Loss=4.2823076248168945 Batch_id=195 Accuracy=9.69: 100%|██████████| 196/196 [02:23<00:00,  1.36it/s]\n"
     ]
    },
    {
     "name": "stdout",
     "output_type": "stream",
     "text": [
      "\n",
      "Test set: Average loss: 3.2958, Accuracy: 1576/5000 (31.52%)\n",
      "\n",
      "EPOCHS : 24\n"
     ]
    },
    {
     "name": "stderr",
     "output_type": "stream",
     "text": [
      "Loss=4.350950717926025 Batch_id=195 Accuracy=9.57: 100%|██████████| 196/196 [02:23<00:00,  1.36it/s] "
     ]
    },
    {
     "name": "stdout",
     "output_type": "stream",
     "text": [
      "Epoch 00025: reducing learning rate of group 0 to 1.2500e-06.\n"
     ]
    },
    {
     "name": "stderr",
     "output_type": "stream",
     "text": [
      "\n"
     ]
    },
    {
     "name": "stdout",
     "output_type": "stream",
     "text": [
      "\n",
      "Test set: Average loss: 3.3027, Accuracy: 1585/5000 (31.70%)\n",
      "\n",
      "EPOCHS : 25\n"
     ]
    },
    {
     "name": "stderr",
     "output_type": "stream",
     "text": [
      "Loss=4.28273344039917 Batch_id=195 Accuracy=9.64: 100%|██████████| 196/196 [02:23<00:00,  1.36it/s]  \n"
     ]
    },
    {
     "name": "stdout",
     "output_type": "stream",
     "text": [
      "\n",
      "Test set: Average loss: 3.3024, Accuracy: 1578/5000 (31.56%)\n",
      "\n",
      "EPOCHS : 26\n"
     ]
    },
    {
     "name": "stderr",
     "output_type": "stream",
     "text": [
      "Loss=4.465616226196289 Batch_id=195 Accuracy=9.65: 100%|██████████| 196/196 [02:23<00:00,  1.36it/s] \n"
     ]
    },
    {
     "name": "stdout",
     "output_type": "stream",
     "text": [
      "\n",
      "Test set: Average loss: 3.2932, Accuracy: 1580/5000 (31.60%)\n",
      "\n",
      "EPOCHS : 27\n"
     ]
    },
    {
     "name": "stderr",
     "output_type": "stream",
     "text": [
      "Loss=4.4570441246032715 Batch_id=195 Accuracy=9.69: 100%|██████████| 196/196 [02:23<00:00,  1.36it/s]"
     ]
    },
    {
     "name": "stdout",
     "output_type": "stream",
     "text": [
      "Epoch 00028: reducing learning rate of group 0 to 6.2500e-08.\n"
     ]
    },
    {
     "name": "stderr",
     "output_type": "stream",
     "text": [
      "\n"
     ]
    },
    {
     "name": "stdout",
     "output_type": "stream",
     "text": [
      "\n",
      "Test set: Average loss: 3.2961, Accuracy: 1581/5000 (31.62%)\n",
      "\n",
      "EPOCHS : 28\n"
     ]
    },
    {
     "name": "stderr",
     "output_type": "stream",
     "text": [
      "Loss=4.523774147033691 Batch_id=195 Accuracy=9.70: 100%|██████████| 196/196 [02:23<00:00,  1.36it/s] \n"
     ]
    },
    {
     "name": "stdout",
     "output_type": "stream",
     "text": [
      "\n",
      "Test set: Average loss: 3.2947, Accuracy: 1578/5000 (31.56%)\n",
      "\n",
      "EPOCHS : 29\n"
     ]
    },
    {
     "name": "stderr",
     "output_type": "stream",
     "text": [
      "Loss=4.530464172363281 Batch_id=195 Accuracy=9.65: 100%|██████████| 196/196 [02:23<00:00,  1.36it/s] \n"
     ]
    },
    {
     "name": "stdout",
     "output_type": "stream",
     "text": [
      "\n",
      "Test set: Average loss: 3.2814, Accuracy: 1578/5000 (31.56%)\n",
      "\n",
      "EPOCHS : 30\n"
     ]
    },
    {
     "name": "stderr",
     "output_type": "stream",
     "text": [
      "Loss=4.241587162017822 Batch_id=195 Accuracy=9.60: 100%|██████████| 196/196 [02:23<00:00,  1.36it/s] "
     ]
    },
    {
     "name": "stdout",
     "output_type": "stream",
     "text": [
      "Epoch 00031: reducing learning rate of group 0 to 3.1250e-09.\n"
     ]
    },
    {
     "name": "stderr",
     "output_type": "stream",
     "text": [
      "\n"
     ]
    },
    {
     "name": "stdout",
     "output_type": "stream",
     "text": [
      "\n",
      "Test set: Average loss: 3.2983, Accuracy: 1582/5000 (31.64%)\n",
      "\n",
      "EPOCHS : 31\n"
     ]
    },
    {
     "name": "stderr",
     "output_type": "stream",
     "text": [
      "Loss=4.3365325927734375 Batch_id=195 Accuracy=9.64: 100%|██████████| 196/196 [02:24<00:00,  1.36it/s]\n"
     ]
    },
    {
     "name": "stdout",
     "output_type": "stream",
     "text": [
      "\n",
      "Test set: Average loss: 3.2833, Accuracy: 1580/5000 (31.60%)\n",
      "\n",
      "EPOCHS : 32\n"
     ]
    },
    {
     "name": "stderr",
     "output_type": "stream",
     "text": [
      "Loss=4.424249172210693 Batch_id=195 Accuracy=9.64: 100%|██████████| 196/196 [02:23<00:00,  1.36it/s] \n"
     ]
    },
    {
     "name": "stdout",
     "output_type": "stream",
     "text": [
      "\n",
      "Test set: Average loss: 3.2921, Accuracy: 1571/5000 (31.42%)\n",
      "\n",
      "EPOCHS : 33\n"
     ]
    },
    {
     "name": "stderr",
     "output_type": "stream",
     "text": [
      "Loss=4.718662738800049 Batch_id=195 Accuracy=9.60: 100%|██████████| 196/196 [02:24<00:00,  1.36it/s] \n"
     ]
    },
    {
     "name": "stdout",
     "output_type": "stream",
     "text": [
      "\n",
      "Test set: Average loss: 3.2998, Accuracy: 1582/5000 (31.64%)\n",
      "\n",
      "EPOCHS : 34\n"
     ]
    },
    {
     "name": "stderr",
     "output_type": "stream",
     "text": [
      "Loss=4.612305641174316 Batch_id=195 Accuracy=9.67: 100%|██████████| 196/196 [02:23<00:00,  1.36it/s] \n"
     ]
    },
    {
     "name": "stdout",
     "output_type": "stream",
     "text": [
      "\n",
      "Test set: Average loss: 3.2913, Accuracy: 1576/5000 (31.52%)\n",
      "\n",
      "EPOCHS : 35\n"
     ]
    },
    {
     "name": "stderr",
     "output_type": "stream",
     "text": [
      "Loss=4.359009742736816 Batch_id=195 Accuracy=9.58: 100%|██████████| 196/196 [02:23<00:00,  1.36it/s] \n"
     ]
    },
    {
     "name": "stdout",
     "output_type": "stream",
     "text": [
      "\n",
      "Test set: Average loss: 3.3009, Accuracy: 1586/5000 (31.72%)\n",
      "\n",
      "EPOCHS : 36\n"
     ]
    },
    {
     "name": "stderr",
     "output_type": "stream",
     "text": [
      "Loss=4.625833034515381 Batch_id=195 Accuracy=9.70: 100%|██████████| 196/196 [02:23<00:00,  1.36it/s] \n"
     ]
    },
    {
     "name": "stdout",
     "output_type": "stream",
     "text": [
      "\n",
      "Test set: Average loss: 3.2814, Accuracy: 1575/5000 (31.50%)\n",
      "\n",
      "EPOCHS : 37\n"
     ]
    },
    {
     "name": "stderr",
     "output_type": "stream",
     "text": [
      "Loss=4.515384674072266 Batch_id=195 Accuracy=9.74: 100%|██████████| 196/196 [02:23<00:00,  1.36it/s] \n"
     ]
    },
    {
     "name": "stdout",
     "output_type": "stream",
     "text": [
      "\n",
      "Test set: Average loss: 3.3023, Accuracy: 1582/5000 (31.64%)\n",
      "\n",
      "EPOCHS : 38\n"
     ]
    },
    {
     "name": "stderr",
     "output_type": "stream",
     "text": [
      "Loss=4.549426078796387 Batch_id=195 Accuracy=9.74: 100%|██████████| 196/196 [02:23<00:00,  1.36it/s] \n"
     ]
    },
    {
     "name": "stdout",
     "output_type": "stream",
     "text": [
      "\n",
      "Test set: Average loss: 3.2886, Accuracy: 1575/5000 (31.50%)\n",
      "\n",
      "EPOCHS : 39\n"
     ]
    },
    {
     "name": "stderr",
     "output_type": "stream",
     "text": [
      "Loss=4.453301906585693 Batch_id=195 Accuracy=9.58: 100%|██████████| 196/196 [02:23<00:00,  1.36it/s] \n"
     ]
    },
    {
     "name": "stdout",
     "output_type": "stream",
     "text": [
      "\n",
      "Test set: Average loss: 3.3005, Accuracy: 1579/5000 (31.58%)\n",
      "\n",
      "EPOCHS : 40\n"
     ]
    },
    {
     "name": "stderr",
     "output_type": "stream",
     "text": [
      "Loss=4.4598259925842285 Batch_id=195 Accuracy=9.68: 100%|██████████| 196/196 [02:23<00:00,  1.36it/s]\n"
     ]
    },
    {
     "name": "stdout",
     "output_type": "stream",
     "text": [
      "\n",
      "Test set: Average loss: 3.2913, Accuracy: 1589/5000 (31.78%)\n",
      "\n",
      "EPOCHS : 41\n"
     ]
    },
    {
     "name": "stderr",
     "output_type": "stream",
     "text": [
      "Loss=4.371546745300293 Batch_id=195 Accuracy=9.67: 100%|██████████| 196/196 [02:23<00:00,  1.36it/s] \n"
     ]
    },
    {
     "name": "stdout",
     "output_type": "stream",
     "text": [
      "\n",
      "Test set: Average loss: 3.3055, Accuracy: 1578/5000 (31.56%)\n",
      "\n",
      "EPOCHS : 42\n"
     ]
    },
    {
     "name": "stderr",
     "output_type": "stream",
     "text": [
      "Loss=4.545065879821777 Batch_id=195 Accuracy=9.70: 100%|██████████| 196/196 [02:23<00:00,  1.36it/s] \n"
     ]
    },
    {
     "name": "stdout",
     "output_type": "stream",
     "text": [
      "\n",
      "Test set: Average loss: 3.3015, Accuracy: 1590/5000 (31.80%)\n",
      "\n",
      "EPOCHS : 43\n"
     ]
    },
    {
     "name": "stderr",
     "output_type": "stream",
     "text": [
      "Loss=4.1647748947143555 Batch_id=195 Accuracy=9.78: 100%|██████████| 196/196 [02:24<00:00,  1.36it/s]\n"
     ]
    },
    {
     "name": "stdout",
     "output_type": "stream",
     "text": [
      "\n",
      "Test set: Average loss: 3.3099, Accuracy: 1578/5000 (31.56%)\n",
      "\n",
      "EPOCHS : 44\n"
     ]
    },
    {
     "name": "stderr",
     "output_type": "stream",
     "text": [
      "Loss=4.412695407867432 Batch_id=195 Accuracy=9.66: 100%|██████████| 196/196 [02:23<00:00,  1.36it/s] \n"
     ]
    },
    {
     "name": "stdout",
     "output_type": "stream",
     "text": [
      "\n",
      "Test set: Average loss: 3.2927, Accuracy: 1588/5000 (31.76%)\n",
      "\n",
      "EPOCHS : 45\n"
     ]
    },
    {
     "name": "stderr",
     "output_type": "stream",
     "text": [
      "Loss=4.5458598136901855 Batch_id=195 Accuracy=9.69: 100%|██████████| 196/196 [02:23<00:00,  1.36it/s]\n"
     ]
    },
    {
     "name": "stdout",
     "output_type": "stream",
     "text": [
      "\n",
      "Test set: Average loss: 3.2972, Accuracy: 1585/5000 (31.70%)\n",
      "\n",
      "EPOCHS : 46\n"
     ]
    },
    {
     "name": "stderr",
     "output_type": "stream",
     "text": [
      "Loss=4.544317722320557 Batch_id=195 Accuracy=9.74: 100%|██████████| 196/196 [02:23<00:00,  1.36it/s] \n"
     ]
    },
    {
     "name": "stdout",
     "output_type": "stream",
     "text": [
      "\n",
      "Test set: Average loss: 3.3009, Accuracy: 1577/5000 (31.54%)\n",
      "\n",
      "EPOCHS : 47\n"
     ]
    },
    {
     "name": "stderr",
     "output_type": "stream",
     "text": [
      "Loss=4.373434066772461 Batch_id=195 Accuracy=9.63: 100%|██████████| 196/196 [02:24<00:00,  1.36it/s] \n"
     ]
    },
    {
     "name": "stdout",
     "output_type": "stream",
     "text": [
      "\n",
      "Test set: Average loss: 3.2976, Accuracy: 1580/5000 (31.60%)\n",
      "\n",
      "EPOCHS : 48\n"
     ]
    },
    {
     "name": "stderr",
     "output_type": "stream",
     "text": [
      "Loss=4.345504283905029 Batch_id=195 Accuracy=9.61: 100%|██████████| 196/196 [02:23<00:00,  1.36it/s] \n"
     ]
    },
    {
     "name": "stdout",
     "output_type": "stream",
     "text": [
      "\n",
      "Test set: Average loss: 3.2925, Accuracy: 1578/5000 (31.56%)\n",
      "\n",
      "EPOCHS : 49\n"
     ]
    },
    {
     "name": "stderr",
     "output_type": "stream",
     "text": [
      "Loss=4.471691608428955 Batch_id=195 Accuracy=9.62: 100%|██████████| 196/196 [02:23<00:00,  1.36it/s] \n"
     ]
    },
    {
     "name": "stdout",
     "output_type": "stream",
     "text": [
      "\n",
      "Test set: Average loss: 3.2914, Accuracy: 1578/5000 (31.56%)\n",
      "\n",
      "EPOCHS : 50\n"
     ]
    },
    {
     "name": "stderr",
     "output_type": "stream",
     "text": [
      "Loss=4.425294399261475 Batch_id=195 Accuracy=9.68: 100%|██████████| 196/196 [02:24<00:00,  1.36it/s] \n"
     ]
    },
    {
     "name": "stdout",
     "output_type": "stream",
     "text": [
      "\n",
      "Test set: Average loss: 3.3049, Accuracy: 1584/5000 (31.68%)\n",
      "\n",
      "EPOCHS : 51\n"
     ]
    },
    {
     "name": "stderr",
     "output_type": "stream",
     "text": [
      "Loss=4.471999168395996 Batch_id=195 Accuracy=9.63: 100%|██████████| 196/196 [02:23<00:00,  1.36it/s] \n"
     ]
    },
    {
     "name": "stdout",
     "output_type": "stream",
     "text": [
      "\n",
      "Test set: Average loss: 3.2874, Accuracy: 1596/5000 (31.92%)\n",
      "\n",
      "EPOCHS : 52\n"
     ]
    },
    {
     "name": "stderr",
     "output_type": "stream",
     "text": [
      "Loss=4.368236064910889 Batch_id=195 Accuracy=9.67: 100%|██████████| 196/196 [02:23<00:00,  1.36it/s] \n"
     ]
    },
    {
     "name": "stdout",
     "output_type": "stream",
     "text": [
      "\n",
      "Test set: Average loss: 3.2985, Accuracy: 1587/5000 (31.74%)\n",
      "\n",
      "EPOCHS : 53\n"
     ]
    },
    {
     "name": "stderr",
     "output_type": "stream",
     "text": [
      "Loss=4.49594783782959 Batch_id=195 Accuracy=9.57: 100%|██████████| 196/196 [02:24<00:00,  1.36it/s]  \n"
     ]
    },
    {
     "name": "stdout",
     "output_type": "stream",
     "text": [
      "\n",
      "Test set: Average loss: 3.3001, Accuracy: 1584/5000 (31.68%)\n",
      "\n",
      "EPOCHS : 54\n"
     ]
    },
    {
     "name": "stderr",
     "output_type": "stream",
     "text": [
      "Loss=4.482403755187988 Batch_id=195 Accuracy=9.59: 100%|██████████| 196/196 [02:24<00:00,  1.36it/s] \n"
     ]
    },
    {
     "name": "stdout",
     "output_type": "stream",
     "text": [
      "\n",
      "Test set: Average loss: 3.2832, Accuracy: 1585/5000 (31.70%)\n",
      "\n",
      "EPOCHS : 55\n"
     ]
    },
    {
     "name": "stderr",
     "output_type": "stream",
     "text": [
      "Loss=4.337359428405762 Batch_id=195 Accuracy=9.67: 100%|██████████| 196/196 [02:24<00:00,  1.36it/s] \n"
     ]
    },
    {
     "name": "stdout",
     "output_type": "stream",
     "text": [
      "\n",
      "Test set: Average loss: 3.3015, Accuracy: 1578/5000 (31.56%)\n",
      "\n",
      "EPOCHS : 56\n"
     ]
    },
    {
     "name": "stderr",
     "output_type": "stream",
     "text": [
      "Loss=4.446918487548828 Batch_id=195 Accuracy=9.72: 100%|██████████| 196/196 [02:24<00:00,  1.35it/s] \n"
     ]
    },
    {
     "name": "stdout",
     "output_type": "stream",
     "text": [
      "\n",
      "Test set: Average loss: 3.3009, Accuracy: 1581/5000 (31.62%)\n",
      "\n",
      "EPOCHS : 57\n"
     ]
    },
    {
     "name": "stderr",
     "output_type": "stream",
     "text": [
      "Loss=4.589571475982666 Batch_id=195 Accuracy=9.73: 100%|██████████| 196/196 [02:24<00:00,  1.36it/s] \n"
     ]
    },
    {
     "name": "stdout",
     "output_type": "stream",
     "text": [
      "\n",
      "Test set: Average loss: 3.2892, Accuracy: 1579/5000 (31.58%)\n",
      "\n",
      "EPOCHS : 58\n"
     ]
    },
    {
     "name": "stderr",
     "output_type": "stream",
     "text": [
      "Loss=4.490140438079834 Batch_id=195 Accuracy=9.70: 100%|██████████| 196/196 [02:24<00:00,  1.36it/s] \n"
     ]
    },
    {
     "name": "stdout",
     "output_type": "stream",
     "text": [
      "\n",
      "Test set: Average loss: 3.2892, Accuracy: 1599/5000 (31.98%)\n",
      "\n",
      "EPOCHS : 59\n"
     ]
    },
    {
     "name": "stderr",
     "output_type": "stream",
     "text": [
      "Loss=4.551429271697998 Batch_id=195 Accuracy=9.73: 100%|██████████| 196/196 [02:24<00:00,  1.36it/s] \n"
     ]
    },
    {
     "name": "stdout",
     "output_type": "stream",
     "text": [
      "\n",
      "Test set: Average loss: 3.2933, Accuracy: 1590/5000 (31.80%)\n",
      "\n",
      "EPOCHS : 60\n"
     ]
    },
    {
     "name": "stderr",
     "output_type": "stream",
     "text": [
      "Loss=4.380725860595703 Batch_id=195 Accuracy=9.69: 100%|██████████| 196/196 [02:24<00:00,  1.36it/s] \n"
     ]
    },
    {
     "name": "stdout",
     "output_type": "stream",
     "text": [
      "\n",
      "Test set: Average loss: 3.2919, Accuracy: 1590/5000 (31.80%)\n",
      "\n",
      "EPOCHS : 61\n"
     ]
    },
    {
     "name": "stderr",
     "output_type": "stream",
     "text": [
      "Loss=4.502459526062012 Batch_id=195 Accuracy=9.61: 100%|██████████| 196/196 [02:24<00:00,  1.36it/s] \n"
     ]
    },
    {
     "name": "stdout",
     "output_type": "stream",
     "text": [
      "\n",
      "Test set: Average loss: 3.2968, Accuracy: 1584/5000 (31.68%)\n",
      "\n",
      "EPOCHS : 62\n"
     ]
    },
    {
     "name": "stderr",
     "output_type": "stream",
     "text": [
      "Loss=4.418463706970215 Batch_id=195 Accuracy=9.61: 100%|██████████| 196/196 [02:24<00:00,  1.36it/s] \n"
     ]
    },
    {
     "name": "stdout",
     "output_type": "stream",
     "text": [
      "\n",
      "Test set: Average loss: 3.3008, Accuracy: 1583/5000 (31.66%)\n",
      "\n",
      "EPOCHS : 63\n"
     ]
    },
    {
     "name": "stderr",
     "output_type": "stream",
     "text": [
      "Loss=4.337281227111816 Batch_id=195 Accuracy=9.65: 100%|██████████| 196/196 [02:24<00:00,  1.36it/s] \n"
     ]
    },
    {
     "name": "stdout",
     "output_type": "stream",
     "text": [
      "\n",
      "Test set: Average loss: 3.2922, Accuracy: 1577/5000 (31.54%)\n",
      "\n",
      "EPOCHS : 64\n"
     ]
    },
    {
     "name": "stderr",
     "output_type": "stream",
     "text": [
      "Loss=4.464632987976074 Batch_id=195 Accuracy=9.68: 100%|██████████| 196/196 [02:24<00:00,  1.36it/s] \n"
     ]
    },
    {
     "name": "stdout",
     "output_type": "stream",
     "text": [
      "\n",
      "Test set: Average loss: 3.2955, Accuracy: 1590/5000 (31.80%)\n",
      "\n",
      "EPOCHS : 65\n"
     ]
    },
    {
     "name": "stderr",
     "output_type": "stream",
     "text": [
      "Loss=4.520815849304199 Batch_id=195 Accuracy=9.73: 100%|██████████| 196/196 [02:24<00:00,  1.36it/s] \n"
     ]
    },
    {
     "name": "stdout",
     "output_type": "stream",
     "text": [
      "\n",
      "Test set: Average loss: 3.2922, Accuracy: 1590/5000 (31.80%)\n",
      "\n",
      "EPOCHS : 66\n"
     ]
    },
    {
     "name": "stderr",
     "output_type": "stream",
     "text": [
      "Loss=4.4088239669799805 Batch_id=195 Accuracy=9.72: 100%|██████████| 196/196 [02:24<00:00,  1.36it/s]\n"
     ]
    },
    {
     "name": "stdout",
     "output_type": "stream",
     "text": [
      "\n",
      "Test set: Average loss: 3.2976, Accuracy: 1584/5000 (31.68%)\n",
      "\n",
      "EPOCHS : 67\n"
     ]
    },
    {
     "name": "stderr",
     "output_type": "stream",
     "text": [
      "Loss=4.339400291442871 Batch_id=195 Accuracy=9.78: 100%|██████████| 196/196 [02:24<00:00,  1.36it/s] \n"
     ]
    },
    {
     "name": "stdout",
     "output_type": "stream",
     "text": [
      "\n",
      "Test set: Average loss: 3.3088, Accuracy: 1570/5000 (31.40%)\n",
      "\n",
      "EPOCHS : 68\n"
     ]
    },
    {
     "name": "stderr",
     "output_type": "stream",
     "text": [
      "Loss=4.429104328155518 Batch_id=195 Accuracy=9.70: 100%|██████████| 196/196 [02:24<00:00,  1.36it/s] \n"
     ]
    },
    {
     "name": "stdout",
     "output_type": "stream",
     "text": [
      "\n",
      "Test set: Average loss: 3.2962, Accuracy: 1580/5000 (31.60%)\n",
      "\n",
      "EPOCHS : 69\n"
     ]
    },
    {
     "name": "stderr",
     "output_type": "stream",
     "text": [
      "Loss=4.279475688934326 Batch_id=195 Accuracy=9.65: 100%|██████████| 196/196 [02:24<00:00,  1.36it/s] \n"
     ]
    },
    {
     "name": "stdout",
     "output_type": "stream",
     "text": [
      "\n",
      "Test set: Average loss: 3.2922, Accuracy: 1579/5000 (31.58%)\n",
      "\n",
      "EPOCHS : 70\n"
     ]
    },
    {
     "name": "stderr",
     "output_type": "stream",
     "text": [
      "Loss=4.421555042266846 Batch_id=195 Accuracy=9.61: 100%|██████████| 196/196 [02:24<00:00,  1.36it/s] \n"
     ]
    },
    {
     "name": "stdout",
     "output_type": "stream",
     "text": [
      "\n",
      "Test set: Average loss: 3.2933, Accuracy: 1593/5000 (31.86%)\n",
      "\n",
      "EPOCHS : 71\n"
     ]
    },
    {
     "name": "stderr",
     "output_type": "stream",
     "text": [
      "Loss=4.601046562194824 Batch_id=195 Accuracy=9.62: 100%|██████████| 196/196 [02:24<00:00,  1.35it/s] \n"
     ]
    },
    {
     "name": "stdout",
     "output_type": "stream",
     "text": [
      "\n",
      "Test set: Average loss: 3.2890, Accuracy: 1584/5000 (31.68%)\n",
      "\n",
      "EPOCHS : 72\n"
     ]
    },
    {
     "name": "stderr",
     "output_type": "stream",
     "text": [
      "Loss=4.451248645782471 Batch_id=195 Accuracy=9.78: 100%|██████████| 196/196 [02:25<00:00,  1.34it/s] \n"
     ]
    },
    {
     "name": "stdout",
     "output_type": "stream",
     "text": [
      "\n",
      "Test set: Average loss: 3.2941, Accuracy: 1591/5000 (31.82%)\n",
      "\n",
      "EPOCHS : 73\n"
     ]
    },
    {
     "name": "stderr",
     "output_type": "stream",
     "text": [
      "Loss=4.377302169799805 Batch_id=195 Accuracy=9.60: 100%|██████████| 196/196 [02:29<00:00,  1.31it/s] \n"
     ]
    },
    {
     "name": "stdout",
     "output_type": "stream",
     "text": [
      "\n",
      "Test set: Average loss: 3.2990, Accuracy: 1577/5000 (31.54%)\n",
      "\n",
      "EPOCHS : 74\n"
     ]
    },
    {
     "name": "stderr",
     "output_type": "stream",
     "text": [
      "Loss=4.626492977142334 Batch_id=195 Accuracy=9.73: 100%|██████████| 196/196 [02:27<00:00,  1.33it/s] \n"
     ]
    },
    {
     "name": "stdout",
     "output_type": "stream",
     "text": [
      "\n",
      "Test set: Average loss: 3.2879, Accuracy: 1589/5000 (31.78%)\n",
      "\n",
      "EPOCHS : 75\n"
     ]
    },
    {
     "name": "stderr",
     "output_type": "stream",
     "text": [
      "Loss=4.36043119430542 Batch_id=195 Accuracy=9.59: 100%|██████████| 196/196 [02:24<00:00,  1.36it/s]  \n"
     ]
    },
    {
     "name": "stdout",
     "output_type": "stream",
     "text": [
      "\n",
      "Test set: Average loss: 3.3032, Accuracy: 1574/5000 (31.48%)\n",
      "\n",
      "EPOCHS : 76\n"
     ]
    },
    {
     "name": "stderr",
     "output_type": "stream",
     "text": [
      "Loss=4.650543689727783 Batch_id=195 Accuracy=9.65: 100%|██████████| 196/196 [02:24<00:00,  1.36it/s] \n"
     ]
    },
    {
     "name": "stdout",
     "output_type": "stream",
     "text": [
      "\n",
      "Test set: Average loss: 3.3066, Accuracy: 1588/5000 (31.76%)\n",
      "\n",
      "EPOCHS : 77\n"
     ]
    },
    {
     "name": "stderr",
     "output_type": "stream",
     "text": [
      "Loss=4.603142738342285 Batch_id=195 Accuracy=9.75: 100%|██████████| 196/196 [02:24<00:00,  1.36it/s] \n"
     ]
    },
    {
     "name": "stdout",
     "output_type": "stream",
     "text": [
      "\n",
      "Test set: Average loss: 3.2876, Accuracy: 1579/5000 (31.58%)\n",
      "\n",
      "EPOCHS : 78\n"
     ]
    },
    {
     "name": "stderr",
     "output_type": "stream",
     "text": [
      "Loss=4.416889667510986 Batch_id=195 Accuracy=9.62: 100%|██████████| 196/196 [02:24<00:00,  1.36it/s] \n"
     ]
    },
    {
     "name": "stdout",
     "output_type": "stream",
     "text": [
      "\n",
      "Test set: Average loss: 3.3014, Accuracy: 1578/5000 (31.56%)\n",
      "\n",
      "EPOCHS : 79\n"
     ]
    },
    {
     "name": "stderr",
     "output_type": "stream",
     "text": [
      "Loss=4.436548709869385 Batch_id=195 Accuracy=9.73: 100%|██████████| 196/196 [02:24<00:00,  1.36it/s] \n"
     ]
    },
    {
     "name": "stdout",
     "output_type": "stream",
     "text": [
      "\n",
      "Test set: Average loss: 3.2855, Accuracy: 1582/5000 (31.64%)\n",
      "\n",
      "EPOCHS : 80\n"
     ]
    },
    {
     "name": "stderr",
     "output_type": "stream",
     "text": [
      "Loss=4.520649433135986 Batch_id=195 Accuracy=9.61: 100%|██████████| 196/196 [02:24<00:00,  1.36it/s] \n"
     ]
    },
    {
     "name": "stdout",
     "output_type": "stream",
     "text": [
      "\n",
      "Test set: Average loss: 3.2839, Accuracy: 1583/5000 (31.66%)\n",
      "\n",
      "EPOCHS : 81\n"
     ]
    },
    {
     "name": "stderr",
     "output_type": "stream",
     "text": [
      "Loss=4.534661769866943 Batch_id=195 Accuracy=9.63: 100%|██████████| 196/196 [02:25<00:00,  1.35it/s] \n"
     ]
    },
    {
     "name": "stdout",
     "output_type": "stream",
     "text": [
      "\n",
      "Test set: Average loss: 3.2941, Accuracy: 1589/5000 (31.78%)\n",
      "\n",
      "EPOCHS : 82\n"
     ]
    },
    {
     "name": "stderr",
     "output_type": "stream",
     "text": [
      "Loss=4.349037170410156 Batch_id=195 Accuracy=9.65: 100%|██████████| 196/196 [02:26<00:00,  1.34it/s] \n"
     ]
    },
    {
     "name": "stdout",
     "output_type": "stream",
     "text": [
      "\n",
      "Test set: Average loss: 3.2892, Accuracy: 1576/5000 (31.52%)\n",
      "\n",
      "EPOCHS : 83\n"
     ]
    },
    {
     "name": "stderr",
     "output_type": "stream",
     "text": [
      "Loss=4.470895767211914 Batch_id=195 Accuracy=9.69: 100%|██████████| 196/196 [02:27<00:00,  1.33it/s] \n"
     ]
    },
    {
     "name": "stdout",
     "output_type": "stream",
     "text": [
      "\n",
      "Test set: Average loss: 3.2908, Accuracy: 1585/5000 (31.70%)\n",
      "\n",
      "EPOCHS : 84\n"
     ]
    },
    {
     "name": "stderr",
     "output_type": "stream",
     "text": [
      "Loss=4.4969587326049805 Batch_id=195 Accuracy=9.64: 100%|██████████| 196/196 [02:34<00:00,  1.27it/s]\n"
     ]
    },
    {
     "name": "stdout",
     "output_type": "stream",
     "text": [
      "\n",
      "Test set: Average loss: 3.2946, Accuracy: 1589/5000 (31.78%)\n",
      "\n",
      "EPOCHS : 85\n"
     ]
    },
    {
     "name": "stderr",
     "output_type": "stream",
     "text": [
      "Loss=4.389613151550293 Batch_id=195 Accuracy=9.62: 100%|██████████| 196/196 [02:29<00:00,  1.31it/s] \n"
     ]
    },
    {
     "name": "stdout",
     "output_type": "stream",
     "text": [
      "\n",
      "Test set: Average loss: 3.2986, Accuracy: 1581/5000 (31.62%)\n",
      "\n",
      "EPOCHS : 86\n"
     ]
    },
    {
     "name": "stderr",
     "output_type": "stream",
     "text": [
      "Loss=4.5742716789245605 Batch_id=195 Accuracy=9.63: 100%|██████████| 196/196 [02:26<00:00,  1.34it/s]\n"
     ]
    },
    {
     "name": "stdout",
     "output_type": "stream",
     "text": [
      "\n",
      "Test set: Average loss: 3.2865, Accuracy: 1581/5000 (31.62%)\n",
      "\n",
      "EPOCHS : 87\n"
     ]
    },
    {
     "name": "stderr",
     "output_type": "stream",
     "text": [
      "Loss=4.49631929397583 Batch_id=195 Accuracy=9.69: 100%|██████████| 196/196 [02:27<00:00,  1.33it/s]  \n"
     ]
    },
    {
     "name": "stdout",
     "output_type": "stream",
     "text": [
      "\n",
      "Test set: Average loss: 3.2961, Accuracy: 1579/5000 (31.58%)\n",
      "\n",
      "EPOCHS : 88\n"
     ]
    },
    {
     "name": "stderr",
     "output_type": "stream",
     "text": [
      "Loss=4.389552116394043 Batch_id=195 Accuracy=9.78: 100%|██████████| 196/196 [02:29<00:00,  1.31it/s] \n"
     ]
    },
    {
     "name": "stdout",
     "output_type": "stream",
     "text": [
      "\n",
      "Test set: Average loss: 3.2964, Accuracy: 1584/5000 (31.68%)\n",
      "\n",
      "EPOCHS : 89\n"
     ]
    },
    {
     "name": "stderr",
     "output_type": "stream",
     "text": [
      "Loss=4.584692478179932 Batch_id=195 Accuracy=9.72: 100%|██████████| 196/196 [02:27<00:00,  1.33it/s] \n"
     ]
    },
    {
     "name": "stdout",
     "output_type": "stream",
     "text": [
      "\n",
      "Test set: Average loss: 3.2980, Accuracy: 1581/5000 (31.62%)\n",
      "\n",
      "EPOCHS : 90\n"
     ]
    },
    {
     "name": "stderr",
     "output_type": "stream",
     "text": [
      "Loss=4.489314556121826 Batch_id=195 Accuracy=9.71: 100%|██████████| 196/196 [02:27<00:00,  1.33it/s] \n"
     ]
    },
    {
     "name": "stdout",
     "output_type": "stream",
     "text": [
      "\n",
      "Test set: Average loss: 3.3015, Accuracy: 1587/5000 (31.74%)\n",
      "\n",
      "EPOCHS : 91\n"
     ]
    },
    {
     "name": "stderr",
     "output_type": "stream",
     "text": [
      "Loss=4.226317882537842 Batch_id=195 Accuracy=9.65: 100%|██████████| 196/196 [02:27<00:00,  1.33it/s] \n"
     ]
    },
    {
     "name": "stdout",
     "output_type": "stream",
     "text": [
      "\n",
      "Test set: Average loss: 3.3008, Accuracy: 1577/5000 (31.54%)\n",
      "\n",
      "EPOCHS : 92\n"
     ]
    },
    {
     "name": "stderr",
     "output_type": "stream",
     "text": [
      "Loss=4.358768939971924 Batch_id=195 Accuracy=9.63: 100%|██████████| 196/196 [02:27<00:00,  1.33it/s] \n"
     ]
    },
    {
     "name": "stdout",
     "output_type": "stream",
     "text": [
      "\n",
      "Test set: Average loss: 3.2934, Accuracy: 1586/5000 (31.72%)\n",
      "\n",
      "EPOCHS : 93\n"
     ]
    },
    {
     "name": "stderr",
     "output_type": "stream",
     "text": [
      "Loss=4.6843671798706055 Batch_id=195 Accuracy=9.58: 100%|██████████| 196/196 [02:26<00:00,  1.33it/s]\n"
     ]
    },
    {
     "name": "stdout",
     "output_type": "stream",
     "text": [
      "\n",
      "Test set: Average loss: 3.2862, Accuracy: 1570/5000 (31.40%)\n",
      "\n",
      "EPOCHS : 94\n"
     ]
    },
    {
     "name": "stderr",
     "output_type": "stream",
     "text": [
      "Loss=4.468404769897461 Batch_id=195 Accuracy=9.65: 100%|██████████| 196/196 [02:26<00:00,  1.34it/s] \n"
     ]
    },
    {
     "name": "stdout",
     "output_type": "stream",
     "text": [
      "\n",
      "Test set: Average loss: 3.2949, Accuracy: 1581/5000 (31.62%)\n",
      "\n",
      "EPOCHS : 95\n"
     ]
    },
    {
     "name": "stderr",
     "output_type": "stream",
     "text": [
      "Loss=4.303498268127441 Batch_id=195 Accuracy=9.71: 100%|██████████| 196/196 [02:27<00:00,  1.33it/s] \n"
     ]
    },
    {
     "name": "stdout",
     "output_type": "stream",
     "text": [
      "\n",
      "Test set: Average loss: 3.2884, Accuracy: 1587/5000 (31.74%)\n",
      "\n",
      "EPOCHS : 96\n"
     ]
    },
    {
     "name": "stderr",
     "output_type": "stream",
     "text": [
      "Loss=4.266266345977783 Batch_id=195 Accuracy=9.65: 100%|██████████| 196/196 [02:26<00:00,  1.34it/s] \n"
     ]
    },
    {
     "name": "stdout",
     "output_type": "stream",
     "text": [
      "\n",
      "Test set: Average loss: 3.2926, Accuracy: 1574/5000 (31.48%)\n",
      "\n",
      "EPOCHS : 97\n"
     ]
    },
    {
     "name": "stderr",
     "output_type": "stream",
     "text": [
      "Loss=4.470351219177246 Batch_id=195 Accuracy=9.63: 100%|██████████| 196/196 [02:26<00:00,  1.34it/s] \n"
     ]
    },
    {
     "name": "stdout",
     "output_type": "stream",
     "text": [
      "\n",
      "Test set: Average loss: 3.3019, Accuracy: 1581/5000 (31.62%)\n",
      "\n",
      "EPOCHS : 98\n"
     ]
    },
    {
     "name": "stderr",
     "output_type": "stream",
     "text": [
      "Loss=4.538262844085693 Batch_id=195 Accuracy=9.72: 100%|██████████| 196/196 [02:28<00:00,  1.32it/s] \n"
     ]
    },
    {
     "name": "stdout",
     "output_type": "stream",
     "text": [
      "\n",
      "Test set: Average loss: 3.2970, Accuracy: 1583/5000 (31.66%)\n",
      "\n",
      "EPOCHS : 99\n"
     ]
    },
    {
     "name": "stderr",
     "output_type": "stream",
     "text": [
      "Loss=4.570148468017578 Batch_id=195 Accuracy=9.72: 100%|██████████| 196/196 [02:28<00:00,  1.32it/s] \n"
     ]
    },
    {
     "name": "stdout",
     "output_type": "stream",
     "text": [
      "\n",
      "Test set: Average loss: 3.2960, Accuracy: 1585/5000 (31.70%)\n",
      "\n"
     ]
    }
   ],
   "source": [
    "\n",
    "optimizer = optim.SGD(model.parameters(), lr=0.01, momentum=0.9)\n",
    "scheduler = ReduceLROnPlateau(optimizer, mode='min', factor=0.05, patience=2, threshold=0.0001, threshold_mode='rel', cooldown=0, min_lr=0, eps=1e-08, verbose=True)\n",
    "\n",
    "\n",
    "train_acc = []\n",
    "train_losses = []\n",
    "test_acc = []\n",
    "test_losses = []\n",
    "\n",
    "EPOCHS = 100\n",
    "\n",
    "for i in range(EPOCHS):\n",
    "    print(f'EPOCHS : {i}')\n",
    "    model_training(model, device, trainloader, optimizer, train_acc, train_losses, epsilon, mean, std)\n",
    "    scheduler.step(train_losses[-1])\n",
    "    misclassified = model_testing(model, device, testloader, test_acc, test_losses)\n",
    "    \n",
    "    if i%10==0:\n",
    "        torch.save(model.state_dict(), \"./Networks/ResNet18_TinyImagenet_V0_Adversarial_ep_5p.pt\")\n",
    "        np.savez(\"./Networks/TrainSteps_ResNet18_TinyImagenet_V0_Adversarial_ep_5p.npz\", train_losses=train_losses,train_acc=train_acc, test_losses=test_losses, test_acc=test_acc)\n",
    "\n",
    "torch.save(model.state_dict(), \"./Networks/ResNet18_TinyImagenet_V0_Adversarial_ep_5p.pt\")\n",
    "np.savez(\"./Networks/TrainSteps_ResNet18_TinyImagenet_V0_Adversarial_ep_5p.npz\", train_losses=train_losses,train_acc=train_acc, test_losses=test_losses, test_acc=test_acc)"
   ]
  },
  {
   "cell_type": "code",
   "execution_count": 6,
   "metadata": {},
   "outputs": [
    {
     "data": {
      "text/plain": [
       "[<matplotlib.lines.Line2D at 0x7f41b432f1d0>]"
      ]
     },
     "execution_count": 6,
     "metadata": {},
     "output_type": "execute_result"
    },
    {
     "data": {
      "image/png": "[encoded data removed]",
      "text/plain": [
       "<Figure size 800x800 with 4 Axes>"
      ]
     },
     "metadata": {},
     "output_type": "display_data"
    }
   ],
   "source": [
    "fig, axs = plt.subplots(2,2, figsize=(8,8))\n",
    "\n",
    "axs[0,0].set_title('Train Losses')\n",
    "axs[0,1].set_title('Training Accuracy')\n",
    "axs[1,0].set_title('Test Losses')\n",
    "axs[1,1].set_title('Test Accuracy')\n",
    "\n",
    "axs[0,0].plot(train_losses)\n",
    "axs[0,1].plot(train_acc)\n",
    "axs[1,0].plot(test_losses)\n",
    "axs[1,1].plot(test_acc)"
   ]
  },
  {
   "cell_type": "markdown",
   "metadata": {},
   "source": [
    "# Epsilon 0.03"
   ]
  },
  {
   "cell_type": "code",
   "execution_count": 7,
   "metadata": {},
   "outputs": [
    {
     "data": {
      "image/png": "[encoded data removed]",
      "text/plain": [
       "<Figure size 1000x1000 with 2 Axes>"
      ]
     },
     "metadata": {},
     "output_type": "display_data"
    }
   ],
   "source": [
    "epsilon=0.03\n",
    "mean=MeanImagenet\n",
    "std=StdImagenet\n",
    "model=ResNet18_TINYIMAGENET_0P\n",
    "trainloader=trainloader_TINYIMAGENET\n",
    "testloader=testloader_TINYIMAGENET\n",
    "\n",
    "#Check Images for epsion levels\n",
    "for data, target in trainloader:\n",
    "    data, target = data.to(device), target.to(device)\n",
    "    data_Adv=GetAdversarialExamples(model, data, target, device, epsilon=epsilon, mean=mean, std=std)\n",
    "\n",
    "    data = transforms.Normalize((-mean[0]/std[0], -mean[1]/std[1], -mean[2]/std[2]), (1/std[0], 1/std[1], 1/std[2]))(data)\n",
    "    data_Adv = transforms.Normalize((-mean[0]/std[0], -mean[1]/std[1], -mean[2]/std[2]), (1/std[0], 1/std[1], 1/std[2]))(data_Adv)\n",
    "    break\n",
    "\n",
    "IdxImage=np.random.randint(0,data.shape[0])\n",
    "with torch.no_grad():\n",
    "    #plot an image from data and from data_Adv\n",
    "    plt.figure(figsize=(10,10))\n",
    "    plt.subplot(1,2,1)\n",
    "    plt.imshow(data[IdxImage].cpu().numpy().transpose(1,2,0))\n",
    "    plt.title(\"Original Image\")\n",
    "    plt.subplot(1,2,2)\n",
    "    plt.imshow(data_Adv[IdxImage].cpu().numpy().transpose(1,2,0))\n",
    "    plt.title(\"Adversarial Image\")\n",
    "    plt.show()\n"
   ]
  },
  {
   "cell_type": "code",
   "execution_count": 8,
   "metadata": {},
   "outputs": [
    {
     "name": "stdout",
     "output_type": "stream",
     "text": [
      "EPOCHS : 0\n"
     ]
    },
    {
     "name": "stderr",
     "output_type": "stream",
     "text": [
      "Loss=3.9943675994873047 Batch_id=195 Accuracy=15.58: 100%|██████████| 196/196 [02:27<00:00,  1.33it/s]\n"
     ]
    },
    {
     "name": "stdout",
     "output_type": "stream",
     "text": [
      "\n",
      "Test set: Average loss: 2.7988, Accuracy: 1885/5000 (37.70%)\n",
      "\n",
      "EPOCHS : 1\n"
     ]
    },
    {
     "name": "stderr",
     "output_type": "stream",
     "text": [
      "Loss=3.783982515335083 Batch_id=195 Accuracy=16.38: 100%|██████████| 196/196 [02:27<00:00,  1.33it/s] \n"
     ]
    },
    {
     "name": "stdout",
     "output_type": "stream",
     "text": [
      "\n",
      "Test set: Average loss: 2.7177, Accuracy: 1973/5000 (39.46%)\n",
      "\n",
      "EPOCHS : 2\n"
     ]
    },
    {
     "name": "stderr",
     "output_type": "stream",
     "text": [
      "Loss=3.4225475788116455 Batch_id=195 Accuracy=16.91: 100%|██████████| 196/196 [02:27<00:00,  1.33it/s]\n"
     ]
    },
    {
     "name": "stdout",
     "output_type": "stream",
     "text": [
      "\n",
      "Test set: Average loss: 2.7024, Accuracy: 1957/5000 (39.14%)\n",
      "\n",
      "EPOCHS : 3\n"
     ]
    },
    {
     "name": "stderr",
     "output_type": "stream",
     "text": [
      "Loss=3.7273831367492676 Batch_id=195 Accuracy=17.54: 100%|██████████| 196/196 [02:27<00:00,  1.33it/s]\n"
     ]
    },
    {
     "name": "stdout",
     "output_type": "stream",
     "text": [
      "\n",
      "Test set: Average loss: 2.6537, Accuracy: 2021/5000 (40.42%)\n",
      "\n",
      "EPOCHS : 4\n"
     ]
    },
    {
     "name": "stderr",
     "output_type": "stream",
     "text": [
      "Loss=3.5008883476257324 Batch_id=195 Accuracy=18.11: 100%|██████████| 196/196 [02:27<00:00,  1.33it/s]\n"
     ]
    },
    {
     "name": "stdout",
     "output_type": "stream",
     "text": [
      "\n",
      "Test set: Average loss: 2.6223, Accuracy: 2031/5000 (40.62%)\n",
      "\n",
      "EPOCHS : 5\n"
     ]
    },
    {
     "name": "stderr",
     "output_type": "stream",
     "text": [
      "Loss=3.729008436203003 Batch_id=195 Accuracy=18.58: 100%|██████████| 196/196 [02:28<00:00,  1.32it/s] "
     ]
    },
    {
     "name": "stdout",
     "output_type": "stream",
     "text": [
      "Epoch 00006: reducing learning rate of group 0 to 5.0000e-04.\n"
     ]
    },
    {
     "name": "stderr",
     "output_type": "stream",
     "text": [
      "\n"
     ]
    },
    {
     "name": "stdout",
     "output_type": "stream",
     "text": [
      "\n",
      "Test set: Average loss: 2.5901, Accuracy: 2101/5000 (42.02%)\n",
      "\n",
      "EPOCHS : 6\n"
     ]
    },
    {
     "name": "stderr",
     "output_type": "stream",
     "text": [
      "Loss=3.569802761077881 Batch_id=195 Accuracy=20.12: 100%|██████████| 196/196 [02:27<00:00,  1.33it/s] \n"
     ]
    },
    {
     "name": "stdout",
     "output_type": "stream",
     "text": [
      "\n",
      "Test set: Average loss: 2.5266, Accuracy: 2132/5000 (42.64%)\n",
      "\n",
      "EPOCHS : 7\n"
     ]
    },
    {
     "name": "stderr",
     "output_type": "stream",
     "text": [
      "Loss=3.4925670623779297 Batch_id=195 Accuracy=20.56: 100%|██████████| 196/196 [02:28<00:00,  1.32it/s]\n"
     ]
    },
    {
     "name": "stdout",
     "output_type": "stream",
     "text": [
      "\n",
      "Test set: Average loss: 2.5128, Accuracy: 2153/5000 (43.06%)\n",
      "\n",
      "EPOCHS : 8\n"
     ]
    },
    {
     "name": "stderr",
     "output_type": "stream",
     "text": [
      "Loss=3.736724853515625 Batch_id=195 Accuracy=20.62: 100%|██████████| 196/196 [02:27<00:00,  1.33it/s] "
     ]
    },
    {
     "name": "stdout",
     "output_type": "stream",
     "text": [
      "Epoch 00009: reducing learning rate of group 0 to 2.5000e-05.\n"
     ]
    },
    {
     "name": "stderr",
     "output_type": "stream",
     "text": [
      "\n"
     ]
    },
    {
     "name": "stdout",
     "output_type": "stream",
     "text": [
      "\n",
      "Test set: Average loss: 2.5145, Accuracy: 2154/5000 (43.08%)\n",
      "\n",
      "EPOCHS : 9\n"
     ]
    },
    {
     "name": "stderr",
     "output_type": "stream",
     "text": [
      "Loss=3.415571689605713 Batch_id=195 Accuracy=20.82: 100%|██████████| 196/196 [02:27<00:00,  1.33it/s] \n"
     ]
    },
    {
     "name": "stdout",
     "output_type": "stream",
     "text": [
      "\n",
      "Test set: Average loss: 2.5106, Accuracy: 2161/5000 (43.22%)\n",
      "\n",
      "EPOCHS : 10\n"
     ]
    },
    {
     "name": "stderr",
     "output_type": "stream",
     "text": [
      "Loss=3.424663543701172 Batch_id=195 Accuracy=20.74: 100%|██████████| 196/196 [02:28<00:00,  1.32it/s] \n"
     ]
    },
    {
     "name": "stdout",
     "output_type": "stream",
     "text": [
      "\n",
      "Test set: Average loss: 2.5117, Accuracy: 2143/5000 (42.86%)\n",
      "\n",
      "EPOCHS : 11\n"
     ]
    },
    {
     "name": "stderr",
     "output_type": "stream",
     "text": [
      "Loss=3.6006546020507812 Batch_id=195 Accuracy=20.84: 100%|██████████| 196/196 [02:27<00:00,  1.33it/s]\n"
     ]
    },
    {
     "name": "stdout",
     "output_type": "stream",
     "text": [
      "\n",
      "Test set: Average loss: 2.5056, Accuracy: 2157/5000 (43.14%)\n",
      "\n",
      "EPOCHS : 12\n"
     ]
    },
    {
     "name": "stderr",
     "output_type": "stream",
     "text": [
      "Loss=3.6298985481262207 Batch_id=195 Accuracy=20.75: 100%|██████████| 196/196 [02:26<00:00,  1.33it/s]"
     ]
    },
    {
     "name": "stdout",
     "output_type": "stream",
     "text": [
      "Epoch 00013: reducing learning rate of group 0 to 1.2500e-06.\n"
     ]
    },
    {
     "name": "stderr",
     "output_type": "stream",
     "text": [
      "\n"
     ]
    },
    {
     "name": "stdout",
     "output_type": "stream",
     "text": [
      "\n",
      "Test set: Average loss: 2.5057, Accuracy: 2165/5000 (43.30%)\n",
      "\n",
      "EPOCHS : 13\n"
     ]
    },
    {
     "name": "stderr",
     "output_type": "stream",
     "text": [
      "Loss=3.6001453399658203 Batch_id=195 Accuracy=20.69: 100%|██████████| 196/196 [02:26<00:00,  1.34it/s]\n"
     ]
    },
    {
     "name": "stdout",
     "output_type": "stream",
     "text": [
      "\n",
      "Test set: Average loss: 2.5040, Accuracy: 2167/5000 (43.34%)\n",
      "\n",
      "EPOCHS : 14\n"
     ]
    },
    {
     "name": "stderr",
     "output_type": "stream",
     "text": [
      "Loss=3.4584579467773438 Batch_id=195 Accuracy=20.82: 100%|██████████| 196/196 [02:26<00:00,  1.33it/s]\n"
     ]
    },
    {
     "name": "stdout",
     "output_type": "stream",
     "text": [
      "\n",
      "Test set: Average loss: 2.5032, Accuracy: 2156/5000 (43.12%)\n",
      "\n",
      "EPOCHS : 15\n"
     ]
    },
    {
     "name": "stderr",
     "output_type": "stream",
     "text": [
      "Loss=3.5288658142089844 Batch_id=195 Accuracy=20.91: 100%|██████████| 196/196 [02:26<00:00,  1.34it/s]"
     ]
    },
    {
     "name": "stdout",
     "output_type": "stream",
     "text": [
      "Epoch 00016: reducing learning rate of group 0 to 6.2500e-08.\n"
     ]
    },
    {
     "name": "stderr",
     "output_type": "stream",
     "text": [
      "\n"
     ]
    },
    {
     "name": "stdout",
     "output_type": "stream",
     "text": [
      "\n",
      "Test set: Average loss: 2.5104, Accuracy: 2155/5000 (43.10%)\n",
      "\n",
      "EPOCHS : 16\n"
     ]
    },
    {
     "name": "stderr",
     "output_type": "stream",
     "text": [
      "Loss=3.333472490310669 Batch_id=195 Accuracy=20.89: 100%|██████████| 196/196 [02:27<00:00,  1.33it/s] \n"
     ]
    },
    {
     "name": "stdout",
     "output_type": "stream",
     "text": [
      "\n",
      "Test set: Average loss: 2.5084, Accuracy: 2161/5000 (43.22%)\n",
      "\n",
      "EPOCHS : 17\n"
     ]
    },
    {
     "name": "stderr",
     "output_type": "stream",
     "text": [
      "Loss=3.9310786724090576 Batch_id=195 Accuracy=20.75: 100%|██████████| 196/196 [02:28<00:00,  1.32it/s]\n"
     ]
    },
    {
     "name": "stdout",
     "output_type": "stream",
     "text": [
      "\n",
      "Test set: Average loss: 2.5058, Accuracy: 2162/5000 (43.24%)\n",
      "\n",
      "EPOCHS : 18\n"
     ]
    },
    {
     "name": "stderr",
     "output_type": "stream",
     "text": [
      "Loss=3.523738145828247 Batch_id=195 Accuracy=20.89: 100%|██████████| 196/196 [02:28<00:00,  1.32it/s] \n"
     ]
    },
    {
     "name": "stdout",
     "output_type": "stream",
     "text": [
      "\n",
      "Test set: Average loss: 2.5088, Accuracy: 2154/5000 (43.08%)\n",
      "\n",
      "EPOCHS : 19\n"
     ]
    },
    {
     "name": "stderr",
     "output_type": "stream",
     "text": [
      "Loss=3.552112579345703 Batch_id=195 Accuracy=20.78: 100%|██████████| 196/196 [02:28<00:00,  1.32it/s] "
     ]
    },
    {
     "name": "stdout",
     "output_type": "stream",
     "text": [
      "Epoch 00020: reducing learning rate of group 0 to 3.1250e-09.\n"
     ]
    },
    {
     "name": "stderr",
     "output_type": "stream",
     "text": [
      "\n"
     ]
    },
    {
     "name": "stdout",
     "output_type": "stream",
     "text": [
      "\n",
      "Test set: Average loss: 2.5073, Accuracy: 2167/5000 (43.34%)\n",
      "\n",
      "EPOCHS : 20\n"
     ]
    },
    {
     "name": "stderr",
     "output_type": "stream",
     "text": [
      "Loss=3.521700620651245 Batch_id=195 Accuracy=20.76: 100%|██████████| 196/196 [02:28<00:00,  1.32it/s] \n"
     ]
    },
    {
     "name": "stdout",
     "output_type": "stream",
     "text": [
      "\n",
      "Test set: Average loss: 2.5081, Accuracy: 2160/5000 (43.20%)\n",
      "\n",
      "EPOCHS : 21\n"
     ]
    },
    {
     "name": "stderr",
     "output_type": "stream",
     "text": [
      "Loss=3.497084856033325 Batch_id=195 Accuracy=20.90: 100%|██████████| 196/196 [02:28<00:00,  1.32it/s] \n"
     ]
    },
    {
     "name": "stdout",
     "output_type": "stream",
     "text": [
      "\n",
      "Test set: Average loss: 2.5043, Accuracy: 2159/5000 (43.18%)\n",
      "\n",
      "EPOCHS : 22\n"
     ]
    },
    {
     "name": "stderr",
     "output_type": "stream",
     "text": [
      "Loss=3.5185112953186035 Batch_id=195 Accuracy=20.75: 100%|██████████| 196/196 [02:27<00:00,  1.33it/s]\n"
     ]
    },
    {
     "name": "stdout",
     "output_type": "stream",
     "text": [
      "\n",
      "Test set: Average loss: 2.5093, Accuracy: 2145/5000 (42.90%)\n",
      "\n",
      "EPOCHS : 23\n"
     ]
    },
    {
     "name": "stderr",
     "output_type": "stream",
     "text": [
      "Loss=3.522055149078369 Batch_id=195 Accuracy=20.81: 100%|██████████| 196/196 [02:28<00:00,  1.32it/s] \n"
     ]
    },
    {
     "name": "stdout",
     "output_type": "stream",
     "text": [
      "\n",
      "Test set: Average loss: 2.5051, Accuracy: 2161/5000 (43.22%)\n",
      "\n",
      "EPOCHS : 24\n"
     ]
    },
    {
     "name": "stderr",
     "output_type": "stream",
     "text": [
      "Loss=3.4408137798309326 Batch_id=195 Accuracy=20.81: 100%|██████████| 196/196 [02:27<00:00,  1.33it/s]\n"
     ]
    },
    {
     "name": "stdout",
     "output_type": "stream",
     "text": [
      "\n",
      "Test set: Average loss: 2.5108, Accuracy: 2153/5000 (43.06%)\n",
      "\n",
      "EPOCHS : 25\n"
     ]
    },
    {
     "name": "stderr",
     "output_type": "stream",
     "text": [
      "Loss=3.580521821975708 Batch_id=195 Accuracy=20.63: 100%|██████████| 196/196 [02:27<00:00,  1.32it/s] \n"
     ]
    },
    {
     "name": "stdout",
     "output_type": "stream",
     "text": [
      "\n",
      "Test set: Average loss: 2.5068, Accuracy: 2158/5000 (43.16%)\n",
      "\n",
      "EPOCHS : 26\n"
     ]
    },
    {
     "name": "stderr",
     "output_type": "stream",
     "text": [
      "Loss=3.473797559738159 Batch_id=195 Accuracy=20.81: 100%|██████████| 196/196 [02:29<00:00,  1.31it/s] \n"
     ]
    },
    {
     "name": "stdout",
     "output_type": "stream",
     "text": [
      "\n",
      "Test set: Average loss: 2.5120, Accuracy: 2157/5000 (43.14%)\n",
      "\n",
      "EPOCHS : 27\n"
     ]
    },
    {
     "name": "stderr",
     "output_type": "stream",
     "text": [
      "Loss=3.7771358489990234 Batch_id=195 Accuracy=20.77: 100%|██████████| 196/196 [02:28<00:00,  1.32it/s]\n"
     ]
    },
    {
     "name": "stdout",
     "output_type": "stream",
     "text": [
      "\n",
      "Test set: Average loss: 2.5052, Accuracy: 2159/5000 (43.18%)\n",
      "\n",
      "EPOCHS : 28\n"
     ]
    },
    {
     "name": "stderr",
     "output_type": "stream",
     "text": [
      "Loss=3.4327569007873535 Batch_id=195 Accuracy=20.65: 100%|██████████| 196/196 [02:26<00:00,  1.34it/s]\n"
     ]
    },
    {
     "name": "stdout",
     "output_type": "stream",
     "text": [
      "\n",
      "Test set: Average loss: 2.5124, Accuracy: 2142/5000 (42.84%)\n",
      "\n",
      "EPOCHS : 29\n"
     ]
    },
    {
     "name": "stderr",
     "output_type": "stream",
     "text": [
      "Loss=3.5433602333068848 Batch_id=195 Accuracy=20.65: 100%|██████████| 196/196 [02:27<00:00,  1.33it/s]\n"
     ]
    },
    {
     "name": "stdout",
     "output_type": "stream",
     "text": [
      "\n",
      "Test set: Average loss: 2.5098, Accuracy: 2155/5000 (43.10%)\n",
      "\n",
      "EPOCHS : 30\n"
     ]
    },
    {
     "name": "stderr",
     "output_type": "stream",
     "text": [
      "Loss=3.7585437297821045 Batch_id=195 Accuracy=20.90: 100%|██████████| 196/196 [02:26<00:00,  1.34it/s]\n"
     ]
    },
    {
     "name": "stdout",
     "output_type": "stream",
     "text": [
      "\n",
      "Test set: Average loss: 2.5027, Accuracy: 2160/5000 (43.20%)\n",
      "\n",
      "EPOCHS : 31\n"
     ]
    },
    {
     "name": "stderr",
     "output_type": "stream",
     "text": [
      "Loss=3.6274523735046387 Batch_id=195 Accuracy=20.78: 100%|██████████| 196/196 [02:26<00:00,  1.33it/s]\n"
     ]
    },
    {
     "name": "stdout",
     "output_type": "stream",
     "text": [
      "\n",
      "Test set: Average loss: 2.5035, Accuracy: 2164/5000 (43.28%)\n",
      "\n",
      "EPOCHS : 32\n"
     ]
    },
    {
     "name": "stderr",
     "output_type": "stream",
     "text": [
      "Loss=3.4640164375305176 Batch_id=195 Accuracy=20.79: 100%|██████████| 196/196 [02:29<00:00,  1.31it/s]\n"
     ]
    },
    {
     "name": "stdout",
     "output_type": "stream",
     "text": [
      "\n",
      "Test set: Average loss: 2.5051, Accuracy: 2167/5000 (43.34%)\n",
      "\n",
      "EPOCHS : 33\n"
     ]
    },
    {
     "name": "stderr",
     "output_type": "stream",
     "text": [
      "Loss=3.879934787750244 Batch_id=195 Accuracy=20.78: 100%|██████████| 196/196 [02:29<00:00,  1.31it/s] \n"
     ]
    },
    {
     "name": "stdout",
     "output_type": "stream",
     "text": [
      "\n",
      "Test set: Average loss: 2.5090, Accuracy: 2139/5000 (42.78%)\n",
      "\n",
      "EPOCHS : 34\n"
     ]
    },
    {
     "name": "stderr",
     "output_type": "stream",
     "text": [
      "Loss=3.543130397796631 Batch_id=195 Accuracy=20.74: 100%|██████████| 196/196 [02:29<00:00,  1.31it/s] \n"
     ]
    },
    {
     "name": "stdout",
     "output_type": "stream",
     "text": [
      "\n",
      "Test set: Average loss: 2.5062, Accuracy: 2167/5000 (43.34%)\n",
      "\n",
      "EPOCHS : 35\n"
     ]
    },
    {
     "name": "stderr",
     "output_type": "stream",
     "text": [
      "Loss=3.556539535522461 Batch_id=195 Accuracy=20.92: 100%|██████████| 196/196 [02:28<00:00,  1.32it/s] \n"
     ]
    },
    {
     "name": "stdout",
     "output_type": "stream",
     "text": [
      "\n",
      "Test set: Average loss: 2.5004, Accuracy: 2154/5000 (43.08%)\n",
      "\n",
      "EPOCHS : 36\n"
     ]
    },
    {
     "name": "stderr",
     "output_type": "stream",
     "text": [
      "Loss=3.7432942390441895 Batch_id=195 Accuracy=20.86: 100%|██████████| 196/196 [02:28<00:00,  1.32it/s]\n"
     ]
    },
    {
     "name": "stdout",
     "output_type": "stream",
     "text": [
      "\n",
      "Test set: Average loss: 2.5054, Accuracy: 2153/5000 (43.06%)\n",
      "\n",
      "EPOCHS : 37\n"
     ]
    },
    {
     "name": "stderr",
     "output_type": "stream",
     "text": [
      "Loss=3.8836841583251953 Batch_id=195 Accuracy=20.82: 100%|██████████| 196/196 [02:28<00:00,  1.32it/s]\n"
     ]
    },
    {
     "name": "stdout",
     "output_type": "stream",
     "text": [
      "\n",
      "Test set: Average loss: 2.5099, Accuracy: 2150/5000 (43.00%)\n",
      "\n",
      "EPOCHS : 38\n"
     ]
    },
    {
     "name": "stderr",
     "output_type": "stream",
     "text": [
      "Loss=3.449932813644409 Batch_id=195 Accuracy=20.84: 100%|██████████| 196/196 [02:29<00:00,  1.31it/s] \n"
     ]
    },
    {
     "name": "stdout",
     "output_type": "stream",
     "text": [
      "\n",
      "Test set: Average loss: 2.4986, Accuracy: 2177/5000 (43.54%)\n",
      "\n",
      "EPOCHS : 39\n"
     ]
    },
    {
     "name": "stderr",
     "output_type": "stream",
     "text": [
      "Loss=3.4219162464141846 Batch_id=195 Accuracy=20.69: 100%|██████████| 196/196 [02:32<00:00,  1.28it/s]\n"
     ]
    },
    {
     "name": "stdout",
     "output_type": "stream",
     "text": [
      "\n",
      "Test set: Average loss: 2.5039, Accuracy: 2165/5000 (43.30%)\n",
      "\n",
      "EPOCHS : 40\n"
     ]
    },
    {
     "name": "stderr",
     "output_type": "stream",
     "text": [
      "Loss=3.617725372314453 Batch_id=195 Accuracy=20.79: 100%|██████████| 196/196 [02:28<00:00,  1.32it/s] \n"
     ]
    },
    {
     "name": "stdout",
     "output_type": "stream",
     "text": [
      "\n",
      "Test set: Average loss: 2.4984, Accuracy: 2170/5000 (43.40%)\n",
      "\n",
      "EPOCHS : 41\n"
     ]
    },
    {
     "name": "stderr",
     "output_type": "stream",
     "text": [
      "Loss=3.5604469776153564 Batch_id=195 Accuracy=20.90: 100%|██████████| 196/196 [02:27<00:00,  1.33it/s]\n"
     ]
    },
    {
     "name": "stdout",
     "output_type": "stream",
     "text": [
      "\n",
      "Test set: Average loss: 2.5099, Accuracy: 2151/5000 (43.02%)\n",
      "\n",
      "EPOCHS : 42\n"
     ]
    },
    {
     "name": "stderr",
     "output_type": "stream",
     "text": [
      "Loss=3.4606094360351562 Batch_id=195 Accuracy=20.89: 100%|██████████| 196/196 [02:28<00:00,  1.32it/s]\n"
     ]
    },
    {
     "name": "stdout",
     "output_type": "stream",
     "text": [
      "\n",
      "Test set: Average loss: 2.5079, Accuracy: 2149/5000 (42.98%)\n",
      "\n",
      "EPOCHS : 43\n"
     ]
    },
    {
     "name": "stderr",
     "output_type": "stream",
     "text": [
      "Loss=3.3877673149108887 Batch_id=195 Accuracy=20.87: 100%|██████████| 196/196 [02:29<00:00,  1.31it/s]\n"
     ]
    },
    {
     "name": "stdout",
     "output_type": "stream",
     "text": [
      "\n",
      "Test set: Average loss: 2.5065, Accuracy: 2159/5000 (43.18%)\n",
      "\n",
      "EPOCHS : 44\n"
     ]
    },
    {
     "name": "stderr",
     "output_type": "stream",
     "text": [
      "Loss=3.7087676525115967 Batch_id=195 Accuracy=20.79: 100%|██████████| 196/196 [02:28<00:00,  1.32it/s]\n"
     ]
    },
    {
     "name": "stdout",
     "output_type": "stream",
     "text": [
      "\n",
      "Test set: Average loss: 2.5048, Accuracy: 2162/5000 (43.24%)\n",
      "\n",
      "EPOCHS : 45\n"
     ]
    },
    {
     "name": "stderr",
     "output_type": "stream",
     "text": [
      "Loss=3.6151719093322754 Batch_id=195 Accuracy=20.79: 100%|██████████| 196/196 [02:28<00:00,  1.32it/s]\n"
     ]
    },
    {
     "name": "stdout",
     "output_type": "stream",
     "text": [
      "\n",
      "Test set: Average loss: 2.5072, Accuracy: 2160/5000 (43.20%)\n",
      "\n",
      "EPOCHS : 46\n"
     ]
    },
    {
     "name": "stderr",
     "output_type": "stream",
     "text": [
      "Loss=3.4345901012420654 Batch_id=195 Accuracy=20.89: 100%|██████████| 196/196 [02:28<00:00,  1.32it/s]\n"
     ]
    },
    {
     "name": "stdout",
     "output_type": "stream",
     "text": [
      "\n",
      "Test set: Average loss: 2.5065, Accuracy: 2153/5000 (43.06%)\n",
      "\n",
      "EPOCHS : 47\n"
     ]
    },
    {
     "name": "stderr",
     "output_type": "stream",
     "text": [
      "Loss=3.482189655303955 Batch_id=195 Accuracy=20.75: 100%|██████████| 196/196 [02:28<00:00,  1.32it/s] \n"
     ]
    },
    {
     "name": "stdout",
     "output_type": "stream",
     "text": [
      "\n",
      "Test set: Average loss: 2.5104, Accuracy: 2153/5000 (43.06%)\n",
      "\n",
      "EPOCHS : 48\n"
     ]
    },
    {
     "name": "stderr",
     "output_type": "stream",
     "text": [
      "Loss=3.466601610183716 Batch_id=195 Accuracy=20.90: 100%|██████████| 196/196 [02:27<00:00,  1.33it/s] \n"
     ]
    },
    {
     "name": "stdout",
     "output_type": "stream",
     "text": [
      "\n",
      "Test set: Average loss: 2.5121, Accuracy: 2151/5000 (43.02%)\n",
      "\n",
      "EPOCHS : 49\n"
     ]
    },
    {
     "name": "stderr",
     "output_type": "stream",
     "text": [
      "Loss=3.6515986919403076 Batch_id=195 Accuracy=20.86: 100%|██████████| 196/196 [02:29<00:00,  1.31it/s]\n"
     ]
    },
    {
     "name": "stdout",
     "output_type": "stream",
     "text": [
      "\n",
      "Test set: Average loss: 2.5067, Accuracy: 2150/5000 (43.00%)\n",
      "\n",
      "EPOCHS : 50\n"
     ]
    },
    {
     "name": "stderr",
     "output_type": "stream",
     "text": [
      "Loss=3.690446376800537 Batch_id=195 Accuracy=20.86: 100%|██████████| 196/196 [02:29<00:00,  1.31it/s] \n"
     ]
    },
    {
     "name": "stdout",
     "output_type": "stream",
     "text": [
      "\n",
      "Test set: Average loss: 2.5073, Accuracy: 2155/5000 (43.10%)\n",
      "\n",
      "EPOCHS : 51\n"
     ]
    },
    {
     "name": "stderr",
     "output_type": "stream",
     "text": [
      "Loss=3.4976048469543457 Batch_id=195 Accuracy=20.84: 100%|██████████| 196/196 [02:28<00:00,  1.32it/s]\n"
     ]
    },
    {
     "name": "stdout",
     "output_type": "stream",
     "text": [
      "\n",
      "Test set: Average loss: 2.5094, Accuracy: 2150/5000 (43.00%)\n",
      "\n",
      "EPOCHS : 52\n"
     ]
    },
    {
     "name": "stderr",
     "output_type": "stream",
     "text": [
      "Loss=3.346500873565674 Batch_id=195 Accuracy=20.78: 100%|██████████| 196/196 [02:28<00:00,  1.32it/s] \n"
     ]
    },
    {
     "name": "stdout",
     "output_type": "stream",
     "text": [
      "\n",
      "Test set: Average loss: 2.5055, Accuracy: 2153/5000 (43.06%)\n",
      "\n",
      "EPOCHS : 53\n"
     ]
    },
    {
     "name": "stderr",
     "output_type": "stream",
     "text": [
      "Loss=3.5562663078308105 Batch_id=195 Accuracy=20.85: 100%|██████████| 196/196 [02:27<00:00,  1.33it/s]\n"
     ]
    },
    {
     "name": "stdout",
     "output_type": "stream",
     "text": [
      "\n",
      "Test set: Average loss: 2.5087, Accuracy: 2154/5000 (43.08%)\n",
      "\n",
      "EPOCHS : 54\n"
     ]
    },
    {
     "name": "stderr",
     "output_type": "stream",
     "text": [
      "Loss=3.6456971168518066 Batch_id=195 Accuracy=20.83: 100%|██████████| 196/196 [02:27<00:00,  1.33it/s]\n"
     ]
    },
    {
     "name": "stdout",
     "output_type": "stream",
     "text": [
      "\n",
      "Test set: Average loss: 2.5034, Accuracy: 2145/5000 (42.90%)\n",
      "\n",
      "EPOCHS : 55\n"
     ]
    },
    {
     "name": "stderr",
     "output_type": "stream",
     "text": [
      "Loss=3.5801072120666504 Batch_id=195 Accuracy=20.84: 100%|██████████| 196/196 [02:26<00:00,  1.34it/s]\n"
     ]
    },
    {
     "name": "stdout",
     "output_type": "stream",
     "text": [
      "\n",
      "Test set: Average loss: 2.5025, Accuracy: 2162/5000 (43.24%)\n",
      "\n",
      "EPOCHS : 56\n"
     ]
    },
    {
     "name": "stderr",
     "output_type": "stream",
     "text": [
      "Loss=3.5830440521240234 Batch_id=195 Accuracy=20.83: 100%|██████████| 196/196 [02:27<00:00,  1.33it/s]\n"
     ]
    },
    {
     "name": "stdout",
     "output_type": "stream",
     "text": [
      "\n",
      "Test set: Average loss: 2.4952, Accuracy: 2171/5000 (43.42%)\n",
      "\n",
      "EPOCHS : 57\n"
     ]
    },
    {
     "name": "stderr",
     "output_type": "stream",
     "text": [
      "Loss=3.4459547996520996 Batch_id=195 Accuracy=20.81: 100%|██████████| 196/196 [02:26<00:00,  1.34it/s]\n"
     ]
    },
    {
     "name": "stdout",
     "output_type": "stream",
     "text": [
      "\n",
      "Test set: Average loss: 2.5100, Accuracy: 2157/5000 (43.14%)\n",
      "\n",
      "EPOCHS : 58\n"
     ]
    },
    {
     "name": "stderr",
     "output_type": "stream",
     "text": [
      "Loss=3.779893398284912 Batch_id=195 Accuracy=20.82: 100%|██████████| 196/196 [02:28<00:00,  1.32it/s] \n"
     ]
    },
    {
     "name": "stdout",
     "output_type": "stream",
     "text": [
      "\n",
      "Test set: Average loss: 2.5098, Accuracy: 2152/5000 (43.04%)\n",
      "\n",
      "EPOCHS : 59\n"
     ]
    },
    {
     "name": "stderr",
     "output_type": "stream",
     "text": [
      "Loss=3.3753345012664795 Batch_id=195 Accuracy=20.84: 100%|██████████| 196/196 [02:28<00:00,  1.32it/s]\n"
     ]
    },
    {
     "name": "stdout",
     "output_type": "stream",
     "text": [
      "\n",
      "Test set: Average loss: 2.5106, Accuracy: 2151/5000 (43.02%)\n",
      "\n",
      "EPOCHS : 60\n"
     ]
    },
    {
     "name": "stderr",
     "output_type": "stream",
     "text": [
      "Loss=3.625214099884033 Batch_id=195 Accuracy=20.70: 100%|██████████| 196/196 [02:29<00:00,  1.31it/s] \n"
     ]
    },
    {
     "name": "stdout",
     "output_type": "stream",
     "text": [
      "\n",
      "Test set: Average loss: 2.5095, Accuracy: 2154/5000 (43.08%)\n",
      "\n",
      "EPOCHS : 61\n"
     ]
    },
    {
     "name": "stderr",
     "output_type": "stream",
     "text": [
      "Loss=3.6712100505828857 Batch_id=195 Accuracy=20.94: 100%|██████████| 196/196 [02:29<00:00,  1.31it/s]\n"
     ]
    },
    {
     "name": "stdout",
     "output_type": "stream",
     "text": [
      "\n",
      "Test set: Average loss: 2.5081, Accuracy: 2142/5000 (42.84%)\n",
      "\n",
      "EPOCHS : 62\n"
     ]
    },
    {
     "name": "stderr",
     "output_type": "stream",
     "text": [
      "Loss=3.483762741088867 Batch_id=195 Accuracy=20.78: 100%|██████████| 196/196 [02:29<00:00,  1.31it/s] \n"
     ]
    },
    {
     "name": "stdout",
     "output_type": "stream",
     "text": [
      "\n",
      "Test set: Average loss: 2.5005, Accuracy: 2164/5000 (43.28%)\n",
      "\n",
      "EPOCHS : 63\n"
     ]
    },
    {
     "name": "stderr",
     "output_type": "stream",
     "text": [
      "Loss=3.5975608825683594 Batch_id=195 Accuracy=20.89: 100%|██████████| 196/196 [02:29<00:00,  1.31it/s]\n"
     ]
    },
    {
     "name": "stdout",
     "output_type": "stream",
     "text": [
      "\n",
      "Test set: Average loss: 2.5174, Accuracy: 2151/5000 (43.02%)\n",
      "\n",
      "EPOCHS : 64\n"
     ]
    },
    {
     "name": "stderr",
     "output_type": "stream",
     "text": [
      "Loss=3.647636890411377 Batch_id=195 Accuracy=20.80: 100%|██████████| 196/196 [02:28<00:00,  1.32it/s] \n"
     ]
    },
    {
     "name": "stdout",
     "output_type": "stream",
     "text": [
      "\n",
      "Test set: Average loss: 2.5094, Accuracy: 2155/5000 (43.10%)\n",
      "\n",
      "EPOCHS : 65\n"
     ]
    },
    {
     "name": "stderr",
     "output_type": "stream",
     "text": [
      "Loss=3.4836666584014893 Batch_id=195 Accuracy=20.89: 100%|██████████| 196/196 [02:29<00:00,  1.31it/s]\n"
     ]
    },
    {
     "name": "stdout",
     "output_type": "stream",
     "text": [
      "\n",
      "Test set: Average loss: 2.5039, Accuracy: 2164/5000 (43.28%)\n",
      "\n",
      "EPOCHS : 66\n"
     ]
    },
    {
     "name": "stderr",
     "output_type": "stream",
     "text": [
      "Loss=3.714280366897583 Batch_id=195 Accuracy=20.59: 100%|██████████| 196/196 [02:29<00:00,  1.31it/s] \n"
     ]
    },
    {
     "name": "stdout",
     "output_type": "stream",
     "text": [
      "\n",
      "Test set: Average loss: 2.5012, Accuracy: 2159/5000 (43.18%)\n",
      "\n",
      "EPOCHS : 67\n"
     ]
    },
    {
     "name": "stderr",
     "output_type": "stream",
     "text": [
      "Loss=3.482140302658081 Batch_id=195 Accuracy=20.72: 100%|██████████| 196/196 [02:30<00:00,  1.30it/s] \n"
     ]
    },
    {
     "name": "stdout",
     "output_type": "stream",
     "text": [
      "\n",
      "Test set: Average loss: 2.5004, Accuracy: 2160/5000 (43.20%)\n",
      "\n",
      "EPOCHS : 68\n"
     ]
    },
    {
     "name": "stderr",
     "output_type": "stream",
     "text": [
      "Loss=3.621943712234497 Batch_id=195 Accuracy=20.76: 100%|██████████| 196/196 [02:31<00:00,  1.29it/s] \n"
     ]
    },
    {
     "name": "stdout",
     "output_type": "stream",
     "text": [
      "\n",
      "Test set: Average loss: 2.5085, Accuracy: 2151/5000 (43.02%)\n",
      "\n",
      "EPOCHS : 69\n"
     ]
    },
    {
     "name": "stderr",
     "output_type": "stream",
     "text": [
      "Loss=3.610978603363037 Batch_id=195 Accuracy=20.89: 100%|██████████| 196/196 [02:29<00:00,  1.31it/s] \n"
     ]
    },
    {
     "name": "stdout",
     "output_type": "stream",
     "text": [
      "\n",
      "Test set: Average loss: 2.5005, Accuracy: 2162/5000 (43.24%)\n",
      "\n",
      "EPOCHS : 70\n"
     ]
    },
    {
     "name": "stderr",
     "output_type": "stream",
     "text": [
      "Loss=3.4458038806915283 Batch_id=195 Accuracy=20.88: 100%|██████████| 196/196 [02:29<00:00,  1.31it/s]\n"
     ]
    },
    {
     "name": "stdout",
     "output_type": "stream",
     "text": [
      "\n",
      "Test set: Average loss: 2.5069, Accuracy: 2166/5000 (43.32%)\n",
      "\n",
      "EPOCHS : 71\n"
     ]
    },
    {
     "name": "stderr",
     "output_type": "stream",
     "text": [
      "Loss=3.532365083694458 Batch_id=195 Accuracy=20.92: 100%|██████████| 196/196 [02:29<00:00,  1.31it/s] \n"
     ]
    },
    {
     "name": "stdout",
     "output_type": "stream",
     "text": [
      "\n",
      "Test set: Average loss: 2.5021, Accuracy: 2158/5000 (43.16%)\n",
      "\n",
      "EPOCHS : 72\n"
     ]
    },
    {
     "name": "stderr",
     "output_type": "stream",
     "text": [
      "Loss=3.501002788543701 Batch_id=195 Accuracy=20.84: 100%|██████████| 196/196 [02:29<00:00,  1.31it/s] \n"
     ]
    },
    {
     "name": "stdout",
     "output_type": "stream",
     "text": [
      "\n",
      "Test set: Average loss: 2.5043, Accuracy: 2162/5000 (43.24%)\n",
      "\n",
      "EPOCHS : 73\n"
     ]
    },
    {
     "name": "stderr",
     "output_type": "stream",
     "text": [
      "Loss=3.539494276046753 Batch_id=195 Accuracy=20.74: 100%|██████████| 196/196 [02:29<00:00,  1.31it/s] \n"
     ]
    },
    {
     "name": "stdout",
     "output_type": "stream",
     "text": [
      "\n",
      "Test set: Average loss: 2.5168, Accuracy: 2149/5000 (42.98%)\n",
      "\n",
      "EPOCHS : 74\n"
     ]
    },
    {
     "name": "stderr",
     "output_type": "stream",
     "text": [
      "Loss=3.5218474864959717 Batch_id=195 Accuracy=20.89: 100%|██████████| 196/196 [02:32<00:00,  1.29it/s]\n"
     ]
    },
    {
     "name": "stdout",
     "output_type": "stream",
     "text": [
      "\n",
      "Test set: Average loss: 2.5064, Accuracy: 2164/5000 (43.28%)\n",
      "\n",
      "EPOCHS : 75\n"
     ]
    },
    {
     "name": "stderr",
     "output_type": "stream",
     "text": [
      "Loss=3.4222729206085205 Batch_id=195 Accuracy=20.80: 100%|██████████| 196/196 [02:29<00:00,  1.31it/s]\n"
     ]
    },
    {
     "name": "stdout",
     "output_type": "stream",
     "text": [
      "\n",
      "Test set: Average loss: 2.5059, Accuracy: 2161/5000 (43.22%)\n",
      "\n",
      "EPOCHS : 76\n"
     ]
    },
    {
     "name": "stderr",
     "output_type": "stream",
     "text": [
      "Loss=3.80212140083313 Batch_id=195 Accuracy=20.89: 100%|██████████| 196/196 [02:29<00:00,  1.31it/s]  \n"
     ]
    },
    {
     "name": "stdout",
     "output_type": "stream",
     "text": [
      "\n",
      "Test set: Average loss: 2.5090, Accuracy: 2145/5000 (42.90%)\n",
      "\n",
      "EPOCHS : 77\n"
     ]
    },
    {
     "name": "stderr",
     "output_type": "stream",
     "text": [
      "Loss=3.4343326091766357 Batch_id=195 Accuracy=20.72: 100%|██████████| 196/196 [02:29<00:00,  1.31it/s]\n"
     ]
    },
    {
     "name": "stdout",
     "output_type": "stream",
     "text": [
      "\n",
      "Test set: Average loss: 2.5095, Accuracy: 2153/5000 (43.06%)\n",
      "\n",
      "EPOCHS : 78\n"
     ]
    },
    {
     "name": "stderr",
     "output_type": "stream",
     "text": [
      "Loss=3.6572208404541016 Batch_id=195 Accuracy=20.84: 100%|██████████| 196/196 [02:29<00:00,  1.31it/s]\n"
     ]
    },
    {
     "name": "stdout",
     "output_type": "stream",
     "text": [
      "\n",
      "Test set: Average loss: 2.5072, Accuracy: 2158/5000 (43.16%)\n",
      "\n",
      "EPOCHS : 79\n"
     ]
    },
    {
     "name": "stderr",
     "output_type": "stream",
     "text": [
      "Loss=3.4286201000213623 Batch_id=195 Accuracy=20.92: 100%|██████████| 196/196 [02:30<00:00,  1.30it/s]\n"
     ]
    },
    {
     "name": "stdout",
     "output_type": "stream",
     "text": [
      "\n",
      "Test set: Average loss: 2.5137, Accuracy: 2156/5000 (43.12%)\n",
      "\n",
      "EPOCHS : 80\n"
     ]
    },
    {
     "name": "stderr",
     "output_type": "stream",
     "text": [
      "Loss=3.3792240619659424 Batch_id=195 Accuracy=20.68: 100%|██████████| 196/196 [02:28<00:00,  1.32it/s]\n"
     ]
    },
    {
     "name": "stdout",
     "output_type": "stream",
     "text": [
      "\n",
      "Test set: Average loss: 2.5111, Accuracy: 2154/5000 (43.08%)\n",
      "\n",
      "EPOCHS : 81\n"
     ]
    },
    {
     "name": "stderr",
     "output_type": "stream",
     "text": [
      "Loss=3.4519035816192627 Batch_id=195 Accuracy=20.90: 100%|██████████| 196/196 [02:28<00:00,  1.32it/s]\n"
     ]
    },
    {
     "name": "stdout",
     "output_type": "stream",
     "text": [
      "\n",
      "Test set: Average loss: 2.5063, Accuracy: 2160/5000 (43.20%)\n",
      "\n",
      "EPOCHS : 82\n"
     ]
    },
    {
     "name": "stderr",
     "output_type": "stream",
     "text": [
      "Loss=3.6340603828430176 Batch_id=195 Accuracy=20.81: 100%|██████████| 196/196 [02:27<00:00,  1.33it/s]\n"
     ]
    },
    {
     "name": "stdout",
     "output_type": "stream",
     "text": [
      "\n",
      "Test set: Average loss: 2.5070, Accuracy: 2154/5000 (43.08%)\n",
      "\n",
      "EPOCHS : 83\n"
     ]
    },
    {
     "name": "stderr",
     "output_type": "stream",
     "text": [
      "Loss=3.452742338180542 Batch_id=195 Accuracy=20.84: 100%|██████████| 196/196 [02:29<00:00,  1.31it/s] \n"
     ]
    },
    {
     "name": "stdout",
     "output_type": "stream",
     "text": [
      "\n",
      "Test set: Average loss: 2.5129, Accuracy: 2147/5000 (42.94%)\n",
      "\n",
      "EPOCHS : 84\n"
     ]
    },
    {
     "name": "stderr",
     "output_type": "stream",
     "text": [
      "Loss=3.7241268157958984 Batch_id=195 Accuracy=20.86: 100%|██████████| 196/196 [02:27<00:00,  1.33it/s]\n"
     ]
    },
    {
     "name": "stdout",
     "output_type": "stream",
     "text": [
      "\n",
      "Test set: Average loss: 2.5061, Accuracy: 2152/5000 (43.04%)\n",
      "\n",
      "EPOCHS : 85\n"
     ]
    },
    {
     "name": "stderr",
     "output_type": "stream",
     "text": [
      "Loss=3.504941940307617 Batch_id=195 Accuracy=20.74: 100%|██████████| 196/196 [02:28<00:00,  1.32it/s] \n"
     ]
    },
    {
     "name": "stdout",
     "output_type": "stream",
     "text": [
      "\n",
      "Test set: Average loss: 2.5069, Accuracy: 2153/5000 (43.06%)\n",
      "\n",
      "EPOCHS : 86\n"
     ]
    },
    {
     "name": "stderr",
     "output_type": "stream",
     "text": [
      "Loss=3.535675048828125 Batch_id=195 Accuracy=20.88: 100%|██████████| 196/196 [02:27<00:00,  1.33it/s] \n"
     ]
    },
    {
     "name": "stdout",
     "output_type": "stream",
     "text": [
      "\n",
      "Test set: Average loss: 2.5037, Accuracy: 2154/5000 (43.08%)\n",
      "\n",
      "EPOCHS : 87\n"
     ]
    },
    {
     "name": "stderr",
     "output_type": "stream",
     "text": [
      "Loss=3.5945022106170654 Batch_id=195 Accuracy=20.77: 100%|██████████| 196/196 [02:28<00:00,  1.32it/s]\n"
     ]
    },
    {
     "name": "stdout",
     "output_type": "stream",
     "text": [
      "\n",
      "Test set: Average loss: 2.5158, Accuracy: 2149/5000 (42.98%)\n",
      "\n",
      "EPOCHS : 88\n"
     ]
    },
    {
     "name": "stderr",
     "output_type": "stream",
     "text": [
      "Loss=3.7875168323516846 Batch_id=195 Accuracy=20.78: 100%|██████████| 196/196 [02:30<00:00,  1.31it/s]\n"
     ]
    },
    {
     "name": "stdout",
     "output_type": "stream",
     "text": [
      "\n",
      "Test set: Average loss: 2.5027, Accuracy: 2160/5000 (43.20%)\n",
      "\n",
      "EPOCHS : 89\n"
     ]
    },
    {
     "name": "stderr",
     "output_type": "stream",
     "text": [
      "Loss=3.5141971111297607 Batch_id=195 Accuracy=20.79: 100%|██████████| 196/196 [02:30<00:00,  1.31it/s]\n"
     ]
    },
    {
     "name": "stdout",
     "output_type": "stream",
     "text": [
      "\n",
      "Test set: Average loss: 2.5110, Accuracy: 2163/5000 (43.26%)\n",
      "\n",
      "EPOCHS : 90\n"
     ]
    },
    {
     "name": "stderr",
     "output_type": "stream",
     "text": [
      "Loss=3.699791431427002 Batch_id=195 Accuracy=20.74: 100%|██████████| 196/196 [02:30<00:00,  1.30it/s] \n"
     ]
    },
    {
     "name": "stdout",
     "output_type": "stream",
     "text": [
      "\n",
      "Test set: Average loss: 2.5091, Accuracy: 2159/5000 (43.18%)\n",
      "\n",
      "EPOCHS : 91\n"
     ]
    },
    {
     "name": "stderr",
     "output_type": "stream",
     "text": [
      "Loss=3.7148327827453613 Batch_id=195 Accuracy=20.82: 100%|██████████| 196/196 [02:30<00:00,  1.30it/s]\n"
     ]
    },
    {
     "name": "stdout",
     "output_type": "stream",
     "text": [
      "\n",
      "Test set: Average loss: 2.5015, Accuracy: 2160/5000 (43.20%)\n",
      "\n",
      "EPOCHS : 92\n"
     ]
    },
    {
     "name": "stderr",
     "output_type": "stream",
     "text": [
      "Loss=3.8515021800994873 Batch_id=195 Accuracy=20.80: 100%|██████████| 196/196 [02:28<00:00,  1.32it/s]\n"
     ]
    },
    {
     "name": "stdout",
     "output_type": "stream",
     "text": [
      "\n",
      "Test set: Average loss: 2.4989, Accuracy: 2176/5000 (43.52%)\n",
      "\n",
      "EPOCHS : 93\n"
     ]
    },
    {
     "name": "stderr",
     "output_type": "stream",
     "text": [
      "Loss=3.600407361984253 Batch_id=195 Accuracy=20.76: 100%|██████████| 196/196 [02:29<00:00,  1.31it/s] \n"
     ]
    },
    {
     "name": "stdout",
     "output_type": "stream",
     "text": [
      "\n",
      "Test set: Average loss: 2.5063, Accuracy: 2143/5000 (42.86%)\n",
      "\n",
      "EPOCHS : 94\n"
     ]
    },
    {
     "name": "stderr",
     "output_type": "stream",
     "text": [
      "Loss=3.4855008125305176 Batch_id=195 Accuracy=20.82: 100%|██████████| 196/196 [02:29<00:00,  1.31it/s]\n"
     ]
    },
    {
     "name": "stdout",
     "output_type": "stream",
     "text": [
      "\n",
      "Test set: Average loss: 2.5138, Accuracy: 2146/5000 (42.92%)\n",
      "\n",
      "EPOCHS : 95\n"
     ]
    },
    {
     "name": "stderr",
     "output_type": "stream",
     "text": [
      "Loss=3.651747226715088 Batch_id=195 Accuracy=20.81: 100%|██████████| 196/196 [02:30<00:00,  1.30it/s] \n"
     ]
    },
    {
     "name": "stdout",
     "output_type": "stream",
     "text": [
      "\n",
      "Test set: Average loss: 2.4988, Accuracy: 2159/5000 (43.18%)\n",
      "\n",
      "EPOCHS : 96\n"
     ]
    },
    {
     "name": "stderr",
     "output_type": "stream",
     "text": [
      "Loss=3.5513358116149902 Batch_id=195 Accuracy=20.89: 100%|██████████| 196/196 [02:29<00:00,  1.31it/s]\n"
     ]
    },
    {
     "name": "stdout",
     "output_type": "stream",
     "text": [
      "\n",
      "Test set: Average loss: 2.5089, Accuracy: 2161/5000 (43.22%)\n",
      "\n",
      "EPOCHS : 97\n"
     ]
    },
    {
     "name": "stderr",
     "output_type": "stream",
     "text": [
      "Loss=3.6881401538848877 Batch_id=195 Accuracy=20.85: 100%|██████████| 196/196 [02:28<00:00,  1.32it/s]\n"
     ]
    },
    {
     "name": "stdout",
     "output_type": "stream",
     "text": [
      "\n",
      "Test set: Average loss: 2.4964, Accuracy: 2170/5000 (43.40%)\n",
      "\n",
      "EPOCHS : 98\n"
     ]
    },
    {
     "name": "stderr",
     "output_type": "stream",
     "text": [
      "Loss=3.7792747020721436 Batch_id=195 Accuracy=20.75: 100%|██████████| 196/196 [02:30<00:00,  1.30it/s]\n"
     ]
    },
    {
     "name": "stdout",
     "output_type": "stream",
     "text": [
      "\n",
      "Test set: Average loss: 2.5031, Accuracy: 2163/5000 (43.26%)\n",
      "\n",
      "EPOCHS : 99\n"
     ]
    },
    {
     "name": "stderr",
     "output_type": "stream",
     "text": [
      "Loss=3.453089952468872 Batch_id=195 Accuracy=20.95: 100%|██████████| 196/196 [02:29<00:00,  1.31it/s] \n"
     ]
    },
    {
     "name": "stdout",
     "output_type": "stream",
     "text": [
      "\n",
      "Test set: Average loss: 2.5084, Accuracy: 2163/5000 (43.26%)\n",
      "\n"
     ]
    }
   ],
   "source": [
    "epsilon=0.03\n",
    "optimizer = optim.SGD(model.parameters(), lr=0.01, momentum=0.9)\n",
    "scheduler = ReduceLROnPlateau(optimizer, mode='min', factor=0.05, patience=2, threshold=0.0001, threshold_mode='rel', cooldown=0, min_lr=0, eps=1e-08, verbose=True)\n",
    "\n",
    "\n",
    "train_acc = []\n",
    "train_losses = []\n",
    "test_acc = []\n",
    "test_losses = []\n",
    "\n",
    "EPOCHS = 100\n",
    "\n",
    "for i in range(EPOCHS):\n",
    "    print(f'EPOCHS : {i}')\n",
    "    model_training(model, device, trainloader, optimizer, train_acc, train_losses, epsilon, mean, std)\n",
    "    scheduler.step(train_losses[-1])\n",
    "    misclassified = model_testing(model, device, testloader, test_acc, test_losses)\n",
    "    \n",
    "    if i%10==0:\n",
    "        torch.save(model.state_dict(), \"./Networks/ResNet18_TinyImagenet_V0_Adversarial_ep_3p.pt\")\n",
    "        np.savez(\"./Networks/TrainSteps_ResNet18_TinyImagenet_V0_Adversarial_ep_3p.npz\", train_losses=train_losses,train_acc=train_acc, test_losses=test_losses, test_acc=test_acc)\n",
    "\n",
    "torch.save(model.state_dict(), \"./Networks/ResNet18_TinyImagenet_V0_Adversarial_ep_3p.pt\")\n",
    "np.savez(\"./Networks/TrainSteps_ResNet18_TinyImagenet_V0_Adversarial_ep_3p.npz\", train_losses=train_losses,train_acc=train_acc, test_losses=test_losses, test_acc=test_acc)"
   ]
  },
  {
   "cell_type": "code",
   "execution_count": 9,
   "metadata": {},
   "outputs": [
    {
     "data": {
      "text/plain": [
       "[<matplotlib.lines.Line2D at 0x7f403577a990>]"
      ]
     },
     "execution_count": 9,
     "metadata": {},
     "output_type": "execute_result"
    },
    {
     "data": {
      "image/png": "[encoded data removed]",
      "text/plain": [
       "<Figure size 800x800 with 4 Axes>"
      ]
     },
     "metadata": {},
     "output_type": "display_data"
    }
   ],
   "source": [
    "fig, axs = plt.subplots(2,2, figsize=(8,8))\n",
    "\n",
    "axs[0,0].set_title('Train Losses')\n",
    "axs[0,1].set_title('Training Accuracy')\n",
    "axs[1,0].set_title('Test Losses')\n",
    "axs[1,1].set_title('Test Accuracy')\n",
    "\n",
    "axs[0,0].plot(train_losses)\n",
    "axs[0,1].plot(train_acc)\n",
    "axs[1,0].plot(test_losses)\n",
    "axs[1,1].plot(test_acc)"
   ]
  },
  {
   "cell_type": "markdown",
   "metadata": {},
   "source": [
    "# Epsilion 0.01"
   ]
  },
  {
   "cell_type": "code",
   "execution_count": 10,
   "metadata": {},
   "outputs": [
    {
     "data": {
      "image/png": "[encoded data removed]",
      "text/plain": [
       "<Figure size 1000x1000 with 2 Axes>"
      ]
     },
     "metadata": {},
     "output_type": "display_data"
    }
   ],
   "source": [
    "epsilon=0.01\n",
    "mean=MeanImagenet\n",
    "std=StdImagenet\n",
    "model=ResNet18_TINYIMAGENET_0P\n",
    "trainloader=trainloader_TINYIMAGENET\n",
    "testloader=testloader_TINYIMAGENET\n",
    "\n",
    "#Check Images for epsion levels\n",
    "for data, target in trainloader:\n",
    "    data, target = data.to(device), target.to(device)\n",
    "    data_Adv=GetAdversarialExamples(model, data, target, device, epsilon=epsilon, mean=mean, std=std)\n",
    "\n",
    "    data = transforms.Normalize((-mean[0]/std[0], -mean[1]/std[1], -mean[2]/std[2]), (1/std[0], 1/std[1], 1/std[2]))(data)\n",
    "    data_Adv = transforms.Normalize((-mean[0]/std[0], -mean[1]/std[1], -mean[2]/std[2]), (1/std[0], 1/std[1], 1/std[2]))(data_Adv)\n",
    "    break\n",
    "\n",
    "IdxImage=np.random.randint(0,data.shape[0])\n",
    "with torch.no_grad():\n",
    "    #plot an image from data and from data_Adv\n",
    "    plt.figure(figsize=(10,10))\n",
    "    plt.subplot(1,2,1)\n",
    "    plt.imshow(data[IdxImage].cpu().numpy().transpose(1,2,0))\n",
    "    plt.title(\"Original Image\")\n",
    "    plt.subplot(1,2,2)\n",
    "    plt.imshow(data_Adv[IdxImage].cpu().numpy().transpose(1,2,0))\n",
    "    plt.title(\"Adversarial Image\")\n",
    "    plt.show()\n"
   ]
  },
  {
   "cell_type": "code",
   "execution_count": 11,
   "metadata": {},
   "outputs": [
    {
     "name": "stdout",
     "output_type": "stream",
     "text": [
      "EPOCHS : 0\n"
     ]
    },
    {
     "name": "stderr",
     "output_type": "stream",
     "text": [
      "Loss=2.51875901222229 Batch_id=195 Accuracy=38.63: 100%|██████████| 196/196 [02:29<00:00,  1.31it/s]  \n"
     ]
    },
    {
     "name": "stdout",
     "output_type": "stream",
     "text": [
      "\n",
      "Test set: Average loss: 2.0739, Accuracy: 2559/5000 (51.18%)\n",
      "\n",
      "EPOCHS : 1\n"
     ]
    },
    {
     "name": "stderr",
     "output_type": "stream",
     "text": [
      "Loss=2.492018699645996 Batch_id=195 Accuracy=40.38: 100%|██████████| 196/196 [02:30<00:00,  1.30it/s] \n"
     ]
    },
    {
     "name": "stdout",
     "output_type": "stream",
     "text": [
      "\n",
      "Test set: Average loss: 2.0079, Accuracy: 2580/5000 (51.60%)\n",
      "\n",
      "EPOCHS : 2\n"
     ]
    },
    {
     "name": "stderr",
     "output_type": "stream",
     "text": [
      "Loss=2.39713978767395 Batch_id=195 Accuracy=41.52: 100%|██████████| 196/196 [02:31<00:00,  1.29it/s]  \n"
     ]
    },
    {
     "name": "stdout",
     "output_type": "stream",
     "text": [
      "\n",
      "Test set: Average loss: 1.9795, Accuracy: 2632/5000 (52.64%)\n",
      "\n",
      "EPOCHS : 3\n"
     ]
    },
    {
     "name": "stderr",
     "output_type": "stream",
     "text": [
      "Loss=2.3340227603912354 Batch_id=195 Accuracy=42.65: 100%|██████████| 196/196 [02:31<00:00,  1.30it/s]\n"
     ]
    },
    {
     "name": "stdout",
     "output_type": "stream",
     "text": [
      "\n",
      "Test set: Average loss: 1.9751, Accuracy: 2635/5000 (52.70%)\n",
      "\n",
      "EPOCHS : 4\n"
     ]
    },
    {
     "name": "stderr",
     "output_type": "stream",
     "text": [
      "Loss=2.455207347869873 Batch_id=195 Accuracy=43.50: 100%|██████████| 196/196 [02:31<00:00,  1.30it/s] \n"
     ]
    },
    {
     "name": "stdout",
     "output_type": "stream",
     "text": [
      "\n",
      "Test set: Average loss: 1.9640, Accuracy: 2621/5000 (52.42%)\n",
      "\n",
      "EPOCHS : 5\n"
     ]
    },
    {
     "name": "stderr",
     "output_type": "stream",
     "text": [
      "Loss=2.0812554359436035 Batch_id=195 Accuracy=44.33: 100%|██████████| 196/196 [02:30<00:00,  1.30it/s]\n"
     ]
    },
    {
     "name": "stdout",
     "output_type": "stream",
     "text": [
      "\n",
      "Test set: Average loss: 1.9369, Accuracy: 2689/5000 (53.78%)\n",
      "\n",
      "EPOCHS : 6\n"
     ]
    },
    {
     "name": "stderr",
     "output_type": "stream",
     "text": [
      "Loss=2.0271921157836914 Batch_id=195 Accuracy=44.73: 100%|██████████| 196/196 [02:31<00:00,  1.29it/s]\n"
     ]
    },
    {
     "name": "stdout",
     "output_type": "stream",
     "text": [
      "\n",
      "Test set: Average loss: 1.9475, Accuracy: 2713/5000 (54.26%)\n",
      "\n",
      "EPOCHS : 7\n"
     ]
    },
    {
     "name": "stderr",
     "output_type": "stream",
     "text": [
      "Loss=2.0301406383514404 Batch_id=195 Accuracy=45.67: 100%|██████████| 196/196 [02:31<00:00,  1.30it/s]\n"
     ]
    },
    {
     "name": "stdout",
     "output_type": "stream",
     "text": [
      "\n",
      "Test set: Average loss: 1.9822, Accuracy: 2648/5000 (52.96%)\n",
      "\n",
      "EPOCHS : 8\n"
     ]
    },
    {
     "name": "stderr",
     "output_type": "stream",
     "text": [
      "Loss=2.1353464126586914 Batch_id=195 Accuracy=46.18: 100%|██████████| 196/196 [02:29<00:00,  1.31it/s]\n"
     ]
    },
    {
     "name": "stdout",
     "output_type": "stream",
     "text": [
      "\n",
      "Test set: Average loss: 1.9246, Accuracy: 2742/5000 (54.84%)\n",
      "\n",
      "EPOCHS : 9\n"
     ]
    },
    {
     "name": "stderr",
     "output_type": "stream",
     "text": [
      "Loss=2.082650661468506 Batch_id=195 Accuracy=47.02: 100%|██████████| 196/196 [02:31<00:00,  1.29it/s] "
     ]
    },
    {
     "name": "stdout",
     "output_type": "stream",
     "text": [
      "Epoch 00010: reducing learning rate of group 0 to 5.0000e-04.\n"
     ]
    },
    {
     "name": "stderr",
     "output_type": "stream",
     "text": [
      "\n"
     ]
    },
    {
     "name": "stdout",
     "output_type": "stream",
     "text": [
      "\n",
      "Test set: Average loss: 1.9149, Accuracy: 2715/5000 (54.30%)\n",
      "\n",
      "EPOCHS : 10\n"
     ]
    },
    {
     "name": "stderr",
     "output_type": "stream",
     "text": [
      "Loss=1.9364261627197266 Batch_id=195 Accuracy=51.38: 100%|██████████| 196/196 [02:32<00:00,  1.28it/s]\n"
     ]
    },
    {
     "name": "stdout",
     "output_type": "stream",
     "text": [
      "\n",
      "Test set: Average loss: 1.8414, Accuracy: 2796/5000 (55.92%)\n",
      "\n",
      "EPOCHS : 11\n"
     ]
    },
    {
     "name": "stderr",
     "output_type": "stream",
     "text": [
      "Loss=1.811838150024414 Batch_id=195 Accuracy=52.50: 100%|██████████| 196/196 [02:29<00:00,  1.31it/s] \n"
     ]
    },
    {
     "name": "stdout",
     "output_type": "stream",
     "text": [
      "\n",
      "Test set: Average loss: 1.8350, Accuracy: 2819/5000 (56.38%)\n",
      "\n",
      "EPOCHS : 12\n"
     ]
    },
    {
     "name": "stderr",
     "output_type": "stream",
     "text": [
      "Loss=1.8171151876449585 Batch_id=195 Accuracy=52.88: 100%|██████████| 196/196 [02:30<00:00,  1.30it/s]\n"
     ]
    },
    {
     "name": "stdout",
     "output_type": "stream",
     "text": [
      "\n",
      "Test set: Average loss: 1.8334, Accuracy: 2825/5000 (56.50%)\n",
      "\n",
      "EPOCHS : 13\n"
     ]
    },
    {
     "name": "stderr",
     "output_type": "stream",
     "text": [
      "Loss=2.0249900817871094 Batch_id=195 Accuracy=53.19: 100%|██████████| 196/196 [02:28<00:00,  1.32it/s]\n"
     ]
    },
    {
     "name": "stdout",
     "output_type": "stream",
     "text": [
      "\n",
      "Test set: Average loss: 1.8358, Accuracy: 2813/5000 (56.26%)\n",
      "\n",
      "EPOCHS : 14\n"
     ]
    },
    {
     "name": "stderr",
     "output_type": "stream",
     "text": [
      "Loss=1.672485113143921 Batch_id=195 Accuracy=53.29: 100%|██████████| 196/196 [02:31<00:00,  1.30it/s] \n"
     ]
    },
    {
     "name": "stdout",
     "output_type": "stream",
     "text": [
      "\n",
      "Test set: Average loss: 1.8296, Accuracy: 2829/5000 (56.58%)\n",
      "\n",
      "EPOCHS : 15\n"
     ]
    },
    {
     "name": "stderr",
     "output_type": "stream",
     "text": [
      "Loss=1.8698713779449463 Batch_id=195 Accuracy=53.20: 100%|██████████| 196/196 [02:32<00:00,  1.29it/s]\n"
     ]
    },
    {
     "name": "stdout",
     "output_type": "stream",
     "text": [
      "\n",
      "Test set: Average loss: 1.8273, Accuracy: 2833/5000 (56.66%)\n",
      "\n",
      "EPOCHS : 16\n"
     ]
    },
    {
     "name": "stderr",
     "output_type": "stream",
     "text": [
      "Loss=1.986440896987915 Batch_id=195 Accuracy=53.68: 100%|██████████| 196/196 [02:31<00:00,  1.30it/s] \n"
     ]
    },
    {
     "name": "stdout",
     "output_type": "stream",
     "text": [
      "\n",
      "Test set: Average loss: 1.8328, Accuracy: 2820/5000 (56.40%)\n",
      "\n",
      "EPOCHS : 17\n"
     ]
    },
    {
     "name": "stderr",
     "output_type": "stream",
     "text": [
      "Loss=2.0468802452087402 Batch_id=195 Accuracy=53.72: 100%|██████████| 196/196 [02:30<00:00,  1.30it/s]"
     ]
    },
    {
     "name": "stdout",
     "output_type": "stream",
     "text": [
      "Epoch 00018: reducing learning rate of group 0 to 2.5000e-05.\n"
     ]
    },
    {
     "name": "stderr",
     "output_type": "stream",
     "text": [
      "\n"
     ]
    },
    {
     "name": "stdout",
     "output_type": "stream",
     "text": [
      "\n",
      "Test set: Average loss: 1.8300, Accuracy: 2829/5000 (56.58%)\n",
      "\n",
      "EPOCHS : 18\n"
     ]
    },
    {
     "name": "stderr",
     "output_type": "stream",
     "text": [
      "Loss=1.7554280757904053 Batch_id=195 Accuracy=54.15: 100%|██████████| 196/196 [02:37<00:00,  1.25it/s]\n"
     ]
    },
    {
     "name": "stdout",
     "output_type": "stream",
     "text": [
      "\n",
      "Test set: Average loss: 1.8291, Accuracy: 2820/5000 (56.40%)\n",
      "\n",
      "EPOCHS : 19\n"
     ]
    },
    {
     "name": "stderr",
     "output_type": "stream",
     "text": [
      "Loss=1.698485016822815 Batch_id=195 Accuracy=53.87: 100%|██████████| 196/196 [02:36<00:00,  1.26it/s] \n"
     ]
    },
    {
     "name": "stdout",
     "output_type": "stream",
     "text": [
      "\n",
      "Test set: Average loss: 1.8295, Accuracy: 2817/5000 (56.34%)\n",
      "\n",
      "EPOCHS : 20\n"
     ]
    },
    {
     "name": "stderr",
     "output_type": "stream",
     "text": [
      "Loss=1.8464800119400024 Batch_id=195 Accuracy=54.13: 100%|██████████| 196/196 [02:31<00:00,  1.29it/s]"
     ]
    },
    {
     "name": "stdout",
     "output_type": "stream",
     "text": [
      "Epoch 00021: reducing learning rate of group 0 to 1.2500e-06.\n"
     ]
    },
    {
     "name": "stderr",
     "output_type": "stream",
     "text": [
      "\n"
     ]
    },
    {
     "name": "stdout",
     "output_type": "stream",
     "text": [
      "\n",
      "Test set: Average loss: 1.8333, Accuracy: 2823/5000 (56.46%)\n",
      "\n",
      "EPOCHS : 21\n"
     ]
    },
    {
     "name": "stderr",
     "output_type": "stream",
     "text": [
      "Loss=1.7406364679336548 Batch_id=195 Accuracy=54.16: 100%|██████████| 196/196 [02:30<00:00,  1.30it/s]\n"
     ]
    },
    {
     "name": "stdout",
     "output_type": "stream",
     "text": [
      "\n",
      "Test set: Average loss: 1.8264, Accuracy: 2833/5000 (56.66%)\n",
      "\n",
      "EPOCHS : 22\n"
     ]
    },
    {
     "name": "stderr",
     "output_type": "stream",
     "text": [
      "Loss=1.736280083656311 Batch_id=195 Accuracy=54.17: 100%|██████████| 196/196 [02:31<00:00,  1.29it/s] \n"
     ]
    },
    {
     "name": "stdout",
     "output_type": "stream",
     "text": [
      "\n",
      "Test set: Average loss: 1.8294, Accuracy: 2817/5000 (56.34%)\n",
      "\n",
      "EPOCHS : 23\n"
     ]
    },
    {
     "name": "stderr",
     "output_type": "stream",
     "text": [
      "Loss=2.0179383754730225 Batch_id=195 Accuracy=54.07: 100%|██████████| 196/196 [02:31<00:00,  1.29it/s]"
     ]
    },
    {
     "name": "stdout",
     "output_type": "stream",
     "text": [
      "Epoch 00024: reducing learning rate of group 0 to 6.2500e-08.\n"
     ]
    },
    {
     "name": "stderr",
     "output_type": "stream",
     "text": [
      "\n"
     ]
    },
    {
     "name": "stdout",
     "output_type": "stream",
     "text": [
      "\n",
      "Test set: Average loss: 1.8311, Accuracy: 2830/5000 (56.60%)\n",
      "\n",
      "EPOCHS : 24\n"
     ]
    },
    {
     "name": "stderr",
     "output_type": "stream",
     "text": [
      "Loss=1.8322389125823975 Batch_id=195 Accuracy=54.08: 100%|██████████| 196/196 [02:29<00:00,  1.31it/s]\n"
     ]
    },
    {
     "name": "stdout",
     "output_type": "stream",
     "text": [
      "\n",
      "Test set: Average loss: 1.8315, Accuracy: 2820/5000 (56.40%)\n",
      "\n",
      "EPOCHS : 25\n"
     ]
    },
    {
     "name": "stderr",
     "output_type": "stream",
     "text": [
      "Loss=1.849513292312622 Batch_id=195 Accuracy=53.91: 100%|██████████| 196/196 [02:31<00:00,  1.30it/s] \n"
     ]
    },
    {
     "name": "stdout",
     "output_type": "stream",
     "text": [
      "\n",
      "Test set: Average loss: 1.8268, Accuracy: 2823/5000 (56.46%)\n",
      "\n",
      "EPOCHS : 26\n"
     ]
    },
    {
     "name": "stderr",
     "output_type": "stream",
     "text": [
      "Loss=1.5499670505523682 Batch_id=195 Accuracy=54.33: 100%|██████████| 196/196 [02:30<00:00,  1.30it/s]\n"
     ]
    },
    {
     "name": "stdout",
     "output_type": "stream",
     "text": [
      "\n",
      "Test set: Average loss: 1.8290, Accuracy: 2810/5000 (56.20%)\n",
      "\n",
      "EPOCHS : 27\n"
     ]
    },
    {
     "name": "stderr",
     "output_type": "stream",
     "text": [
      "Loss=1.736022710800171 Batch_id=195 Accuracy=54.01: 100%|██████████| 196/196 [02:29<00:00,  1.31it/s] \n"
     ]
    },
    {
     "name": "stdout",
     "output_type": "stream",
     "text": [
      "\n",
      "Test set: Average loss: 1.8313, Accuracy: 2836/5000 (56.72%)\n",
      "\n",
      "EPOCHS : 28\n"
     ]
    },
    {
     "name": "stderr",
     "output_type": "stream",
     "text": [
      "Loss=1.6933624744415283 Batch_id=195 Accuracy=54.18: 100%|██████████| 196/196 [02:31<00:00,  1.30it/s]\n"
     ]
    },
    {
     "name": "stdout",
     "output_type": "stream",
     "text": [
      "\n",
      "Test set: Average loss: 1.8284, Accuracy: 2819/5000 (56.38%)\n",
      "\n",
      "EPOCHS : 29\n"
     ]
    },
    {
     "name": "stderr",
     "output_type": "stream",
     "text": [
      "Loss=1.7934999465942383 Batch_id=195 Accuracy=54.12: 100%|██████████| 196/196 [02:30<00:00,  1.30it/s]"
     ]
    },
    {
     "name": "stdout",
     "output_type": "stream",
     "text": [
      "Epoch 00030: reducing learning rate of group 0 to 3.1250e-09.\n"
     ]
    },
    {
     "name": "stderr",
     "output_type": "stream",
     "text": [
      "\n"
     ]
    },
    {
     "name": "stdout",
     "output_type": "stream",
     "text": [
      "\n",
      "Test set: Average loss: 1.8293, Accuracy: 2827/5000 (56.54%)\n",
      "\n",
      "EPOCHS : 30\n"
     ]
    },
    {
     "name": "stderr",
     "output_type": "stream",
     "text": [
      "Loss=1.9239963293075562 Batch_id=195 Accuracy=54.17: 100%|██████████| 196/196 [02:31<00:00,  1.29it/s]\n"
     ]
    },
    {
     "name": "stdout",
     "output_type": "stream",
     "text": [
      "\n",
      "Test set: Average loss: 1.8326, Accuracy: 2827/5000 (56.54%)\n",
      "\n",
      "EPOCHS : 31\n"
     ]
    },
    {
     "name": "stderr",
     "output_type": "stream",
     "text": [
      "Loss=2.1359221935272217 Batch_id=195 Accuracy=54.09: 100%|██████████| 196/196 [02:30<00:00,  1.30it/s]\n"
     ]
    },
    {
     "name": "stdout",
     "output_type": "stream",
     "text": [
      "\n",
      "Test set: Average loss: 1.8328, Accuracy: 2822/5000 (56.44%)\n",
      "\n",
      "EPOCHS : 32\n"
     ]
    },
    {
     "name": "stderr",
     "output_type": "stream",
     "text": [
      "Loss=1.8423233032226562 Batch_id=195 Accuracy=54.15: 100%|██████████| 196/196 [02:31<00:00,  1.30it/s]\n"
     ]
    },
    {
     "name": "stdout",
     "output_type": "stream",
     "text": [
      "\n",
      "Test set: Average loss: 1.8303, Accuracy: 2823/5000 (56.46%)\n",
      "\n",
      "EPOCHS : 33\n"
     ]
    },
    {
     "name": "stderr",
     "output_type": "stream",
     "text": [
      "Loss=1.771528959274292 Batch_id=195 Accuracy=54.14: 100%|██████████| 196/196 [02:30<00:00,  1.30it/s] \n"
     ]
    },
    {
     "name": "stdout",
     "output_type": "stream",
     "text": [
      "\n",
      "Test set: Average loss: 1.8276, Accuracy: 2829/5000 (56.58%)\n",
      "\n",
      "EPOCHS : 34\n"
     ]
    },
    {
     "name": "stderr",
     "output_type": "stream",
     "text": [
      "Loss=1.6556813716888428 Batch_id=195 Accuracy=54.04: 100%|██████████| 196/196 [02:30<00:00,  1.30it/s]\n"
     ]
    },
    {
     "name": "stdout",
     "output_type": "stream",
     "text": [
      "\n",
      "Test set: Average loss: 1.8291, Accuracy: 2822/5000 (56.44%)\n",
      "\n",
      "EPOCHS : 35\n"
     ]
    },
    {
     "name": "stderr",
     "output_type": "stream",
     "text": [
      "Loss=1.711648941040039 Batch_id=195 Accuracy=54.19: 100%|██████████| 196/196 [02:32<00:00,  1.28it/s] \n"
     ]
    },
    {
     "name": "stdout",
     "output_type": "stream",
     "text": [
      "\n",
      "Test set: Average loss: 1.8319, Accuracy: 2830/5000 (56.60%)\n",
      "\n",
      "EPOCHS : 36\n"
     ]
    },
    {
     "name": "stderr",
     "output_type": "stream",
     "text": [
      "Loss=1.756061315536499 Batch_id=195 Accuracy=53.95: 100%|██████████| 196/196 [02:30<00:00,  1.30it/s] \n"
     ]
    },
    {
     "name": "stdout",
     "output_type": "stream",
     "text": [
      "\n",
      "Test set: Average loss: 1.8273, Accuracy: 2828/5000 (56.56%)\n",
      "\n",
      "EPOCHS : 37\n"
     ]
    },
    {
     "name": "stderr",
     "output_type": "stream",
     "text": [
      "Loss=1.7533155679702759 Batch_id=195 Accuracy=54.11: 100%|██████████| 196/196 [02:29<00:00,  1.31it/s]\n"
     ]
    },
    {
     "name": "stdout",
     "output_type": "stream",
     "text": [
      "\n",
      "Test set: Average loss: 1.8310, Accuracy: 2834/5000 (56.68%)\n",
      "\n",
      "EPOCHS : 38\n"
     ]
    },
    {
     "name": "stderr",
     "output_type": "stream",
     "text": [
      "Loss=1.757987380027771 Batch_id=195 Accuracy=54.06: 100%|██████████| 196/196 [02:30<00:00,  1.30it/s] \n"
     ]
    },
    {
     "name": "stdout",
     "output_type": "stream",
     "text": [
      "\n",
      "Test set: Average loss: 1.8300, Accuracy: 2821/5000 (56.42%)\n",
      "\n",
      "EPOCHS : 39\n"
     ]
    },
    {
     "name": "stderr",
     "output_type": "stream",
     "text": [
      "Loss=1.6959253549575806 Batch_id=195 Accuracy=54.09: 100%|██████████| 196/196 [02:28<00:00,  1.32it/s]\n"
     ]
    },
    {
     "name": "stdout",
     "output_type": "stream",
     "text": [
      "\n",
      "Test set: Average loss: 1.8346, Accuracy: 2812/5000 (56.24%)\n",
      "\n",
      "EPOCHS : 40\n"
     ]
    },
    {
     "name": "stderr",
     "output_type": "stream",
     "text": [
      "Loss=1.7333139181137085 Batch_id=195 Accuracy=54.07: 100%|██████████| 196/196 [02:28<00:00,  1.32it/s]\n"
     ]
    },
    {
     "name": "stdout",
     "output_type": "stream",
     "text": [
      "\n",
      "Test set: Average loss: 1.8272, Accuracy: 2828/5000 (56.56%)\n",
      "\n",
      "EPOCHS : 41\n"
     ]
    },
    {
     "name": "stderr",
     "output_type": "stream",
     "text": [
      "Loss=1.597707986831665 Batch_id=195 Accuracy=54.06: 100%|██████████| 196/196 [02:29<00:00,  1.31it/s] \n"
     ]
    },
    {
     "name": "stdout",
     "output_type": "stream",
     "text": [
      "\n",
      "Test set: Average loss: 1.8271, Accuracy: 2825/5000 (56.50%)\n",
      "\n",
      "EPOCHS : 42\n"
     ]
    },
    {
     "name": "stderr",
     "output_type": "stream",
     "text": [
      "Loss=1.8341974020004272 Batch_id=195 Accuracy=54.02: 100%|██████████| 196/196 [02:29<00:00,  1.31it/s]\n"
     ]
    },
    {
     "name": "stdout",
     "output_type": "stream",
     "text": [
      "\n",
      "Test set: Average loss: 1.8249, Accuracy: 2829/5000 (56.58%)\n",
      "\n",
      "EPOCHS : 43\n"
     ]
    },
    {
     "name": "stderr",
     "output_type": "stream",
     "text": [
      "Loss=1.7854448556900024 Batch_id=195 Accuracy=54.17: 100%|██████████| 196/196 [02:29<00:00,  1.31it/s]\n"
     ]
    },
    {
     "name": "stdout",
     "output_type": "stream",
     "text": [
      "\n",
      "Test set: Average loss: 1.8294, Accuracy: 2827/5000 (56.54%)\n",
      "\n",
      "EPOCHS : 44\n"
     ]
    },
    {
     "name": "stderr",
     "output_type": "stream",
     "text": [
      "Loss=1.6375577449798584 Batch_id=195 Accuracy=54.13: 100%|██████████| 196/196 [02:30<00:00,  1.30it/s]\n"
     ]
    },
    {
     "name": "stdout",
     "output_type": "stream",
     "text": [
      "\n",
      "Test set: Average loss: 1.8288, Accuracy: 2821/5000 (56.42%)\n",
      "\n",
      "EPOCHS : 45\n"
     ]
    },
    {
     "name": "stderr",
     "output_type": "stream",
     "text": [
      "Loss=1.9484565258026123 Batch_id=195 Accuracy=54.12: 100%|██████████| 196/196 [02:31<00:00,  1.29it/s]\n"
     ]
    },
    {
     "name": "stdout",
     "output_type": "stream",
     "text": [
      "\n",
      "Test set: Average loss: 1.8300, Accuracy: 2820/5000 (56.40%)\n",
      "\n",
      "EPOCHS : 46\n"
     ]
    },
    {
     "name": "stderr",
     "output_type": "stream",
     "text": [
      "Loss=1.7798421382904053 Batch_id=195 Accuracy=54.05: 100%|██████████| 196/196 [02:29<00:00,  1.31it/s]\n"
     ]
    },
    {
     "name": "stdout",
     "output_type": "stream",
     "text": [
      "\n",
      "Test set: Average loss: 1.8294, Accuracy: 2823/5000 (56.46%)\n",
      "\n",
      "EPOCHS : 47\n"
     ]
    },
    {
     "name": "stderr",
     "output_type": "stream",
     "text": [
      "Loss=1.8094688653945923 Batch_id=195 Accuracy=54.29: 100%|██████████| 196/196 [02:30<00:00,  1.30it/s]\n"
     ]
    },
    {
     "name": "stdout",
     "output_type": "stream",
     "text": [
      "\n",
      "Test set: Average loss: 1.8268, Accuracy: 2825/5000 (56.50%)\n",
      "\n",
      "EPOCHS : 48\n"
     ]
    },
    {
     "name": "stderr",
     "output_type": "stream",
     "text": [
      "Loss=1.7166894674301147 Batch_id=195 Accuracy=54.18: 100%|██████████| 196/196 [02:30<00:00,  1.30it/s]\n"
     ]
    },
    {
     "name": "stdout",
     "output_type": "stream",
     "text": [
      "\n",
      "Test set: Average loss: 1.8253, Accuracy: 2827/5000 (56.54%)\n",
      "\n",
      "EPOCHS : 49\n"
     ]
    },
    {
     "name": "stderr",
     "output_type": "stream",
     "text": [
      "Loss=1.7502410411834717 Batch_id=195 Accuracy=54.21: 100%|██████████| 196/196 [02:31<00:00,  1.30it/s]\n"
     ]
    },
    {
     "name": "stdout",
     "output_type": "stream",
     "text": [
      "\n",
      "Test set: Average loss: 1.8276, Accuracy: 2826/5000 (56.52%)\n",
      "\n",
      "EPOCHS : 50\n"
     ]
    },
    {
     "name": "stderr",
     "output_type": "stream",
     "text": [
      "Loss=1.7931257486343384 Batch_id=195 Accuracy=54.20: 100%|██████████| 196/196 [02:31<00:00,  1.30it/s]\n"
     ]
    },
    {
     "name": "stdout",
     "output_type": "stream",
     "text": [
      "\n",
      "Test set: Average loss: 1.8293, Accuracy: 2825/5000 (56.50%)\n",
      "\n",
      "EPOCHS : 51\n"
     ]
    },
    {
     "name": "stderr",
     "output_type": "stream",
     "text": [
      "Loss=1.6581048965454102 Batch_id=195 Accuracy=54.07: 100%|██████████| 196/196 [02:31<00:00,  1.30it/s]\n"
     ]
    },
    {
     "name": "stdout",
     "output_type": "stream",
     "text": [
      "\n",
      "Test set: Average loss: 1.8267, Accuracy: 2824/5000 (56.48%)\n",
      "\n",
      "EPOCHS : 52\n"
     ]
    },
    {
     "name": "stderr",
     "output_type": "stream",
     "text": [
      "Loss=1.8422458171844482 Batch_id=195 Accuracy=54.03: 100%|██████████| 196/196 [02:32<00:00,  1.29it/s]\n"
     ]
    },
    {
     "name": "stdout",
     "output_type": "stream",
     "text": [
      "\n",
      "Test set: Average loss: 1.8295, Accuracy: 2828/5000 (56.56%)\n",
      "\n",
      "EPOCHS : 53\n"
     ]
    },
    {
     "name": "stderr",
     "output_type": "stream",
     "text": [
      "Loss=1.8453540802001953 Batch_id=195 Accuracy=53.97: 100%|██████████| 196/196 [02:30<00:00,  1.31it/s]\n"
     ]
    },
    {
     "name": "stdout",
     "output_type": "stream",
     "text": [
      "\n",
      "Test set: Average loss: 1.8307, Accuracy: 2824/5000 (56.48%)\n",
      "\n",
      "EPOCHS : 54\n"
     ]
    },
    {
     "name": "stderr",
     "output_type": "stream",
     "text": [
      "Loss=1.6704094409942627 Batch_id=195 Accuracy=54.29: 100%|██████████| 196/196 [02:30<00:00,  1.30it/s]\n"
     ]
    },
    {
     "name": "stdout",
     "output_type": "stream",
     "text": [
      "\n",
      "Test set: Average loss: 1.8286, Accuracy: 2823/5000 (56.46%)\n",
      "\n",
      "EPOCHS : 55\n"
     ]
    },
    {
     "name": "stderr",
     "output_type": "stream",
     "text": [
      "Loss=1.9252502918243408 Batch_id=195 Accuracy=54.14: 100%|██████████| 196/196 [02:31<00:00,  1.29it/s]\n"
     ]
    },
    {
     "name": "stdout",
     "output_type": "stream",
     "text": [
      "\n",
      "Test set: Average loss: 1.8280, Accuracy: 2825/5000 (56.50%)\n",
      "\n",
      "EPOCHS : 56\n"
     ]
    },
    {
     "name": "stderr",
     "output_type": "stream",
     "text": [
      "Loss=1.637420654296875 Batch_id=195 Accuracy=54.10: 100%|██████████| 196/196 [02:30<00:00,  1.30it/s] \n"
     ]
    },
    {
     "name": "stdout",
     "output_type": "stream",
     "text": [
      "\n",
      "Test set: Average loss: 1.8343, Accuracy: 2822/5000 (56.44%)\n",
      "\n",
      "EPOCHS : 57\n"
     ]
    },
    {
     "name": "stderr",
     "output_type": "stream",
     "text": [
      "Loss=1.9749538898468018 Batch_id=195 Accuracy=54.03: 100%|██████████| 196/196 [02:30<00:00,  1.30it/s]\n"
     ]
    },
    {
     "name": "stdout",
     "output_type": "stream",
     "text": [
      "\n",
      "Test set: Average loss: 1.8314, Accuracy: 2827/5000 (56.54%)\n",
      "\n",
      "EPOCHS : 58\n"
     ]
    },
    {
     "name": "stderr",
     "output_type": "stream",
     "text": [
      "Loss=1.7131141424179077 Batch_id=195 Accuracy=54.22: 100%|██████████| 196/196 [02:30<00:00,  1.30it/s]\n"
     ]
    },
    {
     "name": "stdout",
     "output_type": "stream",
     "text": [
      "\n",
      "Test set: Average loss: 1.8336, Accuracy: 2815/5000 (56.30%)\n",
      "\n",
      "EPOCHS : 59\n"
     ]
    },
    {
     "name": "stderr",
     "output_type": "stream",
     "text": [
      "Loss=1.4441545009613037 Batch_id=195 Accuracy=54.08: 100%|██████████| 196/196 [02:31<00:00,  1.30it/s]\n"
     ]
    },
    {
     "name": "stdout",
     "output_type": "stream",
     "text": [
      "\n",
      "Test set: Average loss: 1.8284, Accuracy: 2823/5000 (56.46%)\n",
      "\n",
      "EPOCHS : 60\n"
     ]
    },
    {
     "name": "stderr",
     "output_type": "stream",
     "text": [
      "Loss=1.7119992971420288 Batch_id=195 Accuracy=54.00: 100%|██████████| 196/196 [02:32<00:00,  1.29it/s]\n"
     ]
    },
    {
     "name": "stdout",
     "output_type": "stream",
     "text": [
      "\n",
      "Test set: Average loss: 1.8312, Accuracy: 2814/5000 (56.28%)\n",
      "\n",
      "EPOCHS : 61\n"
     ]
    },
    {
     "name": "stderr",
     "output_type": "stream",
     "text": [
      "Loss=1.7003698348999023 Batch_id=195 Accuracy=54.13: 100%|██████████| 196/196 [02:31<00:00,  1.30it/s]\n"
     ]
    },
    {
     "name": "stdout",
     "output_type": "stream",
     "text": [
      "\n",
      "Test set: Average loss: 1.8273, Accuracy: 2825/5000 (56.50%)\n",
      "\n",
      "EPOCHS : 62\n"
     ]
    },
    {
     "name": "stderr",
     "output_type": "stream",
     "text": [
      "Loss=1.66448974609375 Batch_id=195 Accuracy=53.94: 100%|██████████| 196/196 [02:30<00:00,  1.31it/s]  \n"
     ]
    },
    {
     "name": "stdout",
     "output_type": "stream",
     "text": [
      "\n",
      "Test set: Average loss: 1.8285, Accuracy: 2825/5000 (56.50%)\n",
      "\n",
      "EPOCHS : 63\n"
     ]
    },
    {
     "name": "stderr",
     "output_type": "stream",
     "text": [
      "Loss=1.7649633884429932 Batch_id=195 Accuracy=54.04: 100%|██████████| 196/196 [02:31<00:00,  1.30it/s]\n"
     ]
    },
    {
     "name": "stdout",
     "output_type": "stream",
     "text": [
      "\n",
      "Test set: Average loss: 1.8325, Accuracy: 2829/5000 (56.58%)\n",
      "\n",
      "EPOCHS : 64\n"
     ]
    },
    {
     "name": "stderr",
     "output_type": "stream",
     "text": [
      "Loss=1.764983892440796 Batch_id=195 Accuracy=54.23: 100%|██████████| 196/196 [02:31<00:00,  1.30it/s] \n"
     ]
    },
    {
     "name": "stdout",
     "output_type": "stream",
     "text": [
      "\n",
      "Test set: Average loss: 1.8297, Accuracy: 2826/5000 (56.52%)\n",
      "\n",
      "EPOCHS : 65\n"
     ]
    },
    {
     "name": "stderr",
     "output_type": "stream",
     "text": [
      "Loss=1.8998463153839111 Batch_id=195 Accuracy=54.20: 100%|██████████| 196/196 [02:30<00:00,  1.30it/s]\n"
     ]
    },
    {
     "name": "stdout",
     "output_type": "stream",
     "text": [
      "\n",
      "Test set: Average loss: 1.8304, Accuracy: 2827/5000 (56.54%)\n",
      "\n",
      "EPOCHS : 66\n"
     ]
    },
    {
     "name": "stderr",
     "output_type": "stream",
     "text": [
      "Loss=1.5413674116134644 Batch_id=195 Accuracy=54.09: 100%|██████████| 196/196 [02:31<00:00,  1.30it/s]\n"
     ]
    },
    {
     "name": "stdout",
     "output_type": "stream",
     "text": [
      "\n",
      "Test set: Average loss: 1.8285, Accuracy: 2822/5000 (56.44%)\n",
      "\n",
      "EPOCHS : 67\n"
     ]
    },
    {
     "name": "stderr",
     "output_type": "stream",
     "text": [
      "Loss=1.8619635105133057 Batch_id=195 Accuracy=53.84: 100%|██████████| 196/196 [02:30<00:00,  1.30it/s]\n"
     ]
    },
    {
     "name": "stdout",
     "output_type": "stream",
     "text": [
      "\n",
      "Test set: Average loss: 1.8333, Accuracy: 2820/5000 (56.40%)\n",
      "\n",
      "EPOCHS : 68\n"
     ]
    },
    {
     "name": "stderr",
     "output_type": "stream",
     "text": [
      "Loss=1.6410338878631592 Batch_id=195 Accuracy=53.87: 100%|██████████| 196/196 [02:31<00:00,  1.29it/s]\n"
     ]
    },
    {
     "name": "stdout",
     "output_type": "stream",
     "text": [
      "\n",
      "Test set: Average loss: 1.8249, Accuracy: 2823/5000 (56.46%)\n",
      "\n",
      "EPOCHS : 69\n"
     ]
    },
    {
     "name": "stderr",
     "output_type": "stream",
     "text": [
      "Loss=1.8120571374893188 Batch_id=195 Accuracy=54.16: 100%|██████████| 196/196 [02:32<00:00,  1.29it/s]\n"
     ]
    },
    {
     "name": "stdout",
     "output_type": "stream",
     "text": [
      "\n",
      "Test set: Average loss: 1.8281, Accuracy: 2820/5000 (56.40%)\n",
      "\n",
      "EPOCHS : 70\n"
     ]
    },
    {
     "name": "stderr",
     "output_type": "stream",
     "text": [
      "Loss=1.613741159439087 Batch_id=195 Accuracy=53.91: 100%|██████████| 196/196 [02:31<00:00,  1.29it/s] \n"
     ]
    },
    {
     "name": "stdout",
     "output_type": "stream",
     "text": [
      "\n",
      "Test set: Average loss: 1.8272, Accuracy: 2824/5000 (56.48%)\n",
      "\n",
      "EPOCHS : 71\n"
     ]
    },
    {
     "name": "stderr",
     "output_type": "stream",
     "text": [
      "Loss=1.6236165761947632 Batch_id=195 Accuracy=54.06: 100%|██████████| 196/196 [02:30<00:00,  1.31it/s]\n"
     ]
    },
    {
     "name": "stdout",
     "output_type": "stream",
     "text": [
      "\n",
      "Test set: Average loss: 1.8322, Accuracy: 2815/5000 (56.30%)\n",
      "\n",
      "EPOCHS : 72\n"
     ]
    },
    {
     "name": "stderr",
     "output_type": "stream",
     "text": [
      "Loss=1.8354419469833374 Batch_id=195 Accuracy=54.21: 100%|██████████| 196/196 [02:32<00:00,  1.28it/s]\n"
     ]
    },
    {
     "name": "stdout",
     "output_type": "stream",
     "text": [
      "\n",
      "Test set: Average loss: 1.8283, Accuracy: 2825/5000 (56.50%)\n",
      "\n",
      "EPOCHS : 73\n"
     ]
    },
    {
     "name": "stderr",
     "output_type": "stream",
     "text": [
      "Loss=1.8187477588653564 Batch_id=195 Accuracy=54.14: 100%|██████████| 196/196 [02:31<00:00,  1.29it/s]\n"
     ]
    },
    {
     "name": "stdout",
     "output_type": "stream",
     "text": [
      "\n",
      "Test set: Average loss: 1.8290, Accuracy: 2822/5000 (56.44%)\n",
      "\n",
      "EPOCHS : 74\n"
     ]
    },
    {
     "name": "stderr",
     "output_type": "stream",
     "text": [
      "Loss=2.0456576347351074 Batch_id=195 Accuracy=54.24: 100%|██████████| 196/196 [02:29<00:00,  1.31it/s]\n"
     ]
    },
    {
     "name": "stdout",
     "output_type": "stream",
     "text": [
      "\n",
      "Test set: Average loss: 1.8335, Accuracy: 2822/5000 (56.44%)\n",
      "\n",
      "EPOCHS : 75\n"
     ]
    },
    {
     "name": "stderr",
     "output_type": "stream",
     "text": [
      "Loss=1.7086308002471924 Batch_id=195 Accuracy=54.12: 100%|██████████| 196/196 [02:31<00:00,  1.29it/s]\n"
     ]
    },
    {
     "name": "stdout",
     "output_type": "stream",
     "text": [
      "\n",
      "Test set: Average loss: 1.8303, Accuracy: 2817/5000 (56.34%)\n",
      "\n",
      "EPOCHS : 76\n"
     ]
    },
    {
     "name": "stderr",
     "output_type": "stream",
     "text": [
      "Loss=1.7834144830703735 Batch_id=195 Accuracy=54.18: 100%|██████████| 196/196 [02:31<00:00,  1.29it/s]\n"
     ]
    },
    {
     "name": "stdout",
     "output_type": "stream",
     "text": [
      "\n",
      "Test set: Average loss: 1.8330, Accuracy: 2814/5000 (56.28%)\n",
      "\n",
      "EPOCHS : 77\n"
     ]
    },
    {
     "name": "stderr",
     "output_type": "stream",
     "text": [
      "Loss=1.6866750717163086 Batch_id=195 Accuracy=54.05: 100%|██████████| 196/196 [02:31<00:00,  1.29it/s]\n"
     ]
    },
    {
     "name": "stdout",
     "output_type": "stream",
     "text": [
      "\n",
      "Test set: Average loss: 1.8299, Accuracy: 2819/5000 (56.38%)\n",
      "\n",
      "EPOCHS : 78\n"
     ]
    },
    {
     "name": "stderr",
     "output_type": "stream",
     "text": [
      "Loss=1.9286887645721436 Batch_id=195 Accuracy=54.03: 100%|██████████| 196/196 [02:32<00:00,  1.28it/s]\n"
     ]
    },
    {
     "name": "stdout",
     "output_type": "stream",
     "text": [
      "\n",
      "Test set: Average loss: 1.8286, Accuracy: 2822/5000 (56.44%)\n",
      "\n",
      "EPOCHS : 79\n"
     ]
    },
    {
     "name": "stderr",
     "output_type": "stream",
     "text": [
      "Loss=1.9477813243865967 Batch_id=195 Accuracy=54.10: 100%|██████████| 196/196 [02:29<00:00,  1.31it/s]\n"
     ]
    },
    {
     "name": "stdout",
     "output_type": "stream",
     "text": [
      "\n",
      "Test set: Average loss: 1.8301, Accuracy: 2829/5000 (56.58%)\n",
      "\n",
      "EPOCHS : 80\n"
     ]
    },
    {
     "name": "stderr",
     "output_type": "stream",
     "text": [
      "Loss=1.6518657207489014 Batch_id=195 Accuracy=54.17: 100%|██████████| 196/196 [02:31<00:00,  1.29it/s]\n"
     ]
    },
    {
     "name": "stdout",
     "output_type": "stream",
     "text": [
      "\n",
      "Test set: Average loss: 1.8304, Accuracy: 2828/5000 (56.56%)\n",
      "\n",
      "EPOCHS : 81\n"
     ]
    },
    {
     "name": "stderr",
     "output_type": "stream",
     "text": [
      "Loss=1.74481201171875 Batch_id=195 Accuracy=54.11: 100%|██████████| 196/196 [02:38<00:00,  1.23it/s]  \n"
     ]
    },
    {
     "name": "stdout",
     "output_type": "stream",
     "text": [
      "\n",
      "Test set: Average loss: 1.8321, Accuracy: 2823/5000 (56.46%)\n",
      "\n",
      "EPOCHS : 82\n"
     ]
    },
    {
     "name": "stderr",
     "output_type": "stream",
     "text": [
      "Loss=1.9230972528457642 Batch_id=195 Accuracy=54.06: 100%|██████████| 196/196 [02:36<00:00,  1.25it/s]\n"
     ]
    },
    {
     "name": "stdout",
     "output_type": "stream",
     "text": [
      "\n",
      "Test set: Average loss: 1.8294, Accuracy: 2826/5000 (56.52%)\n",
      "\n",
      "EPOCHS : 83\n"
     ]
    },
    {
     "name": "stderr",
     "output_type": "stream",
     "text": [
      "Loss=1.678493857383728 Batch_id=195 Accuracy=54.10: 100%|██████████| 196/196 [02:30<00:00,  1.30it/s] \n"
     ]
    },
    {
     "name": "stdout",
     "output_type": "stream",
     "text": [
      "\n",
      "Test set: Average loss: 1.8299, Accuracy: 2821/5000 (56.42%)\n",
      "\n",
      "EPOCHS : 84\n"
     ]
    },
    {
     "name": "stderr",
     "output_type": "stream",
     "text": [
      "Loss=1.7622601985931396 Batch_id=195 Accuracy=54.01: 100%|██████████| 196/196 [02:30<00:00,  1.30it/s]\n"
     ]
    },
    {
     "name": "stdout",
     "output_type": "stream",
     "text": [
      "\n",
      "Test set: Average loss: 1.8299, Accuracy: 2827/5000 (56.54%)\n",
      "\n",
      "EPOCHS : 85\n"
     ]
    },
    {
     "name": "stderr",
     "output_type": "stream",
     "text": [
      "Loss=1.9619611501693726 Batch_id=195 Accuracy=54.25: 100%|██████████| 196/196 [02:29<00:00,  1.31it/s]\n"
     ]
    },
    {
     "name": "stdout",
     "output_type": "stream",
     "text": [
      "\n",
      "Test set: Average loss: 1.8255, Accuracy: 2826/5000 (56.52%)\n",
      "\n",
      "EPOCHS : 86\n"
     ]
    },
    {
     "name": "stderr",
     "output_type": "stream",
     "text": [
      "Loss=1.9785592555999756 Batch_id=195 Accuracy=54.06: 100%|██████████| 196/196 [02:28<00:00,  1.32it/s]\n"
     ]
    },
    {
     "name": "stdout",
     "output_type": "stream",
     "text": [
      "\n",
      "Test set: Average loss: 1.8266, Accuracy: 2827/5000 (56.54%)\n",
      "\n",
      "EPOCHS : 87\n"
     ]
    },
    {
     "name": "stderr",
     "output_type": "stream",
     "text": [
      "Loss=1.8002631664276123 Batch_id=195 Accuracy=53.93: 100%|██████████| 196/196 [02:29<00:00,  1.31it/s]\n"
     ]
    },
    {
     "name": "stdout",
     "output_type": "stream",
     "text": [
      "\n",
      "Test set: Average loss: 1.8261, Accuracy: 2815/5000 (56.30%)\n",
      "\n",
      "EPOCHS : 88\n"
     ]
    },
    {
     "name": "stderr",
     "output_type": "stream",
     "text": [
      "Loss=1.849321961402893 Batch_id=195 Accuracy=54.21: 100%|██████████| 196/196 [03:42<00:00,  1.14s/it] \n"
     ]
    },
    {
     "name": "stdout",
     "output_type": "stream",
     "text": [
      "\n",
      "Test set: Average loss: 1.8316, Accuracy: 2826/5000 (56.52%)\n",
      "\n",
      "EPOCHS : 89\n"
     ]
    },
    {
     "name": "stderr",
     "output_type": "stream",
     "text": [
      "Loss=1.8506778478622437 Batch_id=195 Accuracy=54.01: 100%|██████████| 196/196 [03:52<00:00,  1.19s/it]\n"
     ]
    },
    {
     "name": "stdout",
     "output_type": "stream",
     "text": [
      "\n",
      "Test set: Average loss: 1.8282, Accuracy: 2818/5000 (56.36%)\n",
      "\n",
      "EPOCHS : 90\n"
     ]
    },
    {
     "name": "stderr",
     "output_type": "stream",
     "text": [
      "Loss=1.8617162704467773 Batch_id=195 Accuracy=54.06: 100%|██████████| 196/196 [03:49<00:00,  1.17s/it]\n"
     ]
    },
    {
     "name": "stdout",
     "output_type": "stream",
     "text": [
      "\n",
      "Test set: Average loss: 1.8294, Accuracy: 2820/5000 (56.40%)\n",
      "\n",
      "EPOCHS : 91\n"
     ]
    },
    {
     "name": "stderr",
     "output_type": "stream",
     "text": [
      "Loss=1.7501027584075928 Batch_id=195 Accuracy=54.01: 100%|██████████| 196/196 [03:46<00:00,  1.16s/it]\n"
     ]
    },
    {
     "name": "stdout",
     "output_type": "stream",
     "text": [
      "\n",
      "Test set: Average loss: 1.8249, Accuracy: 2829/5000 (56.58%)\n",
      "\n",
      "EPOCHS : 92\n"
     ]
    },
    {
     "name": "stderr",
     "output_type": "stream",
     "text": [
      "Loss=1.7489020824432373 Batch_id=195 Accuracy=54.14: 100%|██████████| 196/196 [03:46<00:00,  1.16s/it]\n"
     ]
    },
    {
     "name": "stdout",
     "output_type": "stream",
     "text": [
      "\n",
      "Test set: Average loss: 1.8283, Accuracy: 2825/5000 (56.50%)\n",
      "\n",
      "EPOCHS : 93\n"
     ]
    },
    {
     "name": "stderr",
     "output_type": "stream",
     "text": [
      "Loss=1.611608862876892 Batch_id=195 Accuracy=53.92: 100%|██████████| 196/196 [03:47<00:00,  1.16s/it] \n"
     ]
    },
    {
     "name": "stdout",
     "output_type": "stream",
     "text": [
      "\n",
      "Test set: Average loss: 1.8273, Accuracy: 2811/5000 (56.22%)\n",
      "\n",
      "EPOCHS : 94\n"
     ]
    },
    {
     "name": "stderr",
     "output_type": "stream",
     "text": [
      "Loss=1.8672593832015991 Batch_id=195 Accuracy=54.14: 100%|██████████| 196/196 [03:46<00:00,  1.16s/it]\n"
     ]
    },
    {
     "name": "stdout",
     "output_type": "stream",
     "text": [
      "\n",
      "Test set: Average loss: 1.8335, Accuracy: 2819/5000 (56.38%)\n",
      "\n",
      "EPOCHS : 95\n"
     ]
    },
    {
     "name": "stderr",
     "output_type": "stream",
     "text": [
      "Loss=1.6111444234848022 Batch_id=195 Accuracy=53.90: 100%|██████████| 196/196 [03:49<00:00,  1.17s/it]\n"
     ]
    },
    {
     "name": "stdout",
     "output_type": "stream",
     "text": [
      "\n",
      "Test set: Average loss: 1.8316, Accuracy: 2823/5000 (56.46%)\n",
      "\n",
      "EPOCHS : 96\n"
     ]
    },
    {
     "name": "stderr",
     "output_type": "stream",
     "text": [
      "Loss=1.713832139968872 Batch_id=195 Accuracy=54.27: 100%|██████████| 196/196 [03:49<00:00,  1.17s/it] \n"
     ]
    },
    {
     "name": "stdout",
     "output_type": "stream",
     "text": [
      "\n",
      "Test set: Average loss: 1.8314, Accuracy: 2814/5000 (56.28%)\n",
      "\n",
      "EPOCHS : 97\n"
     ]
    },
    {
     "name": "stderr",
     "output_type": "stream",
     "text": [
      "Loss=1.7944618463516235 Batch_id=195 Accuracy=54.00: 100%|██████████| 196/196 [03:46<00:00,  1.16s/it]\n"
     ]
    },
    {
     "name": "stdout",
     "output_type": "stream",
     "text": [
      "\n",
      "Test set: Average loss: 1.8263, Accuracy: 2815/5000 (56.30%)\n",
      "\n",
      "EPOCHS : 98\n"
     ]
    },
    {
     "name": "stderr",
     "output_type": "stream",
     "text": [
      "Loss=1.9521898031234741 Batch_id=195 Accuracy=54.12: 100%|██████████| 196/196 [03:49<00:00,  1.17s/it]\n"
     ]
    },
    {
     "name": "stdout",
     "output_type": "stream",
     "text": [
      "\n",
      "Test set: Average loss: 1.8319, Accuracy: 2820/5000 (56.40%)\n",
      "\n",
      "EPOCHS : 99\n"
     ]
    },
    {
     "name": "stderr",
     "output_type": "stream",
     "text": [
      "Loss=1.7790498733520508 Batch_id=195 Accuracy=54.03: 100%|██████████| 196/196 [03:45<00:00,  1.15s/it]\n"
     ]
    },
    {
     "name": "stdout",
     "output_type": "stream",
     "text": [
      "\n",
      "Test set: Average loss: 1.8305, Accuracy: 2814/5000 (56.28%)\n",
      "\n"
     ]
    }
   ],
   "source": [
    "epsilon=0.01\n",
    "optimizer = optim.SGD(model.parameters(), lr=0.01, momentum=0.9)\n",
    "scheduler = ReduceLROnPlateau(optimizer, mode='min', factor=0.05, patience=2, threshold=0.0001, threshold_mode='rel', cooldown=0, min_lr=0, eps=1e-08, verbose=True)\n",
    "\n",
    "\n",
    "train_acc = []\n",
    "train_losses = []\n",
    "test_acc = []\n",
    "test_losses = []\n",
    "\n",
    "EPOCHS = 100\n",
    "\n",
    "for i in range(EPOCHS):\n",
    "    print(f'EPOCHS : {i}')\n",
    "    model_training(model, device, trainloader, optimizer, train_acc, train_losses, epsilon, mean, std)\n",
    "    scheduler.step(train_losses[-1])\n",
    "    misclassified = model_testing(model, device, testloader, test_acc, test_losses)\n",
    "    \n",
    "    if i%10==0:\n",
    "        torch.save(model.state_dict(), \"./Networks/ResNet18_TinyImagenet_V0_Adversarial_ep_1p.pt\")\n",
    "        np.savez(\"./Networks/TrainSteps_ResNet18_TinyImagenet_V0_Adversarial_ep_1p.npz\", train_losses=train_losses,train_acc=train_acc, test_losses=test_losses, test_acc=test_acc)\n",
    "\n",
    "torch.save(model.state_dict(), \"./Networks/ResNet18_TinyImagenet_V0_Adversarial_ep_1p.pt\")\n",
    "np.savez(\"./Networks/TrainSteps_ResNet18_TinyImagenet_V0_Adversarial_ep_1p.npz\", train_losses=train_losses,train_acc=train_acc, test_losses=test_losses, test_acc=test_acc)"
   ]
  },
  {
   "cell_type": "code",
   "execution_count": 12,
   "metadata": {},
   "outputs": [
    {
     "data": {
      "text/plain": [
       "[<matplotlib.lines.Line2D at 0x7f3fe063b550>]"
      ]
     },
     "execution_count": 12,
     "metadata": {},
     "output_type": "execute_result"
    },
    {
     "data": {
      "image/png": "[encoded data removed]",
      "text/plain": [
       "<Figure size 800x800 with 4 Axes>"
      ]
     },
     "metadata": {},
     "output_type": "display_data"
    }
   ],
   "source": [
    "fig, axs = plt.subplots(2,2, figsize=(8,8))\n",
    "\n",
    "axs[0,0].set_title('Train Losses')\n",
    "axs[0,1].set_title('Training Accuracy')\n",
    "axs[1,0].set_title('Test Losses')\n",
    "axs[1,1].set_title('Test Accuracy')\n",
    "\n",
    "axs[0,0].plot(train_losses)\n",
    "axs[0,1].plot(train_acc)\n",
    "axs[1,0].plot(test_losses)\n",
    "axs[1,1].plot(test_acc)"
   ]
  },
  {
   "cell_type": "markdown",
   "metadata": {},
   "source": [
    "# Epsilon 0.005"
   ]
  },
  {
   "cell_type": "code",
   "execution_count": 13,
   "metadata": {},
   "outputs": [
    {
     "data": {
      "image/png": "[encoded data removed]",
      "text/plain": [
       "<Figure size 1000x1000 with 2 Axes>"
      ]
     },
     "metadata": {},
     "output_type": "display_data"
    }
   ],
   "source": [
    "epsilon=0.005\n",
    "mean=MeanImagenet\n",
    "std=StdImagenet\n",
    "model=ResNet18_TINYIMAGENET_0P\n",
    "trainloader=trainloader_TINYIMAGENET\n",
    "testloader=testloader_TINYIMAGENET\n",
    "\n",
    "#Check Images for epsion levels\n",
    "for data, target in trainloader:\n",
    "    data, target = data.to(device), target.to(device)\n",
    "    data_Adv=GetAdversarialExamples(model, data, target, device, epsilon=epsilon, mean=mean, std=std)\n",
    "\n",
    "    data = transforms.Normalize((-mean[0]/std[0], -mean[1]/std[1], -mean[2]/std[2]), (1/std[0], 1/std[1], 1/std[2]))(data)\n",
    "    data_Adv = transforms.Normalize((-mean[0]/std[0], -mean[1]/std[1], -mean[2]/std[2]), (1/std[0], 1/std[1], 1/std[2]))(data_Adv)\n",
    "    break\n",
    "\n",
    "IdxImage=np.random.randint(0,data.shape[0])\n",
    "with torch.no_grad():\n",
    "    #plot an image from data and from data_Adv\n",
    "    plt.figure(figsize=(10,10))\n",
    "    plt.subplot(1,2,1)\n",
    "    plt.imshow(data[IdxImage].cpu().numpy().transpose(1,2,0))\n",
    "    plt.title(\"Original Image\")\n",
    "    plt.subplot(1,2,2)\n",
    "    plt.imshow(data_Adv[IdxImage].cpu().numpy().transpose(1,2,0))\n",
    "    plt.title(\"Adversarial Image\")\n",
    "    plt.show()\n"
   ]
  },
  {
   "cell_type": "code",
   "execution_count": 14,
   "metadata": {},
   "outputs": [
    {
     "name": "stdout",
     "output_type": "stream",
     "text": [
      "EPOCHS : 0\n"
     ]
    },
    {
     "name": "stderr",
     "output_type": "stream",
     "text": [
      "Loss=1.5076111555099487 Batch_id=195 Accuracy=62.04: 100%|██████████| 196/196 [03:50<00:00,  1.18s/it]\n"
     ]
    },
    {
     "name": "stdout",
     "output_type": "stream",
     "text": [
      "\n",
      "Test set: Average loss: 1.8622, Accuracy: 2798/5000 (55.96%)\n",
      "\n",
      "EPOCHS : 1\n"
     ]
    },
    {
     "name": "stderr",
     "output_type": "stream",
     "text": [
      "Loss=1.4828283786773682 Batch_id=195 Accuracy=61.99: 100%|██████████| 196/196 [03:46<00:00,  1.16s/it]\n"
     ]
    },
    {
     "name": "stdout",
     "output_type": "stream",
     "text": [
      "\n",
      "Test set: Average loss: 1.8576, Accuracy: 2808/5000 (56.16%)\n",
      "\n",
      "EPOCHS : 2\n"
     ]
    },
    {
     "name": "stderr",
     "output_type": "stream",
     "text": [
      "Loss=1.4888830184936523 Batch_id=195 Accuracy=62.52: 100%|██████████| 196/196 [03:48<00:00,  1.16s/it]\n"
     ]
    },
    {
     "name": "stdout",
     "output_type": "stream",
     "text": [
      "\n",
      "Test set: Average loss: 1.8892, Accuracy: 2794/5000 (55.88%)\n",
      "\n",
      "EPOCHS : 3\n"
     ]
    },
    {
     "name": "stderr",
     "output_type": "stream",
     "text": [
      "Loss=1.517279863357544 Batch_id=195 Accuracy=62.99: 100%|██████████| 196/196 [03:46<00:00,  1.15s/it] \n"
     ]
    },
    {
     "name": "stdout",
     "output_type": "stream",
     "text": [
      "\n",
      "Test set: Average loss: 1.8553, Accuracy: 2820/5000 (56.40%)\n",
      "\n",
      "EPOCHS : 4\n"
     ]
    },
    {
     "name": "stderr",
     "output_type": "stream",
     "text": [
      "Loss=1.4948097467422485 Batch_id=195 Accuracy=63.75: 100%|██████████| 196/196 [03:51<00:00,  1.18s/it]"
     ]
    },
    {
     "name": "stdout",
     "output_type": "stream",
     "text": [
      "Epoch 00005: reducing learning rate of group 0 to 5.0000e-04.\n"
     ]
    },
    {
     "name": "stderr",
     "output_type": "stream",
     "text": [
      "\n"
     ]
    },
    {
     "name": "stdout",
     "output_type": "stream",
     "text": [
      "\n",
      "Test set: Average loss: 1.8625, Accuracy: 2853/5000 (57.06%)\n",
      "\n",
      "EPOCHS : 5\n"
     ]
    },
    {
     "name": "stderr",
     "output_type": "stream",
     "text": [
      "Loss=1.1426409482955933 Batch_id=195 Accuracy=68.31: 100%|██████████| 196/196 [03:47<00:00,  1.16s/it]\n"
     ]
    },
    {
     "name": "stdout",
     "output_type": "stream",
     "text": [
      "\n",
      "Test set: Average loss: 1.7765, Accuracy: 2902/5000 (58.04%)\n",
      "\n",
      "EPOCHS : 6\n"
     ]
    },
    {
     "name": "stderr",
     "output_type": "stream",
     "text": [
      "Loss=1.1571890115737915 Batch_id=195 Accuracy=69.85: 100%|██████████| 196/196 [03:45<00:00,  1.15s/it]\n"
     ]
    },
    {
     "name": "stdout",
     "output_type": "stream",
     "text": [
      "\n",
      "Test set: Average loss: 1.7621, Accuracy: 2904/5000 (58.08%)\n",
      "\n",
      "EPOCHS : 7\n"
     ]
    },
    {
     "name": "stderr",
     "output_type": "stream",
     "text": [
      "Loss=1.0758763551712036 Batch_id=195 Accuracy=70.25: 100%|██████████| 196/196 [03:49<00:00,  1.17s/it]\n"
     ]
    },
    {
     "name": "stdout",
     "output_type": "stream",
     "text": [
      "\n",
      "Test set: Average loss: 1.7622, Accuracy: 2912/5000 (58.24%)\n",
      "\n",
      "EPOCHS : 8\n"
     ]
    },
    {
     "name": "stderr",
     "output_type": "stream",
     "text": [
      "Loss=1.193887710571289 Batch_id=195 Accuracy=70.70: 100%|██████████| 196/196 [03:43<00:00,  1.14s/it] \n"
     ]
    },
    {
     "name": "stdout",
     "output_type": "stream",
     "text": [
      "\n",
      "Test set: Average loss: 1.7619, Accuracy: 2930/5000 (58.60%)\n",
      "\n",
      "EPOCHS : 9\n"
     ]
    },
    {
     "name": "stderr",
     "output_type": "stream",
     "text": [
      "Loss=1.0107479095458984 Batch_id=195 Accuracy=70.99: 100%|██████████| 196/196 [03:49<00:00,  1.17s/it]\n"
     ]
    },
    {
     "name": "stdout",
     "output_type": "stream",
     "text": [
      "\n",
      "Test set: Average loss: 1.7615, Accuracy: 2920/5000 (58.40%)\n",
      "\n",
      "EPOCHS : 10\n"
     ]
    },
    {
     "name": "stderr",
     "output_type": "stream",
     "text": [
      "Loss=1.2610456943511963 Batch_id=195 Accuracy=70.93: 100%|██████████| 196/196 [03:48<00:00,  1.16s/it]\n"
     ]
    },
    {
     "name": "stdout",
     "output_type": "stream",
     "text": [
      "\n",
      "Test set: Average loss: 1.7666, Accuracy: 2920/5000 (58.40%)\n",
      "\n",
      "EPOCHS : 11\n"
     ]
    },
    {
     "name": "stderr",
     "output_type": "stream",
     "text": [
      "Loss=1.145615816116333 Batch_id=195 Accuracy=71.11: 100%|██████████| 196/196 [03:48<00:00,  1.16s/it] \n"
     ]
    },
    {
     "name": "stdout",
     "output_type": "stream",
     "text": [
      "\n",
      "Test set: Average loss: 1.7684, Accuracy: 2921/5000 (58.42%)\n",
      "\n",
      "EPOCHS : 12\n"
     ]
    },
    {
     "name": "stderr",
     "output_type": "stream",
     "text": [
      "Loss=0.9101070165634155 Batch_id=195 Accuracy=71.15: 100%|██████████| 196/196 [03:47<00:00,  1.16s/it]\n"
     ]
    },
    {
     "name": "stdout",
     "output_type": "stream",
     "text": [
      "\n",
      "Test set: Average loss: 1.7625, Accuracy: 2929/5000 (58.58%)\n",
      "\n",
      "EPOCHS : 13\n"
     ]
    },
    {
     "name": "stderr",
     "output_type": "stream",
     "text": [
      "Loss=0.9952436685562134 Batch_id=195 Accuracy=71.31: 100%|██████████| 196/196 [03:49<00:00,  1.17s/it]\n"
     ]
    },
    {
     "name": "stdout",
     "output_type": "stream",
     "text": [
      "\n",
      "Test set: Average loss: 1.7625, Accuracy: 2920/5000 (58.40%)\n",
      "\n",
      "EPOCHS : 14\n"
     ]
    },
    {
     "name": "stderr",
     "output_type": "stream",
     "text": [
      "Loss=1.0156543254852295 Batch_id=195 Accuracy=71.45: 100%|██████████| 196/196 [03:48<00:00,  1.17s/it]\n"
     ]
    },
    {
     "name": "stdout",
     "output_type": "stream",
     "text": [
      "\n",
      "Test set: Average loss: 1.7582, Accuracy: 2927/5000 (58.54%)\n",
      "\n",
      "EPOCHS : 15\n"
     ]
    },
    {
     "name": "stderr",
     "output_type": "stream",
     "text": [
      "Loss=1.112207293510437 Batch_id=195 Accuracy=71.72: 100%|██████████| 196/196 [03:47<00:00,  1.16s/it] "
     ]
    },
    {
     "name": "stdout",
     "output_type": "stream",
     "text": [
      "Epoch 00016: reducing learning rate of group 0 to 2.5000e-05.\n"
     ]
    },
    {
     "name": "stderr",
     "output_type": "stream",
     "text": [
      "\n"
     ]
    },
    {
     "name": "stdout",
     "output_type": "stream",
     "text": [
      "\n",
      "Test set: Average loss: 1.7704, Accuracy: 2917/5000 (58.34%)\n",
      "\n",
      "EPOCHS : 16\n"
     ]
    },
    {
     "name": "stderr",
     "output_type": "stream",
     "text": [
      "Loss=0.9968894720077515 Batch_id=195 Accuracy=71.99: 100%|██████████| 196/196 [03:50<00:00,  1.17s/it]\n"
     ]
    },
    {
     "name": "stdout",
     "output_type": "stream",
     "text": [
      "\n",
      "Test set: Average loss: 1.7644, Accuracy: 2932/5000 (58.64%)\n",
      "\n",
      "EPOCHS : 17\n"
     ]
    },
    {
     "name": "stderr",
     "output_type": "stream",
     "text": [
      "Loss=1.0655043125152588 Batch_id=195 Accuracy=71.91: 100%|██████████| 196/196 [03:45<00:00,  1.15s/it]\n"
     ]
    },
    {
     "name": "stdout",
     "output_type": "stream",
     "text": [
      "\n",
      "Test set: Average loss: 1.7650, Accuracy: 2922/5000 (58.44%)\n",
      "\n",
      "EPOCHS : 18\n"
     ]
    },
    {
     "name": "stderr",
     "output_type": "stream",
     "text": [
      "Loss=1.1607869863510132 Batch_id=195 Accuracy=71.92: 100%|██████████| 196/196 [03:48<00:00,  1.17s/it]"
     ]
    },
    {
     "name": "stdout",
     "output_type": "stream",
     "text": [
      "Epoch 00019: reducing learning rate of group 0 to 1.2500e-06.\n"
     ]
    },
    {
     "name": "stderr",
     "output_type": "stream",
     "text": [
      "\n"
     ]
    },
    {
     "name": "stdout",
     "output_type": "stream",
     "text": [
      "\n",
      "Test set: Average loss: 1.7611, Accuracy: 2924/5000 (58.48%)\n",
      "\n",
      "EPOCHS : 19\n"
     ]
    },
    {
     "name": "stderr",
     "output_type": "stream",
     "text": [
      "Loss=0.9694099426269531 Batch_id=195 Accuracy=71.97: 100%|██████████| 196/196 [03:47<00:00,  1.16s/it]\n"
     ]
    },
    {
     "name": "stdout",
     "output_type": "stream",
     "text": [
      "\n",
      "Test set: Average loss: 1.7640, Accuracy: 2926/5000 (58.52%)\n",
      "\n",
      "EPOCHS : 20\n"
     ]
    },
    {
     "name": "stderr",
     "output_type": "stream",
     "text": [
      "Loss=0.9556987881660461 Batch_id=195 Accuracy=71.96: 100%|██████████| 196/196 [03:48<00:00,  1.17s/it]\n"
     ]
    },
    {
     "name": "stdout",
     "output_type": "stream",
     "text": [
      "\n",
      "Test set: Average loss: 1.7649, Accuracy: 2919/5000 (58.38%)\n",
      "\n",
      "EPOCHS : 21\n"
     ]
    },
    {
     "name": "stderr",
     "output_type": "stream",
     "text": [
      "Loss=0.9971359968185425 Batch_id=195 Accuracy=72.02: 100%|██████████| 196/196 [03:50<00:00,  1.17s/it]"
     ]
    },
    {
     "name": "stdout",
     "output_type": "stream",
     "text": [
      "Epoch 00022: reducing learning rate of group 0 to 6.2500e-08.\n"
     ]
    },
    {
     "name": "stderr",
     "output_type": "stream",
     "text": [
      "\n"
     ]
    },
    {
     "name": "stdout",
     "output_type": "stream",
     "text": [
      "\n",
      "Test set: Average loss: 1.7664, Accuracy: 2922/5000 (58.44%)\n",
      "\n",
      "EPOCHS : 22\n"
     ]
    },
    {
     "name": "stderr",
     "output_type": "stream",
     "text": [
      "Loss=1.225909948348999 Batch_id=195 Accuracy=71.73: 100%|██████████| 196/196 [03:48<00:00,  1.17s/it] \n"
     ]
    },
    {
     "name": "stdout",
     "output_type": "stream",
     "text": [
      "\n",
      "Test set: Average loss: 1.7641, Accuracy: 2933/5000 (58.66%)\n",
      "\n",
      "EPOCHS : 23\n"
     ]
    },
    {
     "name": "stderr",
     "output_type": "stream",
     "text": [
      "Loss=0.9609125256538391 Batch_id=195 Accuracy=71.94: 100%|██████████| 196/196 [03:47<00:00,  1.16s/it]\n"
     ]
    },
    {
     "name": "stdout",
     "output_type": "stream",
     "text": [
      "\n",
      "Test set: Average loss: 1.7617, Accuracy: 2930/5000 (58.60%)\n",
      "\n",
      "EPOCHS : 24\n"
     ]
    },
    {
     "name": "stderr",
     "output_type": "stream",
     "text": [
      "Loss=1.0845720767974854 Batch_id=195 Accuracy=71.93: 100%|██████████| 196/196 [03:45<00:00,  1.15s/it]"
     ]
    },
    {
     "name": "stdout",
     "output_type": "stream",
     "text": [
      "Epoch 00025: reducing learning rate of group 0 to 3.1250e-09.\n"
     ]
    },
    {
     "name": "stderr",
     "output_type": "stream",
     "text": [
      "\n"
     ]
    },
    {
     "name": "stdout",
     "output_type": "stream",
     "text": [
      "\n",
      "Test set: Average loss: 1.7694, Accuracy: 2911/5000 (58.22%)\n",
      "\n",
      "EPOCHS : 25\n"
     ]
    },
    {
     "name": "stderr",
     "output_type": "stream",
     "text": [
      "Loss=1.0609781742095947 Batch_id=195 Accuracy=71.88: 100%|██████████| 196/196 [03:48<00:00,  1.16s/it]\n"
     ]
    },
    {
     "name": "stdout",
     "output_type": "stream",
     "text": [
      "\n",
      "Test set: Average loss: 1.7657, Accuracy: 2917/5000 (58.34%)\n",
      "\n",
      "EPOCHS : 26\n"
     ]
    },
    {
     "name": "stderr",
     "output_type": "stream",
     "text": [
      "Loss=1.0501728057861328 Batch_id=195 Accuracy=72.00: 100%|██████████| 196/196 [03:51<00:00,  1.18s/it]\n"
     ]
    },
    {
     "name": "stdout",
     "output_type": "stream",
     "text": [
      "\n",
      "Test set: Average loss: 1.7648, Accuracy: 2929/5000 (58.58%)\n",
      "\n",
      "EPOCHS : 27\n"
     ]
    },
    {
     "name": "stderr",
     "output_type": "stream",
     "text": [
      "Loss=1.1238820552825928 Batch_id=195 Accuracy=72.12: 100%|██████████| 196/196 [03:50<00:00,  1.18s/it]\n"
     ]
    },
    {
     "name": "stdout",
     "output_type": "stream",
     "text": [
      "\n",
      "Test set: Average loss: 1.7667, Accuracy: 2917/5000 (58.34%)\n",
      "\n",
      "EPOCHS : 28\n"
     ]
    },
    {
     "name": "stderr",
     "output_type": "stream",
     "text": [
      "Loss=1.2898298501968384 Batch_id=195 Accuracy=72.15: 100%|██████████| 196/196 [03:48<00:00,  1.16s/it]\n"
     ]
    },
    {
     "name": "stdout",
     "output_type": "stream",
     "text": [
      "\n",
      "Test set: Average loss: 1.7659, Accuracy: 2927/5000 (58.54%)\n",
      "\n",
      "EPOCHS : 29\n"
     ]
    },
    {
     "name": "stderr",
     "output_type": "stream",
     "text": [
      "Loss=1.0731091499328613 Batch_id=195 Accuracy=72.02: 100%|██████████| 196/196 [03:46<00:00,  1.16s/it]\n"
     ]
    },
    {
     "name": "stdout",
     "output_type": "stream",
     "text": [
      "\n",
      "Test set: Average loss: 1.7648, Accuracy: 2922/5000 (58.44%)\n",
      "\n",
      "EPOCHS : 30\n"
     ]
    },
    {
     "name": "stderr",
     "output_type": "stream",
     "text": [
      "Loss=0.9678524732589722 Batch_id=195 Accuracy=71.88: 100%|██████████| 196/196 [03:46<00:00,  1.16s/it]\n"
     ]
    },
    {
     "name": "stdout",
     "output_type": "stream",
     "text": [
      "\n",
      "Test set: Average loss: 1.7638, Accuracy: 2924/5000 (58.48%)\n",
      "\n",
      "EPOCHS : 31\n"
     ]
    },
    {
     "name": "stderr",
     "output_type": "stream",
     "text": [
      "Loss=1.1289104223251343 Batch_id=195 Accuracy=72.09: 100%|██████████| 196/196 [03:46<00:00,  1.16s/it]\n"
     ]
    },
    {
     "name": "stdout",
     "output_type": "stream",
     "text": [
      "\n",
      "Test set: Average loss: 1.7663, Accuracy: 2917/5000 (58.34%)\n",
      "\n",
      "EPOCHS : 32\n"
     ]
    },
    {
     "name": "stderr",
     "output_type": "stream",
     "text": [
      "Loss=0.973315417766571 Batch_id=195 Accuracy=72.11: 100%|██████████| 196/196 [03:45<00:00,  1.15s/it] \n"
     ]
    },
    {
     "name": "stdout",
     "output_type": "stream",
     "text": [
      "\n",
      "Test set: Average loss: 1.7618, Accuracy: 2925/5000 (58.50%)\n",
      "\n",
      "EPOCHS : 33\n"
     ]
    },
    {
     "name": "stderr",
     "output_type": "stream",
     "text": [
      "Loss=1.2389962673187256 Batch_id=195 Accuracy=72.00: 100%|██████████| 196/196 [03:45<00:00,  1.15s/it]\n"
     ]
    },
    {
     "name": "stdout",
     "output_type": "stream",
     "text": [
      "\n",
      "Test set: Average loss: 1.7645, Accuracy: 2921/5000 (58.42%)\n",
      "\n",
      "EPOCHS : 34\n"
     ]
    },
    {
     "name": "stderr",
     "output_type": "stream",
     "text": [
      "Loss=0.9805442690849304 Batch_id=195 Accuracy=72.00: 100%|██████████| 196/196 [03:49<00:00,  1.17s/it]\n"
     ]
    },
    {
     "name": "stdout",
     "output_type": "stream",
     "text": [
      "\n",
      "Test set: Average loss: 1.7635, Accuracy: 2927/5000 (58.54%)\n",
      "\n",
      "EPOCHS : 35\n"
     ]
    },
    {
     "name": "stderr",
     "output_type": "stream",
     "text": [
      "Loss=1.02383291721344 Batch_id=195 Accuracy=72.03: 100%|██████████| 196/196 [03:47<00:00,  1.16s/it]  \n"
     ]
    },
    {
     "name": "stdout",
     "output_type": "stream",
     "text": [
      "\n",
      "Test set: Average loss: 1.7664, Accuracy: 2916/5000 (58.32%)\n",
      "\n",
      "EPOCHS : 36\n"
     ]
    },
    {
     "name": "stderr",
     "output_type": "stream",
     "text": [
      "Loss=1.132232904434204 Batch_id=195 Accuracy=72.12: 100%|██████████| 196/196 [03:51<00:00,  1.18s/it] \n"
     ]
    },
    {
     "name": "stdout",
     "output_type": "stream",
     "text": [
      "\n",
      "Test set: Average loss: 1.7645, Accuracy: 2926/5000 (58.52%)\n",
      "\n",
      "EPOCHS : 37\n"
     ]
    },
    {
     "name": "stderr",
     "output_type": "stream",
     "text": [
      "Loss=1.1888126134872437 Batch_id=195 Accuracy=72.09: 100%|██████████| 196/196 [03:46<00:00,  1.16s/it]\n"
     ]
    },
    {
     "name": "stdout",
     "output_type": "stream",
     "text": [
      "\n",
      "Test set: Average loss: 1.7653, Accuracy: 2941/5000 (58.82%)\n",
      "\n",
      "EPOCHS : 38\n"
     ]
    },
    {
     "name": "stderr",
     "output_type": "stream",
     "text": [
      "Loss=1.0963735580444336 Batch_id=195 Accuracy=71.94: 100%|██████████| 196/196 [03:49<00:00,  1.17s/it]\n"
     ]
    },
    {
     "name": "stdout",
     "output_type": "stream",
     "text": [
      "\n",
      "Test set: Average loss: 1.7631, Accuracy: 2938/5000 (58.76%)\n",
      "\n",
      "EPOCHS : 39\n"
     ]
    },
    {
     "name": "stderr",
     "output_type": "stream",
     "text": [
      "Loss=1.1073706150054932 Batch_id=195 Accuracy=72.13: 100%|██████████| 196/196 [03:49<00:00,  1.17s/it]\n"
     ]
    },
    {
     "name": "stdout",
     "output_type": "stream",
     "text": [
      "\n",
      "Test set: Average loss: 1.7623, Accuracy: 2935/5000 (58.70%)\n",
      "\n",
      "EPOCHS : 40\n"
     ]
    },
    {
     "name": "stderr",
     "output_type": "stream",
     "text": [
      "Loss=1.0952982902526855 Batch_id=195 Accuracy=72.12: 100%|██████████| 196/196 [03:50<00:00,  1.18s/it]\n"
     ]
    },
    {
     "name": "stdout",
     "output_type": "stream",
     "text": [
      "\n",
      "Test set: Average loss: 1.7670, Accuracy: 2918/5000 (58.36%)\n",
      "\n",
      "EPOCHS : 41\n"
     ]
    },
    {
     "name": "stderr",
     "output_type": "stream",
     "text": [
      "Loss=1.0940089225769043 Batch_id=195 Accuracy=71.83: 100%|██████████| 196/196 [03:45<00:00,  1.15s/it]\n"
     ]
    },
    {
     "name": "stdout",
     "output_type": "stream",
     "text": [
      "\n",
      "Test set: Average loss: 1.7622, Accuracy: 2938/5000 (58.76%)\n",
      "\n",
      "EPOCHS : 42\n"
     ]
    },
    {
     "name": "stderr",
     "output_type": "stream",
     "text": [
      "Loss=1.219215989112854 Batch_id=195 Accuracy=72.00: 100%|██████████| 196/196 [03:49<00:00,  1.17s/it] \n"
     ]
    },
    {
     "name": "stdout",
     "output_type": "stream",
     "text": [
      "\n",
      "Test set: Average loss: 1.7647, Accuracy: 2933/5000 (58.66%)\n",
      "\n",
      "EPOCHS : 43\n"
     ]
    },
    {
     "name": "stderr",
     "output_type": "stream",
     "text": [
      "Loss=1.0461543798446655 Batch_id=195 Accuracy=71.92: 100%|██████████| 196/196 [03:51<00:00,  1.18s/it]\n"
     ]
    },
    {
     "name": "stdout",
     "output_type": "stream",
     "text": [
      "\n",
      "Test set: Average loss: 1.7614, Accuracy: 2919/5000 (58.38%)\n",
      "\n",
      "EPOCHS : 44\n"
     ]
    },
    {
     "name": "stderr",
     "output_type": "stream",
     "text": [
      "Loss=1.063910722732544 Batch_id=195 Accuracy=71.84: 100%|██████████| 196/196 [03:48<00:00,  1.17s/it] \n"
     ]
    },
    {
     "name": "stdout",
     "output_type": "stream",
     "text": [
      "\n",
      "Test set: Average loss: 1.7607, Accuracy: 2934/5000 (58.68%)\n",
      "\n",
      "EPOCHS : 45\n"
     ]
    },
    {
     "name": "stderr",
     "output_type": "stream",
     "text": [
      "Loss=0.9874523282051086 Batch_id=195 Accuracy=72.01: 100%|██████████| 196/196 [03:51<00:00,  1.18s/it]\n"
     ]
    },
    {
     "name": "stdout",
     "output_type": "stream",
     "text": [
      "\n",
      "Test set: Average loss: 1.7646, Accuracy: 2927/5000 (58.54%)\n",
      "\n",
      "EPOCHS : 46\n"
     ]
    },
    {
     "name": "stderr",
     "output_type": "stream",
     "text": [
      "Loss=0.8509524464607239 Batch_id=195 Accuracy=71.79: 100%|██████████| 196/196 [03:49<00:00,  1.17s/it]\n"
     ]
    },
    {
     "name": "stdout",
     "output_type": "stream",
     "text": [
      "\n",
      "Test set: Average loss: 1.7649, Accuracy: 2923/5000 (58.46%)\n",
      "\n",
      "EPOCHS : 47\n"
     ]
    },
    {
     "name": "stderr",
     "output_type": "stream",
     "text": [
      "Loss=0.8197265863418579 Batch_id=195 Accuracy=72.11: 100%|██████████| 196/196 [03:48<00:00,  1.17s/it]\n"
     ]
    },
    {
     "name": "stdout",
     "output_type": "stream",
     "text": [
      "\n",
      "Test set: Average loss: 1.7622, Accuracy: 2917/5000 (58.34%)\n",
      "\n",
      "EPOCHS : 48\n"
     ]
    },
    {
     "name": "stderr",
     "output_type": "stream",
     "text": [
      "Loss=1.2331219911575317 Batch_id=195 Accuracy=72.00: 100%|██████████| 196/196 [03:48<00:00,  1.16s/it]\n"
     ]
    },
    {
     "name": "stdout",
     "output_type": "stream",
     "text": [
      "\n",
      "Test set: Average loss: 1.7692, Accuracy: 2922/5000 (58.44%)\n",
      "\n",
      "EPOCHS : 49\n"
     ]
    },
    {
     "name": "stderr",
     "output_type": "stream",
     "text": [
      "Loss=1.190003514289856 Batch_id=195 Accuracy=71.90: 100%|██████████| 196/196 [03:48<00:00,  1.16s/it] \n"
     ]
    },
    {
     "name": "stdout",
     "output_type": "stream",
     "text": [
      "\n",
      "Test set: Average loss: 1.7643, Accuracy: 2928/5000 (58.56%)\n",
      "\n",
      "EPOCHS : 50\n"
     ]
    },
    {
     "name": "stderr",
     "output_type": "stream",
     "text": [
      "Loss=1.166577935218811 Batch_id=195 Accuracy=71.94: 100%|██████████| 196/196 [03:48<00:00,  1.17s/it] \n"
     ]
    },
    {
     "name": "stdout",
     "output_type": "stream",
     "text": [
      "\n",
      "Test set: Average loss: 1.7642, Accuracy: 2926/5000 (58.52%)\n",
      "\n",
      "EPOCHS : 51\n"
     ]
    },
    {
     "name": "stderr",
     "output_type": "stream",
     "text": [
      "Loss=1.0076613426208496 Batch_id=195 Accuracy=71.91: 100%|██████████| 196/196 [03:53<00:00,  1.19s/it]\n"
     ]
    },
    {
     "name": "stdout",
     "output_type": "stream",
     "text": [
      "\n",
      "Test set: Average loss: 1.7671, Accuracy: 2918/5000 (58.36%)\n",
      "\n",
      "EPOCHS : 52\n"
     ]
    },
    {
     "name": "stderr",
     "output_type": "stream",
     "text": [
      "Loss=1.0151231288909912 Batch_id=195 Accuracy=71.90: 100%|██████████| 196/196 [03:48<00:00,  1.16s/it]\n"
     ]
    },
    {
     "name": "stdout",
     "output_type": "stream",
     "text": [
      "\n",
      "Test set: Average loss: 1.7654, Accuracy: 2927/5000 (58.54%)\n",
      "\n",
      "EPOCHS : 53\n"
     ]
    },
    {
     "name": "stderr",
     "output_type": "stream",
     "text": [
      "Loss=0.9546303749084473 Batch_id=195 Accuracy=71.99: 100%|██████████| 196/196 [03:48<00:00,  1.17s/it]\n"
     ]
    },
    {
     "name": "stdout",
     "output_type": "stream",
     "text": [
      "\n",
      "Test set: Average loss: 1.7680, Accuracy: 2920/5000 (58.40%)\n",
      "\n",
      "EPOCHS : 54\n"
     ]
    },
    {
     "name": "stderr",
     "output_type": "stream",
     "text": [
      "Loss=0.877885639667511 Batch_id=195 Accuracy=71.97: 100%|██████████| 196/196 [03:51<00:00,  1.18s/it] \n"
     ]
    },
    {
     "name": "stdout",
     "output_type": "stream",
     "text": [
      "\n",
      "Test set: Average loss: 1.7612, Accuracy: 2913/5000 (58.26%)\n",
      "\n",
      "EPOCHS : 55\n"
     ]
    },
    {
     "name": "stderr",
     "output_type": "stream",
     "text": [
      "Loss=1.0370512008666992 Batch_id=195 Accuracy=72.13: 100%|██████████| 196/196 [03:50<00:00,  1.18s/it]\n"
     ]
    },
    {
     "name": "stdout",
     "output_type": "stream",
     "text": [
      "\n",
      "Test set: Average loss: 1.7674, Accuracy: 2927/5000 (58.54%)\n",
      "\n",
      "EPOCHS : 56\n"
     ]
    },
    {
     "name": "stderr",
     "output_type": "stream",
     "text": [
      "Loss=1.1239063739776611 Batch_id=195 Accuracy=71.89: 100%|██████████| 196/196 [03:56<00:00,  1.21s/it]\n"
     ]
    },
    {
     "name": "stdout",
     "output_type": "stream",
     "text": [
      "\n",
      "Test set: Average loss: 1.7643, Accuracy: 2923/5000 (58.46%)\n",
      "\n",
      "EPOCHS : 57\n"
     ]
    },
    {
     "name": "stderr",
     "output_type": "stream",
     "text": [
      "Loss=1.1680920124053955 Batch_id=195 Accuracy=72.00: 100%|██████████| 196/196 [03:49<00:00,  1.17s/it]\n"
     ]
    },
    {
     "name": "stdout",
     "output_type": "stream",
     "text": [
      "\n",
      "Test set: Average loss: 1.7719, Accuracy: 2923/5000 (58.46%)\n",
      "\n",
      "EPOCHS : 58\n"
     ]
    },
    {
     "name": "stderr",
     "output_type": "stream",
     "text": [
      "Loss=1.2185373306274414 Batch_id=195 Accuracy=72.13: 100%|██████████| 196/196 [03:47<00:00,  1.16s/it]\n"
     ]
    },
    {
     "name": "stdout",
     "output_type": "stream",
     "text": [
      "\n",
      "Test set: Average loss: 1.7656, Accuracy: 2915/5000 (58.30%)\n",
      "\n",
      "EPOCHS : 59\n"
     ]
    },
    {
     "name": "stderr",
     "output_type": "stream",
     "text": [
      "Loss=1.1029467582702637 Batch_id=195 Accuracy=72.09: 100%|██████████| 196/196 [03:40<00:00,  1.12s/it]\n"
     ]
    },
    {
     "name": "stdout",
     "output_type": "stream",
     "text": [
      "\n",
      "Test set: Average loss: 1.7648, Accuracy: 2924/5000 (58.48%)\n",
      "\n",
      "EPOCHS : 60\n"
     ]
    },
    {
     "name": "stderr",
     "output_type": "stream",
     "text": [
      "Loss=1.1507624387741089 Batch_id=195 Accuracy=71.98: 100%|██████████| 196/196 [03:52<00:00,  1.18s/it]\n"
     ]
    },
    {
     "name": "stdout",
     "output_type": "stream",
     "text": [
      "\n",
      "Test set: Average loss: 1.7662, Accuracy: 2922/5000 (58.44%)\n",
      "\n",
      "EPOCHS : 61\n"
     ]
    },
    {
     "name": "stderr",
     "output_type": "stream",
     "text": [
      "Loss=1.0350233316421509 Batch_id=195 Accuracy=72.09: 100%|██████████| 196/196 [03:50<00:00,  1.17s/it]\n"
     ]
    },
    {
     "name": "stdout",
     "output_type": "stream",
     "text": [
      "\n",
      "Test set: Average loss: 1.7659, Accuracy: 2921/5000 (58.42%)\n",
      "\n",
      "EPOCHS : 62\n"
     ]
    },
    {
     "name": "stderr",
     "output_type": "stream",
     "text": [
      "Loss=1.0065008401870728 Batch_id=195 Accuracy=71.94: 100%|██████████| 196/196 [03:48<00:00,  1.17s/it]\n"
     ]
    },
    {
     "name": "stdout",
     "output_type": "stream",
     "text": [
      "\n",
      "Test set: Average loss: 1.7635, Accuracy: 2938/5000 (58.76%)\n",
      "\n",
      "EPOCHS : 63\n"
     ]
    },
    {
     "name": "stderr",
     "output_type": "stream",
     "text": [
      "Loss=1.0895131826400757 Batch_id=195 Accuracy=72.12: 100%|██████████| 196/196 [03:48<00:00,  1.17s/it]\n"
     ]
    },
    {
     "name": "stdout",
     "output_type": "stream",
     "text": [
      "\n",
      "Test set: Average loss: 1.7614, Accuracy: 2925/5000 (58.50%)\n",
      "\n",
      "EPOCHS : 64\n"
     ]
    },
    {
     "name": "stderr",
     "output_type": "stream",
     "text": [
      "Loss=0.9731760025024414 Batch_id=195 Accuracy=71.97: 100%|██████████| 196/196 [03:51<00:00,  1.18s/it]\n"
     ]
    },
    {
     "name": "stdout",
     "output_type": "stream",
     "text": [
      "\n",
      "Test set: Average loss: 1.7599, Accuracy: 2928/5000 (58.56%)\n",
      "\n",
      "EPOCHS : 65\n"
     ]
    },
    {
     "name": "stderr",
     "output_type": "stream",
     "text": [
      "Loss=1.040872573852539 Batch_id=195 Accuracy=72.00: 100%|██████████| 196/196 [03:50<00:00,  1.17s/it] \n"
     ]
    },
    {
     "name": "stdout",
     "output_type": "stream",
     "text": [
      "\n",
      "Test set: Average loss: 1.7621, Accuracy: 2922/5000 (58.44%)\n",
      "\n",
      "EPOCHS : 66\n"
     ]
    },
    {
     "name": "stderr",
     "output_type": "stream",
     "text": [
      "Loss=0.8823214769363403 Batch_id=195 Accuracy=72.11: 100%|██████████| 196/196 [03:52<00:00,  1.18s/it]\n"
     ]
    },
    {
     "name": "stdout",
     "output_type": "stream",
     "text": [
      "\n",
      "Test set: Average loss: 1.7602, Accuracy: 2924/5000 (58.48%)\n",
      "\n",
      "EPOCHS : 67\n"
     ]
    },
    {
     "name": "stderr",
     "output_type": "stream",
     "text": [
      "Loss=1.107483148574829 Batch_id=195 Accuracy=72.12: 100%|██████████| 196/196 [03:49<00:00,  1.17s/it] \n"
     ]
    },
    {
     "name": "stdout",
     "output_type": "stream",
     "text": [
      "\n",
      "Test set: Average loss: 1.7646, Accuracy: 2931/5000 (58.62%)\n",
      "\n",
      "EPOCHS : 68\n"
     ]
    },
    {
     "name": "stderr",
     "output_type": "stream",
     "text": [
      "Loss=1.0588902235031128 Batch_id=195 Accuracy=72.05: 100%|██████████| 196/196 [03:50<00:00,  1.18s/it]\n"
     ]
    },
    {
     "name": "stdout",
     "output_type": "stream",
     "text": [
      "\n",
      "Test set: Average loss: 1.7669, Accuracy: 2920/5000 (58.40%)\n",
      "\n",
      "EPOCHS : 69\n"
     ]
    },
    {
     "name": "stderr",
     "output_type": "stream",
     "text": [
      "Loss=1.2018749713897705 Batch_id=195 Accuracy=72.01: 100%|██████████| 196/196 [03:49<00:00,  1.17s/it]\n"
     ]
    },
    {
     "name": "stdout",
     "output_type": "stream",
     "text": [
      "\n",
      "Test set: Average loss: 1.7613, Accuracy: 2926/5000 (58.52%)\n",
      "\n",
      "EPOCHS : 70\n"
     ]
    },
    {
     "name": "stderr",
     "output_type": "stream",
     "text": [
      "Loss=0.9859304428100586 Batch_id=195 Accuracy=72.07: 100%|██████████| 196/196 [03:45<00:00,  1.15s/it]\n"
     ]
    },
    {
     "name": "stdout",
     "output_type": "stream",
     "text": [
      "\n",
      "Test set: Average loss: 1.7646, Accuracy: 2931/5000 (58.62%)\n",
      "\n",
      "EPOCHS : 71\n"
     ]
    },
    {
     "name": "stderr",
     "output_type": "stream",
     "text": [
      "Loss=1.101733922958374 Batch_id=195 Accuracy=72.08: 100%|██████████| 196/196 [03:49<00:00,  1.17s/it] \n"
     ]
    },
    {
     "name": "stdout",
     "output_type": "stream",
     "text": [
      "\n",
      "Test set: Average loss: 1.7659, Accuracy: 2917/5000 (58.34%)\n",
      "\n",
      "EPOCHS : 72\n"
     ]
    },
    {
     "name": "stderr",
     "output_type": "stream",
     "text": [
      "Loss=1.0432264804840088 Batch_id=195 Accuracy=71.86: 100%|██████████| 196/196 [03:48<00:00,  1.16s/it]\n"
     ]
    },
    {
     "name": "stdout",
     "output_type": "stream",
     "text": [
      "\n",
      "Test set: Average loss: 1.7649, Accuracy: 2932/5000 (58.64%)\n",
      "\n",
      "EPOCHS : 73\n"
     ]
    },
    {
     "name": "stderr",
     "output_type": "stream",
     "text": [
      "Loss=1.166230320930481 Batch_id=195 Accuracy=71.97: 100%|██████████| 196/196 [03:48<00:00,  1.17s/it] \n"
     ]
    },
    {
     "name": "stdout",
     "output_type": "stream",
     "text": [
      "\n",
      "Test set: Average loss: 1.7622, Accuracy: 2922/5000 (58.44%)\n",
      "\n",
      "EPOCHS : 74\n"
     ]
    },
    {
     "name": "stderr",
     "output_type": "stream",
     "text": [
      "Loss=0.9455280303955078 Batch_id=195 Accuracy=71.91: 100%|██████████| 196/196 [03:50<00:00,  1.18s/it]\n"
     ]
    },
    {
     "name": "stdout",
     "output_type": "stream",
     "text": [
      "\n",
      "Test set: Average loss: 1.7642, Accuracy: 2925/5000 (58.50%)\n",
      "\n",
      "EPOCHS : 75\n"
     ]
    },
    {
     "name": "stderr",
     "output_type": "stream",
     "text": [
      "Loss=1.0522865056991577 Batch_id=195 Accuracy=71.89: 100%|██████████| 196/196 [03:50<00:00,  1.17s/it]\n"
     ]
    },
    {
     "name": "stdout",
     "output_type": "stream",
     "text": [
      "\n",
      "Test set: Average loss: 1.7609, Accuracy: 2920/5000 (58.40%)\n",
      "\n",
      "EPOCHS : 76\n"
     ]
    },
    {
     "name": "stderr",
     "output_type": "stream",
     "text": [
      "Loss=1.1051456928253174 Batch_id=195 Accuracy=72.12: 100%|██████████| 196/196 [03:45<00:00,  1.15s/it]\n"
     ]
    },
    {
     "name": "stdout",
     "output_type": "stream",
     "text": [
      "\n",
      "Test set: Average loss: 1.7654, Accuracy: 2934/5000 (58.68%)\n",
      "\n",
      "EPOCHS : 77\n"
     ]
    },
    {
     "name": "stderr",
     "output_type": "stream",
     "text": [
      "Loss=1.124142050743103 Batch_id=195 Accuracy=72.15: 100%|██████████| 196/196 [03:52<00:00,  1.19s/it] \n"
     ]
    },
    {
     "name": "stdout",
     "output_type": "stream",
     "text": [
      "\n",
      "Test set: Average loss: 1.7635, Accuracy: 2932/5000 (58.64%)\n",
      "\n",
      "EPOCHS : 78\n"
     ]
    },
    {
     "name": "stderr",
     "output_type": "stream",
     "text": [
      "Loss=1.2685997486114502 Batch_id=195 Accuracy=72.07: 100%|██████████| 196/196 [03:47<00:00,  1.16s/it]\n"
     ]
    },
    {
     "name": "stdout",
     "output_type": "stream",
     "text": [
      "\n",
      "Test set: Average loss: 1.7637, Accuracy: 2926/5000 (58.52%)\n",
      "\n",
      "EPOCHS : 79\n"
     ]
    },
    {
     "name": "stderr",
     "output_type": "stream",
     "text": [
      "Loss=1.1658861637115479 Batch_id=195 Accuracy=71.98: 100%|██████████| 196/196 [03:49<00:00,  1.17s/it]\n"
     ]
    },
    {
     "name": "stdout",
     "output_type": "stream",
     "text": [
      "\n",
      "Test set: Average loss: 1.7651, Accuracy: 2920/5000 (58.40%)\n",
      "\n",
      "EPOCHS : 80\n"
     ]
    },
    {
     "name": "stderr",
     "output_type": "stream",
     "text": [
      "Loss=1.171545147895813 Batch_id=195 Accuracy=72.02: 100%|██████████| 196/196 [03:52<00:00,  1.19s/it] \n"
     ]
    },
    {
     "name": "stdout",
     "output_type": "stream",
     "text": [
      "\n",
      "Test set: Average loss: 1.7644, Accuracy: 2915/5000 (58.30%)\n",
      "\n",
      "EPOCHS : 81\n"
     ]
    },
    {
     "name": "stderr",
     "output_type": "stream",
     "text": [
      "Loss=0.9291032552719116 Batch_id=195 Accuracy=71.97: 100%|██████████| 196/196 [03:49<00:00,  1.17s/it]\n"
     ]
    },
    {
     "name": "stdout",
     "output_type": "stream",
     "text": [
      "\n",
      "Test set: Average loss: 1.7610, Accuracy: 2932/5000 (58.64%)\n",
      "\n",
      "EPOCHS : 82\n"
     ]
    },
    {
     "name": "stderr",
     "output_type": "stream",
     "text": [
      "Loss=1.0140697956085205 Batch_id=195 Accuracy=71.96: 100%|██████████| 196/196 [03:46<00:00,  1.16s/it]\n"
     ]
    },
    {
     "name": "stdout",
     "output_type": "stream",
     "text": [
      "\n",
      "Test set: Average loss: 1.7648, Accuracy: 2926/5000 (58.52%)\n",
      "\n",
      "EPOCHS : 83\n"
     ]
    },
    {
     "name": "stderr",
     "output_type": "stream",
     "text": [
      "Loss=1.140599250793457 Batch_id=195 Accuracy=71.97: 100%|██████████| 196/196 [03:51<00:00,  1.18s/it] \n"
     ]
    },
    {
     "name": "stdout",
     "output_type": "stream",
     "text": [
      "\n",
      "Test set: Average loss: 1.7661, Accuracy: 2924/5000 (58.48%)\n",
      "\n",
      "EPOCHS : 84\n"
     ]
    },
    {
     "name": "stderr",
     "output_type": "stream",
     "text": [
      "Loss=1.113886833190918 Batch_id=195 Accuracy=72.10: 100%|██████████| 196/196 [03:51<00:00,  1.18s/it] \n"
     ]
    },
    {
     "name": "stdout",
     "output_type": "stream",
     "text": [
      "\n",
      "Test set: Average loss: 1.7645, Accuracy: 2927/5000 (58.54%)\n",
      "\n",
      "EPOCHS : 85\n"
     ]
    },
    {
     "name": "stderr",
     "output_type": "stream",
     "text": [
      "Loss=1.1305787563323975 Batch_id=195 Accuracy=71.89: 100%|██████████| 196/196 [03:50<00:00,  1.18s/it]\n"
     ]
    },
    {
     "name": "stdout",
     "output_type": "stream",
     "text": [
      "\n",
      "Test set: Average loss: 1.7656, Accuracy: 2918/5000 (58.36%)\n",
      "\n",
      "EPOCHS : 86\n"
     ]
    },
    {
     "name": "stderr",
     "output_type": "stream",
     "text": [
      "Loss=1.112107515335083 Batch_id=195 Accuracy=72.06: 100%|██████████| 196/196 [03:49<00:00,  1.17s/it] \n"
     ]
    },
    {
     "name": "stdout",
     "output_type": "stream",
     "text": [
      "\n",
      "Test set: Average loss: 1.7699, Accuracy: 2910/5000 (58.20%)\n",
      "\n",
      "EPOCHS : 87\n"
     ]
    },
    {
     "name": "stderr",
     "output_type": "stream",
     "text": [
      "Loss=1.1362276077270508 Batch_id=195 Accuracy=72.06: 100%|██████████| 196/196 [03:47<00:00,  1.16s/it]\n"
     ]
    },
    {
     "name": "stdout",
     "output_type": "stream",
     "text": [
      "\n",
      "Test set: Average loss: 1.7684, Accuracy: 2926/5000 (58.52%)\n",
      "\n",
      "EPOCHS : 88\n"
     ]
    },
    {
     "name": "stderr",
     "output_type": "stream",
     "text": [
      "Loss=1.0533573627471924 Batch_id=195 Accuracy=72.12: 100%|██████████| 196/196 [03:48<00:00,  1.16s/it]\n"
     ]
    },
    {
     "name": "stdout",
     "output_type": "stream",
     "text": [
      "\n",
      "Test set: Average loss: 1.7635, Accuracy: 2920/5000 (58.40%)\n",
      "\n",
      "EPOCHS : 89\n"
     ]
    },
    {
     "name": "stderr",
     "output_type": "stream",
     "text": [
      "Loss=1.1322311162948608 Batch_id=195 Accuracy=72.06: 100%|██████████| 196/196 [03:47<00:00,  1.16s/it]\n"
     ]
    },
    {
     "name": "stdout",
     "output_type": "stream",
     "text": [
      "\n",
      "Test set: Average loss: 1.7612, Accuracy: 2927/5000 (58.54%)\n",
      "\n",
      "EPOCHS : 90\n"
     ]
    },
    {
     "name": "stderr",
     "output_type": "stream",
     "text": [
      "Loss=1.0872750282287598 Batch_id=195 Accuracy=72.00: 100%|██████████| 196/196 [03:47<00:00,  1.16s/it]\n"
     ]
    },
    {
     "name": "stdout",
     "output_type": "stream",
     "text": [
      "\n",
      "Test set: Average loss: 1.7628, Accuracy: 2926/5000 (58.52%)\n",
      "\n",
      "EPOCHS : 91\n"
     ]
    },
    {
     "name": "stderr",
     "output_type": "stream",
     "text": [
      "Loss=1.0792436599731445 Batch_id=195 Accuracy=72.05: 100%|██████████| 196/196 [03:48<00:00,  1.17s/it]\n"
     ]
    },
    {
     "name": "stdout",
     "output_type": "stream",
     "text": [
      "\n",
      "Test set: Average loss: 1.7618, Accuracy: 2925/5000 (58.50%)\n",
      "\n",
      "EPOCHS : 92\n"
     ]
    },
    {
     "name": "stderr",
     "output_type": "stream",
     "text": [
      "Loss=1.1543159484863281 Batch_id=195 Accuracy=71.92: 100%|██████████| 196/196 [03:49<00:00,  1.17s/it]\n"
     ]
    },
    {
     "name": "stdout",
     "output_type": "stream",
     "text": [
      "\n",
      "Test set: Average loss: 1.7629, Accuracy: 2914/5000 (58.28%)\n",
      "\n",
      "EPOCHS : 93\n"
     ]
    },
    {
     "name": "stderr",
     "output_type": "stream",
     "text": [
      "Loss=0.9843718409538269 Batch_id=195 Accuracy=71.81: 100%|██████████| 196/196 [03:48<00:00,  1.17s/it]\n"
     ]
    },
    {
     "name": "stdout",
     "output_type": "stream",
     "text": [
      "\n",
      "Test set: Average loss: 1.7672, Accuracy: 2922/5000 (58.44%)\n",
      "\n",
      "EPOCHS : 94\n"
     ]
    },
    {
     "name": "stderr",
     "output_type": "stream",
     "text": [
      "Loss=1.1733601093292236 Batch_id=195 Accuracy=72.06: 100%|██████████| 196/196 [03:44<00:00,  1.14s/it]\n"
     ]
    },
    {
     "name": "stdout",
     "output_type": "stream",
     "text": [
      "\n",
      "Test set: Average loss: 1.7644, Accuracy: 2923/5000 (58.46%)\n",
      "\n",
      "EPOCHS : 95\n"
     ]
    },
    {
     "name": "stderr",
     "output_type": "stream",
     "text": [
      "Loss=1.0716501474380493 Batch_id=195 Accuracy=72.01: 100%|██████████| 196/196 [03:49<00:00,  1.17s/it]\n"
     ]
    },
    {
     "name": "stdout",
     "output_type": "stream",
     "text": [
      "\n",
      "Test set: Average loss: 1.7629, Accuracy: 2931/5000 (58.62%)\n",
      "\n",
      "EPOCHS : 96\n"
     ]
    },
    {
     "name": "stderr",
     "output_type": "stream",
     "text": [
      "Loss=1.1082890033721924 Batch_id=195 Accuracy=72.02: 100%|██████████| 196/196 [03:49<00:00,  1.17s/it]\n"
     ]
    },
    {
     "name": "stdout",
     "output_type": "stream",
     "text": [
      "\n",
      "Test set: Average loss: 1.7633, Accuracy: 2928/5000 (58.56%)\n",
      "\n",
      "EPOCHS : 97\n"
     ]
    },
    {
     "name": "stderr",
     "output_type": "stream",
     "text": [
      "Loss=1.1933146715164185 Batch_id=195 Accuracy=71.96: 100%|██████████| 196/196 [03:49<00:00,  1.17s/it]\n"
     ]
    },
    {
     "name": "stdout",
     "output_type": "stream",
     "text": [
      "\n",
      "Test set: Average loss: 1.7623, Accuracy: 2934/5000 (58.68%)\n",
      "\n",
      "EPOCHS : 98\n"
     ]
    },
    {
     "name": "stderr",
     "output_type": "stream",
     "text": [
      "Loss=1.0387837886810303 Batch_id=195 Accuracy=72.02: 100%|██████████| 196/196 [03:49<00:00,  1.17s/it]\n"
     ]
    },
    {
     "name": "stdout",
     "output_type": "stream",
     "text": [
      "\n",
      "Test set: Average loss: 1.7639, Accuracy: 2928/5000 (58.56%)\n",
      "\n",
      "EPOCHS : 99\n"
     ]
    },
    {
     "name": "stderr",
     "output_type": "stream",
     "text": [
      "Loss=1.165889024734497 Batch_id=195 Accuracy=71.96: 100%|██████████| 196/196 [03:51<00:00,  1.18s/it] \n"
     ]
    },
    {
     "name": "stdout",
     "output_type": "stream",
     "text": [
      "\n",
      "Test set: Average loss: 1.7649, Accuracy: 2926/5000 (58.52%)\n",
      "\n"
     ]
    }
   ],
   "source": [
    "epsilon=0.005\n",
    "optimizer = optim.SGD(model.parameters(), lr=0.01, momentum=0.9)\n",
    "scheduler = ReduceLROnPlateau(optimizer, mode='min', factor=0.05, patience=2, threshold=0.0001, threshold_mode='rel', cooldown=0, min_lr=0, eps=1e-08, verbose=True)\n",
    "\n",
    "\n",
    "train_acc = []\n",
    "train_losses = []\n",
    "test_acc = []\n",
    "test_losses = []\n",
    "\n",
    "EPOCHS = 100\n",
    "\n",
    "for i in range(EPOCHS):\n",
    "    print(f'EPOCHS : {i}')\n",
    "    model_training(model, device, trainloader, optimizer, train_acc, train_losses, epsilon, mean, std)\n",
    "    scheduler.step(train_losses[-1])\n",
    "    misclassified = model_testing(model, device, testloader, test_acc, test_losses)\n",
    "    \n",
    "    if i%10==0:\n",
    "        torch.save(model.state_dict(), \"./Networks/ResNet18_TinyImagenet_V0_Adversarial_ep_05p.pt\")\n",
    "        np.savez(\"./Networks/TrainSteps_ResNet18_TinyImagenet_V0_Adversarial_ep_05p.npz\", train_losses=train_losses,train_acc=train_acc, test_losses=test_losses, test_acc=test_acc)\n",
    "\n",
    "torch.save(model.state_dict(), \"./Networks/ResNet18_TinyImagenet_V0_Adversarial_ep_05p.pt\")\n",
    "np.savez(\"./Networks/TrainSteps_ResNet18_TinyImagenet_V0_Adversarial_ep_05p.npz\", train_losses=train_losses,train_acc=train_acc, test_losses=test_losses, test_acc=test_acc)"
   ]
  },
  {
   "cell_type": "code",
   "execution_count": 15,
   "metadata": {},
   "outputs": [
    {
     "data": {
      "text/plain": [
       "[<matplotlib.lines.Line2D at 0x7f3fa4f79590>]"
      ]
     },
     "execution_count": 15,
     "metadata": {},
     "output_type": "execute_result"
    },
    {
     "data": {
      "image/png": "[encoded data removed]",
      "text/plain": [
       "<Figure size 800x800 with 4 Axes>"
      ]
     },
     "metadata": {},
     "output_type": "display_data"
    }
   ],
   "source": [
    "fig, axs = plt.subplots(2,2, figsize=(8,8))\n",
    "\n",
    "axs[0,0].set_title('Train Losses')\n",
    "axs[0,1].set_title('Training Accuracy')\n",
    "axs[1,0].set_title('Test Losses')\n",
    "axs[1,1].set_title('Test Accuracy')\n",
    "\n",
    "axs[0,0].plot(train_losses)\n",
    "axs[0,1].plot(train_acc)\n",
    "axs[1,0].plot(test_losses)\n",
    "axs[1,1].plot(test_acc)"
   ]
  }
 ],
 "metadata": {
  "kernelspec": {
   "display_name": "pytorch",
   "language": "python",
   "name": "python3"
  },
  "language_info": {
   "codemirror_mode": {
    "name": "ipython",
    "version": 3
   },
   "file_extension": ".py",
   "mimetype": "text/x-python",
   "name": "python",
   "nbconvert_exporter": "python",
   "pygments_lexer": "ipython3",
   "version": "3.11.6"
  }
 },
 "nbformat": 4,
 "nbformat_minor": 2
}
