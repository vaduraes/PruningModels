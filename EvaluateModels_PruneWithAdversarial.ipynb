{
 "cells": [
  {
   "cell_type": "code",
   "execution_count": 1,
   "metadata": {},
   "outputs": [],
   "source": [
    "import torch\n",
    "import torch.nn as nn\n",
    "import torch.optim as optim\n",
    "from torch.optim.lr_scheduler import StepLR, ReduceLROnPlateau\n",
    "import torch.nn.functional as F\n",
    "\n",
    "\n",
    "import torchvision\n",
    "from torchvision.models import resnet18, ResNet18_Weights, vgg16, VGG16_Weights\n",
    "from torchvision import datasets\n",
    "from torchvision import transforms\n",
    "\n",
    "from tqdm import tqdm\n",
    "import numpy as np\n",
    "import matplotlib.pyplot as plt\n",
    "\n",
    "\n",
    "import os\n",
    "import sys\n",
    "import copy\n",
    "from torchsummary import summary\n",
    "\n",
    "\n",
    "# from google.colab import drive\n",
    "# drive.mount('/content/drive')\n",
    "# #Code folder path\n",
    "# %cd /content/drive/My Drive/ECE591_DL_CL_PROJECT/\n",
    "\n",
    "#device config\n",
    "torch.cuda.set_device(1)#Select GPU device 1\n",
    "device=torch.device(\"cuda\" if torch.cuda.is_available() else \"cpu\")\n",
    "\n",
    "#Get Packages\n",
    "sys.path.append('./Tools')\n",
    "\n",
    "#Network architectures\n",
    "from ResNet18_CIFAR10 import ResNet18_CIFAR10_Model\n",
    "from ResNet18_TINYIMAGENET import ResNet18_TINYIMAGENET_Model\n",
    "from VGG16_CIFAR10 import VGG16_CIFAR10_Model\n",
    "from VGG16_TINYIMAGENET import VGG16_TINYIMAGENET_Model\n",
    "\n",
    "#Non Corrupted DataLoaders\n",
    "from CIFAR10_LOADER import CIFAR10DataLoader\n",
    "from TINYIMAGENET_LOADER import TINYIMAGENETDataLoader\n",
    "\n",
    "#Non Corrupted DataLoaders\n",
    "from CIFAR10C_LOADER import CIFAR10C_DataLoader #Each Corruption is a entry in the dictionary\n",
    "from TINYIMAGENET_C_LOADER import TinyImagenetC_DataLoader #Each Corruption is a entry in the dictionary\n",
    "\n",
    "#Error Metrics\n",
    "from ErrorMetrics import Evaluate_Model_TOP1\n",
    "from PruningWithAdversarialExamples import iterative_pruning\n"
   ]
  },
  {
   "cell_type": "markdown",
   "metadata": {},
   "source": [
    "# Load Datasets"
   ]
  },
  {
   "cell_type": "code",
   "execution_count": 2,
   "metadata": {},
   "outputs": [
    {
     "name": "stdout",
     "output_type": "stream",
     "text": [
      "Files already downloaded and verified\n",
      "Files already downloaded and verified\n"
     ]
    }
   ],
   "source": [
    "from unittest import loader\n",
    "\n",
    "Times=5\n",
    "trainloader_CIFAR10, testloader_CIFAR10=CIFAR10DataLoader(batch_size=512*Times) #Load Data for CIFAR10\n",
    "loader_CIFAR10C=CIFAR10C_DataLoader(batch_size=512*Times) #Load Data for CIFAR10C\n",
    "\n",
    "Times=1\n",
    "trainloader_TINYIMAGENET, testloader_TINYIMAGENET=TINYIMAGENETDataLoader(NPZ=True,batch_size=512*Times) #Load Data for TINYIMAGENET\n",
    "loader_TinyImagenetC=TinyImagenetC_DataLoader(NPZ=True,batch_size=512*Times) #Load Data for TINYIMAGENETC\n",
    "\n",
    "MeanCIFAR10=(0.491, 0.482, 0.446)\n",
    "StdCIFAR10=(0.247, 0.243, 0.261)\n",
    "MeanImagenet=(0.485, 0.456, 0.406)\n",
    "StdImagenet=(0.229, 0.224, 0.225)"
   ]
  },
  {
   "cell_type": "markdown",
   "metadata": {},
   "source": [
    "# CIFAR 10"
   ]
  },
  {
   "cell_type": "markdown",
   "metadata": {},
   "source": [
    "## Check effect of level of adversarial examples (epsilon)"
   ]
  },
  {
   "cell_type": "code",
   "execution_count": 3,
   "metadata": {},
   "outputs": [
    {
     "name": "stdout",
     "output_type": "stream",
     "text": [
      "--Get statistics before pruning--\n",
      "Train set: Average loss: 0.7283, Accuracy: 40844/50000 (81.69%)\n",
      "Test set: Average loss: 0.7499, Accuracy: 7780/10000 (77.80%)\n",
      "\n",
      "--Testing Corruptions--\n"
     ]
    },
    {
     "name": "stderr",
     "output_type": "stream",
     "text": [
      "100%|██████████| 19/19 [02:47<00:00,  8.80s/it]\n"
     ]
    },
    {
     "name": "stdout",
     "output_type": "stream",
     "text": [
      "\n",
      "Avg Corruption Accuracy: 70.88%\n",
      "---------- Pruning Iteration:  1 / 44\n"
     ]
    },
    {
     "name": "stderr",
     "output_type": "stream",
     "text": [
      "Loss=1.33950936794281 Batch_id=19 Accuracy=48.74: 100%|██████████| 20/20 [00:28<00:00,  1.44s/it]  \n",
      "Loss=1.3659802675247192 Batch_id=19 Accuracy=48.47: 100%|██████████| 20/20 [00:29<00:00,  1.48s/it]\n",
      "Loss=1.3501019477844238 Batch_id=19 Accuracy=48.92: 100%|██████████| 20/20 [00:31<00:00,  1.60s/it]\n",
      "Loss=1.2474002838134766 Batch_id=19 Accuracy=49.23: 100%|██████████| 20/20 [00:29<00:00,  1.46s/it]\n",
      "Loss=1.247696876525879 Batch_id=19 Accuracy=49.01: 100%|██████████| 20/20 [00:29<00:00,  1.47s/it] \n",
      "Loss=1.3141919374465942 Batch_id=19 Accuracy=49.32: 100%|██████████| 20/20 [00:29<00:00,  1.48s/it]\n",
      "Loss=1.3049957752227783 Batch_id=19 Accuracy=49.50: 100%|██████████| 20/20 [00:29<00:00,  1.47s/it]\n"
     ]
    },
    {
     "name": "stdout",
     "output_type": "stream",
     "text": [
      "Epoch 00007: reducing learning rate of group 0 to 5.0000e-04.\n"
     ]
    },
    {
     "name": "stderr",
     "output_type": "stream",
     "text": [
      "Loss=1.266757607460022 Batch_id=19 Accuracy=49.93: 100%|██████████| 20/20 [00:29<00:00,  1.47s/it] \n",
      "Loss=1.2586878538131714 Batch_id=19 Accuracy=50.00: 100%|██████████| 20/20 [00:29<00:00,  1.48s/it]\n",
      "Loss=1.2545828819274902 Batch_id=19 Accuracy=50.23: 100%|██████████| 20/20 [00:28<00:00,  1.42s/it]"
     ]
    },
    {
     "name": "stdout",
     "output_type": "stream",
     "text": [
      "Epoch 00010: reducing learning rate of group 0 to 2.5000e-05.\n"
     ]
    },
    {
     "name": "stderr",
     "output_type": "stream",
     "text": [
      "\n"
     ]
    },
    {
     "name": "stdout",
     "output_type": "stream",
     "text": [
      "Test set: Average loss: 0.7275, Accuracy: 7805/10000 (78.05%)\n",
      "\n",
      "--Testing Corruptions--\n"
     ]
    },
    {
     "name": "stderr",
     "output_type": "stream",
     "text": [
      "100%|██████████| 19/19 [03:01<00:00,  9.55s/it]\n"
     ]
    },
    {
     "name": "stdout",
     "output_type": "stream",
     "text": [
      "\n",
      "Avg Corruption Accuracy: 71.23%\n",
      "Global Sparsity: 10.00% \n",
      "\n",
      "---------- Pruning Iteration:  2 / 44\n"
     ]
    },
    {
     "name": "stderr",
     "output_type": "stream",
     "text": [
      "Loss=1.272593379020691 Batch_id=19 Accuracy=49.62: 100%|██████████| 20/20 [00:29<00:00,  1.50s/it] \n",
      "Loss=1.2971875667572021 Batch_id=19 Accuracy=49.76: 100%|██████████| 20/20 [00:30<00:00,  1.52s/it]\n",
      "Loss=1.2699154615402222 Batch_id=19 Accuracy=49.97: 100%|██████████| 20/20 [00:30<00:00,  1.53s/it]\n",
      "Loss=1.2678282260894775 Batch_id=19 Accuracy=50.02: 100%|██████████| 20/20 [00:30<00:00,  1.54s/it]\n",
      "Loss=1.2931963205337524 Batch_id=19 Accuracy=50.19: 100%|██████████| 20/20 [00:30<00:00,  1.52s/it]\n",
      "Loss=1.258743166923523 Batch_id=19 Accuracy=50.45: 100%|██████████| 20/20 [00:30<00:00,  1.51s/it] \n",
      "Loss=1.248491883277893 Batch_id=19 Accuracy=50.40: 100%|██████████| 20/20 [00:30<00:00,  1.51s/it] \n",
      "Loss=1.2329750061035156 Batch_id=19 Accuracy=50.58: 100%|██████████| 20/20 [00:30<00:00,  1.52s/it]\n",
      "Loss=1.2328099012374878 Batch_id=19 Accuracy=50.68: 100%|██████████| 20/20 [00:29<00:00,  1.48s/it]\n",
      "Loss=1.200705885887146 Batch_id=19 Accuracy=51.03: 100%|██████████| 20/20 [00:31<00:00,  1.59s/it] \n"
     ]
    },
    {
     "name": "stdout",
     "output_type": "stream",
     "text": [
      "Test set: Average loss: 0.7339, Accuracy: 7743/10000 (77.43%)\n",
      "\n",
      "--Testing Corruptions--\n"
     ]
    },
    {
     "name": "stderr",
     "output_type": "stream",
     "text": [
      "100%|██████████| 19/19 [02:59<00:00,  9.47s/it]\n"
     ]
    },
    {
     "name": "stdout",
     "output_type": "stream",
     "text": [
      "\n",
      "Avg Corruption Accuracy: 70.34%\n",
      "Global Sparsity: 18.99% \n",
      "\n",
      "---------- Pruning Iteration:  3 / 44\n"
     ]
    },
    {
     "name": "stderr",
     "output_type": "stream",
     "text": [
      "Loss=1.2132567167282104 Batch_id=19 Accuracy=51.33: 100%|██████████| 20/20 [00:30<00:00,  1.51s/it]\n",
      "Loss=1.212998628616333 Batch_id=19 Accuracy=51.20: 100%|██████████| 20/20 [00:31<00:00,  1.59s/it] \n",
      "Loss=1.2505407333374023 Batch_id=19 Accuracy=51.46: 100%|██████████| 20/20 [00:30<00:00,  1.51s/it]\n",
      "Loss=1.200109601020813 Batch_id=19 Accuracy=51.68: 100%|██████████| 20/20 [00:30<00:00,  1.52s/it] \n",
      "Loss=1.202901005744934 Batch_id=19 Accuracy=51.47: 100%|██████████| 20/20 [00:30<00:00,  1.51s/it] \n",
      "Loss=1.2304041385650635 Batch_id=19 Accuracy=51.72: 100%|██████████| 20/20 [00:30<00:00,  1.52s/it]\n",
      "Loss=1.2131388187408447 Batch_id=19 Accuracy=52.00: 100%|██████████| 20/20 [00:29<00:00,  1.48s/it]\n"
     ]
    },
    {
     "name": "stdout",
     "output_type": "stream",
     "text": [
      "Epoch 00007: reducing learning rate of group 0 to 5.0000e-04.\n"
     ]
    },
    {
     "name": "stderr",
     "output_type": "stream",
     "text": [
      "Loss=1.17652428150177 Batch_id=19 Accuracy=52.29: 100%|██████████| 20/20 [00:29<00:00,  1.48s/it]  \n",
      "Loss=1.163525104522705 Batch_id=19 Accuracy=52.38: 100%|██████████| 20/20 [00:29<00:00,  1.48s/it] \n",
      "Loss=1.1607298851013184 Batch_id=19 Accuracy=52.84: 100%|██████████| 20/20 [00:32<00:00,  1.64s/it]\n"
     ]
    },
    {
     "name": "stdout",
     "output_type": "stream",
     "text": [
      "Test set: Average loss: 0.6965, Accuracy: 7882/10000 (78.82%)\n",
      "\n",
      "--Testing Corruptions--\n"
     ]
    },
    {
     "name": "stderr",
     "output_type": "stream",
     "text": [
      "100%|██████████| 19/19 [03:12<00:00, 10.12s/it]\n"
     ]
    },
    {
     "name": "stdout",
     "output_type": "stream",
     "text": [
      "\n",
      "Avg Corruption Accuracy: 71.90%\n",
      "Global Sparsity: 27.09% \n",
      "\n",
      "---------- Pruning Iteration:  4 / 44\n"
     ]
    },
    {
     "name": "stderr",
     "output_type": "stream",
     "text": [
      "Loss=1.2322853803634644 Batch_id=19 Accuracy=52.06: 100%|██████████| 20/20 [00:32<00:00,  1.62s/it]\n",
      "Loss=1.2084176540374756 Batch_id=19 Accuracy=52.19: 100%|██████████| 20/20 [00:31<00:00,  1.56s/it]\n",
      "Loss=1.1585135459899902 Batch_id=19 Accuracy=52.43: 100%|██████████| 20/20 [00:30<00:00,  1.54s/it]\n",
      "Loss=1.1771278381347656 Batch_id=19 Accuracy=52.35: 100%|██████████| 20/20 [00:30<00:00,  1.52s/it]\n",
      "Loss=1.1597836017608643 Batch_id=19 Accuracy=52.69: 100%|██████████| 20/20 [00:29<00:00,  1.50s/it]\n",
      "Loss=1.1599249839782715 Batch_id=19 Accuracy=52.66: 100%|██████████| 20/20 [00:30<00:00,  1.53s/it]\n"
     ]
    },
    {
     "name": "stdout",
     "output_type": "stream",
     "text": [
      "Epoch 00006: reducing learning rate of group 0 to 5.0000e-04.\n"
     ]
    },
    {
     "name": "stderr",
     "output_type": "stream",
     "text": [
      "Loss=1.1439751386642456 Batch_id=19 Accuracy=53.51: 100%|██████████| 20/20 [00:30<00:00,  1.53s/it]\n",
      "Loss=1.1219494342803955 Batch_id=19 Accuracy=53.92: 100%|██████████| 20/20 [00:29<00:00,  1.49s/it]\n",
      "Loss=1.1976255178451538 Batch_id=19 Accuracy=53.81: 100%|██████████| 20/20 [00:33<00:00,  1.66s/it]\n",
      "Loss=1.1535700559616089 Batch_id=19 Accuracy=53.72: 100%|██████████| 20/20 [00:30<00:00,  1.52s/it]\n"
     ]
    },
    {
     "name": "stdout",
     "output_type": "stream",
     "text": [
      "Test set: Average loss: 0.6893, Accuracy: 7879/10000 (78.79%)\n",
      "\n",
      "--Skipping Acc Comp For Corrupted Data--\n",
      "Global Sparsity: 34.37% \n",
      "\n",
      "---------- Pruning Iteration:  5 / 44\n"
     ]
    },
    {
     "name": "stderr",
     "output_type": "stream",
     "text": [
      "Loss=1.1700150966644287 Batch_id=19 Accuracy=52.85: 100%|██████████| 20/20 [00:30<00:00,  1.54s/it]\n",
      "Loss=1.1548045873641968 Batch_id=19 Accuracy=52.93: 100%|██████████| 20/20 [00:30<00:00,  1.54s/it]\n",
      "Loss=1.178856611251831 Batch_id=19 Accuracy=53.28: 100%|██████████| 20/20 [00:30<00:00,  1.55s/it] \n",
      "Loss=1.1109100580215454 Batch_id=19 Accuracy=53.23: 100%|██████████| 20/20 [00:31<00:00,  1.55s/it]\n",
      "Loss=1.1670740842819214 Batch_id=19 Accuracy=53.32: 100%|██████████| 20/20 [00:30<00:00,  1.51s/it]\n",
      "Loss=1.189009666442871 Batch_id=19 Accuracy=53.54: 100%|██████████| 20/20 [00:30<00:00,  1.54s/it] \n",
      "Loss=1.1346487998962402 Batch_id=19 Accuracy=54.31: 100%|██████████| 20/20 [00:31<00:00,  1.57s/it]\n"
     ]
    },
    {
     "name": "stdout",
     "output_type": "stream",
     "text": [
      "Epoch 00007: reducing learning rate of group 0 to 5.0000e-04.\n"
     ]
    },
    {
     "name": "stderr",
     "output_type": "stream",
     "text": [
      "Loss=1.1407586336135864 Batch_id=19 Accuracy=54.29: 100%|██████████| 20/20 [00:30<00:00,  1.51s/it]\n",
      "Loss=1.086957335472107 Batch_id=19 Accuracy=54.71: 100%|██████████| 20/20 [00:30<00:00,  1.52s/it] \n",
      "Loss=1.0965110063552856 Batch_id=19 Accuracy=54.64: 100%|██████████| 20/20 [00:30<00:00,  1.53s/it]\n"
     ]
    },
    {
     "name": "stdout",
     "output_type": "stream",
     "text": [
      "Test set: Average loss: 0.6790, Accuracy: 7864/10000 (78.64%)\n",
      "\n",
      "--Testing Corruptions--\n"
     ]
    },
    {
     "name": "stderr",
     "output_type": "stream",
     "text": [
      "100%|██████████| 19/19 [03:10<00:00, 10.04s/it]\n"
     ]
    },
    {
     "name": "stdout",
     "output_type": "stream",
     "text": [
      "\n",
      "Avg Corruption Accuracy: 72.03%\n",
      "Global Sparsity: 40.93% \n",
      "\n",
      "---------- Pruning Iteration:  6 / 44\n"
     ]
    },
    {
     "name": "stderr",
     "output_type": "stream",
     "text": [
      "Loss=1.1649529933929443 Batch_id=19 Accuracy=53.51: 100%|██████████| 20/20 [00:31<00:00,  1.56s/it]\n",
      "Loss=1.1497129201889038 Batch_id=19 Accuracy=53.58: 100%|██████████| 20/20 [00:31<00:00,  1.57s/it]\n",
      "Loss=1.1480351686477661 Batch_id=19 Accuracy=54.28: 100%|██████████| 20/20 [00:30<00:00,  1.55s/it]\n",
      "Loss=1.1119502782821655 Batch_id=19 Accuracy=54.23: 100%|██████████| 20/20 [00:30<00:00,  1.55s/it]\n",
      "Loss=1.155407190322876 Batch_id=19 Accuracy=54.53: 100%|██████████| 20/20 [00:30<00:00,  1.53s/it] \n",
      "Loss=1.09561026096344 Batch_id=19 Accuracy=54.76: 100%|██████████| 20/20 [00:32<00:00,  1.64s/it]  \n",
      "Loss=1.0706260204315186 Batch_id=19 Accuracy=55.07: 100%|██████████| 20/20 [00:30<00:00,  1.54s/it]\n",
      "Loss=1.1092618703842163 Batch_id=19 Accuracy=54.99: 100%|██████████| 20/20 [00:30<00:00,  1.54s/it]\n",
      "Loss=1.0943477153778076 Batch_id=19 Accuracy=55.20: 100%|██████████| 20/20 [00:31<00:00,  1.55s/it]\n",
      "Loss=1.0733050107955933 Batch_id=19 Accuracy=55.35: 100%|██████████| 20/20 [00:30<00:00,  1.55s/it]"
     ]
    },
    {
     "name": "stdout",
     "output_type": "stream",
     "text": [
      "Epoch 00010: reducing learning rate of group 0 to 5.0000e-04.\n"
     ]
    },
    {
     "name": "stderr",
     "output_type": "stream",
     "text": [
      "\n"
     ]
    },
    {
     "name": "stdout",
     "output_type": "stream",
     "text": [
      "Test set: Average loss: 0.6806, Accuracy: 7858/10000 (78.58%)\n",
      "\n",
      "--Skipping Acc Comp For Corrupted Data--\n",
      "Global Sparsity: 46.83% \n",
      "\n",
      "---------- Pruning Iteration:  7 / 44\n"
     ]
    },
    {
     "name": "stderr",
     "output_type": "stream",
     "text": [
      "Loss=1.1304519176483154 Batch_id=19 Accuracy=53.93: 100%|██████████| 20/20 [00:30<00:00,  1.52s/it]\n",
      "Loss=1.1158350706100464 Batch_id=19 Accuracy=55.37: 100%|██████████| 20/20 [00:30<00:00,  1.54s/it]\n",
      "Loss=1.1088260412216187 Batch_id=19 Accuracy=55.40: 100%|██████████| 20/20 [00:30<00:00,  1.55s/it]\n",
      "Loss=1.136696696281433 Batch_id=19 Accuracy=55.82: 100%|██████████| 20/20 [00:23<00:00,  1.19s/it] \n",
      "Loss=1.0898447036743164 Batch_id=19 Accuracy=55.73: 100%|██████████| 20/20 [00:23<00:00,  1.20s/it]\n",
      "Loss=1.07720947265625 Batch_id=19 Accuracy=56.34: 100%|██████████| 20/20 [00:23<00:00,  1.20s/it]  \n",
      "Loss=1.0726748704910278 Batch_id=19 Accuracy=56.16: 100%|██████████| 20/20 [00:23<00:00,  1.18s/it]\n",
      "Loss=1.0718803405761719 Batch_id=19 Accuracy=56.40: 100%|██████████| 20/20 [00:23<00:00,  1.18s/it]\n",
      "Loss=1.1096621751785278 Batch_id=19 Accuracy=56.81: 100%|██████████| 20/20 [00:23<00:00,  1.18s/it]\n",
      "Loss=1.0558712482452393 Batch_id=19 Accuracy=57.03: 100%|██████████| 20/20 [00:23<00:00,  1.20s/it]\n"
     ]
    },
    {
     "name": "stdout",
     "output_type": "stream",
     "text": [
      "Test set: Average loss: 0.6692, Accuracy: 7868/10000 (78.68%)\n",
      "\n",
      "--Testing Corruptions--\n"
     ]
    },
    {
     "name": "stderr",
     "output_type": "stream",
     "text": [
      "100%|██████████| 19/19 [02:56<00:00,  9.31s/it]\n"
     ]
    },
    {
     "name": "stdout",
     "output_type": "stream",
     "text": [
      "\n",
      "Avg Corruption Accuracy: 71.93%\n",
      "Global Sparsity: 52.15% \n",
      "\n",
      "---------- Pruning Iteration:  8 / 44\n"
     ]
    },
    {
     "name": "stderr",
     "output_type": "stream",
     "text": [
      "Loss=1.085590124130249 Batch_id=19 Accuracy=53.54: 100%|██████████| 20/20 [00:24<00:00,  1.21s/it] \n",
      "Loss=1.1250197887420654 Batch_id=19 Accuracy=55.69: 100%|██████████| 20/20 [00:24<00:00,  1.21s/it]\n",
      "Loss=1.080208420753479 Batch_id=19 Accuracy=56.47: 100%|██████████| 20/20 [00:24<00:00,  1.21s/it] \n",
      "Loss=1.1036611795425415 Batch_id=19 Accuracy=57.21: 100%|██████████| 20/20 [00:24<00:00,  1.22s/it]\n",
      "Loss=1.058381199836731 Batch_id=19 Accuracy=57.67: 100%|██████████| 20/20 [00:24<00:00,  1.22s/it] \n",
      "Loss=1.0285576581954956 Batch_id=19 Accuracy=57.83: 100%|██████████| 20/20 [00:24<00:00,  1.21s/it]\n",
      "Loss=1.0584322214126587 Batch_id=19 Accuracy=57.69: 100%|██████████| 20/20 [00:24<00:00,  1.22s/it]\n",
      "Loss=0.997035026550293 Batch_id=19 Accuracy=58.20: 100%|██████████| 20/20 [00:24<00:00,  1.23s/it] \n",
      "Loss=1.0007976293563843 Batch_id=19 Accuracy=58.27: 100%|██████████| 20/20 [00:25<00:00,  1.25s/it]\n",
      "Loss=0.9710628986358643 Batch_id=19 Accuracy=58.59: 100%|██████████| 20/20 [00:24<00:00,  1.25s/it]\n"
     ]
    },
    {
     "name": "stdout",
     "output_type": "stream",
     "text": [
      "Test set: Average loss: 0.6700, Accuracy: 7823/10000 (78.23%)\n",
      "\n",
      "--Skipping Acc Comp For Corrupted Data--\n",
      "Global Sparsity: 56.93% \n",
      "\n",
      "---------- Pruning Iteration:  9 / 44\n"
     ]
    },
    {
     "name": "stderr",
     "output_type": "stream",
     "text": [
      "Loss=1.1146517992019653 Batch_id=19 Accuracy=52.83: 100%|██████████| 20/20 [00:24<00:00,  1.24s/it]\n",
      "Loss=1.0739672183990479 Batch_id=19 Accuracy=56.44: 100%|██████████| 20/20 [00:24<00:00,  1.25s/it]\n",
      "Loss=1.0265142917633057 Batch_id=19 Accuracy=57.56: 100%|██████████| 20/20 [00:24<00:00,  1.24s/it]\n",
      "Loss=1.0003161430358887 Batch_id=19 Accuracy=58.12: 100%|██████████| 20/20 [00:24<00:00,  1.24s/it]\n",
      "Loss=1.0412508249282837 Batch_id=19 Accuracy=58.65: 100%|██████████| 20/20 [00:24<00:00,  1.25s/it]\n",
      "Loss=1.006578803062439 Batch_id=19 Accuracy=58.99: 100%|██████████| 20/20 [00:24<00:00,  1.25s/it] \n",
      "Loss=0.9844122529029846 Batch_id=19 Accuracy=59.06: 100%|██████████| 20/20 [00:24<00:00,  1.24s/it]\n",
      "Loss=0.9920762181282043 Batch_id=19 Accuracy=59.18: 100%|██████████| 20/20 [00:24<00:00,  1.23s/it]\n",
      "Loss=0.9654432535171509 Batch_id=19 Accuracy=59.67: 100%|██████████| 20/20 [00:24<00:00,  1.24s/it]\n",
      "Loss=0.9927618503570557 Batch_id=19 Accuracy=59.56: 100%|██████████| 20/20 [00:24<00:00,  1.24s/it]\n"
     ]
    },
    {
     "name": "stdout",
     "output_type": "stream",
     "text": [
      "Test set: Average loss: 0.6674, Accuracy: 7858/10000 (78.58%)\n",
      "\n",
      "--Testing Corruptions--\n"
     ]
    },
    {
     "name": "stderr",
     "output_type": "stream",
     "text": [
      "100%|██████████| 19/19 [02:47<00:00,  8.81s/it]\n"
     ]
    },
    {
     "name": "stdout",
     "output_type": "stream",
     "text": [
      "\n",
      "Avg Corruption Accuracy: 71.56%\n",
      "Global Sparsity: 61.23% \n",
      "\n",
      "---------- Pruning Iteration:  10 / 44\n"
     ]
    },
    {
     "name": "stderr",
     "output_type": "stream",
     "text": [
      "Loss=1.0691359043121338 Batch_id=19 Accuracy=51.71: 100%|██████████| 20/20 [00:25<00:00,  1.25s/it]\n",
      "Loss=1.0323644876480103 Batch_id=19 Accuracy=56.58: 100%|██████████| 20/20 [00:25<00:00,  1.26s/it]\n",
      "Loss=1.0069348812103271 Batch_id=19 Accuracy=58.20: 100%|██████████| 20/20 [00:25<00:00,  1.26s/it]\n",
      "Loss=0.98866206407547 Batch_id=19 Accuracy=58.85: 100%|██████████| 20/20 [00:25<00:00,  1.26s/it]  \n",
      "Loss=0.9805026054382324 Batch_id=19 Accuracy=59.51: 100%|██████████| 20/20 [00:25<00:00,  1.26s/it]\n",
      "Loss=0.9600985646247864 Batch_id=19 Accuracy=59.95: 100%|██████████| 20/20 [00:25<00:00,  1.26s/it]\n",
      "Loss=0.9795267581939697 Batch_id=19 Accuracy=60.28: 100%|██████████| 20/20 [00:25<00:00,  1.25s/it]\n",
      "Loss=0.9820265769958496 Batch_id=19 Accuracy=60.78: 100%|██████████| 20/20 [00:25<00:00,  1.26s/it]\n",
      "Loss=0.9547763466835022 Batch_id=19 Accuracy=60.44: 100%|██████████| 20/20 [00:25<00:00,  1.26s/it]\n",
      "Loss=0.9484451413154602 Batch_id=19 Accuracy=60.63: 100%|██████████| 20/20 [00:25<00:00,  1.25s/it]\n"
     ]
    },
    {
     "name": "stdout",
     "output_type": "stream",
     "text": [
      "Test set: Average loss: 0.6586, Accuracy: 7859/10000 (78.59%)\n",
      "\n",
      "--Skipping Acc Comp For Corrupted Data--\n",
      "Global Sparsity: 65.10% \n",
      "\n",
      "---------- Pruning Iteration:  11 / 44\n"
     ]
    },
    {
     "name": "stderr",
     "output_type": "stream",
     "text": [
      "Loss=1.1016002893447876 Batch_id=19 Accuracy=50.98: 100%|██████████| 20/20 [00:25<00:00,  1.26s/it]\n",
      "Loss=1.0498358011245728 Batch_id=19 Accuracy=56.93: 100%|██████████| 20/20 [00:25<00:00,  1.27s/it]\n",
      "Loss=0.9788275361061096 Batch_id=19 Accuracy=58.77: 100%|██████████| 20/20 [00:25<00:00,  1.25s/it]\n",
      "Loss=0.9730685353279114 Batch_id=19 Accuracy=59.37: 100%|██████████| 20/20 [00:25<00:00,  1.26s/it]\n",
      "Loss=0.9572767615318298 Batch_id=19 Accuracy=60.28: 100%|██████████| 20/20 [00:25<00:00,  1.26s/it]\n",
      "Loss=0.903101921081543 Batch_id=19 Accuracy=60.51: 100%|██████████| 20/20 [00:25<00:00,  1.26s/it] \n",
      "Loss=0.946207582950592 Batch_id=19 Accuracy=60.92: 100%|██████████| 20/20 [00:25<00:00,  1.25s/it] \n",
      "Loss=0.8952115178108215 Batch_id=19 Accuracy=61.38: 100%|██████████| 20/20 [00:25<00:00,  1.26s/it]\n",
      "Loss=0.9166154861450195 Batch_id=19 Accuracy=61.61: 100%|██████████| 20/20 [00:25<00:00,  1.26s/it]\n",
      "Loss=0.959666907787323 Batch_id=19 Accuracy=61.87: 100%|██████████| 20/20 [00:25<00:00,  1.26s/it] \n"
     ]
    },
    {
     "name": "stdout",
     "output_type": "stream",
     "text": [
      "Test set: Average loss: 0.6669, Accuracy: 7859/10000 (78.59%)\n",
      "\n",
      "--Testing Corruptions--\n"
     ]
    },
    {
     "name": "stderr",
     "output_type": "stream",
     "text": [
      "100%|██████████| 19/19 [02:56<00:00,  9.26s/it]\n"
     ]
    },
    {
     "name": "stdout",
     "output_type": "stream",
     "text": [
      "\n",
      "Avg Corruption Accuracy: 71.72%\n",
      "Global Sparsity: 68.59% \n",
      "\n",
      "---------- Pruning Iteration:  12 / 44\n"
     ]
    },
    {
     "name": "stderr",
     "output_type": "stream",
     "text": [
      "Loss=1.1410921812057495 Batch_id=19 Accuracy=49.89: 100%|██████████| 20/20 [00:25<00:00,  1.27s/it]\n",
      "Loss=1.0242950916290283 Batch_id=19 Accuracy=56.83: 100%|██████████| 20/20 [00:25<00:00,  1.27s/it]\n",
      "Loss=1.0042041540145874 Batch_id=19 Accuracy=59.16: 100%|██████████| 20/20 [00:25<00:00,  1.27s/it]\n",
      "Loss=0.9127115607261658 Batch_id=19 Accuracy=60.16: 100%|██████████| 20/20 [00:25<00:00,  1.27s/it]\n",
      "Loss=0.948034405708313 Batch_id=19 Accuracy=60.85: 100%|██████████| 20/20 [00:25<00:00,  1.27s/it] \n",
      "Loss=0.9226253628730774 Batch_id=19 Accuracy=61.16: 100%|██████████| 20/20 [00:25<00:00,  1.26s/it]\n",
      "Loss=0.922185480594635 Batch_id=19 Accuracy=61.61: 100%|██████████| 20/20 [00:25<00:00,  1.27s/it] \n"
     ]
    },
    {
     "name": "stdout",
     "output_type": "stream",
     "text": [
      "Epoch 00007: reducing learning rate of group 0 to 5.0000e-04.\n"
     ]
    },
    {
     "name": "stderr",
     "output_type": "stream",
     "text": [
      "Loss=0.8946714401245117 Batch_id=19 Accuracy=62.84: 100%|██████████| 20/20 [00:25<00:00,  1.27s/it]\n",
      "Loss=0.8902064561843872 Batch_id=19 Accuracy=62.91: 100%|██████████| 20/20 [00:25<00:00,  1.27s/it]\n",
      "Loss=0.9029413461685181 Batch_id=19 Accuracy=63.01: 100%|██████████| 20/20 [00:25<00:00,  1.26s/it]\n"
     ]
    },
    {
     "name": "stdout",
     "output_type": "stream",
     "text": [
      "Test set: Average loss: 0.6378, Accuracy: 7932/10000 (79.32%)\n",
      "\n",
      "--Skipping Acc Comp For Corrupted Data--\n",
      "Global Sparsity: 71.72% \n",
      "\n",
      "---------- Pruning Iteration:  13 / 44\n"
     ]
    },
    {
     "name": "stderr",
     "output_type": "stream",
     "text": [
      "Loss=1.078147292137146 Batch_id=19 Accuracy=49.91: 100%|██████████| 20/20 [00:25<00:00,  1.27s/it] \n",
      "Loss=1.020049810409546 Batch_id=19 Accuracy=57.22: 100%|██████████| 20/20 [00:25<00:00,  1.26s/it] \n",
      "Loss=0.9552589058876038 Batch_id=19 Accuracy=59.41: 100%|██████████| 20/20 [00:25<00:00,  1.27s/it]\n",
      "Loss=0.9377952814102173 Batch_id=19 Accuracy=60.20: 100%|██████████| 20/20 [00:25<00:00,  1.26s/it]\n",
      "Loss=0.9570976495742798 Batch_id=19 Accuracy=61.08: 100%|██████████| 20/20 [00:25<00:00,  1.27s/it]\n",
      "Loss=0.9467988014221191 Batch_id=19 Accuracy=61.06: 100%|██████████| 20/20 [00:25<00:00,  1.28s/it]\n",
      "Loss=0.9207087755203247 Batch_id=19 Accuracy=61.95: 100%|██████████| 20/20 [00:25<00:00,  1.27s/it]\n",
      "Loss=0.9187034964561462 Batch_id=19 Accuracy=62.35: 100%|██████████| 20/20 [00:25<00:00,  1.26s/it]\n",
      "Loss=0.9032580256462097 Batch_id=19 Accuracy=62.14: 100%|██████████| 20/20 [00:25<00:00,  1.27s/it]\n",
      "Loss=0.8819608688354492 Batch_id=19 Accuracy=62.73: 100%|██████████| 20/20 [00:25<00:00,  1.27s/it]\n"
     ]
    },
    {
     "name": "stdout",
     "output_type": "stream",
     "text": [
      "Test set: Average loss: 0.6569, Accuracy: 7828/10000 (78.28%)\n",
      "\n",
      "--Skipping Acc Comp For Corrupted Data--\n",
      "Global Sparsity: 74.55% \n",
      "\n",
      "---------- Pruning Iteration:  14 / 44\n"
     ]
    },
    {
     "name": "stderr",
     "output_type": "stream",
     "text": [
      "Loss=1.2236422300338745 Batch_id=19 Accuracy=46.22: 100%|██████████| 20/20 [00:25<00:00,  1.27s/it]\n",
      "Loss=1.013700246810913 Batch_id=19 Accuracy=55.11: 100%|██████████| 20/20 [00:25<00:00,  1.26s/it] \n",
      "Loss=0.984300971031189 Batch_id=19 Accuracy=58.64: 100%|██████████| 20/20 [00:25<00:00,  1.27s/it] \n",
      "Loss=0.9756324291229248 Batch_id=19 Accuracy=59.92: 100%|██████████| 20/20 [00:25<00:00,  1.26s/it]\n",
      "Loss=0.9613739848136902 Batch_id=19 Accuracy=60.82: 100%|██████████| 20/20 [00:25<00:00,  1.28s/it]\n",
      "Loss=0.9621463418006897 Batch_id=19 Accuracy=61.14: 100%|██████████| 20/20 [00:25<00:00,  1.27s/it]\n",
      "Loss=0.917684018611908 Batch_id=19 Accuracy=61.64: 100%|██████████| 20/20 [00:25<00:00,  1.27s/it] \n",
      "Loss=0.8813436031341553 Batch_id=19 Accuracy=62.15: 100%|██████████| 20/20 [00:25<00:00,  1.28s/it]\n",
      "Loss=0.8934798240661621 Batch_id=19 Accuracy=62.72: 100%|██████████| 20/20 [00:25<00:00,  1.27s/it]\n",
      "Loss=0.8969333171844482 Batch_id=19 Accuracy=62.46: 100%|██████████| 20/20 [00:24<00:00,  1.23s/it]\n"
     ]
    },
    {
     "name": "stdout",
     "output_type": "stream",
     "text": [
      "Test set: Average loss: 0.6507, Accuracy: 7883/10000 (78.83%)\n",
      "\n",
      "--Skipping Acc Comp For Corrupted Data--\n",
      "Global Sparsity: 77.09% \n",
      "\n",
      "---------- Pruning Iteration:  15 / 44\n"
     ]
    },
    {
     "name": "stderr",
     "output_type": "stream",
     "text": [
      "Loss=1.1527023315429688 Batch_id=19 Accuracy=48.57: 100%|██████████| 20/20 [00:24<00:00,  1.24s/it]\n",
      "Loss=1.0173752307891846 Batch_id=19 Accuracy=56.49: 100%|██████████| 20/20 [00:24<00:00,  1.23s/it]\n",
      "Loss=1.00874924659729 Batch_id=19 Accuracy=59.32: 100%|██████████| 20/20 [00:24<00:00,  1.24s/it]  \n",
      "Loss=0.9772819876670837 Batch_id=19 Accuracy=60.17: 100%|██████████| 20/20 [00:24<00:00,  1.24s/it]\n",
      "Loss=0.9341340065002441 Batch_id=19 Accuracy=61.31: 100%|██████████| 20/20 [00:24<00:00,  1.24s/it]\n",
      "Loss=0.9388835430145264 Batch_id=19 Accuracy=61.49: 100%|██████████| 20/20 [00:24<00:00,  1.24s/it]\n",
      "Loss=0.9107405543327332 Batch_id=19 Accuracy=61.81: 100%|██████████| 20/20 [00:24<00:00,  1.25s/it]\n",
      "Loss=0.899517297744751 Batch_id=19 Accuracy=61.98: 100%|██████████| 20/20 [00:24<00:00,  1.24s/it] \n",
      "Loss=0.9068295359611511 Batch_id=19 Accuracy=62.60: 100%|██████████| 20/20 [00:24<00:00,  1.24s/it]\n",
      "Loss=0.8830690979957581 Batch_id=19 Accuracy=62.80: 100%|██████████| 20/20 [00:24<00:00,  1.25s/it]\n"
     ]
    },
    {
     "name": "stdout",
     "output_type": "stream",
     "text": [
      "Test set: Average loss: 0.6424, Accuracy: 7898/10000 (78.98%)\n",
      "\n",
      "--Testing Corruptions--\n"
     ]
    },
    {
     "name": "stderr",
     "output_type": "stream",
     "text": [
      "100%|██████████| 19/19 [02:59<00:00,  9.44s/it]\n"
     ]
    },
    {
     "name": "stdout",
     "output_type": "stream",
     "text": [
      "\n",
      "Avg Corruption Accuracy: 71.90%\n",
      "Global Sparsity: 79.37% \n",
      "\n",
      "---------- Pruning Iteration:  16 / 44\n"
     ]
    },
    {
     "name": "stderr",
     "output_type": "stream",
     "text": [
      "Loss=1.132895588874817 Batch_id=19 Accuracy=49.05: 100%|██████████| 20/20 [00:24<00:00,  1.25s/it] \n",
      "Loss=0.9752886891365051 Batch_id=19 Accuracy=56.94: 100%|██████████| 20/20 [00:25<00:00,  1.26s/it]\n",
      "Loss=0.961268961429596 Batch_id=19 Accuracy=59.51: 100%|██████████| 20/20 [00:25<00:00,  1.25s/it] \n",
      "Loss=0.9780693650245667 Batch_id=19 Accuracy=60.24: 100%|██████████| 20/20 [00:24<00:00,  1.24s/it]\n",
      "Loss=0.9968345165252686 Batch_id=19 Accuracy=60.98: 100%|██████████| 20/20 [00:25<00:00,  1.26s/it]\n",
      "Loss=0.931431770324707 Batch_id=19 Accuracy=61.40: 100%|██████████| 20/20 [00:24<00:00,  1.25s/it] \n",
      "Loss=0.9274861812591553 Batch_id=19 Accuracy=61.89: 100%|██████████| 20/20 [00:25<00:00,  1.25s/it]\n",
      "Loss=0.9166994690895081 Batch_id=19 Accuracy=62.25: 100%|██████████| 20/20 [00:25<00:00,  1.25s/it]\n",
      "Loss=0.8558835387229919 Batch_id=19 Accuracy=62.48: 100%|██████████| 20/20 [00:25<00:00,  1.25s/it]\n",
      "Loss=0.9225011467933655 Batch_id=19 Accuracy=62.92: 100%|██████████| 20/20 [00:24<00:00,  1.25s/it]\n"
     ]
    },
    {
     "name": "stdout",
     "output_type": "stream",
     "text": [
      "Test set: Average loss: 0.6507, Accuracy: 7833/10000 (78.33%)\n",
      "\n",
      "--Skipping Acc Comp For Corrupted Data--\n",
      "Global Sparsity: 81.43% \n",
      "\n",
      "---------- Pruning Iteration:  17 / 44\n"
     ]
    },
    {
     "name": "stderr",
     "output_type": "stream",
     "text": [
      "Loss=1.137941598892212 Batch_id=19 Accuracy=49.62: 100%|██████████| 20/20 [00:25<00:00,  1.26s/it] \n",
      "Loss=1.008193850517273 Batch_id=19 Accuracy=56.96: 100%|██████████| 20/20 [00:25<00:00,  1.25s/it] \n",
      "Loss=0.9398514032363892 Batch_id=19 Accuracy=59.55: 100%|██████████| 20/20 [00:25<00:00,  1.25s/it]\n",
      "Loss=0.9636309742927551 Batch_id=19 Accuracy=60.47: 100%|██████████| 20/20 [00:25<00:00,  1.25s/it]\n",
      "Loss=0.9640182256698608 Batch_id=19 Accuracy=61.12: 100%|██████████| 20/20 [00:24<00:00,  1.25s/it]\n",
      "Loss=0.9535434246063232 Batch_id=19 Accuracy=61.68: 100%|██████████| 20/20 [00:25<00:00,  1.26s/it]\n"
     ]
    },
    {
     "name": "stdout",
     "output_type": "stream",
     "text": [
      "Epoch 00006: reducing learning rate of group 0 to 5.0000e-04.\n"
     ]
    },
    {
     "name": "stderr",
     "output_type": "stream",
     "text": [
      "Loss=0.8910472989082336 Batch_id=19 Accuracy=62.56: 100%|██████████| 20/20 [00:24<00:00,  1.24s/it]\n",
      "Loss=0.909317672252655 Batch_id=19 Accuracy=62.68: 100%|██████████| 20/20 [00:25<00:00,  1.26s/it] \n",
      "Loss=0.8884557485580444 Batch_id=19 Accuracy=62.78: 100%|██████████| 20/20 [00:25<00:00,  1.25s/it]\n",
      "Loss=0.885161817073822 Batch_id=19 Accuracy=62.96: 100%|██████████| 20/20 [00:24<00:00,  1.25s/it] \n"
     ]
    },
    {
     "name": "stdout",
     "output_type": "stream",
     "text": [
      "Test set: Average loss: 0.6421, Accuracy: 7876/10000 (78.76%)\n",
      "\n",
      "--Skipping Acc Comp For Corrupted Data--\n",
      "Global Sparsity: 83.28% \n",
      "\n",
      "---------- Pruning Iteration:  18 / 44\n"
     ]
    },
    {
     "name": "stderr",
     "output_type": "stream",
     "text": [
      "Loss=1.0983283519744873 Batch_id=19 Accuracy=49.42: 100%|██████████| 20/20 [00:25<00:00,  1.25s/it]\n",
      "Loss=1.072911024093628 Batch_id=19 Accuracy=56.41: 100%|██████████| 20/20 [00:24<00:00,  1.24s/it] \n",
      "Loss=0.983601987361908 Batch_id=19 Accuracy=58.56: 100%|██████████| 20/20 [00:24<00:00,  1.25s/it] \n",
      "Loss=0.9543735980987549 Batch_id=19 Accuracy=59.74: 100%|██████████| 20/20 [00:25<00:00,  1.25s/it]\n",
      "Loss=0.9708797931671143 Batch_id=19 Accuracy=60.32: 100%|██████████| 20/20 [00:25<00:00,  1.25s/it]\n",
      "Loss=0.9521427154541016 Batch_id=19 Accuracy=60.92: 100%|██████████| 20/20 [00:24<00:00,  1.25s/it]\n",
      "Loss=0.935650110244751 Batch_id=19 Accuracy=61.11: 100%|██████████| 20/20 [00:25<00:00,  1.25s/it] \n",
      "Loss=0.9287261962890625 Batch_id=19 Accuracy=61.52: 100%|██████████| 20/20 [00:24<00:00,  1.25s/it]\n",
      "Loss=0.9454230666160583 Batch_id=19 Accuracy=61.33: 100%|██████████| 20/20 [00:25<00:00,  1.26s/it]\n",
      "Loss=0.8806870579719543 Batch_id=19 Accuracy=61.95: 100%|██████████| 20/20 [00:25<00:00,  1.25s/it]\n"
     ]
    },
    {
     "name": "stdout",
     "output_type": "stream",
     "text": [
      "Test set: Average loss: 0.6516, Accuracy: 7876/10000 (78.76%)\n",
      "\n",
      "--Skipping Acc Comp For Corrupted Data--\n",
      "Global Sparsity: 84.95% \n",
      "\n",
      "---------- Pruning Iteration:  19 / 44\n"
     ]
    },
    {
     "name": "stderr",
     "output_type": "stream",
     "text": [
      "Loss=1.1036118268966675 Batch_id=19 Accuracy=48.36: 100%|██████████| 20/20 [00:25<00:00,  1.25s/it]\n",
      "Loss=1.0194807052612305 Batch_id=19 Accuracy=55.74: 100%|██████████| 20/20 [00:24<00:00,  1.25s/it]\n",
      "Loss=1.0076454877853394 Batch_id=19 Accuracy=58.40: 100%|██████████| 20/20 [00:25<00:00,  1.25s/it]\n",
      "Loss=0.9815675020217896 Batch_id=19 Accuracy=59.15: 100%|██████████| 20/20 [00:25<00:00,  1.26s/it]\n",
      "Loss=0.9598296880722046 Batch_id=19 Accuracy=59.89: 100%|██████████| 20/20 [00:25<00:00,  1.25s/it]\n",
      "Loss=0.9468773603439331 Batch_id=19 Accuracy=60.50: 100%|██████████| 20/20 [00:25<00:00,  1.26s/it]\n",
      "Loss=0.9390274882316589 Batch_id=19 Accuracy=60.85: 100%|██████████| 20/20 [00:25<00:00,  1.25s/it]\n",
      "Loss=0.938744843006134 Batch_id=19 Accuracy=61.01: 100%|██████████| 20/20 [00:25<00:00,  1.26s/it] \n",
      "Loss=0.9330481886863708 Batch_id=19 Accuracy=60.91: 100%|██████████| 20/20 [00:25<00:00,  1.26s/it]\n",
      "Loss=0.9006159901618958 Batch_id=19 Accuracy=61.68: 100%|██████████| 20/20 [00:25<00:00,  1.25s/it]\n"
     ]
    },
    {
     "name": "stdout",
     "output_type": "stream",
     "text": [
      "Test set: Average loss: 0.6593, Accuracy: 7827/10000 (78.27%)\n",
      "\n",
      "--Skipping Acc Comp For Corrupted Data--\n",
      "Global Sparsity: 86.45% \n",
      "\n",
      "---------- Pruning Iteration:  20 / 44\n"
     ]
    },
    {
     "name": "stderr",
     "output_type": "stream",
     "text": [
      "Loss=1.1409326791763306 Batch_id=19 Accuracy=48.17: 100%|██████████| 20/20 [00:31<00:00,  1.58s/it]\n",
      "Loss=1.0469895601272583 Batch_id=19 Accuracy=55.56: 100%|██████████| 20/20 [00:31<00:00,  1.58s/it]\n",
      "Loss=1.049354076385498 Batch_id=19 Accuracy=57.94: 100%|██████████| 20/20 [00:31<00:00,  1.57s/it] \n",
      "Loss=1.0243070125579834 Batch_id=19 Accuracy=58.88: 100%|██████████| 20/20 [00:31<00:00,  1.58s/it]\n",
      "Loss=0.9604041576385498 Batch_id=19 Accuracy=59.55: 100%|██████████| 20/20 [00:31<00:00,  1.57s/it]\n",
      "Loss=0.9719985723495483 Batch_id=19 Accuracy=60.08: 100%|██████████| 20/20 [00:31<00:00,  1.57s/it]\n",
      "Loss=0.9452553987503052 Batch_id=19 Accuracy=60.41: 100%|██████████| 20/20 [00:31<00:00,  1.58s/it]\n",
      "Loss=0.9522057175636292 Batch_id=19 Accuracy=60.87: 100%|██████████| 20/20 [00:31<00:00,  1.58s/it]\n",
      "Loss=0.9256714582443237 Batch_id=19 Accuracy=60.97: 100%|██████████| 20/20 [00:31<00:00,  1.57s/it]\n",
      "Loss=0.9115910530090332 Batch_id=19 Accuracy=61.11: 100%|██████████| 20/20 [00:31<00:00,  1.58s/it]\n"
     ]
    },
    {
     "name": "stdout",
     "output_type": "stream",
     "text": [
      "Test set: Average loss: 0.6618, Accuracy: 7861/10000 (78.61%)\n",
      "\n",
      "--Skipping Acc Comp For Corrupted Data--\n",
      "Global Sparsity: 87.80% \n",
      "\n",
      "---------- Pruning Iteration:  21 / 44\n"
     ]
    },
    {
     "name": "stderr",
     "output_type": "stream",
     "text": [
      "Loss=1.1335997581481934 Batch_id=19 Accuracy=49.21: 100%|██████████| 20/20 [00:25<00:00,  1.25s/it]\n",
      "Loss=1.051112413406372 Batch_id=19 Accuracy=56.07: 100%|██████████| 20/20 [00:25<00:00,  1.26s/it] \n",
      "Loss=1.016802191734314 Batch_id=19 Accuracy=57.51: 100%|██████████| 20/20 [00:25<00:00,  1.26s/it] \n",
      "Loss=1.021566390991211 Batch_id=19 Accuracy=58.60: 100%|██████████| 20/20 [00:25<00:00,  1.26s/it] \n",
      "Loss=0.9755536913871765 Batch_id=19 Accuracy=59.28: 100%|██████████| 20/20 [00:25<00:00,  1.26s/it]\n",
      "Loss=0.9452915191650391 Batch_id=19 Accuracy=59.75: 100%|██████████| 20/20 [00:25<00:00,  1.26s/it]\n",
      "Loss=0.9703916907310486 Batch_id=19 Accuracy=59.99: 100%|██████████| 20/20 [00:25<00:00,  1.26s/it]\n",
      "Loss=0.9682250022888184 Batch_id=19 Accuracy=60.30: 100%|██████████| 20/20 [00:25<00:00,  1.26s/it]\n",
      "Loss=0.9928929805755615 Batch_id=19 Accuracy=60.47: 100%|██████████| 20/20 [00:25<00:00,  1.26s/it]\n"
     ]
    },
    {
     "name": "stdout",
     "output_type": "stream",
     "text": [
      "Epoch 00009: reducing learning rate of group 0 to 5.0000e-04.\n"
     ]
    },
    {
     "name": "stderr",
     "output_type": "stream",
     "text": [
      "Loss=0.9415150284767151 Batch_id=19 Accuracy=61.29: 100%|██████████| 20/20 [00:25<00:00,  1.25s/it]\n"
     ]
    },
    {
     "name": "stdout",
     "output_type": "stream",
     "text": [
      "Test set: Average loss: 0.6550, Accuracy: 7866/10000 (78.66%)\n",
      "\n",
      "--Skipping Acc Comp For Corrupted Data--\n",
      "Global Sparsity: 89.02% \n",
      "\n",
      "---------- Pruning Iteration:  22 / 44\n"
     ]
    },
    {
     "name": "stderr",
     "output_type": "stream",
     "text": [
      "Loss=1.1250817775726318 Batch_id=19 Accuracy=49.76: 100%|██████████| 20/20 [00:25<00:00,  1.26s/it]\n",
      "Loss=1.058524489402771 Batch_id=19 Accuracy=55.42: 100%|██████████| 20/20 [00:25<00:00,  1.26s/it] \n",
      "Loss=1.119227409362793 Batch_id=19 Accuracy=56.95: 100%|██████████| 20/20 [00:25<00:00,  1.26s/it] \n",
      "Loss=1.0222946405410767 Batch_id=19 Accuracy=57.98: 100%|██████████| 20/20 [00:25<00:00,  1.25s/it]\n",
      "Loss=0.9931333661079407 Batch_id=19 Accuracy=58.45: 100%|██████████| 20/20 [00:25<00:00,  1.25s/it]\n",
      "Loss=0.9936878085136414 Batch_id=19 Accuracy=59.03: 100%|██████████| 20/20 [00:25<00:00,  1.26s/it]\n",
      "Loss=0.9763399958610535 Batch_id=19 Accuracy=59.43: 100%|██████████| 20/20 [00:25<00:00,  1.25s/it]\n",
      "Loss=1.0001410245895386 Batch_id=19 Accuracy=59.11: 100%|██████████| 20/20 [00:24<00:00,  1.25s/it]\n",
      "Loss=0.9655595421791077 Batch_id=19 Accuracy=59.76: 100%|██████████| 20/20 [00:25<00:00,  1.26s/it]\n",
      "Loss=1.003846526145935 Batch_id=19 Accuracy=60.20: 100%|██████████| 20/20 [00:25<00:00,  1.26s/it] \n"
     ]
    },
    {
     "name": "stdout",
     "output_type": "stream",
     "text": [
      "Test set: Average loss: 0.6664, Accuracy: 7820/10000 (78.20%)\n",
      "\n",
      "--Testing Corruptions--\n"
     ]
    },
    {
     "name": "stderr",
     "output_type": "stream",
     "text": [
      "100%|██████████| 19/19 [03:03<00:00,  9.67s/it]\n"
     ]
    },
    {
     "name": "stdout",
     "output_type": "stream",
     "text": [
      "\n",
      "Avg Corruption Accuracy: 71.49%\n",
      "Global Sparsity: 90.11% \n",
      "\n",
      "---------- Pruning Iteration:  23 / 44\n"
     ]
    },
    {
     "name": "stderr",
     "output_type": "stream",
     "text": [
      "Loss=1.1532453298568726 Batch_id=19 Accuracy=49.14: 100%|██████████| 20/20 [00:25<00:00,  1.27s/it]\n",
      "Loss=1.0832356214523315 Batch_id=19 Accuracy=54.47: 100%|██████████| 20/20 [00:25<00:00,  1.27s/it]\n",
      "Loss=1.0208215713500977 Batch_id=19 Accuracy=56.34: 100%|██████████| 20/20 [00:25<00:00,  1.27s/it]\n",
      "Loss=1.0303508043289185 Batch_id=19 Accuracy=57.32: 100%|██████████| 20/20 [00:25<00:00,  1.27s/it]\n",
      "Loss=1.015663743019104 Batch_id=19 Accuracy=57.92: 100%|██████████| 20/20 [00:25<00:00,  1.27s/it] \n",
      "Loss=1.0412075519561768 Batch_id=19 Accuracy=58.10: 100%|██████████| 20/20 [00:25<00:00,  1.26s/it]\n",
      "Loss=0.9938902258872986 Batch_id=19 Accuracy=58.66: 100%|██████████| 20/20 [00:25<00:00,  1.27s/it]\n",
      "Loss=0.99140864610672 Batch_id=19 Accuracy=58.88: 100%|██████████| 20/20 [00:25<00:00,  1.27s/it]  \n",
      "Loss=1.0026441812515259 Batch_id=19 Accuracy=59.26: 100%|██████████| 20/20 [00:25<00:00,  1.27s/it]\n",
      "Loss=0.9995750784873962 Batch_id=19 Accuracy=59.25: 100%|██████████| 20/20 [00:25<00:00,  1.27s/it]\n"
     ]
    },
    {
     "name": "stdout",
     "output_type": "stream",
     "text": [
      "Test set: Average loss: 0.6735, Accuracy: 7850/10000 (78.50%)\n",
      "\n",
      "--Skipping Acc Comp For Corrupted Data--\n",
      "Global Sparsity: 91.10% \n",
      "\n",
      "---------- Pruning Iteration:  24 / 44\n"
     ]
    },
    {
     "name": "stderr",
     "output_type": "stream",
     "text": [
      "Loss=1.2155767679214478 Batch_id=19 Accuracy=48.46: 100%|██████████| 20/20 [00:25<00:00,  1.26s/it]\n",
      "Loss=1.1422590017318726 Batch_id=19 Accuracy=53.82: 100%|██████████| 20/20 [00:25<00:00,  1.27s/it]\n",
      "Loss=1.1194100379943848 Batch_id=19 Accuracy=55.66: 100%|██████████| 20/20 [00:25<00:00,  1.27s/it]\n",
      "Loss=1.1006171703338623 Batch_id=19 Accuracy=56.48: 100%|██████████| 20/20 [00:25<00:00,  1.27s/it]\n",
      "Loss=1.0408579111099243 Batch_id=19 Accuracy=57.02: 100%|██████████| 20/20 [00:25<00:00,  1.28s/it]\n",
      "Loss=0.9977157711982727 Batch_id=19 Accuracy=57.54: 100%|██████████| 20/20 [00:25<00:00,  1.27s/it]\n",
      "Loss=1.0394259691238403 Batch_id=19 Accuracy=58.12: 100%|██████████| 20/20 [00:25<00:00,  1.28s/it]\n",
      "Loss=0.9861899614334106 Batch_id=19 Accuracy=58.24: 100%|██████████| 20/20 [00:25<00:00,  1.27s/it]\n",
      "Loss=1.0489234924316406 Batch_id=19 Accuracy=58.65: 100%|██████████| 20/20 [00:25<00:00,  1.27s/it]\n",
      "Loss=1.0298975706100464 Batch_id=19 Accuracy=58.66: 100%|██████████| 20/20 [00:25<00:00,  1.27s/it]\n"
     ]
    },
    {
     "name": "stdout",
     "output_type": "stream",
     "text": [
      "Test set: Average loss: 0.6725, Accuracy: 7809/10000 (78.09%)\n",
      "\n",
      "--Skipping Acc Comp For Corrupted Data--\n",
      "Global Sparsity: 91.98% \n",
      "\n",
      "---------- Pruning Iteration:  25 / 44\n"
     ]
    },
    {
     "name": "stderr",
     "output_type": "stream",
     "text": [
      "Loss=1.1890467405319214 Batch_id=19 Accuracy=48.87: 100%|██████████| 20/20 [00:25<00:00,  1.27s/it]\n",
      "Loss=1.1422182321548462 Batch_id=19 Accuracy=53.37: 100%|██████████| 20/20 [00:25<00:00,  1.27s/it]\n",
      "Loss=1.06349778175354 Batch_id=19 Accuracy=54.90: 100%|██████████| 20/20 [00:25<00:00,  1.27s/it]  \n",
      "Loss=1.0574805736541748 Batch_id=19 Accuracy=55.72: 100%|██████████| 20/20 [00:25<00:00,  1.27s/it]\n",
      "Loss=1.069881796836853 Batch_id=19 Accuracy=56.45: 100%|██████████| 20/20 [00:25<00:00,  1.26s/it] \n",
      "Loss=1.0623184442520142 Batch_id=19 Accuracy=57.04: 100%|██████████| 20/20 [00:25<00:00,  1.27s/it]\n",
      "Loss=1.0317376852035522 Batch_id=19 Accuracy=57.24: 100%|██████████| 20/20 [00:25<00:00,  1.26s/it]\n",
      "Loss=1.006213903427124 Batch_id=19 Accuracy=57.53: 100%|██████████| 20/20 [00:25<00:00,  1.27s/it] \n",
      "Loss=1.064268708229065 Batch_id=19 Accuracy=57.72: 100%|██████████| 20/20 [00:25<00:00,  1.27s/it] \n",
      "Loss=1.0380723476409912 Batch_id=19 Accuracy=57.93: 100%|██████████| 20/20 [00:25<00:00,  1.27s/it]\n"
     ]
    },
    {
     "name": "stdout",
     "output_type": "stream",
     "text": [
      "Test set: Average loss: 0.6810, Accuracy: 7793/10000 (77.93%)\n",
      "\n",
      "--Skipping Acc Comp For Corrupted Data--\n",
      "Global Sparsity: 92.78% \n",
      "\n",
      "---------- Pruning Iteration:  26 / 44\n"
     ]
    },
    {
     "name": "stderr",
     "output_type": "stream",
     "text": [
      "Loss=1.2101631164550781 Batch_id=19 Accuracy=48.43: 100%|██████████| 20/20 [00:25<00:00,  1.27s/it]\n",
      "Loss=1.1292686462402344 Batch_id=19 Accuracy=53.04: 100%|██████████| 20/20 [00:25<00:00,  1.27s/it]\n",
      "Loss=1.1760176420211792 Batch_id=19 Accuracy=54.13: 100%|██████████| 20/20 [00:25<00:00,  1.26s/it]\n",
      "Loss=1.1025677919387817 Batch_id=19 Accuracy=55.03: 100%|██████████| 20/20 [00:25<00:00,  1.28s/it]\n",
      "Loss=1.1188061237335205 Batch_id=19 Accuracy=55.72: 100%|██████████| 20/20 [00:25<00:00,  1.27s/it]\n",
      "Loss=1.0982509851455688 Batch_id=19 Accuracy=56.16: 100%|██████████| 20/20 [00:25<00:00,  1.27s/it]\n",
      "Loss=1.0911113023757935 Batch_id=19 Accuracy=56.12: 100%|██████████| 20/20 [00:25<00:00,  1.28s/it]\n",
      "Loss=1.049430012702942 Batch_id=19 Accuracy=56.37: 100%|██████████| 20/20 [00:25<00:00,  1.27s/it] \n",
      "Loss=1.0929421186447144 Batch_id=19 Accuracy=56.82: 100%|██████████| 20/20 [00:25<00:00,  1.27s/it]\n",
      "Loss=1.09049391746521 Batch_id=19 Accuracy=57.09: 100%|██████████| 20/20 [00:25<00:00,  1.27s/it]  \n"
     ]
    },
    {
     "name": "stdout",
     "output_type": "stream",
     "text": [
      "Test set: Average loss: 0.6882, Accuracy: 7751/10000 (77.51%)\n",
      "\n",
      "--Skipping Acc Comp For Corrupted Data--\n",
      "Global Sparsity: 93.50% \n",
      "\n",
      "---------- Pruning Iteration:  27 / 44\n"
     ]
    },
    {
     "name": "stderr",
     "output_type": "stream",
     "text": [
      "Loss=1.2497185468673706 Batch_id=19 Accuracy=47.63: 100%|██████████| 20/20 [00:25<00:00,  1.27s/it]\n",
      "Loss=1.1663429737091064 Batch_id=19 Accuracy=52.31: 100%|██████████| 20/20 [00:25<00:00,  1.26s/it]\n",
      "Loss=1.1431114673614502 Batch_id=19 Accuracy=53.41: 100%|██████████| 20/20 [00:25<00:00,  1.26s/it]\n",
      "Loss=1.1292333602905273 Batch_id=19 Accuracy=54.26: 100%|██████████| 20/20 [00:25<00:00,  1.26s/it]\n",
      "Loss=1.1401931047439575 Batch_id=19 Accuracy=54.54: 100%|██████████| 20/20 [00:25<00:00,  1.26s/it]\n",
      "Loss=1.1186389923095703 Batch_id=19 Accuracy=55.01: 100%|██████████| 20/20 [00:25<00:00,  1.27s/it]\n",
      "Loss=1.0955126285552979 Batch_id=19 Accuracy=55.58: 100%|██████████| 20/20 [00:25<00:00,  1.27s/it]\n",
      "Loss=1.1097079515457153 Batch_id=19 Accuracy=55.52: 100%|██████████| 20/20 [00:25<00:00,  1.27s/it]\n",
      "Loss=1.0912249088287354 Batch_id=19 Accuracy=55.98: 100%|██████████| 20/20 [00:25<00:00,  1.26s/it]\n",
      "Loss=1.100838541984558 Batch_id=19 Accuracy=55.84: 100%|██████████| 20/20 [00:25<00:00,  1.27s/it] \n"
     ]
    },
    {
     "name": "stdout",
     "output_type": "stream",
     "text": [
      "Test set: Average loss: 0.6937, Accuracy: 7732/10000 (77.32%)\n",
      "\n",
      "--Skipping Acc Comp For Corrupted Data--\n",
      "Global Sparsity: 94.14% \n",
      "\n",
      "---------- Pruning Iteration:  28 / 44\n"
     ]
    },
    {
     "name": "stderr",
     "output_type": "stream",
     "text": [
      "Loss=1.2242450714111328 Batch_id=19 Accuracy=46.75: 100%|██████████| 20/20 [00:25<00:00,  1.27s/it]\n",
      "Loss=1.1926356554031372 Batch_id=19 Accuracy=51.48: 100%|██████████| 20/20 [00:25<00:00,  1.27s/it]\n",
      "Loss=1.1634737253189087 Batch_id=19 Accuracy=52.89: 100%|██████████| 20/20 [00:25<00:00,  1.27s/it]\n",
      "Loss=1.1045888662338257 Batch_id=19 Accuracy=53.67: 100%|██████████| 20/20 [00:25<00:00,  1.27s/it]\n",
      "Loss=1.1479440927505493 Batch_id=19 Accuracy=53.76: 100%|██████████| 20/20 [00:25<00:00,  1.27s/it]\n",
      "Loss=1.163011908531189 Batch_id=19 Accuracy=54.09: 100%|██████████| 20/20 [00:25<00:00,  1.26s/it] \n",
      "Loss=1.1224188804626465 Batch_id=19 Accuracy=54.54: 100%|██████████| 20/20 [00:25<00:00,  1.27s/it]\n"
     ]
    },
    {
     "name": "stdout",
     "output_type": "stream",
     "text": [
      "Epoch 00007: reducing learning rate of group 0 to 5.0000e-04.\n"
     ]
    },
    {
     "name": "stderr",
     "output_type": "stream",
     "text": [
      "Loss=1.1077533960342407 Batch_id=19 Accuracy=55.09: 100%|██████████| 20/20 [00:25<00:00,  1.27s/it]\n",
      "Loss=1.1047335863113403 Batch_id=19 Accuracy=55.51: 100%|██████████| 20/20 [00:25<00:00,  1.27s/it]\n",
      "Loss=1.1500802040100098 Batch_id=19 Accuracy=55.80: 100%|██████████| 20/20 [00:25<00:00,  1.28s/it]"
     ]
    },
    {
     "name": "stdout",
     "output_type": "stream",
     "text": [
      "Epoch 00010: reducing learning rate of group 0 to 2.5000e-05.\n"
     ]
    },
    {
     "name": "stderr",
     "output_type": "stream",
     "text": [
      "\n"
     ]
    },
    {
     "name": "stdout",
     "output_type": "stream",
     "text": [
      "Test set: Average loss: 0.6957, Accuracy: 7788/10000 (77.88%)\n",
      "\n",
      "--Testing Corruptions--\n"
     ]
    },
    {
     "name": "stderr",
     "output_type": "stream",
     "text": [
      "100%|██████████| 19/19 [03:10<00:00, 10.04s/it]\n"
     ]
    },
    {
     "name": "stdout",
     "output_type": "stream",
     "text": [
      "\n",
      "Avg Corruption Accuracy: 71.05%\n",
      "Global Sparsity: 94.72% \n",
      "\n",
      "---------- Pruning Iteration:  29 / 44\n"
     ]
    },
    {
     "name": "stderr",
     "output_type": "stream",
     "text": [
      "Loss=1.279988169670105 Batch_id=19 Accuracy=46.48: 100%|██████████| 20/20 [00:25<00:00,  1.29s/it] \n",
      "Loss=1.206614375114441 Batch_id=19 Accuracy=50.53: 100%|██████████| 20/20 [00:25<00:00,  1.28s/it] \n",
      "Loss=1.2038697004318237 Batch_id=19 Accuracy=51.89: 100%|██████████| 20/20 [00:25<00:00,  1.28s/it]\n",
      "Loss=1.1790708303451538 Batch_id=19 Accuracy=52.56: 100%|██████████| 20/20 [00:25<00:00,  1.28s/it]\n",
      "Loss=1.155436396598816 Batch_id=19 Accuracy=53.03: 100%|██████████| 20/20 [00:25<00:00,  1.28s/it] \n",
      "Loss=1.1727943420410156 Batch_id=19 Accuracy=53.26: 100%|██████████| 20/20 [00:25<00:00,  1.28s/it]\n",
      "Loss=1.1956230401992798 Batch_id=19 Accuracy=53.52: 100%|██████████| 20/20 [00:25<00:00,  1.28s/it]\n",
      "Loss=1.1304261684417725 Batch_id=19 Accuracy=53.83: 100%|██████████| 20/20 [00:25<00:00,  1.28s/it]\n",
      "Loss=1.1582508087158203 Batch_id=19 Accuracy=54.20: 100%|██████████| 20/20 [00:25<00:00,  1.28s/it]\n",
      "Loss=1.1247797012329102 Batch_id=19 Accuracy=54.27: 100%|██████████| 20/20 [00:25<00:00,  1.28s/it]\n"
     ]
    },
    {
     "name": "stdout",
     "output_type": "stream",
     "text": [
      "Test set: Average loss: 0.7088, Accuracy: 7741/10000 (77.41%)\n",
      "\n",
      "--Skipping Acc Comp For Corrupted Data--\n",
      "Global Sparsity: 95.25% \n",
      "\n",
      "---------- Pruning Iteration:  30 / 44\n"
     ]
    },
    {
     "name": "stderr",
     "output_type": "stream",
     "text": [
      "Loss=1.2890944480895996 Batch_id=19 Accuracy=45.07: 100%|██████████| 20/20 [00:25<00:00,  1.28s/it]\n",
      "Loss=1.2620090246200562 Batch_id=19 Accuracy=49.78: 100%|██████████| 20/20 [00:25<00:00,  1.28s/it]\n",
      "Loss=1.20667564868927 Batch_id=19 Accuracy=51.10: 100%|██████████| 20/20 [00:25<00:00,  1.28s/it]  \n",
      "Loss=1.213547945022583 Batch_id=19 Accuracy=51.78: 100%|██████████| 20/20 [00:25<00:00,  1.28s/it] \n",
      "Loss=1.165121078491211 Batch_id=19 Accuracy=52.12: 100%|██████████| 20/20 [00:25<00:00,  1.28s/it] \n",
      "Loss=1.1925947666168213 Batch_id=19 Accuracy=52.51: 100%|██████████| 20/20 [00:25<00:00,  1.28s/it]\n",
      "Loss=1.2039952278137207 Batch_id=19 Accuracy=52.65: 100%|██████████| 20/20 [00:25<00:00,  1.28s/it]\n",
      "Loss=1.1263679265975952 Batch_id=19 Accuracy=52.88: 100%|██████████| 20/20 [00:25<00:00,  1.28s/it]\n",
      "Loss=1.163482427597046 Batch_id=19 Accuracy=53.00: 100%|██████████| 20/20 [00:25<00:00,  1.28s/it] \n",
      "Loss=1.1995447874069214 Batch_id=19 Accuracy=53.20: 100%|██████████| 20/20 [00:25<00:00,  1.28s/it]\n"
     ]
    },
    {
     "name": "stdout",
     "output_type": "stream",
     "text": [
      "Test set: Average loss: 0.7320, Accuracy: 7613/10000 (76.13%)\n",
      "\n",
      "--Skipping Acc Comp For Corrupted Data--\n",
      "Global Sparsity: 95.72% \n",
      "\n",
      "---------- Pruning Iteration:  31 / 44\n"
     ]
    },
    {
     "name": "stderr",
     "output_type": "stream",
     "text": [
      "Loss=1.2985031604766846 Batch_id=19 Accuracy=45.31: 100%|██████████| 20/20 [00:25<00:00,  1.29s/it]\n",
      "Loss=1.2578867673873901 Batch_id=19 Accuracy=49.23: 100%|██████████| 20/20 [00:25<00:00,  1.28s/it]\n",
      "Loss=1.2166595458984375 Batch_id=19 Accuracy=50.53: 100%|██████████| 20/20 [00:25<00:00,  1.29s/it]\n",
      "Loss=1.236925482749939 Batch_id=19 Accuracy=50.93: 100%|██████████| 20/20 [00:25<00:00,  1.29s/it] \n",
      "Loss=1.1940510272979736 Batch_id=19 Accuracy=51.33: 100%|██████████| 20/20 [00:25<00:00,  1.28s/it]\n",
      "Loss=1.1977570056915283 Batch_id=19 Accuracy=51.72: 100%|██████████| 20/20 [00:25<00:00,  1.29s/it]\n",
      "Loss=1.2019799947738647 Batch_id=19 Accuracy=51.88: 100%|██████████| 20/20 [00:25<00:00,  1.28s/it]\n",
      "Loss=1.1693789958953857 Batch_id=19 Accuracy=52.28: 100%|██████████| 20/20 [00:25<00:00,  1.29s/it]\n",
      "Loss=1.1845537424087524 Batch_id=19 Accuracy=52.28: 100%|██████████| 20/20 [00:25<00:00,  1.28s/it]\n",
      "Loss=1.1517152786254883 Batch_id=19 Accuracy=52.64: 100%|██████████| 20/20 [00:25<00:00,  1.28s/it]\n"
     ]
    },
    {
     "name": "stdout",
     "output_type": "stream",
     "text": [
      "Test set: Average loss: 0.7431, Accuracy: 7644/10000 (76.44%)\n",
      "\n",
      "--Skipping Acc Comp For Corrupted Data--\n",
      "Global Sparsity: 96.14% \n",
      "\n",
      "---------- Pruning Iteration:  32 / 44\n"
     ]
    },
    {
     "name": "stderr",
     "output_type": "stream",
     "text": [
      "Loss=1.3303098678588867 Batch_id=19 Accuracy=44.80: 100%|██████████| 20/20 [00:25<00:00,  1.28s/it]\n",
      "Loss=1.2584648132324219 Batch_id=19 Accuracy=48.81: 100%|██████████| 20/20 [00:25<00:00,  1.28s/it]\n",
      "Loss=1.2468376159667969 Batch_id=19 Accuracy=49.81: 100%|██████████| 20/20 [00:25<00:00,  1.28s/it]\n",
      "Loss=1.2514257431030273 Batch_id=19 Accuracy=50.47: 100%|██████████| 20/20 [00:25<00:00,  1.28s/it]\n",
      "Loss=1.211875319480896 Batch_id=19 Accuracy=50.37: 100%|██████████| 20/20 [00:25<00:00,  1.27s/it] \n",
      "Loss=1.2132974863052368 Batch_id=19 Accuracy=50.96: 100%|██████████| 20/20 [00:25<00:00,  1.28s/it]\n",
      "Loss=1.2317997217178345 Batch_id=19 Accuracy=50.98: 100%|██████████| 20/20 [00:25<00:00,  1.29s/it]\n",
      "Loss=1.2158151865005493 Batch_id=19 Accuracy=51.20: 100%|██████████| 20/20 [00:25<00:00,  1.28s/it]\n"
     ]
    },
    {
     "name": "stdout",
     "output_type": "stream",
     "text": [
      "Epoch 00008: reducing learning rate of group 0 to 5.0000e-04.\n"
     ]
    },
    {
     "name": "stderr",
     "output_type": "stream",
     "text": [
      "Loss=1.164345383644104 Batch_id=19 Accuracy=51.56: 100%|██████████| 20/20 [00:25<00:00,  1.28s/it] \n",
      "Loss=1.1762372255325317 Batch_id=19 Accuracy=52.03: 100%|██████████| 20/20 [00:25<00:00,  1.28s/it]\n"
     ]
    },
    {
     "name": "stdout",
     "output_type": "stream",
     "text": [
      "Test set: Average loss: 0.7445, Accuracy: 7685/10000 (76.85%)\n",
      "\n",
      "--Skipping Acc Comp For Corrupted Data--\n",
      "Global Sparsity: 96.52% \n",
      "\n",
      "---------- Pruning Iteration:  33 / 44\n"
     ]
    },
    {
     "name": "stderr",
     "output_type": "stream",
     "text": [
      "Loss=1.3548369407653809 Batch_id=19 Accuracy=44.06: 100%|██████████| 20/20 [00:25<00:00,  1.28s/it]\n",
      "Loss=1.3153005838394165 Batch_id=19 Accuracy=47.74: 100%|██████████| 20/20 [00:25<00:00,  1.28s/it]\n",
      "Loss=1.2592252492904663 Batch_id=19 Accuracy=48.94: 100%|██████████| 20/20 [00:25<00:00,  1.28s/it]\n",
      "Loss=1.2661937475204468 Batch_id=19 Accuracy=49.37: 100%|██████████| 20/20 [00:25<00:00,  1.30s/it]\n",
      "Loss=1.2638413906097412 Batch_id=19 Accuracy=49.74: 100%|██████████| 20/20 [00:25<00:00,  1.28s/it]\n",
      "Loss=1.1989420652389526 Batch_id=19 Accuracy=50.05: 100%|██████████| 20/20 [00:25<00:00,  1.28s/it]\n",
      "Loss=1.264183521270752 Batch_id=19 Accuracy=50.30: 100%|██████████| 20/20 [00:25<00:00,  1.27s/it] \n",
      "Loss=1.2319914102554321 Batch_id=19 Accuracy=50.43: 100%|██████████| 20/20 [00:25<00:00,  1.28s/it]\n",
      "Loss=1.255896806716919 Batch_id=19 Accuracy=50.46: 100%|██████████| 20/20 [00:25<00:00,  1.28s/it] \n"
     ]
    },
    {
     "name": "stdout",
     "output_type": "stream",
     "text": [
      "Epoch 00009: reducing learning rate of group 0 to 5.0000e-04.\n"
     ]
    },
    {
     "name": "stderr",
     "output_type": "stream",
     "text": [
      "Loss=1.2403711080551147 Batch_id=19 Accuracy=50.82: 100%|██████████| 20/20 [00:25<00:00,  1.28s/it]\n"
     ]
    },
    {
     "name": "stdout",
     "output_type": "stream",
     "text": [
      "Test set: Average loss: 0.7574, Accuracy: 7642/10000 (76.42%)\n",
      "\n",
      "--Skipping Acc Comp For Corrupted Data--\n",
      "Global Sparsity: 96.87% \n",
      "\n",
      "---------- Pruning Iteration:  34 / 44\n"
     ]
    },
    {
     "name": "stderr",
     "output_type": "stream",
     "text": [
      "Loss=1.3706294298171997 Batch_id=19 Accuracy=43.34: 100%|██████████| 20/20 [00:25<00:00,  1.28s/it]\n",
      "Loss=1.3410162925720215 Batch_id=19 Accuracy=47.26: 100%|██████████| 20/20 [00:25<00:00,  1.28s/it]\n",
      "Loss=1.2673481702804565 Batch_id=19 Accuracy=48.31: 100%|██████████| 20/20 [00:25<00:00,  1.28s/it]\n",
      "Loss=1.2798608541488647 Batch_id=19 Accuracy=48.64: 100%|██████████| 20/20 [00:25<00:00,  1.28s/it]\n",
      "Loss=1.279538631439209 Batch_id=19 Accuracy=48.95: 100%|██████████| 20/20 [00:25<00:00,  1.28s/it] \n",
      "Loss=1.2963905334472656 Batch_id=19 Accuracy=49.23: 100%|██████████| 20/20 [00:25<00:00,  1.28s/it]\n"
     ]
    },
    {
     "name": "stdout",
     "output_type": "stream",
     "text": [
      "Epoch 00006: reducing learning rate of group 0 to 5.0000e-04.\n"
     ]
    },
    {
     "name": "stderr",
     "output_type": "stream",
     "text": [
      "Loss=1.2230675220489502 Batch_id=19 Accuracy=49.66: 100%|██████████| 20/20 [00:25<00:00,  1.27s/it]\n",
      "Loss=1.2643777132034302 Batch_id=19 Accuracy=49.50: 100%|██████████| 20/20 [00:25<00:00,  1.28s/it]\n",
      "Loss=1.2837278842926025 Batch_id=19 Accuracy=49.95: 100%|██████████| 20/20 [00:25<00:00,  1.28s/it]\n",
      "Loss=1.2242480516433716 Batch_id=19 Accuracy=49.82: 100%|██████████| 20/20 [00:25<00:00,  1.28s/it]"
     ]
    },
    {
     "name": "stdout",
     "output_type": "stream",
     "text": [
      "Epoch 00010: reducing learning rate of group 0 to 2.5000e-05.\n"
     ]
    },
    {
     "name": "stderr",
     "output_type": "stream",
     "text": [
      "\n"
     ]
    },
    {
     "name": "stdout",
     "output_type": "stream",
     "text": [
      "Test set: Average loss: 0.7791, Accuracy: 7567/10000 (75.67%)\n",
      "\n",
      "--Skipping Acc Comp For Corrupted Data--\n",
      "Global Sparsity: 97.17% \n",
      "\n",
      "---------- Pruning Iteration:  35 / 44\n"
     ]
    },
    {
     "name": "stderr",
     "output_type": "stream",
     "text": [
      "Loss=1.3561930656433105 Batch_id=19 Accuracy=42.59: 100%|██████████| 20/20 [00:25<00:00,  1.28s/it]\n",
      "Loss=1.3730236291885376 Batch_id=19 Accuracy=46.24: 100%|██████████| 20/20 [00:25<00:00,  1.27s/it]\n",
      "Loss=1.3516792058944702 Batch_id=19 Accuracy=47.15: 100%|██████████| 20/20 [00:25<00:00,  1.28s/it]\n",
      "Loss=1.3748573064804077 Batch_id=19 Accuracy=47.65: 100%|██████████| 20/20 [00:25<00:00,  1.28s/it]\n",
      "Loss=1.2941515445709229 Batch_id=19 Accuracy=47.92: 100%|██████████| 20/20 [00:25<00:00,  1.28s/it]\n",
      "Loss=1.3375847339630127 Batch_id=19 Accuracy=48.30: 100%|██████████| 20/20 [00:25<00:00,  1.28s/it]\n",
      "Loss=1.2911440134048462 Batch_id=19 Accuracy=48.38: 100%|██████████| 20/20 [00:25<00:00,  1.28s/it]\n",
      "Loss=1.2718766927719116 Batch_id=19 Accuracy=48.49: 100%|██████████| 20/20 [00:25<00:00,  1.28s/it]\n",
      "Loss=1.3359473943710327 Batch_id=19 Accuracy=48.69: 100%|██████████| 20/20 [00:25<00:00,  1.28s/it]\n",
      "Loss=1.2890207767486572 Batch_id=19 Accuracy=48.95: 100%|██████████| 20/20 [00:25<00:00,  1.28s/it]\n"
     ]
    },
    {
     "name": "stdout",
     "output_type": "stream",
     "text": [
      "Test set: Average loss: 0.7958, Accuracy: 7514/10000 (75.14%)\n",
      "\n",
      "--Skipping Acc Comp For Corrupted Data--\n",
      "Global Sparsity: 97.45% \n",
      "\n",
      "---------- Pruning Iteration:  36 / 44\n"
     ]
    },
    {
     "name": "stderr",
     "output_type": "stream",
     "text": [
      "Loss=1.4275329113006592 Batch_id=19 Accuracy=41.54: 100%|██████████| 20/20 [00:25<00:00,  1.28s/it]\n",
      "Loss=1.389460802078247 Batch_id=19 Accuracy=45.44: 100%|██████████| 20/20 [00:25<00:00,  1.28s/it] \n",
      "Loss=1.3839014768600464 Batch_id=19 Accuracy=46.73: 100%|██████████| 20/20 [00:25<00:00,  1.27s/it]\n",
      "Loss=1.3205291032791138 Batch_id=19 Accuracy=46.93: 100%|██████████| 20/20 [00:25<00:00,  1.29s/it]\n",
      "Loss=1.337408185005188 Batch_id=19 Accuracy=47.55: 100%|██████████| 20/20 [00:25<00:00,  1.28s/it] \n",
      "Loss=1.3138682842254639 Batch_id=19 Accuracy=47.70: 100%|██████████| 20/20 [00:25<00:00,  1.28s/it]\n",
      "Loss=1.3188191652297974 Batch_id=19 Accuracy=47.73: 100%|██████████| 20/20 [00:25<00:00,  1.28s/it]\n",
      "Loss=1.3215709924697876 Batch_id=19 Accuracy=47.84: 100%|██████████| 20/20 [00:25<00:00,  1.28s/it]\n",
      "Loss=1.286981225013733 Batch_id=19 Accuracy=48.11: 100%|██████████| 20/20 [00:25<00:00,  1.28s/it] \n",
      "Loss=1.3883697986602783 Batch_id=19 Accuracy=48.33: 100%|██████████| 20/20 [00:25<00:00,  1.28s/it]\n"
     ]
    },
    {
     "name": "stdout",
     "output_type": "stream",
     "text": [
      "Test set: Average loss: 0.8057, Accuracy: 7456/10000 (74.56%)\n",
      "\n",
      "--Skipping Acc Comp For Corrupted Data--\n",
      "Global Sparsity: 97.70% \n",
      "\n",
      "---------- Pruning Iteration:  37 / 44\n"
     ]
    },
    {
     "name": "stderr",
     "output_type": "stream",
     "text": [
      "Loss=1.4380360841751099 Batch_id=19 Accuracy=42.10: 100%|██████████| 20/20 [00:25<00:00,  1.28s/it]\n",
      "Loss=1.42513108253479 Batch_id=19 Accuracy=45.12: 100%|██████████| 20/20 [00:25<00:00,  1.28s/it]  \n",
      "Loss=1.3826053142547607 Batch_id=19 Accuracy=45.90: 100%|██████████| 20/20 [00:25<00:00,  1.28s/it]\n",
      "Loss=1.351426124572754 Batch_id=19 Accuracy=46.41: 100%|██████████| 20/20 [00:25<00:00,  1.27s/it] \n",
      "Loss=1.3590975999832153 Batch_id=19 Accuracy=46.75: 100%|██████████| 20/20 [00:25<00:00,  1.29s/it]\n",
      "Loss=1.3289316892623901 Batch_id=19 Accuracy=47.08: 100%|██████████| 20/20 [00:25<00:00,  1.28s/it]\n",
      "Loss=1.3233915567398071 Batch_id=19 Accuracy=47.10: 100%|██████████| 20/20 [00:25<00:00,  1.29s/it]\n",
      "Loss=1.3030128479003906 Batch_id=19 Accuracy=47.24: 100%|██████████| 20/20 [00:25<00:00,  1.28s/it]\n",
      "Loss=1.3190805912017822 Batch_id=19 Accuracy=47.41: 100%|██████████| 20/20 [00:25<00:00,  1.28s/it]\n",
      "Loss=1.3521398305892944 Batch_id=19 Accuracy=47.51: 100%|██████████| 20/20 [00:25<00:00,  1.29s/it]\n"
     ]
    },
    {
     "name": "stdout",
     "output_type": "stream",
     "text": [
      "Test set: Average loss: 0.8276, Accuracy: 7400/10000 (74.00%)\n",
      "\n",
      "--Skipping Acc Comp For Corrupted Data--\n",
      "Global Sparsity: 97.93% \n",
      "\n",
      "---------- Pruning Iteration:  38 / 44\n"
     ]
    },
    {
     "name": "stderr",
     "output_type": "stream",
     "text": [
      "Loss=1.455195665359497 Batch_id=19 Accuracy=41.41: 100%|██████████| 20/20 [00:25<00:00,  1.28s/it] \n",
      "Loss=1.3530032634735107 Batch_id=19 Accuracy=44.66: 100%|██████████| 20/20 [00:25<00:00,  1.28s/it]\n",
      "Loss=1.4032483100891113 Batch_id=19 Accuracy=45.37: 100%|██████████| 20/20 [00:25<00:00,  1.28s/it]\n",
      "Loss=1.3625701665878296 Batch_id=19 Accuracy=45.74: 100%|██████████| 20/20 [00:25<00:00,  1.28s/it]\n",
      "Loss=1.367855429649353 Batch_id=19 Accuracy=46.13: 100%|██████████| 20/20 [00:25<00:00,  1.28s/it] \n"
     ]
    },
    {
     "name": "stdout",
     "output_type": "stream",
     "text": [
      "Epoch 00005: reducing learning rate of group 0 to 5.0000e-04.\n"
     ]
    },
    {
     "name": "stderr",
     "output_type": "stream",
     "text": [
      "Loss=1.390083909034729 Batch_id=19 Accuracy=46.52: 100%|██████████| 20/20 [00:25<00:00,  1.27s/it] \n",
      "Loss=1.3280649185180664 Batch_id=19 Accuracy=46.49: 100%|██████████| 20/20 [00:25<00:00,  1.28s/it]\n",
      "Loss=1.3375775814056396 Batch_id=19 Accuracy=46.71: 100%|██████████| 20/20 [00:25<00:00,  1.28s/it]\n",
      "Loss=1.3792104721069336 Batch_id=19 Accuracy=46.34: 100%|██████████| 20/20 [00:25<00:00,  1.29s/it]\n",
      "Loss=1.374045491218567 Batch_id=19 Accuracy=46.64: 100%|██████████| 20/20 [00:25<00:00,  1.29s/it] "
     ]
    },
    {
     "name": "stdout",
     "output_type": "stream",
     "text": [
      "Epoch 00010: reducing learning rate of group 0 to 2.5000e-05.\n"
     ]
    },
    {
     "name": "stderr",
     "output_type": "stream",
     "text": [
      "\n"
     ]
    },
    {
     "name": "stdout",
     "output_type": "stream",
     "text": [
      "Test set: Average loss: 0.8428, Accuracy: 7390/10000 (73.90%)\n",
      "\n",
      "--Skipping Acc Comp For Corrupted Data--\n",
      "Global Sparsity: 98.13% \n",
      "\n",
      "---------- Pruning Iteration:  39 / 44\n"
     ]
    },
    {
     "name": "stderr",
     "output_type": "stream",
     "text": [
      "Loss=1.459031105041504 Batch_id=19 Accuracy=41.06: 100%|██████████| 20/20 [00:25<00:00,  1.27s/it] \n",
      "Loss=1.4659024477005005 Batch_id=19 Accuracy=44.16: 100%|██████████| 20/20 [00:25<00:00,  1.28s/it]\n",
      "Loss=1.3910459280014038 Batch_id=19 Accuracy=44.78: 100%|██████████| 20/20 [00:25<00:00,  1.28s/it]\n",
      "Loss=1.4277929067611694 Batch_id=19 Accuracy=45.02: 100%|██████████| 20/20 [00:25<00:00,  1.28s/it]\n",
      "Loss=1.3796095848083496 Batch_id=19 Accuracy=45.21: 100%|██████████| 20/20 [00:26<00:00,  1.32s/it]\n",
      "Loss=1.3922322988510132 Batch_id=19 Accuracy=45.36: 100%|██████████| 20/20 [00:26<00:00,  1.32s/it]\n",
      "Loss=1.3650859594345093 Batch_id=19 Accuracy=45.39: 100%|██████████| 20/20 [00:26<00:00,  1.34s/it]\n",
      "Loss=1.3903403282165527 Batch_id=19 Accuracy=45.70: 100%|██████████| 20/20 [00:26<00:00,  1.32s/it]\n",
      "Loss=1.4357249736785889 Batch_id=19 Accuracy=45.97: 100%|██████████| 20/20 [00:26<00:00,  1.32s/it]\n",
      "Loss=1.394766092300415 Batch_id=19 Accuracy=46.04: 100%|██████████| 20/20 [00:26<00:00,  1.31s/it] "
     ]
    },
    {
     "name": "stdout",
     "output_type": "stream",
     "text": [
      "Epoch 00010: reducing learning rate of group 0 to 5.0000e-04.\n"
     ]
    },
    {
     "name": "stderr",
     "output_type": "stream",
     "text": [
      "\n"
     ]
    },
    {
     "name": "stdout",
     "output_type": "stream",
     "text": [
      "Test set: Average loss: 0.8567, Accuracy: 7323/10000 (73.23%)\n",
      "\n",
      "--Skipping Acc Comp For Corrupted Data--\n",
      "Global Sparsity: 98.31% \n",
      "\n",
      "---------- Pruning Iteration:  40 / 44\n"
     ]
    },
    {
     "name": "stderr",
     "output_type": "stream",
     "text": [
      "Loss=1.4854403734207153 Batch_id=19 Accuracy=39.35: 100%|██████████| 20/20 [00:26<00:00,  1.31s/it]\n",
      "Loss=1.442023515701294 Batch_id=19 Accuracy=43.19: 100%|██████████| 20/20 [00:26<00:00,  1.31s/it] \n",
      "Loss=1.429257869720459 Batch_id=19 Accuracy=43.99: 100%|██████████| 20/20 [00:26<00:00,  1.31s/it] \n",
      "Loss=1.435279130935669 Batch_id=19 Accuracy=44.38: 100%|██████████| 20/20 [00:26<00:00,  1.31s/it] \n",
      "Loss=1.4658637046813965 Batch_id=19 Accuracy=44.75: 100%|██████████| 20/20 [00:26<00:00,  1.31s/it]\n",
      "Loss=1.4137440919876099 Batch_id=19 Accuracy=44.93: 100%|██████████| 20/20 [00:26<00:00,  1.31s/it]\n",
      "Loss=1.3940305709838867 Batch_id=19 Accuracy=44.97: 100%|██████████| 20/20 [00:26<00:00,  1.31s/it]\n",
      "Loss=1.4153276681900024 Batch_id=19 Accuracy=45.20: 100%|██████████| 20/20 [00:26<00:00,  1.30s/it]\n",
      "Loss=1.3665305376052856 Batch_id=19 Accuracy=45.43: 100%|██████████| 20/20 [00:26<00:00,  1.32s/it]\n",
      "Loss=1.4453744888305664 Batch_id=19 Accuracy=45.16: 100%|██████████| 20/20 [00:26<00:00,  1.33s/it]\n"
     ]
    },
    {
     "name": "stdout",
     "output_type": "stream",
     "text": [
      "Test set: Average loss: 0.8710, Accuracy: 7255/10000 (72.55%)\n",
      "\n",
      "--Skipping Acc Comp For Corrupted Data--\n",
      "Global Sparsity: 98.48% \n",
      "\n",
      "---------- Pruning Iteration:  41 / 44\n"
     ]
    },
    {
     "name": "stderr",
     "output_type": "stream",
     "text": [
      "Loss=1.4999512434005737 Batch_id=19 Accuracy=39.59: 100%|██████████| 20/20 [00:26<00:00,  1.31s/it]\n",
      "Loss=1.463608980178833 Batch_id=19 Accuracy=42.92: 100%|██████████| 20/20 [00:26<00:00,  1.31s/it] \n",
      "Loss=1.4575774669647217 Batch_id=19 Accuracy=43.51: 100%|██████████| 20/20 [00:26<00:00,  1.32s/it]\n",
      "Loss=1.4322723150253296 Batch_id=19 Accuracy=43.82: 100%|██████████| 20/20 [00:26<00:00,  1.32s/it]\n",
      "Loss=1.4274717569351196 Batch_id=19 Accuracy=43.70: 100%|██████████| 20/20 [00:26<00:00,  1.32s/it]\n",
      "Loss=1.4717479944229126 Batch_id=19 Accuracy=44.17: 100%|██████████| 20/20 [00:26<00:00,  1.31s/it]\n",
      "Loss=1.4257136583328247 Batch_id=19 Accuracy=44.35: 100%|██████████| 20/20 [00:26<00:00,  1.31s/it]\n",
      "Loss=1.4447752237319946 Batch_id=19 Accuracy=44.18: 100%|██████████| 20/20 [00:26<00:00,  1.32s/it]\n",
      "Loss=1.4322571754455566 Batch_id=19 Accuracy=44.44: 100%|██████████| 20/20 [00:26<00:00,  1.32s/it]\n",
      "Loss=1.4001636505126953 Batch_id=19 Accuracy=44.66: 100%|██████████| 20/20 [00:26<00:00,  1.32s/it]\n"
     ]
    },
    {
     "name": "stdout",
     "output_type": "stream",
     "text": [
      "Test set: Average loss: 0.8905, Accuracy: 7283/10000 (72.83%)\n",
      "\n",
      "--Skipping Acc Comp For Corrupted Data--\n",
      "Global Sparsity: 98.62% \n",
      "\n",
      "---------- Pruning Iteration:  42 / 44\n"
     ]
    },
    {
     "name": "stderr",
     "output_type": "stream",
     "text": [
      "Loss=1.4942654371261597 Batch_id=19 Accuracy=39.53: 100%|██████████| 20/20 [00:26<00:00,  1.31s/it]\n",
      "Loss=1.4446301460266113 Batch_id=19 Accuracy=42.38: 100%|██████████| 20/20 [00:26<00:00,  1.31s/it]\n",
      "Loss=1.45899498462677 Batch_id=19 Accuracy=43.16: 100%|██████████| 20/20 [00:26<00:00,  1.32s/it]  \n",
      "Loss=1.457041621208191 Batch_id=19 Accuracy=43.39: 100%|██████████| 20/20 [00:26<00:00,  1.32s/it] \n",
      "Loss=1.4736220836639404 Batch_id=19 Accuracy=43.48: 100%|██████████| 20/20 [00:26<00:00,  1.31s/it]\n"
     ]
    },
    {
     "name": "stdout",
     "output_type": "stream",
     "text": [
      "Epoch 00005: reducing learning rate of group 0 to 5.0000e-04.\n"
     ]
    },
    {
     "name": "stderr",
     "output_type": "stream",
     "text": [
      "Loss=1.4608923196792603 Batch_id=19 Accuracy=43.71: 100%|██████████| 20/20 [00:26<00:00,  1.32s/it]\n",
      "Loss=1.4752943515777588 Batch_id=19 Accuracy=44.11: 100%|██████████| 20/20 [00:26<00:00,  1.31s/it]\n",
      "Loss=1.440428614616394 Batch_id=19 Accuracy=43.87: 100%|██████████| 20/20 [00:26<00:00,  1.32s/it] \n",
      "Loss=1.4754936695098877 Batch_id=19 Accuracy=43.88: 100%|██████████| 20/20 [00:26<00:00,  1.32s/it]\n",
      "Loss=1.427878737449646 Batch_id=19 Accuracy=43.86: 100%|██████████| 20/20 [00:25<00:00,  1.29s/it] \n"
     ]
    },
    {
     "name": "stdout",
     "output_type": "stream",
     "text": [
      "Test set: Average loss: 0.9073, Accuracy: 7192/10000 (71.92%)\n",
      "\n",
      "--Skipping Acc Comp For Corrupted Data--\n",
      "Global Sparsity: 98.76% \n",
      "\n",
      "---------- Pruning Iteration:  43 / 44\n"
     ]
    },
    {
     "name": "stderr",
     "output_type": "stream",
     "text": [
      "Loss=1.519379734992981 Batch_id=19 Accuracy=39.20: 100%|██████████| 20/20 [00:25<00:00,  1.28s/it] \n",
      "Loss=1.4872373342514038 Batch_id=19 Accuracy=41.65: 100%|██████████| 20/20 [00:25<00:00,  1.28s/it]\n",
      "Loss=1.4434142112731934 Batch_id=19 Accuracy=42.35: 100%|██████████| 20/20 [00:25<00:00,  1.29s/it]\n",
      "Loss=1.4780009984970093 Batch_id=19 Accuracy=42.48: 100%|██████████| 20/20 [00:25<00:00,  1.29s/it]\n",
      "Loss=1.4928314685821533 Batch_id=19 Accuracy=42.57: 100%|██████████| 20/20 [00:25<00:00,  1.28s/it]\n",
      "Loss=1.4394524097442627 Batch_id=19 Accuracy=42.80: 100%|██████████| 20/20 [00:25<00:00,  1.29s/it]\n",
      "Loss=1.4918880462646484 Batch_id=19 Accuracy=43.03: 100%|██████████| 20/20 [00:25<00:00,  1.29s/it]\n",
      "Loss=1.4977819919586182 Batch_id=19 Accuracy=43.11: 100%|██████████| 20/20 [00:25<00:00,  1.29s/it]\n",
      "Loss=1.4726437330245972 Batch_id=19 Accuracy=43.26: 100%|██████████| 20/20 [00:25<00:00,  1.28s/it]\n"
     ]
    },
    {
     "name": "stdout",
     "output_type": "stream",
     "text": [
      "Epoch 00009: reducing learning rate of group 0 to 5.0000e-04.\n"
     ]
    },
    {
     "name": "stderr",
     "output_type": "stream",
     "text": [
      "Loss=1.4664708375930786 Batch_id=19 Accuracy=43.37: 100%|██████████| 20/20 [00:25<00:00,  1.29s/it]\n"
     ]
    },
    {
     "name": "stdout",
     "output_type": "stream",
     "text": [
      "Test set: Average loss: 0.9231, Accuracy: 7108/10000 (71.08%)\n",
      "\n",
      "--Skipping Acc Comp For Corrupted Data--\n",
      "Global Sparsity: 98.88% \n",
      "\n",
      "---------- Pruning Iteration:  44 / 44\n"
     ]
    },
    {
     "name": "stderr",
     "output_type": "stream",
     "text": [
      "Loss=1.5397026538848877 Batch_id=19 Accuracy=38.38: 100%|██████████| 20/20 [00:25<00:00,  1.28s/it]\n",
      "Loss=1.5325747728347778 Batch_id=19 Accuracy=40.92: 100%|██████████| 20/20 [00:25<00:00,  1.29s/it]\n",
      "Loss=1.5026304721832275 Batch_id=19 Accuracy=41.59: 100%|██████████| 20/20 [00:25<00:00,  1.28s/it]\n",
      "Loss=1.4436805248260498 Batch_id=19 Accuracy=41.98: 100%|██████████| 20/20 [00:25<00:00,  1.27s/it]\n",
      "Loss=1.521492838859558 Batch_id=19 Accuracy=42.20: 100%|██████████| 20/20 [00:25<00:00,  1.28s/it] \n",
      "Loss=1.5169295072555542 Batch_id=19 Accuracy=42.30: 100%|██████████| 20/20 [00:25<00:00,  1.28s/it]\n",
      "Loss=1.4600921869277954 Batch_id=19 Accuracy=42.41: 100%|██████████| 20/20 [00:25<00:00,  1.29s/it]\n"
     ]
    },
    {
     "name": "stdout",
     "output_type": "stream",
     "text": [
      "Epoch 00007: reducing learning rate of group 0 to 5.0000e-04.\n"
     ]
    },
    {
     "name": "stderr",
     "output_type": "stream",
     "text": [
      "Loss=1.5279853343963623 Batch_id=19 Accuracy=42.57: 100%|██████████| 20/20 [00:25<00:00,  1.29s/it]\n",
      "Loss=1.4354240894317627 Batch_id=19 Accuracy=42.67: 100%|██████████| 20/20 [00:25<00:00,  1.29s/it]\n",
      "Loss=1.4893906116485596 Batch_id=19 Accuracy=42.63: 100%|██████████| 20/20 [00:25<00:00,  1.29s/it]\n"
     ]
    },
    {
     "name": "stdout",
     "output_type": "stream",
     "text": [
      "Test set: Average loss: 0.9456, Accuracy: 7021/10000 (70.21%)\n",
      "\n",
      "--Testing Corruptions--\n"
     ]
    },
    {
     "name": "stderr",
     "output_type": "stream",
     "text": [
      "100%|██████████| 19/19 [03:23<00:00, 10.69s/it]"
     ]
    },
    {
     "name": "stdout",
     "output_type": "stream",
     "text": [
      "\n",
      "Avg Corruption Accuracy: 64.26%\n",
      "Global Sparsity: 98.98% \n",
      "\n"
     ]
    },
    {
     "name": "stderr",
     "output_type": "stream",
     "text": [
      "\n"
     ]
    }
   ],
   "source": [
    "#Network weights\n",
    "ResNet18_CIFAR10_Weights= torch.load(\"./Networks/ResNet18_CIFAR10_V0_Adversarial_ep_3p.pt\")\n",
    "ResNet18_CIFAR10_0P=ResNet18_CIFAR10_Model()\n",
    "ResNet18_CIFAR10_0P.load_state_dict(ResNet18_CIFAR10_Weights)\n",
    "\n",
    "model=copy.deepcopy(ResNet18_CIFAR10_0P)\n",
    "TrainLoader=trainloader_CIFAR10\n",
    "TestLoader=testloader_CIFAR10\n",
    "TestCLoader=loader_CIFAR10C\n",
    "PruningRate=0.1\n",
    "NumEpochsEachPruneRetrain=10\n",
    "MaximumPruneLevel=0.01\n",
    "lambda_l1=0\n",
    "lambda_l2=0.0005\n",
    "\n",
    "epsilon=0.03\n",
    "mean=MeanCIFAR10\n",
    "std=StdCIFAR10\n",
    "\n",
    "\n",
    "SaveTrainStepsName=\"Progress/PruningIterations_ResNet18_CIFAR10_V0_Adversarial_ep_3p_01PR_10Epochs_L2_0005\"\n",
    "\n",
    "\n",
    "ReadMe=\"This model is running pruning with the standard cost function, and the non corrupted dataset, a prunning rate of 0.1 and 10 epoch of retraining\\\n",
    "L2 Regularization of 0.0005 is used\\n\\nOriginal Model: ResNet18 Trained with CIFAR10 Dataset with Adversarial training (Before and During Pruning) with epsilon=0.03\\n\"\n",
    "\n",
    "test_acc, Avg_Corrup_Acc_List, Acc_Corruptions, RemainingWeights_List, Sparcity_List=iterative_pruning(model,device, TrainLoader, TestLoader, TestCLoader, PruningRate, SaveTrainStepsName,ReadMe,\n",
    "                                                                                                         epsilon, mean, std, lambda_l1, lambda_l2, NumEpochsEachPruneRetrain,MaximumPruneLevel)"
   ]
  },
  {
   "cell_type": "code",
   "execution_count": 4,
   "metadata": {},
   "outputs": [
    {
     "name": "stdout",
     "output_type": "stream",
     "text": [
      "--Get statistics before pruning--\n",
      "Train set: Average loss: 0.3384, Accuracy: 45442/50000 (90.88%)\n",
      "Test set: Average loss: 0.4362, Accuracy: 8528/10000 (85.28%)\n",
      "\n",
      "--Testing Corruptions--\n"
     ]
    },
    {
     "name": "stderr",
     "output_type": "stream",
     "text": [
      "100%|██████████| 19/19 [03:21<00:00, 10.59s/it]\n"
     ]
    },
    {
     "name": "stdout",
     "output_type": "stream",
     "text": [
      "\n",
      "Avg Corruption Accuracy: 77.23%\n",
      "---------- Pruning Iteration:  1 / 44\n"
     ]
    },
    {
     "name": "stderr",
     "output_type": "stream",
     "text": [
      "Loss=0.7307682633399963 Batch_id=19 Accuracy=72.37: 100%|██████████| 20/20 [00:26<00:00,  1.32s/it]\n",
      "Loss=0.6831562519073486 Batch_id=19 Accuracy=72.32: 100%|██████████| 20/20 [00:26<00:00,  1.32s/it]\n",
      "Loss=0.669631838798523 Batch_id=19 Accuracy=72.59: 100%|██████████| 20/20 [00:26<00:00,  1.32s/it] \n",
      "Loss=0.7013301849365234 Batch_id=19 Accuracy=73.11: 100%|██████████| 20/20 [00:26<00:00,  1.33s/it]\n",
      "Loss=0.7148966789245605 Batch_id=19 Accuracy=73.18: 100%|██████████| 20/20 [00:26<00:00,  1.32s/it]\n",
      "Loss=0.6963679790496826 Batch_id=19 Accuracy=73.43: 100%|██████████| 20/20 [00:26<00:00,  1.32s/it]\n"
     ]
    },
    {
     "name": "stdout",
     "output_type": "stream",
     "text": [
      "Epoch 00006: reducing learning rate of group 0 to 5.0000e-04.\n"
     ]
    },
    {
     "name": "stderr",
     "output_type": "stream",
     "text": [
      "Loss=0.6363528966903687 Batch_id=19 Accuracy=74.34: 100%|██████████| 20/20 [00:26<00:00,  1.32s/it]\n",
      "Loss=0.6270042657852173 Batch_id=19 Accuracy=74.62: 100%|██████████| 20/20 [00:26<00:00,  1.32s/it]\n",
      "Loss=0.6510456800460815 Batch_id=19 Accuracy=74.47: 100%|██████████| 20/20 [00:26<00:00,  1.31s/it]\n",
      "Loss=0.6794221997261047 Batch_id=19 Accuracy=74.74: 100%|██████████| 20/20 [00:26<00:00,  1.32s/it]\n"
     ]
    },
    {
     "name": "stdout",
     "output_type": "stream",
     "text": [
      "Test set: Average loss: 0.4207, Accuracy: 8571/10000 (85.71%)\n",
      "\n",
      "--Testing Corruptions--\n"
     ]
    },
    {
     "name": "stderr",
     "output_type": "stream",
     "text": [
      "100%|██████████| 19/19 [03:36<00:00, 11.39s/it]\n"
     ]
    },
    {
     "name": "stdout",
     "output_type": "stream",
     "text": [
      "\n",
      "Avg Corruption Accuracy: 77.66%\n",
      "Global Sparsity: 10.00% \n",
      "\n",
      "---------- Pruning Iteration:  2 / 44\n"
     ]
    },
    {
     "name": "stderr",
     "output_type": "stream",
     "text": [
      "Loss=0.6684414744377136 Batch_id=19 Accuracy=74.13: 100%|██████████| 20/20 [00:26<00:00,  1.34s/it]\n",
      "Loss=0.6433418989181519 Batch_id=19 Accuracy=74.39: 100%|██████████| 20/20 [00:26<00:00,  1.33s/it]\n",
      "Loss=0.6652705669403076 Batch_id=19 Accuracy=74.49: 100%|██████████| 20/20 [00:26<00:00,  1.34s/it]\n",
      "Loss=0.6388473510742188 Batch_id=19 Accuracy=74.72: 100%|██████████| 20/20 [00:26<00:00,  1.33s/it]\n",
      "Loss=0.6252063512802124 Batch_id=19 Accuracy=74.88: 100%|██████████| 20/20 [00:26<00:00,  1.32s/it]\n",
      "Loss=0.6456930041313171 Batch_id=19 Accuracy=75.10: 100%|██████████| 20/20 [00:26<00:00,  1.33s/it]\n",
      "Loss=0.620671808719635 Batch_id=19 Accuracy=75.47: 100%|██████████| 20/20 [00:26<00:00,  1.33s/it] \n",
      "Loss=0.6410526037216187 Batch_id=19 Accuracy=75.75: 100%|██████████| 20/20 [00:26<00:00,  1.34s/it]\n",
      "Loss=0.6359832882881165 Batch_id=19 Accuracy=76.05: 100%|██████████| 20/20 [00:26<00:00,  1.34s/it]\n",
      "Loss=0.6082550287246704 Batch_id=19 Accuracy=76.32: 100%|██████████| 20/20 [00:26<00:00,  1.33s/it]\n"
     ]
    },
    {
     "name": "stdout",
     "output_type": "stream",
     "text": [
      "Test set: Average loss: 0.4266, Accuracy: 8545/10000 (85.45%)\n",
      "\n",
      "--Testing Corruptions--\n"
     ]
    },
    {
     "name": "stderr",
     "output_type": "stream",
     "text": [
      "100%|██████████| 19/19 [03:38<00:00, 11.49s/it]\n"
     ]
    },
    {
     "name": "stdout",
     "output_type": "stream",
     "text": [
      "\n",
      "Avg Corruption Accuracy: 76.91%\n",
      "Global Sparsity: 18.99% \n",
      "\n",
      "---------- Pruning Iteration:  3 / 44\n"
     ]
    },
    {
     "name": "stderr",
     "output_type": "stream",
     "text": [
      "Loss=0.6102434396743774 Batch_id=19 Accuracy=76.91: 100%|██████████| 20/20 [00:26<00:00,  1.35s/it]\n",
      "Loss=0.5713165998458862 Batch_id=19 Accuracy=77.10: 100%|██████████| 20/20 [00:26<00:00,  1.35s/it]\n",
      "Loss=0.6245492100715637 Batch_id=19 Accuracy=76.99: 100%|██████████| 20/20 [00:26<00:00,  1.34s/it]\n",
      "Loss=0.5374194979667664 Batch_id=19 Accuracy=77.76: 100%|██████████| 20/20 [00:26<00:00,  1.34s/it]\n",
      "Loss=0.5599516034126282 Batch_id=19 Accuracy=77.67: 100%|██████████| 20/20 [00:26<00:00,  1.34s/it]\n",
      "Loss=0.5634859204292297 Batch_id=19 Accuracy=78.06: 100%|██████████| 20/20 [00:26<00:00,  1.34s/it]\n",
      "Loss=0.5518530607223511 Batch_id=19 Accuracy=78.28: 100%|██████████| 20/20 [00:26<00:00,  1.34s/it]\n"
     ]
    },
    {
     "name": "stdout",
     "output_type": "stream",
     "text": [
      "Epoch 00007: reducing learning rate of group 0 to 5.0000e-04.\n"
     ]
    },
    {
     "name": "stderr",
     "output_type": "stream",
     "text": [
      "Loss=0.4975411295890808 Batch_id=19 Accuracy=79.07: 100%|██████████| 20/20 [00:26<00:00,  1.34s/it]\n",
      "Loss=0.5226896405220032 Batch_id=19 Accuracy=79.93: 100%|██████████| 20/20 [00:26<00:00,  1.34s/it]\n",
      "Loss=0.5220190286636353 Batch_id=19 Accuracy=79.84: 100%|██████████| 20/20 [00:26<00:00,  1.34s/it]\n"
     ]
    },
    {
     "name": "stdout",
     "output_type": "stream",
     "text": [
      "Test set: Average loss: 0.4026, Accuracy: 8629/10000 (86.29%)\n",
      "\n",
      "--Testing Corruptions--\n"
     ]
    },
    {
     "name": "stderr",
     "output_type": "stream",
     "text": [
      "100%|██████████| 19/19 [03:28<00:00, 10.96s/it]\n"
     ]
    },
    {
     "name": "stdout",
     "output_type": "stream",
     "text": [
      "\n",
      "Avg Corruption Accuracy: 78.28%\n",
      "Global Sparsity: 27.09% \n",
      "\n",
      "---------- Pruning Iteration:  4 / 44\n"
     ]
    },
    {
     "name": "stderr",
     "output_type": "stream",
     "text": [
      "Loss=0.5265244245529175 Batch_id=19 Accuracy=78.83: 100%|██████████| 20/20 [00:27<00:00,  1.35s/it]\n",
      "Loss=0.5478126406669617 Batch_id=19 Accuracy=79.04: 100%|██████████| 20/20 [00:26<00:00,  1.34s/it]\n",
      "Loss=0.5468192100524902 Batch_id=19 Accuracy=79.50: 100%|██████████| 20/20 [00:27<00:00,  1.35s/it]\n",
      "Loss=0.562859833240509 Batch_id=19 Accuracy=79.40: 100%|██████████| 20/20 [00:27<00:00,  1.36s/it] \n"
     ]
    },
    {
     "name": "stdout",
     "output_type": "stream",
     "text": [
      "Epoch 00004: reducing learning rate of group 0 to 5.0000e-04.\n"
     ]
    },
    {
     "name": "stderr",
     "output_type": "stream",
     "text": [
      "Loss=0.51429283618927 Batch_id=19 Accuracy=80.70: 100%|██████████| 20/20 [00:27<00:00,  1.35s/it]   \n",
      "Loss=0.47275465726852417 Batch_id=19 Accuracy=80.91: 100%|██████████| 20/20 [00:27<00:00,  1.35s/it]\n",
      "Loss=0.5208126306533813 Batch_id=19 Accuracy=81.16: 100%|██████████| 20/20 [00:27<00:00,  1.36s/it] \n",
      "Loss=0.5364495515823364 Batch_id=19 Accuracy=80.94: 100%|██████████| 20/20 [00:27<00:00,  1.36s/it] \n",
      "Loss=0.48441481590270996 Batch_id=19 Accuracy=81.35: 100%|██████████| 20/20 [00:27<00:00,  1.35s/it]\n"
     ]
    },
    {
     "name": "stdout",
     "output_type": "stream",
     "text": [
      "Epoch 00009: reducing learning rate of group 0 to 2.5000e-05.\n"
     ]
    },
    {
     "name": "stderr",
     "output_type": "stream",
     "text": [
      "Loss=0.5026509165763855 Batch_id=19 Accuracy=81.49: 100%|██████████| 20/20 [00:27<00:00,  1.35s/it] \n"
     ]
    },
    {
     "name": "stdout",
     "output_type": "stream",
     "text": [
      "Test set: Average loss: 0.4016, Accuracy: 8644/10000 (86.44%)\n",
      "\n",
      "--Skipping Acc Comp For Corrupted Data--\n",
      "Global Sparsity: 34.37% \n",
      "\n",
      "---------- Pruning Iteration:  5 / 44\n"
     ]
    },
    {
     "name": "stderr",
     "output_type": "stream",
     "text": [
      "Loss=0.5592266917228699 Batch_id=19 Accuracy=79.69: 100%|██████████| 20/20 [00:27<00:00,  1.35s/it]\n",
      "Loss=0.5107178092002869 Batch_id=19 Accuracy=79.70: 100%|██████████| 20/20 [00:27<00:00,  1.35s/it]\n",
      "Loss=0.49762892723083496 Batch_id=19 Accuracy=80.32: 100%|██████████| 20/20 [00:27<00:00,  1.36s/it]\n",
      "Loss=0.5225393176078796 Batch_id=19 Accuracy=80.39: 100%|██████████| 20/20 [00:27<00:00,  1.36s/it] \n",
      "Loss=0.48353999853134155 Batch_id=19 Accuracy=80.39: 100%|██████████| 20/20 [00:27<00:00,  1.36s/it]\n",
      "Loss=0.49020978808403015 Batch_id=19 Accuracy=80.58: 100%|██████████| 20/20 [00:27<00:00,  1.36s/it]\n",
      "Loss=0.5065649747848511 Batch_id=19 Accuracy=81.00: 100%|██████████| 20/20 [00:27<00:00,  1.35s/it] \n",
      "Loss=0.4812561869621277 Batch_id=19 Accuracy=81.15: 100%|██████████| 20/20 [00:27<00:00,  1.35s/it] \n",
      "Loss=0.46559765934944153 Batch_id=19 Accuracy=81.67: 100%|██████████| 20/20 [00:26<00:00,  1.35s/it]\n",
      "Loss=0.44424042105674744 Batch_id=19 Accuracy=81.94: 100%|██████████| 20/20 [00:27<00:00,  1.35s/it]\n"
     ]
    },
    {
     "name": "stdout",
     "output_type": "stream",
     "text": [
      "Test set: Average loss: 0.4212, Accuracy: 8597/10000 (85.97%)\n",
      "\n",
      "--Testing Corruptions--\n"
     ]
    },
    {
     "name": "stderr",
     "output_type": "stream",
     "text": [
      "100%|██████████| 19/19 [03:37<00:00, 11.44s/it]\n"
     ]
    },
    {
     "name": "stdout",
     "output_type": "stream",
     "text": [
      "\n",
      "Avg Corruption Accuracy: 77.88%\n",
      "Global Sparsity: 40.93% \n",
      "\n",
      "---------- Pruning Iteration:  6 / 44\n"
     ]
    },
    {
     "name": "stderr",
     "output_type": "stream",
     "text": [
      "Loss=0.4651726186275482 Batch_id=19 Accuracy=81.10: 100%|██████████| 20/20 [00:27<00:00,  1.35s/it] \n",
      "Loss=0.48197850584983826 Batch_id=19 Accuracy=82.16: 100%|██████████| 20/20 [00:27<00:00,  1.37s/it]\n",
      "Loss=0.41912755370140076 Batch_id=19 Accuracy=83.27: 100%|██████████| 20/20 [00:27<00:00,  1.36s/it]\n",
      "Loss=0.4439241290092468 Batch_id=19 Accuracy=83.24: 100%|██████████| 20/20 [00:27<00:00,  1.36s/it] \n",
      "Loss=0.43714645504951477 Batch_id=19 Accuracy=83.09: 100%|██████████| 20/20 [00:27<00:00,  1.37s/it]\n",
      "Loss=0.42669349908828735 Batch_id=19 Accuracy=83.44: 100%|██████████| 20/20 [00:27<00:00,  1.36s/it]\n"
     ]
    },
    {
     "name": "stdout",
     "output_type": "stream",
     "text": [
      "Epoch 00006: reducing learning rate of group 0 to 5.0000e-04.\n"
     ]
    },
    {
     "name": "stderr",
     "output_type": "stream",
     "text": [
      "Loss=0.4067026376724243 Batch_id=19 Accuracy=84.75: 100%|██████████| 20/20 [00:27<00:00,  1.36s/it] \n",
      "Loss=0.41732868552207947 Batch_id=19 Accuracy=85.35: 100%|██████████| 20/20 [00:27<00:00,  1.36s/it]\n",
      "Loss=0.37107595801353455 Batch_id=19 Accuracy=85.62: 100%|██████████| 20/20 [00:27<00:00,  1.36s/it]\n",
      "Loss=0.404190331697464 Batch_id=19 Accuracy=85.60: 100%|██████████| 20/20 [00:27<00:00,  1.36s/it]  \n"
     ]
    },
    {
     "name": "stdout",
     "output_type": "stream",
     "text": [
      "Test set: Average loss: 0.4083, Accuracy: 8626/10000 (86.26%)\n",
      "\n",
      "--Skipping Acc Comp For Corrupted Data--\n",
      "Global Sparsity: 46.83% \n",
      "\n",
      "---------- Pruning Iteration:  7 / 44\n"
     ]
    },
    {
     "name": "stderr",
     "output_type": "stream",
     "text": [
      "Loss=0.43150797486305237 Batch_id=19 Accuracy=82.26: 100%|██████████| 20/20 [00:27<00:00,  1.36s/it]\n",
      "Loss=0.4104081690311432 Batch_id=19 Accuracy=83.52: 100%|██████████| 20/20 [00:27<00:00,  1.36s/it] \n",
      "Loss=0.42244720458984375 Batch_id=19 Accuracy=84.05: 100%|██████████| 20/20 [00:27<00:00,  1.36s/it]\n",
      "Loss=0.40097925066947937 Batch_id=19 Accuracy=84.50: 100%|██████████| 20/20 [00:27<00:00,  1.36s/it]\n",
      "Loss=0.40810349583625793 Batch_id=19 Accuracy=84.44: 100%|██████████| 20/20 [00:27<00:00,  1.35s/it]\n",
      "Loss=0.40564149618148804 Batch_id=19 Accuracy=84.82: 100%|██████████| 20/20 [00:27<00:00,  1.36s/it]\n",
      "Loss=0.352084219455719 Batch_id=19 Accuracy=85.16: 100%|██████████| 20/20 [00:27<00:00,  1.37s/it]  \n",
      "Loss=0.3693391680717468 Batch_id=19 Accuracy=85.66: 100%|██████████| 20/20 [00:27<00:00,  1.36s/it] \n",
      "Loss=0.3601984977722168 Batch_id=19 Accuracy=85.62: 100%|██████████| 20/20 [00:27<00:00,  1.36s/it] \n",
      "Loss=0.37194180488586426 Batch_id=19 Accuracy=85.90: 100%|██████████| 20/20 [00:27<00:00,  1.36s/it]"
     ]
    },
    {
     "name": "stdout",
     "output_type": "stream",
     "text": [
      "Epoch 00010: reducing learning rate of group 0 to 5.0000e-04.\n"
     ]
    },
    {
     "name": "stderr",
     "output_type": "stream",
     "text": [
      "\n"
     ]
    },
    {
     "name": "stdout",
     "output_type": "stream",
     "text": [
      "Test set: Average loss: 0.4447, Accuracy: 8516/10000 (85.16%)\n",
      "\n",
      "--Testing Corruptions--\n"
     ]
    },
    {
     "name": "stderr",
     "output_type": "stream",
     "text": [
      "100%|██████████| 19/19 [03:41<00:00, 11.64s/it]\n"
     ]
    },
    {
     "name": "stdout",
     "output_type": "stream",
     "text": [
      "\n",
      "Avg Corruption Accuracy: 77.63%\n",
      "Global Sparsity: 52.15% \n",
      "\n",
      "---------- Pruning Iteration:  8 / 44\n"
     ]
    },
    {
     "name": "stderr",
     "output_type": "stream",
     "text": [
      "Loss=0.4252063035964966 Batch_id=19 Accuracy=82.12: 100%|██████████| 20/20 [00:27<00:00,  1.37s/it] \n",
      "Loss=0.37729325890541077 Batch_id=19 Accuracy=84.74: 100%|██████████| 20/20 [00:27<00:00,  1.37s/it]\n",
      "Loss=0.3686710000038147 Batch_id=19 Accuracy=85.74: 100%|██████████| 20/20 [00:27<00:00,  1.38s/it] \n",
      "Loss=0.3633899986743927 Batch_id=19 Accuracy=86.37: 100%|██████████| 20/20 [00:27<00:00,  1.37s/it] \n",
      "Loss=0.363800585269928 Batch_id=19 Accuracy=86.69: 100%|██████████| 20/20 [00:27<00:00,  1.37s/it]  \n",
      "Loss=0.33874306082725525 Batch_id=19 Accuracy=86.79: 100%|██████████| 20/20 [00:27<00:00,  1.37s/it]\n",
      "Loss=0.34876370429992676 Batch_id=19 Accuracy=86.94: 100%|██████████| 20/20 [00:27<00:00,  1.37s/it]\n",
      "Loss=0.349578320980072 Batch_id=19 Accuracy=87.22: 100%|██████████| 20/20 [00:27<00:00,  1.37s/it]  \n",
      "Loss=0.3236408829689026 Batch_id=19 Accuracy=87.64: 100%|██████████| 20/20 [00:27<00:00,  1.37s/it] \n",
      "Loss=0.35112470388412476 Batch_id=19 Accuracy=87.99: 100%|██████████| 20/20 [00:27<00:00,  1.37s/it]\n"
     ]
    },
    {
     "name": "stdout",
     "output_type": "stream",
     "text": [
      "Test set: Average loss: 0.4810, Accuracy: 8452/10000 (84.52%)\n",
      "\n",
      "--Skipping Acc Comp For Corrupted Data--\n",
      "Global Sparsity: 56.93% \n",
      "\n",
      "---------- Pruning Iteration:  9 / 44\n"
     ]
    },
    {
     "name": "stderr",
     "output_type": "stream",
     "text": [
      "Loss=0.4166405498981476 Batch_id=19 Accuracy=81.80: 100%|██████████| 20/20 [00:27<00:00,  1.37s/it] \n",
      "Loss=0.3197130262851715 Batch_id=19 Accuracy=85.77: 100%|██████████| 20/20 [00:27<00:00,  1.37s/it] \n",
      "Loss=0.33719030022621155 Batch_id=19 Accuracy=87.34: 100%|██████████| 20/20 [00:27<00:00,  1.38s/it]\n",
      "Loss=0.32777509093284607 Batch_id=19 Accuracy=87.81: 100%|██████████| 20/20 [00:27<00:00,  1.37s/it]\n",
      "Loss=0.29887327551841736 Batch_id=19 Accuracy=88.48: 100%|██████████| 20/20 [00:27<00:00,  1.37s/it]\n",
      "Loss=0.29882535338401794 Batch_id=19 Accuracy=88.95: 100%|██████████| 20/20 [00:27<00:00,  1.37s/it]\n",
      "Loss=0.3009762763977051 Batch_id=19 Accuracy=88.87: 100%|██████████| 20/20 [00:27<00:00,  1.38s/it] \n",
      "Loss=0.28586652874946594 Batch_id=19 Accuracy=89.30: 100%|██████████| 20/20 [00:27<00:00,  1.37s/it]\n",
      "Loss=0.26296600699424744 Batch_id=19 Accuracy=89.31: 100%|██████████| 20/20 [00:27<00:00,  1.37s/it]\n",
      "Loss=0.2656053900718689 Batch_id=19 Accuracy=89.65: 100%|██████████| 20/20 [00:27<00:00,  1.37s/it] \n"
     ]
    },
    {
     "name": "stdout",
     "output_type": "stream",
     "text": [
      "Test set: Average loss: 0.4783, Accuracy: 8457/10000 (84.57%)\n",
      "\n",
      "--Testing Corruptions--\n"
     ]
    },
    {
     "name": "stderr",
     "output_type": "stream",
     "text": [
      "100%|██████████| 19/19 [03:39<00:00, 11.53s/it]\n"
     ]
    },
    {
     "name": "stdout",
     "output_type": "stream",
     "text": [
      "\n",
      "Avg Corruption Accuracy: 76.35%\n",
      "Global Sparsity: 61.23% \n",
      "\n",
      "---------- Pruning Iteration:  10 / 44\n"
     ]
    },
    {
     "name": "stderr",
     "output_type": "stream",
     "text": [
      "Loss=0.39901575446128845 Batch_id=19 Accuracy=82.23: 100%|██████████| 20/20 [00:27<00:00,  1.39s/it]\n",
      "Loss=0.33527398109436035 Batch_id=19 Accuracy=86.77: 100%|██████████| 20/20 [00:27<00:00,  1.38s/it]\n",
      "Loss=0.30035269260406494 Batch_id=19 Accuracy=88.48: 100%|██████████| 20/20 [00:27<00:00,  1.38s/it]\n",
      "Loss=0.2668115198612213 Batch_id=19 Accuracy=89.23: 100%|██████████| 20/20 [00:27<00:00,  1.38s/it] \n",
      "Loss=0.27897951006889343 Batch_id=19 Accuracy=89.16: 100%|██████████| 20/20 [00:27<00:00,  1.39s/it]\n",
      "Loss=0.28850460052490234 Batch_id=19 Accuracy=89.72: 100%|██████████| 20/20 [00:27<00:00,  1.39s/it]\n",
      "Loss=0.2662060260772705 Batch_id=19 Accuracy=90.27: 100%|██████████| 20/20 [00:27<00:00,  1.38s/it] \n",
      "Loss=0.2817891240119934 Batch_id=19 Accuracy=90.31: 100%|██████████| 20/20 [00:27<00:00,  1.39s/it] \n",
      "Loss=0.2690752446651459 Batch_id=19 Accuracy=90.42: 100%|██████████| 20/20 [00:27<00:00,  1.39s/it] \n",
      "Loss=0.241768017411232 Batch_id=19 Accuracy=90.65: 100%|██████████| 20/20 [00:27<00:00,  1.38s/it]  \n"
     ]
    },
    {
     "name": "stdout",
     "output_type": "stream",
     "text": [
      "Test set: Average loss: 0.4781, Accuracy: 8497/10000 (84.97%)\n",
      "\n",
      "--Skipping Acc Comp For Corrupted Data--\n",
      "Global Sparsity: 65.10% \n",
      "\n",
      "---------- Pruning Iteration:  11 / 44\n"
     ]
    },
    {
     "name": "stderr",
     "output_type": "stream",
     "text": [
      "Loss=0.39720022678375244 Batch_id=19 Accuracy=81.87: 100%|██████████| 20/20 [00:27<00:00,  1.38s/it]\n",
      "Loss=0.290193647146225 Batch_id=19 Accuracy=87.12: 100%|██████████| 20/20 [00:27<00:00,  1.39s/it]  \n",
      "Loss=0.29013824462890625 Batch_id=19 Accuracy=89.01: 100%|██████████| 20/20 [00:27<00:00,  1.38s/it]\n",
      "Loss=0.2577965557575226 Batch_id=19 Accuracy=90.18: 100%|██████████| 20/20 [00:27<00:00,  1.38s/it] \n",
      "Loss=0.267508327960968 Batch_id=19 Accuracy=90.77: 100%|██████████| 20/20 [00:27<00:00,  1.37s/it]  \n",
      "Loss=0.22158978879451752 Batch_id=19 Accuracy=91.06: 100%|██████████| 20/20 [00:27<00:00,  1.38s/it]\n",
      "Loss=0.2515519857406616 Batch_id=19 Accuracy=91.45: 100%|██████████| 20/20 [00:27<00:00,  1.38s/it] \n",
      "Loss=0.20964866876602173 Batch_id=19 Accuracy=91.27: 100%|██████████| 20/20 [00:27<00:00,  1.39s/it]\n",
      "Loss=0.2414037585258484 Batch_id=19 Accuracy=91.49: 100%|██████████| 20/20 [00:27<00:00,  1.38s/it] \n",
      "Loss=0.21035122871398926 Batch_id=19 Accuracy=91.78: 100%|██████████| 20/20 [00:27<00:00,  1.39s/it]\n"
     ]
    },
    {
     "name": "stdout",
     "output_type": "stream",
     "text": [
      "Test set: Average loss: 0.5066, Accuracy: 8454/10000 (84.54%)\n",
      "\n",
      "--Testing Corruptions--\n"
     ]
    },
    {
     "name": "stderr",
     "output_type": "stream",
     "text": [
      "100%|██████████| 19/19 [03:59<00:00, 12.59s/it]\n"
     ]
    },
    {
     "name": "stdout",
     "output_type": "stream",
     "text": [
      "\n",
      "Avg Corruption Accuracy: 76.77%\n",
      "Global Sparsity: 68.59% \n",
      "\n",
      "---------- Pruning Iteration:  12 / 44\n"
     ]
    },
    {
     "name": "stderr",
     "output_type": "stream",
     "text": [
      "Loss=0.34473541378974915 Batch_id=19 Accuracy=81.99: 100%|██████████| 20/20 [00:27<00:00,  1.39s/it]\n",
      "Loss=0.28557947278022766 Batch_id=19 Accuracy=87.96: 100%|██████████| 20/20 [00:27<00:00,  1.39s/it]\n",
      "Loss=0.259287029504776 Batch_id=19 Accuracy=89.77: 100%|██████████| 20/20 [00:27<00:00,  1.39s/it]  \n",
      "Loss=0.23624290525913239 Batch_id=19 Accuracy=91.03: 100%|██████████| 20/20 [00:27<00:00,  1.39s/it]\n",
      "Loss=0.22176764905452728 Batch_id=19 Accuracy=91.15: 100%|██████████| 20/20 [00:27<00:00,  1.39s/it]\n",
      "Loss=0.23584455251693726 Batch_id=19 Accuracy=91.62: 100%|██████████| 20/20 [00:27<00:00,  1.38s/it]\n",
      "Loss=0.20554937422275543 Batch_id=19 Accuracy=91.73: 100%|██████████| 20/20 [00:27<00:00,  1.39s/it]\n",
      "Loss=0.19657392799854279 Batch_id=19 Accuracy=92.20: 100%|██████████| 20/20 [00:27<00:00,  1.39s/it]\n",
      "Loss=0.1992904245853424 Batch_id=19 Accuracy=92.21: 100%|██████████| 20/20 [00:27<00:00,  1.40s/it] \n",
      "Loss=0.19987979531288147 Batch_id=19 Accuracy=92.31: 100%|██████████| 20/20 [00:27<00:00,  1.39s/it]\n"
     ]
    },
    {
     "name": "stdout",
     "output_type": "stream",
     "text": [
      "Test set: Average loss: 0.4976, Accuracy: 8479/10000 (84.79%)\n",
      "\n",
      "--Skipping Acc Comp For Corrupted Data--\n",
      "Global Sparsity: 71.72% \n",
      "\n",
      "---------- Pruning Iteration:  13 / 44\n"
     ]
    },
    {
     "name": "stderr",
     "output_type": "stream",
     "text": [
      "Loss=0.3436274826526642 Batch_id=19 Accuracy=82.05: 100%|██████████| 20/20 [00:27<00:00,  1.39s/it] \n",
      "Loss=0.2821524143218994 Batch_id=19 Accuracy=88.26: 100%|██████████| 20/20 [00:27<00:00,  1.40s/it] \n",
      "Loss=0.24144624173641205 Batch_id=19 Accuracy=89.86: 100%|██████████| 20/20 [00:27<00:00,  1.39s/it]\n",
      "Loss=0.2484775334596634 Batch_id=19 Accuracy=91.14: 100%|██████████| 20/20 [00:27<00:00,  1.39s/it] \n",
      "Loss=0.21013857424259186 Batch_id=19 Accuracy=91.70: 100%|██████████| 20/20 [00:27<00:00,  1.39s/it]\n",
      "Loss=0.2110034078359604 Batch_id=19 Accuracy=92.36: 100%|██████████| 20/20 [00:27<00:00,  1.39s/it] \n",
      "Loss=0.21380801498889923 Batch_id=19 Accuracy=92.54: 100%|██████████| 20/20 [00:27<00:00,  1.40s/it]\n",
      "Loss=0.19880081713199615 Batch_id=19 Accuracy=92.54: 100%|██████████| 20/20 [00:27<00:00,  1.40s/it]\n",
      "Loss=0.20898717641830444 Batch_id=19 Accuracy=92.56: 100%|██████████| 20/20 [00:27<00:00,  1.40s/it]\n",
      "Loss=0.20853190124034882 Batch_id=19 Accuracy=92.66: 100%|██████████| 20/20 [00:27<00:00,  1.39s/it]\n"
     ]
    },
    {
     "name": "stdout",
     "output_type": "stream",
     "text": [
      "Test set: Average loss: 0.4973, Accuracy: 8476/10000 (84.76%)\n",
      "\n",
      "--Skipping Acc Comp For Corrupted Data--\n",
      "Global Sparsity: 74.55% \n",
      "\n",
      "---------- Pruning Iteration:  14 / 44\n"
     ]
    },
    {
     "name": "stderr",
     "output_type": "stream",
     "text": [
      "Loss=0.3153820037841797 Batch_id=19 Accuracy=82.55: 100%|██████████| 20/20 [00:27<00:00,  1.39s/it] \n",
      "Loss=0.25268852710723877 Batch_id=19 Accuracy=89.16: 100%|██████████| 20/20 [00:27<00:00,  1.39s/it]\n",
      "Loss=0.23751743137836456 Batch_id=19 Accuracy=90.71: 100%|██████████| 20/20 [00:27<00:00,  1.39s/it]\n",
      "Loss=0.21996919810771942 Batch_id=19 Accuracy=91.72: 100%|██████████| 20/20 [00:27<00:00,  1.39s/it]\n",
      "Loss=0.21818041801452637 Batch_id=19 Accuracy=92.30: 100%|██████████| 20/20 [00:27<00:00,  1.39s/it]\n",
      "Loss=0.18673385679721832 Batch_id=19 Accuracy=92.68: 100%|██████████| 20/20 [00:27<00:00,  1.39s/it]\n",
      "Loss=0.22053994238376617 Batch_id=19 Accuracy=92.87: 100%|██████████| 20/20 [00:27<00:00,  1.40s/it]\n",
      "Loss=0.1830286979675293 Batch_id=19 Accuracy=93.23: 100%|██████████| 20/20 [00:27<00:00,  1.39s/it] \n",
      "Loss=0.21578878164291382 Batch_id=19 Accuracy=92.61: 100%|██████████| 20/20 [00:27<00:00,  1.39s/it]\n",
      "Loss=0.18404150009155273 Batch_id=19 Accuracy=93.02: 100%|██████████| 20/20 [00:27<00:00,  1.40s/it]\n"
     ]
    },
    {
     "name": "stdout",
     "output_type": "stream",
     "text": [
      "Test set: Average loss: 0.5224, Accuracy: 8470/10000 (84.70%)\n",
      "\n",
      "--Skipping Acc Comp For Corrupted Data--\n",
      "Global Sparsity: 77.09% \n",
      "\n",
      "---------- Pruning Iteration:  15 / 44\n"
     ]
    },
    {
     "name": "stderr",
     "output_type": "stream",
     "text": [
      "Loss=0.3228249251842499 Batch_id=19 Accuracy=82.08: 100%|██████████| 20/20 [00:27<00:00,  1.38s/it] \n",
      "Loss=0.25578150153160095 Batch_id=19 Accuracy=89.40: 100%|██████████| 20/20 [00:27<00:00,  1.39s/it]\n",
      "Loss=0.22488363087177277 Batch_id=19 Accuracy=90.77: 100%|██████████| 20/20 [00:27<00:00,  1.39s/it]\n",
      "Loss=0.20601876080036163 Batch_id=19 Accuracy=91.32: 100%|██████████| 20/20 [00:27<00:00,  1.39s/it]\n",
      "Loss=0.22232326865196228 Batch_id=19 Accuracy=92.03: 100%|██████████| 20/20 [00:27<00:00,  1.39s/it]\n",
      "Loss=0.20466512441635132 Batch_id=19 Accuracy=92.70: 100%|██████████| 20/20 [00:27<00:00,  1.39s/it]\n",
      "Loss=0.18907958269119263 Batch_id=19 Accuracy=92.99: 100%|██████████| 20/20 [00:27<00:00,  1.39s/it]\n",
      "Loss=0.19281435012817383 Batch_id=19 Accuracy=93.53: 100%|██████████| 20/20 [00:27<00:00,  1.39s/it]\n",
      "Loss=0.18103547394275665 Batch_id=19 Accuracy=93.30: 100%|██████████| 20/20 [00:27<00:00,  1.40s/it]\n",
      "Loss=0.1790236383676529 Batch_id=19 Accuracy=93.74: 100%|██████████| 20/20 [00:27<00:00,  1.39s/it] \n"
     ]
    },
    {
     "name": "stdout",
     "output_type": "stream",
     "text": [
      "Test set: Average loss: 0.4988, Accuracy: 8513/10000 (85.13%)\n",
      "\n",
      "--Testing Corruptions--\n"
     ]
    },
    {
     "name": "stderr",
     "output_type": "stream",
     "text": [
      "100%|██████████| 19/19 [03:52<00:00, 12.26s/it]\n"
     ]
    },
    {
     "name": "stdout",
     "output_type": "stream",
     "text": [
      "\n",
      "Avg Corruption Accuracy: 77.25%\n",
      "Global Sparsity: 79.37% \n",
      "\n",
      "---------- Pruning Iteration:  16 / 44\n"
     ]
    },
    {
     "name": "stderr",
     "output_type": "stream",
     "text": [
      "Loss=0.37834861874580383 Batch_id=19 Accuracy=81.98: 100%|██████████| 20/20 [00:27<00:00,  1.40s/it]\n",
      "Loss=0.2427636831998825 Batch_id=19 Accuracy=89.00: 100%|██████████| 20/20 [00:27<00:00,  1.40s/it] \n",
      "Loss=0.22143909335136414 Batch_id=19 Accuracy=91.18: 100%|██████████| 20/20 [00:28<00:00,  1.40s/it]\n",
      "Loss=0.20110741257667542 Batch_id=19 Accuracy=92.19: 100%|██████████| 20/20 [00:28<00:00,  1.40s/it]\n",
      "Loss=0.20595408976078033 Batch_id=19 Accuracy=92.43: 100%|██████████| 20/20 [00:28<00:00,  1.40s/it]\n",
      "Loss=0.1970725953578949 Batch_id=19 Accuracy=92.83: 100%|██████████| 20/20 [00:28<00:00,  1.40s/it] \n",
      "Loss=0.19835111498832703 Batch_id=19 Accuracy=93.08: 100%|██████████| 20/20 [00:27<00:00,  1.40s/it]\n",
      "Loss=0.20838703215122223 Batch_id=19 Accuracy=93.23: 100%|██████████| 20/20 [00:28<00:00,  1.40s/it]\n",
      "Loss=0.1734086275100708 Batch_id=19 Accuracy=93.27: 100%|██████████| 20/20 [00:28<00:00,  1.40s/it] \n",
      "Loss=0.18022629618644714 Batch_id=19 Accuracy=93.50: 100%|██████████| 20/20 [00:27<00:00,  1.40s/it]\n"
     ]
    },
    {
     "name": "stdout",
     "output_type": "stream",
     "text": [
      "Test set: Average loss: 0.5146, Accuracy: 8458/10000 (84.58%)\n",
      "\n",
      "--Skipping Acc Comp For Corrupted Data--\n",
      "Global Sparsity: 81.43% \n",
      "\n",
      "---------- Pruning Iteration:  17 / 44\n"
     ]
    },
    {
     "name": "stderr",
     "output_type": "stream",
     "text": [
      "Loss=0.3516785502433777 Batch_id=19 Accuracy=81.08: 100%|██████████| 20/20 [00:28<00:00,  1.40s/it] \n",
      "Loss=0.28760814666748047 Batch_id=19 Accuracy=88.95: 100%|██████████| 20/20 [00:28<00:00,  1.40s/it]\n",
      "Loss=0.2456614077091217 Batch_id=19 Accuracy=90.88: 100%|██████████| 20/20 [00:27<00:00,  1.40s/it] \n",
      "Loss=0.22024933993816376 Batch_id=19 Accuracy=92.06: 100%|██████████| 20/20 [00:28<00:00,  1.40s/it]\n",
      "Loss=0.21833592653274536 Batch_id=19 Accuracy=92.24: 100%|██████████| 20/20 [00:27<00:00,  1.40s/it]\n",
      "Loss=0.18719379603862762 Batch_id=19 Accuracy=92.92: 100%|██████████| 20/20 [00:28<00:00,  1.40s/it]\n",
      "Loss=0.18165293335914612 Batch_id=19 Accuracy=93.14: 100%|██████████| 20/20 [00:28<00:00,  1.40s/it]\n",
      "Loss=0.2081356942653656 Batch_id=19 Accuracy=93.16: 100%|██████████| 20/20 [00:28<00:00,  1.41s/it] \n",
      "Loss=0.17737960815429688 Batch_id=19 Accuracy=93.25: 100%|██████████| 20/20 [00:28<00:00,  1.41s/it]\n",
      "Loss=0.19135218858718872 Batch_id=19 Accuracy=93.62: 100%|██████████| 20/20 [00:27<00:00,  1.40s/it]\n"
     ]
    },
    {
     "name": "stdout",
     "output_type": "stream",
     "text": [
      "Test set: Average loss: 0.5008, Accuracy: 8459/10000 (84.59%)\n",
      "\n",
      "--Skipping Acc Comp For Corrupted Data--\n",
      "Global Sparsity: 83.28% \n",
      "\n",
      "---------- Pruning Iteration:  18 / 44\n"
     ]
    },
    {
     "name": "stderr",
     "output_type": "stream",
     "text": [
      "Loss=0.34828194975852966 Batch_id=19 Accuracy=81.89: 100%|██████████| 20/20 [00:27<00:00,  1.40s/it]\n",
      "Loss=0.2819890081882477 Batch_id=19 Accuracy=88.90: 100%|██████████| 20/20 [00:27<00:00,  1.40s/it] \n",
      "Loss=0.25375932455062866 Batch_id=19 Accuracy=90.97: 100%|██████████| 20/20 [00:28<00:00,  1.40s/it]\n",
      "Loss=0.2282782644033432 Batch_id=19 Accuracy=91.51: 100%|██████████| 20/20 [00:27<00:00,  1.40s/it] \n",
      "Loss=0.2113066017627716 Batch_id=19 Accuracy=92.35: 100%|██████████| 20/20 [00:28<00:00,  1.40s/it] \n",
      "Loss=0.20697759091854095 Batch_id=19 Accuracy=92.79: 100%|██████████| 20/20 [00:28<00:00,  1.41s/it]\n",
      "Loss=0.18484222888946533 Batch_id=19 Accuracy=93.07: 100%|██████████| 20/20 [00:28<00:00,  1.40s/it]\n",
      "Loss=0.19161149859428406 Batch_id=19 Accuracy=93.00: 100%|██████████| 20/20 [00:27<00:00,  1.40s/it]\n",
      "Loss=0.19721035659313202 Batch_id=19 Accuracy=93.32: 100%|██████████| 20/20 [00:28<00:00,  1.41s/it]\n",
      "Loss=0.17022719979286194 Batch_id=19 Accuracy=93.42: 100%|██████████| 20/20 [00:27<00:00,  1.40s/it]\n"
     ]
    },
    {
     "name": "stdout",
     "output_type": "stream",
     "text": [
      "Test set: Average loss: 0.5083, Accuracy: 8416/10000 (84.16%)\n",
      "\n",
      "--Skipping Acc Comp For Corrupted Data--\n",
      "Global Sparsity: 84.95% \n",
      "\n",
      "---------- Pruning Iteration:  19 / 44\n"
     ]
    },
    {
     "name": "stderr",
     "output_type": "stream",
     "text": [
      "Loss=0.349643737077713 Batch_id=19 Accuracy=81.34: 100%|██████████| 20/20 [00:28<00:00,  1.40s/it]  \n",
      "Loss=0.2655439078807831 Batch_id=19 Accuracy=88.55: 100%|██████████| 20/20 [00:27<00:00,  1.40s/it] \n",
      "Loss=0.2714366614818573 Batch_id=19 Accuracy=90.57: 100%|██████████| 20/20 [00:28<00:00,  1.42s/it] \n",
      "Loss=0.22218291461467743 Batch_id=19 Accuracy=91.44: 100%|██████████| 20/20 [00:28<00:00,  1.40s/it]\n",
      "Loss=0.22320441901683807 Batch_id=19 Accuracy=91.68: 100%|██████████| 20/20 [00:27<00:00,  1.40s/it]\n",
      "Loss=0.254606157541275 Batch_id=19 Accuracy=92.24: 100%|██████████| 20/20 [00:28<00:00,  1.41s/it]  \n",
      "Loss=0.19972431659698486 Batch_id=19 Accuracy=92.50: 100%|██████████| 20/20 [00:27<00:00,  1.39s/it]\n",
      "Loss=0.20877984166145325 Batch_id=19 Accuracy=92.57: 100%|██████████| 20/20 [00:28<00:00,  1.41s/it]\n",
      "Loss=0.210873082280159 Batch_id=19 Accuracy=93.19: 100%|██████████| 20/20 [00:27<00:00,  1.40s/it]  \n",
      "Loss=0.19290578365325928 Batch_id=19 Accuracy=93.11: 100%|██████████| 20/20 [00:27<00:00,  1.40s/it]\n"
     ]
    },
    {
     "name": "stdout",
     "output_type": "stream",
     "text": [
      "Test set: Average loss: 0.4896, Accuracy: 8461/10000 (84.61%)\n",
      "\n",
      "--Skipping Acc Comp For Corrupted Data--\n",
      "Global Sparsity: 86.45% \n",
      "\n",
      "---------- Pruning Iteration:  20 / 44\n"
     ]
    },
    {
     "name": "stderr",
     "output_type": "stream",
     "text": [
      "Loss=0.3574334681034088 Batch_id=19 Accuracy=81.55: 100%|██████████| 20/20 [00:28<00:00,  1.40s/it] \n",
      "Loss=0.2682124972343445 Batch_id=19 Accuracy=87.79: 100%|██████████| 20/20 [00:28<00:00,  1.41s/it] \n",
      "Loss=0.28199657797813416 Batch_id=19 Accuracy=90.30: 100%|██████████| 20/20 [00:28<00:00,  1.41s/it]\n",
      "Loss=0.2605600953102112 Batch_id=19 Accuracy=91.20: 100%|██████████| 20/20 [00:27<00:00,  1.40s/it] \n",
      "Loss=0.24007301032543182 Batch_id=19 Accuracy=91.70: 100%|██████████| 20/20 [00:27<00:00,  1.40s/it]\n",
      "Loss=0.1994345784187317 Batch_id=19 Accuracy=91.90: 100%|██████████| 20/20 [00:28<00:00,  1.41s/it] \n",
      "Loss=0.1931823045015335 Batch_id=19 Accuracy=92.55: 100%|██████████| 20/20 [00:27<00:00,  1.40s/it] \n",
      "Loss=0.21946294605731964 Batch_id=19 Accuracy=92.57: 100%|██████████| 20/20 [00:28<00:00,  1.40s/it]\n",
      "Loss=0.20601999759674072 Batch_id=19 Accuracy=92.84: 100%|██████████| 20/20 [00:27<00:00,  1.40s/it]\n",
      "Loss=0.18843021988868713 Batch_id=19 Accuracy=92.96: 100%|██████████| 20/20 [00:28<00:00,  1.40s/it]\n"
     ]
    },
    {
     "name": "stdout",
     "output_type": "stream",
     "text": [
      "Test set: Average loss: 0.4962, Accuracy: 8420/10000 (84.20%)\n",
      "\n",
      "--Skipping Acc Comp For Corrupted Data--\n",
      "Global Sparsity: 87.80% \n",
      "\n",
      "---------- Pruning Iteration:  21 / 44\n"
     ]
    },
    {
     "name": "stderr",
     "output_type": "stream",
     "text": [
      "Loss=0.37200313806533813 Batch_id=19 Accuracy=81.09: 100%|██████████| 20/20 [00:27<00:00,  1.39s/it]\n",
      "Loss=0.3320963680744171 Batch_id=19 Accuracy=87.69: 100%|██████████| 20/20 [00:27<00:00,  1.40s/it] \n",
      "Loss=0.26131871342658997 Batch_id=19 Accuracy=89.75: 100%|██████████| 20/20 [00:28<00:00,  1.41s/it]\n",
      "Loss=0.2559652626514435 Batch_id=19 Accuracy=90.43: 100%|██████████| 20/20 [00:28<00:00,  1.40s/it] \n",
      "Loss=0.25299012660980225 Batch_id=19 Accuracy=91.44: 100%|██████████| 20/20 [00:28<00:00,  1.40s/it]\n",
      "Loss=0.2278725504875183 Batch_id=19 Accuracy=91.67: 100%|██████████| 20/20 [00:28<00:00,  1.40s/it] \n",
      "Loss=0.2343895584344864 Batch_id=19 Accuracy=91.70: 100%|██████████| 20/20 [00:27<00:00,  1.40s/it] \n",
      "Loss=0.23181836307048798 Batch_id=19 Accuracy=91.85: 100%|██████████| 20/20 [00:28<00:00,  1.40s/it]\n",
      "Loss=0.20076245069503784 Batch_id=19 Accuracy=92.42: 100%|██████████| 20/20 [00:28<00:00,  1.40s/it]\n",
      "Loss=0.21098478138446808 Batch_id=19 Accuracy=92.09: 100%|██████████| 20/20 [00:28<00:00,  1.40s/it]\n"
     ]
    },
    {
     "name": "stdout",
     "output_type": "stream",
     "text": [
      "Test set: Average loss: 0.4712, Accuracy: 8490/10000 (84.90%)\n",
      "\n",
      "--Skipping Acc Comp For Corrupted Data--\n",
      "Global Sparsity: 89.02% \n",
      "\n",
      "---------- Pruning Iteration:  22 / 44\n"
     ]
    },
    {
     "name": "stderr",
     "output_type": "stream",
     "text": [
      "Loss=0.38681554794311523 Batch_id=19 Accuracy=80.85: 100%|██████████| 20/20 [00:28<00:00,  1.41s/it]\n",
      "Loss=0.3281266391277313 Batch_id=19 Accuracy=87.25: 100%|██████████| 20/20 [00:27<00:00,  1.40s/it] \n",
      "Loss=0.2782471477985382 Batch_id=19 Accuracy=89.08: 100%|██████████| 20/20 [00:27<00:00,  1.40s/it] \n",
      "Loss=0.26574376225471497 Batch_id=19 Accuracy=90.18: 100%|██████████| 20/20 [00:27<00:00,  1.40s/it]\n",
      "Loss=0.2513187527656555 Batch_id=19 Accuracy=90.68: 100%|██████████| 20/20 [00:27<00:00,  1.40s/it] \n",
      "Loss=0.27644410729408264 Batch_id=19 Accuracy=90.61: 100%|██████████| 20/20 [00:28<00:00,  1.41s/it]\n",
      "Loss=0.252890020608902 Batch_id=19 Accuracy=91.50: 100%|██████████| 20/20 [00:28<00:00,  1.40s/it]  \n",
      "Loss=0.24576793611049652 Batch_id=19 Accuracy=91.11: 100%|██████████| 20/20 [00:28<00:00,  1.40s/it]\n",
      "Loss=0.21492792665958405 Batch_id=19 Accuracy=91.63: 100%|██████████| 20/20 [00:28<00:00,  1.40s/it]\n",
      "Loss=0.23283123970031738 Batch_id=19 Accuracy=91.94: 100%|██████████| 20/20 [00:27<00:00,  1.40s/it]\n"
     ]
    },
    {
     "name": "stdout",
     "output_type": "stream",
     "text": [
      "Test set: Average loss: 0.4694, Accuracy: 8480/10000 (84.80%)\n",
      "\n",
      "--Testing Corruptions--\n"
     ]
    },
    {
     "name": "stderr",
     "output_type": "stream",
     "text": [
      "100%|██████████| 19/19 [03:50<00:00, 12.11s/it]\n"
     ]
    },
    {
     "name": "stdout",
     "output_type": "stream",
     "text": [
      "\n",
      "Avg Corruption Accuracy: 76.94%\n",
      "Global Sparsity: 90.11% \n",
      "\n",
      "---------- Pruning Iteration:  23 / 44\n"
     ]
    },
    {
     "name": "stderr",
     "output_type": "stream",
     "text": [
      "Loss=0.36827391386032104 Batch_id=19 Accuracy=80.86: 100%|██████████| 20/20 [00:28<00:00,  1.41s/it]\n",
      "Loss=0.3472763001918793 Batch_id=19 Accuracy=86.83: 100%|██████████| 20/20 [00:28<00:00,  1.41s/it] \n",
      "Loss=0.3374074101448059 Batch_id=19 Accuracy=88.79: 100%|██████████| 20/20 [00:28<00:00,  1.41s/it] \n",
      "Loss=0.288239449262619 Batch_id=19 Accuracy=89.57: 100%|██████████| 20/20 [00:28<00:00,  1.41s/it]  \n",
      "Loss=0.2833583652973175 Batch_id=19 Accuracy=89.98: 100%|██████████| 20/20 [00:28<00:00,  1.42s/it] \n",
      "Loss=0.2637716233730316 Batch_id=19 Accuracy=90.55: 100%|██████████| 20/20 [00:28<00:00,  1.41s/it] \n",
      "Loss=0.2707480490207672 Batch_id=19 Accuracy=90.71: 100%|██████████| 20/20 [00:28<00:00,  1.41s/it] \n",
      "Loss=0.2456037700176239 Batch_id=19 Accuracy=90.56: 100%|██████████| 20/20 [00:28<00:00,  1.41s/it] \n",
      "Loss=0.2422284036874771 Batch_id=19 Accuracy=91.01: 100%|██████████| 20/20 [00:28<00:00,  1.41s/it] \n",
      "Loss=0.24677391350269318 Batch_id=19 Accuracy=91.16: 100%|██████████| 20/20 [00:28<00:00,  1.42s/it]\n"
     ]
    },
    {
     "name": "stdout",
     "output_type": "stream",
     "text": [
      "Test set: Average loss: 0.4646, Accuracy: 8465/10000 (84.65%)\n",
      "\n",
      "--Skipping Acc Comp For Corrupted Data--\n",
      "Global Sparsity: 91.10% \n",
      "\n",
      "---------- Pruning Iteration:  24 / 44\n"
     ]
    },
    {
     "name": "stderr",
     "output_type": "stream",
     "text": [
      "Loss=0.45583102107048035 Batch_id=19 Accuracy=79.93: 100%|██████████| 20/20 [00:28<00:00,  1.41s/it]\n",
      "Loss=0.34885865449905396 Batch_id=19 Accuracy=85.48: 100%|██████████| 20/20 [00:28<00:00,  1.41s/it]\n",
      "Loss=0.34544986486434937 Batch_id=19 Accuracy=87.62: 100%|██████████| 20/20 [00:28<00:00,  1.41s/it]\n",
      "Loss=0.32547029852867126 Batch_id=19 Accuracy=88.53: 100%|██████████| 20/20 [00:28<00:00,  1.41s/it]\n",
      "Loss=0.2957393229007721 Batch_id=19 Accuracy=89.23: 100%|██████████| 20/20 [00:28<00:00,  1.41s/it] \n",
      "Loss=0.27783024311065674 Batch_id=19 Accuracy=89.62: 100%|██████████| 20/20 [00:28<00:00,  1.42s/it]\n",
      "Loss=0.26710736751556396 Batch_id=19 Accuracy=90.12: 100%|██████████| 20/20 [00:28<00:00,  1.41s/it]\n",
      "Loss=0.26357501745224 Batch_id=19 Accuracy=90.51: 100%|██████████| 20/20 [00:28<00:00,  1.42s/it]   \n",
      "Loss=0.2693968713283539 Batch_id=19 Accuracy=90.53: 100%|██████████| 20/20 [00:28<00:00,  1.42s/it] \n",
      "Loss=0.28001344203948975 Batch_id=19 Accuracy=90.41: 100%|██████████| 20/20 [00:28<00:00,  1.41s/it]\n"
     ]
    },
    {
     "name": "stdout",
     "output_type": "stream",
     "text": [
      "Test set: Average loss: 0.4704, Accuracy: 8503/10000 (85.03%)\n",
      "\n",
      "--Skipping Acc Comp For Corrupted Data--\n",
      "Global Sparsity: 91.98% \n",
      "\n",
      "---------- Pruning Iteration:  25 / 44\n"
     ]
    },
    {
     "name": "stderr",
     "output_type": "stream",
     "text": [
      "Loss=0.4625566005706787 Batch_id=19 Accuracy=79.55: 100%|██████████| 20/20 [00:28<00:00,  1.42s/it] \n",
      "Loss=0.35467568039894104 Batch_id=19 Accuracy=84.98: 100%|██████████| 20/20 [00:28<00:00,  1.41s/it]\n",
      "Loss=0.3182867169380188 Batch_id=19 Accuracy=87.25: 100%|██████████| 20/20 [00:28<00:00,  1.41s/it] \n",
      "Loss=0.31396496295928955 Batch_id=19 Accuracy=88.07: 100%|██████████| 20/20 [00:28<00:00,  1.41s/it]\n",
      "Loss=0.3025440573692322 Batch_id=19 Accuracy=88.68: 100%|██████████| 20/20 [00:28<00:00,  1.41s/it] \n",
      "Loss=0.28580906987190247 Batch_id=19 Accuracy=88.39: 100%|██████████| 20/20 [00:28<00:00,  1.41s/it]\n",
      "Loss=0.2996573746204376 Batch_id=19 Accuracy=89.18: 100%|██████████| 20/20 [00:28<00:00,  1.41s/it] \n",
      "Loss=0.29622963070869446 Batch_id=19 Accuracy=89.38: 100%|██████████| 20/20 [00:28<00:00,  1.42s/it]\n",
      "Loss=0.28576862812042236 Batch_id=19 Accuracy=89.52: 100%|██████████| 20/20 [00:28<00:00,  1.41s/it]\n",
      "Loss=0.3012416660785675 Batch_id=19 Accuracy=89.95: 100%|██████████| 20/20 [00:28<00:00,  1.41s/it] \n"
     ]
    },
    {
     "name": "stdout",
     "output_type": "stream",
     "text": [
      "Test set: Average loss: 0.4710, Accuracy: 8455/10000 (84.55%)\n",
      "\n",
      "--Skipping Acc Comp For Corrupted Data--\n",
      "Global Sparsity: 92.78% \n",
      "\n",
      "---------- Pruning Iteration:  26 / 44\n"
     ]
    },
    {
     "name": "stderr",
     "output_type": "stream",
     "text": [
      "Loss=0.4460617005825043 Batch_id=19 Accuracy=78.64: 100%|██████████| 20/20 [00:28<00:00,  1.41s/it] \n",
      "Loss=0.40623822808265686 Batch_id=19 Accuracy=84.27: 100%|██████████| 20/20 [00:28<00:00,  1.41s/it]\n",
      "Loss=0.37773773074150085 Batch_id=19 Accuracy=86.31: 100%|██████████| 20/20 [00:28<00:00,  1.41s/it]\n",
      "Loss=0.3552999496459961 Batch_id=19 Accuracy=87.18: 100%|██████████| 20/20 [00:28<00:00,  1.41s/it] \n",
      "Loss=0.32527461647987366 Batch_id=19 Accuracy=87.45: 100%|██████████| 20/20 [00:28<00:00,  1.42s/it]\n",
      "Loss=0.3334498405456543 Batch_id=19 Accuracy=87.86: 100%|██████████| 20/20 [00:28<00:00,  1.41s/it] \n",
      "Loss=0.316536545753479 Batch_id=19 Accuracy=88.31: 100%|██████████| 20/20 [00:28<00:00,  1.42s/it]  \n",
      "Loss=0.3152247667312622 Batch_id=19 Accuracy=88.36: 100%|██████████| 20/20 [00:28<00:00,  1.42s/it] \n",
      "Loss=0.31914907693862915 Batch_id=19 Accuracy=88.73: 100%|██████████| 20/20 [00:28<00:00,  1.41s/it]\n",
      "Loss=0.3276965916156769 Batch_id=19 Accuracy=88.76: 100%|██████████| 20/20 [00:28<00:00,  1.41s/it] \n"
     ]
    },
    {
     "name": "stdout",
     "output_type": "stream",
     "text": [
      "Test set: Average loss: 0.4871, Accuracy: 8420/10000 (84.20%)\n",
      "\n",
      "--Skipping Acc Comp For Corrupted Data--\n",
      "Global Sparsity: 93.50% \n",
      "\n",
      "---------- Pruning Iteration:  27 / 44\n"
     ]
    },
    {
     "name": "stderr",
     "output_type": "stream",
     "text": [
      "Loss=0.4653536081314087 Batch_id=19 Accuracy=78.17: 100%|██████████| 20/20 [00:28<00:00,  1.42s/it] \n",
      "Loss=0.39720049500465393 Batch_id=19 Accuracy=83.12: 100%|██████████| 20/20 [00:28<00:00,  1.42s/it]\n",
      "Loss=0.37640857696533203 Batch_id=19 Accuracy=85.07: 100%|██████████| 20/20 [00:28<00:00,  1.42s/it]\n",
      "Loss=0.3702545464038849 Batch_id=19 Accuracy=86.29: 100%|██████████| 20/20 [00:28<00:00,  1.41s/it] \n",
      "Loss=0.3707934617996216 Batch_id=19 Accuracy=86.62: 100%|██████████| 20/20 [00:28<00:00,  1.41s/it] \n",
      "Loss=0.3526175916194916 Batch_id=19 Accuracy=86.95: 100%|██████████| 20/20 [00:28<00:00,  1.42s/it] \n",
      "Loss=0.3402269184589386 Batch_id=19 Accuracy=87.19: 100%|██████████| 20/20 [00:28<00:00,  1.41s/it] \n",
      "Loss=0.3246477246284485 Batch_id=19 Accuracy=87.68: 100%|██████████| 20/20 [00:28<00:00,  1.41s/it] \n",
      "Loss=0.32023516297340393 Batch_id=19 Accuracy=87.92: 100%|██████████| 20/20 [00:28<00:00,  1.42s/it]\n",
      "Loss=0.3447052538394928 Batch_id=19 Accuracy=88.03: 100%|██████████| 20/20 [00:28<00:00,  1.42s/it] \n"
     ]
    },
    {
     "name": "stdout",
     "output_type": "stream",
     "text": [
      "Test set: Average loss: 0.4624, Accuracy: 8461/10000 (84.61%)\n",
      "\n",
      "--Skipping Acc Comp For Corrupted Data--\n",
      "Global Sparsity: 94.14% \n",
      "\n",
      "---------- Pruning Iteration:  28 / 44\n"
     ]
    },
    {
     "name": "stderr",
     "output_type": "stream",
     "text": [
      "Loss=0.496509313583374 Batch_id=19 Accuracy=77.83: 100%|██████████| 20/20 [00:28<00:00,  1.42s/it]  \n",
      "Loss=0.4347919225692749 Batch_id=19 Accuracy=82.25: 100%|██████████| 20/20 [00:28<00:00,  1.41s/it] \n",
      "Loss=0.45004165172576904 Batch_id=19 Accuracy=84.10: 100%|██████████| 20/20 [00:28<00:00,  1.41s/it]\n",
      "Loss=0.38628190755844116 Batch_id=19 Accuracy=84.93: 100%|██████████| 20/20 [00:28<00:00,  1.41s/it]\n",
      "Loss=0.41516581177711487 Batch_id=19 Accuracy=85.43: 100%|██████████| 20/20 [00:28<00:00,  1.42s/it]\n",
      "Loss=0.36192166805267334 Batch_id=19 Accuracy=85.75: 100%|██████████| 20/20 [00:28<00:00,  1.42s/it]\n",
      "Loss=0.37207892537117004 Batch_id=19 Accuracy=86.10: 100%|██████████| 20/20 [00:28<00:00,  1.41s/it]\n",
      "Loss=0.35503900051116943 Batch_id=19 Accuracy=86.63: 100%|██████████| 20/20 [00:28<00:00,  1.41s/it]\n",
      "Loss=0.3475937843322754 Batch_id=19 Accuracy=86.90: 100%|██████████| 20/20 [00:28<00:00,  1.42s/it] \n",
      "Loss=0.36857539415359497 Batch_id=19 Accuracy=86.89: 100%|██████████| 20/20 [00:28<00:00,  1.42s/it]\n"
     ]
    },
    {
     "name": "stdout",
     "output_type": "stream",
     "text": [
      "Test set: Average loss: 0.4772, Accuracy: 8420/10000 (84.20%)\n",
      "\n",
      "--Testing Corruptions--\n"
     ]
    },
    {
     "name": "stderr",
     "output_type": "stream",
     "text": [
      "100%|██████████| 19/19 [04:00<00:00, 12.68s/it]\n"
     ]
    },
    {
     "name": "stdout",
     "output_type": "stream",
     "text": [
      "\n",
      "Avg Corruption Accuracy: 76.21%\n",
      "Global Sparsity: 94.72% \n",
      "\n",
      "---------- Pruning Iteration:  29 / 44\n"
     ]
    },
    {
     "name": "stderr",
     "output_type": "stream",
     "text": [
      "Loss=0.5167651176452637 Batch_id=19 Accuracy=76.50: 100%|██████████| 20/20 [00:28<00:00,  1.42s/it]\n",
      "Loss=0.44144299626350403 Batch_id=19 Accuracy=81.28: 100%|██████████| 20/20 [00:28<00:00,  1.42s/it]\n",
      "Loss=0.4082982540130615 Batch_id=19 Accuracy=82.95: 100%|██████████| 20/20 [00:28<00:00,  1.43s/it] \n",
      "Loss=0.4218408465385437 Batch_id=19 Accuracy=83.59: 100%|██████████| 20/20 [00:28<00:00,  1.42s/it] \n",
      "Loss=0.37971311807632446 Batch_id=19 Accuracy=84.43: 100%|██████████| 20/20 [00:28<00:00,  1.42s/it]\n",
      "Loss=0.39079344272613525 Batch_id=19 Accuracy=84.91: 100%|██████████| 20/20 [00:28<00:00,  1.42s/it]\n",
      "Loss=0.4081650376319885 Batch_id=19 Accuracy=85.20: 100%|██████████| 20/20 [00:28<00:00,  1.42s/it] \n",
      "Loss=0.3979828655719757 Batch_id=19 Accuracy=85.36: 100%|██████████| 20/20 [00:28<00:00,  1.43s/it] \n"
     ]
    },
    {
     "name": "stdout",
     "output_type": "stream",
     "text": [
      "Epoch 00008: reducing learning rate of group 0 to 5.0000e-04.\n"
     ]
    },
    {
     "name": "stderr",
     "output_type": "stream",
     "text": [
      "Loss=0.3691703677177429 Batch_id=19 Accuracy=86.27: 100%|██████████| 20/20 [00:28<00:00,  1.42s/it] \n",
      "Loss=0.33058834075927734 Batch_id=19 Accuracy=86.76: 100%|██████████| 20/20 [00:28<00:00,  1.43s/it]\n"
     ]
    },
    {
     "name": "stdout",
     "output_type": "stream",
     "text": [
      "Test set: Average loss: 0.4543, Accuracy: 8475/10000 (84.75%)\n",
      "\n",
      "--Skipping Acc Comp For Corrupted Data--\n",
      "Global Sparsity: 95.25% \n",
      "\n",
      "---------- Pruning Iteration:  30 / 44\n"
     ]
    },
    {
     "name": "stderr",
     "output_type": "stream",
     "text": [
      "Loss=0.5776181221008301 Batch_id=19 Accuracy=75.36: 100%|██████████| 20/20 [00:28<00:00,  1.43s/it]\n",
      "Loss=0.47689658403396606 Batch_id=19 Accuracy=80.13: 100%|██████████| 20/20 [00:28<00:00,  1.42s/it]\n",
      "Loss=0.48626548051834106 Batch_id=19 Accuracy=81.68: 100%|██████████| 20/20 [00:28<00:00,  1.42s/it]\n",
      "Loss=0.45643535256385803 Batch_id=19 Accuracy=82.66: 100%|██████████| 20/20 [00:28<00:00,  1.42s/it]\n",
      "Loss=0.4208209216594696 Batch_id=19 Accuracy=83.17: 100%|██████████| 20/20 [00:28<00:00,  1.42s/it] \n",
      "Loss=0.43029358983039856 Batch_id=19 Accuracy=83.37: 100%|██████████| 20/20 [00:28<00:00,  1.42s/it]\n",
      "Loss=0.43189552426338196 Batch_id=19 Accuracy=83.86: 100%|██████████| 20/20 [00:28<00:00,  1.42s/it]\n",
      "Loss=0.4353809952735901 Batch_id=19 Accuracy=84.20: 100%|██████████| 20/20 [00:28<00:00,  1.42s/it] \n"
     ]
    },
    {
     "name": "stdout",
     "output_type": "stream",
     "text": [
      "Epoch 00008: reducing learning rate of group 0 to 5.0000e-04.\n"
     ]
    },
    {
     "name": "stderr",
     "output_type": "stream",
     "text": [
      "Loss=0.36254510283470154 Batch_id=19 Accuracy=85.08: 100%|██████████| 20/20 [00:28<00:00,  1.43s/it]\n",
      "Loss=0.3614508807659149 Batch_id=19 Accuracy=85.56: 100%|██████████| 20/20 [00:28<00:00,  1.42s/it] \n"
     ]
    },
    {
     "name": "stdout",
     "output_type": "stream",
     "text": [
      "Test set: Average loss: 0.4487, Accuracy: 8476/10000 (84.76%)\n",
      "\n",
      "--Skipping Acc Comp For Corrupted Data--\n",
      "Global Sparsity: 95.72% \n",
      "\n",
      "---------- Pruning Iteration:  31 / 44\n"
     ]
    },
    {
     "name": "stderr",
     "output_type": "stream",
     "text": [
      "Loss=0.6034010648727417 Batch_id=19 Accuracy=74.21: 100%|██████████| 20/20 [00:29<00:00,  1.45s/it]\n",
      "Loss=0.5691819787025452 Batch_id=19 Accuracy=79.02: 100%|██████████| 20/20 [00:28<00:00,  1.43s/it]\n",
      "Loss=0.47525230050086975 Batch_id=19 Accuracy=80.74: 100%|██████████| 20/20 [00:29<00:00,  1.47s/it]\n",
      "Loss=0.4858897030353546 Batch_id=19 Accuracy=81.24: 100%|██████████| 20/20 [00:28<00:00,  1.42s/it] \n",
      "Loss=0.5151931047439575 Batch_id=19 Accuracy=81.76: 100%|██████████| 20/20 [00:28<00:00,  1.42s/it] \n",
      "Loss=0.455549031496048 Batch_id=19 Accuracy=82.06: 100%|██████████| 20/20 [00:28<00:00,  1.42s/it]  \n",
      "Loss=0.4570640027523041 Batch_id=19 Accuracy=82.16: 100%|██████████| 20/20 [00:28<00:00,  1.42s/it] \n",
      "Loss=0.4271062910556793 Batch_id=19 Accuracy=82.85: 100%|██████████| 20/20 [00:28<00:00,  1.42s/it] \n",
      "Loss=0.429718017578125 Batch_id=19 Accuracy=82.85: 100%|██████████| 20/20 [00:28<00:00,  1.43s/it]  \n",
      "Loss=0.4158667027950287 Batch_id=19 Accuracy=83.32: 100%|██████████| 20/20 [00:28<00:00,  1.42s/it] \n"
     ]
    },
    {
     "name": "stdout",
     "output_type": "stream",
     "text": [
      "Test set: Average loss: 0.4590, Accuracy: 8427/10000 (84.27%)\n",
      "\n",
      "--Skipping Acc Comp For Corrupted Data--\n",
      "Global Sparsity: 96.14% \n",
      "\n",
      "---------- Pruning Iteration:  32 / 44\n"
     ]
    },
    {
     "name": "stderr",
     "output_type": "stream",
     "text": [
      "Loss=0.5628901124000549 Batch_id=19 Accuracy=72.86: 100%|██████████| 20/20 [00:28<00:00,  1.41s/it]\n",
      "Loss=0.5559841394424438 Batch_id=19 Accuracy=77.93: 100%|██████████| 20/20 [00:28<00:00,  1.42s/it]\n",
      "Loss=0.5247881412506104 Batch_id=19 Accuracy=79.46: 100%|██████████| 20/20 [00:28<00:00,  1.41s/it]\n",
      "Loss=0.5349692106246948 Batch_id=19 Accuracy=80.25: 100%|██████████| 20/20 [00:28<00:00,  1.42s/it] \n",
      "Loss=0.5214623808860779 Batch_id=19 Accuracy=80.82: 100%|██████████| 20/20 [00:28<00:00,  1.42s/it] \n",
      "Loss=0.541358470916748 Batch_id=19 Accuracy=81.08: 100%|██████████| 20/20 [00:28<00:00,  1.42s/it]  \n",
      "Loss=0.5176083445549011 Batch_id=19 Accuracy=81.58: 100%|██████████| 20/20 [00:28<00:00,  1.42s/it] \n",
      "Loss=0.5039023756980896 Batch_id=19 Accuracy=81.71: 100%|██████████| 20/20 [00:28<00:00,  1.42s/it] \n",
      "Loss=0.4985630214214325 Batch_id=19 Accuracy=81.90: 100%|██████████| 20/20 [00:28<00:00,  1.43s/it] \n",
      "Loss=0.4814777672290802 Batch_id=19 Accuracy=82.05: 100%|██████████| 20/20 [00:28<00:00,  1.42s/it] \n"
     ]
    },
    {
     "name": "stdout",
     "output_type": "stream",
     "text": [
      "Test set: Average loss: 0.4613, Accuracy: 8443/10000 (84.43%)\n",
      "\n",
      "--Skipping Acc Comp For Corrupted Data--\n",
      "Global Sparsity: 96.52% \n",
      "\n",
      "---------- Pruning Iteration:  33 / 44\n"
     ]
    },
    {
     "name": "stderr",
     "output_type": "stream",
     "text": [
      "Loss=0.588573157787323 Batch_id=19 Accuracy=72.70: 100%|██████████| 20/20 [00:28<00:00,  1.42s/it] \n",
      "Loss=0.6066716909408569 Batch_id=19 Accuracy=76.86: 100%|██████████| 20/20 [00:28<00:00,  1.42s/it]\n",
      "Loss=0.5524783134460449 Batch_id=19 Accuracy=78.31: 100%|██████████| 20/20 [00:28<00:00,  1.42s/it]\n",
      "Loss=0.5130433440208435 Batch_id=19 Accuracy=79.19: 100%|██████████| 20/20 [00:28<00:00,  1.43s/it] \n",
      "Loss=0.5172131061553955 Batch_id=19 Accuracy=79.53: 100%|██████████| 20/20 [00:28<00:00,  1.43s/it] \n",
      "Loss=0.5012781620025635 Batch_id=19 Accuracy=80.09: 100%|██████████| 20/20 [00:28<00:00,  1.43s/it]\n",
      "Loss=0.4862387776374817 Batch_id=19 Accuracy=80.47: 100%|██████████| 20/20 [00:28<00:00,  1.43s/it] \n",
      "Loss=0.5203322768211365 Batch_id=19 Accuracy=80.72: 100%|██████████| 20/20 [00:29<00:00,  1.47s/it] \n",
      "Loss=0.5180436372756958 Batch_id=19 Accuracy=80.47: 100%|██████████| 20/20 [00:29<00:00,  1.49s/it] \n",
      "Loss=0.547130286693573 Batch_id=19 Accuracy=80.98: 100%|██████████| 20/20 [00:28<00:00,  1.44s/it]  "
     ]
    },
    {
     "name": "stdout",
     "output_type": "stream",
     "text": [
      "Epoch 00010: reducing learning rate of group 0 to 5.0000e-04.\n"
     ]
    },
    {
     "name": "stderr",
     "output_type": "stream",
     "text": [
      "\n"
     ]
    },
    {
     "name": "stdout",
     "output_type": "stream",
     "text": [
      "Test set: Average loss: 0.4590, Accuracy: 8422/10000 (84.22%)\n",
      "\n",
      "--Skipping Acc Comp For Corrupted Data--\n",
      "Global Sparsity: 96.87% \n",
      "\n",
      "---------- Pruning Iteration:  34 / 44\n"
     ]
    },
    {
     "name": "stderr",
     "output_type": "stream",
     "text": [
      "Loss=0.6477447748184204 Batch_id=19 Accuracy=71.23: 100%|██████████| 20/20 [00:28<00:00,  1.43s/it]\n",
      "Loss=0.5818473100662231 Batch_id=19 Accuracy=75.84: 100%|██████████| 20/20 [00:28<00:00,  1.42s/it]\n",
      "Loss=0.6302713751792908 Batch_id=19 Accuracy=77.11: 100%|██████████| 20/20 [00:28<00:00,  1.43s/it]\n",
      "Loss=0.5546788573265076 Batch_id=19 Accuracy=78.05: 100%|██████████| 20/20 [00:28<00:00,  1.42s/it]\n",
      "Loss=0.5717976093292236 Batch_id=19 Accuracy=78.28: 100%|██████████| 20/20 [00:28<00:00,  1.43s/it]\n",
      "Loss=0.5162721872329712 Batch_id=19 Accuracy=79.00: 100%|██████████| 20/20 [00:28<00:00,  1.43s/it]\n",
      "Loss=0.597276508808136 Batch_id=19 Accuracy=79.12: 100%|██████████| 20/20 [00:28<00:00,  1.43s/it] \n",
      "Loss=0.5112004280090332 Batch_id=19 Accuracy=79.06: 100%|██████████| 20/20 [00:28<00:00,  1.43s/it]\n",
      "Loss=0.5428621172904968 Batch_id=19 Accuracy=79.47: 100%|██████████| 20/20 [00:28<00:00,  1.42s/it]\n",
      "Loss=0.5566010475158691 Batch_id=19 Accuracy=79.53: 100%|██████████| 20/20 [00:29<00:00,  1.46s/it]\n"
     ]
    },
    {
     "name": "stdout",
     "output_type": "stream",
     "text": [
      "Test set: Average loss: 0.4718, Accuracy: 8383/10000 (83.83%)\n",
      "\n",
      "--Skipping Acc Comp For Corrupted Data--\n",
      "Global Sparsity: 97.17% \n",
      "\n",
      "---------- Pruning Iteration:  35 / 44\n"
     ]
    },
    {
     "name": "stderr",
     "output_type": "stream",
     "text": [
      "Loss=0.7118058800697327 Batch_id=19 Accuracy=70.49: 100%|██████████| 20/20 [00:28<00:00,  1.43s/it]\n",
      "Loss=0.6612511873245239 Batch_id=19 Accuracy=75.02: 100%|██████████| 20/20 [00:28<00:00,  1.42s/it]\n",
      "Loss=0.5810503959655762 Batch_id=19 Accuracy=76.15: 100%|██████████| 20/20 [00:28<00:00,  1.42s/it]\n",
      "Loss=0.6294674277305603 Batch_id=19 Accuracy=76.64: 100%|██████████| 20/20 [00:28<00:00,  1.43s/it]\n",
      "Loss=0.604315459728241 Batch_id=19 Accuracy=77.17: 100%|██████████| 20/20 [00:28<00:00,  1.42s/it] \n",
      "Loss=0.5582418441772461 Batch_id=19 Accuracy=77.52: 100%|██████████| 20/20 [00:28<00:00,  1.43s/it]\n",
      "Loss=0.6073254346847534 Batch_id=19 Accuracy=77.43: 100%|██████████| 20/20 [00:28<00:00,  1.43s/it]\n",
      "Loss=0.5551499128341675 Batch_id=19 Accuracy=77.97: 100%|██████████| 20/20 [00:28<00:00,  1.42s/it]\n",
      "Loss=0.5963816046714783 Batch_id=19 Accuracy=78.32: 100%|██████████| 20/20 [00:28<00:00,  1.42s/it]\n",
      "Loss=0.5970997214317322 Batch_id=19 Accuracy=78.35: 100%|██████████| 20/20 [00:28<00:00,  1.42s/it]\n"
     ]
    },
    {
     "name": "stdout",
     "output_type": "stream",
     "text": [
      "Test set: Average loss: 0.4680, Accuracy: 8386/10000 (83.86%)\n",
      "\n",
      "--Skipping Acc Comp For Corrupted Data--\n",
      "Global Sparsity: 97.45% \n",
      "\n",
      "---------- Pruning Iteration:  36 / 44\n"
     ]
    },
    {
     "name": "stderr",
     "output_type": "stream",
     "text": [
      "Loss=0.7377390265464783 Batch_id=19 Accuracy=69.60: 100%|██████████| 20/20 [00:28<00:00,  1.43s/it]\n",
      "Loss=0.6838768720626831 Batch_id=19 Accuracy=73.51: 100%|██████████| 20/20 [00:28<00:00,  1.43s/it]\n",
      "Loss=0.5998274683952332 Batch_id=19 Accuracy=75.05: 100%|██████████| 20/20 [00:28<00:00,  1.42s/it]\n",
      "Loss=0.6013849377632141 Batch_id=19 Accuracy=75.88: 100%|██████████| 20/20 [00:28<00:00,  1.43s/it]\n",
      "Loss=0.6030270457267761 Batch_id=19 Accuracy=75.96: 100%|██████████| 20/20 [00:29<00:00,  1.47s/it]\n",
      "Loss=0.6322901248931885 Batch_id=19 Accuracy=76.55: 100%|██████████| 20/20 [00:29<00:00,  1.48s/it]\n"
     ]
    },
    {
     "name": "stdout",
     "output_type": "stream",
     "text": [
      "Epoch 00006: reducing learning rate of group 0 to 5.0000e-04.\n"
     ]
    },
    {
     "name": "stderr",
     "output_type": "stream",
     "text": [
      "Loss=0.5833950638771057 Batch_id=19 Accuracy=76.86: 100%|██████████| 20/20 [00:28<00:00,  1.44s/it]\n",
      "Loss=0.6009591817855835 Batch_id=19 Accuracy=77.56: 100%|██████████| 20/20 [00:29<00:00,  1.46s/it]\n",
      "Loss=0.5937842726707458 Batch_id=19 Accuracy=77.45: 100%|██████████| 20/20 [00:28<00:00,  1.43s/it]\n",
      "Loss=0.5796797275543213 Batch_id=19 Accuracy=77.67: 100%|██████████| 20/20 [00:28<00:00,  1.42s/it]\n"
     ]
    },
    {
     "name": "stdout",
     "output_type": "stream",
     "text": [
      "Test set: Average loss: 0.4616, Accuracy: 8394/10000 (83.94%)\n",
      "\n",
      "--Skipping Acc Comp For Corrupted Data--\n",
      "Global Sparsity: 97.70% \n",
      "\n",
      "---------- Pruning Iteration:  37 / 44\n"
     ]
    },
    {
     "name": "stderr",
     "output_type": "stream",
     "text": [
      "Loss=0.7755358815193176 Batch_id=19 Accuracy=68.73: 100%|██████████| 20/20 [00:28<00:00,  1.42s/it]\n",
      "Loss=0.6669915914535522 Batch_id=19 Accuracy=72.36: 100%|██████████| 20/20 [00:28<00:00,  1.42s/it]\n",
      "Loss=0.6712614893913269 Batch_id=19 Accuracy=73.64: 100%|██████████| 20/20 [00:28<00:00,  1.42s/it]\n",
      "Loss=0.6904706358909607 Batch_id=19 Accuracy=74.36: 100%|██████████| 20/20 [00:28<00:00,  1.42s/it]\n",
      "Loss=0.6772947311401367 Batch_id=19 Accuracy=74.73: 100%|██████████| 20/20 [00:28<00:00,  1.42s/it]\n"
     ]
    },
    {
     "name": "stdout",
     "output_type": "stream",
     "text": [
      "Epoch 00005: reducing learning rate of group 0 to 5.0000e-04.\n"
     ]
    },
    {
     "name": "stderr",
     "output_type": "stream",
     "text": [
      "Loss=0.6371669769287109 Batch_id=19 Accuracy=75.23: 100%|██████████| 20/20 [00:28<00:00,  1.43s/it]\n",
      "Loss=0.6512061357498169 Batch_id=19 Accuracy=75.28: 100%|██████████| 20/20 [00:28<00:00,  1.42s/it]\n",
      "Loss=0.6551495790481567 Batch_id=19 Accuracy=75.67: 100%|██████████| 20/20 [00:28<00:00,  1.42s/it]\n",
      "Loss=0.6214233636856079 Batch_id=19 Accuracy=75.65: 100%|██████████| 20/20 [00:28<00:00,  1.42s/it]\n",
      "Loss=0.6313172578811646 Batch_id=19 Accuracy=75.94: 100%|██████████| 20/20 [00:28<00:00,  1.42s/it]\n"
     ]
    },
    {
     "name": "stdout",
     "output_type": "stream",
     "text": [
      "Test set: Average loss: 0.4666, Accuracy: 8436/10000 (84.36%)\n",
      "\n",
      "--Skipping Acc Comp For Corrupted Data--\n",
      "Global Sparsity: 97.93% \n",
      "\n",
      "---------- Pruning Iteration:  38 / 44\n"
     ]
    },
    {
     "name": "stderr",
     "output_type": "stream",
     "text": [
      "Loss=0.8181467652320862 Batch_id=19 Accuracy=66.98: 100%|██████████| 20/20 [00:28<00:00,  1.42s/it]\n",
      "Loss=0.7531688213348389 Batch_id=19 Accuracy=70.49: 100%|██████████| 20/20 [00:28<00:00,  1.42s/it]\n",
      "Loss=0.7123532891273499 Batch_id=19 Accuracy=71.96: 100%|██████████| 20/20 [00:28<00:00,  1.42s/it]\n",
      "Loss=0.6684522032737732 Batch_id=19 Accuracy=72.61: 100%|██████████| 20/20 [00:28<00:00,  1.42s/it]\n",
      "Loss=0.6979208588600159 Batch_id=19 Accuracy=73.07: 100%|██████████| 20/20 [00:28<00:00,  1.43s/it]\n",
      "Loss=0.678207278251648 Batch_id=19 Accuracy=73.18: 100%|██████████| 20/20 [00:28<00:00,  1.43s/it] \n",
      "Loss=0.6980016231536865 Batch_id=19 Accuracy=73.56: 100%|██████████| 20/20 [00:28<00:00,  1.42s/it]\n"
     ]
    },
    {
     "name": "stdout",
     "output_type": "stream",
     "text": [
      "Epoch 00007: reducing learning rate of group 0 to 5.0000e-04.\n"
     ]
    },
    {
     "name": "stderr",
     "output_type": "stream",
     "text": [
      "Loss=0.6873311400413513 Batch_id=19 Accuracy=74.03: 100%|██████████| 20/20 [00:28<00:00,  1.43s/it]\n",
      "Loss=0.6522119045257568 Batch_id=19 Accuracy=74.63: 100%|██████████| 20/20 [00:28<00:00,  1.43s/it]\n",
      "Loss=0.6822044253349304 Batch_id=19 Accuracy=74.59: 100%|██████████| 20/20 [00:28<00:00,  1.42s/it]\n"
     ]
    },
    {
     "name": "stdout",
     "output_type": "stream",
     "text": [
      "Test set: Average loss: 0.4709, Accuracy: 8399/10000 (83.99%)\n",
      "\n",
      "--Skipping Acc Comp For Corrupted Data--\n",
      "Global Sparsity: 98.13% \n",
      "\n",
      "---------- Pruning Iteration:  39 / 44\n"
     ]
    },
    {
     "name": "stderr",
     "output_type": "stream",
     "text": [
      "Loss=0.8479827046394348 Batch_id=19 Accuracy=65.53: 100%|██████████| 20/20 [00:28<00:00,  1.43s/it]\n",
      "Loss=0.8120588660240173 Batch_id=19 Accuracy=69.68: 100%|██████████| 20/20 [00:28<00:00,  1.42s/it]\n",
      "Loss=0.7964291572570801 Batch_id=19 Accuracy=70.96: 100%|██████████| 20/20 [00:28<00:00,  1.42s/it]\n",
      "Loss=0.7637169361114502 Batch_id=19 Accuracy=71.22: 100%|██████████| 20/20 [00:28<00:00,  1.44s/it]\n",
      "Loss=0.783298909664154 Batch_id=19 Accuracy=71.67: 100%|██████████| 20/20 [00:28<00:00,  1.42s/it] \n",
      "Loss=0.7143726944923401 Batch_id=19 Accuracy=71.94: 100%|██████████| 20/20 [00:28<00:00,  1.43s/it]\n",
      "Loss=0.7503987550735474 Batch_id=19 Accuracy=72.24: 100%|██████████| 20/20 [00:28<00:00,  1.42s/it]\n",
      "Loss=0.6984565854072571 Batch_id=19 Accuracy=72.28: 100%|██████████| 20/20 [00:28<00:00,  1.42s/it]\n",
      "Loss=0.7281574010848999 Batch_id=19 Accuracy=72.60: 100%|██████████| 20/20 [00:28<00:00,  1.42s/it]\n",
      "Loss=0.7112107276916504 Batch_id=19 Accuracy=72.75: 100%|██████████| 20/20 [00:28<00:00,  1.43s/it]\n"
     ]
    },
    {
     "name": "stdout",
     "output_type": "stream",
     "text": [
      "Test set: Average loss: 0.4844, Accuracy: 8357/10000 (83.57%)\n",
      "\n",
      "--Skipping Acc Comp For Corrupted Data--\n",
      "Global Sparsity: 98.31% \n",
      "\n",
      "---------- Pruning Iteration:  40 / 44\n"
     ]
    },
    {
     "name": "stderr",
     "output_type": "stream",
     "text": [
      "Loss=0.8440868854522705 Batch_id=19 Accuracy=65.45: 100%|██████████| 20/20 [00:28<00:00,  1.42s/it]\n",
      "Loss=0.8171498775482178 Batch_id=19 Accuracy=68.99: 100%|██████████| 20/20 [00:28<00:00,  1.43s/it]\n",
      "Loss=0.7798582911491394 Batch_id=19 Accuracy=70.16: 100%|██████████| 20/20 [00:28<00:00,  1.42s/it]\n",
      "Loss=0.8426384329795837 Batch_id=19 Accuracy=70.82: 100%|██████████| 20/20 [00:28<00:00,  1.43s/it]\n",
      "Loss=0.780750572681427 Batch_id=19 Accuracy=71.04: 100%|██████████| 20/20 [00:28<00:00,  1.42s/it] \n",
      "Loss=0.7745927572250366 Batch_id=19 Accuracy=71.36: 100%|██████████| 20/20 [00:28<00:00,  1.43s/it]\n",
      "Loss=0.7542737126350403 Batch_id=19 Accuracy=71.51: 100%|██████████| 20/20 [00:28<00:00,  1.43s/it]\n",
      "Loss=0.7312027812004089 Batch_id=19 Accuracy=71.75: 100%|██████████| 20/20 [00:28<00:00,  1.43s/it]\n",
      "Loss=0.7473974823951721 Batch_id=19 Accuracy=71.81: 100%|██████████| 20/20 [00:28<00:00,  1.43s/it]\n",
      "Loss=0.7646023035049438 Batch_id=19 Accuracy=71.82: 100%|██████████| 20/20 [00:28<00:00,  1.43s/it]\n"
     ]
    },
    {
     "name": "stdout",
     "output_type": "stream",
     "text": [
      "Test set: Average loss: 0.4992, Accuracy: 8324/10000 (83.24%)\n",
      "\n",
      "--Skipping Acc Comp For Corrupted Data--\n",
      "Global Sparsity: 98.48% \n",
      "\n",
      "---------- Pruning Iteration:  41 / 44\n"
     ]
    },
    {
     "name": "stderr",
     "output_type": "stream",
     "text": [
      "Loss=0.8884660005569458 Batch_id=19 Accuracy=65.10: 100%|██████████| 20/20 [00:28<00:00,  1.43s/it]\n",
      "Loss=0.8159587979316711 Batch_id=19 Accuracy=68.38: 100%|██████████| 20/20 [00:28<00:00,  1.42s/it]\n",
      "Loss=0.7800387144088745 Batch_id=19 Accuracy=69.25: 100%|██████████| 20/20 [00:28<00:00,  1.43s/it]\n",
      "Loss=0.7897199988365173 Batch_id=19 Accuracy=69.74: 100%|██████████| 20/20 [00:28<00:00,  1.43s/it]\n",
      "Loss=0.7714138031005859 Batch_id=19 Accuracy=69.88: 100%|██████████| 20/20 [00:28<00:00,  1.42s/it]\n",
      "Loss=0.7578476667404175 Batch_id=19 Accuracy=70.30: 100%|██████████| 20/20 [00:28<00:00,  1.42s/it]\n",
      "Loss=0.7985290288925171 Batch_id=19 Accuracy=70.43: 100%|██████████| 20/20 [00:28<00:00,  1.43s/it]\n",
      "Loss=0.8129971027374268 Batch_id=19 Accuracy=70.53: 100%|██████████| 20/20 [00:29<00:00,  1.46s/it]\n",
      "Loss=0.794630765914917 Batch_id=19 Accuracy=70.70: 100%|██████████| 20/20 [00:28<00:00,  1.44s/it] \n"
     ]
    },
    {
     "name": "stdout",
     "output_type": "stream",
     "text": [
      "Epoch 00009: reducing learning rate of group 0 to 5.0000e-04.\n"
     ]
    },
    {
     "name": "stderr",
     "output_type": "stream",
     "text": [
      "Loss=0.7344264388084412 Batch_id=19 Accuracy=71.13: 100%|██████████| 20/20 [00:28<00:00,  1.42s/it]\n"
     ]
    },
    {
     "name": "stdout",
     "output_type": "stream",
     "text": [
      "Test set: Average loss: 0.4997, Accuracy: 8271/10000 (82.71%)\n",
      "\n",
      "--Skipping Acc Comp For Corrupted Data--\n",
      "Global Sparsity: 98.62% \n",
      "\n",
      "---------- Pruning Iteration:  42 / 44\n"
     ]
    },
    {
     "name": "stderr",
     "output_type": "stream",
     "text": [
      "Loss=0.8156059980392456 Batch_id=19 Accuracy=64.46: 100%|██████████| 20/20 [00:28<00:00,  1.44s/it]\n",
      "Loss=0.8471945524215698 Batch_id=19 Accuracy=67.29: 100%|██████████| 20/20 [00:29<00:00,  1.46s/it]\n",
      "Loss=0.821376383304596 Batch_id=19 Accuracy=68.27: 100%|██████████| 20/20 [00:29<00:00,  1.48s/it] \n",
      "Loss=0.7911772131919861 Batch_id=19 Accuracy=68.83: 100%|██████████| 20/20 [00:28<00:00,  1.43s/it]\n",
      "Loss=0.7774133086204529 Batch_id=19 Accuracy=69.09: 100%|██████████| 20/20 [00:28<00:00,  1.42s/it]\n",
      "Loss=0.8105809092521667 Batch_id=19 Accuracy=69.45: 100%|██████████| 20/20 [00:28<00:00,  1.43s/it]\n",
      "Loss=0.8005316257476807 Batch_id=19 Accuracy=69.25: 100%|██████████| 20/20 [00:28<00:00,  1.42s/it]\n",
      "Loss=0.7933310270309448 Batch_id=19 Accuracy=69.53: 100%|██████████| 20/20 [00:28<00:00,  1.42s/it]\n"
     ]
    },
    {
     "name": "stdout",
     "output_type": "stream",
     "text": [
      "Epoch 00008: reducing learning rate of group 0 to 5.0000e-04.\n"
     ]
    },
    {
     "name": "stderr",
     "output_type": "stream",
     "text": [
      "Loss=0.8073735237121582 Batch_id=19 Accuracy=69.98: 100%|██████████| 20/20 [00:28<00:00,  1.43s/it]\n",
      "Loss=0.7637330293655396 Batch_id=19 Accuracy=70.23: 100%|██████████| 20/20 [00:28<00:00,  1.43s/it]\n"
     ]
    },
    {
     "name": "stdout",
     "output_type": "stream",
     "text": [
      "Test set: Average loss: 0.5061, Accuracy: 8272/10000 (82.72%)\n",
      "\n",
      "--Skipping Acc Comp For Corrupted Data--\n",
      "Global Sparsity: 98.76% \n",
      "\n",
      "---------- Pruning Iteration:  43 / 44\n"
     ]
    },
    {
     "name": "stderr",
     "output_type": "stream",
     "text": [
      "Loss=0.9005135297775269 Batch_id=19 Accuracy=63.50: 100%|██████████| 20/20 [00:28<00:00,  1.43s/it]\n",
      "Loss=0.849602997303009 Batch_id=19 Accuracy=66.65: 100%|██████████| 20/20 [00:28<00:00,  1.43s/it] \n",
      "Loss=0.8881708383560181 Batch_id=19 Accuracy=67.28: 100%|██████████| 20/20 [00:29<00:00,  1.48s/it]\n",
      "Loss=0.8293997645378113 Batch_id=19 Accuracy=67.79: 100%|██████████| 20/20 [00:28<00:00,  1.42s/it]\n",
      "Loss=0.8297399282455444 Batch_id=19 Accuracy=68.06: 100%|██████████| 20/20 [00:28<00:00,  1.42s/it]\n",
      "Loss=0.8160886168479919 Batch_id=19 Accuracy=68.13: 100%|██████████| 20/20 [00:28<00:00,  1.43s/it]\n",
      "Loss=0.7955590486526489 Batch_id=19 Accuracy=68.41: 100%|██████████| 20/20 [00:28<00:00,  1.42s/it]\n",
      "Loss=0.8303422927856445 Batch_id=19 Accuracy=68.64: 100%|██████████| 20/20 [00:28<00:00,  1.42s/it]\n",
      "Loss=0.8035256862640381 Batch_id=19 Accuracy=68.83: 100%|██████████| 20/20 [00:28<00:00,  1.43s/it]\n",
      "Loss=0.8813967704772949 Batch_id=19 Accuracy=68.83: 100%|██████████| 20/20 [00:28<00:00,  1.43s/it]"
     ]
    },
    {
     "name": "stdout",
     "output_type": "stream",
     "text": [
      "Epoch 00010: reducing learning rate of group 0 to 5.0000e-04.\n"
     ]
    },
    {
     "name": "stderr",
     "output_type": "stream",
     "text": [
      "\n"
     ]
    },
    {
     "name": "stdout",
     "output_type": "stream",
     "text": [
      "Test set: Average loss: 0.5166, Accuracy: 8237/10000 (82.37%)\n",
      "\n",
      "--Skipping Acc Comp For Corrupted Data--\n",
      "Global Sparsity: 98.88% \n",
      "\n",
      "---------- Pruning Iteration:  44 / 44\n"
     ]
    },
    {
     "name": "stderr",
     "output_type": "stream",
     "text": [
      "Loss=0.9171775579452515 Batch_id=19 Accuracy=62.61: 100%|██████████| 20/20 [00:28<00:00,  1.43s/it]\n",
      "Loss=0.8554930686950684 Batch_id=19 Accuracy=65.88: 100%|██████████| 20/20 [00:28<00:00,  1.42s/it]\n",
      "Loss=0.927913248538971 Batch_id=19 Accuracy=66.47: 100%|██████████| 20/20 [00:28<00:00,  1.42s/it] \n",
      "Loss=0.8484690189361572 Batch_id=19 Accuracy=66.79: 100%|██████████| 20/20 [00:28<00:00,  1.43s/it]\n",
      "Loss=0.8369331955909729 Batch_id=19 Accuracy=67.14: 100%|██████████| 20/20 [00:28<00:00,  1.42s/it]\n",
      "Loss=0.8123447895050049 Batch_id=19 Accuracy=67.40: 100%|██████████| 20/20 [00:28<00:00,  1.42s/it]\n",
      "Loss=0.8496394157409668 Batch_id=19 Accuracy=67.84: 100%|██████████| 20/20 [00:28<00:00,  1.43s/it]\n",
      "Loss=0.8442027568817139 Batch_id=19 Accuracy=67.44: 100%|██████████| 20/20 [00:28<00:00,  1.43s/it]\n",
      "Loss=0.821043848991394 Batch_id=19 Accuracy=67.82: 100%|██████████| 20/20 [00:28<00:00,  1.43s/it] \n"
     ]
    },
    {
     "name": "stdout",
     "output_type": "stream",
     "text": [
      "Epoch 00009: reducing learning rate of group 0 to 5.0000e-04.\n"
     ]
    },
    {
     "name": "stderr",
     "output_type": "stream",
     "text": [
      "Loss=0.8533664345741272 Batch_id=19 Accuracy=68.11: 100%|██████████| 20/20 [00:28<00:00,  1.42s/it]\n"
     ]
    },
    {
     "name": "stdout",
     "output_type": "stream",
     "text": [
      "Test set: Average loss: 0.5237, Accuracy: 8213/10000 (82.13%)\n",
      "\n",
      "--Testing Corruptions--\n"
     ]
    },
    {
     "name": "stderr",
     "output_type": "stream",
     "text": [
      "100%|██████████| 19/19 [03:58<00:00, 12.55s/it]"
     ]
    },
    {
     "name": "stdout",
     "output_type": "stream",
     "text": [
      "\n",
      "Avg Corruption Accuracy: 74.39%\n",
      "Global Sparsity: 98.98% \n",
      "\n"
     ]
    },
    {
     "name": "stderr",
     "output_type": "stream",
     "text": [
      "\n"
     ]
    }
   ],
   "source": [
    "#Network weights\n",
    "ResNet18_CIFAR10_Weights= torch.load(\"./Networks/ResNet18_CIFAR10_V0_Adversarial_ep_1p.pt\")\n",
    "ResNet18_CIFAR10_0P=ResNet18_CIFAR10_Model()\n",
    "ResNet18_CIFAR10_0P.load_state_dict(ResNet18_CIFAR10_Weights)\n",
    "\n",
    "model=copy.deepcopy(ResNet18_CIFAR10_0P)\n",
    "TrainLoader=trainloader_CIFAR10\n",
    "TestLoader=testloader_CIFAR10\n",
    "TestCLoader=loader_CIFAR10C\n",
    "PruningRate=0.1\n",
    "NumEpochsEachPruneRetrain=10\n",
    "MaximumPruneLevel=0.01\n",
    "lambda_l1=0\n",
    "lambda_l2=0.0005\n",
    "\n",
    "epsilon=0.01\n",
    "mean=MeanCIFAR10\n",
    "std=StdCIFAR10\n",
    "\n",
    "\n",
    "SaveTrainStepsName=\"Progress/PruningIterations_ResNet18_CIFAR10_V0_Adversarial_ep_1p_01PR_10Epochs_L2_0005\"\n",
    "\n",
    "\n",
    "ReadMe=\"This model is running pruning with the standard cost function, and the non corrupted dataset, a prunning rate of 0.1 and 10 epoch of retraining\\\n",
    "L2 Regularization of 0.0005 is used\\n\\nOriginal Model: ResNet18 Trained with CIFAR10 Dataset with Adversarial training (Before and During Pruning) with epsilon=0.01\\n\"\n",
    "\n",
    "test_acc, Avg_Corrup_Acc_List, Acc_Corruptions, RemainingWeights_List, Sparcity_List=iterative_pruning(model,device, TrainLoader, TestLoader, TestCLoader, PruningRate, SaveTrainStepsName,ReadMe,\n",
    "                                                                                                         epsilon, mean, std, lambda_l1, lambda_l2, NumEpochsEachPruneRetrain,MaximumPruneLevel)"
   ]
  },
  {
   "cell_type": "code",
   "execution_count": 6,
   "metadata": {},
   "outputs": [
    {
     "name": "stdout",
     "output_type": "stream",
     "text": [
      "--Get statistics before pruning--\n",
      "Train set: Average loss: 0.0685, Accuracy: 49289/50000 (98.58%)\n",
      "Test set: Average loss: 0.3598, Accuracy: 8826/10000 (88.26%)\n",
      "\n",
      "--Testing Corruptions--\n"
     ]
    },
    {
     "name": "stderr",
     "output_type": "stream",
     "text": [
      "100%|██████████| 19/19 [04:29<00:00, 14.16s/it]\n"
     ]
    },
    {
     "name": "stdout",
     "output_type": "stream",
     "text": [
      "\n",
      "Avg Corruption Accuracy: 80.12%\n",
      "---------- Pruning Iteration:  1 / 44\n"
     ]
    },
    {
     "name": "stderr",
     "output_type": "stream",
     "text": [
      "Loss=0.21204030513763428 Batch_id=19 Accuracy=93.26: 100%|██████████| 20/20 [00:30<00:00,  1.51s/it]\n",
      "Loss=0.19619117677211761 Batch_id=19 Accuracy=93.26: 100%|██████████| 20/20 [00:30<00:00,  1.51s/it]\n",
      "Loss=0.2030138522386551 Batch_id=19 Accuracy=93.13: 100%|██████████| 20/20 [00:29<00:00,  1.50s/it] \n",
      "Loss=0.19069232046604156 Batch_id=19 Accuracy=93.68: 100%|██████████| 20/20 [00:29<00:00,  1.50s/it]\n",
      "Loss=0.17219491302967072 Batch_id=19 Accuracy=93.92: 100%|██████████| 20/20 [00:29<00:00,  1.50s/it]\n",
      "Loss=0.1786758005619049 Batch_id=19 Accuracy=93.97: 100%|██████████| 20/20 [00:30<00:00,  1.51s/it] \n",
      "Loss=0.15528349578380585 Batch_id=19 Accuracy=94.18: 100%|██████████| 20/20 [00:30<00:00,  1.51s/it]\n",
      "Loss=0.17496387660503387 Batch_id=19 Accuracy=94.62: 100%|██████████| 20/20 [00:30<00:00,  1.51s/it]\n",
      "Loss=0.1458907425403595 Batch_id=19 Accuracy=94.30: 100%|██████████| 20/20 [00:30<00:00,  1.51s/it] \n",
      "Loss=0.16781537234783173 Batch_id=19 Accuracy=94.49: 100%|██████████| 20/20 [00:29<00:00,  1.50s/it]\n"
     ]
    },
    {
     "name": "stdout",
     "output_type": "stream",
     "text": [
      "Test set: Average loss: 0.3897, Accuracy: 8771/10000 (87.71%)\n",
      "\n",
      "--Testing Corruptions--\n"
     ]
    },
    {
     "name": "stderr",
     "output_type": "stream",
     "text": [
      "100%|██████████| 19/19 [04:22<00:00, 13.82s/it]\n"
     ]
    },
    {
     "name": "stdout",
     "output_type": "stream",
     "text": [
      "\n",
      "Avg Corruption Accuracy: 79.64%\n",
      "Global Sparsity: 10.00% \n",
      "\n",
      "---------- Pruning Iteration:  2 / 44\n"
     ]
    },
    {
     "name": "stderr",
     "output_type": "stream",
     "text": [
      "Loss=0.12698392570018768 Batch_id=19 Accuracy=95.07: 100%|██████████| 20/20 [00:30<00:00,  1.52s/it]\n",
      "Loss=0.1585530936717987 Batch_id=19 Accuracy=94.96: 100%|██████████| 20/20 [00:30<00:00,  1.50s/it] \n",
      "Loss=0.15597935020923615 Batch_id=19 Accuracy=95.05: 100%|██████████| 20/20 [00:29<00:00,  1.49s/it]\n",
      "Loss=0.13505393266677856 Batch_id=19 Accuracy=95.18: 100%|██████████| 20/20 [00:29<00:00,  1.50s/it]\n"
     ]
    },
    {
     "name": "stdout",
     "output_type": "stream",
     "text": [
      "Epoch 00004: reducing learning rate of group 0 to 5.0000e-04.\n"
     ]
    },
    {
     "name": "stderr",
     "output_type": "stream",
     "text": [
      "Loss=0.13015395402908325 Batch_id=19 Accuracy=95.62: 100%|██████████| 20/20 [00:29<00:00,  1.49s/it]\n",
      "Loss=0.1131759062409401 Batch_id=19 Accuracy=95.95: 100%|██████████| 20/20 [00:29<00:00,  1.49s/it] \n",
      "Loss=0.09884361177682877 Batch_id=19 Accuracy=95.98: 100%|██████████| 20/20 [00:29<00:00,  1.49s/it]\n",
      "Loss=0.134922057390213 Batch_id=19 Accuracy=96.16: 100%|██████████| 20/20 [00:29<00:00,  1.49s/it]  \n",
      "Loss=0.11225057393312454 Batch_id=19 Accuracy=96.02: 100%|██████████| 20/20 [00:29<00:00,  1.49s/it]\n",
      "Loss=0.11115406453609467 Batch_id=19 Accuracy=96.18: 100%|██████████| 20/20 [00:29<00:00,  1.48s/it]"
     ]
    },
    {
     "name": "stdout",
     "output_type": "stream",
     "text": [
      "Epoch 00010: reducing learning rate of group 0 to 2.5000e-05.\n"
     ]
    },
    {
     "name": "stderr",
     "output_type": "stream",
     "text": [
      "\n"
     ]
    },
    {
     "name": "stdout",
     "output_type": "stream",
     "text": [
      "Test set: Average loss: 0.3834, Accuracy: 8801/10000 (88.01%)\n",
      "\n",
      "--Testing Corruptions--\n"
     ]
    },
    {
     "name": "stderr",
     "output_type": "stream",
     "text": [
      "100%|██████████| 19/19 [04:37<00:00, 14.61s/it]\n"
     ]
    },
    {
     "name": "stdout",
     "output_type": "stream",
     "text": [
      "\n",
      "Avg Corruption Accuracy: 79.89%\n",
      "Global Sparsity: 18.99% \n",
      "\n",
      "---------- Pruning Iteration:  3 / 44\n"
     ]
    },
    {
     "name": "stderr",
     "output_type": "stream",
     "text": [
      "Loss=0.1449527144432068 Batch_id=19 Accuracy=95.42: 100%|██████████| 20/20 [00:29<00:00,  1.49s/it] \n",
      "Loss=0.13617436587810516 Batch_id=19 Accuracy=95.28: 100%|██████████| 20/20 [00:29<00:00,  1.49s/it]\n",
      "Loss=0.12528638541698456 Batch_id=19 Accuracy=95.44: 100%|██████████| 20/20 [00:30<00:00,  1.50s/it]\n",
      "Loss=0.11900744587182999 Batch_id=19 Accuracy=95.75: 100%|██████████| 20/20 [00:29<00:00,  1.49s/it]\n",
      "Loss=0.12816250324249268 Batch_id=19 Accuracy=95.87: 100%|██████████| 20/20 [00:29<00:00,  1.49s/it]\n",
      "Loss=0.1337086707353592 Batch_id=19 Accuracy=95.87: 100%|██████████| 20/20 [00:29<00:00,  1.49s/it] \n",
      "Loss=0.1311206817626953 Batch_id=19 Accuracy=95.80: 100%|██████████| 20/20 [00:29<00:00,  1.49s/it] \n"
     ]
    },
    {
     "name": "stdout",
     "output_type": "stream",
     "text": [
      "Epoch 00007: reducing learning rate of group 0 to 5.0000e-04.\n"
     ]
    },
    {
     "name": "stderr",
     "output_type": "stream",
     "text": [
      "Loss=0.10058045387268066 Batch_id=19 Accuracy=96.38: 100%|██████████| 20/20 [00:29<00:00,  1.49s/it]\n",
      "Loss=0.11329617351293564 Batch_id=19 Accuracy=96.57: 100%|██████████| 20/20 [00:29<00:00,  1.49s/it]\n",
      "Loss=0.11064247786998749 Batch_id=19 Accuracy=96.71: 100%|██████████| 20/20 [00:29<00:00,  1.49s/it]\n"
     ]
    },
    {
     "name": "stdout",
     "output_type": "stream",
     "text": [
      "Test set: Average loss: 0.3952, Accuracy: 8785/10000 (87.85%)\n",
      "\n",
      "--Testing Corruptions--\n"
     ]
    },
    {
     "name": "stderr",
     "output_type": "stream",
     "text": [
      "100%|██████████| 19/19 [04:23<00:00, 13.87s/it]\n"
     ]
    },
    {
     "name": "stdout",
     "output_type": "stream",
     "text": [
      "\n",
      "Avg Corruption Accuracy: 79.61%\n",
      "Global Sparsity: 27.09% \n",
      "\n",
      "---------- Pruning Iteration:  4 / 44\n"
     ]
    },
    {
     "name": "stderr",
     "output_type": "stream",
     "text": [
      "Loss=0.1241738572716713 Batch_id=19 Accuracy=95.97: 100%|██████████| 20/20 [00:30<00:00,  1.50s/it] \n",
      "Loss=0.12037105858325958 Batch_id=19 Accuracy=95.93: 100%|██████████| 20/20 [00:29<00:00,  1.49s/it]\n",
      "Loss=0.1282965987920761 Batch_id=19 Accuracy=96.12: 100%|██████████| 20/20 [00:29<00:00,  1.50s/it] \n",
      "Loss=0.12491965293884277 Batch_id=19 Accuracy=96.08: 100%|██████████| 20/20 [00:30<00:00,  1.50s/it]\n",
      "Loss=0.11371792107820511 Batch_id=19 Accuracy=96.37: 100%|██████████| 20/20 [00:30<00:00,  1.50s/it]\n",
      "Loss=0.1307661086320877 Batch_id=19 Accuracy=96.32: 100%|██████████| 20/20 [00:30<00:00,  1.50s/it] \n",
      "Loss=0.09858077764511108 Batch_id=19 Accuracy=96.46: 100%|██████████| 20/20 [00:29<00:00,  1.49s/it]\n",
      "Loss=0.09838232398033142 Batch_id=19 Accuracy=96.38: 100%|██████████| 20/20 [00:30<00:00,  1.51s/it]\n",
      "Loss=0.11359947174787521 Batch_id=19 Accuracy=96.52: 100%|██████████| 20/20 [00:30<00:00,  1.50s/it]\n",
      "Loss=0.10569745302200317 Batch_id=19 Accuracy=96.76: 100%|██████████| 20/20 [00:30<00:00,  1.50s/it]\n"
     ]
    },
    {
     "name": "stdout",
     "output_type": "stream",
     "text": [
      "Test set: Average loss: 0.4291, Accuracy: 8728/10000 (87.28%)\n",
      "\n",
      "--Skipping Acc Comp For Corrupted Data--\n",
      "Global Sparsity: 34.37% \n",
      "\n",
      "---------- Pruning Iteration:  5 / 44\n"
     ]
    },
    {
     "name": "stderr",
     "output_type": "stream",
     "text": [
      "Loss=0.10529661923646927 Batch_id=19 Accuracy=96.20: 100%|██████████| 20/20 [00:30<00:00,  1.50s/it]\n",
      "Loss=0.10452446341514587 Batch_id=19 Accuracy=96.39: 100%|██████████| 20/20 [00:29<00:00,  1.49s/it]\n",
      "Loss=0.10119067877531052 Batch_id=19 Accuracy=96.59: 100%|██████████| 20/20 [00:29<00:00,  1.50s/it]\n",
      "Loss=0.09098607301712036 Batch_id=19 Accuracy=96.83: 100%|██████████| 20/20 [00:30<00:00,  1.50s/it]\n",
      "Loss=0.0925244688987732 Batch_id=19 Accuracy=96.86: 100%|██████████| 20/20 [00:29<00:00,  1.49s/it] \n",
      "Loss=0.0892903134226799 Batch_id=19 Accuracy=97.14: 100%|██████████| 20/20 [00:30<00:00,  1.51s/it] \n",
      "Loss=0.09856335073709488 Batch_id=19 Accuracy=96.79: 100%|██████████| 20/20 [00:30<00:00,  1.50s/it]\n",
      "Loss=0.10603319853544235 Batch_id=19 Accuracy=96.85: 100%|██████████| 20/20 [00:29<00:00,  1.50s/it]\n",
      "Loss=0.09199750423431396 Batch_id=19 Accuracy=97.19: 100%|██████████| 20/20 [00:30<00:00,  1.51s/it]\n"
     ]
    },
    {
     "name": "stdout",
     "output_type": "stream",
     "text": [
      "Epoch 00009: reducing learning rate of group 0 to 5.0000e-04.\n"
     ]
    },
    {
     "name": "stderr",
     "output_type": "stream",
     "text": [
      "Loss=0.08172053098678589 Batch_id=19 Accuracy=97.58: 100%|██████████| 20/20 [00:30<00:00,  1.50s/it]\n"
     ]
    },
    {
     "name": "stdout",
     "output_type": "stream",
     "text": [
      "Test set: Average loss: 0.4233, Accuracy: 8773/10000 (87.73%)\n",
      "\n",
      "--Testing Corruptions--\n"
     ]
    },
    {
     "name": "stderr",
     "output_type": "stream",
     "text": [
      "100%|██████████| 19/19 [04:25<00:00, 13.97s/it]\n"
     ]
    },
    {
     "name": "stdout",
     "output_type": "stream",
     "text": [
      "\n",
      "Avg Corruption Accuracy: 79.38%\n",
      "Global Sparsity: 40.93% \n",
      "\n",
      "---------- Pruning Iteration:  6 / 44\n"
     ]
    },
    {
     "name": "stderr",
     "output_type": "stream",
     "text": [
      "Loss=0.103810153901577 Batch_id=19 Accuracy=96.18: 100%|██████████| 20/20 [00:30<00:00,  1.51s/it]  \n",
      "Loss=0.09944214671850204 Batch_id=19 Accuracy=96.63: 100%|██████████| 20/20 [00:30<00:00,  1.50s/it]\n",
      "Loss=0.09949285537004471 Batch_id=19 Accuracy=96.78: 100%|██████████| 20/20 [00:30<00:00,  1.51s/it]\n",
      "Loss=0.08517579734325409 Batch_id=19 Accuracy=97.01: 100%|██████████| 20/20 [00:30<00:00,  1.51s/it]\n",
      "Loss=0.08934224396944046 Batch_id=19 Accuracy=97.24: 100%|██████████| 20/20 [00:30<00:00,  1.50s/it]\n",
      "Loss=0.0834360122680664 Batch_id=19 Accuracy=97.20: 100%|██████████| 20/20 [00:30<00:00,  1.51s/it] \n",
      "Loss=0.09544556587934494 Batch_id=19 Accuracy=97.28: 100%|██████████| 20/20 [00:30<00:00,  1.50s/it]\n",
      "Loss=0.07893851399421692 Batch_id=19 Accuracy=97.19: 100%|██████████| 20/20 [00:30<00:00,  1.50s/it]\n",
      "Loss=0.08323103934526443 Batch_id=19 Accuracy=97.48: 100%|██████████| 20/20 [00:30<00:00,  1.51s/it]\n",
      "Loss=0.09305911511182785 Batch_id=19 Accuracy=97.41: 100%|██████████| 20/20 [00:30<00:00,  1.51s/it]\n"
     ]
    },
    {
     "name": "stdout",
     "output_type": "stream",
     "text": [
      "Test set: Average loss: 0.4538, Accuracy: 8754/10000 (87.54%)\n",
      "\n",
      "--Skipping Acc Comp For Corrupted Data--\n",
      "Global Sparsity: 46.83% \n",
      "\n",
      "---------- Pruning Iteration:  7 / 44\n"
     ]
    },
    {
     "name": "stderr",
     "output_type": "stream",
     "text": [
      "Loss=0.10520417988300323 Batch_id=19 Accuracy=95.81: 100%|██████████| 20/20 [00:30<00:00,  1.50s/it]\n",
      "Loss=0.08760595321655273 Batch_id=19 Accuracy=96.75: 100%|██████████| 20/20 [00:30<00:00,  1.51s/it]\n",
      "Loss=0.08414067327976227 Batch_id=19 Accuracy=97.02: 100%|██████████| 20/20 [00:30<00:00,  1.51s/it]\n",
      "Loss=0.07938976585865021 Batch_id=19 Accuracy=97.29: 100%|██████████| 20/20 [00:30<00:00,  1.51s/it]\n",
      "Loss=0.07973041385412216 Batch_id=19 Accuracy=97.51: 100%|██████████| 20/20 [00:30<00:00,  1.50s/it]\n",
      "Loss=0.07550466060638428 Batch_id=19 Accuracy=97.47: 100%|██████████| 20/20 [00:30<00:00,  1.50s/it]\n",
      "Loss=0.07431984692811966 Batch_id=19 Accuracy=97.48: 100%|██████████| 20/20 [00:30<00:00,  1.51s/it]\n",
      "Loss=0.07979178428649902 Batch_id=19 Accuracy=97.42: 100%|██████████| 20/20 [00:30<00:00,  1.50s/it]\n",
      "Loss=0.07795247435569763 Batch_id=19 Accuracy=97.65: 100%|██████████| 20/20 [00:30<00:00,  1.51s/it]\n",
      "Loss=0.06160719320178032 Batch_id=19 Accuracy=97.81: 100%|██████████| 20/20 [00:30<00:00,  1.51s/it]\n"
     ]
    },
    {
     "name": "stdout",
     "output_type": "stream",
     "text": [
      "Test set: Average loss: 0.4659, Accuracy: 8733/10000 (87.33%)\n",
      "\n",
      "--Testing Corruptions--\n"
     ]
    },
    {
     "name": "stderr",
     "output_type": "stream",
     "text": [
      "100%|██████████| 19/19 [04:38<00:00, 14.65s/it]\n"
     ]
    },
    {
     "name": "stdout",
     "output_type": "stream",
     "text": [
      "\n",
      "Avg Corruption Accuracy: 79.12%\n",
      "Global Sparsity: 52.15% \n",
      "\n",
      "---------- Pruning Iteration:  8 / 44\n"
     ]
    },
    {
     "name": "stderr",
     "output_type": "stream",
     "text": [
      "Loss=0.10007239133119583 Batch_id=19 Accuracy=95.01: 100%|██████████| 20/20 [00:30<00:00,  1.51s/it]\n",
      "Loss=0.08120550215244293 Batch_id=19 Accuracy=97.06: 100%|██████████| 20/20 [00:30<00:00,  1.52s/it]\n",
      "Loss=0.0777944028377533 Batch_id=19 Accuracy=97.30: 100%|██████████| 20/20 [00:30<00:00,  1.51s/it] \n",
      "Loss=0.08090318739414215 Batch_id=19 Accuracy=97.36: 100%|██████████| 20/20 [00:30<00:00,  1.51s/it]\n",
      "Loss=0.06487181037664413 Batch_id=19 Accuracy=97.52: 100%|██████████| 20/20 [00:30<00:00,  1.52s/it] \n",
      "Loss=0.06767532974481583 Batch_id=19 Accuracy=97.56: 100%|██████████| 20/20 [00:30<00:00,  1.52s/it]\n",
      "Loss=0.07864319533109665 Batch_id=19 Accuracy=97.57: 100%|██████████| 20/20 [00:30<00:00,  1.52s/it]\n",
      "Loss=0.0637383833527565 Batch_id=19 Accuracy=97.80: 100%|██████████| 20/20 [00:30<00:00,  1.51s/it]  \n",
      "Loss=0.06497180461883545 Batch_id=19 Accuracy=97.97: 100%|██████████| 20/20 [00:30<00:00,  1.52s/it] \n",
      "Loss=0.06426576524972916 Batch_id=19 Accuracy=97.99: 100%|██████████| 20/20 [00:30<00:00,  1.51s/it] \n"
     ]
    },
    {
     "name": "stdout",
     "output_type": "stream",
     "text": [
      "Test set: Average loss: 0.4688, Accuracy: 8748/10000 (87.48%)\n",
      "\n",
      "--Skipping Acc Comp For Corrupted Data--\n",
      "Global Sparsity: 56.93% \n",
      "\n",
      "---------- Pruning Iteration:  9 / 44\n"
     ]
    },
    {
     "name": "stderr",
     "output_type": "stream",
     "text": [
      "Loss=0.13168595731258392 Batch_id=19 Accuracy=94.02: 100%|██████████| 20/20 [00:30<00:00,  1.51s/it]\n",
      "Loss=0.08789525926113129 Batch_id=19 Accuracy=96.41: 100%|██████████| 20/20 [00:30<00:00,  1.52s/it]\n",
      "Loss=0.08322849124670029 Batch_id=19 Accuracy=97.23: 100%|██████████| 20/20 [00:30<00:00,  1.51s/it]\n",
      "Loss=0.05806145444512367 Batch_id=19 Accuracy=97.28: 100%|██████████| 20/20 [00:30<00:00,  1.51s/it]\n",
      "Loss=0.06304026395082474 Batch_id=19 Accuracy=97.81: 100%|██████████| 20/20 [00:30<00:00,  1.52s/it] \n",
      "Loss=0.05148802325129509 Batch_id=19 Accuracy=97.97: 100%|██████████| 20/20 [00:30<00:00,  1.51s/it] \n",
      "Loss=0.07363401353359222 Batch_id=19 Accuracy=98.01: 100%|██████████| 20/20 [00:30<00:00,  1.52s/it] \n",
      "Loss=0.07228726893663406 Batch_id=19 Accuracy=97.94: 100%|██████████| 20/20 [00:30<00:00,  1.51s/it] \n",
      "Loss=0.07759281247854233 Batch_id=19 Accuracy=98.14: 100%|██████████| 20/20 [00:30<00:00,  1.51s/it] \n"
     ]
    },
    {
     "name": "stdout",
     "output_type": "stream",
     "text": [
      "Epoch 00009: reducing learning rate of group 0 to 5.0000e-04.\n"
     ]
    },
    {
     "name": "stderr",
     "output_type": "stream",
     "text": [
      "Loss=0.05659396946430206 Batch_id=19 Accuracy=98.36: 100%|██████████| 20/20 [00:30<00:00,  1.51s/it] \n"
     ]
    },
    {
     "name": "stdout",
     "output_type": "stream",
     "text": [
      "Test set: Average loss: 0.4634, Accuracy: 8746/10000 (87.46%)\n",
      "\n",
      "--Testing Corruptions--\n"
     ]
    },
    {
     "name": "stderr",
     "output_type": "stream",
     "text": [
      "100%|██████████| 19/19 [04:30<00:00, 14.22s/it]\n"
     ]
    },
    {
     "name": "stdout",
     "output_type": "stream",
     "text": [
      "\n",
      "Avg Corruption Accuracy: 79.30%\n",
      "Global Sparsity: 61.23% \n",
      "\n",
      "---------- Pruning Iteration:  10 / 44\n"
     ]
    },
    {
     "name": "stderr",
     "output_type": "stream",
     "text": [
      "Loss=0.12478236109018326 Batch_id=19 Accuracy=93.30: 100%|██████████| 20/20 [00:30<00:00,  1.52s/it]\n",
      "Loss=0.08447640389204025 Batch_id=19 Accuracy=96.33: 100%|██████████| 20/20 [00:30<00:00,  1.52s/it]\n",
      "Loss=0.08487864583730698 Batch_id=19 Accuracy=97.21: 100%|██████████| 20/20 [00:30<00:00,  1.52s/it]\n",
      "Loss=0.07458362728357315 Batch_id=19 Accuracy=97.40: 100%|██████████| 20/20 [00:30<00:00,  1.52s/it]\n",
      "Loss=0.06347306817770004 Batch_id=19 Accuracy=97.79: 100%|██████████| 20/20 [00:30<00:00,  1.53s/it] \n",
      "Loss=0.05953676626086235 Batch_id=19 Accuracy=97.96: 100%|██████████| 20/20 [00:30<00:00,  1.52s/it] \n",
      "Loss=0.06476286798715591 Batch_id=19 Accuracy=98.09: 100%|██████████| 20/20 [00:30<00:00,  1.52s/it] \n",
      "Loss=0.05323521047830582 Batch_id=19 Accuracy=98.05: 100%|██████████| 20/20 [00:30<00:00,  1.52s/it] \n",
      "Loss=0.062053415924310684 Batch_id=19 Accuracy=98.02: 100%|██████████| 20/20 [00:30<00:00,  1.53s/it]\n",
      "Loss=0.05717854201793671 Batch_id=19 Accuracy=98.28: 100%|██████████| 20/20 [00:30<00:00,  1.52s/it] \n"
     ]
    },
    {
     "name": "stdout",
     "output_type": "stream",
     "text": [
      "Test set: Average loss: 0.4885, Accuracy: 8694/10000 (86.94%)\n",
      "\n",
      "--Skipping Acc Comp For Corrupted Data--\n",
      "Global Sparsity: 65.10% \n",
      "\n",
      "---------- Pruning Iteration:  11 / 44\n"
     ]
    },
    {
     "name": "stderr",
     "output_type": "stream",
     "text": [
      "Loss=0.13285259902477264 Batch_id=19 Accuracy=91.69: 100%|██████████| 20/20 [00:30<00:00,  1.53s/it]\n",
      "Loss=0.07390934228897095 Batch_id=19 Accuracy=96.02: 100%|██████████| 20/20 [00:30<00:00,  1.52s/it]\n",
      "Loss=0.08701122552156448 Batch_id=19 Accuracy=97.03: 100%|██████████| 20/20 [00:30<00:00,  1.53s/it]\n",
      "Loss=0.05794436112046242 Batch_id=19 Accuracy=97.46: 100%|██████████| 20/20 [00:30<00:00,  1.53s/it]\n",
      "Loss=0.07438694685697556 Batch_id=19 Accuracy=97.83: 100%|██████████| 20/20 [00:30<00:00,  1.52s/it]\n",
      "Loss=0.06076106056571007 Batch_id=19 Accuracy=97.92: 100%|██████████| 20/20 [00:30<00:00,  1.53s/it] \n",
      "Loss=0.05753346532583237 Batch_id=19 Accuracy=97.82: 100%|██████████| 20/20 [00:30<00:00,  1.52s/it] \n",
      "Loss=0.07154211401939392 Batch_id=19 Accuracy=98.12: 100%|██████████| 20/20 [00:30<00:00,  1.52s/it] \n",
      "Loss=0.06031220778822899 Batch_id=19 Accuracy=98.13: 100%|██████████| 20/20 [00:30<00:00,  1.52s/it] \n",
      "Loss=0.049661654978990555 Batch_id=19 Accuracy=98.18: 100%|██████████| 20/20 [00:30<00:00,  1.52s/it]\n"
     ]
    },
    {
     "name": "stdout",
     "output_type": "stream",
     "text": [
      "Test set: Average loss: 0.4686, Accuracy: 8722/10000 (87.22%)\n",
      "\n",
      "--Testing Corruptions--\n"
     ]
    },
    {
     "name": "stderr",
     "output_type": "stream",
     "text": [
      "100%|██████████| 19/19 [04:32<00:00, 14.34s/it]\n"
     ]
    },
    {
     "name": "stdout",
     "output_type": "stream",
     "text": [
      "\n",
      "Avg Corruption Accuracy: 79.07%\n",
      "Global Sparsity: 68.59% \n",
      "\n",
      "---------- Pruning Iteration:  12 / 44\n"
     ]
    },
    {
     "name": "stderr",
     "output_type": "stream",
     "text": [
      "Loss=0.12470614165067673 Batch_id=19 Accuracy=91.20: 100%|██████████| 20/20 [00:30<00:00,  1.53s/it]\n",
      "Loss=0.08990376442670822 Batch_id=19 Accuracy=95.99: 100%|██████████| 20/20 [00:30<00:00,  1.53s/it]\n",
      "Loss=0.07772843539714813 Batch_id=19 Accuracy=97.11: 100%|██████████| 20/20 [00:30<00:00,  1.53s/it]\n",
      "Loss=0.08148031681776047 Batch_id=19 Accuracy=97.63: 100%|██████████| 20/20 [00:30<00:00,  1.53s/it]\n",
      "Loss=0.07003903388977051 Batch_id=19 Accuracy=97.95: 100%|██████████| 20/20 [00:30<00:00,  1.53s/it] \n",
      "Loss=0.06911508738994598 Batch_id=19 Accuracy=98.00: 100%|██████████| 20/20 [00:30<00:00,  1.53s/it] \n",
      "Loss=0.05945303291082382 Batch_id=19 Accuracy=97.76: 100%|██████████| 20/20 [00:30<00:00,  1.53s/it] \n",
      "Loss=0.05858362838625908 Batch_id=19 Accuracy=98.09: 100%|██████████| 20/20 [00:30<00:00,  1.52s/it] \n",
      "Loss=0.058765918016433716 Batch_id=19 Accuracy=98.10: 100%|██████████| 20/20 [00:30<00:00,  1.53s/it]\n",
      "Loss=0.06233665719628334 Batch_id=19 Accuracy=98.11: 100%|██████████| 20/20 [00:30<00:00,  1.53s/it] \n"
     ]
    },
    {
     "name": "stdout",
     "output_type": "stream",
     "text": [
      "Test set: Average loss: 0.4757, Accuracy: 8705/10000 (87.05%)\n",
      "\n",
      "--Skipping Acc Comp For Corrupted Data--\n",
      "Global Sparsity: 71.72% \n",
      "\n",
      "---------- Pruning Iteration:  13 / 44\n"
     ]
    },
    {
     "name": "stderr",
     "output_type": "stream",
     "text": [
      "Loss=0.15655465424060822 Batch_id=19 Accuracy=90.53: 100%|██████████| 20/20 [00:30<00:00,  1.53s/it]\n",
      "Loss=0.10203991830348969 Batch_id=19 Accuracy=95.69: 100%|██████████| 20/20 [00:30<00:00,  1.53s/it]\n",
      "Loss=0.07878730446100235 Batch_id=19 Accuracy=97.12: 100%|██████████| 20/20 [00:30<00:00,  1.53s/it]\n",
      "Loss=0.08938981592655182 Batch_id=19 Accuracy=97.40: 100%|██████████| 20/20 [00:30<00:00,  1.52s/it]\n",
      "Loss=0.072154201567173 Batch_id=19 Accuracy=97.64: 100%|██████████| 20/20 [00:30<00:00,  1.53s/it]  \n",
      "Loss=0.07138228416442871 Batch_id=19 Accuracy=97.97: 100%|██████████| 20/20 [00:30<00:00,  1.52s/it] \n",
      "Loss=0.07372982054948807 Batch_id=19 Accuracy=98.07: 100%|██████████| 20/20 [00:30<00:00,  1.53s/it]\n",
      "Loss=0.061987366527318954 Batch_id=19 Accuracy=98.09: 100%|██████████| 20/20 [00:30<00:00,  1.53s/it]\n",
      "Loss=0.06354647129774094 Batch_id=19 Accuracy=98.08: 100%|██████████| 20/20 [00:30<00:00,  1.52s/it] \n",
      "Loss=0.05983959138393402 Batch_id=19 Accuracy=98.26: 100%|██████████| 20/20 [00:30<00:00,  1.53s/it] \n"
     ]
    },
    {
     "name": "stdout",
     "output_type": "stream",
     "text": [
      "Test set: Average loss: 0.4719, Accuracy: 8712/10000 (87.12%)\n",
      "\n",
      "--Skipping Acc Comp For Corrupted Data--\n",
      "Global Sparsity: 74.55% \n",
      "\n",
      "---------- Pruning Iteration:  14 / 44\n"
     ]
    },
    {
     "name": "stderr",
     "output_type": "stream",
     "text": [
      "Loss=0.15594591200351715 Batch_id=19 Accuracy=88.97: 100%|██████████| 20/20 [00:30<00:00,  1.53s/it]\n",
      "Loss=0.10795231908559799 Batch_id=19 Accuracy=95.21: 100%|██████████| 20/20 [00:30<00:00,  1.52s/it]\n",
      "Loss=0.08772207051515579 Batch_id=19 Accuracy=96.83: 100%|██████████| 20/20 [00:30<00:00,  1.53s/it]\n",
      "Loss=0.07295655459165573 Batch_id=19 Accuracy=97.28: 100%|██████████| 20/20 [00:30<00:00,  1.53s/it]\n",
      "Loss=0.0779358446598053 Batch_id=19 Accuracy=97.72: 100%|██████████| 20/20 [00:30<00:00,  1.53s/it] \n",
      "Loss=0.0695374608039856 Batch_id=19 Accuracy=97.84: 100%|██████████| 20/20 [00:30<00:00,  1.53s/it]  \n",
      "Loss=0.0673385038971901 Batch_id=19 Accuracy=97.99: 100%|██████████| 20/20 [00:30<00:00,  1.52s/it] \n",
      "Loss=0.062265120446681976 Batch_id=19 Accuracy=98.09: 100%|██████████| 20/20 [00:30<00:00,  1.54s/it]\n",
      "Loss=0.053429167717695236 Batch_id=19 Accuracy=98.20: 100%|██████████| 20/20 [00:30<00:00,  1.54s/it]\n",
      "Loss=0.04988935589790344 Batch_id=19 Accuracy=98.16: 100%|██████████| 20/20 [00:31<00:00,  1.56s/it] \n"
     ]
    },
    {
     "name": "stdout",
     "output_type": "stream",
     "text": [
      "Test set: Average loss: 0.4759, Accuracy: 8699/10000 (86.99%)\n",
      "\n",
      "--Skipping Acc Comp For Corrupted Data--\n",
      "Global Sparsity: 77.09% \n",
      "\n",
      "---------- Pruning Iteration:  15 / 44\n"
     ]
    },
    {
     "name": "stderr",
     "output_type": "stream",
     "text": [
      "Loss=0.2093559205532074 Batch_id=19 Accuracy=88.17: 100%|██████████| 20/20 [00:31<00:00,  1.58s/it] \n",
      "Loss=0.10128110647201538 Batch_id=19 Accuracy=94.82: 100%|██████████| 20/20 [00:31<00:00,  1.58s/it]\n",
      "Loss=0.09049157053232193 Batch_id=19 Accuracy=96.85: 100%|██████████| 20/20 [00:31<00:00,  1.57s/it]\n",
      "Loss=0.07967489957809448 Batch_id=19 Accuracy=97.49: 100%|██████████| 20/20 [00:31<00:00,  1.58s/it]\n",
      "Loss=0.07564646005630493 Batch_id=19 Accuracy=97.56: 100%|██████████| 20/20 [00:31<00:00,  1.57s/it]\n",
      "Loss=0.08780757337808609 Batch_id=19 Accuracy=97.81: 100%|██████████| 20/20 [00:31<00:00,  1.58s/it]\n",
      "Loss=0.07270971685647964 Batch_id=19 Accuracy=97.92: 100%|██████████| 20/20 [00:31<00:00,  1.57s/it]\n",
      "Loss=0.06779412180185318 Batch_id=19 Accuracy=98.07: 100%|██████████| 20/20 [00:31<00:00,  1.57s/it] \n",
      "Loss=0.053645964711904526 Batch_id=19 Accuracy=98.07: 100%|██████████| 20/20 [00:31<00:00,  1.57s/it]\n",
      "Loss=0.06312595307826996 Batch_id=19 Accuracy=98.01: 100%|██████████| 20/20 [00:31<00:00,  1.57s/it] \n"
     ]
    },
    {
     "name": "stdout",
     "output_type": "stream",
     "text": [
      "Test set: Average loss: 0.4625, Accuracy: 8697/10000 (86.97%)\n",
      "\n",
      "--Testing Corruptions--\n"
     ]
    },
    {
     "name": "stderr",
     "output_type": "stream",
     "text": [
      "100%|██████████| 19/19 [05:13<00:00, 16.52s/it]\n"
     ]
    },
    {
     "name": "stdout",
     "output_type": "stream",
     "text": [
      "\n",
      "Avg Corruption Accuracy: 79.08%\n",
      "Global Sparsity: 79.37% \n",
      "\n",
      "---------- Pruning Iteration:  16 / 44\n"
     ]
    },
    {
     "name": "stderr",
     "output_type": "stream",
     "text": [
      "Loss=0.21305227279663086 Batch_id=19 Accuracy=87.65: 100%|██████████| 20/20 [00:31<00:00,  1.59s/it]\n",
      "Loss=0.10980632156133652 Batch_id=19 Accuracy=94.69: 100%|██████████| 20/20 [00:31<00:00,  1.58s/it]\n",
      "Loss=0.09144996106624603 Batch_id=19 Accuracy=96.64: 100%|██████████| 20/20 [00:31<00:00,  1.57s/it]\n",
      "Loss=0.0860852375626564 Batch_id=19 Accuracy=97.20: 100%|██████████| 20/20 [00:31<00:00,  1.58s/it] \n",
      "Loss=0.0751931443810463 Batch_id=19 Accuracy=97.44: 100%|██████████| 20/20 [00:31<00:00,  1.57s/it] \n",
      "Loss=0.07683412730693817 Batch_id=19 Accuracy=97.56: 100%|██████████| 20/20 [00:31<00:00,  1.56s/it]\n",
      "Loss=0.05879393592476845 Batch_id=19 Accuracy=97.76: 100%|██████████| 20/20 [00:31<00:00,  1.57s/it]\n",
      "Loss=0.06173409894108772 Batch_id=19 Accuracy=98.05: 100%|██████████| 20/20 [00:30<00:00,  1.54s/it]\n",
      "Loss=0.07689224928617477 Batch_id=19 Accuracy=97.93: 100%|██████████| 20/20 [00:30<00:00,  1.53s/it] \n",
      "Loss=0.06872443854808807 Batch_id=19 Accuracy=97.99: 100%|██████████| 20/20 [00:30<00:00,  1.53s/it] "
     ]
    },
    {
     "name": "stdout",
     "output_type": "stream",
     "text": [
      "Epoch 00010: reducing learning rate of group 0 to 5.0000e-04.\n"
     ]
    },
    {
     "name": "stderr",
     "output_type": "stream",
     "text": [
      "\n"
     ]
    },
    {
     "name": "stdout",
     "output_type": "stream",
     "text": [
      "Test set: Average loss: 0.4658, Accuracy: 8720/10000 (87.20%)\n",
      "\n",
      "--Skipping Acc Comp For Corrupted Data--\n",
      "Global Sparsity: 81.43% \n",
      "\n",
      "---------- Pruning Iteration:  17 / 44\n"
     ]
    },
    {
     "name": "stderr",
     "output_type": "stream",
     "text": [
      "Loss=0.19118836522102356 Batch_id=19 Accuracy=88.19: 100%|██████████| 20/20 [00:30<00:00,  1.53s/it]\n",
      "Loss=0.12180720269680023 Batch_id=19 Accuracy=94.67: 100%|██████████| 20/20 [00:30<00:00,  1.54s/it]\n",
      "Loss=0.08922132849693298 Batch_id=19 Accuracy=96.43: 100%|██████████| 20/20 [00:30<00:00,  1.54s/it]\n",
      "Loss=0.0829104632139206 Batch_id=19 Accuracy=97.01: 100%|██████████| 20/20 [00:30<00:00,  1.54s/it] \n",
      "Loss=0.0848732590675354 Batch_id=19 Accuracy=97.35: 100%|██████████| 20/20 [00:30<00:00,  1.54s/it] \n",
      "Loss=0.09212333709001541 Batch_id=19 Accuracy=97.32: 100%|██████████| 20/20 [00:30<00:00,  1.53s/it]\n",
      "Loss=0.07710151374340057 Batch_id=19 Accuracy=97.52: 100%|██████████| 20/20 [00:30<00:00,  1.53s/it]\n",
      "Loss=0.07743607461452484 Batch_id=19 Accuracy=97.71: 100%|██████████| 20/20 [00:30<00:00,  1.53s/it]\n",
      "Loss=0.07663694024085999 Batch_id=19 Accuracy=97.93: 100%|██████████| 20/20 [00:30<00:00,  1.54s/it]\n",
      "Loss=0.07619982957839966 Batch_id=19 Accuracy=97.95: 100%|██████████| 20/20 [00:30<00:00,  1.53s/it] \n"
     ]
    },
    {
     "name": "stdout",
     "output_type": "stream",
     "text": [
      "Test set: Average loss: 0.4539, Accuracy: 8742/10000 (87.42%)\n",
      "\n",
      "--Skipping Acc Comp For Corrupted Data--\n",
      "Global Sparsity: 83.28% \n",
      "\n",
      "---------- Pruning Iteration:  18 / 44\n"
     ]
    },
    {
     "name": "stderr",
     "output_type": "stream",
     "text": [
      "Loss=0.20579151809215546 Batch_id=19 Accuracy=87.49: 100%|██████████| 20/20 [00:30<00:00,  1.54s/it]\n",
      "Loss=0.11817900836467743 Batch_id=19 Accuracy=94.53: 100%|██████████| 20/20 [00:30<00:00,  1.53s/it]\n",
      "Loss=0.12399139255285263 Batch_id=19 Accuracy=96.18: 100%|██████████| 20/20 [00:30<00:00,  1.53s/it]\n",
      "Loss=0.10211824625730515 Batch_id=19 Accuracy=96.99: 100%|██████████| 20/20 [00:30<00:00,  1.53s/it]\n",
      "Loss=0.08665060997009277 Batch_id=19 Accuracy=97.18: 100%|██████████| 20/20 [00:30<00:00,  1.52s/it]\n",
      "Loss=0.09066234529018402 Batch_id=19 Accuracy=97.16: 100%|██████████| 20/20 [00:30<00:00,  1.54s/it]\n",
      "Loss=0.07827439159154892 Batch_id=19 Accuracy=97.44: 100%|██████████| 20/20 [00:30<00:00,  1.53s/it]\n",
      "Loss=0.0990125760436058 Batch_id=19 Accuracy=97.52: 100%|██████████| 20/20 [00:30<00:00,  1.52s/it] \n",
      "Loss=0.08499843627214432 Batch_id=19 Accuracy=97.60: 100%|██████████| 20/20 [00:30<00:00,  1.54s/it]\n",
      "Loss=0.07653340697288513 Batch_id=19 Accuracy=97.70: 100%|██████████| 20/20 [00:30<00:00,  1.53s/it]\n"
     ]
    },
    {
     "name": "stdout",
     "output_type": "stream",
     "text": [
      "Test set: Average loss: 0.4488, Accuracy: 8718/10000 (87.18%)\n",
      "\n",
      "--Skipping Acc Comp For Corrupted Data--\n",
      "Global Sparsity: 84.95% \n",
      "\n",
      "---------- Pruning Iteration:  19 / 44\n"
     ]
    },
    {
     "name": "stderr",
     "output_type": "stream",
     "text": [
      "Loss=0.2314169555902481 Batch_id=19 Accuracy=87.33: 100%|██████████| 20/20 [00:30<00:00,  1.53s/it] \n",
      "Loss=0.13292832672595978 Batch_id=19 Accuracy=93.94: 100%|██████████| 20/20 [00:30<00:00,  1.54s/it]\n",
      "Loss=0.12029281258583069 Batch_id=19 Accuracy=95.88: 100%|██████████| 20/20 [00:30<00:00,  1.53s/it]\n",
      "Loss=0.08828562498092651 Batch_id=19 Accuracy=96.53: 100%|██████████| 20/20 [00:30<00:00,  1.54s/it]\n",
      "Loss=0.11695476621389389 Batch_id=19 Accuracy=96.95: 100%|██████████| 20/20 [00:30<00:00,  1.54s/it]\n",
      "Loss=0.07430620491504669 Batch_id=19 Accuracy=96.91: 100%|██████████| 20/20 [00:30<00:00,  1.52s/it]\n",
      "Loss=0.07849385589361191 Batch_id=19 Accuracy=97.26: 100%|██████████| 20/20 [00:30<00:00,  1.54s/it]\n",
      "Loss=0.09281475096940994 Batch_id=19 Accuracy=97.16: 100%|██████████| 20/20 [00:30<00:00,  1.54s/it]\n",
      "Loss=0.08685404807329178 Batch_id=19 Accuracy=97.34: 100%|██████████| 20/20 [00:30<00:00,  1.53s/it]\n"
     ]
    },
    {
     "name": "stdout",
     "output_type": "stream",
     "text": [
      "Epoch 00009: reducing learning rate of group 0 to 5.0000e-04.\n"
     ]
    },
    {
     "name": "stderr",
     "output_type": "stream",
     "text": [
      "Loss=0.08686942607164383 Batch_id=19 Accuracy=97.80: 100%|██████████| 20/20 [00:30<00:00,  1.53s/it]\n"
     ]
    },
    {
     "name": "stdout",
     "output_type": "stream",
     "text": [
      "Test set: Average loss: 0.4375, Accuracy: 8755/10000 (87.55%)\n",
      "\n",
      "--Skipping Acc Comp For Corrupted Data--\n",
      "Global Sparsity: 86.45% \n",
      "\n",
      "---------- Pruning Iteration:  20 / 44\n"
     ]
    },
    {
     "name": "stderr",
     "output_type": "stream",
     "text": [
      "Loss=0.23549708724021912 Batch_id=19 Accuracy=87.03: 100%|██████████| 20/20 [00:30<00:00,  1.53s/it]\n",
      "Loss=0.14887860417366028 Batch_id=19 Accuracy=93.92: 100%|██████████| 20/20 [00:30<00:00,  1.52s/it]\n",
      "Loss=0.13063952326774597 Batch_id=19 Accuracy=95.66: 100%|██████████| 20/20 [00:30<00:00,  1.53s/it]\n",
      "Loss=0.10935675352811813 Batch_id=19 Accuracy=96.20: 100%|██████████| 20/20 [00:30<00:00,  1.53s/it]\n",
      "Loss=0.10032263398170471 Batch_id=19 Accuracy=96.71: 100%|██████████| 20/20 [00:30<00:00,  1.53s/it]\n",
      "Loss=0.10655150562524796 Batch_id=19 Accuracy=96.88: 100%|██████████| 20/20 [00:30<00:00,  1.54s/it]\n",
      "Loss=0.10785084962844849 Batch_id=19 Accuracy=96.67: 100%|██████████| 20/20 [00:30<00:00,  1.53s/it]\n",
      "Loss=0.09150110930204391 Batch_id=19 Accuracy=97.12: 100%|██████████| 20/20 [00:30<00:00,  1.54s/it]\n",
      "Loss=0.09096726775169373 Batch_id=19 Accuracy=97.21: 100%|██████████| 20/20 [00:30<00:00,  1.53s/it]\n",
      "Loss=0.08784136176109314 Batch_id=19 Accuracy=97.41: 100%|██████████| 20/20 [00:30<00:00,  1.52s/it]\n"
     ]
    },
    {
     "name": "stdout",
     "output_type": "stream",
     "text": [
      "Test set: Average loss: 0.4351, Accuracy: 8729/10000 (87.29%)\n",
      "\n",
      "--Skipping Acc Comp For Corrupted Data--\n",
      "Global Sparsity: 87.80% \n",
      "\n",
      "---------- Pruning Iteration:  21 / 44\n"
     ]
    },
    {
     "name": "stderr",
     "output_type": "stream",
     "text": [
      "Loss=0.22567039728164673 Batch_id=19 Accuracy=86.96: 100%|██████████| 20/20 [00:30<00:00,  1.54s/it]\n",
      "Loss=0.15744948387145996 Batch_id=19 Accuracy=93.60: 100%|██████████| 20/20 [00:30<00:00,  1.53s/it]\n",
      "Loss=0.146762877702713 Batch_id=19 Accuracy=95.31: 100%|██████████| 20/20 [00:30<00:00,  1.53s/it]  \n",
      "Loss=0.12999936938285828 Batch_id=19 Accuracy=95.89: 100%|██████████| 20/20 [00:30<00:00,  1.54s/it]\n",
      "Loss=0.11359470337629318 Batch_id=19 Accuracy=96.23: 100%|██████████| 20/20 [00:30<00:00,  1.53s/it]\n",
      "Loss=0.10131244361400604 Batch_id=19 Accuracy=96.57: 100%|██████████| 20/20 [00:30<00:00,  1.52s/it]\n",
      "Loss=0.10732070356607437 Batch_id=19 Accuracy=96.75: 100%|██████████| 20/20 [00:30<00:00,  1.54s/it]\n",
      "Loss=0.108480304479599 Batch_id=19 Accuracy=96.75: 100%|██████████| 20/20 [00:30<00:00,  1.52s/it]  \n",
      "Loss=0.09741803258657455 Batch_id=19 Accuracy=97.00: 100%|██████████| 20/20 [00:30<00:00,  1.54s/it]\n",
      "Loss=0.09663628041744232 Batch_id=19 Accuracy=97.23: 100%|██████████| 20/20 [00:30<00:00,  1.54s/it]\n"
     ]
    },
    {
     "name": "stdout",
     "output_type": "stream",
     "text": [
      "Test set: Average loss: 0.4319, Accuracy: 8726/10000 (87.26%)\n",
      "\n",
      "--Skipping Acc Comp For Corrupted Data--\n",
      "Global Sparsity: 89.02% \n",
      "\n",
      "---------- Pruning Iteration:  22 / 44\n"
     ]
    },
    {
     "name": "stderr",
     "output_type": "stream",
     "text": [
      "Loss=0.22915329039096832 Batch_id=19 Accuracy=87.13: 100%|██████████| 20/20 [00:30<00:00,  1.53s/it]\n",
      "Loss=0.152980774641037 Batch_id=19 Accuracy=93.57: 100%|██████████| 20/20 [00:30<00:00,  1.54s/it]  \n",
      "Loss=0.1286485493183136 Batch_id=19 Accuracy=95.00: 100%|██████████| 20/20 [00:30<00:00,  1.53s/it] \n",
      "Loss=0.1376286894083023 Batch_id=19 Accuracy=95.70: 100%|██████████| 20/20 [00:30<00:00,  1.53s/it] \n",
      "Loss=0.13049384951591492 Batch_id=19 Accuracy=95.99: 100%|██████████| 20/20 [00:30<00:00,  1.53s/it]\n",
      "Loss=0.10387280583381653 Batch_id=19 Accuracy=96.26: 100%|██████████| 20/20 [00:30<00:00,  1.53s/it]\n",
      "Loss=0.10736816376447678 Batch_id=19 Accuracy=96.45: 100%|██████████| 20/20 [00:30<00:00,  1.53s/it]\n",
      "Loss=0.11493398994207382 Batch_id=19 Accuracy=96.20: 100%|██████████| 20/20 [00:30<00:00,  1.53s/it]\n",
      "Loss=0.11998681724071503 Batch_id=19 Accuracy=96.36: 100%|██████████| 20/20 [00:30<00:00,  1.52s/it]\n"
     ]
    },
    {
     "name": "stdout",
     "output_type": "stream",
     "text": [
      "Epoch 00009: reducing learning rate of group 0 to 5.0000e-04.\n"
     ]
    },
    {
     "name": "stderr",
     "output_type": "stream",
     "text": [
      "Loss=0.10005644708871841 Batch_id=19 Accuracy=97.00: 100%|██████████| 20/20 [00:30<00:00,  1.53s/it]\n"
     ]
    },
    {
     "name": "stdout",
     "output_type": "stream",
     "text": [
      "Test set: Average loss: 0.4149, Accuracy: 8733/10000 (87.33%)\n",
      "\n",
      "--Testing Corruptions--\n"
     ]
    },
    {
     "name": "stderr",
     "output_type": "stream",
     "text": [
      "100%|██████████| 19/19 [04:38<00:00, 14.65s/it]\n"
     ]
    },
    {
     "name": "stdout",
     "output_type": "stream",
     "text": [
      "\n",
      "Avg Corruption Accuracy: 78.96%\n",
      "Global Sparsity: 90.11% \n",
      "\n",
      "---------- Pruning Iteration:  23 / 44\n"
     ]
    },
    {
     "name": "stderr",
     "output_type": "stream",
     "text": [
      "Loss=0.24315477907657623 Batch_id=19 Accuracy=87.14: 100%|██████████| 20/20 [00:30<00:00,  1.54s/it]\n",
      "Loss=0.1942984014749527 Batch_id=19 Accuracy=93.10: 100%|██████████| 20/20 [00:30<00:00,  1.53s/it] \n",
      "Loss=0.162043958902359 Batch_id=19 Accuracy=94.71: 100%|██████████| 20/20 [00:30<00:00,  1.54s/it]  \n",
      "Loss=0.11311224848031998 Batch_id=19 Accuracy=95.37: 100%|██████████| 20/20 [00:30<00:00,  1.55s/it]\n",
      "Loss=0.13921134173870087 Batch_id=19 Accuracy=95.59: 100%|██████████| 20/20 [00:30<00:00,  1.54s/it]\n",
      "Loss=0.13445083796977997 Batch_id=19 Accuracy=95.78: 100%|██████████| 20/20 [00:30<00:00,  1.54s/it]\n",
      "Loss=0.13603068888187408 Batch_id=19 Accuracy=95.88: 100%|██████████| 20/20 [00:30<00:00,  1.54s/it]\n"
     ]
    },
    {
     "name": "stdout",
     "output_type": "stream",
     "text": [
      "Epoch 00007: reducing learning rate of group 0 to 5.0000e-04.\n"
     ]
    },
    {
     "name": "stderr",
     "output_type": "stream",
     "text": [
      "Loss=0.12642072141170502 Batch_id=19 Accuracy=96.37: 100%|██████████| 20/20 [00:30<00:00,  1.54s/it]\n",
      "Loss=0.12183231115341187 Batch_id=19 Accuracy=96.78: 100%|██████████| 20/20 [00:30<00:00,  1.55s/it]\n",
      "Loss=0.11551818996667862 Batch_id=19 Accuracy=96.63: 100%|██████████| 20/20 [00:30<00:00,  1.54s/it]"
     ]
    },
    {
     "name": "stdout",
     "output_type": "stream",
     "text": [
      "Epoch 00010: reducing learning rate of group 0 to 2.5000e-05.\n"
     ]
    },
    {
     "name": "stderr",
     "output_type": "stream",
     "text": [
      "\n"
     ]
    },
    {
     "name": "stdout",
     "output_type": "stream",
     "text": [
      "Test set: Average loss: 0.4104, Accuracy: 8755/10000 (87.55%)\n",
      "\n",
      "--Skipping Acc Comp For Corrupted Data--\n",
      "Global Sparsity: 91.10% \n",
      "\n",
      "---------- Pruning Iteration:  24 / 44\n"
     ]
    },
    {
     "name": "stderr",
     "output_type": "stream",
     "text": [
      "Loss=0.28684720396995544 Batch_id=19 Accuracy=86.52: 100%|██████████| 20/20 [00:30<00:00,  1.53s/it]\n",
      "Loss=0.20941132307052612 Batch_id=19 Accuracy=92.40: 100%|██████████| 20/20 [00:30<00:00,  1.54s/it]\n",
      "Loss=0.17383944988250732 Batch_id=19 Accuracy=93.94: 100%|██████████| 20/20 [00:30<00:00,  1.53s/it]\n",
      "Loss=0.15827576816082 Batch_id=19 Accuracy=94.46: 100%|██████████| 20/20 [00:30<00:00,  1.54s/it]   \n",
      "Loss=0.15580876171588898 Batch_id=19 Accuracy=94.96: 100%|██████████| 20/20 [00:30<00:00,  1.54s/it]\n",
      "Loss=0.14881275594234467 Batch_id=19 Accuracy=95.30: 100%|██████████| 20/20 [00:30<00:00,  1.53s/it]\n",
      "Loss=0.136682391166687 Batch_id=19 Accuracy=95.36: 100%|██████████| 20/20 [00:30<00:00,  1.54s/it]  \n",
      "Loss=0.12797167897224426 Batch_id=19 Accuracy=95.52: 100%|██████████| 20/20 [00:30<00:00,  1.55s/it]\n",
      "Loss=0.13864177465438843 Batch_id=19 Accuracy=95.66: 100%|██████████| 20/20 [00:30<00:00,  1.55s/it]\n",
      "Loss=0.13395527005195618 Batch_id=19 Accuracy=95.85: 100%|██████████| 20/20 [00:30<00:00,  1.54s/it]\n"
     ]
    },
    {
     "name": "stdout",
     "output_type": "stream",
     "text": [
      "Test set: Average loss: 0.4193, Accuracy: 8718/10000 (87.18%)\n",
      "\n",
      "--Skipping Acc Comp For Corrupted Data--\n",
      "Global Sparsity: 91.98% \n",
      "\n",
      "---------- Pruning Iteration:  25 / 44\n"
     ]
    },
    {
     "name": "stderr",
     "output_type": "stream",
     "text": [
      "Loss=0.2497413456439972 Batch_id=19 Accuracy=86.01: 100%|██████████| 20/20 [00:30<00:00,  1.54s/it] \n",
      "Loss=0.20296970009803772 Batch_id=19 Accuracy=91.61: 100%|██████████| 20/20 [00:30<00:00,  1.54s/it]\n",
      "Loss=0.19980205595493317 Batch_id=19 Accuracy=93.50: 100%|██████████| 20/20 [00:30<00:00,  1.54s/it]\n",
      "Loss=0.1722542941570282 Batch_id=19 Accuracy=93.93: 100%|██████████| 20/20 [00:30<00:00,  1.54s/it] \n",
      "Loss=0.1622016876935959 Batch_id=19 Accuracy=94.43: 100%|██████████| 20/20 [00:30<00:00,  1.54s/it] \n",
      "Loss=0.16368164122104645 Batch_id=19 Accuracy=94.45: 100%|██████████| 20/20 [00:31<00:00,  1.55s/it]\n",
      "Loss=0.1642681062221527 Batch_id=19 Accuracy=94.86: 100%|██████████| 20/20 [00:30<00:00,  1.54s/it] \n",
      "Loss=0.15115749835968018 Batch_id=19 Accuracy=95.14: 100%|██████████| 20/20 [00:30<00:00,  1.55s/it]\n",
      "Loss=0.14808771014213562 Batch_id=19 Accuracy=95.49: 100%|██████████| 20/20 [00:31<00:00,  1.55s/it]\n",
      "Loss=0.1259833723306656 Batch_id=19 Accuracy=95.50: 100%|██████████| 20/20 [00:30<00:00,  1.54s/it] \n"
     ]
    },
    {
     "name": "stdout",
     "output_type": "stream",
     "text": [
      "Test set: Average loss: 0.4169, Accuracy: 8720/10000 (87.20%)\n",
      "\n",
      "--Skipping Acc Comp For Corrupted Data--\n",
      "Global Sparsity: 92.78% \n",
      "\n",
      "---------- Pruning Iteration:  26 / 44\n"
     ]
    },
    {
     "name": "stderr",
     "output_type": "stream",
     "text": [
      "Loss=0.27948078513145447 Batch_id=19 Accuracy=85.83: 100%|██████████| 20/20 [00:31<00:00,  1.55s/it]\n",
      "Loss=0.21956515312194824 Batch_id=19 Accuracy=91.71: 100%|██████████| 20/20 [00:30<00:00,  1.54s/it]\n",
      "Loss=0.1950475573539734 Batch_id=19 Accuracy=93.22: 100%|██████████| 20/20 [00:30<00:00,  1.54s/it] \n",
      "Loss=0.17803536355495453 Batch_id=19 Accuracy=93.66: 100%|██████████| 20/20 [00:31<00:00,  1.55s/it]\n",
      "Loss=0.19246216118335724 Batch_id=19 Accuracy=93.95: 100%|██████████| 20/20 [00:30<00:00,  1.53s/it]\n",
      "Loss=0.15161758661270142 Batch_id=19 Accuracy=94.42: 100%|██████████| 20/20 [00:30<00:00,  1.54s/it]\n",
      "Loss=0.16774143278598785 Batch_id=19 Accuracy=94.66: 100%|██████████| 20/20 [00:30<00:00,  1.54s/it]\n",
      "Loss=0.17334094643592834 Batch_id=19 Accuracy=94.59: 100%|██████████| 20/20 [00:30<00:00,  1.53s/it]\n",
      "Loss=0.16420653462409973 Batch_id=19 Accuracy=94.82: 100%|██████████| 20/20 [00:30<00:00,  1.54s/it]\n"
     ]
    },
    {
     "name": "stdout",
     "output_type": "stream",
     "text": [
      "Epoch 00009: reducing learning rate of group 0 to 5.0000e-04.\n"
     ]
    },
    {
     "name": "stderr",
     "output_type": "stream",
     "text": [
      "Loss=0.13660559058189392 Batch_id=19 Accuracy=95.21: 100%|██████████| 20/20 [00:30<00:00,  1.55s/it]\n"
     ]
    },
    {
     "name": "stdout",
     "output_type": "stream",
     "text": [
      "Test set: Average loss: 0.4142, Accuracy: 8716/10000 (87.16%)\n",
      "\n",
      "--Skipping Acc Comp For Corrupted Data--\n",
      "Global Sparsity: 93.50% \n",
      "\n",
      "---------- Pruning Iteration:  27 / 44\n"
     ]
    },
    {
     "name": "stderr",
     "output_type": "stream",
     "text": [
      "Loss=0.2907786965370178 Batch_id=19 Accuracy=86.15: 100%|██████████| 20/20 [00:30<00:00,  1.54s/it] \n",
      "Loss=0.22019992768764496 Batch_id=19 Accuracy=90.90: 100%|██████████| 20/20 [00:30<00:00,  1.55s/it]\n",
      "Loss=0.19610276818275452 Batch_id=19 Accuracy=92.16: 100%|██████████| 20/20 [00:30<00:00,  1.54s/it]\n",
      "Loss=0.19572444260120392 Batch_id=19 Accuracy=93.01: 100%|██████████| 20/20 [00:30<00:00,  1.54s/it]\n",
      "Loss=0.20247553288936615 Batch_id=19 Accuracy=93.27: 100%|██████████| 20/20 [00:30<00:00,  1.54s/it]\n",
      "Loss=0.19750483334064484 Batch_id=19 Accuracy=93.69: 100%|██████████| 20/20 [00:30<00:00,  1.54s/it]\n",
      "Loss=0.17433305084705353 Batch_id=19 Accuracy=94.03: 100%|██████████| 20/20 [00:30<00:00,  1.55s/it]\n",
      "Loss=0.1612662822008133 Batch_id=19 Accuracy=94.05: 100%|██████████| 20/20 [00:30<00:00,  1.54s/it] \n",
      "Loss=0.18690840899944305 Batch_id=19 Accuracy=93.79: 100%|██████████| 20/20 [00:30<00:00,  1.54s/it]\n",
      "Loss=0.18914243578910828 Batch_id=19 Accuracy=94.25: 100%|██████████| 20/20 [00:30<00:00,  1.54s/it]\n"
     ]
    },
    {
     "name": "stdout",
     "output_type": "stream",
     "text": [
      "Test set: Average loss: 0.4237, Accuracy: 8683/10000 (86.83%)\n",
      "\n",
      "--Skipping Acc Comp For Corrupted Data--\n",
      "Global Sparsity: 94.14% \n",
      "\n",
      "---------- Pruning Iteration:  28 / 44\n"
     ]
    },
    {
     "name": "stderr",
     "output_type": "stream",
     "text": [
      "Loss=0.3215181827545166 Batch_id=19 Accuracy=85.78: 100%|██████████| 20/20 [00:30<00:00,  1.55s/it] \n",
      "Loss=0.23503269255161285 Batch_id=19 Accuracy=90.30: 100%|██████████| 20/20 [00:30<00:00,  1.54s/it]\n",
      "Loss=0.2170635610818863 Batch_id=19 Accuracy=91.53: 100%|██████████| 20/20 [00:30<00:00,  1.55s/it] \n",
      "Loss=0.21292002499103546 Batch_id=19 Accuracy=92.18: 100%|██████████| 20/20 [00:30<00:00,  1.54s/it]\n",
      "Loss=0.21742266416549683 Batch_id=19 Accuracy=92.80: 100%|██████████| 20/20 [00:31<00:00,  1.55s/it]\n",
      "Loss=0.2194514125585556 Batch_id=19 Accuracy=92.94: 100%|██████████| 20/20 [00:31<00:00,  1.56s/it] \n",
      "Loss=0.1998727172613144 Batch_id=19 Accuracy=93.12: 100%|██████████| 20/20 [00:30<00:00,  1.54s/it] \n",
      "Loss=0.19628046452999115 Batch_id=19 Accuracy=93.22: 100%|██████████| 20/20 [00:31<00:00,  1.55s/it]\n",
      "Loss=0.20382057130336761 Batch_id=19 Accuracy=93.38: 100%|██████████| 20/20 [00:30<00:00,  1.54s/it]\n",
      "Loss=0.2022375613451004 Batch_id=19 Accuracy=93.98: 100%|██████████| 20/20 [00:30<00:00,  1.55s/it] \n"
     ]
    },
    {
     "name": "stdout",
     "output_type": "stream",
     "text": [
      "Test set: Average loss: 0.4244, Accuracy: 8704/10000 (87.04%)\n",
      "\n",
      "--Testing Corruptions--\n"
     ]
    },
    {
     "name": "stderr",
     "output_type": "stream",
     "text": [
      "100%|██████████| 19/19 [04:42<00:00, 14.85s/it]\n"
     ]
    },
    {
     "name": "stdout",
     "output_type": "stream",
     "text": [
      "\n",
      "Avg Corruption Accuracy: 78.22%\n",
      "Global Sparsity: 94.72% \n",
      "\n",
      "---------- Pruning Iteration:  29 / 44\n"
     ]
    },
    {
     "name": "stderr",
     "output_type": "stream",
     "text": [
      "Loss=0.34288910031318665 Batch_id=19 Accuracy=85.03: 100%|██████████| 20/20 [00:31<00:00,  1.55s/it]\n",
      "Loss=0.2688458561897278 Batch_id=19 Accuracy=89.45: 100%|██████████| 20/20 [00:30<00:00,  1.55s/it] \n",
      "Loss=0.23166629672050476 Batch_id=19 Accuracy=90.83: 100%|██████████| 20/20 [00:31<00:00,  1.55s/it]\n",
      "Loss=0.2209545522928238 Batch_id=19 Accuracy=91.83: 100%|██████████| 20/20 [00:31<00:00,  1.56s/it] \n",
      "Loss=0.21392764151096344 Batch_id=19 Accuracy=92.08: 100%|██████████| 20/20 [00:30<00:00,  1.54s/it]\n",
      "Loss=0.21772164106369019 Batch_id=19 Accuracy=92.61: 100%|██████████| 20/20 [00:31<00:00,  1.56s/it]\n",
      "Loss=0.1837312877178192 Batch_id=19 Accuracy=92.71: 100%|██████████| 20/20 [00:31<00:00,  1.55s/it] \n",
      "Loss=0.20303955674171448 Batch_id=19 Accuracy=92.73: 100%|██████████| 20/20 [00:31<00:00,  1.56s/it]\n",
      "Loss=0.19432160258293152 Batch_id=19 Accuracy=92.99: 100%|██████████| 20/20 [00:30<00:00,  1.55s/it]\n",
      "Loss=0.1904974728822708 Batch_id=19 Accuracy=93.13: 100%|██████████| 20/20 [00:30<00:00,  1.55s/it] "
     ]
    },
    {
     "name": "stdout",
     "output_type": "stream",
     "text": [
      "Epoch 00010: reducing learning rate of group 0 to 5.0000e-04.\n"
     ]
    },
    {
     "name": "stderr",
     "output_type": "stream",
     "text": [
      "\n"
     ]
    },
    {
     "name": "stdout",
     "output_type": "stream",
     "text": [
      "Test set: Average loss: 0.4132, Accuracy: 8706/10000 (87.06%)\n",
      "\n",
      "--Skipping Acc Comp For Corrupted Data--\n",
      "Global Sparsity: 95.25% \n",
      "\n",
      "---------- Pruning Iteration:  30 / 44\n"
     ]
    },
    {
     "name": "stderr",
     "output_type": "stream",
     "text": [
      "Loss=0.3203517496585846 Batch_id=19 Accuracy=84.17: 100%|██████████| 20/20 [00:30<00:00,  1.55s/it] \n",
      "Loss=0.27661511301994324 Batch_id=19 Accuracy=88.64: 100%|██████████| 20/20 [00:31<00:00,  1.55s/it]\n",
      "Loss=0.2745991349220276 Batch_id=19 Accuracy=90.19: 100%|██████████| 20/20 [00:31<00:00,  1.55s/it] \n",
      "Loss=0.2500729560852051 Batch_id=19 Accuracy=90.75: 100%|██████████| 20/20 [00:31<00:00,  1.56s/it] \n",
      "Loss=0.2497374415397644 Batch_id=19 Accuracy=91.42: 100%|██████████| 20/20 [00:31<00:00,  1.55s/it] \n",
      "Loss=0.24288012087345123 Batch_id=19 Accuracy=91.57: 100%|██████████| 20/20 [00:30<00:00,  1.54s/it]\n",
      "Loss=0.2263195961713791 Batch_id=19 Accuracy=91.96: 100%|██████████| 20/20 [00:30<00:00,  1.55s/it] \n",
      "Loss=0.2269572913646698 Batch_id=19 Accuracy=92.06: 100%|██████████| 20/20 [00:30<00:00,  1.55s/it] \n",
      "Loss=0.21984410285949707 Batch_id=19 Accuracy=92.19: 100%|██████████| 20/20 [00:31<00:00,  1.55s/it]\n",
      "Loss=0.22036904096603394 Batch_id=19 Accuracy=92.28: 100%|██████████| 20/20 [00:31<00:00,  1.56s/it]\n"
     ]
    },
    {
     "name": "stdout",
     "output_type": "stream",
     "text": [
      "Test set: Average loss: 0.4176, Accuracy: 8654/10000 (86.54%)\n",
      "\n",
      "--Skipping Acc Comp For Corrupted Data--\n",
      "Global Sparsity: 95.72% \n",
      "\n",
      "---------- Pruning Iteration:  31 / 44\n"
     ]
    },
    {
     "name": "stderr",
     "output_type": "stream",
     "text": [
      "Loss=0.3722345530986786 Batch_id=19 Accuracy=83.76: 100%|██████████| 20/20 [00:30<00:00,  1.55s/it] \n",
      "Loss=0.3320081830024719 Batch_id=19 Accuracy=87.97: 100%|██████████| 20/20 [00:31<00:00,  1.56s/it] \n",
      "Loss=0.29613712430000305 Batch_id=19 Accuracy=89.41: 100%|██████████| 20/20 [00:30<00:00,  1.55s/it]\n",
      "Loss=0.2842537760734558 Batch_id=19 Accuracy=90.12: 100%|██████████| 20/20 [00:30<00:00,  1.54s/it] \n",
      "Loss=0.2776787579059601 Batch_id=19 Accuracy=90.35: 100%|██████████| 20/20 [00:31<00:00,  1.55s/it] \n",
      "Loss=0.26091834902763367 Batch_id=19 Accuracy=90.56: 100%|██████████| 20/20 [00:31<00:00,  1.56s/it]\n",
      "Loss=0.26914048194885254 Batch_id=19 Accuracy=91.03: 100%|██████████| 20/20 [00:31<00:00,  1.55s/it]\n",
      "Loss=0.2527353763580322 Batch_id=19 Accuracy=91.33: 100%|██████████| 20/20 [00:31<00:00,  1.56s/it] \n",
      "Loss=0.2374250590801239 Batch_id=19 Accuracy=91.38: 100%|██████████| 20/20 [00:30<00:00,  1.55s/it] \n",
      "Loss=0.23588930070400238 Batch_id=19 Accuracy=91.73: 100%|██████████| 20/20 [00:31<00:00,  1.55s/it]\n"
     ]
    },
    {
     "name": "stdout",
     "output_type": "stream",
     "text": [
      "Test set: Average loss: 0.4243, Accuracy: 8680/10000 (86.80%)\n",
      "\n",
      "--Skipping Acc Comp For Corrupted Data--\n",
      "Global Sparsity: 96.14% \n",
      "\n",
      "---------- Pruning Iteration:  32 / 44\n"
     ]
    },
    {
     "name": "stderr",
     "output_type": "stream",
     "text": [
      "Loss=0.35024312138557434 Batch_id=19 Accuracy=83.45: 100%|██████████| 20/20 [00:31<00:00,  1.55s/it]\n",
      "Loss=0.30565956234931946 Batch_id=19 Accuracy=87.32: 100%|██████████| 20/20 [00:30<00:00,  1.54s/it]\n",
      "Loss=0.3055129647254944 Batch_id=19 Accuracy=88.48: 100%|██████████| 20/20 [00:31<00:00,  1.55s/it] \n",
      "Loss=0.2963460683822632 Batch_id=19 Accuracy=89.47: 100%|██████████| 20/20 [00:31<00:00,  1.55s/it] \n",
      "Loss=0.2781464457511902 Batch_id=19 Accuracy=89.64: 100%|██████████| 20/20 [00:30<00:00,  1.55s/it] \n",
      "Loss=0.2699510455131531 Batch_id=19 Accuracy=89.68: 100%|██████████| 20/20 [00:31<00:00,  1.56s/it] \n",
      "Loss=0.252390593290329 Batch_id=19 Accuracy=90.14: 100%|██████████| 20/20 [00:30<00:00,  1.54s/it]  \n",
      "Loss=0.2827512323856354 Batch_id=19 Accuracy=90.19: 100%|██████████| 20/20 [00:31<00:00,  1.55s/it] \n",
      "Loss=0.2566882371902466 Batch_id=19 Accuracy=90.60: 100%|██████████| 20/20 [00:31<00:00,  1.56s/it] \n",
      "Loss=0.28111881017684937 Batch_id=19 Accuracy=90.81: 100%|██████████| 20/20 [00:30<00:00,  1.55s/it]"
     ]
    },
    {
     "name": "stdout",
     "output_type": "stream",
     "text": [
      "Epoch 00010: reducing learning rate of group 0 to 5.0000e-04.\n"
     ]
    },
    {
     "name": "stderr",
     "output_type": "stream",
     "text": [
      "\n"
     ]
    },
    {
     "name": "stdout",
     "output_type": "stream",
     "text": [
      "Test set: Average loss: 0.4219, Accuracy: 8639/10000 (86.39%)\n",
      "\n",
      "--Skipping Acc Comp For Corrupted Data--\n",
      "Global Sparsity: 96.52% \n",
      "\n",
      "---------- Pruning Iteration:  33 / 44\n"
     ]
    },
    {
     "name": "stderr",
     "output_type": "stream",
     "text": [
      "Loss=0.38273885846138 Batch_id=19 Accuracy=82.39: 100%|██████████| 20/20 [00:31<00:00,  1.56s/it]   \n",
      "Loss=0.34658294916152954 Batch_id=19 Accuracy=86.45: 100%|██████████| 20/20 [00:30<00:00,  1.55s/it]\n",
      "Loss=0.31965163350105286 Batch_id=19 Accuracy=87.77: 100%|██████████| 20/20 [00:30<00:00,  1.55s/it]\n",
      "Loss=0.2994086742401123 Batch_id=19 Accuracy=88.42: 100%|██████████| 20/20 [00:31<00:00,  1.55s/it] \n",
      "Loss=0.30765941739082336 Batch_id=19 Accuracy=89.02: 100%|██████████| 20/20 [00:30<00:00,  1.55s/it]\n",
      "Loss=0.30273187160491943 Batch_id=19 Accuracy=89.02: 100%|██████████| 20/20 [00:30<00:00,  1.55s/it]\n",
      "Loss=0.2915650010108948 Batch_id=19 Accuracy=89.27: 100%|██████████| 20/20 [00:31<00:00,  1.56s/it] \n",
      "Loss=0.31052079796791077 Batch_id=19 Accuracy=89.56: 100%|██████████| 20/20 [00:30<00:00,  1.55s/it]\n",
      "Loss=0.28966253995895386 Batch_id=19 Accuracy=89.51: 100%|██████████| 20/20 [00:31<00:00,  1.56s/it]\n",
      "Loss=0.23109206557273865 Batch_id=19 Accuracy=89.78: 100%|██████████| 20/20 [00:31<00:00,  1.56s/it]\n"
     ]
    },
    {
     "name": "stdout",
     "output_type": "stream",
     "text": [
      "Test set: Average loss: 0.4074, Accuracy: 8643/10000 (86.43%)\n",
      "\n",
      "--Skipping Acc Comp For Corrupted Data--\n",
      "Global Sparsity: 96.87% \n",
      "\n",
      "---------- Pruning Iteration:  34 / 44\n"
     ]
    },
    {
     "name": "stderr",
     "output_type": "stream",
     "text": [
      "Loss=0.41255810856819153 Batch_id=19 Accuracy=81.68: 100%|██████████| 20/20 [00:30<00:00,  1.55s/it]\n",
      "Loss=0.3629971742630005 Batch_id=19 Accuracy=85.54: 100%|██████████| 20/20 [00:31<00:00,  1.56s/it] \n",
      "Loss=0.3142661452293396 Batch_id=19 Accuracy=86.76: 100%|██████████| 20/20 [00:31<00:00,  1.55s/it] \n",
      "Loss=0.33485421538352966 Batch_id=19 Accuracy=87.39: 100%|██████████| 20/20 [00:31<00:00,  1.55s/it]\n",
      "Loss=0.296303391456604 Batch_id=19 Accuracy=87.70: 100%|██████████| 20/20 [00:31<00:00,  1.56s/it]  \n",
      "Loss=0.32351428270339966 Batch_id=19 Accuracy=88.19: 100%|██████████| 20/20 [00:30<00:00,  1.55s/it]\n",
      "Loss=0.30041947960853577 Batch_id=19 Accuracy=88.40: 100%|██████████| 20/20 [00:30<00:00,  1.55s/it]\n",
      "Loss=0.3296163082122803 Batch_id=19 Accuracy=88.59: 100%|██████████| 20/20 [00:31<00:00,  1.55s/it] \n"
     ]
    },
    {
     "name": "stdout",
     "output_type": "stream",
     "text": [
      "Epoch 00008: reducing learning rate of group 0 to 5.0000e-04.\n"
     ]
    },
    {
     "name": "stderr",
     "output_type": "stream",
     "text": [
      "Loss=0.32728520035743713 Batch_id=19 Accuracy=89.22: 100%|██████████| 20/20 [00:30<00:00,  1.54s/it]\n",
      "Loss=0.3036050498485565 Batch_id=19 Accuracy=89.34: 100%|██████████| 20/20 [00:30<00:00,  1.55s/it] \n"
     ]
    },
    {
     "name": "stdout",
     "output_type": "stream",
     "text": [
      "Test set: Average loss: 0.3993, Accuracy: 8685/10000 (86.85%)\n",
      "\n",
      "--Skipping Acc Comp For Corrupted Data--\n",
      "Global Sparsity: 97.17% \n",
      "\n",
      "---------- Pruning Iteration:  35 / 44\n"
     ]
    },
    {
     "name": "stderr",
     "output_type": "stream",
     "text": [
      "Loss=0.4522421061992645 Batch_id=19 Accuracy=80.40: 100%|██████████| 20/20 [00:31<00:00,  1.56s/it] \n",
      "Loss=0.3991449773311615 Batch_id=19 Accuracy=84.44: 100%|██████████| 20/20 [00:30<00:00,  1.55s/it] \n",
      "Loss=0.35778099298477173 Batch_id=19 Accuracy=85.73: 100%|██████████| 20/20 [00:31<00:00,  1.55s/it]\n",
      "Loss=0.3460425138473511 Batch_id=19 Accuracy=86.61: 100%|██████████| 20/20 [00:31<00:00,  1.56s/it] \n",
      "Loss=0.37719857692718506 Batch_id=19 Accuracy=86.84: 100%|██████████| 20/20 [00:30<00:00,  1.55s/it]\n",
      "Loss=0.34915053844451904 Batch_id=19 Accuracy=87.11: 100%|██████████| 20/20 [00:31<00:00,  1.56s/it]\n",
      "Loss=0.34704363346099854 Batch_id=19 Accuracy=87.22: 100%|██████████| 20/20 [00:30<00:00,  1.54s/it]\n"
     ]
    },
    {
     "name": "stdout",
     "output_type": "stream",
     "text": [
      "Epoch 00007: reducing learning rate of group 0 to 5.0000e-04.\n"
     ]
    },
    {
     "name": "stderr",
     "output_type": "stream",
     "text": [
      "Loss=0.33233004808425903 Batch_id=19 Accuracy=87.90: 100%|██████████| 20/20 [00:31<00:00,  1.55s/it]\n",
      "Loss=0.3250083029270172 Batch_id=19 Accuracy=88.18: 100%|██████████| 20/20 [00:31<00:00,  1.56s/it] \n",
      "Loss=0.3088369369506836 Batch_id=19 Accuracy=88.39: 100%|██████████| 20/20 [00:30<00:00,  1.55s/it] \n"
     ]
    },
    {
     "name": "stdout",
     "output_type": "stream",
     "text": [
      "Test set: Average loss: 0.4034, Accuracy: 8641/10000 (86.41%)\n",
      "\n",
      "--Skipping Acc Comp For Corrupted Data--\n",
      "Global Sparsity: 97.45% \n",
      "\n",
      "---------- Pruning Iteration:  36 / 44\n"
     ]
    },
    {
     "name": "stderr",
     "output_type": "stream",
     "text": [
      "Loss=0.47879454493522644 Batch_id=19 Accuracy=80.06: 100%|██████████| 20/20 [00:31<00:00,  1.55s/it]\n",
      "Loss=0.45095157623291016 Batch_id=19 Accuracy=83.67: 100%|██████████| 20/20 [00:31<00:00,  1.55s/it]\n",
      "Loss=0.4394686222076416 Batch_id=19 Accuracy=84.57: 100%|██████████| 20/20 [00:30<00:00,  1.54s/it] \n",
      "Loss=0.385232537984848 Batch_id=19 Accuracy=85.15: 100%|██████████| 20/20 [00:31<00:00,  1.55s/it]  \n",
      "Loss=0.41815683245658875 Batch_id=19 Accuracy=85.68: 100%|██████████| 20/20 [00:30<00:00,  1.55s/it]\n",
      "Loss=0.3844131529331207 Batch_id=19 Accuracy=85.67: 100%|██████████| 20/20 [00:30<00:00,  1.55s/it] \n",
      "Loss=0.3953075110912323 Batch_id=19 Accuracy=85.90: 100%|██████████| 20/20 [00:31<00:00,  1.56s/it] \n",
      "Loss=0.3679187595844269 Batch_id=19 Accuracy=86.19: 100%|██████████| 20/20 [00:30<00:00,  1.54s/it] \n",
      "Loss=0.35018202662467957 Batch_id=19 Accuracy=86.14: 100%|██████████| 20/20 [00:31<00:00,  1.55s/it]\n",
      "Loss=0.3652143180370331 Batch_id=19 Accuracy=86.35: 100%|██████████| 20/20 [00:31<00:00,  1.55s/it] \n"
     ]
    },
    {
     "name": "stdout",
     "output_type": "stream",
     "text": [
      "Test set: Average loss: 0.4097, Accuracy: 8609/10000 (86.09%)\n",
      "\n",
      "--Skipping Acc Comp For Corrupted Data--\n",
      "Global Sparsity: 97.70% \n",
      "\n",
      "---------- Pruning Iteration:  37 / 44\n"
     ]
    },
    {
     "name": "stderr",
     "output_type": "stream",
     "text": [
      "Loss=0.5085559487342834 Batch_id=19 Accuracy=78.61: 100%|██████████| 20/20 [00:31<00:00,  1.55s/it] \n",
      "Loss=0.45901983976364136 Batch_id=19 Accuracy=82.55: 100%|██████████| 20/20 [00:31<00:00,  1.56s/it]\n",
      "Loss=0.4082760214805603 Batch_id=19 Accuracy=83.48: 100%|██████████| 20/20 [00:31<00:00,  1.55s/it] \n",
      "Loss=0.4485582709312439 Batch_id=19 Accuracy=84.08: 100%|██████████| 20/20 [00:31<00:00,  1.56s/it] \n",
      "Loss=0.41346848011016846 Batch_id=19 Accuracy=84.64: 100%|██████████| 20/20 [00:31<00:00,  1.56s/it]\n",
      "Loss=0.41517674922943115 Batch_id=19 Accuracy=84.65: 100%|██████████| 20/20 [00:30<00:00,  1.54s/it]\n"
     ]
    },
    {
     "name": "stdout",
     "output_type": "stream",
     "text": [
      "Epoch 00006: reducing learning rate of group 0 to 5.0000e-04.\n"
     ]
    },
    {
     "name": "stderr",
     "output_type": "stream",
     "text": [
      "Loss=0.38321489095687866 Batch_id=19 Accuracy=85.36: 100%|██████████| 20/20 [00:31<00:00,  1.55s/it]\n",
      "Loss=0.3755624294281006 Batch_id=19 Accuracy=85.68: 100%|██████████| 20/20 [00:31<00:00,  1.56s/it] \n",
      "Loss=0.4001348614692688 Batch_id=19 Accuracy=85.61: 100%|██████████| 20/20 [00:30<00:00,  1.55s/it] \n",
      "Loss=0.4070453345775604 Batch_id=19 Accuracy=85.99: 100%|██████████| 20/20 [00:31<00:00,  1.55s/it] \n"
     ]
    },
    {
     "name": "stdout",
     "output_type": "stream",
     "text": [
      "Test set: Average loss: 0.3985, Accuracy: 8633/10000 (86.33%)\n",
      "\n",
      "--Skipping Acc Comp For Corrupted Data--\n",
      "Global Sparsity: 97.93% \n",
      "\n",
      "---------- Pruning Iteration:  38 / 44\n"
     ]
    },
    {
     "name": "stderr",
     "output_type": "stream",
     "text": [
      "Loss=0.4992346465587616 Batch_id=19 Accuracy=77.69: 100%|██████████| 20/20 [00:30<00:00,  1.55s/it]\n",
      "Loss=0.46978121995925903 Batch_id=19 Accuracy=81.22: 100%|██████████| 20/20 [00:30<00:00,  1.55s/it]\n",
      "Loss=0.48105087876319885 Batch_id=19 Accuracy=82.54: 100%|██████████| 20/20 [00:30<00:00,  1.55s/it]\n",
      "Loss=0.45921725034713745 Batch_id=19 Accuracy=82.83: 100%|██████████| 20/20 [00:30<00:00,  1.55s/it]\n",
      "Loss=0.46020740270614624 Batch_id=19 Accuracy=83.41: 100%|██████████| 20/20 [00:31<00:00,  1.55s/it]\n",
      "Loss=0.4368453025817871 Batch_id=19 Accuracy=83.75: 100%|██████████| 20/20 [00:30<00:00,  1.55s/it] \n",
      "Loss=0.43915674090385437 Batch_id=19 Accuracy=83.69: 100%|██████████| 20/20 [00:31<00:00,  1.55s/it]\n",
      "Loss=0.4381955862045288 Batch_id=19 Accuracy=83.82: 100%|██████████| 20/20 [00:31<00:00,  1.56s/it] \n",
      "Loss=0.44968122243881226 Batch_id=19 Accuracy=84.07: 100%|██████████| 20/20 [00:30<00:00,  1.55s/it]\n"
     ]
    },
    {
     "name": "stdout",
     "output_type": "stream",
     "text": [
      "Epoch 00009: reducing learning rate of group 0 to 5.0000e-04.\n"
     ]
    },
    {
     "name": "stderr",
     "output_type": "stream",
     "text": [
      "Loss=0.43848150968551636 Batch_id=19 Accuracy=84.72: 100%|██████████| 20/20 [00:31<00:00,  1.55s/it]\n"
     ]
    },
    {
     "name": "stdout",
     "output_type": "stream",
     "text": [
      "Test set: Average loss: 0.3974, Accuracy: 8626/10000 (86.26%)\n",
      "\n",
      "--Skipping Acc Comp For Corrupted Data--\n",
      "Global Sparsity: 98.13% \n",
      "\n",
      "---------- Pruning Iteration:  39 / 44\n"
     ]
    },
    {
     "name": "stderr",
     "output_type": "stream",
     "text": [
      "Loss=0.5559514760971069 Batch_id=19 Accuracy=76.14: 100%|██████████| 20/20 [00:31<00:00,  1.55s/it]\n",
      "Loss=0.49367275834083557 Batch_id=19 Accuracy=79.99: 100%|██████████| 20/20 [00:30<00:00,  1.54s/it]\n",
      "Loss=0.4683090150356293 Batch_id=19 Accuracy=81.39: 100%|██████████| 20/20 [00:31<00:00,  1.55s/it] \n",
      "Loss=0.47767043113708496 Batch_id=19 Accuracy=82.09: 100%|██████████| 20/20 [00:31<00:00,  1.55s/it]\n",
      "Loss=0.47591543197631836 Batch_id=19 Accuracy=82.11: 100%|██████████| 20/20 [00:30<00:00,  1.55s/it]\n",
      "Loss=0.497106671333313 Batch_id=19 Accuracy=82.30: 100%|██████████| 20/20 [00:31<00:00,  1.56s/it]  \n"
     ]
    },
    {
     "name": "stdout",
     "output_type": "stream",
     "text": [
      "Epoch 00006: reducing learning rate of group 0 to 5.0000e-04.\n"
     ]
    },
    {
     "name": "stderr",
     "output_type": "stream",
     "text": [
      "Loss=0.4774712026119232 Batch_id=19 Accuracy=82.93: 100%|██████████| 20/20 [00:31<00:00,  1.56s/it] \n",
      "Loss=0.4285435080528259 Batch_id=19 Accuracy=83.28: 100%|██████████| 20/20 [00:30<00:00,  1.55s/it] \n",
      "Loss=0.4279864728450775 Batch_id=19 Accuracy=83.59: 100%|██████████| 20/20 [00:31<00:00,  1.56s/it] \n",
      "Loss=0.44469115138053894 Batch_id=19 Accuracy=83.30: 100%|██████████| 20/20 [00:30<00:00,  1.54s/it]\n"
     ]
    },
    {
     "name": "stdout",
     "output_type": "stream",
     "text": [
      "Test set: Average loss: 0.4027, Accuracy: 8612/10000 (86.12%)\n",
      "\n",
      "--Skipping Acc Comp For Corrupted Data--\n",
      "Global Sparsity: 98.31% \n",
      "\n",
      "---------- Pruning Iteration:  40 / 44\n"
     ]
    },
    {
     "name": "stderr",
     "output_type": "stream",
     "text": [
      "Loss=0.5669952034950256 Batch_id=19 Accuracy=75.78: 100%|██████████| 20/20 [00:31<00:00,  1.56s/it]\n",
      "Loss=0.5543947815895081 Batch_id=19 Accuracy=79.12: 100%|██████████| 20/20 [00:31<00:00,  1.56s/it]\n",
      "Loss=0.5595552921295166 Batch_id=19 Accuracy=80.12: 100%|██████████| 20/20 [00:31<00:00,  1.55s/it]\n",
      "Loss=0.4872141182422638 Batch_id=19 Accuracy=80.53: 100%|██████████| 20/20 [00:31<00:00,  1.55s/it]\n",
      "Loss=0.5180279612541199 Batch_id=19 Accuracy=81.03: 100%|██████████| 20/20 [00:30<00:00,  1.55s/it]\n",
      "Loss=0.4943147599697113 Batch_id=19 Accuracy=81.29: 100%|██████████| 20/20 [00:30<00:00,  1.54s/it] \n",
      "Loss=0.5382553339004517 Batch_id=19 Accuracy=81.39: 100%|██████████| 20/20 [00:31<00:00,  1.56s/it]\n"
     ]
    },
    {
     "name": "stdout",
     "output_type": "stream",
     "text": [
      "Epoch 00007: reducing learning rate of group 0 to 5.0000e-04.\n"
     ]
    },
    {
     "name": "stderr",
     "output_type": "stream",
     "text": [
      "Loss=0.4736011326313019 Batch_id=19 Accuracy=81.83: 100%|██████████| 20/20 [00:30<00:00,  1.55s/it] \n",
      "Loss=0.4866648018360138 Batch_id=19 Accuracy=82.26: 100%|██████████| 20/20 [00:31<00:00,  1.55s/it] \n",
      "Loss=0.49228617548942566 Batch_id=19 Accuracy=82.40: 100%|██████████| 20/20 [00:31<00:00,  1.56s/it]\n"
     ]
    },
    {
     "name": "stdout",
     "output_type": "stream",
     "text": [
      "Test set: Average loss: 0.4067, Accuracy: 8608/10000 (86.08%)\n",
      "\n",
      "--Skipping Acc Comp For Corrupted Data--\n",
      "Global Sparsity: 98.48% \n",
      "\n",
      "---------- Pruning Iteration:  41 / 44\n"
     ]
    },
    {
     "name": "stderr",
     "output_type": "stream",
     "text": [
      "Loss=0.6390373706817627 Batch_id=19 Accuracy=75.07: 100%|██████████| 20/20 [00:31<00:00,  1.55s/it]\n",
      "Loss=0.564405083656311 Batch_id=19 Accuracy=78.10: 100%|██████████| 20/20 [00:31<00:00,  1.56s/it] \n",
      "Loss=0.5853613018989563 Batch_id=19 Accuracy=79.35: 100%|██████████| 20/20 [00:31<00:00,  1.56s/it]\n",
      "Loss=0.55265873670578 Batch_id=19 Accuracy=79.81: 100%|██████████| 20/20 [00:30<00:00,  1.55s/it]  \n",
      "Loss=0.5253134965896606 Batch_id=19 Accuracy=80.00: 100%|██████████| 20/20 [00:30<00:00,  1.55s/it]\n",
      "Loss=0.5409514307975769 Batch_id=19 Accuracy=80.36: 100%|██████████| 20/20 [00:31<00:00,  1.56s/it]\n",
      "Loss=0.5317673683166504 Batch_id=19 Accuracy=80.41: 100%|██████████| 20/20 [00:30<00:00,  1.55s/it] \n",
      "Loss=0.5009405612945557 Batch_id=19 Accuracy=80.48: 100%|██████████| 20/20 [00:31<00:00,  1.56s/it] \n",
      "Loss=0.5211772918701172 Batch_id=19 Accuracy=80.87: 100%|██████████| 20/20 [00:31<00:00,  1.55s/it] \n",
      "Loss=0.5545257329940796 Batch_id=19 Accuracy=80.89: 100%|██████████| 20/20 [00:31<00:00,  1.57s/it]\n"
     ]
    },
    {
     "name": "stdout",
     "output_type": "stream",
     "text": [
      "Test set: Average loss: 0.4174, Accuracy: 8549/10000 (85.49%)\n",
      "\n",
      "--Skipping Acc Comp For Corrupted Data--\n",
      "Global Sparsity: 98.62% \n",
      "\n",
      "---------- Pruning Iteration:  42 / 44\n"
     ]
    },
    {
     "name": "stderr",
     "output_type": "stream",
     "text": [
      "Loss=0.6429256200790405 Batch_id=19 Accuracy=74.25: 100%|██████████| 20/20 [00:31<00:00,  1.56s/it]\n",
      "Loss=0.6509525775909424 Batch_id=19 Accuracy=77.73: 100%|██████████| 20/20 [00:30<00:00,  1.55s/it]\n",
      "Loss=0.5923753976821899 Batch_id=19 Accuracy=78.43: 100%|██████████| 20/20 [00:31<00:00,  1.55s/it]\n",
      "Loss=0.49351033568382263 Batch_id=19 Accuracy=78.94: 100%|██████████| 20/20 [00:31<00:00,  1.56s/it]\n",
      "Loss=0.5607444643974304 Batch_id=19 Accuracy=79.30: 100%|██████████| 20/20 [00:31<00:00,  1.55s/it]\n",
      "Loss=0.5512630939483643 Batch_id=19 Accuracy=79.59: 100%|██████████| 20/20 [00:31<00:00,  1.56s/it]\n",
      "Loss=0.5663350224494934 Batch_id=19 Accuracy=79.68: 100%|██████████| 20/20 [00:30<00:00,  1.54s/it]\n"
     ]
    },
    {
     "name": "stdout",
     "output_type": "stream",
     "text": [
      "Epoch 00007: reducing learning rate of group 0 to 5.0000e-04.\n"
     ]
    },
    {
     "name": "stderr",
     "output_type": "stream",
     "text": [
      "Loss=0.5364810824394226 Batch_id=19 Accuracy=80.21: 100%|██████████| 20/20 [00:31<00:00,  1.55s/it]\n",
      "Loss=0.5284302830696106 Batch_id=19 Accuracy=80.31: 100%|██████████| 20/20 [00:31<00:00,  1.56s/it]\n",
      "Loss=0.5671801567077637 Batch_id=19 Accuracy=80.39: 100%|██████████| 20/20 [00:30<00:00,  1.54s/it]"
     ]
    },
    {
     "name": "stdout",
     "output_type": "stream",
     "text": [
      "Epoch 00010: reducing learning rate of group 0 to 2.5000e-05.\n"
     ]
    },
    {
     "name": "stderr",
     "output_type": "stream",
     "text": [
      "\n"
     ]
    },
    {
     "name": "stdout",
     "output_type": "stream",
     "text": [
      "Test set: Average loss: 0.4141, Accuracy: 8600/10000 (86.00%)\n",
      "\n",
      "--Skipping Acc Comp For Corrupted Data--\n",
      "Global Sparsity: 98.76% \n",
      "\n",
      "---------- Pruning Iteration:  43 / 44\n"
     ]
    },
    {
     "name": "stderr",
     "output_type": "stream",
     "text": [
      "Loss=0.6833640933036804 Batch_id=19 Accuracy=73.85: 100%|██████████| 20/20 [00:31<00:00,  1.55s/it]\n",
      "Loss=0.6329642534255981 Batch_id=19 Accuracy=76.72: 100%|██████████| 20/20 [00:31<00:00,  1.55s/it]\n",
      "Loss=0.6442421674728394 Batch_id=19 Accuracy=77.56: 100%|██████████| 20/20 [00:30<00:00,  1.55s/it]\n",
      "Loss=0.6453959345817566 Batch_id=19 Accuracy=77.86: 100%|██████████| 20/20 [00:31<00:00,  1.56s/it]\n",
      "Loss=0.5763430595397949 Batch_id=19 Accuracy=78.12: 100%|██████████| 20/20 [00:31<00:00,  1.56s/it]\n",
      "Loss=0.5676137804985046 Batch_id=19 Accuracy=78.18: 100%|██████████| 20/20 [00:30<00:00,  1.55s/it]\n",
      "Loss=0.5642796754837036 Batch_id=19 Accuracy=78.61: 100%|██████████| 20/20 [00:31<00:00,  1.56s/it]\n",
      "Loss=0.5771967768669128 Batch_id=19 Accuracy=78.67: 100%|██████████| 20/20 [00:30<00:00,  1.55s/it]\n",
      "Loss=0.5511826872825623 Batch_id=19 Accuracy=79.09: 100%|██████████| 20/20 [00:31<00:00,  1.56s/it]\n",
      "Loss=0.5495339632034302 Batch_id=19 Accuracy=79.16: 100%|██████████| 20/20 [00:31<00:00,  1.56s/it]\n"
     ]
    },
    {
     "name": "stdout",
     "output_type": "stream",
     "text": [
      "Test set: Average loss: 0.4272, Accuracy: 8542/10000 (85.42%)\n",
      "\n",
      "--Skipping Acc Comp For Corrupted Data--\n",
      "Global Sparsity: 98.88% \n",
      "\n",
      "---------- Pruning Iteration:  44 / 44\n"
     ]
    },
    {
     "name": "stderr",
     "output_type": "stream",
     "text": [
      "Loss=0.6683946847915649 Batch_id=19 Accuracy=73.49: 100%|██████████| 20/20 [00:30<00:00,  1.54s/it]\n",
      "Loss=0.6359760761260986 Batch_id=19 Accuracy=76.04: 100%|██████████| 20/20 [00:31<00:00,  1.56s/it]\n",
      "Loss=0.6261833310127258 Batch_id=19 Accuracy=76.61: 100%|██████████| 20/20 [00:31<00:00,  1.56s/it]\n",
      "Loss=0.6023257374763489 Batch_id=19 Accuracy=77.06: 100%|██████████| 20/20 [00:30<00:00,  1.55s/it]\n",
      "Loss=0.6482033133506775 Batch_id=19 Accuracy=77.39: 100%|██████████| 20/20 [00:31<00:00,  1.55s/it]\n",
      "Loss=0.6212013959884644 Batch_id=19 Accuracy=77.87: 100%|██████████| 20/20 [00:31<00:00,  1.56s/it]\n",
      "Loss=0.5873228311538696 Batch_id=19 Accuracy=77.90: 100%|██████████| 20/20 [00:31<00:00,  1.55s/it]\n",
      "Loss=0.6127562522888184 Batch_id=19 Accuracy=78.01: 100%|██████████| 20/20 [00:31<00:00,  1.56s/it]\n",
      "Loss=0.560832142829895 Batch_id=19 Accuracy=77.89: 100%|██████████| 20/20 [00:30<00:00,  1.55s/it] \n",
      "Loss=0.557945966720581 Batch_id=19 Accuracy=78.38: 100%|██████████| 20/20 [00:30<00:00,  1.55s/it] \n"
     ]
    },
    {
     "name": "stdout",
     "output_type": "stream",
     "text": [
      "Test set: Average loss: 0.4350, Accuracy: 8532/10000 (85.32%)\n",
      "\n",
      "--Testing Corruptions--\n"
     ]
    },
    {
     "name": "stderr",
     "output_type": "stream",
     "text": [
      "100%|██████████| 19/19 [04:59<00:00, 15.75s/it]"
     ]
    },
    {
     "name": "stdout",
     "output_type": "stream",
     "text": [
      "\n",
      "Avg Corruption Accuracy: 75.90%\n",
      "Global Sparsity: 98.98% \n",
      "\n"
     ]
    },
    {
     "name": "stderr",
     "output_type": "stream",
     "text": [
      "\n"
     ]
    }
   ],
   "source": [
    "#Network weights\n",
    "ResNet18_CIFAR10_Weights= torch.load(\"./Networks/ResNet18_CIFAR10_V0_Adversarial_ep_05p.pt\")\n",
    "ResNet18_CIFAR10_0P=ResNet18_CIFAR10_Model()\n",
    "ResNet18_CIFAR10_0P.load_state_dict(ResNet18_CIFAR10_Weights)\n",
    "\n",
    "model=copy.deepcopy(ResNet18_CIFAR10_0P)\n",
    "TrainLoader=trainloader_CIFAR10\n",
    "TestLoader=testloader_CIFAR10\n",
    "TestCLoader=loader_CIFAR10C\n",
    "PruningRate=0.1\n",
    "NumEpochsEachPruneRetrain=10\n",
    "MaximumPruneLevel=0.01\n",
    "lambda_l1=0\n",
    "lambda_l2=0.0005\n",
    "\n",
    "epsilon=0.005\n",
    "mean=MeanCIFAR10\n",
    "std=StdCIFAR10\n",
    "\n",
    "\n",
    "SaveTrainStepsName=\"Progress/PruningIterations_ResNet18_CIFAR10_V0_Adversarial_ep_05p_01PR_10Epochs_L2_0005\"\n",
    "\n",
    "\n",
    "ReadMe=\"This model is running pruning with the standard cost function, and the non corrupted dataset, a prunning rate of 0.1 and 10 epoch of retraining\\\n",
    "L2 Regularization of 0.0005 is used\\n\\nOriginal Model: ResNet18 Trained with CIFAR10 Dataset with Adversarial training (Before and During Pruning) with epsilon=0.005\\n\"\n",
    "\n",
    "test_acc, Avg_Corrup_Acc_List, Acc_Corruptions, RemainingWeights_List, Sparcity_List=iterative_pruning(model,device, TrainLoader, TestLoader, TestCLoader, PruningRate, SaveTrainStepsName,ReadMe,\n",
    "                                                                                                         epsilon, mean, std, lambda_l1, lambda_l2, NumEpochsEachPruneRetrain,MaximumPruneLevel)"
   ]
  },
  {
   "cell_type": "markdown",
   "metadata": {},
   "source": [
    "# Imagenet"
   ]
  },
  {
   "cell_type": "code",
   "execution_count": 7,
   "metadata": {},
   "outputs": [],
   "source": [
    "#Choose a corruption level because simulation every level is too much\n",
    "TinyImagenetC_CorruptionClasses=list(loader_TinyImagenetC.keys())\n",
    "TinyImagenetC_CorruptionLevels=list(loader_TinyImagenetC[TinyImagenetC_CorruptionClasses[0]].keys()) #['1', '2', '3', '4', '5']\n",
    "\n",
    "#Choose a level\n",
    "clevel='1'\n",
    "TiniyImageNetCLevel_Loader={}#Filtered for a specifig level of corruption\n",
    "for cname in loader_TinyImagenetC.keys():\n",
    "    TiniyImageNetCLevel_Loader[cname]=loader_TinyImagenetC[cname][clevel]"
   ]
  },
  {
   "cell_type": "code",
   "execution_count": 8,
   "metadata": {},
   "outputs": [
    {
     "name": "stdout",
     "output_type": "stream",
     "text": [
      "--Get statistics before pruning--\n",
      "Train set: Average loss: 0.5325, Accuracy: 88266/100000 (88.27%)\n",
      "Test set: Average loss: 1.7649, Accuracy: 2926/5000 (58.52%)\n",
      "\n",
      "--Testing Corruptions--\n"
     ]
    },
    {
     "name": "stderr",
     "output_type": "stream",
     "text": [
      "100%|██████████| 19/19 [03:52<00:00, 12.26s/it]\n"
     ]
    },
    {
     "name": "stdout",
     "output_type": "stream",
     "text": [
      "\n",
      "Avg Corruption Accuracy: 30.25%\n",
      "---------- Pruning Iteration:  1 / 44\n"
     ]
    },
    {
     "name": "stderr",
     "output_type": "stream",
     "text": [
      "Loss=1.568792700767517 Batch_id=195 Accuracy=65.90: 100%|██████████| 196/196 [02:34<00:00,  1.27it/s] \n",
      "Loss=1.3202171325683594 Batch_id=195 Accuracy=65.31: 100%|██████████| 196/196 [02:34<00:00,  1.27it/s]\n",
      "Loss=1.1180466413497925 Batch_id=195 Accuracy=65.94: 100%|██████████| 196/196 [02:34<00:00,  1.27it/s]\n",
      "Loss=1.3495702743530273 Batch_id=195 Accuracy=66.26: 100%|██████████| 196/196 [02:34<00:00,  1.27it/s]\n",
      "Loss=1.3116905689239502 Batch_id=195 Accuracy=66.71: 100%|██████████| 196/196 [02:34<00:00,  1.27it/s]\n",
      "Loss=1.348490595817566 Batch_id=195 Accuracy=66.94: 100%|██████████| 196/196 [02:34<00:00,  1.27it/s] \n"
     ]
    },
    {
     "name": "stdout",
     "output_type": "stream",
     "text": [
      "Epoch 00006: reducing learning rate of group 0 to 5.0000e-04.\n"
     ]
    },
    {
     "name": "stderr",
     "output_type": "stream",
     "text": [
      "Loss=1.015289306640625 Batch_id=195 Accuracy=72.09: 100%|██████████| 196/196 [02:34<00:00,  1.27it/s] \n",
      "Loss=0.9980341196060181 Batch_id=195 Accuracy=73.66: 100%|██████████| 196/196 [02:34<00:00,  1.27it/s]\n",
      "Loss=1.0000731945037842 Batch_id=195 Accuracy=74.23: 100%|██████████| 196/196 [02:34<00:00,  1.27it/s]\n",
      "Loss=1.1034144163131714 Batch_id=195 Accuracy=74.43: 100%|██████████| 196/196 [02:34<00:00,  1.27it/s]\n"
     ]
    },
    {
     "name": "stdout",
     "output_type": "stream",
     "text": [
      "Test set: Average loss: 1.7632, Accuracy: 2923/5000 (58.46%)\n",
      "\n",
      "--Testing Corruptions--\n"
     ]
    },
    {
     "name": "stderr",
     "output_type": "stream",
     "text": [
      "100%|██████████| 19/19 [03:59<00:00, 12.60s/it]\n"
     ]
    },
    {
     "name": "stdout",
     "output_type": "stream",
     "text": [
      "\n",
      "Avg Corruption Accuracy: 30.57%\n",
      "Global Sparsity: 9.91% \n",
      "\n",
      "---------- Pruning Iteration:  2 / 44\n"
     ]
    },
    {
     "name": "stderr",
     "output_type": "stream",
     "text": [
      "Loss=1.1392611265182495 Batch_id=195 Accuracy=68.88: 100%|██████████| 196/196 [02:34<00:00,  1.27it/s]\n",
      "Loss=1.4335112571716309 Batch_id=195 Accuracy=68.78: 100%|██████████| 196/196 [02:34<00:00,  1.27it/s]\n",
      "Loss=1.272383451461792 Batch_id=195 Accuracy=69.08: 100%|██████████| 196/196 [02:34<00:00,  1.27it/s] \n",
      "Loss=1.273896336555481 Batch_id=195 Accuracy=69.34: 100%|██████████| 196/196 [02:34<00:00,  1.27it/s] \n"
     ]
    },
    {
     "name": "stdout",
     "output_type": "stream",
     "text": [
      "Epoch 00004: reducing learning rate of group 0 to 5.0000e-04.\n"
     ]
    },
    {
     "name": "stderr",
     "output_type": "stream",
     "text": [
      "Loss=0.9740774035453796 Batch_id=195 Accuracy=74.54: 100%|██████████| 196/196 [02:34<00:00,  1.27it/s]\n",
      "Loss=0.8379312753677368 Batch_id=195 Accuracy=76.06: 100%|██████████| 196/196 [02:34<00:00,  1.27it/s]\n",
      "Loss=0.9696255922317505 Batch_id=195 Accuracy=76.46: 100%|██████████| 196/196 [02:34<00:00,  1.27it/s]\n",
      "Loss=0.8255778551101685 Batch_id=195 Accuracy=76.76: 100%|██████████| 196/196 [02:34<00:00,  1.27it/s]\n",
      "Loss=0.9909356832504272 Batch_id=195 Accuracy=77.20: 100%|██████████| 196/196 [02:34<00:00,  1.27it/s]\n",
      "Loss=0.9042376279830933 Batch_id=195 Accuracy=77.24: 100%|██████████| 196/196 [02:34<00:00,  1.27it/s]\n"
     ]
    },
    {
     "name": "stdout",
     "output_type": "stream",
     "text": [
      "Test set: Average loss: 1.7677, Accuracy: 2936/5000 (58.72%)\n",
      "\n",
      "--Testing Corruptions--\n"
     ]
    },
    {
     "name": "stderr",
     "output_type": "stream",
     "text": [
      "100%|██████████| 19/19 [04:06<00:00, 12.98s/it]\n"
     ]
    },
    {
     "name": "stdout",
     "output_type": "stream",
     "text": [
      "\n",
      "Avg Corruption Accuracy: 30.39%\n",
      "Global Sparsity: 18.83% \n",
      "\n",
      "---------- Pruning Iteration:  3 / 44\n"
     ]
    },
    {
     "name": "stderr",
     "output_type": "stream",
     "text": [
      "Loss=1.224768877029419 Batch_id=195 Accuracy=71.02: 100%|██████████| 196/196 [02:34<00:00,  1.27it/s] \n",
      "Loss=1.4153027534484863 Batch_id=195 Accuracy=70.90: 100%|██████████| 196/196 [02:34<00:00,  1.27it/s]\n",
      "Loss=1.1112489700317383 Batch_id=195 Accuracy=71.39: 100%|██████████| 196/196 [02:34<00:00,  1.27it/s]\n",
      "Loss=1.1943004131317139 Batch_id=195 Accuracy=71.36: 100%|██████████| 196/196 [02:34<00:00,  1.27it/s]\n",
      "Loss=0.9044337272644043 Batch_id=195 Accuracy=71.80: 100%|██████████| 196/196 [02:34<00:00,  1.27it/s]\n",
      "Loss=0.9758105278015137 Batch_id=195 Accuracy=71.96: 100%|██████████| 196/196 [02:34<00:00,  1.27it/s]\n",
      "Loss=1.205127239227295 Batch_id=195 Accuracy=72.43: 100%|██████████| 196/196 [02:34<00:00,  1.27it/s] \n",
      "Loss=1.117645263671875 Batch_id=195 Accuracy=72.66: 100%|██████████| 196/196 [02:34<00:00,  1.27it/s] \n"
     ]
    },
    {
     "name": "stdout",
     "output_type": "stream",
     "text": [
      "Epoch 00008: reducing learning rate of group 0 to 5.0000e-04.\n"
     ]
    },
    {
     "name": "stderr",
     "output_type": "stream",
     "text": [
      "Loss=0.8754379153251648 Batch_id=195 Accuracy=78.12: 100%|██████████| 196/196 [02:34<00:00,  1.27it/s]\n",
      "Loss=0.8118394613265991 Batch_id=195 Accuracy=79.86: 100%|██████████| 196/196 [02:34<00:00,  1.27it/s]\n"
     ]
    },
    {
     "name": "stdout",
     "output_type": "stream",
     "text": [
      "Test set: Average loss: 1.7979, Accuracy: 2913/5000 (58.26%)\n",
      "\n",
      "--Testing Corruptions--\n"
     ]
    },
    {
     "name": "stderr",
     "output_type": "stream",
     "text": [
      "100%|██████████| 19/19 [04:13<00:00, 13.35s/it]\n"
     ]
    },
    {
     "name": "stdout",
     "output_type": "stream",
     "text": [
      "\n",
      "Avg Corruption Accuracy: 29.87%\n",
      "Global Sparsity: 26.85% \n",
      "\n",
      "---------- Pruning Iteration:  4 / 44\n"
     ]
    },
    {
     "name": "stderr",
     "output_type": "stream",
     "text": [
      "Loss=1.1780234575271606 Batch_id=195 Accuracy=74.29: 100%|██████████| 196/196 [02:34<00:00,  1.27it/s]\n",
      "Loss=1.0389169454574585 Batch_id=195 Accuracy=74.22: 100%|██████████| 196/196 [02:34<00:00,  1.27it/s]\n",
      "Loss=0.9791760444641113 Batch_id=195 Accuracy=74.52: 100%|██████████| 196/196 [02:35<00:00,  1.26it/s]\n",
      "Loss=1.0104198455810547 Batch_id=195 Accuracy=74.63: 100%|██████████| 196/196 [02:34<00:00,  1.26it/s]\n",
      "Loss=0.9404653310775757 Batch_id=195 Accuracy=75.09: 100%|██████████| 196/196 [02:35<00:00,  1.26it/s]\n",
      "Loss=1.1857960224151611 Batch_id=195 Accuracy=75.31: 100%|██████████| 196/196 [02:35<00:00,  1.26it/s]\n",
      "Loss=0.8917649388313293 Batch_id=195 Accuracy=75.46: 100%|██████████| 196/196 [02:35<00:00,  1.26it/s]\n",
      "Loss=1.0439708232879639 Batch_id=195 Accuracy=75.88: 100%|██████████| 196/196 [02:35<00:00,  1.26it/s]\n",
      "Loss=1.0443135499954224 Batch_id=195 Accuracy=75.97: 100%|██████████| 196/196 [02:35<00:00,  1.26it/s]\n",
      "Loss=0.9441264867782593 Batch_id=195 Accuracy=76.16: 100%|██████████| 196/196 [02:35<00:00,  1.26it/s]"
     ]
    },
    {
     "name": "stdout",
     "output_type": "stream",
     "text": [
      "Epoch 00010: reducing learning rate of group 0 to 5.0000e-04.\n"
     ]
    },
    {
     "name": "stderr",
     "output_type": "stream",
     "text": [
      "\n"
     ]
    },
    {
     "name": "stdout",
     "output_type": "stream",
     "text": [
      "Test set: Average loss: 1.9714, Accuracy: 2727/5000 (54.54%)\n",
      "\n",
      "--Skipping Acc Comp For Corrupted Data--\n",
      "Global Sparsity: 34.08% \n",
      "\n",
      "---------- Pruning Iteration:  5 / 44\n"
     ]
    },
    {
     "name": "stderr",
     "output_type": "stream",
     "text": [
      "Loss=0.9710914492607117 Batch_id=195 Accuracy=77.03: 100%|██████████| 196/196 [02:35<00:00,  1.26it/s]\n",
      "Loss=0.8484823107719421 Batch_id=195 Accuracy=77.71: 100%|██████████| 196/196 [02:35<00:00,  1.26it/s]\n",
      "Loss=0.964305579662323 Batch_id=195 Accuracy=78.06: 100%|██████████| 196/196 [02:35<00:00,  1.26it/s] \n",
      "Loss=0.8227842450141907 Batch_id=195 Accuracy=78.03: 100%|██████████| 196/196 [02:35<00:00,  1.26it/s]\n",
      "Loss=0.8855785131454468 Batch_id=195 Accuracy=78.37: 100%|██████████| 196/196 [02:35<00:00,  1.26it/s]\n",
      "Loss=0.8481208086013794 Batch_id=195 Accuracy=78.67: 100%|██████████| 196/196 [02:35<00:00,  1.26it/s]\n",
      "Loss=0.9857031106948853 Batch_id=195 Accuracy=79.03: 100%|██████████| 196/196 [02:35<00:00,  1.26it/s]\n"
     ]
    },
    {
     "name": "stdout",
     "output_type": "stream",
     "text": [
      "Epoch 00007: reducing learning rate of group 0 to 5.0000e-04.\n"
     ]
    },
    {
     "name": "stderr",
     "output_type": "stream",
     "text": [
      "Loss=0.8377736806869507 Batch_id=195 Accuracy=84.20: 100%|██████████| 196/196 [02:35<00:00,  1.26it/s]\n",
      "Loss=0.595841109752655 Batch_id=195 Accuracy=86.06: 100%|██████████| 196/196 [02:34<00:00,  1.27it/s] \n",
      "Loss=0.5409058332443237 Batch_id=195 Accuracy=86.49: 100%|██████████| 196/196 [02:35<00:00,  1.26it/s] \n"
     ]
    },
    {
     "name": "stdout",
     "output_type": "stream",
     "text": [
      "Test set: Average loss: 1.8537, Accuracy: 2865/5000 (57.30%)\n",
      "\n",
      "--Testing Corruptions--\n"
     ]
    },
    {
     "name": "stderr",
     "output_type": "stream",
     "text": [
      "100%|██████████| 19/19 [04:19<00:00, 13.64s/it]\n"
     ]
    },
    {
     "name": "stdout",
     "output_type": "stream",
     "text": [
      "\n",
      "Avg Corruption Accuracy: 29.96%\n",
      "Global Sparsity: 40.58% \n",
      "\n",
      "---------- Pruning Iteration:  6 / 44\n"
     ]
    },
    {
     "name": "stderr",
     "output_type": "stream",
     "text": [
      "Loss=0.9234221577644348 Batch_id=195 Accuracy=79.99: 100%|██████████| 196/196 [02:35<00:00,  1.26it/s]\n",
      "Loss=0.8699700236320496 Batch_id=195 Accuracy=79.89: 100%|██████████| 196/196 [02:35<00:00,  1.26it/s]\n",
      "Loss=0.8034049272537231 Batch_id=195 Accuracy=80.29: 100%|██████████| 196/196 [02:35<00:00,  1.26it/s]\n",
      "Loss=0.8351093530654907 Batch_id=195 Accuracy=80.43: 100%|██████████| 196/196 [02:35<00:00,  1.26it/s]\n",
      "Loss=0.774370014667511 Batch_id=195 Accuracy=80.58: 100%|██████████| 196/196 [02:35<00:00,  1.26it/s] \n",
      "Loss=0.6883057951927185 Batch_id=195 Accuracy=80.77: 100%|██████████| 196/196 [02:35<00:00,  1.26it/s]\n",
      "Loss=0.7799808382987976 Batch_id=195 Accuracy=81.07: 100%|██████████| 196/196 [02:35<00:00,  1.26it/s]\n",
      "Loss=0.821631133556366 Batch_id=195 Accuracy=80.81: 100%|██████████| 196/196 [02:35<00:00,  1.26it/s] \n",
      "Loss=0.7427576780319214 Batch_id=195 Accuracy=81.33: 100%|██████████| 196/196 [02:35<00:00,  1.26it/s]\n"
     ]
    },
    {
     "name": "stdout",
     "output_type": "stream",
     "text": [
      "Epoch 00009: reducing learning rate of group 0 to 5.0000e-04.\n"
     ]
    },
    {
     "name": "stderr",
     "output_type": "stream",
     "text": [
      "Loss=0.4583967626094818 Batch_id=195 Accuracy=86.51: 100%|██████████| 196/196 [02:35<00:00,  1.26it/s] \n"
     ]
    },
    {
     "name": "stdout",
     "output_type": "stream",
     "text": [
      "Test set: Average loss: 1.8957, Accuracy: 2846/5000 (56.92%)\n",
      "\n",
      "--Skipping Acc Comp For Corrupted Data--\n",
      "Global Sparsity: 46.43% \n",
      "\n",
      "---------- Pruning Iteration:  7 / 44\n"
     ]
    },
    {
     "name": "stderr",
     "output_type": "stream",
     "text": [
      "Loss=0.7145277857780457 Batch_id=195 Accuracy=82.21: 100%|██████████| 196/196 [02:35<00:00,  1.26it/s]\n",
      "Loss=0.7397183179855347 Batch_id=195 Accuracy=82.21: 100%|██████████| 196/196 [02:35<00:00,  1.26it/s]\n",
      "Loss=0.6375024318695068 Batch_id=195 Accuracy=82.76: 100%|██████████| 196/196 [02:35<00:00,  1.26it/s]\n",
      "Loss=0.6654424667358398 Batch_id=195 Accuracy=82.74: 100%|██████████| 196/196 [02:35<00:00,  1.26it/s]\n",
      "Loss=0.7045925259590149 Batch_id=195 Accuracy=82.67: 100%|██████████| 196/196 [02:35<00:00,  1.26it/s]\n",
      "Loss=0.7141261100769043 Batch_id=195 Accuracy=82.99: 100%|██████████| 196/196 [02:35<00:00,  1.26it/s]\n"
     ]
    },
    {
     "name": "stdout",
     "output_type": "stream",
     "text": [
      "Epoch 00006: reducing learning rate of group 0 to 5.0000e-04.\n"
     ]
    },
    {
     "name": "stderr",
     "output_type": "stream",
     "text": [
      "Loss=0.47770076990127563 Batch_id=195 Accuracy=87.82: 100%|██████████| 196/196 [02:35<00:00,  1.26it/s]\n",
      "Loss=0.4670511782169342 Batch_id=195 Accuracy=89.95: 100%|██████████| 196/196 [02:35<00:00,  1.26it/s] \n",
      "Loss=0.5574931502342224 Batch_id=195 Accuracy=90.23: 100%|██████████| 196/196 [02:35<00:00,  1.26it/s] \n",
      "Loss=0.5393368005752563 Batch_id=195 Accuracy=90.59: 100%|██████████| 196/196 [02:35<00:00,  1.26it/s] \n"
     ]
    },
    {
     "name": "stdout",
     "output_type": "stream",
     "text": [
      "Test set: Average loss: 1.9136, Accuracy: 2827/5000 (56.54%)\n",
      "\n",
      "--Testing Corruptions--\n"
     ]
    },
    {
     "name": "stderr",
     "output_type": "stream",
     "text": [
      "100%|██████████| 19/19 [04:24<00:00, 13.95s/it]\n"
     ]
    },
    {
     "name": "stdout",
     "output_type": "stream",
     "text": [
      "\n",
      "Avg Corruption Accuracy: 29.27%\n",
      "Global Sparsity: 51.70% \n",
      "\n",
      "---------- Pruning Iteration:  8 / 44\n"
     ]
    },
    {
     "name": "stderr",
     "output_type": "stream",
     "text": [
      "Loss=0.6129869818687439 Batch_id=195 Accuracy=83.75: 100%|██████████| 196/196 [02:35<00:00,  1.26it/s]\n",
      "Loss=0.7005264163017273 Batch_id=195 Accuracy=83.59: 100%|██████████| 196/196 [02:35<00:00,  1.26it/s]\n",
      "Loss=0.7509547472000122 Batch_id=195 Accuracy=83.73: 100%|██████████| 196/196 [02:35<00:00,  1.26it/s]\n",
      "Loss=0.6317813396453857 Batch_id=195 Accuracy=84.06: 100%|██████████| 196/196 [02:35<00:00,  1.26it/s]\n"
     ]
    },
    {
     "name": "stdout",
     "output_type": "stream",
     "text": [
      "Epoch 00004: reducing learning rate of group 0 to 5.0000e-04.\n"
     ]
    },
    {
     "name": "stderr",
     "output_type": "stream",
     "text": [
      "Loss=0.4934585690498352 Batch_id=195 Accuracy=88.95: 100%|██████████| 196/196 [02:35<00:00,  1.26it/s] \n",
      "Loss=0.4608708322048187 Batch_id=195 Accuracy=90.62: 100%|██████████| 196/196 [02:35<00:00,  1.26it/s] \n",
      "Loss=0.4582461714744568 Batch_id=195 Accuracy=91.08: 100%|██████████| 196/196 [02:35<00:00,  1.26it/s] \n",
      "Loss=0.5196377635002136 Batch_id=195 Accuracy=91.49: 100%|██████████| 196/196 [02:35<00:00,  1.26it/s] \n",
      "Loss=0.3597811758518219 Batch_id=195 Accuracy=91.64: 100%|██████████| 196/196 [02:35<00:00,  1.26it/s] \n",
      "Loss=0.30108001828193665 Batch_id=195 Accuracy=91.91: 100%|██████████| 196/196 [02:35<00:00,  1.26it/s]\n"
     ]
    },
    {
     "name": "stdout",
     "output_type": "stream",
     "text": [
      "Test set: Average loss: 1.9208, Accuracy: 2841/5000 (56.82%)\n",
      "\n",
      "--Skipping Acc Comp For Corrupted Data--\n",
      "Global Sparsity: 56.44% \n",
      "\n",
      "---------- Pruning Iteration:  9 / 44\n"
     ]
    },
    {
     "name": "stderr",
     "output_type": "stream",
     "text": [
      "Loss=0.5736508965492249 Batch_id=195 Accuracy=84.19: 100%|██████████| 196/196 [02:35<00:00,  1.26it/s]\n",
      "Loss=0.6285203099250793 Batch_id=195 Accuracy=84.25: 100%|██████████| 196/196 [02:35<00:00,  1.26it/s]\n",
      "Loss=0.7131626009941101 Batch_id=195 Accuracy=84.91: 100%|██████████| 196/196 [02:35<00:00,  1.26it/s]\n",
      "Loss=0.6931121945381165 Batch_id=195 Accuracy=84.89: 100%|██████████| 196/196 [02:35<00:00,  1.26it/s]\n"
     ]
    },
    {
     "name": "stdout",
     "output_type": "stream",
     "text": [
      "Epoch 00004: reducing learning rate of group 0 to 5.0000e-04.\n"
     ]
    },
    {
     "name": "stderr",
     "output_type": "stream",
     "text": [
      "Loss=0.5241106152534485 Batch_id=195 Accuracy=89.63: 100%|██████████| 196/196 [02:35<00:00,  1.26it/s] \n",
      "Loss=0.45302820205688477 Batch_id=195 Accuracy=91.25: 100%|██████████| 196/196 [02:35<00:00,  1.26it/s]\n",
      "Loss=0.3941752314567566 Batch_id=195 Accuracy=91.70: 100%|██████████| 196/196 [02:35<00:00,  1.26it/s] \n",
      "Loss=0.4599149823188782 Batch_id=195 Accuracy=91.97: 100%|██████████| 196/196 [02:35<00:00,  1.26it/s] \n",
      "Loss=0.3241799473762512 Batch_id=195 Accuracy=92.18: 100%|██████████| 196/196 [02:35<00:00,  1.26it/s] \n",
      "Loss=0.40822702646255493 Batch_id=195 Accuracy=92.43: 100%|██████████| 196/196 [02:35<00:00,  1.26it/s]\n"
     ]
    },
    {
     "name": "stdout",
     "output_type": "stream",
     "text": [
      "Test set: Average loss: 1.9299, Accuracy: 2828/5000 (56.56%)\n",
      "\n",
      "--Testing Corruptions--\n"
     ]
    },
    {
     "name": "stderr",
     "output_type": "stream",
     "text": [
      "100%|██████████| 19/19 [04:33<00:00, 14.39s/it]\n"
     ]
    },
    {
     "name": "stdout",
     "output_type": "stream",
     "text": [
      "\n",
      "Avg Corruption Accuracy: 28.94%\n",
      "Global Sparsity: 60.70% \n",
      "\n",
      "---------- Pruning Iteration:  10 / 44\n"
     ]
    },
    {
     "name": "stderr",
     "output_type": "stream",
     "text": [
      "Loss=0.7134212255477905 Batch_id=195 Accuracy=84.60: 100%|██████████| 196/196 [02:35<00:00,  1.26it/s]\n",
      "Loss=0.5269104242324829 Batch_id=195 Accuracy=84.87: 100%|██████████| 196/196 [02:35<00:00,  1.26it/s]\n",
      "Loss=0.6792284250259399 Batch_id=195 Accuracy=85.22: 100%|██████████| 196/196 [02:35<00:00,  1.26it/s]\n",
      "Loss=0.4917958378791809 Batch_id=195 Accuracy=85.38: 100%|██████████| 196/196 [02:35<00:00,  1.26it/s]\n",
      "Loss=0.5831608772277832 Batch_id=195 Accuracy=85.67: 100%|██████████| 196/196 [02:35<00:00,  1.26it/s]\n",
      "Loss=0.635384738445282 Batch_id=195 Accuracy=85.79: 100%|██████████| 196/196 [02:35<00:00,  1.26it/s] \n",
      "Loss=0.6678264737129211 Batch_id=195 Accuracy=85.89: 100%|██████████| 196/196 [02:35<00:00,  1.26it/s] \n"
     ]
    },
    {
     "name": "stdout",
     "output_type": "stream",
     "text": [
      "Epoch 00007: reducing learning rate of group 0 to 5.0000e-04.\n"
     ]
    },
    {
     "name": "stderr",
     "output_type": "stream",
     "text": [
      "Loss=0.4873477816581726 Batch_id=195 Accuracy=90.29: 100%|██████████| 196/196 [02:35<00:00,  1.26it/s] \n",
      "Loss=0.40264225006103516 Batch_id=195 Accuracy=91.83: 100%|██████████| 196/196 [02:35<00:00,  1.26it/s]\n",
      "Loss=0.4686686098575592 Batch_id=195 Accuracy=92.44: 100%|██████████| 196/196 [02:35<00:00,  1.26it/s] \n"
     ]
    },
    {
     "name": "stdout",
     "output_type": "stream",
     "text": [
      "Test set: Average loss: 1.9575, Accuracy: 2837/5000 (56.74%)\n",
      "\n",
      "--Skipping Acc Comp For Corrupted Data--\n",
      "Global Sparsity: 64.54% \n",
      "\n",
      "---------- Pruning Iteration:  11 / 44\n"
     ]
    },
    {
     "name": "stderr",
     "output_type": "stream",
     "text": [
      "Loss=0.7770376205444336 Batch_id=195 Accuracy=84.92: 100%|██████████| 196/196 [02:35<00:00,  1.26it/s]\n",
      "Loss=0.7876037359237671 Batch_id=195 Accuracy=85.47: 100%|██████████| 196/196 [02:35<00:00,  1.26it/s] \n",
      "Loss=0.5725374817848206 Batch_id=195 Accuracy=85.56: 100%|██████████| 196/196 [02:35<00:00,  1.26it/s] \n",
      "Loss=0.5727106332778931 Batch_id=195 Accuracy=86.23: 100%|██████████| 196/196 [02:35<00:00,  1.26it/s] \n",
      "Loss=0.5102025866508484 Batch_id=195 Accuracy=86.12: 100%|██████████| 196/196 [02:35<00:00,  1.26it/s] \n",
      "Loss=0.5784062147140503 Batch_id=195 Accuracy=86.34: 100%|██████████| 196/196 [02:35<00:00,  1.26it/s] \n",
      "Loss=0.5953506827354431 Batch_id=195 Accuracy=86.46: 100%|██████████| 196/196 [02:35<00:00,  1.26it/s] \n",
      "Loss=0.4723198413848877 Batch_id=195 Accuracy=86.49: 100%|██████████| 196/196 [02:35<00:00,  1.26it/s] \n",
      "Loss=0.6358834505081177 Batch_id=195 Accuracy=86.55: 100%|██████████| 196/196 [02:35<00:00,  1.26it/s] \n",
      "Loss=0.5093288421630859 Batch_id=195 Accuracy=86.59: 100%|██████████| 196/196 [02:35<00:00,  1.26it/s] \n"
     ]
    },
    {
     "name": "stdout",
     "output_type": "stream",
     "text": [
      "Test set: Average loss: 2.0994, Accuracy: 2736/5000 (54.72%)\n",
      "\n",
      "--Testing Corruptions--\n"
     ]
    },
    {
     "name": "stderr",
     "output_type": "stream",
     "text": [
      "100%|██████████| 19/19 [04:36<00:00, 14.53s/it]\n"
     ]
    },
    {
     "name": "stdout",
     "output_type": "stream",
     "text": [
      "\n",
      "Avg Corruption Accuracy: 25.78%\n",
      "Global Sparsity: 68.00% \n",
      "\n",
      "---------- Pruning Iteration:  12 / 44\n"
     ]
    },
    {
     "name": "stderr",
     "output_type": "stream",
     "text": [
      "Loss=0.6804490089416504 Batch_id=195 Accuracy=84.78: 100%|██████████| 196/196 [02:35<00:00,  1.26it/s]\n",
      "Loss=0.6047863960266113 Batch_id=195 Accuracy=85.91: 100%|██████████| 196/196 [02:35<00:00,  1.26it/s] \n",
      "Loss=0.5154415369033813 Batch_id=195 Accuracy=86.45: 100%|██████████| 196/196 [02:35<00:00,  1.26it/s] \n",
      "Loss=0.6440697908401489 Batch_id=195 Accuracy=86.31: 100%|██████████| 196/196 [02:35<00:00,  1.26it/s] \n",
      "Loss=0.5677269697189331 Batch_id=195 Accuracy=86.90: 100%|██████████| 196/196 [02:35<00:00,  1.26it/s] \n",
      "Loss=0.5690058469772339 Batch_id=195 Accuracy=86.86: 100%|██████████| 196/196 [02:35<00:00,  1.26it/s] \n"
     ]
    },
    {
     "name": "stdout",
     "output_type": "stream",
     "text": [
      "Epoch 00006: reducing learning rate of group 0 to 5.0000e-04.\n"
     ]
    },
    {
     "name": "stderr",
     "output_type": "stream",
     "text": [
      "Loss=0.4383161664009094 Batch_id=195 Accuracy=91.12: 100%|██████████| 196/196 [02:35<00:00,  1.26it/s] \n",
      "Loss=0.35948923230171204 Batch_id=195 Accuracy=92.73: 100%|██████████| 196/196 [02:35<00:00,  1.26it/s]\n",
      "Loss=0.3622315526008606 Batch_id=195 Accuracy=93.16: 100%|██████████| 196/196 [02:35<00:00,  1.26it/s] \n",
      "Loss=0.35429003834724426 Batch_id=195 Accuracy=93.62: 100%|██████████| 196/196 [02:36<00:00,  1.26it/s]\n"
     ]
    },
    {
     "name": "stdout",
     "output_type": "stream",
     "text": [
      "Test set: Average loss: 1.9770, Accuracy: 2802/5000 (56.04%)\n",
      "\n",
      "--Skipping Acc Comp For Corrupted Data--\n",
      "Global Sparsity: 71.10% \n",
      "\n",
      "---------- Pruning Iteration:  13 / 44\n"
     ]
    },
    {
     "name": "stderr",
     "output_type": "stream",
     "text": [
      "Loss=0.6549543142318726 Batch_id=195 Accuracy=85.89: 100%|██████████| 196/196 [02:35<00:00,  1.26it/s]\n",
      "Loss=0.5676631331443787 Batch_id=195 Accuracy=86.05: 100%|██████████| 196/196 [02:35<00:00,  1.26it/s] \n",
      "Loss=0.6388915777206421 Batch_id=195 Accuracy=86.48: 100%|██████████| 196/196 [02:35<00:00,  1.26it/s] \n",
      "Loss=0.5543521642684937 Batch_id=195 Accuracy=86.76: 100%|██████████| 196/196 [02:35<00:00,  1.26it/s] \n",
      "Loss=0.500190258026123 Batch_id=195 Accuracy=86.73: 100%|██████████| 196/196 [02:35<00:00,  1.26it/s]  \n",
      "Loss=0.5219653248786926 Batch_id=195 Accuracy=86.91: 100%|██████████| 196/196 [02:35<00:00,  1.26it/s] \n",
      "Loss=0.7369288206100464 Batch_id=195 Accuracy=87.03: 100%|██████████| 196/196 [02:35<00:00,  1.26it/s] \n",
      "Loss=0.5796430706977844 Batch_id=195 Accuracy=87.13: 100%|██████████| 196/196 [02:35<00:00,  1.26it/s] \n"
     ]
    },
    {
     "name": "stdout",
     "output_type": "stream",
     "text": [
      "Epoch 00008: reducing learning rate of group 0 to 5.0000e-04.\n"
     ]
    },
    {
     "name": "stderr",
     "output_type": "stream",
     "text": [
      "Loss=0.41382646560668945 Batch_id=195 Accuracy=91.40: 100%|██████████| 196/196 [02:35<00:00,  1.26it/s]\n",
      "Loss=0.3524612784385681 Batch_id=195 Accuracy=92.97: 100%|██████████| 196/196 [02:35<00:00,  1.26it/s] \n"
     ]
    },
    {
     "name": "stdout",
     "output_type": "stream",
     "text": [
      "Test set: Average loss: 1.9916, Accuracy: 2802/5000 (56.04%)\n",
      "\n",
      "--Skipping Acc Comp For Corrupted Data--\n",
      "Global Sparsity: 73.90% \n",
      "\n",
      "---------- Pruning Iteration:  14 / 44\n"
     ]
    },
    {
     "name": "stderr",
     "output_type": "stream",
     "text": [
      "Loss=0.548350989818573 Batch_id=195 Accuracy=85.44: 100%|██████████| 196/196 [02:35<00:00,  1.26it/s] \n",
      "Loss=0.5228362679481506 Batch_id=195 Accuracy=86.04: 100%|██████████| 196/196 [02:35<00:00,  1.26it/s] \n",
      "Loss=0.5655431151390076 Batch_id=195 Accuracy=86.33: 100%|██████████| 196/196 [02:35<00:00,  1.26it/s] \n",
      "Loss=0.5250579118728638 Batch_id=195 Accuracy=86.76: 100%|██████████| 196/196 [02:35<00:00,  1.26it/s] \n",
      "Loss=0.6782726049423218 Batch_id=195 Accuracy=86.83: 100%|██████████| 196/196 [02:35<00:00,  1.26it/s] \n"
     ]
    },
    {
     "name": "stdout",
     "output_type": "stream",
     "text": [
      "Epoch 00005: reducing learning rate of group 0 to 5.0000e-04.\n"
     ]
    },
    {
     "name": "stderr",
     "output_type": "stream",
     "text": [
      "Loss=0.45488858222961426 Batch_id=195 Accuracy=91.11: 100%|██████████| 196/196 [02:35<00:00,  1.26it/s]\n",
      "Loss=0.44696012139320374 Batch_id=195 Accuracy=92.57: 100%|██████████| 196/196 [02:35<00:00,  1.26it/s]\n",
      "Loss=0.4163188934326172 Batch_id=195 Accuracy=93.11: 100%|██████████| 196/196 [02:35<00:00,  1.26it/s] \n",
      "Loss=0.3008260130882263 Batch_id=195 Accuracy=93.39: 100%|██████████| 196/196 [02:35<00:00,  1.26it/s] \n",
      "Loss=0.3562052547931671 Batch_id=195 Accuracy=93.79: 100%|██████████| 196/196 [02:35<00:00,  1.26it/s] \n"
     ]
    },
    {
     "name": "stdout",
     "output_type": "stream",
     "text": [
      "Test set: Average loss: 1.9789, Accuracy: 2795/5000 (55.90%)\n",
      "\n",
      "--Skipping Acc Comp For Corrupted Data--\n",
      "Global Sparsity: 76.42% \n",
      "\n",
      "---------- Pruning Iteration:  15 / 44\n"
     ]
    },
    {
     "name": "stderr",
     "output_type": "stream",
     "text": [
      "Loss=0.7452787160873413 Batch_id=195 Accuracy=85.36: 100%|██████████| 196/196 [02:35<00:00,  1.26it/s]\n",
      "Loss=0.6564362645149231 Batch_id=195 Accuracy=85.45: 100%|██████████| 196/196 [02:35<00:00,  1.26it/s]\n",
      "Loss=0.5783616304397583 Batch_id=195 Accuracy=85.87: 100%|██████████| 196/196 [02:35<00:00,  1.26it/s]\n",
      "Loss=0.6389743685722351 Batch_id=195 Accuracy=86.17: 100%|██████████| 196/196 [02:35<00:00,  1.26it/s] \n",
      "Loss=0.6909095048904419 Batch_id=195 Accuracy=86.35: 100%|██████████| 196/196 [02:35<00:00,  1.26it/s] \n",
      "Loss=0.6647878885269165 Batch_id=195 Accuracy=86.37: 100%|██████████| 196/196 [02:35<00:00,  1.26it/s] \n"
     ]
    },
    {
     "name": "stdout",
     "output_type": "stream",
     "text": [
      "Epoch 00006: reducing learning rate of group 0 to 5.0000e-04.\n"
     ]
    },
    {
     "name": "stderr",
     "output_type": "stream",
     "text": [
      "Loss=0.45918339490890503 Batch_id=195 Accuracy=90.99: 100%|██████████| 196/196 [02:35<00:00,  1.26it/s]\n",
      "Loss=0.4020037055015564 Batch_id=195 Accuracy=92.33: 100%|██████████| 196/196 [02:35<00:00,  1.26it/s] \n",
      "Loss=0.4099489152431488 Batch_id=195 Accuracy=92.95: 100%|██████████| 196/196 [02:35<00:00,  1.26it/s] \n",
      "Loss=0.3955105245113373 Batch_id=195 Accuracy=93.25: 100%|██████████| 196/196 [02:35<00:00,  1.26it/s] \n"
     ]
    },
    {
     "name": "stdout",
     "output_type": "stream",
     "text": [
      "Test set: Average loss: 1.9845, Accuracy: 2818/5000 (56.36%)\n",
      "\n",
      "--Testing Corruptions--\n"
     ]
    },
    {
     "name": "stderr",
     "output_type": "stream",
     "text": [
      "100%|██████████| 19/19 [04:42<00:00, 14.86s/it]\n"
     ]
    },
    {
     "name": "stdout",
     "output_type": "stream",
     "text": [
      "\n",
      "Avg Corruption Accuracy: 27.98%\n",
      "Global Sparsity: 78.69% \n",
      "\n",
      "---------- Pruning Iteration:  16 / 44\n"
     ]
    },
    {
     "name": "stderr",
     "output_type": "stream",
     "text": [
      "Loss=0.7297564744949341 Batch_id=195 Accuracy=84.62: 100%|██████████| 196/196 [02:35<00:00,  1.26it/s]\n",
      "Loss=0.5618264675140381 Batch_id=195 Accuracy=85.18: 100%|██████████| 196/196 [02:35<00:00,  1.26it/s]\n",
      "Loss=0.7073845267295837 Batch_id=195 Accuracy=85.51: 100%|██████████| 196/196 [02:35<00:00,  1.26it/s] \n",
      "Loss=0.6098378300666809 Batch_id=195 Accuracy=85.64: 100%|██████████| 196/196 [02:35<00:00,  1.26it/s]\n",
      "Loss=0.5514452457427979 Batch_id=195 Accuracy=85.72: 100%|██████████| 196/196 [02:36<00:00,  1.26it/s]\n",
      "Loss=0.6617469787597656 Batch_id=195 Accuracy=86.10: 100%|██████████| 196/196 [02:36<00:00,  1.26it/s] \n",
      "Loss=0.674303412437439 Batch_id=195 Accuracy=86.15: 100%|██████████| 196/196 [02:36<00:00,  1.25it/s]  \n",
      "Loss=0.6139350533485413 Batch_id=195 Accuracy=86.13: 100%|██████████| 196/196 [02:35<00:00,  1.26it/s] \n"
     ]
    },
    {
     "name": "stdout",
     "output_type": "stream",
     "text": [
      "Epoch 00008: reducing learning rate of group 0 to 5.0000e-04.\n"
     ]
    },
    {
     "name": "stderr",
     "output_type": "stream",
     "text": [
      "Loss=0.39283719658851624 Batch_id=195 Accuracy=90.77: 100%|██████████| 196/196 [02:36<00:00,  1.26it/s]\n",
      "Loss=0.38877472281455994 Batch_id=195 Accuracy=92.19: 100%|██████████| 196/196 [02:35<00:00,  1.26it/s]\n"
     ]
    },
    {
     "name": "stdout",
     "output_type": "stream",
     "text": [
      "Test set: Average loss: 1.9973, Accuracy: 2777/5000 (55.54%)\n",
      "\n",
      "--Skipping Acc Comp For Corrupted Data--\n",
      "Global Sparsity: 80.73% \n",
      "\n",
      "---------- Pruning Iteration:  17 / 44\n"
     ]
    },
    {
     "name": "stderr",
     "output_type": "stream",
     "text": [
      "Loss=0.7807371616363525 Batch_id=195 Accuracy=83.71: 100%|██████████| 196/196 [02:35<00:00,  1.26it/s]\n",
      "Loss=0.6464793086051941 Batch_id=195 Accuracy=84.28: 100%|██████████| 196/196 [02:35<00:00,  1.26it/s]\n",
      "Loss=0.6611771583557129 Batch_id=195 Accuracy=84.89: 100%|██████████| 196/196 [02:35<00:00,  1.26it/s]\n",
      "Loss=0.7078474760055542 Batch_id=195 Accuracy=85.14: 100%|██████████| 196/196 [02:36<00:00,  1.26it/s]\n",
      "Loss=0.5740050077438354 Batch_id=195 Accuracy=85.32: 100%|██████████| 196/196 [02:35<00:00,  1.26it/s]\n",
      "Loss=0.6611918210983276 Batch_id=195 Accuracy=85.33: 100%|██████████| 196/196 [02:35<00:00,  1.26it/s]\n",
      "Loss=0.581060528755188 Batch_id=195 Accuracy=85.41: 100%|██████████| 196/196 [02:35<00:00,  1.26it/s] \n",
      "Loss=0.6180447340011597 Batch_id=195 Accuracy=85.72: 100%|██████████| 196/196 [02:35<00:00,  1.26it/s] \n"
     ]
    },
    {
     "name": "stdout",
     "output_type": "stream",
     "text": [
      "Epoch 00008: reducing learning rate of group 0 to 5.0000e-04.\n"
     ]
    },
    {
     "name": "stderr",
     "output_type": "stream",
     "text": [
      "Loss=0.44479912519454956 Batch_id=195 Accuracy=90.21: 100%|██████████| 196/196 [02:36<00:00,  1.26it/s]\n",
      "Loss=0.4578118324279785 Batch_id=195 Accuracy=91.81: 100%|██████████| 196/196 [02:35<00:00,  1.26it/s] \n"
     ]
    },
    {
     "name": "stdout",
     "output_type": "stream",
     "text": [
      "Test set: Average loss: 1.9925, Accuracy: 2796/5000 (55.92%)\n",
      "\n",
      "--Skipping Acc Comp For Corrupted Data--\n",
      "Global Sparsity: 82.57% \n",
      "\n",
      "---------- Pruning Iteration:  18 / 44\n"
     ]
    },
    {
     "name": "stderr",
     "output_type": "stream",
     "text": [
      "Loss=0.8130612373352051 Batch_id=195 Accuracy=83.17: 100%|██████████| 196/196 [02:35<00:00,  1.26it/s]\n",
      "Loss=0.6384590268135071 Batch_id=195 Accuracy=83.76: 100%|██████████| 196/196 [02:35<00:00,  1.26it/s]\n",
      "Loss=0.7576670050621033 Batch_id=195 Accuracy=84.24: 100%|██████████| 196/196 [02:35<00:00,  1.26it/s]\n",
      "Loss=0.6850672960281372 Batch_id=195 Accuracy=84.41: 100%|██████████| 196/196 [02:35<00:00,  1.26it/s]\n",
      "Loss=0.7070684432983398 Batch_id=195 Accuracy=84.70: 100%|██████████| 196/196 [02:35<00:00,  1.26it/s]\n"
     ]
    },
    {
     "name": "stdout",
     "output_type": "stream",
     "text": [
      "Epoch 00005: reducing learning rate of group 0 to 5.0000e-04.\n"
     ]
    },
    {
     "name": "stderr",
     "output_type": "stream",
     "text": [
      "Loss=0.672344446182251 Batch_id=195 Accuracy=89.48: 100%|██████████| 196/196 [02:36<00:00,  1.26it/s]  \n",
      "Loss=0.4684576392173767 Batch_id=195 Accuracy=91.00: 100%|██████████| 196/196 [02:36<00:00,  1.26it/s] \n",
      "Loss=0.456683486700058 Batch_id=195 Accuracy=91.77: 100%|██████████| 196/196 [02:35<00:00,  1.26it/s]  \n",
      "Loss=0.3967610001564026 Batch_id=195 Accuracy=91.97: 100%|██████████| 196/196 [02:35<00:00,  1.26it/s] \n",
      "Loss=0.44024190306663513 Batch_id=195 Accuracy=92.22: 100%|██████████| 196/196 [02:35<00:00,  1.26it/s]\n"
     ]
    },
    {
     "name": "stdout",
     "output_type": "stream",
     "text": [
      "Test set: Average loss: 1.9898, Accuracy: 2787/5000 (55.74%)\n",
      "\n",
      "--Skipping Acc Comp For Corrupted Data--\n",
      "Global Sparsity: 84.22% \n",
      "\n",
      "---------- Pruning Iteration:  19 / 44\n"
     ]
    },
    {
     "name": "stderr",
     "output_type": "stream",
     "text": [
      "Loss=0.8136103749275208 Batch_id=195 Accuracy=81.93: 100%|██████████| 196/196 [02:35<00:00,  1.26it/s]\n",
      "Loss=0.7493316531181335 Batch_id=195 Accuracy=82.61: 100%|██████████| 196/196 [02:35<00:00,  1.26it/s]\n",
      "Loss=0.6932964324951172 Batch_id=195 Accuracy=83.01: 100%|██████████| 196/196 [02:36<00:00,  1.25it/s]\n",
      "Loss=0.7445467710494995 Batch_id=195 Accuracy=83.32: 100%|██████████| 196/196 [02:35<00:00,  1.26it/s]\n",
      "Loss=0.7653022408485413 Batch_id=195 Accuracy=83.46: 100%|██████████| 196/196 [02:35<00:00,  1.26it/s]\n",
      "Loss=0.7832948565483093 Batch_id=195 Accuracy=83.59: 100%|██████████| 196/196 [02:35<00:00,  1.26it/s]\n"
     ]
    },
    {
     "name": "stdout",
     "output_type": "stream",
     "text": [
      "Epoch 00006: reducing learning rate of group 0 to 5.0000e-04.\n"
     ]
    },
    {
     "name": "stderr",
     "output_type": "stream",
     "text": [
      "Loss=0.6040194630622864 Batch_id=195 Accuracy=88.72: 100%|██████████| 196/196 [02:35<00:00,  1.26it/s] \n",
      "Loss=0.551817774772644 Batch_id=195 Accuracy=90.23: 100%|██████████| 196/196 [02:36<00:00,  1.26it/s]  \n",
      "Loss=0.46484607458114624 Batch_id=195 Accuracy=90.88: 100%|██████████| 196/196 [02:36<00:00,  1.26it/s]\n",
      "Loss=0.4699642062187195 Batch_id=195 Accuracy=91.12: 100%|██████████| 196/196 [02:35<00:00,  1.26it/s] \n"
     ]
    },
    {
     "name": "stdout",
     "output_type": "stream",
     "text": [
      "Test set: Average loss: 1.9976, Accuracy: 2805/5000 (56.10%)\n",
      "\n",
      "--Skipping Acc Comp For Corrupted Data--\n",
      "Global Sparsity: 85.71% \n",
      "\n",
      "---------- Pruning Iteration:  20 / 44\n"
     ]
    },
    {
     "name": "stderr",
     "output_type": "stream",
     "text": [
      "Loss=0.6792886257171631 Batch_id=195 Accuracy=81.04: 100%|██████████| 196/196 [02:35<00:00,  1.26it/s]\n",
      "Loss=0.8619124293327332 Batch_id=195 Accuracy=81.45: 100%|██████████| 196/196 [02:35<00:00,  1.26it/s]\n",
      "Loss=0.6397866606712341 Batch_id=195 Accuracy=82.04: 100%|██████████| 196/196 [02:35<00:00,  1.26it/s]\n",
      "Loss=0.8044897317886353 Batch_id=195 Accuracy=82.34: 100%|██████████| 196/196 [02:35<00:00,  1.26it/s]\n",
      "Loss=0.6854150891304016 Batch_id=195 Accuracy=82.60: 100%|██████████| 196/196 [02:35<00:00,  1.26it/s]\n",
      "Loss=0.7604408264160156 Batch_id=195 Accuracy=82.64: 100%|██████████| 196/196 [02:35<00:00,  1.26it/s]\n"
     ]
    },
    {
     "name": "stdout",
     "output_type": "stream",
     "text": [
      "Epoch 00006: reducing learning rate of group 0 to 5.0000e-04.\n"
     ]
    },
    {
     "name": "stderr",
     "output_type": "stream",
     "text": [
      "Loss=0.4852672517299652 Batch_id=195 Accuracy=87.63: 100%|██████████| 196/196 [02:35<00:00,  1.26it/s] \n",
      "Loss=0.5158012509346008 Batch_id=195 Accuracy=89.20: 100%|██████████| 196/196 [02:35<00:00,  1.26it/s] \n",
      "Loss=0.5399078726768494 Batch_id=195 Accuracy=90.15: 100%|██████████| 196/196 [02:35<00:00,  1.26it/s] \n",
      "Loss=0.4638442397117615 Batch_id=195 Accuracy=89.99: 100%|██████████| 196/196 [02:35<00:00,  1.26it/s] \n"
     ]
    },
    {
     "name": "stdout",
     "output_type": "stream",
     "text": [
      "Test set: Average loss: 1.9934, Accuracy: 2820/5000 (56.40%)\n",
      "\n",
      "--Skipping Acc Comp For Corrupted Data--\n",
      "Global Sparsity: 87.04% \n",
      "\n",
      "---------- Pruning Iteration:  21 / 44\n"
     ]
    },
    {
     "name": "stderr",
     "output_type": "stream",
     "text": [
      "Loss=0.850490927696228 Batch_id=195 Accuracy=79.75: 100%|██████████| 196/196 [02:35<00:00,  1.26it/s] \n",
      "Loss=0.7212532758712769 Batch_id=195 Accuracy=80.22: 100%|██████████| 196/196 [02:35<00:00,  1.26it/s]\n",
      "Loss=0.8448796272277832 Batch_id=195 Accuracy=80.58: 100%|██████████| 196/196 [02:35<00:00,  1.26it/s]\n",
      "Loss=0.7106305360794067 Batch_id=195 Accuracy=80.78: 100%|██████████| 196/196 [02:35<00:00,  1.26it/s]\n",
      "Loss=0.8707016706466675 Batch_id=195 Accuracy=81.28: 100%|██████████| 196/196 [02:35<00:00,  1.26it/s]\n",
      "Loss=0.8646181225776672 Batch_id=195 Accuracy=81.48: 100%|██████████| 196/196 [02:35<00:00,  1.26it/s]\n",
      "Loss=0.7679702043533325 Batch_id=195 Accuracy=81.51: 100%|██████████| 196/196 [02:35<00:00,  1.26it/s]\n"
     ]
    },
    {
     "name": "stdout",
     "output_type": "stream",
     "text": [
      "Epoch 00007: reducing learning rate of group 0 to 5.0000e-04.\n"
     ]
    },
    {
     "name": "stderr",
     "output_type": "stream",
     "text": [
      "Loss=0.5794099569320679 Batch_id=195 Accuracy=86.57: 100%|██████████| 196/196 [02:35<00:00,  1.26it/s] \n",
      "Loss=0.5613707900047302 Batch_id=195 Accuracy=88.22: 100%|██████████| 196/196 [02:35<00:00,  1.26it/s] \n",
      "Loss=0.5078080296516418 Batch_id=195 Accuracy=88.89: 100%|██████████| 196/196 [02:35<00:00,  1.26it/s] \n"
     ]
    },
    {
     "name": "stdout",
     "output_type": "stream",
     "text": [
      "Test set: Average loss: 1.9864, Accuracy: 2806/5000 (56.12%)\n",
      "\n",
      "--Skipping Acc Comp For Corrupted Data--\n",
      "Global Sparsity: 88.25% \n",
      "\n",
      "---------- Pruning Iteration:  22 / 44\n"
     ]
    },
    {
     "name": "stderr",
     "output_type": "stream",
     "text": [
      "Loss=0.8726630210876465 Batch_id=195 Accuracy=78.30: 100%|██████████| 196/196 [02:35<00:00,  1.26it/s]\n",
      "Loss=0.7899380922317505 Batch_id=195 Accuracy=78.67: 100%|██████████| 196/196 [02:35<00:00,  1.26it/s]\n",
      "Loss=0.7285345792770386 Batch_id=195 Accuracy=79.33: 100%|██████████| 196/196 [02:35<00:00,  1.26it/s]\n",
      "Loss=0.8732210397720337 Batch_id=195 Accuracy=79.46: 100%|██████████| 196/196 [02:35<00:00,  1.26it/s]\n",
      "Loss=0.7088761925697327 Batch_id=195 Accuracy=79.73: 100%|██████████| 196/196 [02:35<00:00,  1.26it/s]\n",
      "Loss=0.8308488130569458 Batch_id=195 Accuracy=80.01: 100%|██████████| 196/196 [02:35<00:00,  1.26it/s]\n",
      "Loss=0.9066461324691772 Batch_id=195 Accuracy=80.15: 100%|██████████| 196/196 [02:35<00:00,  1.26it/s]\n",
      "Loss=0.9262071847915649 Batch_id=195 Accuracy=80.11: 100%|██████████| 196/196 [02:35<00:00,  1.26it/s]\n"
     ]
    },
    {
     "name": "stdout",
     "output_type": "stream",
     "text": [
      "Epoch 00008: reducing learning rate of group 0 to 5.0000e-04.\n"
     ]
    },
    {
     "name": "stderr",
     "output_type": "stream",
     "text": [
      "Loss=0.5879387259483337 Batch_id=195 Accuracy=85.55: 100%|██████████| 196/196 [02:35<00:00,  1.26it/s] \n",
      "Loss=0.6253675222396851 Batch_id=195 Accuracy=87.46: 100%|██████████| 196/196 [02:35<00:00,  1.26it/s] \n"
     ]
    },
    {
     "name": "stdout",
     "output_type": "stream",
     "text": [
      "Test set: Average loss: 2.0073, Accuracy: 2785/5000 (55.70%)\n",
      "\n",
      "--Testing Corruptions--\n"
     ]
    },
    {
     "name": "stderr",
     "output_type": "stream",
     "text": [
      "100%|██████████| 19/19 [04:48<00:00, 15.16s/it]\n"
     ]
    },
    {
     "name": "stdout",
     "output_type": "stream",
     "text": [
      "\n",
      "Avg Corruption Accuracy: 27.11%\n",
      "Global Sparsity: 89.33% \n",
      "\n",
      "---------- Pruning Iteration:  23 / 44\n"
     ]
    },
    {
     "name": "stderr",
     "output_type": "stream",
     "text": [
      "Loss=0.8546328544616699 Batch_id=195 Accuracy=76.98: 100%|██████████| 196/196 [02:35<00:00,  1.26it/s]\n",
      "Loss=0.960013747215271 Batch_id=195 Accuracy=77.79: 100%|██████████| 196/196 [02:35<00:00,  1.26it/s] \n",
      "Loss=0.8930481672286987 Batch_id=195 Accuracy=78.21: 100%|██████████| 196/196 [02:35<00:00,  1.26it/s]\n",
      "Loss=0.7186259031295776 Batch_id=195 Accuracy=78.42: 100%|██████████| 196/196 [02:35<00:00,  1.26it/s]\n",
      "Loss=0.8969231843948364 Batch_id=195 Accuracy=78.64: 100%|██████████| 196/196 [02:35<00:00,  1.26it/s]\n",
      "Loss=0.788654088973999 Batch_id=195 Accuracy=78.89: 100%|██████████| 196/196 [02:35<00:00,  1.26it/s] \n",
      "Loss=0.7673665881156921 Batch_id=195 Accuracy=79.16: 100%|██████████| 196/196 [02:35<00:00,  1.26it/s]\n"
     ]
    },
    {
     "name": "stdout",
     "output_type": "stream",
     "text": [
      "Epoch 00007: reducing learning rate of group 0 to 5.0000e-04.\n"
     ]
    },
    {
     "name": "stderr",
     "output_type": "stream",
     "text": [
      "Loss=0.5985886454582214 Batch_id=195 Accuracy=84.21: 100%|██████████| 196/196 [02:35<00:00,  1.26it/s]\n",
      "Loss=0.6344741582870483 Batch_id=195 Accuracy=86.04: 100%|██████████| 196/196 [02:35<00:00,  1.26it/s]\n",
      "Loss=0.6427040696144104 Batch_id=195 Accuracy=86.67: 100%|██████████| 196/196 [02:35<00:00,  1.26it/s]\n"
     ]
    },
    {
     "name": "stdout",
     "output_type": "stream",
     "text": [
      "Test set: Average loss: 1.9825, Accuracy: 2812/5000 (56.24%)\n",
      "\n",
      "--Skipping Acc Comp For Corrupted Data--\n",
      "Global Sparsity: 90.31% \n",
      "\n",
      "---------- Pruning Iteration:  24 / 44\n"
     ]
    },
    {
     "name": "stderr",
     "output_type": "stream",
     "text": [
      "Loss=0.9966686367988586 Batch_id=195 Accuracy=75.69: 100%|██████████| 196/196 [02:35<00:00,  1.26it/s]\n",
      "Loss=0.8838809132575989 Batch_id=195 Accuracy=76.27: 100%|██████████| 196/196 [02:35<00:00,  1.26it/s]\n",
      "Loss=0.9453482627868652 Batch_id=195 Accuracy=76.62: 100%|██████████| 196/196 [02:36<00:00,  1.26it/s]\n",
      "Loss=1.0109144449234009 Batch_id=195 Accuracy=77.05: 100%|██████████| 196/196 [02:36<00:00,  1.26it/s]\n",
      "Loss=0.9204326868057251 Batch_id=195 Accuracy=77.25: 100%|██████████| 196/196 [02:35<00:00,  1.26it/s]\n"
     ]
    },
    {
     "name": "stdout",
     "output_type": "stream",
     "text": [
      "Epoch 00005: reducing learning rate of group 0 to 5.0000e-04.\n"
     ]
    },
    {
     "name": "stderr",
     "output_type": "stream",
     "text": [
      "Loss=0.6336837410926819 Batch_id=195 Accuracy=82.57: 100%|██████████| 196/196 [02:35<00:00,  1.26it/s]\n",
      "Loss=0.7128921747207642 Batch_id=195 Accuracy=84.44: 100%|██████████| 196/196 [02:35<00:00,  1.26it/s]\n",
      "Loss=0.5550602078437805 Batch_id=195 Accuracy=85.10: 100%|██████████| 196/196 [02:35<00:00,  1.26it/s]\n",
      "Loss=0.5638261437416077 Batch_id=195 Accuracy=85.39: 100%|██████████| 196/196 [02:35<00:00,  1.26it/s]\n",
      "Loss=0.723808228969574 Batch_id=195 Accuracy=85.55: 100%|██████████| 196/196 [02:35<00:00,  1.26it/s] \n"
     ]
    },
    {
     "name": "stdout",
     "output_type": "stream",
     "text": [
      "Test set: Average loss: 1.9805, Accuracy: 2818/5000 (56.36%)\n",
      "\n",
      "--Skipping Acc Comp For Corrupted Data--\n",
      "Global Sparsity: 91.19% \n",
      "\n",
      "---------- Pruning Iteration:  25 / 44\n"
     ]
    },
    {
     "name": "stderr",
     "output_type": "stream",
     "text": [
      "Loss=0.9542211294174194 Batch_id=195 Accuracy=73.70: 100%|██████████| 196/196 [02:36<00:00,  1.26it/s]\n",
      "Loss=1.1417114734649658 Batch_id=195 Accuracy=74.52: 100%|██████████| 196/196 [02:36<00:00,  1.26it/s]\n",
      "Loss=0.9748733639717102 Batch_id=195 Accuracy=74.88: 100%|██████████| 196/196 [02:36<00:00,  1.26it/s]\n",
      "Loss=0.9502042531967163 Batch_id=195 Accuracy=74.98: 100%|██████████| 196/196 [02:35<00:00,  1.26it/s]\n",
      "Loss=1.0616238117218018 Batch_id=195 Accuracy=75.21: 100%|██████████| 196/196 [02:35<00:00,  1.26it/s]\n",
      "Loss=0.8427324295043945 Batch_id=195 Accuracy=75.53: 100%|██████████| 196/196 [02:35<00:00,  1.26it/s]\n",
      "Loss=0.9842192530632019 Batch_id=195 Accuracy=75.67: 100%|██████████| 196/196 [02:35<00:00,  1.26it/s]\n",
      "Loss=0.8824138641357422 Batch_id=195 Accuracy=75.81: 100%|██████████| 196/196 [02:35<00:00,  1.26it/s]\n",
      "Loss=0.8234763145446777 Batch_id=195 Accuracy=75.89: 100%|██████████| 196/196 [02:35<00:00,  1.26it/s]\n",
      "Loss=0.9224562644958496 Batch_id=195 Accuracy=75.84: 100%|██████████| 196/196 [02:35<00:00,  1.26it/s]\n"
     ]
    },
    {
     "name": "stdout",
     "output_type": "stream",
     "text": [
      "Test set: Average loss: 2.1152, Accuracy: 2676/5000 (53.52%)\n",
      "\n",
      "--Skipping Acc Comp For Corrupted Data--\n",
      "Global Sparsity: 91.98% \n",
      "\n",
      "---------- Pruning Iteration:  26 / 44\n"
     ]
    },
    {
     "name": "stderr",
     "output_type": "stream",
     "text": [
      "Loss=1.2560852766036987 Batch_id=195 Accuracy=71.99: 100%|██████████| 196/196 [02:35<00:00,  1.26it/s]\n",
      "Loss=0.9527157545089722 Batch_id=195 Accuracy=73.20: 100%|██████████| 196/196 [02:35<00:00,  1.26it/s]\n",
      "Loss=0.9722169637680054 Batch_id=195 Accuracy=73.69: 100%|██████████| 196/196 [02:35<00:00,  1.26it/s]\n",
      "Loss=0.9068983793258667 Batch_id=195 Accuracy=73.90: 100%|██████████| 196/196 [02:35<00:00,  1.26it/s]\n",
      "Loss=0.9276553988456726 Batch_id=195 Accuracy=74.10: 100%|██████████| 196/196 [02:35<00:00,  1.26it/s]\n",
      "Loss=1.2188398838043213 Batch_id=195 Accuracy=74.19: 100%|██████████| 196/196 [02:35<00:00,  1.26it/s]\n",
      "Loss=0.9701290130615234 Batch_id=195 Accuracy=73.95: 100%|██████████| 196/196 [02:35<00:00,  1.26it/s]\n"
     ]
    },
    {
     "name": "stdout",
     "output_type": "stream",
     "text": [
      "Epoch 00007: reducing learning rate of group 0 to 5.0000e-04.\n"
     ]
    },
    {
     "name": "stderr",
     "output_type": "stream",
     "text": [
      "Loss=0.7847356796264648 Batch_id=195 Accuracy=79.37: 100%|██████████| 196/196 [02:35<00:00,  1.26it/s]\n",
      "Loss=0.8113641738891602 Batch_id=195 Accuracy=81.05: 100%|██████████| 196/196 [02:35<00:00,  1.26it/s]\n",
      "Loss=0.8548742532730103 Batch_id=195 Accuracy=81.89: 100%|██████████| 196/196 [02:35<00:00,  1.26it/s]\n"
     ]
    },
    {
     "name": "stdout",
     "output_type": "stream",
     "text": [
      "Test set: Average loss: 1.9921, Accuracy: 2798/5000 (55.96%)\n",
      "\n",
      "--Skipping Acc Comp For Corrupted Data--\n",
      "Global Sparsity: 92.69% \n",
      "\n",
      "---------- Pruning Iteration:  27 / 44\n"
     ]
    },
    {
     "name": "stderr",
     "output_type": "stream",
     "text": [
      "Loss=1.2581002712249756 Batch_id=195 Accuracy=70.75: 100%|██████████| 196/196 [02:35<00:00,  1.26it/s]\n",
      "Loss=0.9549880027770996 Batch_id=195 Accuracy=71.38: 100%|██████████| 196/196 [02:35<00:00,  1.26it/s]\n",
      "Loss=1.1063700914382935 Batch_id=195 Accuracy=71.57: 100%|██████████| 196/196 [02:35<00:00,  1.26it/s]\n",
      "Loss=1.1262123584747314 Batch_id=195 Accuracy=71.87: 100%|██████████| 196/196 [02:35<00:00,  1.26it/s]\n",
      "Loss=0.9080055952072144 Batch_id=195 Accuracy=72.16: 100%|██████████| 196/196 [02:35<00:00,  1.26it/s]\n",
      "Loss=1.4043660163879395 Batch_id=195 Accuracy=72.39: 100%|██████████| 196/196 [02:35<00:00,  1.26it/s]\n",
      "Loss=1.055059552192688 Batch_id=195 Accuracy=72.51: 100%|██████████| 196/196 [02:35<00:00,  1.26it/s] \n",
      "Loss=1.0533641576766968 Batch_id=195 Accuracy=72.54: 100%|██████████| 196/196 [02:35<00:00,  1.26it/s]\n"
     ]
    },
    {
     "name": "stdout",
     "output_type": "stream",
     "text": [
      "Epoch 00008: reducing learning rate of group 0 to 5.0000e-04.\n"
     ]
    },
    {
     "name": "stderr",
     "output_type": "stream",
     "text": [
      "Loss=0.8817402720451355 Batch_id=195 Accuracy=77.37: 100%|██████████| 196/196 [02:35<00:00,  1.26it/s]\n",
      "Loss=0.7140242457389832 Batch_id=195 Accuracy=79.38: 100%|██████████| 196/196 [02:35<00:00,  1.26it/s]\n"
     ]
    },
    {
     "name": "stdout",
     "output_type": "stream",
     "text": [
      "Test set: Average loss: 1.9862, Accuracy: 2785/5000 (55.70%)\n",
      "\n",
      "--Skipping Acc Comp For Corrupted Data--\n",
      "Global Sparsity: 93.33% \n",
      "\n",
      "---------- Pruning Iteration:  28 / 44\n"
     ]
    },
    {
     "name": "stderr",
     "output_type": "stream",
     "text": [
      "Loss=1.3094050884246826 Batch_id=195 Accuracy=68.99: 100%|██████████| 196/196 [02:35<00:00,  1.26it/s]\n",
      "Loss=1.1781818866729736 Batch_id=195 Accuracy=69.85: 100%|██████████| 196/196 [02:35<00:00,  1.26it/s]\n",
      "Loss=1.165095329284668 Batch_id=195 Accuracy=70.00: 100%|██████████| 196/196 [02:35<00:00,  1.26it/s] \n",
      "Loss=1.3541479110717773 Batch_id=195 Accuracy=70.34: 100%|██████████| 196/196 [02:35<00:00,  1.26it/s]\n",
      "Loss=1.1321274042129517 Batch_id=195 Accuracy=70.41: 100%|██████████| 196/196 [02:35<00:00,  1.26it/s]\n",
      "Loss=1.1061660051345825 Batch_id=195 Accuracy=70.65: 100%|██████████| 196/196 [02:35<00:00,  1.26it/s]\n",
      "Loss=1.102016568183899 Batch_id=195 Accuracy=70.72: 100%|██████████| 196/196 [02:35<00:00,  1.26it/s] \n",
      "Loss=1.2236272096633911 Batch_id=195 Accuracy=70.58: 100%|██████████| 196/196 [02:35<00:00,  1.26it/s]\n",
      "Loss=1.2899470329284668 Batch_id=195 Accuracy=70.61: 100%|██████████| 196/196 [02:35<00:00,  1.26it/s]\n",
      "Loss=1.3277878761291504 Batch_id=195 Accuracy=70.78: 100%|██████████| 196/196 [02:35<00:00,  1.26it/s]"
     ]
    },
    {
     "name": "stdout",
     "output_type": "stream",
     "text": [
      "Epoch 00010: reducing learning rate of group 0 to 5.0000e-04.\n"
     ]
    },
    {
     "name": "stderr",
     "output_type": "stream",
     "text": [
      "\n"
     ]
    },
    {
     "name": "stdout",
     "output_type": "stream",
     "text": [
      "Test set: Average loss: 2.0936, Accuracy: 2680/5000 (53.60%)\n",
      "\n",
      "--Testing Corruptions--\n"
     ]
    },
    {
     "name": "stderr",
     "output_type": "stream",
     "text": [
      "100%|██████████| 19/19 [04:54<00:00, 15.53s/it]\n"
     ]
    },
    {
     "name": "stdout",
     "output_type": "stream",
     "text": [
      "\n",
      "Avg Corruption Accuracy: 23.71%\n",
      "Global Sparsity: 93.90% \n",
      "\n",
      "---------- Pruning Iteration:  29 / 44\n"
     ]
    },
    {
     "name": "stderr",
     "output_type": "stream",
     "text": [
      "Loss=1.3367350101470947 Batch_id=195 Accuracy=66.72: 100%|██████████| 196/196 [02:35<00:00,  1.26it/s]\n",
      "Loss=1.1530394554138184 Batch_id=195 Accuracy=68.04: 100%|██████████| 196/196 [02:35<00:00,  1.26it/s]\n",
      "Loss=1.1309388875961304 Batch_id=195 Accuracy=68.58: 100%|██████████| 196/196 [02:35<00:00,  1.26it/s]\n",
      "Loss=1.1427338123321533 Batch_id=195 Accuracy=68.69: 100%|██████████| 196/196 [02:35<00:00,  1.26it/s]\n",
      "Loss=1.1152923107147217 Batch_id=195 Accuracy=69.02: 100%|██████████| 196/196 [02:35<00:00,  1.26it/s]\n",
      "Loss=1.0262442827224731 Batch_id=195 Accuracy=69.12: 100%|██████████| 196/196 [02:36<00:00,  1.26it/s]\n",
      "Loss=1.1861342191696167 Batch_id=195 Accuracy=68.97: 100%|██████████| 196/196 [02:36<00:00,  1.26it/s]\n",
      "Loss=1.391544222831726 Batch_id=195 Accuracy=68.98: 100%|██████████| 196/196 [02:36<00:00,  1.26it/s] \n",
      "Loss=1.2019984722137451 Batch_id=195 Accuracy=68.96: 100%|██████████| 196/196 [02:36<00:00,  1.25it/s]\n"
     ]
    },
    {
     "name": "stdout",
     "output_type": "stream",
     "text": [
      "Epoch 00009: reducing learning rate of group 0 to 5.0000e-04.\n"
     ]
    },
    {
     "name": "stderr",
     "output_type": "stream",
     "text": [
      "Loss=0.9614772796630859 Batch_id=195 Accuracy=73.84: 100%|██████████| 196/196 [02:36<00:00,  1.26it/s]\n"
     ]
    },
    {
     "name": "stdout",
     "output_type": "stream",
     "text": [
      "Test set: Average loss: 1.9741, Accuracy: 2785/5000 (55.70%)\n",
      "\n",
      "--Skipping Acc Comp For Corrupted Data--\n",
      "Global Sparsity: 94.42% \n",
      "\n",
      "---------- Pruning Iteration:  30 / 44\n"
     ]
    },
    {
     "name": "stderr",
     "output_type": "stream",
     "text": [
      "Loss=1.426277756690979 Batch_id=195 Accuracy=65.65: 100%|██████████| 196/196 [02:36<00:00,  1.26it/s] \n",
      "Loss=1.2511606216430664 Batch_id=195 Accuracy=66.17: 100%|██████████| 196/196 [02:36<00:00,  1.25it/s]\n",
      "Loss=1.2384953498840332 Batch_id=195 Accuracy=66.64: 100%|██████████| 196/196 [02:36<00:00,  1.26it/s]\n",
      "Loss=1.2854154109954834 Batch_id=195 Accuracy=66.77: 100%|██████████| 196/196 [02:36<00:00,  1.25it/s]\n",
      "Loss=1.3699977397918701 Batch_id=195 Accuracy=66.85: 100%|██████████| 196/196 [02:36<00:00,  1.26it/s]\n",
      "Loss=1.371739149093628 Batch_id=195 Accuracy=67.18: 100%|██████████| 196/196 [02:35<00:00,  1.26it/s] \n"
     ]
    },
    {
     "name": "stdout",
     "output_type": "stream",
     "text": [
      "Epoch 00006: reducing learning rate of group 0 to 5.0000e-04.\n"
     ]
    },
    {
     "name": "stderr",
     "output_type": "stream",
     "text": [
      "Loss=1.0533559322357178 Batch_id=195 Accuracy=71.74: 100%|██████████| 196/196 [02:35<00:00,  1.26it/s]\n",
      "Loss=0.9312505722045898 Batch_id=195 Accuracy=73.33: 100%|██████████| 196/196 [02:36<00:00,  1.26it/s]\n",
      "Loss=0.9515382051467896 Batch_id=195 Accuracy=73.94: 100%|██████████| 196/196 [02:35<00:00,  1.26it/s]\n",
      "Loss=1.1119410991668701 Batch_id=195 Accuracy=73.96: 100%|██████████| 196/196 [02:35<00:00,  1.26it/s]\n"
     ]
    },
    {
     "name": "stdout",
     "output_type": "stream",
     "text": [
      "Test set: Average loss: 1.9640, Accuracy: 2779/5000 (55.58%)\n",
      "\n",
      "--Skipping Acc Comp For Corrupted Data--\n",
      "Global Sparsity: 94.89% \n",
      "\n",
      "---------- Pruning Iteration:  31 / 44\n"
     ]
    },
    {
     "name": "stderr",
     "output_type": "stream",
     "text": [
      "Loss=1.2574318647384644 Batch_id=195 Accuracy=63.90: 100%|██████████| 196/196 [02:35<00:00,  1.26it/s]\n",
      "Loss=1.2045978307724 Batch_id=195 Accuracy=64.18: 100%|██████████| 196/196 [02:35<00:00,  1.26it/s]   \n",
      "Loss=1.048919916152954 Batch_id=195 Accuracy=64.70: 100%|██████████| 196/196 [02:35<00:00,  1.26it/s] \n",
      "Loss=1.534379482269287 Batch_id=195 Accuracy=64.68: 100%|██████████| 196/196 [02:35<00:00,  1.26it/s] \n",
      "Loss=1.4102997779846191 Batch_id=195 Accuracy=64.94: 100%|██████████| 196/196 [02:35<00:00,  1.26it/s]\n",
      "Loss=1.52769935131073 Batch_id=195 Accuracy=65.08: 100%|██████████| 196/196 [02:35<00:00,  1.26it/s]  \n"
     ]
    },
    {
     "name": "stdout",
     "output_type": "stream",
     "text": [
      "Epoch 00006: reducing learning rate of group 0 to 5.0000e-04.\n"
     ]
    },
    {
     "name": "stderr",
     "output_type": "stream",
     "text": [
      "Loss=1.08162522315979 Batch_id=195 Accuracy=69.46: 100%|██████████| 196/196 [02:35<00:00,  1.26it/s]  \n",
      "Loss=1.083485722541809 Batch_id=195 Accuracy=71.05: 100%|██████████| 196/196 [02:36<00:00,  1.26it/s] \n",
      "Loss=1.140202283859253 Batch_id=195 Accuracy=71.54: 100%|██████████| 196/196 [02:36<00:00,  1.26it/s] \n"
     ]
    },
    {
     "name": "stdout",
     "output_type": "stream",
     "text": [
      "Epoch 00009: reducing learning rate of group 0 to 2.5000e-05.\n"
     ]
    },
    {
     "name": "stderr",
     "output_type": "stream",
     "text": [
      "Loss=1.188507318496704 Batch_id=195 Accuracy=71.91: 100%|██████████| 196/196 [02:35<00:00,  1.26it/s] \n"
     ]
    },
    {
     "name": "stdout",
     "output_type": "stream",
     "text": [
      "Test set: Average loss: 1.9517, Accuracy: 2777/5000 (55.54%)\n",
      "\n",
      "--Skipping Acc Comp For Corrupted Data--\n",
      "Global Sparsity: 95.31% \n",
      "\n",
      "---------- Pruning Iteration:  32 / 44\n"
     ]
    },
    {
     "name": "stderr",
     "output_type": "stream",
     "text": [
      "Loss=1.27768075466156 Batch_id=195 Accuracy=61.88: 100%|██████████| 196/196 [02:35<00:00,  1.26it/s]  \n",
      "Loss=1.418271780014038 Batch_id=195 Accuracy=62.63: 100%|██████████| 196/196 [02:35<00:00,  1.26it/s] \n",
      "Loss=1.5817468166351318 Batch_id=195 Accuracy=62.68: 100%|██████████| 196/196 [02:35<00:00,  1.26it/s]\n",
      "Loss=1.2733641862869263 Batch_id=195 Accuracy=62.87: 100%|██████████| 196/196 [02:35<00:00,  1.26it/s]\n",
      "Loss=1.372436285018921 Batch_id=195 Accuracy=63.16: 100%|██████████| 196/196 [02:35<00:00,  1.26it/s] \n",
      "Loss=1.5411843061447144 Batch_id=195 Accuracy=63.11: 100%|██████████| 196/196 [02:36<00:00,  1.25it/s]\n",
      "Loss=1.5379430055618286 Batch_id=195 Accuracy=63.23: 100%|██████████| 196/196 [02:36<00:00,  1.26it/s]\n"
     ]
    },
    {
     "name": "stdout",
     "output_type": "stream",
     "text": [
      "Epoch 00007: reducing learning rate of group 0 to 5.0000e-04.\n"
     ]
    },
    {
     "name": "stderr",
     "output_type": "stream",
     "text": [
      "Loss=1.392697811126709 Batch_id=195 Accuracy=67.20: 100%|██████████| 196/196 [02:35<00:00,  1.26it/s] \n",
      "Loss=1.3260295391082764 Batch_id=195 Accuracy=68.52: 100%|██████████| 196/196 [02:35<00:00,  1.26it/s]\n",
      "Loss=1.261197566986084 Batch_id=195 Accuracy=69.06: 100%|██████████| 196/196 [02:35<00:00,  1.26it/s] \n"
     ]
    },
    {
     "name": "stdout",
     "output_type": "stream",
     "text": [
      "Test set: Average loss: 1.9421, Accuracy: 2789/5000 (55.78%)\n",
      "\n",
      "--Skipping Acc Comp For Corrupted Data--\n",
      "Global Sparsity: 95.69% \n",
      "\n",
      "---------- Pruning Iteration:  33 / 44\n"
     ]
    },
    {
     "name": "stderr",
     "output_type": "stream",
     "text": [
      "Loss=1.453438401222229 Batch_id=195 Accuracy=60.46: 100%|██████████| 196/196 [02:35<00:00,  1.26it/s] \n",
      "Loss=1.3907535076141357 Batch_id=195 Accuracy=61.04: 100%|██████████| 196/196 [02:35<00:00,  1.26it/s]\n",
      "Loss=1.4453351497650146 Batch_id=195 Accuracy=61.02: 100%|██████████| 196/196 [02:36<00:00,  1.26it/s]\n",
      "Loss=1.4683719873428345 Batch_id=195 Accuracy=61.27: 100%|██████████| 196/196 [02:36<00:00,  1.26it/s]\n",
      "Loss=1.3647520542144775 Batch_id=195 Accuracy=61.24: 100%|██████████| 196/196 [02:36<00:00,  1.26it/s]\n",
      "Loss=1.5286343097686768 Batch_id=195 Accuracy=61.40: 100%|██████████| 196/196 [02:35<00:00,  1.26it/s]\n",
      "Loss=1.3662070035934448 Batch_id=195 Accuracy=61.13: 100%|██████████| 196/196 [02:36<00:00,  1.26it/s]\n",
      "Loss=1.546510934829712 Batch_id=195 Accuracy=61.44: 100%|██████████| 196/196 [02:36<00:00,  1.25it/s] \n"
     ]
    },
    {
     "name": "stdout",
     "output_type": "stream",
     "text": [
      "Epoch 00008: reducing learning rate of group 0 to 5.0000e-04.\n"
     ]
    },
    {
     "name": "stderr",
     "output_type": "stream",
     "text": [
      "Loss=1.331821084022522 Batch_id=195 Accuracy=65.34: 100%|██████████| 196/196 [02:36<00:00,  1.26it/s] \n",
      "Loss=1.2108185291290283 Batch_id=195 Accuracy=66.82: 100%|██████████| 196/196 [02:36<00:00,  1.26it/s]\n"
     ]
    },
    {
     "name": "stdout",
     "output_type": "stream",
     "text": [
      "Test set: Average loss: 1.9421, Accuracy: 2761/5000 (55.22%)\n",
      "\n",
      "--Skipping Acc Comp For Corrupted Data--\n",
      "Global Sparsity: 96.03% \n",
      "\n",
      "---------- Pruning Iteration:  34 / 44\n"
     ]
    },
    {
     "name": "stderr",
     "output_type": "stream",
     "text": [
      "Loss=1.5842394828796387 Batch_id=195 Accuracy=58.65: 100%|██████████| 196/196 [03:01<00:00,  1.08it/s]\n",
      "Loss=1.5452860593795776 Batch_id=195 Accuracy=59.20: 100%|██████████| 196/196 [03:02<00:00,  1.07it/s]\n",
      "Loss=1.507162094116211 Batch_id=195 Accuracy=59.36: 100%|██████████| 196/196 [03:02<00:00,  1.07it/s] \n",
      "Loss=1.4796581268310547 Batch_id=195 Accuracy=59.70: 100%|██████████| 196/196 [03:02<00:00,  1.07it/s]\n",
      "Loss=1.583655834197998 Batch_id=195 Accuracy=59.75: 100%|██████████| 196/196 [03:02<00:00,  1.07it/s] \n",
      "Loss=1.5103096961975098 Batch_id=195 Accuracy=59.77: 100%|██████████| 196/196 [03:03<00:00,  1.07it/s]\n",
      "Loss=1.5899971723556519 Batch_id=195 Accuracy=59.58: 100%|██████████| 196/196 [03:02<00:00,  1.08it/s]\n"
     ]
    },
    {
     "name": "stdout",
     "output_type": "stream",
     "text": [
      "Epoch 00007: reducing learning rate of group 0 to 5.0000e-04.\n"
     ]
    },
    {
     "name": "stderr",
     "output_type": "stream",
     "text": [
      "Loss=1.3042535781860352 Batch_id=195 Accuracy=63.57: 100%|██████████| 196/196 [03:01<00:00,  1.08it/s]\n",
      "Loss=1.2859135866165161 Batch_id=195 Accuracy=64.44: 100%|██████████| 196/196 [03:02<00:00,  1.07it/s]\n",
      "Loss=1.2855987548828125 Batch_id=195 Accuracy=64.73: 100%|██████████| 196/196 [03:02<00:00,  1.08it/s]\n"
     ]
    },
    {
     "name": "stdout",
     "output_type": "stream",
     "text": [
      "Test set: Average loss: 1.9347, Accuracy: 2762/5000 (55.24%)\n",
      "\n",
      "--Skipping Acc Comp For Corrupted Data--\n",
      "Global Sparsity: 96.33% \n",
      "\n",
      "---------- Pruning Iteration:  35 / 44\n"
     ]
    },
    {
     "name": "stderr",
     "output_type": "stream",
     "text": [
      "Loss=1.971637487411499 Batch_id=195 Accuracy=57.06: 100%|██████████| 196/196 [02:35<00:00,  1.26it/s] \n",
      "Loss=1.6580686569213867 Batch_id=195 Accuracy=57.43: 100%|██████████| 196/196 [02:35<00:00,  1.26it/s]\n",
      "Loss=1.7493553161621094 Batch_id=195 Accuracy=57.85: 100%|██████████| 196/196 [02:36<00:00,  1.26it/s]\n",
      "Loss=1.9791682958602905 Batch_id=195 Accuracy=58.02: 100%|██████████| 196/196 [02:36<00:00,  1.25it/s]\n",
      "Loss=1.5854160785675049 Batch_id=195 Accuracy=57.93: 100%|██████████| 196/196 [02:35<00:00,  1.26it/s]\n",
      "Loss=1.6864570379257202 Batch_id=195 Accuracy=58.11: 100%|██████████| 196/196 [02:36<00:00,  1.26it/s]\n",
      "Loss=1.511146903038025 Batch_id=195 Accuracy=58.04: 100%|██████████| 196/196 [02:36<00:00,  1.26it/s] \n",
      "Loss=1.5869667530059814 Batch_id=195 Accuracy=57.97: 100%|██████████| 196/196 [02:36<00:00,  1.26it/s]\n",
      "Loss=1.5627176761627197 Batch_id=195 Accuracy=58.28: 100%|██████████| 196/196 [02:35<00:00,  1.26it/s]\n",
      "Loss=1.6574684381484985 Batch_id=195 Accuracy=58.15: 100%|██████████| 196/196 [02:36<00:00,  1.26it/s]"
     ]
    },
    {
     "name": "stdout",
     "output_type": "stream",
     "text": [
      "Epoch 00010: reducing learning rate of group 0 to 5.0000e-04.\n"
     ]
    },
    {
     "name": "stderr",
     "output_type": "stream",
     "text": [
      "\n"
     ]
    },
    {
     "name": "stdout",
     "output_type": "stream",
     "text": [
      "Test set: Average loss: 2.0305, Accuracy: 2638/5000 (52.76%)\n",
      "\n",
      "--Skipping Acc Comp For Corrupted Data--\n",
      "Global Sparsity: 96.61% \n",
      "\n",
      "---------- Pruning Iteration:  36 / 44\n"
     ]
    },
    {
     "name": "stderr",
     "output_type": "stream",
     "text": [
      "Loss=1.7863504886627197 Batch_id=195 Accuracy=55.30: 100%|██████████| 196/196 [02:35<00:00,  1.26it/s]\n",
      "Loss=1.7842280864715576 Batch_id=195 Accuracy=56.09: 100%|██████████| 196/196 [02:36<00:00,  1.26it/s]\n",
      "Loss=1.9167028665542603 Batch_id=195 Accuracy=56.23: 100%|██████████| 196/196 [02:35<00:00,  1.26it/s]\n",
      "Loss=1.7610366344451904 Batch_id=195 Accuracy=56.42: 100%|██████████| 196/196 [02:36<00:00,  1.26it/s]\n",
      "Loss=1.577313780784607 Batch_id=195 Accuracy=56.40: 100%|██████████| 196/196 [02:36<00:00,  1.26it/s] \n",
      "Loss=1.7996833324432373 Batch_id=195 Accuracy=56.55: 100%|██████████| 196/196 [02:36<00:00,  1.26it/s]\n",
      "Loss=1.658887267112732 Batch_id=195 Accuracy=56.51: 100%|██████████| 196/196 [02:36<00:00,  1.26it/s] \n",
      "Loss=1.8113725185394287 Batch_id=195 Accuracy=56.55: 100%|██████████| 196/196 [02:36<00:00,  1.26it/s]\n"
     ]
    },
    {
     "name": "stdout",
     "output_type": "stream",
     "text": [
      "Epoch 00008: reducing learning rate of group 0 to 5.0000e-04.\n"
     ]
    },
    {
     "name": "stderr",
     "output_type": "stream",
     "text": [
      "Loss=1.3332020044326782 Batch_id=195 Accuracy=59.73: 100%|██████████| 196/196 [02:36<00:00,  1.25it/s]\n",
      "Loss=1.4617632627487183 Batch_id=195 Accuracy=60.85: 100%|██████████| 196/196 [02:36<00:00,  1.26it/s]\n"
     ]
    },
    {
     "name": "stdout",
     "output_type": "stream",
     "text": [
      "Test set: Average loss: 1.9203, Accuracy: 2762/5000 (55.24%)\n",
      "\n",
      "--Skipping Acc Comp For Corrupted Data--\n",
      "Global Sparsity: 96.86% \n",
      "\n",
      "---------- Pruning Iteration:  37 / 44\n"
     ]
    },
    {
     "name": "stderr",
     "output_type": "stream",
     "text": [
      "Loss=1.781081199645996 Batch_id=195 Accuracy=54.27: 100%|██████████| 196/196 [02:36<00:00,  1.25it/s] \n",
      "Loss=1.7763160467147827 Batch_id=195 Accuracy=54.69: 100%|██████████| 196/196 [02:36<00:00,  1.25it/s]\n",
      "Loss=1.5237783193588257 Batch_id=195 Accuracy=54.83: 100%|██████████| 196/196 [02:36<00:00,  1.25it/s]\n",
      "Loss=1.806687593460083 Batch_id=195 Accuracy=54.98: 100%|██████████| 196/196 [02:36<00:00,  1.25it/s] \n",
      "Loss=1.8011868000030518 Batch_id=195 Accuracy=54.91: 100%|██████████| 196/196 [02:36<00:00,  1.25it/s]\n",
      "Loss=1.6249189376831055 Batch_id=195 Accuracy=55.21: 100%|██████████| 196/196 [02:36<00:00,  1.25it/s]\n"
     ]
    },
    {
     "name": "stdout",
     "output_type": "stream",
     "text": [
      "Epoch 00006: reducing learning rate of group 0 to 5.0000e-04.\n"
     ]
    },
    {
     "name": "stderr",
     "output_type": "stream",
     "text": [
      "Loss=1.5587190389633179 Batch_id=195 Accuracy=57.97: 100%|██████████| 196/196 [02:36<00:00,  1.26it/s]\n",
      "Loss=1.5372403860092163 Batch_id=195 Accuracy=59.10: 100%|██████████| 196/196 [02:36<00:00,  1.26it/s]\n",
      "Loss=1.5797092914581299 Batch_id=195 Accuracy=59.16: 100%|██████████| 196/196 [02:36<00:00,  1.26it/s]\n"
     ]
    },
    {
     "name": "stdout",
     "output_type": "stream",
     "text": [
      "Epoch 00009: reducing learning rate of group 0 to 2.5000e-05.\n"
     ]
    },
    {
     "name": "stderr",
     "output_type": "stream",
     "text": [
      "Loss=1.3803110122680664 Batch_id=195 Accuracy=59.60: 100%|██████████| 196/196 [02:36<00:00,  1.26it/s]\n"
     ]
    },
    {
     "name": "stdout",
     "output_type": "stream",
     "text": [
      "Test set: Average loss: 1.9181, Accuracy: 2746/5000 (54.92%)\n",
      "\n",
      "--Skipping Acc Comp For Corrupted Data--\n",
      "Global Sparsity: 97.08% \n",
      "\n",
      "---------- Pruning Iteration:  38 / 44\n"
     ]
    },
    {
     "name": "stderr",
     "output_type": "stream",
     "text": [
      "Loss=2.107128858566284 Batch_id=195 Accuracy=52.77: 100%|██████████| 196/196 [02:35<00:00,  1.26it/s] \n",
      "Loss=1.6790082454681396 Batch_id=195 Accuracy=53.07: 100%|██████████| 196/196 [02:36<00:00,  1.26it/s]\n",
      "Loss=1.7474949359893799 Batch_id=195 Accuracy=53.23: 100%|██████████| 196/196 [02:36<00:00,  1.26it/s]\n",
      "Loss=1.8375968933105469 Batch_id=195 Accuracy=53.33: 100%|██████████| 196/196 [02:36<00:00,  1.26it/s]\n",
      "Loss=1.8969875574111938 Batch_id=195 Accuracy=53.53: 100%|██████████| 196/196 [02:35<00:00,  1.26it/s]\n"
     ]
    },
    {
     "name": "stdout",
     "output_type": "stream",
     "text": [
      "Epoch 00005: reducing learning rate of group 0 to 5.0000e-04.\n"
     ]
    },
    {
     "name": "stderr",
     "output_type": "stream",
     "text": [
      "Loss=1.765907645225525 Batch_id=195 Accuracy=56.19: 100%|██████████| 196/196 [02:35<00:00,  1.26it/s] \n",
      "Loss=1.6155827045440674 Batch_id=195 Accuracy=57.11: 100%|██████████| 196/196 [02:36<00:00,  1.26it/s]\n",
      "Loss=1.471515417098999 Batch_id=195 Accuracy=57.47: 100%|██████████| 196/196 [02:35<00:00,  1.26it/s] \n",
      "Loss=1.6050723791122437 Batch_id=195 Accuracy=57.46: 100%|██████████| 196/196 [02:35<00:00,  1.26it/s]\n",
      "Loss=1.642269492149353 Batch_id=195 Accuracy=57.62: 100%|██████████| 196/196 [02:35<00:00,  1.26it/s] \n"
     ]
    },
    {
     "name": "stdout",
     "output_type": "stream",
     "text": [
      "Test set: Average loss: 1.9427, Accuracy: 2728/5000 (54.56%)\n",
      "\n",
      "--Skipping Acc Comp For Corrupted Data--\n",
      "Global Sparsity: 97.28% \n",
      "\n",
      "---------- Pruning Iteration:  39 / 44\n"
     ]
    },
    {
     "name": "stderr",
     "output_type": "stream",
     "text": [
      "Loss=1.8898767232894897 Batch_id=195 Accuracy=51.20: 100%|██████████| 196/196 [02:35<00:00,  1.26it/s]\n",
      "Loss=2.022294282913208 Batch_id=195 Accuracy=51.70: 100%|██████████| 196/196 [02:36<00:00,  1.26it/s] \n",
      "Loss=1.9991140365600586 Batch_id=195 Accuracy=51.90: 100%|██████████| 196/196 [02:36<00:00,  1.25it/s]\n",
      "Loss=1.9833414554595947 Batch_id=195 Accuracy=51.83: 100%|██████████| 196/196 [02:36<00:00,  1.25it/s]\n"
     ]
    },
    {
     "name": "stdout",
     "output_type": "stream",
     "text": [
      "Epoch 00004: reducing learning rate of group 0 to 5.0000e-04.\n"
     ]
    },
    {
     "name": "stderr",
     "output_type": "stream",
     "text": [
      "Loss=1.7271678447723389 Batch_id=195 Accuracy=54.50: 100%|██████████| 196/196 [02:36<00:00,  1.25it/s]\n",
      "Loss=1.8858108520507812 Batch_id=195 Accuracy=55.41: 100%|██████████| 196/196 [02:36<00:00,  1.25it/s]\n",
      "Loss=1.5566041469573975 Batch_id=195 Accuracy=55.56: 100%|██████████| 196/196 [02:36<00:00,  1.25it/s]\n",
      "Loss=1.8226312398910522 Batch_id=195 Accuracy=55.69: 100%|██████████| 196/196 [02:36<00:00,  1.25it/s]\n",
      "Loss=1.7459310293197632 Batch_id=195 Accuracy=55.88: 100%|██████████| 196/196 [02:36<00:00,  1.25it/s]\n",
      "Loss=1.7381742000579834 Batch_id=195 Accuracy=55.88: 100%|██████████| 196/196 [02:36<00:00,  1.25it/s]"
     ]
    },
    {
     "name": "stdout",
     "output_type": "stream",
     "text": [
      "Epoch 00010: reducing learning rate of group 0 to 2.5000e-05.\n"
     ]
    },
    {
     "name": "stderr",
     "output_type": "stream",
     "text": [
      "\n"
     ]
    },
    {
     "name": "stdout",
     "output_type": "stream",
     "text": [
      "Test set: Average loss: 1.9489, Accuracy: 2698/5000 (53.96%)\n",
      "\n",
      "--Skipping Acc Comp For Corrupted Data--\n",
      "Global Sparsity: 97.46% \n",
      "\n",
      "---------- Pruning Iteration:  40 / 44\n"
     ]
    },
    {
     "name": "stderr",
     "output_type": "stream",
     "text": [
      "Loss=1.9747295379638672 Batch_id=195 Accuracy=49.70: 100%|██████████| 196/196 [02:36<00:00,  1.26it/s]\n",
      "Loss=1.7459110021591187 Batch_id=195 Accuracy=50.22: 100%|██████████| 196/196 [02:36<00:00,  1.26it/s]\n",
      "Loss=2.0496249198913574 Batch_id=195 Accuracy=50.23: 100%|██████████| 196/196 [02:36<00:00,  1.25it/s]\n",
      "Loss=2.1283812522888184 Batch_id=195 Accuracy=50.34: 100%|██████████| 196/196 [02:36<00:00,  1.26it/s]\n",
      "Loss=2.0515100955963135 Batch_id=195 Accuracy=50.34: 100%|██████████| 196/196 [02:36<00:00,  1.26it/s]\n"
     ]
    },
    {
     "name": "stdout",
     "output_type": "stream",
     "text": [
      "Epoch 00005: reducing learning rate of group 0 to 5.0000e-04.\n"
     ]
    },
    {
     "name": "stderr",
     "output_type": "stream",
     "text": [
      "Loss=1.6259424686431885 Batch_id=195 Accuracy=52.73: 100%|██████████| 196/196 [02:36<00:00,  1.26it/s]\n",
      "Loss=1.6853309869766235 Batch_id=195 Accuracy=53.55: 100%|██████████| 196/196 [02:36<00:00,  1.25it/s]\n",
      "Loss=1.9992765188217163 Batch_id=195 Accuracy=53.81: 100%|██████████| 196/196 [02:36<00:00,  1.25it/s]\n",
      "Loss=1.7970399856567383 Batch_id=195 Accuracy=53.94: 100%|██████████| 196/196 [02:36<00:00,  1.25it/s]\n"
     ]
    },
    {
     "name": "stdout",
     "output_type": "stream",
     "text": [
      "Epoch 00009: reducing learning rate of group 0 to 2.5000e-05.\n"
     ]
    },
    {
     "name": "stderr",
     "output_type": "stream",
     "text": [
      "Loss=1.8852417469024658 Batch_id=195 Accuracy=54.19: 100%|██████████| 196/196 [02:36<00:00,  1.25it/s]\n"
     ]
    },
    {
     "name": "stdout",
     "output_type": "stream",
     "text": [
      "Test set: Average loss: 1.9578, Accuracy: 2683/5000 (53.66%)\n",
      "\n",
      "--Skipping Acc Comp For Corrupted Data--\n",
      "Global Sparsity: 97.63% \n",
      "\n",
      "---------- Pruning Iteration:  41 / 44\n"
     ]
    },
    {
     "name": "stderr",
     "output_type": "stream",
     "text": [
      "Loss=2.102177143096924 Batch_id=195 Accuracy=48.53: 100%|██████████| 196/196 [02:36<00:00,  1.26it/s] \n",
      "Loss=2.166402578353882 Batch_id=195 Accuracy=48.83: 100%|██████████| 196/196 [02:36<00:00,  1.25it/s] \n",
      "Loss=2.243372917175293 Batch_id=195 Accuracy=48.85: 100%|██████████| 196/196 [02:37<00:00,  1.25it/s] \n",
      "Loss=2.057450294494629 Batch_id=195 Accuracy=48.98: 100%|██████████| 196/196 [02:36<00:00,  1.25it/s] \n",
      "Loss=1.8080990314483643 Batch_id=195 Accuracy=49.28: 100%|██████████| 196/196 [02:37<00:00,  1.25it/s]\n",
      "Loss=2.1051547527313232 Batch_id=195 Accuracy=49.09: 100%|██████████| 196/196 [02:37<00:00,  1.25it/s]\n",
      "Loss=2.0726828575134277 Batch_id=195 Accuracy=49.28: 100%|██████████| 196/196 [02:37<00:00,  1.25it/s]\n",
      "Loss=1.9186350107192993 Batch_id=195 Accuracy=49.40: 100%|██████████| 196/196 [02:36<00:00,  1.25it/s]\n"
     ]
    },
    {
     "name": "stdout",
     "output_type": "stream",
     "text": [
      "Epoch 00008: reducing learning rate of group 0 to 5.0000e-04.\n"
     ]
    },
    {
     "name": "stderr",
     "output_type": "stream",
     "text": [
      "Loss=1.7192609310150146 Batch_id=195 Accuracy=51.48: 100%|██████████| 196/196 [02:36<00:00,  1.25it/s]\n",
      "Loss=1.7922827005386353 Batch_id=195 Accuracy=52.25: 100%|██████████| 196/196 [02:36<00:00,  1.25it/s]\n"
     ]
    },
    {
     "name": "stdout",
     "output_type": "stream",
     "text": [
      "Test set: Average loss: 1.9609, Accuracy: 2653/5000 (53.06%)\n",
      "\n",
      "--Skipping Acc Comp For Corrupted Data--\n",
      "Global Sparsity: 97.77% \n",
      "\n",
      "---------- Pruning Iteration:  42 / 44\n"
     ]
    },
    {
     "name": "stderr",
     "output_type": "stream",
     "text": [
      "Loss=2.13150954246521 Batch_id=195 Accuracy=47.49: 100%|██████████| 196/196 [02:36<00:00,  1.25it/s]  \n",
      "Loss=2.351722240447998 Batch_id=195 Accuracy=47.80: 100%|██████████| 196/196 [02:36<00:00,  1.25it/s] \n",
      "Loss=2.301316499710083 Batch_id=195 Accuracy=47.87: 100%|██████████| 196/196 [02:36<00:00,  1.25it/s] \n",
      "Loss=1.9138463735580444 Batch_id=195 Accuracy=48.07: 100%|██████████| 196/196 [02:36<00:00,  1.25it/s]\n",
      "Loss=2.148754358291626 Batch_id=195 Accuracy=47.90: 100%|██████████| 196/196 [02:36<00:00,  1.25it/s] \n",
      "Loss=2.0880088806152344 Batch_id=195 Accuracy=48.24: 100%|██████████| 196/196 [02:36<00:00,  1.25it/s]\n",
      "Loss=2.2196834087371826 Batch_id=195 Accuracy=48.17: 100%|██████████| 196/196 [02:36<00:00,  1.25it/s]\n"
     ]
    },
    {
     "name": "stdout",
     "output_type": "stream",
     "text": [
      "Epoch 00007: reducing learning rate of group 0 to 5.0000e-04.\n"
     ]
    },
    {
     "name": "stderr",
     "output_type": "stream",
     "text": [
      "Loss=1.8309160470962524 Batch_id=195 Accuracy=50.40: 100%|██████████| 196/196 [02:36<00:00,  1.25it/s]\n",
      "Loss=2.1535558700561523 Batch_id=195 Accuracy=50.98: 100%|██████████| 196/196 [02:36<00:00,  1.25it/s]\n",
      "Loss=2.0757222175598145 Batch_id=195 Accuracy=51.00: 100%|██████████| 196/196 [02:36<00:00,  1.25it/s]\n"
     ]
    },
    {
     "name": "stdout",
     "output_type": "stream",
     "text": [
      "Test set: Average loss: 1.9663, Accuracy: 2639/5000 (52.78%)\n",
      "\n",
      "--Skipping Acc Comp For Corrupted Data--\n",
      "Global Sparsity: 97.90% \n",
      "\n",
      "---------- Pruning Iteration:  43 / 44\n"
     ]
    },
    {
     "name": "stderr",
     "output_type": "stream",
     "text": [
      "Loss=2.099393367767334 Batch_id=195 Accuracy=46.52: 100%|██████████| 196/196 [02:36<00:00,  1.25it/s] \n",
      "Loss=2.1087260246276855 Batch_id=195 Accuracy=46.64: 100%|██████████| 196/196 [02:36<00:00,  1.25it/s]\n",
      "Loss=2.0800693035125732 Batch_id=195 Accuracy=46.62: 100%|██████████| 196/196 [02:36<00:00,  1.25it/s]\n",
      "Loss=2.0190787315368652 Batch_id=195 Accuracy=46.94: 100%|██████████| 196/196 [02:36<00:00,  1.25it/s]\n",
      "Loss=2.303766965866089 Batch_id=195 Accuracy=47.06: 100%|██████████| 196/196 [02:36<00:00,  1.25it/s] \n",
      "Loss=1.8391330242156982 Batch_id=195 Accuracy=47.03: 100%|██████████| 196/196 [02:36<00:00,  1.25it/s]\n",
      "Loss=2.307088851928711 Batch_id=195 Accuracy=46.96: 100%|██████████| 196/196 [02:36<00:00,  1.25it/s] \n",
      "Loss=1.805594801902771 Batch_id=195 Accuracy=47.10: 100%|██████████| 196/196 [02:36<00:00,  1.25it/s] \n",
      "Loss=2.0847110748291016 Batch_id=195 Accuracy=47.07: 100%|██████████| 196/196 [02:36<00:00,  1.25it/s]\n",
      "Loss=2.0965075492858887 Batch_id=195 Accuracy=47.32: 100%|██████████| 196/196 [02:36<00:00,  1.25it/s]\n"
     ]
    },
    {
     "name": "stdout",
     "output_type": "stream",
     "text": [
      "Test set: Average loss: 2.0494, Accuracy: 2535/5000 (50.70%)\n",
      "\n",
      "--Skipping Acc Comp For Corrupted Data--\n",
      "Global Sparsity: 98.02% \n",
      "\n",
      "---------- Pruning Iteration:  44 / 44\n"
     ]
    },
    {
     "name": "stderr",
     "output_type": "stream",
     "text": [
      "Loss=2.172996997833252 Batch_id=195 Accuracy=45.46: 100%|██████████| 196/196 [02:36<00:00,  1.25it/s] \n",
      "Loss=2.321074962615967 Batch_id=195 Accuracy=45.89: 100%|██████████| 196/196 [02:36<00:00,  1.25it/s] \n",
      "Loss=2.2090718746185303 Batch_id=195 Accuracy=45.73: 100%|██████████| 196/196 [02:36<00:00,  1.25it/s]\n",
      "Loss=2.3596012592315674 Batch_id=195 Accuracy=46.01: 100%|██████████| 196/196 [02:36<00:00,  1.25it/s]\n"
     ]
    },
    {
     "name": "stdout",
     "output_type": "stream",
     "text": [
      "Epoch 00004: reducing learning rate of group 0 to 5.0000e-04.\n"
     ]
    },
    {
     "name": "stderr",
     "output_type": "stream",
     "text": [
      "Loss=1.937646508216858 Batch_id=195 Accuracy=47.63: 100%|██████████| 196/196 [02:36<00:00,  1.25it/s] \n",
      "Loss=2.2124552726745605 Batch_id=195 Accuracy=48.58: 100%|██████████| 196/196 [02:36<00:00,  1.25it/s]\n",
      "Loss=2.036972761154175 Batch_id=195 Accuracy=48.57: 100%|██████████| 196/196 [02:36<00:00,  1.25it/s] \n",
      "Loss=2.100034713745117 Batch_id=195 Accuracy=48.66: 100%|██████████| 196/196 [02:36<00:00,  1.25it/s] \n"
     ]
    },
    {
     "name": "stdout",
     "output_type": "stream",
     "text": [
      "Epoch 00008: reducing learning rate of group 0 to 2.5000e-05.\n"
     ]
    },
    {
     "name": "stderr",
     "output_type": "stream",
     "text": [
      "Loss=2.151503801345825 Batch_id=195 Accuracy=48.93: 100%|██████████| 196/196 [02:36<00:00,  1.25it/s] \n",
      "Loss=2.053088665008545 Batch_id=195 Accuracy=48.92: 100%|██████████| 196/196 [02:36<00:00,  1.25it/s] \n"
     ]
    },
    {
     "name": "stdout",
     "output_type": "stream",
     "text": [
      "Test set: Average loss: 1.9921, Accuracy: 2587/5000 (51.74%)\n",
      "\n",
      "--Testing Corruptions--\n"
     ]
    },
    {
     "name": "stderr",
     "output_type": "stream",
     "text": [
      "100%|██████████| 19/19 [05:07<00:00, 16.20s/it]"
     ]
    },
    {
     "name": "stdout",
     "output_type": "stream",
     "text": [
      "\n",
      "Avg Corruption Accuracy: 24.60%\n",
      "Global Sparsity: 98.13% \n",
      "\n"
     ]
    },
    {
     "name": "stderr",
     "output_type": "stream",
     "text": [
      "\n"
     ]
    }
   ],
   "source": [
    "#Network weights\n",
    "ResNet18_TINYIMAGENET_Weights= torch.load(\"./Networks/ResNet18_TinyImagenet_V0_Adversarial_ep_05p.pt\")\n",
    "ResNet18_TINYIMAGENET_0P=ResNet18_TINYIMAGENET_Model()\n",
    "ResNet18_TINYIMAGENET_0P.load_state_dict(ResNet18_TINYIMAGENET_Weights)\n",
    "\n",
    "model=copy.deepcopy(ResNet18_TINYIMAGENET_0P)\n",
    "TrainLoader=trainloader_TINYIMAGENET\n",
    "TestLoader=testloader_TINYIMAGENET\n",
    "TestCLoader=TiniyImageNetCLevel_Loader\n",
    "\n",
    "PruningRate=0.1\n",
    "NumEpochsEachPruneRetrain=10\n",
    "MaximumPruneLevel=0.01\n",
    "lambda_l1=0\n",
    "lambda_l2=0.0005\n",
    "\n",
    "epsilon=0.005\n",
    "mean=MeanImagenet\n",
    "std=StdImagenet\n",
    "\n",
    "\n",
    "SaveTrainStepsName=\"Progress/PruningIterations_ResNet18_TiniyImageNet_V0_Adversarial_ep_05p_01PR_10Epochs_L2_0005\"\n",
    "\n",
    "\n",
    "ReadMe=\"This model is running pruning with the standard cost function, and the non corrupted dataset, a prunning rate of 0.1 and 10 epoch of retraining\\\n",
    "L2 Regularization of 0.0005 is used\\n\\nOriginal Model: ResNet18 Trained with TinyImagenet Dataset with Adversarial training (Before and During Pruning) with epsilon=0.005\\n\"\n",
    "\n",
    "test_acc, Avg_Corrup_Acc_List, Acc_Corruptions, RemainingWeights_List, Sparcity_List=iterative_pruning(model,device, TrainLoader, TestLoader, TestCLoader, PruningRate, SaveTrainStepsName,ReadMe,\n",
    "                                                                                                         epsilon, mean, std, lambda_l1, lambda_l2, NumEpochsEachPruneRetrain,MaximumPruneLevel)"
   ]
  },
  {
   "cell_type": "code",
   "execution_count": 11,
   "metadata": {},
   "outputs": [
    {
     "name": "stdout",
     "output_type": "stream",
     "text": [
      "--Get statistics before pruning--\n",
      "Train set: Average loss: 0.8718, Accuracy: 80089/100000 (80.09%)\n",
      "Test set: Average loss: 1.8305, Accuracy: 2814/5000 (56.28%)\n",
      "\n",
      "--Testing Corruptions--\n"
     ]
    },
    {
     "name": "stderr",
     "output_type": "stream",
     "text": [
      "100%|██████████| 19/19 [05:21<00:00, 16.90s/it]\n"
     ]
    },
    {
     "name": "stdout",
     "output_type": "stream",
     "text": [
      "\n",
      "Avg Corruption Accuracy: 29.74%\n",
      "---------- Pruning Iteration:  1 / 44\n"
     ]
    },
    {
     "name": "stderr",
     "output_type": "stream",
     "text": [
      "Loss=2.0478098392486572 Batch_id=195 Accuracy=48.88: 100%|██████████| 196/196 [02:38<00:00,  1.24it/s]\n",
      "Loss=1.8379237651824951 Batch_id=195 Accuracy=48.83: 100%|██████████| 196/196 [02:38<00:00,  1.24it/s]\n",
      "Loss=1.9673925638198853 Batch_id=195 Accuracy=49.49: 100%|██████████| 196/196 [02:38<00:00,  1.24it/s]\n",
      "Loss=2.023958444595337 Batch_id=195 Accuracy=50.01: 100%|██████████| 196/196 [02:38<00:00,  1.24it/s] \n",
      "Loss=2.0260443687438965 Batch_id=195 Accuracy=50.36: 100%|██████████| 196/196 [02:38<00:00,  1.24it/s]\n"
     ]
    },
    {
     "name": "stdout",
     "output_type": "stream",
     "text": [
      "Epoch 00005: reducing learning rate of group 0 to 5.0000e-04.\n"
     ]
    },
    {
     "name": "stderr",
     "output_type": "stream",
     "text": [
      "Loss=1.6030194759368896 Batch_id=195 Accuracy=54.83: 100%|██████████| 196/196 [02:38<00:00,  1.24it/s]\n",
      "Loss=1.684220552444458 Batch_id=195 Accuracy=56.10: 100%|██████████| 196/196 [02:38<00:00,  1.24it/s] \n",
      "Loss=1.5947577953338623 Batch_id=195 Accuracy=56.57: 100%|██████████| 196/196 [02:38<00:00,  1.24it/s]\n",
      "Loss=1.6551225185394287 Batch_id=195 Accuracy=56.75: 100%|██████████| 196/196 [02:38<00:00,  1.23it/s]\n",
      "Loss=1.693772554397583 Batch_id=195 Accuracy=56.99: 100%|██████████| 196/196 [02:38<00:00,  1.24it/s] \n"
     ]
    },
    {
     "name": "stdout",
     "output_type": "stream",
     "text": [
      "Test set: Average loss: 1.8205, Accuracy: 2820/5000 (56.40%)\n",
      "\n",
      "--Testing Corruptions--\n"
     ]
    },
    {
     "name": "stderr",
     "output_type": "stream",
     "text": [
      "100%|██████████| 19/19 [05:23<00:00, 17.03s/it]\n"
     ]
    },
    {
     "name": "stdout",
     "output_type": "stream",
     "text": [
      "\n",
      "Avg Corruption Accuracy: 29.83%\n",
      "Global Sparsity: 9.91% \n",
      "\n",
      "---------- Pruning Iteration:  2 / 44\n"
     ]
    },
    {
     "name": "stderr",
     "output_type": "stream",
     "text": [
      "Loss=1.9274924993515015 Batch_id=195 Accuracy=52.01: 100%|██████████| 196/196 [02:38<00:00,  1.24it/s]\n",
      "Loss=1.774097204208374 Batch_id=195 Accuracy=51.98: 100%|██████████| 196/196 [02:38<00:00,  1.24it/s] \n",
      "Loss=1.8678538799285889 Batch_id=195 Accuracy=52.41: 100%|██████████| 196/196 [02:38<00:00,  1.23it/s]\n",
      "Loss=1.9122955799102783 Batch_id=195 Accuracy=52.76: 100%|██████████| 196/196 [02:38<00:00,  1.23it/s]\n",
      "Loss=1.7137491703033447 Batch_id=195 Accuracy=53.33: 100%|██████████| 196/196 [02:38<00:00,  1.23it/s]\n",
      "Loss=1.7234489917755127 Batch_id=195 Accuracy=53.59: 100%|██████████| 196/196 [02:38<00:00,  1.23it/s]\n",
      "Loss=1.7266050577163696 Batch_id=195 Accuracy=53.86: 100%|██████████| 196/196 [02:38<00:00,  1.24it/s]\n",
      "Loss=1.779874563217163 Batch_id=195 Accuracy=54.39: 100%|██████████| 196/196 [02:38<00:00,  1.24it/s] \n"
     ]
    },
    {
     "name": "stdout",
     "output_type": "stream",
     "text": [
      "Epoch 00008: reducing learning rate of group 0 to 5.0000e-04.\n"
     ]
    },
    {
     "name": "stderr",
     "output_type": "stream",
     "text": [
      "Loss=1.559828758239746 Batch_id=195 Accuracy=59.05: 100%|██████████| 196/196 [02:38<00:00,  1.23it/s] \n",
      "Loss=1.5119836330413818 Batch_id=195 Accuracy=60.70: 100%|██████████| 196/196 [02:38<00:00,  1.23it/s]\n"
     ]
    },
    {
     "name": "stdout",
     "output_type": "stream",
     "text": [
      "Test set: Average loss: 1.8113, Accuracy: 2847/5000 (56.94%)\n",
      "\n",
      "--Testing Corruptions--\n"
     ]
    },
    {
     "name": "stderr",
     "output_type": "stream",
     "text": [
      "100%|██████████| 19/19 [05:28<00:00, 17.27s/it]\n"
     ]
    },
    {
     "name": "stdout",
     "output_type": "stream",
     "text": [
      "\n",
      "Avg Corruption Accuracy: 30.87%\n",
      "Global Sparsity: 18.83% \n",
      "\n",
      "---------- Pruning Iteration:  3 / 44\n"
     ]
    },
    {
     "name": "stderr",
     "output_type": "stream",
     "text": [
      "Loss=1.7538108825683594 Batch_id=195 Accuracy=55.84: 100%|██████████| 196/196 [02:38<00:00,  1.24it/s]\n",
      "Loss=1.753968596458435 Batch_id=195 Accuracy=55.84: 100%|██████████| 196/196 [02:38<00:00,  1.23it/s] \n",
      "Loss=1.5499165058135986 Batch_id=195 Accuracy=56.37: 100%|██████████| 196/196 [02:38<00:00,  1.23it/s]\n",
      "Loss=1.4687879085540771 Batch_id=195 Accuracy=56.61: 100%|██████████| 196/196 [02:38<00:00,  1.23it/s]\n",
      "Loss=1.519700527191162 Batch_id=195 Accuracy=56.79: 100%|██████████| 196/196 [02:38<00:00,  1.23it/s] \n",
      "Loss=1.6624557971954346 Batch_id=195 Accuracy=57.20: 100%|██████████| 196/196 [02:38<00:00,  1.23it/s]\n",
      "Loss=1.6217048168182373 Batch_id=195 Accuracy=57.45: 100%|██████████| 196/196 [02:39<00:00,  1.23it/s]\n"
     ]
    },
    {
     "name": "stdout",
     "output_type": "stream",
     "text": [
      "Epoch 00007: reducing learning rate of group 0 to 5.0000e-04.\n"
     ]
    },
    {
     "name": "stderr",
     "output_type": "stream",
     "text": [
      "Loss=1.3737584352493286 Batch_id=195 Accuracy=62.70: 100%|██████████| 196/196 [02:39<00:00,  1.23it/s]\n",
      "Loss=1.4810245037078857 Batch_id=195 Accuracy=64.27: 100%|██████████| 196/196 [02:38<00:00,  1.23it/s]\n",
      "Loss=1.3413691520690918 Batch_id=195 Accuracy=64.92: 100%|██████████| 196/196 [02:38<00:00,  1.23it/s]\n"
     ]
    },
    {
     "name": "stdout",
     "output_type": "stream",
     "text": [
      "Test set: Average loss: 1.8194, Accuracy: 2835/5000 (56.70%)\n",
      "\n",
      "--Testing Corruptions--\n"
     ]
    },
    {
     "name": "stderr",
     "output_type": "stream",
     "text": [
      "100%|██████████| 19/19 [05:37<00:00, 17.78s/it]\n"
     ]
    },
    {
     "name": "stdout",
     "output_type": "stream",
     "text": [
      "\n",
      "Avg Corruption Accuracy: 29.87%\n",
      "Global Sparsity: 26.85% \n",
      "\n",
      "---------- Pruning Iteration:  4 / 44\n"
     ]
    },
    {
     "name": "stderr",
     "output_type": "stream",
     "text": [
      "Loss=1.4802205562591553 Batch_id=195 Accuracy=59.11: 100%|██████████| 196/196 [02:39<00:00,  1.23it/s]\n",
      "Loss=1.3076192140579224 Batch_id=195 Accuracy=58.82: 100%|██████████| 196/196 [02:39<00:00,  1.23it/s]\n",
      "Loss=1.666516661643982 Batch_id=195 Accuracy=59.38: 100%|██████████| 196/196 [02:39<00:00,  1.23it/s] \n",
      "Loss=1.5215619802474976 Batch_id=195 Accuracy=59.41: 100%|██████████| 196/196 [02:39<00:00,  1.23it/s]\n",
      "Loss=1.5231983661651611 Batch_id=195 Accuracy=60.05: 100%|██████████| 196/196 [02:39<00:00,  1.23it/s]\n"
     ]
    },
    {
     "name": "stdout",
     "output_type": "stream",
     "text": [
      "Epoch 00005: reducing learning rate of group 0 to 5.0000e-04.\n"
     ]
    },
    {
     "name": "stderr",
     "output_type": "stream",
     "text": [
      "Loss=1.168074369430542 Batch_id=195 Accuracy=65.26: 100%|██████████| 196/196 [02:38<00:00,  1.23it/s] \n",
      "Loss=1.2940683364868164 Batch_id=195 Accuracy=67.08: 100%|██████████| 196/196 [02:38<00:00,  1.23it/s]\n",
      "Loss=1.2785389423370361 Batch_id=195 Accuracy=67.49: 100%|██████████| 196/196 [02:39<00:00,  1.23it/s]\n",
      "Loss=1.1778314113616943 Batch_id=195 Accuracy=67.82: 100%|██████████| 196/196 [02:39<00:00,  1.23it/s]\n"
     ]
    },
    {
     "name": "stdout",
     "output_type": "stream",
     "text": [
      "Epoch 00009: reducing learning rate of group 0 to 2.5000e-05.\n"
     ]
    },
    {
     "name": "stderr",
     "output_type": "stream",
     "text": [
      "Loss=1.081538438796997 Batch_id=195 Accuracy=68.38: 100%|██████████| 196/196 [02:39<00:00,  1.23it/s] \n"
     ]
    },
    {
     "name": "stdout",
     "output_type": "stream",
     "text": [
      "Test set: Average loss: 1.8180, Accuracy: 2833/5000 (56.66%)\n",
      "\n",
      "--Skipping Acc Comp For Corrupted Data--\n",
      "Global Sparsity: 34.08% \n",
      "\n",
      "---------- Pruning Iteration:  5 / 44\n"
     ]
    },
    {
     "name": "stderr",
     "output_type": "stream",
     "text": [
      "Loss=1.5009554624557495 Batch_id=195 Accuracy=61.52: 100%|██████████| 196/196 [02:38<00:00,  1.23it/s]\n",
      "Loss=1.468534231185913 Batch_id=195 Accuracy=61.17: 100%|██████████| 196/196 [02:39<00:00,  1.23it/s] \n",
      "Loss=1.5724750757217407 Batch_id=195 Accuracy=61.52: 100%|██████████| 196/196 [02:39<00:00,  1.23it/s]\n",
      "Loss=1.5687023401260376 Batch_id=195 Accuracy=61.79: 100%|██████████| 196/196 [02:38<00:00,  1.23it/s]\n",
      "Loss=1.396026611328125 Batch_id=195 Accuracy=62.17: 100%|██████████| 196/196 [02:39<00:00,  1.23it/s] \n",
      "Loss=1.4721370935440063 Batch_id=195 Accuracy=62.42: 100%|██████████| 196/196 [02:38<00:00,  1.23it/s]\n",
      "Loss=1.3427398204803467 Batch_id=195 Accuracy=62.61: 100%|██████████| 196/196 [02:39<00:00,  1.23it/s]\n",
      "Loss=1.3143137693405151 Batch_id=195 Accuracy=63.13: 100%|██████████| 196/196 [02:38<00:00,  1.23it/s]\n",
      "Loss=1.4273335933685303 Batch_id=195 Accuracy=63.03: 100%|██████████| 196/196 [02:38<00:00,  1.24it/s]\n",
      "Loss=1.1558952331542969 Batch_id=195 Accuracy=63.13: 100%|██████████| 196/196 [02:39<00:00,  1.23it/s]\n"
     ]
    },
    {
     "name": "stdout",
     "output_type": "stream",
     "text": [
      "Test set: Average loss: 1.9775, Accuracy: 2692/5000 (53.84%)\n",
      "\n",
      "--Testing Corruptions--\n"
     ]
    },
    {
     "name": "stderr",
     "output_type": "stream",
     "text": [
      "100%|██████████| 19/19 [05:39<00:00, 17.85s/it]\n"
     ]
    },
    {
     "name": "stdout",
     "output_type": "stream",
     "text": [
      "\n",
      "Avg Corruption Accuracy: 28.69%\n",
      "Global Sparsity: 40.58% \n",
      "\n",
      "---------- Pruning Iteration:  6 / 44\n"
     ]
    },
    {
     "name": "stderr",
     "output_type": "stream",
     "text": [
      "Loss=1.3005435466766357 Batch_id=195 Accuracy=64.11: 100%|██████████| 196/196 [02:39<00:00,  1.23it/s]\n",
      "Loss=1.327677845954895 Batch_id=195 Accuracy=64.62: 100%|██████████| 196/196 [02:39<00:00,  1.23it/s] \n",
      "Loss=1.5232045650482178 Batch_id=195 Accuracy=65.03: 100%|██████████| 196/196 [02:39<00:00,  1.23it/s]\n",
      "Loss=1.3388261795043945 Batch_id=195 Accuracy=65.27: 100%|██████████| 196/196 [02:39<00:00,  1.23it/s]\n"
     ]
    },
    {
     "name": "stdout",
     "output_type": "stream",
     "text": [
      "Epoch 00004: reducing learning rate of group 0 to 5.0000e-04.\n"
     ]
    },
    {
     "name": "stderr",
     "output_type": "stream",
     "text": [
      "Loss=1.2755553722381592 Batch_id=195 Accuracy=71.15: 100%|██████████| 196/196 [02:39<00:00,  1.23it/s]\n",
      "Loss=1.074308156967163 Batch_id=195 Accuracy=73.07: 100%|██████████| 196/196 [02:39<00:00,  1.23it/s] \n",
      "Loss=1.1587215662002563 Batch_id=195 Accuracy=73.58: 100%|██████████| 196/196 [02:39<00:00,  1.23it/s]\n",
      "Loss=0.9592413902282715 Batch_id=195 Accuracy=74.10: 100%|██████████| 196/196 [02:39<00:00,  1.23it/s]\n",
      "Loss=1.0947191715240479 Batch_id=195 Accuracy=74.49: 100%|██████████| 196/196 [02:39<00:00,  1.23it/s]\n",
      "Loss=0.970001220703125 Batch_id=195 Accuracy=74.63: 100%|██████████| 196/196 [02:39<00:00,  1.23it/s] \n"
     ]
    },
    {
     "name": "stdout",
     "output_type": "stream",
     "text": [
      "Test set: Average loss: 1.8606, Accuracy: 2788/5000 (55.76%)\n",
      "\n",
      "--Skipping Acc Comp For Corrupted Data--\n",
      "Global Sparsity: 46.43% \n",
      "\n",
      "---------- Pruning Iteration:  7 / 44\n"
     ]
    },
    {
     "name": "stderr",
     "output_type": "stream",
     "text": [
      "Loss=1.372729778289795 Batch_id=195 Accuracy=66.39: 100%|██████████| 196/196 [02:39<00:00,  1.23it/s] \n",
      "Loss=1.3850653171539307 Batch_id=195 Accuracy=66.57: 100%|██████████| 196/196 [02:39<00:00,  1.23it/s]\n",
      "Loss=1.2080073356628418 Batch_id=195 Accuracy=66.63: 100%|██████████| 196/196 [02:39<00:00,  1.23it/s]\n",
      "Loss=1.2644679546356201 Batch_id=195 Accuracy=66.92: 100%|██████████| 196/196 [02:39<00:00,  1.23it/s]\n",
      "Loss=1.1462593078613281 Batch_id=195 Accuracy=66.93: 100%|██████████| 196/196 [02:39<00:00,  1.23it/s]\n",
      "Loss=1.2801048755645752 Batch_id=195 Accuracy=67.25: 100%|██████████| 196/196 [02:39<00:00,  1.23it/s]\n",
      "Loss=1.262355089187622 Batch_id=195 Accuracy=67.70: 100%|██████████| 196/196 [02:39<00:00,  1.23it/s] \n",
      "Loss=1.2561511993408203 Batch_id=195 Accuracy=67.67: 100%|██████████| 196/196 [02:39<00:00,  1.23it/s]\n"
     ]
    },
    {
     "name": "stdout",
     "output_type": "stream",
     "text": [
      "Epoch 00008: reducing learning rate of group 0 to 5.0000e-04.\n"
     ]
    },
    {
     "name": "stderr",
     "output_type": "stream",
     "text": [
      "Loss=1.015718698501587 Batch_id=195 Accuracy=73.66: 100%|██████████| 196/196 [02:39<00:00,  1.23it/s] \n",
      "Loss=1.051918625831604 Batch_id=195 Accuracy=75.95: 100%|██████████| 196/196 [02:39<00:00,  1.23it/s] \n"
     ]
    },
    {
     "name": "stdout",
     "output_type": "stream",
     "text": [
      "Test set: Average loss: 1.8977, Accuracy: 2775/5000 (55.50%)\n",
      "\n",
      "--Testing Corruptions--\n"
     ]
    },
    {
     "name": "stderr",
     "output_type": "stream",
     "text": [
      "100%|██████████| 19/19 [05:44<00:00, 18.12s/it]\n"
     ]
    },
    {
     "name": "stdout",
     "output_type": "stream",
     "text": [
      "\n",
      "Avg Corruption Accuracy: 29.40%\n",
      "Global Sparsity: 51.70% \n",
      "\n",
      "---------- Pruning Iteration:  8 / 44\n"
     ]
    },
    {
     "name": "stderr",
     "output_type": "stream",
     "text": [
      "Loss=1.16221284866333 Batch_id=195 Accuracy=68.41: 100%|██████████| 196/196 [02:39<00:00,  1.23it/s]  \n",
      "Loss=1.2290403842926025 Batch_id=195 Accuracy=68.59: 100%|██████████| 196/196 [02:39<00:00,  1.23it/s]\n",
      "Loss=1.2501730918884277 Batch_id=195 Accuracy=68.78: 100%|██████████| 196/196 [02:39<00:00,  1.23it/s]\n",
      "Loss=1.276572346687317 Batch_id=195 Accuracy=68.94: 100%|██████████| 196/196 [02:39<00:00,  1.23it/s] \n"
     ]
    },
    {
     "name": "stdout",
     "output_type": "stream",
     "text": [
      "Epoch 00004: reducing learning rate of group 0 to 5.0000e-04.\n"
     ]
    },
    {
     "name": "stderr",
     "output_type": "stream",
     "text": [
      "Loss=1.0589947700500488 Batch_id=195 Accuracy=75.38: 100%|██████████| 196/196 [02:39<00:00,  1.23it/s]\n",
      "Loss=0.9806845784187317 Batch_id=195 Accuracy=77.36: 100%|██████████| 196/196 [02:39<00:00,  1.23it/s]\n",
      "Loss=1.041459321975708 Batch_id=195 Accuracy=77.89: 100%|██████████| 196/196 [02:39<00:00,  1.23it/s] \n",
      "Loss=0.8001011610031128 Batch_id=195 Accuracy=78.36: 100%|██████████| 196/196 [02:39<00:00,  1.23it/s]\n",
      "Loss=0.7692579627037048 Batch_id=195 Accuracy=78.75: 100%|██████████| 196/196 [02:39<00:00,  1.23it/s]\n",
      "Loss=0.8463441133499146 Batch_id=195 Accuracy=78.67: 100%|██████████| 196/196 [02:39<00:00,  1.23it/s]\n"
     ]
    },
    {
     "name": "stdout",
     "output_type": "stream",
     "text": [
      "Test set: Average loss: 1.9161, Accuracy: 2768/5000 (55.36%)\n",
      "\n",
      "--Skipping Acc Comp For Corrupted Data--\n",
      "Global Sparsity: 56.44% \n",
      "\n",
      "---------- Pruning Iteration:  9 / 44\n"
     ]
    },
    {
     "name": "stderr",
     "output_type": "stream",
     "text": [
      "Loss=1.0835648775100708 Batch_id=195 Accuracy=69.92: 100%|██████████| 196/196 [02:39<00:00,  1.23it/s]\n",
      "Loss=0.9784514307975769 Batch_id=195 Accuracy=69.77: 100%|██████████| 196/196 [02:39<00:00,  1.23it/s]\n",
      "Loss=1.3395326137542725 Batch_id=195 Accuracy=70.05: 100%|██████████| 196/196 [02:39<00:00,  1.23it/s]\n",
      "Loss=1.1406095027923584 Batch_id=195 Accuracy=70.40: 100%|██████████| 196/196 [02:39<00:00,  1.23it/s]\n",
      "Loss=1.2324798107147217 Batch_id=195 Accuracy=70.67: 100%|██████████| 196/196 [02:39<00:00,  1.23it/s]\n"
     ]
    },
    {
     "name": "stdout",
     "output_type": "stream",
     "text": [
      "Epoch 00005: reducing learning rate of group 0 to 5.0000e-04.\n"
     ]
    },
    {
     "name": "stderr",
     "output_type": "stream",
     "text": [
      "Loss=0.7713525295257568 Batch_id=195 Accuracy=76.53: 100%|██████████| 196/196 [02:39<00:00,  1.23it/s]\n",
      "Loss=0.857813835144043 Batch_id=195 Accuracy=78.69: 100%|██████████| 196/196 [02:39<00:00,  1.23it/s] \n",
      "Loss=0.8825415372848511 Batch_id=195 Accuracy=79.41: 100%|██████████| 196/196 [02:38<00:00,  1.23it/s]\n",
      "Loss=0.8674248456954956 Batch_id=195 Accuracy=79.68: 100%|██████████| 196/196 [02:39<00:00,  1.23it/s]\n"
     ]
    },
    {
     "name": "stdout",
     "output_type": "stream",
     "text": [
      "Epoch 00009: reducing learning rate of group 0 to 2.5000e-05.\n"
     ]
    },
    {
     "name": "stderr",
     "output_type": "stream",
     "text": [
      "Loss=0.7905696630477905 Batch_id=195 Accuracy=80.28: 100%|██████████| 196/196 [02:39<00:00,  1.23it/s]\n"
     ]
    },
    {
     "name": "stdout",
     "output_type": "stream",
     "text": [
      "Test set: Average loss: 1.9372, Accuracy: 2760/5000 (55.20%)\n",
      "\n",
      "--Testing Corruptions--\n"
     ]
    },
    {
     "name": "stderr",
     "output_type": "stream",
     "text": [
      "100%|██████████| 19/19 [05:49<00:00, 18.39s/it]\n"
     ]
    },
    {
     "name": "stdout",
     "output_type": "stream",
     "text": [
      "\n",
      "Avg Corruption Accuracy: 29.01%\n",
      "Global Sparsity: 60.70% \n",
      "\n",
      "---------- Pruning Iteration:  10 / 44\n"
     ]
    },
    {
     "name": "stderr",
     "output_type": "stream",
     "text": [
      "Loss=1.137596845626831 Batch_id=195 Accuracy=70.50: 100%|██████████| 196/196 [02:39<00:00,  1.23it/s] \n",
      "Loss=1.1848312616348267 Batch_id=195 Accuracy=71.02: 100%|██████████| 196/196 [02:39<00:00,  1.23it/s]\n",
      "Loss=1.0805240869522095 Batch_id=195 Accuracy=71.17: 100%|██████████| 196/196 [02:39<00:00,  1.23it/s]\n",
      "Loss=1.1243332624435425 Batch_id=195 Accuracy=71.56: 100%|██████████| 196/196 [02:39<00:00,  1.23it/s]\n",
      "Loss=1.1276955604553223 Batch_id=195 Accuracy=71.62: 100%|██████████| 196/196 [02:39<00:00,  1.23it/s]\n",
      "Loss=1.298617959022522 Batch_id=195 Accuracy=71.98: 100%|██████████| 196/196 [02:39<00:00,  1.23it/s] \n"
     ]
    },
    {
     "name": "stdout",
     "output_type": "stream",
     "text": [
      "Epoch 00006: reducing learning rate of group 0 to 5.0000e-04.\n"
     ]
    },
    {
     "name": "stderr",
     "output_type": "stream",
     "text": [
      "Loss=0.8265873789787292 Batch_id=195 Accuracy=78.06: 100%|██████████| 196/196 [02:39<00:00,  1.23it/s]\n",
      "Loss=0.9543525576591492 Batch_id=195 Accuracy=80.08: 100%|██████████| 196/196 [02:39<00:00,  1.23it/s]\n",
      "Loss=0.721950888633728 Batch_id=195 Accuracy=80.83: 100%|██████████| 196/196 [02:39<00:00,  1.23it/s] \n",
      "Loss=0.8496977686882019 Batch_id=195 Accuracy=81.06: 100%|██████████| 196/196 [02:39<00:00,  1.23it/s]\n"
     ]
    },
    {
     "name": "stdout",
     "output_type": "stream",
     "text": [
      "Test set: Average loss: 1.9647, Accuracy: 2726/5000 (54.52%)\n",
      "\n",
      "--Skipping Acc Comp For Corrupted Data--\n",
      "Global Sparsity: 64.54% \n",
      "\n",
      "---------- Pruning Iteration:  11 / 44\n"
     ]
    },
    {
     "name": "stderr",
     "output_type": "stream",
     "text": [
      "Loss=1.12713623046875 Batch_id=195 Accuracy=71.97: 100%|██████████| 196/196 [02:39<00:00,  1.23it/s]  \n",
      "Loss=1.2392501831054688 Batch_id=195 Accuracy=71.75: 100%|██████████| 196/196 [02:39<00:00,  1.23it/s]\n",
      "Loss=1.0852903127670288 Batch_id=195 Accuracy=72.39: 100%|██████████| 196/196 [02:39<00:00,  1.23it/s]\n",
      "Loss=1.1481317281723022 Batch_id=195 Accuracy=72.45: 100%|██████████| 196/196 [02:39<00:00,  1.23it/s]\n",
      "Loss=1.1637495756149292 Batch_id=195 Accuracy=72.79: 100%|██████████| 196/196 [02:39<00:00,  1.23it/s]\n",
      "Loss=1.0909335613250732 Batch_id=195 Accuracy=72.94: 100%|██████████| 196/196 [02:39<00:00,  1.23it/s]\n"
     ]
    },
    {
     "name": "stdout",
     "output_type": "stream",
     "text": [
      "Epoch 00006: reducing learning rate of group 0 to 5.0000e-04.\n"
     ]
    },
    {
     "name": "stderr",
     "output_type": "stream",
     "text": [
      "Loss=0.6831382513046265 Batch_id=195 Accuracy=79.14: 100%|██████████| 196/196 [02:39<00:00,  1.23it/s]\n",
      "Loss=0.8478266000747681 Batch_id=195 Accuracy=80.97: 100%|██████████| 196/196 [02:39<00:00,  1.23it/s]\n",
      "Loss=0.8677268028259277 Batch_id=195 Accuracy=81.74: 100%|██████████| 196/196 [02:39<00:00,  1.23it/s]\n",
      "Loss=0.7207555770874023 Batch_id=195 Accuracy=81.98: 100%|██████████| 196/196 [02:39<00:00,  1.23it/s]"
     ]
    },
    {
     "name": "stdout",
     "output_type": "stream",
     "text": [
      "Epoch 00010: reducing learning rate of group 0 to 2.5000e-05.\n"
     ]
    },
    {
     "name": "stderr",
     "output_type": "stream",
     "text": [
      "\n"
     ]
    },
    {
     "name": "stdout",
     "output_type": "stream",
     "text": [
      "Test set: Average loss: 1.9961, Accuracy: 2717/5000 (54.34%)\n",
      "\n",
      "--Testing Corruptions--\n"
     ]
    },
    {
     "name": "stderr",
     "output_type": "stream",
     "text": [
      "100%|██████████| 19/19 [05:54<00:00, 18.67s/it]\n"
     ]
    },
    {
     "name": "stdout",
     "output_type": "stream",
     "text": [
      "\n",
      "Avg Corruption Accuracy: 28.11%\n",
      "Global Sparsity: 68.00% \n",
      "\n",
      "---------- Pruning Iteration:  12 / 44\n"
     ]
    },
    {
     "name": "stderr",
     "output_type": "stream",
     "text": [
      "Loss=1.1818429231643677 Batch_id=195 Accuracy=72.25: 100%|██████████| 196/196 [02:39<00:00,  1.23it/s]\n",
      "Loss=0.9759756922721863 Batch_id=195 Accuracy=72.52: 100%|██████████| 196/196 [02:39<00:00,  1.23it/s]\n",
      "Loss=1.1041065454483032 Batch_id=195 Accuracy=72.97: 100%|██████████| 196/196 [02:39<00:00,  1.23it/s]\n",
      "Loss=1.0185450315475464 Batch_id=195 Accuracy=73.46: 100%|██████████| 196/196 [02:39<00:00,  1.23it/s]\n",
      "Loss=1.237133502960205 Batch_id=195 Accuracy=73.51: 100%|██████████| 196/196 [02:39<00:00,  1.23it/s] \n"
     ]
    },
    {
     "name": "stdout",
     "output_type": "stream",
     "text": [
      "Epoch 00005: reducing learning rate of group 0 to 5.0000e-04.\n"
     ]
    },
    {
     "name": "stderr",
     "output_type": "stream",
     "text": [
      "Loss=0.7697815895080566 Batch_id=195 Accuracy=79.53: 100%|██████████| 196/196 [02:39<00:00,  1.23it/s]\n",
      "Loss=0.7276326417922974 Batch_id=195 Accuracy=81.41: 100%|██████████| 196/196 [02:39<00:00,  1.23it/s]\n",
      "Loss=0.8786455392837524 Batch_id=195 Accuracy=82.25: 100%|██████████| 196/196 [02:39<00:00,  1.23it/s]\n",
      "Loss=0.6380726099014282 Batch_id=195 Accuracy=82.66: 100%|██████████| 196/196 [02:39<00:00,  1.23it/s]\n",
      "Loss=0.7559614777565002 Batch_id=195 Accuracy=83.00: 100%|██████████| 196/196 [02:39<00:00,  1.23it/s]\n"
     ]
    },
    {
     "name": "stdout",
     "output_type": "stream",
     "text": [
      "Test set: Average loss: 2.0009, Accuracy: 2725/5000 (54.50%)\n",
      "\n",
      "--Skipping Acc Comp For Corrupted Data--\n",
      "Global Sparsity: 71.10% \n",
      "\n",
      "---------- Pruning Iteration:  13 / 44\n"
     ]
    },
    {
     "name": "stderr",
     "output_type": "stream",
     "text": [
      "Loss=0.9907276034355164 Batch_id=195 Accuracy=72.87: 100%|██████████| 196/196 [02:39<00:00,  1.23it/s]\n",
      "Loss=0.8896691203117371 Batch_id=195 Accuracy=73.00: 100%|██████████| 196/196 [02:39<00:00,  1.23it/s]\n",
      "Loss=1.0310094356536865 Batch_id=195 Accuracy=73.24: 100%|██████████| 196/196 [02:39<00:00,  1.23it/s]\n",
      "Loss=0.9786198735237122 Batch_id=195 Accuracy=73.67: 100%|██████████| 196/196 [02:39<00:00,  1.23it/s]\n",
      "Loss=1.0653038024902344 Batch_id=195 Accuracy=73.69: 100%|██████████| 196/196 [02:39<00:00,  1.23it/s]\n"
     ]
    },
    {
     "name": "stdout",
     "output_type": "stream",
     "text": [
      "Epoch 00005: reducing learning rate of group 0 to 5.0000e-04.\n"
     ]
    },
    {
     "name": "stderr",
     "output_type": "stream",
     "text": [
      "Loss=0.7666810154914856 Batch_id=195 Accuracy=79.94: 100%|██████████| 196/196 [02:39<00:00,  1.23it/s]\n",
      "Loss=0.7784151434898376 Batch_id=195 Accuracy=81.86: 100%|██████████| 196/196 [02:39<00:00,  1.23it/s]\n",
      "Loss=0.6745941042900085 Batch_id=195 Accuracy=82.57: 100%|██████████| 196/196 [02:39<00:00,  1.23it/s]\n",
      "Loss=0.6584826707839966 Batch_id=195 Accuracy=82.91: 100%|██████████| 196/196 [02:39<00:00,  1.23it/s]\n",
      "Loss=0.6979811787605286 Batch_id=195 Accuracy=83.08: 100%|██████████| 196/196 [02:39<00:00,  1.23it/s]\n"
     ]
    },
    {
     "name": "stdout",
     "output_type": "stream",
     "text": [
      "Test set: Average loss: 2.0040, Accuracy: 2725/5000 (54.50%)\n",
      "\n",
      "--Skipping Acc Comp For Corrupted Data--\n",
      "Global Sparsity: 73.90% \n",
      "\n",
      "---------- Pruning Iteration:  14 / 44\n"
     ]
    },
    {
     "name": "stderr",
     "output_type": "stream",
     "text": [
      "Loss=1.0516709089279175 Batch_id=195 Accuracy=72.89: 100%|██████████| 196/196 [02:39<00:00,  1.23it/s]\n",
      "Loss=1.1848541498184204 Batch_id=195 Accuracy=73.03: 100%|██████████| 196/196 [02:39<00:00,  1.23it/s]\n",
      "Loss=1.142552375793457 Batch_id=195 Accuracy=73.60: 100%|██████████| 196/196 [02:39<00:00,  1.23it/s] \n",
      "Loss=1.0366804599761963 Batch_id=195 Accuracy=73.77: 100%|██████████| 196/196 [02:39<00:00,  1.23it/s]\n",
      "Loss=1.1167066097259521 Batch_id=195 Accuracy=73.77: 100%|██████████| 196/196 [02:39<00:00,  1.23it/s]\n",
      "Loss=1.1885855197906494 Batch_id=195 Accuracy=74.19: 100%|██████████| 196/196 [02:39<00:00,  1.23it/s]\n",
      "Loss=1.128809928894043 Batch_id=195 Accuracy=74.38: 100%|██████████| 196/196 [02:39<00:00,  1.23it/s] \n"
     ]
    },
    {
     "name": "stdout",
     "output_type": "stream",
     "text": [
      "Epoch 00007: reducing learning rate of group 0 to 5.0000e-04.\n"
     ]
    },
    {
     "name": "stderr",
     "output_type": "stream",
     "text": [
      "Loss=0.8132740259170532 Batch_id=195 Accuracy=80.21: 100%|██████████| 196/196 [02:39<00:00,  1.23it/s]\n",
      "Loss=0.8955148458480835 Batch_id=195 Accuracy=82.25: 100%|██████████| 196/196 [02:39<00:00,  1.23it/s]\n",
      "Loss=0.7297579646110535 Batch_id=195 Accuracy=83.06: 100%|██████████| 196/196 [02:39<00:00,  1.23it/s]\n"
     ]
    },
    {
     "name": "stdout",
     "output_type": "stream",
     "text": [
      "Test set: Average loss: 2.0123, Accuracy: 2731/5000 (54.62%)\n",
      "\n",
      "--Skipping Acc Comp For Corrupted Data--\n",
      "Global Sparsity: 76.42% \n",
      "\n",
      "---------- Pruning Iteration:  15 / 44\n"
     ]
    },
    {
     "name": "stderr",
     "output_type": "stream",
     "text": [
      "Loss=1.1196963787078857 Batch_id=195 Accuracy=72.84: 100%|██████████| 196/196 [02:39<00:00,  1.23it/s]\n",
      "Loss=1.0139161348342896 Batch_id=195 Accuracy=73.39: 100%|██████████| 196/196 [02:39<00:00,  1.23it/s]\n",
      "Loss=1.1030282974243164 Batch_id=195 Accuracy=73.73: 100%|██████████| 196/196 [02:39<00:00,  1.23it/s]\n",
      "Loss=0.9385159611701965 Batch_id=195 Accuracy=74.17: 100%|██████████| 196/196 [02:39<00:00,  1.23it/s]\n",
      "Loss=1.223308801651001 Batch_id=195 Accuracy=74.40: 100%|██████████| 196/196 [02:39<00:00,  1.23it/s] \n",
      "Loss=0.9518195390701294 Batch_id=195 Accuracy=73.87: 100%|██████████| 196/196 [02:39<00:00,  1.23it/s]\n",
      "Loss=1.2082167863845825 Batch_id=195 Accuracy=74.33: 100%|██████████| 196/196 [02:39<00:00,  1.23it/s]\n"
     ]
    },
    {
     "name": "stdout",
     "output_type": "stream",
     "text": [
      "Epoch 00007: reducing learning rate of group 0 to 5.0000e-04.\n"
     ]
    },
    {
     "name": "stderr",
     "output_type": "stream",
     "text": [
      "Loss=0.7929579615592957 Batch_id=195 Accuracy=80.14: 100%|██████████| 196/196 [02:39<00:00,  1.23it/s]\n",
      "Loss=0.7780817747116089 Batch_id=195 Accuracy=82.43: 100%|██████████| 196/196 [02:39<00:00,  1.23it/s]\n",
      "Loss=0.8149693608283997 Batch_id=195 Accuracy=82.94: 100%|██████████| 196/196 [02:39<00:00,  1.23it/s]\n"
     ]
    },
    {
     "name": "stdout",
     "output_type": "stream",
     "text": [
      "Test set: Average loss: 2.0311, Accuracy: 2710/5000 (54.20%)\n",
      "\n",
      "--Testing Corruptions--\n"
     ]
    },
    {
     "name": "stderr",
     "output_type": "stream",
     "text": [
      "100%|██████████| 19/19 [06:01<00:00, 19.04s/it]\n"
     ]
    },
    {
     "name": "stdout",
     "output_type": "stream",
     "text": [
      "\n",
      "Avg Corruption Accuracy: 27.75%\n",
      "Global Sparsity: 78.69% \n",
      "\n",
      "---------- Pruning Iteration:  16 / 44\n"
     ]
    },
    {
     "name": "stderr",
     "output_type": "stream",
     "text": [
      "Loss=1.1687567234039307 Batch_id=195 Accuracy=72.86: 100%|██████████| 196/196 [02:39<00:00,  1.23it/s]\n",
      "Loss=1.0553630590438843 Batch_id=195 Accuracy=73.18: 100%|██████████| 196/196 [02:39<00:00,  1.23it/s]\n",
      "Loss=1.0104587078094482 Batch_id=195 Accuracy=73.59: 100%|██████████| 196/196 [02:39<00:00,  1.23it/s]\n",
      "Loss=1.0768773555755615 Batch_id=195 Accuracy=74.09: 100%|██████████| 196/196 [02:39<00:00,  1.23it/s]\n",
      "Loss=1.0263900756835938 Batch_id=195 Accuracy=74.10: 100%|██████████| 196/196 [02:40<00:00,  1.22it/s]\n",
      "Loss=0.9224483370780945 Batch_id=195 Accuracy=74.20: 100%|██████████| 196/196 [02:40<00:00,  1.22it/s]\n",
      "Loss=1.0280382633209229 Batch_id=195 Accuracy=74.25: 100%|██████████| 196/196 [02:39<00:00,  1.23it/s]\n",
      "Loss=1.2080802917480469 Batch_id=195 Accuracy=74.55: 100%|██████████| 196/196 [02:40<00:00,  1.22it/s]\n",
      "Loss=0.9464279413223267 Batch_id=195 Accuracy=74.42: 100%|██████████| 196/196 [02:40<00:00,  1.22it/s]\n"
     ]
    },
    {
     "name": "stdout",
     "output_type": "stream",
     "text": [
      "Epoch 00009: reducing learning rate of group 0 to 5.0000e-04.\n"
     ]
    },
    {
     "name": "stderr",
     "output_type": "stream",
     "text": [
      "Loss=0.7522367835044861 Batch_id=195 Accuracy=80.39: 100%|██████████| 196/196 [02:39<00:00,  1.23it/s]\n"
     ]
    },
    {
     "name": "stdout",
     "output_type": "stream",
     "text": [
      "Test set: Average loss: 2.0543, Accuracy: 2672/5000 (53.44%)\n",
      "\n",
      "--Skipping Acc Comp For Corrupted Data--\n",
      "Global Sparsity: 80.73% \n",
      "\n",
      "---------- Pruning Iteration:  17 / 44\n"
     ]
    },
    {
     "name": "stderr",
     "output_type": "stream",
     "text": [
      "Loss=1.0339306592941284 Batch_id=195 Accuracy=72.24: 100%|██████████| 196/196 [02:39<00:00,  1.23it/s]\n",
      "Loss=1.3284895420074463 Batch_id=195 Accuracy=72.88: 100%|██████████| 196/196 [02:39<00:00,  1.23it/s]\n",
      "Loss=1.0519684553146362 Batch_id=195 Accuracy=73.33: 100%|██████████| 196/196 [02:40<00:00,  1.22it/s]\n",
      "Loss=1.032976746559143 Batch_id=195 Accuracy=73.83: 100%|██████████| 196/196 [02:40<00:00,  1.22it/s] \n",
      "Loss=1.1381902694702148 Batch_id=195 Accuracy=73.75: 100%|██████████| 196/196 [02:39<00:00,  1.23it/s]\n",
      "Loss=1.1343152523040771 Batch_id=195 Accuracy=74.28: 100%|██████████| 196/196 [02:40<00:00,  1.22it/s]\n",
      "Loss=0.9722010493278503 Batch_id=195 Accuracy=74.16: 100%|██████████| 196/196 [02:39<00:00,  1.23it/s]\n",
      "Loss=1.186458945274353 Batch_id=195 Accuracy=74.33: 100%|██████████| 196/196 [02:39<00:00,  1.23it/s] \n",
      "Loss=1.0669032335281372 Batch_id=195 Accuracy=74.12: 100%|██████████| 196/196 [02:39<00:00,  1.23it/s]\n",
      "Loss=0.9622179865837097 Batch_id=195 Accuracy=74.40: 100%|██████████| 196/196 [02:39<00:00,  1.23it/s]\n"
     ]
    },
    {
     "name": "stdout",
     "output_type": "stream",
     "text": [
      "Test set: Average loss: 2.1450, Accuracy: 2608/5000 (52.16%)\n",
      "\n",
      "--Skipping Acc Comp For Corrupted Data--\n",
      "Global Sparsity: 82.57% \n",
      "\n",
      "---------- Pruning Iteration:  18 / 44\n"
     ]
    },
    {
     "name": "stderr",
     "output_type": "stream",
     "text": [
      "Loss=1.073269009590149 Batch_id=195 Accuracy=71.31: 100%|██████████| 196/196 [02:39<00:00,  1.23it/s] \n",
      "Loss=1.0162489414215088 Batch_id=195 Accuracy=72.91: 100%|██████████| 196/196 [02:39<00:00,  1.23it/s]\n",
      "Loss=0.9095055460929871 Batch_id=195 Accuracy=73.45: 100%|██████████| 196/196 [02:39<00:00,  1.23it/s]\n",
      "Loss=0.934810996055603 Batch_id=195 Accuracy=73.50: 100%|██████████| 196/196 [02:39<00:00,  1.23it/s] \n",
      "Loss=1.0672705173492432 Batch_id=195 Accuracy=73.83: 100%|██████████| 196/196 [02:39<00:00,  1.23it/s]\n",
      "Loss=0.9693342447280884 Batch_id=195 Accuracy=73.83: 100%|██████████| 196/196 [02:39<00:00,  1.23it/s]\n"
     ]
    },
    {
     "name": "stdout",
     "output_type": "stream",
     "text": [
      "Epoch 00006: reducing learning rate of group 0 to 5.0000e-04.\n"
     ]
    },
    {
     "name": "stderr",
     "output_type": "stream",
     "text": [
      "Loss=0.738183856010437 Batch_id=195 Accuracy=79.70: 100%|██████████| 196/196 [02:39<00:00,  1.23it/s] \n",
      "Loss=0.7648717164993286 Batch_id=195 Accuracy=81.81: 100%|██████████| 196/196 [02:39<00:00,  1.23it/s]\n",
      "Loss=0.8971250653266907 Batch_id=195 Accuracy=82.32: 100%|██████████| 196/196 [02:39<00:00,  1.23it/s]\n",
      "Loss=0.8123510479927063 Batch_id=195 Accuracy=82.80: 100%|██████████| 196/196 [02:39<00:00,  1.23it/s]"
     ]
    },
    {
     "name": "stdout",
     "output_type": "stream",
     "text": [
      "Epoch 00010: reducing learning rate of group 0 to 2.5000e-05.\n"
     ]
    },
    {
     "name": "stderr",
     "output_type": "stream",
     "text": [
      "\n"
     ]
    },
    {
     "name": "stdout",
     "output_type": "stream",
     "text": [
      "Test set: Average loss: 2.0633, Accuracy: 2708/5000 (54.16%)\n",
      "\n",
      "--Skipping Acc Comp For Corrupted Data--\n",
      "Global Sparsity: 84.22% \n",
      "\n",
      "---------- Pruning Iteration:  19 / 44\n"
     ]
    },
    {
     "name": "stderr",
     "output_type": "stream",
     "text": [
      "Loss=0.8496001362800598 Batch_id=195 Accuracy=71.64: 100%|██████████| 196/196 [02:39<00:00,  1.23it/s]\n",
      "Loss=1.0070841312408447 Batch_id=195 Accuracy=72.16: 100%|██████████| 196/196 [02:39<00:00,  1.23it/s]\n",
      "Loss=1.1281815767288208 Batch_id=195 Accuracy=72.58: 100%|██████████| 196/196 [02:39<00:00,  1.23it/s]\n",
      "Loss=0.9572404623031616 Batch_id=195 Accuracy=72.56: 100%|██████████| 196/196 [02:39<00:00,  1.23it/s]\n"
     ]
    },
    {
     "name": "stdout",
     "output_type": "stream",
     "text": [
      "Epoch 00004: reducing learning rate of group 0 to 5.0000e-04.\n"
     ]
    },
    {
     "name": "stderr",
     "output_type": "stream",
     "text": [
      "Loss=0.9023207426071167 Batch_id=195 Accuracy=78.54: 100%|██████████| 196/196 [02:39<00:00,  1.23it/s]\n",
      "Loss=0.9272930026054382 Batch_id=195 Accuracy=80.80: 100%|██████████| 196/196 [02:39<00:00,  1.23it/s]\n",
      "Loss=0.8645722270011902 Batch_id=195 Accuracy=81.41: 100%|██████████| 196/196 [02:39<00:00,  1.23it/s]\n"
     ]
    },
    {
     "name": "stdout",
     "output_type": "stream",
     "text": [
      "Epoch 00007: reducing learning rate of group 0 to 2.5000e-05.\n"
     ]
    },
    {
     "name": "stderr",
     "output_type": "stream",
     "text": [
      "Loss=0.5857645273208618 Batch_id=195 Accuracy=81.63: 100%|██████████| 196/196 [02:39<00:00,  1.23it/s]\n",
      "Loss=0.7352458834648132 Batch_id=195 Accuracy=81.92: 100%|██████████| 196/196 [02:39<00:00,  1.23it/s]\n",
      "Loss=0.7888209223747253 Batch_id=195 Accuracy=81.89: 100%|██████████| 196/196 [02:39<00:00,  1.23it/s]\n"
     ]
    },
    {
     "name": "stdout",
     "output_type": "stream",
     "text": [
      "Test set: Average loss: 2.0597, Accuracy: 2680/5000 (53.60%)\n",
      "\n",
      "--Skipping Acc Comp For Corrupted Data--\n",
      "Global Sparsity: 85.71% \n",
      "\n",
      "---------- Pruning Iteration:  20 / 44\n"
     ]
    },
    {
     "name": "stderr",
     "output_type": "stream",
     "text": [
      "Loss=1.205815076828003 Batch_id=195 Accuracy=69.83: 100%|██████████| 196/196 [02:39<00:00,  1.23it/s] \n",
      "Loss=1.2306684255599976 Batch_id=195 Accuracy=70.60: 100%|██████████| 196/196 [02:39<00:00,  1.23it/s]\n",
      "Loss=1.0477100610733032 Batch_id=195 Accuracy=70.86: 100%|██████████| 196/196 [02:39<00:00,  1.23it/s]\n",
      "Loss=1.111466407775879 Batch_id=195 Accuracy=71.26: 100%|██████████| 196/196 [02:39<00:00,  1.23it/s] \n",
      "Loss=1.2676682472229004 Batch_id=195 Accuracy=71.50: 100%|██████████| 196/196 [02:39<00:00,  1.23it/s]\n",
      "Loss=1.0700585842132568 Batch_id=195 Accuracy=71.84: 100%|██████████| 196/196 [02:40<00:00,  1.22it/s]\n"
     ]
    },
    {
     "name": "stdout",
     "output_type": "stream",
     "text": [
      "Epoch 00006: reducing learning rate of group 0 to 5.0000e-04.\n"
     ]
    },
    {
     "name": "stderr",
     "output_type": "stream",
     "text": [
      "Loss=0.9103062748908997 Batch_id=195 Accuracy=77.32: 100%|██████████| 196/196 [02:39<00:00,  1.23it/s]\n",
      "Loss=0.8208180665969849 Batch_id=195 Accuracy=79.51: 100%|██████████| 196/196 [02:39<00:00,  1.23it/s]\n",
      "Loss=0.7076237201690674 Batch_id=195 Accuracy=80.17: 100%|██████████| 196/196 [02:39<00:00,  1.23it/s]\n",
      "Loss=0.8617283701896667 Batch_id=195 Accuracy=80.43: 100%|██████████| 196/196 [02:39<00:00,  1.23it/s]\n"
     ]
    },
    {
     "name": "stdout",
     "output_type": "stream",
     "text": [
      "Test set: Average loss: 2.0628, Accuracy: 2677/5000 (53.54%)\n",
      "\n",
      "--Skipping Acc Comp For Corrupted Data--\n",
      "Global Sparsity: 87.04% \n",
      "\n",
      "---------- Pruning Iteration:  21 / 44\n"
     ]
    },
    {
     "name": "stderr",
     "output_type": "stream",
     "text": [
      "Loss=0.9908831715583801 Batch_id=195 Accuracy=69.01: 100%|██████████| 196/196 [02:39<00:00,  1.23it/s]\n",
      "Loss=1.3406612873077393 Batch_id=195 Accuracy=69.61: 100%|██████████| 196/196 [02:39<00:00,  1.23it/s]\n",
      "Loss=1.385357141494751 Batch_id=195 Accuracy=70.04: 100%|██████████| 196/196 [02:39<00:00,  1.23it/s] \n",
      "Loss=1.0547358989715576 Batch_id=195 Accuracy=70.19: 100%|██████████| 196/196 [02:39<00:00,  1.23it/s]\n"
     ]
    },
    {
     "name": "stdout",
     "output_type": "stream",
     "text": [
      "Epoch 00004: reducing learning rate of group 0 to 5.0000e-04.\n"
     ]
    },
    {
     "name": "stderr",
     "output_type": "stream",
     "text": [
      "Loss=1.050536870956421 Batch_id=195 Accuracy=76.19: 100%|██████████| 196/196 [02:40<00:00,  1.22it/s] \n",
      "Loss=0.971877932548523 Batch_id=195 Accuracy=77.98: 100%|██████████| 196/196 [02:39<00:00,  1.23it/s] \n",
      "Loss=1.0411031246185303 Batch_id=195 Accuracy=78.69: 100%|██████████| 196/196 [02:39<00:00,  1.23it/s]\n",
      "Loss=0.9468113780021667 Batch_id=195 Accuracy=79.14: 100%|██████████| 196/196 [02:39<00:00,  1.23it/s]\n",
      "Loss=0.8489623069763184 Batch_id=195 Accuracy=79.49: 100%|██████████| 196/196 [02:39<00:00,  1.23it/s]\n",
      "Loss=0.9300652742385864 Batch_id=195 Accuracy=79.45: 100%|██████████| 196/196 [02:39<00:00,  1.23it/s]\n"
     ]
    },
    {
     "name": "stdout",
     "output_type": "stream",
     "text": [
      "Test set: Average loss: 2.0566, Accuracy: 2676/5000 (53.52%)\n",
      "\n",
      "--Skipping Acc Comp For Corrupted Data--\n",
      "Global Sparsity: 88.25% \n",
      "\n",
      "---------- Pruning Iteration:  22 / 44\n"
     ]
    },
    {
     "name": "stderr",
     "output_type": "stream",
     "text": [
      "Loss=1.393640160560608 Batch_id=195 Accuracy=67.34: 100%|██████████| 196/196 [02:39<00:00,  1.23it/s] \n",
      "Loss=1.3858823776245117 Batch_id=195 Accuracy=67.95: 100%|██████████| 196/196 [02:39<00:00,  1.23it/s]\n",
      "Loss=1.2267162799835205 Batch_id=195 Accuracy=68.80: 100%|██████████| 196/196 [02:40<00:00,  1.22it/s]\n",
      "Loss=1.1572883129119873 Batch_id=195 Accuracy=68.78: 100%|██████████| 196/196 [02:39<00:00,  1.23it/s]\n",
      "Loss=1.1958316564559937 Batch_id=195 Accuracy=68.85: 100%|██████████| 196/196 [02:39<00:00,  1.23it/s]\n",
      "Loss=1.1135579347610474 Batch_id=195 Accuracy=68.92: 100%|██████████| 196/196 [02:40<00:00,  1.22it/s]\n",
      "Loss=1.1990963220596313 Batch_id=195 Accuracy=69.28: 100%|██████████| 196/196 [02:40<00:00,  1.22it/s]\n",
      "Loss=1.290522813796997 Batch_id=195 Accuracy=69.27: 100%|██████████| 196/196 [02:39<00:00,  1.23it/s] \n",
      "Loss=1.301822304725647 Batch_id=195 Accuracy=69.27: 100%|██████████| 196/196 [02:39<00:00,  1.23it/s] \n"
     ]
    },
    {
     "name": "stdout",
     "output_type": "stream",
     "text": [
      "Epoch 00009: reducing learning rate of group 0 to 5.0000e-04.\n"
     ]
    },
    {
     "name": "stderr",
     "output_type": "stream",
     "text": [
      "Loss=0.793749213218689 Batch_id=195 Accuracy=75.06: 100%|██████████| 196/196 [02:39<00:00,  1.23it/s] \n"
     ]
    },
    {
     "name": "stdout",
     "output_type": "stream",
     "text": [
      "Test set: Average loss: 2.0512, Accuracy: 2694/5000 (53.88%)\n",
      "\n",
      "--Testing Corruptions--\n"
     ]
    },
    {
     "name": "stderr",
     "output_type": "stream",
     "text": [
      "100%|██████████| 19/19 [06:08<00:00, 19.38s/it]\n"
     ]
    },
    {
     "name": "stdout",
     "output_type": "stream",
     "text": [
      "\n",
      "Avg Corruption Accuracy: 26.77%\n",
      "Global Sparsity: 89.33% \n",
      "\n",
      "---------- Pruning Iteration:  23 / 44\n"
     ]
    },
    {
     "name": "stderr",
     "output_type": "stream",
     "text": [
      "Loss=1.343960165977478 Batch_id=195 Accuracy=66.26: 100%|██████████| 196/196 [02:39<00:00,  1.23it/s] \n",
      "Loss=1.340378999710083 Batch_id=195 Accuracy=67.11: 100%|██████████| 196/196 [02:40<00:00,  1.22it/s] \n",
      "Loss=1.3694562911987305 Batch_id=195 Accuracy=67.70: 100%|██████████| 196/196 [02:40<00:00,  1.22it/s]\n",
      "Loss=1.306130290031433 Batch_id=195 Accuracy=67.93: 100%|██████████| 196/196 [02:40<00:00,  1.22it/s] \n",
      "Loss=1.3799914121627808 Batch_id=195 Accuracy=67.91: 100%|██████████| 196/196 [02:39<00:00,  1.23it/s]\n",
      "Loss=1.2356640100479126 Batch_id=195 Accuracy=68.29: 100%|██████████| 196/196 [02:40<00:00,  1.22it/s]\n",
      "Loss=1.338880181312561 Batch_id=195 Accuracy=68.43: 100%|██████████| 196/196 [02:40<00:00,  1.22it/s] \n",
      "Loss=1.2467468976974487 Batch_id=195 Accuracy=68.32: 100%|██████████| 196/196 [02:40<00:00,  1.22it/s]\n",
      "Loss=1.598899006843567 Batch_id=195 Accuracy=68.40: 100%|██████████| 196/196 [02:40<00:00,  1.22it/s] \n"
     ]
    },
    {
     "name": "stdout",
     "output_type": "stream",
     "text": [
      "Epoch 00009: reducing learning rate of group 0 to 5.0000e-04.\n"
     ]
    },
    {
     "name": "stderr",
     "output_type": "stream",
     "text": [
      "Loss=1.0066097974777222 Batch_id=195 Accuracy=74.02: 100%|██████████| 196/196 [02:40<00:00,  1.22it/s]\n"
     ]
    },
    {
     "name": "stdout",
     "output_type": "stream",
     "text": [
      "Test set: Average loss: 2.0693, Accuracy: 2669/5000 (53.38%)\n",
      "\n",
      "--Skipping Acc Comp For Corrupted Data--\n",
      "Global Sparsity: 90.31% \n",
      "\n",
      "---------- Pruning Iteration:  24 / 44\n"
     ]
    },
    {
     "name": "stderr",
     "output_type": "stream",
     "text": [
      "Loss=1.226203441619873 Batch_id=195 Accuracy=65.29: 100%|██████████| 196/196 [02:39<00:00,  1.23it/s] \n",
      "Loss=1.2845690250396729 Batch_id=195 Accuracy=66.23: 100%|██████████| 196/196 [02:40<00:00,  1.22it/s]\n",
      "Loss=1.3724150657653809 Batch_id=195 Accuracy=66.55: 100%|██████████| 196/196 [02:40<00:00,  1.22it/s]\n",
      "Loss=1.437467098236084 Batch_id=195 Accuracy=66.63: 100%|██████████| 196/196 [02:40<00:00,  1.22it/s] \n"
     ]
    },
    {
     "name": "stdout",
     "output_type": "stream",
     "text": [
      "Epoch 00004: reducing learning rate of group 0 to 5.0000e-04.\n"
     ]
    },
    {
     "name": "stderr",
     "output_type": "stream",
     "text": [
      "Loss=1.120962381362915 Batch_id=195 Accuracy=72.27: 100%|██████████| 196/196 [02:40<00:00,  1.22it/s] \n",
      "Loss=1.217104434967041 Batch_id=195 Accuracy=74.17: 100%|██████████| 196/196 [02:40<00:00,  1.22it/s] \n",
      "Loss=1.0493671894073486 Batch_id=195 Accuracy=74.72: 100%|██████████| 196/196 [02:40<00:00,  1.22it/s]\n",
      "Loss=1.1582043170928955 Batch_id=195 Accuracy=75.19: 100%|██████████| 196/196 [02:40<00:00,  1.22it/s]\n",
      "Loss=1.1098170280456543 Batch_id=195 Accuracy=75.33: 100%|██████████| 196/196 [02:40<00:00,  1.22it/s]\n",
      "Loss=0.9453845024108887 Batch_id=195 Accuracy=75.37: 100%|██████████| 196/196 [02:40<00:00,  1.22it/s]\n"
     ]
    },
    {
     "name": "stdout",
     "output_type": "stream",
     "text": [
      "Test set: Average loss: 2.0458, Accuracy: 2691/5000 (53.82%)\n",
      "\n",
      "--Skipping Acc Comp For Corrupted Data--\n",
      "Global Sparsity: 91.19% \n",
      "\n",
      "---------- Pruning Iteration:  25 / 44\n"
     ]
    },
    {
     "name": "stderr",
     "output_type": "stream",
     "text": [
      "Loss=1.2695322036743164 Batch_id=195 Accuracy=63.32: 100%|██████████| 196/196 [02:40<00:00,  1.22it/s]\n",
      "Loss=1.422766923904419 Batch_id=195 Accuracy=64.10: 100%|██████████| 196/196 [02:40<00:00,  1.22it/s] \n",
      "Loss=1.4871923923492432 Batch_id=195 Accuracy=64.39: 100%|██████████| 196/196 [02:40<00:00,  1.22it/s]\n",
      "Loss=1.361348271369934 Batch_id=195 Accuracy=64.81: 100%|██████████| 196/196 [02:40<00:00,  1.22it/s] \n"
     ]
    },
    {
     "name": "stdout",
     "output_type": "stream",
     "text": [
      "Epoch 00004: reducing learning rate of group 0 to 5.0000e-04.\n"
     ]
    },
    {
     "name": "stderr",
     "output_type": "stream",
     "text": [
      "Loss=1.1560720205307007 Batch_id=195 Accuracy=70.30: 100%|██████████| 196/196 [02:40<00:00,  1.22it/s]\n",
      "Loss=1.1176527738571167 Batch_id=195 Accuracy=72.06: 100%|██████████| 196/196 [02:40<00:00,  1.22it/s]\n",
      "Loss=1.1126480102539062 Batch_id=195 Accuracy=72.57: 100%|██████████| 196/196 [02:40<00:00,  1.22it/s]\n",
      "Loss=1.1424953937530518 Batch_id=195 Accuracy=72.98: 100%|██████████| 196/196 [02:40<00:00,  1.22it/s]\n",
      "Loss=0.9654916524887085 Batch_id=195 Accuracy=73.27: 100%|██████████| 196/196 [02:40<00:00,  1.22it/s]\n",
      "Loss=1.1240694522857666 Batch_id=195 Accuracy=73.31: 100%|██████████| 196/196 [02:40<00:00,  1.22it/s]\n"
     ]
    },
    {
     "name": "stdout",
     "output_type": "stream",
     "text": [
      "Test set: Average loss: 2.0422, Accuracy: 2687/5000 (53.74%)\n",
      "\n",
      "--Skipping Acc Comp For Corrupted Data--\n",
      "Global Sparsity: 91.98% \n",
      "\n",
      "---------- Pruning Iteration:  26 / 44\n"
     ]
    },
    {
     "name": "stderr",
     "output_type": "stream",
     "text": [
      "Loss=1.576525092124939 Batch_id=195 Accuracy=61.47: 100%|██████████| 196/196 [02:39<00:00,  1.23it/s] \n",
      "Loss=1.4273655414581299 Batch_id=195 Accuracy=62.39: 100%|██████████| 196/196 [02:40<00:00,  1.22it/s]\n",
      "Loss=1.36117684841156 Batch_id=195 Accuracy=62.61: 100%|██████████| 196/196 [02:40<00:00,  1.22it/s]  \n",
      "Loss=1.458489179611206 Batch_id=195 Accuracy=62.80: 100%|██████████| 196/196 [02:40<00:00,  1.22it/s] \n",
      "Loss=1.443885087966919 Batch_id=195 Accuracy=63.11: 100%|██████████| 196/196 [02:40<00:00,  1.22it/s] \n",
      "Loss=1.366312026977539 Batch_id=195 Accuracy=63.09: 100%|██████████| 196/196 [02:39<00:00,  1.23it/s] \n"
     ]
    },
    {
     "name": "stdout",
     "output_type": "stream",
     "text": [
      "Epoch 00006: reducing learning rate of group 0 to 5.0000e-04.\n"
     ]
    },
    {
     "name": "stderr",
     "output_type": "stream",
     "text": [
      "Loss=1.147592544555664 Batch_id=195 Accuracy=68.49: 100%|██████████| 196/196 [02:40<00:00,  1.22it/s] \n",
      "Loss=1.198714017868042 Batch_id=195 Accuracy=70.41: 100%|██████████| 196/196 [02:39<00:00,  1.23it/s] \n",
      "Loss=1.0619616508483887 Batch_id=195 Accuracy=70.65: 100%|██████████| 196/196 [02:39<00:00,  1.23it/s]\n",
      "Loss=1.2387356758117676 Batch_id=195 Accuracy=71.03: 100%|██████████| 196/196 [02:40<00:00,  1.22it/s]\n"
     ]
    },
    {
     "name": "stdout",
     "output_type": "stream",
     "text": [
      "Test set: Average loss: 2.0380, Accuracy: 2694/5000 (53.88%)\n",
      "\n",
      "--Skipping Acc Comp For Corrupted Data--\n",
      "Global Sparsity: 92.69% \n",
      "\n",
      "---------- Pruning Iteration:  27 / 44\n"
     ]
    },
    {
     "name": "stderr",
     "output_type": "stream",
     "text": [
      "Loss=1.5607075691223145 Batch_id=195 Accuracy=60.07: 100%|██████████| 196/196 [02:40<00:00,  1.22it/s]\n",
      "Loss=1.6324727535247803 Batch_id=195 Accuracy=60.60: 100%|██████████| 196/196 [02:39<00:00,  1.23it/s]\n",
      "Loss=1.3640310764312744 Batch_id=195 Accuracy=60.91: 100%|██████████| 196/196 [02:39<00:00,  1.23it/s]\n",
      "Loss=1.5679388046264648 Batch_id=195 Accuracy=61.30: 100%|██████████| 196/196 [02:40<00:00,  1.22it/s]\n",
      "Loss=1.5454137325286865 Batch_id=195 Accuracy=61.61: 100%|██████████| 196/196 [02:40<00:00,  1.22it/s]\n",
      "Loss=1.4455088376998901 Batch_id=195 Accuracy=61.88: 100%|██████████| 196/196 [02:40<00:00,  1.22it/s]\n"
     ]
    },
    {
     "name": "stdout",
     "output_type": "stream",
     "text": [
      "Epoch 00006: reducing learning rate of group 0 to 5.0000e-04.\n"
     ]
    },
    {
     "name": "stderr",
     "output_type": "stream",
     "text": [
      "Loss=1.397446632385254 Batch_id=195 Accuracy=66.81: 100%|██████████| 196/196 [02:40<00:00,  1.22it/s] \n",
      "Loss=1.2719366550445557 Batch_id=195 Accuracy=68.22: 100%|██████████| 196/196 [02:40<00:00,  1.22it/s]\n",
      "Loss=1.307824730873108 Batch_id=195 Accuracy=68.83: 100%|██████████| 196/196 [02:40<00:00,  1.22it/s] \n",
      "Loss=1.141682744026184 Batch_id=195 Accuracy=69.16: 100%|██████████| 196/196 [02:40<00:00,  1.22it/s] \n"
     ]
    },
    {
     "name": "stdout",
     "output_type": "stream",
     "text": [
      "Test set: Average loss: 2.0292, Accuracy: 2680/5000 (53.60%)\n",
      "\n",
      "--Skipping Acc Comp For Corrupted Data--\n",
      "Global Sparsity: 93.33% \n",
      "\n",
      "---------- Pruning Iteration:  28 / 44\n"
     ]
    },
    {
     "name": "stderr",
     "output_type": "stream",
     "text": [
      "Loss=1.6554826498031616 Batch_id=195 Accuracy=58.87: 100%|██████████| 196/196 [02:39<00:00,  1.23it/s]\n",
      "Loss=1.398903489112854 Batch_id=195 Accuracy=59.14: 100%|██████████| 196/196 [02:40<00:00,  1.22it/s] \n",
      "Loss=1.6064393520355225 Batch_id=195 Accuracy=59.76: 100%|██████████| 196/196 [02:40<00:00,  1.22it/s]\n",
      "Loss=1.564650058746338 Batch_id=195 Accuracy=59.80: 100%|██████████| 196/196 [02:39<00:00,  1.23it/s] \n",
      "Loss=1.5328558683395386 Batch_id=195 Accuracy=59.81: 100%|██████████| 196/196 [02:40<00:00,  1.22it/s]\n"
     ]
    },
    {
     "name": "stdout",
     "output_type": "stream",
     "text": [
      "Epoch 00005: reducing learning rate of group 0 to 5.0000e-04.\n"
     ]
    },
    {
     "name": "stderr",
     "output_type": "stream",
     "text": [
      "Loss=1.4053475856781006 Batch_id=195 Accuracy=64.80: 100%|██████████| 196/196 [02:40<00:00,  1.22it/s]\n",
      "Loss=1.2952587604522705 Batch_id=195 Accuracy=66.17: 100%|██████████| 196/196 [02:40<00:00,  1.22it/s]\n",
      "Loss=1.2900547981262207 Batch_id=195 Accuracy=66.68: 100%|██████████| 196/196 [02:40<00:00,  1.22it/s]\n",
      "Loss=1.2049243450164795 Batch_id=195 Accuracy=67.11: 100%|██████████| 196/196 [02:40<00:00,  1.22it/s]\n",
      "Loss=1.4441635608673096 Batch_id=195 Accuracy=67.47: 100%|██████████| 196/196 [02:40<00:00,  1.22it/s]\n"
     ]
    },
    {
     "name": "stdout",
     "output_type": "stream",
     "text": [
      "Test set: Average loss: 2.0177, Accuracy: 2652/5000 (53.04%)\n",
      "\n",
      "--Testing Corruptions--\n"
     ]
    },
    {
     "name": "stderr",
     "output_type": "stream",
     "text": [
      "100%|██████████| 19/19 [06:14<00:00, 19.72s/it]\n"
     ]
    },
    {
     "name": "stdout",
     "output_type": "stream",
     "text": [
      "\n",
      "Avg Corruption Accuracy: 26.19%\n",
      "Global Sparsity: 93.90% \n",
      "\n",
      "---------- Pruning Iteration:  29 / 44\n"
     ]
    },
    {
     "name": "stderr",
     "output_type": "stream",
     "text": [
      "Loss=1.6953933238983154 Batch_id=195 Accuracy=56.93: 100%|██████████| 196/196 [02:40<00:00,  1.22it/s]\n",
      "Loss=1.639723539352417 Batch_id=195 Accuracy=57.55: 100%|██████████| 196/196 [02:40<00:00,  1.22it/s] \n",
      "Loss=1.6945321559906006 Batch_id=195 Accuracy=57.87: 100%|██████████| 196/196 [02:40<00:00,  1.22it/s]\n",
      "Loss=1.693359375 Batch_id=195 Accuracy=58.02: 100%|██████████| 196/196 [02:40<00:00,  1.22it/s]       \n",
      "Loss=1.7519416809082031 Batch_id=195 Accuracy=58.33: 100%|██████████| 196/196 [02:40<00:00,  1.22it/s]\n"
     ]
    },
    {
     "name": "stdout",
     "output_type": "stream",
     "text": [
      "Epoch 00005: reducing learning rate of group 0 to 5.0000e-04.\n"
     ]
    },
    {
     "name": "stderr",
     "output_type": "stream",
     "text": [
      "Loss=1.2909032106399536 Batch_id=195 Accuracy=62.67: 100%|██████████| 196/196 [02:40<00:00,  1.22it/s]\n",
      "Loss=1.4653862714767456 Batch_id=195 Accuracy=64.17: 100%|██████████| 196/196 [02:40<00:00,  1.22it/s]\n",
      "Loss=1.402012586593628 Batch_id=195 Accuracy=64.47: 100%|██████████| 196/196 [02:40<00:00,  1.22it/s] \n",
      "Loss=1.1256277561187744 Batch_id=195 Accuracy=64.89: 100%|██████████| 196/196 [02:40<00:00,  1.22it/s]\n",
      "Loss=1.4214590787887573 Batch_id=195 Accuracy=64.98: 100%|██████████| 196/196 [02:40<00:00,  1.22it/s]\n"
     ]
    },
    {
     "name": "stdout",
     "output_type": "stream",
     "text": [
      "Test set: Average loss: 2.0140, Accuracy: 2697/5000 (53.94%)\n",
      "\n",
      "--Skipping Acc Comp For Corrupted Data--\n",
      "Global Sparsity: 94.42% \n",
      "\n",
      "---------- Pruning Iteration:  30 / 44\n"
     ]
    },
    {
     "name": "stderr",
     "output_type": "stream",
     "text": [
      "Loss=1.6484512090682983 Batch_id=195 Accuracy=55.39: 100%|██████████| 196/196 [02:40<00:00,  1.22it/s]\n",
      "Loss=1.7782567739486694 Batch_id=195 Accuracy=55.95: 100%|██████████| 196/196 [02:39<00:00,  1.23it/s]\n",
      "Loss=1.6216243505477905 Batch_id=195 Accuracy=56.02: 100%|██████████| 196/196 [02:40<00:00,  1.22it/s]\n",
      "Loss=1.590440273284912 Batch_id=195 Accuracy=56.24: 100%|██████████| 196/196 [02:40<00:00,  1.22it/s] \n",
      "Loss=1.6480562686920166 Batch_id=195 Accuracy=56.56: 100%|██████████| 196/196 [02:40<00:00,  1.22it/s]\n",
      "Loss=1.579418659210205 Batch_id=195 Accuracy=56.64: 100%|██████████| 196/196 [02:40<00:00,  1.22it/s] \n",
      "Loss=1.3105093240737915 Batch_id=195 Accuracy=56.47: 100%|██████████| 196/196 [02:40<00:00,  1.22it/s]\n",
      "Loss=1.8398008346557617 Batch_id=195 Accuracy=56.62: 100%|██████████| 196/196 [02:40<00:00,  1.22it/s]\n",
      "Loss=1.667249083518982 Batch_id=195 Accuracy=56.75: 100%|██████████| 196/196 [02:40<00:00,  1.22it/s] \n",
      "Loss=1.6130001544952393 Batch_id=195 Accuracy=56.68: 100%|██████████| 196/196 [02:40<00:00,  1.22it/s]"
     ]
    },
    {
     "name": "stdout",
     "output_type": "stream",
     "text": [
      "Epoch 00010: reducing learning rate of group 0 to 5.0000e-04.\n"
     ]
    },
    {
     "name": "stderr",
     "output_type": "stream",
     "text": [
      "\n"
     ]
    },
    {
     "name": "stdout",
     "output_type": "stream",
     "text": [
      "Test set: Average loss: 2.0980, Accuracy: 2593/5000 (51.86%)\n",
      "\n",
      "--Skipping Acc Comp For Corrupted Data--\n",
      "Global Sparsity: 94.89% \n",
      "\n",
      "---------- Pruning Iteration:  31 / 44\n"
     ]
    },
    {
     "name": "stderr",
     "output_type": "stream",
     "text": [
      "Loss=1.7876825332641602 Batch_id=195 Accuracy=53.76: 100%|██████████| 196/196 [02:40<00:00,  1.22it/s]\n",
      "Loss=1.7643718719482422 Batch_id=195 Accuracy=54.47: 100%|██████████| 196/196 [02:40<00:00,  1.22it/s]\n",
      "Loss=1.5768182277679443 Batch_id=195 Accuracy=54.91: 100%|██████████| 196/196 [02:40<00:00,  1.22it/s]\n",
      "Loss=1.812203049659729 Batch_id=195 Accuracy=54.95: 100%|██████████| 196/196 [02:40<00:00,  1.22it/s] \n",
      "Loss=1.7356237173080444 Batch_id=195 Accuracy=55.33: 100%|██████████| 196/196 [02:40<00:00,  1.22it/s]\n",
      "Loss=1.5349231958389282 Batch_id=195 Accuracy=55.35: 100%|██████████| 196/196 [02:40<00:00,  1.22it/s]\n",
      "Loss=1.7373298406600952 Batch_id=195 Accuracy=55.25: 100%|██████████| 196/196 [02:40<00:00,  1.22it/s]\n",
      "Loss=1.63979172706604 Batch_id=195 Accuracy=55.23: 100%|██████████| 196/196 [02:40<00:00,  1.22it/s]  \n",
      "Loss=1.6193721294403076 Batch_id=195 Accuracy=55.27: 100%|██████████| 196/196 [02:40<00:00,  1.22it/s]\n"
     ]
    },
    {
     "name": "stdout",
     "output_type": "stream",
     "text": [
      "Epoch 00009: reducing learning rate of group 0 to 5.0000e-04.\n"
     ]
    },
    {
     "name": "stderr",
     "output_type": "stream",
     "text": [
      "Loss=1.5693137645721436 Batch_id=195 Accuracy=59.20: 100%|██████████| 196/196 [02:40<00:00,  1.22it/s]\n"
     ]
    },
    {
     "name": "stdout",
     "output_type": "stream",
     "text": [
      "Test set: Average loss: 2.0005, Accuracy: 2659/5000 (53.18%)\n",
      "\n",
      "--Skipping Acc Comp For Corrupted Data--\n",
      "Global Sparsity: 95.31% \n",
      "\n",
      "---------- Pruning Iteration:  32 / 44\n"
     ]
    },
    {
     "name": "stderr",
     "output_type": "stream",
     "text": [
      "Loss=1.9600622653961182 Batch_id=195 Accuracy=52.74: 100%|██████████| 196/196 [02:40<00:00,  1.22it/s]\n",
      "Loss=1.7922499179840088 Batch_id=195 Accuracy=53.24: 100%|██████████| 196/196 [02:40<00:00,  1.22it/s]\n",
      "Loss=1.8277571201324463 Batch_id=195 Accuracy=53.55: 100%|██████████| 196/196 [02:40<00:00,  1.22it/s]\n",
      "Loss=1.7593148946762085 Batch_id=195 Accuracy=53.52: 100%|██████████| 196/196 [02:40<00:00,  1.22it/s]\n",
      "Loss=1.8427728414535522 Batch_id=195 Accuracy=53.80: 100%|██████████| 196/196 [02:40<00:00,  1.22it/s]\n",
      "Loss=1.7845815420150757 Batch_id=195 Accuracy=53.67: 100%|██████████| 196/196 [02:40<00:00,  1.22it/s]\n",
      "Loss=1.7652158737182617 Batch_id=195 Accuracy=53.80: 100%|██████████| 196/196 [02:40<00:00,  1.22it/s]\n"
     ]
    },
    {
     "name": "stdout",
     "output_type": "stream",
     "text": [
      "Epoch 00007: reducing learning rate of group 0 to 5.0000e-04.\n"
     ]
    },
    {
     "name": "stderr",
     "output_type": "stream",
     "text": [
      "Loss=1.5208489894866943 Batch_id=195 Accuracy=57.74: 100%|██████████| 196/196 [02:40<00:00,  1.22it/s]\n",
      "Loss=1.7801109552383423 Batch_id=195 Accuracy=58.67: 100%|██████████| 196/196 [02:40<00:00,  1.22it/s]\n",
      "Loss=1.6789213418960571 Batch_id=195 Accuracy=59.19: 100%|██████████| 196/196 [02:40<00:00,  1.22it/s]\n"
     ]
    },
    {
     "name": "stdout",
     "output_type": "stream",
     "text": [
      "Test set: Average loss: 1.9787, Accuracy: 2699/5000 (53.98%)\n",
      "\n",
      "--Skipping Acc Comp For Corrupted Data--\n",
      "Global Sparsity: 95.69% \n",
      "\n",
      "---------- Pruning Iteration:  33 / 44\n"
     ]
    },
    {
     "name": "stderr",
     "output_type": "stream",
     "text": [
      "Loss=1.996500015258789 Batch_id=195 Accuracy=51.46: 100%|██████████| 196/196 [02:40<00:00,  1.22it/s] \n",
      "Loss=1.6925560235977173 Batch_id=195 Accuracy=51.80: 100%|██████████| 196/196 [02:40<00:00,  1.22it/s]\n",
      "Loss=2.0691983699798584 Batch_id=195 Accuracy=51.86: 100%|██████████| 196/196 [02:40<00:00,  1.22it/s]\n",
      "Loss=1.6731700897216797 Batch_id=195 Accuracy=52.30: 100%|██████████| 196/196 [02:40<00:00,  1.22it/s]\n",
      "Loss=1.9978259801864624 Batch_id=195 Accuracy=52.31: 100%|██████████| 196/196 [02:40<00:00,  1.22it/s]\n",
      "Loss=1.9013569355010986 Batch_id=195 Accuracy=52.22: 100%|██████████| 196/196 [02:40<00:00,  1.22it/s]\n",
      "Loss=1.74136221408844 Batch_id=195 Accuracy=52.22: 100%|██████████| 196/196 [02:40<00:00,  1.22it/s]  \n"
     ]
    },
    {
     "name": "stdout",
     "output_type": "stream",
     "text": [
      "Epoch 00007: reducing learning rate of group 0 to 5.0000e-04.\n"
     ]
    },
    {
     "name": "stderr",
     "output_type": "stream",
     "text": [
      "Loss=1.4989732503890991 Batch_id=195 Accuracy=55.89: 100%|██████████| 196/196 [02:40<00:00,  1.22it/s]\n",
      "Loss=1.5950212478637695 Batch_id=195 Accuracy=56.88: 100%|██████████| 196/196 [02:40<00:00,  1.22it/s]\n",
      "Loss=1.831071138381958 Batch_id=195 Accuracy=57.34: 100%|██████████| 196/196 [02:40<00:00,  1.22it/s] \n"
     ]
    },
    {
     "name": "stdout",
     "output_type": "stream",
     "text": [
      "Test set: Average loss: 1.9837, Accuracy: 2659/5000 (53.18%)\n",
      "\n",
      "--Skipping Acc Comp For Corrupted Data--\n",
      "Global Sparsity: 96.03% \n",
      "\n",
      "---------- Pruning Iteration:  34 / 44\n"
     ]
    },
    {
     "name": "stderr",
     "output_type": "stream",
     "text": [
      "Loss=1.9355636835098267 Batch_id=195 Accuracy=50.20: 100%|██████████| 196/196 [02:40<00:00,  1.22it/s]\n",
      "Loss=1.9331233501434326 Batch_id=195 Accuracy=50.51: 100%|██████████| 196/196 [02:40<00:00,  1.22it/s]\n",
      "Loss=1.779331922531128 Batch_id=195 Accuracy=50.69: 100%|██████████| 196/196 [02:40<00:00,  1.22it/s] \n",
      "Loss=1.952882170677185 Batch_id=195 Accuracy=50.65: 100%|██████████| 196/196 [02:40<00:00,  1.22it/s] \n",
      "Loss=1.8701846599578857 Batch_id=195 Accuracy=50.78: 100%|██████████| 196/196 [02:40<00:00,  1.22it/s]\n",
      "Loss=2.1313164234161377 Batch_id=195 Accuracy=50.75: 100%|██████████| 196/196 [02:40<00:00,  1.22it/s]\n"
     ]
    },
    {
     "name": "stdout",
     "output_type": "stream",
     "text": [
      "Epoch 00006: reducing learning rate of group 0 to 5.0000e-04.\n"
     ]
    },
    {
     "name": "stderr",
     "output_type": "stream",
     "text": [
      "Loss=1.9868929386138916 Batch_id=195 Accuracy=54.14: 100%|██████████| 196/196 [02:40<00:00,  1.22it/s]\n",
      "Loss=1.7179874181747437 Batch_id=195 Accuracy=55.25: 100%|██████████| 196/196 [02:40<00:00,  1.22it/s]\n",
      "Loss=1.7882131338119507 Batch_id=195 Accuracy=55.30: 100%|██████████| 196/196 [02:40<00:00,  1.22it/s]\n",
      "Loss=1.888696312904358 Batch_id=195 Accuracy=55.59: 100%|██████████| 196/196 [02:40<00:00,  1.22it/s] \n"
     ]
    },
    {
     "name": "stdout",
     "output_type": "stream",
     "text": [
      "Test set: Average loss: 1.9874, Accuracy: 2656/5000 (53.12%)\n",
      "\n",
      "--Skipping Acc Comp For Corrupted Data--\n",
      "Global Sparsity: 96.33% \n",
      "\n",
      "---------- Pruning Iteration:  35 / 44\n"
     ]
    },
    {
     "name": "stderr",
     "output_type": "stream",
     "text": [
      "Loss=2.0071825981140137 Batch_id=195 Accuracy=48.67: 100%|██████████| 196/196 [02:40<00:00,  1.22it/s]\n",
      "Loss=1.7544610500335693 Batch_id=195 Accuracy=48.88: 100%|██████████| 196/196 [02:40<00:00,  1.22it/s]\n",
      "Loss=1.9399731159210205 Batch_id=195 Accuracy=48.86: 100%|██████████| 196/196 [02:40<00:00,  1.22it/s]\n",
      "Loss=1.8325932025909424 Batch_id=195 Accuracy=49.48: 100%|██████████| 196/196 [02:40<00:00,  1.22it/s]\n",
      "Loss=1.956585168838501 Batch_id=195 Accuracy=49.28: 100%|██████████| 196/196 [02:40<00:00,  1.22it/s] \n"
     ]
    },
    {
     "name": "stdout",
     "output_type": "stream",
     "text": [
      "Epoch 00005: reducing learning rate of group 0 to 5.0000e-04.\n"
     ]
    },
    {
     "name": "stderr",
     "output_type": "stream",
     "text": [
      "Loss=1.7597119808197021 Batch_id=195 Accuracy=52.25: 100%|██████████| 196/196 [02:40<00:00,  1.22it/s]\n",
      "Loss=1.9902198314666748 Batch_id=195 Accuracy=53.36: 100%|██████████| 196/196 [02:40<00:00,  1.22it/s]\n",
      "Loss=1.9974781274795532 Batch_id=195 Accuracy=53.71: 100%|██████████| 196/196 [02:40<00:00,  1.22it/s]\n"
     ]
    },
    {
     "name": "stdout",
     "output_type": "stream",
     "text": [
      "Epoch 00008: reducing learning rate of group 0 to 2.5000e-05.\n"
     ]
    },
    {
     "name": "stderr",
     "output_type": "stream",
     "text": [
      "Loss=1.9385263919830322 Batch_id=195 Accuracy=54.08: 100%|██████████| 196/196 [02:40<00:00,  1.22it/s]\n",
      "Loss=1.6236746311187744 Batch_id=195 Accuracy=54.05: 100%|██████████| 196/196 [02:40<00:00,  1.22it/s]\n"
     ]
    },
    {
     "name": "stdout",
     "output_type": "stream",
     "text": [
      "Test set: Average loss: 1.9989, Accuracy: 2664/5000 (53.28%)\n",
      "\n",
      "--Skipping Acc Comp For Corrupted Data--\n",
      "Global Sparsity: 96.61% \n",
      "\n",
      "---------- Pruning Iteration:  36 / 44\n"
     ]
    },
    {
     "name": "stderr",
     "output_type": "stream",
     "text": [
      "Loss=2.19111704826355 Batch_id=195 Accuracy=47.04: 100%|██████████| 196/196 [02:40<00:00,  1.22it/s]  \n",
      "Loss=2.293264150619507 Batch_id=195 Accuracy=47.38: 100%|██████████| 196/196 [02:40<00:00,  1.22it/s] \n",
      "Loss=2.108426332473755 Batch_id=195 Accuracy=47.78: 100%|██████████| 196/196 [02:40<00:00,  1.22it/s] \n",
      "Loss=2.1257944107055664 Batch_id=195 Accuracy=47.75: 100%|██████████| 196/196 [02:40<00:00,  1.22it/s]\n",
      "Loss=2.1236701011657715 Batch_id=195 Accuracy=47.91: 100%|██████████| 196/196 [02:40<00:00,  1.22it/s]\n",
      "Loss=2.0122666358947754 Batch_id=195 Accuracy=47.76: 100%|██████████| 196/196 [02:40<00:00,  1.22it/s]\n",
      "Loss=2.3890552520751953 Batch_id=195 Accuracy=47.76: 100%|██████████| 196/196 [02:40<00:00,  1.22it/s]\n",
      "Loss=1.9078385829925537 Batch_id=195 Accuracy=47.89: 100%|██████████| 196/196 [02:40<00:00,  1.22it/s]\n",
      "Loss=2.0533106327056885 Batch_id=195 Accuracy=48.04: 100%|██████████| 196/196 [02:40<00:00,  1.22it/s]\n",
      "Loss=2.155322551727295 Batch_id=195 Accuracy=47.98: 100%|██████████| 196/196 [02:40<00:00,  1.22it/s] \n"
     ]
    },
    {
     "name": "stdout",
     "output_type": "stream",
     "text": [
      "Test set: Average loss: 2.0578, Accuracy: 2581/5000 (51.62%)\n",
      "\n",
      "--Skipping Acc Comp For Corrupted Data--\n",
      "Global Sparsity: 96.86% \n",
      "\n",
      "---------- Pruning Iteration:  37 / 44\n"
     ]
    },
    {
     "name": "stderr",
     "output_type": "stream",
     "text": [
      "Loss=1.9646024703979492 Batch_id=195 Accuracy=45.70: 100%|██████████| 196/196 [02:40<00:00,  1.22it/s]\n",
      "Loss=2.171329975128174 Batch_id=195 Accuracy=46.23: 100%|██████████| 196/196 [02:40<00:00,  1.22it/s] \n",
      "Loss=2.2755343914031982 Batch_id=195 Accuracy=46.48: 100%|██████████| 196/196 [02:40<00:00,  1.22it/s]\n",
      "Loss=2.2369847297668457 Batch_id=195 Accuracy=46.49: 100%|██████████| 196/196 [02:40<00:00,  1.22it/s]\n"
     ]
    },
    {
     "name": "stdout",
     "output_type": "stream",
     "text": [
      "Epoch 00004: reducing learning rate of group 0 to 5.0000e-04.\n"
     ]
    },
    {
     "name": "stderr",
     "output_type": "stream",
     "text": [
      "Loss=2.143084764480591 Batch_id=195 Accuracy=49.30: 100%|██████████| 196/196 [02:40<00:00,  1.22it/s] \n",
      "Loss=2.017507791519165 Batch_id=195 Accuracy=49.87: 100%|██████████| 196/196 [02:40<00:00,  1.22it/s] \n",
      "Loss=1.9072433710098267 Batch_id=195 Accuracy=50.28: 100%|██████████| 196/196 [02:40<00:00,  1.22it/s]\n",
      "Loss=1.814477562904358 Batch_id=195 Accuracy=50.28: 100%|██████████| 196/196 [02:40<00:00,  1.22it/s] \n",
      "Loss=1.871239423751831 Batch_id=195 Accuracy=50.36: 100%|██████████| 196/196 [02:40<00:00,  1.22it/s] \n",
      "Loss=1.927244782447815 Batch_id=195 Accuracy=50.83: 100%|██████████| 196/196 [02:40<00:00,  1.22it/s] \n"
     ]
    },
    {
     "name": "stdout",
     "output_type": "stream",
     "text": [
      "Test set: Average loss: 2.0028, Accuracy: 2632/5000 (52.64%)\n",
      "\n",
      "--Skipping Acc Comp For Corrupted Data--\n",
      "Global Sparsity: 97.08% \n",
      "\n",
      "---------- Pruning Iteration:  38 / 44\n"
     ]
    },
    {
     "name": "stderr",
     "output_type": "stream",
     "text": [
      "Loss=2.3497631549835205 Batch_id=195 Accuracy=44.73: 100%|██████████| 196/196 [02:40<00:00,  1.22it/s]\n",
      "Loss=2.3439459800720215 Batch_id=195 Accuracy=44.90: 100%|██████████| 196/196 [02:40<00:00,  1.22it/s]\n",
      "Loss=2.0809192657470703 Batch_id=195 Accuracy=45.33: 100%|██████████| 196/196 [02:40<00:00,  1.22it/s]\n",
      "Loss=2.1388280391693115 Batch_id=195 Accuracy=45.37: 100%|██████████| 196/196 [02:40<00:00,  1.22it/s]\n",
      "Loss=2.1508147716522217 Batch_id=195 Accuracy=45.28: 100%|██████████| 196/196 [02:40<00:00,  1.22it/s]\n",
      "Loss=2.1692845821380615 Batch_id=195 Accuracy=45.25: 100%|██████████| 196/196 [02:40<00:00,  1.22it/s]\n"
     ]
    },
    {
     "name": "stdout",
     "output_type": "stream",
     "text": [
      "Epoch 00006: reducing learning rate of group 0 to 5.0000e-04.\n"
     ]
    },
    {
     "name": "stderr",
     "output_type": "stream",
     "text": [
      "Loss=2.369941234588623 Batch_id=195 Accuracy=47.70: 100%|██████████| 196/196 [02:40<00:00,  1.22it/s] \n",
      "Loss=2.2657408714294434 Batch_id=195 Accuracy=48.52: 100%|██████████| 196/196 [02:40<00:00,  1.22it/s]\n",
      "Loss=1.981231927871704 Batch_id=195 Accuracy=48.67: 100%|██████████| 196/196 [02:40<00:00,  1.22it/s] \n",
      "Loss=2.0529158115386963 Batch_id=195 Accuracy=48.77: 100%|██████████| 196/196 [02:40<00:00,  1.22it/s]\n"
     ]
    },
    {
     "name": "stdout",
     "output_type": "stream",
     "text": [
      "Test set: Average loss: 2.0081, Accuracy: 2617/5000 (52.34%)\n",
      "\n",
      "--Skipping Acc Comp For Corrupted Data--\n",
      "Global Sparsity: 97.28% \n",
      "\n",
      "---------- Pruning Iteration:  39 / 44\n"
     ]
    },
    {
     "name": "stderr",
     "output_type": "stream",
     "text": [
      "Loss=2.37703800201416 Batch_id=195 Accuracy=43.61: 100%|██████████| 196/196 [02:40<00:00,  1.22it/s]  \n",
      "Loss=2.178661823272705 Batch_id=195 Accuracy=43.80: 100%|██████████| 196/196 [02:40<00:00,  1.22it/s] \n",
      "Loss=2.4829702377319336 Batch_id=195 Accuracy=43.95: 100%|██████████| 196/196 [02:40<00:00,  1.22it/s]\n",
      "Loss=2.313392400741577 Batch_id=195 Accuracy=44.27: 100%|██████████| 196/196 [02:40<00:00,  1.22it/s] \n",
      "Loss=2.1726863384246826 Batch_id=195 Accuracy=44.14: 100%|██████████| 196/196 [02:40<00:00,  1.22it/s]\n",
      "Loss=2.2761991024017334 Batch_id=195 Accuracy=44.17: 100%|██████████| 196/196 [02:40<00:00,  1.22it/s]\n",
      "Loss=2.230660915374756 Batch_id=195 Accuracy=43.95: 100%|██████████| 196/196 [02:40<00:00,  1.22it/s] \n",
      "Loss=2.221092939376831 Batch_id=195 Accuracy=43.87: 100%|██████████| 196/196 [02:40<00:00,  1.22it/s] \n"
     ]
    },
    {
     "name": "stdout",
     "output_type": "stream",
     "text": [
      "Epoch 00008: reducing learning rate of group 0 to 5.0000e-04.\n"
     ]
    },
    {
     "name": "stderr",
     "output_type": "stream",
     "text": [
      "Loss=2.254655361175537 Batch_id=195 Accuracy=46.31: 100%|██████████| 196/196 [02:40<00:00,  1.22it/s] \n",
      "Loss=2.0957016944885254 Batch_id=195 Accuracy=47.09: 100%|██████████| 196/196 [02:40<00:00,  1.22it/s]\n"
     ]
    },
    {
     "name": "stdout",
     "output_type": "stream",
     "text": [
      "Test set: Average loss: 2.0283, Accuracy: 2576/5000 (51.52%)\n",
      "\n",
      "--Skipping Acc Comp For Corrupted Data--\n",
      "Global Sparsity: 97.46% \n",
      "\n",
      "---------- Pruning Iteration:  40 / 44\n"
     ]
    },
    {
     "name": "stderr",
     "output_type": "stream",
     "text": [
      "Loss=2.516636371612549 Batch_id=195 Accuracy=42.49: 100%|██████████| 196/196 [02:40<00:00,  1.22it/s] \n",
      "Loss=2.3934264183044434 Batch_id=195 Accuracy=42.73: 100%|██████████| 196/196 [02:40<00:00,  1.22it/s]\n",
      "Loss=2.208664894104004 Batch_id=195 Accuracy=42.86: 100%|██████████| 196/196 [02:40<00:00,  1.22it/s] \n",
      "Loss=2.562866449356079 Batch_id=195 Accuracy=43.08: 100%|██████████| 196/196 [02:40<00:00,  1.22it/s] \n",
      "Loss=2.3603456020355225 Batch_id=195 Accuracy=42.90: 100%|██████████| 196/196 [02:40<00:00,  1.22it/s]\n",
      "Loss=2.514373540878296 Batch_id=195 Accuracy=43.10: 100%|██████████| 196/196 [02:40<00:00,  1.22it/s] \n"
     ]
    },
    {
     "name": "stdout",
     "output_type": "stream",
     "text": [
      "Epoch 00006: reducing learning rate of group 0 to 5.0000e-04.\n"
     ]
    },
    {
     "name": "stderr",
     "output_type": "stream",
     "text": [
      "Loss=2.2785837650299072 Batch_id=195 Accuracy=45.29: 100%|██████████| 196/196 [02:40<00:00,  1.22it/s]\n",
      "Loss=2.131418228149414 Batch_id=195 Accuracy=45.95: 100%|██████████| 196/196 [02:40<00:00,  1.22it/s] \n",
      "Loss=2.164850950241089 Batch_id=195 Accuracy=45.98: 100%|██████████| 196/196 [02:40<00:00,  1.22it/s] \n",
      "Loss=2.0066943168640137 Batch_id=195 Accuracy=46.19: 100%|██████████| 196/196 [02:40<00:00,  1.22it/s]\n"
     ]
    },
    {
     "name": "stdout",
     "output_type": "stream",
     "text": [
      "Test set: Average loss: 2.0413, Accuracy: 2584/5000 (51.68%)\n",
      "\n",
      "--Skipping Acc Comp For Corrupted Data--\n",
      "Global Sparsity: 97.63% \n",
      "\n",
      "---------- Pruning Iteration:  41 / 44\n"
     ]
    },
    {
     "name": "stderr",
     "output_type": "stream",
     "text": [
      "Loss=2.6239657402038574 Batch_id=195 Accuracy=41.43: 100%|██████████| 196/196 [02:40<00:00,  1.22it/s]\n",
      "Loss=2.2015042304992676 Batch_id=195 Accuracy=41.66: 100%|██████████| 196/196 [02:40<00:00,  1.22it/s]\n",
      "Loss=2.478853225708008 Batch_id=195 Accuracy=41.81: 100%|██████████| 196/196 [02:40<00:00,  1.22it/s] \n",
      "Loss=2.385284900665283 Batch_id=195 Accuracy=41.91: 100%|██████████| 196/196 [02:40<00:00,  1.22it/s] \n",
      "Loss=2.2787423133850098 Batch_id=195 Accuracy=41.89: 100%|██████████| 196/196 [02:40<00:00,  1.22it/s]\n"
     ]
    },
    {
     "name": "stdout",
     "output_type": "stream",
     "text": [
      "Epoch 00005: reducing learning rate of group 0 to 5.0000e-04.\n"
     ]
    },
    {
     "name": "stderr",
     "output_type": "stream",
     "text": [
      "Loss=2.262622356414795 Batch_id=195 Accuracy=43.83: 100%|██████████| 196/196 [02:40<00:00,  1.22it/s] \n",
      "Loss=2.160175085067749 Batch_id=195 Accuracy=44.43: 100%|██████████| 196/196 [02:40<00:00,  1.22it/s] \n",
      "Loss=2.0783774852752686 Batch_id=195 Accuracy=44.52: 100%|██████████| 196/196 [02:40<00:00,  1.22it/s]\n",
      "Loss=2.5395302772521973 Batch_id=195 Accuracy=44.84: 100%|██████████| 196/196 [02:40<00:00,  1.22it/s]\n",
      "Loss=2.0889599323272705 Batch_id=195 Accuracy=44.90: 100%|██████████| 196/196 [02:40<00:00,  1.22it/s]\n"
     ]
    },
    {
     "name": "stdout",
     "output_type": "stream",
     "text": [
      "Test set: Average loss: 2.0463, Accuracy: 2575/5000 (51.50%)\n",
      "\n",
      "--Skipping Acc Comp For Corrupted Data--\n",
      "Global Sparsity: 97.77% \n",
      "\n",
      "---------- Pruning Iteration:  42 / 44\n"
     ]
    },
    {
     "name": "stderr",
     "output_type": "stream",
     "text": [
      "Loss=2.5522217750549316 Batch_id=195 Accuracy=40.50: 100%|██████████| 196/196 [02:40<00:00,  1.22it/s]\n",
      "Loss=2.5779545307159424 Batch_id=195 Accuracy=40.63: 100%|██████████| 196/196 [02:40<00:00,  1.22it/s]\n",
      "Loss=2.5594639778137207 Batch_id=195 Accuracy=40.67: 100%|██████████| 196/196 [02:40<00:00,  1.22it/s]\n",
      "Loss=2.7363171577453613 Batch_id=195 Accuracy=40.84: 100%|██████████| 196/196 [02:40<00:00,  1.22it/s]\n"
     ]
    },
    {
     "name": "stdout",
     "output_type": "stream",
     "text": [
      "Epoch 00004: reducing learning rate of group 0 to 5.0000e-04.\n"
     ]
    },
    {
     "name": "stderr",
     "output_type": "stream",
     "text": [
      "Loss=2.2538371086120605 Batch_id=195 Accuracy=42.86: 100%|██████████| 196/196 [02:40<00:00,  1.22it/s]\n",
      "Loss=2.2534427642822266 Batch_id=195 Accuracy=43.38: 100%|██████████| 196/196 [02:40<00:00,  1.22it/s]\n",
      "Loss=2.455763101577759 Batch_id=195 Accuracy=43.42: 100%|██████████| 196/196 [02:40<00:00,  1.22it/s] \n",
      "Loss=2.4331488609313965 Batch_id=195 Accuracy=43.40: 100%|██████████| 196/196 [02:40<00:00,  1.22it/s]\n",
      "Loss=2.2269656658172607 Batch_id=195 Accuracy=43.64: 100%|██████████| 196/196 [02:40<00:00,  1.22it/s]\n",
      "Loss=2.266968250274658 Batch_id=195 Accuracy=43.83: 100%|██████████| 196/196 [02:40<00:00,  1.22it/s] \n"
     ]
    },
    {
     "name": "stdout",
     "output_type": "stream",
     "text": [
      "Test set: Average loss: 2.0743, Accuracy: 2502/5000 (50.04%)\n",
      "\n",
      "--Skipping Acc Comp For Corrupted Data--\n",
      "Global Sparsity: 97.90% \n",
      "\n",
      "---------- Pruning Iteration:  43 / 44\n"
     ]
    },
    {
     "name": "stderr",
     "output_type": "stream",
     "text": [
      "Loss=2.6682746410369873 Batch_id=195 Accuracy=39.25: 100%|██████████| 196/196 [02:40<00:00,  1.22it/s]\n",
      "Loss=2.224777936935425 Batch_id=195 Accuracy=39.54: 100%|██████████| 196/196 [02:40<00:00,  1.22it/s] \n",
      "Loss=2.5654234886169434 Batch_id=195 Accuracy=39.65: 100%|██████████| 196/196 [02:40<00:00,  1.22it/s]\n",
      "Loss=2.313807964324951 Batch_id=195 Accuracy=39.78: 100%|██████████| 196/196 [02:40<00:00,  1.22it/s] \n",
      "Loss=2.4320425987243652 Batch_id=195 Accuracy=39.99: 100%|██████████| 196/196 [02:40<00:00,  1.22it/s]\n"
     ]
    },
    {
     "name": "stdout",
     "output_type": "stream",
     "text": [
      "Epoch 00005: reducing learning rate of group 0 to 5.0000e-04.\n"
     ]
    },
    {
     "name": "stderr",
     "output_type": "stream",
     "text": [
      "Loss=2.268538236618042 Batch_id=195 Accuracy=41.53: 100%|██████████| 196/196 [02:40<00:00,  1.22it/s] \n",
      "Loss=2.4041810035705566 Batch_id=195 Accuracy=42.08: 100%|██████████| 196/196 [02:40<00:00,  1.22it/s]\n",
      "Loss=2.30041241645813 Batch_id=195 Accuracy=42.18: 100%|██████████| 196/196 [02:40<00:00,  1.22it/s]  \n"
     ]
    },
    {
     "name": "stdout",
     "output_type": "stream",
     "text": [
      "Epoch 00008: reducing learning rate of group 0 to 2.5000e-05.\n"
     ]
    },
    {
     "name": "stderr",
     "output_type": "stream",
     "text": [
      "Loss=2.39727520942688 Batch_id=195 Accuracy=42.42: 100%|██████████| 196/196 [02:40<00:00,  1.22it/s]  \n",
      "Loss=2.233924388885498 Batch_id=195 Accuracy=42.53: 100%|██████████| 196/196 [02:40<00:00,  1.22it/s] \n"
     ]
    },
    {
     "name": "stdout",
     "output_type": "stream",
     "text": [
      "Test set: Average loss: 2.1059, Accuracy: 2449/5000 (48.98%)\n",
      "\n",
      "--Skipping Acc Comp For Corrupted Data--\n",
      "Global Sparsity: 98.02% \n",
      "\n",
      "---------- Pruning Iteration:  44 / 44\n"
     ]
    },
    {
     "name": "stderr",
     "output_type": "stream",
     "text": [
      "Loss=2.6222691535949707 Batch_id=195 Accuracy=38.53: 100%|██████████| 196/196 [02:40<00:00,  1.22it/s]\n",
      "Loss=2.805187702178955 Batch_id=195 Accuracy=38.72: 100%|██████████| 196/196 [02:40<00:00,  1.22it/s] \n",
      "Loss=2.521369695663452 Batch_id=195 Accuracy=38.71: 100%|██████████| 196/196 [02:40<00:00,  1.22it/s] \n",
      "Loss=2.327258586883545 Batch_id=195 Accuracy=38.91: 100%|██████████| 196/196 [02:40<00:00,  1.22it/s] \n",
      "Loss=2.509280204772949 Batch_id=195 Accuracy=38.82: 100%|██████████| 196/196 [02:40<00:00,  1.22it/s] \n",
      "Loss=2.5932705402374268 Batch_id=195 Accuracy=39.00: 100%|██████████| 196/196 [02:40<00:00,  1.22it/s]\n",
      "Loss=2.5703976154327393 Batch_id=195 Accuracy=39.07: 100%|██████████| 196/196 [02:40<00:00,  1.22it/s]\n"
     ]
    },
    {
     "name": "stdout",
     "output_type": "stream",
     "text": [
      "Epoch 00007: reducing learning rate of group 0 to 5.0000e-04.\n"
     ]
    },
    {
     "name": "stderr",
     "output_type": "stream",
     "text": [
      "Loss=2.372823476791382 Batch_id=195 Accuracy=40.66: 100%|██████████| 196/196 [02:40<00:00,  1.22it/s] \n",
      "Loss=2.379579782485962 Batch_id=195 Accuracy=41.13: 100%|██████████| 196/196 [02:40<00:00,  1.22it/s] \n",
      "Loss=2.001314640045166 Batch_id=195 Accuracy=41.38: 100%|██████████| 196/196 [02:40<00:00,  1.22it/s] \n"
     ]
    },
    {
     "name": "stdout",
     "output_type": "stream",
     "text": [
      "Test set: Average loss: 2.1340, Accuracy: 2415/5000 (48.30%)\n",
      "\n",
      "--Testing Corruptions--\n"
     ]
    },
    {
     "name": "stderr",
     "output_type": "stream",
     "text": [
      "100%|██████████| 19/19 [06:43<00:00, 21.24s/it]"
     ]
    },
    {
     "name": "stdout",
     "output_type": "stream",
     "text": [
      "\n",
      "Avg Corruption Accuracy: 22.99%\n",
      "Global Sparsity: 98.13% \n",
      "\n"
     ]
    },
    {
     "name": "stderr",
     "output_type": "stream",
     "text": [
      "\n"
     ]
    }
   ],
   "source": [
    "#Network weights\n",
    "ResNet18_TINYIMAGENET_Weights= torch.load(\"./Networks/ResNet18_TinyImagenet_V0_Adversarial_ep_1p.pt\")\n",
    "ResNet18_TINYIMAGENET_0P=ResNet18_TINYIMAGENET_Model()\n",
    "ResNet18_TINYIMAGENET_0P.load_state_dict(ResNet18_TINYIMAGENET_Weights)\n",
    "\n",
    "model=copy.deepcopy(ResNet18_TINYIMAGENET_0P)\n",
    "TrainLoader=trainloader_TINYIMAGENET\n",
    "TestLoader=testloader_TINYIMAGENET\n",
    "TestCLoader=TiniyImageNetCLevel_Loader\n",
    "\n",
    "PruningRate=0.1\n",
    "NumEpochsEachPruneRetrain=10\n",
    "MaximumPruneLevel=0.01\n",
    "lambda_l1=0\n",
    "lambda_l2=0.0005\n",
    "\n",
    "epsilon=0.01\n",
    "mean=MeanImagenet\n",
    "std=StdImagenet\n",
    "\n",
    "\n",
    "SaveTrainStepsName=\"Progress/PruningIterations_ResNet18_TiniyImageNet_V0_Adversarial_ep_01p_01PR_10Epochs_L2_0005\"\n",
    "\n",
    "\n",
    "ReadMe=\"This model is running pruning with the standard cost function, and the non corrupted dataset, a prunning rate of 0.1 and 10 epoch of retraining\\\n",
    "L2 Regularization of 0.0005 is used\\n\\nOriginal Model: ResNet18 Trained with TinyImagenet Dataset with Adversarial training (Before and During Pruning) with epsilon=0.01\\n\"\n",
    "\n",
    "test_acc, Avg_Corrup_Acc_List, Acc_Corruptions, RemainingWeights_List, Sparcity_List=iterative_pruning(model,device, TrainLoader, TestLoader, TestCLoader, PruningRate, SaveTrainStepsName,ReadMe,\n",
    "                                                                                                         epsilon, mean, std, lambda_l1, lambda_l2, NumEpochsEachPruneRetrain,MaximumPruneLevel)"
   ]
  },
  {
   "cell_type": "code",
   "execution_count": 12,
   "metadata": {},
   "outputs": [
    {
     "name": "stdout",
     "output_type": "stream",
     "text": [
      "--Get statistics before pruning--\n",
      "Train set: Average loss: 0.8713, Accuracy: 80194/100000 (80.19%)\n",
      "Test set: Average loss: 1.8305, Accuracy: 2814/5000 (56.28%)\n",
      "\n",
      "--Testing Corruptions--\n"
     ]
    },
    {
     "name": "stderr",
     "output_type": "stream",
     "text": [
      "100%|██████████| 19/19 [06:29<00:00, 20.49s/it]\n"
     ]
    },
    {
     "name": "stdout",
     "output_type": "stream",
     "text": [
      "\n",
      "Avg Corruption Accuracy: 29.74%\n",
      "---------- Pruning Iteration:  1 / 44\n"
     ]
    },
    {
     "name": "stderr",
     "output_type": "stream",
     "text": [
      "Loss=3.4200282096862793 Batch_id=195 Accuracy=20.54: 100%|██████████| 196/196 [02:41<00:00,  1.21it/s]\n",
      "Loss=3.461155414581299 Batch_id=195 Accuracy=21.88: 100%|██████████| 196/196 [02:42<00:00,  1.21it/s] \n",
      "Loss=3.228539228439331 Batch_id=195 Accuracy=22.79: 100%|██████████| 196/196 [02:42<00:00,  1.21it/s] \n",
      "Loss=3.2225723266601562 Batch_id=195 Accuracy=23.27: 100%|██████████| 196/196 [02:42<00:00,  1.21it/s]\n",
      "Loss=3.592982530593872 Batch_id=195 Accuracy=23.91: 100%|██████████| 196/196 [02:42<00:00,  1.21it/s] \n",
      "Loss=3.2808754444122314 Batch_id=195 Accuracy=24.30: 100%|██████████| 196/196 [02:42<00:00,  1.21it/s]\n",
      "Loss=3.32332181930542 Batch_id=195 Accuracy=24.83: 100%|██████████| 196/196 [02:42<00:00,  1.21it/s]  \n"
     ]
    },
    {
     "name": "stdout",
     "output_type": "stream",
     "text": [
      "Epoch 00007: reducing learning rate of group 0 to 5.0000e-04.\n"
     ]
    },
    {
     "name": "stderr",
     "output_type": "stream",
     "text": [
      "Loss=3.321481227874756 Batch_id=195 Accuracy=27.12: 100%|██████████| 196/196 [02:42<00:00,  1.21it/s] \n",
      "Loss=2.9063520431518555 Batch_id=195 Accuracy=28.15: 100%|██████████| 196/196 [02:42<00:00,  1.21it/s]\n",
      "Loss=3.1861603260040283 Batch_id=195 Accuracy=28.39: 100%|██████████| 196/196 [02:42<00:00,  1.21it/s]\n"
     ]
    },
    {
     "name": "stdout",
     "output_type": "stream",
     "text": [
      "Test set: Average loss: 2.2440, Accuracy: 2416/5000 (48.32%)\n",
      "\n",
      "--Testing Corruptions--\n"
     ]
    },
    {
     "name": "stderr",
     "output_type": "stream",
     "text": [
      "100%|██████████| 19/19 [06:34<00:00, 20.76s/it]\n"
     ]
    },
    {
     "name": "stdout",
     "output_type": "stream",
     "text": [
      "\n",
      "Avg Corruption Accuracy: 26.61%\n",
      "Global Sparsity: 9.91% \n",
      "\n",
      "---------- Pruning Iteration:  2 / 44\n"
     ]
    },
    {
     "name": "stderr",
     "output_type": "stream",
     "text": [
      "Loss=3.084536075592041 Batch_id=195 Accuracy=25.90: 100%|██████████| 196/196 [02:42<00:00,  1.21it/s] \n",
      "Loss=3.3864073753356934 Batch_id=195 Accuracy=26.01: 100%|██████████| 196/196 [02:42<00:00,  1.21it/s]\n",
      "Loss=3.1025853157043457 Batch_id=195 Accuracy=26.31: 100%|██████████| 196/196 [02:42<00:00,  1.21it/s]\n",
      "Loss=3.2570087909698486 Batch_id=195 Accuracy=26.62: 100%|██████████| 196/196 [02:42<00:00,  1.21it/s]\n"
     ]
    },
    {
     "name": "stdout",
     "output_type": "stream",
     "text": [
      "Epoch 00004: reducing learning rate of group 0 to 5.0000e-04.\n"
     ]
    },
    {
     "name": "stderr",
     "output_type": "stream",
     "text": [
      "Loss=3.1508171558380127 Batch_id=195 Accuracy=29.28: 100%|██████████| 196/196 [02:42<00:00,  1.21it/s]\n",
      "Loss=3.170769453048706 Batch_id=195 Accuracy=29.76: 100%|██████████| 196/196 [02:42<00:00,  1.21it/s] \n",
      "Loss=3.0378317832946777 Batch_id=195 Accuracy=30.16: 100%|██████████| 196/196 [02:42<00:00,  1.21it/s]\n",
      "Loss=2.993326187133789 Batch_id=195 Accuracy=30.25: 100%|██████████| 196/196 [02:42<00:00,  1.21it/s] \n",
      "Loss=2.8316080570220947 Batch_id=195 Accuracy=30.48: 100%|██████████| 196/196 [02:42<00:00,  1.21it/s]\n",
      "Loss=3.1205875873565674 Batch_id=195 Accuracy=30.40: 100%|██████████| 196/196 [02:42<00:00,  1.21it/s]\n"
     ]
    },
    {
     "name": "stdout",
     "output_type": "stream",
     "text": [
      "Test set: Average loss: 2.2305, Accuracy: 2425/5000 (48.50%)\n",
      "\n",
      "--Testing Corruptions--\n"
     ]
    },
    {
     "name": "stderr",
     "output_type": "stream",
     "text": [
      "100%|██████████| 19/19 [06:39<00:00, 21.02s/it]\n"
     ]
    },
    {
     "name": "stdout",
     "output_type": "stream",
     "text": [
      "\n",
      "Avg Corruption Accuracy: 27.01%\n",
      "Global Sparsity: 18.83% \n",
      "\n",
      "---------- Pruning Iteration:  3 / 44\n"
     ]
    },
    {
     "name": "stderr",
     "output_type": "stream",
     "text": [
      "Loss=3.2441673278808594 Batch_id=195 Accuracy=27.67: 100%|██████████| 196/196 [02:42<00:00,  1.21it/s]\n",
      "Loss=2.8269104957580566 Batch_id=195 Accuracy=27.92: 100%|██████████| 196/196 [02:42<00:00,  1.21it/s]\n",
      "Loss=3.20802640914917 Batch_id=195 Accuracy=28.04: 100%|██████████| 196/196 [02:42<00:00,  1.21it/s]  \n",
      "Loss=3.0066847801208496 Batch_id=195 Accuracy=28.34: 100%|██████████| 196/196 [02:42<00:00,  1.20it/s]\n",
      "Loss=3.0524063110351562 Batch_id=195 Accuracy=28.78: 100%|██████████| 196/196 [02:42<00:00,  1.20it/s]\n"
     ]
    },
    {
     "name": "stdout",
     "output_type": "stream",
     "text": [
      "Epoch 00005: reducing learning rate of group 0 to 5.0000e-04.\n"
     ]
    },
    {
     "name": "stderr",
     "output_type": "stream",
     "text": [
      "Loss=3.2079601287841797 Batch_id=195 Accuracy=31.47: 100%|██████████| 196/196 [02:42<00:00,  1.20it/s]\n",
      "Loss=2.979945421218872 Batch_id=195 Accuracy=32.11: 100%|██████████| 196/196 [02:42<00:00,  1.20it/s] \n",
      "Loss=2.9193756580352783 Batch_id=195 Accuracy=32.52: 100%|██████████| 196/196 [02:42<00:00,  1.21it/s]\n"
     ]
    },
    {
     "name": "stdout",
     "output_type": "stream",
     "text": [
      "Epoch 00008: reducing learning rate of group 0 to 2.5000e-05.\n"
     ]
    },
    {
     "name": "stderr",
     "output_type": "stream",
     "text": [
      "Loss=2.9009652137756348 Batch_id=195 Accuracy=32.66: 100%|██████████| 196/196 [02:42<00:00,  1.20it/s]\n",
      "Loss=2.776899814605713 Batch_id=195 Accuracy=32.58: 100%|██████████| 196/196 [02:42<00:00,  1.21it/s] \n"
     ]
    },
    {
     "name": "stdout",
     "output_type": "stream",
     "text": [
      "Test set: Average loss: 2.2270, Accuracy: 2432/5000 (48.64%)\n",
      "\n",
      "--Testing Corruptions--\n"
     ]
    },
    {
     "name": "stderr",
     "output_type": "stream",
     "text": [
      "100%|██████████| 19/19 [06:44<00:00, 21.26s/it]\n"
     ]
    },
    {
     "name": "stdout",
     "output_type": "stream",
     "text": [
      "\n",
      "Avg Corruption Accuracy: 26.57%\n",
      "Global Sparsity: 26.85% \n",
      "\n",
      "---------- Pruning Iteration:  4 / 44\n"
     ]
    },
    {
     "name": "stderr",
     "output_type": "stream",
     "text": [
      "Loss=3.071564197540283 Batch_id=195 Accuracy=29.41: 100%|██████████| 196/196 [02:42<00:00,  1.21it/s] \n",
      "Loss=3.113251209259033 Batch_id=195 Accuracy=29.60: 100%|██████████| 196/196 [02:42<00:00,  1.20it/s] \n",
      "Loss=2.8271632194519043 Batch_id=195 Accuracy=29.75: 100%|██████████| 196/196 [02:42<00:00,  1.20it/s]\n",
      "Loss=3.133533000946045 Batch_id=195 Accuracy=30.19: 100%|██████████| 196/196 [02:42<00:00,  1.20it/s] \n",
      "Loss=3.248106002807617 Batch_id=195 Accuracy=30.22: 100%|██████████| 196/196 [02:43<00:00,  1.20it/s] \n",
      "Loss=3.2248313426971436 Batch_id=195 Accuracy=30.40: 100%|██████████| 196/196 [02:42<00:00,  1.20it/s]\n"
     ]
    },
    {
     "name": "stdout",
     "output_type": "stream",
     "text": [
      "Epoch 00006: reducing learning rate of group 0 to 5.0000e-04.\n"
     ]
    },
    {
     "name": "stderr",
     "output_type": "stream",
     "text": [
      "Loss=2.710296630859375 Batch_id=195 Accuracy=33.54: 100%|██████████| 196/196 [02:43<00:00,  1.20it/s] \n",
      "Loss=2.9343602657318115 Batch_id=195 Accuracy=34.44: 100%|██████████| 196/196 [02:42<00:00,  1.20it/s]\n",
      "Loss=2.869394302368164 Batch_id=195 Accuracy=34.53: 100%|██████████| 196/196 [02:42<00:00,  1.20it/s] \n",
      "Loss=2.703712224960327 Batch_id=195 Accuracy=34.94: 100%|██████████| 196/196 [02:42<00:00,  1.20it/s] \n"
     ]
    },
    {
     "name": "stdout",
     "output_type": "stream",
     "text": [
      "Test set: Average loss: 2.2181, Accuracy: 2424/5000 (48.48%)\n",
      "\n",
      "--Skipping Acc Comp For Corrupted Data--\n",
      "Global Sparsity: 34.08% \n",
      "\n",
      "---------- Pruning Iteration:  5 / 44\n"
     ]
    },
    {
     "name": "stderr",
     "output_type": "stream",
     "text": [
      "Loss=2.7941842079162598 Batch_id=195 Accuracy=31.45: 100%|██████████| 196/196 [02:42<00:00,  1.20it/s]\n",
      "Loss=2.9404797554016113 Batch_id=195 Accuracy=31.49: 100%|██████████| 196/196 [02:42<00:00,  1.20it/s]\n",
      "Loss=2.9171102046966553 Batch_id=195 Accuracy=31.78: 100%|██████████| 196/196 [02:42<00:00,  1.21it/s]\n",
      "Loss=2.983323335647583 Batch_id=195 Accuracy=31.92: 100%|██████████| 196/196 [02:42<00:00,  1.20it/s] \n"
     ]
    },
    {
     "name": "stdout",
     "output_type": "stream",
     "text": [
      "Epoch 00004: reducing learning rate of group 0 to 5.0000e-04.\n"
     ]
    },
    {
     "name": "stderr",
     "output_type": "stream",
     "text": [
      "Loss=2.9972593784332275 Batch_id=195 Accuracy=35.11: 100%|██████████| 196/196 [02:42<00:00,  1.20it/s]\n",
      "Loss=2.758812427520752 Batch_id=195 Accuracy=35.98: 100%|██████████| 196/196 [02:42<00:00,  1.20it/s] \n",
      "Loss=2.801891803741455 Batch_id=195 Accuracy=36.35: 100%|██████████| 196/196 [02:42<00:00,  1.20it/s] \n",
      "Loss=2.7815651893615723 Batch_id=195 Accuracy=36.38: 100%|██████████| 196/196 [02:43<00:00,  1.20it/s]\n",
      "Loss=2.7243707180023193 Batch_id=195 Accuracy=36.55: 100%|██████████| 196/196 [02:42<00:00,  1.20it/s]\n",
      "Loss=2.975179672241211 Batch_id=195 Accuracy=36.83: 100%|██████████| 196/196 [02:42<00:00,  1.20it/s] \n"
     ]
    },
    {
     "name": "stdout",
     "output_type": "stream",
     "text": [
      "Test set: Average loss: 2.1960, Accuracy: 2447/5000 (48.94%)\n",
      "\n",
      "--Testing Corruptions--\n"
     ]
    },
    {
     "name": "stderr",
     "output_type": "stream",
     "text": [
      "100%|██████████| 19/19 [06:49<00:00, 21.54s/it]\n"
     ]
    },
    {
     "name": "stdout",
     "output_type": "stream",
     "text": [
      "\n",
      "Avg Corruption Accuracy: 27.60%\n",
      "Global Sparsity: 40.58% \n",
      "\n",
      "---------- Pruning Iteration:  6 / 44\n"
     ]
    },
    {
     "name": "stderr",
     "output_type": "stream",
     "text": [
      "Loss=2.8487184047698975 Batch_id=195 Accuracy=32.75: 100%|██████████| 196/196 [02:42<00:00,  1.20it/s]\n",
      "Loss=2.976208209991455 Batch_id=195 Accuracy=32.79: 100%|██████████| 196/196 [02:43<00:00,  1.20it/s] \n",
      "Loss=2.794029712677002 Batch_id=195 Accuracy=33.12: 100%|██████████| 196/196 [02:43<00:00,  1.20it/s] \n",
      "Loss=2.830732822418213 Batch_id=195 Accuracy=33.38: 100%|██████████| 196/196 [02:43<00:00,  1.20it/s] \n",
      "Loss=2.81959867477417 Batch_id=195 Accuracy=33.31: 100%|██████████| 196/196 [02:43<00:00,  1.20it/s]  \n",
      "Loss=2.7877631187438965 Batch_id=195 Accuracy=33.77: 100%|██████████| 196/196 [02:43<00:00,  1.20it/s]\n",
      "Loss=3.0295960903167725 Batch_id=195 Accuracy=33.86: 100%|██████████| 196/196 [02:43<00:00,  1.20it/s]\n",
      "Loss=2.823941230773926 Batch_id=195 Accuracy=33.92: 100%|██████████| 196/196 [02:43<00:00,  1.20it/s] \n",
      "Loss=2.8627705574035645 Batch_id=195 Accuracy=34.09: 100%|██████████| 196/196 [02:43<00:00,  1.20it/s]\n"
     ]
    },
    {
     "name": "stdout",
     "output_type": "stream",
     "text": [
      "Epoch 00009: reducing learning rate of group 0 to 5.0000e-04.\n"
     ]
    },
    {
     "name": "stderr",
     "output_type": "stream",
     "text": [
      "Loss=2.7747678756713867 Batch_id=195 Accuracy=37.59: 100%|██████████| 196/196 [02:43<00:00,  1.20it/s]\n"
     ]
    },
    {
     "name": "stdout",
     "output_type": "stream",
     "text": [
      "Test set: Average loss: 2.2128, Accuracy: 2428/5000 (48.56%)\n",
      "\n",
      "--Skipping Acc Comp For Corrupted Data--\n",
      "Global Sparsity: 46.43% \n",
      "\n",
      "---------- Pruning Iteration:  7 / 44\n"
     ]
    },
    {
     "name": "stderr",
     "output_type": "stream",
     "text": [
      "Loss=2.808138608932495 Batch_id=195 Accuracy=34.61: 100%|██████████| 196/196 [02:43<00:00,  1.20it/s] \n",
      "Loss=3.072807788848877 Batch_id=195 Accuracy=35.06: 100%|██████████| 196/196 [02:43<00:00,  1.20it/s] \n",
      "Loss=2.6551737785339355 Batch_id=195 Accuracy=35.13: 100%|██████████| 196/196 [02:43<00:00,  1.20it/s]\n",
      "Loss=2.6683242321014404 Batch_id=195 Accuracy=35.43: 100%|██████████| 196/196 [02:43<00:00,  1.20it/s]\n",
      "Loss=2.7091259956359863 Batch_id=195 Accuracy=35.58: 100%|██████████| 196/196 [02:43<00:00,  1.20it/s]\n",
      "Loss=2.647005081176758 Batch_id=195 Accuracy=35.56: 100%|██████████| 196/196 [02:43<00:00,  1.20it/s] \n",
      "Loss=2.9673964977264404 Batch_id=195 Accuracy=35.76: 100%|██████████| 196/196 [02:43<00:00,  1.20it/s]\n",
      "Loss=2.767432689666748 Batch_id=195 Accuracy=35.81: 100%|██████████| 196/196 [02:43<00:00,  1.20it/s] \n",
      "Loss=2.799030065536499 Batch_id=195 Accuracy=36.01: 100%|██████████| 196/196 [02:43<00:00,  1.20it/s] \n"
     ]
    },
    {
     "name": "stdout",
     "output_type": "stream",
     "text": [
      "Epoch 00009: reducing learning rate of group 0 to 5.0000e-04.\n"
     ]
    },
    {
     "name": "stderr",
     "output_type": "stream",
     "text": [
      "Loss=2.563589334487915 Batch_id=195 Accuracy=40.01: 100%|██████████| 196/196 [02:43<00:00,  1.20it/s] \n"
     ]
    },
    {
     "name": "stdout",
     "output_type": "stream",
     "text": [
      "Test set: Average loss: 2.2104, Accuracy: 2438/5000 (48.76%)\n",
      "\n",
      "--Testing Corruptions--\n"
     ]
    },
    {
     "name": "stderr",
     "output_type": "stream",
     "text": [
      "100%|██████████| 19/19 [06:59<00:00, 22.07s/it]\n"
     ]
    },
    {
     "name": "stdout",
     "output_type": "stream",
     "text": [
      "\n",
      "Avg Corruption Accuracy: 26.90%\n",
      "Global Sparsity: 51.70% \n",
      "\n",
      "---------- Pruning Iteration:  8 / 44\n"
     ]
    },
    {
     "name": "stderr",
     "output_type": "stream",
     "text": [
      "Loss=2.6222500801086426 Batch_id=195 Accuracy=36.67: 100%|██████████| 196/196 [02:43<00:00,  1.20it/s]\n",
      "Loss=2.5910303592681885 Batch_id=195 Accuracy=36.91: 100%|██████████| 196/196 [02:43<00:00,  1.20it/s]\n",
      "Loss=2.7681078910827637 Batch_id=195 Accuracy=36.96: 100%|██████████| 196/196 [02:43<00:00,  1.20it/s]\n",
      "Loss=2.6831352710723877 Batch_id=195 Accuracy=37.37: 100%|██████████| 196/196 [02:43<00:00,  1.20it/s]\n",
      "Loss=2.5539209842681885 Batch_id=195 Accuracy=37.50: 100%|██████████| 196/196 [02:43<00:00,  1.20it/s]\n",
      "Loss=2.62567400932312 Batch_id=195 Accuracy=37.61: 100%|██████████| 196/196 [02:43<00:00,  1.20it/s]  \n",
      "Loss=2.7906110286712646 Batch_id=195 Accuracy=37.79: 100%|██████████| 196/196 [02:43<00:00,  1.20it/s]\n",
      "Loss=2.6762185096740723 Batch_id=195 Accuracy=37.65: 100%|██████████| 196/196 [02:43<00:00,  1.20it/s]\n"
     ]
    },
    {
     "name": "stdout",
     "output_type": "stream",
     "text": [
      "Epoch 00008: reducing learning rate of group 0 to 5.0000e-04.\n"
     ]
    },
    {
     "name": "stderr",
     "output_type": "stream",
     "text": [
      "Loss=2.5496349334716797 Batch_id=195 Accuracy=41.91: 100%|██████████| 196/196 [02:43<00:00,  1.20it/s]\n",
      "Loss=2.396219491958618 Batch_id=195 Accuracy=43.38: 100%|██████████| 196/196 [02:43<00:00,  1.20it/s] \n"
     ]
    },
    {
     "name": "stdout",
     "output_type": "stream",
     "text": [
      "Test set: Average loss: 2.1979, Accuracy: 2441/5000 (48.82%)\n",
      "\n",
      "--Skipping Acc Comp For Corrupted Data--\n",
      "Global Sparsity: 56.44% \n",
      "\n",
      "---------- Pruning Iteration:  9 / 44\n"
     ]
    },
    {
     "name": "stderr",
     "output_type": "stream",
     "text": [
      "Loss=2.743037700653076 Batch_id=195 Accuracy=38.30: 100%|██████████| 196/196 [02:43<00:00,  1.20it/s] \n",
      "Loss=2.6206305027008057 Batch_id=195 Accuracy=38.47: 100%|██████████| 196/196 [02:43<00:00,  1.20it/s]\n",
      "Loss=2.4498379230499268 Batch_id=195 Accuracy=38.67: 100%|██████████| 196/196 [02:43<00:00,  1.20it/s]\n",
      "Loss=2.4959640502929688 Batch_id=195 Accuracy=38.80: 100%|██████████| 196/196 [02:43<00:00,  1.20it/s]\n",
      "Loss=2.620788335800171 Batch_id=195 Accuracy=39.08: 100%|██████████| 196/196 [02:43<00:00,  1.20it/s] \n",
      "Loss=2.7408833503723145 Batch_id=195 Accuracy=39.05: 100%|██████████| 196/196 [02:43<00:00,  1.20it/s]\n"
     ]
    },
    {
     "name": "stdout",
     "output_type": "stream",
     "text": [
      "Epoch 00006: reducing learning rate of group 0 to 5.0000e-04.\n"
     ]
    },
    {
     "name": "stderr",
     "output_type": "stream",
     "text": [
      "Loss=2.2042863368988037 Batch_id=195 Accuracy=43.24: 100%|██████████| 196/196 [02:43<00:00,  1.20it/s]\n",
      "Loss=2.1850955486297607 Batch_id=195 Accuracy=44.87: 100%|██████████| 196/196 [02:43<00:00,  1.20it/s]\n",
      "Loss=2.2570576667785645 Batch_id=195 Accuracy=45.37: 100%|██████████| 196/196 [02:43<00:00,  1.20it/s]\n",
      "Loss=2.251025676727295 Batch_id=195 Accuracy=45.74: 100%|██████████| 196/196 [02:43<00:00,  1.20it/s] \n"
     ]
    },
    {
     "name": "stdout",
     "output_type": "stream",
     "text": [
      "Test set: Average loss: 2.2014, Accuracy: 2450/5000 (49.00%)\n",
      "\n",
      "--Testing Corruptions--\n"
     ]
    },
    {
     "name": "stderr",
     "output_type": "stream",
     "text": [
      "100%|██████████| 19/19 [07:09<00:00, 22.59s/it]\n"
     ]
    },
    {
     "name": "stdout",
     "output_type": "stream",
     "text": [
      "\n",
      "Avg Corruption Accuracy: 26.52%\n",
      "Global Sparsity: 60.70% \n",
      "\n",
      "---------- Pruning Iteration:  10 / 44\n"
     ]
    },
    {
     "name": "stderr",
     "output_type": "stream",
     "text": [
      "Loss=2.5978574752807617 Batch_id=195 Accuracy=39.51: 100%|██████████| 196/196 [02:43<00:00,  1.20it/s]\n",
      "Loss=2.565965175628662 Batch_id=195 Accuracy=39.47: 100%|██████████| 196/196 [02:43<00:00,  1.20it/s] \n",
      "Loss=2.650550127029419 Batch_id=195 Accuracy=39.85: 100%|██████████| 196/196 [02:43<00:00,  1.20it/s] \n",
      "Loss=2.4021847248077393 Batch_id=195 Accuracy=39.89: 100%|██████████| 196/196 [02:44<00:00,  1.19it/s]\n",
      "Loss=2.5631110668182373 Batch_id=195 Accuracy=40.10: 100%|██████████| 196/196 [02:44<00:00,  1.19it/s]\n",
      "Loss=2.4969944953918457 Batch_id=195 Accuracy=40.08: 100%|██████████| 196/196 [02:43<00:00,  1.20it/s]\n",
      "Loss=2.765471935272217 Batch_id=195 Accuracy=40.16: 100%|██████████| 196/196 [02:43<00:00,  1.20it/s] \n"
     ]
    },
    {
     "name": "stdout",
     "output_type": "stream",
     "text": [
      "Epoch 00007: reducing learning rate of group 0 to 5.0000e-04.\n"
     ]
    },
    {
     "name": "stderr",
     "output_type": "stream",
     "text": [
      "Loss=2.369433879852295 Batch_id=195 Accuracy=45.00: 100%|██████████| 196/196 [02:44<00:00,  1.20it/s] \n",
      "Loss=2.187861919403076 Batch_id=195 Accuracy=46.53: 100%|██████████| 196/196 [02:43<00:00,  1.20it/s] \n",
      "Loss=2.272482395172119 Batch_id=195 Accuracy=47.01: 100%|██████████| 196/196 [02:43<00:00,  1.20it/s] \n"
     ]
    },
    {
     "name": "stdout",
     "output_type": "stream",
     "text": [
      "Test set: Average loss: 2.2059, Accuracy: 2439/5000 (48.78%)\n",
      "\n",
      "--Skipping Acc Comp For Corrupted Data--\n",
      "Global Sparsity: 64.54% \n",
      "\n",
      "---------- Pruning Iteration:  11 / 44\n"
     ]
    },
    {
     "name": "stderr",
     "output_type": "stream",
     "text": [
      "Loss=2.590597629547119 Batch_id=195 Accuracy=40.42: 100%|██████████| 196/196 [02:43<00:00,  1.20it/s] \n",
      "Loss=2.350494861602783 Batch_id=195 Accuracy=40.70: 100%|██████████| 196/196 [02:43<00:00,  1.20it/s] \n",
      "Loss=2.339616298675537 Batch_id=195 Accuracy=40.76: 100%|██████████| 196/196 [02:43<00:00,  1.20it/s] \n",
      "Loss=2.3510630130767822 Batch_id=195 Accuracy=40.81: 100%|██████████| 196/196 [02:43<00:00,  1.20it/s]\n",
      "Loss=2.4191975593566895 Batch_id=195 Accuracy=41.22: 100%|██████████| 196/196 [02:43<00:00,  1.20it/s]\n",
      "Loss=2.4980456829071045 Batch_id=195 Accuracy=41.34: 100%|██████████| 196/196 [02:43<00:00,  1.20it/s]\n"
     ]
    },
    {
     "name": "stdout",
     "output_type": "stream",
     "text": [
      "Epoch 00006: reducing learning rate of group 0 to 5.0000e-04.\n"
     ]
    },
    {
     "name": "stderr",
     "output_type": "stream",
     "text": [
      "Loss=2.3694071769714355 Batch_id=195 Accuracy=45.90: 100%|██████████| 196/196 [02:43<00:00,  1.20it/s]\n",
      "Loss=2.3166403770446777 Batch_id=195 Accuracy=47.73: 100%|██████████| 196/196 [02:44<00:00,  1.20it/s]\n",
      "Loss=2.2911195755004883 Batch_id=195 Accuracy=47.86: 100%|██████████| 196/196 [02:44<00:00,  1.19it/s]\n",
      "Loss=2.514176368713379 Batch_id=195 Accuracy=48.33: 100%|██████████| 196/196 [02:43<00:00,  1.20it/s] \n"
     ]
    },
    {
     "name": "stdout",
     "output_type": "stream",
     "text": [
      "Test set: Average loss: 2.2065, Accuracy: 2430/5000 (48.60%)\n",
      "\n",
      "--Testing Corruptions--\n"
     ]
    },
    {
     "name": "stderr",
     "output_type": "stream",
     "text": [
      "100%|██████████| 19/19 [07:18<00:00, 23.07s/it]\n"
     ]
    },
    {
     "name": "stdout",
     "output_type": "stream",
     "text": [
      "\n",
      "Avg Corruption Accuracy: 26.45%\n",
      "Global Sparsity: 68.00% \n",
      "\n",
      "---------- Pruning Iteration:  12 / 44\n"
     ]
    },
    {
     "name": "stderr",
     "output_type": "stream",
     "text": [
      "Loss=2.3834404945373535 Batch_id=195 Accuracy=41.38: 100%|██████████| 196/196 [02:44<00:00,  1.19it/s]\n",
      "Loss=2.3847243785858154 Batch_id=195 Accuracy=41.38: 100%|██████████| 196/196 [02:43<00:00,  1.20it/s]\n",
      "Loss=2.5328011512756348 Batch_id=195 Accuracy=41.89: 100%|██████████| 196/196 [02:44<00:00,  1.19it/s]\n",
      "Loss=2.4839224815368652 Batch_id=195 Accuracy=41.73: 100%|██████████| 196/196 [02:44<00:00,  1.19it/s]\n"
     ]
    },
    {
     "name": "stdout",
     "output_type": "stream",
     "text": [
      "Epoch 00004: reducing learning rate of group 0 to 5.0000e-04.\n"
     ]
    },
    {
     "name": "stderr",
     "output_type": "stream",
     "text": [
      "Loss=2.0313332080841064 Batch_id=195 Accuracy=46.83: 100%|██████████| 196/196 [02:44<00:00,  1.19it/s]\n",
      "Loss=2.1570370197296143 Batch_id=195 Accuracy=48.20: 100%|██████████| 196/196 [02:44<00:00,  1.19it/s]\n",
      "Loss=2.0266661643981934 Batch_id=195 Accuracy=48.86: 100%|██████████| 196/196 [02:44<00:00,  1.19it/s]\n",
      "Loss=2.188046932220459 Batch_id=195 Accuracy=49.02: 100%|██████████| 196/196 [02:44<00:00,  1.19it/s] \n",
      "Loss=2.2165703773498535 Batch_id=195 Accuracy=49.52: 100%|██████████| 196/196 [02:44<00:00,  1.19it/s]\n",
      "Loss=2.146594285964966 Batch_id=195 Accuracy=49.46: 100%|██████████| 196/196 [02:44<00:00,  1.19it/s] "
     ]
    },
    {
     "name": "stdout",
     "output_type": "stream",
     "text": [
      "Epoch 00010: reducing learning rate of group 0 to 2.5000e-05.\n"
     ]
    },
    {
     "name": "stderr",
     "output_type": "stream",
     "text": [
      "\n"
     ]
    },
    {
     "name": "stdout",
     "output_type": "stream",
     "text": [
      "Test set: Average loss: 2.2151, Accuracy: 2438/5000 (48.76%)\n",
      "\n",
      "--Skipping Acc Comp For Corrupted Data--\n",
      "Global Sparsity: 71.10% \n",
      "\n",
      "---------- Pruning Iteration:  13 / 44\n"
     ]
    },
    {
     "name": "stderr",
     "output_type": "stream",
     "text": [
      "Loss=2.531543016433716 Batch_id=195 Accuracy=41.66: 100%|██████████| 196/196 [02:43<00:00,  1.20it/s] \n",
      "Loss=2.2134361267089844 Batch_id=195 Accuracy=41.73: 100%|██████████| 196/196 [02:44<00:00,  1.19it/s]\n",
      "Loss=2.4487013816833496 Batch_id=195 Accuracy=41.86: 100%|██████████| 196/196 [02:44<00:00,  1.19it/s]\n",
      "Loss=2.4461772441864014 Batch_id=195 Accuracy=42.33: 100%|██████████| 196/196 [02:44<00:00,  1.19it/s]\n",
      "Loss=2.4051573276519775 Batch_id=195 Accuracy=42.36: 100%|██████████| 196/196 [02:44<00:00,  1.19it/s]\n"
     ]
    },
    {
     "name": "stdout",
     "output_type": "stream",
     "text": [
      "Epoch 00005: reducing learning rate of group 0 to 5.0000e-04.\n"
     ]
    },
    {
     "name": "stderr",
     "output_type": "stream",
     "text": [
      "Loss=2.0693154335021973 Batch_id=195 Accuracy=47.32: 100%|██████████| 196/196 [02:44<00:00,  1.19it/s]\n",
      "Loss=2.1028356552124023 Batch_id=195 Accuracy=48.94: 100%|██████████| 196/196 [02:44<00:00,  1.19it/s]\n",
      "Loss=2.0949864387512207 Batch_id=195 Accuracy=49.42: 100%|██████████| 196/196 [02:44<00:00,  1.19it/s]\n",
      "Loss=2.14909029006958 Batch_id=195 Accuracy=49.70: 100%|██████████| 196/196 [02:44<00:00,  1.19it/s]  \n"
     ]
    },
    {
     "name": "stdout",
     "output_type": "stream",
     "text": [
      "Epoch 00009: reducing learning rate of group 0 to 2.5000e-05.\n"
     ]
    },
    {
     "name": "stderr",
     "output_type": "stream",
     "text": [
      "Loss=2.2908804416656494 Batch_id=195 Accuracy=50.09: 100%|██████████| 196/196 [02:44<00:00,  1.19it/s]\n"
     ]
    },
    {
     "name": "stdout",
     "output_type": "stream",
     "text": [
      "Test set: Average loss: 2.2218, Accuracy: 2439/5000 (48.78%)\n",
      "\n",
      "--Skipping Acc Comp For Corrupted Data--\n",
      "Global Sparsity: 73.90% \n",
      "\n",
      "---------- Pruning Iteration:  14 / 44\n"
     ]
    },
    {
     "name": "stderr",
     "output_type": "stream",
     "text": [
      "Loss=2.278003454208374 Batch_id=195 Accuracy=41.81: 100%|██████████| 196/196 [02:44<00:00,  1.19it/s] \n",
      "Loss=2.3539669513702393 Batch_id=195 Accuracy=42.27: 100%|██████████| 196/196 [02:44<00:00,  1.19it/s]\n",
      "Loss=2.3708627223968506 Batch_id=195 Accuracy=42.37: 100%|██████████| 196/196 [02:44<00:00,  1.19it/s]\n",
      "Loss=2.4942073822021484 Batch_id=195 Accuracy=42.46: 100%|██████████| 196/196 [02:44<00:00,  1.19it/s]\n"
     ]
    },
    {
     "name": "stdout",
     "output_type": "stream",
     "text": [
      "Epoch 00004: reducing learning rate of group 0 to 5.0000e-04.\n"
     ]
    },
    {
     "name": "stderr",
     "output_type": "stream",
     "text": [
      "Loss=2.251258373260498 Batch_id=195 Accuracy=47.27: 100%|██████████| 196/196 [02:44<00:00,  1.19it/s] \n",
      "Loss=2.088331937789917 Batch_id=195 Accuracy=49.25: 100%|██████████| 196/196 [02:44<00:00,  1.19it/s] \n",
      "Loss=2.018950939178467 Batch_id=195 Accuracy=49.51: 100%|██████████| 196/196 [02:44<00:00,  1.19it/s] \n",
      "Loss=1.9509515762329102 Batch_id=195 Accuracy=49.92: 100%|██████████| 196/196 [02:44<00:00,  1.19it/s]\n",
      "Loss=2.1143038272857666 Batch_id=195 Accuracy=50.02: 100%|██████████| 196/196 [02:44<00:00,  1.19it/s]\n",
      "Loss=1.998573899269104 Batch_id=195 Accuracy=50.22: 100%|██████████| 196/196 [02:44<00:00,  1.19it/s] \n"
     ]
    },
    {
     "name": "stdout",
     "output_type": "stream",
     "text": [
      "Test set: Average loss: 2.2189, Accuracy: 2419/5000 (48.38%)\n",
      "\n",
      "--Skipping Acc Comp For Corrupted Data--\n",
      "Global Sparsity: 76.42% \n",
      "\n",
      "---------- Pruning Iteration:  15 / 44\n"
     ]
    },
    {
     "name": "stderr",
     "output_type": "stream",
     "text": [
      "Loss=2.5721893310546875 Batch_id=195 Accuracy=41.96: 100%|██████████| 196/196 [02:44<00:00,  1.19it/s]\n",
      "Loss=2.513260841369629 Batch_id=195 Accuracy=42.20: 100%|██████████| 196/196 [02:44<00:00,  1.19it/s] \n",
      "Loss=2.444913625717163 Batch_id=195 Accuracy=42.80: 100%|██████████| 196/196 [02:43<00:00,  1.20it/s] \n",
      "Loss=2.203988552093506 Batch_id=195 Accuracy=42.94: 100%|██████████| 196/196 [02:44<00:00,  1.19it/s] \n",
      "Loss=2.344482898712158 Batch_id=195 Accuracy=43.11: 100%|██████████| 196/196 [02:44<00:00,  1.19it/s] \n",
      "Loss=2.258418560028076 Batch_id=195 Accuracy=43.08: 100%|██████████| 196/196 [02:44<00:00,  1.19it/s] \n",
      "Loss=2.5828707218170166 Batch_id=195 Accuracy=43.05: 100%|██████████| 196/196 [02:44<00:00,  1.19it/s]\n"
     ]
    },
    {
     "name": "stdout",
     "output_type": "stream",
     "text": [
      "Epoch 00007: reducing learning rate of group 0 to 5.0000e-04.\n"
     ]
    },
    {
     "name": "stderr",
     "output_type": "stream",
     "text": [
      "Loss=2.1115317344665527 Batch_id=195 Accuracy=48.07: 100%|██████████| 196/196 [02:44<00:00,  1.19it/s]\n",
      "Loss=2.006953716278076 Batch_id=195 Accuracy=49.63: 100%|██████████| 196/196 [02:44<00:00,  1.19it/s] \n",
      "Loss=1.9015958309173584 Batch_id=195 Accuracy=50.22: 100%|██████████| 196/196 [02:44<00:00,  1.19it/s]\n"
     ]
    },
    {
     "name": "stdout",
     "output_type": "stream",
     "text": [
      "Test set: Average loss: 2.2340, Accuracy: 2410/5000 (48.20%)\n",
      "\n",
      "--Testing Corruptions--\n"
     ]
    },
    {
     "name": "stderr",
     "output_type": "stream",
     "text": [
      "100%|██████████| 19/19 [07:24<00:00, 23.41s/it]\n"
     ]
    },
    {
     "name": "stdout",
     "output_type": "stream",
     "text": [
      "\n",
      "Avg Corruption Accuracy: 25.77%\n",
      "Global Sparsity: 78.69% \n",
      "\n",
      "---------- Pruning Iteration:  16 / 44\n"
     ]
    },
    {
     "name": "stderr",
     "output_type": "stream",
     "text": [
      "Loss=2.324336528778076 Batch_id=195 Accuracy=42.48: 100%|██████████| 196/196 [02:44<00:00,  1.19it/s] \n",
      "Loss=2.4342334270477295 Batch_id=195 Accuracy=42.69: 100%|██████████| 196/196 [02:44<00:00,  1.19it/s]\n",
      "Loss=2.2976624965667725 Batch_id=195 Accuracy=43.10: 100%|██████████| 196/196 [02:44<00:00,  1.19it/s]\n",
      "Loss=2.5064167976379395 Batch_id=195 Accuracy=43.18: 100%|██████████| 196/196 [02:44<00:00,  1.19it/s]\n",
      "Loss=2.406726360321045 Batch_id=195 Accuracy=43.41: 100%|██████████| 196/196 [02:44<00:00,  1.19it/s] \n",
      "Loss=2.3055777549743652 Batch_id=195 Accuracy=43.59: 100%|██████████| 196/196 [02:44<00:00,  1.19it/s]\n"
     ]
    },
    {
     "name": "stdout",
     "output_type": "stream",
     "text": [
      "Epoch 00006: reducing learning rate of group 0 to 5.0000e-04.\n"
     ]
    },
    {
     "name": "stderr",
     "output_type": "stream",
     "text": [
      "Loss=2.1964287757873535 Batch_id=195 Accuracy=48.19: 100%|██████████| 196/196 [02:44<00:00,  1.19it/s]\n",
      "Loss=1.995627760887146 Batch_id=195 Accuracy=49.81: 100%|██████████| 196/196 [02:44<00:00,  1.19it/s] \n",
      "Loss=2.103172779083252 Batch_id=195 Accuracy=50.27: 100%|██████████| 196/196 [02:44<00:00,  1.19it/s] \n",
      "Loss=2.200137138366699 Batch_id=195 Accuracy=50.72: 100%|██████████| 196/196 [02:44<00:00,  1.19it/s] \n"
     ]
    },
    {
     "name": "stdout",
     "output_type": "stream",
     "text": [
      "Test set: Average loss: 2.2275, Accuracy: 2426/5000 (48.52%)\n",
      "\n",
      "--Skipping Acc Comp For Corrupted Data--\n",
      "Global Sparsity: 80.73% \n",
      "\n",
      "---------- Pruning Iteration:  17 / 44\n"
     ]
    },
    {
     "name": "stderr",
     "output_type": "stream",
     "text": [
      "Loss=2.3049004077911377 Batch_id=195 Accuracy=42.45: 100%|██████████| 196/196 [02:44<00:00,  1.19it/s]\n",
      "Loss=2.4963202476501465 Batch_id=195 Accuracy=42.73: 100%|██████████| 196/196 [02:44<00:00,  1.19it/s]\n",
      "Loss=2.5652358531951904 Batch_id=195 Accuracy=43.16: 100%|██████████| 196/196 [02:44<00:00,  1.19it/s]\n",
      "Loss=2.408086061477661 Batch_id=195 Accuracy=43.33: 100%|██████████| 196/196 [02:44<00:00,  1.19it/s] \n"
     ]
    },
    {
     "name": "stdout",
     "output_type": "stream",
     "text": [
      "Epoch 00004: reducing learning rate of group 0 to 5.0000e-04.\n"
     ]
    },
    {
     "name": "stderr",
     "output_type": "stream",
     "text": [
      "Loss=2.2099978923797607 Batch_id=195 Accuracy=48.04: 100%|██████████| 196/196 [02:44<00:00,  1.19it/s]\n",
      "Loss=2.0925610065460205 Batch_id=195 Accuracy=49.74: 100%|██████████| 196/196 [02:44<00:00,  1.19it/s]\n",
      "Loss=2.2147507667541504 Batch_id=195 Accuracy=50.08: 100%|██████████| 196/196 [02:44<00:00,  1.19it/s]\n",
      "Loss=2.021345615386963 Batch_id=195 Accuracy=50.65: 100%|██████████| 196/196 [02:44<00:00,  1.19it/s] \n",
      "Loss=1.943105936050415 Batch_id=195 Accuracy=50.73: 100%|██████████| 196/196 [02:44<00:00,  1.19it/s] \n",
      "Loss=1.7363014221191406 Batch_id=195 Accuracy=51.10: 100%|██████████| 196/196 [02:44<00:00,  1.19it/s]\n"
     ]
    },
    {
     "name": "stdout",
     "output_type": "stream",
     "text": [
      "Test set: Average loss: 2.2289, Accuracy: 2415/5000 (48.30%)\n",
      "\n",
      "--Skipping Acc Comp For Corrupted Data--\n",
      "Global Sparsity: 82.57% \n",
      "\n",
      "---------- Pruning Iteration:  18 / 44\n"
     ]
    },
    {
     "name": "stderr",
     "output_type": "stream",
     "text": [
      "Loss=2.361292600631714 Batch_id=195 Accuracy=42.13: 100%|██████████| 196/196 [02:44<00:00,  1.19it/s] \n",
      "Loss=2.5926015377044678 Batch_id=195 Accuracy=42.66: 100%|██████████| 196/196 [02:44<00:00,  1.19it/s]\n",
      "Loss=2.476879596710205 Batch_id=195 Accuracy=42.70: 100%|██████████| 196/196 [02:44<00:00,  1.19it/s] \n",
      "Loss=2.200435161590576 Batch_id=195 Accuracy=43.05: 100%|██████████| 196/196 [02:44<00:00,  1.19it/s] \n",
      "Loss=2.4552817344665527 Batch_id=195 Accuracy=43.14: 100%|██████████| 196/196 [02:44<00:00,  1.19it/s]\n",
      "Loss=2.1748757362365723 Batch_id=195 Accuracy=43.42: 100%|██████████| 196/196 [02:44<00:00,  1.19it/s]\n",
      "Loss=2.3241114616394043 Batch_id=195 Accuracy=43.33: 100%|██████████| 196/196 [02:44<00:00,  1.19it/s]\n",
      "Loss=2.5143096446990967 Batch_id=195 Accuracy=43.49: 100%|██████████| 196/196 [02:44<00:00,  1.19it/s]\n",
      "Loss=2.4705581665039062 Batch_id=195 Accuracy=43.64: 100%|██████████| 196/196 [02:44<00:00,  1.19it/s]\n"
     ]
    },
    {
     "name": "stdout",
     "output_type": "stream",
     "text": [
      "Epoch 00009: reducing learning rate of group 0 to 5.0000e-04.\n"
     ]
    },
    {
     "name": "stderr",
     "output_type": "stream",
     "text": [
      "Loss=2.140123128890991 Batch_id=195 Accuracy=48.20: 100%|██████████| 196/196 [02:44<00:00,  1.19it/s] \n"
     ]
    },
    {
     "name": "stdout",
     "output_type": "stream",
     "text": [
      "Test set: Average loss: 2.2530, Accuracy: 2395/5000 (47.90%)\n",
      "\n",
      "--Skipping Acc Comp For Corrupted Data--\n",
      "Global Sparsity: 84.22% \n",
      "\n",
      "---------- Pruning Iteration:  19 / 44\n"
     ]
    },
    {
     "name": "stderr",
     "output_type": "stream",
     "text": [
      "Loss=2.387705087661743 Batch_id=195 Accuracy=42.05: 100%|██████████| 196/196 [02:43<00:00,  1.20it/s] \n",
      "Loss=2.384652614593506 Batch_id=195 Accuracy=42.62: 100%|██████████| 196/196 [02:44<00:00,  1.19it/s] \n",
      "Loss=2.523773670196533 Batch_id=195 Accuracy=42.85: 100%|██████████| 196/196 [02:44<00:00,  1.19it/s] \n",
      "Loss=2.286895275115967 Batch_id=195 Accuracy=43.19: 100%|██████████| 196/196 [02:44<00:00,  1.19it/s] \n",
      "Loss=2.4444587230682373 Batch_id=195 Accuracy=43.46: 100%|██████████| 196/196 [02:44<00:00,  1.19it/s]\n",
      "Loss=2.2921760082244873 Batch_id=195 Accuracy=43.40: 100%|██████████| 196/196 [02:44<00:00,  1.19it/s]\n",
      "Loss=2.12656307220459 Batch_id=195 Accuracy=43.70: 100%|██████████| 196/196 [02:44<00:00,  1.19it/s]  \n",
      "Loss=2.5268213748931885 Batch_id=195 Accuracy=43.73: 100%|██████████| 196/196 [02:44<00:00,  1.19it/s]\n",
      "Loss=2.5306949615478516 Batch_id=195 Accuracy=43.76: 100%|██████████| 196/196 [02:44<00:00,  1.19it/s]\n",
      "Loss=2.2243216037750244 Batch_id=195 Accuracy=43.58: 100%|██████████| 196/196 [02:44<00:00,  1.19it/s]"
     ]
    },
    {
     "name": "stdout",
     "output_type": "stream",
     "text": [
      "Epoch 00010: reducing learning rate of group 0 to 5.0000e-04.\n"
     ]
    },
    {
     "name": "stderr",
     "output_type": "stream",
     "text": [
      "\n"
     ]
    },
    {
     "name": "stdout",
     "output_type": "stream",
     "text": [
      "Test set: Average loss: 2.3471, Accuracy: 2269/5000 (45.38%)\n",
      "\n",
      "--Skipping Acc Comp For Corrupted Data--\n",
      "Global Sparsity: 85.71% \n",
      "\n",
      "---------- Pruning Iteration:  20 / 44\n"
     ]
    },
    {
     "name": "stderr",
     "output_type": "stream",
     "text": [
      "Loss=2.636197090148926 Batch_id=195 Accuracy=41.97: 100%|██████████| 196/196 [02:44<00:00,  1.20it/s] \n",
      "Loss=2.501530408859253 Batch_id=195 Accuracy=42.82: 100%|██████████| 196/196 [02:44<00:00,  1.19it/s] \n",
      "Loss=2.4359047412872314 Batch_id=195 Accuracy=42.97: 100%|██████████| 196/196 [02:43<00:00,  1.20it/s]\n",
      "Loss=2.3809235095977783 Batch_id=195 Accuracy=43.20: 100%|██████████| 196/196 [02:43<00:00,  1.20it/s]\n",
      "Loss=2.4319963455200195 Batch_id=195 Accuracy=43.62: 100%|██████████| 196/196 [02:44<00:00,  1.20it/s]\n",
      "Loss=2.2491912841796875 Batch_id=195 Accuracy=43.61: 100%|██████████| 196/196 [02:44<00:00,  1.19it/s]\n",
      "Loss=2.2940828800201416 Batch_id=195 Accuracy=43.79: 100%|██████████| 196/196 [02:44<00:00,  1.19it/s]\n",
      "Loss=2.1777687072753906 Batch_id=195 Accuracy=43.90: 100%|██████████| 196/196 [02:44<00:00,  1.19it/s]\n",
      "Loss=2.511556386947632 Batch_id=195 Accuracy=44.58: 100%|██████████| 196/196 [02:43<00:00,  1.20it/s] \n",
      "Loss=2.1145122051239014 Batch_id=195 Accuracy=46.20: 100%|██████████| 196/196 [02:44<00:00,  1.19it/s]\n"
     ]
    },
    {
     "name": "stdout",
     "output_type": "stream",
     "text": [
      "Test set: Average loss: 2.3760, Accuracy: 2235/5000 (44.70%)\n",
      "\n",
      "--Skipping Acc Comp For Corrupted Data--\n",
      "Global Sparsity: 87.04% \n",
      "\n",
      "---------- Pruning Iteration:  21 / 44\n"
     ]
    },
    {
     "name": "stderr",
     "output_type": "stream",
     "text": [
      "Loss=2.2968974113464355 Batch_id=195 Accuracy=45.33: 100%|██████████| 196/196 [02:44<00:00,  1.19it/s]\n",
      "Loss=2.366670608520508 Batch_id=195 Accuracy=42.45: 100%|██████████| 196/196 [02:44<00:00,  1.19it/s] \n",
      "Loss=2.1007914543151855 Batch_id=195 Accuracy=44.95: 100%|██████████| 196/196 [02:43<00:00,  1.20it/s]\n",
      "Loss=1.2865608930587769 Batch_id=195 Accuracy=60.93: 100%|██████████| 196/196 [02:44<00:00,  1.19it/s]\n",
      "Loss=0.8274499773979187 Batch_id=195 Accuracy=79.90: 100%|██████████| 196/196 [02:44<00:00,  1.19it/s]\n",
      "Loss=0.7052788138389587 Batch_id=195 Accuracy=86.97: 100%|██████████| 196/196 [02:44<00:00,  1.19it/s]\n",
      "Loss=0.5366649031639099 Batch_id=195 Accuracy=88.09: 100%|██████████| 196/196 [02:44<00:00,  1.19it/s]\n",
      "Loss=0.6572264432907104 Batch_id=195 Accuracy=87.95: 100%|██████████| 196/196 [02:44<00:00,  1.19it/s] \n",
      "Loss=0.5478518605232239 Batch_id=195 Accuracy=88.21: 100%|██████████| 196/196 [02:44<00:00,  1.19it/s] \n",
      "Loss=0.46686846017837524 Batch_id=195 Accuracy=88.99: 100%|██████████| 196/196 [02:44<00:00,  1.19it/s]\n"
     ]
    },
    {
     "name": "stdout",
     "output_type": "stream",
     "text": [
      "Test set: Average loss: 2.5424, Accuracy: 2176/5000 (43.52%)\n",
      "\n",
      "--Skipping Acc Comp For Corrupted Data--\n",
      "Global Sparsity: 88.25% \n",
      "\n",
      "---------- Pruning Iteration:  22 / 44\n"
     ]
    },
    {
     "name": "stderr",
     "output_type": "stream",
     "text": [
      "Loss=0.4482479989528656 Batch_id=195 Accuracy=89.62: 100%|██████████| 196/196 [02:44<00:00,  1.19it/s] \n",
      "Loss=0.4068741798400879 Batch_id=195 Accuracy=90.92: 100%|██████████| 196/196 [02:44<00:00,  1.19it/s] \n",
      "Loss=0.48214489221572876 Batch_id=195 Accuracy=90.42: 100%|██████████| 196/196 [02:44<00:00,  1.19it/s]\n",
      "Loss=0.6377654075622559 Batch_id=195 Accuracy=90.18: 100%|██████████| 196/196 [02:44<00:00,  1.19it/s] \n",
      "Loss=0.37218981981277466 Batch_id=195 Accuracy=90.75: 100%|██████████| 196/196 [02:44<00:00,  1.19it/s]\n",
      "Loss=0.41135796904563904 Batch_id=195 Accuracy=90.89: 100%|██████████| 196/196 [02:44<00:00,  1.19it/s]\n",
      "Loss=0.32873350381851196 Batch_id=195 Accuracy=90.56: 100%|██████████| 196/196 [02:44<00:00,  1.19it/s]\n",
      "Loss=0.3975161612033844 Batch_id=195 Accuracy=91.88: 100%|██████████| 196/196 [02:44<00:00,  1.19it/s] \n",
      "Loss=0.42603254318237305 Batch_id=195 Accuracy=92.91: 100%|██████████| 196/196 [02:44<00:00,  1.19it/s]\n",
      "Loss=0.29282209277153015 Batch_id=195 Accuracy=92.12: 100%|██████████| 196/196 [02:44<00:00,  1.19it/s]\n"
     ]
    },
    {
     "name": "stdout",
     "output_type": "stream",
     "text": [
      "Test set: Average loss: 2.3485, Accuracy: 2402/5000 (48.04%)\n",
      "\n",
      "--Testing Corruptions--\n"
     ]
    },
    {
     "name": "stderr",
     "output_type": "stream",
     "text": [
      "100%|██████████| 19/19 [07:29<00:00, 23.64s/it]\n"
     ]
    },
    {
     "name": "stdout",
     "output_type": "stream",
     "text": [
      "\n",
      "Avg Corruption Accuracy: 23.47%\n",
      "Global Sparsity: 89.33% \n",
      "\n",
      "---------- Pruning Iteration:  23 / 44\n"
     ]
    },
    {
     "name": "stderr",
     "output_type": "stream",
     "text": [
      "Loss=0.4606919288635254 Batch_id=195 Accuracy=91.86: 100%|██████████| 196/196 [02:43<00:00,  1.20it/s] \n",
      "Loss=0.38781365752220154 Batch_id=195 Accuracy=91.93: 100%|██████████| 196/196 [02:44<00:00,  1.19it/s]\n",
      "Loss=0.2735525369644165 Batch_id=195 Accuracy=92.57: 100%|██████████| 196/196 [02:44<00:00,  1.19it/s] \n",
      "Loss=0.2771996855735779 Batch_id=195 Accuracy=92.25: 100%|██████████| 196/196 [02:43<00:00,  1.20it/s] \n",
      "Loss=0.5921651124954224 Batch_id=195 Accuracy=90.54: 100%|██████████| 196/196 [02:43<00:00,  1.20it/s] \n",
      "Loss=0.6670470833778381 Batch_id=195 Accuracy=91.21: 100%|██████████| 196/196 [02:44<00:00,  1.19it/s] \n"
     ]
    },
    {
     "name": "stdout",
     "output_type": "stream",
     "text": [
      "Epoch 00006: reducing learning rate of group 0 to 5.0000e-04.\n"
     ]
    },
    {
     "name": "stderr",
     "output_type": "stream",
     "text": [
      "Loss=0.49063459038734436 Batch_id=195 Accuracy=88.82: 100%|██████████| 196/196 [02:44<00:00,  1.19it/s]\n",
      "Loss=0.4139009416103363 Batch_id=195 Accuracy=90.35: 100%|██████████| 196/196 [02:43<00:00,  1.20it/s] \n",
      "Loss=0.3407917618751526 Batch_id=195 Accuracy=91.59: 100%|██████████| 196/196 [02:43<00:00,  1.20it/s] \n"
     ]
    },
    {
     "name": "stdout",
     "output_type": "stream",
     "text": [
      "Epoch 00009: reducing learning rate of group 0 to 2.5000e-05.\n"
     ]
    },
    {
     "name": "stderr",
     "output_type": "stream",
     "text": [
      "Loss=0.42280274629592896 Batch_id=195 Accuracy=91.97: 100%|██████████| 196/196 [02:43<00:00,  1.20it/s]\n"
     ]
    },
    {
     "name": "stdout",
     "output_type": "stream",
     "text": [
      "Test set: Average loss: 3.2112, Accuracy: 1814/5000 (36.28%)\n",
      "\n",
      "--Skipping Acc Comp For Corrupted Data--\n",
      "Global Sparsity: 90.31% \n",
      "\n",
      "---------- Pruning Iteration:  24 / 44\n"
     ]
    },
    {
     "name": "stderr",
     "output_type": "stream",
     "text": [
      "Loss=0.35746461153030396 Batch_id=195 Accuracy=90.15: 100%|██████████| 196/196 [02:43<00:00,  1.20it/s]\n",
      "Loss=0.3031850755214691 Batch_id=195 Accuracy=94.08: 100%|██████████| 196/196 [02:43<00:00,  1.20it/s] \n",
      "Loss=0.22433626651763916 Batch_id=195 Accuracy=95.40: 100%|██████████| 196/196 [02:43<00:00,  1.20it/s]\n",
      "Loss=0.2771030068397522 Batch_id=195 Accuracy=95.42: 100%|██████████| 196/196 [02:43<00:00,  1.20it/s] \n",
      "Loss=0.2379062920808792 Batch_id=195 Accuracy=95.76: 100%|██████████| 196/196 [02:43<00:00,  1.20it/s] \n",
      "Loss=0.21687865257263184 Batch_id=195 Accuracy=95.97: 100%|██████████| 196/196 [02:43<00:00,  1.20it/s]\n",
      "Loss=0.20433911681175232 Batch_id=195 Accuracy=96.28: 100%|██████████| 196/196 [02:43<00:00,  1.20it/s]\n",
      "Loss=0.28180769085884094 Batch_id=195 Accuracy=95.65: 100%|██████████| 196/196 [02:43<00:00,  1.20it/s]\n",
      "Loss=0.15786591172218323 Batch_id=195 Accuracy=96.34: 100%|██████████| 196/196 [02:43<00:00,  1.20it/s]\n",
      "Loss=0.1260150521993637 Batch_id=195 Accuracy=96.72: 100%|██████████| 196/196 [02:43<00:00,  1.20it/s] \n"
     ]
    },
    {
     "name": "stdout",
     "output_type": "stream",
     "text": [
      "Test set: Average loss: 3.4152, Accuracy: 1763/5000 (35.26%)\n",
      "\n",
      "--Skipping Acc Comp For Corrupted Data--\n",
      "Global Sparsity: 91.19% \n",
      "\n",
      "---------- Pruning Iteration:  25 / 44\n"
     ]
    },
    {
     "name": "stderr",
     "output_type": "stream",
     "text": [
      "Loss=0.19535480439662933 Batch_id=195 Accuracy=95.55: 100%|██████████| 196/196 [02:43<00:00,  1.20it/s]\n",
      "Loss=0.1752663552761078 Batch_id=195 Accuracy=96.50: 100%|██████████| 196/196 [02:43<00:00,  1.20it/s] \n",
      "Loss=0.1829390525817871 Batch_id=195 Accuracy=96.68: 100%|██████████| 196/196 [02:43<00:00,  1.20it/s] \n",
      "Loss=0.2388337403535843 Batch_id=195 Accuracy=96.22: 100%|██████████| 196/196 [02:43<00:00,  1.20it/s] \n",
      "Loss=0.2850649356842041 Batch_id=195 Accuracy=95.50: 100%|██████████| 196/196 [02:43<00:00,  1.20it/s] \n"
     ]
    },
    {
     "name": "stdout",
     "output_type": "stream",
     "text": [
      "Epoch 00005: reducing learning rate of group 0 to 5.0000e-04.\n"
     ]
    },
    {
     "name": "stderr",
     "output_type": "stream",
     "text": [
      "Loss=0.1130465492606163 Batch_id=195 Accuracy=96.91: 100%|██████████| 196/196 [02:43<00:00,  1.20it/s] \n",
      "Loss=0.11597435176372528 Batch_id=195 Accuracy=97.27: 100%|██████████| 196/196 [02:44<00:00,  1.19it/s]\n",
      "Loss=0.17089299857616425 Batch_id=195 Accuracy=97.49: 100%|██████████| 196/196 [02:44<00:00,  1.19it/s]\n",
      "Loss=0.1448090821504593 Batch_id=195 Accuracy=97.56: 100%|██████████| 196/196 [02:44<00:00,  1.19it/s] \n"
     ]
    },
    {
     "name": "stdout",
     "output_type": "stream",
     "text": [
      "Epoch 00009: reducing learning rate of group 0 to 2.5000e-05.\n"
     ]
    },
    {
     "name": "stderr",
     "output_type": "stream",
     "text": [
      "Loss=0.1280277967453003 Batch_id=195 Accuracy=97.48: 100%|██████████| 196/196 [02:44<00:00,  1.19it/s] \n"
     ]
    },
    {
     "name": "stdout",
     "output_type": "stream",
     "text": [
      "Test set: Average loss: 3.3843, Accuracy: 1820/5000 (36.40%)\n",
      "\n",
      "--Skipping Acc Comp For Corrupted Data--\n",
      "Global Sparsity: 91.98% \n",
      "\n",
      "---------- Pruning Iteration:  26 / 44\n"
     ]
    },
    {
     "name": "stderr",
     "output_type": "stream",
     "text": [
      "Loss=0.37304142117500305 Batch_id=195 Accuracy=95.52: 100%|██████████| 196/196 [02:43<00:00,  1.20it/s]\n",
      "Loss=0.32185858488082886 Batch_id=195 Accuracy=94.86: 100%|██████████| 196/196 [02:43<00:00,  1.20it/s]\n",
      "Loss=0.1783922165632248 Batch_id=195 Accuracy=94.38: 100%|██████████| 196/196 [02:44<00:00,  1.19it/s] \n",
      "Loss=0.23249928653240204 Batch_id=195 Accuracy=95.57: 100%|██████████| 196/196 [02:43<00:00,  1.20it/s]\n",
      "Loss=0.3163948953151703 Batch_id=195 Accuracy=94.49: 100%|██████████| 196/196 [02:43<00:00,  1.20it/s] \n",
      "Loss=1.3582855463027954 Batch_id=195 Accuracy=85.65: 100%|██████████| 196/196 [02:44<00:00,  1.19it/s] \n"
     ]
    },
    {
     "name": "stdout",
     "output_type": "stream",
     "text": [
      "Epoch 00006: reducing learning rate of group 0 to 5.0000e-04.\n"
     ]
    },
    {
     "name": "stderr",
     "output_type": "stream",
     "text": [
      "Loss=0.596747875213623 Batch_id=195 Accuracy=82.33: 100%|██████████| 196/196 [02:45<00:00,  1.18it/s] \n",
      "Loss=0.5996320247650146 Batch_id=195 Accuracy=86.42: 100%|██████████| 196/196 [02:44<00:00,  1.19it/s] \n",
      "Loss=0.5401743650436401 Batch_id=195 Accuracy=86.58: 100%|██████████| 196/196 [02:44<00:00,  1.19it/s] \n"
     ]
    },
    {
     "name": "stdout",
     "output_type": "stream",
     "text": [
      "Epoch 00009: reducing learning rate of group 0 to 2.5000e-05.\n"
     ]
    },
    {
     "name": "stderr",
     "output_type": "stream",
     "text": [
      "Loss=0.4882829189300537 Batch_id=195 Accuracy=85.74: 100%|██████████| 196/196 [02:44<00:00,  1.19it/s] \n"
     ]
    },
    {
     "name": "stdout",
     "output_type": "stream",
     "text": [
      "Test set: Average loss: 3.6570, Accuracy: 1624/5000 (32.48%)\n",
      "\n",
      "--Skipping Acc Comp For Corrupted Data--\n",
      "Global Sparsity: 92.69% \n",
      "\n",
      "---------- Pruning Iteration:  27 / 44\n"
     ]
    },
    {
     "name": "stderr",
     "output_type": "stream",
     "text": [
      "Loss=0.38405904173851013 Batch_id=195 Accuracy=78.73: 100%|██████████| 196/196 [02:44<00:00,  1.19it/s]\n",
      "Loss=0.4140971302986145 Batch_id=195 Accuracy=90.06: 100%|██████████| 196/196 [02:44<00:00,  1.19it/s] \n",
      "Loss=0.3418998122215271 Batch_id=195 Accuracy=85.72: 100%|██████████| 196/196 [02:43<00:00,  1.20it/s] \n",
      "Loss=0.34939801692962646 Batch_id=195 Accuracy=87.90: 100%|██████████| 196/196 [02:43<00:00,  1.20it/s]\n",
      "Loss=0.5115357041358948 Batch_id=195 Accuracy=89.52: 100%|██████████| 196/196 [02:44<00:00,  1.19it/s] \n",
      "Loss=0.4770891070365906 Batch_id=195 Accuracy=90.23: 100%|██████████| 196/196 [02:43<00:00,  1.20it/s] \n"
     ]
    },
    {
     "name": "stdout",
     "output_type": "stream",
     "text": [
      "Epoch 00006: reducing learning rate of group 0 to 5.0000e-04.\n"
     ]
    },
    {
     "name": "stderr",
     "output_type": "stream",
     "text": [
      "Loss=0.38253700733184814 Batch_id=195 Accuracy=93.01: 100%|██████████| 196/196 [02:44<00:00,  1.20it/s]\n",
      "Loss=0.2538474202156067 Batch_id=195 Accuracy=93.93: 100%|██████████| 196/196 [02:44<00:00,  1.19it/s] \n",
      "Loss=0.24679431319236755 Batch_id=195 Accuracy=94.14: 100%|██████████| 196/196 [02:44<00:00,  1.19it/s]\n",
      "Loss=0.2606845498085022 Batch_id=195 Accuracy=94.18: 100%|██████████| 196/196 [02:44<00:00,  1.19it/s] \n"
     ]
    },
    {
     "name": "stdout",
     "output_type": "stream",
     "text": [
      "Test set: Average loss: 2.7563, Accuracy: 2095/5000 (41.90%)\n",
      "\n",
      "--Skipping Acc Comp For Corrupted Data--\n",
      "Global Sparsity: 93.33% \n",
      "\n",
      "---------- Pruning Iteration:  28 / 44\n"
     ]
    },
    {
     "name": "stderr",
     "output_type": "stream",
     "text": [
      "Loss=0.5959256887435913 Batch_id=195 Accuracy=87.73: 100%|██████████| 196/196 [02:44<00:00,  1.19it/s] \n",
      "Loss=0.4499741494655609 Batch_id=195 Accuracy=86.99: 100%|██████████| 196/196 [02:44<00:00,  1.19it/s] \n",
      "Loss=0.532989501953125 Batch_id=195 Accuracy=88.80: 100%|██████████| 196/196 [02:44<00:00,  1.19it/s]  \n",
      "Loss=0.7317038774490356 Batch_id=195 Accuracy=86.70: 100%|██████████| 196/196 [02:44<00:00,  1.19it/s] \n",
      "Loss=0.6474196314811707 Batch_id=195 Accuracy=86.14: 100%|██████████| 196/196 [02:44<00:00,  1.19it/s] \n"
     ]
    },
    {
     "name": "stdout",
     "output_type": "stream",
     "text": [
      "Epoch 00005: reducing learning rate of group 0 to 5.0000e-04.\n"
     ]
    },
    {
     "name": "stderr",
     "output_type": "stream",
     "text": [
      "Loss=0.5912917852401733 Batch_id=195 Accuracy=86.99: 100%|██████████| 196/196 [02:44<00:00,  1.19it/s] \n",
      "Loss=0.45651769638061523 Batch_id=195 Accuracy=89.25: 100%|██████████| 196/196 [02:44<00:00,  1.19it/s]\n",
      "Loss=0.3822064995765686 Batch_id=195 Accuracy=90.53: 100%|██████████| 196/196 [02:44<00:00,  1.19it/s] \n",
      "Loss=0.5459001064300537 Batch_id=195 Accuracy=90.59: 100%|██████████| 196/196 [02:44<00:00,  1.19it/s] \n",
      "Loss=0.4396275579929352 Batch_id=195 Accuracy=91.31: 100%|██████████| 196/196 [02:44<00:00,  1.19it/s] \n"
     ]
    },
    {
     "name": "stdout",
     "output_type": "stream",
     "text": [
      "Test set: Average loss: 3.5207, Accuracy: 1668/5000 (33.36%)\n",
      "\n",
      "--Testing Corruptions--\n"
     ]
    },
    {
     "name": "stderr",
     "output_type": "stream",
     "text": [
      "100%|██████████| 19/19 [07:36<00:00, 24.00s/it]\n"
     ]
    },
    {
     "name": "stdout",
     "output_type": "stream",
     "text": [
      "\n",
      "Avg Corruption Accuracy: 12.97%\n",
      "Global Sparsity: 93.90% \n",
      "\n",
      "---------- Pruning Iteration:  29 / 44\n"
     ]
    },
    {
     "name": "stderr",
     "output_type": "stream",
     "text": [
      "Loss=0.5458823442459106 Batch_id=195 Accuracy=88.79: 100%|██████████| 196/196 [02:44<00:00,  1.19it/s] \n",
      "Loss=0.523700475692749 Batch_id=195 Accuracy=89.46: 100%|██████████| 196/196 [02:44<00:00,  1.19it/s]  \n",
      "Loss=0.4264006018638611 Batch_id=195 Accuracy=89.87: 100%|██████████| 196/196 [02:44<00:00,  1.19it/s] \n",
      "Loss=0.4024507999420166 Batch_id=195 Accuracy=87.04: 100%|██████████| 196/196 [02:45<00:00,  1.19it/s] \n",
      "Loss=0.4044516980648041 Batch_id=195 Accuracy=90.97: 100%|██████████| 196/196 [02:45<00:00,  1.19it/s] \n",
      "Loss=0.39265045523643494 Batch_id=195 Accuracy=90.83: 100%|██████████| 196/196 [02:45<00:00,  1.18it/s]\n",
      "Loss=0.43065667152404785 Batch_id=195 Accuracy=91.45: 100%|██████████| 196/196 [02:44<00:00,  1.19it/s]\n",
      "Loss=0.3457914888858795 Batch_id=195 Accuracy=90.35: 100%|██████████| 196/196 [02:44<00:00,  1.19it/s] \n",
      "Loss=0.34379449486732483 Batch_id=195 Accuracy=90.33: 100%|██████████| 196/196 [02:44<00:00,  1.19it/s]\n",
      "Loss=0.5207805037498474 Batch_id=195 Accuracy=88.61: 100%|██████████| 196/196 [02:44<00:00,  1.19it/s] \n"
     ]
    },
    {
     "name": "stdout",
     "output_type": "stream",
     "text": [
      "Test set: Average loss: 4.0366, Accuracy: 1384/5000 (27.68%)\n",
      "\n",
      "--Skipping Acc Comp For Corrupted Data--\n",
      "Global Sparsity: 94.42% \n",
      "\n",
      "---------- Pruning Iteration:  30 / 44\n"
     ]
    },
    {
     "name": "stderr",
     "output_type": "stream",
     "text": [
      "Loss=0.35461241006851196 Batch_id=195 Accuracy=89.64: 100%|██████████| 196/196 [02:44<00:00,  1.19it/s]\n",
      "Loss=0.483178049325943 Batch_id=195 Accuracy=90.30: 100%|██████████| 196/196 [02:45<00:00,  1.19it/s]  \n",
      "Loss=0.43024691939353943 Batch_id=195 Accuracy=88.37: 100%|██████████| 196/196 [02:44<00:00,  1.19it/s]\n",
      "Loss=0.5868009328842163 Batch_id=195 Accuracy=86.86: 100%|██████████| 196/196 [02:44<00:00,  1.19it/s] \n"
     ]
    },
    {
     "name": "stdout",
     "output_type": "stream",
     "text": [
      "Epoch 00004: reducing learning rate of group 0 to 5.0000e-04.\n"
     ]
    },
    {
     "name": "stderr",
     "output_type": "stream",
     "text": [
      "Loss=0.35300353169441223 Batch_id=195 Accuracy=90.45: 100%|██████████| 196/196 [02:44<00:00,  1.19it/s]\n",
      "Loss=0.3287617564201355 Batch_id=195 Accuracy=92.07: 100%|██████████| 196/196 [02:44<00:00,  1.19it/s] \n",
      "Loss=0.47043880820274353 Batch_id=195 Accuracy=91.95: 100%|██████████| 196/196 [02:44<00:00,  1.19it/s]\n",
      "Loss=0.30245035886764526 Batch_id=195 Accuracy=91.91: 100%|██████████| 196/196 [02:44<00:00,  1.19it/s]\n",
      "Loss=0.3467912971973419 Batch_id=195 Accuracy=91.65: 100%|██████████| 196/196 [02:44<00:00,  1.19it/s] \n",
      "Loss=0.43499240279197693 Batch_id=195 Accuracy=91.01: 100%|██████████| 196/196 [02:44<00:00,  1.19it/s]\n"
     ]
    },
    {
     "name": "stdout",
     "output_type": "stream",
     "text": [
      "Test set: Average loss: 3.9523, Accuracy: 1462/5000 (29.24%)\n",
      "\n",
      "--Skipping Acc Comp For Corrupted Data--\n",
      "Global Sparsity: 94.89% \n",
      "\n",
      "---------- Pruning Iteration:  31 / 44\n"
     ]
    },
    {
     "name": "stderr",
     "output_type": "stream",
     "text": [
      "Loss=0.608304500579834 Batch_id=195 Accuracy=85.11: 100%|██████████| 196/196 [02:44<00:00,  1.19it/s]  \n",
      "Loss=0.35366761684417725 Batch_id=195 Accuracy=88.67: 100%|██████████| 196/196 [02:44<00:00,  1.19it/s]\n",
      "Loss=0.518861711025238 Batch_id=195 Accuracy=89.00: 100%|██████████| 196/196 [02:44<00:00,  1.19it/s]  \n",
      "Loss=0.40404805541038513 Batch_id=195 Accuracy=86.60: 100%|██████████| 196/196 [02:44<00:00,  1.19it/s]\n",
      "Loss=0.9385884404182434 Batch_id=195 Accuracy=90.00: 100%|██████████| 196/196 [02:44<00:00,  1.19it/s] \n"
     ]
    },
    {
     "name": "stdout",
     "output_type": "stream",
     "text": [
      "Epoch 00005: reducing learning rate of group 0 to 5.0000e-04.\n"
     ]
    },
    {
     "name": "stderr",
     "output_type": "stream",
     "text": [
      "Loss=0.4255640506744385 Batch_id=195 Accuracy=86.34: 100%|██████████| 196/196 [02:44<00:00,  1.19it/s] \n",
      "Loss=0.4166927933692932 Batch_id=195 Accuracy=90.30: 100%|██████████| 196/196 [02:44<00:00,  1.19it/s] \n",
      "Loss=0.2756193280220032 Batch_id=195 Accuracy=91.68: 100%|██████████| 196/196 [02:44<00:00,  1.19it/s] \n",
      "Loss=0.3870409429073334 Batch_id=195 Accuracy=91.67: 100%|██████████| 196/196 [02:44<00:00,  1.19it/s] \n",
      "Loss=0.358970582485199 Batch_id=195 Accuracy=90.68: 100%|██████████| 196/196 [02:44<00:00,  1.19it/s]  \n"
     ]
    },
    {
     "name": "stdout",
     "output_type": "stream",
     "text": [
      "Test set: Average loss: 3.7940, Accuracy: 1581/5000 (31.62%)\n",
      "\n",
      "--Skipping Acc Comp For Corrupted Data--\n",
      "Global Sparsity: 95.31% \n",
      "\n",
      "---------- Pruning Iteration:  32 / 44\n"
     ]
    },
    {
     "name": "stderr",
     "output_type": "stream",
     "text": [
      "Loss=0.34662628173828125 Batch_id=195 Accuracy=84.90: 100%|██████████| 196/196 [02:44<00:00,  1.19it/s]\n",
      "Loss=0.616940975189209 Batch_id=195 Accuracy=89.36: 100%|██████████| 196/196 [02:44<00:00,  1.19it/s]  \n",
      "Loss=0.5760513544082642 Batch_id=195 Accuracy=85.70: 100%|██████████| 196/196 [02:44<00:00,  1.19it/s] \n",
      "Loss=0.48859453201293945 Batch_id=195 Accuracy=88.51: 100%|██████████| 196/196 [02:44<00:00,  1.19it/s]\n"
     ]
    },
    {
     "name": "stdout",
     "output_type": "stream",
     "text": [
      "Epoch 00004: reducing learning rate of group 0 to 5.0000e-04.\n"
     ]
    },
    {
     "name": "stderr",
     "output_type": "stream",
     "text": [
      "Loss=0.40084734559059143 Batch_id=195 Accuracy=87.33: 100%|██████████| 196/196 [02:44<00:00,  1.19it/s]\n",
      "Loss=0.5084854364395142 Batch_id=195 Accuracy=89.10: 100%|██████████| 196/196 [02:44<00:00,  1.19it/s] \n",
      "Loss=0.3755593001842499 Batch_id=195 Accuracy=90.53: 100%|██████████| 196/196 [02:44<00:00,  1.19it/s] \n"
     ]
    },
    {
     "name": "stdout",
     "output_type": "stream",
     "text": [
      "Epoch 00007: reducing learning rate of group 0 to 2.5000e-05.\n"
     ]
    },
    {
     "name": "stderr",
     "output_type": "stream",
     "text": [
      "Loss=0.3729920983314514 Batch_id=195 Accuracy=91.06: 100%|██████████| 196/196 [02:44<00:00,  1.19it/s] \n",
      "Loss=0.36761927604675293 Batch_id=195 Accuracy=91.04: 100%|██████████| 196/196 [02:44<00:00,  1.19it/s]\n",
      "Loss=0.3431515097618103 Batch_id=195 Accuracy=91.02: 100%|██████████| 196/196 [02:44<00:00,  1.19it/s] \n"
     ]
    },
    {
     "name": "stdout",
     "output_type": "stream",
     "text": [
      "Test set: Average loss: 3.9735, Accuracy: 1426/5000 (28.52%)\n",
      "\n",
      "--Skipping Acc Comp For Corrupted Data--\n",
      "Global Sparsity: 95.69% \n",
      "\n",
      "---------- Pruning Iteration:  33 / 44\n"
     ]
    },
    {
     "name": "stderr",
     "output_type": "stream",
     "text": [
      "Loss=0.38055872917175293 Batch_id=195 Accuracy=88.62: 100%|██████████| 196/196 [02:44<00:00,  1.19it/s]\n",
      "Loss=0.3964858055114746 Batch_id=195 Accuracy=90.30: 100%|██████████| 196/196 [02:44<00:00,  1.19it/s] \n",
      "Loss=0.3589780926704407 Batch_id=195 Accuracy=90.16: 100%|██████████| 196/196 [02:44<00:00,  1.19it/s] \n",
      "Loss=0.49508196115493774 Batch_id=195 Accuracy=90.87: 100%|██████████| 196/196 [02:44<00:00,  1.19it/s]\n",
      "Loss=0.4613303244113922 Batch_id=195 Accuracy=90.58: 100%|██████████| 196/196 [02:44<00:00,  1.19it/s] \n",
      "Loss=0.5361634492874146 Batch_id=195 Accuracy=91.05: 100%|██████████| 196/196 [02:44<00:00,  1.19it/s] \n"
     ]
    },
    {
     "name": "stdout",
     "output_type": "stream",
     "text": [
      "Epoch 00006: reducing learning rate of group 0 to 5.0000e-04.\n"
     ]
    },
    {
     "name": "stderr",
     "output_type": "stream",
     "text": [
      "Loss=0.3503970801830292 Batch_id=195 Accuracy=92.08: 100%|██████████| 196/196 [02:44<00:00,  1.19it/s] \n",
      "Loss=0.339041531085968 Batch_id=195 Accuracy=92.85: 100%|██████████| 196/196 [02:44<00:00,  1.19it/s]  \n",
      "Loss=0.3463243544101715 Batch_id=195 Accuracy=93.62: 100%|██████████| 196/196 [02:44<00:00,  1.19it/s] \n",
      "Loss=0.2823401093482971 Batch_id=195 Accuracy=93.81: 100%|██████████| 196/196 [02:44<00:00,  1.19it/s] \n"
     ]
    },
    {
     "name": "stdout",
     "output_type": "stream",
     "text": [
      "Test set: Average loss: 3.8330, Accuracy: 1441/5000 (28.82%)\n",
      "\n",
      "--Skipping Acc Comp For Corrupted Data--\n",
      "Global Sparsity: 96.03% \n",
      "\n",
      "---------- Pruning Iteration:  34 / 44\n"
     ]
    },
    {
     "name": "stderr",
     "output_type": "stream",
     "text": [
      "Loss=0.41244569420814514 Batch_id=195 Accuracy=89.97: 100%|██████████| 196/196 [02:44<00:00,  1.19it/s]\n",
      "Loss=0.4109745919704437 Batch_id=195 Accuracy=87.46: 100%|██████████| 196/196 [02:44<00:00,  1.19it/s] \n",
      "Loss=0.390399694442749 Batch_id=195 Accuracy=89.77: 100%|██████████| 196/196 [02:44<00:00,  1.19it/s]  \n",
      "Loss=0.27619343996047974 Batch_id=195 Accuracy=90.21: 100%|██████████| 196/196 [02:45<00:00,  1.19it/s]\n",
      "Loss=0.4539400041103363 Batch_id=195 Accuracy=89.79: 100%|██████████| 196/196 [02:45<00:00,  1.19it/s] \n",
      "Loss=0.3737042546272278 Batch_id=195 Accuracy=88.54: 100%|██████████| 196/196 [02:44<00:00,  1.19it/s] \n",
      "Loss=0.3968442678451538 Batch_id=195 Accuracy=90.98: 100%|██████████| 196/196 [02:44<00:00,  1.19it/s] \n"
     ]
    },
    {
     "name": "stdout",
     "output_type": "stream",
     "text": [
      "Epoch 00007: reducing learning rate of group 0 to 5.0000e-04.\n"
     ]
    },
    {
     "name": "stderr",
     "output_type": "stream",
     "text": [
      "Loss=0.3577040135860443 Batch_id=195 Accuracy=92.73: 100%|██████████| 196/196 [02:44<00:00,  1.19it/s] \n",
      "Loss=0.297049343585968 Batch_id=195 Accuracy=93.55: 100%|██████████| 196/196 [02:44<00:00,  1.19it/s]  \n",
      "Loss=0.30080750584602356 Batch_id=195 Accuracy=93.56: 100%|██████████| 196/196 [02:44<00:00,  1.19it/s]"
     ]
    },
    {
     "name": "stdout",
     "output_type": "stream",
     "text": [
      "Epoch 00010: reducing learning rate of group 0 to 2.5000e-05.\n"
     ]
    },
    {
     "name": "stderr",
     "output_type": "stream",
     "text": [
      "\n"
     ]
    },
    {
     "name": "stdout",
     "output_type": "stream",
     "text": [
      "Test set: Average loss: 3.7247, Accuracy: 1501/5000 (30.02%)\n",
      "\n",
      "--Skipping Acc Comp For Corrupted Data--\n",
      "Global Sparsity: 96.33% \n",
      "\n",
      "---------- Pruning Iteration:  35 / 44\n"
     ]
    },
    {
     "name": "stderr",
     "output_type": "stream",
     "text": [
      "Loss=0.5117934942245483 Batch_id=195 Accuracy=90.18: 100%|██████████| 196/196 [02:44<00:00,  1.19it/s] \n",
      "Loss=0.28184574842453003 Batch_id=195 Accuracy=86.17: 100%|██████████| 196/196 [02:44<00:00,  1.19it/s]\n",
      "Loss=0.6969109177589417 Batch_id=195 Accuracy=87.23: 100%|██████████| 196/196 [02:44<00:00,  1.19it/s] \n",
      "Loss=0.47794875502586365 Batch_id=195 Accuracy=88.14: 100%|██████████| 196/196 [02:44<00:00,  1.19it/s]\n",
      "Loss=0.5143746733665466 Batch_id=195 Accuracy=87.63: 100%|██████████| 196/196 [02:44<00:00,  1.19it/s] \n"
     ]
    },
    {
     "name": "stdout",
     "output_type": "stream",
     "text": [
      "Epoch 00005: reducing learning rate of group 0 to 5.0000e-04.\n"
     ]
    },
    {
     "name": "stderr",
     "output_type": "stream",
     "text": [
      "Loss=0.39623284339904785 Batch_id=195 Accuracy=89.79: 100%|██████████| 196/196 [02:44<00:00,  1.19it/s]\n",
      "Loss=0.28099244832992554 Batch_id=195 Accuracy=89.94: 100%|██████████| 196/196 [02:44<00:00,  1.19it/s]\n",
      "Loss=0.44206172227859497 Batch_id=195 Accuracy=90.86: 100%|██████████| 196/196 [02:44<00:00,  1.19it/s]\n",
      "Loss=0.45294660329818726 Batch_id=195 Accuracy=90.48: 100%|██████████| 196/196 [02:44<00:00,  1.19it/s]\n",
      "Loss=0.37500515580177307 Batch_id=195 Accuracy=90.92: 100%|██████████| 196/196 [02:44<00:00,  1.19it/s]"
     ]
    },
    {
     "name": "stdout",
     "output_type": "stream",
     "text": [
      "Epoch 00010: reducing learning rate of group 0 to 2.5000e-05.\n"
     ]
    },
    {
     "name": "stderr",
     "output_type": "stream",
     "text": [
      "\n"
     ]
    },
    {
     "name": "stdout",
     "output_type": "stream",
     "text": [
      "Test set: Average loss: 4.1090, Accuracy: 1323/5000 (26.46%)\n",
      "\n",
      "--Skipping Acc Comp For Corrupted Data--\n",
      "Global Sparsity: 96.61% \n",
      "\n",
      "---------- Pruning Iteration:  36 / 44\n"
     ]
    },
    {
     "name": "stderr",
     "output_type": "stream",
     "text": [
      "Loss=0.3925453722476959 Batch_id=195 Accuracy=85.72: 100%|██████████| 196/196 [02:44<00:00,  1.19it/s] \n",
      "Loss=0.3162536025047302 Batch_id=195 Accuracy=87.30: 100%|██████████| 196/196 [02:45<00:00,  1.19it/s] \n",
      "Loss=0.5595300793647766 Batch_id=195 Accuracy=88.62: 100%|██████████| 196/196 [02:44<00:00,  1.19it/s] \n",
      "Loss=0.7273272275924683 Batch_id=195 Accuracy=83.31: 100%|██████████| 196/196 [02:44<00:00,  1.19it/s] \n",
      "Loss=0.49361133575439453 Batch_id=195 Accuracy=86.70: 100%|██████████| 196/196 [02:44<00:00,  1.19it/s]\n"
     ]
    },
    {
     "name": "stdout",
     "output_type": "stream",
     "text": [
      "Epoch 00005: reducing learning rate of group 0 to 5.0000e-04.\n"
     ]
    },
    {
     "name": "stderr",
     "output_type": "stream",
     "text": [
      "Loss=0.30058735609054565 Batch_id=195 Accuracy=89.31: 100%|██████████| 196/196 [02:44<00:00,  1.19it/s]\n",
      "Loss=0.44915056228637695 Batch_id=195 Accuracy=90.86: 100%|██████████| 196/196 [02:44<00:00,  1.19it/s]\n",
      "Loss=0.4929998517036438 Batch_id=195 Accuracy=90.60: 100%|██████████| 196/196 [02:44<00:00,  1.19it/s] \n",
      "Loss=0.35156211256980896 Batch_id=195 Accuracy=90.79: 100%|██████████| 196/196 [02:44<00:00,  1.19it/s]\n"
     ]
    },
    {
     "name": "stdout",
     "output_type": "stream",
     "text": [
      "Epoch 00009: reducing learning rate of group 0 to 2.5000e-05.\n"
     ]
    },
    {
     "name": "stderr",
     "output_type": "stream",
     "text": [
      "Loss=0.25254347920417786 Batch_id=195 Accuracy=91.17: 100%|██████████| 196/196 [02:44<00:00,  1.19it/s]\n"
     ]
    },
    {
     "name": "stdout",
     "output_type": "stream",
     "text": [
      "Test set: Average loss: 4.4678, Accuracy: 1189/5000 (23.78%)\n",
      "\n",
      "--Skipping Acc Comp For Corrupted Data--\n",
      "Global Sparsity: 96.86% \n",
      "\n",
      "---------- Pruning Iteration:  37 / 44\n"
     ]
    },
    {
     "name": "stderr",
     "output_type": "stream",
     "text": [
      "Loss=0.5065084099769592 Batch_id=195 Accuracy=84.24: 100%|██████████| 196/196 [02:44<00:00,  1.19it/s] \n",
      "Loss=0.9595915079116821 Batch_id=195 Accuracy=84.08: 100%|██████████| 196/196 [02:44<00:00,  1.19it/s]\n",
      "Loss=0.47079119086265564 Batch_id=195 Accuracy=86.48: 100%|██████████| 196/196 [02:44<00:00,  1.19it/s]\n",
      "Loss=0.40236860513687134 Batch_id=195 Accuracy=86.71: 100%|██████████| 196/196 [02:44<00:00,  1.19it/s]\n",
      "Loss=0.8725303411483765 Batch_id=195 Accuracy=86.11: 100%|██████████| 196/196 [02:44<00:00,  1.19it/s] \n",
      "Loss=0.6130728125572205 Batch_id=195 Accuracy=87.35: 100%|██████████| 196/196 [02:44<00:00,  1.19it/s] \n",
      "Loss=0.6982007026672363 Batch_id=195 Accuracy=85.29: 100%|██████████| 196/196 [02:44<00:00,  1.19it/s] \n"
     ]
    },
    {
     "name": "stdout",
     "output_type": "stream",
     "text": [
      "Epoch 00007: reducing learning rate of group 0 to 5.0000e-04.\n"
     ]
    },
    {
     "name": "stderr",
     "output_type": "stream",
     "text": [
      "Loss=0.40084996819496155 Batch_id=195 Accuracy=88.98: 100%|██████████| 196/196 [02:44<00:00,  1.19it/s]\n",
      "Loss=0.43779510259628296 Batch_id=195 Accuracy=89.60: 100%|██████████| 196/196 [02:44<00:00,  1.19it/s]\n",
      "Loss=0.32622605562210083 Batch_id=195 Accuracy=90.16: 100%|██████████| 196/196 [02:44<00:00,  1.19it/s]\n"
     ]
    },
    {
     "name": "stdout",
     "output_type": "stream",
     "text": [
      "Test set: Average loss: 4.7403, Accuracy: 1097/5000 (21.94%)\n",
      "\n",
      "--Skipping Acc Comp For Corrupted Data--\n",
      "Global Sparsity: 97.08% \n",
      "\n",
      "---------- Pruning Iteration:  38 / 44\n"
     ]
    },
    {
     "name": "stderr",
     "output_type": "stream",
     "text": [
      "Loss=0.48754268884658813 Batch_id=195 Accuracy=83.67: 100%|██████████| 196/196 [02:44<00:00,  1.19it/s]\n",
      "Loss=0.3087226152420044 Batch_id=195 Accuracy=86.85: 100%|██████████| 196/196 [02:44<00:00,  1.19it/s] \n",
      "Loss=0.523591160774231 Batch_id=195 Accuracy=89.52: 100%|██████████| 196/196 [02:44<00:00,  1.19it/s]  \n",
      "Loss=0.4367726445198059 Batch_id=195 Accuracy=86.08: 100%|██████████| 196/196 [02:44<00:00,  1.19it/s] \n",
      "Loss=0.4968666136264801 Batch_id=195 Accuracy=85.86: 100%|██████████| 196/196 [02:44<00:00,  1.19it/s] \n"
     ]
    },
    {
     "name": "stdout",
     "output_type": "stream",
     "text": [
      "Epoch 00005: reducing learning rate of group 0 to 5.0000e-04.\n"
     ]
    },
    {
     "name": "stderr",
     "output_type": "stream",
     "text": [
      "Loss=0.3783175051212311 Batch_id=195 Accuracy=88.79: 100%|██████████| 196/196 [02:44<00:00,  1.19it/s] \n",
      "Loss=0.3737694323062897 Batch_id=195 Accuracy=89.92: 100%|██████████| 196/196 [02:44<00:00,  1.19it/s] \n",
      "Loss=0.4028366506099701 Batch_id=195 Accuracy=90.47: 100%|██████████| 196/196 [02:44<00:00,  1.19it/s] \n"
     ]
    },
    {
     "name": "stdout",
     "output_type": "stream",
     "text": [
      "Epoch 00008: reducing learning rate of group 0 to 2.5000e-05.\n"
     ]
    },
    {
     "name": "stderr",
     "output_type": "stream",
     "text": [
      "Loss=0.47867289185523987 Batch_id=195 Accuracy=90.82: 100%|██████████| 196/196 [02:44<00:00,  1.19it/s]\n",
      "Loss=0.4210709035396576 Batch_id=195 Accuracy=90.74: 100%|██████████| 196/196 [02:44<00:00,  1.19it/s] \n"
     ]
    },
    {
     "name": "stdout",
     "output_type": "stream",
     "text": [
      "Test set: Average loss: 4.4106, Accuracy: 1180/5000 (23.60%)\n",
      "\n",
      "--Skipping Acc Comp For Corrupted Data--\n",
      "Global Sparsity: 97.28% \n",
      "\n",
      "---------- Pruning Iteration:  39 / 44\n"
     ]
    },
    {
     "name": "stderr",
     "output_type": "stream",
     "text": [
      "Loss=0.6491848230361938 Batch_id=195 Accuracy=84.59: 100%|██████████| 196/196 [02:44<00:00,  1.19it/s] \n",
      "Loss=0.758772075176239 Batch_id=195 Accuracy=87.17: 100%|██████████| 196/196 [02:44<00:00,  1.19it/s]  \n",
      "Loss=0.47022876143455505 Batch_id=195 Accuracy=86.62: 100%|██████████| 196/196 [02:44<00:00,  1.19it/s]\n",
      "Loss=0.5916525721549988 Batch_id=195 Accuracy=85.02: 100%|██████████| 196/196 [02:44<00:00,  1.19it/s] \n",
      "Loss=0.4391208291053772 Batch_id=195 Accuracy=85.37: 100%|██████████| 196/196 [02:44<00:00,  1.19it/s] \n",
      "Loss=0.6025640964508057 Batch_id=195 Accuracy=85.25: 100%|██████████| 196/196 [02:44<00:00,  1.19it/s] \n",
      "Loss=1.076214075088501 Batch_id=195 Accuracy=85.95: 100%|██████████| 196/196 [02:44<00:00,  1.19it/s]  \n",
      "Loss=0.4414193630218506 Batch_id=195 Accuracy=83.79: 100%|██████████| 196/196 [02:44<00:00,  1.19it/s] \n"
     ]
    },
    {
     "name": "stdout",
     "output_type": "stream",
     "text": [
      "Epoch 00008: reducing learning rate of group 0 to 5.0000e-04.\n"
     ]
    },
    {
     "name": "stderr",
     "output_type": "stream",
     "text": [
      "Loss=0.3568120300769806 Batch_id=195 Accuracy=89.83: 100%|██████████| 196/196 [02:44<00:00,  1.19it/s] \n",
      "Loss=0.4322522282600403 Batch_id=195 Accuracy=90.44: 100%|██████████| 196/196 [02:44<00:00,  1.19it/s] \n"
     ]
    },
    {
     "name": "stdout",
     "output_type": "stream",
     "text": [
      "Test set: Average loss: 4.9086, Accuracy: 1039/5000 (20.78%)\n",
      "\n",
      "--Skipping Acc Comp For Corrupted Data--\n",
      "Global Sparsity: 97.46% \n",
      "\n",
      "---------- Pruning Iteration:  40 / 44\n"
     ]
    },
    {
     "name": "stderr",
     "output_type": "stream",
     "text": [
      "Loss=0.5667648315429688 Batch_id=195 Accuracy=87.66: 100%|██████████| 196/196 [02:44<00:00,  1.19it/s] \n",
      "Loss=0.4992225766181946 Batch_id=195 Accuracy=85.47: 100%|██████████| 196/196 [02:44<00:00,  1.19it/s] \n",
      "Loss=0.5407230257987976 Batch_id=195 Accuracy=86.76: 100%|██████████| 196/196 [02:44<00:00,  1.19it/s] \n",
      "Loss=0.45578664541244507 Batch_id=195 Accuracy=87.97: 100%|██████████| 196/196 [02:44<00:00,  1.19it/s]\n",
      "Loss=0.844870388507843 Batch_id=195 Accuracy=86.46: 100%|██████████| 196/196 [02:44<00:00,  1.19it/s]  \n",
      "Loss=0.8781930804252625 Batch_id=195 Accuracy=83.89: 100%|██████████| 196/196 [02:44<00:00,  1.19it/s] \n",
      "Loss=1.644687294960022 Batch_id=195 Accuracy=74.47: 100%|██████████| 196/196 [02:44<00:00,  1.19it/s] \n"
     ]
    },
    {
     "name": "stdout",
     "output_type": "stream",
     "text": [
      "Epoch 00007: reducing learning rate of group 0 to 5.0000e-04.\n"
     ]
    },
    {
     "name": "stderr",
     "output_type": "stream",
     "text": [
      "Loss=1.1320061683654785 Batch_id=195 Accuracy=68.61: 100%|██████████| 196/196 [02:44<00:00,  1.19it/s]\n",
      "Loss=1.2120201587677002 Batch_id=195 Accuracy=72.80: 100%|██████████| 196/196 [02:44<00:00,  1.19it/s]\n",
      "Loss=0.8145726919174194 Batch_id=195 Accuracy=75.88: 100%|██████████| 196/196 [02:44<00:00,  1.19it/s]"
     ]
    },
    {
     "name": "stdout",
     "output_type": "stream",
     "text": [
      "Epoch 00010: reducing learning rate of group 0 to 2.5000e-05.\n"
     ]
    },
    {
     "name": "stderr",
     "output_type": "stream",
     "text": [
      "\n"
     ]
    },
    {
     "name": "stdout",
     "output_type": "stream",
     "text": [
      "Test set: Average loss: 4.0480, Accuracy: 1323/5000 (26.46%)\n",
      "\n",
      "--Skipping Acc Comp For Corrupted Data--\n",
      "Global Sparsity: 97.63% \n",
      "\n",
      "---------- Pruning Iteration:  41 / 44\n"
     ]
    },
    {
     "name": "stderr",
     "output_type": "stream",
     "text": [
      "Loss=1.6652116775512695 Batch_id=195 Accuracy=63.14: 100%|██████████| 196/196 [02:44<00:00,  1.19it/s]\n",
      "Loss=0.511053204536438 Batch_id=195 Accuracy=74.56: 100%|██████████| 196/196 [02:44<00:00,  1.19it/s] \n",
      "Loss=0.5406562089920044 Batch_id=195 Accuracy=84.70: 100%|██████████| 196/196 [02:44<00:00,  1.19it/s]\n",
      "Loss=1.5794310569763184 Batch_id=195 Accuracy=70.01: 100%|██████████| 196/196 [02:44<00:00,  1.19it/s]\n",
      "Loss=2.2531731128692627 Batch_id=195 Accuracy=51.95: 100%|██████████| 196/196 [02:44<00:00,  1.19it/s]\n"
     ]
    },
    {
     "name": "stdout",
     "output_type": "stream",
     "text": [
      "Epoch 00005: reducing learning rate of group 0 to 5.0000e-04.\n"
     ]
    },
    {
     "name": "stderr",
     "output_type": "stream",
     "text": [
      "Loss=1.9438717365264893 Batch_id=195 Accuracy=46.29: 100%|██████████| 196/196 [02:44<00:00,  1.19it/s]\n",
      "Loss=2.0651023387908936 Batch_id=195 Accuracy=50.75: 100%|██████████| 196/196 [02:44<00:00,  1.19it/s]\n",
      "Loss=1.6248061656951904 Batch_id=195 Accuracy=54.20: 100%|██████████| 196/196 [02:44<00:00,  1.19it/s]\n"
     ]
    },
    {
     "name": "stdout",
     "output_type": "stream",
     "text": [
      "Epoch 00008: reducing learning rate of group 0 to 2.5000e-05.\n"
     ]
    },
    {
     "name": "stderr",
     "output_type": "stream",
     "text": [
      "Loss=1.5562503337860107 Batch_id=195 Accuracy=56.66: 100%|██████████| 196/196 [02:44<00:00,  1.19it/s]\n",
      "Loss=1.7821102142333984 Batch_id=195 Accuracy=56.62: 100%|██████████| 196/196 [02:44<00:00,  1.19it/s]\n"
     ]
    },
    {
     "name": "stdout",
     "output_type": "stream",
     "text": [
      "Test set: Average loss: 5.7051, Accuracy: 853/5000 (17.06%)\n",
      "\n",
      "--Skipping Acc Comp For Corrupted Data--\n",
      "Global Sparsity: 97.77% \n",
      "\n",
      "---------- Pruning Iteration:  42 / 44\n"
     ]
    },
    {
     "name": "stderr",
     "output_type": "stream",
     "text": [
      "Loss=2.0406570434570312 Batch_id=195 Accuracy=48.53: 100%|██████████| 196/196 [02:44<00:00,  1.19it/s]\n",
      "Loss=1.0227307081222534 Batch_id=195 Accuracy=63.54: 100%|██████████| 196/196 [02:44<00:00,  1.19it/s]\n",
      "Loss=0.9014664888381958 Batch_id=195 Accuracy=78.08: 100%|██████████| 196/196 [02:44<00:00,  1.19it/s]\n",
      "Loss=0.7170022130012512 Batch_id=195 Accuracy=80.36: 100%|██████████| 196/196 [02:44<00:00,  1.19it/s]\n",
      "Loss=0.6687577962875366 Batch_id=195 Accuracy=81.94: 100%|██████████| 196/196 [02:44<00:00,  1.19it/s]\n",
      "Loss=0.7153055667877197 Batch_id=195 Accuracy=82.11: 100%|██████████| 196/196 [02:44<00:00,  1.19it/s]\n",
      "Loss=1.0872204303741455 Batch_id=195 Accuracy=79.49: 100%|██████████| 196/196 [02:44<00:00,  1.19it/s]\n",
      "Loss=1.0312645435333252 Batch_id=195 Accuracy=76.56: 100%|██████████| 196/196 [02:44<00:00,  1.19it/s]\n"
     ]
    },
    {
     "name": "stdout",
     "output_type": "stream",
     "text": [
      "Epoch 00008: reducing learning rate of group 0 to 5.0000e-04.\n"
     ]
    },
    {
     "name": "stderr",
     "output_type": "stream",
     "text": [
      "Loss=0.8299339413642883 Batch_id=195 Accuracy=78.42: 100%|██████████| 196/196 [02:44<00:00,  1.19it/s]\n",
      "Loss=0.7330936789512634 Batch_id=195 Accuracy=79.50: 100%|██████████| 196/196 [02:44<00:00,  1.19it/s]\n"
     ]
    },
    {
     "name": "stdout",
     "output_type": "stream",
     "text": [
      "Test set: Average loss: 5.4994, Accuracy: 804/5000 (16.08%)\n",
      "\n",
      "--Skipping Acc Comp For Corrupted Data--\n",
      "Global Sparsity: 97.90% \n",
      "\n",
      "---------- Pruning Iteration:  43 / 44\n"
     ]
    },
    {
     "name": "stderr",
     "output_type": "stream",
     "text": [
      "Loss=1.3378132581710815 Batch_id=195 Accuracy=74.17: 100%|██████████| 196/196 [02:44<00:00,  1.19it/s]\n",
      "Loss=0.6495287418365479 Batch_id=195 Accuracy=81.40: 100%|██████████| 196/196 [02:44<00:00,  1.19it/s]\n",
      "Loss=0.7884177565574646 Batch_id=195 Accuracy=81.47: 100%|██████████| 196/196 [02:44<00:00,  1.19it/s]\n",
      "Loss=0.7913665771484375 Batch_id=195 Accuracy=81.70: 100%|██████████| 196/196 [02:44<00:00,  1.19it/s]\n",
      "Loss=0.5594478249549866 Batch_id=195 Accuracy=82.57: 100%|██████████| 196/196 [02:44<00:00,  1.19it/s]\n",
      "Loss=0.6425665020942688 Batch_id=195 Accuracy=83.49: 100%|██████████| 196/196 [02:44<00:00,  1.19it/s]\n",
      "Loss=0.8543431162834167 Batch_id=195 Accuracy=84.27: 100%|██████████| 196/196 [02:44<00:00,  1.19it/s] \n",
      "Loss=0.7001615762710571 Batch_id=195 Accuracy=82.13: 100%|██████████| 196/196 [02:44<00:00,  1.19it/s]\n"
     ]
    },
    {
     "name": "stdout",
     "output_type": "stream",
     "text": [
      "Epoch 00008: reducing learning rate of group 0 to 5.0000e-04.\n"
     ]
    },
    {
     "name": "stderr",
     "output_type": "stream",
     "text": [
      "Loss=0.8191177248954773 Batch_id=195 Accuracy=84.26: 100%|██████████| 196/196 [02:44<00:00,  1.19it/s]\n",
      "Loss=0.7139031291007996 Batch_id=195 Accuracy=84.48: 100%|██████████| 196/196 [02:45<00:00,  1.19it/s]\n"
     ]
    },
    {
     "name": "stdout",
     "output_type": "stream",
     "text": [
      "Test set: Average loss: 6.5439, Accuracy: 631/5000 (12.62%)\n",
      "\n",
      "--Skipping Acc Comp For Corrupted Data--\n",
      "Global Sparsity: 98.02% \n",
      "\n",
      "---------- Pruning Iteration:  44 / 44\n"
     ]
    },
    {
     "name": "stderr",
     "output_type": "stream",
     "text": [
      "Loss=0.7045392990112305 Batch_id=195 Accuracy=82.68: 100%|██████████| 196/196 [02:45<00:00,  1.19it/s]\n",
      "Loss=0.7818320989608765 Batch_id=195 Accuracy=79.17: 100%|██████████| 196/196 [02:45<00:00,  1.18it/s]\n",
      "Loss=0.7341724634170532 Batch_id=195 Accuracy=83.14: 100%|██████████| 196/196 [02:45<00:00,  1.19it/s] \n",
      "Loss=0.5266726613044739 Batch_id=195 Accuracy=83.18: 100%|██████████| 196/196 [02:45<00:00,  1.19it/s]\n",
      "Loss=0.546308159828186 Batch_id=195 Accuracy=81.86: 100%|██████████| 196/196 [02:44<00:00,  1.19it/s]  \n",
      "Loss=0.7674347758293152 Batch_id=195 Accuracy=84.57: 100%|██████████| 196/196 [02:45<00:00,  1.19it/s] \n",
      "Loss=0.9766087532043457 Batch_id=195 Accuracy=81.09: 100%|██████████| 196/196 [02:45<00:00,  1.19it/s]\n"
     ]
    },
    {
     "name": "stdout",
     "output_type": "stream",
     "text": [
      "Epoch 00007: reducing learning rate of group 0 to 5.0000e-04.\n"
     ]
    },
    {
     "name": "stderr",
     "output_type": "stream",
     "text": [
      "Loss=0.4243408739566803 Batch_id=195 Accuracy=85.63: 100%|██████████| 196/196 [02:45<00:00,  1.19it/s] \n",
      "Loss=0.5850009322166443 Batch_id=195 Accuracy=85.92: 100%|██████████| 196/196 [02:44<00:00,  1.19it/s] \n",
      "Loss=0.4280778765678406 Batch_id=195 Accuracy=85.24: 100%|██████████| 196/196 [02:44<00:00,  1.19it/s] \n"
     ]
    },
    {
     "name": "stdout",
     "output_type": "stream",
     "text": [
      "Test set: Average loss: 7.5256, Accuracy: 598/5000 (11.96%)\n",
      "\n",
      "--Testing Corruptions--\n"
     ]
    },
    {
     "name": "stderr",
     "output_type": "stream",
     "text": [
      "100%|██████████| 19/19 [07:45<00:00, 24.50s/it]"
     ]
    },
    {
     "name": "stdout",
     "output_type": "stream",
     "text": [
      "\n",
      "Avg Corruption Accuracy: 5.21%\n",
      "Global Sparsity: 98.13% \n",
      "\n"
     ]
    },
    {
     "name": "stderr",
     "output_type": "stream",
     "text": [
      "\n"
     ]
    }
   ],
   "source": [
    "#Network weights\n",
    "ResNet18_TINYIMAGENET_Weights= torch.load(\"./Networks/ResNet18_TinyImagenet_V0_Adversarial_ep_1p.pt\")\n",
    "ResNet18_TINYIMAGENET_0P=ResNet18_TINYIMAGENET_Model()\n",
    "ResNet18_TINYIMAGENET_0P.load_state_dict(ResNet18_TINYIMAGENET_Weights)\n",
    "\n",
    "model=copy.deepcopy(ResNet18_TINYIMAGENET_0P)\n",
    "TrainLoader=trainloader_TINYIMAGENET\n",
    "TestLoader=testloader_TINYIMAGENET\n",
    "TestCLoader=TiniyImageNetCLevel_Loader\n",
    "\n",
    "PruningRate=0.1\n",
    "NumEpochsEachPruneRetrain=10\n",
    "MaximumPruneLevel=0.01\n",
    "lambda_l1=0\n",
    "lambda_l2=0.0005\n",
    "\n",
    "epsilon=0.03\n",
    "mean=MeanImagenet\n",
    "std=StdImagenet\n",
    "\n",
    "\n",
    "SaveTrainStepsName=\"Progress/PruningIterations_ResNet18_TiniyImageNet_V0_Adversarial_ep_03p_01PR_10Epochs_L2_0001\"\n",
    "\n",
    "\n",
    "ReadMe=\"This model is running pruning with the standard cost function, and the non corrupted dataset, a prunning rate of 0.1 and 10 epoch of retraining\\\n",
    "L2 Regularization of 0.0005 is used\\n\\nOriginal Model: ResNet18 Trained with TinyImagenet Dataset with Adversarial training (Before and During Pruning) with epsilon=0.03\\n\"\n",
    "\n",
    "test_acc, Avg_Corrup_Acc_List, Acc_Corruptions, RemainingWeights_List, Sparcity_List=iterative_pruning(model,device, TrainLoader, TestLoader, TestCLoader, PruningRate, SaveTrainStepsName,ReadMe,\n",
    "                                                                                                         epsilon, mean, std, lambda_l1, lambda_l2, NumEpochsEachPruneRetrain,MaximumPruneLevel)"
   ]
  }
 ],
 "metadata": {
  "kernelspec": {
   "display_name": "pytorch",
   "language": "python",
   "name": "python3"
  },
  "language_info": {
   "codemirror_mode": {
    "name": "ipython",
    "version": 3
   },
   "file_extension": ".py",
   "mimetype": "text/x-python",
   "name": "python",
   "nbconvert_exporter": "python",
   "pygments_lexer": "ipython3",
   "version": "3.11.6"
  }
 },
 "nbformat": 4,
 "nbformat_minor": 2
}
